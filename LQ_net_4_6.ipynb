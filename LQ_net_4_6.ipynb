{
  "cells": [
    {
      "cell_type": "markdown",
      "metadata": {
        "id": "1YPfHGVFKcE5"
      },
      "source": [
        "1. **Preparing Process**\n",
        "\n",
        "---\n",
        "\n"
      ]
    },
    {
      "cell_type": "code",
      "execution_count": 1,
      "metadata": {
        "id": "Eub8GVLkNx8S"
      },
      "outputs": [],
      "source": [
        "import random\n",
        "from tqdm import tqdm\n",
        "import numpy as np\n",
        "import torch\n",
        "import torch.nn as nn\n",
        "import torch.optim as optim\n",
        "import torch.optim.lr_scheduler as lr_scheduler\n",
        "from torch.utils.data import Dataset, DataLoader\n",
        "import torchvision.datasets as datasets\n",
        "import torchvision.transforms as transforms\n",
        "from resnet import ResNet\n",
        "from time import time\n",
        "import os\n",
        "\n",
        "random.seed(42)\n",
        "np.random.seed(42)\n",
        "torch.manual_seed(42)\n",
        "\n",
        "DEVICE = torch.device('cuda' if torch.cuda.is_available() else 'cpu')\n",
        "torch.backends.cudnn.benchmark = True"
      ]
    },
    {
      "cell_type": "code",
      "execution_count": 2,
      "metadata": {
        "colab": {
          "base_uri": "https://localhost:8080/"
        },
        "id": "kMuoreT6OEl4",
        "outputId": "5a2e66a2-d696-482b-92cd-22ee6afb20e2"
      },
      "outputs": [
        {
          "name": "stdout",
          "output_type": "stream",
          "text": [
            "Files already downloaded and verified\n",
            "Files already downloaded and verified\n"
          ]
        }
      ],
      "source": [
        "def print_and_log(message, file):\n",
        "    print(message)\n",
        "    file.write(message + '\\n')\n",
        "\n",
        "class ApplyTransform(Dataset):\n",
        "    def __init__(self, dataset, transform):\n",
        "        self.dataset = dataset\n",
        "        self.transform = transform\n",
        "\n",
        "    def __getitem__(self, idx):\n",
        "        x, y = self.dataset[idx]\n",
        "        return self.transform(x), y\n",
        "\n",
        "    def __len__(self):\n",
        "        return len(self.dataset)\n",
        "\n",
        "# normalize = transforms.Normalize((0.4914, 0.4822, 0.4465), (0.2023, 0.1994, 0.2010))\n",
        "normalize = transforms.Normalize((0.485, 0.456, 0.406), (0.229, 0.224, 0.225))\n",
        "\n",
        "TRANSFORM_TRAIN = transforms.Compose([\n",
        "    transforms.RandomHorizontalFlip(),\n",
        "    transforms.RandomCrop(32, padding=4),\n",
        "    transforms.ToTensor(),\n",
        "    normalize,\n",
        "])\n",
        "TRANSFORM_TEST = transforms.Compose([\n",
        "    transforms.ToTensor(),\n",
        "    normalize,\n",
        "])\n",
        "\n",
        "TRAIN_SET = datasets.CIFAR10(root='./data', train=True, download=True, transform=TRANSFORM_TRAIN)\n",
        "TEST_SET = datasets.CIFAR10(root='./data', train=False, download=True, transform=TRANSFORM_TEST)\n",
        "\n",
        "\n",
        "\n",
        "\n"
      ]
    },
    {
      "cell_type": "code",
      "execution_count": 3,
      "metadata": {
        "id": "dHQMYhRYOH5T"
      },
      "outputs": [],
      "source": [
        "def test(model: nn.Module, loader: DataLoader):\n",
        "    criterion = nn.CrossEntropyLoss()\n",
        "    test_loss = 0\n",
        "    test_correct = 0\n",
        "    test_total = 0\n",
        "    start_time = time()\n",
        "    start_memory = torch.cuda.memory_allocated(DEVICE) / 1024 if DEVICE.type == 'cuda' else 0\n",
        "\n",
        "    with torch.no_grad():\n",
        "        for inputs, targets in loader:\n",
        "            inputs, targets = inputs.to(DEVICE), targets.to(DEVICE)\n",
        "            outputs = model(inputs)\n",
        "            loss = criterion(outputs, targets)\n",
        "\n",
        "            test_loss += loss.item()\n",
        "            test_correct += (outputs.argmax(1) == targets).sum().item()\n",
        "            test_total += targets.size(0)\n",
        "\n",
        "    latency = time() - start_time\n",
        "    memory_usage = torch.cuda.memory_allocated(DEVICE) / 1024 if DEVICE.type == 'cuda' else 0  # kB\n",
        "    test_memory_usage = memory_usage - start_memory\n",
        "\n",
        "    test_loss /= len(loader)\n",
        "    test_acc = test_correct / test_total\n",
        "    return test_loss, test_acc, latency, test_memory_usage"
      ]
    },
    {
      "cell_type": "code",
      "execution_count": 4,
      "metadata": {
        "id": "F2c-JRNRJrr8"
      },
      "outputs": [],
      "source": [
        "def train(w_nbits, a_nbits, lambda_val, lr=0.1, weight_decay=1e-3,\n",
        "          optimizer_type='sgd', epochs=200, batch_size=128):\n",
        "\n",
        "    # import resnet20\n",
        "    # model = resnet20.ResNetCIFAR(w_nbits=w_nbits, a_nbits=a_nbits).to(DEVICE)\n",
        "\n",
        "    model = ResNet(w_nbits=w_nbits, a_nbits=a_nbits, lambda_val=lambda_val).to(DEVICE)\n",
        "\n",
        "    ckpt_base_filename = (\n",
        "        'resnet20_cifar'\n",
        "        + ('' if w_nbits is None else f'_wq{w_nbits}')\n",
        "        + ('' if a_nbits is None else f'_aq{a_nbits}')\n",
        "        + ('' if lambda_val is None else f'_lambda{lambda_val}')\n",
        "        + '.pt'\n",
        "    )\n",
        "    log_filename = ckpt_base_filename.replace('.pt', '.txt')\n",
        "    last_saved_filename = None\n",
        "\n",
        "    train_loader = DataLoader(TRAIN_SET, batch_size=batch_size, shuffle=True)\n",
        "    test_loader = DataLoader(TEST_SET, batch_size=batch_size, shuffle=False)\n",
        "\n",
        "    criterion = nn.CrossEntropyLoss()\n",
        "\n",
        "    if optimizer_type.lower() == 'sgd':\n",
        "        optimizer = optim.SGD(model.parameters(), lr=lr, momentum=0.9, weight_decay=weight_decay)\n",
        "    elif optimizer_type.lower() == 'adam':\n",
        "        optimizer = optim.Adam(model.parameters(), lr=lr)\n",
        "    elif optimizer_type.lower() == 'rmsprop':\n",
        "        optimizer = optim.RMSprop(model.parameters(), lr=lr, weight_decay=weight_decay)\n",
        "    elif optimizer_type.lower() == 'adagrad':\n",
        "        optimizer = optim.Adagrad(model.parameters(), lr=lr, weight_decay=weight_decay)\n",
        "    else:\n",
        "        raise ValueError(f\"Unsupported optimizer type: {optimizer_type}\")\n",
        "\n",
        "    scheduler = lr_scheduler.MultiStepLR(optimizer, milestones=[50, 100, 150], gamma=0.1)\n",
        "\n",
        "    best_test_acc = 0.0\n",
        "    save_threshold_epoch = min(50, epochs // 3)\n",
        "\n",
        "\n",
        "    with open(log_filename, 'w') as log_file:\n",
        "        print_and_log(f'\\nQuantization: weight={w_nbits} activation={a_nbits} threshold={lambda_val}, Using device: {DEVICE}', log_file)\n",
        "\n",
        "        start_memory = torch.cuda.memory_allocated(DEVICE) / 1024 if DEVICE.type == 'cuda' else 0\n",
        "\n",
        "        for epoch in range(epochs):\n",
        "            print_and_log(f'\\nEpoch {epoch+1}', log_file)\n",
        "            model.train()\n",
        "\n",
        "            train_loss = 0\n",
        "            train_correct = 0\n",
        "            train_total = 0\n",
        "\n",
        "            start_time = time()\n",
        "\n",
        "            for inputs, targets in tqdm(train_loader, desc='Train', unit='batch', ascii=True, dynamic_ncols=True):\n",
        "                inputs, targets = inputs.to(DEVICE), targets.to(DEVICE)\n",
        "                optimizer.zero_grad()\n",
        "                outputs = model(inputs)\n",
        "                loss = criterion(outputs, targets)\n",
        "                loss.backward()\n",
        "                optimizer.step()\n",
        "\n",
        "                train_loss += loss.item()\n",
        "                train_correct += (outputs.argmax(1) == targets).sum().item()\n",
        "                train_total += targets.size(0)\n",
        "\n",
        "            train_loss /= len(train_loader)\n",
        "            train_acc = train_correct / train_total\n",
        "\n",
        "            train_latency = time() - start_time\n",
        "            end_memory = torch.cuda.memory_allocated(DEVICE) / 1024 if DEVICE.type == 'cuda' else 0\n",
        "            train_memory_usage = end_memory - start_memory\n",
        "\n",
        "            print_and_log(f'LR: {optimizer.param_groups[0][\"lr\"]:.4e}, Train Loss: {train_loss:.4f}, Train Acc: {train_acc:.4f}, Train Latency: {train_latency:.2f}s, Memory Usage: {train_memory_usage}KB', log_file)\n",
        "\n",
        "            model.eval()\n",
        "            test_loss, test_acc, test_latency, test_memory_usage = test(model, test_loader)\n",
        "            print_and_log(f'Test Loss: {test_loss:.4f}, Test Acc: {test_acc:.4f}, Test Latency: {test_latency:.2f}s, Test Memory Usage: {test_memory_usage}KB', log_file)\n",
        "\n",
        "            scheduler.step()\n",
        "\n",
        "            if epoch >= save_threshold_epoch:\n",
        "                if test_acc > best_test_acc:\n",
        "                    best_test_acc = test_acc\n",
        "                    print('Saving best model ...')\n",
        "                    if last_saved_filename is not None and last_saved_filename != ckpt_base_filename:\n",
        "                        os.remove(last_saved_filename)\n",
        "                    ckpt_filename = f'epoch_{epoch+1}_' + ckpt_base_filename\n",
        "                    torch.save(model.state_dict(), ckpt_filename)\n",
        "                    last_saved_filename = ckpt_filename\n",
        "\n",
        "    print('Saving final epoch model ...')\n",
        "    torch.save(model.state_dict(), ckpt_base_filename)"
      ]
    },
    {
      "cell_type": "code",
      "execution_count": 5,
      "metadata": {},
      "outputs": [
        {
          "name": "stdout",
          "output_type": "stream",
          "text": [
            "\n",
            "Quantization: weight=3 activation=None threshold=0.001, Using device: cpu\n",
            "\n",
            "Epoch 1\n"
          ]
        },
        {
          "name": "stderr",
          "output_type": "stream",
          "text": [
            "Train:  28%|##8       | 110/391 [00:42<01:48,  2.60batch/s]\n"
          ]
        },
        {
          "ename": "KeyboardInterrupt",
          "evalue": "",
          "output_type": "error",
          "traceback": [
            "\u001b[0;31m---------------------------------------------------------------------------\u001b[0m",
            "\u001b[0;31mKeyboardInterrupt\u001b[0m                         Traceback (most recent call last)",
            "Cell \u001b[0;32mIn[5], line 3\u001b[0m\n\u001b[1;32m      1\u001b[0m \u001b[38;5;28;01mfor\u001b[39;00m w_nbits \u001b[38;5;129;01min\u001b[39;00m [\u001b[38;5;241m3\u001b[39m, \u001b[38;5;241m2\u001b[39m, \u001b[38;5;241m1\u001b[39m]:\n\u001b[1;32m      2\u001b[0m     \u001b[38;5;28;01mfor\u001b[39;00m lambda_val \u001b[38;5;129;01min\u001b[39;00m [\u001b[38;5;241m0.001\u001b[39m, \u001b[38;5;241m0.004\u001b[39m, \u001b[38;5;241m0.008\u001b[39m, \u001b[38;5;241m0.01\u001b[39m]:\n\u001b[0;32m----> 3\u001b[0m         \u001b[43mtrain\u001b[49m\u001b[43m(\u001b[49m\u001b[43mw_nbits\u001b[49m\u001b[38;5;241;43m=\u001b[39;49m\u001b[43mw_nbits\u001b[49m\u001b[43m,\u001b[49m\u001b[43m \u001b[49m\u001b[43ma_nbits\u001b[49m\u001b[38;5;241;43m=\u001b[39;49m\u001b[38;5;28;43;01mNone\u001b[39;49;00m\u001b[43m,\u001b[49m\u001b[43m \u001b[49m\u001b[43mlambda_val\u001b[49m\u001b[38;5;241;43m=\u001b[39;49m\u001b[43mlambda_val\u001b[49m\u001b[43m)\u001b[49m\n",
            "Cell \u001b[0;32mIn[4], line 61\u001b[0m, in \u001b[0;36mtrain\u001b[0;34m(w_nbits, a_nbits, lambda_val, lr, weight_decay, optimizer_type, epochs, batch_size)\u001b[0m\n\u001b[1;32m     59\u001b[0m outputs \u001b[38;5;241m=\u001b[39m model(inputs)\n\u001b[1;32m     60\u001b[0m loss \u001b[38;5;241m=\u001b[39m criterion(outputs, targets)\n\u001b[0;32m---> 61\u001b[0m \u001b[43mloss\u001b[49m\u001b[38;5;241;43m.\u001b[39;49m\u001b[43mbackward\u001b[49m\u001b[43m(\u001b[49m\u001b[43m)\u001b[49m\n\u001b[1;32m     62\u001b[0m optimizer\u001b[38;5;241m.\u001b[39mstep()\n\u001b[1;32m     64\u001b[0m train_loss \u001b[38;5;241m+\u001b[39m\u001b[38;5;241m=\u001b[39m loss\u001b[38;5;241m.\u001b[39mitem()\n",
            "File \u001b[0;32m~/opt/anaconda3/envs/ece661/lib/python3.9/site-packages/torch/_tensor.py:522\u001b[0m, in \u001b[0;36mTensor.backward\u001b[0;34m(self, gradient, retain_graph, create_graph, inputs)\u001b[0m\n\u001b[1;32m    512\u001b[0m \u001b[38;5;28;01mif\u001b[39;00m has_torch_function_unary(\u001b[38;5;28mself\u001b[39m):\n\u001b[1;32m    513\u001b[0m     \u001b[38;5;28;01mreturn\u001b[39;00m handle_torch_function(\n\u001b[1;32m    514\u001b[0m         Tensor\u001b[38;5;241m.\u001b[39mbackward,\n\u001b[1;32m    515\u001b[0m         (\u001b[38;5;28mself\u001b[39m,),\n\u001b[0;32m   (...)\u001b[0m\n\u001b[1;32m    520\u001b[0m         inputs\u001b[38;5;241m=\u001b[39minputs,\n\u001b[1;32m    521\u001b[0m     )\n\u001b[0;32m--> 522\u001b[0m \u001b[43mtorch\u001b[49m\u001b[38;5;241;43m.\u001b[39;49m\u001b[43mautograd\u001b[49m\u001b[38;5;241;43m.\u001b[39;49m\u001b[43mbackward\u001b[49m\u001b[43m(\u001b[49m\n\u001b[1;32m    523\u001b[0m \u001b[43m    \u001b[49m\u001b[38;5;28;43mself\u001b[39;49m\u001b[43m,\u001b[49m\u001b[43m \u001b[49m\u001b[43mgradient\u001b[49m\u001b[43m,\u001b[49m\u001b[43m \u001b[49m\u001b[43mretain_graph\u001b[49m\u001b[43m,\u001b[49m\u001b[43m \u001b[49m\u001b[43mcreate_graph\u001b[49m\u001b[43m,\u001b[49m\u001b[43m \u001b[49m\u001b[43minputs\u001b[49m\u001b[38;5;241;43m=\u001b[39;49m\u001b[43minputs\u001b[49m\n\u001b[1;32m    524\u001b[0m \u001b[43m\u001b[49m\u001b[43m)\u001b[49m\n",
            "File \u001b[0;32m~/opt/anaconda3/envs/ece661/lib/python3.9/site-packages/torch/autograd/__init__.py:266\u001b[0m, in \u001b[0;36mbackward\u001b[0;34m(tensors, grad_tensors, retain_graph, create_graph, grad_variables, inputs)\u001b[0m\n\u001b[1;32m    261\u001b[0m     retain_graph \u001b[38;5;241m=\u001b[39m create_graph\n\u001b[1;32m    263\u001b[0m \u001b[38;5;66;03m# The reason we repeat the same comment below is that\u001b[39;00m\n\u001b[1;32m    264\u001b[0m \u001b[38;5;66;03m# some Python versions print out the first line of a multi-line function\u001b[39;00m\n\u001b[1;32m    265\u001b[0m \u001b[38;5;66;03m# calls in the traceback and some print out the last line\u001b[39;00m\n\u001b[0;32m--> 266\u001b[0m \u001b[43mVariable\u001b[49m\u001b[38;5;241;43m.\u001b[39;49m\u001b[43m_execution_engine\u001b[49m\u001b[38;5;241;43m.\u001b[39;49m\u001b[43mrun_backward\u001b[49m\u001b[43m(\u001b[49m\u001b[43m  \u001b[49m\u001b[38;5;66;43;03m# Calls into the C++ engine to run the backward pass\u001b[39;49;00m\n\u001b[1;32m    267\u001b[0m \u001b[43m    \u001b[49m\u001b[43mtensors\u001b[49m\u001b[43m,\u001b[49m\n\u001b[1;32m    268\u001b[0m \u001b[43m    \u001b[49m\u001b[43mgrad_tensors_\u001b[49m\u001b[43m,\u001b[49m\n\u001b[1;32m    269\u001b[0m \u001b[43m    \u001b[49m\u001b[43mretain_graph\u001b[49m\u001b[43m,\u001b[49m\n\u001b[1;32m    270\u001b[0m \u001b[43m    \u001b[49m\u001b[43mcreate_graph\u001b[49m\u001b[43m,\u001b[49m\n\u001b[1;32m    271\u001b[0m \u001b[43m    \u001b[49m\u001b[43minputs\u001b[49m\u001b[43m,\u001b[49m\n\u001b[1;32m    272\u001b[0m \u001b[43m    \u001b[49m\u001b[43mallow_unreachable\u001b[49m\u001b[38;5;241;43m=\u001b[39;49m\u001b[38;5;28;43;01mTrue\u001b[39;49;00m\u001b[43m,\u001b[49m\n\u001b[1;32m    273\u001b[0m \u001b[43m    \u001b[49m\u001b[43maccumulate_grad\u001b[49m\u001b[38;5;241;43m=\u001b[39;49m\u001b[38;5;28;43;01mTrue\u001b[39;49;00m\u001b[43m,\u001b[49m\n\u001b[1;32m    274\u001b[0m \u001b[43m\u001b[49m\u001b[43m)\u001b[49m\n",
            "File \u001b[0;32m~/opt/anaconda3/envs/ece661/lib/python3.9/site-packages/torch/autograd/function.py:277\u001b[0m, in \u001b[0;36mBackwardCFunction.apply\u001b[0;34m(self, *args)\u001b[0m\n\u001b[1;32m    276\u001b[0m \u001b[38;5;28;01mclass\u001b[39;00m \u001b[38;5;21;01mBackwardCFunction\u001b[39;00m(_C\u001b[38;5;241m.\u001b[39m_FunctionBase, FunctionCtx, _HookMixin):\n\u001b[0;32m--> 277\u001b[0m     \u001b[38;5;28;01mdef\u001b[39;00m \u001b[38;5;21mapply\u001b[39m(\u001b[38;5;28mself\u001b[39m, \u001b[38;5;241m*\u001b[39margs):\n\u001b[1;32m    278\u001b[0m         \u001b[38;5;66;03m# _forward_cls is defined by derived class\u001b[39;00m\n\u001b[1;32m    279\u001b[0m         \u001b[38;5;66;03m# The user should define either backward or vjp but never both.\u001b[39;00m\n\u001b[1;32m    280\u001b[0m         backward_fn \u001b[38;5;241m=\u001b[39m \u001b[38;5;28mself\u001b[39m\u001b[38;5;241m.\u001b[39m_forward_cls\u001b[38;5;241m.\u001b[39mbackward  \u001b[38;5;66;03m# type: ignore[attr-defined]\u001b[39;00m\n\u001b[1;32m    281\u001b[0m         vjp_fn \u001b[38;5;241m=\u001b[39m \u001b[38;5;28mself\u001b[39m\u001b[38;5;241m.\u001b[39m_forward_cls\u001b[38;5;241m.\u001b[39mvjp  \u001b[38;5;66;03m# type: ignore[attr-defined]\u001b[39;00m\n",
            "\u001b[0;31mKeyboardInterrupt\u001b[0m: "
          ]
        }
      ],
      "source": [
        "for w_nbits in [3, 2, 1]:\n",
        "    for lambda_val in [0.001, 0.004, 0.008, 0.01]:\n",
        "        train(w_nbits=w_nbits, a_nbits=None, lambda_val=lambda_val)"
      ]
    },
    {
      "cell_type": "markdown",
      "metadata": {
        "id": "VEdSyGo4KpCl"
      },
      "source": [
        "2. **Base Model**\n",
        "\n",
        "---\n",
        "\n"
      ]
    },
    {
      "cell_type": "code",
      "execution_count": 2,
      "metadata": {
        "colab": {
          "base_uri": "https://localhost:8080/"
        },
        "id": "7yw5yAF0Se5h",
        "outputId": "342336f3-3f61-435e-d4e2-ba44ec379671"
      },
      "outputs": [
        {
          "ename": "NameError",
          "evalue": "name 'train' is not defined",
          "output_type": "error",
          "traceback": [
            "\u001b[0;31m---------------------------------------------------------------------------\u001b[0m",
            "\u001b[0;31mNameError\u001b[0m                                 Traceback (most recent call last)",
            "Cell \u001b[0;32mIn[2], line 1\u001b[0m\n\u001b[0;32m----> 1\u001b[0m \u001b[43mtrain\u001b[49m(w_nbits\u001b[38;5;241m=\u001b[39m\u001b[38;5;28;01mNone\u001b[39;00m, a_nbits\u001b[38;5;241m=\u001b[39m\u001b[38;5;28;01mNone\u001b[39;00m, lambda_val\u001b[38;5;241m=\u001b[39m\u001b[38;5;28;01mNone\u001b[39;00m)\n",
            "\u001b[0;31mNameError\u001b[0m: name 'train' is not defined"
          ]
        }
      ],
      "source": [
        "train(w_nbits=None, a_nbits=None, lambda_val=None)"
      ]
    },
    {
      "cell_type": "markdown",
      "metadata": {
        "id": "bn1AOGcCKs3s"
      },
      "source": [
        "**Weight Quantization**"
      ]
    },
    {
      "cell_type": "code",
      "execution_count": 11,
      "metadata": {
        "colab": {
          "base_uri": "https://localhost:8080/"
        },
        "id": "i8_reggVOjiG",
        "outputId": "bd31e7f7-ca31-42ca-d8a8-a1c04c0e22ed"
      },
      "outputs": [
        {
          "name": "stdout",
          "output_type": "stream",
          "text": [
            "\n",
            "Quantization: weight=3 activation=None, Using device: cuda\n",
            "\n",
            "Epoch 1\n"
          ]
        },
        {
          "name": "stderr",
          "output_type": "stream",
          "text": [
            "Train: 100%|##########| 391/391 [00:42<00:00,  9.28batch/s]\n"
          ]
        },
        {
          "name": "stdout",
          "output_type": "stream",
          "text": [
            "LR: 1.0000e-01, Train Loss: 1.5942, Train Acc: 0.4119, Train Latency: 42.13s, Memory Usage: 3.04MB\n",
            "Test Loss: 1.5019, Test Acc: 0.4745, Test Latency: 5.51s, Test Memory Usage: 0.19MB\n",
            "\n",
            "Epoch 2\n"
          ]
        },
        {
          "name": "stderr",
          "output_type": "stream",
          "text": [
            "Train: 100%|##########| 391/391 [00:41<00:00,  9.47batch/s]\n"
          ]
        },
        {
          "name": "stdout",
          "output_type": "stream",
          "text": [
            "LR: 1.0000e-01, Train Loss: 1.1398, Train Acc: 0.5906, Train Latency: 41.29s, Memory Usage: 3.04MB\n",
            "Test Loss: 1.9869, Test Acc: 0.4253, Test Latency: 5.50s, Test Memory Usage: 0.19MB\n",
            "\n",
            "Epoch 3\n"
          ]
        },
        {
          "name": "stderr",
          "output_type": "stream",
          "text": [
            "Train: 100%|##########| 391/391 [00:41<00:00,  9.50batch/s]\n"
          ]
        },
        {
          "name": "stdout",
          "output_type": "stream",
          "text": [
            "LR: 1.0000e-01, Train Loss: 0.9504, Train Acc: 0.6657, Train Latency: 41.16s, Memory Usage: 3.04MB\n",
            "Test Loss: 1.5188, Test Acc: 0.5247, Test Latency: 5.54s, Test Memory Usage: 0.19MB\n",
            "\n",
            "Epoch 4\n"
          ]
        },
        {
          "name": "stderr",
          "output_type": "stream",
          "text": [
            "Train: 100%|##########| 391/391 [00:41<00:00,  9.51batch/s]\n"
          ]
        },
        {
          "name": "stdout",
          "output_type": "stream",
          "text": [
            "LR: 1.0000e-01, Train Loss: 0.8462, Train Acc: 0.7041, Train Latency: 41.14s, Memory Usage: 3.04MB\n",
            "Test Loss: 1.1424, Test Acc: 0.6165, Test Latency: 5.50s, Test Memory Usage: 0.19MB\n",
            "\n",
            "Epoch 5\n"
          ]
        },
        {
          "name": "stderr",
          "output_type": "stream",
          "text": [
            "Train: 100%|##########| 391/391 [00:41<00:00,  9.46batch/s]\n"
          ]
        },
        {
          "name": "stdout",
          "output_type": "stream",
          "text": [
            "LR: 1.0000e-01, Train Loss: 0.7851, Train Acc: 0.7295, Train Latency: 41.34s, Memory Usage: 3.04MB\n",
            "Test Loss: 0.8968, Test Acc: 0.6874, Test Latency: 5.54s, Test Memory Usage: 0.19MB\n",
            "\n",
            "Epoch 6\n"
          ]
        },
        {
          "name": "stderr",
          "output_type": "stream",
          "text": [
            "Train: 100%|##########| 391/391 [00:41<00:00,  9.49batch/s]\n"
          ]
        },
        {
          "name": "stdout",
          "output_type": "stream",
          "text": [
            "LR: 1.0000e-01, Train Loss: 0.7368, Train Acc: 0.7449, Train Latency: 41.20s, Memory Usage: 3.04MB\n",
            "Test Loss: 0.9798, Test Acc: 0.6544, Test Latency: 5.49s, Test Memory Usage: 0.19MB\n",
            "\n",
            "Epoch 7\n"
          ]
        },
        {
          "name": "stderr",
          "output_type": "stream",
          "text": [
            "Train: 100%|##########| 391/391 [00:41<00:00,  9.50batch/s]\n"
          ]
        },
        {
          "name": "stdout",
          "output_type": "stream",
          "text": [
            "LR: 1.0000e-01, Train Loss: 0.7130, Train Acc: 0.7556, Train Latency: 41.16s, Memory Usage: 3.04MB\n",
            "Test Loss: 0.8792, Test Acc: 0.7074, Test Latency: 5.48s, Test Memory Usage: 0.19MB\n",
            "\n",
            "Epoch 8\n"
          ]
        },
        {
          "name": "stderr",
          "output_type": "stream",
          "text": [
            "Train: 100%|##########| 391/391 [00:41<00:00,  9.47batch/s]\n"
          ]
        },
        {
          "name": "stdout",
          "output_type": "stream",
          "text": [
            "LR: 1.0000e-01, Train Loss: 0.6958, Train Acc: 0.7606, Train Latency: 41.31s, Memory Usage: 3.04MB\n",
            "Test Loss: 0.7636, Test Acc: 0.7339, Test Latency: 5.49s, Test Memory Usage: 0.19MB\n",
            "\n",
            "Epoch 9\n"
          ]
        },
        {
          "name": "stderr",
          "output_type": "stream",
          "text": [
            "Train: 100%|##########| 391/391 [00:41<00:00,  9.48batch/s]\n"
          ]
        },
        {
          "name": "stdout",
          "output_type": "stream",
          "text": [
            "LR: 1.0000e-01, Train Loss: 0.6732, Train Acc: 0.7678, Train Latency: 41.24s, Memory Usage: 3.04MB\n",
            "Test Loss: 0.9325, Test Acc: 0.6977, Test Latency: 5.49s, Test Memory Usage: 0.19MB\n",
            "\n",
            "Epoch 10\n"
          ]
        },
        {
          "name": "stderr",
          "output_type": "stream",
          "text": [
            "Train: 100%|##########| 391/391 [00:41<00:00,  9.43batch/s]\n"
          ]
        },
        {
          "name": "stdout",
          "output_type": "stream",
          "text": [
            "LR: 1.0000e-01, Train Loss: 0.6627, Train Acc: 0.7707, Train Latency: 41.45s, Memory Usage: 3.04MB\n",
            "Test Loss: 1.1676, Test Acc: 0.6465, Test Latency: 5.48s, Test Memory Usage: 0.19MB\n",
            "\n",
            "Epoch 11\n"
          ]
        },
        {
          "name": "stderr",
          "output_type": "stream",
          "text": [
            "Train: 100%|##########| 391/391 [00:41<00:00,  9.48batch/s]\n"
          ]
        },
        {
          "name": "stdout",
          "output_type": "stream",
          "text": [
            "LR: 1.0000e-01, Train Loss: 0.6470, Train Acc: 0.7774, Train Latency: 41.23s, Memory Usage: 3.04MB\n",
            "Test Loss: 1.6028, Test Acc: 0.5557, Test Latency: 5.49s, Test Memory Usage: 0.19MB\n",
            "\n",
            "Epoch 12\n"
          ]
        },
        {
          "name": "stderr",
          "output_type": "stream",
          "text": [
            "Train: 100%|##########| 391/391 [00:41<00:00,  9.51batch/s]\n"
          ]
        },
        {
          "name": "stdout",
          "output_type": "stream",
          "text": [
            "LR: 1.0000e-01, Train Loss: 0.6442, Train Acc: 0.7786, Train Latency: 41.13s, Memory Usage: 3.04MB\n",
            "Test Loss: 1.0627, Test Acc: 0.6648, Test Latency: 5.57s, Test Memory Usage: 0.19MB\n",
            "\n",
            "Epoch 13\n"
          ]
        },
        {
          "name": "stderr",
          "output_type": "stream",
          "text": [
            "Train: 100%|##########| 391/391 [00:41<00:00,  9.50batch/s]\n"
          ]
        },
        {
          "name": "stdout",
          "output_type": "stream",
          "text": [
            "LR: 1.0000e-01, Train Loss: 0.6387, Train Acc: 0.7795, Train Latency: 41.17s, Memory Usage: 3.04MB\n",
            "Test Loss: 0.8793, Test Acc: 0.7003, Test Latency: 5.48s, Test Memory Usage: 0.19MB\n",
            "\n",
            "Epoch 14\n"
          ]
        },
        {
          "name": "stderr",
          "output_type": "stream",
          "text": [
            "Train: 100%|##########| 391/391 [00:41<00:00,  9.47batch/s]\n"
          ]
        },
        {
          "name": "stdout",
          "output_type": "stream",
          "text": [
            "LR: 1.0000e-01, Train Loss: 0.6369, Train Acc: 0.7800, Train Latency: 41.31s, Memory Usage: 3.04MB\n",
            "Test Loss: 1.2939, Test Acc: 0.6188, Test Latency: 5.53s, Test Memory Usage: 0.19MB\n",
            "\n",
            "Epoch 15\n"
          ]
        },
        {
          "name": "stderr",
          "output_type": "stream",
          "text": [
            "Train: 100%|##########| 391/391 [00:41<00:00,  9.46batch/s]\n"
          ]
        },
        {
          "name": "stdout",
          "output_type": "stream",
          "text": [
            "LR: 1.0000e-01, Train Loss: 0.6258, Train Acc: 0.7871, Train Latency: 41.35s, Memory Usage: 3.04MB\n",
            "Test Loss: 0.9092, Test Acc: 0.7007, Test Latency: 5.49s, Test Memory Usage: 0.19MB\n",
            "\n",
            "Epoch 16\n"
          ]
        },
        {
          "name": "stderr",
          "output_type": "stream",
          "text": [
            "Train: 100%|##########| 391/391 [00:41<00:00,  9.43batch/s]\n"
          ]
        },
        {
          "name": "stdout",
          "output_type": "stream",
          "text": [
            "LR: 1.0000e-01, Train Loss: 0.6226, Train Acc: 0.7885, Train Latency: 41.47s, Memory Usage: 3.04MB\n",
            "Test Loss: 0.8543, Test Acc: 0.7276, Test Latency: 5.50s, Test Memory Usage: 0.19MB\n",
            "\n",
            "Epoch 17\n"
          ]
        },
        {
          "name": "stderr",
          "output_type": "stream",
          "text": [
            "Train: 100%|##########| 391/391 [00:41<00:00,  9.48batch/s]\n"
          ]
        },
        {
          "name": "stdout",
          "output_type": "stream",
          "text": [
            "LR: 1.0000e-01, Train Loss: 0.6219, Train Acc: 0.7862, Train Latency: 41.23s, Memory Usage: 3.04MB\n",
            "Test Loss: 0.9846, Test Acc: 0.6798, Test Latency: 5.46s, Test Memory Usage: 0.19MB\n",
            "\n",
            "Epoch 18\n"
          ]
        },
        {
          "name": "stderr",
          "output_type": "stream",
          "text": [
            "Train: 100%|##########| 391/391 [00:41<00:00,  9.49batch/s]\n"
          ]
        },
        {
          "name": "stdout",
          "output_type": "stream",
          "text": [
            "LR: 1.0000e-01, Train Loss: 0.6150, Train Acc: 0.7897, Train Latency: 41.22s, Memory Usage: 3.04MB\n",
            "Test Loss: 0.9715, Test Acc: 0.6914, Test Latency: 5.46s, Test Memory Usage: 0.19MB\n",
            "\n",
            "Epoch 19\n"
          ]
        },
        {
          "name": "stderr",
          "output_type": "stream",
          "text": [
            "Train: 100%|##########| 391/391 [00:41<00:00,  9.48batch/s]\n"
          ]
        },
        {
          "name": "stdout",
          "output_type": "stream",
          "text": [
            "LR: 1.0000e-01, Train Loss: 0.6187, Train Acc: 0.7871, Train Latency: 41.25s, Memory Usage: 3.04MB\n",
            "Test Loss: 0.7811, Test Acc: 0.7321, Test Latency: 5.50s, Test Memory Usage: 0.19MB\n",
            "\n",
            "Epoch 20\n"
          ]
        },
        {
          "name": "stderr",
          "output_type": "stream",
          "text": [
            "Train: 100%|##########| 391/391 [00:41<00:00,  9.50batch/s]\n"
          ]
        },
        {
          "name": "stdout",
          "output_type": "stream",
          "text": [
            "LR: 1.0000e-01, Train Loss: 0.6136, Train Acc: 0.7904, Train Latency: 41.15s, Memory Usage: 3.04MB\n",
            "Test Loss: 1.1930, Test Acc: 0.6246, Test Latency: 5.51s, Test Memory Usage: 0.19MB\n",
            "\n",
            "Epoch 21\n"
          ]
        },
        {
          "name": "stderr",
          "output_type": "stream",
          "text": [
            "Train: 100%|##########| 391/391 [00:41<00:00,  9.46batch/s]\n"
          ]
        },
        {
          "name": "stdout",
          "output_type": "stream",
          "text": [
            "LR: 1.0000e-01, Train Loss: 0.6100, Train Acc: 0.7902, Train Latency: 41.32s, Memory Usage: 3.04MB\n",
            "Test Loss: 0.9415, Test Acc: 0.6753, Test Latency: 5.51s, Test Memory Usage: 0.19MB\n",
            "\n",
            "Epoch 22\n"
          ]
        },
        {
          "name": "stderr",
          "output_type": "stream",
          "text": [
            "Train: 100%|##########| 391/391 [00:41<00:00,  9.50batch/s]\n"
          ]
        },
        {
          "name": "stdout",
          "output_type": "stream",
          "text": [
            "LR: 1.0000e-01, Train Loss: 0.6073, Train Acc: 0.7917, Train Latency: 41.16s, Memory Usage: 3.04MB\n",
            "Test Loss: 1.0579, Test Acc: 0.6849, Test Latency: 5.49s, Test Memory Usage: 0.19MB\n",
            "\n",
            "Epoch 23\n"
          ]
        },
        {
          "name": "stderr",
          "output_type": "stream",
          "text": [
            "Train: 100%|##########| 391/391 [00:41<00:00,  9.53batch/s]\n"
          ]
        },
        {
          "name": "stdout",
          "output_type": "stream",
          "text": [
            "LR: 1.0000e-01, Train Loss: 0.6072, Train Acc: 0.7921, Train Latency: 41.05s, Memory Usage: 3.04MB\n",
            "Test Loss: 1.1806, Test Acc: 0.6216, Test Latency: 5.48s, Test Memory Usage: 0.19MB\n",
            "\n",
            "Epoch 24\n"
          ]
        },
        {
          "name": "stderr",
          "output_type": "stream",
          "text": [
            "Train: 100%|##########| 391/391 [00:40<00:00,  9.54batch/s]\n"
          ]
        },
        {
          "name": "stdout",
          "output_type": "stream",
          "text": [
            "LR: 1.0000e-01, Train Loss: 0.6092, Train Acc: 0.7900, Train Latency: 40.97s, Memory Usage: 3.04MB\n",
            "Test Loss: 0.9034, Test Acc: 0.7036, Test Latency: 5.46s, Test Memory Usage: 0.19MB\n",
            "\n",
            "Epoch 25\n"
          ]
        },
        {
          "name": "stderr",
          "output_type": "stream",
          "text": [
            "Train: 100%|##########| 391/391 [00:40<00:00,  9.57batch/s]\n"
          ]
        },
        {
          "name": "stdout",
          "output_type": "stream",
          "text": [
            "LR: 1.0000e-01, Train Loss: 0.5984, Train Acc: 0.7970, Train Latency: 40.85s, Memory Usage: 3.04MB\n",
            "Test Loss: 1.0622, Test Acc: 0.6852, Test Latency: 5.46s, Test Memory Usage: 0.19MB\n",
            "\n",
            "Epoch 26\n"
          ]
        },
        {
          "name": "stderr",
          "output_type": "stream",
          "text": [
            "Train: 100%|##########| 391/391 [00:41<00:00,  9.53batch/s]\n"
          ]
        },
        {
          "name": "stdout",
          "output_type": "stream",
          "text": [
            "LR: 1.0000e-01, Train Loss: 0.5930, Train Acc: 0.7970, Train Latency: 41.02s, Memory Usage: 3.04MB\n",
            "Test Loss: 1.0798, Test Acc: 0.6633, Test Latency: 5.51s, Test Memory Usage: 0.19MB\n",
            "\n",
            "Epoch 27\n"
          ]
        },
        {
          "name": "stderr",
          "output_type": "stream",
          "text": [
            "Train: 100%|##########| 391/391 [00:41<00:00,  9.49batch/s]\n"
          ]
        },
        {
          "name": "stdout",
          "output_type": "stream",
          "text": [
            "LR: 1.0000e-01, Train Loss: 0.5972, Train Acc: 0.7957, Train Latency: 41.21s, Memory Usage: 3.04MB\n",
            "Test Loss: 1.4677, Test Acc: 0.5677, Test Latency: 5.52s, Test Memory Usage: 0.19MB\n",
            "\n",
            "Epoch 28\n"
          ]
        },
        {
          "name": "stderr",
          "output_type": "stream",
          "text": [
            "Train: 100%|##########| 391/391 [00:41<00:00,  9.47batch/s]\n"
          ]
        },
        {
          "name": "stdout",
          "output_type": "stream",
          "text": [
            "LR: 1.0000e-01, Train Loss: 0.5916, Train Acc: 0.8003, Train Latency: 41.29s, Memory Usage: 3.04MB\n",
            "Test Loss: 0.9143, Test Acc: 0.6944, Test Latency: 5.42s, Test Memory Usage: 0.19MB\n",
            "\n",
            "Epoch 29\n"
          ]
        },
        {
          "name": "stderr",
          "output_type": "stream",
          "text": [
            "Train: 100%|##########| 391/391 [00:41<00:00,  9.49batch/s]\n"
          ]
        },
        {
          "name": "stdout",
          "output_type": "stream",
          "text": [
            "LR: 1.0000e-01, Train Loss: 0.5957, Train Acc: 0.7973, Train Latency: 41.23s, Memory Usage: 3.04MB\n",
            "Test Loss: 0.7946, Test Acc: 0.7402, Test Latency: 5.46s, Test Memory Usage: 0.19MB\n",
            "\n",
            "Epoch 30\n"
          ]
        },
        {
          "name": "stderr",
          "output_type": "stream",
          "text": [
            "Train: 100%|##########| 391/391 [00:41<00:00,  9.50batch/s]\n"
          ]
        },
        {
          "name": "stdout",
          "output_type": "stream",
          "text": [
            "LR: 1.0000e-01, Train Loss: 0.5990, Train Acc: 0.7948, Train Latency: 41.14s, Memory Usage: 3.04MB\n",
            "Test Loss: 0.8813, Test Acc: 0.7242, Test Latency: 5.47s, Test Memory Usage: 0.19MB\n",
            "\n",
            "Epoch 31\n"
          ]
        },
        {
          "name": "stderr",
          "output_type": "stream",
          "text": [
            "Train: 100%|##########| 391/391 [00:41<00:00,  9.49batch/s]\n"
          ]
        },
        {
          "name": "stdout",
          "output_type": "stream",
          "text": [
            "LR: 1.0000e-01, Train Loss: 0.5934, Train Acc: 0.7977, Train Latency: 41.21s, Memory Usage: 3.04MB\n",
            "Test Loss: 1.5743, Test Acc: 0.6078, Test Latency: 5.45s, Test Memory Usage: 0.19MB\n",
            "\n",
            "Epoch 32\n"
          ]
        },
        {
          "name": "stderr",
          "output_type": "stream",
          "text": [
            "Train: 100%|##########| 391/391 [00:41<00:00,  9.49batch/s]\n"
          ]
        },
        {
          "name": "stdout",
          "output_type": "stream",
          "text": [
            "LR: 1.0000e-01, Train Loss: 0.5885, Train Acc: 0.7988, Train Latency: 41.19s, Memory Usage: 3.04MB\n",
            "Test Loss: 0.6923, Test Acc: 0.7595, Test Latency: 5.47s, Test Memory Usage: 0.19MB\n",
            "\n",
            "Epoch 33\n"
          ]
        },
        {
          "name": "stderr",
          "output_type": "stream",
          "text": [
            "Train: 100%|##########| 391/391 [00:41<00:00,  9.49batch/s]\n"
          ]
        },
        {
          "name": "stdout",
          "output_type": "stream",
          "text": [
            "LR: 1.0000e-01, Train Loss: 0.5912, Train Acc: 0.7953, Train Latency: 41.23s, Memory Usage: 3.04MB\n",
            "Test Loss: 0.8074, Test Acc: 0.7309, Test Latency: 5.47s, Test Memory Usage: 0.19MB\n",
            "\n",
            "Epoch 34\n"
          ]
        },
        {
          "name": "stderr",
          "output_type": "stream",
          "text": [
            "Train: 100%|##########| 391/391 [00:41<00:00,  9.41batch/s]\n"
          ]
        },
        {
          "name": "stdout",
          "output_type": "stream",
          "text": [
            "LR: 1.0000e-01, Train Loss: 0.5882, Train Acc: 0.8005, Train Latency: 41.57s, Memory Usage: 3.04MB\n",
            "Test Loss: 0.6638, Test Acc: 0.7675, Test Latency: 5.52s, Test Memory Usage: 0.19MB\n",
            "\n",
            "Epoch 35\n"
          ]
        },
        {
          "name": "stderr",
          "output_type": "stream",
          "text": [
            "Train: 100%|##########| 391/391 [00:41<00:00,  9.52batch/s]\n"
          ]
        },
        {
          "name": "stdout",
          "output_type": "stream",
          "text": [
            "LR: 1.0000e-01, Train Loss: 0.5870, Train Acc: 0.7984, Train Latency: 41.08s, Memory Usage: 3.04MB\n",
            "Test Loss: 0.8483, Test Acc: 0.7221, Test Latency: 5.47s, Test Memory Usage: 0.19MB\n",
            "\n",
            "Epoch 36\n"
          ]
        },
        {
          "name": "stderr",
          "output_type": "stream",
          "text": [
            "Train: 100%|##########| 391/391 [00:40<00:00,  9.54batch/s]\n"
          ]
        },
        {
          "name": "stdout",
          "output_type": "stream",
          "text": [
            "LR: 1.0000e-01, Train Loss: 0.5900, Train Acc: 0.7981, Train Latency: 40.97s, Memory Usage: 3.04MB\n",
            "Test Loss: 0.8997, Test Acc: 0.7041, Test Latency: 5.47s, Test Memory Usage: 0.19MB\n",
            "\n",
            "Epoch 37\n"
          ]
        },
        {
          "name": "stderr",
          "output_type": "stream",
          "text": [
            "Train: 100%|##########| 391/391 [00:41<00:00,  9.47batch/s]\n"
          ]
        },
        {
          "name": "stdout",
          "output_type": "stream",
          "text": [
            "LR: 1.0000e-01, Train Loss: 0.5933, Train Acc: 0.7965, Train Latency: 41.29s, Memory Usage: 3.04MB\n",
            "Test Loss: 0.7387, Test Acc: 0.7551, Test Latency: 5.47s, Test Memory Usage: 0.19MB\n",
            "\n",
            "Epoch 38\n"
          ]
        },
        {
          "name": "stderr",
          "output_type": "stream",
          "text": [
            "Train: 100%|##########| 391/391 [00:41<00:00,  9.50batch/s]\n"
          ]
        },
        {
          "name": "stdout",
          "output_type": "stream",
          "text": [
            "LR: 1.0000e-01, Train Loss: 0.5859, Train Acc: 0.7986, Train Latency: 41.15s, Memory Usage: 3.04MB\n",
            "Test Loss: 0.8323, Test Acc: 0.7104, Test Latency: 5.46s, Test Memory Usage: 0.19MB\n",
            "\n",
            "Epoch 39\n"
          ]
        },
        {
          "name": "stderr",
          "output_type": "stream",
          "text": [
            "Train: 100%|##########| 391/391 [00:41<00:00,  9.46batch/s]\n"
          ]
        },
        {
          "name": "stdout",
          "output_type": "stream",
          "text": [
            "LR: 1.0000e-01, Train Loss: 0.5816, Train Acc: 0.8018, Train Latency: 41.34s, Memory Usage: 3.04MB\n",
            "Test Loss: 0.7661, Test Acc: 0.7375, Test Latency: 5.44s, Test Memory Usage: 0.19MB\n",
            "\n",
            "Epoch 40\n"
          ]
        },
        {
          "name": "stderr",
          "output_type": "stream",
          "text": [
            "Train: 100%|##########| 391/391 [00:41<00:00,  9.49batch/s]\n"
          ]
        },
        {
          "name": "stdout",
          "output_type": "stream",
          "text": [
            "LR: 1.0000e-01, Train Loss: 0.5848, Train Acc: 0.7996, Train Latency: 41.23s, Memory Usage: 3.04MB\n",
            "Test Loss: 1.2074, Test Acc: 0.6335, Test Latency: 5.48s, Test Memory Usage: 0.19MB\n",
            "\n",
            "Epoch 41\n"
          ]
        },
        {
          "name": "stderr",
          "output_type": "stream",
          "text": [
            "Train: 100%|##########| 391/391 [00:41<00:00,  9.50batch/s]\n"
          ]
        },
        {
          "name": "stdout",
          "output_type": "stream",
          "text": [
            "LR: 1.0000e-01, Train Loss: 0.5904, Train Acc: 0.7976, Train Latency: 41.16s, Memory Usage: 3.04MB\n",
            "Test Loss: 0.6935, Test Acc: 0.7635, Test Latency: 5.45s, Test Memory Usage: 0.19MB\n",
            "\n",
            "Epoch 42\n"
          ]
        },
        {
          "name": "stderr",
          "output_type": "stream",
          "text": [
            "Train: 100%|##########| 391/391 [00:41<00:00,  9.51batch/s]\n"
          ]
        },
        {
          "name": "stdout",
          "output_type": "stream",
          "text": [
            "LR: 1.0000e-01, Train Loss: 0.5835, Train Acc: 0.8006, Train Latency: 41.12s, Memory Usage: 3.04MB\n",
            "Test Loss: 0.8210, Test Acc: 0.7211, Test Latency: 5.44s, Test Memory Usage: 0.19MB\n",
            "\n",
            "Epoch 43\n"
          ]
        },
        {
          "name": "stderr",
          "output_type": "stream",
          "text": [
            "Train: 100%|##########| 391/391 [00:41<00:00,  9.48batch/s]\n"
          ]
        },
        {
          "name": "stdout",
          "output_type": "stream",
          "text": [
            "LR: 1.0000e-01, Train Loss: 0.5797, Train Acc: 0.8014, Train Latency: 41.23s, Memory Usage: 3.04MB\n",
            "Test Loss: 0.9462, Test Acc: 0.7011, Test Latency: 5.48s, Test Memory Usage: 0.19MB\n",
            "\n",
            "Epoch 44\n"
          ]
        },
        {
          "name": "stderr",
          "output_type": "stream",
          "text": [
            "Train: 100%|##########| 391/391 [00:41<00:00,  9.53batch/s]\n"
          ]
        },
        {
          "name": "stdout",
          "output_type": "stream",
          "text": [
            "LR: 1.0000e-01, Train Loss: 0.5874, Train Acc: 0.7976, Train Latency: 41.03s, Memory Usage: 3.04MB\n",
            "Test Loss: 0.8290, Test Acc: 0.7259, Test Latency: 5.50s, Test Memory Usage: 0.19MB\n",
            "\n",
            "Epoch 45\n"
          ]
        },
        {
          "name": "stderr",
          "output_type": "stream",
          "text": [
            "Train: 100%|##########| 391/391 [00:41<00:00,  9.52batch/s]\n"
          ]
        },
        {
          "name": "stdout",
          "output_type": "stream",
          "text": [
            "LR: 1.0000e-01, Train Loss: 0.5826, Train Acc: 0.8006, Train Latency: 41.09s, Memory Usage: 3.04MB\n",
            "Test Loss: 1.0454, Test Acc: 0.6780, Test Latency: 5.49s, Test Memory Usage: 0.19MB\n",
            "\n",
            "Epoch 46\n"
          ]
        },
        {
          "name": "stderr",
          "output_type": "stream",
          "text": [
            "Train: 100%|##########| 391/391 [00:41<00:00,  9.47batch/s]\n"
          ]
        },
        {
          "name": "stdout",
          "output_type": "stream",
          "text": [
            "LR: 1.0000e-01, Train Loss: 0.5822, Train Acc: 0.8008, Train Latency: 41.28s, Memory Usage: 3.04MB\n",
            "Test Loss: 0.8593, Test Acc: 0.7167, Test Latency: 5.50s, Test Memory Usage: 0.19MB\n",
            "\n",
            "Epoch 47\n"
          ]
        },
        {
          "name": "stderr",
          "output_type": "stream",
          "text": [
            "Train: 100%|##########| 391/391 [00:41<00:00,  9.49batch/s]\n"
          ]
        },
        {
          "name": "stdout",
          "output_type": "stream",
          "text": [
            "LR: 1.0000e-01, Train Loss: 0.5773, Train Acc: 0.8017, Train Latency: 41.22s, Memory Usage: 3.04MB\n",
            "Test Loss: 0.7981, Test Acc: 0.7412, Test Latency: 5.47s, Test Memory Usage: 0.19MB\n",
            "\n",
            "Epoch 48\n"
          ]
        },
        {
          "name": "stderr",
          "output_type": "stream",
          "text": [
            "Train: 100%|##########| 391/391 [00:41<00:00,  9.50batch/s]\n"
          ]
        },
        {
          "name": "stdout",
          "output_type": "stream",
          "text": [
            "LR: 1.0000e-01, Train Loss: 0.5792, Train Acc: 0.8018, Train Latency: 41.17s, Memory Usage: 3.04MB\n",
            "Test Loss: 0.9514, Test Acc: 0.6905, Test Latency: 5.46s, Test Memory Usage: 0.19MB\n",
            "\n",
            "Epoch 49\n"
          ]
        },
        {
          "name": "stderr",
          "output_type": "stream",
          "text": [
            "Train: 100%|##########| 391/391 [00:41<00:00,  9.51batch/s]\n"
          ]
        },
        {
          "name": "stdout",
          "output_type": "stream",
          "text": [
            "LR: 1.0000e-01, Train Loss: 0.5768, Train Acc: 0.8021, Train Latency: 41.13s, Memory Usage: 3.04MB\n",
            "Test Loss: 0.8935, Test Acc: 0.7238, Test Latency: 5.46s, Test Memory Usage: 0.19MB\n",
            "\n",
            "Epoch 50\n"
          ]
        },
        {
          "name": "stderr",
          "output_type": "stream",
          "text": [
            "Train: 100%|##########| 391/391 [00:41<00:00,  9.53batch/s]\n"
          ]
        },
        {
          "name": "stdout",
          "output_type": "stream",
          "text": [
            "LR: 1.0000e-01, Train Loss: 0.5800, Train Acc: 0.8024, Train Latency: 41.03s, Memory Usage: 3.04MB\n",
            "Test Loss: 1.1502, Test Acc: 0.6466, Test Latency: 5.48s, Test Memory Usage: 0.19MB\n",
            "\n",
            "Epoch 51\n"
          ]
        },
        {
          "name": "stderr",
          "output_type": "stream",
          "text": [
            "Train: 100%|##########| 391/391 [00:41<00:00,  9.47batch/s]\n"
          ]
        },
        {
          "name": "stdout",
          "output_type": "stream",
          "text": [
            "LR: 1.0000e-02, Train Loss: 0.3913, Train Acc: 0.8667, Train Latency: 41.29s, Memory Usage: 3.04MB\n",
            "Test Loss: 0.3782, Test Acc: 0.8680, Test Latency: 5.52s, Test Memory Usage: 0.19MB\n",
            "Saving best model ...\n",
            "\n",
            "Epoch 52\n"
          ]
        },
        {
          "name": "stderr",
          "output_type": "stream",
          "text": [
            "Train: 100%|##########| 391/391 [00:41<00:00,  9.47batch/s]\n"
          ]
        },
        {
          "name": "stdout",
          "output_type": "stream",
          "text": [
            "LR: 1.0000e-02, Train Loss: 0.3407, Train Acc: 0.8838, Train Latency: 41.30s, Memory Usage: 3.04MB\n",
            "Test Loss: 0.3624, Test Acc: 0.8771, Test Latency: 5.48s, Test Memory Usage: 0.19MB\n",
            "Saving best model ...\n",
            "\n",
            "Epoch 53\n"
          ]
        },
        {
          "name": "stderr",
          "output_type": "stream",
          "text": [
            "Train: 100%|##########| 391/391 [00:41<00:00,  9.52batch/s]\n"
          ]
        },
        {
          "name": "stdout",
          "output_type": "stream",
          "text": [
            "LR: 1.0000e-02, Train Loss: 0.3201, Train Acc: 0.8900, Train Latency: 41.07s, Memory Usage: 3.04MB\n",
            "Test Loss: 0.3581, Test Acc: 0.8776, Test Latency: 5.45s, Test Memory Usage: 0.19MB\n",
            "Saving best model ...\n",
            "\n",
            "Epoch 54\n"
          ]
        },
        {
          "name": "stderr",
          "output_type": "stream",
          "text": [
            "Train: 100%|##########| 391/391 [00:41<00:00,  9.50batch/s]\n"
          ]
        },
        {
          "name": "stdout",
          "output_type": "stream",
          "text": [
            "LR: 1.0000e-02, Train Loss: 0.3077, Train Acc: 0.8951, Train Latency: 41.16s, Memory Usage: 3.04MB\n",
            "Test Loss: 0.3405, Test Acc: 0.8859, Test Latency: 5.53s, Test Memory Usage: 0.19MB\n",
            "Saving best model ...\n",
            "\n",
            "Epoch 55\n"
          ]
        },
        {
          "name": "stderr",
          "output_type": "stream",
          "text": [
            "Train: 100%|##########| 391/391 [00:41<00:00,  9.48batch/s]\n"
          ]
        },
        {
          "name": "stdout",
          "output_type": "stream",
          "text": [
            "LR: 1.0000e-02, Train Loss: 0.2988, Train Acc: 0.8990, Train Latency: 41.24s, Memory Usage: 3.04MB\n",
            "Test Loss: 0.3601, Test Acc: 0.8750, Test Latency: 5.56s, Test Memory Usage: 0.19MB\n",
            "\n",
            "Epoch 56\n"
          ]
        },
        {
          "name": "stderr",
          "output_type": "stream",
          "text": [
            "Train: 100%|##########| 391/391 [00:41<00:00,  9.46batch/s]\n"
          ]
        },
        {
          "name": "stdout",
          "output_type": "stream",
          "text": [
            "LR: 1.0000e-02, Train Loss: 0.2881, Train Acc: 0.9022, Train Latency: 41.33s, Memory Usage: 3.04MB\n",
            "Test Loss: 0.3475, Test Acc: 0.8818, Test Latency: 5.45s, Test Memory Usage: 0.19MB\n",
            "\n",
            "Epoch 57\n"
          ]
        },
        {
          "name": "stderr",
          "output_type": "stream",
          "text": [
            "Train: 100%|##########| 391/391 [00:41<00:00,  9.43batch/s]\n"
          ]
        },
        {
          "name": "stdout",
          "output_type": "stream",
          "text": [
            "LR: 1.0000e-02, Train Loss: 0.2823, Train Acc: 0.9039, Train Latency: 41.47s, Memory Usage: 3.04MB\n",
            "Test Loss: 0.3872, Test Acc: 0.8672, Test Latency: 5.48s, Test Memory Usage: 0.19MB\n",
            "\n",
            "Epoch 58\n"
          ]
        },
        {
          "name": "stderr",
          "output_type": "stream",
          "text": [
            "Train: 100%|##########| 391/391 [00:41<00:00,  9.51batch/s]\n"
          ]
        },
        {
          "name": "stdout",
          "output_type": "stream",
          "text": [
            "LR: 1.0000e-02, Train Loss: 0.2804, Train Acc: 0.9038, Train Latency: 41.13s, Memory Usage: 3.04MB\n",
            "Test Loss: 0.3541, Test Acc: 0.8790, Test Latency: 5.48s, Test Memory Usage: 0.19MB\n",
            "\n",
            "Epoch 59\n"
          ]
        },
        {
          "name": "stderr",
          "output_type": "stream",
          "text": [
            "Train: 100%|##########| 391/391 [00:41<00:00,  9.46batch/s]\n"
          ]
        },
        {
          "name": "stdout",
          "output_type": "stream",
          "text": [
            "LR: 1.0000e-02, Train Loss: 0.2795, Train Acc: 0.9045, Train Latency: 41.34s, Memory Usage: 3.04MB\n",
            "Test Loss: 0.3547, Test Acc: 0.8795, Test Latency: 5.46s, Test Memory Usage: 0.19MB\n",
            "\n",
            "Epoch 60\n"
          ]
        },
        {
          "name": "stderr",
          "output_type": "stream",
          "text": [
            "Train: 100%|##########| 391/391 [00:41<00:00,  9.52batch/s]\n"
          ]
        },
        {
          "name": "stdout",
          "output_type": "stream",
          "text": [
            "LR: 1.0000e-02, Train Loss: 0.2749, Train Acc: 0.9060, Train Latency: 41.09s, Memory Usage: 3.04MB\n",
            "Test Loss: 0.3763, Test Acc: 0.8750, Test Latency: 5.49s, Test Memory Usage: 0.19MB\n",
            "\n",
            "Epoch 61\n"
          ]
        },
        {
          "name": "stderr",
          "output_type": "stream",
          "text": [
            "Train: 100%|##########| 391/391 [00:41<00:00,  9.50batch/s]\n"
          ]
        },
        {
          "name": "stdout",
          "output_type": "stream",
          "text": [
            "LR: 1.0000e-02, Train Loss: 0.2755, Train Acc: 0.9058, Train Latency: 41.15s, Memory Usage: 3.04MB\n",
            "Test Loss: 0.3835, Test Acc: 0.8735, Test Latency: 5.50s, Test Memory Usage: 0.19MB\n",
            "\n",
            "Epoch 62\n"
          ]
        },
        {
          "name": "stderr",
          "output_type": "stream",
          "text": [
            "Train: 100%|##########| 391/391 [00:41<00:00,  9.51batch/s]\n"
          ]
        },
        {
          "name": "stdout",
          "output_type": "stream",
          "text": [
            "LR: 1.0000e-02, Train Loss: 0.2658, Train Acc: 0.9100, Train Latency: 41.11s, Memory Usage: 3.04MB\n",
            "Test Loss: 0.3968, Test Acc: 0.8678, Test Latency: 5.50s, Test Memory Usage: 0.19MB\n",
            "\n",
            "Epoch 63\n"
          ]
        },
        {
          "name": "stderr",
          "output_type": "stream",
          "text": [
            "Train: 100%|##########| 391/391 [00:41<00:00,  9.47batch/s]\n"
          ]
        },
        {
          "name": "stdout",
          "output_type": "stream",
          "text": [
            "LR: 1.0000e-02, Train Loss: 0.2684, Train Acc: 0.9082, Train Latency: 41.30s, Memory Usage: 3.04MB\n",
            "Test Loss: 0.3980, Test Acc: 0.8670, Test Latency: 5.53s, Test Memory Usage: 0.19MB\n",
            "\n",
            "Epoch 64\n"
          ]
        },
        {
          "name": "stderr",
          "output_type": "stream",
          "text": [
            "Train: 100%|##########| 391/391 [00:41<00:00,  9.42batch/s]\n"
          ]
        },
        {
          "name": "stdout",
          "output_type": "stream",
          "text": [
            "LR: 1.0000e-02, Train Loss: 0.2695, Train Acc: 0.9079, Train Latency: 41.53s, Memory Usage: 3.04MB\n",
            "Test Loss: 0.3578, Test Acc: 0.8796, Test Latency: 5.51s, Test Memory Usage: 0.19MB\n",
            "\n",
            "Epoch 65\n"
          ]
        },
        {
          "name": "stderr",
          "output_type": "stream",
          "text": [
            "Train: 100%|##########| 391/391 [00:41<00:00,  9.40batch/s]\n"
          ]
        },
        {
          "name": "stdout",
          "output_type": "stream",
          "text": [
            "LR: 1.0000e-02, Train Loss: 0.2666, Train Acc: 0.9085, Train Latency: 41.61s, Memory Usage: 3.04MB\n",
            "Test Loss: 0.3588, Test Acc: 0.8800, Test Latency: 5.47s, Test Memory Usage: 0.19MB\n",
            "\n",
            "Epoch 66\n"
          ]
        },
        {
          "name": "stderr",
          "output_type": "stream",
          "text": [
            "Train: 100%|##########| 391/391 [00:41<00:00,  9.45batch/s]\n"
          ]
        },
        {
          "name": "stdout",
          "output_type": "stream",
          "text": [
            "LR: 1.0000e-02, Train Loss: 0.2662, Train Acc: 0.9097, Train Latency: 41.37s, Memory Usage: 3.04MB\n",
            "Test Loss: 0.4113, Test Acc: 0.8657, Test Latency: 5.48s, Test Memory Usage: 0.19MB\n",
            "\n",
            "Epoch 67\n"
          ]
        },
        {
          "name": "stderr",
          "output_type": "stream",
          "text": [
            "Train: 100%|##########| 391/391 [00:41<00:00,  9.52batch/s]\n"
          ]
        },
        {
          "name": "stdout",
          "output_type": "stream",
          "text": [
            "LR: 1.0000e-02, Train Loss: 0.2672, Train Acc: 0.9103, Train Latency: 41.10s, Memory Usage: 3.04MB\n",
            "Test Loss: 0.3541, Test Acc: 0.8805, Test Latency: 5.50s, Test Memory Usage: 0.19MB\n",
            "\n",
            "Epoch 68\n"
          ]
        },
        {
          "name": "stderr",
          "output_type": "stream",
          "text": [
            "Train: 100%|##########| 391/391 [00:41<00:00,  9.42batch/s]\n"
          ]
        },
        {
          "name": "stdout",
          "output_type": "stream",
          "text": [
            "LR: 1.0000e-02, Train Loss: 0.2656, Train Acc: 0.9090, Train Latency: 41.51s, Memory Usage: 3.04MB\n",
            "Test Loss: 0.4033, Test Acc: 0.8647, Test Latency: 5.50s, Test Memory Usage: 0.19MB\n",
            "\n",
            "Epoch 69\n"
          ]
        },
        {
          "name": "stderr",
          "output_type": "stream",
          "text": [
            "Train: 100%|##########| 391/391 [00:41<00:00,  9.40batch/s]\n"
          ]
        },
        {
          "name": "stdout",
          "output_type": "stream",
          "text": [
            "LR: 1.0000e-02, Train Loss: 0.2654, Train Acc: 0.9100, Train Latency: 41.59s, Memory Usage: 3.04MB\n",
            "Test Loss: 0.3712, Test Acc: 0.8724, Test Latency: 5.48s, Test Memory Usage: 0.19MB\n",
            "\n",
            "Epoch 70\n"
          ]
        },
        {
          "name": "stderr",
          "output_type": "stream",
          "text": [
            "Train: 100%|##########| 391/391 [00:41<00:00,  9.47batch/s]\n"
          ]
        },
        {
          "name": "stdout",
          "output_type": "stream",
          "text": [
            "LR: 1.0000e-02, Train Loss: 0.2671, Train Acc: 0.9081, Train Latency: 41.29s, Memory Usage: 3.04MB\n",
            "Test Loss: 0.3819, Test Acc: 0.8747, Test Latency: 5.44s, Test Memory Usage: 0.19MB\n",
            "\n",
            "Epoch 71\n"
          ]
        },
        {
          "name": "stderr",
          "output_type": "stream",
          "text": [
            "Train: 100%|##########| 391/391 [00:41<00:00,  9.42batch/s]\n"
          ]
        },
        {
          "name": "stdout",
          "output_type": "stream",
          "text": [
            "LR: 1.0000e-02, Train Loss: 0.2646, Train Acc: 0.9095, Train Latency: 41.50s, Memory Usage: 3.04MB\n",
            "Test Loss: 0.4041, Test Acc: 0.8672, Test Latency: 5.50s, Test Memory Usage: 0.19MB\n",
            "\n",
            "Epoch 72\n"
          ]
        },
        {
          "name": "stderr",
          "output_type": "stream",
          "text": [
            "Train: 100%|##########| 391/391 [00:41<00:00,  9.45batch/s]\n"
          ]
        },
        {
          "name": "stdout",
          "output_type": "stream",
          "text": [
            "LR: 1.0000e-02, Train Loss: 0.2650, Train Acc: 0.9101, Train Latency: 41.38s, Memory Usage: 3.04MB\n",
            "Test Loss: 0.5121, Test Acc: 0.8346, Test Latency: 5.49s, Test Memory Usage: 0.19MB\n",
            "\n",
            "Epoch 73\n"
          ]
        },
        {
          "name": "stderr",
          "output_type": "stream",
          "text": [
            "Train: 100%|##########| 391/391 [00:41<00:00,  9.53batch/s]\n"
          ]
        },
        {
          "name": "stdout",
          "output_type": "stream",
          "text": [
            "LR: 1.0000e-02, Train Loss: 0.2584, Train Acc: 0.9120, Train Latency: 41.05s, Memory Usage: 3.04MB\n",
            "Test Loss: 0.3929, Test Acc: 0.8673, Test Latency: 5.47s, Test Memory Usage: 0.19MB\n",
            "\n",
            "Epoch 74\n"
          ]
        },
        {
          "name": "stderr",
          "output_type": "stream",
          "text": [
            "Train: 100%|##########| 391/391 [00:41<00:00,  9.51batch/s]\n"
          ]
        },
        {
          "name": "stdout",
          "output_type": "stream",
          "text": [
            "LR: 1.0000e-02, Train Loss: 0.2630, Train Acc: 0.9107, Train Latency: 41.11s, Memory Usage: 3.04MB\n",
            "Test Loss: 0.3462, Test Acc: 0.8825, Test Latency: 5.47s, Test Memory Usage: 0.19MB\n",
            "\n",
            "Epoch 75\n"
          ]
        },
        {
          "name": "stderr",
          "output_type": "stream",
          "text": [
            "Train: 100%|##########| 391/391 [00:41<00:00,  9.49batch/s]\n"
          ]
        },
        {
          "name": "stdout",
          "output_type": "stream",
          "text": [
            "LR: 1.0000e-02, Train Loss: 0.2594, Train Acc: 0.9112, Train Latency: 41.22s, Memory Usage: 3.04MB\n",
            "Test Loss: 0.3946, Test Acc: 0.8682, Test Latency: 5.46s, Test Memory Usage: 0.19MB\n",
            "\n",
            "Epoch 76\n"
          ]
        },
        {
          "name": "stderr",
          "output_type": "stream",
          "text": [
            "Train: 100%|##########| 391/391 [00:41<00:00,  9.45batch/s]\n"
          ]
        },
        {
          "name": "stdout",
          "output_type": "stream",
          "text": [
            "LR: 1.0000e-02, Train Loss: 0.2578, Train Acc: 0.9126, Train Latency: 41.37s, Memory Usage: 3.04MB\n",
            "Test Loss: 0.3919, Test Acc: 0.8672, Test Latency: 5.48s, Test Memory Usage: 0.19MB\n",
            "\n",
            "Epoch 77\n"
          ]
        },
        {
          "name": "stderr",
          "output_type": "stream",
          "text": [
            "Train: 100%|##########| 391/391 [00:41<00:00,  9.48batch/s]\n"
          ]
        },
        {
          "name": "stdout",
          "output_type": "stream",
          "text": [
            "LR: 1.0000e-02, Train Loss: 0.2646, Train Acc: 0.9091, Train Latency: 41.26s, Memory Usage: 3.04MB\n",
            "Test Loss: 0.4682, Test Acc: 0.8480, Test Latency: 5.47s, Test Memory Usage: 0.19MB\n",
            "\n",
            "Epoch 78\n"
          ]
        },
        {
          "name": "stderr",
          "output_type": "stream",
          "text": [
            "Train: 100%|##########| 391/391 [00:41<00:00,  9.45batch/s]\n"
          ]
        },
        {
          "name": "stdout",
          "output_type": "stream",
          "text": [
            "LR: 1.0000e-02, Train Loss: 0.2595, Train Acc: 0.9100, Train Latency: 41.39s, Memory Usage: 3.04MB\n",
            "Test Loss: 0.3863, Test Acc: 0.8706, Test Latency: 5.49s, Test Memory Usage: 0.19MB\n",
            "\n",
            "Epoch 79\n"
          ]
        },
        {
          "name": "stderr",
          "output_type": "stream",
          "text": [
            "Train: 100%|##########| 391/391 [00:41<00:00,  9.45batch/s]\n"
          ]
        },
        {
          "name": "stdout",
          "output_type": "stream",
          "text": [
            "LR: 1.0000e-02, Train Loss: 0.2606, Train Acc: 0.9110, Train Latency: 41.38s, Memory Usage: 3.04MB\n",
            "Test Loss: 0.4277, Test Acc: 0.8614, Test Latency: 5.48s, Test Memory Usage: 0.19MB\n",
            "\n",
            "Epoch 80\n"
          ]
        },
        {
          "name": "stderr",
          "output_type": "stream",
          "text": [
            "Train: 100%|##########| 391/391 [00:41<00:00,  9.46batch/s]\n"
          ]
        },
        {
          "name": "stdout",
          "output_type": "stream",
          "text": [
            "LR: 1.0000e-02, Train Loss: 0.2582, Train Acc: 0.9117, Train Latency: 41.34s, Memory Usage: 3.04MB\n",
            "Test Loss: 0.4154, Test Acc: 0.8634, Test Latency: 5.48s, Test Memory Usage: 0.19MB\n",
            "\n",
            "Epoch 81\n"
          ]
        },
        {
          "name": "stderr",
          "output_type": "stream",
          "text": [
            "Train: 100%|##########| 391/391 [00:41<00:00,  9.40batch/s]\n"
          ]
        },
        {
          "name": "stdout",
          "output_type": "stream",
          "text": [
            "LR: 1.0000e-02, Train Loss: 0.2544, Train Acc: 0.9141, Train Latency: 41.59s, Memory Usage: 3.04MB\n",
            "Test Loss: 0.4893, Test Acc: 0.8388, Test Latency: 5.50s, Test Memory Usage: 0.19MB\n",
            "\n",
            "Epoch 82\n"
          ]
        },
        {
          "name": "stderr",
          "output_type": "stream",
          "text": [
            "Train: 100%|##########| 391/391 [00:41<00:00,  9.44batch/s]\n"
          ]
        },
        {
          "name": "stdout",
          "output_type": "stream",
          "text": [
            "LR: 1.0000e-02, Train Loss: 0.2545, Train Acc: 0.9134, Train Latency: 41.41s, Memory Usage: 3.04MB\n",
            "Test Loss: 0.3838, Test Acc: 0.8684, Test Latency: 5.52s, Test Memory Usage: 0.19MB\n",
            "\n",
            "Epoch 83\n"
          ]
        },
        {
          "name": "stderr",
          "output_type": "stream",
          "text": [
            "Train: 100%|##########| 391/391 [00:41<00:00,  9.46batch/s]\n"
          ]
        },
        {
          "name": "stdout",
          "output_type": "stream",
          "text": [
            "LR: 1.0000e-02, Train Loss: 0.2565, Train Acc: 0.9114, Train Latency: 41.35s, Memory Usage: 3.04MB\n",
            "Test Loss: 0.3631, Test Acc: 0.8764, Test Latency: 5.48s, Test Memory Usage: 0.19MB\n",
            "\n",
            "Epoch 84\n"
          ]
        },
        {
          "name": "stderr",
          "output_type": "stream",
          "text": [
            "Train: 100%|##########| 391/391 [00:41<00:00,  9.45batch/s]\n"
          ]
        },
        {
          "name": "stdout",
          "output_type": "stream",
          "text": [
            "LR: 1.0000e-02, Train Loss: 0.2527, Train Acc: 0.9133, Train Latency: 41.36s, Memory Usage: 3.04MB\n",
            "Test Loss: 0.4378, Test Acc: 0.8541, Test Latency: 5.49s, Test Memory Usage: 0.19MB\n",
            "\n",
            "Epoch 85\n"
          ]
        },
        {
          "name": "stderr",
          "output_type": "stream",
          "text": [
            "Train: 100%|##########| 391/391 [00:41<00:00,  9.50batch/s]\n"
          ]
        },
        {
          "name": "stdout",
          "output_type": "stream",
          "text": [
            "LR: 1.0000e-02, Train Loss: 0.2545, Train Acc: 0.9124, Train Latency: 41.16s, Memory Usage: 3.04MB\n",
            "Test Loss: 0.3627, Test Acc: 0.8802, Test Latency: 5.46s, Test Memory Usage: 0.19MB\n",
            "\n",
            "Epoch 86\n"
          ]
        },
        {
          "name": "stderr",
          "output_type": "stream",
          "text": [
            "Train: 100%|##########| 391/391 [00:41<00:00,  9.48batch/s]\n"
          ]
        },
        {
          "name": "stdout",
          "output_type": "stream",
          "text": [
            "LR: 1.0000e-02, Train Loss: 0.2538, Train Acc: 0.9134, Train Latency: 41.24s, Memory Usage: 3.04MB\n",
            "Test Loss: 0.4239, Test Acc: 0.8636, Test Latency: 5.49s, Test Memory Usage: 0.19MB\n",
            "\n",
            "Epoch 87\n"
          ]
        },
        {
          "name": "stderr",
          "output_type": "stream",
          "text": [
            "Train: 100%|##########| 391/391 [00:41<00:00,  9.48batch/s]\n"
          ]
        },
        {
          "name": "stdout",
          "output_type": "stream",
          "text": [
            "LR: 1.0000e-02, Train Loss: 0.2529, Train Acc: 0.9125, Train Latency: 41.25s, Memory Usage: 3.04MB\n",
            "Test Loss: 0.4487, Test Acc: 0.8507, Test Latency: 5.48s, Test Memory Usage: 0.19MB\n",
            "\n",
            "Epoch 88\n"
          ]
        },
        {
          "name": "stderr",
          "output_type": "stream",
          "text": [
            "Train: 100%|##########| 391/391 [00:41<00:00,  9.44batch/s]\n"
          ]
        },
        {
          "name": "stdout",
          "output_type": "stream",
          "text": [
            "LR: 1.0000e-02, Train Loss: 0.2489, Train Acc: 0.9148, Train Latency: 41.44s, Memory Usage: 3.04MB\n",
            "Test Loss: 0.4121, Test Acc: 0.8676, Test Latency: 5.51s, Test Memory Usage: 0.19MB\n",
            "\n",
            "Epoch 89\n"
          ]
        },
        {
          "name": "stderr",
          "output_type": "stream",
          "text": [
            "Train: 100%|##########| 391/391 [00:41<00:00,  9.50batch/s]\n"
          ]
        },
        {
          "name": "stdout",
          "output_type": "stream",
          "text": [
            "LR: 1.0000e-02, Train Loss: 0.2497, Train Acc: 0.9144, Train Latency: 41.15s, Memory Usage: 3.04MB\n",
            "Test Loss: 0.3828, Test Acc: 0.8726, Test Latency: 5.47s, Test Memory Usage: 0.19MB\n",
            "\n",
            "Epoch 90\n"
          ]
        },
        {
          "name": "stderr",
          "output_type": "stream",
          "text": [
            "Train: 100%|##########| 391/391 [00:41<00:00,  9.46batch/s]\n"
          ]
        },
        {
          "name": "stdout",
          "output_type": "stream",
          "text": [
            "LR: 1.0000e-02, Train Loss: 0.2446, Train Acc: 0.9167, Train Latency: 41.36s, Memory Usage: 3.04MB\n",
            "Test Loss: 0.3663, Test Acc: 0.8796, Test Latency: 5.47s, Test Memory Usage: 0.19MB\n",
            "\n",
            "Epoch 91\n"
          ]
        },
        {
          "name": "stderr",
          "output_type": "stream",
          "text": [
            "Train: 100%|##########| 391/391 [00:41<00:00,  9.49batch/s]\n"
          ]
        },
        {
          "name": "stdout",
          "output_type": "stream",
          "text": [
            "LR: 1.0000e-02, Train Loss: 0.2489, Train Acc: 0.9142, Train Latency: 41.23s, Memory Usage: 3.04MB\n",
            "Test Loss: 0.3955, Test Acc: 0.8705, Test Latency: 5.46s, Test Memory Usage: 0.19MB\n",
            "\n",
            "Epoch 92\n"
          ]
        },
        {
          "name": "stderr",
          "output_type": "stream",
          "text": [
            "Train: 100%|##########| 391/391 [00:41<00:00,  9.47batch/s]\n"
          ]
        },
        {
          "name": "stdout",
          "output_type": "stream",
          "text": [
            "LR: 1.0000e-02, Train Loss: 0.2481, Train Acc: 0.9162, Train Latency: 41.30s, Memory Usage: 3.04MB\n",
            "Test Loss: 0.3974, Test Acc: 0.8641, Test Latency: 5.47s, Test Memory Usage: 0.19MB\n",
            "\n",
            "Epoch 93\n"
          ]
        },
        {
          "name": "stderr",
          "output_type": "stream",
          "text": [
            "Train: 100%|##########| 391/391 [00:41<00:00,  9.47batch/s]\n"
          ]
        },
        {
          "name": "stdout",
          "output_type": "stream",
          "text": [
            "LR: 1.0000e-02, Train Loss: 0.2425, Train Acc: 0.9172, Train Latency: 41.29s, Memory Usage: 3.04MB\n",
            "Test Loss: 0.3842, Test Acc: 0.8719, Test Latency: 5.50s, Test Memory Usage: 0.19MB\n",
            "\n",
            "Epoch 94\n"
          ]
        },
        {
          "name": "stderr",
          "output_type": "stream",
          "text": [
            "Train: 100%|##########| 391/391 [00:41<00:00,  9.47batch/s]\n"
          ]
        },
        {
          "name": "stdout",
          "output_type": "stream",
          "text": [
            "LR: 1.0000e-02, Train Loss: 0.2478, Train Acc: 0.9155, Train Latency: 41.29s, Memory Usage: 3.04MB\n",
            "Test Loss: 0.3920, Test Acc: 0.8693, Test Latency: 5.47s, Test Memory Usage: 0.19MB\n",
            "\n",
            "Epoch 95\n"
          ]
        },
        {
          "name": "stderr",
          "output_type": "stream",
          "text": [
            "Train: 100%|##########| 391/391 [00:41<00:00,  9.47batch/s]\n"
          ]
        },
        {
          "name": "stdout",
          "output_type": "stream",
          "text": [
            "LR: 1.0000e-02, Train Loss: 0.2455, Train Acc: 0.9161, Train Latency: 41.29s, Memory Usage: 3.04MB\n",
            "Test Loss: 0.3823, Test Acc: 0.8745, Test Latency: 5.47s, Test Memory Usage: 0.19MB\n",
            "\n",
            "Epoch 96\n"
          ]
        },
        {
          "name": "stderr",
          "output_type": "stream",
          "text": [
            "Train: 100%|##########| 391/391 [00:41<00:00,  9.51batch/s]\n"
          ]
        },
        {
          "name": "stdout",
          "output_type": "stream",
          "text": [
            "LR: 1.0000e-02, Train Loss: 0.2459, Train Acc: 0.9164, Train Latency: 41.13s, Memory Usage: 3.04MB\n",
            "Test Loss: 0.3806, Test Acc: 0.8723, Test Latency: 5.47s, Test Memory Usage: 0.19MB\n",
            "\n",
            "Epoch 97\n"
          ]
        },
        {
          "name": "stderr",
          "output_type": "stream",
          "text": [
            "Train: 100%|##########| 391/391 [00:41<00:00,  9.49batch/s]\n"
          ]
        },
        {
          "name": "stdout",
          "output_type": "stream",
          "text": [
            "LR: 1.0000e-02, Train Loss: 0.2423, Train Acc: 0.9166, Train Latency: 41.20s, Memory Usage: 3.04MB\n",
            "Test Loss: 0.3859, Test Acc: 0.8713, Test Latency: 5.47s, Test Memory Usage: 0.19MB\n",
            "\n",
            "Epoch 98\n"
          ]
        },
        {
          "name": "stderr",
          "output_type": "stream",
          "text": [
            "Train: 100%|##########| 391/391 [00:41<00:00,  9.51batch/s]\n"
          ]
        },
        {
          "name": "stdout",
          "output_type": "stream",
          "text": [
            "LR: 1.0000e-02, Train Loss: 0.2413, Train Acc: 0.9177, Train Latency: 41.13s, Memory Usage: 3.04MB\n",
            "Test Loss: 0.4196, Test Acc: 0.8619, Test Latency: 5.51s, Test Memory Usage: 0.19MB\n",
            "\n",
            "Epoch 99\n"
          ]
        },
        {
          "name": "stderr",
          "output_type": "stream",
          "text": [
            "Train: 100%|##########| 391/391 [00:41<00:00,  9.48batch/s]\n"
          ]
        },
        {
          "name": "stdout",
          "output_type": "stream",
          "text": [
            "LR: 1.0000e-02, Train Loss: 0.2425, Train Acc: 0.9183, Train Latency: 41.25s, Memory Usage: 3.04MB\n",
            "Test Loss: 0.4268, Test Acc: 0.8576, Test Latency: 5.49s, Test Memory Usage: 0.19MB\n",
            "\n",
            "Epoch 100\n"
          ]
        },
        {
          "name": "stderr",
          "output_type": "stream",
          "text": [
            "Train: 100%|##########| 391/391 [00:40<00:00,  9.61batch/s]\n"
          ]
        },
        {
          "name": "stdout",
          "output_type": "stream",
          "text": [
            "LR: 1.0000e-02, Train Loss: 0.2388, Train Acc: 0.9183, Train Latency: 40.67s, Memory Usage: 3.04MB\n",
            "Test Loss: 0.3664, Test Acc: 0.8819, Test Latency: 5.37s, Test Memory Usage: 0.19MB\n",
            "\n",
            "Epoch 101\n"
          ]
        },
        {
          "name": "stderr",
          "output_type": "stream",
          "text": [
            "Train: 100%|##########| 391/391 [00:40<00:00,  9.59batch/s]\n"
          ]
        },
        {
          "name": "stdout",
          "output_type": "stream",
          "text": [
            "LR: 1.0000e-03, Train Loss: 0.1761, Train Acc: 0.9426, Train Latency: 40.79s, Memory Usage: 3.04MB\n",
            "Test Loss: 0.2571, Test Acc: 0.9132, Test Latency: 5.37s, Test Memory Usage: 0.19MB\n",
            "Saving best model ...\n",
            "\n",
            "Epoch 102\n"
          ]
        },
        {
          "name": "stderr",
          "output_type": "stream",
          "text": [
            "Train: 100%|##########| 391/391 [00:40<00:00,  9.58batch/s]\n"
          ]
        },
        {
          "name": "stdout",
          "output_type": "stream",
          "text": [
            "LR: 1.0000e-03, Train Loss: 0.1485, Train Acc: 0.9513, Train Latency: 40.82s, Memory Usage: 3.04MB\n",
            "Test Loss: 0.2533, Test Acc: 0.9123, Test Latency: 5.37s, Test Memory Usage: 0.19MB\n",
            "\n",
            "Epoch 103\n"
          ]
        },
        {
          "name": "stderr",
          "output_type": "stream",
          "text": [
            "Train: 100%|##########| 391/391 [00:40<00:00,  9.63batch/s]\n"
          ]
        },
        {
          "name": "stdout",
          "output_type": "stream",
          "text": [
            "LR: 1.0000e-03, Train Loss: 0.1398, Train Acc: 0.9559, Train Latency: 40.61s, Memory Usage: 3.04MB\n",
            "Test Loss: 0.2550, Test Acc: 0.9139, Test Latency: 5.37s, Test Memory Usage: 0.19MB\n",
            "Saving best model ...\n",
            "\n",
            "Epoch 104\n"
          ]
        },
        {
          "name": "stderr",
          "output_type": "stream",
          "text": [
            "Train: 100%|##########| 391/391 [00:40<00:00,  9.62batch/s]\n"
          ]
        },
        {
          "name": "stdout",
          "output_type": "stream",
          "text": [
            "LR: 1.0000e-03, Train Loss: 0.1352, Train Acc: 0.9569, Train Latency: 40.67s, Memory Usage: 3.04MB\n",
            "Test Loss: 0.2466, Test Acc: 0.9172, Test Latency: 5.37s, Test Memory Usage: 0.19MB\n",
            "Saving best model ...\n",
            "\n",
            "Epoch 105\n"
          ]
        },
        {
          "name": "stderr",
          "output_type": "stream",
          "text": [
            "Train: 100%|##########| 391/391 [00:40<00:00,  9.63batch/s]\n"
          ]
        },
        {
          "name": "stdout",
          "output_type": "stream",
          "text": [
            "LR: 1.0000e-03, Train Loss: 0.1305, Train Acc: 0.9591, Train Latency: 40.62s, Memory Usage: 3.04MB\n",
            "Test Loss: 0.2512, Test Acc: 0.9146, Test Latency: 5.41s, Test Memory Usage: 0.19MB\n",
            "\n",
            "Epoch 106\n"
          ]
        },
        {
          "name": "stderr",
          "output_type": "stream",
          "text": [
            "Train: 100%|##########| 391/391 [00:40<00:00,  9.65batch/s]\n"
          ]
        },
        {
          "name": "stdout",
          "output_type": "stream",
          "text": [
            "LR: 1.0000e-03, Train Loss: 0.1251, Train Acc: 0.9606, Train Latency: 40.54s, Memory Usage: 3.04MB\n",
            "Test Loss: 0.2464, Test Acc: 0.9182, Test Latency: 5.44s, Test Memory Usage: 0.19MB\n",
            "Saving best model ...\n",
            "\n",
            "Epoch 107\n"
          ]
        },
        {
          "name": "stderr",
          "output_type": "stream",
          "text": [
            "Train: 100%|##########| 391/391 [00:40<00:00,  9.64batch/s]\n"
          ]
        },
        {
          "name": "stdout",
          "output_type": "stream",
          "text": [
            "LR: 1.0000e-03, Train Loss: 0.1254, Train Acc: 0.9607, Train Latency: 40.56s, Memory Usage: 3.04MB\n",
            "Test Loss: 0.2480, Test Acc: 0.9169, Test Latency: 5.46s, Test Memory Usage: 0.19MB\n",
            "\n",
            "Epoch 108\n"
          ]
        },
        {
          "name": "stderr",
          "output_type": "stream",
          "text": [
            "Train: 100%|##########| 391/391 [00:40<00:00,  9.60batch/s]\n"
          ]
        },
        {
          "name": "stdout",
          "output_type": "stream",
          "text": [
            "LR: 1.0000e-03, Train Loss: 0.1222, Train Acc: 0.9616, Train Latency: 40.74s, Memory Usage: 3.04MB\n",
            "Test Loss: 0.2494, Test Acc: 0.9170, Test Latency: 5.42s, Test Memory Usage: 0.19MB\n",
            "\n",
            "Epoch 109\n"
          ]
        },
        {
          "name": "stderr",
          "output_type": "stream",
          "text": [
            "Train: 100%|##########| 391/391 [00:40<00:00,  9.60batch/s]\n"
          ]
        },
        {
          "name": "stdout",
          "output_type": "stream",
          "text": [
            "LR: 1.0000e-03, Train Loss: 0.1187, Train Acc: 0.9629, Train Latency: 40.74s, Memory Usage: 3.04MB\n",
            "Test Loss: 0.2485, Test Acc: 0.9171, Test Latency: 5.40s, Test Memory Usage: 0.19MB\n",
            "\n",
            "Epoch 110\n"
          ]
        },
        {
          "name": "stderr",
          "output_type": "stream",
          "text": [
            "Train: 100%|##########| 391/391 [00:40<00:00,  9.59batch/s]\n"
          ]
        },
        {
          "name": "stdout",
          "output_type": "stream",
          "text": [
            "LR: 1.0000e-03, Train Loss: 0.1187, Train Acc: 0.9622, Train Latency: 40.76s, Memory Usage: 3.04MB\n",
            "Test Loss: 0.2468, Test Acc: 0.9166, Test Latency: 5.40s, Test Memory Usage: 0.19MB\n",
            "\n",
            "Epoch 111\n"
          ]
        },
        {
          "name": "stderr",
          "output_type": "stream",
          "text": [
            "Train: 100%|##########| 391/391 [00:40<00:00,  9.64batch/s]\n"
          ]
        },
        {
          "name": "stdout",
          "output_type": "stream",
          "text": [
            "LR: 1.0000e-03, Train Loss: 0.1159, Train Acc: 0.9638, Train Latency: 40.58s, Memory Usage: 3.04MB\n",
            "Test Loss: 0.2457, Test Acc: 0.9166, Test Latency: 5.40s, Test Memory Usage: 0.19MB\n",
            "\n",
            "Epoch 112\n"
          ]
        },
        {
          "name": "stderr",
          "output_type": "stream",
          "text": [
            "Train: 100%|##########| 391/391 [00:40<00:00,  9.63batch/s]\n"
          ]
        },
        {
          "name": "stdout",
          "output_type": "stream",
          "text": [
            "LR: 1.0000e-03, Train Loss: 0.1111, Train Acc: 0.9657, Train Latency: 40.62s, Memory Usage: 3.04MB\n",
            "Test Loss: 0.2500, Test Acc: 0.9175, Test Latency: 5.40s, Test Memory Usage: 0.19MB\n",
            "\n",
            "Epoch 113\n"
          ]
        },
        {
          "name": "stderr",
          "output_type": "stream",
          "text": [
            "Train: 100%|##########| 391/391 [00:40<00:00,  9.67batch/s]\n"
          ]
        },
        {
          "name": "stdout",
          "output_type": "stream",
          "text": [
            "LR: 1.0000e-03, Train Loss: 0.1098, Train Acc: 0.9654, Train Latency: 40.45s, Memory Usage: 3.04MB\n",
            "Test Loss: 0.2526, Test Acc: 0.9172, Test Latency: 5.36s, Test Memory Usage: 0.19MB\n",
            "\n",
            "Epoch 114\n"
          ]
        },
        {
          "name": "stderr",
          "output_type": "stream",
          "text": [
            "Train: 100%|##########| 391/391 [00:40<00:00,  9.64batch/s]\n"
          ]
        },
        {
          "name": "stdout",
          "output_type": "stream",
          "text": [
            "LR: 1.0000e-03, Train Loss: 0.1080, Train Acc: 0.9660, Train Latency: 40.58s, Memory Usage: 3.04MB\n",
            "Test Loss: 0.2526, Test Acc: 0.9165, Test Latency: 5.39s, Test Memory Usage: 0.19MB\n",
            "\n",
            "Epoch 115\n"
          ]
        },
        {
          "name": "stderr",
          "output_type": "stream",
          "text": [
            "Train: 100%|##########| 391/391 [00:40<00:00,  9.65batch/s]\n"
          ]
        },
        {
          "name": "stdout",
          "output_type": "stream",
          "text": [
            "LR: 1.0000e-03, Train Loss: 0.1050, Train Acc: 0.9673, Train Latency: 40.52s, Memory Usage: 3.04MB\n",
            "Test Loss: 0.2557, Test Acc: 0.9144, Test Latency: 5.37s, Test Memory Usage: 0.19MB\n",
            "\n",
            "Epoch 116\n"
          ]
        },
        {
          "name": "stderr",
          "output_type": "stream",
          "text": [
            "Train: 100%|##########| 391/391 [00:40<00:00,  9.63batch/s]\n"
          ]
        },
        {
          "name": "stdout",
          "output_type": "stream",
          "text": [
            "LR: 1.0000e-03, Train Loss: 0.1086, Train Acc: 0.9652, Train Latency: 40.59s, Memory Usage: 3.04MB\n",
            "Test Loss: 0.2534, Test Acc: 0.9167, Test Latency: 5.36s, Test Memory Usage: 0.19MB\n",
            "\n",
            "Epoch 117\n"
          ]
        },
        {
          "name": "stderr",
          "output_type": "stream",
          "text": [
            "Train: 100%|##########| 391/391 [00:40<00:00,  9.61batch/s]\n"
          ]
        },
        {
          "name": "stdout",
          "output_type": "stream",
          "text": [
            "LR: 1.0000e-03, Train Loss: 0.1056, Train Acc: 0.9665, Train Latency: 40.71s, Memory Usage: 3.04MB\n",
            "Test Loss: 0.2539, Test Acc: 0.9141, Test Latency: 5.39s, Test Memory Usage: 0.19MB\n",
            "\n",
            "Epoch 118\n"
          ]
        },
        {
          "name": "stderr",
          "output_type": "stream",
          "text": [
            "Train: 100%|##########| 391/391 [00:40<00:00,  9.62batch/s]\n"
          ]
        },
        {
          "name": "stdout",
          "output_type": "stream",
          "text": [
            "LR: 1.0000e-03, Train Loss: 0.1052, Train Acc: 0.9667, Train Latency: 40.64s, Memory Usage: 3.04MB\n",
            "Test Loss: 0.2532, Test Acc: 0.9150, Test Latency: 5.39s, Test Memory Usage: 0.19MB\n",
            "\n",
            "Epoch 119\n"
          ]
        },
        {
          "name": "stderr",
          "output_type": "stream",
          "text": [
            "Train: 100%|##########| 391/391 [00:40<00:00,  9.66batch/s]\n"
          ]
        },
        {
          "name": "stdout",
          "output_type": "stream",
          "text": [
            "LR: 1.0000e-03, Train Loss: 0.1024, Train Acc: 0.9680, Train Latency: 40.48s, Memory Usage: 3.04MB\n",
            "Test Loss: 0.2514, Test Acc: 0.9200, Test Latency: 5.39s, Test Memory Usage: 0.19MB\n",
            "Saving best model ...\n",
            "\n",
            "Epoch 120\n"
          ]
        },
        {
          "name": "stderr",
          "output_type": "stream",
          "text": [
            "Train: 100%|##########| 391/391 [00:40<00:00,  9.67batch/s]\n"
          ]
        },
        {
          "name": "stdout",
          "output_type": "stream",
          "text": [
            "LR: 1.0000e-03, Train Loss: 0.1017, Train Acc: 0.9681, Train Latency: 40.45s, Memory Usage: 3.04MB\n",
            "Test Loss: 0.2553, Test Acc: 0.9177, Test Latency: 5.36s, Test Memory Usage: 0.19MB\n",
            "\n",
            "Epoch 121\n"
          ]
        },
        {
          "name": "stderr",
          "output_type": "stream",
          "text": [
            "Train: 100%|##########| 391/391 [00:40<00:00,  9.63batch/s]\n"
          ]
        },
        {
          "name": "stdout",
          "output_type": "stream",
          "text": [
            "LR: 1.0000e-03, Train Loss: 0.0982, Train Acc: 0.9698, Train Latency: 40.62s, Memory Usage: 3.04MB\n",
            "Test Loss: 0.2604, Test Acc: 0.9138, Test Latency: 5.41s, Test Memory Usage: 0.19MB\n",
            "\n",
            "Epoch 122\n"
          ]
        },
        {
          "name": "stderr",
          "output_type": "stream",
          "text": [
            "Train: 100%|##########| 391/391 [00:40<00:00,  9.62batch/s]\n"
          ]
        },
        {
          "name": "stdout",
          "output_type": "stream",
          "text": [
            "LR: 1.0000e-03, Train Loss: 0.0986, Train Acc: 0.9694, Train Latency: 40.65s, Memory Usage: 3.04MB\n",
            "Test Loss: 0.2569, Test Acc: 0.9159, Test Latency: 5.43s, Test Memory Usage: 0.19MB\n",
            "\n",
            "Epoch 123\n"
          ]
        },
        {
          "name": "stderr",
          "output_type": "stream",
          "text": [
            "Train: 100%|##########| 391/391 [00:40<00:00,  9.62batch/s]\n"
          ]
        },
        {
          "name": "stdout",
          "output_type": "stream",
          "text": [
            "LR: 1.0000e-03, Train Loss: 0.1007, Train Acc: 0.9683, Train Latency: 40.67s, Memory Usage: 3.04MB\n",
            "Test Loss: 0.2548, Test Acc: 0.9172, Test Latency: 5.40s, Test Memory Usage: 0.19MB\n",
            "\n",
            "Epoch 124\n"
          ]
        },
        {
          "name": "stderr",
          "output_type": "stream",
          "text": [
            "Train: 100%|##########| 391/391 [00:40<00:00,  9.62batch/s]\n"
          ]
        },
        {
          "name": "stdout",
          "output_type": "stream",
          "text": [
            "LR: 1.0000e-03, Train Loss: 0.0967, Train Acc: 0.9703, Train Latency: 40.64s, Memory Usage: 3.04MB\n",
            "Test Loss: 0.2603, Test Acc: 0.9144, Test Latency: 5.41s, Test Memory Usage: 0.19MB\n",
            "\n",
            "Epoch 125\n"
          ]
        },
        {
          "name": "stderr",
          "output_type": "stream",
          "text": [
            "Train: 100%|##########| 391/391 [00:40<00:00,  9.71batch/s]\n"
          ]
        },
        {
          "name": "stdout",
          "output_type": "stream",
          "text": [
            "LR: 1.0000e-03, Train Loss: 0.0966, Train Acc: 0.9704, Train Latency: 40.29s, Memory Usage: 3.04MB\n",
            "Test Loss: 0.2563, Test Acc: 0.9167, Test Latency: 5.42s, Test Memory Usage: 0.19MB\n",
            "\n",
            "Epoch 126\n"
          ]
        },
        {
          "name": "stderr",
          "output_type": "stream",
          "text": [
            "Train: 100%|##########| 391/391 [00:40<00:00,  9.68batch/s]\n"
          ]
        },
        {
          "name": "stdout",
          "output_type": "stream",
          "text": [
            "LR: 1.0000e-03, Train Loss: 0.0924, Train Acc: 0.9719, Train Latency: 40.41s, Memory Usage: 3.04MB\n",
            "Test Loss: 0.2492, Test Acc: 0.9194, Test Latency: 5.33s, Test Memory Usage: 0.19MB\n",
            "\n",
            "Epoch 127\n"
          ]
        },
        {
          "name": "stderr",
          "output_type": "stream",
          "text": [
            "Train: 100%|##########| 391/391 [00:40<00:00,  9.62batch/s]\n"
          ]
        },
        {
          "name": "stdout",
          "output_type": "stream",
          "text": [
            "LR: 1.0000e-03, Train Loss: 0.0923, Train Acc: 0.9710, Train Latency: 40.63s, Memory Usage: 3.04MB\n",
            "Test Loss: 0.2563, Test Acc: 0.9152, Test Latency: 5.40s, Test Memory Usage: 0.19MB\n",
            "\n",
            "Epoch 128\n"
          ]
        },
        {
          "name": "stderr",
          "output_type": "stream",
          "text": [
            "Train: 100%|##########| 391/391 [00:40<00:00,  9.62batch/s]\n"
          ]
        },
        {
          "name": "stdout",
          "output_type": "stream",
          "text": [
            "LR: 1.0000e-03, Train Loss: 0.0936, Train Acc: 0.9708, Train Latency: 40.65s, Memory Usage: 3.04MB\n",
            "Test Loss: 0.2546, Test Acc: 0.9164, Test Latency: 5.40s, Test Memory Usage: 0.19MB\n",
            "\n",
            "Epoch 129\n"
          ]
        },
        {
          "name": "stderr",
          "output_type": "stream",
          "text": [
            "Train: 100%|##########| 391/391 [00:40<00:00,  9.57batch/s]\n"
          ]
        },
        {
          "name": "stdout",
          "output_type": "stream",
          "text": [
            "LR: 1.0000e-03, Train Loss: 0.0927, Train Acc: 0.9711, Train Latency: 40.86s, Memory Usage: 3.04MB\n",
            "Test Loss: 0.2681, Test Acc: 0.9135, Test Latency: 5.37s, Test Memory Usage: 0.19MB\n",
            "\n",
            "Epoch 130\n"
          ]
        },
        {
          "name": "stderr",
          "output_type": "stream",
          "text": [
            "Train: 100%|##########| 391/391 [00:40<00:00,  9.62batch/s]\n"
          ]
        },
        {
          "name": "stdout",
          "output_type": "stream",
          "text": [
            "LR: 1.0000e-03, Train Loss: 0.0933, Train Acc: 0.9711, Train Latency: 40.66s, Memory Usage: 3.04MB\n",
            "Test Loss: 0.2634, Test Acc: 0.9152, Test Latency: 5.43s, Test Memory Usage: 0.19MB\n",
            "\n",
            "Epoch 131\n"
          ]
        },
        {
          "name": "stderr",
          "output_type": "stream",
          "text": [
            "Train: 100%|##########| 391/391 [00:41<00:00,  9.53batch/s]\n"
          ]
        },
        {
          "name": "stdout",
          "output_type": "stream",
          "text": [
            "LR: 1.0000e-03, Train Loss: 0.0917, Train Acc: 0.9713, Train Latency: 41.03s, Memory Usage: 3.04MB\n",
            "Test Loss: 0.2667, Test Acc: 0.9127, Test Latency: 5.47s, Test Memory Usage: 0.19MB\n",
            "\n",
            "Epoch 132\n"
          ]
        },
        {
          "name": "stderr",
          "output_type": "stream",
          "text": [
            "Train: 100%|##########| 391/391 [00:40<00:00,  9.58batch/s]\n"
          ]
        },
        {
          "name": "stdout",
          "output_type": "stream",
          "text": [
            "LR: 1.0000e-03, Train Loss: 0.0920, Train Acc: 0.9712, Train Latency: 40.83s, Memory Usage: 3.04MB\n",
            "Test Loss: 0.2605, Test Acc: 0.9170, Test Latency: 5.42s, Test Memory Usage: 0.19MB\n",
            "\n",
            "Epoch 133\n"
          ]
        },
        {
          "name": "stderr",
          "output_type": "stream",
          "text": [
            "Train: 100%|##########| 391/391 [00:40<00:00,  9.56batch/s]\n"
          ]
        },
        {
          "name": "stdout",
          "output_type": "stream",
          "text": [
            "LR: 1.0000e-03, Train Loss: 0.0878, Train Acc: 0.9725, Train Latency: 40.92s, Memory Usage: 3.04MB\n",
            "Test Loss: 0.2579, Test Acc: 0.9165, Test Latency: 5.48s, Test Memory Usage: 0.19MB\n",
            "\n",
            "Epoch 134\n"
          ]
        },
        {
          "name": "stderr",
          "output_type": "stream",
          "text": [
            "Train: 100%|##########| 391/391 [00:41<00:00,  9.52batch/s]\n"
          ]
        },
        {
          "name": "stdout",
          "output_type": "stream",
          "text": [
            "LR: 1.0000e-03, Train Loss: 0.0899, Train Acc: 0.9725, Train Latency: 41.06s, Memory Usage: 3.04MB\n",
            "Test Loss: 0.2675, Test Acc: 0.9155, Test Latency: 5.44s, Test Memory Usage: 0.19MB\n",
            "\n",
            "Epoch 135\n"
          ]
        },
        {
          "name": "stderr",
          "output_type": "stream",
          "text": [
            "Train: 100%|##########| 391/391 [00:40<00:00,  9.56batch/s]\n"
          ]
        },
        {
          "name": "stdout",
          "output_type": "stream",
          "text": [
            "LR: 1.0000e-03, Train Loss: 0.0890, Train Acc: 0.9719, Train Latency: 40.90s, Memory Usage: 3.04MB\n",
            "Test Loss: 0.2768, Test Acc: 0.9129, Test Latency: 5.42s, Test Memory Usage: 0.19MB\n",
            "\n",
            "Epoch 136\n"
          ]
        },
        {
          "name": "stderr",
          "output_type": "stream",
          "text": [
            "Train: 100%|##########| 391/391 [00:41<00:00,  9.48batch/s]\n"
          ]
        },
        {
          "name": "stdout",
          "output_type": "stream",
          "text": [
            "LR: 1.0000e-03, Train Loss: 0.0868, Train Acc: 0.9729, Train Latency: 41.27s, Memory Usage: 3.04MB\n",
            "Test Loss: 0.2653, Test Acc: 0.9148, Test Latency: 5.50s, Test Memory Usage: 0.19MB\n",
            "\n",
            "Epoch 137\n"
          ]
        },
        {
          "name": "stderr",
          "output_type": "stream",
          "text": [
            "Train: 100%|##########| 391/391 [00:41<00:00,  9.47batch/s]\n"
          ]
        },
        {
          "name": "stdout",
          "output_type": "stream",
          "text": [
            "LR: 1.0000e-03, Train Loss: 0.0858, Train Acc: 0.9729, Train Latency: 41.31s, Memory Usage: 3.04MB\n",
            "Test Loss: 0.2598, Test Acc: 0.9170, Test Latency: 5.54s, Test Memory Usage: 0.19MB\n",
            "\n",
            "Epoch 138\n"
          ]
        },
        {
          "name": "stderr",
          "output_type": "stream",
          "text": [
            "Train: 100%|##########| 391/391 [00:41<00:00,  9.45batch/s]\n"
          ]
        },
        {
          "name": "stdout",
          "output_type": "stream",
          "text": [
            "LR: 1.0000e-03, Train Loss: 0.0877, Train Acc: 0.9737, Train Latency: 41.40s, Memory Usage: 3.04MB\n",
            "Test Loss: 0.2799, Test Acc: 0.9122, Test Latency: 5.48s, Test Memory Usage: 0.19MB\n",
            "\n",
            "Epoch 139\n"
          ]
        },
        {
          "name": "stderr",
          "output_type": "stream",
          "text": [
            "Train: 100%|##########| 391/391 [00:40<00:00,  9.58batch/s]\n"
          ]
        },
        {
          "name": "stdout",
          "output_type": "stream",
          "text": [
            "LR: 1.0000e-03, Train Loss: 0.0868, Train Acc: 0.9728, Train Latency: 40.80s, Memory Usage: 3.04MB\n",
            "Test Loss: 0.2744, Test Acc: 0.9124, Test Latency: 5.37s, Test Memory Usage: 0.19MB\n",
            "\n",
            "Epoch 140\n"
          ]
        },
        {
          "name": "stderr",
          "output_type": "stream",
          "text": [
            "Train: 100%|##########| 391/391 [00:40<00:00,  9.60batch/s]\n"
          ]
        },
        {
          "name": "stdout",
          "output_type": "stream",
          "text": [
            "LR: 1.0000e-03, Train Loss: 0.0872, Train Acc: 0.9729, Train Latency: 40.72s, Memory Usage: 3.04MB\n",
            "Test Loss: 0.2623, Test Acc: 0.9140, Test Latency: 5.40s, Test Memory Usage: 0.19MB\n",
            "\n",
            "Epoch 141\n"
          ]
        },
        {
          "name": "stderr",
          "output_type": "stream",
          "text": [
            "Train: 100%|##########| 391/391 [00:40<00:00,  9.62batch/s]\n"
          ]
        },
        {
          "name": "stdout",
          "output_type": "stream",
          "text": [
            "LR: 1.0000e-03, Train Loss: 0.0862, Train Acc: 0.9736, Train Latency: 40.64s, Memory Usage: 3.04MB\n",
            "Test Loss: 0.2667, Test Acc: 0.9141, Test Latency: 5.38s, Test Memory Usage: 0.19MB\n",
            "\n",
            "Epoch 142\n"
          ]
        },
        {
          "name": "stderr",
          "output_type": "stream",
          "text": [
            "Train: 100%|##########| 391/391 [00:40<00:00,  9.65batch/s]\n"
          ]
        },
        {
          "name": "stdout",
          "output_type": "stream",
          "text": [
            "LR: 1.0000e-03, Train Loss: 0.0840, Train Acc: 0.9741, Train Latency: 40.52s, Memory Usage: 3.04MB\n",
            "Test Loss: 0.2704, Test Acc: 0.9149, Test Latency: 5.37s, Test Memory Usage: 0.19MB\n",
            "\n",
            "Epoch 143\n"
          ]
        },
        {
          "name": "stderr",
          "output_type": "stream",
          "text": [
            "Train: 100%|##########| 391/391 [00:40<00:00,  9.68batch/s]\n"
          ]
        },
        {
          "name": "stdout",
          "output_type": "stream",
          "text": [
            "LR: 1.0000e-03, Train Loss: 0.0876, Train Acc: 0.9725, Train Latency: 40.40s, Memory Usage: 3.04MB\n",
            "Test Loss: 0.2791, Test Acc: 0.9139, Test Latency: 5.40s, Test Memory Usage: 0.19MB\n",
            "\n",
            "Epoch 144\n"
          ]
        },
        {
          "name": "stderr",
          "output_type": "stream",
          "text": [
            "Train: 100%|##########| 391/391 [00:40<00:00,  9.72batch/s]\n"
          ]
        },
        {
          "name": "stdout",
          "output_type": "stream",
          "text": [
            "LR: 1.0000e-03, Train Loss: 0.0850, Train Acc: 0.9731, Train Latency: 40.24s, Memory Usage: 3.04MB\n",
            "Test Loss: 0.2646, Test Acc: 0.9154, Test Latency: 5.37s, Test Memory Usage: 0.19MB\n",
            "\n",
            "Epoch 145\n"
          ]
        },
        {
          "name": "stderr",
          "output_type": "stream",
          "text": [
            "Train: 100%|##########| 391/391 [00:40<00:00,  9.67batch/s]\n"
          ]
        },
        {
          "name": "stdout",
          "output_type": "stream",
          "text": [
            "LR: 1.0000e-03, Train Loss: 0.0831, Train Acc: 0.9740, Train Latency: 40.42s, Memory Usage: 3.04MB\n",
            "Test Loss: 0.2698, Test Acc: 0.9134, Test Latency: 5.41s, Test Memory Usage: 0.19MB\n",
            "\n",
            "Epoch 146\n"
          ]
        },
        {
          "name": "stderr",
          "output_type": "stream",
          "text": [
            "Train: 100%|##########| 391/391 [00:40<00:00,  9.64batch/s]\n"
          ]
        },
        {
          "name": "stdout",
          "output_type": "stream",
          "text": [
            "LR: 1.0000e-03, Train Loss: 0.0841, Train Acc: 0.9743, Train Latency: 40.57s, Memory Usage: 3.04MB\n",
            "Test Loss: 0.2679, Test Acc: 0.9142, Test Latency: 5.39s, Test Memory Usage: 0.19MB\n",
            "\n",
            "Epoch 147\n"
          ]
        },
        {
          "name": "stderr",
          "output_type": "stream",
          "text": [
            "Train: 100%|##########| 391/391 [00:40<00:00,  9.61batch/s]\n"
          ]
        },
        {
          "name": "stdout",
          "output_type": "stream",
          "text": [
            "LR: 1.0000e-03, Train Loss: 0.0808, Train Acc: 0.9752, Train Latency: 40.70s, Memory Usage: 3.04MB\n",
            "Test Loss: 0.2778, Test Acc: 0.9146, Test Latency: 5.41s, Test Memory Usage: 0.19MB\n",
            "\n",
            "Epoch 148\n"
          ]
        },
        {
          "name": "stderr",
          "output_type": "stream",
          "text": [
            "Train: 100%|##########| 391/391 [00:40<00:00,  9.64batch/s]\n"
          ]
        },
        {
          "name": "stdout",
          "output_type": "stream",
          "text": [
            "LR: 1.0000e-03, Train Loss: 0.0835, Train Acc: 0.9739, Train Latency: 40.58s, Memory Usage: 3.04MB\n",
            "Test Loss: 0.2644, Test Acc: 0.9131, Test Latency: 5.42s, Test Memory Usage: 0.19MB\n",
            "\n",
            "Epoch 149\n"
          ]
        },
        {
          "name": "stderr",
          "output_type": "stream",
          "text": [
            "Train: 100%|##########| 391/391 [00:40<00:00,  9.56batch/s]\n"
          ]
        },
        {
          "name": "stdout",
          "output_type": "stream",
          "text": [
            "LR: 1.0000e-03, Train Loss: 0.0802, Train Acc: 0.9754, Train Latency: 40.90s, Memory Usage: 3.04MB\n",
            "Test Loss: 0.2752, Test Acc: 0.9159, Test Latency: 5.38s, Test Memory Usage: 0.19MB\n",
            "\n",
            "Epoch 150\n"
          ]
        },
        {
          "name": "stderr",
          "output_type": "stream",
          "text": [
            "Train: 100%|##########| 391/391 [00:40<00:00,  9.58batch/s]\n"
          ]
        },
        {
          "name": "stdout",
          "output_type": "stream",
          "text": [
            "LR: 1.0000e-03, Train Loss: 0.0792, Train Acc: 0.9763, Train Latency: 40.80s, Memory Usage: 3.04MB\n",
            "Test Loss: 0.2765, Test Acc: 0.9102, Test Latency: 5.40s, Test Memory Usage: 0.19MB\n",
            "\n",
            "Epoch 151\n"
          ]
        },
        {
          "name": "stderr",
          "output_type": "stream",
          "text": [
            "Train: 100%|##########| 391/391 [00:40<00:00,  9.64batch/s]\n"
          ]
        },
        {
          "name": "stdout",
          "output_type": "stream",
          "text": [
            "LR: 1.0000e-04, Train Loss: 0.0775, Train Acc: 0.9764, Train Latency: 40.57s, Memory Usage: 3.04MB\n",
            "Test Loss: 0.2634, Test Acc: 0.9158, Test Latency: 5.37s, Test Memory Usage: 0.19MB\n",
            "\n",
            "Epoch 152\n"
          ]
        },
        {
          "name": "stderr",
          "output_type": "stream",
          "text": [
            "Train: 100%|##########| 391/391 [00:40<00:00,  9.66batch/s]\n"
          ]
        },
        {
          "name": "stdout",
          "output_type": "stream",
          "text": [
            "LR: 1.0000e-04, Train Loss: 0.0777, Train Acc: 0.9769, Train Latency: 40.50s, Memory Usage: 3.04MB\n",
            "Test Loss: 0.2678, Test Acc: 0.9173, Test Latency: 5.39s, Test Memory Usage: 0.19MB\n",
            "\n",
            "Epoch 153\n"
          ]
        },
        {
          "name": "stderr",
          "output_type": "stream",
          "text": [
            "Train: 100%|##########| 391/391 [00:40<00:00,  9.65batch/s]\n"
          ]
        },
        {
          "name": "stdout",
          "output_type": "stream",
          "text": [
            "LR: 1.0000e-04, Train Loss: 0.0755, Train Acc: 0.9774, Train Latency: 40.51s, Memory Usage: 3.04MB\n",
            "Test Loss: 0.2653, Test Acc: 0.9166, Test Latency: 5.42s, Test Memory Usage: 0.19MB\n",
            "\n",
            "Epoch 154\n"
          ]
        },
        {
          "name": "stderr",
          "output_type": "stream",
          "text": [
            "Train: 100%|##########| 391/391 [00:40<00:00,  9.63batch/s]\n"
          ]
        },
        {
          "name": "stdout",
          "output_type": "stream",
          "text": [
            "LR: 1.0000e-04, Train Loss: 0.0712, Train Acc: 0.9792, Train Latency: 40.61s, Memory Usage: 3.04MB\n",
            "Test Loss: 0.2620, Test Acc: 0.9165, Test Latency: 5.38s, Test Memory Usage: 0.19MB\n",
            "\n",
            "Epoch 155\n"
          ]
        },
        {
          "name": "stderr",
          "output_type": "stream",
          "text": [
            "Train: 100%|##########| 391/391 [00:40<00:00,  9.63batch/s]\n"
          ]
        },
        {
          "name": "stdout",
          "output_type": "stream",
          "text": [
            "LR: 1.0000e-04, Train Loss: 0.0705, Train Acc: 0.9795, Train Latency: 40.62s, Memory Usage: 3.04MB\n",
            "Test Loss: 0.2581, Test Acc: 0.9168, Test Latency: 5.41s, Test Memory Usage: 0.19MB\n",
            "\n",
            "Epoch 156\n"
          ]
        },
        {
          "name": "stderr",
          "output_type": "stream",
          "text": [
            "Train: 100%|##########| 391/391 [00:40<00:00,  9.62batch/s]\n"
          ]
        },
        {
          "name": "stdout",
          "output_type": "stream",
          "text": [
            "LR: 1.0000e-04, Train Loss: 0.0681, Train Acc: 0.9807, Train Latency: 40.64s, Memory Usage: 3.04MB\n",
            "Test Loss: 0.2561, Test Acc: 0.9174, Test Latency: 5.38s, Test Memory Usage: 0.19MB\n",
            "\n",
            "Epoch 157\n"
          ]
        },
        {
          "name": "stderr",
          "output_type": "stream",
          "text": [
            "Train: 100%|##########| 391/391 [00:40<00:00,  9.66batch/s]\n"
          ]
        },
        {
          "name": "stdout",
          "output_type": "stream",
          "text": [
            "LR: 1.0000e-04, Train Loss: 0.0671, Train Acc: 0.9805, Train Latency: 40.50s, Memory Usage: 3.04MB\n",
            "Test Loss: 0.2579, Test Acc: 0.9176, Test Latency: 5.40s, Test Memory Usage: 0.19MB\n",
            "\n",
            "Epoch 158\n"
          ]
        },
        {
          "name": "stderr",
          "output_type": "stream",
          "text": [
            "Train: 100%|##########| 391/391 [00:40<00:00,  9.62batch/s]\n"
          ]
        },
        {
          "name": "stdout",
          "output_type": "stream",
          "text": [
            "LR: 1.0000e-04, Train Loss: 0.0652, Train Acc: 0.9820, Train Latency: 40.64s, Memory Usage: 3.04MB\n",
            "Test Loss: 0.2587, Test Acc: 0.9166, Test Latency: 5.36s, Test Memory Usage: 0.19MB\n",
            "\n",
            "Epoch 159\n"
          ]
        },
        {
          "name": "stderr",
          "output_type": "stream",
          "text": [
            "Train: 100%|##########| 391/391 [00:40<00:00,  9.62batch/s]\n"
          ]
        },
        {
          "name": "stdout",
          "output_type": "stream",
          "text": [
            "LR: 1.0000e-04, Train Loss: 0.0658, Train Acc: 0.9813, Train Latency: 40.64s, Memory Usage: 3.04MB\n",
            "Test Loss: 0.2606, Test Acc: 0.9168, Test Latency: 5.35s, Test Memory Usage: 0.19MB\n",
            "\n",
            "Epoch 160\n"
          ]
        },
        {
          "name": "stderr",
          "output_type": "stream",
          "text": [
            "Train: 100%|##########| 391/391 [00:40<00:00,  9.60batch/s]\n"
          ]
        },
        {
          "name": "stdout",
          "output_type": "stream",
          "text": [
            "LR: 1.0000e-04, Train Loss: 0.0657, Train Acc: 0.9818, Train Latency: 40.72s, Memory Usage: 3.04MB\n",
            "Test Loss: 0.2595, Test Acc: 0.9178, Test Latency: 5.47s, Test Memory Usage: 0.19MB\n",
            "\n",
            "Epoch 161\n"
          ]
        },
        {
          "name": "stderr",
          "output_type": "stream",
          "text": [
            "Train: 100%|##########| 391/391 [00:40<00:00,  9.59batch/s]\n"
          ]
        },
        {
          "name": "stdout",
          "output_type": "stream",
          "text": [
            "LR: 1.0000e-04, Train Loss: 0.0630, Train Acc: 0.9826, Train Latency: 40.77s, Memory Usage: 3.04MB\n",
            "Test Loss: 0.2605, Test Acc: 0.9181, Test Latency: 5.40s, Test Memory Usage: 0.19MB\n",
            "\n",
            "Epoch 162\n"
          ]
        },
        {
          "name": "stderr",
          "output_type": "stream",
          "text": [
            "Train: 100%|##########| 391/391 [00:40<00:00,  9.61batch/s]\n"
          ]
        },
        {
          "name": "stdout",
          "output_type": "stream",
          "text": [
            "LR: 1.0000e-04, Train Loss: 0.0649, Train Acc: 0.9811, Train Latency: 40.69s, Memory Usage: 3.04MB\n",
            "Test Loss: 0.2602, Test Acc: 0.9187, Test Latency: 5.38s, Test Memory Usage: 0.19MB\n",
            "\n",
            "Epoch 163\n"
          ]
        },
        {
          "name": "stderr",
          "output_type": "stream",
          "text": [
            "Train: 100%|##########| 391/391 [00:40<00:00,  9.58batch/s]\n"
          ]
        },
        {
          "name": "stdout",
          "output_type": "stream",
          "text": [
            "LR: 1.0000e-04, Train Loss: 0.0661, Train Acc: 0.9815, Train Latency: 40.82s, Memory Usage: 3.04MB\n",
            "Test Loss: 0.2656, Test Acc: 0.9166, Test Latency: 5.42s, Test Memory Usage: 0.19MB\n",
            "\n",
            "Epoch 164\n"
          ]
        },
        {
          "name": "stderr",
          "output_type": "stream",
          "text": [
            "Train: 100%|##########| 391/391 [00:40<00:00,  9.58batch/s]\n"
          ]
        },
        {
          "name": "stdout",
          "output_type": "stream",
          "text": [
            "LR: 1.0000e-04, Train Loss: 0.0666, Train Acc: 0.9812, Train Latency: 40.84s, Memory Usage: 3.04MB\n",
            "Test Loss: 0.2630, Test Acc: 0.9170, Test Latency: 5.42s, Test Memory Usage: 0.19MB\n",
            "\n",
            "Epoch 165\n"
          ]
        },
        {
          "name": "stderr",
          "output_type": "stream",
          "text": [
            "Train: 100%|##########| 391/391 [00:40<00:00,  9.58batch/s]\n"
          ]
        },
        {
          "name": "stdout",
          "output_type": "stream",
          "text": [
            "LR: 1.0000e-04, Train Loss: 0.0656, Train Acc: 0.9814, Train Latency: 40.81s, Memory Usage: 3.04MB\n",
            "Test Loss: 0.2624, Test Acc: 0.9171, Test Latency: 5.43s, Test Memory Usage: 0.19MB\n",
            "\n",
            "Epoch 166\n"
          ]
        },
        {
          "name": "stderr",
          "output_type": "stream",
          "text": [
            "Train: 100%|##########| 391/391 [00:40<00:00,  9.62batch/s]\n"
          ]
        },
        {
          "name": "stdout",
          "output_type": "stream",
          "text": [
            "LR: 1.0000e-04, Train Loss: 0.0647, Train Acc: 0.9814, Train Latency: 40.64s, Memory Usage: 3.04MB\n",
            "Test Loss: 0.2577, Test Acc: 0.9167, Test Latency: 5.40s, Test Memory Usage: 0.19MB\n",
            "\n",
            "Epoch 167\n"
          ]
        },
        {
          "name": "stderr",
          "output_type": "stream",
          "text": [
            "Train: 100%|##########| 391/391 [00:40<00:00,  9.59batch/s]\n"
          ]
        },
        {
          "name": "stdout",
          "output_type": "stream",
          "text": [
            "LR: 1.0000e-04, Train Loss: 0.0659, Train Acc: 0.9811, Train Latency: 40.77s, Memory Usage: 3.04MB\n",
            "Test Loss: 0.2579, Test Acc: 0.9194, Test Latency: 5.37s, Test Memory Usage: 0.19MB\n",
            "\n",
            "Epoch 168\n"
          ]
        },
        {
          "name": "stderr",
          "output_type": "stream",
          "text": [
            "Train: 100%|##########| 391/391 [00:40<00:00,  9.62batch/s]\n"
          ]
        },
        {
          "name": "stdout",
          "output_type": "stream",
          "text": [
            "LR: 1.0000e-04, Train Loss: 0.0678, Train Acc: 0.9805, Train Latency: 40.63s, Memory Usage: 3.04MB\n",
            "Test Loss: 0.2589, Test Acc: 0.9175, Test Latency: 5.39s, Test Memory Usage: 0.19MB\n",
            "\n",
            "Epoch 169\n"
          ]
        },
        {
          "name": "stderr",
          "output_type": "stream",
          "text": [
            "Train: 100%|##########| 391/391 [00:40<00:00,  9.60batch/s]\n"
          ]
        },
        {
          "name": "stdout",
          "output_type": "stream",
          "text": [
            "LR: 1.0000e-04, Train Loss: 0.0675, Train Acc: 0.9806, Train Latency: 40.72s, Memory Usage: 3.04MB\n",
            "Test Loss: 0.2595, Test Acc: 0.9195, Test Latency: 5.43s, Test Memory Usage: 0.19MB\n",
            "\n",
            "Epoch 170\n"
          ]
        },
        {
          "name": "stderr",
          "output_type": "stream",
          "text": [
            "Train: 100%|##########| 391/391 [00:40<00:00,  9.65batch/s]\n"
          ]
        },
        {
          "name": "stdout",
          "output_type": "stream",
          "text": [
            "LR: 1.0000e-04, Train Loss: 0.0667, Train Acc: 0.9816, Train Latency: 40.53s, Memory Usage: 3.04MB\n",
            "Test Loss: 0.2630, Test Acc: 0.9177, Test Latency: 5.40s, Test Memory Usage: 0.19MB\n",
            "\n",
            "Epoch 171\n"
          ]
        },
        {
          "name": "stderr",
          "output_type": "stream",
          "text": [
            "Train: 100%|##########| 391/391 [00:40<00:00,  9.63batch/s]\n"
          ]
        },
        {
          "name": "stdout",
          "output_type": "stream",
          "text": [
            "LR: 1.0000e-04, Train Loss: 0.0660, Train Acc: 0.9816, Train Latency: 40.62s, Memory Usage: 3.04MB\n",
            "Test Loss: 0.2592, Test Acc: 0.9183, Test Latency: 5.41s, Test Memory Usage: 0.19MB\n",
            "\n",
            "Epoch 172\n"
          ]
        },
        {
          "name": "stderr",
          "output_type": "stream",
          "text": [
            "Train: 100%|##########| 391/391 [00:40<00:00,  9.63batch/s]\n"
          ]
        },
        {
          "name": "stdout",
          "output_type": "stream",
          "text": [
            "LR: 1.0000e-04, Train Loss: 0.0645, Train Acc: 0.9818, Train Latency: 40.60s, Memory Usage: 3.04MB\n",
            "Test Loss: 0.2610, Test Acc: 0.9196, Test Latency: 5.43s, Test Memory Usage: 0.19MB\n",
            "\n",
            "Epoch 173\n"
          ]
        },
        {
          "name": "stderr",
          "output_type": "stream",
          "text": [
            "Train: 100%|##########| 391/391 [00:40<00:00,  9.63batch/s]\n"
          ]
        },
        {
          "name": "stdout",
          "output_type": "stream",
          "text": [
            "LR: 1.0000e-04, Train Loss: 0.0657, Train Acc: 0.9811, Train Latency: 40.60s, Memory Usage: 3.04MB\n",
            "Test Loss: 0.2620, Test Acc: 0.9194, Test Latency: 5.40s, Test Memory Usage: 0.19MB\n",
            "\n",
            "Epoch 174\n"
          ]
        },
        {
          "name": "stderr",
          "output_type": "stream",
          "text": [
            "Train: 100%|##########| 391/391 [00:40<00:00,  9.64batch/s]\n"
          ]
        },
        {
          "name": "stdout",
          "output_type": "stream",
          "text": [
            "LR: 1.0000e-04, Train Loss: 0.0636, Train Acc: 0.9826, Train Latency: 40.55s, Memory Usage: 3.04MB\n",
            "Test Loss: 0.2602, Test Acc: 0.9183, Test Latency: 5.38s, Test Memory Usage: 0.19MB\n",
            "\n",
            "Epoch 175\n"
          ]
        },
        {
          "name": "stderr",
          "output_type": "stream",
          "text": [
            "Train: 100%|##########| 391/391 [00:40<00:00,  9.63batch/s]\n"
          ]
        },
        {
          "name": "stdout",
          "output_type": "stream",
          "text": [
            "LR: 1.0000e-04, Train Loss: 0.0647, Train Acc: 0.9809, Train Latency: 40.59s, Memory Usage: 3.04MB\n",
            "Test Loss: 0.2621, Test Acc: 0.9158, Test Latency: 5.38s, Test Memory Usage: 0.19MB\n",
            "\n",
            "Epoch 176\n"
          ]
        },
        {
          "name": "stderr",
          "output_type": "stream",
          "text": [
            "Train: 100%|##########| 391/391 [00:40<00:00,  9.65batch/s]\n"
          ]
        },
        {
          "name": "stdout",
          "output_type": "stream",
          "text": [
            "LR: 1.0000e-04, Train Loss: 0.0611, Train Acc: 0.9837, Train Latency: 40.53s, Memory Usage: 3.04MB\n",
            "Test Loss: 0.2624, Test Acc: 0.9154, Test Latency: 5.41s, Test Memory Usage: 0.19MB\n",
            "\n",
            "Epoch 177\n"
          ]
        },
        {
          "name": "stderr",
          "output_type": "stream",
          "text": [
            "Train: 100%|##########| 391/391 [00:40<00:00,  9.64batch/s]\n"
          ]
        },
        {
          "name": "stdout",
          "output_type": "stream",
          "text": [
            "LR: 1.0000e-04, Train Loss: 0.0649, Train Acc: 0.9819, Train Latency: 40.58s, Memory Usage: 3.04MB\n",
            "Test Loss: 0.2692, Test Acc: 0.9141, Test Latency: 5.46s, Test Memory Usage: 0.19MB\n",
            "\n",
            "Epoch 178\n"
          ]
        },
        {
          "name": "stderr",
          "output_type": "stream",
          "text": [
            "Train: 100%|##########| 391/391 [00:40<00:00,  9.61batch/s]\n"
          ]
        },
        {
          "name": "stdout",
          "output_type": "stream",
          "text": [
            "LR: 1.0000e-04, Train Loss: 0.0639, Train Acc: 0.9819, Train Latency: 40.71s, Memory Usage: 3.04MB\n",
            "Test Loss: 0.2655, Test Acc: 0.9162, Test Latency: 5.37s, Test Memory Usage: 0.19MB\n",
            "\n",
            "Epoch 179\n"
          ]
        },
        {
          "name": "stderr",
          "output_type": "stream",
          "text": [
            "Train: 100%|##########| 391/391 [00:40<00:00,  9.59batch/s]\n"
          ]
        },
        {
          "name": "stdout",
          "output_type": "stream",
          "text": [
            "LR: 1.0000e-04, Train Loss: 0.0632, Train Acc: 0.9828, Train Latency: 40.79s, Memory Usage: 3.04MB\n",
            "Test Loss: 0.2639, Test Acc: 0.9173, Test Latency: 5.41s, Test Memory Usage: 0.19MB\n",
            "\n",
            "Epoch 180\n"
          ]
        },
        {
          "name": "stderr",
          "output_type": "stream",
          "text": [
            "Train: 100%|##########| 391/391 [00:40<00:00,  9.62batch/s]\n"
          ]
        },
        {
          "name": "stdout",
          "output_type": "stream",
          "text": [
            "LR: 1.0000e-04, Train Loss: 0.0635, Train Acc: 0.9822, Train Latency: 40.64s, Memory Usage: 3.04MB\n",
            "Test Loss: 0.2622, Test Acc: 0.9191, Test Latency: 5.41s, Test Memory Usage: 0.19MB\n",
            "\n",
            "Epoch 181\n"
          ]
        },
        {
          "name": "stderr",
          "output_type": "stream",
          "text": [
            "Train: 100%|##########| 391/391 [00:40<00:00,  9.58batch/s]\n"
          ]
        },
        {
          "name": "stdout",
          "output_type": "stream",
          "text": [
            "LR: 1.0000e-04, Train Loss: 0.0640, Train Acc: 0.9815, Train Latency: 40.82s, Memory Usage: 3.04MB\n",
            "Test Loss: 0.2636, Test Acc: 0.9166, Test Latency: 5.38s, Test Memory Usage: 0.19MB\n",
            "\n",
            "Epoch 182\n"
          ]
        },
        {
          "name": "stderr",
          "output_type": "stream",
          "text": [
            "Train: 100%|##########| 391/391 [00:40<00:00,  9.59batch/s]\n"
          ]
        },
        {
          "name": "stdout",
          "output_type": "stream",
          "text": [
            "LR: 1.0000e-04, Train Loss: 0.0635, Train Acc: 0.9821, Train Latency: 40.78s, Memory Usage: 3.04MB\n",
            "Test Loss: 0.2611, Test Acc: 0.9172, Test Latency: 5.37s, Test Memory Usage: 0.19MB\n",
            "\n",
            "Epoch 183\n"
          ]
        },
        {
          "name": "stderr",
          "output_type": "stream",
          "text": [
            "Train: 100%|##########| 391/391 [00:40<00:00,  9.61batch/s]\n"
          ]
        },
        {
          "name": "stdout",
          "output_type": "stream",
          "text": [
            "LR: 1.0000e-04, Train Loss: 0.0641, Train Acc: 0.9820, Train Latency: 40.70s, Memory Usage: 3.04MB\n",
            "Test Loss: 0.2644, Test Acc: 0.9185, Test Latency: 5.39s, Test Memory Usage: 0.19MB\n",
            "\n",
            "Epoch 184\n"
          ]
        },
        {
          "name": "stderr",
          "output_type": "stream",
          "text": [
            "Train: 100%|##########| 391/391 [00:40<00:00,  9.55batch/s]\n"
          ]
        },
        {
          "name": "stdout",
          "output_type": "stream",
          "text": [
            "LR: 1.0000e-04, Train Loss: 0.0650, Train Acc: 0.9815, Train Latency: 40.96s, Memory Usage: 3.04MB\n",
            "Test Loss: 0.2650, Test Acc: 0.9169, Test Latency: 5.40s, Test Memory Usage: 0.19MB\n",
            "\n",
            "Epoch 185\n"
          ]
        },
        {
          "name": "stderr",
          "output_type": "stream",
          "text": [
            "Train: 100%|##########| 391/391 [00:40<00:00,  9.62batch/s]\n"
          ]
        },
        {
          "name": "stdout",
          "output_type": "stream",
          "text": [
            "LR: 1.0000e-04, Train Loss: 0.0642, Train Acc: 0.9817, Train Latency: 40.66s, Memory Usage: 3.04MB\n",
            "Test Loss: 0.2685, Test Acc: 0.9153, Test Latency: 5.44s, Test Memory Usage: 0.19MB\n",
            "\n",
            "Epoch 186\n"
          ]
        },
        {
          "name": "stderr",
          "output_type": "stream",
          "text": [
            "Train: 100%|##########| 391/391 [00:40<00:00,  9.61batch/s]\n"
          ]
        },
        {
          "name": "stdout",
          "output_type": "stream",
          "text": [
            "LR: 1.0000e-04, Train Loss: 0.0671, Train Acc: 0.9804, Train Latency: 40.69s, Memory Usage: 3.04MB\n",
            "Test Loss: 0.2608, Test Acc: 0.9197, Test Latency: 5.45s, Test Memory Usage: 0.19MB\n",
            "\n",
            "Epoch 187\n"
          ]
        },
        {
          "name": "stderr",
          "output_type": "stream",
          "text": [
            "Train: 100%|##########| 391/391 [00:41<00:00,  9.54batch/s]\n"
          ]
        },
        {
          "name": "stdout",
          "output_type": "stream",
          "text": [
            "LR: 1.0000e-04, Train Loss: 0.0622, Train Acc: 0.9828, Train Latency: 41.01s, Memory Usage: 3.04MB\n",
            "Test Loss: 0.2622, Test Acc: 0.9176, Test Latency: 5.43s, Test Memory Usage: 0.19MB\n",
            "\n",
            "Epoch 188\n"
          ]
        },
        {
          "name": "stderr",
          "output_type": "stream",
          "text": [
            "Train: 100%|##########| 391/391 [00:40<00:00,  9.62batch/s]\n"
          ]
        },
        {
          "name": "stdout",
          "output_type": "stream",
          "text": [
            "LR: 1.0000e-04, Train Loss: 0.0632, Train Acc: 0.9819, Train Latency: 40.64s, Memory Usage: 3.04MB\n",
            "Test Loss: 0.2642, Test Acc: 0.9178, Test Latency: 5.38s, Test Memory Usage: 0.19MB\n",
            "\n",
            "Epoch 189\n"
          ]
        },
        {
          "name": "stderr",
          "output_type": "stream",
          "text": [
            "Train: 100%|##########| 391/391 [00:40<00:00,  9.66batch/s]\n"
          ]
        },
        {
          "name": "stdout",
          "output_type": "stream",
          "text": [
            "LR: 1.0000e-04, Train Loss: 0.0621, Train Acc: 0.9833, Train Latency: 40.49s, Memory Usage: 3.04MB\n",
            "Test Loss: 0.2716, Test Acc: 0.9145, Test Latency: 5.43s, Test Memory Usage: 0.19MB\n",
            "\n",
            "Epoch 190\n"
          ]
        },
        {
          "name": "stderr",
          "output_type": "stream",
          "text": [
            "Train: 100%|##########| 391/391 [00:40<00:00,  9.65batch/s]\n"
          ]
        },
        {
          "name": "stdout",
          "output_type": "stream",
          "text": [
            "LR: 1.0000e-04, Train Loss: 0.0662, Train Acc: 0.9813, Train Latency: 40.54s, Memory Usage: 3.04MB\n",
            "Test Loss: 0.2684, Test Acc: 0.9168, Test Latency: 5.37s, Test Memory Usage: 0.19MB\n",
            "\n",
            "Epoch 191\n"
          ]
        },
        {
          "name": "stderr",
          "output_type": "stream",
          "text": [
            "Train: 100%|##########| 391/391 [00:40<00:00,  9.62batch/s]\n"
          ]
        },
        {
          "name": "stdout",
          "output_type": "stream",
          "text": [
            "LR: 1.0000e-04, Train Loss: 0.0669, Train Acc: 0.9809, Train Latency: 40.64s, Memory Usage: 3.04MB\n",
            "Test Loss: 0.2622, Test Acc: 0.9182, Test Latency: 5.42s, Test Memory Usage: 0.19MB\n",
            "\n",
            "Epoch 192\n"
          ]
        },
        {
          "name": "stderr",
          "output_type": "stream",
          "text": [
            "Train: 100%|##########| 391/391 [00:40<00:00,  9.61batch/s]\n"
          ]
        },
        {
          "name": "stdout",
          "output_type": "stream",
          "text": [
            "LR: 1.0000e-04, Train Loss: 0.0653, Train Acc: 0.9819, Train Latency: 40.68s, Memory Usage: 3.04MB\n",
            "Test Loss: 0.2668, Test Acc: 0.9169, Test Latency: 5.37s, Test Memory Usage: 0.19MB\n",
            "\n",
            "Epoch 193\n"
          ]
        },
        {
          "name": "stderr",
          "output_type": "stream",
          "text": [
            "Train: 100%|##########| 391/391 [00:40<00:00,  9.65batch/s]\n"
          ]
        },
        {
          "name": "stdout",
          "output_type": "stream",
          "text": [
            "LR: 1.0000e-04, Train Loss: 0.0633, Train Acc: 0.9825, Train Latency: 40.54s, Memory Usage: 3.04MB\n",
            "Test Loss: 0.2623, Test Acc: 0.9190, Test Latency: 5.39s, Test Memory Usage: 0.19MB\n",
            "\n",
            "Epoch 194\n"
          ]
        },
        {
          "name": "stderr",
          "output_type": "stream",
          "text": [
            "Train: 100%|##########| 391/391 [00:40<00:00,  9.61batch/s]\n"
          ]
        },
        {
          "name": "stdout",
          "output_type": "stream",
          "text": [
            "LR: 1.0000e-04, Train Loss: 0.0591, Train Acc: 0.9849, Train Latency: 40.71s, Memory Usage: 3.04MB\n",
            "Test Loss: 0.2670, Test Acc: 0.9181, Test Latency: 5.40s, Test Memory Usage: 0.19MB\n",
            "\n",
            "Epoch 195\n"
          ]
        },
        {
          "name": "stderr",
          "output_type": "stream",
          "text": [
            "Train: 100%|##########| 391/391 [00:40<00:00,  9.64batch/s]\n"
          ]
        },
        {
          "name": "stdout",
          "output_type": "stream",
          "text": [
            "LR: 1.0000e-04, Train Loss: 0.0606, Train Acc: 0.9835, Train Latency: 40.55s, Memory Usage: 3.04MB\n",
            "Test Loss: 0.2643, Test Acc: 0.9165, Test Latency: 5.36s, Test Memory Usage: 0.19MB\n",
            "\n",
            "Epoch 196\n"
          ]
        },
        {
          "name": "stderr",
          "output_type": "stream",
          "text": [
            "Train: 100%|##########| 391/391 [00:40<00:00,  9.64batch/s]\n"
          ]
        },
        {
          "name": "stdout",
          "output_type": "stream",
          "text": [
            "LR: 1.0000e-04, Train Loss: 0.0613, Train Acc: 0.9828, Train Latency: 40.58s, Memory Usage: 3.04MB\n",
            "Test Loss: 0.2641, Test Acc: 0.9165, Test Latency: 5.45s, Test Memory Usage: 0.19MB\n",
            "\n",
            "Epoch 197\n"
          ]
        },
        {
          "name": "stderr",
          "output_type": "stream",
          "text": [
            "Train: 100%|##########| 391/391 [00:40<00:00,  9.65batch/s]\n"
          ]
        },
        {
          "name": "stdout",
          "output_type": "stream",
          "text": [
            "LR: 1.0000e-04, Train Loss: 0.0624, Train Acc: 0.9822, Train Latency: 40.53s, Memory Usage: 3.04MB\n",
            "Test Loss: 0.2639, Test Acc: 0.9179, Test Latency: 5.37s, Test Memory Usage: 0.19MB\n",
            "\n",
            "Epoch 198\n"
          ]
        },
        {
          "name": "stderr",
          "output_type": "stream",
          "text": [
            "Train: 100%|##########| 391/391 [00:40<00:00,  9.66batch/s]\n"
          ]
        },
        {
          "name": "stdout",
          "output_type": "stream",
          "text": [
            "LR: 1.0000e-04, Train Loss: 0.0631, Train Acc: 0.9826, Train Latency: 40.47s, Memory Usage: 3.04MB\n",
            "Test Loss: 0.2644, Test Acc: 0.9179, Test Latency: 5.34s, Test Memory Usage: 0.19MB\n",
            "\n",
            "Epoch 199\n"
          ]
        },
        {
          "name": "stderr",
          "output_type": "stream",
          "text": [
            "Train: 100%|##########| 391/391 [00:40<00:00,  9.61batch/s]\n"
          ]
        },
        {
          "name": "stdout",
          "output_type": "stream",
          "text": [
            "LR: 1.0000e-04, Train Loss: 0.0631, Train Acc: 0.9820, Train Latency: 40.71s, Memory Usage: 3.04MB\n",
            "Test Loss: 0.2611, Test Acc: 0.9178, Test Latency: 5.36s, Test Memory Usage: 0.19MB\n",
            "\n",
            "Epoch 200\n"
          ]
        },
        {
          "name": "stderr",
          "output_type": "stream",
          "text": [
            "Train: 100%|##########| 391/391 [00:40<00:00,  9.63batch/s]\n"
          ]
        },
        {
          "name": "stdout",
          "output_type": "stream",
          "text": [
            "LR: 1.0000e-04, Train Loss: 0.0607, Train Acc: 0.9829, Train Latency: 40.63s, Memory Usage: 3.04MB\n",
            "Test Loss: 0.2651, Test Acc: 0.9186, Test Latency: 5.38s, Test Memory Usage: 0.19MB\n",
            "Saving final epoch model ...\n",
            "\n",
            "Quantization: weight=2 activation=None, Using device: cuda\n",
            "\n",
            "Epoch 1\n"
          ]
        },
        {
          "name": "stderr",
          "output_type": "stream",
          "text": [
            "Train: 100%|##########| 391/391 [00:34<00:00, 11.47batch/s]\n"
          ]
        },
        {
          "name": "stdout",
          "output_type": "stream",
          "text": [
            "LR: 1.0000e-01, Train Loss: 1.8189, Train Acc: 0.3178, Train Latency: 34.08s, Memory Usage: 3.04MB\n",
            "Test Loss: 2.1015, Test Acc: 0.3435, Test Latency: 4.24s, Test Memory Usage: 0.19MB\n",
            "\n",
            "Epoch 2\n"
          ]
        },
        {
          "name": "stderr",
          "output_type": "stream",
          "text": [
            "Train: 100%|##########| 391/391 [00:34<00:00, 11.48batch/s]\n"
          ]
        },
        {
          "name": "stdout",
          "output_type": "stream",
          "text": [
            "LR: 1.0000e-01, Train Loss: 1.2675, Train Acc: 0.5355, Train Latency: 34.05s, Memory Usage: 3.04MB\n",
            "Test Loss: 1.4332, Test Acc: 0.5215, Test Latency: 4.16s, Test Memory Usage: 0.19MB\n",
            "\n",
            "Epoch 3\n"
          ]
        },
        {
          "name": "stderr",
          "output_type": "stream",
          "text": [
            "Train: 100%|##########| 391/391 [00:34<00:00, 11.49batch/s]\n"
          ]
        },
        {
          "name": "stdout",
          "output_type": "stream",
          "text": [
            "LR: 1.0000e-01, Train Loss: 1.0571, Train Acc: 0.6213, Train Latency: 34.04s, Memory Usage: 3.04MB\n",
            "Test Loss: 2.3673, Test Acc: 0.3950, Test Latency: 4.19s, Test Memory Usage: 0.19MB\n",
            "\n",
            "Epoch 4\n"
          ]
        },
        {
          "name": "stderr",
          "output_type": "stream",
          "text": [
            "Train: 100%|##########| 391/391 [00:34<00:00, 11.46batch/s]\n"
          ]
        },
        {
          "name": "stdout",
          "output_type": "stream",
          "text": [
            "LR: 1.0000e-01, Train Loss: 0.9292, Train Acc: 0.6731, Train Latency: 34.12s, Memory Usage: 3.04MB\n",
            "Test Loss: 0.9162, Test Acc: 0.6845, Test Latency: 4.17s, Test Memory Usage: 0.19MB\n",
            "\n",
            "Epoch 5\n"
          ]
        },
        {
          "name": "stderr",
          "output_type": "stream",
          "text": [
            "Train: 100%|##########| 391/391 [00:34<00:00, 11.41batch/s]\n"
          ]
        },
        {
          "name": "stdout",
          "output_type": "stream",
          "text": [
            "LR: 1.0000e-01, Train Loss: 0.8428, Train Acc: 0.7069, Train Latency: 34.27s, Memory Usage: 3.04MB\n",
            "Test Loss: 1.0612, Test Acc: 0.6426, Test Latency: 4.21s, Test Memory Usage: 0.19MB\n",
            "\n",
            "Epoch 6\n"
          ]
        },
        {
          "name": "stderr",
          "output_type": "stream",
          "text": [
            "Train: 100%|##########| 391/391 [00:34<00:00, 11.42batch/s]\n"
          ]
        },
        {
          "name": "stdout",
          "output_type": "stream",
          "text": [
            "LR: 1.0000e-01, Train Loss: 0.7955, Train Acc: 0.7233, Train Latency: 34.23s, Memory Usage: 3.04MB\n",
            "Test Loss: 1.0966, Test Acc: 0.6367, Test Latency: 4.24s, Test Memory Usage: 0.19MB\n",
            "\n",
            "Epoch 7\n"
          ]
        },
        {
          "name": "stderr",
          "output_type": "stream",
          "text": [
            "Train: 100%|##########| 391/391 [00:34<00:00, 11.33batch/s]\n"
          ]
        },
        {
          "name": "stdout",
          "output_type": "stream",
          "text": [
            "LR: 1.0000e-01, Train Loss: 0.7587, Train Acc: 0.7392, Train Latency: 34.51s, Memory Usage: 3.04MB\n",
            "Test Loss: 1.0970, Test Acc: 0.6446, Test Latency: 4.30s, Test Memory Usage: 0.19MB\n",
            "\n",
            "Epoch 8\n"
          ]
        },
        {
          "name": "stderr",
          "output_type": "stream",
          "text": [
            "Train: 100%|##########| 391/391 [00:34<00:00, 11.29batch/s]\n"
          ]
        },
        {
          "name": "stdout",
          "output_type": "stream",
          "text": [
            "LR: 1.0000e-01, Train Loss: 0.7425, Train Acc: 0.7433, Train Latency: 34.63s, Memory Usage: 3.04MB\n",
            "Test Loss: 0.7958, Test Acc: 0.7189, Test Latency: 4.23s, Test Memory Usage: 0.19MB\n",
            "\n",
            "Epoch 9\n"
          ]
        },
        {
          "name": "stderr",
          "output_type": "stream",
          "text": [
            "Train: 100%|##########| 391/391 [00:34<00:00, 11.27batch/s]\n"
          ]
        },
        {
          "name": "stdout",
          "output_type": "stream",
          "text": [
            "LR: 1.0000e-01, Train Loss: 0.7217, Train Acc: 0.7505, Train Latency: 34.69s, Memory Usage: 3.04MB\n",
            "Test Loss: 1.4007, Test Acc: 0.5821, Test Latency: 4.24s, Test Memory Usage: 0.19MB\n",
            "\n",
            "Epoch 10\n"
          ]
        },
        {
          "name": "stderr",
          "output_type": "stream",
          "text": [
            "Train: 100%|##########| 391/391 [00:34<00:00, 11.28batch/s]\n"
          ]
        },
        {
          "name": "stdout",
          "output_type": "stream",
          "text": [
            "LR: 1.0000e-01, Train Loss: 0.7027, Train Acc: 0.7582, Train Latency: 34.68s, Memory Usage: 3.04MB\n",
            "Test Loss: 1.2288, Test Acc: 0.6271, Test Latency: 4.21s, Test Memory Usage: 0.19MB\n",
            "\n",
            "Epoch 11\n"
          ]
        },
        {
          "name": "stderr",
          "output_type": "stream",
          "text": [
            "Train: 100%|##########| 391/391 [00:34<00:00, 11.30batch/s]\n"
          ]
        },
        {
          "name": "stdout",
          "output_type": "stream",
          "text": [
            "LR: 1.0000e-01, Train Loss: 0.6943, Train Acc: 0.7608, Train Latency: 34.59s, Memory Usage: 3.04MB\n",
            "Test Loss: 1.1708, Test Acc: 0.6318, Test Latency: 4.26s, Test Memory Usage: 0.19MB\n",
            "\n",
            "Epoch 12\n"
          ]
        },
        {
          "name": "stderr",
          "output_type": "stream",
          "text": [
            "Train: 100%|##########| 391/391 [00:34<00:00, 11.20batch/s]\n"
          ]
        },
        {
          "name": "stdout",
          "output_type": "stream",
          "text": [
            "LR: 1.0000e-01, Train Loss: 0.6872, Train Acc: 0.7632, Train Latency: 34.93s, Memory Usage: 3.04MB\n",
            "Test Loss: 1.2945, Test Acc: 0.5831, Test Latency: 4.24s, Test Memory Usage: 0.19MB\n",
            "\n",
            "Epoch 13\n"
          ]
        },
        {
          "name": "stderr",
          "output_type": "stream",
          "text": [
            "Train: 100%|##########| 391/391 [00:34<00:00, 11.25batch/s]\n"
          ]
        },
        {
          "name": "stdout",
          "output_type": "stream",
          "text": [
            "LR: 1.0000e-01, Train Loss: 0.6846, Train Acc: 0.7649, Train Latency: 34.77s, Memory Usage: 3.04MB\n",
            "Test Loss: 0.9179, Test Acc: 0.6849, Test Latency: 4.30s, Test Memory Usage: 0.19MB\n",
            "\n",
            "Epoch 14\n"
          ]
        },
        {
          "name": "stderr",
          "output_type": "stream",
          "text": [
            "Train: 100%|##########| 391/391 [00:34<00:00, 11.21batch/s]\n"
          ]
        },
        {
          "name": "stdout",
          "output_type": "stream",
          "text": [
            "LR: 1.0000e-01, Train Loss: 0.6689, Train Acc: 0.7692, Train Latency: 34.87s, Memory Usage: 3.04MB\n",
            "Test Loss: 1.4031, Test Acc: 0.5928, Test Latency: 4.28s, Test Memory Usage: 0.19MB\n",
            "\n",
            "Epoch 15\n"
          ]
        },
        {
          "name": "stderr",
          "output_type": "stream",
          "text": [
            "Train: 100%|##########| 391/391 [00:34<00:00, 11.27batch/s]\n"
          ]
        },
        {
          "name": "stdout",
          "output_type": "stream",
          "text": [
            "LR: 1.0000e-01, Train Loss: 0.6656, Train Acc: 0.7725, Train Latency: 34.71s, Memory Usage: 3.04MB\n",
            "Test Loss: 1.0229, Test Acc: 0.6814, Test Latency: 4.22s, Test Memory Usage: 0.19MB\n",
            "\n",
            "Epoch 16\n"
          ]
        },
        {
          "name": "stderr",
          "output_type": "stream",
          "text": [
            "Train: 100%|##########| 391/391 [00:34<00:00, 11.41batch/s]\n"
          ]
        },
        {
          "name": "stdout",
          "output_type": "stream",
          "text": [
            "LR: 1.0000e-01, Train Loss: 0.6642, Train Acc: 0.7722, Train Latency: 34.29s, Memory Usage: 3.04MB\n",
            "Test Loss: 1.1193, Test Acc: 0.6618, Test Latency: 4.19s, Test Memory Usage: 0.19MB\n",
            "\n",
            "Epoch 17\n"
          ]
        },
        {
          "name": "stderr",
          "output_type": "stream",
          "text": [
            "Train: 100%|##########| 391/391 [00:34<00:00, 11.32batch/s]\n"
          ]
        },
        {
          "name": "stdout",
          "output_type": "stream",
          "text": [
            "LR: 1.0000e-01, Train Loss: 0.6534, Train Acc: 0.7743, Train Latency: 34.55s, Memory Usage: 3.04MB\n",
            "Test Loss: 0.9179, Test Acc: 0.6901, Test Latency: 4.21s, Test Memory Usage: 0.19MB\n",
            "\n",
            "Epoch 18\n"
          ]
        },
        {
          "name": "stderr",
          "output_type": "stream",
          "text": [
            "Train: 100%|##########| 391/391 [00:34<00:00, 11.36batch/s]\n"
          ]
        },
        {
          "name": "stdout",
          "output_type": "stream",
          "text": [
            "LR: 1.0000e-01, Train Loss: 0.6578, Train Acc: 0.7748, Train Latency: 34.43s, Memory Usage: 3.04MB\n",
            "Test Loss: 1.1376, Test Acc: 0.6390, Test Latency: 4.22s, Test Memory Usage: 0.19MB\n",
            "\n",
            "Epoch 19\n"
          ]
        },
        {
          "name": "stderr",
          "output_type": "stream",
          "text": [
            "Train: 100%|##########| 391/391 [00:34<00:00, 11.39batch/s]\n"
          ]
        },
        {
          "name": "stdout",
          "output_type": "stream",
          "text": [
            "LR: 1.0000e-01, Train Loss: 0.6524, Train Acc: 0.7753, Train Latency: 34.33s, Memory Usage: 3.04MB\n",
            "Test Loss: 1.1888, Test Acc: 0.6311, Test Latency: 4.17s, Test Memory Usage: 0.19MB\n",
            "\n",
            "Epoch 20\n"
          ]
        },
        {
          "name": "stderr",
          "output_type": "stream",
          "text": [
            "Train: 100%|##########| 391/391 [00:34<00:00, 11.33batch/s]\n"
          ]
        },
        {
          "name": "stdout",
          "output_type": "stream",
          "text": [
            "LR: 1.0000e-01, Train Loss: 0.6577, Train Acc: 0.7750, Train Latency: 34.52s, Memory Usage: 3.04MB\n",
            "Test Loss: 0.7068, Test Acc: 0.7565, Test Latency: 4.31s, Test Memory Usage: 0.19MB\n",
            "\n",
            "Epoch 21\n"
          ]
        },
        {
          "name": "stderr",
          "output_type": "stream",
          "text": [
            "Train: 100%|##########| 391/391 [00:34<00:00, 11.38batch/s]\n"
          ]
        },
        {
          "name": "stdout",
          "output_type": "stream",
          "text": [
            "LR: 1.0000e-01, Train Loss: 0.6526, Train Acc: 0.7772, Train Latency: 34.37s, Memory Usage: 3.04MB\n",
            "Test Loss: 0.8085, Test Acc: 0.7194, Test Latency: 4.29s, Test Memory Usage: 0.19MB\n",
            "\n",
            "Epoch 22\n"
          ]
        },
        {
          "name": "stderr",
          "output_type": "stream",
          "text": [
            "Train: 100%|##########| 391/391 [00:34<00:00, 11.26batch/s]\n"
          ]
        },
        {
          "name": "stdout",
          "output_type": "stream",
          "text": [
            "LR: 1.0000e-01, Train Loss: 0.6487, Train Acc: 0.7757, Train Latency: 34.72s, Memory Usage: 3.04MB\n",
            "Test Loss: 1.3893, Test Acc: 0.5889, Test Latency: 4.27s, Test Memory Usage: 0.19MB\n",
            "\n",
            "Epoch 23\n"
          ]
        },
        {
          "name": "stderr",
          "output_type": "stream",
          "text": [
            "Train: 100%|##########| 391/391 [00:34<00:00, 11.20batch/s]\n"
          ]
        },
        {
          "name": "stdout",
          "output_type": "stream",
          "text": [
            "LR: 1.0000e-01, Train Loss: 0.6398, Train Acc: 0.7792, Train Latency: 34.91s, Memory Usage: 3.04MB\n",
            "Test Loss: 1.2836, Test Acc: 0.6131, Test Latency: 4.26s, Test Memory Usage: 0.19MB\n",
            "\n",
            "Epoch 24\n"
          ]
        },
        {
          "name": "stderr",
          "output_type": "stream",
          "text": [
            "Train: 100%|##########| 391/391 [00:34<00:00, 11.21batch/s]\n"
          ]
        },
        {
          "name": "stdout",
          "output_type": "stream",
          "text": [
            "LR: 1.0000e-01, Train Loss: 0.6431, Train Acc: 0.7768, Train Latency: 34.88s, Memory Usage: 3.04MB\n",
            "Test Loss: 1.2010, Test Acc: 0.6434, Test Latency: 4.27s, Test Memory Usage: 0.19MB\n",
            "\n",
            "Epoch 25\n"
          ]
        },
        {
          "name": "stderr",
          "output_type": "stream",
          "text": [
            "Train: 100%|##########| 391/391 [00:34<00:00, 11.29batch/s]\n"
          ]
        },
        {
          "name": "stdout",
          "output_type": "stream",
          "text": [
            "LR: 1.0000e-01, Train Loss: 0.6417, Train Acc: 0.7796, Train Latency: 34.63s, Memory Usage: 3.04MB\n",
            "Test Loss: 1.1211, Test Acc: 0.6502, Test Latency: 4.23s, Test Memory Usage: 0.19MB\n",
            "\n",
            "Epoch 26\n"
          ]
        },
        {
          "name": "stderr",
          "output_type": "stream",
          "text": [
            "Train: 100%|##########| 391/391 [00:34<00:00, 11.29batch/s]\n"
          ]
        },
        {
          "name": "stdout",
          "output_type": "stream",
          "text": [
            "LR: 1.0000e-01, Train Loss: 0.6417, Train Acc: 0.7790, Train Latency: 34.63s, Memory Usage: 3.04MB\n",
            "Test Loss: 1.2596, Test Acc: 0.6364, Test Latency: 4.24s, Test Memory Usage: 0.19MB\n",
            "\n",
            "Epoch 27\n"
          ]
        },
        {
          "name": "stderr",
          "output_type": "stream",
          "text": [
            "Train: 100%|##########| 391/391 [00:34<00:00, 11.24batch/s]\n"
          ]
        },
        {
          "name": "stdout",
          "output_type": "stream",
          "text": [
            "LR: 1.0000e-01, Train Loss: 0.6293, Train Acc: 0.7847, Train Latency: 34.79s, Memory Usage: 3.04MB\n",
            "Test Loss: 0.9603, Test Acc: 0.6839, Test Latency: 4.25s, Test Memory Usage: 0.19MB\n",
            "\n",
            "Epoch 28\n"
          ]
        },
        {
          "name": "stderr",
          "output_type": "stream",
          "text": [
            "Train: 100%|##########| 391/391 [00:34<00:00, 11.27batch/s]\n"
          ]
        },
        {
          "name": "stdout",
          "output_type": "stream",
          "text": [
            "LR: 1.0000e-01, Train Loss: 0.6339, Train Acc: 0.7821, Train Latency: 34.70s, Memory Usage: 3.04MB\n",
            "Test Loss: 0.8073, Test Acc: 0.7238, Test Latency: 4.26s, Test Memory Usage: 0.19MB\n",
            "\n",
            "Epoch 29\n"
          ]
        },
        {
          "name": "stderr",
          "output_type": "stream",
          "text": [
            "Train: 100%|##########| 391/391 [00:34<00:00, 11.34batch/s]\n"
          ]
        },
        {
          "name": "stdout",
          "output_type": "stream",
          "text": [
            "LR: 1.0000e-01, Train Loss: 0.6373, Train Acc: 0.7807, Train Latency: 34.50s, Memory Usage: 3.04MB\n",
            "Test Loss: 1.0223, Test Acc: 0.6654, Test Latency: 4.26s, Test Memory Usage: 0.19MB\n",
            "\n",
            "Epoch 30\n"
          ]
        },
        {
          "name": "stderr",
          "output_type": "stream",
          "text": [
            "Train: 100%|##########| 391/391 [00:34<00:00, 11.35batch/s]\n"
          ]
        },
        {
          "name": "stdout",
          "output_type": "stream",
          "text": [
            "LR: 1.0000e-01, Train Loss: 0.6310, Train Acc: 0.7815, Train Latency: 34.44s, Memory Usage: 3.04MB\n",
            "Test Loss: 0.9700, Test Acc: 0.6757, Test Latency: 4.22s, Test Memory Usage: 0.19MB\n",
            "\n",
            "Epoch 31\n"
          ]
        },
        {
          "name": "stderr",
          "output_type": "stream",
          "text": [
            "Train: 100%|##########| 391/391 [00:34<00:00, 11.30batch/s]\n"
          ]
        },
        {
          "name": "stdout",
          "output_type": "stream",
          "text": [
            "LR: 1.0000e-01, Train Loss: 0.6320, Train Acc: 0.7834, Train Latency: 34.62s, Memory Usage: 3.04MB\n",
            "Test Loss: 1.0444, Test Acc: 0.6706, Test Latency: 4.17s, Test Memory Usage: 0.19MB\n",
            "\n",
            "Epoch 32\n"
          ]
        },
        {
          "name": "stderr",
          "output_type": "stream",
          "text": [
            "Train: 100%|##########| 391/391 [00:34<00:00, 11.42batch/s]\n"
          ]
        },
        {
          "name": "stdout",
          "output_type": "stream",
          "text": [
            "LR: 1.0000e-01, Train Loss: 0.6426, Train Acc: 0.7795, Train Latency: 34.25s, Memory Usage: 3.04MB\n",
            "Test Loss: 0.8440, Test Acc: 0.7252, Test Latency: 4.21s, Test Memory Usage: 0.19MB\n",
            "\n",
            "Epoch 33\n"
          ]
        },
        {
          "name": "stderr",
          "output_type": "stream",
          "text": [
            "Train: 100%|##########| 391/391 [00:34<00:00, 11.39batch/s]\n"
          ]
        },
        {
          "name": "stdout",
          "output_type": "stream",
          "text": [
            "LR: 1.0000e-01, Train Loss: 0.6331, Train Acc: 0.7821, Train Latency: 34.35s, Memory Usage: 3.04MB\n",
            "Test Loss: 1.0746, Test Acc: 0.6732, Test Latency: 4.20s, Test Memory Usage: 0.19MB\n",
            "\n",
            "Epoch 34\n"
          ]
        },
        {
          "name": "stderr",
          "output_type": "stream",
          "text": [
            "Train: 100%|##########| 391/391 [00:34<00:00, 11.39batch/s]\n"
          ]
        },
        {
          "name": "stdout",
          "output_type": "stream",
          "text": [
            "LR: 1.0000e-01, Train Loss: 0.6266, Train Acc: 0.7854, Train Latency: 34.33s, Memory Usage: 3.04MB\n",
            "Test Loss: 0.8870, Test Acc: 0.7045, Test Latency: 4.19s, Test Memory Usage: 0.19MB\n",
            "\n",
            "Epoch 35\n"
          ]
        },
        {
          "name": "stderr",
          "output_type": "stream",
          "text": [
            "Train: 100%|##########| 391/391 [00:34<00:00, 11.44batch/s]\n"
          ]
        },
        {
          "name": "stdout",
          "output_type": "stream",
          "text": [
            "LR: 1.0000e-01, Train Loss: 0.6225, Train Acc: 0.7874, Train Latency: 34.18s, Memory Usage: 3.04MB\n",
            "Test Loss: 1.2323, Test Acc: 0.6035, Test Latency: 4.22s, Test Memory Usage: 0.19MB\n",
            "\n",
            "Epoch 36\n"
          ]
        },
        {
          "name": "stderr",
          "output_type": "stream",
          "text": [
            "Train: 100%|##########| 391/391 [00:34<00:00, 11.43batch/s]\n"
          ]
        },
        {
          "name": "stdout",
          "output_type": "stream",
          "text": [
            "LR: 1.0000e-01, Train Loss: 0.6358, Train Acc: 0.7812, Train Latency: 34.22s, Memory Usage: 3.04MB\n",
            "Test Loss: 1.1762, Test Acc: 0.6270, Test Latency: 4.20s, Test Memory Usage: 0.19MB\n",
            "\n",
            "Epoch 37\n"
          ]
        },
        {
          "name": "stderr",
          "output_type": "stream",
          "text": [
            "Train: 100%|##########| 391/391 [00:34<00:00, 11.35batch/s]\n"
          ]
        },
        {
          "name": "stdout",
          "output_type": "stream",
          "text": [
            "LR: 1.0000e-01, Train Loss: 0.6303, Train Acc: 0.7823, Train Latency: 34.46s, Memory Usage: 3.04MB\n",
            "Test Loss: 0.9978, Test Acc: 0.6823, Test Latency: 4.20s, Test Memory Usage: 0.19MB\n",
            "\n",
            "Epoch 38\n"
          ]
        },
        {
          "name": "stderr",
          "output_type": "stream",
          "text": [
            "Train: 100%|##########| 391/391 [00:34<00:00, 11.36batch/s]\n"
          ]
        },
        {
          "name": "stdout",
          "output_type": "stream",
          "text": [
            "LR: 1.0000e-01, Train Loss: 0.6297, Train Acc: 0.7820, Train Latency: 34.43s, Memory Usage: 3.04MB\n",
            "Test Loss: 1.0297, Test Acc: 0.6608, Test Latency: 4.20s, Test Memory Usage: 0.19MB\n",
            "\n",
            "Epoch 39\n"
          ]
        },
        {
          "name": "stderr",
          "output_type": "stream",
          "text": [
            "Train: 100%|##########| 391/391 [00:34<00:00, 11.34batch/s]\n"
          ]
        },
        {
          "name": "stdout",
          "output_type": "stream",
          "text": [
            "LR: 1.0000e-01, Train Loss: 0.6293, Train Acc: 0.7847, Train Latency: 34.49s, Memory Usage: 3.04MB\n",
            "Test Loss: 1.2852, Test Acc: 0.6318, Test Latency: 4.21s, Test Memory Usage: 0.19MB\n",
            "\n",
            "Epoch 40\n"
          ]
        },
        {
          "name": "stderr",
          "output_type": "stream",
          "text": [
            "Train: 100%|##########| 391/391 [00:34<00:00, 11.36batch/s]\n"
          ]
        },
        {
          "name": "stdout",
          "output_type": "stream",
          "text": [
            "LR: 1.0000e-01, Train Loss: 0.6280, Train Acc: 0.7832, Train Latency: 34.43s, Memory Usage: 3.04MB\n",
            "Test Loss: 1.2357, Test Acc: 0.6196, Test Latency: 4.17s, Test Memory Usage: 0.19MB\n",
            "\n",
            "Epoch 41\n"
          ]
        },
        {
          "name": "stderr",
          "output_type": "stream",
          "text": [
            "Train: 100%|##########| 391/391 [00:34<00:00, 11.34batch/s]\n"
          ]
        },
        {
          "name": "stdout",
          "output_type": "stream",
          "text": [
            "LR: 1.0000e-01, Train Loss: 0.6292, Train Acc: 0.7842, Train Latency: 34.49s, Memory Usage: 3.04MB\n",
            "Test Loss: 1.0775, Test Acc: 0.6516, Test Latency: 4.25s, Test Memory Usage: 0.19MB\n",
            "\n",
            "Epoch 42\n"
          ]
        },
        {
          "name": "stderr",
          "output_type": "stream",
          "text": [
            "Train: 100%|##########| 391/391 [00:34<00:00, 11.38batch/s]\n"
          ]
        },
        {
          "name": "stdout",
          "output_type": "stream",
          "text": [
            "LR: 1.0000e-01, Train Loss: 0.6260, Train Acc: 0.7854, Train Latency: 34.36s, Memory Usage: 3.04MB\n",
            "Test Loss: 0.9172, Test Acc: 0.7123, Test Latency: 4.19s, Test Memory Usage: 0.19MB\n",
            "\n",
            "Epoch 43\n"
          ]
        },
        {
          "name": "stderr",
          "output_type": "stream",
          "text": [
            "Train: 100%|##########| 391/391 [00:34<00:00, 11.39batch/s]\n"
          ]
        },
        {
          "name": "stdout",
          "output_type": "stream",
          "text": [
            "LR: 1.0000e-01, Train Loss: 0.6274, Train Acc: 0.7835, Train Latency: 34.32s, Memory Usage: 3.04MB\n",
            "Test Loss: 0.9132, Test Acc: 0.7062, Test Latency: 4.22s, Test Memory Usage: 0.19MB\n",
            "\n",
            "Epoch 44\n"
          ]
        },
        {
          "name": "stderr",
          "output_type": "stream",
          "text": [
            "Train: 100%|##########| 391/391 [00:34<00:00, 11.43batch/s]\n"
          ]
        },
        {
          "name": "stdout",
          "output_type": "stream",
          "text": [
            "LR: 1.0000e-01, Train Loss: 0.6158, Train Acc: 0.7874, Train Latency: 34.21s, Memory Usage: 3.04MB\n",
            "Test Loss: 1.4526, Test Acc: 0.5779, Test Latency: 4.20s, Test Memory Usage: 0.19MB\n",
            "\n",
            "Epoch 45\n"
          ]
        },
        {
          "name": "stderr",
          "output_type": "stream",
          "text": [
            "Train: 100%|##########| 391/391 [00:34<00:00, 11.42batch/s]\n"
          ]
        },
        {
          "name": "stdout",
          "output_type": "stream",
          "text": [
            "LR: 1.0000e-01, Train Loss: 0.6205, Train Acc: 0.7862, Train Latency: 34.25s, Memory Usage: 3.04MB\n",
            "Test Loss: 1.0911, Test Acc: 0.6616, Test Latency: 4.29s, Test Memory Usage: 0.19MB\n",
            "\n",
            "Epoch 46\n"
          ]
        },
        {
          "name": "stderr",
          "output_type": "stream",
          "text": [
            "Train: 100%|##########| 391/391 [00:34<00:00, 11.43batch/s]\n"
          ]
        },
        {
          "name": "stdout",
          "output_type": "stream",
          "text": [
            "LR: 1.0000e-01, Train Loss: 0.6231, Train Acc: 0.7868, Train Latency: 34.21s, Memory Usage: 3.04MB\n",
            "Test Loss: 1.1114, Test Acc: 0.6411, Test Latency: 4.21s, Test Memory Usage: 0.19MB\n",
            "\n",
            "Epoch 47\n"
          ]
        },
        {
          "name": "stderr",
          "output_type": "stream",
          "text": [
            "Train: 100%|##########| 391/391 [00:34<00:00, 11.39batch/s]\n"
          ]
        },
        {
          "name": "stdout",
          "output_type": "stream",
          "text": [
            "LR: 1.0000e-01, Train Loss: 0.6247, Train Acc: 0.7871, Train Latency: 34.34s, Memory Usage: 3.04MB\n",
            "Test Loss: 0.8441, Test Acc: 0.7165, Test Latency: 4.24s, Test Memory Usage: 0.19MB\n",
            "\n",
            "Epoch 48\n"
          ]
        },
        {
          "name": "stderr",
          "output_type": "stream",
          "text": [
            "Train: 100%|##########| 391/391 [00:34<00:00, 11.39batch/s]\n"
          ]
        },
        {
          "name": "stdout",
          "output_type": "stream",
          "text": [
            "LR: 1.0000e-01, Train Loss: 0.6246, Train Acc: 0.7854, Train Latency: 34.34s, Memory Usage: 3.04MB\n",
            "Test Loss: 1.2418, Test Acc: 0.6015, Test Latency: 4.21s, Test Memory Usage: 0.19MB\n",
            "\n",
            "Epoch 49\n"
          ]
        },
        {
          "name": "stderr",
          "output_type": "stream",
          "text": [
            "Train: 100%|##########| 391/391 [00:34<00:00, 11.40batch/s]\n"
          ]
        },
        {
          "name": "stdout",
          "output_type": "stream",
          "text": [
            "LR: 1.0000e-01, Train Loss: 0.6210, Train Acc: 0.7874, Train Latency: 34.31s, Memory Usage: 3.04MB\n",
            "Test Loss: 0.9258, Test Acc: 0.7059, Test Latency: 4.18s, Test Memory Usage: 0.19MB\n",
            "\n",
            "Epoch 50\n"
          ]
        },
        {
          "name": "stderr",
          "output_type": "stream",
          "text": [
            "Train: 100%|##########| 391/391 [00:34<00:00, 11.39batch/s]\n"
          ]
        },
        {
          "name": "stdout",
          "output_type": "stream",
          "text": [
            "LR: 1.0000e-01, Train Loss: 0.6219, Train Acc: 0.7839, Train Latency: 34.33s, Memory Usage: 3.04MB\n",
            "Test Loss: 0.9484, Test Acc: 0.6939, Test Latency: 4.21s, Test Memory Usage: 0.19MB\n",
            "\n",
            "Epoch 51\n"
          ]
        },
        {
          "name": "stderr",
          "output_type": "stream",
          "text": [
            "Train: 100%|##########| 391/391 [00:34<00:00, 11.39batch/s]\n"
          ]
        },
        {
          "name": "stdout",
          "output_type": "stream",
          "text": [
            "LR: 1.0000e-02, Train Loss: 0.4365, Train Acc: 0.8522, Train Latency: 34.33s, Memory Usage: 3.04MB\n",
            "Test Loss: 0.4235, Test Acc: 0.8554, Test Latency: 4.16s, Test Memory Usage: 0.19MB\n",
            "Saving best model ...\n",
            "\n",
            "Epoch 52\n"
          ]
        },
        {
          "name": "stderr",
          "output_type": "stream",
          "text": [
            "Train: 100%|##########| 391/391 [00:34<00:00, 11.44batch/s]\n"
          ]
        },
        {
          "name": "stdout",
          "output_type": "stream",
          "text": [
            "LR: 1.0000e-02, Train Loss: 0.3837, Train Acc: 0.8691, Train Latency: 34.18s, Memory Usage: 3.04MB\n",
            "Test Loss: 0.3996, Test Acc: 0.8612, Test Latency: 4.23s, Test Memory Usage: 0.19MB\n",
            "Saving best model ...\n",
            "\n",
            "Epoch 53\n"
          ]
        },
        {
          "name": "stderr",
          "output_type": "stream",
          "text": [
            "Train: 100%|##########| 391/391 [00:34<00:00, 11.39batch/s]\n"
          ]
        },
        {
          "name": "stdout",
          "output_type": "stream",
          "text": [
            "LR: 1.0000e-02, Train Loss: 0.3648, Train Acc: 0.8751, Train Latency: 34.34s, Memory Usage: 3.04MB\n",
            "Test Loss: 0.4029, Test Acc: 0.8619, Test Latency: 4.19s, Test Memory Usage: 0.19MB\n",
            "Saving best model ...\n",
            "\n",
            "Epoch 54\n"
          ]
        },
        {
          "name": "stderr",
          "output_type": "stream",
          "text": [
            "Train: 100%|##########| 391/391 [00:34<00:00, 11.40batch/s]\n"
          ]
        },
        {
          "name": "stdout",
          "output_type": "stream",
          "text": [
            "LR: 1.0000e-02, Train Loss: 0.3552, Train Acc: 0.8793, Train Latency: 34.32s, Memory Usage: 3.04MB\n",
            "Test Loss: 0.4029, Test Acc: 0.8627, Test Latency: 4.20s, Test Memory Usage: 0.19MB\n",
            "Saving best model ...\n",
            "\n",
            "Epoch 55\n"
          ]
        },
        {
          "name": "stderr",
          "output_type": "stream",
          "text": [
            "Train: 100%|##########| 391/391 [00:34<00:00, 11.35batch/s]\n"
          ]
        },
        {
          "name": "stdout",
          "output_type": "stream",
          "text": [
            "LR: 1.0000e-02, Train Loss: 0.3447, Train Acc: 0.8820, Train Latency: 34.45s, Memory Usage: 3.04MB\n",
            "Test Loss: 0.5171, Test Acc: 0.8277, Test Latency: 4.16s, Test Memory Usage: 0.19MB\n",
            "\n",
            "Epoch 56\n"
          ]
        },
        {
          "name": "stderr",
          "output_type": "stream",
          "text": [
            "Train: 100%|##########| 391/391 [00:34<00:00, 11.38batch/s]\n"
          ]
        },
        {
          "name": "stdout",
          "output_type": "stream",
          "text": [
            "LR: 1.0000e-02, Train Loss: 0.3376, Train Acc: 0.8835, Train Latency: 34.35s, Memory Usage: 3.04MB\n",
            "Test Loss: 0.4096, Test Acc: 0.8598, Test Latency: 4.22s, Test Memory Usage: 0.19MB\n",
            "\n",
            "Epoch 57\n"
          ]
        },
        {
          "name": "stderr",
          "output_type": "stream",
          "text": [
            "Train: 100%|##########| 391/391 [00:34<00:00, 11.40batch/s]\n"
          ]
        },
        {
          "name": "stdout",
          "output_type": "stream",
          "text": [
            "LR: 1.0000e-02, Train Loss: 0.3341, Train Acc: 0.8857, Train Latency: 34.31s, Memory Usage: 3.04MB\n",
            "Test Loss: 0.4326, Test Acc: 0.8497, Test Latency: 4.20s, Test Memory Usage: 0.19MB\n",
            "\n",
            "Epoch 58\n"
          ]
        },
        {
          "name": "stderr",
          "output_type": "stream",
          "text": [
            "Train: 100%|##########| 391/391 [00:34<00:00, 11.39batch/s]\n"
          ]
        },
        {
          "name": "stdout",
          "output_type": "stream",
          "text": [
            "LR: 1.0000e-02, Train Loss: 0.3283, Train Acc: 0.8885, Train Latency: 34.33s, Memory Usage: 3.04MB\n",
            "Test Loss: 0.4108, Test Acc: 0.8615, Test Latency: 4.22s, Test Memory Usage: 0.19MB\n",
            "\n",
            "Epoch 59\n"
          ]
        },
        {
          "name": "stderr",
          "output_type": "stream",
          "text": [
            "Train: 100%|##########| 391/391 [00:34<00:00, 11.38batch/s]\n"
          ]
        },
        {
          "name": "stdout",
          "output_type": "stream",
          "text": [
            "LR: 1.0000e-02, Train Loss: 0.3246, Train Acc: 0.8903, Train Latency: 34.37s, Memory Usage: 3.04MB\n",
            "Test Loss: 0.4567, Test Acc: 0.8494, Test Latency: 4.17s, Test Memory Usage: 0.19MB\n",
            "\n",
            "Epoch 60\n"
          ]
        },
        {
          "name": "stderr",
          "output_type": "stream",
          "text": [
            "Train: 100%|##########| 391/391 [00:34<00:00, 11.40batch/s]\n"
          ]
        },
        {
          "name": "stdout",
          "output_type": "stream",
          "text": [
            "LR: 1.0000e-02, Train Loss: 0.3270, Train Acc: 0.8883, Train Latency: 34.30s, Memory Usage: 3.04MB\n",
            "Test Loss: 0.4276, Test Acc: 0.8612, Test Latency: 4.19s, Test Memory Usage: 0.19MB\n",
            "\n",
            "Epoch 61\n"
          ]
        },
        {
          "name": "stderr",
          "output_type": "stream",
          "text": [
            "Train: 100%|##########| 391/391 [00:34<00:00, 11.42batch/s]\n"
          ]
        },
        {
          "name": "stdout",
          "output_type": "stream",
          "text": [
            "LR: 1.0000e-02, Train Loss: 0.3297, Train Acc: 0.8849, Train Latency: 34.23s, Memory Usage: 3.04MB\n",
            "Test Loss: 0.4244, Test Acc: 0.8542, Test Latency: 4.21s, Test Memory Usage: 0.19MB\n",
            "\n",
            "Epoch 62\n"
          ]
        },
        {
          "name": "stderr",
          "output_type": "stream",
          "text": [
            "Train: 100%|##########| 391/391 [00:34<00:00, 11.40batch/s]\n"
          ]
        },
        {
          "name": "stdout",
          "output_type": "stream",
          "text": [
            "LR: 1.0000e-02, Train Loss: 0.3264, Train Acc: 0.8875, Train Latency: 34.30s, Memory Usage: 3.04MB\n",
            "Test Loss: 0.4739, Test Acc: 0.8424, Test Latency: 4.19s, Test Memory Usage: 0.19MB\n",
            "\n",
            "Epoch 63\n"
          ]
        },
        {
          "name": "stderr",
          "output_type": "stream",
          "text": [
            "Train: 100%|##########| 391/391 [00:34<00:00, 11.41batch/s]\n"
          ]
        },
        {
          "name": "stdout",
          "output_type": "stream",
          "text": [
            "LR: 1.0000e-02, Train Loss: 0.3242, Train Acc: 0.8887, Train Latency: 34.28s, Memory Usage: 3.04MB\n",
            "Test Loss: 0.4973, Test Acc: 0.8395, Test Latency: 4.22s, Test Memory Usage: 0.19MB\n",
            "\n",
            "Epoch 64\n"
          ]
        },
        {
          "name": "stderr",
          "output_type": "stream",
          "text": [
            "Train: 100%|##########| 391/391 [00:34<00:00, 11.41batch/s]\n"
          ]
        },
        {
          "name": "stdout",
          "output_type": "stream",
          "text": [
            "LR: 1.0000e-02, Train Loss: 0.3206, Train Acc: 0.8894, Train Latency: 34.26s, Memory Usage: 3.04MB\n",
            "Test Loss: 0.4146, Test Acc: 0.8576, Test Latency: 4.18s, Test Memory Usage: 0.19MB\n",
            "\n",
            "Epoch 65\n"
          ]
        },
        {
          "name": "stderr",
          "output_type": "stream",
          "text": [
            "Train: 100%|##########| 391/391 [00:34<00:00, 11.37batch/s]\n"
          ]
        },
        {
          "name": "stdout",
          "output_type": "stream",
          "text": [
            "LR: 1.0000e-02, Train Loss: 0.3216, Train Acc: 0.8902, Train Latency: 34.41s, Memory Usage: 3.04MB\n",
            "Test Loss: 0.4715, Test Acc: 0.8406, Test Latency: 4.27s, Test Memory Usage: 0.19MB\n",
            "\n",
            "Epoch 66\n"
          ]
        },
        {
          "name": "stderr",
          "output_type": "stream",
          "text": [
            "Train: 100%|##########| 391/391 [00:34<00:00, 11.42batch/s]\n"
          ]
        },
        {
          "name": "stdout",
          "output_type": "stream",
          "text": [
            "LR: 1.0000e-02, Train Loss: 0.3213, Train Acc: 0.8901, Train Latency: 34.25s, Memory Usage: 3.04MB\n",
            "Test Loss: 0.4147, Test Acc: 0.8562, Test Latency: 4.21s, Test Memory Usage: 0.19MB\n",
            "\n",
            "Epoch 67\n"
          ]
        },
        {
          "name": "stderr",
          "output_type": "stream",
          "text": [
            "Train: 100%|##########| 391/391 [00:34<00:00, 11.40batch/s]\n"
          ]
        },
        {
          "name": "stdout",
          "output_type": "stream",
          "text": [
            "LR: 1.0000e-02, Train Loss: 0.3202, Train Acc: 0.8921, Train Latency: 34.30s, Memory Usage: 3.04MB\n",
            "Test Loss: 0.4409, Test Acc: 0.8530, Test Latency: 4.23s, Test Memory Usage: 0.19MB\n",
            "\n",
            "Epoch 68\n"
          ]
        },
        {
          "name": "stderr",
          "output_type": "stream",
          "text": [
            "Train: 100%|##########| 391/391 [00:34<00:00, 11.35batch/s]\n"
          ]
        },
        {
          "name": "stdout",
          "output_type": "stream",
          "text": [
            "LR: 1.0000e-02, Train Loss: 0.3239, Train Acc: 0.8884, Train Latency: 34.46s, Memory Usage: 3.04MB\n",
            "Test Loss: 0.4459, Test Acc: 0.8510, Test Latency: 4.19s, Test Memory Usage: 0.19MB\n",
            "\n",
            "Epoch 69\n"
          ]
        },
        {
          "name": "stderr",
          "output_type": "stream",
          "text": [
            "Train: 100%|##########| 391/391 [00:34<00:00, 11.44batch/s]\n"
          ]
        },
        {
          "name": "stdout",
          "output_type": "stream",
          "text": [
            "LR: 1.0000e-02, Train Loss: 0.3193, Train Acc: 0.8896, Train Latency: 34.17s, Memory Usage: 3.04MB\n",
            "Test Loss: 0.4715, Test Acc: 0.8452, Test Latency: 4.17s, Test Memory Usage: 0.19MB\n",
            "\n",
            "Epoch 70\n"
          ]
        },
        {
          "name": "stderr",
          "output_type": "stream",
          "text": [
            "Train: 100%|##########| 391/391 [00:34<00:00, 11.37batch/s]\n"
          ]
        },
        {
          "name": "stdout",
          "output_type": "stream",
          "text": [
            "LR: 1.0000e-02, Train Loss: 0.3180, Train Acc: 0.8904, Train Latency: 34.40s, Memory Usage: 3.04MB\n",
            "Test Loss: 0.5278, Test Acc: 0.8250, Test Latency: 4.25s, Test Memory Usage: 0.19MB\n",
            "\n",
            "Epoch 71\n"
          ]
        },
        {
          "name": "stderr",
          "output_type": "stream",
          "text": [
            "Train: 100%|##########| 391/391 [00:34<00:00, 11.28batch/s]\n"
          ]
        },
        {
          "name": "stdout",
          "output_type": "stream",
          "text": [
            "LR: 1.0000e-02, Train Loss: 0.3203, Train Acc: 0.8894, Train Latency: 34.66s, Memory Usage: 3.04MB\n",
            "Test Loss: 0.5058, Test Acc: 0.8333, Test Latency: 4.16s, Test Memory Usage: 0.19MB\n",
            "\n",
            "Epoch 72\n"
          ]
        },
        {
          "name": "stderr",
          "output_type": "stream",
          "text": [
            "Train: 100%|##########| 391/391 [00:34<00:00, 11.41batch/s]\n"
          ]
        },
        {
          "name": "stdout",
          "output_type": "stream",
          "text": [
            "LR: 1.0000e-02, Train Loss: 0.3182, Train Acc: 0.8911, Train Latency: 34.28s, Memory Usage: 3.04MB\n",
            "Test Loss: 0.5140, Test Acc: 0.8307, Test Latency: 4.23s, Test Memory Usage: 0.19MB\n",
            "\n",
            "Epoch 73\n"
          ]
        },
        {
          "name": "stderr",
          "output_type": "stream",
          "text": [
            "Train: 100%|##########| 391/391 [00:34<00:00, 11.40batch/s]\n"
          ]
        },
        {
          "name": "stdout",
          "output_type": "stream",
          "text": [
            "LR: 1.0000e-02, Train Loss: 0.3151, Train Acc: 0.8925, Train Latency: 34.31s, Memory Usage: 3.04MB\n",
            "Test Loss: 0.4000, Test Acc: 0.8653, Test Latency: 4.16s, Test Memory Usage: 0.19MB\n",
            "Saving best model ...\n",
            "\n",
            "Epoch 74\n"
          ]
        },
        {
          "name": "stderr",
          "output_type": "stream",
          "text": [
            "Train: 100%|##########| 391/391 [00:34<00:00, 11.44batch/s]\n"
          ]
        },
        {
          "name": "stdout",
          "output_type": "stream",
          "text": [
            "LR: 1.0000e-02, Train Loss: 0.3200, Train Acc: 0.8894, Train Latency: 34.17s, Memory Usage: 3.04MB\n",
            "Test Loss: 0.4108, Test Acc: 0.8607, Test Latency: 4.23s, Test Memory Usage: 0.19MB\n",
            "\n",
            "Epoch 75\n"
          ]
        },
        {
          "name": "stderr",
          "output_type": "stream",
          "text": [
            "Train: 100%|##########| 391/391 [00:34<00:00, 11.44batch/s]\n"
          ]
        },
        {
          "name": "stdout",
          "output_type": "stream",
          "text": [
            "LR: 1.0000e-02, Train Loss: 0.3164, Train Acc: 0.8903, Train Latency: 34.19s, Memory Usage: 3.04MB\n",
            "Test Loss: 0.4144, Test Acc: 0.8577, Test Latency: 4.17s, Test Memory Usage: 0.19MB\n",
            "\n",
            "Epoch 76\n"
          ]
        },
        {
          "name": "stderr",
          "output_type": "stream",
          "text": [
            "Train: 100%|##########| 391/391 [00:34<00:00, 11.44batch/s]\n"
          ]
        },
        {
          "name": "stdout",
          "output_type": "stream",
          "text": [
            "LR: 1.0000e-02, Train Loss: 0.3218, Train Acc: 0.8904, Train Latency: 34.18s, Memory Usage: 3.04MB\n",
            "Test Loss: 0.4458, Test Acc: 0.8450, Test Latency: 4.26s, Test Memory Usage: 0.19MB\n",
            "\n",
            "Epoch 77\n"
          ]
        },
        {
          "name": "stderr",
          "output_type": "stream",
          "text": [
            "Train: 100%|##########| 391/391 [00:34<00:00, 11.38batch/s]\n"
          ]
        },
        {
          "name": "stdout",
          "output_type": "stream",
          "text": [
            "LR: 1.0000e-02, Train Loss: 0.3172, Train Acc: 0.8906, Train Latency: 34.36s, Memory Usage: 3.04MB\n",
            "Test Loss: 0.5403, Test Acc: 0.8232, Test Latency: 4.18s, Test Memory Usage: 0.19MB\n",
            "\n",
            "Epoch 78\n"
          ]
        },
        {
          "name": "stderr",
          "output_type": "stream",
          "text": [
            "Train: 100%|##########| 391/391 [00:34<00:00, 11.43batch/s]\n"
          ]
        },
        {
          "name": "stdout",
          "output_type": "stream",
          "text": [
            "LR: 1.0000e-02, Train Loss: 0.3160, Train Acc: 0.8914, Train Latency: 34.21s, Memory Usage: 3.04MB\n",
            "Test Loss: 0.4860, Test Acc: 0.8397, Test Latency: 4.18s, Test Memory Usage: 0.19MB\n",
            "\n",
            "Epoch 79\n"
          ]
        },
        {
          "name": "stderr",
          "output_type": "stream",
          "text": [
            "Train: 100%|##########| 391/391 [00:34<00:00, 11.48batch/s]\n"
          ]
        },
        {
          "name": "stdout",
          "output_type": "stream",
          "text": [
            "LR: 1.0000e-02, Train Loss: 0.3127, Train Acc: 0.8934, Train Latency: 34.06s, Memory Usage: 3.04MB\n",
            "Test Loss: 0.4544, Test Acc: 0.8482, Test Latency: 4.16s, Test Memory Usage: 0.19MB\n",
            "\n",
            "Epoch 80\n"
          ]
        },
        {
          "name": "stderr",
          "output_type": "stream",
          "text": [
            "Train: 100%|##########| 391/391 [00:34<00:00, 11.49batch/s]\n"
          ]
        },
        {
          "name": "stdout",
          "output_type": "stream",
          "text": [
            "LR: 1.0000e-02, Train Loss: 0.3150, Train Acc: 0.8909, Train Latency: 34.03s, Memory Usage: 3.04MB\n",
            "Test Loss: 0.4460, Test Acc: 0.8557, Test Latency: 4.21s, Test Memory Usage: 0.19MB\n",
            "\n",
            "Epoch 81\n"
          ]
        },
        {
          "name": "stderr",
          "output_type": "stream",
          "text": [
            "Train: 100%|##########| 391/391 [00:34<00:00, 11.41batch/s]\n"
          ]
        },
        {
          "name": "stdout",
          "output_type": "stream",
          "text": [
            "LR: 1.0000e-02, Train Loss: 0.3148, Train Acc: 0.8905, Train Latency: 34.26s, Memory Usage: 3.04MB\n",
            "Test Loss: 0.4466, Test Acc: 0.8483, Test Latency: 4.18s, Test Memory Usage: 0.19MB\n",
            "\n",
            "Epoch 82\n"
          ]
        },
        {
          "name": "stderr",
          "output_type": "stream",
          "text": [
            "Train: 100%|##########| 391/391 [00:34<00:00, 11.43batch/s]\n"
          ]
        },
        {
          "name": "stdout",
          "output_type": "stream",
          "text": [
            "LR: 1.0000e-02, Train Loss: 0.3166, Train Acc: 0.8898, Train Latency: 34.23s, Memory Usage: 3.04MB\n",
            "Test Loss: 0.4236, Test Acc: 0.8558, Test Latency: 4.21s, Test Memory Usage: 0.19MB\n",
            "\n",
            "Epoch 83\n"
          ]
        },
        {
          "name": "stderr",
          "output_type": "stream",
          "text": [
            "Train: 100%|##########| 391/391 [00:34<00:00, 11.43batch/s]\n"
          ]
        },
        {
          "name": "stdout",
          "output_type": "stream",
          "text": [
            "LR: 1.0000e-02, Train Loss: 0.3088, Train Acc: 0.8944, Train Latency: 34.22s, Memory Usage: 3.04MB\n",
            "Test Loss: 0.4272, Test Acc: 0.8540, Test Latency: 4.20s, Test Memory Usage: 0.19MB\n",
            "\n",
            "Epoch 84\n"
          ]
        },
        {
          "name": "stderr",
          "output_type": "stream",
          "text": [
            "Train: 100%|##########| 391/391 [00:34<00:00, 11.45batch/s]\n"
          ]
        },
        {
          "name": "stdout",
          "output_type": "stream",
          "text": [
            "LR: 1.0000e-02, Train Loss: 0.3138, Train Acc: 0.8921, Train Latency: 34.15s, Memory Usage: 3.04MB\n",
            "Test Loss: 0.5077, Test Acc: 0.8276, Test Latency: 4.17s, Test Memory Usage: 0.19MB\n",
            "\n",
            "Epoch 85\n"
          ]
        },
        {
          "name": "stderr",
          "output_type": "stream",
          "text": [
            "Train: 100%|##########| 391/391 [00:34<00:00, 11.46batch/s]\n"
          ]
        },
        {
          "name": "stdout",
          "output_type": "stream",
          "text": [
            "LR: 1.0000e-02, Train Loss: 0.3081, Train Acc: 0.8944, Train Latency: 34.12s, Memory Usage: 3.04MB\n",
            "Test Loss: 0.3834, Test Acc: 0.8716, Test Latency: 4.21s, Test Memory Usage: 0.19MB\n",
            "Saving best model ...\n",
            "\n",
            "Epoch 86\n"
          ]
        },
        {
          "name": "stderr",
          "output_type": "stream",
          "text": [
            "Train: 100%|##########| 391/391 [00:34<00:00, 11.41batch/s]\n"
          ]
        },
        {
          "name": "stdout",
          "output_type": "stream",
          "text": [
            "LR: 1.0000e-02, Train Loss: 0.3057, Train Acc: 0.8955, Train Latency: 34.28s, Memory Usage: 3.04MB\n",
            "Test Loss: 0.5096, Test Acc: 0.8299, Test Latency: 4.20s, Test Memory Usage: 0.19MB\n",
            "\n",
            "Epoch 87\n"
          ]
        },
        {
          "name": "stderr",
          "output_type": "stream",
          "text": [
            "Train: 100%|##########| 391/391 [00:34<00:00, 11.46batch/s]\n"
          ]
        },
        {
          "name": "stdout",
          "output_type": "stream",
          "text": [
            "LR: 1.0000e-02, Train Loss: 0.3061, Train Acc: 0.8935, Train Latency: 34.11s, Memory Usage: 3.04MB\n",
            "Test Loss: 0.6066, Test Acc: 0.7979, Test Latency: 4.21s, Test Memory Usage: 0.19MB\n",
            "\n",
            "Epoch 88\n"
          ]
        },
        {
          "name": "stderr",
          "output_type": "stream",
          "text": [
            "Train: 100%|##########| 391/391 [00:34<00:00, 11.36batch/s]\n"
          ]
        },
        {
          "name": "stdout",
          "output_type": "stream",
          "text": [
            "LR: 1.0000e-02, Train Loss: 0.3083, Train Acc: 0.8943, Train Latency: 34.42s, Memory Usage: 3.04MB\n",
            "Test Loss: 0.4355, Test Acc: 0.8537, Test Latency: 4.19s, Test Memory Usage: 0.19MB\n",
            "\n",
            "Epoch 89\n"
          ]
        },
        {
          "name": "stderr",
          "output_type": "stream",
          "text": [
            "Train: 100%|##########| 391/391 [00:34<00:00, 11.40batch/s]\n"
          ]
        },
        {
          "name": "stdout",
          "output_type": "stream",
          "text": [
            "LR: 1.0000e-02, Train Loss: 0.3008, Train Acc: 0.8961, Train Latency: 34.31s, Memory Usage: 3.04MB\n",
            "Test Loss: 0.3992, Test Acc: 0.8724, Test Latency: 4.29s, Test Memory Usage: 0.19MB\n",
            "Saving best model ...\n",
            "\n",
            "Epoch 90\n"
          ]
        },
        {
          "name": "stderr",
          "output_type": "stream",
          "text": [
            "Train: 100%|##########| 391/391 [00:34<00:00, 11.31batch/s]\n"
          ]
        },
        {
          "name": "stdout",
          "output_type": "stream",
          "text": [
            "LR: 1.0000e-02, Train Loss: 0.3037, Train Acc: 0.8953, Train Latency: 34.57s, Memory Usage: 3.04MB\n",
            "Test Loss: 0.6380, Test Acc: 0.8042, Test Latency: 4.21s, Test Memory Usage: 0.19MB\n",
            "\n",
            "Epoch 91\n"
          ]
        },
        {
          "name": "stderr",
          "output_type": "stream",
          "text": [
            "Train: 100%|##########| 391/391 [00:34<00:00, 11.35batch/s]\n"
          ]
        },
        {
          "name": "stdout",
          "output_type": "stream",
          "text": [
            "LR: 1.0000e-02, Train Loss: 0.3101, Train Acc: 0.8941, Train Latency: 34.45s, Memory Usage: 3.04MB\n",
            "Test Loss: 0.4572, Test Acc: 0.8493, Test Latency: 4.17s, Test Memory Usage: 0.19MB\n",
            "\n",
            "Epoch 92\n"
          ]
        },
        {
          "name": "stderr",
          "output_type": "stream",
          "text": [
            "Train: 100%|##########| 391/391 [00:34<00:00, 11.41batch/s]\n"
          ]
        },
        {
          "name": "stdout",
          "output_type": "stream",
          "text": [
            "LR: 1.0000e-02, Train Loss: 0.3034, Train Acc: 0.8960, Train Latency: 34.28s, Memory Usage: 3.04MB\n",
            "Test Loss: 0.5773, Test Acc: 0.8100, Test Latency: 4.20s, Test Memory Usage: 0.19MB\n",
            "\n",
            "Epoch 93\n"
          ]
        },
        {
          "name": "stderr",
          "output_type": "stream",
          "text": [
            "Train: 100%|##########| 391/391 [00:34<00:00, 11.42batch/s]\n"
          ]
        },
        {
          "name": "stdout",
          "output_type": "stream",
          "text": [
            "LR: 1.0000e-02, Train Loss: 0.2966, Train Acc: 0.8985, Train Latency: 34.24s, Memory Usage: 3.04MB\n",
            "Test Loss: 0.4219, Test Acc: 0.8609, Test Latency: 4.24s, Test Memory Usage: 0.19MB\n",
            "\n",
            "Epoch 94\n"
          ]
        },
        {
          "name": "stderr",
          "output_type": "stream",
          "text": [
            "Train: 100%|##########| 391/391 [00:34<00:00, 11.35batch/s]\n"
          ]
        },
        {
          "name": "stdout",
          "output_type": "stream",
          "text": [
            "LR: 1.0000e-02, Train Loss: 0.2956, Train Acc: 0.8975, Train Latency: 34.44s, Memory Usage: 3.04MB\n",
            "Test Loss: 0.5887, Test Acc: 0.8126, Test Latency: 4.34s, Test Memory Usage: 0.19MB\n",
            "\n",
            "Epoch 95\n"
          ]
        },
        {
          "name": "stderr",
          "output_type": "stream",
          "text": [
            "Train: 100%|##########| 391/391 [00:34<00:00, 11.34batch/s]\n"
          ]
        },
        {
          "name": "stdout",
          "output_type": "stream",
          "text": [
            "LR: 1.0000e-02, Train Loss: 0.2998, Train Acc: 0.8978, Train Latency: 34.49s, Memory Usage: 3.04MB\n",
            "Test Loss: 0.4358, Test Acc: 0.8568, Test Latency: 4.17s, Test Memory Usage: 0.19MB\n",
            "\n",
            "Epoch 96\n"
          ]
        },
        {
          "name": "stderr",
          "output_type": "stream",
          "text": [
            "Train: 100%|##########| 391/391 [00:34<00:00, 11.40batch/s]\n"
          ]
        },
        {
          "name": "stdout",
          "output_type": "stream",
          "text": [
            "LR: 1.0000e-02, Train Loss: 0.2939, Train Acc: 0.8998, Train Latency: 34.30s, Memory Usage: 3.04MB\n",
            "Test Loss: 0.5165, Test Acc: 0.8338, Test Latency: 4.18s, Test Memory Usage: 0.19MB\n",
            "\n",
            "Epoch 97\n"
          ]
        },
        {
          "name": "stderr",
          "output_type": "stream",
          "text": [
            "Train: 100%|##########| 391/391 [00:34<00:00, 11.36batch/s]\n"
          ]
        },
        {
          "name": "stdout",
          "output_type": "stream",
          "text": [
            "LR: 1.0000e-02, Train Loss: 0.3046, Train Acc: 0.8944, Train Latency: 34.42s, Memory Usage: 3.04MB\n",
            "Test Loss: 0.4166, Test Acc: 0.8584, Test Latency: 4.18s, Test Memory Usage: 0.19MB\n",
            "\n",
            "Epoch 98\n"
          ]
        },
        {
          "name": "stderr",
          "output_type": "stream",
          "text": [
            "Train: 100%|##########| 391/391 [00:34<00:00, 11.46batch/s]\n"
          ]
        },
        {
          "name": "stdout",
          "output_type": "stream",
          "text": [
            "LR: 1.0000e-02, Train Loss: 0.2984, Train Acc: 0.8978, Train Latency: 34.13s, Memory Usage: 3.04MB\n",
            "Test Loss: 0.4125, Test Acc: 0.8578, Test Latency: 4.17s, Test Memory Usage: 0.19MB\n",
            "\n",
            "Epoch 99\n"
          ]
        },
        {
          "name": "stderr",
          "output_type": "stream",
          "text": [
            "Train: 100%|##########| 391/391 [00:34<00:00, 11.33batch/s]\n"
          ]
        },
        {
          "name": "stdout",
          "output_type": "stream",
          "text": [
            "LR: 1.0000e-02, Train Loss: 0.3060, Train Acc: 0.8954, Train Latency: 34.51s, Memory Usage: 3.04MB\n",
            "Test Loss: 0.4887, Test Acc: 0.8422, Test Latency: 4.26s, Test Memory Usage: 0.19MB\n",
            "\n",
            "Epoch 100\n"
          ]
        },
        {
          "name": "stderr",
          "output_type": "stream",
          "text": [
            "Train: 100%|##########| 391/391 [00:34<00:00, 11.28batch/s]\n"
          ]
        },
        {
          "name": "stdout",
          "output_type": "stream",
          "text": [
            "LR: 1.0000e-02, Train Loss: 0.2977, Train Acc: 0.8972, Train Latency: 34.66s, Memory Usage: 3.04MB\n",
            "Test Loss: 0.4963, Test Acc: 0.8386, Test Latency: 4.20s, Test Memory Usage: 0.19MB\n",
            "\n",
            "Epoch 101\n"
          ]
        },
        {
          "name": "stderr",
          "output_type": "stream",
          "text": [
            "Train: 100%|##########| 391/391 [00:34<00:00, 11.35batch/s]\n"
          ]
        },
        {
          "name": "stdout",
          "output_type": "stream",
          "text": [
            "LR: 1.0000e-03, Train Loss: 0.2312, Train Acc: 0.9228, Train Latency: 34.46s, Memory Usage: 3.04MB\n",
            "Test Loss: 0.3059, Test Acc: 0.8954, Test Latency: 4.27s, Test Memory Usage: 0.19MB\n",
            "Saving best model ...\n",
            "\n",
            "Epoch 102\n"
          ]
        },
        {
          "name": "stderr",
          "output_type": "stream",
          "text": [
            "Train: 100%|##########| 391/391 [00:34<00:00, 11.35batch/s]\n"
          ]
        },
        {
          "name": "stdout",
          "output_type": "stream",
          "text": [
            "LR: 1.0000e-03, Train Loss: 0.2048, Train Acc: 0.9331, Train Latency: 34.45s, Memory Usage: 3.04MB\n",
            "Test Loss: 0.2975, Test Acc: 0.8976, Test Latency: 4.20s, Test Memory Usage: 0.19MB\n",
            "Saving best model ...\n",
            "\n",
            "Epoch 103\n"
          ]
        },
        {
          "name": "stderr",
          "output_type": "stream",
          "text": [
            "Train: 100%|##########| 391/391 [00:34<00:00, 11.33batch/s]\n"
          ]
        },
        {
          "name": "stdout",
          "output_type": "stream",
          "text": [
            "LR: 1.0000e-03, Train Loss: 0.1929, Train Acc: 0.9367, Train Latency: 34.53s, Memory Usage: 3.04MB\n",
            "Test Loss: 0.2962, Test Acc: 0.9001, Test Latency: 4.25s, Test Memory Usage: 0.19MB\n",
            "Saving best model ...\n",
            "\n",
            "Epoch 104\n"
          ]
        },
        {
          "name": "stderr",
          "output_type": "stream",
          "text": [
            "Train: 100%|##########| 391/391 [00:34<00:00, 11.38batch/s]\n"
          ]
        },
        {
          "name": "stdout",
          "output_type": "stream",
          "text": [
            "LR: 1.0000e-03, Train Loss: 0.1900, Train Acc: 0.9378, Train Latency: 34.36s, Memory Usage: 3.04MB\n",
            "Test Loss: 0.2957, Test Acc: 0.8991, Test Latency: 4.24s, Test Memory Usage: 0.19MB\n",
            "\n",
            "Epoch 105\n"
          ]
        },
        {
          "name": "stderr",
          "output_type": "stream",
          "text": [
            "Train: 100%|##########| 391/391 [00:34<00:00, 11.35batch/s]\n"
          ]
        },
        {
          "name": "stdout",
          "output_type": "stream",
          "text": [
            "LR: 1.0000e-03, Train Loss: 0.1864, Train Acc: 0.9387, Train Latency: 34.45s, Memory Usage: 3.04MB\n",
            "Test Loss: 0.2844, Test Acc: 0.9034, Test Latency: 4.23s, Test Memory Usage: 0.19MB\n",
            "Saving best model ...\n",
            "\n",
            "Epoch 106\n"
          ]
        },
        {
          "name": "stderr",
          "output_type": "stream",
          "text": [
            "Train: 100%|##########| 391/391 [00:34<00:00, 11.39batch/s]\n"
          ]
        },
        {
          "name": "stdout",
          "output_type": "stream",
          "text": [
            "LR: 1.0000e-03, Train Loss: 0.1780, Train Acc: 0.9414, Train Latency: 34.34s, Memory Usage: 3.04MB\n",
            "Test Loss: 0.2904, Test Acc: 0.9010, Test Latency: 4.19s, Test Memory Usage: 0.19MB\n",
            "\n",
            "Epoch 107\n"
          ]
        },
        {
          "name": "stderr",
          "output_type": "stream",
          "text": [
            "Train: 100%|##########| 391/391 [00:34<00:00, 11.36batch/s]\n"
          ]
        },
        {
          "name": "stdout",
          "output_type": "stream",
          "text": [
            "LR: 1.0000e-03, Train Loss: 0.1793, Train Acc: 0.9406, Train Latency: 34.42s, Memory Usage: 3.04MB\n",
            "Test Loss: 0.2852, Test Acc: 0.9049, Test Latency: 4.20s, Test Memory Usage: 0.19MB\n",
            "Saving best model ...\n",
            "\n",
            "Epoch 108\n"
          ]
        },
        {
          "name": "stderr",
          "output_type": "stream",
          "text": [
            "Train: 100%|##########| 391/391 [00:34<00:00, 11.41batch/s]\n"
          ]
        },
        {
          "name": "stdout",
          "output_type": "stream",
          "text": [
            "LR: 1.0000e-03, Train Loss: 0.1754, Train Acc: 0.9408, Train Latency: 34.26s, Memory Usage: 3.04MB\n",
            "Test Loss: 0.3005, Test Acc: 0.8993, Test Latency: 4.18s, Test Memory Usage: 0.19MB\n",
            "\n",
            "Epoch 109\n"
          ]
        },
        {
          "name": "stderr",
          "output_type": "stream",
          "text": [
            "Train: 100%|##########| 391/391 [00:34<00:00, 11.40batch/s]\n"
          ]
        },
        {
          "name": "stdout",
          "output_type": "stream",
          "text": [
            "LR: 1.0000e-03, Train Loss: 0.1764, Train Acc: 0.9417, Train Latency: 34.29s, Memory Usage: 3.04MB\n",
            "Test Loss: 0.2949, Test Acc: 0.9024, Test Latency: 4.25s, Test Memory Usage: 0.19MB\n",
            "\n",
            "Epoch 110\n"
          ]
        },
        {
          "name": "stderr",
          "output_type": "stream",
          "text": [
            "Train: 100%|##########| 391/391 [00:34<00:00, 11.37batch/s]\n"
          ]
        },
        {
          "name": "stdout",
          "output_type": "stream",
          "text": [
            "LR: 1.0000e-03, Train Loss: 0.1699, Train Acc: 0.9445, Train Latency: 34.40s, Memory Usage: 3.04MB\n",
            "Test Loss: 0.2950, Test Acc: 0.8998, Test Latency: 4.18s, Test Memory Usage: 0.19MB\n",
            "\n",
            "Epoch 111\n"
          ]
        },
        {
          "name": "stderr",
          "output_type": "stream",
          "text": [
            "Train: 100%|##########| 391/391 [00:34<00:00, 11.36batch/s]\n"
          ]
        },
        {
          "name": "stdout",
          "output_type": "stream",
          "text": [
            "LR: 1.0000e-03, Train Loss: 0.1721, Train Acc: 0.9431, Train Latency: 34.43s, Memory Usage: 3.04MB\n",
            "Test Loss: 0.3000, Test Acc: 0.8998, Test Latency: 4.17s, Test Memory Usage: 0.19MB\n",
            "\n",
            "Epoch 112\n"
          ]
        },
        {
          "name": "stderr",
          "output_type": "stream",
          "text": [
            "Train: 100%|##########| 391/391 [00:34<00:00, 11.41batch/s]\n"
          ]
        },
        {
          "name": "stdout",
          "output_type": "stream",
          "text": [
            "LR: 1.0000e-03, Train Loss: 0.1700, Train Acc: 0.9449, Train Latency: 34.27s, Memory Usage: 3.04MB\n",
            "Test Loss: 0.3060, Test Acc: 0.8974, Test Latency: 4.20s, Test Memory Usage: 0.19MB\n",
            "\n",
            "Epoch 113\n"
          ]
        },
        {
          "name": "stderr",
          "output_type": "stream",
          "text": [
            "Train: 100%|##########| 391/391 [00:34<00:00, 11.40batch/s]\n"
          ]
        },
        {
          "name": "stdout",
          "output_type": "stream",
          "text": [
            "LR: 1.0000e-03, Train Loss: 0.1647, Train Acc: 0.9454, Train Latency: 34.31s, Memory Usage: 3.04MB\n",
            "Test Loss: 0.2865, Test Acc: 0.9033, Test Latency: 4.18s, Test Memory Usage: 0.19MB\n",
            "\n",
            "Epoch 114\n"
          ]
        },
        {
          "name": "stderr",
          "output_type": "stream",
          "text": [
            "Train: 100%|##########| 391/391 [00:34<00:00, 11.48batch/s]\n"
          ]
        },
        {
          "name": "stdout",
          "output_type": "stream",
          "text": [
            "LR: 1.0000e-03, Train Loss: 0.1588, Train Acc: 0.9482, Train Latency: 34.08s, Memory Usage: 3.04MB\n",
            "Test Loss: 0.2902, Test Acc: 0.9027, Test Latency: 4.20s, Test Memory Usage: 0.19MB\n",
            "\n",
            "Epoch 115\n"
          ]
        },
        {
          "name": "stderr",
          "output_type": "stream",
          "text": [
            "Train: 100%|##########| 391/391 [00:34<00:00, 11.38batch/s]\n"
          ]
        },
        {
          "name": "stdout",
          "output_type": "stream",
          "text": [
            "LR: 1.0000e-03, Train Loss: 0.1595, Train Acc: 0.9470, Train Latency: 34.35s, Memory Usage: 3.04MB\n",
            "Test Loss: 0.2966, Test Acc: 0.9022, Test Latency: 4.22s, Test Memory Usage: 0.19MB\n",
            "\n",
            "Epoch 116\n"
          ]
        },
        {
          "name": "stderr",
          "output_type": "stream",
          "text": [
            "Train: 100%|##########| 391/391 [00:34<00:00, 11.30batch/s]\n"
          ]
        },
        {
          "name": "stdout",
          "output_type": "stream",
          "text": [
            "LR: 1.0000e-03, Train Loss: 0.1610, Train Acc: 0.9470, Train Latency: 34.60s, Memory Usage: 3.04MB\n",
            "Test Loss: 0.3009, Test Acc: 0.8969, Test Latency: 4.23s, Test Memory Usage: 0.19MB\n",
            "\n",
            "Epoch 117\n"
          ]
        },
        {
          "name": "stderr",
          "output_type": "stream",
          "text": [
            "Train: 100%|##########| 391/391 [00:34<00:00, 11.34batch/s]\n"
          ]
        },
        {
          "name": "stdout",
          "output_type": "stream",
          "text": [
            "LR: 1.0000e-03, Train Loss: 0.1587, Train Acc: 0.9474, Train Latency: 34.48s, Memory Usage: 3.04MB\n",
            "Test Loss: 0.3010, Test Acc: 0.9023, Test Latency: 4.20s, Test Memory Usage: 0.19MB\n",
            "\n",
            "Epoch 118\n"
          ]
        },
        {
          "name": "stderr",
          "output_type": "stream",
          "text": [
            "Train: 100%|##########| 391/391 [00:34<00:00, 11.34batch/s]\n"
          ]
        },
        {
          "name": "stdout",
          "output_type": "stream",
          "text": [
            "LR: 1.0000e-03, Train Loss: 0.1598, Train Acc: 0.9471, Train Latency: 34.47s, Memory Usage: 3.04MB\n",
            "Test Loss: 0.3163, Test Acc: 0.8961, Test Latency: 4.25s, Test Memory Usage: 0.19MB\n",
            "\n",
            "Epoch 119\n"
          ]
        },
        {
          "name": "stderr",
          "output_type": "stream",
          "text": [
            "Train: 100%|##########| 391/391 [00:34<00:00, 11.40batch/s]\n"
          ]
        },
        {
          "name": "stdout",
          "output_type": "stream",
          "text": [
            "LR: 1.0000e-03, Train Loss: 0.1630, Train Acc: 0.9462, Train Latency: 34.30s, Memory Usage: 3.04MB\n",
            "Test Loss: 0.2896, Test Acc: 0.9042, Test Latency: 4.17s, Test Memory Usage: 0.19MB\n",
            "\n",
            "Epoch 120\n"
          ]
        },
        {
          "name": "stderr",
          "output_type": "stream",
          "text": [
            "Train: 100%|##########| 391/391 [00:34<00:00, 11.39batch/s]\n"
          ]
        },
        {
          "name": "stdout",
          "output_type": "stream",
          "text": [
            "LR: 1.0000e-03, Train Loss: 0.1564, Train Acc: 0.9491, Train Latency: 34.33s, Memory Usage: 3.04MB\n",
            "Test Loss: 0.2973, Test Acc: 0.9011, Test Latency: 4.20s, Test Memory Usage: 0.19MB\n",
            "\n",
            "Epoch 121\n"
          ]
        },
        {
          "name": "stderr",
          "output_type": "stream",
          "text": [
            "Train: 100%|##########| 391/391 [00:34<00:00, 11.39batch/s]\n"
          ]
        },
        {
          "name": "stdout",
          "output_type": "stream",
          "text": [
            "LR: 1.0000e-03, Train Loss: 0.1560, Train Acc: 0.9487, Train Latency: 34.32s, Memory Usage: 3.04MB\n",
            "Test Loss: 0.3073, Test Acc: 0.9002, Test Latency: 4.20s, Test Memory Usage: 0.19MB\n",
            "\n",
            "Epoch 122\n"
          ]
        },
        {
          "name": "stderr",
          "output_type": "stream",
          "text": [
            "Train: 100%|##########| 391/391 [00:34<00:00, 11.41batch/s]\n"
          ]
        },
        {
          "name": "stdout",
          "output_type": "stream",
          "text": [
            "LR: 1.0000e-03, Train Loss: 0.1539, Train Acc: 0.9495, Train Latency: 34.28s, Memory Usage: 3.04MB\n",
            "Test Loss: 0.3030, Test Acc: 0.8984, Test Latency: 4.19s, Test Memory Usage: 0.19MB\n",
            "\n",
            "Epoch 123\n"
          ]
        },
        {
          "name": "stderr",
          "output_type": "stream",
          "text": [
            "Train: 100%|##########| 391/391 [00:34<00:00, 11.35batch/s]\n"
          ]
        },
        {
          "name": "stdout",
          "output_type": "stream",
          "text": [
            "LR: 1.0000e-03, Train Loss: 0.1566, Train Acc: 0.9475, Train Latency: 34.44s, Memory Usage: 3.04MB\n",
            "Test Loss: 0.3159, Test Acc: 0.8987, Test Latency: 4.24s, Test Memory Usage: 0.19MB\n",
            "\n",
            "Epoch 124\n"
          ]
        },
        {
          "name": "stderr",
          "output_type": "stream",
          "text": [
            "Train: 100%|##########| 391/391 [00:34<00:00, 11.30batch/s]\n"
          ]
        },
        {
          "name": "stdout",
          "output_type": "stream",
          "text": [
            "LR: 1.0000e-03, Train Loss: 0.1536, Train Acc: 0.9492, Train Latency: 34.60s, Memory Usage: 3.04MB\n",
            "Test Loss: 0.3033, Test Acc: 0.8989, Test Latency: 4.20s, Test Memory Usage: 0.19MB\n",
            "\n",
            "Epoch 125\n"
          ]
        },
        {
          "name": "stderr",
          "output_type": "stream",
          "text": [
            "Train: 100%|##########| 391/391 [00:34<00:00, 11.31batch/s]\n"
          ]
        },
        {
          "name": "stdout",
          "output_type": "stream",
          "text": [
            "LR: 1.0000e-03, Train Loss: 0.1547, Train Acc: 0.9487, Train Latency: 34.58s, Memory Usage: 3.04MB\n",
            "Test Loss: 0.3021, Test Acc: 0.8979, Test Latency: 4.25s, Test Memory Usage: 0.19MB\n",
            "\n",
            "Epoch 126\n"
          ]
        },
        {
          "name": "stderr",
          "output_type": "stream",
          "text": [
            "Train: 100%|##########| 391/391 [00:34<00:00, 11.34batch/s]\n"
          ]
        },
        {
          "name": "stdout",
          "output_type": "stream",
          "text": [
            "LR: 1.0000e-03, Train Loss: 0.1526, Train Acc: 0.9507, Train Latency: 34.48s, Memory Usage: 3.04MB\n",
            "Test Loss: 0.3029, Test Acc: 0.8977, Test Latency: 4.20s, Test Memory Usage: 0.19MB\n",
            "\n",
            "Epoch 127\n"
          ]
        },
        {
          "name": "stderr",
          "output_type": "stream",
          "text": [
            "Train: 100%|##########| 391/391 [00:34<00:00, 11.39batch/s]\n"
          ]
        },
        {
          "name": "stdout",
          "output_type": "stream",
          "text": [
            "LR: 1.0000e-03, Train Loss: 0.1526, Train Acc: 0.9490, Train Latency: 34.32s, Memory Usage: 3.04MB\n",
            "Test Loss: 0.3008, Test Acc: 0.9021, Test Latency: 4.21s, Test Memory Usage: 0.19MB\n",
            "\n",
            "Epoch 128\n"
          ]
        },
        {
          "name": "stderr",
          "output_type": "stream",
          "text": [
            "Train: 100%|##########| 391/391 [00:34<00:00, 11.41batch/s]\n"
          ]
        },
        {
          "name": "stdout",
          "output_type": "stream",
          "text": [
            "LR: 1.0000e-03, Train Loss: 0.1540, Train Acc: 0.9498, Train Latency: 34.26s, Memory Usage: 3.04MB\n",
            "Test Loss: 0.3032, Test Acc: 0.8984, Test Latency: 4.21s, Test Memory Usage: 0.19MB\n",
            "\n",
            "Epoch 129\n"
          ]
        },
        {
          "name": "stderr",
          "output_type": "stream",
          "text": [
            "Train: 100%|##########| 391/391 [00:34<00:00, 11.40batch/s]\n"
          ]
        },
        {
          "name": "stdout",
          "output_type": "stream",
          "text": [
            "LR: 1.0000e-03, Train Loss: 0.1519, Train Acc: 0.9505, Train Latency: 34.32s, Memory Usage: 3.04MB\n",
            "Test Loss: 0.2982, Test Acc: 0.9004, Test Latency: 4.24s, Test Memory Usage: 0.19MB\n",
            "\n",
            "Epoch 130\n"
          ]
        },
        {
          "name": "stderr",
          "output_type": "stream",
          "text": [
            "Train: 100%|##########| 391/391 [00:34<00:00, 11.39batch/s]\n"
          ]
        },
        {
          "name": "stdout",
          "output_type": "stream",
          "text": [
            "LR: 1.0000e-03, Train Loss: 0.1470, Train Acc: 0.9519, Train Latency: 34.35s, Memory Usage: 3.04MB\n",
            "Test Loss: 0.2961, Test Acc: 0.9007, Test Latency: 4.21s, Test Memory Usage: 0.19MB\n",
            "\n",
            "Epoch 131\n"
          ]
        },
        {
          "name": "stderr",
          "output_type": "stream",
          "text": [
            "Train: 100%|##########| 391/391 [00:34<00:00, 11.37batch/s]\n"
          ]
        },
        {
          "name": "stdout",
          "output_type": "stream",
          "text": [
            "LR: 1.0000e-03, Train Loss: 0.1468, Train Acc: 0.9517, Train Latency: 34.39s, Memory Usage: 3.04MB\n",
            "Test Loss: 0.3072, Test Acc: 0.9036, Test Latency: 4.23s, Test Memory Usage: 0.19MB\n",
            "\n",
            "Epoch 132\n"
          ]
        },
        {
          "name": "stderr",
          "output_type": "stream",
          "text": [
            "Train: 100%|##########| 391/391 [00:34<00:00, 11.40batch/s]\n"
          ]
        },
        {
          "name": "stdout",
          "output_type": "stream",
          "text": [
            "LR: 1.0000e-03, Train Loss: 0.1527, Train Acc: 0.9497, Train Latency: 34.30s, Memory Usage: 3.04MB\n",
            "Test Loss: 0.3105, Test Acc: 0.8967, Test Latency: 4.20s, Test Memory Usage: 0.19MB\n",
            "\n",
            "Epoch 133\n"
          ]
        },
        {
          "name": "stderr",
          "output_type": "stream",
          "text": [
            "Train: 100%|##########| 391/391 [00:34<00:00, 11.35batch/s]\n"
          ]
        },
        {
          "name": "stdout",
          "output_type": "stream",
          "text": [
            "LR: 1.0000e-03, Train Loss: 0.1469, Train Acc: 0.9530, Train Latency: 34.46s, Memory Usage: 3.04MB\n",
            "Test Loss: 0.3013, Test Acc: 0.9022, Test Latency: 4.21s, Test Memory Usage: 0.19MB\n",
            "\n",
            "Epoch 134\n"
          ]
        },
        {
          "name": "stderr",
          "output_type": "stream",
          "text": [
            "Train: 100%|##########| 391/391 [00:34<00:00, 11.35batch/s]\n"
          ]
        },
        {
          "name": "stdout",
          "output_type": "stream",
          "text": [
            "LR: 1.0000e-03, Train Loss: 0.1439, Train Acc: 0.9524, Train Latency: 34.46s, Memory Usage: 3.04MB\n",
            "Test Loss: 0.3120, Test Acc: 0.9001, Test Latency: 4.19s, Test Memory Usage: 0.19MB\n",
            "\n",
            "Epoch 135\n"
          ]
        },
        {
          "name": "stderr",
          "output_type": "stream",
          "text": [
            "Train: 100%|##########| 391/391 [00:34<00:00, 11.35batch/s]\n"
          ]
        },
        {
          "name": "stdout",
          "output_type": "stream",
          "text": [
            "LR: 1.0000e-03, Train Loss: 0.1461, Train Acc: 0.9515, Train Latency: 34.46s, Memory Usage: 3.04MB\n",
            "Test Loss: 0.2910, Test Acc: 0.9024, Test Latency: 4.22s, Test Memory Usage: 0.19MB\n",
            "\n",
            "Epoch 136\n"
          ]
        },
        {
          "name": "stderr",
          "output_type": "stream",
          "text": [
            "Train: 100%|##########| 391/391 [00:34<00:00, 11.35batch/s]\n"
          ]
        },
        {
          "name": "stdout",
          "output_type": "stream",
          "text": [
            "LR: 1.0000e-03, Train Loss: 0.1469, Train Acc: 0.9511, Train Latency: 34.45s, Memory Usage: 3.04MB\n",
            "Test Loss: 0.3164, Test Acc: 0.8966, Test Latency: 4.20s, Test Memory Usage: 0.19MB\n",
            "\n",
            "Epoch 137\n"
          ]
        },
        {
          "name": "stderr",
          "output_type": "stream",
          "text": [
            "Train: 100%|##########| 391/391 [00:34<00:00, 11.35batch/s]\n"
          ]
        },
        {
          "name": "stdout",
          "output_type": "stream",
          "text": [
            "LR: 1.0000e-03, Train Loss: 0.1490, Train Acc: 0.9498, Train Latency: 34.44s, Memory Usage: 3.04MB\n",
            "Test Loss: 0.2981, Test Acc: 0.9021, Test Latency: 4.21s, Test Memory Usage: 0.19MB\n",
            "\n",
            "Epoch 138\n"
          ]
        },
        {
          "name": "stderr",
          "output_type": "stream",
          "text": [
            "Train: 100%|##########| 391/391 [00:34<00:00, 11.43batch/s]\n"
          ]
        },
        {
          "name": "stdout",
          "output_type": "stream",
          "text": [
            "LR: 1.0000e-03, Train Loss: 0.1433, Train Acc: 0.9529, Train Latency: 34.21s, Memory Usage: 3.04MB\n",
            "Test Loss: 0.3117, Test Acc: 0.8995, Test Latency: 4.19s, Test Memory Usage: 0.19MB\n",
            "\n",
            "Epoch 139\n"
          ]
        },
        {
          "name": "stderr",
          "output_type": "stream",
          "text": [
            "Train: 100%|##########| 391/391 [00:34<00:00, 11.41batch/s]\n"
          ]
        },
        {
          "name": "stdout",
          "output_type": "stream",
          "text": [
            "LR: 1.0000e-03, Train Loss: 0.1461, Train Acc: 0.9519, Train Latency: 34.29s, Memory Usage: 3.04MB\n",
            "Test Loss: 0.3099, Test Acc: 0.9033, Test Latency: 4.21s, Test Memory Usage: 0.19MB\n",
            "\n",
            "Epoch 140\n"
          ]
        },
        {
          "name": "stderr",
          "output_type": "stream",
          "text": [
            "Train: 100%|##########| 391/391 [00:34<00:00, 11.36batch/s]\n"
          ]
        },
        {
          "name": "stdout",
          "output_type": "stream",
          "text": [
            "LR: 1.0000e-03, Train Loss: 0.1464, Train Acc: 0.9516, Train Latency: 34.41s, Memory Usage: 3.04MB\n",
            "Test Loss: 0.3154, Test Acc: 0.8972, Test Latency: 4.19s, Test Memory Usage: 0.19MB\n",
            "\n",
            "Epoch 141\n"
          ]
        },
        {
          "name": "stderr",
          "output_type": "stream",
          "text": [
            "Train: 100%|##########| 391/391 [00:34<00:00, 11.35batch/s]\n"
          ]
        },
        {
          "name": "stdout",
          "output_type": "stream",
          "text": [
            "LR: 1.0000e-03, Train Loss: 0.1438, Train Acc: 0.9530, Train Latency: 34.46s, Memory Usage: 3.04MB\n",
            "Test Loss: 0.3112, Test Acc: 0.8990, Test Latency: 4.22s, Test Memory Usage: 0.19MB\n",
            "\n",
            "Epoch 142\n"
          ]
        },
        {
          "name": "stderr",
          "output_type": "stream",
          "text": [
            "Train: 100%|##########| 391/391 [00:34<00:00, 11.37batch/s]\n"
          ]
        },
        {
          "name": "stdout",
          "output_type": "stream",
          "text": [
            "LR: 1.0000e-03, Train Loss: 0.1440, Train Acc: 0.9521, Train Latency: 34.40s, Memory Usage: 3.04MB\n",
            "Test Loss: 0.3218, Test Acc: 0.8943, Test Latency: 4.22s, Test Memory Usage: 0.19MB\n",
            "\n",
            "Epoch 143\n"
          ]
        },
        {
          "name": "stderr",
          "output_type": "stream",
          "text": [
            "Train: 100%|##########| 391/391 [00:34<00:00, 11.39batch/s]\n"
          ]
        },
        {
          "name": "stdout",
          "output_type": "stream",
          "text": [
            "LR: 1.0000e-03, Train Loss: 0.1428, Train Acc: 0.9528, Train Latency: 34.33s, Memory Usage: 3.04MB\n",
            "Test Loss: 0.3202, Test Acc: 0.8965, Test Latency: 4.21s, Test Memory Usage: 0.19MB\n",
            "\n",
            "Epoch 144\n"
          ]
        },
        {
          "name": "stderr",
          "output_type": "stream",
          "text": [
            "Train: 100%|##########| 391/391 [00:34<00:00, 11.46batch/s]\n"
          ]
        },
        {
          "name": "stdout",
          "output_type": "stream",
          "text": [
            "LR: 1.0000e-03, Train Loss: 0.1480, Train Acc: 0.9510, Train Latency: 34.12s, Memory Usage: 3.04MB\n",
            "Test Loss: 0.3210, Test Acc: 0.8945, Test Latency: 4.19s, Test Memory Usage: 0.19MB\n",
            "\n",
            "Epoch 145\n"
          ]
        },
        {
          "name": "stderr",
          "output_type": "stream",
          "text": [
            "Train: 100%|##########| 391/391 [00:34<00:00, 11.44batch/s]\n"
          ]
        },
        {
          "name": "stdout",
          "output_type": "stream",
          "text": [
            "LR: 1.0000e-03, Train Loss: 0.1452, Train Acc: 0.9528, Train Latency: 34.18s, Memory Usage: 3.04MB\n",
            "Test Loss: 0.3104, Test Acc: 0.9012, Test Latency: 4.20s, Test Memory Usage: 0.19MB\n",
            "\n",
            "Epoch 146\n"
          ]
        },
        {
          "name": "stderr",
          "output_type": "stream",
          "text": [
            "Train: 100%|##########| 391/391 [00:34<00:00, 11.34batch/s]\n"
          ]
        },
        {
          "name": "stdout",
          "output_type": "stream",
          "text": [
            "LR: 1.0000e-03, Train Loss: 0.1379, Train Acc: 0.9545, Train Latency: 34.49s, Memory Usage: 3.04MB\n",
            "Test Loss: 0.3072, Test Acc: 0.9011, Test Latency: 4.18s, Test Memory Usage: 0.19MB\n",
            "\n",
            "Epoch 147\n"
          ]
        },
        {
          "name": "stderr",
          "output_type": "stream",
          "text": [
            "Train: 100%|##########| 391/391 [00:34<00:00, 11.43batch/s]\n"
          ]
        },
        {
          "name": "stdout",
          "output_type": "stream",
          "text": [
            "LR: 1.0000e-03, Train Loss: 0.1394, Train Acc: 0.9539, Train Latency: 34.20s, Memory Usage: 3.04MB\n",
            "Test Loss: 0.3184, Test Acc: 0.8977, Test Latency: 4.19s, Test Memory Usage: 0.19MB\n",
            "\n",
            "Epoch 148\n"
          ]
        },
        {
          "name": "stderr",
          "output_type": "stream",
          "text": [
            "Train: 100%|##########| 391/391 [00:34<00:00, 11.38batch/s]\n"
          ]
        },
        {
          "name": "stdout",
          "output_type": "stream",
          "text": [
            "LR: 1.0000e-03, Train Loss: 0.1389, Train Acc: 0.9537, Train Latency: 34.35s, Memory Usage: 3.04MB\n",
            "Test Loss: 0.3278, Test Acc: 0.8959, Test Latency: 4.20s, Test Memory Usage: 0.19MB\n",
            "\n",
            "Epoch 149\n"
          ]
        },
        {
          "name": "stderr",
          "output_type": "stream",
          "text": [
            "Train: 100%|##########| 391/391 [00:34<00:00, 11.41batch/s]\n"
          ]
        },
        {
          "name": "stdout",
          "output_type": "stream",
          "text": [
            "LR: 1.0000e-03, Train Loss: 0.1443, Train Acc: 0.9515, Train Latency: 34.28s, Memory Usage: 3.04MB\n",
            "Test Loss: 0.3076, Test Acc: 0.8992, Test Latency: 4.20s, Test Memory Usage: 0.19MB\n",
            "\n",
            "Epoch 150\n"
          ]
        },
        {
          "name": "stderr",
          "output_type": "stream",
          "text": [
            "Train: 100%|##########| 391/391 [00:34<00:00, 11.45batch/s]\n"
          ]
        },
        {
          "name": "stdout",
          "output_type": "stream",
          "text": [
            "LR: 1.0000e-03, Train Loss: 0.1430, Train Acc: 0.9524, Train Latency: 34.14s, Memory Usage: 3.04MB\n",
            "Test Loss: 0.3058, Test Acc: 0.8982, Test Latency: 4.19s, Test Memory Usage: 0.19MB\n",
            "\n",
            "Epoch 151\n"
          ]
        },
        {
          "name": "stderr",
          "output_type": "stream",
          "text": [
            "Train: 100%|##########| 391/391 [00:34<00:00, 11.46batch/s]\n"
          ]
        },
        {
          "name": "stdout",
          "output_type": "stream",
          "text": [
            "LR: 1.0000e-04, Train Loss: 0.1394, Train Acc: 0.9540, Train Latency: 34.12s, Memory Usage: 3.04MB\n",
            "Test Loss: 0.2984, Test Acc: 0.9024, Test Latency: 4.20s, Test Memory Usage: 0.19MB\n",
            "\n",
            "Epoch 152\n"
          ]
        },
        {
          "name": "stderr",
          "output_type": "stream",
          "text": [
            "Train: 100%|##########| 391/391 [00:34<00:00, 11.45batch/s]\n"
          ]
        },
        {
          "name": "stdout",
          "output_type": "stream",
          "text": [
            "LR: 1.0000e-04, Train Loss: 0.1374, Train Acc: 0.9551, Train Latency: 34.17s, Memory Usage: 3.04MB\n",
            "Test Loss: 0.2919, Test Acc: 0.9053, Test Latency: 4.17s, Test Memory Usage: 0.19MB\n",
            "Saving best model ...\n",
            "\n",
            "Epoch 153\n"
          ]
        },
        {
          "name": "stderr",
          "output_type": "stream",
          "text": [
            "Train: 100%|##########| 391/391 [00:34<00:00, 11.39batch/s]\n"
          ]
        },
        {
          "name": "stdout",
          "output_type": "stream",
          "text": [
            "LR: 1.0000e-04, Train Loss: 0.1300, Train Acc: 0.9582, Train Latency: 34.34s, Memory Usage: 3.04MB\n",
            "Test Loss: 0.2962, Test Acc: 0.9046, Test Latency: 4.19s, Test Memory Usage: 0.19MB\n",
            "\n",
            "Epoch 154\n"
          ]
        },
        {
          "name": "stderr",
          "output_type": "stream",
          "text": [
            "Train: 100%|##########| 391/391 [00:34<00:00, 11.37batch/s]\n"
          ]
        },
        {
          "name": "stdout",
          "output_type": "stream",
          "text": [
            "LR: 1.0000e-04, Train Loss: 0.1279, Train Acc: 0.9584, Train Latency: 34.40s, Memory Usage: 3.04MB\n",
            "Test Loss: 0.2935, Test Acc: 0.9027, Test Latency: 4.20s, Test Memory Usage: 0.19MB\n",
            "\n",
            "Epoch 155\n"
          ]
        },
        {
          "name": "stderr",
          "output_type": "stream",
          "text": [
            "Train: 100%|##########| 391/391 [00:34<00:00, 11.42batch/s]\n"
          ]
        },
        {
          "name": "stdout",
          "output_type": "stream",
          "text": [
            "LR: 1.0000e-04, Train Loss: 0.1240, Train Acc: 0.9607, Train Latency: 34.26s, Memory Usage: 3.04MB\n",
            "Test Loss: 0.2937, Test Acc: 0.9038, Test Latency: 4.20s, Test Memory Usage: 0.19MB\n",
            "\n",
            "Epoch 156\n"
          ]
        },
        {
          "name": "stderr",
          "output_type": "stream",
          "text": [
            "Train: 100%|##########| 391/391 [00:34<00:00, 11.40batch/s]\n"
          ]
        },
        {
          "name": "stdout",
          "output_type": "stream",
          "text": [
            "LR: 1.0000e-04, Train Loss: 0.1226, Train Acc: 0.9599, Train Latency: 34.30s, Memory Usage: 3.04MB\n",
            "Test Loss: 0.2891, Test Acc: 0.9039, Test Latency: 4.22s, Test Memory Usage: 0.19MB\n",
            "\n",
            "Epoch 157\n"
          ]
        },
        {
          "name": "stderr",
          "output_type": "stream",
          "text": [
            "Train: 100%|##########| 391/391 [00:34<00:00, 11.38batch/s]\n"
          ]
        },
        {
          "name": "stdout",
          "output_type": "stream",
          "text": [
            "LR: 1.0000e-04, Train Loss: 0.1235, Train Acc: 0.9615, Train Latency: 34.38s, Memory Usage: 3.04MB\n",
            "Test Loss: 0.2900, Test Acc: 0.9066, Test Latency: 4.18s, Test Memory Usage: 0.19MB\n",
            "Saving best model ...\n",
            "\n",
            "Epoch 158\n"
          ]
        },
        {
          "name": "stderr",
          "output_type": "stream",
          "text": [
            "Train: 100%|##########| 391/391 [00:34<00:00, 11.35batch/s]\n"
          ]
        },
        {
          "name": "stdout",
          "output_type": "stream",
          "text": [
            "LR: 1.0000e-04, Train Loss: 0.1205, Train Acc: 0.9610, Train Latency: 34.46s, Memory Usage: 3.04MB\n",
            "Test Loss: 0.2859, Test Acc: 0.9071, Test Latency: 4.25s, Test Memory Usage: 0.19MB\n",
            "Saving best model ...\n",
            "\n",
            "Epoch 159\n"
          ]
        },
        {
          "name": "stderr",
          "output_type": "stream",
          "text": [
            "Train: 100%|##########| 391/391 [00:34<00:00, 11.40batch/s]\n"
          ]
        },
        {
          "name": "stdout",
          "output_type": "stream",
          "text": [
            "LR: 1.0000e-04, Train Loss: 0.1199, Train Acc: 0.9625, Train Latency: 34.31s, Memory Usage: 3.04MB\n",
            "Test Loss: 0.2978, Test Acc: 0.9042, Test Latency: 4.17s, Test Memory Usage: 0.19MB\n",
            "\n",
            "Epoch 160\n"
          ]
        },
        {
          "name": "stderr",
          "output_type": "stream",
          "text": [
            "Train: 100%|##########| 391/391 [00:34<00:00, 11.45batch/s]\n"
          ]
        },
        {
          "name": "stdout",
          "output_type": "stream",
          "text": [
            "LR: 1.0000e-04, Train Loss: 0.1196, Train Acc: 0.9619, Train Latency: 34.14s, Memory Usage: 3.04MB\n",
            "Test Loss: 0.2930, Test Acc: 0.9046, Test Latency: 4.20s, Test Memory Usage: 0.19MB\n",
            "\n",
            "Epoch 161\n"
          ]
        },
        {
          "name": "stderr",
          "output_type": "stream",
          "text": [
            "Train: 100%|##########| 391/391 [00:34<00:00, 11.42batch/s]\n"
          ]
        },
        {
          "name": "stdout",
          "output_type": "stream",
          "text": [
            "LR: 1.0000e-04, Train Loss: 0.1155, Train Acc: 0.9630, Train Latency: 34.25s, Memory Usage: 3.04MB\n",
            "Test Loss: 0.2877, Test Acc: 0.9082, Test Latency: 4.20s, Test Memory Usage: 0.19MB\n",
            "Saving best model ...\n",
            "\n",
            "Epoch 162\n"
          ]
        },
        {
          "name": "stderr",
          "output_type": "stream",
          "text": [
            "Train: 100%|##########| 391/391 [00:34<00:00, 11.41batch/s]\n"
          ]
        },
        {
          "name": "stdout",
          "output_type": "stream",
          "text": [
            "LR: 1.0000e-04, Train Loss: 0.1110, Train Acc: 0.9655, Train Latency: 34.28s, Memory Usage: 3.04MB\n",
            "Test Loss: 0.2840, Test Acc: 0.9068, Test Latency: 4.20s, Test Memory Usage: 0.19MB\n",
            "\n",
            "Epoch 163\n"
          ]
        },
        {
          "name": "stderr",
          "output_type": "stream",
          "text": [
            "Train: 100%|##########| 391/391 [00:34<00:00, 11.42batch/s]\n"
          ]
        },
        {
          "name": "stdout",
          "output_type": "stream",
          "text": [
            "LR: 1.0000e-04, Train Loss: 0.1131, Train Acc: 0.9644, Train Latency: 34.23s, Memory Usage: 3.04MB\n",
            "Test Loss: 0.2884, Test Acc: 0.9049, Test Latency: 4.18s, Test Memory Usage: 0.19MB\n",
            "\n",
            "Epoch 164\n"
          ]
        },
        {
          "name": "stderr",
          "output_type": "stream",
          "text": [
            "Train: 100%|##########| 391/391 [00:34<00:00, 11.41batch/s]\n"
          ]
        },
        {
          "name": "stdout",
          "output_type": "stream",
          "text": [
            "LR: 1.0000e-04, Train Loss: 0.1135, Train Acc: 0.9643, Train Latency: 34.27s, Memory Usage: 3.04MB\n",
            "Test Loss: 0.2828, Test Acc: 0.9075, Test Latency: 4.19s, Test Memory Usage: 0.19MB\n",
            "\n",
            "Epoch 165\n"
          ]
        },
        {
          "name": "stderr",
          "output_type": "stream",
          "text": [
            "Train: 100%|##########| 391/391 [00:34<00:00, 11.41batch/s]\n"
          ]
        },
        {
          "name": "stdout",
          "output_type": "stream",
          "text": [
            "LR: 1.0000e-04, Train Loss: 0.1094, Train Acc: 0.9662, Train Latency: 34.28s, Memory Usage: 3.04MB\n",
            "Test Loss: 0.2866, Test Acc: 0.9030, Test Latency: 4.18s, Test Memory Usage: 0.19MB\n",
            "\n",
            "Epoch 166\n"
          ]
        },
        {
          "name": "stderr",
          "output_type": "stream",
          "text": [
            "Train: 100%|##########| 391/391 [00:34<00:00, 11.38batch/s]\n"
          ]
        },
        {
          "name": "stdout",
          "output_type": "stream",
          "text": [
            "LR: 1.0000e-04, Train Loss: 0.1134, Train Acc: 0.9646, Train Latency: 34.37s, Memory Usage: 3.04MB\n",
            "Test Loss: 0.2905, Test Acc: 0.9080, Test Latency: 4.19s, Test Memory Usage: 0.19MB\n",
            "\n",
            "Epoch 167\n"
          ]
        },
        {
          "name": "stderr",
          "output_type": "stream",
          "text": [
            "Train: 100%|##########| 391/391 [00:34<00:00, 11.45batch/s]\n"
          ]
        },
        {
          "name": "stdout",
          "output_type": "stream",
          "text": [
            "LR: 1.0000e-04, Train Loss: 0.1121, Train Acc: 0.9645, Train Latency: 34.17s, Memory Usage: 3.04MB\n",
            "Test Loss: 0.2844, Test Acc: 0.9093, Test Latency: 4.20s, Test Memory Usage: 0.19MB\n",
            "Saving best model ...\n",
            "\n",
            "Epoch 168\n"
          ]
        },
        {
          "name": "stderr",
          "output_type": "stream",
          "text": [
            "Train: 100%|##########| 391/391 [00:34<00:00, 11.45batch/s]\n"
          ]
        },
        {
          "name": "stdout",
          "output_type": "stream",
          "text": [
            "LR: 1.0000e-04, Train Loss: 0.1127, Train Acc: 0.9643, Train Latency: 34.14s, Memory Usage: 3.04MB\n",
            "Test Loss: 0.2815, Test Acc: 0.9078, Test Latency: 4.20s, Test Memory Usage: 0.19MB\n",
            "\n",
            "Epoch 169\n"
          ]
        },
        {
          "name": "stderr",
          "output_type": "stream",
          "text": [
            "Train: 100%|##########| 391/391 [00:34<00:00, 11.37batch/s]\n"
          ]
        },
        {
          "name": "stdout",
          "output_type": "stream",
          "text": [
            "LR: 1.0000e-04, Train Loss: 0.1166, Train Acc: 0.9638, Train Latency: 34.39s, Memory Usage: 3.04MB\n",
            "Test Loss: 0.2872, Test Acc: 0.9046, Test Latency: 4.26s, Test Memory Usage: 0.19MB\n",
            "\n",
            "Epoch 170\n"
          ]
        },
        {
          "name": "stderr",
          "output_type": "stream",
          "text": [
            "Train: 100%|##########| 391/391 [00:34<00:00, 11.30batch/s]\n"
          ]
        },
        {
          "name": "stdout",
          "output_type": "stream",
          "text": [
            "LR: 1.0000e-04, Train Loss: 0.1183, Train Acc: 0.9624, Train Latency: 34.61s, Memory Usage: 3.04MB\n",
            "Test Loss: 0.2905, Test Acc: 0.9051, Test Latency: 4.24s, Test Memory Usage: 0.19MB\n",
            "\n",
            "Epoch 171\n"
          ]
        },
        {
          "name": "stderr",
          "output_type": "stream",
          "text": [
            "Train: 100%|##########| 391/391 [00:34<00:00, 11.41batch/s]\n"
          ]
        },
        {
          "name": "stdout",
          "output_type": "stream",
          "text": [
            "LR: 1.0000e-04, Train Loss: 0.1155, Train Acc: 0.9635, Train Latency: 34.28s, Memory Usage: 3.04MB\n",
            "Test Loss: 0.2866, Test Acc: 0.9043, Test Latency: 4.19s, Test Memory Usage: 0.19MB\n",
            "\n",
            "Epoch 172\n"
          ]
        },
        {
          "name": "stderr",
          "output_type": "stream",
          "text": [
            "Train: 100%|##########| 391/391 [00:34<00:00, 11.36batch/s]\n"
          ]
        },
        {
          "name": "stdout",
          "output_type": "stream",
          "text": [
            "LR: 1.0000e-04, Train Loss: 0.1079, Train Acc: 0.9663, Train Latency: 34.42s, Memory Usage: 3.04MB\n",
            "Test Loss: 0.2892, Test Acc: 0.9064, Test Latency: 4.18s, Test Memory Usage: 0.19MB\n",
            "\n",
            "Epoch 173\n"
          ]
        },
        {
          "name": "stderr",
          "output_type": "stream",
          "text": [
            "Train: 100%|##########| 391/391 [00:34<00:00, 11.37batch/s]\n"
          ]
        },
        {
          "name": "stdout",
          "output_type": "stream",
          "text": [
            "LR: 1.0000e-04, Train Loss: 0.1124, Train Acc: 0.9644, Train Latency: 34.40s, Memory Usage: 3.04MB\n",
            "Test Loss: 0.2974, Test Acc: 0.9049, Test Latency: 4.19s, Test Memory Usage: 0.19MB\n",
            "\n",
            "Epoch 174\n"
          ]
        },
        {
          "name": "stderr",
          "output_type": "stream",
          "text": [
            "Train: 100%|##########| 391/391 [00:34<00:00, 11.37batch/s]\n"
          ]
        },
        {
          "name": "stdout",
          "output_type": "stream",
          "text": [
            "LR: 1.0000e-04, Train Loss: 0.1174, Train Acc: 0.9619, Train Latency: 34.40s, Memory Usage: 3.04MB\n",
            "Test Loss: 0.2965, Test Acc: 0.9048, Test Latency: 4.21s, Test Memory Usage: 0.19MB\n",
            "\n",
            "Epoch 175\n"
          ]
        },
        {
          "name": "stderr",
          "output_type": "stream",
          "text": [
            "Train: 100%|##########| 391/391 [00:34<00:00, 11.39batch/s]\n"
          ]
        },
        {
          "name": "stdout",
          "output_type": "stream",
          "text": [
            "LR: 1.0000e-04, Train Loss: 0.1134, Train Acc: 0.9638, Train Latency: 34.32s, Memory Usage: 3.04MB\n",
            "Test Loss: 0.2985, Test Acc: 0.9045, Test Latency: 4.17s, Test Memory Usage: 0.19MB\n",
            "\n",
            "Epoch 176\n"
          ]
        },
        {
          "name": "stderr",
          "output_type": "stream",
          "text": [
            "Train: 100%|##########| 391/391 [00:34<00:00, 11.42batch/s]\n"
          ]
        },
        {
          "name": "stdout",
          "output_type": "stream",
          "text": [
            "LR: 1.0000e-04, Train Loss: 0.1138, Train Acc: 0.9634, Train Latency: 34.25s, Memory Usage: 3.04MB\n",
            "Test Loss: 0.2976, Test Acc: 0.9057, Test Latency: 4.20s, Test Memory Usage: 0.19MB\n",
            "\n",
            "Epoch 177\n"
          ]
        },
        {
          "name": "stderr",
          "output_type": "stream",
          "text": [
            "Train: 100%|##########| 391/391 [00:34<00:00, 11.42batch/s]\n"
          ]
        },
        {
          "name": "stdout",
          "output_type": "stream",
          "text": [
            "LR: 1.0000e-04, Train Loss: 0.1153, Train Acc: 0.9625, Train Latency: 34.25s, Memory Usage: 3.04MB\n",
            "Test Loss: 0.2958, Test Acc: 0.9030, Test Latency: 4.17s, Test Memory Usage: 0.19MB\n",
            "\n",
            "Epoch 178\n"
          ]
        },
        {
          "name": "stderr",
          "output_type": "stream",
          "text": [
            "Train: 100%|##########| 391/391 [00:34<00:00, 11.42batch/s]\n"
          ]
        },
        {
          "name": "stdout",
          "output_type": "stream",
          "text": [
            "LR: 1.0000e-04, Train Loss: 0.1210, Train Acc: 0.9616, Train Latency: 34.25s, Memory Usage: 3.04MB\n",
            "Test Loss: 0.2985, Test Acc: 0.9031, Test Latency: 4.19s, Test Memory Usage: 0.19MB\n",
            "\n",
            "Epoch 179\n"
          ]
        },
        {
          "name": "stderr",
          "output_type": "stream",
          "text": [
            "Train: 100%|##########| 391/391 [00:34<00:00, 11.45batch/s]\n"
          ]
        },
        {
          "name": "stdout",
          "output_type": "stream",
          "text": [
            "LR: 1.0000e-04, Train Loss: 0.1215, Train Acc: 0.9605, Train Latency: 34.15s, Memory Usage: 3.04MB\n",
            "Test Loss: 0.2986, Test Acc: 0.9052, Test Latency: 4.17s, Test Memory Usage: 0.19MB\n",
            "\n",
            "Epoch 180\n"
          ]
        },
        {
          "name": "stderr",
          "output_type": "stream",
          "text": [
            "Train: 100%|##########| 391/391 [00:34<00:00, 11.45batch/s]\n"
          ]
        },
        {
          "name": "stdout",
          "output_type": "stream",
          "text": [
            "LR: 1.0000e-04, Train Loss: 0.1211, Train Acc: 0.9612, Train Latency: 34.14s, Memory Usage: 3.04MB\n",
            "Test Loss: 0.3022, Test Acc: 0.9038, Test Latency: 4.22s, Test Memory Usage: 0.19MB\n",
            "\n",
            "Epoch 181\n"
          ]
        },
        {
          "name": "stderr",
          "output_type": "stream",
          "text": [
            "Train: 100%|##########| 391/391 [00:34<00:00, 11.45batch/s]\n"
          ]
        },
        {
          "name": "stdout",
          "output_type": "stream",
          "text": [
            "LR: 1.0000e-04, Train Loss: 0.1156, Train Acc: 0.9624, Train Latency: 34.15s, Memory Usage: 3.04MB\n",
            "Test Loss: 0.2923, Test Acc: 0.9073, Test Latency: 4.19s, Test Memory Usage: 0.19MB\n",
            "\n",
            "Epoch 182\n"
          ]
        },
        {
          "name": "stderr",
          "output_type": "stream",
          "text": [
            "Train: 100%|##########| 391/391 [00:34<00:00, 11.39batch/s]\n"
          ]
        },
        {
          "name": "stdout",
          "output_type": "stream",
          "text": [
            "LR: 1.0000e-04, Train Loss: 0.1133, Train Acc: 0.9643, Train Latency: 34.32s, Memory Usage: 3.04MB\n",
            "Test Loss: 0.2900, Test Acc: 0.9050, Test Latency: 4.24s, Test Memory Usage: 0.19MB\n",
            "\n",
            "Epoch 183\n"
          ]
        },
        {
          "name": "stderr",
          "output_type": "stream",
          "text": [
            "Train: 100%|##########| 391/391 [00:34<00:00, 11.40batch/s]\n"
          ]
        },
        {
          "name": "stdout",
          "output_type": "stream",
          "text": [
            "LR: 1.0000e-04, Train Loss: 0.1122, Train Acc: 0.9645, Train Latency: 34.31s, Memory Usage: 3.04MB\n",
            "Test Loss: 0.2934, Test Acc: 0.9056, Test Latency: 4.18s, Test Memory Usage: 0.19MB\n",
            "\n",
            "Epoch 184\n"
          ]
        },
        {
          "name": "stderr",
          "output_type": "stream",
          "text": [
            "Train: 100%|##########| 391/391 [00:34<00:00, 11.42batch/s]\n"
          ]
        },
        {
          "name": "stdout",
          "output_type": "stream",
          "text": [
            "LR: 1.0000e-04, Train Loss: 0.1142, Train Acc: 0.9629, Train Latency: 34.24s, Memory Usage: 3.04MB\n",
            "Test Loss: 0.2938, Test Acc: 0.9078, Test Latency: 4.20s, Test Memory Usage: 0.19MB\n",
            "\n",
            "Epoch 185\n"
          ]
        },
        {
          "name": "stderr",
          "output_type": "stream",
          "text": [
            "Train: 100%|##########| 391/391 [00:34<00:00, 11.40batch/s]\n"
          ]
        },
        {
          "name": "stdout",
          "output_type": "stream",
          "text": [
            "LR: 1.0000e-04, Train Loss: 0.1162, Train Acc: 0.9631, Train Latency: 34.30s, Memory Usage: 3.04MB\n",
            "Test Loss: 0.2890, Test Acc: 0.9091, Test Latency: 4.20s, Test Memory Usage: 0.19MB\n",
            "\n",
            "Epoch 186\n"
          ]
        },
        {
          "name": "stderr",
          "output_type": "stream",
          "text": [
            "Train: 100%|##########| 391/391 [00:34<00:00, 11.40batch/s]\n"
          ]
        },
        {
          "name": "stdout",
          "output_type": "stream",
          "text": [
            "LR: 1.0000e-04, Train Loss: 0.1149, Train Acc: 0.9630, Train Latency: 34.30s, Memory Usage: 3.04MB\n",
            "Test Loss: 0.2895, Test Acc: 0.9092, Test Latency: 4.20s, Test Memory Usage: 0.19MB\n",
            "\n",
            "Epoch 187\n"
          ]
        },
        {
          "name": "stderr",
          "output_type": "stream",
          "text": [
            "Train: 100%|##########| 391/391 [00:34<00:00, 11.44batch/s]\n"
          ]
        },
        {
          "name": "stdout",
          "output_type": "stream",
          "text": [
            "LR: 1.0000e-04, Train Loss: 0.1151, Train Acc: 0.9636, Train Latency: 34.19s, Memory Usage: 3.04MB\n",
            "Test Loss: 0.2928, Test Acc: 0.9055, Test Latency: 4.25s, Test Memory Usage: 0.19MB\n",
            "\n",
            "Epoch 188\n"
          ]
        },
        {
          "name": "stderr",
          "output_type": "stream",
          "text": [
            "Train: 100%|##########| 391/391 [00:34<00:00, 11.40batch/s]\n"
          ]
        },
        {
          "name": "stdout",
          "output_type": "stream",
          "text": [
            "LR: 1.0000e-04, Train Loss: 0.1162, Train Acc: 0.9622, Train Latency: 34.32s, Memory Usage: 3.04MB\n",
            "Test Loss: 0.2911, Test Acc: 0.9069, Test Latency: 4.20s, Test Memory Usage: 0.19MB\n",
            "\n",
            "Epoch 189\n"
          ]
        },
        {
          "name": "stderr",
          "output_type": "stream",
          "text": [
            "Train: 100%|##########| 391/391 [00:34<00:00, 11.39batch/s]\n"
          ]
        },
        {
          "name": "stdout",
          "output_type": "stream",
          "text": [
            "LR: 1.0000e-04, Train Loss: 0.1197, Train Acc: 0.9617, Train Latency: 34.34s, Memory Usage: 3.04MB\n",
            "Test Loss: 0.2948, Test Acc: 0.9066, Test Latency: 4.24s, Test Memory Usage: 0.19MB\n",
            "\n",
            "Epoch 190\n"
          ]
        },
        {
          "name": "stderr",
          "output_type": "stream",
          "text": [
            "Train: 100%|##########| 391/391 [00:34<00:00, 11.40batch/s]\n"
          ]
        },
        {
          "name": "stdout",
          "output_type": "stream",
          "text": [
            "LR: 1.0000e-04, Train Loss: 0.1160, Train Acc: 0.9623, Train Latency: 34.31s, Memory Usage: 3.04MB\n",
            "Test Loss: 0.2909, Test Acc: 0.9064, Test Latency: 4.21s, Test Memory Usage: 0.19MB\n",
            "\n",
            "Epoch 191\n"
          ]
        },
        {
          "name": "stderr",
          "output_type": "stream",
          "text": [
            "Train: 100%|##########| 391/391 [00:34<00:00, 11.42batch/s]\n"
          ]
        },
        {
          "name": "stdout",
          "output_type": "stream",
          "text": [
            "LR: 1.0000e-04, Train Loss: 0.1186, Train Acc: 0.9613, Train Latency: 34.23s, Memory Usage: 3.04MB\n",
            "Test Loss: 0.3001, Test Acc: 0.9066, Test Latency: 4.20s, Test Memory Usage: 0.19MB\n",
            "\n",
            "Epoch 192\n"
          ]
        },
        {
          "name": "stderr",
          "output_type": "stream",
          "text": [
            "Train: 100%|##########| 391/391 [00:34<00:00, 11.47batch/s]\n"
          ]
        },
        {
          "name": "stdout",
          "output_type": "stream",
          "text": [
            "LR: 1.0000e-04, Train Loss: 0.1203, Train Acc: 0.9609, Train Latency: 34.09s, Memory Usage: 3.04MB\n",
            "Test Loss: 0.3077, Test Acc: 0.9024, Test Latency: 4.17s, Test Memory Usage: 0.19MB\n",
            "\n",
            "Epoch 193\n"
          ]
        },
        {
          "name": "stderr",
          "output_type": "stream",
          "text": [
            "Train: 100%|##########| 391/391 [00:34<00:00, 11.43batch/s]\n"
          ]
        },
        {
          "name": "stdout",
          "output_type": "stream",
          "text": [
            "LR: 1.0000e-04, Train Loss: 0.1212, Train Acc: 0.9610, Train Latency: 34.22s, Memory Usage: 3.04MB\n",
            "Test Loss: 0.2945, Test Acc: 0.9035, Test Latency: 4.18s, Test Memory Usage: 0.19MB\n",
            "\n",
            "Epoch 194\n"
          ]
        },
        {
          "name": "stderr",
          "output_type": "stream",
          "text": [
            "Train: 100%|##########| 391/391 [00:34<00:00, 11.38batch/s]\n"
          ]
        },
        {
          "name": "stdout",
          "output_type": "stream",
          "text": [
            "LR: 1.0000e-04, Train Loss: 0.1182, Train Acc: 0.9624, Train Latency: 34.36s, Memory Usage: 3.04MB\n",
            "Test Loss: 0.2945, Test Acc: 0.9031, Test Latency: 4.19s, Test Memory Usage: 0.19MB\n",
            "\n",
            "Epoch 195\n"
          ]
        },
        {
          "name": "stderr",
          "output_type": "stream",
          "text": [
            "Train: 100%|##########| 391/391 [00:34<00:00, 11.43batch/s]\n"
          ]
        },
        {
          "name": "stdout",
          "output_type": "stream",
          "text": [
            "LR: 1.0000e-04, Train Loss: 0.1144, Train Acc: 0.9636, Train Latency: 34.22s, Memory Usage: 3.04MB\n",
            "Test Loss: 0.2955, Test Acc: 0.9031, Test Latency: 4.20s, Test Memory Usage: 0.19MB\n",
            "\n",
            "Epoch 196\n"
          ]
        },
        {
          "name": "stderr",
          "output_type": "stream",
          "text": [
            "Train: 100%|##########| 391/391 [00:34<00:00, 11.43batch/s]\n"
          ]
        },
        {
          "name": "stdout",
          "output_type": "stream",
          "text": [
            "LR: 1.0000e-04, Train Loss: 0.1133, Train Acc: 0.9636, Train Latency: 34.21s, Memory Usage: 3.04MB\n",
            "Test Loss: 0.2923, Test Acc: 0.9045, Test Latency: 4.20s, Test Memory Usage: 0.19MB\n",
            "\n",
            "Epoch 197\n"
          ]
        },
        {
          "name": "stderr",
          "output_type": "stream",
          "text": [
            "Train: 100%|##########| 391/391 [00:34<00:00, 11.39batch/s]\n"
          ]
        },
        {
          "name": "stdout",
          "output_type": "stream",
          "text": [
            "LR: 1.0000e-04, Train Loss: 0.1113, Train Acc: 0.9646, Train Latency: 34.33s, Memory Usage: 3.04MB\n",
            "Test Loss: 0.2941, Test Acc: 0.9053, Test Latency: 4.19s, Test Memory Usage: 0.19MB\n",
            "\n",
            "Epoch 198\n"
          ]
        },
        {
          "name": "stderr",
          "output_type": "stream",
          "text": [
            "Train: 100%|##########| 391/391 [00:34<00:00, 11.42batch/s]\n"
          ]
        },
        {
          "name": "stdout",
          "output_type": "stream",
          "text": [
            "LR: 1.0000e-04, Train Loss: 0.1100, Train Acc: 0.9647, Train Latency: 34.24s, Memory Usage: 3.04MB\n",
            "Test Loss: 0.2937, Test Acc: 0.9061, Test Latency: 4.26s, Test Memory Usage: 0.19MB\n",
            "\n",
            "Epoch 199\n"
          ]
        },
        {
          "name": "stderr",
          "output_type": "stream",
          "text": [
            "Train: 100%|##########| 391/391 [00:34<00:00, 11.39batch/s]\n"
          ]
        },
        {
          "name": "stdout",
          "output_type": "stream",
          "text": [
            "LR: 1.0000e-04, Train Loss: 0.1097, Train Acc: 0.9652, Train Latency: 34.34s, Memory Usage: 3.04MB\n",
            "Test Loss: 0.2919, Test Acc: 0.9070, Test Latency: 4.23s, Test Memory Usage: 0.19MB\n",
            "\n",
            "Epoch 200\n"
          ]
        },
        {
          "name": "stderr",
          "output_type": "stream",
          "text": [
            "Train: 100%|##########| 391/391 [00:34<00:00, 11.36batch/s]\n"
          ]
        },
        {
          "name": "stdout",
          "output_type": "stream",
          "text": [
            "LR: 1.0000e-04, Train Loss: 0.1051, Train Acc: 0.9671, Train Latency: 34.42s, Memory Usage: 3.04MB\n",
            "Test Loss: 0.2849, Test Acc: 0.9080, Test Latency: 4.18s, Test Memory Usage: 0.19MB\n",
            "Saving final epoch model ...\n",
            "\n",
            "Quantization: weight=1 activation=None, Using device: cuda\n",
            "\n",
            "Epoch 1\n"
          ]
        },
        {
          "name": "stderr",
          "output_type": "stream",
          "text": [
            "Train: 100%|##########| 391/391 [00:31<00:00, 12.53batch/s]\n"
          ]
        },
        {
          "name": "stdout",
          "output_type": "stream",
          "text": [
            "LR: 1.0000e-01, Train Loss: 1.7249, Train Acc: 0.3716, Train Latency: 31.20s, Memory Usage: 3.04MB\n",
            "Test Loss: 1.6123, Test Acc: 0.4065, Test Latency: 3.59s, Test Memory Usage: 0.19MB\n",
            "\n",
            "Epoch 2\n"
          ]
        },
        {
          "name": "stderr",
          "output_type": "stream",
          "text": [
            "Train: 100%|##########| 391/391 [00:31<00:00, 12.52batch/s]\n"
          ]
        },
        {
          "name": "stdout",
          "output_type": "stream",
          "text": [
            "LR: 1.0000e-01, Train Loss: 1.2525, Train Acc: 0.5436, Train Latency: 31.23s, Memory Usage: 3.04MB\n",
            "Test Loss: 1.2559, Test Acc: 0.5597, Test Latency: 3.60s, Test Memory Usage: 0.19MB\n",
            "\n",
            "Epoch 3\n"
          ]
        },
        {
          "name": "stderr",
          "output_type": "stream",
          "text": [
            "Train: 100%|##########| 391/391 [00:31<00:00, 12.51batch/s]\n"
          ]
        },
        {
          "name": "stdout",
          "output_type": "stream",
          "text": [
            "LR: 1.0000e-01, Train Loss: 1.0494, Train Acc: 0.6247, Train Latency: 31.26s, Memory Usage: 3.04MB\n",
            "Test Loss: 1.7395, Test Acc: 0.5239, Test Latency: 3.61s, Test Memory Usage: 0.19MB\n",
            "\n",
            "Epoch 4\n"
          ]
        },
        {
          "name": "stderr",
          "output_type": "stream",
          "text": [
            "Train: 100%|##########| 391/391 [00:31<00:00, 12.54batch/s]\n"
          ]
        },
        {
          "name": "stdout",
          "output_type": "stream",
          "text": [
            "LR: 1.0000e-01, Train Loss: 0.9340, Train Acc: 0.6707, Train Latency: 31.18s, Memory Usage: 3.04MB\n",
            "Test Loss: 1.0371, Test Acc: 0.6438, Test Latency: 3.58s, Test Memory Usage: 0.19MB\n",
            "\n",
            "Epoch 5\n"
          ]
        },
        {
          "name": "stderr",
          "output_type": "stream",
          "text": [
            "Train: 100%|##########| 391/391 [00:31<00:00, 12.50batch/s]\n"
          ]
        },
        {
          "name": "stdout",
          "output_type": "stream",
          "text": [
            "LR: 1.0000e-01, Train Loss: 0.8703, Train Acc: 0.6971, Train Latency: 31.29s, Memory Usage: 3.04MB\n",
            "Test Loss: 1.3716, Test Acc: 0.5815, Test Latency: 3.58s, Test Memory Usage: 0.19MB\n",
            "\n",
            "Epoch 6\n"
          ]
        },
        {
          "name": "stderr",
          "output_type": "stream",
          "text": [
            "Train: 100%|##########| 391/391 [00:30<00:00, 12.61batch/s]\n"
          ]
        },
        {
          "name": "stdout",
          "output_type": "stream",
          "text": [
            "LR: 1.0000e-01, Train Loss: 0.8268, Train Acc: 0.7119, Train Latency: 31.00s, Memory Usage: 3.04MB\n",
            "Test Loss: 1.1560, Test Acc: 0.6289, Test Latency: 3.58s, Test Memory Usage: 0.19MB\n",
            "\n",
            "Epoch 7\n"
          ]
        },
        {
          "name": "stderr",
          "output_type": "stream",
          "text": [
            "Train: 100%|##########| 391/391 [00:31<00:00, 12.53batch/s]\n"
          ]
        },
        {
          "name": "stdout",
          "output_type": "stream",
          "text": [
            "LR: 1.0000e-01, Train Loss: 0.8022, Train Acc: 0.7216, Train Latency: 31.20s, Memory Usage: 3.04MB\n",
            "Test Loss: 1.0018, Test Acc: 0.6647, Test Latency: 3.59s, Test Memory Usage: 0.19MB\n",
            "\n",
            "Epoch 8\n"
          ]
        },
        {
          "name": "stderr",
          "output_type": "stream",
          "text": [
            "Train: 100%|##########| 391/391 [00:31<00:00, 12.49batch/s]\n"
          ]
        },
        {
          "name": "stdout",
          "output_type": "stream",
          "text": [
            "LR: 1.0000e-01, Train Loss: 0.7816, Train Acc: 0.7317, Train Latency: 31.30s, Memory Usage: 3.04MB\n",
            "Test Loss: 1.1589, Test Acc: 0.6061, Test Latency: 3.61s, Test Memory Usage: 0.19MB\n",
            "\n",
            "Epoch 9\n"
          ]
        },
        {
          "name": "stderr",
          "output_type": "stream",
          "text": [
            "Train: 100%|##########| 391/391 [00:31<00:00, 12.50batch/s]\n"
          ]
        },
        {
          "name": "stdout",
          "output_type": "stream",
          "text": [
            "LR: 1.0000e-01, Train Loss: 0.7700, Train Acc: 0.7345, Train Latency: 31.29s, Memory Usage: 3.04MB\n",
            "Test Loss: 1.2080, Test Acc: 0.6206, Test Latency: 3.62s, Test Memory Usage: 0.19MB\n",
            "\n",
            "Epoch 10\n"
          ]
        },
        {
          "name": "stderr",
          "output_type": "stream",
          "text": [
            "Train: 100%|##########| 391/391 [00:31<00:00, 12.53batch/s]\n"
          ]
        },
        {
          "name": "stdout",
          "output_type": "stream",
          "text": [
            "LR: 1.0000e-01, Train Loss: 0.7518, Train Acc: 0.7398, Train Latency: 31.20s, Memory Usage: 3.04MB\n",
            "Test Loss: 0.8591, Test Acc: 0.7013, Test Latency: 3.64s, Test Memory Usage: 0.19MB\n",
            "\n",
            "Epoch 11\n"
          ]
        },
        {
          "name": "stderr",
          "output_type": "stream",
          "text": [
            "Train: 100%|##########| 391/391 [00:31<00:00, 12.48batch/s]\n"
          ]
        },
        {
          "name": "stdout",
          "output_type": "stream",
          "text": [
            "LR: 1.0000e-01, Train Loss: 0.7509, Train Acc: 0.7395, Train Latency: 31.33s, Memory Usage: 3.04MB\n",
            "Test Loss: 1.3019, Test Acc: 0.6247, Test Latency: 3.59s, Test Memory Usage: 0.19MB\n",
            "\n",
            "Epoch 12\n"
          ]
        },
        {
          "name": "stderr",
          "output_type": "stream",
          "text": [
            "Train: 100%|##########| 391/391 [00:31<00:00, 12.43batch/s]\n"
          ]
        },
        {
          "name": "stdout",
          "output_type": "stream",
          "text": [
            "LR: 1.0000e-01, Train Loss: 0.7451, Train Acc: 0.7433, Train Latency: 31.47s, Memory Usage: 3.04MB\n",
            "Test Loss: 0.9482, Test Acc: 0.6820, Test Latency: 3.60s, Test Memory Usage: 0.19MB\n",
            "\n",
            "Epoch 13\n"
          ]
        },
        {
          "name": "stderr",
          "output_type": "stream",
          "text": [
            "Train: 100%|##########| 391/391 [00:31<00:00, 12.46batch/s]\n"
          ]
        },
        {
          "name": "stdout",
          "output_type": "stream",
          "text": [
            "LR: 1.0000e-01, Train Loss: 0.7341, Train Acc: 0.7458, Train Latency: 31.39s, Memory Usage: 3.04MB\n",
            "Test Loss: 1.1476, Test Acc: 0.5923, Test Latency: 3.61s, Test Memory Usage: 0.19MB\n",
            "\n",
            "Epoch 14\n"
          ]
        },
        {
          "name": "stderr",
          "output_type": "stream",
          "text": [
            "Train: 100%|##########| 391/391 [00:31<00:00, 12.48batch/s]\n"
          ]
        },
        {
          "name": "stdout",
          "output_type": "stream",
          "text": [
            "LR: 1.0000e-01, Train Loss: 0.7305, Train Acc: 0.7476, Train Latency: 31.33s, Memory Usage: 3.04MB\n",
            "Test Loss: 0.9606, Test Acc: 0.6861, Test Latency: 3.62s, Test Memory Usage: 0.19MB\n",
            "\n",
            "Epoch 15\n"
          ]
        },
        {
          "name": "stderr",
          "output_type": "stream",
          "text": [
            "Train: 100%|##########| 391/391 [00:31<00:00, 12.50batch/s]\n"
          ]
        },
        {
          "name": "stdout",
          "output_type": "stream",
          "text": [
            "LR: 1.0000e-01, Train Loss: 0.7223, Train Acc: 0.7515, Train Latency: 31.28s, Memory Usage: 3.04MB\n",
            "Test Loss: 0.9981, Test Acc: 0.6830, Test Latency: 3.63s, Test Memory Usage: 0.19MB\n",
            "\n",
            "Epoch 16\n"
          ]
        },
        {
          "name": "stderr",
          "output_type": "stream",
          "text": [
            "Train: 100%|##########| 391/391 [00:31<00:00, 12.49batch/s]\n"
          ]
        },
        {
          "name": "stdout",
          "output_type": "stream",
          "text": [
            "LR: 1.0000e-01, Train Loss: 0.7320, Train Acc: 0.7492, Train Latency: 31.30s, Memory Usage: 3.04MB\n",
            "Test Loss: 0.8854, Test Acc: 0.6952, Test Latency: 3.60s, Test Memory Usage: 0.19MB\n",
            "\n",
            "Epoch 17\n"
          ]
        },
        {
          "name": "stderr",
          "output_type": "stream",
          "text": [
            "Train: 100%|##########| 391/391 [00:31<00:00, 12.51batch/s]\n"
          ]
        },
        {
          "name": "stdout",
          "output_type": "stream",
          "text": [
            "LR: 1.0000e-01, Train Loss: 0.7255, Train Acc: 0.7511, Train Latency: 31.27s, Memory Usage: 3.04MB\n",
            "Test Loss: 1.2531, Test Acc: 0.5793, Test Latency: 3.61s, Test Memory Usage: 0.19MB\n",
            "\n",
            "Epoch 18\n"
          ]
        },
        {
          "name": "stderr",
          "output_type": "stream",
          "text": [
            "Train: 100%|##########| 391/391 [00:31<00:00, 12.48batch/s]\n"
          ]
        },
        {
          "name": "stdout",
          "output_type": "stream",
          "text": [
            "LR: 1.0000e-01, Train Loss: 0.7205, Train Acc: 0.7523, Train Latency: 31.34s, Memory Usage: 3.04MB\n",
            "Test Loss: 1.8717, Test Acc: 0.5097, Test Latency: 3.61s, Test Memory Usage: 0.19MB\n",
            "\n",
            "Epoch 19\n"
          ]
        },
        {
          "name": "stderr",
          "output_type": "stream",
          "text": [
            "Train: 100%|##########| 391/391 [00:31<00:00, 12.48batch/s]\n"
          ]
        },
        {
          "name": "stdout",
          "output_type": "stream",
          "text": [
            "LR: 1.0000e-01, Train Loss: 0.7171, Train Acc: 0.7527, Train Latency: 31.33s, Memory Usage: 3.04MB\n",
            "Test Loss: 0.9626, Test Acc: 0.6719, Test Latency: 3.59s, Test Memory Usage: 0.19MB\n",
            "\n",
            "Epoch 20\n"
          ]
        },
        {
          "name": "stderr",
          "output_type": "stream",
          "text": [
            "Train: 100%|##########| 391/391 [00:31<00:00, 12.47batch/s]\n"
          ]
        },
        {
          "name": "stdout",
          "output_type": "stream",
          "text": [
            "LR: 1.0000e-01, Train Loss: 0.7116, Train Acc: 0.7545, Train Latency: 31.35s, Memory Usage: 3.04MB\n",
            "Test Loss: 1.2384, Test Acc: 0.6292, Test Latency: 3.61s, Test Memory Usage: 0.19MB\n",
            "\n",
            "Epoch 21\n"
          ]
        },
        {
          "name": "stderr",
          "output_type": "stream",
          "text": [
            "Train: 100%|##########| 391/391 [00:31<00:00, 12.53batch/s]\n"
          ]
        },
        {
          "name": "stdout",
          "output_type": "stream",
          "text": [
            "LR: 1.0000e-01, Train Loss: 0.7125, Train Acc: 0.7560, Train Latency: 31.21s, Memory Usage: 3.04MB\n",
            "Test Loss: 1.1645, Test Acc: 0.6470, Test Latency: 3.59s, Test Memory Usage: 0.19MB\n",
            "\n",
            "Epoch 22\n"
          ]
        },
        {
          "name": "stderr",
          "output_type": "stream",
          "text": [
            "Train: 100%|##########| 391/391 [00:31<00:00, 12.47batch/s]\n"
          ]
        },
        {
          "name": "stdout",
          "output_type": "stream",
          "text": [
            "LR: 1.0000e-01, Train Loss: 0.7061, Train Acc: 0.7578, Train Latency: 31.37s, Memory Usage: 3.04MB\n",
            "Test Loss: 1.7414, Test Acc: 0.4456, Test Latency: 3.62s, Test Memory Usage: 0.19MB\n",
            "\n",
            "Epoch 23\n"
          ]
        },
        {
          "name": "stderr",
          "output_type": "stream",
          "text": [
            "Train: 100%|##########| 391/391 [00:31<00:00, 12.40batch/s]\n"
          ]
        },
        {
          "name": "stdout",
          "output_type": "stream",
          "text": [
            "LR: 1.0000e-01, Train Loss: 0.7042, Train Acc: 0.7595, Train Latency: 31.54s, Memory Usage: 3.04MB\n",
            "Test Loss: 1.4315, Test Acc: 0.5478, Test Latency: 3.61s, Test Memory Usage: 0.19MB\n",
            "\n",
            "Epoch 24\n"
          ]
        },
        {
          "name": "stderr",
          "output_type": "stream",
          "text": [
            "Train: 100%|##########| 391/391 [00:31<00:00, 12.49batch/s]\n"
          ]
        },
        {
          "name": "stdout",
          "output_type": "stream",
          "text": [
            "LR: 1.0000e-01, Train Loss: 0.7005, Train Acc: 0.7608, Train Latency: 31.30s, Memory Usage: 3.04MB\n",
            "Test Loss: 1.0719, Test Acc: 0.6431, Test Latency: 3.59s, Test Memory Usage: 0.19MB\n",
            "\n",
            "Epoch 25\n"
          ]
        },
        {
          "name": "stderr",
          "output_type": "stream",
          "text": [
            "Train: 100%|##########| 391/391 [00:31<00:00, 12.47batch/s]\n"
          ]
        },
        {
          "name": "stdout",
          "output_type": "stream",
          "text": [
            "LR: 1.0000e-01, Train Loss: 0.7065, Train Acc: 0.7547, Train Latency: 31.35s, Memory Usage: 3.04MB\n",
            "Test Loss: 0.7850, Test Acc: 0.7324, Test Latency: 3.63s, Test Memory Usage: 0.19MB\n",
            "\n",
            "Epoch 26\n"
          ]
        },
        {
          "name": "stderr",
          "output_type": "stream",
          "text": [
            "Train: 100%|##########| 391/391 [00:31<00:00, 12.47batch/s]\n"
          ]
        },
        {
          "name": "stdout",
          "output_type": "stream",
          "text": [
            "LR: 1.0000e-01, Train Loss: 0.6996, Train Acc: 0.7589, Train Latency: 31.37s, Memory Usage: 3.04MB\n",
            "Test Loss: 1.5853, Test Acc: 0.5389, Test Latency: 3.60s, Test Memory Usage: 0.19MB\n",
            "\n",
            "Epoch 27\n"
          ]
        },
        {
          "name": "stderr",
          "output_type": "stream",
          "text": [
            "Train: 100%|##########| 391/391 [00:31<00:00, 12.45batch/s]\n"
          ]
        },
        {
          "name": "stdout",
          "output_type": "stream",
          "text": [
            "LR: 1.0000e-01, Train Loss: 0.7050, Train Acc: 0.7574, Train Latency: 31.41s, Memory Usage: 3.04MB\n",
            "Test Loss: 1.1215, Test Acc: 0.6284, Test Latency: 3.60s, Test Memory Usage: 0.19MB\n",
            "\n",
            "Epoch 28\n"
          ]
        },
        {
          "name": "stderr",
          "output_type": "stream",
          "text": [
            "Train: 100%|##########| 391/391 [00:31<00:00, 12.47batch/s]\n"
          ]
        },
        {
          "name": "stdout",
          "output_type": "stream",
          "text": [
            "LR: 1.0000e-01, Train Loss: 0.7050, Train Acc: 0.7578, Train Latency: 31.35s, Memory Usage: 3.04MB\n",
            "Test Loss: 0.9863, Test Acc: 0.6774, Test Latency: 3.60s, Test Memory Usage: 0.19MB\n",
            "\n",
            "Epoch 29\n"
          ]
        },
        {
          "name": "stderr",
          "output_type": "stream",
          "text": [
            "Train: 100%|##########| 391/391 [00:31<00:00, 12.48batch/s]\n"
          ]
        },
        {
          "name": "stdout",
          "output_type": "stream",
          "text": [
            "LR: 1.0000e-01, Train Loss: 0.7027, Train Acc: 0.7589, Train Latency: 31.34s, Memory Usage: 3.04MB\n",
            "Test Loss: 1.2701, Test Acc: 0.6173, Test Latency: 3.62s, Test Memory Usage: 0.19MB\n",
            "\n",
            "Epoch 30\n"
          ]
        },
        {
          "name": "stderr",
          "output_type": "stream",
          "text": [
            "Train: 100%|##########| 391/391 [00:31<00:00, 12.52batch/s]\n"
          ]
        },
        {
          "name": "stdout",
          "output_type": "stream",
          "text": [
            "LR: 1.0000e-01, Train Loss: 0.6909, Train Acc: 0.7617, Train Latency: 31.24s, Memory Usage: 3.04MB\n",
            "Test Loss: 1.0237, Test Acc: 0.6782, Test Latency: 3.58s, Test Memory Usage: 0.19MB\n",
            "\n",
            "Epoch 31\n"
          ]
        },
        {
          "name": "stderr",
          "output_type": "stream",
          "text": [
            "Train: 100%|##########| 391/391 [00:31<00:00, 12.48batch/s]\n"
          ]
        },
        {
          "name": "stdout",
          "output_type": "stream",
          "text": [
            "LR: 1.0000e-01, Train Loss: 0.7064, Train Acc: 0.7595, Train Latency: 31.33s, Memory Usage: 3.04MB\n",
            "Test Loss: 1.2756, Test Acc: 0.6085, Test Latency: 3.59s, Test Memory Usage: 0.19MB\n",
            "\n",
            "Epoch 32\n"
          ]
        },
        {
          "name": "stderr",
          "output_type": "stream",
          "text": [
            "Train: 100%|##########| 391/391 [00:31<00:00, 12.43batch/s]\n"
          ]
        },
        {
          "name": "stdout",
          "output_type": "stream",
          "text": [
            "LR: 1.0000e-01, Train Loss: 0.6985, Train Acc: 0.7589, Train Latency: 31.46s, Memory Usage: 3.04MB\n",
            "Test Loss: 1.0963, Test Acc: 0.6424, Test Latency: 3.61s, Test Memory Usage: 0.19MB\n",
            "\n",
            "Epoch 33\n"
          ]
        },
        {
          "name": "stderr",
          "output_type": "stream",
          "text": [
            "Train: 100%|##########| 391/391 [00:31<00:00, 12.42batch/s]\n"
          ]
        },
        {
          "name": "stdout",
          "output_type": "stream",
          "text": [
            "LR: 1.0000e-01, Train Loss: 0.6900, Train Acc: 0.7628, Train Latency: 31.47s, Memory Usage: 3.04MB\n",
            "Test Loss: 1.1263, Test Acc: 0.6307, Test Latency: 3.64s, Test Memory Usage: 0.19MB\n",
            "\n",
            "Epoch 34\n"
          ]
        },
        {
          "name": "stderr",
          "output_type": "stream",
          "text": [
            "Train: 100%|##########| 391/391 [00:31<00:00, 12.45batch/s]\n"
          ]
        },
        {
          "name": "stdout",
          "output_type": "stream",
          "text": [
            "LR: 1.0000e-01, Train Loss: 0.6929, Train Acc: 0.7620, Train Latency: 31.41s, Memory Usage: 3.04MB\n",
            "Test Loss: 1.0390, Test Acc: 0.6547, Test Latency: 3.58s, Test Memory Usage: 0.19MB\n",
            "\n",
            "Epoch 35\n"
          ]
        },
        {
          "name": "stderr",
          "output_type": "stream",
          "text": [
            "Train: 100%|##########| 391/391 [00:31<00:00, 12.53batch/s]\n"
          ]
        },
        {
          "name": "stdout",
          "output_type": "stream",
          "text": [
            "LR: 1.0000e-01, Train Loss: 0.6891, Train Acc: 0.7636, Train Latency: 31.21s, Memory Usage: 3.04MB\n",
            "Test Loss: 0.8901, Test Acc: 0.6975, Test Latency: 3.62s, Test Memory Usage: 0.19MB\n",
            "\n",
            "Epoch 36\n"
          ]
        },
        {
          "name": "stderr",
          "output_type": "stream",
          "text": [
            "Train: 100%|##########| 391/391 [00:31<00:00, 12.49batch/s]\n"
          ]
        },
        {
          "name": "stdout",
          "output_type": "stream",
          "text": [
            "LR: 1.0000e-01, Train Loss: 0.6937, Train Acc: 0.7617, Train Latency: 31.32s, Memory Usage: 3.04MB\n",
            "Test Loss: 1.7973, Test Acc: 0.5036, Test Latency: 3.62s, Test Memory Usage: 0.19MB\n",
            "\n",
            "Epoch 37\n"
          ]
        },
        {
          "name": "stderr",
          "output_type": "stream",
          "text": [
            "Train: 100%|##########| 391/391 [00:31<00:00, 12.48batch/s]\n"
          ]
        },
        {
          "name": "stdout",
          "output_type": "stream",
          "text": [
            "LR: 1.0000e-01, Train Loss: 0.6963, Train Acc: 0.7611, Train Latency: 31.34s, Memory Usage: 3.04MB\n",
            "Test Loss: 1.8519, Test Acc: 0.5074, Test Latency: 3.59s, Test Memory Usage: 0.19MB\n",
            "\n",
            "Epoch 38\n"
          ]
        },
        {
          "name": "stderr",
          "output_type": "stream",
          "text": [
            "Train: 100%|##########| 391/391 [00:31<00:00, 12.44batch/s]\n"
          ]
        },
        {
          "name": "stdout",
          "output_type": "stream",
          "text": [
            "LR: 1.0000e-01, Train Loss: 0.6969, Train Acc: 0.7587, Train Latency: 31.43s, Memory Usage: 3.04MB\n",
            "Test Loss: 0.9336, Test Acc: 0.6752, Test Latency: 3.63s, Test Memory Usage: 0.19MB\n",
            "\n",
            "Epoch 39\n"
          ]
        },
        {
          "name": "stderr",
          "output_type": "stream",
          "text": [
            "Train: 100%|##########| 391/391 [00:31<00:00, 12.56batch/s]\n"
          ]
        },
        {
          "name": "stdout",
          "output_type": "stream",
          "text": [
            "LR: 1.0000e-01, Train Loss: 0.6873, Train Acc: 0.7646, Train Latency: 31.14s, Memory Usage: 3.04MB\n",
            "Test Loss: 2.0788, Test Acc: 0.4828, Test Latency: 3.59s, Test Memory Usage: 0.19MB\n",
            "\n",
            "Epoch 40\n"
          ]
        },
        {
          "name": "stderr",
          "output_type": "stream",
          "text": [
            "Train: 100%|##########| 391/391 [00:31<00:00, 12.55batch/s]\n"
          ]
        },
        {
          "name": "stdout",
          "output_type": "stream",
          "text": [
            "LR: 1.0000e-01, Train Loss: 0.6887, Train Acc: 0.7629, Train Latency: 31.15s, Memory Usage: 3.04MB\n",
            "Test Loss: 1.0777, Test Acc: 0.6729, Test Latency: 3.59s, Test Memory Usage: 0.19MB\n",
            "\n",
            "Epoch 41\n"
          ]
        },
        {
          "name": "stderr",
          "output_type": "stream",
          "text": [
            "Train: 100%|##########| 391/391 [00:31<00:00, 12.52batch/s]\n"
          ]
        },
        {
          "name": "stdout",
          "output_type": "stream",
          "text": [
            "LR: 1.0000e-01, Train Loss: 0.6893, Train Acc: 0.7617, Train Latency: 31.24s, Memory Usage: 3.04MB\n",
            "Test Loss: 0.9171, Test Acc: 0.6863, Test Latency: 3.65s, Test Memory Usage: 0.19MB\n",
            "\n",
            "Epoch 42\n"
          ]
        },
        {
          "name": "stderr",
          "output_type": "stream",
          "text": [
            "Train: 100%|##########| 391/391 [00:31<00:00, 12.51batch/s]\n"
          ]
        },
        {
          "name": "stdout",
          "output_type": "stream",
          "text": [
            "LR: 1.0000e-01, Train Loss: 0.6903, Train Acc: 0.7612, Train Latency: 31.26s, Memory Usage: 3.04MB\n",
            "Test Loss: 1.0996, Test Acc: 0.6422, Test Latency: 3.64s, Test Memory Usage: 0.19MB\n",
            "\n",
            "Epoch 43\n"
          ]
        },
        {
          "name": "stderr",
          "output_type": "stream",
          "text": [
            "Train: 100%|##########| 391/391 [00:31<00:00, 12.49batch/s]\n"
          ]
        },
        {
          "name": "stdout",
          "output_type": "stream",
          "text": [
            "LR: 1.0000e-01, Train Loss: 0.6921, Train Acc: 0.7632, Train Latency: 31.31s, Memory Usage: 3.04MB\n",
            "Test Loss: 1.0869, Test Acc: 0.6598, Test Latency: 3.55s, Test Memory Usage: 0.19MB\n",
            "\n",
            "Epoch 44\n"
          ]
        },
        {
          "name": "stderr",
          "output_type": "stream",
          "text": [
            "Train: 100%|##########| 391/391 [00:31<00:00, 12.47batch/s]\n"
          ]
        },
        {
          "name": "stdout",
          "output_type": "stream",
          "text": [
            "LR: 1.0000e-01, Train Loss: 0.6889, Train Acc: 0.7613, Train Latency: 31.36s, Memory Usage: 3.04MB\n",
            "Test Loss: 0.7788, Test Acc: 0.7259, Test Latency: 3.59s, Test Memory Usage: 0.19MB\n",
            "\n",
            "Epoch 45\n"
          ]
        },
        {
          "name": "stderr",
          "output_type": "stream",
          "text": [
            "Train: 100%|##########| 391/391 [00:31<00:00, 12.46batch/s]\n"
          ]
        },
        {
          "name": "stdout",
          "output_type": "stream",
          "text": [
            "LR: 1.0000e-01, Train Loss: 0.6842, Train Acc: 0.7651, Train Latency: 31.39s, Memory Usage: 3.04MB\n",
            "Test Loss: 1.1775, Test Acc: 0.6374, Test Latency: 3.58s, Test Memory Usage: 0.19MB\n",
            "\n",
            "Epoch 46\n"
          ]
        },
        {
          "name": "stderr",
          "output_type": "stream",
          "text": [
            "Train: 100%|##########| 391/391 [00:31<00:00, 12.49batch/s]\n"
          ]
        },
        {
          "name": "stdout",
          "output_type": "stream",
          "text": [
            "LR: 1.0000e-01, Train Loss: 0.6868, Train Acc: 0.7644, Train Latency: 31.31s, Memory Usage: 3.04MB\n",
            "Test Loss: 1.2119, Test Acc: 0.6082, Test Latency: 3.59s, Test Memory Usage: 0.19MB\n",
            "\n",
            "Epoch 47\n"
          ]
        },
        {
          "name": "stderr",
          "output_type": "stream",
          "text": [
            "Train: 100%|##########| 391/391 [00:31<00:00, 12.53batch/s]\n"
          ]
        },
        {
          "name": "stdout",
          "output_type": "stream",
          "text": [
            "LR: 1.0000e-01, Train Loss: 0.6820, Train Acc: 0.7650, Train Latency: 31.20s, Memory Usage: 3.04MB\n",
            "Test Loss: 1.4566, Test Acc: 0.5814, Test Latency: 3.61s, Test Memory Usage: 0.19MB\n",
            "\n",
            "Epoch 48\n"
          ]
        },
        {
          "name": "stderr",
          "output_type": "stream",
          "text": [
            "Train: 100%|##########| 391/391 [00:31<00:00, 12.50batch/s]\n"
          ]
        },
        {
          "name": "stdout",
          "output_type": "stream",
          "text": [
            "LR: 1.0000e-01, Train Loss: 0.6852, Train Acc: 0.7648, Train Latency: 31.28s, Memory Usage: 3.04MB\n",
            "Test Loss: 1.1080, Test Acc: 0.6487, Test Latency: 3.59s, Test Memory Usage: 0.19MB\n",
            "\n",
            "Epoch 49\n"
          ]
        },
        {
          "name": "stderr",
          "output_type": "stream",
          "text": [
            "Train: 100%|##########| 391/391 [00:31<00:00, 12.49batch/s]\n"
          ]
        },
        {
          "name": "stdout",
          "output_type": "stream",
          "text": [
            "LR: 1.0000e-01, Train Loss: 0.6843, Train Acc: 0.7642, Train Latency: 31.30s, Memory Usage: 3.04MB\n",
            "Test Loss: 1.7077, Test Acc: 0.5457, Test Latency: 3.60s, Test Memory Usage: 0.19MB\n",
            "\n",
            "Epoch 50\n"
          ]
        },
        {
          "name": "stderr",
          "output_type": "stream",
          "text": [
            "Train: 100%|##########| 391/391 [00:31<00:00, 12.45batch/s]\n"
          ]
        },
        {
          "name": "stdout",
          "output_type": "stream",
          "text": [
            "LR: 1.0000e-01, Train Loss: 0.6911, Train Acc: 0.7637, Train Latency: 31.40s, Memory Usage: 3.04MB\n",
            "Test Loss: 0.9713, Test Acc: 0.6805, Test Latency: 3.59s, Test Memory Usage: 0.19MB\n",
            "\n",
            "Epoch 51\n"
          ]
        },
        {
          "name": "stderr",
          "output_type": "stream",
          "text": [
            "Train: 100%|##########| 391/391 [00:31<00:00, 12.48batch/s]\n"
          ]
        },
        {
          "name": "stdout",
          "output_type": "stream",
          "text": [
            "LR: 1.0000e-02, Train Loss: 0.4943, Train Acc: 0.8323, Train Latency: 31.33s, Memory Usage: 3.04MB\n",
            "Test Loss: 0.5003, Test Acc: 0.8327, Test Latency: 3.58s, Test Memory Usage: 0.19MB\n",
            "Saving best model ...\n",
            "\n",
            "Epoch 52\n"
          ]
        },
        {
          "name": "stderr",
          "output_type": "stream",
          "text": [
            "Train: 100%|##########| 391/391 [00:31<00:00, 12.48batch/s]\n"
          ]
        },
        {
          "name": "stdout",
          "output_type": "stream",
          "text": [
            "LR: 1.0000e-02, Train Loss: 0.4418, Train Acc: 0.8478, Train Latency: 31.33s, Memory Usage: 3.04MB\n",
            "Test Loss: 0.4771, Test Acc: 0.8392, Test Latency: 3.66s, Test Memory Usage: 0.19MB\n",
            "Saving best model ...\n",
            "\n",
            "Epoch 53\n"
          ]
        },
        {
          "name": "stderr",
          "output_type": "stream",
          "text": [
            "Train: 100%|##########| 391/391 [00:31<00:00, 12.45batch/s]\n"
          ]
        },
        {
          "name": "stdout",
          "output_type": "stream",
          "text": [
            "LR: 1.0000e-02, Train Loss: 0.4260, Train Acc: 0.8546, Train Latency: 31.40s, Memory Usage: 3.04MB\n",
            "Test Loss: 0.4618, Test Acc: 0.8445, Test Latency: 3.62s, Test Memory Usage: 0.19MB\n",
            "Saving best model ...\n",
            "\n",
            "Epoch 54\n"
          ]
        },
        {
          "name": "stderr",
          "output_type": "stream",
          "text": [
            "Train: 100%|##########| 391/391 [00:31<00:00, 12.45batch/s]\n"
          ]
        },
        {
          "name": "stdout",
          "output_type": "stream",
          "text": [
            "LR: 1.0000e-02, Train Loss: 0.4169, Train Acc: 0.8570, Train Latency: 31.42s, Memory Usage: 3.04MB\n",
            "Test Loss: 0.4948, Test Acc: 0.8344, Test Latency: 3.62s, Test Memory Usage: 0.19MB\n",
            "\n",
            "Epoch 55\n"
          ]
        },
        {
          "name": "stderr",
          "output_type": "stream",
          "text": [
            "Train: 100%|##########| 391/391 [00:31<00:00, 12.42batch/s]\n"
          ]
        },
        {
          "name": "stdout",
          "output_type": "stream",
          "text": [
            "LR: 1.0000e-02, Train Loss: 0.4105, Train Acc: 0.8593, Train Latency: 31.48s, Memory Usage: 3.04MB\n",
            "Test Loss: 0.4652, Test Acc: 0.8432, Test Latency: 3.69s, Test Memory Usage: 0.19MB\n",
            "\n",
            "Epoch 56\n"
          ]
        },
        {
          "name": "stderr",
          "output_type": "stream",
          "text": [
            "Train: 100%|##########| 391/391 [00:31<00:00, 12.44batch/s]\n"
          ]
        },
        {
          "name": "stdout",
          "output_type": "stream",
          "text": [
            "LR: 1.0000e-02, Train Loss: 0.4053, Train Acc: 0.8604, Train Latency: 31.44s, Memory Usage: 3.04MB\n",
            "Test Loss: 0.5244, Test Acc: 0.8230, Test Latency: 3.67s, Test Memory Usage: 0.19MB\n",
            "\n",
            "Epoch 57\n"
          ]
        },
        {
          "name": "stderr",
          "output_type": "stream",
          "text": [
            "Train: 100%|##########| 391/391 [00:31<00:00, 12.40batch/s]\n"
          ]
        },
        {
          "name": "stdout",
          "output_type": "stream",
          "text": [
            "LR: 1.0000e-02, Train Loss: 0.4021, Train Acc: 0.8619, Train Latency: 31.55s, Memory Usage: 3.04MB\n",
            "Test Loss: 0.6042, Test Acc: 0.7981, Test Latency: 3.64s, Test Memory Usage: 0.19MB\n",
            "\n",
            "Epoch 58\n"
          ]
        },
        {
          "name": "stderr",
          "output_type": "stream",
          "text": [
            "Train: 100%|##########| 391/391 [00:31<00:00, 12.50batch/s]\n"
          ]
        },
        {
          "name": "stdout",
          "output_type": "stream",
          "text": [
            "LR: 1.0000e-02, Train Loss: 0.4031, Train Acc: 0.8620, Train Latency: 31.28s, Memory Usage: 3.04MB\n",
            "Test Loss: 0.5277, Test Acc: 0.8278, Test Latency: 3.60s, Test Memory Usage: 0.19MB\n",
            "\n",
            "Epoch 59\n"
          ]
        },
        {
          "name": "stderr",
          "output_type": "stream",
          "text": [
            "Train: 100%|##########| 391/391 [00:31<00:00, 12.55batch/s]\n"
          ]
        },
        {
          "name": "stdout",
          "output_type": "stream",
          "text": [
            "LR: 1.0000e-02, Train Loss: 0.4010, Train Acc: 0.8614, Train Latency: 31.17s, Memory Usage: 3.04MB\n",
            "Test Loss: 0.4701, Test Acc: 0.8408, Test Latency: 3.59s, Test Memory Usage: 0.19MB\n",
            "\n",
            "Epoch 60\n"
          ]
        },
        {
          "name": "stderr",
          "output_type": "stream",
          "text": [
            "Train: 100%|##########| 391/391 [00:31<00:00, 12.51batch/s]\n"
          ]
        },
        {
          "name": "stdout",
          "output_type": "stream",
          "text": [
            "LR: 1.0000e-02, Train Loss: 0.4007, Train Acc: 0.8624, Train Latency: 31.26s, Memory Usage: 3.04MB\n",
            "Test Loss: 0.6131, Test Acc: 0.7953, Test Latency: 3.61s, Test Memory Usage: 0.19MB\n",
            "\n",
            "Epoch 61\n"
          ]
        },
        {
          "name": "stderr",
          "output_type": "stream",
          "text": [
            "Train: 100%|##########| 391/391 [00:31<00:00, 12.53batch/s]\n"
          ]
        },
        {
          "name": "stdout",
          "output_type": "stream",
          "text": [
            "LR: 1.0000e-02, Train Loss: 0.3993, Train Acc: 0.8621, Train Latency: 31.22s, Memory Usage: 3.04MB\n",
            "Test Loss: 0.5863, Test Acc: 0.8061, Test Latency: 3.61s, Test Memory Usage: 0.19MB\n",
            "\n",
            "Epoch 62\n"
          ]
        },
        {
          "name": "stderr",
          "output_type": "stream",
          "text": [
            "Train: 100%|##########| 391/391 [00:31<00:00, 12.51batch/s]\n"
          ]
        },
        {
          "name": "stdout",
          "output_type": "stream",
          "text": [
            "LR: 1.0000e-02, Train Loss: 0.4015, Train Acc: 0.8620, Train Latency: 31.26s, Memory Usage: 3.04MB\n",
            "Test Loss: 0.5806, Test Acc: 0.8124, Test Latency: 3.63s, Test Memory Usage: 0.19MB\n",
            "\n",
            "Epoch 63\n"
          ]
        },
        {
          "name": "stderr",
          "output_type": "stream",
          "text": [
            "Train: 100%|##########| 391/391 [00:31<00:00, 12.46batch/s]\n"
          ]
        },
        {
          "name": "stdout",
          "output_type": "stream",
          "text": [
            "LR: 1.0000e-02, Train Loss: 0.4063, Train Acc: 0.8612, Train Latency: 31.38s, Memory Usage: 3.04MB\n",
            "Test Loss: 0.4676, Test Acc: 0.8399, Test Latency: 3.59s, Test Memory Usage: 0.19MB\n",
            "\n",
            "Epoch 64\n"
          ]
        },
        {
          "name": "stderr",
          "output_type": "stream",
          "text": [
            "Train: 100%|##########| 391/391 [00:31<00:00, 12.53batch/s]\n"
          ]
        },
        {
          "name": "stdout",
          "output_type": "stream",
          "text": [
            "LR: 1.0000e-02, Train Loss: 0.4045, Train Acc: 0.8616, Train Latency: 31.20s, Memory Usage: 3.04MB\n",
            "Test Loss: 0.5199, Test Acc: 0.8215, Test Latency: 3.59s, Test Memory Usage: 0.19MB\n",
            "\n",
            "Epoch 65\n"
          ]
        },
        {
          "name": "stderr",
          "output_type": "stream",
          "text": [
            "Train: 100%|##########| 391/391 [00:31<00:00, 12.46batch/s]\n"
          ]
        },
        {
          "name": "stdout",
          "output_type": "stream",
          "text": [
            "LR: 1.0000e-02, Train Loss: 0.4042, Train Acc: 0.8605, Train Latency: 31.38s, Memory Usage: 3.04MB\n",
            "Test Loss: 0.5737, Test Acc: 0.8114, Test Latency: 3.59s, Test Memory Usage: 0.19MB\n",
            "\n",
            "Epoch 66\n"
          ]
        },
        {
          "name": "stderr",
          "output_type": "stream",
          "text": [
            "Train: 100%|##########| 391/391 [00:31<00:00, 12.51batch/s]\n"
          ]
        },
        {
          "name": "stdout",
          "output_type": "stream",
          "text": [
            "LR: 1.0000e-02, Train Loss: 0.4021, Train Acc: 0.8609, Train Latency: 31.26s, Memory Usage: 3.04MB\n",
            "Test Loss: 0.5518, Test Acc: 0.8117, Test Latency: 3.58s, Test Memory Usage: 0.19MB\n",
            "\n",
            "Epoch 67\n"
          ]
        },
        {
          "name": "stderr",
          "output_type": "stream",
          "text": [
            "Train: 100%|##########| 391/391 [00:31<00:00, 12.57batch/s]\n"
          ]
        },
        {
          "name": "stdout",
          "output_type": "stream",
          "text": [
            "LR: 1.0000e-02, Train Loss: 0.4013, Train Acc: 0.8622, Train Latency: 31.12s, Memory Usage: 3.04MB\n",
            "Test Loss: 0.5204, Test Acc: 0.8251, Test Latency: 3.60s, Test Memory Usage: 0.19MB\n",
            "\n",
            "Epoch 68\n"
          ]
        },
        {
          "name": "stderr",
          "output_type": "stream",
          "text": [
            "Train: 100%|##########| 391/391 [00:31<00:00, 12.56batch/s]\n"
          ]
        },
        {
          "name": "stdout",
          "output_type": "stream",
          "text": [
            "LR: 1.0000e-02, Train Loss: 0.4053, Train Acc: 0.8606, Train Latency: 31.14s, Memory Usage: 3.04MB\n",
            "Test Loss: 0.5877, Test Acc: 0.8050, Test Latency: 3.60s, Test Memory Usage: 0.19MB\n",
            "\n",
            "Epoch 69\n"
          ]
        },
        {
          "name": "stderr",
          "output_type": "stream",
          "text": [
            "Train: 100%|##########| 391/391 [00:31<00:00, 12.58batch/s]\n"
          ]
        },
        {
          "name": "stdout",
          "output_type": "stream",
          "text": [
            "LR: 1.0000e-02, Train Loss: 0.4046, Train Acc: 0.8606, Train Latency: 31.10s, Memory Usage: 3.04MB\n",
            "Test Loss: 0.5324, Test Acc: 0.8190, Test Latency: 3.57s, Test Memory Usage: 0.19MB\n",
            "\n",
            "Epoch 70\n"
          ]
        },
        {
          "name": "stderr",
          "output_type": "stream",
          "text": [
            "Train: 100%|##########| 391/391 [00:31<00:00, 12.52batch/s]\n"
          ]
        },
        {
          "name": "stdout",
          "output_type": "stream",
          "text": [
            "LR: 1.0000e-02, Train Loss: 0.4040, Train Acc: 0.8605, Train Latency: 31.23s, Memory Usage: 3.04MB\n",
            "Test Loss: 0.6510, Test Acc: 0.7860, Test Latency: 3.58s, Test Memory Usage: 0.19MB\n",
            "\n",
            "Epoch 71\n"
          ]
        },
        {
          "name": "stderr",
          "output_type": "stream",
          "text": [
            "Train: 100%|##########| 391/391 [00:31<00:00, 12.58batch/s]\n"
          ]
        },
        {
          "name": "stdout",
          "output_type": "stream",
          "text": [
            "LR: 1.0000e-02, Train Loss: 0.4074, Train Acc: 0.8612, Train Latency: 31.09s, Memory Usage: 3.04MB\n",
            "Test Loss: 0.5449, Test Acc: 0.8195, Test Latency: 3.59s, Test Memory Usage: 0.19MB\n",
            "\n",
            "Epoch 72\n"
          ]
        },
        {
          "name": "stderr",
          "output_type": "stream",
          "text": [
            "Train: 100%|##########| 391/391 [00:31<00:00, 12.54batch/s]\n"
          ]
        },
        {
          "name": "stdout",
          "output_type": "stream",
          "text": [
            "LR: 1.0000e-02, Train Loss: 0.4058, Train Acc: 0.8611, Train Latency: 31.19s, Memory Usage: 3.04MB\n",
            "Test Loss: 0.4820, Test Acc: 0.8367, Test Latency: 3.65s, Test Memory Usage: 0.19MB\n",
            "\n",
            "Epoch 73\n"
          ]
        },
        {
          "name": "stderr",
          "output_type": "stream",
          "text": [
            "Train: 100%|##########| 391/391 [00:31<00:00, 12.54batch/s]\n"
          ]
        },
        {
          "name": "stdout",
          "output_type": "stream",
          "text": [
            "LR: 1.0000e-02, Train Loss: 0.4064, Train Acc: 0.8589, Train Latency: 31.18s, Memory Usage: 3.04MB\n",
            "Test Loss: 0.5786, Test Acc: 0.8143, Test Latency: 3.60s, Test Memory Usage: 0.19MB\n",
            "\n",
            "Epoch 74\n"
          ]
        },
        {
          "name": "stderr",
          "output_type": "stream",
          "text": [
            "Train: 100%|##########| 391/391 [00:31<00:00, 12.47batch/s]\n"
          ]
        },
        {
          "name": "stdout",
          "output_type": "stream",
          "text": [
            "LR: 1.0000e-02, Train Loss: 0.4071, Train Acc: 0.8614, Train Latency: 31.36s, Memory Usage: 3.04MB\n",
            "Test Loss: 0.5639, Test Acc: 0.8133, Test Latency: 3.58s, Test Memory Usage: 0.19MB\n",
            "\n",
            "Epoch 75\n"
          ]
        },
        {
          "name": "stderr",
          "output_type": "stream",
          "text": [
            "Train: 100%|##########| 391/391 [00:31<00:00, 12.51batch/s]\n"
          ]
        },
        {
          "name": "stdout",
          "output_type": "stream",
          "text": [
            "LR: 1.0000e-02, Train Loss: 0.4067, Train Acc: 0.8625, Train Latency: 31.27s, Memory Usage: 3.04MB\n",
            "Test Loss: 0.5475, Test Acc: 0.8170, Test Latency: 3.58s, Test Memory Usage: 0.19MB\n",
            "\n",
            "Epoch 76\n"
          ]
        },
        {
          "name": "stderr",
          "output_type": "stream",
          "text": [
            "Train: 100%|##########| 391/391 [00:31<00:00, 12.50batch/s]\n"
          ]
        },
        {
          "name": "stdout",
          "output_type": "stream",
          "text": [
            "LR: 1.0000e-02, Train Loss: 0.4065, Train Acc: 0.8606, Train Latency: 31.28s, Memory Usage: 3.04MB\n",
            "Test Loss: 0.8278, Test Acc: 0.7342, Test Latency: 3.58s, Test Memory Usage: 0.19MB\n",
            "\n",
            "Epoch 77\n"
          ]
        },
        {
          "name": "stderr",
          "output_type": "stream",
          "text": [
            "Train: 100%|##########| 391/391 [00:31<00:00, 12.49batch/s]\n"
          ]
        },
        {
          "name": "stdout",
          "output_type": "stream",
          "text": [
            "LR: 1.0000e-02, Train Loss: 0.4068, Train Acc: 0.8608, Train Latency: 31.31s, Memory Usage: 3.04MB\n",
            "Test Loss: 0.6729, Test Acc: 0.7844, Test Latency: 3.56s, Test Memory Usage: 0.19MB\n",
            "\n",
            "Epoch 78\n"
          ]
        },
        {
          "name": "stderr",
          "output_type": "stream",
          "text": [
            "Train: 100%|##########| 391/391 [00:31<00:00, 12.54batch/s]\n"
          ]
        },
        {
          "name": "stdout",
          "output_type": "stream",
          "text": [
            "LR: 1.0000e-02, Train Loss: 0.4028, Train Acc: 0.8618, Train Latency: 31.19s, Memory Usage: 3.04MB\n",
            "Test Loss: 0.9886, Test Acc: 0.6887, Test Latency: 3.62s, Test Memory Usage: 0.19MB\n",
            "\n",
            "Epoch 79\n"
          ]
        },
        {
          "name": "stderr",
          "output_type": "stream",
          "text": [
            "Train: 100%|##########| 391/391 [00:31<00:00, 12.53batch/s]\n"
          ]
        },
        {
          "name": "stdout",
          "output_type": "stream",
          "text": [
            "LR: 1.0000e-02, Train Loss: 0.4024, Train Acc: 0.8612, Train Latency: 31.20s, Memory Usage: 3.04MB\n",
            "Test Loss: 0.5725, Test Acc: 0.8054, Test Latency: 3.59s, Test Memory Usage: 0.19MB\n",
            "\n",
            "Epoch 80\n"
          ]
        },
        {
          "name": "stderr",
          "output_type": "stream",
          "text": [
            "Train: 100%|##########| 391/391 [00:31<00:00, 12.52batch/s]\n"
          ]
        },
        {
          "name": "stdout",
          "output_type": "stream",
          "text": [
            "LR: 1.0000e-02, Train Loss: 0.4049, Train Acc: 0.8612, Train Latency: 31.22s, Memory Usage: 3.04MB\n",
            "Test Loss: 0.5393, Test Acc: 0.8224, Test Latency: 3.61s, Test Memory Usage: 0.19MB\n",
            "\n",
            "Epoch 81\n"
          ]
        },
        {
          "name": "stderr",
          "output_type": "stream",
          "text": [
            "Train: 100%|##########| 391/391 [00:31<00:00, 12.47batch/s]\n"
          ]
        },
        {
          "name": "stdout",
          "output_type": "stream",
          "text": [
            "LR: 1.0000e-02, Train Loss: 0.4013, Train Acc: 0.8611, Train Latency: 31.35s, Memory Usage: 3.04MB\n",
            "Test Loss: 0.6595, Test Acc: 0.7883, Test Latency: 3.56s, Test Memory Usage: 0.19MB\n",
            "\n",
            "Epoch 82\n"
          ]
        },
        {
          "name": "stderr",
          "output_type": "stream",
          "text": [
            "Train: 100%|##########| 391/391 [00:31<00:00, 12.56batch/s]\n"
          ]
        },
        {
          "name": "stdout",
          "output_type": "stream",
          "text": [
            "LR: 1.0000e-02, Train Loss: 0.4011, Train Acc: 0.8632, Train Latency: 31.12s, Memory Usage: 3.04MB\n",
            "Test Loss: 0.5684, Test Acc: 0.8091, Test Latency: 3.62s, Test Memory Usage: 0.19MB\n",
            "\n",
            "Epoch 83\n"
          ]
        },
        {
          "name": "stderr",
          "output_type": "stream",
          "text": [
            "Train: 100%|##########| 391/391 [00:31<00:00, 12.55batch/s]\n"
          ]
        },
        {
          "name": "stdout",
          "output_type": "stream",
          "text": [
            "LR: 1.0000e-02, Train Loss: 0.4055, Train Acc: 0.8616, Train Latency: 31.15s, Memory Usage: 3.04MB\n",
            "Test Loss: 0.5246, Test Acc: 0.8190, Test Latency: 3.60s, Test Memory Usage: 0.19MB\n",
            "\n",
            "Epoch 84\n"
          ]
        },
        {
          "name": "stderr",
          "output_type": "stream",
          "text": [
            "Train: 100%|##########| 391/391 [00:31<00:00, 12.50batch/s]\n"
          ]
        },
        {
          "name": "stdout",
          "output_type": "stream",
          "text": [
            "LR: 1.0000e-02, Train Loss: 0.4009, Train Acc: 0.8631, Train Latency: 31.28s, Memory Usage: 3.04MB\n",
            "Test Loss: 0.5580, Test Acc: 0.8077, Test Latency: 3.65s, Test Memory Usage: 0.19MB\n",
            "\n",
            "Epoch 85\n"
          ]
        },
        {
          "name": "stderr",
          "output_type": "stream",
          "text": [
            "Train: 100%|##########| 391/391 [00:31<00:00, 12.57batch/s]\n"
          ]
        },
        {
          "name": "stdout",
          "output_type": "stream",
          "text": [
            "LR: 1.0000e-02, Train Loss: 0.4030, Train Acc: 0.8601, Train Latency: 31.12s, Memory Usage: 3.04MB\n",
            "Test Loss: 0.5080, Test Acc: 0.8281, Test Latency: 3.61s, Test Memory Usage: 0.19MB\n",
            "\n",
            "Epoch 86\n"
          ]
        },
        {
          "name": "stderr",
          "output_type": "stream",
          "text": [
            "Train: 100%|##########| 391/391 [00:31<00:00, 12.58batch/s]\n"
          ]
        },
        {
          "name": "stdout",
          "output_type": "stream",
          "text": [
            "LR: 1.0000e-02, Train Loss: 0.4017, Train Acc: 0.8636, Train Latency: 31.10s, Memory Usage: 3.04MB\n",
            "Test Loss: 0.6169, Test Acc: 0.7927, Test Latency: 3.58s, Test Memory Usage: 0.19MB\n",
            "\n",
            "Epoch 87\n"
          ]
        },
        {
          "name": "stderr",
          "output_type": "stream",
          "text": [
            "Train: 100%|##########| 391/391 [00:31<00:00, 12.53batch/s]\n"
          ]
        },
        {
          "name": "stdout",
          "output_type": "stream",
          "text": [
            "LR: 1.0000e-02, Train Loss: 0.4040, Train Acc: 0.8619, Train Latency: 31.20s, Memory Usage: 3.04MB\n",
            "Test Loss: 0.7604, Test Acc: 0.7515, Test Latency: 3.60s, Test Memory Usage: 0.19MB\n",
            "\n",
            "Epoch 88\n"
          ]
        },
        {
          "name": "stderr",
          "output_type": "stream",
          "text": [
            "Train: 100%|##########| 391/391 [00:31<00:00, 12.53batch/s]\n"
          ]
        },
        {
          "name": "stdout",
          "output_type": "stream",
          "text": [
            "LR: 1.0000e-02, Train Loss: 0.4045, Train Acc: 0.8617, Train Latency: 31.22s, Memory Usage: 3.04MB\n",
            "Test Loss: 0.7650, Test Acc: 0.7585, Test Latency: 3.60s, Test Memory Usage: 0.19MB\n",
            "\n",
            "Epoch 89\n"
          ]
        },
        {
          "name": "stderr",
          "output_type": "stream",
          "text": [
            "Train: 100%|##########| 391/391 [00:31<00:00, 12.51batch/s]\n"
          ]
        },
        {
          "name": "stdout",
          "output_type": "stream",
          "text": [
            "LR: 1.0000e-02, Train Loss: 0.3980, Train Acc: 0.8633, Train Latency: 31.27s, Memory Usage: 3.04MB\n",
            "Test Loss: 0.6495, Test Acc: 0.7866, Test Latency: 3.67s, Test Memory Usage: 0.19MB\n",
            "\n",
            "Epoch 90\n"
          ]
        },
        {
          "name": "stderr",
          "output_type": "stream",
          "text": [
            "Train: 100%|##########| 391/391 [00:31<00:00, 12.58batch/s]\n"
          ]
        },
        {
          "name": "stdout",
          "output_type": "stream",
          "text": [
            "LR: 1.0000e-02, Train Loss: 0.4030, Train Acc: 0.8619, Train Latency: 31.08s, Memory Usage: 3.04MB\n",
            "Test Loss: 0.7634, Test Acc: 0.7574, Test Latency: 3.63s, Test Memory Usage: 0.19MB\n",
            "\n",
            "Epoch 91\n"
          ]
        },
        {
          "name": "stderr",
          "output_type": "stream",
          "text": [
            "Train: 100%|##########| 391/391 [00:31<00:00, 12.56batch/s]\n"
          ]
        },
        {
          "name": "stdout",
          "output_type": "stream",
          "text": [
            "LR: 1.0000e-02, Train Loss: 0.3995, Train Acc: 0.8628, Train Latency: 31.15s, Memory Usage: 3.04MB\n",
            "Test Loss: 0.9810, Test Acc: 0.6992, Test Latency: 3.61s, Test Memory Usage: 0.19MB\n",
            "\n",
            "Epoch 92\n"
          ]
        },
        {
          "name": "stderr",
          "output_type": "stream",
          "text": [
            "Train: 100%|##########| 391/391 [00:31<00:00, 12.57batch/s]\n"
          ]
        },
        {
          "name": "stdout",
          "output_type": "stream",
          "text": [
            "LR: 1.0000e-02, Train Loss: 0.3964, Train Acc: 0.8634, Train Latency: 31.11s, Memory Usage: 3.04MB\n",
            "Test Loss: 0.5227, Test Acc: 0.8229, Test Latency: 3.57s, Test Memory Usage: 0.19MB\n",
            "\n",
            "Epoch 93\n"
          ]
        },
        {
          "name": "stderr",
          "output_type": "stream",
          "text": [
            "Train: 100%|##########| 391/391 [00:31<00:00, 12.53batch/s]\n"
          ]
        },
        {
          "name": "stdout",
          "output_type": "stream",
          "text": [
            "LR: 1.0000e-02, Train Loss: 0.3935, Train Acc: 0.8637, Train Latency: 31.21s, Memory Usage: 3.04MB\n",
            "Test Loss: 0.6730, Test Acc: 0.7818, Test Latency: 3.53s, Test Memory Usage: 0.19MB\n",
            "\n",
            "Epoch 94\n"
          ]
        },
        {
          "name": "stderr",
          "output_type": "stream",
          "text": [
            "Train: 100%|##########| 391/391 [00:31<00:00, 12.54batch/s]\n"
          ]
        },
        {
          "name": "stdout",
          "output_type": "stream",
          "text": [
            "LR: 1.0000e-02, Train Loss: 0.3956, Train Acc: 0.8643, Train Latency: 31.18s, Memory Usage: 3.04MB\n",
            "Test Loss: 0.6128, Test Acc: 0.7994, Test Latency: 3.58s, Test Memory Usage: 0.19MB\n",
            "\n",
            "Epoch 95\n"
          ]
        },
        {
          "name": "stderr",
          "output_type": "stream",
          "text": [
            "Train: 100%|##########| 391/391 [00:31<00:00, 12.53batch/s]\n"
          ]
        },
        {
          "name": "stdout",
          "output_type": "stream",
          "text": [
            "LR: 1.0000e-02, Train Loss: 0.3973, Train Acc: 0.8629, Train Latency: 31.21s, Memory Usage: 3.04MB\n",
            "Test Loss: 0.5942, Test Acc: 0.8073, Test Latency: 3.57s, Test Memory Usage: 0.19MB\n",
            "\n",
            "Epoch 96\n"
          ]
        },
        {
          "name": "stderr",
          "output_type": "stream",
          "text": [
            "Train: 100%|##########| 391/391 [00:31<00:00, 12.51batch/s]\n"
          ]
        },
        {
          "name": "stdout",
          "output_type": "stream",
          "text": [
            "LR: 1.0000e-02, Train Loss: 0.3960, Train Acc: 0.8639, Train Latency: 31.27s, Memory Usage: 3.04MB\n",
            "Test Loss: 0.6539, Test Acc: 0.7818, Test Latency: 3.59s, Test Memory Usage: 0.19MB\n",
            "\n",
            "Epoch 97\n"
          ]
        },
        {
          "name": "stderr",
          "output_type": "stream",
          "text": [
            "Train: 100%|##########| 391/391 [00:31<00:00, 12.53batch/s]\n"
          ]
        },
        {
          "name": "stdout",
          "output_type": "stream",
          "text": [
            "LR: 1.0000e-02, Train Loss: 0.3998, Train Acc: 0.8627, Train Latency: 31.20s, Memory Usage: 3.04MB\n",
            "Test Loss: 0.6384, Test Acc: 0.7936, Test Latency: 3.61s, Test Memory Usage: 0.19MB\n",
            "\n",
            "Epoch 98\n"
          ]
        },
        {
          "name": "stderr",
          "output_type": "stream",
          "text": [
            "Train: 100%|##########| 391/391 [00:31<00:00, 12.51batch/s]\n"
          ]
        },
        {
          "name": "stdout",
          "output_type": "stream",
          "text": [
            "LR: 1.0000e-02, Train Loss: 0.3983, Train Acc: 0.8628, Train Latency: 31.27s, Memory Usage: 3.04MB\n",
            "Test Loss: 0.5494, Test Acc: 0.8174, Test Latency: 3.66s, Test Memory Usage: 0.19MB\n",
            "\n",
            "Epoch 99\n"
          ]
        },
        {
          "name": "stderr",
          "output_type": "stream",
          "text": [
            "Train: 100%|##########| 391/391 [00:31<00:00, 12.43batch/s]\n"
          ]
        },
        {
          "name": "stdout",
          "output_type": "stream",
          "text": [
            "LR: 1.0000e-02, Train Loss: 0.3936, Train Acc: 0.8653, Train Latency: 31.45s, Memory Usage: 3.04MB\n",
            "Test Loss: 0.7430, Test Acc: 0.7624, Test Latency: 3.60s, Test Memory Usage: 0.19MB\n",
            "\n",
            "Epoch 100\n"
          ]
        },
        {
          "name": "stderr",
          "output_type": "stream",
          "text": [
            "Train: 100%|##########| 391/391 [00:31<00:00, 12.51batch/s]\n"
          ]
        },
        {
          "name": "stdout",
          "output_type": "stream",
          "text": [
            "LR: 1.0000e-02, Train Loss: 0.3955, Train Acc: 0.8635, Train Latency: 31.26s, Memory Usage: 3.04MB\n",
            "Test Loss: 0.4944, Test Acc: 0.8357, Test Latency: 3.58s, Test Memory Usage: 0.19MB\n",
            "\n",
            "Epoch 101\n"
          ]
        },
        {
          "name": "stderr",
          "output_type": "stream",
          "text": [
            "Train: 100%|##########| 391/391 [00:31<00:00, 12.41batch/s]\n"
          ]
        },
        {
          "name": "stdout",
          "output_type": "stream",
          "text": [
            "LR: 1.0000e-03, Train Loss: 0.3035, Train Acc: 0.8975, Train Latency: 31.50s, Memory Usage: 3.04MB\n",
            "Test Loss: 0.3489, Test Acc: 0.8809, Test Latency: 3.61s, Test Memory Usage: 0.19MB\n",
            "Saving best model ...\n",
            "\n",
            "Epoch 102\n"
          ]
        },
        {
          "name": "stderr",
          "output_type": "stream",
          "text": [
            "Train: 100%|##########| 391/391 [00:31<00:00, 12.56batch/s]\n"
          ]
        },
        {
          "name": "stdout",
          "output_type": "stream",
          "text": [
            "LR: 1.0000e-03, Train Loss: 0.2767, Train Acc: 0.9066, Train Latency: 31.13s, Memory Usage: 3.04MB\n",
            "Test Loss: 0.3657, Test Acc: 0.8746, Test Latency: 3.59s, Test Memory Usage: 0.19MB\n",
            "\n",
            "Epoch 103\n"
          ]
        },
        {
          "name": "stderr",
          "output_type": "stream",
          "text": [
            "Train: 100%|##########| 391/391 [00:31<00:00, 12.56batch/s]\n"
          ]
        },
        {
          "name": "stdout",
          "output_type": "stream",
          "text": [
            "LR: 1.0000e-03, Train Loss: 0.2679, Train Acc: 0.9101, Train Latency: 31.14s, Memory Usage: 3.04MB\n",
            "Test Loss: 0.3387, Test Acc: 0.8828, Test Latency: 3.59s, Test Memory Usage: 0.19MB\n",
            "Saving best model ...\n",
            "\n",
            "Epoch 104\n"
          ]
        },
        {
          "name": "stderr",
          "output_type": "stream",
          "text": [
            "Train: 100%|##########| 391/391 [00:31<00:00, 12.60batch/s]\n"
          ]
        },
        {
          "name": "stdout",
          "output_type": "stream",
          "text": [
            "LR: 1.0000e-03, Train Loss: 0.2599, Train Acc: 0.9133, Train Latency: 31.02s, Memory Usage: 3.04MB\n",
            "Test Loss: 0.3694, Test Acc: 0.8754, Test Latency: 3.57s, Test Memory Usage: 0.19MB\n",
            "\n",
            "Epoch 105\n"
          ]
        },
        {
          "name": "stderr",
          "output_type": "stream",
          "text": [
            "Train: 100%|##########| 391/391 [00:31<00:00, 12.44batch/s]\n"
          ]
        },
        {
          "name": "stdout",
          "output_type": "stream",
          "text": [
            "LR: 1.0000e-03, Train Loss: 0.2620, Train Acc: 0.9112, Train Latency: 31.44s, Memory Usage: 3.04MB\n",
            "Test Loss: 0.3356, Test Acc: 0.8826, Test Latency: 3.62s, Test Memory Usage: 0.19MB\n",
            "\n",
            "Epoch 106\n"
          ]
        },
        {
          "name": "stderr",
          "output_type": "stream",
          "text": [
            "Train: 100%|##########| 391/391 [00:31<00:00, 12.41batch/s]\n"
          ]
        },
        {
          "name": "stdout",
          "output_type": "stream",
          "text": [
            "LR: 1.0000e-03, Train Loss: 0.2579, Train Acc: 0.9131, Train Latency: 31.52s, Memory Usage: 3.04MB\n",
            "Test Loss: 0.3589, Test Acc: 0.8787, Test Latency: 3.62s, Test Memory Usage: 0.19MB\n",
            "\n",
            "Epoch 107\n"
          ]
        },
        {
          "name": "stderr",
          "output_type": "stream",
          "text": [
            "Train: 100%|##########| 391/391 [00:31<00:00, 12.51batch/s]\n"
          ]
        },
        {
          "name": "stdout",
          "output_type": "stream",
          "text": [
            "LR: 1.0000e-03, Train Loss: 0.2515, Train Acc: 0.9156, Train Latency: 31.25s, Memory Usage: 3.04MB\n",
            "Test Loss: 0.3427, Test Acc: 0.8827, Test Latency: 3.58s, Test Memory Usage: 0.19MB\n",
            "\n",
            "Epoch 108\n"
          ]
        },
        {
          "name": "stderr",
          "output_type": "stream",
          "text": [
            "Train: 100%|##########| 391/391 [00:31<00:00, 12.50batch/s]\n"
          ]
        },
        {
          "name": "stdout",
          "output_type": "stream",
          "text": [
            "LR: 1.0000e-03, Train Loss: 0.2521, Train Acc: 0.9143, Train Latency: 31.28s, Memory Usage: 3.04MB\n",
            "Test Loss: 0.3707, Test Acc: 0.8739, Test Latency: 3.57s, Test Memory Usage: 0.19MB\n",
            "\n",
            "Epoch 109\n"
          ]
        },
        {
          "name": "stderr",
          "output_type": "stream",
          "text": [
            "Train: 100%|##########| 391/391 [00:31<00:00, 12.48batch/s]\n"
          ]
        },
        {
          "name": "stdout",
          "output_type": "stream",
          "text": [
            "LR: 1.0000e-03, Train Loss: 0.2489, Train Acc: 0.9154, Train Latency: 31.34s, Memory Usage: 3.04MB\n",
            "Test Loss: 0.3669, Test Acc: 0.8785, Test Latency: 3.60s, Test Memory Usage: 0.19MB\n",
            "\n",
            "Epoch 110\n"
          ]
        },
        {
          "name": "stderr",
          "output_type": "stream",
          "text": [
            "Train: 100%|##########| 391/391 [00:31<00:00, 12.53batch/s]\n"
          ]
        },
        {
          "name": "stdout",
          "output_type": "stream",
          "text": [
            "LR: 1.0000e-03, Train Loss: 0.2506, Train Acc: 0.9158, Train Latency: 31.21s, Memory Usage: 3.04MB\n",
            "Test Loss: 0.3598, Test Acc: 0.8782, Test Latency: 3.58s, Test Memory Usage: 0.19MB\n",
            "\n",
            "Epoch 111\n"
          ]
        },
        {
          "name": "stderr",
          "output_type": "stream",
          "text": [
            "Train: 100%|##########| 391/391 [00:31<00:00, 12.52batch/s]\n"
          ]
        },
        {
          "name": "stdout",
          "output_type": "stream",
          "text": [
            "LR: 1.0000e-03, Train Loss: 0.2514, Train Acc: 0.9162, Train Latency: 31.24s, Memory Usage: 3.04MB\n",
            "Test Loss: 0.3446, Test Acc: 0.8797, Test Latency: 3.56s, Test Memory Usage: 0.19MB\n",
            "\n",
            "Epoch 112\n"
          ]
        },
        {
          "name": "stderr",
          "output_type": "stream",
          "text": [
            "Train: 100%|##########| 391/391 [00:31<00:00, 12.43batch/s]\n"
          ]
        },
        {
          "name": "stdout",
          "output_type": "stream",
          "text": [
            "LR: 1.0000e-03, Train Loss: 0.2494, Train Acc: 0.9162, Train Latency: 31.47s, Memory Usage: 3.04MB\n",
            "Test Loss: 0.3881, Test Acc: 0.8653, Test Latency: 3.59s, Test Memory Usage: 0.19MB\n",
            "\n",
            "Epoch 113\n"
          ]
        },
        {
          "name": "stderr",
          "output_type": "stream",
          "text": [
            "Train: 100%|##########| 391/391 [00:31<00:00, 12.56batch/s]\n"
          ]
        },
        {
          "name": "stdout",
          "output_type": "stream",
          "text": [
            "LR: 1.0000e-03, Train Loss: 0.2507, Train Acc: 0.9139, Train Latency: 31.14s, Memory Usage: 3.04MB\n",
            "Test Loss: 0.3754, Test Acc: 0.8734, Test Latency: 3.60s, Test Memory Usage: 0.19MB\n",
            "\n",
            "Epoch 114\n"
          ]
        },
        {
          "name": "stderr",
          "output_type": "stream",
          "text": [
            "Train: 100%|##########| 391/391 [00:31<00:00, 12.56batch/s]\n"
          ]
        },
        {
          "name": "stdout",
          "output_type": "stream",
          "text": [
            "LR: 1.0000e-03, Train Loss: 0.2484, Train Acc: 0.9161, Train Latency: 31.13s, Memory Usage: 3.04MB\n",
            "Test Loss: 0.4169, Test Acc: 0.8631, Test Latency: 3.62s, Test Memory Usage: 0.19MB\n",
            "\n",
            "Epoch 115\n"
          ]
        },
        {
          "name": "stderr",
          "output_type": "stream",
          "text": [
            "Train: 100%|##########| 391/391 [00:31<00:00, 12.60batch/s]\n"
          ]
        },
        {
          "name": "stdout",
          "output_type": "stream",
          "text": [
            "LR: 1.0000e-03, Train Loss: 0.2491, Train Acc: 0.9152, Train Latency: 31.05s, Memory Usage: 3.04MB\n",
            "Test Loss: 0.3574, Test Acc: 0.8799, Test Latency: 3.59s, Test Memory Usage: 0.19MB\n",
            "\n",
            "Epoch 116\n"
          ]
        },
        {
          "name": "stderr",
          "output_type": "stream",
          "text": [
            "Train: 100%|##########| 391/391 [00:31<00:00, 12.47batch/s]\n"
          ]
        },
        {
          "name": "stdout",
          "output_type": "stream",
          "text": [
            "LR: 1.0000e-03, Train Loss: 0.2472, Train Acc: 0.9165, Train Latency: 31.37s, Memory Usage: 3.04MB\n",
            "Test Loss: 0.3795, Test Acc: 0.8712, Test Latency: 3.67s, Test Memory Usage: 0.19MB\n",
            "\n",
            "Epoch 117\n"
          ]
        },
        {
          "name": "stderr",
          "output_type": "stream",
          "text": [
            "Train: 100%|##########| 391/391 [00:31<00:00, 12.49batch/s]\n"
          ]
        },
        {
          "name": "stdout",
          "output_type": "stream",
          "text": [
            "LR: 1.0000e-03, Train Loss: 0.2474, Train Acc: 0.9166, Train Latency: 31.30s, Memory Usage: 3.04MB\n",
            "Test Loss: 0.3801, Test Acc: 0.8761, Test Latency: 3.59s, Test Memory Usage: 0.19MB\n",
            "\n",
            "Epoch 118\n"
          ]
        },
        {
          "name": "stderr",
          "output_type": "stream",
          "text": [
            "Train: 100%|##########| 391/391 [00:31<00:00, 12.54batch/s]\n"
          ]
        },
        {
          "name": "stdout",
          "output_type": "stream",
          "text": [
            "LR: 1.0000e-03, Train Loss: 0.2498, Train Acc: 0.9141, Train Latency: 31.19s, Memory Usage: 3.04MB\n",
            "Test Loss: 0.4011, Test Acc: 0.8686, Test Latency: 3.57s, Test Memory Usage: 0.19MB\n",
            "\n",
            "Epoch 119\n"
          ]
        },
        {
          "name": "stderr",
          "output_type": "stream",
          "text": [
            "Train: 100%|##########| 391/391 [00:31<00:00, 12.51batch/s]\n"
          ]
        },
        {
          "name": "stdout",
          "output_type": "stream",
          "text": [
            "LR: 1.0000e-03, Train Loss: 0.2467, Train Acc: 0.9158, Train Latency: 31.26s, Memory Usage: 3.04MB\n",
            "Test Loss: 0.3759, Test Acc: 0.8752, Test Latency: 3.58s, Test Memory Usage: 0.19MB\n",
            "\n",
            "Epoch 120\n"
          ]
        },
        {
          "name": "stderr",
          "output_type": "stream",
          "text": [
            "Train: 100%|##########| 391/391 [00:31<00:00, 12.55batch/s]\n"
          ]
        },
        {
          "name": "stdout",
          "output_type": "stream",
          "text": [
            "LR: 1.0000e-03, Train Loss: 0.2443, Train Acc: 0.9172, Train Latency: 31.16s, Memory Usage: 3.04MB\n",
            "Test Loss: 0.3804, Test Acc: 0.8733, Test Latency: 3.59s, Test Memory Usage: 0.19MB\n",
            "\n",
            "Epoch 121\n"
          ]
        },
        {
          "name": "stderr",
          "output_type": "stream",
          "text": [
            "Train: 100%|##########| 391/391 [00:31<00:00, 12.50batch/s]\n"
          ]
        },
        {
          "name": "stdout",
          "output_type": "stream",
          "text": [
            "LR: 1.0000e-03, Train Loss: 0.2442, Train Acc: 0.9176, Train Latency: 31.30s, Memory Usage: 3.04MB\n",
            "Test Loss: 0.3973, Test Acc: 0.8662, Test Latency: 3.60s, Test Memory Usage: 0.19MB\n",
            "\n",
            "Epoch 122\n"
          ]
        },
        {
          "name": "stderr",
          "output_type": "stream",
          "text": [
            "Train: 100%|##########| 391/391 [00:31<00:00, 12.58batch/s]\n"
          ]
        },
        {
          "name": "stdout",
          "output_type": "stream",
          "text": [
            "LR: 1.0000e-03, Train Loss: 0.2451, Train Acc: 0.9165, Train Latency: 31.08s, Memory Usage: 3.04MB\n",
            "Test Loss: 0.3835, Test Acc: 0.8731, Test Latency: 3.61s, Test Memory Usage: 0.19MB\n",
            "\n",
            "Epoch 123\n"
          ]
        },
        {
          "name": "stderr",
          "output_type": "stream",
          "text": [
            "Train: 100%|##########| 391/391 [00:31<00:00, 12.54batch/s]\n"
          ]
        },
        {
          "name": "stdout",
          "output_type": "stream",
          "text": [
            "LR: 1.0000e-03, Train Loss: 0.2452, Train Acc: 0.9172, Train Latency: 31.19s, Memory Usage: 3.04MB\n",
            "Test Loss: 0.4043, Test Acc: 0.8672, Test Latency: 3.59s, Test Memory Usage: 0.19MB\n",
            "\n",
            "Epoch 124\n"
          ]
        },
        {
          "name": "stderr",
          "output_type": "stream",
          "text": [
            "Train: 100%|##########| 391/391 [00:31<00:00, 12.51batch/s]\n"
          ]
        },
        {
          "name": "stdout",
          "output_type": "stream",
          "text": [
            "LR: 1.0000e-03, Train Loss: 0.2427, Train Acc: 0.9169, Train Latency: 31.25s, Memory Usage: 3.04MB\n",
            "Test Loss: 0.4178, Test Acc: 0.8615, Test Latency: 3.60s, Test Memory Usage: 0.19MB\n",
            "\n",
            "Epoch 125\n"
          ]
        },
        {
          "name": "stderr",
          "output_type": "stream",
          "text": [
            "Train: 100%|##########| 391/391 [00:31<00:00, 12.50batch/s]\n"
          ]
        },
        {
          "name": "stdout",
          "output_type": "stream",
          "text": [
            "LR: 1.0000e-03, Train Loss: 0.2459, Train Acc: 0.9163, Train Latency: 31.27s, Memory Usage: 3.04MB\n",
            "Test Loss: 0.3896, Test Acc: 0.8668, Test Latency: 3.60s, Test Memory Usage: 0.19MB\n",
            "\n",
            "Epoch 126\n"
          ]
        },
        {
          "name": "stderr",
          "output_type": "stream",
          "text": [
            "Train: 100%|##########| 391/391 [00:31<00:00, 12.48batch/s]\n"
          ]
        },
        {
          "name": "stdout",
          "output_type": "stream",
          "text": [
            "LR: 1.0000e-03, Train Loss: 0.2447, Train Acc: 0.9174, Train Latency: 31.34s, Memory Usage: 3.04MB\n",
            "Test Loss: 0.4124, Test Acc: 0.8634, Test Latency: 3.60s, Test Memory Usage: 0.19MB\n",
            "\n",
            "Epoch 127\n"
          ]
        },
        {
          "name": "stderr",
          "output_type": "stream",
          "text": [
            "Train: 100%|##########| 391/391 [00:31<00:00, 12.52batch/s]\n"
          ]
        },
        {
          "name": "stdout",
          "output_type": "stream",
          "text": [
            "LR: 1.0000e-03, Train Loss: 0.2464, Train Acc: 0.9155, Train Latency: 31.23s, Memory Usage: 3.04MB\n",
            "Test Loss: 0.4071, Test Acc: 0.8650, Test Latency: 3.57s, Test Memory Usage: 0.19MB\n",
            "\n",
            "Epoch 128\n"
          ]
        },
        {
          "name": "stderr",
          "output_type": "stream",
          "text": [
            "Train: 100%|##########| 391/391 [00:31<00:00, 12.55batch/s]\n"
          ]
        },
        {
          "name": "stdout",
          "output_type": "stream",
          "text": [
            "LR: 1.0000e-03, Train Loss: 0.2467, Train Acc: 0.9152, Train Latency: 31.16s, Memory Usage: 3.04MB\n",
            "Test Loss: 0.3750, Test Acc: 0.8746, Test Latency: 3.60s, Test Memory Usage: 0.19MB\n",
            "\n",
            "Epoch 129\n"
          ]
        },
        {
          "name": "stderr",
          "output_type": "stream",
          "text": [
            "Train: 100%|##########| 391/391 [00:31<00:00, 12.56batch/s]\n"
          ]
        },
        {
          "name": "stdout",
          "output_type": "stream",
          "text": [
            "LR: 1.0000e-03, Train Loss: 0.2491, Train Acc: 0.9162, Train Latency: 31.13s, Memory Usage: 3.04MB\n",
            "Test Loss: 0.4415, Test Acc: 0.8558, Test Latency: 3.60s, Test Memory Usage: 0.19MB\n",
            "\n",
            "Epoch 130\n"
          ]
        },
        {
          "name": "stderr",
          "output_type": "stream",
          "text": [
            "Train: 100%|##########| 391/391 [00:31<00:00, 12.50batch/s]\n"
          ]
        },
        {
          "name": "stdout",
          "output_type": "stream",
          "text": [
            "LR: 1.0000e-03, Train Loss: 0.2455, Train Acc: 0.9166, Train Latency: 31.29s, Memory Usage: 3.04MB\n",
            "Test Loss: 0.3756, Test Acc: 0.8734, Test Latency: 3.63s, Test Memory Usage: 0.19MB\n",
            "\n",
            "Epoch 131\n"
          ]
        },
        {
          "name": "stderr",
          "output_type": "stream",
          "text": [
            "Train: 100%|##########| 391/391 [00:31<00:00, 12.44batch/s]\n"
          ]
        },
        {
          "name": "stdout",
          "output_type": "stream",
          "text": [
            "LR: 1.0000e-03, Train Loss: 0.2453, Train Acc: 0.9169, Train Latency: 31.42s, Memory Usage: 3.04MB\n",
            "Test Loss: 0.4540, Test Acc: 0.8456, Test Latency: 3.74s, Test Memory Usage: 0.19MB\n",
            "\n",
            "Epoch 132\n"
          ]
        },
        {
          "name": "stderr",
          "output_type": "stream",
          "text": [
            "Train: 100%|##########| 391/391 [00:31<00:00, 12.44batch/s]\n"
          ]
        },
        {
          "name": "stdout",
          "output_type": "stream",
          "text": [
            "LR: 1.0000e-03, Train Loss: 0.2462, Train Acc: 0.9154, Train Latency: 31.43s, Memory Usage: 3.04MB\n",
            "Test Loss: 0.3646, Test Acc: 0.8773, Test Latency: 3.63s, Test Memory Usage: 0.19MB\n",
            "\n",
            "Epoch 133\n"
          ]
        },
        {
          "name": "stderr",
          "output_type": "stream",
          "text": [
            "Train: 100%|##########| 391/391 [00:31<00:00, 12.53batch/s]\n"
          ]
        },
        {
          "name": "stdout",
          "output_type": "stream",
          "text": [
            "LR: 1.0000e-03, Train Loss: 0.2505, Train Acc: 0.9136, Train Latency: 31.20s, Memory Usage: 3.04MB\n",
            "Test Loss: 0.3876, Test Acc: 0.8690, Test Latency: 3.62s, Test Memory Usage: 0.19MB\n",
            "\n",
            "Epoch 134\n"
          ]
        },
        {
          "name": "stderr",
          "output_type": "stream",
          "text": [
            "Train: 100%|##########| 391/391 [00:31<00:00, 12.41batch/s]\n"
          ]
        },
        {
          "name": "stdout",
          "output_type": "stream",
          "text": [
            "LR: 1.0000e-03, Train Loss: 0.2422, Train Acc: 0.9177, Train Latency: 31.50s, Memory Usage: 3.04MB\n",
            "Test Loss: 0.4815, Test Acc: 0.8419, Test Latency: 3.59s, Test Memory Usage: 0.19MB\n",
            "\n",
            "Epoch 135\n"
          ]
        },
        {
          "name": "stderr",
          "output_type": "stream",
          "text": [
            "Train: 100%|##########| 391/391 [00:31<00:00, 12.43batch/s]\n"
          ]
        },
        {
          "name": "stdout",
          "output_type": "stream",
          "text": [
            "LR: 1.0000e-03, Train Loss: 0.2478, Train Acc: 0.9159, Train Latency: 31.45s, Memory Usage: 3.04MB\n",
            "Test Loss: 0.3915, Test Acc: 0.8677, Test Latency: 3.60s, Test Memory Usage: 0.19MB\n",
            "\n",
            "Epoch 136\n"
          ]
        },
        {
          "name": "stderr",
          "output_type": "stream",
          "text": [
            "Train: 100%|##########| 391/391 [00:31<00:00, 12.37batch/s]\n"
          ]
        },
        {
          "name": "stdout",
          "output_type": "stream",
          "text": [
            "LR: 1.0000e-03, Train Loss: 0.2462, Train Acc: 0.9164, Train Latency: 31.61s, Memory Usage: 3.04MB\n",
            "Test Loss: 0.4346, Test Acc: 0.8533, Test Latency: 3.60s, Test Memory Usage: 0.19MB\n",
            "\n",
            "Epoch 137\n"
          ]
        },
        {
          "name": "stderr",
          "output_type": "stream",
          "text": [
            "Train: 100%|##########| 391/391 [00:31<00:00, 12.45batch/s]\n"
          ]
        },
        {
          "name": "stdout",
          "output_type": "stream",
          "text": [
            "LR: 1.0000e-03, Train Loss: 0.2461, Train Acc: 0.9148, Train Latency: 31.40s, Memory Usage: 3.04MB\n",
            "Test Loss: 0.3869, Test Acc: 0.8687, Test Latency: 3.62s, Test Memory Usage: 0.19MB\n",
            "\n",
            "Epoch 138\n"
          ]
        },
        {
          "name": "stderr",
          "output_type": "stream",
          "text": [
            "Train: 100%|##########| 391/391 [00:31<00:00, 12.44batch/s]\n"
          ]
        },
        {
          "name": "stdout",
          "output_type": "stream",
          "text": [
            "LR: 1.0000e-03, Train Loss: 0.2499, Train Acc: 0.9153, Train Latency: 31.43s, Memory Usage: 3.04MB\n",
            "Test Loss: 0.3886, Test Acc: 0.8736, Test Latency: 3.62s, Test Memory Usage: 0.19MB\n",
            "\n",
            "Epoch 139\n"
          ]
        },
        {
          "name": "stderr",
          "output_type": "stream",
          "text": [
            "Train: 100%|##########| 391/391 [00:31<00:00, 12.47batch/s]\n"
          ]
        },
        {
          "name": "stdout",
          "output_type": "stream",
          "text": [
            "LR: 1.0000e-03, Train Loss: 0.2459, Train Acc: 0.9157, Train Latency: 31.37s, Memory Usage: 3.04MB\n",
            "Test Loss: 0.4051, Test Acc: 0.8660, Test Latency: 3.61s, Test Memory Usage: 0.19MB\n",
            "\n",
            "Epoch 140\n"
          ]
        },
        {
          "name": "stderr",
          "output_type": "stream",
          "text": [
            "Train: 100%|##########| 391/391 [00:31<00:00, 12.50batch/s]\n"
          ]
        },
        {
          "name": "stdout",
          "output_type": "stream",
          "text": [
            "LR: 1.0000e-03, Train Loss: 0.2484, Train Acc: 0.9155, Train Latency: 31.28s, Memory Usage: 3.04MB\n",
            "Test Loss: 0.4057, Test Acc: 0.8616, Test Latency: 3.62s, Test Memory Usage: 0.19MB\n",
            "\n",
            "Epoch 141\n"
          ]
        },
        {
          "name": "stderr",
          "output_type": "stream",
          "text": [
            "Train: 100%|##########| 391/391 [00:31<00:00, 12.45batch/s]\n"
          ]
        },
        {
          "name": "stdout",
          "output_type": "stream",
          "text": [
            "LR: 1.0000e-03, Train Loss: 0.2472, Train Acc: 0.9170, Train Latency: 31.41s, Memory Usage: 3.04MB\n",
            "Test Loss: 0.4309, Test Acc: 0.8599, Test Latency: 3.60s, Test Memory Usage: 0.19MB\n",
            "\n",
            "Epoch 142\n"
          ]
        },
        {
          "name": "stderr",
          "output_type": "stream",
          "text": [
            "Train: 100%|##########| 391/391 [00:31<00:00, 12.42batch/s]\n"
          ]
        },
        {
          "name": "stdout",
          "output_type": "stream",
          "text": [
            "LR: 1.0000e-03, Train Loss: 0.2494, Train Acc: 0.9142, Train Latency: 31.48s, Memory Usage: 3.04MB\n",
            "Test Loss: 0.3693, Test Acc: 0.8764, Test Latency: 3.55s, Test Memory Usage: 0.19MB\n",
            "\n",
            "Epoch 143\n"
          ]
        },
        {
          "name": "stderr",
          "output_type": "stream",
          "text": [
            "Train: 100%|##########| 391/391 [00:31<00:00, 12.49batch/s]\n"
          ]
        },
        {
          "name": "stdout",
          "output_type": "stream",
          "text": [
            "LR: 1.0000e-03, Train Loss: 0.2504, Train Acc: 0.9152, Train Latency: 31.31s, Memory Usage: 3.04MB\n",
            "Test Loss: 0.3990, Test Acc: 0.8670, Test Latency: 3.59s, Test Memory Usage: 0.19MB\n",
            "\n",
            "Epoch 144\n"
          ]
        },
        {
          "name": "stderr",
          "output_type": "stream",
          "text": [
            "Train: 100%|##########| 391/391 [00:31<00:00, 12.38batch/s]\n"
          ]
        },
        {
          "name": "stdout",
          "output_type": "stream",
          "text": [
            "LR: 1.0000e-03, Train Loss: 0.2486, Train Acc: 0.9155, Train Latency: 31.59s, Memory Usage: 3.04MB\n",
            "Test Loss: 0.3875, Test Acc: 0.8669, Test Latency: 3.61s, Test Memory Usage: 0.19MB\n",
            "\n",
            "Epoch 145\n"
          ]
        },
        {
          "name": "stderr",
          "output_type": "stream",
          "text": [
            "Train: 100%|##########| 391/391 [00:31<00:00, 12.43batch/s]\n"
          ]
        },
        {
          "name": "stdout",
          "output_type": "stream",
          "text": [
            "LR: 1.0000e-03, Train Loss: 0.2483, Train Acc: 0.9150, Train Latency: 31.45s, Memory Usage: 3.04MB\n",
            "Test Loss: 0.5364, Test Acc: 0.8250, Test Latency: 3.61s, Test Memory Usage: 0.19MB\n",
            "\n",
            "Epoch 146\n"
          ]
        },
        {
          "name": "stderr",
          "output_type": "stream",
          "text": [
            "Train: 100%|##########| 391/391 [00:31<00:00, 12.57batch/s]\n"
          ]
        },
        {
          "name": "stdout",
          "output_type": "stream",
          "text": [
            "LR: 1.0000e-03, Train Loss: 0.2456, Train Acc: 0.9166, Train Latency: 31.12s, Memory Usage: 3.04MB\n",
            "Test Loss: 0.4051, Test Acc: 0.8656, Test Latency: 3.58s, Test Memory Usage: 0.19MB\n",
            "\n",
            "Epoch 147\n"
          ]
        },
        {
          "name": "stderr",
          "output_type": "stream",
          "text": [
            "Train: 100%|##########| 391/391 [00:31<00:00, 12.54batch/s]\n"
          ]
        },
        {
          "name": "stdout",
          "output_type": "stream",
          "text": [
            "LR: 1.0000e-03, Train Loss: 0.2497, Train Acc: 0.9155, Train Latency: 31.19s, Memory Usage: 3.04MB\n",
            "Test Loss: 0.4416, Test Acc: 0.8545, Test Latency: 3.58s, Test Memory Usage: 0.19MB\n",
            "\n",
            "Epoch 148\n"
          ]
        },
        {
          "name": "stderr",
          "output_type": "stream",
          "text": [
            "Train: 100%|##########| 391/391 [00:31<00:00, 12.48batch/s]\n"
          ]
        },
        {
          "name": "stdout",
          "output_type": "stream",
          "text": [
            "LR: 1.0000e-03, Train Loss: 0.2475, Train Acc: 0.9142, Train Latency: 31.32s, Memory Usage: 3.04MB\n",
            "Test Loss: 0.4267, Test Acc: 0.8620, Test Latency: 3.57s, Test Memory Usage: 0.19MB\n",
            "\n",
            "Epoch 149\n"
          ]
        },
        {
          "name": "stderr",
          "output_type": "stream",
          "text": [
            "Train: 100%|##########| 391/391 [00:31<00:00, 12.47batch/s]\n"
          ]
        },
        {
          "name": "stdout",
          "output_type": "stream",
          "text": [
            "LR: 1.0000e-03, Train Loss: 0.2486, Train Acc: 0.9147, Train Latency: 31.37s, Memory Usage: 3.04MB\n",
            "Test Loss: 0.3934, Test Acc: 0.8677, Test Latency: 3.57s, Test Memory Usage: 0.19MB\n",
            "\n",
            "Epoch 150\n"
          ]
        },
        {
          "name": "stderr",
          "output_type": "stream",
          "text": [
            "Train: 100%|##########| 391/391 [00:31<00:00, 12.51batch/s]\n"
          ]
        },
        {
          "name": "stdout",
          "output_type": "stream",
          "text": [
            "LR: 1.0000e-03, Train Loss: 0.2502, Train Acc: 0.9136, Train Latency: 31.26s, Memory Usage: 3.04MB\n",
            "Test Loss: 0.4389, Test Acc: 0.8509, Test Latency: 3.59s, Test Memory Usage: 0.19MB\n",
            "\n",
            "Epoch 151\n"
          ]
        },
        {
          "name": "stderr",
          "output_type": "stream",
          "text": [
            "Train: 100%|##########| 391/391 [00:31<00:00, 12.59batch/s]\n"
          ]
        },
        {
          "name": "stdout",
          "output_type": "stream",
          "text": [
            "LR: 1.0000e-04, Train Loss: 0.2113, Train Acc: 0.9295, Train Latency: 31.06s, Memory Usage: 3.04MB\n",
            "Test Loss: 0.3209, Test Acc: 0.8950, Test Latency: 3.67s, Test Memory Usage: 0.19MB\n",
            "Saving best model ...\n",
            "\n",
            "Epoch 152\n"
          ]
        },
        {
          "name": "stderr",
          "output_type": "stream",
          "text": [
            "Train: 100%|##########| 391/391 [00:31<00:00, 12.49batch/s]\n"
          ]
        },
        {
          "name": "stdout",
          "output_type": "stream",
          "text": [
            "LR: 1.0000e-04, Train Loss: 0.1978, Train Acc: 0.9333, Train Latency: 31.30s, Memory Usage: 3.04MB\n",
            "Test Loss: 0.3128, Test Acc: 0.8946, Test Latency: 3.61s, Test Memory Usage: 0.19MB\n",
            "\n",
            "Epoch 153\n"
          ]
        },
        {
          "name": "stderr",
          "output_type": "stream",
          "text": [
            "Train: 100%|##########| 391/391 [00:31<00:00, 12.53batch/s]\n"
          ]
        },
        {
          "name": "stdout",
          "output_type": "stream",
          "text": [
            "LR: 1.0000e-04, Train Loss: 0.1959, Train Acc: 0.9338, Train Latency: 31.21s, Memory Usage: 3.04MB\n",
            "Test Loss: 0.3295, Test Acc: 0.8894, Test Latency: 3.58s, Test Memory Usage: 0.19MB\n",
            "\n",
            "Epoch 154\n"
          ]
        },
        {
          "name": "stderr",
          "output_type": "stream",
          "text": [
            "Train: 100%|##########| 391/391 [00:31<00:00, 12.61batch/s]\n"
          ]
        },
        {
          "name": "stdout",
          "output_type": "stream",
          "text": [
            "LR: 1.0000e-04, Train Loss: 0.1962, Train Acc: 0.9344, Train Latency: 31.01s, Memory Usage: 3.04MB\n",
            "Test Loss: 0.3255, Test Acc: 0.8889, Test Latency: 3.61s, Test Memory Usage: 0.19MB\n",
            "\n",
            "Epoch 155\n"
          ]
        },
        {
          "name": "stderr",
          "output_type": "stream",
          "text": [
            "Train: 100%|##########| 391/391 [00:31<00:00, 12.56batch/s]\n"
          ]
        },
        {
          "name": "stdout",
          "output_type": "stream",
          "text": [
            "LR: 1.0000e-04, Train Loss: 0.1913, Train Acc: 0.9361, Train Latency: 31.13s, Memory Usage: 3.04MB\n",
            "Test Loss: 0.3212, Test Acc: 0.8926, Test Latency: 3.60s, Test Memory Usage: 0.19MB\n",
            "\n",
            "Epoch 156\n"
          ]
        },
        {
          "name": "stderr",
          "output_type": "stream",
          "text": [
            "Train: 100%|##########| 391/391 [00:31<00:00, 12.56batch/s]\n"
          ]
        },
        {
          "name": "stdout",
          "output_type": "stream",
          "text": [
            "LR: 1.0000e-04, Train Loss: 0.1912, Train Acc: 0.9367, Train Latency: 31.14s, Memory Usage: 3.04MB\n",
            "Test Loss: 0.3205, Test Acc: 0.8902, Test Latency: 3.60s, Test Memory Usage: 0.19MB\n",
            "\n",
            "Epoch 157\n"
          ]
        },
        {
          "name": "stderr",
          "output_type": "stream",
          "text": [
            "Train: 100%|##########| 391/391 [00:31<00:00, 12.54batch/s]\n"
          ]
        },
        {
          "name": "stdout",
          "output_type": "stream",
          "text": [
            "LR: 1.0000e-04, Train Loss: 0.1923, Train Acc: 0.9360, Train Latency: 31.18s, Memory Usage: 3.04MB\n",
            "Test Loss: 0.3424, Test Acc: 0.8872, Test Latency: 3.58s, Test Memory Usage: 0.19MB\n",
            "\n",
            "Epoch 158\n"
          ]
        },
        {
          "name": "stderr",
          "output_type": "stream",
          "text": [
            "Train: 100%|##########| 391/391 [00:31<00:00, 12.53batch/s]\n"
          ]
        },
        {
          "name": "stdout",
          "output_type": "stream",
          "text": [
            "LR: 1.0000e-04, Train Loss: 0.1904, Train Acc: 0.9374, Train Latency: 31.20s, Memory Usage: 3.04MB\n",
            "Test Loss: 0.3218, Test Acc: 0.8937, Test Latency: 3.58s, Test Memory Usage: 0.19MB\n",
            "\n",
            "Epoch 159\n"
          ]
        },
        {
          "name": "stderr",
          "output_type": "stream",
          "text": [
            "Train: 100%|##########| 391/391 [00:31<00:00, 12.52batch/s]\n"
          ]
        },
        {
          "name": "stdout",
          "output_type": "stream",
          "text": [
            "LR: 1.0000e-04, Train Loss: 0.1901, Train Acc: 0.9371, Train Latency: 31.25s, Memory Usage: 3.04MB\n",
            "Test Loss: 0.3313, Test Acc: 0.8877, Test Latency: 3.59s, Test Memory Usage: 0.19MB\n",
            "\n",
            "Epoch 160\n"
          ]
        },
        {
          "name": "stderr",
          "output_type": "stream",
          "text": [
            "Train: 100%|##########| 391/391 [00:31<00:00, 12.48batch/s]\n"
          ]
        },
        {
          "name": "stdout",
          "output_type": "stream",
          "text": [
            "LR: 1.0000e-04, Train Loss: 0.1918, Train Acc: 0.9368, Train Latency: 31.34s, Memory Usage: 3.04MB\n",
            "Test Loss: 0.3271, Test Acc: 0.8909, Test Latency: 3.57s, Test Memory Usage: 0.19MB\n",
            "\n",
            "Epoch 161\n"
          ]
        },
        {
          "name": "stderr",
          "output_type": "stream",
          "text": [
            "Train: 100%|##########| 391/391 [00:31<00:00, 12.48batch/s]\n"
          ]
        },
        {
          "name": "stdout",
          "output_type": "stream",
          "text": [
            "LR: 1.0000e-04, Train Loss: 0.1909, Train Acc: 0.9365, Train Latency: 31.34s, Memory Usage: 3.04MB\n",
            "Test Loss: 0.4196, Test Acc: 0.8614, Test Latency: 3.60s, Test Memory Usage: 0.19MB\n",
            "\n",
            "Epoch 162\n"
          ]
        },
        {
          "name": "stderr",
          "output_type": "stream",
          "text": [
            "Train: 100%|##########| 391/391 [00:31<00:00, 12.36batch/s]\n"
          ]
        },
        {
          "name": "stdout",
          "output_type": "stream",
          "text": [
            "LR: 1.0000e-04, Train Loss: 0.1922, Train Acc: 0.9354, Train Latency: 31.63s, Memory Usage: 3.04MB\n",
            "Test Loss: 0.3481, Test Acc: 0.8880, Test Latency: 3.61s, Test Memory Usage: 0.19MB\n",
            "\n",
            "Epoch 163\n"
          ]
        },
        {
          "name": "stderr",
          "output_type": "stream",
          "text": [
            "Train: 100%|##########| 391/391 [00:31<00:00, 12.49batch/s]\n"
          ]
        },
        {
          "name": "stdout",
          "output_type": "stream",
          "text": [
            "LR: 1.0000e-04, Train Loss: 0.1941, Train Acc: 0.9350, Train Latency: 31.30s, Memory Usage: 3.04MB\n",
            "Test Loss: 0.3280, Test Acc: 0.8931, Test Latency: 3.60s, Test Memory Usage: 0.19MB\n",
            "\n",
            "Epoch 164\n"
          ]
        },
        {
          "name": "stderr",
          "output_type": "stream",
          "text": [
            "Train: 100%|##########| 391/391 [00:31<00:00, 12.59batch/s]\n"
          ]
        },
        {
          "name": "stdout",
          "output_type": "stream",
          "text": [
            "LR: 1.0000e-04, Train Loss: 0.1924, Train Acc: 0.9369, Train Latency: 31.06s, Memory Usage: 3.04MB\n",
            "Test Loss: 0.3520, Test Acc: 0.8816, Test Latency: 3.61s, Test Memory Usage: 0.19MB\n",
            "\n",
            "Epoch 165\n"
          ]
        },
        {
          "name": "stderr",
          "output_type": "stream",
          "text": [
            "Train: 100%|##########| 391/391 [00:31<00:00, 12.56batch/s]\n"
          ]
        },
        {
          "name": "stdout",
          "output_type": "stream",
          "text": [
            "LR: 1.0000e-04, Train Loss: 0.1933, Train Acc: 0.9353, Train Latency: 31.15s, Memory Usage: 3.04MB\n",
            "Test Loss: 0.3435, Test Acc: 0.8874, Test Latency: 3.63s, Test Memory Usage: 0.19MB\n",
            "\n",
            "Epoch 166\n"
          ]
        },
        {
          "name": "stderr",
          "output_type": "stream",
          "text": [
            "Train: 100%|##########| 391/391 [00:31<00:00, 12.52batch/s]\n"
          ]
        },
        {
          "name": "stdout",
          "output_type": "stream",
          "text": [
            "LR: 1.0000e-04, Train Loss: 0.1911, Train Acc: 0.9374, Train Latency: 31.24s, Memory Usage: 3.04MB\n",
            "Test Loss: 0.3303, Test Acc: 0.8910, Test Latency: 3.61s, Test Memory Usage: 0.19MB\n",
            "\n",
            "Epoch 167\n"
          ]
        },
        {
          "name": "stderr",
          "output_type": "stream",
          "text": [
            "Train: 100%|##########| 391/391 [00:31<00:00, 12.39batch/s]\n"
          ]
        },
        {
          "name": "stdout",
          "output_type": "stream",
          "text": [
            "LR: 1.0000e-04, Train Loss: 0.1957, Train Acc: 0.9352, Train Latency: 31.56s, Memory Usage: 3.04MB\n",
            "Test Loss: 0.3301, Test Acc: 0.8887, Test Latency: 3.59s, Test Memory Usage: 0.19MB\n",
            "\n",
            "Epoch 168\n"
          ]
        },
        {
          "name": "stderr",
          "output_type": "stream",
          "text": [
            "Train: 100%|##########| 391/391 [00:31<00:00, 12.43batch/s]\n"
          ]
        },
        {
          "name": "stdout",
          "output_type": "stream",
          "text": [
            "LR: 1.0000e-04, Train Loss: 0.1932, Train Acc: 0.9356, Train Latency: 31.45s, Memory Usage: 3.04MB\n",
            "Test Loss: 0.3840, Test Acc: 0.8746, Test Latency: 3.63s, Test Memory Usage: 0.19MB\n",
            "\n",
            "Epoch 169\n"
          ]
        },
        {
          "name": "stderr",
          "output_type": "stream",
          "text": [
            "Train: 100%|##########| 391/391 [00:31<00:00, 12.33batch/s]\n"
          ]
        },
        {
          "name": "stdout",
          "output_type": "stream",
          "text": [
            "LR: 1.0000e-04, Train Loss: 0.1946, Train Acc: 0.9341, Train Latency: 31.73s, Memory Usage: 3.04MB\n",
            "Test Loss: 0.3493, Test Acc: 0.8805, Test Latency: 3.64s, Test Memory Usage: 0.19MB\n",
            "\n",
            "Epoch 170\n"
          ]
        },
        {
          "name": "stderr",
          "output_type": "stream",
          "text": [
            "Train: 100%|##########| 391/391 [00:31<00:00, 12.45batch/s]\n"
          ]
        },
        {
          "name": "stdout",
          "output_type": "stream",
          "text": [
            "LR: 1.0000e-04, Train Loss: 0.1928, Train Acc: 0.9353, Train Latency: 31.42s, Memory Usage: 3.04MB\n",
            "Test Loss: 0.3836, Test Acc: 0.8704, Test Latency: 3.63s, Test Memory Usage: 0.19MB\n",
            "\n",
            "Epoch 171\n"
          ]
        },
        {
          "name": "stderr",
          "output_type": "stream",
          "text": [
            "Train: 100%|##########| 391/391 [00:31<00:00, 12.41batch/s]\n"
          ]
        },
        {
          "name": "stdout",
          "output_type": "stream",
          "text": [
            "LR: 1.0000e-04, Train Loss: 0.1919, Train Acc: 0.9365, Train Latency: 31.52s, Memory Usage: 3.04MB\n",
            "Test Loss: 0.3207, Test Acc: 0.8934, Test Latency: 3.65s, Test Memory Usage: 0.19MB\n",
            "\n",
            "Epoch 172\n"
          ]
        },
        {
          "name": "stderr",
          "output_type": "stream",
          "text": [
            "Train: 100%|##########| 391/391 [00:31<00:00, 12.37batch/s]\n"
          ]
        },
        {
          "name": "stdout",
          "output_type": "stream",
          "text": [
            "LR: 1.0000e-04, Train Loss: 0.1947, Train Acc: 0.9356, Train Latency: 31.62s, Memory Usage: 3.04MB\n",
            "Test Loss: 0.3202, Test Acc: 0.8924, Test Latency: 3.62s, Test Memory Usage: 0.19MB\n",
            "\n",
            "Epoch 173\n"
          ]
        },
        {
          "name": "stderr",
          "output_type": "stream",
          "text": [
            "Train: 100%|##########| 391/391 [00:31<00:00, 12.41batch/s]\n"
          ]
        },
        {
          "name": "stdout",
          "output_type": "stream",
          "text": [
            "LR: 1.0000e-04, Train Loss: 0.1946, Train Acc: 0.9343, Train Latency: 31.52s, Memory Usage: 3.04MB\n",
            "Test Loss: 0.3267, Test Acc: 0.8898, Test Latency: 3.63s, Test Memory Usage: 0.19MB\n",
            "\n",
            "Epoch 174\n"
          ]
        },
        {
          "name": "stderr",
          "output_type": "stream",
          "text": [
            "Train: 100%|##########| 391/391 [00:31<00:00, 12.41batch/s]\n"
          ]
        },
        {
          "name": "stdout",
          "output_type": "stream",
          "text": [
            "LR: 1.0000e-04, Train Loss: 0.1957, Train Acc: 0.9337, Train Latency: 31.50s, Memory Usage: 3.04MB\n",
            "Test Loss: 0.3524, Test Acc: 0.8839, Test Latency: 3.64s, Test Memory Usage: 0.19MB\n",
            "\n",
            "Epoch 175\n"
          ]
        },
        {
          "name": "stderr",
          "output_type": "stream",
          "text": [
            "Train: 100%|##########| 391/391 [00:31<00:00, 12.32batch/s]\n"
          ]
        },
        {
          "name": "stdout",
          "output_type": "stream",
          "text": [
            "LR: 1.0000e-04, Train Loss: 0.1947, Train Acc: 0.9347, Train Latency: 31.74s, Memory Usage: 3.04MB\n",
            "Test Loss: 0.3434, Test Acc: 0.8837, Test Latency: 3.63s, Test Memory Usage: 0.19MB\n",
            "\n",
            "Epoch 176\n"
          ]
        },
        {
          "name": "stderr",
          "output_type": "stream",
          "text": [
            "Train: 100%|##########| 391/391 [00:31<00:00, 12.33batch/s]\n"
          ]
        },
        {
          "name": "stdout",
          "output_type": "stream",
          "text": [
            "LR: 1.0000e-04, Train Loss: 0.1930, Train Acc: 0.9360, Train Latency: 31.72s, Memory Usage: 3.04MB\n",
            "Test Loss: 0.4047, Test Acc: 0.8655, Test Latency: 3.68s, Test Memory Usage: 0.19MB\n",
            "\n",
            "Epoch 177\n"
          ]
        },
        {
          "name": "stderr",
          "output_type": "stream",
          "text": [
            "Train: 100%|##########| 391/391 [00:31<00:00, 12.38batch/s]\n"
          ]
        },
        {
          "name": "stdout",
          "output_type": "stream",
          "text": [
            "LR: 1.0000e-04, Train Loss: 0.1937, Train Acc: 0.9355, Train Latency: 31.59s, Memory Usage: 3.04MB\n",
            "Test Loss: 0.3369, Test Acc: 0.8897, Test Latency: 3.65s, Test Memory Usage: 0.19MB\n",
            "\n",
            "Epoch 178\n"
          ]
        },
        {
          "name": "stderr",
          "output_type": "stream",
          "text": [
            "Train: 100%|##########| 391/391 [00:31<00:00, 12.35batch/s]\n"
          ]
        },
        {
          "name": "stdout",
          "output_type": "stream",
          "text": [
            "LR: 1.0000e-04, Train Loss: 0.1944, Train Acc: 0.9356, Train Latency: 31.66s, Memory Usage: 3.04MB\n",
            "Test Loss: 0.3489, Test Acc: 0.8848, Test Latency: 3.63s, Test Memory Usage: 0.19MB\n",
            "\n",
            "Epoch 179\n"
          ]
        },
        {
          "name": "stderr",
          "output_type": "stream",
          "text": [
            "Train: 100%|##########| 391/391 [00:31<00:00, 12.36batch/s]\n"
          ]
        },
        {
          "name": "stdout",
          "output_type": "stream",
          "text": [
            "LR: 1.0000e-04, Train Loss: 0.1956, Train Acc: 0.9337, Train Latency: 31.63s, Memory Usage: 3.04MB\n",
            "Test Loss: 0.3766, Test Acc: 0.8757, Test Latency: 3.62s, Test Memory Usage: 0.19MB\n",
            "\n",
            "Epoch 180\n"
          ]
        },
        {
          "name": "stderr",
          "output_type": "stream",
          "text": [
            "Train: 100%|##########| 391/391 [00:31<00:00, 12.39batch/s]\n"
          ]
        },
        {
          "name": "stdout",
          "output_type": "stream",
          "text": [
            "LR: 1.0000e-04, Train Loss: 0.1948, Train Acc: 0.9353, Train Latency: 31.57s, Memory Usage: 3.04MB\n",
            "Test Loss: 0.3666, Test Acc: 0.8749, Test Latency: 3.61s, Test Memory Usage: 0.19MB\n",
            "\n",
            "Epoch 181\n"
          ]
        },
        {
          "name": "stderr",
          "output_type": "stream",
          "text": [
            "Train: 100%|##########| 391/391 [00:31<00:00, 12.46batch/s]\n"
          ]
        },
        {
          "name": "stdout",
          "output_type": "stream",
          "text": [
            "LR: 1.0000e-04, Train Loss: 0.1943, Train Acc: 0.9349, Train Latency: 31.39s, Memory Usage: 3.04MB\n",
            "Test Loss: 0.3520, Test Acc: 0.8827, Test Latency: 3.62s, Test Memory Usage: 0.19MB\n",
            "\n",
            "Epoch 182\n"
          ]
        },
        {
          "name": "stderr",
          "output_type": "stream",
          "text": [
            "Train: 100%|##########| 391/391 [00:31<00:00, 12.46batch/s]\n"
          ]
        },
        {
          "name": "stdout",
          "output_type": "stream",
          "text": [
            "LR: 1.0000e-04, Train Loss: 0.1946, Train Acc: 0.9346, Train Latency: 31.39s, Memory Usage: 3.04MB\n",
            "Test Loss: 0.3482, Test Acc: 0.8838, Test Latency: 3.67s, Test Memory Usage: 0.19MB\n",
            "\n",
            "Epoch 183\n"
          ]
        },
        {
          "name": "stderr",
          "output_type": "stream",
          "text": [
            "Train: 100%|##########| 391/391 [00:31<00:00, 12.43batch/s]\n"
          ]
        },
        {
          "name": "stdout",
          "output_type": "stream",
          "text": [
            "LR: 1.0000e-04, Train Loss: 0.1942, Train Acc: 0.9341, Train Latency: 31.46s, Memory Usage: 3.04MB\n",
            "Test Loss: 0.3288, Test Acc: 0.8897, Test Latency: 3.63s, Test Memory Usage: 0.19MB\n",
            "\n",
            "Epoch 184\n"
          ]
        },
        {
          "name": "stderr",
          "output_type": "stream",
          "text": [
            "Train: 100%|##########| 391/391 [00:31<00:00, 12.44batch/s]\n"
          ]
        },
        {
          "name": "stdout",
          "output_type": "stream",
          "text": [
            "LR: 1.0000e-04, Train Loss: 0.1967, Train Acc: 0.9335, Train Latency: 31.43s, Memory Usage: 3.04MB\n",
            "Test Loss: 0.3307, Test Acc: 0.8882, Test Latency: 3.66s, Test Memory Usage: 0.19MB\n",
            "\n",
            "Epoch 185\n"
          ]
        },
        {
          "name": "stderr",
          "output_type": "stream",
          "text": [
            "Train: 100%|##########| 391/391 [00:31<00:00, 12.45batch/s]\n"
          ]
        },
        {
          "name": "stdout",
          "output_type": "stream",
          "text": [
            "LR: 1.0000e-04, Train Loss: 0.1964, Train Acc: 0.9344, Train Latency: 31.40s, Memory Usage: 3.04MB\n",
            "Test Loss: 0.3497, Test Acc: 0.8836, Test Latency: 3.64s, Test Memory Usage: 0.19MB\n",
            "\n",
            "Epoch 186\n"
          ]
        },
        {
          "name": "stderr",
          "output_type": "stream",
          "text": [
            "Train: 100%|##########| 391/391 [00:31<00:00, 12.42batch/s]\n"
          ]
        },
        {
          "name": "stdout",
          "output_type": "stream",
          "text": [
            "LR: 1.0000e-04, Train Loss: 0.1955, Train Acc: 0.9342, Train Latency: 31.49s, Memory Usage: 3.04MB\n",
            "Test Loss: 0.3488, Test Acc: 0.8810, Test Latency: 3.64s, Test Memory Usage: 0.19MB\n",
            "\n",
            "Epoch 187\n"
          ]
        },
        {
          "name": "stderr",
          "output_type": "stream",
          "text": [
            "Train: 100%|##########| 391/391 [00:31<00:00, 12.43batch/s]\n"
          ]
        },
        {
          "name": "stdout",
          "output_type": "stream",
          "text": [
            "LR: 1.0000e-04, Train Loss: 0.1994, Train Acc: 0.9336, Train Latency: 31.46s, Memory Usage: 3.04MB\n",
            "Test Loss: 0.3553, Test Acc: 0.8862, Test Latency: 3.64s, Test Memory Usage: 0.19MB\n",
            "\n",
            "Epoch 188\n"
          ]
        },
        {
          "name": "stderr",
          "output_type": "stream",
          "text": [
            "Train: 100%|##########| 391/391 [00:31<00:00, 12.46batch/s]\n"
          ]
        },
        {
          "name": "stdout",
          "output_type": "stream",
          "text": [
            "LR: 1.0000e-04, Train Loss: 0.1971, Train Acc: 0.9328, Train Latency: 31.40s, Memory Usage: 3.04MB\n",
            "Test Loss: 0.3479, Test Acc: 0.8832, Test Latency: 3.60s, Test Memory Usage: 0.19MB\n",
            "\n",
            "Epoch 189\n"
          ]
        },
        {
          "name": "stderr",
          "output_type": "stream",
          "text": [
            "Train: 100%|##########| 391/391 [00:31<00:00, 12.42batch/s]\n"
          ]
        },
        {
          "name": "stdout",
          "output_type": "stream",
          "text": [
            "LR: 1.0000e-04, Train Loss: 0.1983, Train Acc: 0.9342, Train Latency: 31.47s, Memory Usage: 3.04MB\n",
            "Test Loss: 0.3994, Test Acc: 0.8686, Test Latency: 3.65s, Test Memory Usage: 0.19MB\n",
            "\n",
            "Epoch 190\n"
          ]
        },
        {
          "name": "stderr",
          "output_type": "stream",
          "text": [
            "Train: 100%|##########| 391/391 [00:31<00:00, 12.38batch/s]\n"
          ]
        },
        {
          "name": "stdout",
          "output_type": "stream",
          "text": [
            "LR: 1.0000e-04, Train Loss: 0.1953, Train Acc: 0.9344, Train Latency: 31.60s, Memory Usage: 3.04MB\n",
            "Test Loss: 0.3327, Test Acc: 0.8916, Test Latency: 3.64s, Test Memory Usage: 0.19MB\n",
            "\n",
            "Epoch 191\n"
          ]
        },
        {
          "name": "stderr",
          "output_type": "stream",
          "text": [
            "Train: 100%|##########| 391/391 [00:31<00:00, 12.37batch/s]\n"
          ]
        },
        {
          "name": "stdout",
          "output_type": "stream",
          "text": [
            "LR: 1.0000e-04, Train Loss: 0.1969, Train Acc: 0.9355, Train Latency: 31.61s, Memory Usage: 3.04MB\n",
            "Test Loss: 0.4045, Test Acc: 0.8654, Test Latency: 3.62s, Test Memory Usage: 0.19MB\n",
            "\n",
            "Epoch 192\n"
          ]
        },
        {
          "name": "stderr",
          "output_type": "stream",
          "text": [
            "Train: 100%|##########| 391/391 [00:31<00:00, 12.35batch/s]\n"
          ]
        },
        {
          "name": "stdout",
          "output_type": "stream",
          "text": [
            "LR: 1.0000e-04, Train Loss: 0.1964, Train Acc: 0.9339, Train Latency: 31.65s, Memory Usage: 3.04MB\n",
            "Test Loss: 0.3850, Test Acc: 0.8733, Test Latency: 3.61s, Test Memory Usage: 0.19MB\n",
            "\n",
            "Epoch 193\n"
          ]
        },
        {
          "name": "stderr",
          "output_type": "stream",
          "text": [
            "Train: 100%|##########| 391/391 [00:31<00:00, 12.40batch/s]\n"
          ]
        },
        {
          "name": "stdout",
          "output_type": "stream",
          "text": [
            "LR: 1.0000e-04, Train Loss: 0.1964, Train Acc: 0.9349, Train Latency: 31.53s, Memory Usage: 3.04MB\n",
            "Test Loss: 0.3732, Test Acc: 0.8733, Test Latency: 3.70s, Test Memory Usage: 0.19MB\n",
            "\n",
            "Epoch 194\n"
          ]
        },
        {
          "name": "stderr",
          "output_type": "stream",
          "text": [
            "Train: 100%|##########| 391/391 [00:31<00:00, 12.36batch/s]\n"
          ]
        },
        {
          "name": "stdout",
          "output_type": "stream",
          "text": [
            "LR: 1.0000e-04, Train Loss: 0.1955, Train Acc: 0.9338, Train Latency: 31.63s, Memory Usage: 3.04MB\n",
            "Test Loss: 0.3731, Test Acc: 0.8756, Test Latency: 3.60s, Test Memory Usage: 0.19MB\n",
            "\n",
            "Epoch 195\n"
          ]
        },
        {
          "name": "stderr",
          "output_type": "stream",
          "text": [
            "Train: 100%|##########| 391/391 [00:31<00:00, 12.42batch/s]\n"
          ]
        },
        {
          "name": "stdout",
          "output_type": "stream",
          "text": [
            "LR: 1.0000e-04, Train Loss: 0.1951, Train Acc: 0.9349, Train Latency: 31.48s, Memory Usage: 3.04MB\n",
            "Test Loss: 0.3382, Test Acc: 0.8861, Test Latency: 3.60s, Test Memory Usage: 0.19MB\n",
            "\n",
            "Epoch 196\n"
          ]
        },
        {
          "name": "stderr",
          "output_type": "stream",
          "text": [
            "Train: 100%|##########| 391/391 [00:31<00:00, 12.40batch/s]\n"
          ]
        },
        {
          "name": "stdout",
          "output_type": "stream",
          "text": [
            "LR: 1.0000e-04, Train Loss: 0.1967, Train Acc: 0.9336, Train Latency: 31.53s, Memory Usage: 3.04MB\n",
            "Test Loss: 0.4337, Test Acc: 0.8590, Test Latency: 3.63s, Test Memory Usage: 0.19MB\n",
            "\n",
            "Epoch 197\n"
          ]
        },
        {
          "name": "stderr",
          "output_type": "stream",
          "text": [
            "Train: 100%|##########| 391/391 [00:31<00:00, 12.37batch/s]\n"
          ]
        },
        {
          "name": "stdout",
          "output_type": "stream",
          "text": [
            "LR: 1.0000e-04, Train Loss: 0.1972, Train Acc: 0.9334, Train Latency: 31.60s, Memory Usage: 3.04MB\n",
            "Test Loss: 0.3575, Test Acc: 0.8809, Test Latency: 3.67s, Test Memory Usage: 0.19MB\n",
            "\n",
            "Epoch 198\n"
          ]
        },
        {
          "name": "stderr",
          "output_type": "stream",
          "text": [
            "Train: 100%|##########| 391/391 [00:31<00:00, 12.37batch/s]\n"
          ]
        },
        {
          "name": "stdout",
          "output_type": "stream",
          "text": [
            "LR: 1.0000e-04, Train Loss: 0.1961, Train Acc: 0.9340, Train Latency: 31.62s, Memory Usage: 3.04MB\n",
            "Test Loss: 0.3704, Test Acc: 0.8742, Test Latency: 3.67s, Test Memory Usage: 0.19MB\n",
            "\n",
            "Epoch 199\n"
          ]
        },
        {
          "name": "stderr",
          "output_type": "stream",
          "text": [
            "Train: 100%|##########| 391/391 [00:31<00:00, 12.40batch/s]\n"
          ]
        },
        {
          "name": "stdout",
          "output_type": "stream",
          "text": [
            "LR: 1.0000e-04, Train Loss: 0.1968, Train Acc: 0.9334, Train Latency: 31.54s, Memory Usage: 3.04MB\n",
            "Test Loss: 0.3243, Test Acc: 0.8922, Test Latency: 3.61s, Test Memory Usage: 0.19MB\n",
            "\n",
            "Epoch 200\n"
          ]
        },
        {
          "name": "stderr",
          "output_type": "stream",
          "text": [
            "Train: 100%|##########| 391/391 [00:31<00:00, 12.43batch/s]\n"
          ]
        },
        {
          "name": "stdout",
          "output_type": "stream",
          "text": [
            "LR: 1.0000e-04, Train Loss: 0.1984, Train Acc: 0.9333, Train Latency: 31.45s, Memory Usage: 3.04MB\n",
            "Test Loss: 0.3409, Test Acc: 0.8863, Test Latency: 3.63s, Test Memory Usage: 0.19MB\n",
            "Saving final epoch model ...\n"
          ]
        }
      ],
      "source": [
        "for w_nbits in [3, 2, 1]:\n",
        "    train(w_nbits=w_nbits, a_nbits=None)"
      ]
    },
    {
      "cell_type": "markdown",
      "metadata": {
        "id": "u6JKkVzuKzmw"
      },
      "source": [
        "**Weight & Activation**"
      ]
    },
    {
      "cell_type": "code",
      "execution_count": 15,
      "metadata": {
        "colab": {
          "base_uri": "https://localhost:8080/",
          "height": 1000
        },
        "id": "jTJ0rgE5SkbF",
        "outputId": "83188d63-0a56-4576-99ea-d083e9419424"
      },
      "outputs": [
        {
          "name": "stdout",
          "output_type": "stream",
          "text": [
            "\n",
            "Quantization: weight=1 activation=2, Using device: cuda\n",
            "\n",
            "Epoch 1\n"
          ]
        },
        {
          "name": "stderr",
          "output_type": "stream",
          "text": [
            "Train: 100%|##########| 391/391 [00:43<00:00,  9.00batch/s]\n"
          ]
        },
        {
          "name": "stdout",
          "output_type": "stream",
          "text": [
            "LR: 1.0000e-01, Train Loss: 2.0697, Train Acc: 0.2566, Train Latency: 43.43s, Memory Usage: 3119.0KB\n",
            "Test Loss: 1.6808, Test Acc: 0.3619, Test Latency: 5.36s, Test Memory Usage: 194.0KB\n",
            "\n",
            "Epoch 2\n"
          ]
        },
        {
          "name": "stderr",
          "output_type": "stream",
          "text": [
            "Train: 100%|##########| 391/391 [00:43<00:00,  8.96batch/s]\n"
          ]
        },
        {
          "name": "stdout",
          "output_type": "stream",
          "text": [
            "LR: 1.0000e-01, Train Loss: 1.6915, Train Acc: 0.3608, Train Latency: 43.66s, Memory Usage: 3119.0KB\n",
            "Test Loss: 1.6173, Test Acc: 0.4062, Test Latency: 5.28s, Test Memory Usage: 194.0KB\n",
            "\n",
            "Epoch 3\n"
          ]
        },
        {
          "name": "stderr",
          "output_type": "stream",
          "text": [
            "Train: 100%|##########| 391/391 [00:43<00:00,  9.03batch/s]\n"
          ]
        },
        {
          "name": "stdout",
          "output_type": "stream",
          "text": [
            "LR: 1.0000e-01, Train Loss: 1.5815, Train Acc: 0.4117, Train Latency: 43.30s, Memory Usage: 3119.0KB\n",
            "Test Loss: 1.8108, Test Acc: 0.3729, Test Latency: 5.33s, Test Memory Usage: 194.0KB\n",
            "\n",
            "Epoch 4\n"
          ]
        },
        {
          "name": "stderr",
          "output_type": "stream",
          "text": [
            "Train: 100%|##########| 391/391 [00:43<00:00,  8.97batch/s]\n"
          ]
        },
        {
          "name": "stdout",
          "output_type": "stream",
          "text": [
            "LR: 1.0000e-01, Train Loss: 1.5713, Train Acc: 0.4293, Train Latency: 43.60s, Memory Usage: 3119.0KB\n",
            "Test Loss: 1.7430, Test Acc: 0.4104, Test Latency: 5.42s, Test Memory Usage: 194.0KB\n",
            "\n",
            "Epoch 5\n"
          ]
        },
        {
          "name": "stderr",
          "output_type": "stream",
          "text": [
            "Train: 100%|##########| 391/391 [00:43<00:00,  8.96batch/s]\n"
          ]
        },
        {
          "name": "stdout",
          "output_type": "stream",
          "text": [
            "LR: 1.0000e-01, Train Loss: 1.4847, Train Acc: 0.4710, Train Latency: 43.65s, Memory Usage: 3119.0KB\n",
            "Test Loss: 2.1121, Test Acc: 0.3690, Test Latency: 5.34s, Test Memory Usage: 194.0KB\n",
            "\n",
            "Epoch 6\n"
          ]
        },
        {
          "name": "stderr",
          "output_type": "stream",
          "text": [
            "Train: 100%|##########| 391/391 [00:43<00:00,  9.00batch/s]\n"
          ]
        },
        {
          "name": "stdout",
          "output_type": "stream",
          "text": [
            "LR: 1.0000e-01, Train Loss: 1.4309, Train Acc: 0.4918, Train Latency: 43.47s, Memory Usage: 3119.0KB\n",
            "Test Loss: 2.1351, Test Acc: 0.3725, Test Latency: 5.40s, Test Memory Usage: 194.0KB\n",
            "\n",
            "Epoch 7\n"
          ]
        },
        {
          "name": "stderr",
          "output_type": "stream",
          "text": [
            "Train: 100%|##########| 391/391 [00:43<00:00,  9.02batch/s]\n"
          ]
        },
        {
          "name": "stdout",
          "output_type": "stream",
          "text": [
            "LR: 1.0000e-01, Train Loss: 1.3770, Train Acc: 0.5097, Train Latency: 43.38s, Memory Usage: 3119.0KB\n",
            "Test Loss: 2.4702, Test Acc: 0.2873, Test Latency: 5.38s, Test Memory Usage: 194.0KB\n",
            "\n",
            "Epoch 8\n"
          ]
        },
        {
          "name": "stderr",
          "output_type": "stream",
          "text": [
            "Train: 100%|##########| 391/391 [00:43<00:00,  8.99batch/s]\n"
          ]
        },
        {
          "name": "stdout",
          "output_type": "stream",
          "text": [
            "LR: 1.0000e-01, Train Loss: 1.3575, Train Acc: 0.5176, Train Latency: 43.48s, Memory Usage: 3119.0KB\n",
            "Test Loss: 1.5501, Test Acc: 0.4730, Test Latency: 5.39s, Test Memory Usage: 194.0KB\n",
            "\n",
            "Epoch 9\n"
          ]
        },
        {
          "name": "stderr",
          "output_type": "stream",
          "text": [
            "Train: 100%|##########| 391/391 [00:43<00:00,  8.99batch/s]\n"
          ]
        },
        {
          "name": "stdout",
          "output_type": "stream",
          "text": [
            "LR: 1.0000e-01, Train Loss: 1.3398, Train Acc: 0.5271, Train Latency: 43.51s, Memory Usage: 3119.0KB\n",
            "Test Loss: 2.1276, Test Acc: 0.4273, Test Latency: 5.38s, Test Memory Usage: 194.0KB\n",
            "\n",
            "Epoch 10\n"
          ]
        },
        {
          "name": "stderr",
          "output_type": "stream",
          "text": [
            "Train: 100%|##########| 391/391 [00:43<00:00,  8.98batch/s]\n"
          ]
        },
        {
          "name": "stdout",
          "output_type": "stream",
          "text": [
            "LR: 1.0000e-01, Train Loss: 1.3343, Train Acc: 0.5313, Train Latency: 43.53s, Memory Usage: 3119.0KB\n",
            "Test Loss: 1.7668, Test Acc: 0.4214, Test Latency: 5.35s, Test Memory Usage: 194.0KB\n",
            "\n",
            "Epoch 11\n"
          ]
        },
        {
          "name": "stderr",
          "output_type": "stream",
          "text": [
            "Train: 100%|##########| 391/391 [00:43<00:00,  9.01batch/s]\n"
          ]
        },
        {
          "name": "stdout",
          "output_type": "stream",
          "text": [
            "LR: 1.0000e-01, Train Loss: 1.3291, Train Acc: 0.5318, Train Latency: 43.42s, Memory Usage: 3119.0KB\n",
            "Test Loss: 1.4001, Test Acc: 0.5204, Test Latency: 5.43s, Test Memory Usage: 194.0KB\n",
            "\n",
            "Epoch 12\n"
          ]
        },
        {
          "name": "stderr",
          "output_type": "stream",
          "text": [
            "Train: 100%|##########| 391/391 [00:43<00:00,  8.99batch/s]\n"
          ]
        },
        {
          "name": "stdout",
          "output_type": "stream",
          "text": [
            "LR: 1.0000e-01, Train Loss: 1.2907, Train Acc: 0.5453, Train Latency: 43.51s, Memory Usage: 3119.0KB\n",
            "Test Loss: 1.7028, Test Acc: 0.4556, Test Latency: 5.36s, Test Memory Usage: 194.0KB\n",
            "\n",
            "Epoch 13\n"
          ]
        },
        {
          "name": "stderr",
          "output_type": "stream",
          "text": [
            "Train: 100%|##########| 391/391 [00:43<00:00,  8.97batch/s]\n"
          ]
        },
        {
          "name": "stdout",
          "output_type": "stream",
          "text": [
            "LR: 1.0000e-01, Train Loss: 1.2978, Train Acc: 0.5427, Train Latency: 43.61s, Memory Usage: 3119.0KB\n",
            "Test Loss: 1.9464, Test Acc: 0.4246, Test Latency: 5.41s, Test Memory Usage: 194.0KB\n",
            "\n",
            "Epoch 14\n"
          ]
        },
        {
          "name": "stderr",
          "output_type": "stream",
          "text": [
            "Train: 100%|##########| 391/391 [00:43<00:00,  9.00batch/s]\n"
          ]
        },
        {
          "name": "stdout",
          "output_type": "stream",
          "text": [
            "LR: 1.0000e-01, Train Loss: 1.2959, Train Acc: 0.5395, Train Latency: 43.45s, Memory Usage: 3119.0KB\n",
            "Test Loss: 2.1788, Test Acc: 0.3651, Test Latency: 5.38s, Test Memory Usage: 194.0KB\n",
            "\n",
            "Epoch 15\n"
          ]
        },
        {
          "name": "stderr",
          "output_type": "stream",
          "text": [
            "Train: 100%|##########| 391/391 [00:43<00:00,  8.95batch/s]\n"
          ]
        },
        {
          "name": "stdout",
          "output_type": "stream",
          "text": [
            "LR: 1.0000e-01, Train Loss: 1.2781, Train Acc: 0.5481, Train Latency: 43.71s, Memory Usage: 3119.0KB\n",
            "Test Loss: 3.8393, Test Acc: 0.2752, Test Latency: 5.42s, Test Memory Usage: 194.0KB\n",
            "\n",
            "Epoch 16\n"
          ]
        },
        {
          "name": "stderr",
          "output_type": "stream",
          "text": [
            "Train: 100%|##########| 391/391 [00:43<00:00,  8.93batch/s]\n"
          ]
        },
        {
          "name": "stdout",
          "output_type": "stream",
          "text": [
            "LR: 1.0000e-01, Train Loss: 1.3094, Train Acc: 0.5399, Train Latency: 43.80s, Memory Usage: 3119.0KB\n",
            "Test Loss: 1.6352, Test Acc: 0.4268, Test Latency: 5.41s, Test Memory Usage: 194.0KB\n",
            "\n",
            "Epoch 17\n"
          ]
        },
        {
          "name": "stderr",
          "output_type": "stream",
          "text": [
            "Train: 100%|##########| 391/391 [00:43<00:00,  8.99batch/s]\n"
          ]
        },
        {
          "name": "stdout",
          "output_type": "stream",
          "text": [
            "LR: 1.0000e-01, Train Loss: 1.2678, Train Acc: 0.5515, Train Latency: 43.48s, Memory Usage: 3119.0KB\n",
            "Test Loss: 2.2878, Test Acc: 0.3465, Test Latency: 5.38s, Test Memory Usage: 194.0KB\n",
            "\n",
            "Epoch 18\n"
          ]
        },
        {
          "name": "stderr",
          "output_type": "stream",
          "text": [
            "Train: 100%|##########| 391/391 [00:43<00:00,  9.00batch/s]\n"
          ]
        },
        {
          "name": "stdout",
          "output_type": "stream",
          "text": [
            "LR: 1.0000e-01, Train Loss: 1.2710, Train Acc: 0.5525, Train Latency: 43.46s, Memory Usage: 3119.0KB\n",
            "Test Loss: 1.3989, Test Acc: 0.5002, Test Latency: 5.35s, Test Memory Usage: 194.0KB\n",
            "\n",
            "Epoch 19\n"
          ]
        },
        {
          "name": "stderr",
          "output_type": "stream",
          "text": [
            "Train: 100%|##########| 391/391 [00:43<00:00,  8.98batch/s]\n"
          ]
        },
        {
          "name": "stdout",
          "output_type": "stream",
          "text": [
            "LR: 1.0000e-01, Train Loss: 1.2768, Train Acc: 0.5509, Train Latency: 43.52s, Memory Usage: 3119.0KB\n",
            "Test Loss: 2.5142, Test Acc: 0.3318, Test Latency: 5.38s, Test Memory Usage: 194.0KB\n",
            "\n",
            "Epoch 20\n"
          ]
        },
        {
          "name": "stderr",
          "output_type": "stream",
          "text": [
            "Train: 100%|##########| 391/391 [00:43<00:00,  8.97batch/s]\n"
          ]
        },
        {
          "name": "stdout",
          "output_type": "stream",
          "text": [
            "LR: 1.0000e-01, Train Loss: 1.2820, Train Acc: 0.5494, Train Latency: 43.61s, Memory Usage: 3119.0KB\n",
            "Test Loss: 1.7018, Test Acc: 0.4751, Test Latency: 5.40s, Test Memory Usage: 194.0KB\n",
            "\n",
            "Epoch 21\n"
          ]
        },
        {
          "name": "stderr",
          "output_type": "stream",
          "text": [
            "Train: 100%|##########| 391/391 [00:43<00:00,  8.90batch/s]\n"
          ]
        },
        {
          "name": "stdout",
          "output_type": "stream",
          "text": [
            "LR: 1.0000e-01, Train Loss: 1.2746, Train Acc: 0.5498, Train Latency: 43.94s, Memory Usage: 3119.0KB\n",
            "Test Loss: 1.6992, Test Acc: 0.4621, Test Latency: 5.40s, Test Memory Usage: 194.0KB\n",
            "\n",
            "Epoch 22\n"
          ]
        },
        {
          "name": "stderr",
          "output_type": "stream",
          "text": [
            "Train: 100%|##########| 391/391 [00:43<00:00,  8.94batch/s]\n"
          ]
        },
        {
          "name": "stdout",
          "output_type": "stream",
          "text": [
            "LR: 1.0000e-01, Train Loss: 1.2772, Train Acc: 0.5518, Train Latency: 43.72s, Memory Usage: 3119.0KB\n",
            "Test Loss: 2.2307, Test Acc: 0.3880, Test Latency: 5.45s, Test Memory Usage: 194.0KB\n",
            "\n",
            "Epoch 23\n"
          ]
        },
        {
          "name": "stderr",
          "output_type": "stream",
          "text": [
            "Train: 100%|##########| 391/391 [00:43<00:00,  8.90batch/s]\n"
          ]
        },
        {
          "name": "stdout",
          "output_type": "stream",
          "text": [
            "LR: 1.0000e-01, Train Loss: 1.2536, Train Acc: 0.5572, Train Latency: 43.92s, Memory Usage: 3119.0KB\n",
            "Test Loss: 2.7329, Test Acc: 0.3578, Test Latency: 5.41s, Test Memory Usage: 194.0KB\n",
            "\n",
            "Epoch 24\n"
          ]
        },
        {
          "name": "stderr",
          "output_type": "stream",
          "text": [
            "Train: 100%|##########| 391/391 [00:43<00:00,  8.92batch/s]\n"
          ]
        },
        {
          "name": "stdout",
          "output_type": "stream",
          "text": [
            "LR: 1.0000e-01, Train Loss: 1.2753, Train Acc: 0.5541, Train Latency: 43.84s, Memory Usage: 3119.0KB\n",
            "Test Loss: 1.3532, Test Acc: 0.5319, Test Latency: 5.43s, Test Memory Usage: 194.0KB\n",
            "\n",
            "Epoch 25\n"
          ]
        },
        {
          "name": "stderr",
          "output_type": "stream",
          "text": [
            "Train: 100%|##########| 391/391 [00:43<00:00,  8.93batch/s]\n"
          ]
        },
        {
          "name": "stdout",
          "output_type": "stream",
          "text": [
            "LR: 1.0000e-01, Train Loss: 1.2408, Train Acc: 0.5630, Train Latency: 43.77s, Memory Usage: 3119.0KB\n",
            "Test Loss: 1.4537, Test Acc: 0.5181, Test Latency: 5.42s, Test Memory Usage: 194.0KB\n",
            "\n",
            "Epoch 26\n"
          ]
        },
        {
          "name": "stderr",
          "output_type": "stream",
          "text": [
            "Train: 100%|##########| 391/391 [00:43<00:00,  8.98batch/s]\n"
          ]
        },
        {
          "name": "stdout",
          "output_type": "stream",
          "text": [
            "LR: 1.0000e-01, Train Loss: 1.2477, Train Acc: 0.5615, Train Latency: 43.55s, Memory Usage: 3119.0KB\n",
            "Test Loss: 1.4441, Test Acc: 0.4901, Test Latency: 5.36s, Test Memory Usage: 194.0KB\n",
            "\n",
            "Epoch 27\n"
          ]
        },
        {
          "name": "stderr",
          "output_type": "stream",
          "text": [
            "Train: 100%|##########| 391/391 [00:43<00:00,  8.98batch/s]\n"
          ]
        },
        {
          "name": "stdout",
          "output_type": "stream",
          "text": [
            "LR: 1.0000e-01, Train Loss: 1.2456, Train Acc: 0.5619, Train Latency: 43.55s, Memory Usage: 3119.0KB\n",
            "Test Loss: 1.6905, Test Acc: 0.4936, Test Latency: 5.44s, Test Memory Usage: 194.0KB\n",
            "\n",
            "Epoch 28\n"
          ]
        },
        {
          "name": "stderr",
          "output_type": "stream",
          "text": [
            "Train: 100%|##########| 391/391 [00:43<00:00,  8.95batch/s]\n"
          ]
        },
        {
          "name": "stdout",
          "output_type": "stream",
          "text": [
            "LR: 1.0000e-01, Train Loss: 1.2680, Train Acc: 0.5555, Train Latency: 43.71s, Memory Usage: 3119.0KB\n",
            "Test Loss: 1.9097, Test Acc: 0.4630, Test Latency: 5.32s, Test Memory Usage: 194.0KB\n",
            "\n",
            "Epoch 29\n"
          ]
        },
        {
          "name": "stderr",
          "output_type": "stream",
          "text": [
            "Train: 100%|##########| 391/391 [00:43<00:00,  8.99batch/s]\n"
          ]
        },
        {
          "name": "stdout",
          "output_type": "stream",
          "text": [
            "LR: 1.0000e-01, Train Loss: 1.2479, Train Acc: 0.5620, Train Latency: 43.49s, Memory Usage: 3119.0KB\n",
            "Test Loss: 1.9225, Test Acc: 0.4321, Test Latency: 5.35s, Test Memory Usage: 194.0KB\n",
            "\n",
            "Epoch 30\n"
          ]
        },
        {
          "name": "stderr",
          "output_type": "stream",
          "text": [
            "Train: 100%|##########| 391/391 [00:43<00:00,  9.04batch/s]\n"
          ]
        },
        {
          "name": "stdout",
          "output_type": "stream",
          "text": [
            "LR: 1.0000e-01, Train Loss: 1.2390, Train Acc: 0.5607, Train Latency: 43.25s, Memory Usage: 3119.0KB\n",
            "Test Loss: 1.4402, Test Acc: 0.5281, Test Latency: 5.36s, Test Memory Usage: 194.0KB\n",
            "\n",
            "Epoch 31\n"
          ]
        },
        {
          "name": "stderr",
          "output_type": "stream",
          "text": [
            "Train: 100%|##########| 391/391 [00:43<00:00,  8.98batch/s]\n"
          ]
        },
        {
          "name": "stdout",
          "output_type": "stream",
          "text": [
            "LR: 1.0000e-01, Train Loss: 1.2280, Train Acc: 0.5693, Train Latency: 43.55s, Memory Usage: 3119.0KB\n",
            "Test Loss: 2.4733, Test Acc: 0.3866, Test Latency: 5.37s, Test Memory Usage: 194.0KB\n",
            "\n",
            "Epoch 32\n"
          ]
        },
        {
          "name": "stderr",
          "output_type": "stream",
          "text": [
            "Train: 100%|##########| 391/391 [00:43<00:00,  9.01batch/s]\n"
          ]
        },
        {
          "name": "stdout",
          "output_type": "stream",
          "text": [
            "LR: 1.0000e-01, Train Loss: 1.2623, Train Acc: 0.5576, Train Latency: 43.40s, Memory Usage: 3119.0KB\n",
            "Test Loss: 3.7241, Test Acc: 0.3090, Test Latency: 5.35s, Test Memory Usage: 194.0KB\n",
            "\n",
            "Epoch 33\n"
          ]
        },
        {
          "name": "stderr",
          "output_type": "stream",
          "text": [
            "Train: 100%|##########| 391/391 [00:43<00:00,  8.99batch/s]\n"
          ]
        },
        {
          "name": "stdout",
          "output_type": "stream",
          "text": [
            "LR: 1.0000e-01, Train Loss: 1.2656, Train Acc: 0.5530, Train Latency: 43.48s, Memory Usage: 3119.0KB\n",
            "Test Loss: 1.6432, Test Acc: 0.4509, Test Latency: 5.39s, Test Memory Usage: 194.0KB\n",
            "\n",
            "Epoch 34\n"
          ]
        },
        {
          "name": "stderr",
          "output_type": "stream",
          "text": [
            "Train: 100%|##########| 391/391 [00:43<00:00,  9.00batch/s]\n"
          ]
        },
        {
          "name": "stdout",
          "output_type": "stream",
          "text": [
            "LR: 1.0000e-01, Train Loss: 1.2956, Train Acc: 0.5458, Train Latency: 43.43s, Memory Usage: 3119.0KB\n",
            "Test Loss: 1.9475, Test Acc: 0.3929, Test Latency: 5.35s, Test Memory Usage: 194.0KB\n",
            "\n",
            "Epoch 35\n"
          ]
        },
        {
          "name": "stderr",
          "output_type": "stream",
          "text": [
            "Train: 100%|##########| 391/391 [00:43<00:00,  9.01batch/s]\n"
          ]
        },
        {
          "name": "stdout",
          "output_type": "stream",
          "text": [
            "LR: 1.0000e-01, Train Loss: 1.2904, Train Acc: 0.5482, Train Latency: 43.41s, Memory Usage: 3119.0KB\n",
            "Test Loss: 2.7253, Test Acc: 0.3142, Test Latency: 5.37s, Test Memory Usage: 194.0KB\n",
            "\n",
            "Epoch 36\n"
          ]
        },
        {
          "name": "stderr",
          "output_type": "stream",
          "text": [
            "Train: 100%|##########| 391/391 [00:43<00:00,  8.99batch/s]\n"
          ]
        },
        {
          "name": "stdout",
          "output_type": "stream",
          "text": [
            "LR: 1.0000e-01, Train Loss: 1.3143, Train Acc: 0.5389, Train Latency: 43.49s, Memory Usage: 3119.0KB\n",
            "Test Loss: 2.2222, Test Acc: 0.3245, Test Latency: 5.34s, Test Memory Usage: 194.0KB\n",
            "\n",
            "Epoch 37\n"
          ]
        },
        {
          "name": "stderr",
          "output_type": "stream",
          "text": [
            "Train: 100%|##########| 391/391 [00:43<00:00,  8.97batch/s]\n"
          ]
        },
        {
          "name": "stdout",
          "output_type": "stream",
          "text": [
            "LR: 1.0000e-01, Train Loss: 1.2863, Train Acc: 0.5495, Train Latency: 43.59s, Memory Usage: 3119.0KB\n",
            "Test Loss: 1.9431, Test Acc: 0.3158, Test Latency: 5.37s, Test Memory Usage: 194.0KB\n",
            "\n",
            "Epoch 38\n"
          ]
        },
        {
          "name": "stderr",
          "output_type": "stream",
          "text": [
            "Train: 100%|##########| 391/391 [00:43<00:00,  8.94batch/s]\n"
          ]
        },
        {
          "name": "stdout",
          "output_type": "stream",
          "text": [
            "LR: 1.0000e-01, Train Loss: 1.2808, Train Acc: 0.5513, Train Latency: 43.72s, Memory Usage: 3119.0KB\n",
            "Test Loss: 2.1652, Test Acc: 0.4263, Test Latency: 5.38s, Test Memory Usage: 194.0KB\n",
            "\n",
            "Epoch 39\n"
          ]
        },
        {
          "name": "stderr",
          "output_type": "stream",
          "text": [
            "Train: 100%|##########| 391/391 [00:43<00:00,  9.02batch/s]\n"
          ]
        },
        {
          "name": "stdout",
          "output_type": "stream",
          "text": [
            "LR: 1.0000e-01, Train Loss: 1.2615, Train Acc: 0.5538, Train Latency: 43.34s, Memory Usage: 3119.0KB\n",
            "Test Loss: 5.4838, Test Acc: 0.1402, Test Latency: 5.35s, Test Memory Usage: 194.0KB\n",
            "\n",
            "Epoch 40\n"
          ]
        },
        {
          "name": "stderr",
          "output_type": "stream",
          "text": [
            "Train: 100%|##########| 391/391 [00:43<00:00,  9.03batch/s]\n"
          ]
        },
        {
          "name": "stdout",
          "output_type": "stream",
          "text": [
            "LR: 1.0000e-01, Train Loss: 1.2691, Train Acc: 0.5528, Train Latency: 43.32s, Memory Usage: 3119.0KB\n",
            "Test Loss: 3.6934, Test Acc: 0.2961, Test Latency: 5.39s, Test Memory Usage: 194.0KB\n",
            "\n",
            "Epoch 41\n"
          ]
        },
        {
          "name": "stderr",
          "output_type": "stream",
          "text": [
            "Train: 100%|##########| 391/391 [00:43<00:00,  8.96batch/s]\n"
          ]
        },
        {
          "name": "stdout",
          "output_type": "stream",
          "text": [
            "LR: 1.0000e-01, Train Loss: 1.2757, Train Acc: 0.5534, Train Latency: 43.66s, Memory Usage: 3119.0KB\n",
            "Test Loss: 1.4036, Test Acc: 0.5291, Test Latency: 5.34s, Test Memory Usage: 194.0KB\n",
            "\n",
            "Epoch 42\n"
          ]
        },
        {
          "name": "stderr",
          "output_type": "stream",
          "text": [
            "Train: 100%|##########| 391/391 [00:43<00:00,  9.01batch/s]\n"
          ]
        },
        {
          "name": "stdout",
          "output_type": "stream",
          "text": [
            "LR: 1.0000e-01, Train Loss: 1.2709, Train Acc: 0.5556, Train Latency: 43.41s, Memory Usage: 3119.0KB\n",
            "Test Loss: 2.0680, Test Acc: 0.3297, Test Latency: 5.33s, Test Memory Usage: 194.0KB\n",
            "\n",
            "Epoch 43\n"
          ]
        },
        {
          "name": "stderr",
          "output_type": "stream",
          "text": [
            "Train: 100%|##########| 391/391 [00:43<00:00,  9.01batch/s]\n"
          ]
        },
        {
          "name": "stdout",
          "output_type": "stream",
          "text": [
            "LR: 1.0000e-01, Train Loss: 1.3048, Train Acc: 0.5435, Train Latency: 43.42s, Memory Usage: 3119.0KB\n",
            "Test Loss: 2.1052, Test Acc: 0.3965, Test Latency: 5.39s, Test Memory Usage: 194.0KB\n",
            "\n",
            "Epoch 44\n"
          ]
        },
        {
          "name": "stderr",
          "output_type": "stream",
          "text": [
            "Train: 100%|##########| 391/391 [00:43<00:00,  9.00batch/s]\n"
          ]
        },
        {
          "name": "stdout",
          "output_type": "stream",
          "text": [
            "LR: 1.0000e-01, Train Loss: 1.2997, Train Acc: 0.5461, Train Latency: 43.44s, Memory Usage: 3119.0KB\n",
            "Test Loss: 3.9337, Test Acc: 0.2135, Test Latency: 5.33s, Test Memory Usage: 194.0KB\n",
            "\n",
            "Epoch 45\n"
          ]
        },
        {
          "name": "stderr",
          "output_type": "stream",
          "text": [
            "Train: 100%|##########| 391/391 [00:43<00:00,  8.98batch/s]\n"
          ]
        },
        {
          "name": "stdout",
          "output_type": "stream",
          "text": [
            "LR: 1.0000e-01, Train Loss: 1.3218, Train Acc: 0.5389, Train Latency: 43.56s, Memory Usage: 3119.0KB\n",
            "Test Loss: 1.7301, Test Acc: 0.3972, Test Latency: 5.33s, Test Memory Usage: 194.0KB\n",
            "\n",
            "Epoch 46\n"
          ]
        },
        {
          "name": "stderr",
          "output_type": "stream",
          "text": [
            "Train: 100%|##########| 391/391 [00:43<00:00,  9.02batch/s]\n"
          ]
        },
        {
          "name": "stdout",
          "output_type": "stream",
          "text": [
            "LR: 1.0000e-01, Train Loss: 1.3114, Train Acc: 0.5419, Train Latency: 43.36s, Memory Usage: 3119.0KB\n",
            "Test Loss: 3.3152, Test Acc: 0.2230, Test Latency: 5.34s, Test Memory Usage: 194.0KB\n",
            "\n",
            "Epoch 47\n"
          ]
        },
        {
          "name": "stderr",
          "output_type": "stream",
          "text": [
            "Train: 100%|##########| 391/391 [00:43<00:00,  9.02batch/s]\n"
          ]
        },
        {
          "name": "stdout",
          "output_type": "stream",
          "text": [
            "LR: 1.0000e-01, Train Loss: 1.3377, Train Acc: 0.5351, Train Latency: 43.34s, Memory Usage: 3119.0KB\n",
            "Test Loss: 2.1308, Test Acc: 0.3359, Test Latency: 5.32s, Test Memory Usage: 194.0KB\n",
            "\n",
            "Epoch 48\n"
          ]
        },
        {
          "name": "stderr",
          "output_type": "stream",
          "text": [
            "Train: 100%|##########| 391/391 [00:43<00:00,  9.00batch/s]\n"
          ]
        },
        {
          "name": "stdout",
          "output_type": "stream",
          "text": [
            "LR: 1.0000e-01, Train Loss: 1.3262, Train Acc: 0.5391, Train Latency: 43.46s, Memory Usage: 3119.0KB\n",
            "Test Loss: 3.7259, Test Acc: 0.2858, Test Latency: 5.33s, Test Memory Usage: 194.0KB\n",
            "\n",
            "Epoch 49\n"
          ]
        },
        {
          "name": "stderr",
          "output_type": "stream",
          "text": [
            "Train: 100%|##########| 391/391 [00:43<00:00,  8.94batch/s]\n"
          ]
        },
        {
          "name": "stdout",
          "output_type": "stream",
          "text": [
            "LR: 1.0000e-01, Train Loss: 1.3235, Train Acc: 0.5398, Train Latency: 43.75s, Memory Usage: 3119.0KB\n",
            "Test Loss: 6.0596, Test Acc: 0.2242, Test Latency: 5.35s, Test Memory Usage: 194.0KB\n",
            "\n",
            "Epoch 50\n"
          ]
        },
        {
          "name": "stderr",
          "output_type": "stream",
          "text": [
            "Train: 100%|##########| 391/391 [00:43<00:00,  8.98batch/s]\n"
          ]
        },
        {
          "name": "stdout",
          "output_type": "stream",
          "text": [
            "LR: 1.0000e-01, Train Loss: 1.3117, Train Acc: 0.5408, Train Latency: 43.53s, Memory Usage: 3119.0KB\n",
            "Test Loss: 3.8016, Test Acc: 0.2858, Test Latency: 5.37s, Test Memory Usage: 194.0KB\n",
            "\n",
            "Epoch 51\n"
          ]
        },
        {
          "name": "stderr",
          "output_type": "stream",
          "text": [
            "Train: 100%|##########| 391/391 [00:43<00:00,  8.93batch/s]\n"
          ]
        },
        {
          "name": "stdout",
          "output_type": "stream",
          "text": [
            "LR: 1.0000e-02, Train Loss: 1.0602, Train Acc: 0.6276, Train Latency: 43.78s, Memory Usage: 3119.0KB\n",
            "Test Loss: 1.3210, Test Acc: 0.5303, Test Latency: 5.43s, Test Memory Usage: 194.0KB\n",
            "Saving best model ...\n",
            "\n",
            "Epoch 52\n"
          ]
        },
        {
          "name": "stderr",
          "output_type": "stream",
          "text": [
            "Train: 100%|##########| 391/391 [00:43<00:00,  8.99batch/s]\n"
          ]
        },
        {
          "name": "stdout",
          "output_type": "stream",
          "text": [
            "LR: 1.0000e-02, Train Loss: 1.0334, Train Acc: 0.6378, Train Latency: 43.48s, Memory Usage: 3119.0KB\n",
            "Test Loss: 1.9168, Test Acc: 0.3439, Test Latency: 5.35s, Test Memory Usage: 194.0KB\n",
            "\n",
            "Epoch 53\n"
          ]
        },
        {
          "name": "stderr",
          "output_type": "stream",
          "text": [
            "Train: 100%|##########| 391/391 [00:43<00:00,  9.01batch/s]\n"
          ]
        },
        {
          "name": "stdout",
          "output_type": "stream",
          "text": [
            "LR: 1.0000e-02, Train Loss: 1.0355, Train Acc: 0.6362, Train Latency: 43.40s, Memory Usage: 3119.0KB\n",
            "Test Loss: 1.3508, Test Acc: 0.5436, Test Latency: 5.34s, Test Memory Usage: 194.0KB\n",
            "Saving best model ...\n",
            "\n",
            "Epoch 54\n"
          ]
        },
        {
          "name": "stderr",
          "output_type": "stream",
          "text": [
            "Train: 100%|##########| 391/391 [00:43<00:00,  8.91batch/s]\n"
          ]
        },
        {
          "name": "stdout",
          "output_type": "stream",
          "text": [
            "LR: 1.0000e-02, Train Loss: 1.0430, Train Acc: 0.6355, Train Latency: 43.86s, Memory Usage: 3119.0KB\n",
            "Test Loss: 1.5308, Test Acc: 0.5152, Test Latency: 5.45s, Test Memory Usage: 194.0KB\n",
            "\n",
            "Epoch 55\n"
          ]
        },
        {
          "name": "stderr",
          "output_type": "stream",
          "text": [
            "Train: 100%|##########| 391/391 [00:43<00:00,  8.96batch/s]\n"
          ]
        },
        {
          "name": "stdout",
          "output_type": "stream",
          "text": [
            "LR: 1.0000e-02, Train Loss: 1.0468, Train Acc: 0.6321, Train Latency: 43.62s, Memory Usage: 3119.0KB\n",
            "Test Loss: 1.7997, Test Acc: 0.4810, Test Latency: 5.39s, Test Memory Usage: 194.0KB\n",
            "\n",
            "Epoch 56\n"
          ]
        },
        {
          "name": "stderr",
          "output_type": "stream",
          "text": [
            "Train: 100%|##########| 391/391 [00:43<00:00,  9.00batch/s]\n"
          ]
        },
        {
          "name": "stdout",
          "output_type": "stream",
          "text": [
            "LR: 1.0000e-02, Train Loss: 1.0637, Train Acc: 0.6273, Train Latency: 43.44s, Memory Usage: 3119.0KB\n",
            "Test Loss: 1.4519, Test Acc: 0.5346, Test Latency: 5.37s, Test Memory Usage: 194.0KB\n",
            "\n",
            "Epoch 57\n"
          ]
        },
        {
          "name": "stderr",
          "output_type": "stream",
          "text": [
            "Train: 100%|##########| 391/391 [00:43<00:00,  8.96batch/s]\n"
          ]
        },
        {
          "name": "stdout",
          "output_type": "stream",
          "text": [
            "LR: 1.0000e-02, Train Loss: 1.0885, Train Acc: 0.6187, Train Latency: 43.62s, Memory Usage: 3119.0KB\n",
            "Test Loss: 1.5885, Test Acc: 0.4097, Test Latency: 5.39s, Test Memory Usage: 194.0KB\n",
            "\n",
            "Epoch 58\n"
          ]
        },
        {
          "name": "stderr",
          "output_type": "stream",
          "text": [
            "Train: 100%|##########| 391/391 [00:43<00:00,  8.98batch/s]\n"
          ]
        },
        {
          "name": "stdout",
          "output_type": "stream",
          "text": [
            "LR: 1.0000e-02, Train Loss: 1.0891, Train Acc: 0.6179, Train Latency: 43.55s, Memory Usage: 3119.0KB\n",
            "Test Loss: 1.5804, Test Acc: 0.4764, Test Latency: 5.38s, Test Memory Usage: 194.0KB\n",
            "\n",
            "Epoch 59\n"
          ]
        },
        {
          "name": "stderr",
          "output_type": "stream",
          "text": [
            "Train: 100%|##########| 391/391 [00:43<00:00,  8.98batch/s]\n"
          ]
        },
        {
          "name": "stdout",
          "output_type": "stream",
          "text": [
            "LR: 1.0000e-02, Train Loss: 1.0846, Train Acc: 0.6218, Train Latency: 43.57s, Memory Usage: 3119.0KB\n",
            "Test Loss: 1.7798, Test Acc: 0.4731, Test Latency: 5.38s, Test Memory Usage: 194.0KB\n",
            "\n",
            "Epoch 60\n"
          ]
        },
        {
          "name": "stderr",
          "output_type": "stream",
          "text": [
            "Train: 100%|##########| 391/391 [00:43<00:00,  9.04batch/s]\n"
          ]
        },
        {
          "name": "stdout",
          "output_type": "stream",
          "text": [
            "LR: 1.0000e-02, Train Loss: 1.1020, Train Acc: 0.6138, Train Latency: 43.24s, Memory Usage: 3119.0KB\n",
            "Test Loss: 1.2676, Test Acc: 0.5615, Test Latency: 5.35s, Test Memory Usage: 194.0KB\n",
            "Saving best model ...\n",
            "\n",
            "Epoch 61\n"
          ]
        },
        {
          "name": "stderr",
          "output_type": "stream",
          "text": [
            "Train: 100%|##########| 391/391 [00:43<00:00,  9.01batch/s]\n"
          ]
        },
        {
          "name": "stdout",
          "output_type": "stream",
          "text": [
            "LR: 1.0000e-02, Train Loss: 1.1031, Train Acc: 0.6113, Train Latency: 43.39s, Memory Usage: 3119.0KB\n",
            "Test Loss: 1.8871, Test Acc: 0.4514, Test Latency: 5.38s, Test Memory Usage: 194.0KB\n",
            "\n",
            "Epoch 62\n"
          ]
        },
        {
          "name": "stderr",
          "output_type": "stream",
          "text": [
            "Train: 100%|##########| 391/391 [00:43<00:00,  8.99batch/s]\n"
          ]
        },
        {
          "name": "stdout",
          "output_type": "stream",
          "text": [
            "LR: 1.0000e-02, Train Loss: 1.1000, Train Acc: 0.6132, Train Latency: 43.51s, Memory Usage: 3119.0KB\n",
            "Test Loss: 1.6451, Test Acc: 0.4788, Test Latency: 5.36s, Test Memory Usage: 194.0KB\n",
            "\n",
            "Epoch 63\n"
          ]
        },
        {
          "name": "stderr",
          "output_type": "stream",
          "text": [
            "Train: 100%|##########| 391/391 [00:43<00:00,  9.01batch/s]\n"
          ]
        },
        {
          "name": "stdout",
          "output_type": "stream",
          "text": [
            "LR: 1.0000e-02, Train Loss: 1.1132, Train Acc: 0.6072, Train Latency: 43.40s, Memory Usage: 3119.0KB\n",
            "Test Loss: 1.6576, Test Acc: 0.4451, Test Latency: 5.33s, Test Memory Usage: 194.0KB\n",
            "\n",
            "Epoch 64\n"
          ]
        },
        {
          "name": "stderr",
          "output_type": "stream",
          "text": [
            "Train: 100%|##########| 391/391 [00:43<00:00,  8.99batch/s]\n"
          ]
        },
        {
          "name": "stdout",
          "output_type": "stream",
          "text": [
            "LR: 1.0000e-02, Train Loss: 1.1055, Train Acc: 0.6130, Train Latency: 43.51s, Memory Usage: 3119.0KB\n",
            "Test Loss: 2.9849, Test Acc: 0.3080, Test Latency: 5.37s, Test Memory Usage: 194.0KB\n",
            "\n",
            "Epoch 65\n"
          ]
        },
        {
          "name": "stderr",
          "output_type": "stream",
          "text": [
            "Train: 100%|##########| 391/391 [00:43<00:00,  8.97batch/s]\n"
          ]
        },
        {
          "name": "stdout",
          "output_type": "stream",
          "text": [
            "LR: 1.0000e-02, Train Loss: 1.1114, Train Acc: 0.6110, Train Latency: 43.61s, Memory Usage: 3119.0KB\n",
            "Test Loss: 3.6856, Test Acc: 0.2927, Test Latency: 5.39s, Test Memory Usage: 194.0KB\n",
            "\n",
            "Epoch 66\n"
          ]
        },
        {
          "name": "stderr",
          "output_type": "stream",
          "text": [
            "Train: 100%|##########| 391/391 [00:43<00:00,  8.96batch/s]\n"
          ]
        },
        {
          "name": "stdout",
          "output_type": "stream",
          "text": [
            "LR: 1.0000e-02, Train Loss: 1.1245, Train Acc: 0.6042, Train Latency: 43.66s, Memory Usage: 3119.0KB\n",
            "Test Loss: 1.3988, Test Acc: 0.5283, Test Latency: 5.36s, Test Memory Usage: 194.0KB\n",
            "\n",
            "Epoch 67\n"
          ]
        },
        {
          "name": "stderr",
          "output_type": "stream",
          "text": [
            "Train: 100%|##########| 391/391 [00:43<00:00,  8.97batch/s]\n"
          ]
        },
        {
          "name": "stdout",
          "output_type": "stream",
          "text": [
            "LR: 1.0000e-02, Train Loss: 1.1241, Train Acc: 0.6045, Train Latency: 43.59s, Memory Usage: 3119.0KB\n",
            "Test Loss: 1.5930, Test Acc: 0.4873, Test Latency: 5.37s, Test Memory Usage: 194.0KB\n",
            "\n",
            "Epoch 68\n"
          ]
        },
        {
          "name": "stderr",
          "output_type": "stream",
          "text": [
            "Train: 100%|##########| 391/391 [00:43<00:00,  8.99batch/s]\n"
          ]
        },
        {
          "name": "stdout",
          "output_type": "stream",
          "text": [
            "LR: 1.0000e-02, Train Loss: 1.1335, Train Acc: 0.6012, Train Latency: 43.52s, Memory Usage: 3119.0KB\n",
            "Test Loss: 2.0825, Test Acc: 0.3720, Test Latency: 5.38s, Test Memory Usage: 194.0KB\n",
            "\n",
            "Epoch 69\n"
          ]
        },
        {
          "name": "stderr",
          "output_type": "stream",
          "text": [
            "Train: 100%|##########| 391/391 [00:43<00:00,  8.97batch/s]\n"
          ]
        },
        {
          "name": "stdout",
          "output_type": "stream",
          "text": [
            "LR: 1.0000e-02, Train Loss: 1.1174, Train Acc: 0.6105, Train Latency: 43.61s, Memory Usage: 3119.0KB\n",
            "Test Loss: 1.5213, Test Acc: 0.4860, Test Latency: 5.38s, Test Memory Usage: 194.0KB\n",
            "\n",
            "Epoch 70\n"
          ]
        },
        {
          "name": "stderr",
          "output_type": "stream",
          "text": [
            "Train: 100%|##########| 391/391 [00:43<00:00,  8.92batch/s]\n"
          ]
        },
        {
          "name": "stdout",
          "output_type": "stream",
          "text": [
            "LR: 1.0000e-02, Train Loss: 1.1259, Train Acc: 0.6038, Train Latency: 43.82s, Memory Usage: 3119.0KB\n",
            "Test Loss: 1.9514, Test Acc: 0.4809, Test Latency: 5.40s, Test Memory Usage: 194.0KB\n",
            "\n",
            "Epoch 71\n"
          ]
        },
        {
          "name": "stderr",
          "output_type": "stream",
          "text": [
            "Train: 100%|##########| 391/391 [00:43<00:00,  9.02batch/s]\n"
          ]
        },
        {
          "name": "stdout",
          "output_type": "stream",
          "text": [
            "LR: 1.0000e-02, Train Loss: 1.1121, Train Acc: 0.6091, Train Latency: 43.37s, Memory Usage: 3119.0KB\n",
            "Test Loss: 2.2522, Test Acc: 0.3502, Test Latency: 5.37s, Test Memory Usage: 194.0KB\n",
            "\n",
            "Epoch 72\n"
          ]
        },
        {
          "name": "stderr",
          "output_type": "stream",
          "text": [
            "Train: 100%|##########| 391/391 [00:43<00:00,  8.97batch/s]\n"
          ]
        },
        {
          "name": "stdout",
          "output_type": "stream",
          "text": [
            "LR: 1.0000e-02, Train Loss: 1.1243, Train Acc: 0.6020, Train Latency: 43.60s, Memory Usage: 3119.0KB\n",
            "Test Loss: 1.8132, Test Acc: 0.4004, Test Latency: 5.37s, Test Memory Usage: 194.0KB\n",
            "\n",
            "Epoch 73\n"
          ]
        },
        {
          "name": "stderr",
          "output_type": "stream",
          "text": [
            "Train: 100%|##########| 391/391 [00:43<00:00,  8.99batch/s]\n"
          ]
        },
        {
          "name": "stdout",
          "output_type": "stream",
          "text": [
            "LR: 1.0000e-02, Train Loss: 1.1304, Train Acc: 0.6025, Train Latency: 43.49s, Memory Usage: 3119.0KB\n",
            "Test Loss: 2.6300, Test Acc: 0.3158, Test Latency: 5.36s, Test Memory Usage: 194.0KB\n",
            "\n",
            "Epoch 74\n"
          ]
        },
        {
          "name": "stderr",
          "output_type": "stream",
          "text": [
            "Train: 100%|##########| 391/391 [00:43<00:00,  9.00batch/s]\n"
          ]
        },
        {
          "name": "stdout",
          "output_type": "stream",
          "text": [
            "LR: 1.0000e-02, Train Loss: 1.1108, Train Acc: 0.6112, Train Latency: 43.47s, Memory Usage: 3119.0KB\n",
            "Test Loss: 1.7336, Test Acc: 0.4604, Test Latency: 5.38s, Test Memory Usage: 194.0KB\n",
            "\n",
            "Epoch 75\n"
          ]
        },
        {
          "name": "stderr",
          "output_type": "stream",
          "text": [
            "Train: 100%|##########| 391/391 [00:43<00:00,  8.99batch/s]\n"
          ]
        },
        {
          "name": "stdout",
          "output_type": "stream",
          "text": [
            "LR: 1.0000e-02, Train Loss: 1.1228, Train Acc: 0.6072, Train Latency: 43.51s, Memory Usage: 3119.0KB\n",
            "Test Loss: 1.5066, Test Acc: 0.4934, Test Latency: 5.42s, Test Memory Usage: 194.0KB\n",
            "\n",
            "Epoch 76\n"
          ]
        },
        {
          "name": "stderr",
          "output_type": "stream",
          "text": [
            "Train: 100%|##########| 391/391 [00:43<00:00,  8.96batch/s]\n"
          ]
        },
        {
          "name": "stdout",
          "output_type": "stream",
          "text": [
            "LR: 1.0000e-02, Train Loss: 1.1275, Train Acc: 0.6030, Train Latency: 43.65s, Memory Usage: 3119.0KB\n",
            "Test Loss: 2.3794, Test Acc: 0.3148, Test Latency: 5.40s, Test Memory Usage: 194.0KB\n",
            "\n",
            "Epoch 77\n"
          ]
        },
        {
          "name": "stderr",
          "output_type": "stream",
          "text": [
            "Train: 100%|##########| 391/391 [00:43<00:00,  8.96batch/s]\n"
          ]
        },
        {
          "name": "stdout",
          "output_type": "stream",
          "text": [
            "LR: 1.0000e-02, Train Loss: 1.1264, Train Acc: 0.6043, Train Latency: 43.63s, Memory Usage: 3119.0KB\n",
            "Test Loss: 2.3556, Test Acc: 0.3502, Test Latency: 5.35s, Test Memory Usage: 194.0KB\n",
            "\n",
            "Epoch 78\n"
          ]
        },
        {
          "name": "stderr",
          "output_type": "stream",
          "text": [
            "Train: 100%|##########| 391/391 [00:43<00:00,  9.00batch/s]\n"
          ]
        },
        {
          "name": "stdout",
          "output_type": "stream",
          "text": [
            "LR: 1.0000e-02, Train Loss: 1.1480, Train Acc: 0.5958, Train Latency: 43.47s, Memory Usage: 3119.0KB\n",
            "Test Loss: 1.1948, Test Acc: 0.5878, Test Latency: 5.39s, Test Memory Usage: 194.0KB\n",
            "Saving best model ...\n",
            "\n",
            "Epoch 79\n"
          ]
        },
        {
          "name": "stderr",
          "output_type": "stream",
          "text": [
            "Train: 100%|##########| 391/391 [00:43<00:00,  9.01batch/s]\n"
          ]
        },
        {
          "name": "stdout",
          "output_type": "stream",
          "text": [
            "LR: 1.0000e-02, Train Loss: 1.1464, Train Acc: 0.5957, Train Latency: 43.40s, Memory Usage: 3119.0KB\n",
            "Test Loss: 2.1416, Test Acc: 0.4008, Test Latency: 5.38s, Test Memory Usage: 194.0KB\n",
            "\n",
            "Epoch 80\n"
          ]
        },
        {
          "name": "stderr",
          "output_type": "stream",
          "text": [
            "Train: 100%|##########| 391/391 [00:43<00:00,  8.92batch/s]\n"
          ]
        },
        {
          "name": "stdout",
          "output_type": "stream",
          "text": [
            "LR: 1.0000e-02, Train Loss: 1.1319, Train Acc: 0.5994, Train Latency: 43.82s, Memory Usage: 3119.0KB\n",
            "Test Loss: 1.3582, Test Acc: 0.5456, Test Latency: 5.42s, Test Memory Usage: 194.0KB\n",
            "\n",
            "Epoch 81\n"
          ]
        },
        {
          "name": "stderr",
          "output_type": "stream",
          "text": [
            "Train: 100%|##########| 391/391 [00:43<00:00,  9.01batch/s]\n"
          ]
        },
        {
          "name": "stdout",
          "output_type": "stream",
          "text": [
            "LR: 1.0000e-02, Train Loss: 1.1340, Train Acc: 0.6001, Train Latency: 43.40s, Memory Usage: 3119.0KB\n",
            "Test Loss: 2.0423, Test Acc: 0.3392, Test Latency: 5.35s, Test Memory Usage: 194.0KB\n",
            "\n",
            "Epoch 82\n"
          ]
        },
        {
          "name": "stderr",
          "output_type": "stream",
          "text": [
            "Train: 100%|##########| 391/391 [00:43<00:00,  8.97batch/s]\n"
          ]
        },
        {
          "name": "stdout",
          "output_type": "stream",
          "text": [
            "LR: 1.0000e-02, Train Loss: 1.1316, Train Acc: 0.6019, Train Latency: 43.59s, Memory Usage: 3119.0KB\n",
            "Test Loss: 1.9933, Test Acc: 0.3836, Test Latency: 5.32s, Test Memory Usage: 194.0KB\n",
            "\n",
            "Epoch 83\n"
          ]
        },
        {
          "name": "stderr",
          "output_type": "stream",
          "text": [
            "Train: 100%|##########| 391/391 [00:43<00:00,  8.99batch/s]\n"
          ]
        },
        {
          "name": "stdout",
          "output_type": "stream",
          "text": [
            "LR: 1.0000e-02, Train Loss: 1.1328, Train Acc: 0.6013, Train Latency: 43.50s, Memory Usage: 3119.0KB\n",
            "Test Loss: 1.7537, Test Acc: 0.4393, Test Latency: 5.37s, Test Memory Usage: 194.0KB\n",
            "\n",
            "Epoch 84\n"
          ]
        },
        {
          "name": "stderr",
          "output_type": "stream",
          "text": [
            "Train: 100%|##########| 391/391 [00:43<00:00,  9.00batch/s]\n"
          ]
        },
        {
          "name": "stdout",
          "output_type": "stream",
          "text": [
            "LR: 1.0000e-02, Train Loss: 1.1417, Train Acc: 0.5997, Train Latency: 43.46s, Memory Usage: 3119.0KB\n",
            "Test Loss: 1.7605, Test Acc: 0.4491, Test Latency: 5.36s, Test Memory Usage: 194.0KB\n",
            "\n",
            "Epoch 85\n"
          ]
        },
        {
          "name": "stderr",
          "output_type": "stream",
          "text": [
            "Train: 100%|##########| 391/391 [00:43<00:00,  8.98batch/s]\n"
          ]
        },
        {
          "name": "stdout",
          "output_type": "stream",
          "text": [
            "LR: 1.0000e-02, Train Loss: 1.1401, Train Acc: 0.5978, Train Latency: 43.53s, Memory Usage: 3119.0KB\n",
            "Test Loss: 1.3780, Test Acc: 0.4998, Test Latency: 5.33s, Test Memory Usage: 194.0KB\n",
            "\n",
            "Epoch 86\n"
          ]
        },
        {
          "name": "stderr",
          "output_type": "stream",
          "text": [
            "Train: 100%|##########| 391/391 [00:43<00:00,  8.99batch/s]\n"
          ]
        },
        {
          "name": "stdout",
          "output_type": "stream",
          "text": [
            "LR: 1.0000e-02, Train Loss: 1.1509, Train Acc: 0.5904, Train Latency: 43.51s, Memory Usage: 3119.0KB\n",
            "Test Loss: 1.5393, Test Acc: 0.4963, Test Latency: 5.36s, Test Memory Usage: 194.0KB\n",
            "\n",
            "Epoch 87\n"
          ]
        },
        {
          "name": "stderr",
          "output_type": "stream",
          "text": [
            "Train: 100%|##########| 391/391 [00:43<00:00,  9.00batch/s]\n"
          ]
        },
        {
          "name": "stdout",
          "output_type": "stream",
          "text": [
            "LR: 1.0000e-02, Train Loss: 1.1405, Train Acc: 0.5983, Train Latency: 43.47s, Memory Usage: 3119.0KB\n",
            "Test Loss: 1.3877, Test Acc: 0.5312, Test Latency: 5.29s, Test Memory Usage: 194.0KB\n",
            "\n",
            "Epoch 88\n"
          ]
        },
        {
          "name": "stderr",
          "output_type": "stream",
          "text": [
            "Train: 100%|##########| 391/391 [00:42<00:00,  9.14batch/s]\n"
          ]
        },
        {
          "name": "stdout",
          "output_type": "stream",
          "text": [
            "LR: 1.0000e-02, Train Loss: 1.1548, Train Acc: 0.5915, Train Latency: 42.80s, Memory Usage: 3119.0KB\n",
            "Test Loss: 1.4483, Test Acc: 0.5139, Test Latency: 5.28s, Test Memory Usage: 194.0KB\n",
            "\n",
            "Epoch 89\n"
          ]
        },
        {
          "name": "stderr",
          "output_type": "stream",
          "text": [
            "Train: 100%|##########| 391/391 [00:42<00:00,  9.15batch/s]\n"
          ]
        },
        {
          "name": "stdout",
          "output_type": "stream",
          "text": [
            "LR: 1.0000e-02, Train Loss: 1.1478, Train Acc: 0.5973, Train Latency: 42.75s, Memory Usage: 3119.0KB\n",
            "Test Loss: 1.8126, Test Acc: 0.4741, Test Latency: 5.29s, Test Memory Usage: 194.0KB\n",
            "\n",
            "Epoch 90\n"
          ]
        },
        {
          "name": "stderr",
          "output_type": "stream",
          "text": [
            "Train: 100%|##########| 391/391 [00:42<00:00,  9.12batch/s]\n"
          ]
        },
        {
          "name": "stdout",
          "output_type": "stream",
          "text": [
            "LR: 1.0000e-02, Train Loss: 1.1560, Train Acc: 0.5912, Train Latency: 42.88s, Memory Usage: 3119.0KB\n",
            "Test Loss: 2.3660, Test Acc: 0.3865, Test Latency: 5.28s, Test Memory Usage: 194.0KB\n",
            "\n",
            "Epoch 91\n"
          ]
        },
        {
          "name": "stderr",
          "output_type": "stream",
          "text": [
            "Train: 100%|##########| 391/391 [00:43<00:00,  9.08batch/s]\n"
          ]
        },
        {
          "name": "stdout",
          "output_type": "stream",
          "text": [
            "LR: 1.0000e-02, Train Loss: 1.1642, Train Acc: 0.5910, Train Latency: 43.06s, Memory Usage: 3119.0KB\n",
            "Test Loss: 1.3528, Test Acc: 0.5269, Test Latency: 5.41s, Test Memory Usage: 194.0KB\n",
            "\n",
            "Epoch 92\n"
          ]
        },
        {
          "name": "stderr",
          "output_type": "stream",
          "text": [
            "Train: 100%|##########| 391/391 [00:43<00:00,  9.07batch/s]\n"
          ]
        },
        {
          "name": "stdout",
          "output_type": "stream",
          "text": [
            "LR: 1.0000e-02, Train Loss: 1.1646, Train Acc: 0.5893, Train Latency: 43.10s, Memory Usage: 3119.0KB\n",
            "Test Loss: 1.5739, Test Acc: 0.5092, Test Latency: 5.33s, Test Memory Usage: 194.0KB\n",
            "\n",
            "Epoch 93\n"
          ]
        },
        {
          "name": "stderr",
          "output_type": "stream",
          "text": [
            "Train: 100%|##########| 391/391 [00:42<00:00,  9.12batch/s]\n"
          ]
        },
        {
          "name": "stdout",
          "output_type": "stream",
          "text": [
            "LR: 1.0000e-02, Train Loss: 1.1645, Train Acc: 0.5895, Train Latency: 42.89s, Memory Usage: 3119.0KB\n",
            "Test Loss: 1.7810, Test Acc: 0.4708, Test Latency: 5.30s, Test Memory Usage: 194.0KB\n",
            "\n",
            "Epoch 94\n"
          ]
        },
        {
          "name": "stderr",
          "output_type": "stream",
          "text": [
            "Train: 100%|##########| 391/391 [00:42<00:00,  9.11batch/s]\n"
          ]
        },
        {
          "name": "stdout",
          "output_type": "stream",
          "text": [
            "LR: 1.0000e-02, Train Loss: 1.1554, Train Acc: 0.5951, Train Latency: 42.92s, Memory Usage: 3119.0KB\n",
            "Test Loss: 1.6575, Test Acc: 0.4528, Test Latency: 5.30s, Test Memory Usage: 194.0KB\n",
            "\n",
            "Epoch 95\n"
          ]
        },
        {
          "name": "stderr",
          "output_type": "stream",
          "text": [
            "Train: 100%|##########| 391/391 [00:42<00:00,  9.10batch/s]\n"
          ]
        },
        {
          "name": "stdout",
          "output_type": "stream",
          "text": [
            "LR: 1.0000e-02, Train Loss: 1.1584, Train Acc: 0.5913, Train Latency: 42.98s, Memory Usage: 3119.0KB\n",
            "Test Loss: 1.3551, Test Acc: 0.5410, Test Latency: 5.33s, Test Memory Usage: 194.0KB\n",
            "\n",
            "Epoch 96\n"
          ]
        },
        {
          "name": "stderr",
          "output_type": "stream",
          "text": [
            "Train: 100%|##########| 391/391 [00:43<00:00,  9.08batch/s]\n"
          ]
        },
        {
          "name": "stdout",
          "output_type": "stream",
          "text": [
            "LR: 1.0000e-02, Train Loss: 1.1644, Train Acc: 0.5874, Train Latency: 43.04s, Memory Usage: 3119.0KB\n",
            "Test Loss: 1.6752, Test Acc: 0.4629, Test Latency: 5.30s, Test Memory Usage: 194.0KB\n",
            "\n",
            "Epoch 97\n"
          ]
        },
        {
          "name": "stderr",
          "output_type": "stream",
          "text": [
            "Train: 100%|##########| 391/391 [00:42<00:00,  9.11batch/s]\n"
          ]
        },
        {
          "name": "stdout",
          "output_type": "stream",
          "text": [
            "LR: 1.0000e-02, Train Loss: 1.1656, Train Acc: 0.5892, Train Latency: 42.92s, Memory Usage: 3119.0KB\n",
            "Test Loss: 2.1367, Test Acc: 0.4138, Test Latency: 5.31s, Test Memory Usage: 194.0KB\n",
            "\n",
            "Epoch 98\n"
          ]
        },
        {
          "name": "stderr",
          "output_type": "stream",
          "text": [
            "Train: 100%|##########| 391/391 [00:42<00:00,  9.12batch/s]\n"
          ]
        },
        {
          "name": "stdout",
          "output_type": "stream",
          "text": [
            "LR: 1.0000e-02, Train Loss: 1.1631, Train Acc: 0.5902, Train Latency: 42.89s, Memory Usage: 3119.0KB\n",
            "Test Loss: 1.5698, Test Acc: 0.5010, Test Latency: 5.30s, Test Memory Usage: 194.0KB\n",
            "\n",
            "Epoch 99\n"
          ]
        },
        {
          "name": "stderr",
          "output_type": "stream",
          "text": [
            "Train: 100%|##########| 391/391 [00:42<00:00,  9.10batch/s]\n"
          ]
        },
        {
          "name": "stdout",
          "output_type": "stream",
          "text": [
            "LR: 1.0000e-02, Train Loss: 1.1673, Train Acc: 0.5898, Train Latency: 42.99s, Memory Usage: 3119.0KB\n",
            "Test Loss: 8.6737, Test Acc: 0.1454, Test Latency: 5.26s, Test Memory Usage: 194.0KB\n",
            "\n",
            "Epoch 100\n"
          ]
        },
        {
          "name": "stderr",
          "output_type": "stream",
          "text": [
            "Train: 100%|##########| 391/391 [00:42<00:00,  9.11batch/s]\n"
          ]
        },
        {
          "name": "stdout",
          "output_type": "stream",
          "text": [
            "LR: 1.0000e-02, Train Loss: 1.1593, Train Acc: 0.5919, Train Latency: 42.94s, Memory Usage: 3119.0KB\n",
            "Test Loss: 2.3512, Test Acc: 0.3634, Test Latency: 5.29s, Test Memory Usage: 194.0KB\n",
            "\n",
            "Epoch 101\n"
          ]
        },
        {
          "name": "stderr",
          "output_type": "stream",
          "text": [
            "Train: 100%|##########| 391/391 [00:43<00:00,  9.09batch/s]\n"
          ]
        },
        {
          "name": "stdout",
          "output_type": "stream",
          "text": [
            "LR: 1.0000e-03, Train Loss: 1.0431, Train Acc: 0.6333, Train Latency: 43.04s, Memory Usage: 3119.0KB\n",
            "Test Loss: 2.7465, Test Acc: 0.2797, Test Latency: 5.29s, Test Memory Usage: 194.0KB\n",
            "\n",
            "Epoch 102\n"
          ]
        },
        {
          "name": "stderr",
          "output_type": "stream",
          "text": [
            "Train: 100%|##########| 391/391 [00:43<00:00,  9.09batch/s]\n"
          ]
        },
        {
          "name": "stdout",
          "output_type": "stream",
          "text": [
            "LR: 1.0000e-03, Train Loss: 1.0484, Train Acc: 0.6323, Train Latency: 43.04s, Memory Usage: 3119.0KB\n",
            "Test Loss: 1.1661, Test Acc: 0.5943, Test Latency: 5.30s, Test Memory Usage: 194.0KB\n",
            "Saving best model ...\n",
            "\n",
            "Epoch 103\n"
          ]
        },
        {
          "name": "stderr",
          "output_type": "stream",
          "text": [
            "Train: 100%|##########| 391/391 [00:43<00:00,  9.09batch/s]\n"
          ]
        },
        {
          "name": "stdout",
          "output_type": "stream",
          "text": [
            "LR: 1.0000e-03, Train Loss: 1.0507, Train Acc: 0.6322, Train Latency: 43.01s, Memory Usage: 3119.0KB\n",
            "Test Loss: 1.6704, Test Acc: 0.3749, Test Latency: 5.31s, Test Memory Usage: 194.0KB\n",
            "\n",
            "Epoch 104\n"
          ]
        },
        {
          "name": "stderr",
          "output_type": "stream",
          "text": [
            "Train: 100%|##########| 391/391 [00:42<00:00,  9.12batch/s]\n"
          ]
        },
        {
          "name": "stdout",
          "output_type": "stream",
          "text": [
            "LR: 1.0000e-03, Train Loss: 1.0512, Train Acc: 0.6300, Train Latency: 42.88s, Memory Usage: 3119.0KB\n",
            "Test Loss: 1.2877, Test Acc: 0.5615, Test Latency: 5.33s, Test Memory Usage: 194.0KB\n",
            "\n",
            "Epoch 105\n"
          ]
        },
        {
          "name": "stderr",
          "output_type": "stream",
          "text": [
            "Train: 100%|##########| 391/391 [00:42<00:00,  9.14batch/s]\n"
          ]
        },
        {
          "name": "stdout",
          "output_type": "stream",
          "text": [
            "LR: 1.0000e-03, Train Loss: 1.0561, Train Acc: 0.6315, Train Latency: 42.80s, Memory Usage: 3119.0KB\n",
            "Test Loss: 1.6562, Test Acc: 0.4458, Test Latency: 5.32s, Test Memory Usage: 194.0KB\n",
            "\n",
            "Epoch 106\n"
          ]
        },
        {
          "name": "stderr",
          "output_type": "stream",
          "text": [
            "Train: 100%|##########| 391/391 [00:42<00:00,  9.13batch/s]\n"
          ]
        },
        {
          "name": "stdout",
          "output_type": "stream",
          "text": [
            "LR: 1.0000e-03, Train Loss: 1.0473, Train Acc: 0.6325, Train Latency: 42.81s, Memory Usage: 3119.0KB\n",
            "Test Loss: 1.1696, Test Acc: 0.5947, Test Latency: 5.31s, Test Memory Usage: 194.0KB\n",
            "Saving best model ...\n",
            "\n",
            "Epoch 107\n"
          ]
        },
        {
          "name": "stderr",
          "output_type": "stream",
          "text": [
            "Train: 100%|##########| 391/391 [00:42<00:00,  9.13batch/s]\n"
          ]
        },
        {
          "name": "stdout",
          "output_type": "stream",
          "text": [
            "LR: 1.0000e-03, Train Loss: 1.0505, Train Acc: 0.6298, Train Latency: 42.82s, Memory Usage: 3119.0KB\n",
            "Test Loss: 1.1687, Test Acc: 0.5906, Test Latency: 5.35s, Test Memory Usage: 194.0KB\n",
            "\n",
            "Epoch 108\n"
          ]
        },
        {
          "name": "stderr",
          "output_type": "stream",
          "text": [
            "Train: 100%|##########| 391/391 [00:42<00:00,  9.14batch/s]\n"
          ]
        },
        {
          "name": "stdout",
          "output_type": "stream",
          "text": [
            "LR: 1.0000e-03, Train Loss: 1.0491, Train Acc: 0.6335, Train Latency: 42.78s, Memory Usage: 3119.0KB\n",
            "Test Loss: 1.1431, Test Acc: 0.6104, Test Latency: 5.30s, Test Memory Usage: 194.0KB\n",
            "Saving best model ...\n",
            "\n",
            "Epoch 109\n"
          ]
        },
        {
          "name": "stderr",
          "output_type": "stream",
          "text": [
            "Train: 100%|##########| 391/391 [00:42<00:00,  9.09batch/s]\n"
          ]
        },
        {
          "name": "stdout",
          "output_type": "stream",
          "text": [
            "LR: 1.0000e-03, Train Loss: 1.0599, Train Acc: 0.6275, Train Latency: 43.00s, Memory Usage: 3119.0KB\n",
            "Test Loss: 1.2452, Test Acc: 0.5767, Test Latency: 5.31s, Test Memory Usage: 194.0KB\n",
            "\n",
            "Epoch 110\n"
          ]
        },
        {
          "name": "stderr",
          "output_type": "stream",
          "text": [
            "Train: 100%|##########| 391/391 [00:42<00:00,  9.13batch/s]\n"
          ]
        },
        {
          "name": "stdout",
          "output_type": "stream",
          "text": [
            "LR: 1.0000e-03, Train Loss: 1.0648, Train Acc: 0.6266, Train Latency: 42.84s, Memory Usage: 3119.0KB\n",
            "Test Loss: 1.2900, Test Acc: 0.5684, Test Latency: 5.30s, Test Memory Usage: 194.0KB\n",
            "\n",
            "Epoch 111\n"
          ]
        },
        {
          "name": "stderr",
          "output_type": "stream",
          "text": [
            "Train: 100%|##########| 391/391 [00:42<00:00,  9.12batch/s]\n"
          ]
        },
        {
          "name": "stdout",
          "output_type": "stream",
          "text": [
            "LR: 1.0000e-03, Train Loss: 1.0539, Train Acc: 0.6312, Train Latency: 42.89s, Memory Usage: 3119.0KB\n",
            "Test Loss: 1.7316, Test Acc: 0.4683, Test Latency: 5.30s, Test Memory Usage: 194.0KB\n",
            "\n",
            "Epoch 112\n"
          ]
        },
        {
          "name": "stderr",
          "output_type": "stream",
          "text": [
            "Train: 100%|##########| 391/391 [00:43<00:00,  9.09batch/s]\n"
          ]
        },
        {
          "name": "stdout",
          "output_type": "stream",
          "text": [
            "LR: 1.0000e-03, Train Loss: 1.0661, Train Acc: 0.6247, Train Latency: 43.02s, Memory Usage: 3119.0KB\n",
            "Test Loss: 1.7344, Test Acc: 0.4682, Test Latency: 5.28s, Test Memory Usage: 194.0KB\n",
            "\n",
            "Epoch 113\n"
          ]
        },
        {
          "name": "stderr",
          "output_type": "stream",
          "text": [
            "Train: 100%|##########| 391/391 [00:42<00:00,  9.10batch/s]\n"
          ]
        },
        {
          "name": "stdout",
          "output_type": "stream",
          "text": [
            "LR: 1.0000e-03, Train Loss: 1.0661, Train Acc: 0.6262, Train Latency: 42.99s, Memory Usage: 3119.0KB\n",
            "Test Loss: 1.1320, Test Acc: 0.6097, Test Latency: 5.30s, Test Memory Usage: 194.0KB\n",
            "\n",
            "Epoch 114\n"
          ]
        },
        {
          "name": "stderr",
          "output_type": "stream",
          "text": [
            "Train: 100%|##########| 391/391 [00:43<00:00,  9.08batch/s]\n"
          ]
        },
        {
          "name": "stdout",
          "output_type": "stream",
          "text": [
            "LR: 1.0000e-03, Train Loss: 1.0618, Train Acc: 0.6279, Train Latency: 43.06s, Memory Usage: 3119.0KB\n",
            "Test Loss: 1.2884, Test Acc: 0.5510, Test Latency: 5.28s, Test Memory Usage: 194.0KB\n",
            "\n",
            "Epoch 115\n"
          ]
        },
        {
          "name": "stderr",
          "output_type": "stream",
          "text": [
            "Train: 100%|##########| 391/391 [00:42<00:00,  9.13batch/s]\n"
          ]
        },
        {
          "name": "stdout",
          "output_type": "stream",
          "text": [
            "LR: 1.0000e-03, Train Loss: 1.0881, Train Acc: 0.6187, Train Latency: 42.83s, Memory Usage: 3119.0KB\n",
            "Test Loss: 1.5720, Test Acc: 0.5239, Test Latency: 5.32s, Test Memory Usage: 194.0KB\n",
            "\n",
            "Epoch 116\n"
          ]
        },
        {
          "name": "stderr",
          "output_type": "stream",
          "text": [
            "Train: 100%|##########| 391/391 [00:42<00:00,  9.10batch/s]\n"
          ]
        },
        {
          "name": "stdout",
          "output_type": "stream",
          "text": [
            "LR: 1.0000e-03, Train Loss: 1.0790, Train Acc: 0.6223, Train Latency: 42.96s, Memory Usage: 3119.0KB\n",
            "Test Loss: 2.7869, Test Acc: 0.2749, Test Latency: 5.27s, Test Memory Usage: 194.0KB\n",
            "\n",
            "Epoch 117\n"
          ]
        },
        {
          "name": "stderr",
          "output_type": "stream",
          "text": [
            "Train: 100%|##########| 391/391 [00:43<00:00,  9.06batch/s]\n"
          ]
        },
        {
          "name": "stdout",
          "output_type": "stream",
          "text": [
            "LR: 1.0000e-03, Train Loss: 1.0908, Train Acc: 0.6172, Train Latency: 43.15s, Memory Usage: 3119.0KB\n",
            "Test Loss: 1.2976, Test Acc: 0.5485, Test Latency: 5.30s, Test Memory Usage: 194.0KB\n",
            "\n",
            "Epoch 118\n"
          ]
        },
        {
          "name": "stderr",
          "output_type": "stream",
          "text": [
            "Train: 100%|##########| 391/391 [00:42<00:00,  9.14batch/s]\n"
          ]
        },
        {
          "name": "stdout",
          "output_type": "stream",
          "text": [
            "LR: 1.0000e-03, Train Loss: 1.0747, Train Acc: 0.6242, Train Latency: 42.79s, Memory Usage: 3119.0KB\n",
            "Test Loss: 1.3741, Test Acc: 0.5448, Test Latency: 5.27s, Test Memory Usage: 194.0KB\n",
            "\n",
            "Epoch 119\n"
          ]
        },
        {
          "name": "stderr",
          "output_type": "stream",
          "text": [
            "Train: 100%|##########| 391/391 [00:42<00:00,  9.11batch/s]\n"
          ]
        },
        {
          "name": "stdout",
          "output_type": "stream",
          "text": [
            "LR: 1.0000e-03, Train Loss: 1.0739, Train Acc: 0.6244, Train Latency: 42.92s, Memory Usage: 3119.0KB\n",
            "Test Loss: 1.3408, Test Acc: 0.5355, Test Latency: 5.31s, Test Memory Usage: 194.0KB\n",
            "\n",
            "Epoch 120\n"
          ]
        },
        {
          "name": "stderr",
          "output_type": "stream",
          "text": [
            "Train: 100%|##########| 391/391 [00:43<00:00,  9.03batch/s]\n"
          ]
        },
        {
          "name": "stdout",
          "output_type": "stream",
          "text": [
            "LR: 1.0000e-03, Train Loss: 1.0876, Train Acc: 0.6194, Train Latency: 43.30s, Memory Usage: 3119.0KB\n",
            "Test Loss: 2.9085, Test Acc: 0.2770, Test Latency: 5.34s, Test Memory Usage: 194.0KB\n",
            "\n",
            "Epoch 121\n"
          ]
        },
        {
          "name": "stderr",
          "output_type": "stream",
          "text": [
            "Train: 100%|##########| 391/391 [00:42<00:00,  9.10batch/s]\n"
          ]
        },
        {
          "name": "stdout",
          "output_type": "stream",
          "text": [
            "LR: 1.0000e-03, Train Loss: 1.0770, Train Acc: 0.6225, Train Latency: 42.96s, Memory Usage: 3119.0KB\n",
            "Test Loss: 3.2207, Test Acc: 0.2483, Test Latency: 5.29s, Test Memory Usage: 194.0KB\n",
            "\n",
            "Epoch 122\n"
          ]
        },
        {
          "name": "stderr",
          "output_type": "stream",
          "text": [
            "Train: 100%|##########| 391/391 [00:42<00:00,  9.10batch/s]\n"
          ]
        },
        {
          "name": "stdout",
          "output_type": "stream",
          "text": [
            "LR: 1.0000e-03, Train Loss: 1.0832, Train Acc: 0.6180, Train Latency: 42.95s, Memory Usage: 3119.0KB\n",
            "Test Loss: 2.6669, Test Acc: 0.3025, Test Latency: 5.32s, Test Memory Usage: 194.0KB\n",
            "\n",
            "Epoch 123\n"
          ]
        },
        {
          "name": "stderr",
          "output_type": "stream",
          "text": [
            "Train: 100%|##########| 391/391 [00:43<00:00,  8.94batch/s]\n"
          ]
        },
        {
          "name": "stdout",
          "output_type": "stream",
          "text": [
            "LR: 1.0000e-03, Train Loss: 1.0718, Train Acc: 0.6225, Train Latency: 43.74s, Memory Usage: 3119.0KB\n",
            "Test Loss: 1.3641, Test Acc: 0.5310, Test Latency: 5.40s, Test Memory Usage: 194.0KB\n",
            "\n",
            "Epoch 124\n"
          ]
        },
        {
          "name": "stderr",
          "output_type": "stream",
          "text": [
            "Train: 100%|##########| 391/391 [00:43<00:00,  9.03batch/s]\n"
          ]
        },
        {
          "name": "stdout",
          "output_type": "stream",
          "text": [
            "LR: 1.0000e-03, Train Loss: 1.0796, Train Acc: 0.6205, Train Latency: 43.32s, Memory Usage: 3119.0KB\n",
            "Test Loss: 1.2361, Test Acc: 0.5795, Test Latency: 5.33s, Test Memory Usage: 194.0KB\n",
            "\n",
            "Epoch 125\n"
          ]
        },
        {
          "name": "stderr",
          "output_type": "stream",
          "text": [
            "Train: 100%|##########| 391/391 [00:43<00:00,  8.99batch/s]\n"
          ]
        },
        {
          "name": "stdout",
          "output_type": "stream",
          "text": [
            "LR: 1.0000e-03, Train Loss: 1.0871, Train Acc: 0.6183, Train Latency: 43.50s, Memory Usage: 3119.0KB\n",
            "Test Loss: 1.7670, Test Acc: 0.5094, Test Latency: 5.44s, Test Memory Usage: 194.0KB\n",
            "\n",
            "Epoch 126\n"
          ]
        },
        {
          "name": "stderr",
          "output_type": "stream",
          "text": [
            "Train: 100%|##########| 391/391 [00:43<00:00,  9.01batch/s]\n"
          ]
        },
        {
          "name": "stdout",
          "output_type": "stream",
          "text": [
            "LR: 1.0000e-03, Train Loss: 1.0820, Train Acc: 0.6212, Train Latency: 43.40s, Memory Usage: 3119.0KB\n",
            "Test Loss: 1.7304, Test Acc: 0.4924, Test Latency: 5.40s, Test Memory Usage: 194.0KB\n",
            "\n",
            "Epoch 127\n"
          ]
        },
        {
          "name": "stderr",
          "output_type": "stream",
          "text": [
            "Train: 100%|##########| 391/391 [00:43<00:00,  9.00batch/s]\n"
          ]
        },
        {
          "name": "stdout",
          "output_type": "stream",
          "text": [
            "LR: 1.0000e-03, Train Loss: 1.0814, Train Acc: 0.6211, Train Latency: 43.45s, Memory Usage: 3119.0KB\n",
            "Test Loss: 1.1402, Test Acc: 0.5940, Test Latency: 5.35s, Test Memory Usage: 194.0KB\n",
            "\n",
            "Epoch 128\n"
          ]
        },
        {
          "name": "stderr",
          "output_type": "stream",
          "text": [
            "Train: 100%|##########| 391/391 [00:43<00:00,  9.04batch/s]\n"
          ]
        },
        {
          "name": "stdout",
          "output_type": "stream",
          "text": [
            "LR: 1.0000e-03, Train Loss: 1.0693, Train Acc: 0.6235, Train Latency: 43.26s, Memory Usage: 3119.0KB\n",
            "Test Loss: 1.4942, Test Acc: 0.5046, Test Latency: 5.38s, Test Memory Usage: 194.0KB\n",
            "\n",
            "Epoch 129\n"
          ]
        },
        {
          "name": "stderr",
          "output_type": "stream",
          "text": [
            "Train: 100%|##########| 391/391 [00:43<00:00,  9.02batch/s]\n"
          ]
        },
        {
          "name": "stdout",
          "output_type": "stream",
          "text": [
            "LR: 1.0000e-03, Train Loss: 1.0837, Train Acc: 0.6186, Train Latency: 43.35s, Memory Usage: 3119.0KB\n",
            "Test Loss: 1.6370, Test Acc: 0.5069, Test Latency: 5.31s, Test Memory Usage: 194.0KB\n",
            "\n",
            "Epoch 130\n"
          ]
        },
        {
          "name": "stderr",
          "output_type": "stream",
          "text": [
            "Train: 100%|##########| 391/391 [00:43<00:00,  8.98batch/s]\n"
          ]
        },
        {
          "name": "stdout",
          "output_type": "stream",
          "text": [
            "LR: 1.0000e-03, Train Loss: 1.0877, Train Acc: 0.6176, Train Latency: 43.53s, Memory Usage: 3119.0KB\n",
            "Test Loss: 1.4021, Test Acc: 0.5368, Test Latency: 5.34s, Test Memory Usage: 194.0KB\n",
            "\n",
            "Epoch 131\n"
          ]
        },
        {
          "name": "stderr",
          "output_type": "stream",
          "text": [
            "Train: 100%|##########| 391/391 [00:43<00:00,  9.00batch/s]\n"
          ]
        },
        {
          "name": "stdout",
          "output_type": "stream",
          "text": [
            "LR: 1.0000e-03, Train Loss: 1.0875, Train Acc: 0.6189, Train Latency: 43.46s, Memory Usage: 3119.0KB\n",
            "Test Loss: 1.3616, Test Acc: 0.5594, Test Latency: 5.43s, Test Memory Usage: 194.0KB\n",
            "\n",
            "Epoch 132\n"
          ]
        },
        {
          "name": "stderr",
          "output_type": "stream",
          "text": [
            "Train: 100%|##########| 391/391 [00:43<00:00,  9.04batch/s]\n"
          ]
        },
        {
          "name": "stdout",
          "output_type": "stream",
          "text": [
            "LR: 1.0000e-03, Train Loss: 1.0978, Train Acc: 0.6138, Train Latency: 43.28s, Memory Usage: 3119.0KB\n",
            "Test Loss: 1.6893, Test Acc: 0.4816, Test Latency: 5.26s, Test Memory Usage: 194.0KB\n",
            "\n",
            "Epoch 133\n"
          ]
        },
        {
          "name": "stderr",
          "output_type": "stream",
          "text": [
            "Train: 100%|##########| 391/391 [00:43<00:00,  9.05batch/s]\n"
          ]
        },
        {
          "name": "stdout",
          "output_type": "stream",
          "text": [
            "LR: 1.0000e-03, Train Loss: 1.0976, Train Acc: 0.6153, Train Latency: 43.23s, Memory Usage: 3119.0KB\n",
            "Test Loss: 1.3069, Test Acc: 0.5531, Test Latency: 5.34s, Test Memory Usage: 194.0KB\n",
            "\n",
            "Epoch 134\n"
          ]
        },
        {
          "name": "stderr",
          "output_type": "stream",
          "text": [
            "Train: 100%|##########| 391/391 [00:43<00:00,  9.06batch/s]\n"
          ]
        },
        {
          "name": "stdout",
          "output_type": "stream",
          "text": [
            "LR: 1.0000e-03, Train Loss: 1.1084, Train Acc: 0.6119, Train Latency: 43.16s, Memory Usage: 3119.0KB\n",
            "Test Loss: 1.9273, Test Acc: 0.4228, Test Latency: 5.33s, Test Memory Usage: 194.0KB\n",
            "\n",
            "Epoch 135\n"
          ]
        },
        {
          "name": "stderr",
          "output_type": "stream",
          "text": [
            "Train: 100%|##########| 391/391 [00:43<00:00,  9.02batch/s]\n"
          ]
        },
        {
          "name": "stdout",
          "output_type": "stream",
          "text": [
            "LR: 1.0000e-03, Train Loss: 1.0960, Train Acc: 0.6165, Train Latency: 43.37s, Memory Usage: 3119.0KB\n",
            "Test Loss: 2.0199, Test Acc: 0.3665, Test Latency: 5.31s, Test Memory Usage: 194.0KB\n",
            "\n",
            "Epoch 136\n"
          ]
        },
        {
          "name": "stderr",
          "output_type": "stream",
          "text": [
            "Train: 100%|##########| 391/391 [00:43<00:00,  8.99batch/s]\n"
          ]
        },
        {
          "name": "stdout",
          "output_type": "stream",
          "text": [
            "LR: 1.0000e-03, Train Loss: 1.1082, Train Acc: 0.6088, Train Latency: 43.48s, Memory Usage: 3119.0KB\n",
            "Test Loss: 1.2072, Test Acc: 0.5709, Test Latency: 5.54s, Test Memory Usage: 194.0KB\n",
            "\n",
            "Epoch 137\n"
          ]
        },
        {
          "name": "stderr",
          "output_type": "stream",
          "text": [
            "Train: 100%|##########| 391/391 [00:44<00:00,  8.84batch/s]\n"
          ]
        },
        {
          "name": "stdout",
          "output_type": "stream",
          "text": [
            "LR: 1.0000e-03, Train Loss: 1.1034, Train Acc: 0.6107, Train Latency: 44.25s, Memory Usage: 3119.0KB\n",
            "Test Loss: 1.5259, Test Acc: 0.4782, Test Latency: 5.50s, Test Memory Usage: 194.0KB\n",
            "\n",
            "Epoch 138\n"
          ]
        },
        {
          "name": "stderr",
          "output_type": "stream",
          "text": [
            "Train: 100%|##########| 391/391 [00:44<00:00,  8.76batch/s]\n"
          ]
        },
        {
          "name": "stdout",
          "output_type": "stream",
          "text": [
            "LR: 1.0000e-03, Train Loss: 1.1009, Train Acc: 0.6138, Train Latency: 44.65s, Memory Usage: 3119.0KB\n",
            "Test Loss: 2.0545, Test Acc: 0.4247, Test Latency: 5.51s, Test Memory Usage: 194.0KB\n",
            "\n",
            "Epoch 139\n"
          ]
        },
        {
          "name": "stderr",
          "output_type": "stream",
          "text": [
            "Train: 100%|##########| 391/391 [00:44<00:00,  8.72batch/s]\n"
          ]
        },
        {
          "name": "stdout",
          "output_type": "stream",
          "text": [
            "LR: 1.0000e-03, Train Loss: 1.1155, Train Acc: 0.6104, Train Latency: 44.82s, Memory Usage: 3119.0KB\n",
            "Test Loss: 1.5210, Test Acc: 0.5456, Test Latency: 5.45s, Test Memory Usage: 194.0KB\n",
            "\n",
            "Epoch 140\n"
          ]
        },
        {
          "name": "stderr",
          "output_type": "stream",
          "text": [
            "Train: 100%|##########| 391/391 [00:44<00:00,  8.83batch/s]\n"
          ]
        },
        {
          "name": "stdout",
          "output_type": "stream",
          "text": [
            "LR: 1.0000e-03, Train Loss: 1.0931, Train Acc: 0.6153, Train Latency: 44.27s, Memory Usage: 3119.0KB\n",
            "Test Loss: 2.0183, Test Acc: 0.3632, Test Latency: 5.48s, Test Memory Usage: 194.0KB\n",
            "\n",
            "Epoch 141\n"
          ]
        },
        {
          "name": "stderr",
          "output_type": "stream",
          "text": [
            "Train: 100%|##########| 391/391 [00:44<00:00,  8.84batch/s]\n"
          ]
        },
        {
          "name": "stdout",
          "output_type": "stream",
          "text": [
            "LR: 1.0000e-03, Train Loss: 1.1035, Train Acc: 0.6117, Train Latency: 44.25s, Memory Usage: 3119.0KB\n",
            "Test Loss: 1.2014, Test Acc: 0.5772, Test Latency: 5.54s, Test Memory Usage: 194.0KB\n",
            "\n",
            "Epoch 142\n"
          ]
        },
        {
          "name": "stderr",
          "output_type": "stream",
          "text": [
            "Train: 100%|##########| 391/391 [00:44<00:00,  8.82batch/s]\n"
          ]
        },
        {
          "name": "stdout",
          "output_type": "stream",
          "text": [
            "LR: 1.0000e-03, Train Loss: 1.0979, Train Acc: 0.6121, Train Latency: 44.35s, Memory Usage: 3119.0KB\n",
            "Test Loss: 1.7108, Test Acc: 0.4841, Test Latency: 5.48s, Test Memory Usage: 194.0KB\n",
            "\n",
            "Epoch 143\n"
          ]
        },
        {
          "name": "stderr",
          "output_type": "stream",
          "text": [
            "Train: 100%|##########| 391/391 [00:44<00:00,  8.85batch/s]\n"
          ]
        },
        {
          "name": "stdout",
          "output_type": "stream",
          "text": [
            "LR: 1.0000e-03, Train Loss: 1.0916, Train Acc: 0.6172, Train Latency: 44.21s, Memory Usage: 3119.0KB\n",
            "Test Loss: 1.4450, Test Acc: 0.5431, Test Latency: 5.38s, Test Memory Usage: 194.0KB\n",
            "\n",
            "Epoch 144\n"
          ]
        },
        {
          "name": "stderr",
          "output_type": "stream",
          "text": [
            "Train: 100%|##########| 391/391 [00:44<00:00,  8.78batch/s]\n"
          ]
        },
        {
          "name": "stdout",
          "output_type": "stream",
          "text": [
            "LR: 1.0000e-03, Train Loss: 1.1065, Train Acc: 0.6134, Train Latency: 44.56s, Memory Usage: 3119.0KB\n",
            "Test Loss: 1.5216, Test Acc: 0.4867, Test Latency: 5.49s, Test Memory Usage: 194.0KB\n",
            "\n",
            "Epoch 145\n"
          ]
        },
        {
          "name": "stderr",
          "output_type": "stream",
          "text": [
            "Train: 100%|##########| 391/391 [00:44<00:00,  8.82batch/s]\n"
          ]
        },
        {
          "name": "stdout",
          "output_type": "stream",
          "text": [
            "LR: 1.0000e-03, Train Loss: 1.1097, Train Acc: 0.6102, Train Latency: 44.34s, Memory Usage: 3119.0KB\n",
            "Test Loss: 1.7072, Test Acc: 0.4976, Test Latency: 5.53s, Test Memory Usage: 194.0KB\n",
            "\n",
            "Epoch 146\n"
          ]
        },
        {
          "name": "stderr",
          "output_type": "stream",
          "text": [
            "Train: 100%|##########| 391/391 [00:44<00:00,  8.85batch/s]\n"
          ]
        },
        {
          "name": "stdout",
          "output_type": "stream",
          "text": [
            "LR: 1.0000e-03, Train Loss: 1.0942, Train Acc: 0.6158, Train Latency: 44.16s, Memory Usage: 3119.0KB\n",
            "Test Loss: 3.3370, Test Acc: 0.2564, Test Latency: 5.51s, Test Memory Usage: 194.0KB\n",
            "\n",
            "Epoch 147\n"
          ]
        },
        {
          "name": "stderr",
          "output_type": "stream",
          "text": [
            "Train: 100%|##########| 391/391 [00:44<00:00,  8.85batch/s]\n"
          ]
        },
        {
          "name": "stdout",
          "output_type": "stream",
          "text": [
            "LR: 1.0000e-03, Train Loss: 1.1060, Train Acc: 0.6126, Train Latency: 44.21s, Memory Usage: 3119.0KB\n",
            "Test Loss: 1.4621, Test Acc: 0.4792, Test Latency: 5.38s, Test Memory Usage: 194.0KB\n",
            "\n",
            "Epoch 148\n"
          ]
        },
        {
          "name": "stderr",
          "output_type": "stream",
          "text": [
            "Train: 100%|##########| 391/391 [00:44<00:00,  8.83batch/s]\n"
          ]
        },
        {
          "name": "stdout",
          "output_type": "stream",
          "text": [
            "LR: 1.0000e-03, Train Loss: 1.1205, Train Acc: 0.6059, Train Latency: 44.30s, Memory Usage: 3119.0KB\n",
            "Test Loss: 1.4286, Test Acc: 0.4955, Test Latency: 5.46s, Test Memory Usage: 194.0KB\n",
            "\n",
            "Epoch 149\n"
          ]
        },
        {
          "name": "stderr",
          "output_type": "stream",
          "text": [
            "Train: 100%|##########| 391/391 [00:44<00:00,  8.83batch/s]\n"
          ]
        },
        {
          "name": "stdout",
          "output_type": "stream",
          "text": [
            "LR: 1.0000e-03, Train Loss: 1.1310, Train Acc: 0.6021, Train Latency: 44.29s, Memory Usage: 3119.0KB\n",
            "Test Loss: 1.5860, Test Acc: 0.4799, Test Latency: 5.47s, Test Memory Usage: 194.0KB\n",
            "\n",
            "Epoch 150\n"
          ]
        },
        {
          "name": "stderr",
          "output_type": "stream",
          "text": [
            "Train: 100%|##########| 391/391 [00:44<00:00,  8.84batch/s]\n"
          ]
        },
        {
          "name": "stdout",
          "output_type": "stream",
          "text": [
            "LR: 1.0000e-03, Train Loss: 1.1364, Train Acc: 0.6004, Train Latency: 44.26s, Memory Usage: 3119.0KB\n",
            "Test Loss: 1.2038, Test Acc: 0.5766, Test Latency: 5.55s, Test Memory Usage: 194.0KB\n",
            "\n",
            "Epoch 151\n"
          ]
        },
        {
          "name": "stderr",
          "output_type": "stream",
          "text": [
            "Train: 100%|##########| 391/391 [00:44<00:00,  8.86batch/s]\n"
          ]
        },
        {
          "name": "stdout",
          "output_type": "stream",
          "text": [
            "LR: 1.0000e-04, Train Loss: 1.0319, Train Acc: 0.6372, Train Latency: 44.16s, Memory Usage: 3119.0KB\n",
            "Test Loss: 1.1674, Test Acc: 0.5930, Test Latency: 5.38s, Test Memory Usage: 194.0KB\n",
            "\n",
            "Epoch 152\n"
          ]
        },
        {
          "name": "stderr",
          "output_type": "stream",
          "text": [
            "Train: 100%|##########| 391/391 [00:44<00:00,  8.84batch/s]\n"
          ]
        },
        {
          "name": "stdout",
          "output_type": "stream",
          "text": [
            "LR: 1.0000e-04, Train Loss: 1.0297, Train Acc: 0.6371, Train Latency: 44.22s, Memory Usage: 3119.0KB\n",
            "Test Loss: 2.6841, Test Acc: 0.3689, Test Latency: 5.53s, Test Memory Usage: 194.0KB\n",
            "\n",
            "Epoch 153\n"
          ]
        },
        {
          "name": "stderr",
          "output_type": "stream",
          "text": [
            "Train: 100%|##########| 391/391 [00:44<00:00,  8.84batch/s]\n"
          ]
        },
        {
          "name": "stdout",
          "output_type": "stream",
          "text": [
            "LR: 1.0000e-04, Train Loss: 1.0479, Train Acc: 0.6327, Train Latency: 44.22s, Memory Usage: 3119.0KB\n",
            "Test Loss: 1.9682, Test Acc: 0.3975, Test Latency: 5.49s, Test Memory Usage: 194.0KB\n",
            "\n",
            "Epoch 154\n"
          ]
        },
        {
          "name": "stderr",
          "output_type": "stream",
          "text": [
            "Train: 100%|##########| 391/391 [00:44<00:00,  8.82batch/s]\n"
          ]
        },
        {
          "name": "stdout",
          "output_type": "stream",
          "text": [
            "LR: 1.0000e-04, Train Loss: 1.0626, Train Acc: 0.6286, Train Latency: 44.34s, Memory Usage: 3119.0KB\n",
            "Test Loss: 1.4790, Test Acc: 0.5315, Test Latency: 5.55s, Test Memory Usage: 194.0KB\n",
            "\n",
            "Epoch 155\n"
          ]
        },
        {
          "name": "stderr",
          "output_type": "stream",
          "text": [
            "Train: 100%|##########| 391/391 [00:44<00:00,  8.85batch/s]\n"
          ]
        },
        {
          "name": "stdout",
          "output_type": "stream",
          "text": [
            "LR: 1.0000e-04, Train Loss: 1.0651, Train Acc: 0.6260, Train Latency: 44.16s, Memory Usage: 3119.0KB\n",
            "Test Loss: 2.3112, Test Acc: 0.2472, Test Latency: 5.35s, Test Memory Usage: 194.0KB\n",
            "\n",
            "Epoch 156\n"
          ]
        },
        {
          "name": "stderr",
          "output_type": "stream",
          "text": [
            "Train: 100%|##########| 391/391 [00:44<00:00,  8.83batch/s]\n"
          ]
        },
        {
          "name": "stdout",
          "output_type": "stream",
          "text": [
            "LR: 1.0000e-04, Train Loss: 1.0669, Train Acc: 0.6248, Train Latency: 44.31s, Memory Usage: 3119.0KB\n",
            "Test Loss: 1.2466, Test Acc: 0.5803, Test Latency: 5.46s, Test Memory Usage: 194.0KB\n",
            "\n",
            "Epoch 157\n"
          ]
        },
        {
          "name": "stderr",
          "output_type": "stream",
          "text": [
            "Train: 100%|##########| 391/391 [00:44<00:00,  8.82batch/s]\n"
          ]
        },
        {
          "name": "stdout",
          "output_type": "stream",
          "text": [
            "LR: 1.0000e-04, Train Loss: 1.0735, Train Acc: 0.6228, Train Latency: 44.33s, Memory Usage: 3119.0KB\n",
            "Test Loss: 1.1712, Test Acc: 0.5975, Test Latency: 5.52s, Test Memory Usage: 194.0KB\n",
            "\n",
            "Epoch 158\n"
          ]
        },
        {
          "name": "stderr",
          "output_type": "stream",
          "text": [
            "Train: 100%|##########| 391/391 [00:44<00:00,  8.83batch/s]\n"
          ]
        },
        {
          "name": "stdout",
          "output_type": "stream",
          "text": [
            "LR: 1.0000e-04, Train Loss: 1.0774, Train Acc: 0.6228, Train Latency: 44.28s, Memory Usage: 3119.0KB\n",
            "Test Loss: 1.3906, Test Acc: 0.5301, Test Latency: 5.51s, Test Memory Usage: 194.0KB\n",
            "\n",
            "Epoch 159\n"
          ]
        },
        {
          "name": "stderr",
          "output_type": "stream",
          "text": [
            "Train: 100%|##########| 391/391 [00:44<00:00,  8.85batch/s]\n"
          ]
        },
        {
          "name": "stdout",
          "output_type": "stream",
          "text": [
            "LR: 1.0000e-04, Train Loss: 1.0905, Train Acc: 0.6182, Train Latency: 44.19s, Memory Usage: 3119.0KB\n",
            "Test Loss: 1.9005, Test Acc: 0.4153, Test Latency: 5.40s, Test Memory Usage: 194.0KB\n",
            "\n",
            "Epoch 160\n"
          ]
        },
        {
          "name": "stderr",
          "output_type": "stream",
          "text": [
            "Train: 100%|##########| 391/391 [00:44<00:00,  8.81batch/s]\n"
          ]
        },
        {
          "name": "stdout",
          "output_type": "stream",
          "text": [
            "LR: 1.0000e-04, Train Loss: 1.1058, Train Acc: 0.6116, Train Latency: 44.40s, Memory Usage: 3119.0KB\n",
            "Test Loss: 1.7608, Test Acc: 0.5063, Test Latency: 5.50s, Test Memory Usage: 194.0KB\n",
            "\n",
            "Epoch 161\n"
          ]
        },
        {
          "name": "stderr",
          "output_type": "stream",
          "text": [
            "Train: 100%|##########| 391/391 [00:44<00:00,  8.82batch/s]\n"
          ]
        },
        {
          "name": "stdout",
          "output_type": "stream",
          "text": [
            "LR: 1.0000e-04, Train Loss: 1.1129, Train Acc: 0.6101, Train Latency: 44.34s, Memory Usage: 3119.0KB\n",
            "Test Loss: 2.3728, Test Acc: 0.3388, Test Latency: 5.55s, Test Memory Usage: 194.0KB\n",
            "\n",
            "Epoch 162\n"
          ]
        },
        {
          "name": "stderr",
          "output_type": "stream",
          "text": [
            "Train: 100%|##########| 391/391 [00:44<00:00,  8.79batch/s]\n"
          ]
        },
        {
          "name": "stdout",
          "output_type": "stream",
          "text": [
            "LR: 1.0000e-04, Train Loss: 1.1609, Train Acc: 0.5928, Train Latency: 44.51s, Memory Usage: 3119.0KB\n",
            "Test Loss: 1.8629, Test Acc: 0.4456, Test Latency: 5.55s, Test Memory Usage: 194.0KB\n",
            "\n",
            "Epoch 163\n"
          ]
        },
        {
          "name": "stderr",
          "output_type": "stream",
          "text": [
            "Train: 100%|##########| 391/391 [00:44<00:00,  8.85batch/s]\n"
          ]
        },
        {
          "name": "stdout",
          "output_type": "stream",
          "text": [
            "LR: 1.0000e-04, Train Loss: 1.1606, Train Acc: 0.5925, Train Latency: 44.20s, Memory Usage: 3119.0KB\n",
            "Test Loss: 1.2341, Test Acc: 0.5718, Test Latency: 5.46s, Test Memory Usage: 194.0KB\n",
            "\n",
            "Epoch 164\n"
          ]
        },
        {
          "name": "stderr",
          "output_type": "stream",
          "text": [
            "Train: 100%|##########| 391/391 [00:44<00:00,  8.80batch/s]\n"
          ]
        },
        {
          "name": "stdout",
          "output_type": "stream",
          "text": [
            "LR: 1.0000e-04, Train Loss: 1.1433, Train Acc: 0.6001, Train Latency: 44.44s, Memory Usage: 3119.0KB\n",
            "Test Loss: 1.3275, Test Acc: 0.5378, Test Latency: 5.50s, Test Memory Usage: 194.0KB\n",
            "\n",
            "Epoch 165\n"
          ]
        },
        {
          "name": "stderr",
          "output_type": "stream",
          "text": [
            "Train: 100%|##########| 391/391 [00:44<00:00,  8.83batch/s]\n"
          ]
        },
        {
          "name": "stdout",
          "output_type": "stream",
          "text": [
            "LR: 1.0000e-04, Train Loss: 1.1038, Train Acc: 0.6171, Train Latency: 44.27s, Memory Usage: 3119.0KB\n",
            "Test Loss: 1.8466, Test Acc: 0.3663, Test Latency: 5.54s, Test Memory Usage: 194.0KB\n",
            "\n",
            "Epoch 166\n"
          ]
        },
        {
          "name": "stderr",
          "output_type": "stream",
          "text": [
            "Train: 100%|##########| 391/391 [00:44<00:00,  8.80batch/s]\n"
          ]
        },
        {
          "name": "stdout",
          "output_type": "stream",
          "text": [
            "LR: 1.0000e-04, Train Loss: 1.1946, Train Acc: 0.5839, Train Latency: 44.43s, Memory Usage: 3119.0KB\n",
            "Test Loss: 1.4837, Test Acc: 0.4982, Test Latency: 5.53s, Test Memory Usage: 194.0KB\n",
            "\n",
            "Epoch 167\n"
          ]
        },
        {
          "name": "stderr",
          "output_type": "stream",
          "text": [
            "Train: 100%|##########| 391/391 [00:44<00:00,  8.77batch/s]\n"
          ]
        },
        {
          "name": "stdout",
          "output_type": "stream",
          "text": [
            "LR: 1.0000e-04, Train Loss: 1.3511, Train Acc: 0.5259, Train Latency: 44.61s, Memory Usage: 3119.0KB\n",
            "Test Loss: 1.1644, Test Acc: 0.5953, Test Latency: 5.42s, Test Memory Usage: 194.0KB\n",
            "\n",
            "Epoch 168\n"
          ]
        },
        {
          "name": "stderr",
          "output_type": "stream",
          "text": [
            "Train: 100%|##########| 391/391 [00:44<00:00,  8.82batch/s]\n"
          ]
        },
        {
          "name": "stdout",
          "output_type": "stream",
          "text": [
            "LR: 1.0000e-04, Train Loss: 1.0740, Train Acc: 0.6209, Train Latency: 44.32s, Memory Usage: 3119.0KB\n",
            "Test Loss: 1.3079, Test Acc: 0.5576, Test Latency: 5.49s, Test Memory Usage: 194.0KB\n",
            "\n",
            "Epoch 169\n"
          ]
        },
        {
          "name": "stderr",
          "output_type": "stream",
          "text": [
            "Train: 100%|##########| 391/391 [00:44<00:00,  8.83batch/s]\n"
          ]
        },
        {
          "name": "stdout",
          "output_type": "stream",
          "text": [
            "LR: 1.0000e-04, Train Loss: 1.1689, Train Acc: 0.5909, Train Latency: 44.27s, Memory Usage: 3119.0KB\n",
            "Test Loss: 1.8740, Test Acc: 0.3216, Test Latency: 5.53s, Test Memory Usage: 194.0KB\n",
            "\n",
            "Epoch 170\n"
          ]
        },
        {
          "name": "stderr",
          "output_type": "stream",
          "text": [
            "Train: 100%|##########| 391/391 [00:44<00:00,  8.82batch/s]\n"
          ]
        },
        {
          "name": "stdout",
          "output_type": "stream",
          "text": [
            "LR: 1.0000e-04, Train Loss: 1.1034, Train Acc: 0.6116, Train Latency: 44.32s, Memory Usage: 3119.0KB\n",
            "Test Loss: 2.1513, Test Acc: 0.3152, Test Latency: 5.48s, Test Memory Usage: 194.0KB\n",
            "\n",
            "Epoch 171\n"
          ]
        },
        {
          "name": "stderr",
          "output_type": "stream",
          "text": [
            "Train: 100%|##########| 391/391 [00:44<00:00,  8.84batch/s]\n"
          ]
        },
        {
          "name": "stdout",
          "output_type": "stream",
          "text": [
            "LR: 1.0000e-04, Train Loss: 1.3849, Train Acc: 0.5147, Train Latency: 44.21s, Memory Usage: 3119.0KB\n",
            "Test Loss: 1.8701, Test Acc: 0.3609, Test Latency: 5.51s, Test Memory Usage: 194.0KB\n",
            "\n",
            "Epoch 172\n"
          ]
        },
        {
          "name": "stderr",
          "output_type": "stream",
          "text": [
            "Train: 100%|##########| 391/391 [00:44<00:00,  8.81batch/s]\n"
          ]
        },
        {
          "name": "stdout",
          "output_type": "stream",
          "text": [
            "LR: 1.0000e-04, Train Loss: 1.3598, Train Acc: 0.5225, Train Latency: 44.39s, Memory Usage: 3119.0KB\n",
            "Test Loss: 1.8948, Test Acc: 0.4420, Test Latency: 5.53s, Test Memory Usage: 194.0KB\n",
            "\n",
            "Epoch 173\n"
          ]
        },
        {
          "name": "stderr",
          "output_type": "stream",
          "text": [
            "Train: 100%|##########| 391/391 [00:44<00:00,  8.81batch/s]\n"
          ]
        },
        {
          "name": "stdout",
          "output_type": "stream",
          "text": [
            "LR: 1.0000e-04, Train Loss: 1.1761, Train Acc: 0.5899, Train Latency: 44.37s, Memory Usage: 3119.0KB\n",
            "Test Loss: 1.4195, Test Acc: 0.5241, Test Latency: 5.47s, Test Memory Usage: 194.0KB\n",
            "\n",
            "Epoch 174\n"
          ]
        },
        {
          "name": "stderr",
          "output_type": "stream",
          "text": [
            "Train: 100%|##########| 391/391 [00:44<00:00,  8.82batch/s]\n"
          ]
        },
        {
          "name": "stdout",
          "output_type": "stream",
          "text": [
            "LR: 1.0000e-04, Train Loss: 1.1231, Train Acc: 0.6074, Train Latency: 44.32s, Memory Usage: 3119.0KB\n",
            "Test Loss: 1.4949, Test Acc: 0.4637, Test Latency: 5.45s, Test Memory Usage: 194.0KB\n",
            "\n",
            "Epoch 175\n"
          ]
        },
        {
          "name": "stderr",
          "output_type": "stream",
          "text": [
            "Train: 100%|##########| 391/391 [00:44<00:00,  8.84batch/s]\n"
          ]
        },
        {
          "name": "stdout",
          "output_type": "stream",
          "text": [
            "LR: 1.0000e-04, Train Loss: 1.1337, Train Acc: 0.6040, Train Latency: 44.24s, Memory Usage: 3119.0KB\n",
            "Test Loss: 1.2148, Test Acc: 0.5865, Test Latency: 5.51s, Test Memory Usage: 194.0KB\n",
            "\n",
            "Epoch 176\n"
          ]
        },
        {
          "name": "stderr",
          "output_type": "stream",
          "text": [
            "Train: 100%|##########| 391/391 [00:44<00:00,  8.83batch/s]\n"
          ]
        },
        {
          "name": "stdout",
          "output_type": "stream",
          "text": [
            "LR: 1.0000e-04, Train Loss: 1.1316, Train Acc: 0.6033, Train Latency: 44.28s, Memory Usage: 3119.0KB\n",
            "Test Loss: 1.0745, Test Acc: 0.6210, Test Latency: 5.53s, Test Memory Usage: 194.0KB\n",
            "Saving best model ...\n",
            "\n",
            "Epoch 177\n"
          ]
        },
        {
          "name": "stderr",
          "output_type": "stream",
          "text": [
            "Train: 100%|##########| 391/391 [00:44<00:00,  8.82batch/s]\n"
          ]
        },
        {
          "name": "stdout",
          "output_type": "stream",
          "text": [
            "LR: 1.0000e-04, Train Loss: 1.1907, Train Acc: 0.5814, Train Latency: 44.32s, Memory Usage: 3119.0KB\n",
            "Test Loss: 1.4691, Test Acc: 0.4874, Test Latency: 5.50s, Test Memory Usage: 194.0KB\n",
            "\n",
            "Epoch 178\n"
          ]
        },
        {
          "name": "stderr",
          "output_type": "stream",
          "text": [
            "Train: 100%|##########| 391/391 [00:44<00:00,  8.81batch/s]\n"
          ]
        },
        {
          "name": "stdout",
          "output_type": "stream",
          "text": [
            "LR: 1.0000e-04, Train Loss: 1.1784, Train Acc: 0.5917, Train Latency: 44.40s, Memory Usage: 3119.0KB\n",
            "Test Loss: 1.6547, Test Acc: 0.3919, Test Latency: 5.48s, Test Memory Usage: 194.0KB\n",
            "\n",
            "Epoch 179\n"
          ]
        },
        {
          "name": "stderr",
          "output_type": "stream",
          "text": [
            "Train: 100%|##########| 391/391 [00:44<00:00,  8.85batch/s]\n"
          ]
        },
        {
          "name": "stdout",
          "output_type": "stream",
          "text": [
            "LR: 1.0000e-04, Train Loss: 1.2315, Train Acc: 0.5694, Train Latency: 44.20s, Memory Usage: 3119.0KB\n",
            "Test Loss: 1.3134, Test Acc: 0.5418, Test Latency: 5.52s, Test Memory Usage: 194.0KB\n",
            "\n",
            "Epoch 180\n"
          ]
        },
        {
          "name": "stderr",
          "output_type": "stream",
          "text": [
            "Train: 100%|##########| 391/391 [00:44<00:00,  8.83batch/s]\n"
          ]
        },
        {
          "name": "stdout",
          "output_type": "stream",
          "text": [
            "LR: 1.0000e-04, Train Loss: 1.1636, Train Acc: 0.5905, Train Latency: 44.31s, Memory Usage: 3119.0KB\n",
            "Test Loss: 1.5807, Test Acc: 0.4640, Test Latency: 5.53s, Test Memory Usage: 194.0KB\n",
            "\n",
            "Epoch 181\n"
          ]
        },
        {
          "name": "stderr",
          "output_type": "stream",
          "text": [
            "Train: 100%|##########| 391/391 [00:44<00:00,  8.82batch/s]\n"
          ]
        },
        {
          "name": "stdout",
          "output_type": "stream",
          "text": [
            "LR: 1.0000e-04, Train Loss: 1.2566, Train Acc: 0.5596, Train Latency: 44.33s, Memory Usage: 3119.0KB\n",
            "Test Loss: 1.6404, Test Acc: 0.5075, Test Latency: 5.50s, Test Memory Usage: 194.0KB\n",
            "\n",
            "Epoch 182\n"
          ]
        },
        {
          "name": "stderr",
          "output_type": "stream",
          "text": [
            "Train: 100%|##########| 391/391 [00:44<00:00,  8.84batch/s]\n"
          ]
        },
        {
          "name": "stdout",
          "output_type": "stream",
          "text": [
            "LR: 1.0000e-04, Train Loss: 1.4325, Train Acc: 0.4975, Train Latency: 44.25s, Memory Usage: 3119.0KB\n",
            "Test Loss: 1.8025, Test Acc: 0.4406, Test Latency: 5.46s, Test Memory Usage: 194.0KB\n",
            "\n",
            "Epoch 183\n"
          ]
        },
        {
          "name": "stderr",
          "output_type": "stream",
          "text": [
            "Train: 100%|##########| 391/391 [00:44<00:00,  8.83batch/s]\n"
          ]
        },
        {
          "name": "stdout",
          "output_type": "stream",
          "text": [
            "LR: 1.0000e-04, Train Loss: 1.0803, Train Acc: 0.6193, Train Latency: 44.30s, Memory Usage: 3119.0KB\n",
            "Test Loss: 1.3023, Test Acc: 0.5612, Test Latency: 5.55s, Test Memory Usage: 194.0KB\n",
            "\n",
            "Epoch 184\n"
          ]
        },
        {
          "name": "stderr",
          "output_type": "stream",
          "text": [
            "Train: 100%|##########| 391/391 [00:44<00:00,  8.83batch/s]\n"
          ]
        },
        {
          "name": "stdout",
          "output_type": "stream",
          "text": [
            "LR: 1.0000e-04, Train Loss: 1.1728, Train Acc: 0.5857, Train Latency: 44.28s, Memory Usage: 3119.0KB\n",
            "Test Loss: 1.4442, Test Acc: 0.5195, Test Latency: 5.51s, Test Memory Usage: 194.0KB\n",
            "\n",
            "Epoch 185\n"
          ]
        },
        {
          "name": "stderr",
          "output_type": "stream",
          "text": [
            "Train: 100%|##########| 391/391 [00:44<00:00,  8.82batch/s]\n"
          ]
        },
        {
          "name": "stdout",
          "output_type": "stream",
          "text": [
            "LR: 1.0000e-04, Train Loss: 1.2070, Train Acc: 0.5765, Train Latency: 44.34s, Memory Usage: 3119.0KB\n",
            "Test Loss: 1.8919, Test Acc: 0.4081, Test Latency: 5.51s, Test Memory Usage: 194.0KB\n",
            "\n",
            "Epoch 186\n"
          ]
        },
        {
          "name": "stderr",
          "output_type": "stream",
          "text": [
            "Train: 100%|##########| 391/391 [00:44<00:00,  8.80batch/s]\n"
          ]
        },
        {
          "name": "stdout",
          "output_type": "stream",
          "text": [
            "LR: 1.0000e-04, Train Loss: 1.2320, Train Acc: 0.5685, Train Latency: 44.45s, Memory Usage: 3119.0KB\n",
            "Test Loss: 1.2522, Test Acc: 0.5581, Test Latency: 5.46s, Test Memory Usage: 194.0KB\n",
            "\n",
            "Epoch 187\n"
          ]
        },
        {
          "name": "stderr",
          "output_type": "stream",
          "text": [
            "Train: 100%|##########| 391/391 [00:44<00:00,  8.84batch/s]\n"
          ]
        },
        {
          "name": "stdout",
          "output_type": "stream",
          "text": [
            "LR: 1.0000e-04, Train Loss: 1.0968, Train Acc: 0.6159, Train Latency: 44.25s, Memory Usage: 3119.0KB\n",
            "Test Loss: 1.3163, Test Acc: 0.5629, Test Latency: 5.54s, Test Memory Usage: 194.0KB\n",
            "\n",
            "Epoch 188\n"
          ]
        },
        {
          "name": "stderr",
          "output_type": "stream",
          "text": [
            "Train: 100%|##########| 391/391 [00:44<00:00,  8.84batch/s]\n"
          ]
        },
        {
          "name": "stdout",
          "output_type": "stream",
          "text": [
            "LR: 1.0000e-04, Train Loss: 1.0941, Train Acc: 0.6154, Train Latency: 44.23s, Memory Usage: 3119.0KB\n",
            "Test Loss: 1.2579, Test Acc: 0.5638, Test Latency: 5.55s, Test Memory Usage: 194.0KB\n",
            "\n",
            "Epoch 189\n"
          ]
        },
        {
          "name": "stderr",
          "output_type": "stream",
          "text": [
            "Train: 100%|##########| 391/391 [00:44<00:00,  8.84batch/s]\n"
          ]
        },
        {
          "name": "stdout",
          "output_type": "stream",
          "text": [
            "LR: 1.0000e-04, Train Loss: 1.1272, Train Acc: 0.6034, Train Latency: 44.25s, Memory Usage: 3119.0KB\n",
            "Test Loss: 1.1425, Test Acc: 0.5933, Test Latency: 5.50s, Test Memory Usage: 194.0KB\n",
            "\n",
            "Epoch 190\n"
          ]
        },
        {
          "name": "stderr",
          "output_type": "stream",
          "text": [
            "Train: 100%|##########| 391/391 [00:44<00:00,  8.82batch/s]\n"
          ]
        },
        {
          "name": "stdout",
          "output_type": "stream",
          "text": [
            "LR: 1.0000e-04, Train Loss: 1.0937, Train Acc: 0.6176, Train Latency: 44.33s, Memory Usage: 3119.0KB\n",
            "Test Loss: 1.3292, Test Acc: 0.5303, Test Latency: 5.45s, Test Memory Usage: 194.0KB\n",
            "\n",
            "Epoch 191\n"
          ]
        },
        {
          "name": "stderr",
          "output_type": "stream",
          "text": [
            "Train: 100%|##########| 391/391 [00:44<00:00,  8.85batch/s]\n"
          ]
        },
        {
          "name": "stdout",
          "output_type": "stream",
          "text": [
            "LR: 1.0000e-04, Train Loss: 1.0865, Train Acc: 0.6211, Train Latency: 44.21s, Memory Usage: 3119.0KB\n",
            "Test Loss: 1.0696, Test Acc: 0.6277, Test Latency: 5.52s, Test Memory Usage: 194.0KB\n",
            "Saving best model ...\n",
            "\n",
            "Epoch 192\n"
          ]
        },
        {
          "name": "stderr",
          "output_type": "stream",
          "text": [
            "Train: 100%|##########| 391/391 [00:44<00:00,  8.83batch/s]\n"
          ]
        },
        {
          "name": "stdout",
          "output_type": "stream",
          "text": [
            "LR: 1.0000e-04, Train Loss: 1.1024, Train Acc: 0.6160, Train Latency: 44.29s, Memory Usage: 3119.0KB\n",
            "Test Loss: 1.4998, Test Acc: 0.5025, Test Latency: 5.50s, Test Memory Usage: 194.0KB\n",
            "\n",
            "Epoch 193\n"
          ]
        },
        {
          "name": "stderr",
          "output_type": "stream",
          "text": [
            "Train: 100%|##########| 391/391 [00:44<00:00,  8.80batch/s]\n"
          ]
        },
        {
          "name": "stdout",
          "output_type": "stream",
          "text": [
            "LR: 1.0000e-04, Train Loss: 1.1418, Train Acc: 0.6010, Train Latency: 44.44s, Memory Usage: 3119.0KB\n",
            "Test Loss: 1.4329, Test Acc: 0.5191, Test Latency: 5.48s, Test Memory Usage: 194.0KB\n",
            "\n",
            "Epoch 194\n"
          ]
        },
        {
          "name": "stderr",
          "output_type": "stream",
          "text": [
            "Train: 100%|##########| 391/391 [00:44<00:00,  8.81batch/s]\n"
          ]
        },
        {
          "name": "stdout",
          "output_type": "stream",
          "text": [
            "LR: 1.0000e-04, Train Loss: 1.3533, Train Acc: 0.5230, Train Latency: 44.40s, Memory Usage: 3119.0KB\n",
            "Test Loss: 1.2690, Test Acc: 0.5590, Test Latency: 5.41s, Test Memory Usage: 194.0KB\n",
            "\n",
            "Epoch 195\n"
          ]
        },
        {
          "name": "stderr",
          "output_type": "stream",
          "text": [
            "Train: 100%|##########| 391/391 [00:44<00:00,  8.85batch/s]\n"
          ]
        },
        {
          "name": "stdout",
          "output_type": "stream",
          "text": [
            "LR: 1.0000e-04, Train Loss: 1.0836, Train Acc: 0.6211, Train Latency: 44.17s, Memory Usage: 3119.0KB\n",
            "Test Loss: 1.1056, Test Acc: 0.6219, Test Latency: 5.46s, Test Memory Usage: 194.0KB\n",
            "\n",
            "Epoch 196\n"
          ]
        },
        {
          "name": "stderr",
          "output_type": "stream",
          "text": [
            "Train: 100%|##########| 391/391 [00:43<00:00,  8.93batch/s]\n"
          ]
        },
        {
          "name": "stdout",
          "output_type": "stream",
          "text": [
            "LR: 1.0000e-04, Train Loss: 1.0906, Train Acc: 0.6175, Train Latency: 43.77s, Memory Usage: 3119.0KB\n",
            "Test Loss: 3.0539, Test Acc: 0.2885, Test Latency: 5.30s, Test Memory Usage: 194.0KB\n",
            "\n",
            "Epoch 197\n"
          ]
        },
        {
          "name": "stderr",
          "output_type": "stream",
          "text": [
            "Train: 100%|##########| 391/391 [00:42<00:00,  9.13batch/s]\n"
          ]
        },
        {
          "name": "stdout",
          "output_type": "stream",
          "text": [
            "LR: 1.0000e-04, Train Loss: 1.1318, Train Acc: 0.6029, Train Latency: 42.83s, Memory Usage: 3119.0KB\n",
            "Test Loss: 2.6663, Test Acc: 0.3494, Test Latency: 5.32s, Test Memory Usage: 194.0KB\n",
            "\n",
            "Epoch 198\n"
          ]
        },
        {
          "name": "stderr",
          "output_type": "stream",
          "text": [
            "Train: 100%|##########| 391/391 [00:43<00:00,  9.08batch/s]\n"
          ]
        },
        {
          "name": "stdout",
          "output_type": "stream",
          "text": [
            "LR: 1.0000e-04, Train Loss: 1.0460, Train Acc: 0.6355, Train Latency: 43.07s, Memory Usage: 3119.0KB\n",
            "Test Loss: 2.1055, Test Acc: 0.2998, Test Latency: 5.29s, Test Memory Usage: 194.0KB\n",
            "\n",
            "Epoch 199\n"
          ]
        },
        {
          "name": "stderr",
          "output_type": "stream",
          "text": [
            "Train: 100%|##########| 391/391 [00:43<00:00,  9.06batch/s]\n"
          ]
        },
        {
          "name": "stdout",
          "output_type": "stream",
          "text": [
            "LR: 1.0000e-04, Train Loss: 1.0823, Train Acc: 0.6220, Train Latency: 43.16s, Memory Usage: 3119.0KB\n",
            "Test Loss: 3.3100, Test Acc: 0.2721, Test Latency: 5.25s, Test Memory Usage: 194.0KB\n",
            "\n",
            "Epoch 200\n"
          ]
        },
        {
          "name": "stderr",
          "output_type": "stream",
          "text": [
            "Train: 100%|##########| 391/391 [00:43<00:00,  9.09batch/s]\n"
          ]
        },
        {
          "name": "stdout",
          "output_type": "stream",
          "text": [
            "LR: 1.0000e-04, Train Loss: 1.1117, Train Acc: 0.6125, Train Latency: 43.02s, Memory Usage: 3119.0KB\n",
            "Test Loss: 1.3198, Test Acc: 0.5663, Test Latency: 5.31s, Test Memory Usage: 194.0KB\n",
            "Saving final epoch model ...\n",
            "\n",
            "Quantization: weight=1 activation=3, Using device: cuda\n",
            "\n",
            "Epoch 1\n"
          ]
        },
        {
          "name": "stderr",
          "output_type": "stream",
          "text": [
            "Train: 100%|##########| 391/391 [00:48<00:00,  8.07batch/s]\n"
          ]
        },
        {
          "name": "stdout",
          "output_type": "stream",
          "text": [
            "LR: 1.0000e-01, Train Loss: 1.8449, Train Acc: 0.3119, Train Latency: 48.47s, Memory Usage: 3119.0KB\n",
            "Test Loss: 1.5756, Test Acc: 0.4147, Test Latency: 6.40s, Test Memory Usage: 194.0KB\n",
            "\n",
            "Epoch 2\n"
          ]
        },
        {
          "name": "stderr",
          "output_type": "stream",
          "text": [
            "Train: 100%|##########| 391/391 [00:48<00:00,  8.03batch/s]\n"
          ]
        },
        {
          "name": "stdout",
          "output_type": "stream",
          "text": [
            "LR: 1.0000e-01, Train Loss: 1.5531, Train Acc: 0.4274, Train Latency: 48.69s, Memory Usage: 3119.0KB\n",
            "Test Loss: 1.5939, Test Acc: 0.4298, Test Latency: 6.45s, Test Memory Usage: 194.0KB\n",
            "\n",
            "Epoch 3\n"
          ]
        },
        {
          "name": "stderr",
          "output_type": "stream",
          "text": [
            "Train: 100%|##########| 391/391 [00:48<00:00,  8.03batch/s]\n"
          ]
        },
        {
          "name": "stdout",
          "output_type": "stream",
          "text": [
            "LR: 1.0000e-01, Train Loss: 1.4184, Train Acc: 0.4854, Train Latency: 48.72s, Memory Usage: 3119.0KB\n",
            "Test Loss: 1.5611, Test Acc: 0.4558, Test Latency: 6.45s, Test Memory Usage: 194.0KB\n",
            "\n",
            "Epoch 4\n"
          ]
        },
        {
          "name": "stderr",
          "output_type": "stream",
          "text": [
            "Train: 100%|##########| 391/391 [00:48<00:00,  8.01batch/s]\n"
          ]
        },
        {
          "name": "stdout",
          "output_type": "stream",
          "text": [
            "LR: 1.0000e-01, Train Loss: 1.2911, Train Acc: 0.5349, Train Latency: 48.79s, Memory Usage: 3119.0KB\n",
            "Test Loss: 1.4316, Test Acc: 0.4851, Test Latency: 6.45s, Test Memory Usage: 194.0KB\n",
            "\n",
            "Epoch 5\n"
          ]
        },
        {
          "name": "stderr",
          "output_type": "stream",
          "text": [
            "Train: 100%|##########| 391/391 [00:49<00:00,  7.97batch/s]\n"
          ]
        },
        {
          "name": "stdout",
          "output_type": "stream",
          "text": [
            "LR: 1.0000e-01, Train Loss: 1.1872, Train Acc: 0.5743, Train Latency: 49.06s, Memory Usage: 3119.0KB\n",
            "Test Loss: 1.3366, Test Acc: 0.5436, Test Latency: 6.48s, Test Memory Usage: 194.0KB\n",
            "\n",
            "Epoch 6\n"
          ]
        },
        {
          "name": "stderr",
          "output_type": "stream",
          "text": [
            "Train: 100%|##########| 391/391 [00:48<00:00,  8.00batch/s]\n"
          ]
        },
        {
          "name": "stdout",
          "output_type": "stream",
          "text": [
            "LR: 1.0000e-01, Train Loss: 1.0936, Train Acc: 0.6134, Train Latency: 48.90s, Memory Usage: 3119.0KB\n",
            "Test Loss: 1.2406, Test Acc: 0.5807, Test Latency: 6.47s, Test Memory Usage: 194.0KB\n",
            "\n",
            "Epoch 7\n"
          ]
        },
        {
          "name": "stderr",
          "output_type": "stream",
          "text": [
            "Train: 100%|##########| 391/391 [00:48<00:00,  7.98batch/s]\n"
          ]
        },
        {
          "name": "stdout",
          "output_type": "stream",
          "text": [
            "LR: 1.0000e-01, Train Loss: 1.0134, Train Acc: 0.6408, Train Latency: 48.98s, Memory Usage: 3119.0KB\n",
            "Test Loss: 1.6838, Test Acc: 0.4948, Test Latency: 6.54s, Test Memory Usage: 194.0KB\n",
            "\n",
            "Epoch 8\n"
          ]
        },
        {
          "name": "stderr",
          "output_type": "stream",
          "text": [
            "Train: 100%|##########| 391/391 [00:49<00:00,  7.96batch/s]\n"
          ]
        },
        {
          "name": "stdout",
          "output_type": "stream",
          "text": [
            "LR: 1.0000e-01, Train Loss: 0.9674, Train Acc: 0.6639, Train Latency: 49.10s, Memory Usage: 3119.0KB\n",
            "Test Loss: 1.1263, Test Acc: 0.6057, Test Latency: 6.51s, Test Memory Usage: 194.0KB\n",
            "\n",
            "Epoch 9\n"
          ]
        },
        {
          "name": "stderr",
          "output_type": "stream",
          "text": [
            "Train: 100%|##########| 391/391 [00:49<00:00,  7.93batch/s]\n"
          ]
        },
        {
          "name": "stdout",
          "output_type": "stream",
          "text": [
            "LR: 1.0000e-01, Train Loss: 0.9404, Train Acc: 0.6707, Train Latency: 49.29s, Memory Usage: 3119.0KB\n",
            "Test Loss: 1.2107, Test Acc: 0.5823, Test Latency: 6.53s, Test Memory Usage: 194.0KB\n",
            "\n",
            "Epoch 10\n"
          ]
        },
        {
          "name": "stderr",
          "output_type": "stream",
          "text": [
            "Train: 100%|##########| 391/391 [00:49<00:00,  7.97batch/s]\n"
          ]
        },
        {
          "name": "stdout",
          "output_type": "stream",
          "text": [
            "LR: 1.0000e-01, Train Loss: 0.9072, Train Acc: 0.6835, Train Latency: 49.06s, Memory Usage: 3119.0KB\n",
            "Test Loss: 1.3486, Test Acc: 0.5760, Test Latency: 6.52s, Test Memory Usage: 194.0KB\n",
            "\n",
            "Epoch 11\n"
          ]
        },
        {
          "name": "stderr",
          "output_type": "stream",
          "text": [
            "Train: 100%|##########| 391/391 [00:49<00:00,  7.97batch/s]\n"
          ]
        },
        {
          "name": "stdout",
          "output_type": "stream",
          "text": [
            "LR: 1.0000e-01, Train Loss: 0.8963, Train Acc: 0.6892, Train Latency: 49.08s, Memory Usage: 3119.0KB\n",
            "Test Loss: 1.7503, Test Acc: 0.5115, Test Latency: 6.52s, Test Memory Usage: 194.0KB\n",
            "\n",
            "Epoch 12\n"
          ]
        },
        {
          "name": "stderr",
          "output_type": "stream",
          "text": [
            "Train: 100%|##########| 391/391 [00:49<00:00,  7.96batch/s]\n"
          ]
        },
        {
          "name": "stdout",
          "output_type": "stream",
          "text": [
            "LR: 1.0000e-01, Train Loss: 0.8820, Train Acc: 0.6946, Train Latency: 49.15s, Memory Usage: 3119.0KB\n",
            "Test Loss: 0.9872, Test Acc: 0.6569, Test Latency: 6.48s, Test Memory Usage: 194.0KB\n",
            "\n",
            "Epoch 13\n"
          ]
        },
        {
          "name": "stderr",
          "output_type": "stream",
          "text": [
            "Train: 100%|##########| 391/391 [00:49<00:00,  7.96batch/s]\n"
          ]
        },
        {
          "name": "stdout",
          "output_type": "stream",
          "text": [
            "LR: 1.0000e-01, Train Loss: 0.8831, Train Acc: 0.6946, Train Latency: 49.10s, Memory Usage: 3119.0KB\n",
            "Test Loss: 2.6809, Test Acc: 0.4174, Test Latency: 6.53s, Test Memory Usage: 194.0KB\n",
            "\n",
            "Epoch 14\n"
          ]
        },
        {
          "name": "stderr",
          "output_type": "stream",
          "text": [
            "Train: 100%|##########| 391/391 [00:49<00:00,  7.97batch/s]\n"
          ]
        },
        {
          "name": "stdout",
          "output_type": "stream",
          "text": [
            "LR: 1.0000e-01, Train Loss: 0.8712, Train Acc: 0.6967, Train Latency: 49.07s, Memory Usage: 3119.0KB\n",
            "Test Loss: 1.0321, Test Acc: 0.6560, Test Latency: 6.52s, Test Memory Usage: 194.0KB\n",
            "\n",
            "Epoch 15\n"
          ]
        },
        {
          "name": "stderr",
          "output_type": "stream",
          "text": [
            "Train: 100%|##########| 391/391 [00:49<00:00,  7.96batch/s]\n"
          ]
        },
        {
          "name": "stdout",
          "output_type": "stream",
          "text": [
            "LR: 1.0000e-01, Train Loss: 0.8596, Train Acc: 0.7031, Train Latency: 49.11s, Memory Usage: 3119.0KB\n",
            "Test Loss: 1.2180, Test Acc: 0.5949, Test Latency: 6.53s, Test Memory Usage: 194.0KB\n",
            "\n",
            "Epoch 16\n"
          ]
        },
        {
          "name": "stderr",
          "output_type": "stream",
          "text": [
            "Train: 100%|##########| 391/391 [00:49<00:00,  7.96batch/s]\n"
          ]
        },
        {
          "name": "stdout",
          "output_type": "stream",
          "text": [
            "LR: 1.0000e-01, Train Loss: 0.8672, Train Acc: 0.7002, Train Latency: 49.10s, Memory Usage: 3119.0KB\n",
            "Test Loss: 1.0371, Test Acc: 0.6471, Test Latency: 6.50s, Test Memory Usage: 194.0KB\n",
            "\n",
            "Epoch 17\n"
          ]
        },
        {
          "name": "stderr",
          "output_type": "stream",
          "text": [
            "Train: 100%|##########| 391/391 [00:49<00:00,  7.95batch/s]\n"
          ]
        },
        {
          "name": "stdout",
          "output_type": "stream",
          "text": [
            "LR: 1.0000e-01, Train Loss: 0.8539, Train Acc: 0.7017, Train Latency: 49.17s, Memory Usage: 3119.0KB\n",
            "Test Loss: 1.5109, Test Acc: 0.5625, Test Latency: 6.54s, Test Memory Usage: 194.0KB\n",
            "\n",
            "Epoch 18\n"
          ]
        },
        {
          "name": "stderr",
          "output_type": "stream",
          "text": [
            "Train: 100%|##########| 391/391 [00:49<00:00,  7.93batch/s]\n"
          ]
        },
        {
          "name": "stdout",
          "output_type": "stream",
          "text": [
            "LR: 1.0000e-01, Train Loss: 0.8547, Train Acc: 0.7054, Train Latency: 49.29s, Memory Usage: 3119.0KB\n",
            "Test Loss: 2.3923, Test Acc: 0.4103, Test Latency: 6.48s, Test Memory Usage: 194.0KB\n",
            "\n",
            "Epoch 19\n"
          ]
        },
        {
          "name": "stderr",
          "output_type": "stream",
          "text": [
            "Train: 100%|##########| 391/391 [00:48<00:00,  8.00batch/s]\n"
          ]
        },
        {
          "name": "stdout",
          "output_type": "stream",
          "text": [
            "LR: 1.0000e-01, Train Loss: 0.8539, Train Acc: 0.7060, Train Latency: 48.89s, Memory Usage: 3119.0KB\n",
            "Test Loss: 0.9956, Test Acc: 0.6656, Test Latency: 6.50s, Test Memory Usage: 194.0KB\n",
            "\n",
            "Epoch 20\n"
          ]
        },
        {
          "name": "stderr",
          "output_type": "stream",
          "text": [
            "Train: 100%|##########| 391/391 [00:48<00:00,  8.02batch/s]\n"
          ]
        },
        {
          "name": "stdout",
          "output_type": "stream",
          "text": [
            "LR: 1.0000e-01, Train Loss: 0.8531, Train Acc: 0.7043, Train Latency: 48.75s, Memory Usage: 3119.0KB\n",
            "Test Loss: 0.9910, Test Acc: 0.6605, Test Latency: 6.52s, Test Memory Usage: 194.0KB\n",
            "\n",
            "Epoch 21\n"
          ]
        },
        {
          "name": "stderr",
          "output_type": "stream",
          "text": [
            "Train: 100%|##########| 391/391 [00:49<00:00,  7.95batch/s]\n"
          ]
        },
        {
          "name": "stdout",
          "output_type": "stream",
          "text": [
            "LR: 1.0000e-01, Train Loss: 0.8543, Train Acc: 0.7038, Train Latency: 49.17s, Memory Usage: 3119.0KB\n",
            "Test Loss: 0.9440, Test Acc: 0.6699, Test Latency: 6.54s, Test Memory Usage: 194.0KB\n",
            "\n",
            "Epoch 22\n"
          ]
        },
        {
          "name": "stderr",
          "output_type": "stream",
          "text": [
            "Train: 100%|##########| 391/391 [00:49<00:00,  7.93batch/s]\n"
          ]
        },
        {
          "name": "stdout",
          "output_type": "stream",
          "text": [
            "LR: 1.0000e-01, Train Loss: 0.8627, Train Acc: 0.7005, Train Latency: 49.30s, Memory Usage: 3119.0KB\n",
            "Test Loss: 2.2604, Test Acc: 0.4525, Test Latency: 6.51s, Test Memory Usage: 194.0KB\n",
            "\n",
            "Epoch 23\n"
          ]
        },
        {
          "name": "stderr",
          "output_type": "stream",
          "text": [
            "Train: 100%|##########| 391/391 [00:49<00:00,  7.97batch/s]\n"
          ]
        },
        {
          "name": "stdout",
          "output_type": "stream",
          "text": [
            "LR: 1.0000e-01, Train Loss: 0.8590, Train Acc: 0.7029, Train Latency: 49.09s, Memory Usage: 3119.0KB\n",
            "Test Loss: 1.6291, Test Acc: 0.5240, Test Latency: 6.53s, Test Memory Usage: 194.0KB\n",
            "\n",
            "Epoch 24\n"
          ]
        },
        {
          "name": "stderr",
          "output_type": "stream",
          "text": [
            "Train: 100%|##########| 391/391 [00:49<00:00,  7.92batch/s]\n"
          ]
        },
        {
          "name": "stdout",
          "output_type": "stream",
          "text": [
            "LR: 1.0000e-01, Train Loss: 0.8499, Train Acc: 0.7065, Train Latency: 49.39s, Memory Usage: 3119.0KB\n",
            "Test Loss: 1.2228, Test Acc: 0.5885, Test Latency: 6.52s, Test Memory Usage: 194.0KB\n",
            "\n",
            "Epoch 25\n"
          ]
        },
        {
          "name": "stderr",
          "output_type": "stream",
          "text": [
            "Train: 100%|##########| 391/391 [00:48<00:00,  7.98batch/s]\n"
          ]
        },
        {
          "name": "stdout",
          "output_type": "stream",
          "text": [
            "LR: 1.0000e-01, Train Loss: 0.8636, Train Acc: 0.7017, Train Latency: 49.00s, Memory Usage: 3119.0KB\n",
            "Test Loss: 1.3709, Test Acc: 0.5829, Test Latency: 6.51s, Test Memory Usage: 194.0KB\n",
            "\n",
            "Epoch 26\n"
          ]
        },
        {
          "name": "stderr",
          "output_type": "stream",
          "text": [
            "Train: 100%|##########| 391/391 [00:49<00:00,  7.94batch/s]\n"
          ]
        },
        {
          "name": "stdout",
          "output_type": "stream",
          "text": [
            "LR: 1.0000e-01, Train Loss: 0.8537, Train Acc: 0.7048, Train Latency: 49.23s, Memory Usage: 3119.0KB\n",
            "Test Loss: 1.4371, Test Acc: 0.5740, Test Latency: 6.49s, Test Memory Usage: 194.0KB\n",
            "\n",
            "Epoch 27\n"
          ]
        },
        {
          "name": "stderr",
          "output_type": "stream",
          "text": [
            "Train: 100%|##########| 391/391 [00:49<00:00,  7.95batch/s]\n"
          ]
        },
        {
          "name": "stdout",
          "output_type": "stream",
          "text": [
            "LR: 1.0000e-01, Train Loss: 0.8571, Train Acc: 0.7045, Train Latency: 49.17s, Memory Usage: 3119.0KB\n",
            "Test Loss: 1.3584, Test Acc: 0.5407, Test Latency: 6.54s, Test Memory Usage: 194.0KB\n",
            "\n",
            "Epoch 28\n"
          ]
        },
        {
          "name": "stderr",
          "output_type": "stream",
          "text": [
            "Train: 100%|##########| 391/391 [00:49<00:00,  7.96batch/s]\n"
          ]
        },
        {
          "name": "stdout",
          "output_type": "stream",
          "text": [
            "LR: 1.0000e-01, Train Loss: 0.8655, Train Acc: 0.7029, Train Latency: 49.12s, Memory Usage: 3119.0KB\n",
            "Test Loss: 1.3704, Test Acc: 0.5704, Test Latency: 6.51s, Test Memory Usage: 194.0KB\n",
            "\n",
            "Epoch 29\n"
          ]
        },
        {
          "name": "stderr",
          "output_type": "stream",
          "text": [
            "Train: 100%|##########| 391/391 [00:49<00:00,  7.96batch/s]\n"
          ]
        },
        {
          "name": "stdout",
          "output_type": "stream",
          "text": [
            "LR: 1.0000e-01, Train Loss: 0.8404, Train Acc: 0.7084, Train Latency: 49.15s, Memory Usage: 3119.0KB\n",
            "Test Loss: 1.3897, Test Acc: 0.5629, Test Latency: 6.51s, Test Memory Usage: 194.0KB\n",
            "\n",
            "Epoch 30\n"
          ]
        },
        {
          "name": "stderr",
          "output_type": "stream",
          "text": [
            "Train: 100%|##########| 391/391 [00:49<00:00,  7.95batch/s]\n"
          ]
        },
        {
          "name": "stdout",
          "output_type": "stream",
          "text": [
            "LR: 1.0000e-01, Train Loss: 0.8517, Train Acc: 0.7050, Train Latency: 49.19s, Memory Usage: 3119.0KB\n",
            "Test Loss: 1.2185, Test Acc: 0.6249, Test Latency: 6.55s, Test Memory Usage: 194.0KB\n",
            "\n",
            "Epoch 31\n"
          ]
        },
        {
          "name": "stderr",
          "output_type": "stream",
          "text": [
            "Train: 100%|##########| 391/391 [00:49<00:00,  7.97batch/s]\n"
          ]
        },
        {
          "name": "stdout",
          "output_type": "stream",
          "text": [
            "LR: 1.0000e-01, Train Loss: 0.8524, Train Acc: 0.7053, Train Latency: 49.07s, Memory Usage: 3119.0KB\n",
            "Test Loss: 1.0632, Test Acc: 0.6478, Test Latency: 6.50s, Test Memory Usage: 194.0KB\n",
            "\n",
            "Epoch 32\n"
          ]
        },
        {
          "name": "stderr",
          "output_type": "stream",
          "text": [
            "Train: 100%|##########| 391/391 [00:48<00:00,  7.99batch/s]\n"
          ]
        },
        {
          "name": "stdout",
          "output_type": "stream",
          "text": [
            "LR: 1.0000e-01, Train Loss: 0.8503, Train Acc: 0.7085, Train Latency: 48.95s, Memory Usage: 3119.0KB\n",
            "Test Loss: 1.0795, Test Acc: 0.6294, Test Latency: 6.50s, Test Memory Usage: 194.0KB\n",
            "\n",
            "Epoch 33\n"
          ]
        },
        {
          "name": "stderr",
          "output_type": "stream",
          "text": [
            "Train: 100%|##########| 391/391 [00:49<00:00,  7.97batch/s]\n"
          ]
        },
        {
          "name": "stdout",
          "output_type": "stream",
          "text": [
            "LR: 1.0000e-01, Train Loss: 0.8523, Train Acc: 0.7058, Train Latency: 49.04s, Memory Usage: 3119.0KB\n",
            "Test Loss: 1.3089, Test Acc: 0.6052, Test Latency: 6.55s, Test Memory Usage: 194.0KB\n",
            "\n",
            "Epoch 34\n"
          ]
        },
        {
          "name": "stderr",
          "output_type": "stream",
          "text": [
            "Train: 100%|##########| 391/391 [00:49<00:00,  7.96batch/s]\n"
          ]
        },
        {
          "name": "stdout",
          "output_type": "stream",
          "text": [
            "LR: 1.0000e-01, Train Loss: 0.8618, Train Acc: 0.7028, Train Latency: 49.13s, Memory Usage: 3119.0KB\n",
            "Test Loss: 1.2012, Test Acc: 0.6112, Test Latency: 6.51s, Test Memory Usage: 194.0KB\n",
            "\n",
            "Epoch 35\n"
          ]
        },
        {
          "name": "stderr",
          "output_type": "stream",
          "text": [
            "Train: 100%|##########| 391/391 [00:49<00:00,  7.96batch/s]\n"
          ]
        },
        {
          "name": "stdout",
          "output_type": "stream",
          "text": [
            "LR: 1.0000e-01, Train Loss: 0.8546, Train Acc: 0.7050, Train Latency: 49.13s, Memory Usage: 3119.0KB\n",
            "Test Loss: 1.3631, Test Acc: 0.5729, Test Latency: 6.52s, Test Memory Usage: 194.0KB\n",
            "\n",
            "Epoch 36\n"
          ]
        },
        {
          "name": "stderr",
          "output_type": "stream",
          "text": [
            "Train: 100%|##########| 391/391 [00:49<00:00,  7.92batch/s]\n"
          ]
        },
        {
          "name": "stdout",
          "output_type": "stream",
          "text": [
            "LR: 1.0000e-01, Train Loss: 0.8491, Train Acc: 0.7059, Train Latency: 49.35s, Memory Usage: 3119.0KB\n",
            "Test Loss: 1.0854, Test Acc: 0.6305, Test Latency: 6.55s, Test Memory Usage: 194.0KB\n",
            "\n",
            "Epoch 37\n"
          ]
        },
        {
          "name": "stderr",
          "output_type": "stream",
          "text": [
            "Train: 100%|##########| 391/391 [00:49<00:00,  7.91batch/s]\n"
          ]
        },
        {
          "name": "stdout",
          "output_type": "stream",
          "text": [
            "LR: 1.0000e-01, Train Loss: 0.8541, Train Acc: 0.7056, Train Latency: 49.45s, Memory Usage: 3119.0KB\n",
            "Test Loss: 1.2880, Test Acc: 0.6010, Test Latency: 6.53s, Test Memory Usage: 194.0KB\n",
            "\n",
            "Epoch 38\n"
          ]
        },
        {
          "name": "stderr",
          "output_type": "stream",
          "text": [
            "Train: 100%|##########| 391/391 [00:49<00:00,  7.94batch/s]\n"
          ]
        },
        {
          "name": "stdout",
          "output_type": "stream",
          "text": [
            "LR: 1.0000e-01, Train Loss: 0.8533, Train Acc: 0.7071, Train Latency: 49.22s, Memory Usage: 3119.0KB\n",
            "Test Loss: 1.1066, Test Acc: 0.6108, Test Latency: 6.56s, Test Memory Usage: 194.0KB\n",
            "\n",
            "Epoch 39\n"
          ]
        },
        {
          "name": "stderr",
          "output_type": "stream",
          "text": [
            "Train: 100%|##########| 391/391 [00:49<00:00,  7.90batch/s]\n"
          ]
        },
        {
          "name": "stdout",
          "output_type": "stream",
          "text": [
            "LR: 1.0000e-01, Train Loss: 0.8613, Train Acc: 0.7030, Train Latency: 49.49s, Memory Usage: 3119.0KB\n",
            "Test Loss: 0.9899, Test Acc: 0.6571, Test Latency: 6.51s, Test Memory Usage: 194.0KB\n",
            "\n",
            "Epoch 40\n"
          ]
        },
        {
          "name": "stderr",
          "output_type": "stream",
          "text": [
            "Train: 100%|##########| 391/391 [00:49<00:00,  7.96batch/s]\n"
          ]
        },
        {
          "name": "stdout",
          "output_type": "stream",
          "text": [
            "LR: 1.0000e-01, Train Loss: 0.8554, Train Acc: 0.7024, Train Latency: 49.10s, Memory Usage: 3119.0KB\n",
            "Test Loss: 1.3264, Test Acc: 0.5747, Test Latency: 6.52s, Test Memory Usage: 194.0KB\n",
            "\n",
            "Epoch 41\n"
          ]
        },
        {
          "name": "stderr",
          "output_type": "stream",
          "text": [
            "Train: 100%|##########| 391/391 [00:49<00:00,  7.93batch/s]\n"
          ]
        },
        {
          "name": "stdout",
          "output_type": "stream",
          "text": [
            "LR: 1.0000e-01, Train Loss: 0.8768, Train Acc: 0.6983, Train Latency: 49.31s, Memory Usage: 3119.0KB\n",
            "Test Loss: 1.1035, Test Acc: 0.6387, Test Latency: 6.51s, Test Memory Usage: 194.0KB\n",
            "\n",
            "Epoch 42\n"
          ]
        },
        {
          "name": "stderr",
          "output_type": "stream",
          "text": [
            "Train: 100%|##########| 391/391 [00:49<00:00,  7.97batch/s]\n"
          ]
        },
        {
          "name": "stdout",
          "output_type": "stream",
          "text": [
            "LR: 1.0000e-01, Train Loss: 0.8538, Train Acc: 0.7032, Train Latency: 49.07s, Memory Usage: 3119.0KB\n",
            "Test Loss: 1.1009, Test Acc: 0.6290, Test Latency: 6.54s, Test Memory Usage: 194.0KB\n",
            "\n",
            "Epoch 43\n"
          ]
        },
        {
          "name": "stderr",
          "output_type": "stream",
          "text": [
            "Train: 100%|##########| 391/391 [00:49<00:00,  7.93batch/s]\n"
          ]
        },
        {
          "name": "stdout",
          "output_type": "stream",
          "text": [
            "LR: 1.0000e-01, Train Loss: 0.8497, Train Acc: 0.7073, Train Latency: 49.33s, Memory Usage: 3119.0KB\n",
            "Test Loss: 1.3511, Test Acc: 0.5834, Test Latency: 6.52s, Test Memory Usage: 194.0KB\n",
            "\n",
            "Epoch 44\n"
          ]
        },
        {
          "name": "stderr",
          "output_type": "stream",
          "text": [
            "Train: 100%|##########| 391/391 [00:49<00:00,  7.92batch/s]\n"
          ]
        },
        {
          "name": "stdout",
          "output_type": "stream",
          "text": [
            "LR: 1.0000e-01, Train Loss: 0.8585, Train Acc: 0.7032, Train Latency: 49.38s, Memory Usage: 3119.0KB\n",
            "Test Loss: 1.7575, Test Acc: 0.5004, Test Latency: 6.53s, Test Memory Usage: 194.0KB\n",
            "\n",
            "Epoch 45\n"
          ]
        },
        {
          "name": "stderr",
          "output_type": "stream",
          "text": [
            "Train: 100%|##########| 391/391 [00:49<00:00,  7.91batch/s]\n"
          ]
        },
        {
          "name": "stdout",
          "output_type": "stream",
          "text": [
            "LR: 1.0000e-01, Train Loss: 0.8587, Train Acc: 0.7044, Train Latency: 49.42s, Memory Usage: 3119.0KB\n",
            "Test Loss: 0.9598, Test Acc: 0.6697, Test Latency: 6.55s, Test Memory Usage: 194.0KB\n",
            "\n",
            "Epoch 46\n"
          ]
        },
        {
          "name": "stderr",
          "output_type": "stream",
          "text": [
            "Train: 100%|##########| 391/391 [00:49<00:00,  7.91batch/s]\n"
          ]
        },
        {
          "name": "stdout",
          "output_type": "stream",
          "text": [
            "LR: 1.0000e-01, Train Loss: 0.8589, Train Acc: 0.7020, Train Latency: 49.41s, Memory Usage: 3119.0KB\n",
            "Test Loss: 1.6046, Test Acc: 0.5050, Test Latency: 6.49s, Test Memory Usage: 194.0KB\n",
            "\n",
            "Epoch 47\n"
          ]
        },
        {
          "name": "stderr",
          "output_type": "stream",
          "text": [
            "Train: 100%|##########| 391/391 [00:49<00:00,  7.95batch/s]\n"
          ]
        },
        {
          "name": "stdout",
          "output_type": "stream",
          "text": [
            "LR: 1.0000e-01, Train Loss: 0.8572, Train Acc: 0.7042, Train Latency: 49.22s, Memory Usage: 3119.0KB\n",
            "Test Loss: 1.0586, Test Acc: 0.6371, Test Latency: 6.53s, Test Memory Usage: 194.0KB\n",
            "\n",
            "Epoch 48\n"
          ]
        },
        {
          "name": "stderr",
          "output_type": "stream",
          "text": [
            "Train: 100%|##########| 391/391 [00:49<00:00,  7.95batch/s]\n"
          ]
        },
        {
          "name": "stdout",
          "output_type": "stream",
          "text": [
            "LR: 1.0000e-01, Train Loss: 0.8687, Train Acc: 0.7000, Train Latency: 49.19s, Memory Usage: 3119.0KB\n",
            "Test Loss: 1.5124, Test Acc: 0.5636, Test Latency: 6.55s, Test Memory Usage: 194.0KB\n",
            "\n",
            "Epoch 49\n"
          ]
        },
        {
          "name": "stderr",
          "output_type": "stream",
          "text": [
            "Train: 100%|##########| 391/391 [00:49<00:00,  7.93batch/s]\n"
          ]
        },
        {
          "name": "stdout",
          "output_type": "stream",
          "text": [
            "LR: 1.0000e-01, Train Loss: 0.8484, Train Acc: 0.7056, Train Latency: 49.29s, Memory Usage: 3119.0KB\n",
            "Test Loss: 1.1624, Test Acc: 0.6206, Test Latency: 6.50s, Test Memory Usage: 194.0KB\n",
            "\n",
            "Epoch 50\n"
          ]
        },
        {
          "name": "stderr",
          "output_type": "stream",
          "text": [
            "Train: 100%|##########| 391/391 [00:49<00:00,  7.96batch/s]\n"
          ]
        },
        {
          "name": "stdout",
          "output_type": "stream",
          "text": [
            "LR: 1.0000e-01, Train Loss: 0.8564, Train Acc: 0.7064, Train Latency: 49.13s, Memory Usage: 3119.0KB\n",
            "Test Loss: 1.3422, Test Acc: 0.5672, Test Latency: 6.51s, Test Memory Usage: 194.0KB\n",
            "\n",
            "Epoch 51\n"
          ]
        },
        {
          "name": "stderr",
          "output_type": "stream",
          "text": [
            "Train: 100%|##########| 391/391 [00:49<00:00,  7.92batch/s]\n"
          ]
        },
        {
          "name": "stdout",
          "output_type": "stream",
          "text": [
            "LR: 1.0000e-02, Train Loss: 0.6753, Train Acc: 0.7668, Train Latency: 49.39s, Memory Usage: 3119.0KB\n",
            "Test Loss: 0.6678, Test Acc: 0.7714, Test Latency: 6.56s, Test Memory Usage: 194.0KB\n",
            "Saving best model ...\n",
            "\n",
            "Epoch 52\n"
          ]
        },
        {
          "name": "stderr",
          "output_type": "stream",
          "text": [
            "Train: 100%|##########| 391/391 [00:49<00:00,  7.90batch/s]\n"
          ]
        },
        {
          "name": "stdout",
          "output_type": "stream",
          "text": [
            "LR: 1.0000e-02, Train Loss: 0.6268, Train Acc: 0.7841, Train Latency: 49.48s, Memory Usage: 3119.0KB\n",
            "Test Loss: 0.7142, Test Acc: 0.7599, Test Latency: 6.51s, Test Memory Usage: 194.0KB\n",
            "\n",
            "Epoch 53\n"
          ]
        },
        {
          "name": "stderr",
          "output_type": "stream",
          "text": [
            "Train: 100%|##########| 391/391 [00:49<00:00,  7.94batch/s]\n"
          ]
        },
        {
          "name": "stdout",
          "output_type": "stream",
          "text": [
            "LR: 1.0000e-02, Train Loss: 0.6077, Train Acc: 0.7907, Train Latency: 49.23s, Memory Usage: 3119.0KB\n",
            "Test Loss: 0.6446, Test Acc: 0.7802, Test Latency: 6.52s, Test Memory Usage: 194.0KB\n",
            "Saving best model ...\n",
            "\n",
            "Epoch 54\n"
          ]
        },
        {
          "name": "stderr",
          "output_type": "stream",
          "text": [
            "Train: 100%|##########| 391/391 [00:48<00:00,  8.00batch/s]\n"
          ]
        },
        {
          "name": "stdout",
          "output_type": "stream",
          "text": [
            "LR: 1.0000e-02, Train Loss: 0.6034, Train Acc: 0.7926, Train Latency: 48.91s, Memory Usage: 3119.0KB\n",
            "Test Loss: 0.6673, Test Acc: 0.7747, Test Latency: 6.49s, Test Memory Usage: 194.0KB\n",
            "\n",
            "Epoch 55\n"
          ]
        },
        {
          "name": "stderr",
          "output_type": "stream",
          "text": [
            "Train: 100%|##########| 391/391 [00:48<00:00,  7.98batch/s]\n"
          ]
        },
        {
          "name": "stdout",
          "output_type": "stream",
          "text": [
            "LR: 1.0000e-02, Train Loss: 0.6014, Train Acc: 0.7931, Train Latency: 48.98s, Memory Usage: 3119.0KB\n",
            "Test Loss: 0.6666, Test Acc: 0.7706, Test Latency: 6.54s, Test Memory Usage: 194.0KB\n",
            "\n",
            "Epoch 56\n"
          ]
        },
        {
          "name": "stderr",
          "output_type": "stream",
          "text": [
            "Train: 100%|##########| 391/391 [00:49<00:00,  7.97batch/s]\n"
          ]
        },
        {
          "name": "stdout",
          "output_type": "stream",
          "text": [
            "LR: 1.0000e-02, Train Loss: 0.5953, Train Acc: 0.7937, Train Latency: 49.08s, Memory Usage: 3119.0KB\n",
            "Test Loss: 0.6990, Test Acc: 0.7637, Test Latency: 6.51s, Test Memory Usage: 194.0KB\n",
            "\n",
            "Epoch 57\n"
          ]
        },
        {
          "name": "stderr",
          "output_type": "stream",
          "text": [
            "Train: 100%|##########| 391/391 [00:49<00:00,  7.86batch/s]\n"
          ]
        },
        {
          "name": "stdout",
          "output_type": "stream",
          "text": [
            "LR: 1.0000e-02, Train Loss: 0.5946, Train Acc: 0.7958, Train Latency: 49.73s, Memory Usage: 3119.0KB\n",
            "Test Loss: 0.6646, Test Acc: 0.7665, Test Latency: 6.67s, Test Memory Usage: 194.0KB\n",
            "\n",
            "Epoch 58\n"
          ]
        },
        {
          "name": "stderr",
          "output_type": "stream",
          "text": [
            "Train: 100%|##########| 391/391 [00:50<00:00,  7.75batch/s]\n"
          ]
        },
        {
          "name": "stdout",
          "output_type": "stream",
          "text": [
            "LR: 1.0000e-02, Train Loss: 0.6004, Train Acc: 0.7925, Train Latency: 50.45s, Memory Usage: 3119.0KB\n",
            "Test Loss: 0.7765, Test Acc: 0.7468, Test Latency: 6.66s, Test Memory Usage: 194.0KB\n",
            "\n",
            "Epoch 59\n"
          ]
        },
        {
          "name": "stderr",
          "output_type": "stream",
          "text": [
            "Train: 100%|##########| 391/391 [00:50<00:00,  7.79batch/s]\n"
          ]
        },
        {
          "name": "stdout",
          "output_type": "stream",
          "text": [
            "LR: 1.0000e-02, Train Loss: 0.5988, Train Acc: 0.7937, Train Latency: 50.19s, Memory Usage: 3119.0KB\n",
            "Test Loss: 0.8198, Test Acc: 0.7242, Test Latency: 6.69s, Test Memory Usage: 194.0KB\n",
            "\n",
            "Epoch 60\n"
          ]
        },
        {
          "name": "stderr",
          "output_type": "stream",
          "text": [
            "Train: 100%|##########| 391/391 [00:50<00:00,  7.76batch/s]\n"
          ]
        },
        {
          "name": "stdout",
          "output_type": "stream",
          "text": [
            "LR: 1.0000e-02, Train Loss: 0.5953, Train Acc: 0.7931, Train Latency: 50.38s, Memory Usage: 3119.0KB\n",
            "Test Loss: 0.8471, Test Acc: 0.7206, Test Latency: 6.65s, Test Memory Usage: 194.0KB\n",
            "\n",
            "Epoch 61\n"
          ]
        },
        {
          "name": "stderr",
          "output_type": "stream",
          "text": [
            "Train: 100%|##########| 391/391 [00:50<00:00,  7.76batch/s]\n"
          ]
        },
        {
          "name": "stdout",
          "output_type": "stream",
          "text": [
            "LR: 1.0000e-02, Train Loss: 0.5968, Train Acc: 0.7938, Train Latency: 50.42s, Memory Usage: 3119.0KB\n",
            "Test Loss: 0.8460, Test Acc: 0.7164, Test Latency: 6.73s, Test Memory Usage: 194.0KB\n",
            "\n",
            "Epoch 62\n"
          ]
        },
        {
          "name": "stderr",
          "output_type": "stream",
          "text": [
            "Train: 100%|##########| 391/391 [00:50<00:00,  7.73batch/s]\n"
          ]
        },
        {
          "name": "stdout",
          "output_type": "stream",
          "text": [
            "LR: 1.0000e-02, Train Loss: 0.5933, Train Acc: 0.7958, Train Latency: 50.55s, Memory Usage: 3119.0KB\n",
            "Test Loss: 0.7636, Test Acc: 0.7456, Test Latency: 6.74s, Test Memory Usage: 194.0KB\n",
            "\n",
            "Epoch 63\n"
          ]
        },
        {
          "name": "stderr",
          "output_type": "stream",
          "text": [
            "Train: 100%|##########| 391/391 [00:50<00:00,  7.67batch/s]\n"
          ]
        },
        {
          "name": "stdout",
          "output_type": "stream",
          "text": [
            "LR: 1.0000e-02, Train Loss: 0.5960, Train Acc: 0.7955, Train Latency: 50.99s, Memory Usage: 3119.0KB\n",
            "Test Loss: 0.7256, Test Acc: 0.7565, Test Latency: 6.67s, Test Memory Usage: 194.0KB\n",
            "\n",
            "Epoch 64\n"
          ]
        },
        {
          "name": "stderr",
          "output_type": "stream",
          "text": [
            "Train: 100%|##########| 391/391 [00:50<00:00,  7.78batch/s]\n"
          ]
        },
        {
          "name": "stdout",
          "output_type": "stream",
          "text": [
            "LR: 1.0000e-02, Train Loss: 0.5980, Train Acc: 0.7943, Train Latency: 50.27s, Memory Usage: 3119.0KB\n",
            "Test Loss: 0.7386, Test Acc: 0.7460, Test Latency: 6.73s, Test Memory Usage: 194.0KB\n",
            "\n",
            "Epoch 65\n"
          ]
        },
        {
          "name": "stderr",
          "output_type": "stream",
          "text": [
            "Train: 100%|##########| 391/391 [00:50<00:00,  7.82batch/s]\n"
          ]
        },
        {
          "name": "stdout",
          "output_type": "stream",
          "text": [
            "LR: 1.0000e-02, Train Loss: 0.6080, Train Acc: 0.7909, Train Latency: 50.02s, Memory Usage: 3119.0KB\n",
            "Test Loss: 0.7059, Test Acc: 0.7573, Test Latency: 6.64s, Test Memory Usage: 194.0KB\n",
            "\n",
            "Epoch 66\n"
          ]
        },
        {
          "name": "stderr",
          "output_type": "stream",
          "text": [
            "Train: 100%|##########| 391/391 [00:49<00:00,  7.89batch/s]\n"
          ]
        },
        {
          "name": "stdout",
          "output_type": "stream",
          "text": [
            "LR: 1.0000e-02, Train Loss: 0.5970, Train Acc: 0.7952, Train Latency: 49.56s, Memory Usage: 3119.0KB\n",
            "Test Loss: 0.7408, Test Acc: 0.7479, Test Latency: 6.55s, Test Memory Usage: 194.0KB\n",
            "\n",
            "Epoch 67\n"
          ]
        },
        {
          "name": "stderr",
          "output_type": "stream",
          "text": [
            "Train: 100%|##########| 391/391 [00:49<00:00,  7.98batch/s]\n"
          ]
        },
        {
          "name": "stdout",
          "output_type": "stream",
          "text": [
            "LR: 1.0000e-02, Train Loss: 0.6025, Train Acc: 0.7926, Train Latency: 49.02s, Memory Usage: 3119.0KB\n",
            "Test Loss: 0.7143, Test Acc: 0.7606, Test Latency: 6.51s, Test Memory Usage: 194.0KB\n",
            "\n",
            "Epoch 68\n"
          ]
        },
        {
          "name": "stderr",
          "output_type": "stream",
          "text": [
            "Train: 100%|##########| 391/391 [00:49<00:00,  7.98batch/s]\n"
          ]
        },
        {
          "name": "stdout",
          "output_type": "stream",
          "text": [
            "LR: 1.0000e-02, Train Loss: 0.6021, Train Acc: 0.7940, Train Latency: 49.03s, Memory Usage: 3119.0KB\n",
            "Test Loss: 0.8401, Test Acc: 0.7240, Test Latency: 6.53s, Test Memory Usage: 194.0KB\n",
            "\n",
            "Epoch 69\n"
          ]
        },
        {
          "name": "stderr",
          "output_type": "stream",
          "text": [
            "Train: 100%|##########| 391/391 [00:48<00:00,  8.00batch/s]\n"
          ]
        },
        {
          "name": "stdout",
          "output_type": "stream",
          "text": [
            "LR: 1.0000e-02, Train Loss: 0.6007, Train Acc: 0.7929, Train Latency: 48.86s, Memory Usage: 3119.0KB\n",
            "Test Loss: 0.7206, Test Acc: 0.7584, Test Latency: 6.51s, Test Memory Usage: 194.0KB\n",
            "\n",
            "Epoch 70\n"
          ]
        },
        {
          "name": "stderr",
          "output_type": "stream",
          "text": [
            "Train: 100%|##########| 391/391 [00:49<00:00,  7.94batch/s]\n"
          ]
        },
        {
          "name": "stdout",
          "output_type": "stream",
          "text": [
            "LR: 1.0000e-02, Train Loss: 0.6001, Train Acc: 0.7939, Train Latency: 49.26s, Memory Usage: 3119.0KB\n",
            "Test Loss: 0.6392, Test Acc: 0.7811, Test Latency: 6.52s, Test Memory Usage: 194.0KB\n",
            "Saving best model ...\n",
            "\n",
            "Epoch 71\n"
          ]
        },
        {
          "name": "stderr",
          "output_type": "stream",
          "text": [
            "Train: 100%|##########| 391/391 [00:48<00:00,  7.98batch/s]\n"
          ]
        },
        {
          "name": "stdout",
          "output_type": "stream",
          "text": [
            "LR: 1.0000e-02, Train Loss: 0.5927, Train Acc: 0.7974, Train Latency: 49.00s, Memory Usage: 3119.0KB\n",
            "Test Loss: 0.7356, Test Acc: 0.7545, Test Latency: 6.51s, Test Memory Usage: 194.0KB\n",
            "\n",
            "Epoch 72\n"
          ]
        },
        {
          "name": "stderr",
          "output_type": "stream",
          "text": [
            "Train: 100%|##########| 391/391 [00:49<00:00,  7.98batch/s]\n"
          ]
        },
        {
          "name": "stdout",
          "output_type": "stream",
          "text": [
            "LR: 1.0000e-02, Train Loss: 0.5933, Train Acc: 0.7951, Train Latency: 49.02s, Memory Usage: 3119.0KB\n",
            "Test Loss: 0.6544, Test Acc: 0.7754, Test Latency: 6.56s, Test Memory Usage: 194.0KB\n",
            "\n",
            "Epoch 73\n"
          ]
        },
        {
          "name": "stderr",
          "output_type": "stream",
          "text": [
            "Train: 100%|##########| 391/391 [00:49<00:00,  7.96batch/s]\n"
          ]
        },
        {
          "name": "stdout",
          "output_type": "stream",
          "text": [
            "LR: 1.0000e-02, Train Loss: 0.5931, Train Acc: 0.7973, Train Latency: 49.10s, Memory Usage: 3119.0KB\n",
            "Test Loss: 0.7129, Test Acc: 0.7623, Test Latency: 6.52s, Test Memory Usage: 194.0KB\n",
            "\n",
            "Epoch 74\n"
          ]
        },
        {
          "name": "stderr",
          "output_type": "stream",
          "text": [
            "Train: 100%|##########| 391/391 [00:49<00:00,  7.94batch/s]\n"
          ]
        },
        {
          "name": "stdout",
          "output_type": "stream",
          "text": [
            "LR: 1.0000e-02, Train Loss: 0.6007, Train Acc: 0.7929, Train Latency: 49.24s, Memory Usage: 3119.0KB\n",
            "Test Loss: 0.8339, Test Acc: 0.7297, Test Latency: 6.55s, Test Memory Usage: 194.0KB\n",
            "\n",
            "Epoch 75\n"
          ]
        },
        {
          "name": "stderr",
          "output_type": "stream",
          "text": [
            "Train: 100%|##########| 391/391 [00:49<00:00,  7.95batch/s]\n"
          ]
        },
        {
          "name": "stdout",
          "output_type": "stream",
          "text": [
            "LR: 1.0000e-02, Train Loss: 0.5964, Train Acc: 0.7942, Train Latency: 49.19s, Memory Usage: 3119.0KB\n",
            "Test Loss: 0.6778, Test Acc: 0.7708, Test Latency: 6.57s, Test Memory Usage: 194.0KB\n",
            "\n",
            "Epoch 76\n"
          ]
        },
        {
          "name": "stderr",
          "output_type": "stream",
          "text": [
            "Train: 100%|##########| 391/391 [00:49<00:00,  7.92batch/s]\n"
          ]
        },
        {
          "name": "stdout",
          "output_type": "stream",
          "text": [
            "LR: 1.0000e-02, Train Loss: 0.5979, Train Acc: 0.7947, Train Latency: 49.37s, Memory Usage: 3119.0KB\n",
            "Test Loss: 0.7335, Test Acc: 0.7553, Test Latency: 6.54s, Test Memory Usage: 194.0KB\n",
            "\n",
            "Epoch 77\n"
          ]
        },
        {
          "name": "stderr",
          "output_type": "stream",
          "text": [
            "Train: 100%|##########| 391/391 [00:49<00:00,  7.91batch/s]\n"
          ]
        },
        {
          "name": "stdout",
          "output_type": "stream",
          "text": [
            "LR: 1.0000e-02, Train Loss: 0.6019, Train Acc: 0.7932, Train Latency: 49.45s, Memory Usage: 3119.0KB\n",
            "Test Loss: 0.7344, Test Acc: 0.7488, Test Latency: 6.58s, Test Memory Usage: 194.0KB\n",
            "\n",
            "Epoch 78\n"
          ]
        },
        {
          "name": "stderr",
          "output_type": "stream",
          "text": [
            "Train: 100%|##########| 391/391 [00:49<00:00,  7.88batch/s]\n"
          ]
        },
        {
          "name": "stdout",
          "output_type": "stream",
          "text": [
            "LR: 1.0000e-02, Train Loss: 0.5957, Train Acc: 0.7967, Train Latency: 49.63s, Memory Usage: 3119.0KB\n",
            "Test Loss: 0.7616, Test Acc: 0.7427, Test Latency: 6.56s, Test Memory Usage: 194.0KB\n",
            "\n",
            "Epoch 79\n"
          ]
        },
        {
          "name": "stderr",
          "output_type": "stream",
          "text": [
            "Train: 100%|##########| 391/391 [00:49<00:00,  7.97batch/s]\n"
          ]
        },
        {
          "name": "stdout",
          "output_type": "stream",
          "text": [
            "LR: 1.0000e-02, Train Loss: 0.6030, Train Acc: 0.7921, Train Latency: 49.09s, Memory Usage: 3119.0KB\n",
            "Test Loss: 0.6576, Test Acc: 0.7730, Test Latency: 6.53s, Test Memory Usage: 194.0KB\n",
            "\n",
            "Epoch 80\n"
          ]
        },
        {
          "name": "stderr",
          "output_type": "stream",
          "text": [
            "Train: 100%|##########| 391/391 [00:49<00:00,  7.93batch/s]\n"
          ]
        },
        {
          "name": "stdout",
          "output_type": "stream",
          "text": [
            "LR: 1.0000e-02, Train Loss: 0.6006, Train Acc: 0.7933, Train Latency: 49.30s, Memory Usage: 3119.0KB\n",
            "Test Loss: 0.6740, Test Acc: 0.7652, Test Latency: 6.57s, Test Memory Usage: 194.0KB\n",
            "\n",
            "Epoch 81\n"
          ]
        },
        {
          "name": "stderr",
          "output_type": "stream",
          "text": [
            "Train: 100%|##########| 391/391 [00:49<00:00,  7.97batch/s]\n"
          ]
        },
        {
          "name": "stdout",
          "output_type": "stream",
          "text": [
            "LR: 1.0000e-02, Train Loss: 0.5903, Train Acc: 0.7958, Train Latency: 49.05s, Memory Usage: 3119.0KB\n",
            "Test Loss: 0.6585, Test Acc: 0.7742, Test Latency: 6.59s, Test Memory Usage: 194.0KB\n",
            "\n",
            "Epoch 82\n"
          ]
        },
        {
          "name": "stderr",
          "output_type": "stream",
          "text": [
            "Train: 100%|##########| 391/391 [00:49<00:00,  7.95batch/s]\n"
          ]
        },
        {
          "name": "stdout",
          "output_type": "stream",
          "text": [
            "LR: 1.0000e-02, Train Loss: 0.5943, Train Acc: 0.7945, Train Latency: 49.21s, Memory Usage: 3119.0KB\n",
            "Test Loss: 0.7544, Test Acc: 0.7472, Test Latency: 6.54s, Test Memory Usage: 194.0KB\n",
            "\n",
            "Epoch 83\n"
          ]
        },
        {
          "name": "stderr",
          "output_type": "stream",
          "text": [
            "Train: 100%|##########| 391/391 [00:48<00:00,  8.00batch/s]\n"
          ]
        },
        {
          "name": "stdout",
          "output_type": "stream",
          "text": [
            "LR: 1.0000e-02, Train Loss: 0.5897, Train Acc: 0.7983, Train Latency: 48.91s, Memory Usage: 3119.0KB\n",
            "Test Loss: 0.7702, Test Acc: 0.7401, Test Latency: 6.52s, Test Memory Usage: 194.0KB\n",
            "\n",
            "Epoch 84\n"
          ]
        },
        {
          "name": "stderr",
          "output_type": "stream",
          "text": [
            "Train: 100%|##########| 391/391 [00:49<00:00,  7.96batch/s]\n"
          ]
        },
        {
          "name": "stdout",
          "output_type": "stream",
          "text": [
            "LR: 1.0000e-02, Train Loss: 0.5865, Train Acc: 0.7978, Train Latency: 49.13s, Memory Usage: 3119.0KB\n",
            "Test Loss: 0.9594, Test Acc: 0.6907, Test Latency: 6.64s, Test Memory Usage: 194.0KB\n",
            "\n",
            "Epoch 85\n"
          ]
        },
        {
          "name": "stderr",
          "output_type": "stream",
          "text": [
            "Train: 100%|##########| 391/391 [00:48<00:00,  8.00batch/s]\n"
          ]
        },
        {
          "name": "stdout",
          "output_type": "stream",
          "text": [
            "LR: 1.0000e-02, Train Loss: 0.5930, Train Acc: 0.7964, Train Latency: 48.90s, Memory Usage: 3119.0KB\n",
            "Test Loss: 0.9147, Test Acc: 0.7045, Test Latency: 6.53s, Test Memory Usage: 194.0KB\n",
            "\n",
            "Epoch 86\n"
          ]
        },
        {
          "name": "stderr",
          "output_type": "stream",
          "text": [
            "Train: 100%|##########| 391/391 [00:49<00:00,  7.96batch/s]\n"
          ]
        },
        {
          "name": "stdout",
          "output_type": "stream",
          "text": [
            "LR: 1.0000e-02, Train Loss: 0.5909, Train Acc: 0.7959, Train Latency: 49.10s, Memory Usage: 3119.0KB\n",
            "Test Loss: 1.0377, Test Acc: 0.6715, Test Latency: 6.53s, Test Memory Usage: 194.0KB\n",
            "\n",
            "Epoch 87\n"
          ]
        },
        {
          "name": "stderr",
          "output_type": "stream",
          "text": [
            "Train: 100%|##########| 391/391 [00:49<00:00,  7.94batch/s]\n"
          ]
        },
        {
          "name": "stdout",
          "output_type": "stream",
          "text": [
            "LR: 1.0000e-02, Train Loss: 0.5858, Train Acc: 0.7972, Train Latency: 49.24s, Memory Usage: 3119.0KB\n",
            "Test Loss: 0.7523, Test Acc: 0.7467, Test Latency: 6.50s, Test Memory Usage: 194.0KB\n",
            "\n",
            "Epoch 88\n"
          ]
        },
        {
          "name": "stderr",
          "output_type": "stream",
          "text": [
            "Train: 100%|##########| 391/391 [00:48<00:00,  7.99batch/s]\n"
          ]
        },
        {
          "name": "stdout",
          "output_type": "stream",
          "text": [
            "LR: 1.0000e-02, Train Loss: 0.5887, Train Acc: 0.7980, Train Latency: 48.92s, Memory Usage: 3119.0KB\n",
            "Test Loss: 0.6580, Test Acc: 0.7753, Test Latency: 6.52s, Test Memory Usage: 194.0KB\n",
            "\n",
            "Epoch 89\n"
          ]
        },
        {
          "name": "stderr",
          "output_type": "stream",
          "text": [
            "Train: 100%|##########| 391/391 [00:48<00:00,  8.01batch/s]\n"
          ]
        },
        {
          "name": "stdout",
          "output_type": "stream",
          "text": [
            "LR: 1.0000e-02, Train Loss: 0.5850, Train Acc: 0.7978, Train Latency: 48.83s, Memory Usage: 3119.0KB\n",
            "Test Loss: 0.7423, Test Acc: 0.7550, Test Latency: 6.57s, Test Memory Usage: 194.0KB\n",
            "\n",
            "Epoch 90\n"
          ]
        },
        {
          "name": "stderr",
          "output_type": "stream",
          "text": [
            "Train: 100%|##########| 391/391 [00:48<00:00,  7.99batch/s]\n"
          ]
        },
        {
          "name": "stdout",
          "output_type": "stream",
          "text": [
            "LR: 1.0000e-02, Train Loss: 0.5862, Train Acc: 0.7965, Train Latency: 48.94s, Memory Usage: 3119.0KB\n",
            "Test Loss: 1.0107, Test Acc: 0.6823, Test Latency: 6.52s, Test Memory Usage: 194.0KB\n",
            "\n",
            "Epoch 91\n"
          ]
        },
        {
          "name": "stderr",
          "output_type": "stream",
          "text": [
            "Train: 100%|##########| 391/391 [00:48<00:00,  7.98batch/s]\n"
          ]
        },
        {
          "name": "stdout",
          "output_type": "stream",
          "text": [
            "LR: 1.0000e-02, Train Loss: 0.5869, Train Acc: 0.7980, Train Latency: 48.99s, Memory Usage: 3119.0KB\n",
            "Test Loss: 0.8253, Test Acc: 0.7375, Test Latency: 6.51s, Test Memory Usage: 194.0KB\n",
            "\n",
            "Epoch 92\n"
          ]
        },
        {
          "name": "stderr",
          "output_type": "stream",
          "text": [
            "Train: 100%|##########| 391/391 [00:48<00:00,  7.98batch/s]\n"
          ]
        },
        {
          "name": "stdout",
          "output_type": "stream",
          "text": [
            "LR: 1.0000e-02, Train Loss: 0.5887, Train Acc: 0.7968, Train Latency: 48.98s, Memory Usage: 3119.0KB\n",
            "Test Loss: 0.8124, Test Acc: 0.7355, Test Latency: 6.53s, Test Memory Usage: 194.0KB\n",
            "\n",
            "Epoch 93\n"
          ]
        },
        {
          "name": "stderr",
          "output_type": "stream",
          "text": [
            "Train: 100%|##########| 391/391 [00:49<00:00,  7.95batch/s]\n"
          ]
        },
        {
          "name": "stdout",
          "output_type": "stream",
          "text": [
            "LR: 1.0000e-02, Train Loss: 0.5914, Train Acc: 0.7960, Train Latency: 49.19s, Memory Usage: 3119.0KB\n",
            "Test Loss: 0.6730, Test Acc: 0.7717, Test Latency: 6.50s, Test Memory Usage: 194.0KB\n",
            "\n",
            "Epoch 94\n"
          ]
        },
        {
          "name": "stderr",
          "output_type": "stream",
          "text": [
            "Train: 100%|##########| 391/391 [00:49<00:00,  7.97batch/s]\n"
          ]
        },
        {
          "name": "stdout",
          "output_type": "stream",
          "text": [
            "LR: 1.0000e-02, Train Loss: 0.5858, Train Acc: 0.7983, Train Latency: 49.07s, Memory Usage: 3119.0KB\n",
            "Test Loss: 0.6842, Test Acc: 0.7642, Test Latency: 6.53s, Test Memory Usage: 194.0KB\n",
            "\n",
            "Epoch 95\n"
          ]
        },
        {
          "name": "stderr",
          "output_type": "stream",
          "text": [
            "Train: 100%|##########| 391/391 [00:49<00:00,  7.98batch/s]\n"
          ]
        },
        {
          "name": "stdout",
          "output_type": "stream",
          "text": [
            "LR: 1.0000e-02, Train Loss: 0.5849, Train Acc: 0.8009, Train Latency: 49.02s, Memory Usage: 3119.0KB\n",
            "Test Loss: 0.7773, Test Acc: 0.7407, Test Latency: 6.49s, Test Memory Usage: 194.0KB\n",
            "\n",
            "Epoch 96\n"
          ]
        },
        {
          "name": "stderr",
          "output_type": "stream",
          "text": [
            "Train: 100%|##########| 391/391 [00:48<00:00,  7.99batch/s]\n"
          ]
        },
        {
          "name": "stdout",
          "output_type": "stream",
          "text": [
            "LR: 1.0000e-02, Train Loss: 0.5858, Train Acc: 0.7990, Train Latency: 48.95s, Memory Usage: 3119.0KB\n",
            "Test Loss: 0.7792, Test Acc: 0.7447, Test Latency: 6.53s, Test Memory Usage: 194.0KB\n",
            "\n",
            "Epoch 97\n"
          ]
        },
        {
          "name": "stderr",
          "output_type": "stream",
          "text": [
            "Train: 100%|##########| 391/391 [00:48<00:00,  7.98batch/s]\n"
          ]
        },
        {
          "name": "stdout",
          "output_type": "stream",
          "text": [
            "LR: 1.0000e-02, Train Loss: 0.5925, Train Acc: 0.7988, Train Latency: 49.00s, Memory Usage: 3119.0KB\n",
            "Test Loss: 0.8393, Test Acc: 0.7304, Test Latency: 6.50s, Test Memory Usage: 194.0KB\n",
            "\n",
            "Epoch 98\n"
          ]
        },
        {
          "name": "stderr",
          "output_type": "stream",
          "text": [
            "Train: 100%|##########| 391/391 [00:49<00:00,  7.97batch/s]\n"
          ]
        },
        {
          "name": "stdout",
          "output_type": "stream",
          "text": [
            "LR: 1.0000e-02, Train Loss: 0.5908, Train Acc: 0.7960, Train Latency: 49.09s, Memory Usage: 3119.0KB\n",
            "Test Loss: 0.6709, Test Acc: 0.7757, Test Latency: 6.54s, Test Memory Usage: 194.0KB\n",
            "\n",
            "Epoch 99\n"
          ]
        },
        {
          "name": "stderr",
          "output_type": "stream",
          "text": [
            "Train: 100%|##########| 391/391 [00:48<00:00,  7.99batch/s]\n"
          ]
        },
        {
          "name": "stdout",
          "output_type": "stream",
          "text": [
            "LR: 1.0000e-02, Train Loss: 0.5788, Train Acc: 0.8006, Train Latency: 48.97s, Memory Usage: 3119.0KB\n",
            "Test Loss: 0.9113, Test Acc: 0.7201, Test Latency: 6.50s, Test Memory Usage: 194.0KB\n",
            "\n",
            "Epoch 100\n"
          ]
        },
        {
          "name": "stderr",
          "output_type": "stream",
          "text": [
            "Train: 100%|##########| 391/391 [00:49<00:00,  7.97batch/s]\n"
          ]
        },
        {
          "name": "stdout",
          "output_type": "stream",
          "text": [
            "LR: 1.0000e-02, Train Loss: 0.5836, Train Acc: 0.8001, Train Latency: 49.04s, Memory Usage: 3119.0KB\n",
            "Test Loss: 0.6995, Test Acc: 0.7601, Test Latency: 6.48s, Test Memory Usage: 194.0KB\n",
            "\n",
            "Epoch 101\n"
          ]
        },
        {
          "name": "stderr",
          "output_type": "stream",
          "text": [
            "Train: 100%|##########| 391/391 [00:48<00:00,  7.99batch/s]\n"
          ]
        },
        {
          "name": "stdout",
          "output_type": "stream",
          "text": [
            "LR: 1.0000e-03, Train Loss: 0.5014, Train Acc: 0.8277, Train Latency: 48.96s, Memory Usage: 3119.0KB\n",
            "Test Loss: 0.5178, Test Acc: 0.8215, Test Latency: 6.47s, Test Memory Usage: 194.0KB\n",
            "Saving best model ...\n",
            "\n",
            "Epoch 102\n"
          ]
        },
        {
          "name": "stderr",
          "output_type": "stream",
          "text": [
            "Train: 100%|##########| 391/391 [00:49<00:00,  7.95batch/s]\n"
          ]
        },
        {
          "name": "stdout",
          "output_type": "stream",
          "text": [
            "LR: 1.0000e-03, Train Loss: 0.4740, Train Acc: 0.8391, Train Latency: 49.17s, Memory Usage: 3119.0KB\n",
            "Test Loss: 0.5295, Test Acc: 0.8198, Test Latency: 6.51s, Test Memory Usage: 194.0KB\n",
            "\n",
            "Epoch 103\n"
          ]
        },
        {
          "name": "stderr",
          "output_type": "stream",
          "text": [
            "Train: 100%|##########| 391/391 [00:49<00:00,  7.97batch/s]\n"
          ]
        },
        {
          "name": "stdout",
          "output_type": "stream",
          "text": [
            "LR: 1.0000e-03, Train Loss: 0.4709, Train Acc: 0.8382, Train Latency: 49.07s, Memory Usage: 3119.0KB\n",
            "Test Loss: 0.5084, Test Acc: 0.8258, Test Latency: 6.49s, Test Memory Usage: 194.0KB\n",
            "Saving best model ...\n",
            "\n",
            "Epoch 104\n"
          ]
        },
        {
          "name": "stderr",
          "output_type": "stream",
          "text": [
            "Train: 100%|##########| 391/391 [00:49<00:00,  7.96batch/s]\n"
          ]
        },
        {
          "name": "stdout",
          "output_type": "stream",
          "text": [
            "LR: 1.0000e-03, Train Loss: 0.4704, Train Acc: 0.8388, Train Latency: 49.10s, Memory Usage: 3119.0KB\n",
            "Test Loss: 0.5160, Test Acc: 0.8209, Test Latency: 6.48s, Test Memory Usage: 194.0KB\n",
            "\n",
            "Epoch 105\n"
          ]
        },
        {
          "name": "stderr",
          "output_type": "stream",
          "text": [
            "Train: 100%|##########| 391/391 [00:49<00:00,  7.97batch/s]\n"
          ]
        },
        {
          "name": "stdout",
          "output_type": "stream",
          "text": [
            "LR: 1.0000e-03, Train Loss: 0.4635, Train Acc: 0.8402, Train Latency: 49.03s, Memory Usage: 3119.0KB\n",
            "Test Loss: 0.5197, Test Acc: 0.8228, Test Latency: 6.50s, Test Memory Usage: 194.0KB\n",
            "\n",
            "Epoch 106\n"
          ]
        },
        {
          "name": "stderr",
          "output_type": "stream",
          "text": [
            "Train: 100%|##########| 391/391 [00:49<00:00,  7.94batch/s]\n"
          ]
        },
        {
          "name": "stdout",
          "output_type": "stream",
          "text": [
            "LR: 1.0000e-03, Train Loss: 0.4670, Train Acc: 0.8398, Train Latency: 49.23s, Memory Usage: 3119.0KB\n",
            "Test Loss: 0.5115, Test Acc: 0.8279, Test Latency: 6.49s, Test Memory Usage: 194.0KB\n",
            "Saving best model ...\n",
            "\n",
            "Epoch 107\n"
          ]
        },
        {
          "name": "stderr",
          "output_type": "stream",
          "text": [
            "Train: 100%|##########| 391/391 [00:49<00:00,  7.96batch/s]\n"
          ]
        },
        {
          "name": "stdout",
          "output_type": "stream",
          "text": [
            "LR: 1.0000e-03, Train Loss: 0.4676, Train Acc: 0.8386, Train Latency: 49.12s, Memory Usage: 3119.0KB\n",
            "Test Loss: 0.5212, Test Acc: 0.8189, Test Latency: 6.50s, Test Memory Usage: 194.0KB\n",
            "\n",
            "Epoch 108\n"
          ]
        },
        {
          "name": "stderr",
          "output_type": "stream",
          "text": [
            "Train: 100%|##########| 391/391 [00:49<00:00,  7.90batch/s]\n"
          ]
        },
        {
          "name": "stdout",
          "output_type": "stream",
          "text": [
            "LR: 1.0000e-03, Train Loss: 0.4656, Train Acc: 0.8378, Train Latency: 49.52s, Memory Usage: 3119.0KB\n",
            "Test Loss: 0.5139, Test Acc: 0.8271, Test Latency: 6.54s, Test Memory Usage: 194.0KB\n",
            "\n",
            "Epoch 109\n"
          ]
        },
        {
          "name": "stderr",
          "output_type": "stream",
          "text": [
            "Train: 100%|##########| 391/391 [00:49<00:00,  7.84batch/s]\n"
          ]
        },
        {
          "name": "stdout",
          "output_type": "stream",
          "text": [
            "LR: 1.0000e-03, Train Loss: 0.4610, Train Acc: 0.8423, Train Latency: 49.86s, Memory Usage: 3119.0KB\n",
            "Test Loss: 0.5641, Test Acc: 0.8068, Test Latency: 6.63s, Test Memory Usage: 194.0KB\n",
            "\n",
            "Epoch 110\n"
          ]
        },
        {
          "name": "stderr",
          "output_type": "stream",
          "text": [
            "Train: 100%|##########| 391/391 [00:49<00:00,  7.88batch/s]\n"
          ]
        },
        {
          "name": "stdout",
          "output_type": "stream",
          "text": [
            "LR: 1.0000e-03, Train Loss: 0.4673, Train Acc: 0.8395, Train Latency: 49.65s, Memory Usage: 3119.0KB\n",
            "Test Loss: 0.5571, Test Acc: 0.8104, Test Latency: 6.61s, Test Memory Usage: 194.0KB\n",
            "\n",
            "Epoch 111\n"
          ]
        },
        {
          "name": "stderr",
          "output_type": "stream",
          "text": [
            "Train: 100%|##########| 391/391 [00:49<00:00,  7.88batch/s]\n"
          ]
        },
        {
          "name": "stdout",
          "output_type": "stream",
          "text": [
            "LR: 1.0000e-03, Train Loss: 0.4665, Train Acc: 0.8405, Train Latency: 49.65s, Memory Usage: 3119.0KB\n",
            "Test Loss: 0.5741, Test Acc: 0.8038, Test Latency: 6.59s, Test Memory Usage: 194.0KB\n",
            "\n",
            "Epoch 112\n"
          ]
        },
        {
          "name": "stderr",
          "output_type": "stream",
          "text": [
            "Train: 100%|##########| 391/391 [00:50<00:00,  7.79batch/s]\n"
          ]
        },
        {
          "name": "stdout",
          "output_type": "stream",
          "text": [
            "LR: 1.0000e-03, Train Loss: 0.4683, Train Acc: 0.8387, Train Latency: 50.21s, Memory Usage: 3119.0KB\n",
            "Test Loss: 0.5418, Test Acc: 0.8109, Test Latency: 6.76s, Test Memory Usage: 194.0KB\n",
            "\n",
            "Epoch 113\n"
          ]
        },
        {
          "name": "stderr",
          "output_type": "stream",
          "text": [
            "Train: 100%|##########| 391/391 [00:50<00:00,  7.81batch/s]\n"
          ]
        },
        {
          "name": "stdout",
          "output_type": "stream",
          "text": [
            "LR: 1.0000e-03, Train Loss: 0.4624, Train Acc: 0.8401, Train Latency: 50.09s, Memory Usage: 3119.0KB\n",
            "Test Loss: 0.6187, Test Acc: 0.7922, Test Latency: 6.57s, Test Memory Usage: 194.0KB\n",
            "\n",
            "Epoch 114\n"
          ]
        },
        {
          "name": "stderr",
          "output_type": "stream",
          "text": [
            "Train: 100%|##########| 391/391 [00:49<00:00,  7.90batch/s]\n"
          ]
        },
        {
          "name": "stdout",
          "output_type": "stream",
          "text": [
            "LR: 1.0000e-03, Train Loss: 0.4702, Train Acc: 0.8380, Train Latency: 49.48s, Memory Usage: 3119.0KB\n",
            "Test Loss: 0.5372, Test Acc: 0.8181, Test Latency: 6.62s, Test Memory Usage: 194.0KB\n",
            "\n",
            "Epoch 115\n"
          ]
        },
        {
          "name": "stderr",
          "output_type": "stream",
          "text": [
            "Train: 100%|##########| 391/391 [00:49<00:00,  7.85batch/s]\n"
          ]
        },
        {
          "name": "stdout",
          "output_type": "stream",
          "text": [
            "LR: 1.0000e-03, Train Loss: 0.4692, Train Acc: 0.8403, Train Latency: 49.80s, Memory Usage: 3119.0KB\n",
            "Test Loss: 0.6055, Test Acc: 0.7952, Test Latency: 6.59s, Test Memory Usage: 194.0KB\n",
            "\n",
            "Epoch 116\n"
          ]
        },
        {
          "name": "stderr",
          "output_type": "stream",
          "text": [
            "Train: 100%|##########| 391/391 [00:49<00:00,  7.87batch/s]\n"
          ]
        },
        {
          "name": "stdout",
          "output_type": "stream",
          "text": [
            "LR: 1.0000e-03, Train Loss: 0.4695, Train Acc: 0.8392, Train Latency: 49.71s, Memory Usage: 3119.0KB\n",
            "Test Loss: 0.5472, Test Acc: 0.8116, Test Latency: 6.63s, Test Memory Usage: 194.0KB\n",
            "\n",
            "Epoch 117\n"
          ]
        },
        {
          "name": "stderr",
          "output_type": "stream",
          "text": [
            "Train: 100%|##########| 391/391 [00:49<00:00,  7.86batch/s]\n"
          ]
        },
        {
          "name": "stdout",
          "output_type": "stream",
          "text": [
            "LR: 1.0000e-03, Train Loss: 0.4700, Train Acc: 0.8383, Train Latency: 49.73s, Memory Usage: 3119.0KB\n",
            "Test Loss: 0.5486, Test Acc: 0.8145, Test Latency: 6.50s, Test Memory Usage: 194.0KB\n",
            "\n",
            "Epoch 118\n"
          ]
        },
        {
          "name": "stderr",
          "output_type": "stream",
          "text": [
            "Train: 100%|##########| 391/391 [00:49<00:00,  7.93batch/s]\n"
          ]
        },
        {
          "name": "stdout",
          "output_type": "stream",
          "text": [
            "LR: 1.0000e-03, Train Loss: 0.4698, Train Acc: 0.8390, Train Latency: 49.31s, Memory Usage: 3119.0KB\n",
            "Test Loss: 0.5737, Test Acc: 0.8055, Test Latency: 6.54s, Test Memory Usage: 194.0KB\n",
            "\n",
            "Epoch 119\n"
          ]
        },
        {
          "name": "stderr",
          "output_type": "stream",
          "text": [
            "Train: 100%|##########| 391/391 [00:49<00:00,  7.94batch/s]\n"
          ]
        },
        {
          "name": "stdout",
          "output_type": "stream",
          "text": [
            "LR: 1.0000e-03, Train Loss: 0.4674, Train Acc: 0.8383, Train Latency: 49.23s, Memory Usage: 3119.0KB\n",
            "Test Loss: 0.5619, Test Acc: 0.8050, Test Latency: 6.57s, Test Memory Usage: 194.0KB\n",
            "\n",
            "Epoch 120\n"
          ]
        },
        {
          "name": "stderr",
          "output_type": "stream",
          "text": [
            "Train: 100%|##########| 391/391 [00:49<00:00,  7.95batch/s]\n"
          ]
        },
        {
          "name": "stdout",
          "output_type": "stream",
          "text": [
            "LR: 1.0000e-03, Train Loss: 0.4729, Train Acc: 0.8378, Train Latency: 49.16s, Memory Usage: 3119.0KB\n",
            "Test Loss: 0.5161, Test Acc: 0.8227, Test Latency: 6.54s, Test Memory Usage: 194.0KB\n",
            "\n",
            "Epoch 121\n"
          ]
        },
        {
          "name": "stderr",
          "output_type": "stream",
          "text": [
            "Train: 100%|##########| 391/391 [00:49<00:00,  7.98batch/s]\n"
          ]
        },
        {
          "name": "stdout",
          "output_type": "stream",
          "text": [
            "LR: 1.0000e-03, Train Loss: 0.4700, Train Acc: 0.8392, Train Latency: 49.01s, Memory Usage: 3119.0KB\n",
            "Test Loss: 0.6158, Test Acc: 0.7934, Test Latency: 6.52s, Test Memory Usage: 194.0KB\n",
            "\n",
            "Epoch 122\n"
          ]
        },
        {
          "name": "stderr",
          "output_type": "stream",
          "text": [
            "Train: 100%|##########| 391/391 [00:49<00:00,  7.96batch/s]\n"
          ]
        },
        {
          "name": "stdout",
          "output_type": "stream",
          "text": [
            "LR: 1.0000e-03, Train Loss: 0.4792, Train Acc: 0.8340, Train Latency: 49.13s, Memory Usage: 3119.0KB\n",
            "Test Loss: 0.5222, Test Acc: 0.8209, Test Latency: 6.58s, Test Memory Usage: 194.0KB\n",
            "\n",
            "Epoch 123\n"
          ]
        },
        {
          "name": "stderr",
          "output_type": "stream",
          "text": [
            "Train: 100%|##########| 391/391 [00:49<00:00,  7.90batch/s]\n"
          ]
        },
        {
          "name": "stdout",
          "output_type": "stream",
          "text": [
            "LR: 1.0000e-03, Train Loss: 0.4697, Train Acc: 0.8385, Train Latency: 49.52s, Memory Usage: 3119.0KB\n",
            "Test Loss: 0.5307, Test Acc: 0.8178, Test Latency: 6.56s, Test Memory Usage: 194.0KB\n",
            "\n",
            "Epoch 124\n"
          ]
        },
        {
          "name": "stderr",
          "output_type": "stream",
          "text": [
            "Train: 100%|##########| 391/391 [00:49<00:00,  7.90batch/s]\n"
          ]
        },
        {
          "name": "stdout",
          "output_type": "stream",
          "text": [
            "LR: 1.0000e-03, Train Loss: 0.4724, Train Acc: 0.8382, Train Latency: 49.52s, Memory Usage: 3119.0KB\n",
            "Test Loss: 0.5557, Test Acc: 0.8137, Test Latency: 6.52s, Test Memory Usage: 194.0KB\n",
            "\n",
            "Epoch 125\n"
          ]
        },
        {
          "name": "stderr",
          "output_type": "stream",
          "text": [
            "Train: 100%|##########| 391/391 [00:49<00:00,  7.97batch/s]\n"
          ]
        },
        {
          "name": "stdout",
          "output_type": "stream",
          "text": [
            "LR: 1.0000e-03, Train Loss: 0.4754, Train Acc: 0.8351, Train Latency: 49.06s, Memory Usage: 3119.0KB\n",
            "Test Loss: 0.6201, Test Acc: 0.7940, Test Latency: 6.57s, Test Memory Usage: 194.0KB\n",
            "\n",
            "Epoch 126\n"
          ]
        },
        {
          "name": "stderr",
          "output_type": "stream",
          "text": [
            "Train: 100%|##########| 391/391 [00:49<00:00,  7.97batch/s]\n"
          ]
        },
        {
          "name": "stdout",
          "output_type": "stream",
          "text": [
            "LR: 1.0000e-03, Train Loss: 0.4714, Train Acc: 0.8362, Train Latency: 49.06s, Memory Usage: 3119.0KB\n",
            "Test Loss: 0.5610, Test Acc: 0.8100, Test Latency: 6.52s, Test Memory Usage: 194.0KB\n",
            "\n",
            "Epoch 127\n"
          ]
        },
        {
          "name": "stderr",
          "output_type": "stream",
          "text": [
            "Train: 100%|##########| 391/391 [00:49<00:00,  7.94batch/s]\n"
          ]
        },
        {
          "name": "stdout",
          "output_type": "stream",
          "text": [
            "LR: 1.0000e-03, Train Loss: 0.4747, Train Acc: 0.8376, Train Latency: 49.24s, Memory Usage: 3119.0KB\n",
            "Test Loss: 0.6239, Test Acc: 0.7880, Test Latency: 6.58s, Test Memory Usage: 194.0KB\n",
            "\n",
            "Epoch 128\n"
          ]
        },
        {
          "name": "stderr",
          "output_type": "stream",
          "text": [
            "Train: 100%|##########| 391/391 [00:49<00:00,  7.96batch/s]\n"
          ]
        },
        {
          "name": "stdout",
          "output_type": "stream",
          "text": [
            "LR: 1.0000e-03, Train Loss: 0.4770, Train Acc: 0.8373, Train Latency: 49.13s, Memory Usage: 3119.0KB\n",
            "Test Loss: 0.6124, Test Acc: 0.7932, Test Latency: 6.54s, Test Memory Usage: 194.0KB\n",
            "\n",
            "Epoch 129\n"
          ]
        },
        {
          "name": "stderr",
          "output_type": "stream",
          "text": [
            "Train: 100%|##########| 391/391 [00:49<00:00,  7.94batch/s]\n"
          ]
        },
        {
          "name": "stdout",
          "output_type": "stream",
          "text": [
            "LR: 1.0000e-03, Train Loss: 0.4710, Train Acc: 0.8383, Train Latency: 49.26s, Memory Usage: 3119.0KB\n",
            "Test Loss: 0.5833, Test Acc: 0.8044, Test Latency: 6.53s, Test Memory Usage: 194.0KB\n",
            "\n",
            "Epoch 130\n"
          ]
        },
        {
          "name": "stderr",
          "output_type": "stream",
          "text": [
            "Train: 100%|##########| 391/391 [00:49<00:00,  7.97batch/s]\n"
          ]
        },
        {
          "name": "stdout",
          "output_type": "stream",
          "text": [
            "LR: 1.0000e-03, Train Loss: 0.4765, Train Acc: 0.8356, Train Latency: 49.09s, Memory Usage: 3119.0KB\n",
            "Test Loss: 0.5794, Test Acc: 0.8023, Test Latency: 6.51s, Test Memory Usage: 194.0KB\n",
            "\n",
            "Epoch 131\n"
          ]
        },
        {
          "name": "stderr",
          "output_type": "stream",
          "text": [
            "Train: 100%|##########| 391/391 [00:49<00:00,  7.97batch/s]\n"
          ]
        },
        {
          "name": "stdout",
          "output_type": "stream",
          "text": [
            "LR: 1.0000e-03, Train Loss: 0.4794, Train Acc: 0.8335, Train Latency: 49.09s, Memory Usage: 3119.0KB\n",
            "Test Loss: 0.6121, Test Acc: 0.7993, Test Latency: 6.53s, Test Memory Usage: 194.0KB\n",
            "\n",
            "Epoch 132\n"
          ]
        },
        {
          "name": "stderr",
          "output_type": "stream",
          "text": [
            "Train: 100%|##########| 391/391 [00:49<00:00,  7.95batch/s]\n"
          ]
        },
        {
          "name": "stdout",
          "output_type": "stream",
          "text": [
            "LR: 1.0000e-03, Train Loss: 0.4780, Train Acc: 0.8354, Train Latency: 49.22s, Memory Usage: 3119.0KB\n",
            "Test Loss: 0.6059, Test Acc: 0.7944, Test Latency: 6.55s, Test Memory Usage: 194.0KB\n",
            "\n",
            "Epoch 133\n"
          ]
        },
        {
          "name": "stderr",
          "output_type": "stream",
          "text": [
            "Train: 100%|##########| 391/391 [00:49<00:00,  7.91batch/s]\n"
          ]
        },
        {
          "name": "stdout",
          "output_type": "stream",
          "text": [
            "LR: 1.0000e-03, Train Loss: 0.4778, Train Acc: 0.8344, Train Latency: 49.44s, Memory Usage: 3119.0KB\n",
            "Test Loss: 0.6854, Test Acc: 0.7684, Test Latency: 6.57s, Test Memory Usage: 194.0KB\n",
            "\n",
            "Epoch 134\n"
          ]
        },
        {
          "name": "stderr",
          "output_type": "stream",
          "text": [
            "Train: 100%|##########| 391/391 [00:49<00:00,  7.91batch/s]\n"
          ]
        },
        {
          "name": "stdout",
          "output_type": "stream",
          "text": [
            "LR: 1.0000e-03, Train Loss: 0.4780, Train Acc: 0.8344, Train Latency: 49.44s, Memory Usage: 3119.0KB\n",
            "Test Loss: 0.6713, Test Acc: 0.7715, Test Latency: 6.60s, Test Memory Usage: 194.0KB\n",
            "\n",
            "Epoch 135\n"
          ]
        },
        {
          "name": "stderr",
          "output_type": "stream",
          "text": [
            "Train: 100%|##########| 391/391 [00:49<00:00,  7.94batch/s]\n"
          ]
        },
        {
          "name": "stdout",
          "output_type": "stream",
          "text": [
            "LR: 1.0000e-03, Train Loss: 0.4756, Train Acc: 0.8369, Train Latency: 49.24s, Memory Usage: 3119.0KB\n",
            "Test Loss: 0.6467, Test Acc: 0.7790, Test Latency: 6.51s, Test Memory Usage: 194.0KB\n",
            "\n",
            "Epoch 136\n"
          ]
        },
        {
          "name": "stderr",
          "output_type": "stream",
          "text": [
            "Train: 100%|##########| 391/391 [00:48<00:00,  8.01batch/s]\n"
          ]
        },
        {
          "name": "stdout",
          "output_type": "stream",
          "text": [
            "LR: 1.0000e-03, Train Loss: 0.4733, Train Acc: 0.8376, Train Latency: 48.82s, Memory Usage: 3119.0KB\n",
            "Test Loss: 0.6134, Test Acc: 0.7937, Test Latency: 6.52s, Test Memory Usage: 194.0KB\n",
            "\n",
            "Epoch 137\n"
          ]
        },
        {
          "name": "stderr",
          "output_type": "stream",
          "text": [
            "Train: 100%|##########| 391/391 [00:48<00:00,  7.99batch/s]\n"
          ]
        },
        {
          "name": "stdout",
          "output_type": "stream",
          "text": [
            "LR: 1.0000e-03, Train Loss: 0.4737, Train Acc: 0.8353, Train Latency: 48.96s, Memory Usage: 3119.0KB\n",
            "Test Loss: 0.6620, Test Acc: 0.7761, Test Latency: 6.52s, Test Memory Usage: 194.0KB\n",
            "\n",
            "Epoch 138\n"
          ]
        },
        {
          "name": "stderr",
          "output_type": "stream",
          "text": [
            "Train: 100%|##########| 391/391 [00:49<00:00,  7.98batch/s]\n"
          ]
        },
        {
          "name": "stdout",
          "output_type": "stream",
          "text": [
            "LR: 1.0000e-03, Train Loss: 0.4773, Train Acc: 0.8360, Train Latency: 49.02s, Memory Usage: 3119.0KB\n",
            "Test Loss: 0.6714, Test Acc: 0.7800, Test Latency: 6.50s, Test Memory Usage: 194.0KB\n",
            "\n",
            "Epoch 139\n"
          ]
        },
        {
          "name": "stderr",
          "output_type": "stream",
          "text": [
            "Train: 100%|##########| 391/391 [00:49<00:00,  7.95batch/s]\n"
          ]
        },
        {
          "name": "stdout",
          "output_type": "stream",
          "text": [
            "LR: 1.0000e-03, Train Loss: 0.4772, Train Acc: 0.8348, Train Latency: 49.21s, Memory Usage: 3119.0KB\n",
            "Test Loss: 0.5498, Test Acc: 0.8159, Test Latency: 6.52s, Test Memory Usage: 194.0KB\n",
            "\n",
            "Epoch 140\n"
          ]
        },
        {
          "name": "stderr",
          "output_type": "stream",
          "text": [
            "Train: 100%|##########| 391/391 [00:49<00:00,  7.91batch/s]\n"
          ]
        },
        {
          "name": "stdout",
          "output_type": "stream",
          "text": [
            "LR: 1.0000e-03, Train Loss: 0.4803, Train Acc: 0.8348, Train Latency: 49.46s, Memory Usage: 3119.0KB\n",
            "Test Loss: 0.6728, Test Acc: 0.7797, Test Latency: 6.55s, Test Memory Usage: 194.0KB\n",
            "\n",
            "Epoch 141\n"
          ]
        },
        {
          "name": "stderr",
          "output_type": "stream",
          "text": [
            "Train: 100%|##########| 391/391 [00:49<00:00,  7.96batch/s]\n"
          ]
        },
        {
          "name": "stdout",
          "output_type": "stream",
          "text": [
            "LR: 1.0000e-03, Train Loss: 0.4815, Train Acc: 0.8346, Train Latency: 49.15s, Memory Usage: 3119.0KB\n",
            "Test Loss: 0.6692, Test Acc: 0.7754, Test Latency: 6.50s, Test Memory Usage: 194.0KB\n",
            "\n",
            "Epoch 142\n"
          ]
        },
        {
          "name": "stderr",
          "output_type": "stream",
          "text": [
            "Train: 100%|##########| 391/391 [00:49<00:00,  7.94batch/s]\n"
          ]
        },
        {
          "name": "stdout",
          "output_type": "stream",
          "text": [
            "LR: 1.0000e-03, Train Loss: 0.4782, Train Acc: 0.8373, Train Latency: 49.26s, Memory Usage: 3119.0KB\n",
            "Test Loss: 0.5763, Test Acc: 0.8064, Test Latency: 6.54s, Test Memory Usage: 194.0KB\n",
            "\n",
            "Epoch 143\n"
          ]
        },
        {
          "name": "stderr",
          "output_type": "stream",
          "text": [
            "Train: 100%|##########| 391/391 [00:48<00:00,  7.98batch/s]\n"
          ]
        },
        {
          "name": "stdout",
          "output_type": "stream",
          "text": [
            "LR: 1.0000e-03, Train Loss: 0.4790, Train Acc: 0.8350, Train Latency: 48.99s, Memory Usage: 3119.0KB\n",
            "Test Loss: 0.5823, Test Acc: 0.8006, Test Latency: 6.49s, Test Memory Usage: 194.0KB\n",
            "\n",
            "Epoch 144\n"
          ]
        },
        {
          "name": "stderr",
          "output_type": "stream",
          "text": [
            "Train: 100%|##########| 391/391 [00:49<00:00,  7.94batch/s]\n"
          ]
        },
        {
          "name": "stdout",
          "output_type": "stream",
          "text": [
            "LR: 1.0000e-03, Train Loss: 0.4789, Train Acc: 0.8341, Train Latency: 49.27s, Memory Usage: 3119.0KB\n",
            "Test Loss: 0.5517, Test Acc: 0.8131, Test Latency: 6.55s, Test Memory Usage: 194.0KB\n",
            "\n",
            "Epoch 145\n"
          ]
        },
        {
          "name": "stderr",
          "output_type": "stream",
          "text": [
            "Train: 100%|##########| 391/391 [00:49<00:00,  7.96batch/s]\n"
          ]
        },
        {
          "name": "stdout",
          "output_type": "stream",
          "text": [
            "LR: 1.0000e-03, Train Loss: 0.4829, Train Acc: 0.8340, Train Latency: 49.10s, Memory Usage: 3119.0KB\n",
            "Test Loss: 0.6875, Test Acc: 0.7691, Test Latency: 6.51s, Test Memory Usage: 194.0KB\n",
            "\n",
            "Epoch 146\n"
          ]
        },
        {
          "name": "stderr",
          "output_type": "stream",
          "text": [
            "Train: 100%|##########| 391/391 [00:49<00:00,  7.96batch/s]\n"
          ]
        },
        {
          "name": "stdout",
          "output_type": "stream",
          "text": [
            "LR: 1.0000e-03, Train Loss: 0.4792, Train Acc: 0.8352, Train Latency: 49.10s, Memory Usage: 3119.0KB\n",
            "Test Loss: 0.6181, Test Acc: 0.7908, Test Latency: 6.53s, Test Memory Usage: 194.0KB\n",
            "\n",
            "Epoch 147\n"
          ]
        },
        {
          "name": "stderr",
          "output_type": "stream",
          "text": [
            "Train: 100%|##########| 391/391 [00:49<00:00,  7.95batch/s]\n"
          ]
        },
        {
          "name": "stdout",
          "output_type": "stream",
          "text": [
            "LR: 1.0000e-03, Train Loss: 0.4868, Train Acc: 0.8330, Train Latency: 49.20s, Memory Usage: 3119.0KB\n",
            "Test Loss: 0.5729, Test Acc: 0.8054, Test Latency: 6.53s, Test Memory Usage: 194.0KB\n",
            "\n",
            "Epoch 148\n"
          ]
        },
        {
          "name": "stderr",
          "output_type": "stream",
          "text": [
            "Train: 100%|##########| 391/391 [00:49<00:00,  7.87batch/s]\n"
          ]
        },
        {
          "name": "stdout",
          "output_type": "stream",
          "text": [
            "LR: 1.0000e-03, Train Loss: 0.4786, Train Acc: 0.8359, Train Latency: 49.69s, Memory Usage: 3119.0KB\n",
            "Test Loss: 0.6077, Test Acc: 0.7930, Test Latency: 6.54s, Test Memory Usage: 194.0KB\n",
            "\n",
            "Epoch 149\n"
          ]
        },
        {
          "name": "stderr",
          "output_type": "stream",
          "text": [
            "Train: 100%|##########| 391/391 [00:49<00:00,  7.88batch/s]\n"
          ]
        },
        {
          "name": "stdout",
          "output_type": "stream",
          "text": [
            "LR: 1.0000e-03, Train Loss: 0.4753, Train Acc: 0.8369, Train Latency: 49.62s, Memory Usage: 3119.0KB\n",
            "Test Loss: 0.7116, Test Acc: 0.7653, Test Latency: 6.58s, Test Memory Usage: 194.0KB\n",
            "\n",
            "Epoch 150\n"
          ]
        },
        {
          "name": "stderr",
          "output_type": "stream",
          "text": [
            "Train: 100%|##########| 391/391 [00:50<00:00,  7.80batch/s]\n"
          ]
        },
        {
          "name": "stdout",
          "output_type": "stream",
          "text": [
            "LR: 1.0000e-03, Train Loss: 0.4853, Train Acc: 0.8362, Train Latency: 50.11s, Memory Usage: 3119.0KB\n",
            "Test Loss: 0.5756, Test Acc: 0.8029, Test Latency: 6.66s, Test Memory Usage: 194.0KB\n",
            "\n",
            "Epoch 151\n"
          ]
        },
        {
          "name": "stderr",
          "output_type": "stream",
          "text": [
            "Train: 100%|##########| 391/391 [00:49<00:00,  7.83batch/s]\n"
          ]
        },
        {
          "name": "stdout",
          "output_type": "stream",
          "text": [
            "LR: 1.0000e-04, Train Loss: 0.4386, Train Acc: 0.8486, Train Latency: 49.91s, Memory Usage: 3119.0KB\n",
            "Test Loss: 0.4827, Test Acc: 0.8341, Test Latency: 6.62s, Test Memory Usage: 194.0KB\n",
            "Saving best model ...\n",
            "\n",
            "Epoch 152\n"
          ]
        },
        {
          "name": "stderr",
          "output_type": "stream",
          "text": [
            "Train: 100%|##########| 391/391 [00:49<00:00,  7.86batch/s]\n"
          ]
        },
        {
          "name": "stdout",
          "output_type": "stream",
          "text": [
            "LR: 1.0000e-04, Train Loss: 0.4267, Train Acc: 0.8539, Train Latency: 49.75s, Memory Usage: 3119.0KB\n",
            "Test Loss: 0.4816, Test Acc: 0.8321, Test Latency: 6.62s, Test Memory Usage: 194.0KB\n",
            "\n",
            "Epoch 153\n"
          ]
        },
        {
          "name": "stderr",
          "output_type": "stream",
          "text": [
            "Train: 100%|##########| 391/391 [00:49<00:00,  7.90batch/s]\n"
          ]
        },
        {
          "name": "stdout",
          "output_type": "stream",
          "text": [
            "LR: 1.0000e-04, Train Loss: 0.4210, Train Acc: 0.8552, Train Latency: 49.50s, Memory Usage: 3119.0KB\n",
            "Test Loss: 0.4742, Test Acc: 0.8351, Test Latency: 6.58s, Test Memory Usage: 194.0KB\n",
            "Saving best model ...\n",
            "\n",
            "Epoch 154\n"
          ]
        },
        {
          "name": "stderr",
          "output_type": "stream",
          "text": [
            "Train: 100%|##########| 391/391 [00:49<00:00,  7.91batch/s]\n"
          ]
        },
        {
          "name": "stdout",
          "output_type": "stream",
          "text": [
            "LR: 1.0000e-04, Train Loss: 0.4229, Train Acc: 0.8544, Train Latency: 49.42s, Memory Usage: 3119.0KB\n",
            "Test Loss: 0.4913, Test Acc: 0.8317, Test Latency: 6.61s, Test Memory Usage: 194.0KB\n",
            "\n",
            "Epoch 155\n"
          ]
        },
        {
          "name": "stderr",
          "output_type": "stream",
          "text": [
            "Train: 100%|##########| 391/391 [00:49<00:00,  7.87batch/s]\n"
          ]
        },
        {
          "name": "stdout",
          "output_type": "stream",
          "text": [
            "LR: 1.0000e-04, Train Loss: 0.4219, Train Acc: 0.8562, Train Latency: 49.69s, Memory Usage: 3119.0KB\n",
            "Test Loss: 0.5024, Test Acc: 0.8301, Test Latency: 6.63s, Test Memory Usage: 194.0KB\n",
            "\n",
            "Epoch 156\n"
          ]
        },
        {
          "name": "stderr",
          "output_type": "stream",
          "text": [
            "Train: 100%|##########| 391/391 [00:49<00:00,  7.93batch/s]\n"
          ]
        },
        {
          "name": "stdout",
          "output_type": "stream",
          "text": [
            "LR: 1.0000e-04, Train Loss: 0.4221, Train Acc: 0.8553, Train Latency: 49.33s, Memory Usage: 3119.0KB\n",
            "Test Loss: 0.5385, Test Acc: 0.8222, Test Latency: 6.64s, Test Memory Usage: 194.0KB\n",
            "\n",
            "Epoch 157\n"
          ]
        },
        {
          "name": "stderr",
          "output_type": "stream",
          "text": [
            "Train: 100%|##########| 391/391 [00:49<00:00,  7.92batch/s]\n"
          ]
        },
        {
          "name": "stdout",
          "output_type": "stream",
          "text": [
            "LR: 1.0000e-04, Train Loss: 0.4243, Train Acc: 0.8547, Train Latency: 49.35s, Memory Usage: 3119.0KB\n",
            "Test Loss: 0.4958, Test Acc: 0.8309, Test Latency: 6.57s, Test Memory Usage: 194.0KB\n",
            "\n",
            "Epoch 158\n"
          ]
        },
        {
          "name": "stderr",
          "output_type": "stream",
          "text": [
            "Train: 100%|##########| 391/391 [00:49<00:00,  7.89batch/s]\n"
          ]
        },
        {
          "name": "stdout",
          "output_type": "stream",
          "text": [
            "LR: 1.0000e-04, Train Loss: 0.4251, Train Acc: 0.8536, Train Latency: 49.55s, Memory Usage: 3119.0KB\n",
            "Test Loss: 0.5264, Test Acc: 0.8224, Test Latency: 6.56s, Test Memory Usage: 194.0KB\n",
            "\n",
            "Epoch 159\n"
          ]
        },
        {
          "name": "stderr",
          "output_type": "stream",
          "text": [
            "Train: 100%|##########| 391/391 [00:49<00:00,  7.92batch/s]\n"
          ]
        },
        {
          "name": "stdout",
          "output_type": "stream",
          "text": [
            "LR: 1.0000e-04, Train Loss: 0.4241, Train Acc: 0.8533, Train Latency: 49.38s, Memory Usage: 3119.0KB\n",
            "Test Loss: 0.5022, Test Acc: 0.8292, Test Latency: 6.56s, Test Memory Usage: 194.0KB\n",
            "\n",
            "Epoch 160\n"
          ]
        },
        {
          "name": "stderr",
          "output_type": "stream",
          "text": [
            "Train: 100%|##########| 391/391 [00:49<00:00,  7.90batch/s]\n"
          ]
        },
        {
          "name": "stdout",
          "output_type": "stream",
          "text": [
            "LR: 1.0000e-04, Train Loss: 0.4267, Train Acc: 0.8534, Train Latency: 49.50s, Memory Usage: 3119.0KB\n",
            "Test Loss: 0.5450, Test Acc: 0.8142, Test Latency: 6.58s, Test Memory Usage: 194.0KB\n",
            "\n",
            "Epoch 161\n"
          ]
        },
        {
          "name": "stderr",
          "output_type": "stream",
          "text": [
            "Train: 100%|##########| 391/391 [00:49<00:00,  7.90batch/s]\n"
          ]
        },
        {
          "name": "stdout",
          "output_type": "stream",
          "text": [
            "LR: 1.0000e-04, Train Loss: 0.4281, Train Acc: 0.8525, Train Latency: 49.47s, Memory Usage: 3119.0KB\n",
            "Test Loss: 0.5496, Test Acc: 0.8168, Test Latency: 6.66s, Test Memory Usage: 194.0KB\n",
            "\n",
            "Epoch 162\n"
          ]
        },
        {
          "name": "stderr",
          "output_type": "stream",
          "text": [
            "Train: 100%|##########| 391/391 [00:49<00:00,  7.87batch/s]\n"
          ]
        },
        {
          "name": "stdout",
          "output_type": "stream",
          "text": [
            "LR: 1.0000e-04, Train Loss: 0.4287, Train Acc: 0.8523, Train Latency: 49.70s, Memory Usage: 3119.0KB\n",
            "Test Loss: 0.5149, Test Acc: 0.8259, Test Latency: 6.59s, Test Memory Usage: 194.0KB\n",
            "\n",
            "Epoch 163\n"
          ]
        },
        {
          "name": "stderr",
          "output_type": "stream",
          "text": [
            "Train: 100%|##########| 391/391 [00:49<00:00,  7.92batch/s]\n"
          ]
        },
        {
          "name": "stdout",
          "output_type": "stream",
          "text": [
            "LR: 1.0000e-04, Train Loss: 0.4273, Train Acc: 0.8534, Train Latency: 49.35s, Memory Usage: 3119.0KB\n",
            "Test Loss: 0.5095, Test Acc: 0.8273, Test Latency: 6.59s, Test Memory Usage: 194.0KB\n",
            "\n",
            "Epoch 164\n"
          ]
        },
        {
          "name": "stderr",
          "output_type": "stream",
          "text": [
            "Train: 100%|##########| 391/391 [00:49<00:00,  7.90batch/s]\n"
          ]
        },
        {
          "name": "stdout",
          "output_type": "stream",
          "text": [
            "LR: 1.0000e-04, Train Loss: 0.4277, Train Acc: 0.8519, Train Latency: 49.50s, Memory Usage: 3119.0KB\n",
            "Test Loss: 0.4844, Test Acc: 0.8323, Test Latency: 6.53s, Test Memory Usage: 194.0KB\n",
            "\n",
            "Epoch 165\n"
          ]
        },
        {
          "name": "stderr",
          "output_type": "stream",
          "text": [
            "Train: 100%|##########| 391/391 [00:49<00:00,  7.93batch/s]\n"
          ]
        },
        {
          "name": "stdout",
          "output_type": "stream",
          "text": [
            "LR: 1.0000e-04, Train Loss: 0.4255, Train Acc: 0.8522, Train Latency: 49.32s, Memory Usage: 3119.0KB\n",
            "Test Loss: 0.5395, Test Acc: 0.8139, Test Latency: 6.51s, Test Memory Usage: 194.0KB\n",
            "\n",
            "Epoch 166\n"
          ]
        },
        {
          "name": "stderr",
          "output_type": "stream",
          "text": [
            "Train: 100%|##########| 391/391 [00:49<00:00,  7.94batch/s]\n"
          ]
        },
        {
          "name": "stdout",
          "output_type": "stream",
          "text": [
            "LR: 1.0000e-04, Train Loss: 0.4294, Train Acc: 0.8513, Train Latency: 49.27s, Memory Usage: 3119.0KB\n",
            "Test Loss: 0.5370, Test Acc: 0.8185, Test Latency: 6.62s, Test Memory Usage: 194.0KB\n",
            "\n",
            "Epoch 167\n"
          ]
        },
        {
          "name": "stderr",
          "output_type": "stream",
          "text": [
            "Train: 100%|##########| 391/391 [00:49<00:00,  7.94batch/s]\n"
          ]
        },
        {
          "name": "stdout",
          "output_type": "stream",
          "text": [
            "LR: 1.0000e-04, Train Loss: 0.4303, Train Acc: 0.8524, Train Latency: 49.27s, Memory Usage: 3119.0KB\n",
            "Test Loss: 0.6049, Test Acc: 0.7974, Test Latency: 6.60s, Test Memory Usage: 194.0KB\n",
            "\n",
            "Epoch 168\n"
          ]
        },
        {
          "name": "stderr",
          "output_type": "stream",
          "text": [
            "Train: 100%|##########| 391/391 [00:49<00:00,  7.91batch/s]\n"
          ]
        },
        {
          "name": "stdout",
          "output_type": "stream",
          "text": [
            "LR: 1.0000e-04, Train Loss: 0.4307, Train Acc: 0.8513, Train Latency: 49.45s, Memory Usage: 3119.0KB\n",
            "Test Loss: 0.5855, Test Acc: 0.8027, Test Latency: 6.56s, Test Memory Usage: 194.0KB\n",
            "\n",
            "Epoch 169\n"
          ]
        },
        {
          "name": "stderr",
          "output_type": "stream",
          "text": [
            "Train: 100%|##########| 391/391 [00:49<00:00,  7.95batch/s]\n"
          ]
        },
        {
          "name": "stdout",
          "output_type": "stream",
          "text": [
            "LR: 1.0000e-04, Train Loss: 0.4318, Train Acc: 0.8514, Train Latency: 49.22s, Memory Usage: 3119.0KB\n",
            "Test Loss: 0.4939, Test Acc: 0.8344, Test Latency: 6.49s, Test Memory Usage: 194.0KB\n",
            "\n",
            "Epoch 170\n"
          ]
        },
        {
          "name": "stderr",
          "output_type": "stream",
          "text": [
            "Train: 100%|##########| 391/391 [00:49<00:00,  7.88batch/s]\n"
          ]
        },
        {
          "name": "stdout",
          "output_type": "stream",
          "text": [
            "LR: 1.0000e-04, Train Loss: 0.4346, Train Acc: 0.8512, Train Latency: 49.61s, Memory Usage: 3119.0KB\n",
            "Test Loss: 0.4743, Test Acc: 0.8353, Test Latency: 6.57s, Test Memory Usage: 194.0KB\n",
            "Saving best model ...\n",
            "\n",
            "Epoch 171\n"
          ]
        },
        {
          "name": "stderr",
          "output_type": "stream",
          "text": [
            "Train: 100%|##########| 391/391 [00:49<00:00,  7.97batch/s]\n"
          ]
        },
        {
          "name": "stdout",
          "output_type": "stream",
          "text": [
            "LR: 1.0000e-04, Train Loss: 0.4355, Train Acc: 0.8499, Train Latency: 49.09s, Memory Usage: 3119.0KB\n",
            "Test Loss: 0.5251, Test Acc: 0.8246, Test Latency: 6.61s, Test Memory Usage: 194.0KB\n",
            "\n",
            "Epoch 172\n"
          ]
        },
        {
          "name": "stderr",
          "output_type": "stream",
          "text": [
            "Train: 100%|##########| 391/391 [00:49<00:00,  7.94batch/s]\n"
          ]
        },
        {
          "name": "stdout",
          "output_type": "stream",
          "text": [
            "LR: 1.0000e-04, Train Loss: 0.4343, Train Acc: 0.8519, Train Latency: 49.24s, Memory Usage: 3119.0KB\n",
            "Test Loss: 0.5377, Test Acc: 0.8189, Test Latency: 6.58s, Test Memory Usage: 194.0KB\n",
            "\n",
            "Epoch 173\n"
          ]
        },
        {
          "name": "stderr",
          "output_type": "stream",
          "text": [
            "Train: 100%|##########| 391/391 [00:49<00:00,  7.93batch/s]\n"
          ]
        },
        {
          "name": "stdout",
          "output_type": "stream",
          "text": [
            "LR: 1.0000e-04, Train Loss: 0.4367, Train Acc: 0.8507, Train Latency: 49.29s, Memory Usage: 3119.0KB\n",
            "Test Loss: 0.5139, Test Acc: 0.8276, Test Latency: 6.56s, Test Memory Usage: 194.0KB\n",
            "\n",
            "Epoch 174\n"
          ]
        },
        {
          "name": "stderr",
          "output_type": "stream",
          "text": [
            "Train: 100%|##########| 391/391 [00:49<00:00,  7.93batch/s]\n"
          ]
        },
        {
          "name": "stdout",
          "output_type": "stream",
          "text": [
            "LR: 1.0000e-04, Train Loss: 0.4375, Train Acc: 0.8491, Train Latency: 49.28s, Memory Usage: 3119.0KB\n",
            "Test Loss: 0.4931, Test Acc: 0.8296, Test Latency: 6.56s, Test Memory Usage: 194.0KB\n",
            "\n",
            "Epoch 175\n"
          ]
        },
        {
          "name": "stderr",
          "output_type": "stream",
          "text": [
            "Train: 100%|##########| 391/391 [00:49<00:00,  7.92batch/s]\n"
          ]
        },
        {
          "name": "stdout",
          "output_type": "stream",
          "text": [
            "LR: 1.0000e-04, Train Loss: 0.4372, Train Acc: 0.8476, Train Latency: 49.35s, Memory Usage: 3119.0KB\n",
            "Test Loss: 0.5460, Test Acc: 0.8195, Test Latency: 6.57s, Test Memory Usage: 194.0KB\n",
            "\n",
            "Epoch 176\n"
          ]
        },
        {
          "name": "stderr",
          "output_type": "stream",
          "text": [
            "Train: 100%|##########| 391/391 [00:49<00:00,  7.92batch/s]\n"
          ]
        },
        {
          "name": "stdout",
          "output_type": "stream",
          "text": [
            "LR: 1.0000e-04, Train Loss: 0.4365, Train Acc: 0.8495, Train Latency: 49.37s, Memory Usage: 3119.0KB\n",
            "Test Loss: 0.5257, Test Acc: 0.8184, Test Latency: 6.63s, Test Memory Usage: 194.0KB\n",
            "\n",
            "Epoch 177\n"
          ]
        },
        {
          "name": "stderr",
          "output_type": "stream",
          "text": [
            "Train: 100%|##########| 391/391 [00:49<00:00,  7.94batch/s]\n"
          ]
        },
        {
          "name": "stdout",
          "output_type": "stream",
          "text": [
            "LR: 1.0000e-04, Train Loss: 0.4382, Train Acc: 0.8497, Train Latency: 49.28s, Memory Usage: 3119.0KB\n",
            "Test Loss: 0.5408, Test Acc: 0.8240, Test Latency: 6.58s, Test Memory Usage: 194.0KB\n",
            "\n",
            "Epoch 178\n"
          ]
        },
        {
          "name": "stderr",
          "output_type": "stream",
          "text": [
            "Train: 100%|##########| 391/391 [00:49<00:00,  7.92batch/s]\n"
          ]
        },
        {
          "name": "stdout",
          "output_type": "stream",
          "text": [
            "LR: 1.0000e-04, Train Loss: 0.4373, Train Acc: 0.8507, Train Latency: 49.37s, Memory Usage: 3119.0KB\n",
            "Test Loss: 0.4957, Test Acc: 0.8290, Test Latency: 6.52s, Test Memory Usage: 194.0KB\n",
            "\n",
            "Epoch 179\n"
          ]
        },
        {
          "name": "stderr",
          "output_type": "stream",
          "text": [
            "Train: 100%|##########| 391/391 [00:49<00:00,  7.91batch/s]\n"
          ]
        },
        {
          "name": "stdout",
          "output_type": "stream",
          "text": [
            "LR: 1.0000e-04, Train Loss: 0.4347, Train Acc: 0.8507, Train Latency: 49.43s, Memory Usage: 3119.0KB\n",
            "Test Loss: 0.5216, Test Acc: 0.8169, Test Latency: 6.61s, Test Memory Usage: 194.0KB\n",
            "\n",
            "Epoch 180\n"
          ]
        },
        {
          "name": "stderr",
          "output_type": "stream",
          "text": [
            "Train: 100%|##########| 391/391 [00:49<00:00,  7.93batch/s]\n"
          ]
        },
        {
          "name": "stdout",
          "output_type": "stream",
          "text": [
            "LR: 1.0000e-04, Train Loss: 0.4359, Train Acc: 0.8497, Train Latency: 49.31s, Memory Usage: 3119.0KB\n",
            "Test Loss: 0.5976, Test Acc: 0.8024, Test Latency: 6.59s, Test Memory Usage: 194.0KB\n",
            "\n",
            "Epoch 181\n"
          ]
        },
        {
          "name": "stderr",
          "output_type": "stream",
          "text": [
            "Train: 100%|##########| 391/391 [00:49<00:00,  7.93batch/s]\n"
          ]
        },
        {
          "name": "stdout",
          "output_type": "stream",
          "text": [
            "LR: 1.0000e-04, Train Loss: 0.4398, Train Acc: 0.8492, Train Latency: 49.30s, Memory Usage: 3119.0KB\n",
            "Test Loss: 0.5130, Test Acc: 0.8271, Test Latency: 6.58s, Test Memory Usage: 194.0KB\n",
            "\n",
            "Epoch 182\n"
          ]
        },
        {
          "name": "stderr",
          "output_type": "stream",
          "text": [
            "Train: 100%|##########| 391/391 [00:49<00:00,  7.92batch/s]\n"
          ]
        },
        {
          "name": "stdout",
          "output_type": "stream",
          "text": [
            "LR: 1.0000e-04, Train Loss: 0.4384, Train Acc: 0.8484, Train Latency: 49.37s, Memory Usage: 3119.0KB\n",
            "Test Loss: 0.5381, Test Acc: 0.8132, Test Latency: 6.52s, Test Memory Usage: 194.0KB\n",
            "\n",
            "Epoch 183\n"
          ]
        },
        {
          "name": "stderr",
          "output_type": "stream",
          "text": [
            "Train: 100%|##########| 391/391 [00:49<00:00,  7.95batch/s]\n"
          ]
        },
        {
          "name": "stdout",
          "output_type": "stream",
          "text": [
            "LR: 1.0000e-04, Train Loss: 0.4357, Train Acc: 0.8516, Train Latency: 49.20s, Memory Usage: 3119.0KB\n",
            "Test Loss: 0.5529, Test Acc: 0.8111, Test Latency: 6.47s, Test Memory Usage: 194.0KB\n",
            "\n",
            "Epoch 184\n"
          ]
        },
        {
          "name": "stderr",
          "output_type": "stream",
          "text": [
            "Train: 100%|##########| 391/391 [00:49<00:00,  7.91batch/s]\n"
          ]
        },
        {
          "name": "stdout",
          "output_type": "stream",
          "text": [
            "LR: 1.0000e-04, Train Loss: 0.4372, Train Acc: 0.8492, Train Latency: 49.45s, Memory Usage: 3119.0KB\n",
            "Test Loss: 0.6061, Test Acc: 0.7995, Test Latency: 6.60s, Test Memory Usage: 194.0KB\n",
            "\n",
            "Epoch 185\n"
          ]
        },
        {
          "name": "stderr",
          "output_type": "stream",
          "text": [
            "Train: 100%|##########| 391/391 [00:49<00:00,  7.95batch/s]\n"
          ]
        },
        {
          "name": "stdout",
          "output_type": "stream",
          "text": [
            "LR: 1.0000e-04, Train Loss: 0.4408, Train Acc: 0.8485, Train Latency: 49.21s, Memory Usage: 3119.0KB\n",
            "Test Loss: 0.5950, Test Acc: 0.8017, Test Latency: 6.62s, Test Memory Usage: 194.0KB\n",
            "\n",
            "Epoch 186\n"
          ]
        },
        {
          "name": "stderr",
          "output_type": "stream",
          "text": [
            "Train: 100%|##########| 391/391 [00:49<00:00,  7.92batch/s]\n"
          ]
        },
        {
          "name": "stdout",
          "output_type": "stream",
          "text": [
            "LR: 1.0000e-04, Train Loss: 0.4403, Train Acc: 0.8479, Train Latency: 49.39s, Memory Usage: 3119.0KB\n",
            "Test Loss: 0.5227, Test Acc: 0.8234, Test Latency: 6.54s, Test Memory Usage: 194.0KB\n",
            "\n",
            "Epoch 187\n"
          ]
        },
        {
          "name": "stderr",
          "output_type": "stream",
          "text": [
            "Train: 100%|##########| 391/391 [00:49<00:00,  7.93batch/s]\n"
          ]
        },
        {
          "name": "stdout",
          "output_type": "stream",
          "text": [
            "LR: 1.0000e-04, Train Loss: 0.4348, Train Acc: 0.8511, Train Latency: 49.31s, Memory Usage: 3119.0KB\n",
            "Test Loss: 0.5165, Test Acc: 0.8240, Test Latency: 6.51s, Test Memory Usage: 194.0KB\n",
            "\n",
            "Epoch 188\n"
          ]
        },
        {
          "name": "stderr",
          "output_type": "stream",
          "text": [
            "Train: 100%|##########| 391/391 [00:49<00:00,  7.92batch/s]\n"
          ]
        },
        {
          "name": "stdout",
          "output_type": "stream",
          "text": [
            "LR: 1.0000e-04, Train Loss: 0.4400, Train Acc: 0.8475, Train Latency: 49.37s, Memory Usage: 3119.0KB\n",
            "Test Loss: 0.5042, Test Acc: 0.8270, Test Latency: 6.53s, Test Memory Usage: 194.0KB\n",
            "\n",
            "Epoch 189\n"
          ]
        },
        {
          "name": "stderr",
          "output_type": "stream",
          "text": [
            "Train: 100%|##########| 391/391 [00:49<00:00,  7.94batch/s]\n"
          ]
        },
        {
          "name": "stdout",
          "output_type": "stream",
          "text": [
            "LR: 1.0000e-04, Train Loss: 0.4378, Train Acc: 0.8496, Train Latency: 49.26s, Memory Usage: 3119.0KB\n",
            "Test Loss: 0.5893, Test Acc: 0.8023, Test Latency: 6.62s, Test Memory Usage: 194.0KB\n",
            "\n",
            "Epoch 190\n"
          ]
        },
        {
          "name": "stderr",
          "output_type": "stream",
          "text": [
            "Train: 100%|##########| 391/391 [00:49<00:00,  7.93batch/s]\n"
          ]
        },
        {
          "name": "stdout",
          "output_type": "stream",
          "text": [
            "LR: 1.0000e-04, Train Loss: 0.4401, Train Acc: 0.8494, Train Latency: 49.33s, Memory Usage: 3119.0KB\n",
            "Test Loss: 0.5982, Test Acc: 0.8017, Test Latency: 6.61s, Test Memory Usage: 194.0KB\n",
            "\n",
            "Epoch 191\n"
          ]
        },
        {
          "name": "stderr",
          "output_type": "stream",
          "text": [
            "Train: 100%|##########| 391/391 [00:49<00:00,  7.94batch/s]\n"
          ]
        },
        {
          "name": "stdout",
          "output_type": "stream",
          "text": [
            "LR: 1.0000e-04, Train Loss: 0.4439, Train Acc: 0.8474, Train Latency: 49.28s, Memory Usage: 3119.0KB\n",
            "Test Loss: 0.5462, Test Acc: 0.8135, Test Latency: 6.50s, Test Memory Usage: 194.0KB\n",
            "\n",
            "Epoch 192\n"
          ]
        },
        {
          "name": "stderr",
          "output_type": "stream",
          "text": [
            "Train: 100%|##########| 391/391 [00:49<00:00,  7.92batch/s]\n"
          ]
        },
        {
          "name": "stdout",
          "output_type": "stream",
          "text": [
            "LR: 1.0000e-04, Train Loss: 0.4422, Train Acc: 0.8474, Train Latency: 49.39s, Memory Usage: 3119.0KB\n",
            "Test Loss: 0.5302, Test Acc: 0.8206, Test Latency: 6.52s, Test Memory Usage: 194.0KB\n",
            "\n",
            "Epoch 193\n"
          ]
        },
        {
          "name": "stderr",
          "output_type": "stream",
          "text": [
            "Train: 100%|##########| 391/391 [00:49<00:00,  7.94batch/s]\n"
          ]
        },
        {
          "name": "stdout",
          "output_type": "stream",
          "text": [
            "LR: 1.0000e-04, Train Loss: 0.4442, Train Acc: 0.8466, Train Latency: 49.28s, Memory Usage: 3119.0KB\n",
            "Test Loss: 0.5160, Test Acc: 0.8259, Test Latency: 6.62s, Test Memory Usage: 194.0KB\n",
            "\n",
            "Epoch 194\n"
          ]
        },
        {
          "name": "stderr",
          "output_type": "stream",
          "text": [
            "Train: 100%|##########| 391/391 [00:49<00:00,  7.93batch/s]\n"
          ]
        },
        {
          "name": "stdout",
          "output_type": "stream",
          "text": [
            "LR: 1.0000e-04, Train Loss: 0.4385, Train Acc: 0.8486, Train Latency: 49.33s, Memory Usage: 3119.0KB\n",
            "Test Loss: 0.5338, Test Acc: 0.8145, Test Latency: 6.59s, Test Memory Usage: 194.0KB\n",
            "\n",
            "Epoch 195\n"
          ]
        },
        {
          "name": "stderr",
          "output_type": "stream",
          "text": [
            "Train: 100%|##########| 391/391 [00:49<00:00,  7.92batch/s]\n"
          ]
        },
        {
          "name": "stdout",
          "output_type": "stream",
          "text": [
            "LR: 1.0000e-04, Train Loss: 0.4449, Train Acc: 0.8463, Train Latency: 49.37s, Memory Usage: 3119.0KB\n",
            "Test Loss: 0.6021, Test Acc: 0.7986, Test Latency: 6.55s, Test Memory Usage: 194.0KB\n",
            "\n",
            "Epoch 196\n"
          ]
        },
        {
          "name": "stderr",
          "output_type": "stream",
          "text": [
            "Train: 100%|##########| 391/391 [00:49<00:00,  7.91batch/s]\n"
          ]
        },
        {
          "name": "stdout",
          "output_type": "stream",
          "text": [
            "LR: 1.0000e-04, Train Loss: 0.4476, Train Acc: 0.8460, Train Latency: 49.46s, Memory Usage: 3119.0KB\n",
            "Test Loss: 0.6033, Test Acc: 0.7957, Test Latency: 6.53s, Test Memory Usage: 194.0KB\n",
            "\n",
            "Epoch 197\n"
          ]
        },
        {
          "name": "stderr",
          "output_type": "stream",
          "text": [
            "Train: 100%|##########| 391/391 [00:49<00:00,  7.94batch/s]\n"
          ]
        },
        {
          "name": "stdout",
          "output_type": "stream",
          "text": [
            "LR: 1.0000e-04, Train Loss: 0.4401, Train Acc: 0.8482, Train Latency: 49.25s, Memory Usage: 3119.0KB\n",
            "Test Loss: 0.5218, Test Acc: 0.8186, Test Latency: 6.53s, Test Memory Usage: 194.0KB\n",
            "\n",
            "Epoch 198\n"
          ]
        },
        {
          "name": "stderr",
          "output_type": "stream",
          "text": [
            "Train: 100%|##########| 391/391 [00:49<00:00,  7.91batch/s]\n"
          ]
        },
        {
          "name": "stdout",
          "output_type": "stream",
          "text": [
            "LR: 1.0000e-04, Train Loss: 0.4475, Train Acc: 0.8453, Train Latency: 49.41s, Memory Usage: 3119.0KB\n",
            "Test Loss: 0.5205, Test Acc: 0.8247, Test Latency: 6.60s, Test Memory Usage: 194.0KB\n",
            "\n",
            "Epoch 199\n"
          ]
        },
        {
          "name": "stderr",
          "output_type": "stream",
          "text": [
            "Train: 100%|##########| 391/391 [00:49<00:00,  7.94batch/s]\n"
          ]
        },
        {
          "name": "stdout",
          "output_type": "stream",
          "text": [
            "LR: 1.0000e-04, Train Loss: 0.4461, Train Acc: 0.8467, Train Latency: 49.25s, Memory Usage: 3119.0KB\n",
            "Test Loss: 0.5595, Test Acc: 0.8139, Test Latency: 6.54s, Test Memory Usage: 194.0KB\n",
            "\n",
            "Epoch 200\n"
          ]
        },
        {
          "name": "stderr",
          "output_type": "stream",
          "text": [
            "Train: 100%|##########| 391/391 [00:49<00:00,  7.95batch/s]\n"
          ]
        },
        {
          "name": "stdout",
          "output_type": "stream",
          "text": [
            "LR: 1.0000e-04, Train Loss: 0.4391, Train Acc: 0.8497, Train Latency: 49.17s, Memory Usage: 3119.0KB\n",
            "Test Loss: 0.5031, Test Acc: 0.8292, Test Latency: 6.54s, Test Memory Usage: 194.0KB\n",
            "Saving final epoch model ...\n",
            "\n",
            "Quantization: weight=2 activation=2, Using device: cuda\n",
            "\n",
            "Epoch 1\n"
          ]
        },
        {
          "name": "stderr",
          "output_type": "stream",
          "text": [
            "Train: 100%|##########| 391/391 [00:46<00:00,  8.47batch/s]\n"
          ]
        },
        {
          "name": "stdout",
          "output_type": "stream",
          "text": [
            "LR: 1.0000e-01, Train Loss: 2.5181, Train Acc: 0.2424, Train Latency: 46.17s, Memory Usage: 3119.0KB\n",
            "Test Loss: 1.7705, Test Acc: 0.3290, Test Latency: 5.91s, Test Memory Usage: 194.0KB\n",
            "\n",
            "Epoch 2\n"
          ]
        },
        {
          "name": "stderr",
          "output_type": "stream",
          "text": [
            "Train: 100%|##########| 391/391 [00:45<00:00,  8.50batch/s]\n"
          ]
        },
        {
          "name": "stdout",
          "output_type": "stream",
          "text": [
            "LR: 1.0000e-01, Train Loss: 1.7734, Train Acc: 0.3354, Train Latency: 45.99s, Memory Usage: 3119.0KB\n",
            "Test Loss: 1.8387, Test Acc: 0.3308, Test Latency: 5.82s, Test Memory Usage: 194.0KB\n",
            "\n",
            "Epoch 3\n"
          ]
        },
        {
          "name": "stderr",
          "output_type": "stream",
          "text": [
            "Train: 100%|##########| 391/391 [00:45<00:00,  8.53batch/s]\n"
          ]
        },
        {
          "name": "stdout",
          "output_type": "stream",
          "text": [
            "LR: 1.0000e-01, Train Loss: 1.7346, Train Acc: 0.3507, Train Latency: 45.86s, Memory Usage: 3119.0KB\n",
            "Test Loss: 1.6566, Test Acc: 0.3913, Test Latency: 5.87s, Test Memory Usage: 194.0KB\n",
            "\n",
            "Epoch 4\n"
          ]
        },
        {
          "name": "stderr",
          "output_type": "stream",
          "text": [
            "Train: 100%|##########| 391/391 [00:46<00:00,  8.47batch/s]\n"
          ]
        },
        {
          "name": "stdout",
          "output_type": "stream",
          "text": [
            "LR: 1.0000e-01, Train Loss: 2.6697, Train Acc: 0.3035, Train Latency: 46.18s, Memory Usage: 3119.0KB\n",
            "Test Loss: 2.9657, Test Acc: 0.2202, Test Latency: 5.94s, Test Memory Usage: 194.0KB\n",
            "\n",
            "Epoch 5\n"
          ]
        },
        {
          "name": "stderr",
          "output_type": "stream",
          "text": [
            "Train: 100%|##########| 391/391 [00:46<00:00,  8.37batch/s]\n"
          ]
        },
        {
          "name": "stdout",
          "output_type": "stream",
          "text": [
            "LR: 1.0000e-01, Train Loss: 1.9133, Train Acc: 0.3155, Train Latency: 46.69s, Memory Usage: 3119.0KB\n",
            "Test Loss: 1.8819, Test Acc: 0.3547, Test Latency: 5.87s, Test Memory Usage: 194.0KB\n",
            "\n",
            "Epoch 6\n"
          ]
        },
        {
          "name": "stderr",
          "output_type": "stream",
          "text": [
            "Train: 100%|##########| 391/391 [00:46<00:00,  8.40batch/s]\n"
          ]
        },
        {
          "name": "stdout",
          "output_type": "stream",
          "text": [
            "LR: 1.0000e-01, Train Loss: 3.4316, Train Acc: 0.3150, Train Latency: 46.56s, Memory Usage: 3119.0KB\n",
            "Test Loss: 1.9676, Test Acc: 0.3166, Test Latency: 5.89s, Test Memory Usage: 194.0KB\n",
            "\n",
            "Epoch 7\n"
          ]
        },
        {
          "name": "stderr",
          "output_type": "stream",
          "text": [
            "Train: 100%|##########| 391/391 [00:46<00:00,  8.46batch/s]\n"
          ]
        },
        {
          "name": "stdout",
          "output_type": "stream",
          "text": [
            "LR: 1.0000e-01, Train Loss: 1.7844, Train Acc: 0.3458, Train Latency: 46.23s, Memory Usage: 3119.0KB\n",
            "Test Loss: 2.0760, Test Acc: 0.3164, Test Latency: 5.89s, Test Memory Usage: 194.0KB\n",
            "\n",
            "Epoch 8\n"
          ]
        },
        {
          "name": "stderr",
          "output_type": "stream",
          "text": [
            "Train: 100%|##########| 391/391 [00:46<00:00,  8.47batch/s]\n"
          ]
        },
        {
          "name": "stdout",
          "output_type": "stream",
          "text": [
            "LR: 1.0000e-01, Train Loss: 3.3531, Train Acc: 0.3025, Train Latency: 46.17s, Memory Usage: 3119.0KB\n",
            "Test Loss: 5.4569, Test Acc: 0.2275, Test Latency: 5.86s, Test Memory Usage: 194.0KB\n",
            "\n",
            "Epoch 9\n"
          ]
        },
        {
          "name": "stderr",
          "output_type": "stream",
          "text": [
            "Train: 100%|##########| 391/391 [00:46<00:00,  8.46batch/s]\n"
          ]
        },
        {
          "name": "stdout",
          "output_type": "stream",
          "text": [
            "LR: 1.0000e-01, Train Loss: 1.7453, Train Acc: 0.3920, Train Latency: 46.22s, Memory Usage: 3119.0KB\n",
            "Test Loss: 1.7612, Test Acc: 0.3789, Test Latency: 5.90s, Test Memory Usage: 194.0KB\n",
            "\n",
            "Epoch 10\n"
          ]
        },
        {
          "name": "stderr",
          "output_type": "stream",
          "text": [
            "Train: 100%|##########| 391/391 [00:46<00:00,  8.46batch/s]\n"
          ]
        },
        {
          "name": "stdout",
          "output_type": "stream",
          "text": [
            "LR: 1.0000e-01, Train Loss: 1.5599, Train Acc: 0.4344, Train Latency: 46.20s, Memory Usage: 3119.0KB\n",
            "Test Loss: 1.8164, Test Acc: 0.4136, Test Latency: 5.88s, Test Memory Usage: 194.0KB\n",
            "\n",
            "Epoch 11\n"
          ]
        },
        {
          "name": "stderr",
          "output_type": "stream",
          "text": [
            "Train: 100%|##########| 391/391 [00:46<00:00,  8.45batch/s]\n"
          ]
        },
        {
          "name": "stdout",
          "output_type": "stream",
          "text": [
            "LR: 1.0000e-01, Train Loss: 1.7207, Train Acc: 0.4040, Train Latency: 46.27s, Memory Usage: 3119.0KB\n",
            "Test Loss: 1.8696, Test Acc: 0.3826, Test Latency: 5.87s, Test Memory Usage: 194.0KB\n",
            "\n",
            "Epoch 12\n"
          ]
        },
        {
          "name": "stderr",
          "output_type": "stream",
          "text": [
            "Train: 100%|##########| 391/391 [00:46<00:00,  8.45batch/s]\n"
          ]
        },
        {
          "name": "stdout",
          "output_type": "stream",
          "text": [
            "LR: 1.0000e-01, Train Loss: 1.6601, Train Acc: 0.4311, Train Latency: 46.26s, Memory Usage: 3119.0KB\n",
            "Test Loss: 2.8587, Test Acc: 0.2660, Test Latency: 5.87s, Test Memory Usage: 194.0KB\n",
            "\n",
            "Epoch 13\n"
          ]
        },
        {
          "name": "stderr",
          "output_type": "stream",
          "text": [
            "Train: 100%|##########| 391/391 [00:46<00:00,  8.44batch/s]\n"
          ]
        },
        {
          "name": "stdout",
          "output_type": "stream",
          "text": [
            "LR: 1.0000e-01, Train Loss: 1.5483, Train Acc: 0.4544, Train Latency: 46.33s, Memory Usage: 3119.0KB\n",
            "Test Loss: 1.6692, Test Acc: 0.4316, Test Latency: 5.94s, Test Memory Usage: 194.0KB\n",
            "\n",
            "Epoch 14\n"
          ]
        },
        {
          "name": "stderr",
          "output_type": "stream",
          "text": [
            "Train: 100%|##########| 391/391 [00:46<00:00,  8.44batch/s]\n"
          ]
        },
        {
          "name": "stdout",
          "output_type": "stream",
          "text": [
            "LR: 1.0000e-01, Train Loss: 1.5790, Train Acc: 0.4542, Train Latency: 46.33s, Memory Usage: 3119.0KB\n",
            "Test Loss: 2.4309, Test Acc: 0.3045, Test Latency: 5.87s, Test Memory Usage: 194.0KB\n",
            "\n",
            "Epoch 15\n"
          ]
        },
        {
          "name": "stderr",
          "output_type": "stream",
          "text": [
            "Train: 100%|##########| 391/391 [00:46<00:00,  8.46batch/s]\n"
          ]
        },
        {
          "name": "stdout",
          "output_type": "stream",
          "text": [
            "LR: 1.0000e-01, Train Loss: 1.5397, Train Acc: 0.4683, Train Latency: 46.24s, Memory Usage: 3119.0KB\n",
            "Test Loss: 2.0239, Test Acc: 0.3216, Test Latency: 5.89s, Test Memory Usage: 194.0KB\n",
            "\n",
            "Epoch 16\n"
          ]
        },
        {
          "name": "stderr",
          "output_type": "stream",
          "text": [
            "Train: 100%|##########| 391/391 [00:46<00:00,  8.43batch/s]\n"
          ]
        },
        {
          "name": "stdout",
          "output_type": "stream",
          "text": [
            "LR: 1.0000e-01, Train Loss: 1.5100, Train Acc: 0.4819, Train Latency: 46.39s, Memory Usage: 3119.0KB\n",
            "Test Loss: 1.5888, Test Acc: 0.4500, Test Latency: 5.93s, Test Memory Usage: 194.0KB\n",
            "\n",
            "Epoch 17\n"
          ]
        },
        {
          "name": "stderr",
          "output_type": "stream",
          "text": [
            "Train: 100%|##########| 391/391 [00:46<00:00,  8.40batch/s]\n"
          ]
        },
        {
          "name": "stdout",
          "output_type": "stream",
          "text": [
            "LR: 1.0000e-01, Train Loss: 1.4144, Train Acc: 0.5101, Train Latency: 46.53s, Memory Usage: 3119.0KB\n",
            "Test Loss: 1.9353, Test Acc: 0.3696, Test Latency: 5.88s, Test Memory Usage: 194.0KB\n",
            "\n",
            "Epoch 18\n"
          ]
        },
        {
          "name": "stderr",
          "output_type": "stream",
          "text": [
            "Train: 100%|##########| 391/391 [00:47<00:00,  8.31batch/s]\n"
          ]
        },
        {
          "name": "stdout",
          "output_type": "stream",
          "text": [
            "LR: 1.0000e-01, Train Loss: 1.4011, Train Acc: 0.5122, Train Latency: 47.04s, Memory Usage: 3119.0KB\n",
            "Test Loss: 2.1568, Test Acc: 0.3677, Test Latency: 5.89s, Test Memory Usage: 194.0KB\n",
            "\n",
            "Epoch 19\n"
          ]
        },
        {
          "name": "stderr",
          "output_type": "stream",
          "text": [
            "Train: 100%|##########| 391/391 [00:46<00:00,  8.34batch/s]\n"
          ]
        },
        {
          "name": "stdout",
          "output_type": "stream",
          "text": [
            "LR: 1.0000e-01, Train Loss: 1.3379, Train Acc: 0.5322, Train Latency: 46.89s, Memory Usage: 3119.0KB\n",
            "Test Loss: 1.9117, Test Acc: 0.4019, Test Latency: 6.01s, Test Memory Usage: 194.0KB\n",
            "\n",
            "Epoch 20\n"
          ]
        },
        {
          "name": "stderr",
          "output_type": "stream",
          "text": [
            "Train: 100%|##########| 391/391 [00:47<00:00,  8.31batch/s]\n"
          ]
        },
        {
          "name": "stdout",
          "output_type": "stream",
          "text": [
            "LR: 1.0000e-01, Train Loss: 1.3300, Train Acc: 0.5339, Train Latency: 47.07s, Memory Usage: 3119.0KB\n",
            "Test Loss: 1.6544, Test Acc: 0.4951, Test Latency: 6.00s, Test Memory Usage: 194.0KB\n",
            "\n",
            "Epoch 21\n"
          ]
        },
        {
          "name": "stderr",
          "output_type": "stream",
          "text": [
            "Train: 100%|##########| 391/391 [00:47<00:00,  8.22batch/s]\n"
          ]
        },
        {
          "name": "stdout",
          "output_type": "stream",
          "text": [
            "LR: 1.0000e-01, Train Loss: 1.2528, Train Acc: 0.5570, Train Latency: 47.56s, Memory Usage: 3119.0KB\n",
            "Test Loss: 1.4974, Test Acc: 0.5067, Test Latency: 6.15s, Test Memory Usage: 194.0KB\n",
            "\n",
            "Epoch 22\n"
          ]
        },
        {
          "name": "stderr",
          "output_type": "stream",
          "text": [
            "Train: 100%|##########| 391/391 [00:47<00:00,  8.21batch/s]\n"
          ]
        },
        {
          "name": "stdout",
          "output_type": "stream",
          "text": [
            "LR: 1.0000e-01, Train Loss: 1.2341, Train Acc: 0.5685, Train Latency: 47.66s, Memory Usage: 3119.0KB\n",
            "Test Loss: 1.9688, Test Acc: 0.4688, Test Latency: 6.09s, Test Memory Usage: 194.0KB\n",
            "\n",
            "Epoch 23\n"
          ]
        },
        {
          "name": "stderr",
          "output_type": "stream",
          "text": [
            "Train: 100%|##########| 391/391 [00:47<00:00,  8.23batch/s]\n"
          ]
        },
        {
          "name": "stdout",
          "output_type": "stream",
          "text": [
            "LR: 1.0000e-01, Train Loss: 1.2454, Train Acc: 0.5636, Train Latency: 47.49s, Memory Usage: 3119.0KB\n",
            "Test Loss: 1.4882, Test Acc: 0.4984, Test Latency: 6.03s, Test Memory Usage: 194.0KB\n",
            "\n",
            "Epoch 24\n"
          ]
        },
        {
          "name": "stderr",
          "output_type": "stream",
          "text": [
            "Train: 100%|##########| 391/391 [00:47<00:00,  8.22batch/s]\n"
          ]
        },
        {
          "name": "stdout",
          "output_type": "stream",
          "text": [
            "LR: 1.0000e-01, Train Loss: 1.2494, Train Acc: 0.5617, Train Latency: 47.58s, Memory Usage: 3119.0KB\n",
            "Test Loss: 3.4319, Test Acc: 0.2753, Test Latency: 6.11s, Test Memory Usage: 194.0KB\n",
            "\n",
            "Epoch 25\n"
          ]
        },
        {
          "name": "stderr",
          "output_type": "stream",
          "text": [
            "Train: 100%|##########| 391/391 [00:47<00:00,  8.23batch/s]\n"
          ]
        },
        {
          "name": "stdout",
          "output_type": "stream",
          "text": [
            "LR: 1.0000e-01, Train Loss: 1.2468, Train Acc: 0.5667, Train Latency: 47.52s, Memory Usage: 3119.0KB\n",
            "Test Loss: 1.7569, Test Acc: 0.4748, Test Latency: 6.05s, Test Memory Usage: 194.0KB\n",
            "\n",
            "Epoch 26\n"
          ]
        },
        {
          "name": "stderr",
          "output_type": "stream",
          "text": [
            "Train: 100%|##########| 391/391 [00:47<00:00,  8.24batch/s]\n"
          ]
        },
        {
          "name": "stdout",
          "output_type": "stream",
          "text": [
            "LR: 1.0000e-01, Train Loss: 1.2400, Train Acc: 0.5653, Train Latency: 47.44s, Memory Usage: 3119.0KB\n",
            "Test Loss: 1.8260, Test Acc: 0.3770, Test Latency: 6.08s, Test Memory Usage: 194.0KB\n",
            "\n",
            "Epoch 27\n"
          ]
        },
        {
          "name": "stderr",
          "output_type": "stream",
          "text": [
            "Train: 100%|##########| 391/391 [00:47<00:00,  8.30batch/s]\n"
          ]
        },
        {
          "name": "stdout",
          "output_type": "stream",
          "text": [
            "LR: 1.0000e-01, Train Loss: 1.2705, Train Acc: 0.5553, Train Latency: 47.12s, Memory Usage: 3119.0KB\n",
            "Test Loss: 1.6552, Test Acc: 0.4630, Test Latency: 6.13s, Test Memory Usage: 194.0KB\n",
            "\n",
            "Epoch 28\n"
          ]
        },
        {
          "name": "stderr",
          "output_type": "stream",
          "text": [
            "Train: 100%|##########| 391/391 [00:46<00:00,  8.40batch/s]\n"
          ]
        },
        {
          "name": "stdout",
          "output_type": "stream",
          "text": [
            "LR: 1.0000e-01, Train Loss: 1.2684, Train Acc: 0.5598, Train Latency: 46.57s, Memory Usage: 3119.0KB\n",
            "Test Loss: 1.6892, Test Acc: 0.4874, Test Latency: 5.86s, Test Memory Usage: 194.0KB\n",
            "\n",
            "Epoch 29\n"
          ]
        },
        {
          "name": "stderr",
          "output_type": "stream",
          "text": [
            "Train: 100%|##########| 391/391 [00:46<00:00,  8.36batch/s]\n"
          ]
        },
        {
          "name": "stdout",
          "output_type": "stream",
          "text": [
            "LR: 1.0000e-01, Train Loss: 1.2813, Train Acc: 0.5553, Train Latency: 46.75s, Memory Usage: 3119.0KB\n",
            "Test Loss: 2.0536, Test Acc: 0.3947, Test Latency: 5.97s, Test Memory Usage: 194.0KB\n",
            "\n",
            "Epoch 30\n"
          ]
        },
        {
          "name": "stderr",
          "output_type": "stream",
          "text": [
            "Train: 100%|##########| 391/391 [00:46<00:00,  8.41batch/s]\n"
          ]
        },
        {
          "name": "stdout",
          "output_type": "stream",
          "text": [
            "LR: 1.0000e-01, Train Loss: 1.2589, Train Acc: 0.5619, Train Latency: 46.52s, Memory Usage: 3119.0KB\n",
            "Test Loss: 2.3948, Test Acc: 0.3487, Test Latency: 5.95s, Test Memory Usage: 194.0KB\n",
            "\n",
            "Epoch 31\n"
          ]
        },
        {
          "name": "stderr",
          "output_type": "stream",
          "text": [
            "Train: 100%|##########| 391/391 [00:46<00:00,  8.44batch/s]\n"
          ]
        },
        {
          "name": "stdout",
          "output_type": "stream",
          "text": [
            "LR: 1.0000e-01, Train Loss: 1.2402, Train Acc: 0.5715, Train Latency: 46.34s, Memory Usage: 3119.0KB\n",
            "Test Loss: 4.2395, Test Acc: 0.3082, Test Latency: 5.86s, Test Memory Usage: 194.0KB\n",
            "\n",
            "Epoch 32\n"
          ]
        },
        {
          "name": "stderr",
          "output_type": "stream",
          "text": [
            "Train: 100%|##########| 391/391 [00:46<00:00,  8.42batch/s]\n"
          ]
        },
        {
          "name": "stdout",
          "output_type": "stream",
          "text": [
            "LR: 1.0000e-01, Train Loss: 1.2680, Train Acc: 0.5567, Train Latency: 46.43s, Memory Usage: 3119.0KB\n",
            "Test Loss: 1.7538, Test Acc: 0.4480, Test Latency: 6.04s, Test Memory Usage: 194.0KB\n",
            "\n",
            "Epoch 33\n"
          ]
        },
        {
          "name": "stderr",
          "output_type": "stream",
          "text": [
            "Train: 100%|##########| 391/391 [00:46<00:00,  8.42batch/s]\n"
          ]
        },
        {
          "name": "stdout",
          "output_type": "stream",
          "text": [
            "LR: 1.0000e-01, Train Loss: 1.2322, Train Acc: 0.5709, Train Latency: 46.42s, Memory Usage: 3119.0KB\n",
            "Test Loss: 1.4247, Test Acc: 0.5456, Test Latency: 5.97s, Test Memory Usage: 194.0KB\n",
            "\n",
            "Epoch 34\n"
          ]
        },
        {
          "name": "stderr",
          "output_type": "stream",
          "text": [
            "Train: 100%|##########| 391/391 [00:46<00:00,  8.39batch/s]\n"
          ]
        },
        {
          "name": "stdout",
          "output_type": "stream",
          "text": [
            "LR: 1.0000e-01, Train Loss: 1.2442, Train Acc: 0.5641, Train Latency: 46.60s, Memory Usage: 3119.0KB\n",
            "Test Loss: 1.5967, Test Acc: 0.4985, Test Latency: 5.93s, Test Memory Usage: 194.0KB\n",
            "\n",
            "Epoch 35\n"
          ]
        },
        {
          "name": "stderr",
          "output_type": "stream",
          "text": [
            "Train: 100%|##########| 391/391 [00:46<00:00,  8.43batch/s]\n"
          ]
        },
        {
          "name": "stdout",
          "output_type": "stream",
          "text": [
            "LR: 1.0000e-01, Train Loss: 1.2299, Train Acc: 0.5706, Train Latency: 46.39s, Memory Usage: 3119.0KB\n",
            "Test Loss: 1.8679, Test Acc: 0.4708, Test Latency: 6.03s, Test Memory Usage: 194.0KB\n",
            "\n",
            "Epoch 36\n"
          ]
        },
        {
          "name": "stderr",
          "output_type": "stream",
          "text": [
            "Train: 100%|##########| 391/391 [00:46<00:00,  8.37batch/s]\n"
          ]
        },
        {
          "name": "stdout",
          "output_type": "stream",
          "text": [
            "LR: 1.0000e-01, Train Loss: 1.2370, Train Acc: 0.5695, Train Latency: 46.70s, Memory Usage: 3119.0KB\n",
            "Test Loss: 2.0723, Test Acc: 0.4101, Test Latency: 5.91s, Test Memory Usage: 194.0KB\n",
            "\n",
            "Epoch 37\n"
          ]
        },
        {
          "name": "stderr",
          "output_type": "stream",
          "text": [
            "Train: 100%|##########| 391/391 [00:46<00:00,  8.43batch/s]\n"
          ]
        },
        {
          "name": "stdout",
          "output_type": "stream",
          "text": [
            "LR: 1.0000e-01, Train Loss: 1.2505, Train Acc: 0.5615, Train Latency: 46.39s, Memory Usage: 3119.0KB\n",
            "Test Loss: 2.1232, Test Acc: 0.4595, Test Latency: 5.90s, Test Memory Usage: 194.0KB\n",
            "\n",
            "Epoch 38\n"
          ]
        },
        {
          "name": "stderr",
          "output_type": "stream",
          "text": [
            "Train: 100%|##########| 391/391 [00:46<00:00,  8.44batch/s]\n"
          ]
        },
        {
          "name": "stdout",
          "output_type": "stream",
          "text": [
            "LR: 1.0000e-01, Train Loss: 1.2407, Train Acc: 0.5683, Train Latency: 46.35s, Memory Usage: 3119.0KB\n",
            "Test Loss: 1.6485, Test Acc: 0.4853, Test Latency: 5.96s, Test Memory Usage: 194.0KB\n",
            "\n",
            "Epoch 39\n"
          ]
        },
        {
          "name": "stderr",
          "output_type": "stream",
          "text": [
            "Train: 100%|##########| 391/391 [00:46<00:00,  8.42batch/s]\n"
          ]
        },
        {
          "name": "stdout",
          "output_type": "stream",
          "text": [
            "LR: 1.0000e-01, Train Loss: 1.2416, Train Acc: 0.5663, Train Latency: 46.44s, Memory Usage: 3119.0KB\n",
            "Test Loss: 2.3712, Test Acc: 0.3611, Test Latency: 5.93s, Test Memory Usage: 194.0KB\n",
            "\n",
            "Epoch 40\n"
          ]
        },
        {
          "name": "stderr",
          "output_type": "stream",
          "text": [
            "Train: 100%|##########| 391/391 [00:46<00:00,  8.41batch/s]\n"
          ]
        },
        {
          "name": "stdout",
          "output_type": "stream",
          "text": [
            "LR: 1.0000e-01, Train Loss: 1.2664, Train Acc: 0.5575, Train Latency: 46.49s, Memory Usage: 3119.0KB\n",
            "Test Loss: 1.4526, Test Acc: 0.5206, Test Latency: 5.90s, Test Memory Usage: 194.0KB\n",
            "\n",
            "Epoch 41\n"
          ]
        },
        {
          "name": "stderr",
          "output_type": "stream",
          "text": [
            "Train: 100%|##########| 391/391 [00:46<00:00,  8.39batch/s]\n"
          ]
        },
        {
          "name": "stdout",
          "output_type": "stream",
          "text": [
            "LR: 1.0000e-01, Train Loss: 1.2594, Train Acc: 0.5603, Train Latency: 46.59s, Memory Usage: 3119.0KB\n",
            "Test Loss: 1.4081, Test Acc: 0.5062, Test Latency: 6.01s, Test Memory Usage: 194.0KB\n",
            "\n",
            "Epoch 42\n"
          ]
        },
        {
          "name": "stderr",
          "output_type": "stream",
          "text": [
            "Train: 100%|##########| 391/391 [00:46<00:00,  8.44batch/s]\n"
          ]
        },
        {
          "name": "stdout",
          "output_type": "stream",
          "text": [
            "LR: 1.0000e-01, Train Loss: 1.2355, Train Acc: 0.5688, Train Latency: 46.36s, Memory Usage: 3119.0KB\n",
            "Test Loss: 1.5931, Test Acc: 0.4616, Test Latency: 5.92s, Test Memory Usage: 194.0KB\n",
            "\n",
            "Epoch 43\n"
          ]
        },
        {
          "name": "stderr",
          "output_type": "stream",
          "text": [
            "Train: 100%|##########| 391/391 [00:46<00:00,  8.42batch/s]\n"
          ]
        },
        {
          "name": "stdout",
          "output_type": "stream",
          "text": [
            "LR: 1.0000e-01, Train Loss: 1.2414, Train Acc: 0.5705, Train Latency: 46.45s, Memory Usage: 3119.0KB\n",
            "Test Loss: 1.6580, Test Acc: 0.4746, Test Latency: 5.89s, Test Memory Usage: 194.0KB\n",
            "\n",
            "Epoch 44\n"
          ]
        },
        {
          "name": "stderr",
          "output_type": "stream",
          "text": [
            "Train: 100%|##########| 391/391 [00:46<00:00,  8.45batch/s]\n"
          ]
        },
        {
          "name": "stdout",
          "output_type": "stream",
          "text": [
            "LR: 1.0000e-01, Train Loss: 1.2649, Train Acc: 0.5587, Train Latency: 46.29s, Memory Usage: 3119.0KB\n",
            "Test Loss: 4.9154, Test Acc: 0.2485, Test Latency: 6.06s, Test Memory Usage: 194.0KB\n",
            "\n",
            "Epoch 45\n"
          ]
        },
        {
          "name": "stderr",
          "output_type": "stream",
          "text": [
            "Train: 100%|##########| 391/391 [00:46<00:00,  8.38batch/s]\n"
          ]
        },
        {
          "name": "stdout",
          "output_type": "stream",
          "text": [
            "LR: 1.0000e-01, Train Loss: 1.2448, Train Acc: 0.5650, Train Latency: 46.65s, Memory Usage: 3119.0KB\n",
            "Test Loss: 1.7054, Test Acc: 0.5259, Test Latency: 5.93s, Test Memory Usage: 194.0KB\n",
            "\n",
            "Epoch 46\n"
          ]
        },
        {
          "name": "stderr",
          "output_type": "stream",
          "text": [
            "Train: 100%|##########| 391/391 [00:46<00:00,  8.44batch/s]\n"
          ]
        },
        {
          "name": "stdout",
          "output_type": "stream",
          "text": [
            "LR: 1.0000e-01, Train Loss: 1.2508, Train Acc: 0.5657, Train Latency: 46.36s, Memory Usage: 3119.0KB\n",
            "Test Loss: 2.0621, Test Acc: 0.4021, Test Latency: 5.89s, Test Memory Usage: 194.0KB\n",
            "\n",
            "Epoch 47\n"
          ]
        },
        {
          "name": "stderr",
          "output_type": "stream",
          "text": [
            "Train: 100%|##########| 391/391 [00:46<00:00,  8.43batch/s]\n"
          ]
        },
        {
          "name": "stdout",
          "output_type": "stream",
          "text": [
            "LR: 1.0000e-01, Train Loss: 1.2256, Train Acc: 0.5739, Train Latency: 46.36s, Memory Usage: 3119.0KB\n",
            "Test Loss: 1.6844, Test Acc: 0.4282, Test Latency: 6.02s, Test Memory Usage: 194.0KB\n",
            "\n",
            "Epoch 48\n"
          ]
        },
        {
          "name": "stderr",
          "output_type": "stream",
          "text": [
            "Train: 100%|##########| 391/391 [00:46<00:00,  8.40batch/s]\n"
          ]
        },
        {
          "name": "stdout",
          "output_type": "stream",
          "text": [
            "LR: 1.0000e-01, Train Loss: 1.2320, Train Acc: 0.5722, Train Latency: 46.56s, Memory Usage: 3119.0KB\n",
            "Test Loss: 1.6025, Test Acc: 0.4440, Test Latency: 5.95s, Test Memory Usage: 194.0KB\n",
            "\n",
            "Epoch 49\n"
          ]
        },
        {
          "name": "stderr",
          "output_type": "stream",
          "text": [
            "Train: 100%|##########| 391/391 [00:46<00:00,  8.40batch/s]\n"
          ]
        },
        {
          "name": "stdout",
          "output_type": "stream",
          "text": [
            "LR: 1.0000e-01, Train Loss: 1.2631, Train Acc: 0.5614, Train Latency: 46.57s, Memory Usage: 3119.0KB\n",
            "Test Loss: 1.3065, Test Acc: 0.5363, Test Latency: 5.94s, Test Memory Usage: 194.0KB\n",
            "\n",
            "Epoch 50\n"
          ]
        },
        {
          "name": "stderr",
          "output_type": "stream",
          "text": [
            "Train: 100%|##########| 391/391 [00:46<00:00,  8.41batch/s]\n"
          ]
        },
        {
          "name": "stdout",
          "output_type": "stream",
          "text": [
            "LR: 1.0000e-01, Train Loss: 1.2793, Train Acc: 0.5540, Train Latency: 46.49s, Memory Usage: 3119.0KB\n",
            "Test Loss: 1.5879, Test Acc: 0.4922, Test Latency: 5.99s, Test Memory Usage: 194.0KB\n",
            "\n",
            "Epoch 51\n"
          ]
        },
        {
          "name": "stderr",
          "output_type": "stream",
          "text": [
            "Train: 100%|##########| 391/391 [00:46<00:00,  8.45batch/s]\n"
          ]
        },
        {
          "name": "stdout",
          "output_type": "stream",
          "text": [
            "LR: 1.0000e-02, Train Loss: 1.0385, Train Acc: 0.6332, Train Latency: 46.26s, Memory Usage: 3119.0KB\n",
            "Test Loss: 1.0494, Test Acc: 0.6401, Test Latency: 5.91s, Test Memory Usage: 194.0KB\n",
            "Saving best model ...\n",
            "\n",
            "Epoch 52\n"
          ]
        },
        {
          "name": "stderr",
          "output_type": "stream",
          "text": [
            "Train: 100%|##########| 391/391 [00:46<00:00,  8.44batch/s]\n"
          ]
        },
        {
          "name": "stdout",
          "output_type": "stream",
          "text": [
            "LR: 1.0000e-02, Train Loss: 0.9993, Train Acc: 0.6492, Train Latency: 46.31s, Memory Usage: 3119.0KB\n",
            "Test Loss: 1.0097, Test Acc: 0.6463, Test Latency: 5.94s, Test Memory Usage: 194.0KB\n",
            "Saving best model ...\n",
            "\n",
            "Epoch 53\n"
          ]
        },
        {
          "name": "stderr",
          "output_type": "stream",
          "text": [
            "Train: 100%|##########| 391/391 [00:46<00:00,  8.43batch/s]\n"
          ]
        },
        {
          "name": "stdout",
          "output_type": "stream",
          "text": [
            "LR: 1.0000e-02, Train Loss: 0.9841, Train Acc: 0.6545, Train Latency: 46.40s, Memory Usage: 3119.0KB\n",
            "Test Loss: 1.0419, Test Acc: 0.6346, Test Latency: 6.00s, Test Memory Usage: 194.0KB\n",
            "\n",
            "Epoch 54\n"
          ]
        },
        {
          "name": "stderr",
          "output_type": "stream",
          "text": [
            "Train: 100%|##########| 391/391 [00:46<00:00,  8.40batch/s]\n"
          ]
        },
        {
          "name": "stdout",
          "output_type": "stream",
          "text": [
            "LR: 1.0000e-02, Train Loss: 0.9853, Train Acc: 0.6553, Train Latency: 46.56s, Memory Usage: 3119.0KB\n",
            "Test Loss: 1.0288, Test Acc: 0.6460, Test Latency: 6.02s, Test Memory Usage: 194.0KB\n",
            "\n",
            "Epoch 55\n"
          ]
        },
        {
          "name": "stderr",
          "output_type": "stream",
          "text": [
            "Train: 100%|##########| 391/391 [00:46<00:00,  8.37batch/s]\n"
          ]
        },
        {
          "name": "stdout",
          "output_type": "stream",
          "text": [
            "LR: 1.0000e-02, Train Loss: 0.9798, Train Acc: 0.6564, Train Latency: 46.72s, Memory Usage: 3119.0KB\n",
            "Test Loss: 1.0189, Test Acc: 0.6434, Test Latency: 5.98s, Test Memory Usage: 194.0KB\n",
            "\n",
            "Epoch 56\n"
          ]
        },
        {
          "name": "stderr",
          "output_type": "stream",
          "text": [
            "Train: 100%|##########| 391/391 [00:46<00:00,  8.38batch/s]\n"
          ]
        },
        {
          "name": "stdout",
          "output_type": "stream",
          "text": [
            "LR: 1.0000e-02, Train Loss: 0.9768, Train Acc: 0.6566, Train Latency: 46.68s, Memory Usage: 3119.0KB\n",
            "Test Loss: 1.2246, Test Acc: 0.5878, Test Latency: 5.97s, Test Memory Usage: 194.0KB\n",
            "\n",
            "Epoch 57\n"
          ]
        },
        {
          "name": "stderr",
          "output_type": "stream",
          "text": [
            "Train: 100%|##########| 391/391 [00:46<00:00,  8.43batch/s]\n"
          ]
        },
        {
          "name": "stdout",
          "output_type": "stream",
          "text": [
            "LR: 1.0000e-02, Train Loss: 0.9853, Train Acc: 0.6528, Train Latency: 46.40s, Memory Usage: 3119.0KB\n",
            "Test Loss: 1.1615, Test Acc: 0.6237, Test Latency: 5.94s, Test Memory Usage: 194.0KB\n",
            "\n",
            "Epoch 58\n"
          ]
        },
        {
          "name": "stderr",
          "output_type": "stream",
          "text": [
            "Train: 100%|##########| 391/391 [00:46<00:00,  8.38batch/s]\n"
          ]
        },
        {
          "name": "stdout",
          "output_type": "stream",
          "text": [
            "LR: 1.0000e-02, Train Loss: 0.9913, Train Acc: 0.6495, Train Latency: 46.64s, Memory Usage: 3119.0KB\n",
            "Test Loss: 1.4024, Test Acc: 0.5420, Test Latency: 6.02s, Test Memory Usage: 194.0KB\n",
            "\n",
            "Epoch 59\n"
          ]
        },
        {
          "name": "stderr",
          "output_type": "stream",
          "text": [
            "Train: 100%|##########| 391/391 [00:46<00:00,  8.43batch/s]\n"
          ]
        },
        {
          "name": "stdout",
          "output_type": "stream",
          "text": [
            "LR: 1.0000e-02, Train Loss: 1.0137, Train Acc: 0.6419, Train Latency: 46.39s, Memory Usage: 3119.0KB\n",
            "Test Loss: 1.1101, Test Acc: 0.6135, Test Latency: 5.88s, Test Memory Usage: 194.0KB\n",
            "\n",
            "Epoch 60\n"
          ]
        },
        {
          "name": "stderr",
          "output_type": "stream",
          "text": [
            "Train: 100%|##########| 391/391 [00:46<00:00,  8.46batch/s]\n"
          ]
        },
        {
          "name": "stdout",
          "output_type": "stream",
          "text": [
            "LR: 1.0000e-02, Train Loss: 1.0130, Train Acc: 0.6433, Train Latency: 46.22s, Memory Usage: 3119.0KB\n",
            "Test Loss: 1.2203, Test Acc: 0.5997, Test Latency: 5.95s, Test Memory Usage: 194.0KB\n",
            "\n",
            "Epoch 61\n"
          ]
        },
        {
          "name": "stderr",
          "output_type": "stream",
          "text": [
            "Train: 100%|##########| 391/391 [00:46<00:00,  8.39batch/s]\n"
          ]
        },
        {
          "name": "stdout",
          "output_type": "stream",
          "text": [
            "LR: 1.0000e-02, Train Loss: 1.0095, Train Acc: 0.6458, Train Latency: 46.60s, Memory Usage: 3119.0KB\n",
            "Test Loss: 1.3380, Test Acc: 0.5691, Test Latency: 6.05s, Test Memory Usage: 194.0KB\n",
            "\n",
            "Epoch 62\n"
          ]
        },
        {
          "name": "stderr",
          "output_type": "stream",
          "text": [
            "Train: 100%|##########| 391/391 [00:46<00:00,  8.38batch/s]\n"
          ]
        },
        {
          "name": "stdout",
          "output_type": "stream",
          "text": [
            "LR: 1.0000e-02, Train Loss: 1.0185, Train Acc: 0.6432, Train Latency: 46.69s, Memory Usage: 3119.0KB\n",
            "Test Loss: 1.1979, Test Acc: 0.6011, Test Latency: 5.93s, Test Memory Usage: 194.0KB\n",
            "\n",
            "Epoch 63\n"
          ]
        },
        {
          "name": "stderr",
          "output_type": "stream",
          "text": [
            "Train: 100%|##########| 391/391 [00:46<00:00,  8.34batch/s]\n"
          ]
        },
        {
          "name": "stdout",
          "output_type": "stream",
          "text": [
            "LR: 1.0000e-02, Train Loss: 1.0189, Train Acc: 0.6406, Train Latency: 46.91s, Memory Usage: 3119.0KB\n",
            "Test Loss: 1.1334, Test Acc: 0.6150, Test Latency: 5.94s, Test Memory Usage: 194.0KB\n",
            "\n",
            "Epoch 64\n"
          ]
        },
        {
          "name": "stderr",
          "output_type": "stream",
          "text": [
            "Train: 100%|##########| 391/391 [00:46<00:00,  8.39batch/s]\n"
          ]
        },
        {
          "name": "stdout",
          "output_type": "stream",
          "text": [
            "LR: 1.0000e-02, Train Loss: 1.0211, Train Acc: 0.6411, Train Latency: 46.58s, Memory Usage: 3119.0KB\n",
            "Test Loss: 1.2946, Test Acc: 0.5737, Test Latency: 6.03s, Test Memory Usage: 194.0KB\n",
            "\n",
            "Epoch 65\n"
          ]
        },
        {
          "name": "stderr",
          "output_type": "stream",
          "text": [
            "Train: 100%|##########| 391/391 [00:46<00:00,  8.39batch/s]\n"
          ]
        },
        {
          "name": "stdout",
          "output_type": "stream",
          "text": [
            "LR: 1.0000e-02, Train Loss: 1.0330, Train Acc: 0.6388, Train Latency: 46.59s, Memory Usage: 3119.0KB\n",
            "Test Loss: 1.2571, Test Acc: 0.5910, Test Latency: 6.00s, Test Memory Usage: 194.0KB\n",
            "\n",
            "Epoch 66\n"
          ]
        },
        {
          "name": "stderr",
          "output_type": "stream",
          "text": [
            "Train: 100%|##########| 391/391 [00:46<00:00,  8.40batch/s]\n"
          ]
        },
        {
          "name": "stdout",
          "output_type": "stream",
          "text": [
            "LR: 1.0000e-02, Train Loss: 1.0334, Train Acc: 0.6387, Train Latency: 46.57s, Memory Usage: 3119.0KB\n",
            "Test Loss: 1.2504, Test Acc: 0.5722, Test Latency: 5.94s, Test Memory Usage: 194.0KB\n",
            "\n",
            "Epoch 67\n"
          ]
        },
        {
          "name": "stderr",
          "output_type": "stream",
          "text": [
            "Train: 100%|##########| 391/391 [00:46<00:00,  8.43batch/s]\n"
          ]
        },
        {
          "name": "stdout",
          "output_type": "stream",
          "text": [
            "LR: 1.0000e-02, Train Loss: 1.0295, Train Acc: 0.6377, Train Latency: 46.39s, Memory Usage: 3119.0KB\n",
            "Test Loss: 1.0599, Test Acc: 0.6247, Test Latency: 5.99s, Test Memory Usage: 194.0KB\n",
            "\n",
            "Epoch 68\n"
          ]
        },
        {
          "name": "stderr",
          "output_type": "stream",
          "text": [
            "Train: 100%|##########| 391/391 [00:46<00:00,  8.42batch/s]\n"
          ]
        },
        {
          "name": "stdout",
          "output_type": "stream",
          "text": [
            "LR: 1.0000e-02, Train Loss: 1.0398, Train Acc: 0.6351, Train Latency: 46.43s, Memory Usage: 3119.0KB\n",
            "Test Loss: 1.4481, Test Acc: 0.5525, Test Latency: 5.90s, Test Memory Usage: 194.0KB\n",
            "\n",
            "Epoch 69\n"
          ]
        },
        {
          "name": "stderr",
          "output_type": "stream",
          "text": [
            "Train: 100%|##########| 391/391 [00:46<00:00,  8.42batch/s]\n"
          ]
        },
        {
          "name": "stdout",
          "output_type": "stream",
          "text": [
            "LR: 1.0000e-02, Train Loss: 1.0526, Train Acc: 0.6308, Train Latency: 46.45s, Memory Usage: 3119.0KB\n",
            "Test Loss: 1.0359, Test Acc: 0.6432, Test Latency: 5.92s, Test Memory Usage: 194.0KB\n",
            "\n",
            "Epoch 70\n"
          ]
        },
        {
          "name": "stderr",
          "output_type": "stream",
          "text": [
            "Train: 100%|##########| 391/391 [00:46<00:00,  8.36batch/s]\n"
          ]
        },
        {
          "name": "stdout",
          "output_type": "stream",
          "text": [
            "LR: 1.0000e-02, Train Loss: 1.0425, Train Acc: 0.6360, Train Latency: 46.75s, Memory Usage: 3119.0KB\n",
            "Test Loss: 1.6212, Test Acc: 0.5119, Test Latency: 5.97s, Test Memory Usage: 194.0KB\n",
            "\n",
            "Epoch 71\n"
          ]
        },
        {
          "name": "stderr",
          "output_type": "stream",
          "text": [
            "Train: 100%|##########| 391/391 [00:46<00:00,  8.44batch/s]\n"
          ]
        },
        {
          "name": "stdout",
          "output_type": "stream",
          "text": [
            "LR: 1.0000e-02, Train Loss: 1.0436, Train Acc: 0.6365, Train Latency: 46.34s, Memory Usage: 3119.0KB\n",
            "Test Loss: 1.3105, Test Acc: 0.5850, Test Latency: 5.88s, Test Memory Usage: 194.0KB\n",
            "\n",
            "Epoch 72\n"
          ]
        },
        {
          "name": "stderr",
          "output_type": "stream",
          "text": [
            "Train: 100%|##########| 391/391 [00:46<00:00,  8.44batch/s]\n"
          ]
        },
        {
          "name": "stdout",
          "output_type": "stream",
          "text": [
            "LR: 1.0000e-02, Train Loss: 1.0569, Train Acc: 0.6292, Train Latency: 46.34s, Memory Usage: 3119.0KB\n",
            "Test Loss: 1.5049, Test Acc: 0.5527, Test Latency: 5.88s, Test Memory Usage: 194.0KB\n",
            "\n",
            "Epoch 73\n"
          ]
        },
        {
          "name": "stderr",
          "output_type": "stream",
          "text": [
            "Train: 100%|##########| 391/391 [00:46<00:00,  8.44batch/s]\n"
          ]
        },
        {
          "name": "stdout",
          "output_type": "stream",
          "text": [
            "LR: 1.0000e-02, Train Loss: 1.0585, Train Acc: 0.6306, Train Latency: 46.33s, Memory Usage: 3119.0KB\n",
            "Test Loss: 1.2685, Test Acc: 0.5726, Test Latency: 6.01s, Test Memory Usage: 194.0KB\n",
            "\n",
            "Epoch 74\n"
          ]
        },
        {
          "name": "stderr",
          "output_type": "stream",
          "text": [
            "Train: 100%|##########| 391/391 [00:46<00:00,  8.44batch/s]\n"
          ]
        },
        {
          "name": "stdout",
          "output_type": "stream",
          "text": [
            "LR: 1.0000e-02, Train Loss: 1.0634, Train Acc: 0.6281, Train Latency: 46.34s, Memory Usage: 3119.0KB\n",
            "Test Loss: 1.3038, Test Acc: 0.5638, Test Latency: 5.94s, Test Memory Usage: 194.0KB\n",
            "\n",
            "Epoch 75\n"
          ]
        },
        {
          "name": "stderr",
          "output_type": "stream",
          "text": [
            "Train: 100%|##########| 391/391 [00:46<00:00,  8.43batch/s]\n"
          ]
        },
        {
          "name": "stdout",
          "output_type": "stream",
          "text": [
            "LR: 1.0000e-02, Train Loss: 1.0650, Train Acc: 0.6274, Train Latency: 46.41s, Memory Usage: 3119.0KB\n",
            "Test Loss: 1.2356, Test Acc: 0.5645, Test Latency: 5.92s, Test Memory Usage: 194.0KB\n",
            "\n",
            "Epoch 76\n"
          ]
        },
        {
          "name": "stderr",
          "output_type": "stream",
          "text": [
            "Train: 100%|##########| 391/391 [00:46<00:00,  8.45batch/s]\n"
          ]
        },
        {
          "name": "stdout",
          "output_type": "stream",
          "text": [
            "LR: 1.0000e-02, Train Loss: 1.0760, Train Acc: 0.6247, Train Latency: 46.26s, Memory Usage: 3119.0KB\n",
            "Test Loss: 1.6437, Test Acc: 0.4999, Test Latency: 5.96s, Test Memory Usage: 194.0KB\n",
            "\n",
            "Epoch 77\n"
          ]
        },
        {
          "name": "stderr",
          "output_type": "stream",
          "text": [
            "Train: 100%|##########| 391/391 [00:46<00:00,  8.47batch/s]\n"
          ]
        },
        {
          "name": "stdout",
          "output_type": "stream",
          "text": [
            "LR: 1.0000e-02, Train Loss: 1.0715, Train Acc: 0.6294, Train Latency: 46.18s, Memory Usage: 3119.0KB\n",
            "Test Loss: 1.2945, Test Acc: 0.5697, Test Latency: 5.91s, Test Memory Usage: 194.0KB\n",
            "\n",
            "Epoch 78\n"
          ]
        },
        {
          "name": "stderr",
          "output_type": "stream",
          "text": [
            "Train: 100%|##########| 391/391 [00:46<00:00,  8.46batch/s]\n"
          ]
        },
        {
          "name": "stdout",
          "output_type": "stream",
          "text": [
            "LR: 1.0000e-02, Train Loss: 1.0776, Train Acc: 0.6223, Train Latency: 46.22s, Memory Usage: 3119.0KB\n",
            "Test Loss: 1.2198, Test Acc: 0.5787, Test Latency: 5.93s, Test Memory Usage: 194.0KB\n",
            "\n",
            "Epoch 79\n"
          ]
        },
        {
          "name": "stderr",
          "output_type": "stream",
          "text": [
            "Train: 100%|##########| 391/391 [00:46<00:00,  8.44batch/s]\n"
          ]
        },
        {
          "name": "stdout",
          "output_type": "stream",
          "text": [
            "LR: 1.0000e-02, Train Loss: 1.0766, Train Acc: 0.6236, Train Latency: 46.31s, Memory Usage: 3119.0KB\n",
            "Test Loss: 1.4068, Test Acc: 0.5518, Test Latency: 5.94s, Test Memory Usage: 194.0KB\n",
            "\n",
            "Epoch 80\n"
          ]
        },
        {
          "name": "stderr",
          "output_type": "stream",
          "text": [
            "Train: 100%|##########| 391/391 [00:46<00:00,  8.42batch/s]\n"
          ]
        },
        {
          "name": "stdout",
          "output_type": "stream",
          "text": [
            "LR: 1.0000e-02, Train Loss: 1.0578, Train Acc: 0.6293, Train Latency: 46.42s, Memory Usage: 3119.0KB\n",
            "Test Loss: 2.1776, Test Acc: 0.4123, Test Latency: 5.88s, Test Memory Usage: 194.0KB\n",
            "\n",
            "Epoch 81\n"
          ]
        },
        {
          "name": "stderr",
          "output_type": "stream",
          "text": [
            "Train: 100%|##########| 391/391 [00:46<00:00,  8.35batch/s]\n"
          ]
        },
        {
          "name": "stdout",
          "output_type": "stream",
          "text": [
            "LR: 1.0000e-02, Train Loss: 1.0789, Train Acc: 0.6231, Train Latency: 46.81s, Memory Usage: 3119.0KB\n",
            "Test Loss: 1.1633, Test Acc: 0.6064, Test Latency: 5.97s, Test Memory Usage: 194.0KB\n",
            "\n",
            "Epoch 82\n"
          ]
        },
        {
          "name": "stderr",
          "output_type": "stream",
          "text": [
            "Train: 100%|##########| 391/391 [00:46<00:00,  8.37batch/s]\n"
          ]
        },
        {
          "name": "stdout",
          "output_type": "stream",
          "text": [
            "LR: 1.0000e-02, Train Loss: 1.0736, Train Acc: 0.6230, Train Latency: 46.72s, Memory Usage: 3119.0KB\n",
            "Test Loss: 1.6121, Test Acc: 0.4936, Test Latency: 5.98s, Test Memory Usage: 194.0KB\n",
            "\n",
            "Epoch 83\n"
          ]
        },
        {
          "name": "stderr",
          "output_type": "stream",
          "text": [
            "Train: 100%|##########| 391/391 [00:46<00:00,  8.38batch/s]\n"
          ]
        },
        {
          "name": "stdout",
          "output_type": "stream",
          "text": [
            "LR: 1.0000e-02, Train Loss: 1.0844, Train Acc: 0.6189, Train Latency: 46.67s, Memory Usage: 3119.0KB\n",
            "Test Loss: 1.4629, Test Acc: 0.5309, Test Latency: 5.95s, Test Memory Usage: 194.0KB\n",
            "\n",
            "Epoch 84\n"
          ]
        },
        {
          "name": "stderr",
          "output_type": "stream",
          "text": [
            "Train: 100%|##########| 391/391 [00:46<00:00,  8.36batch/s]\n"
          ]
        },
        {
          "name": "stdout",
          "output_type": "stream",
          "text": [
            "LR: 1.0000e-02, Train Loss: 1.0786, Train Acc: 0.6227, Train Latency: 46.77s, Memory Usage: 3119.0KB\n",
            "Test Loss: 1.4929, Test Acc: 0.5409, Test Latency: 6.09s, Test Memory Usage: 194.0KB\n",
            "\n",
            "Epoch 85\n"
          ]
        },
        {
          "name": "stderr",
          "output_type": "stream",
          "text": [
            "Train: 100%|##########| 391/391 [00:46<00:00,  8.39batch/s]\n"
          ]
        },
        {
          "name": "stdout",
          "output_type": "stream",
          "text": [
            "LR: 1.0000e-02, Train Loss: 1.0749, Train Acc: 0.6227, Train Latency: 46.63s, Memory Usage: 3119.0KB\n",
            "Test Loss: 1.4445, Test Acc: 0.5590, Test Latency: 5.95s, Test Memory Usage: 194.0KB\n",
            "\n",
            "Epoch 86\n"
          ]
        },
        {
          "name": "stderr",
          "output_type": "stream",
          "text": [
            "Train: 100%|##########| 391/391 [00:46<00:00,  8.44batch/s]\n"
          ]
        },
        {
          "name": "stdout",
          "output_type": "stream",
          "text": [
            "LR: 1.0000e-02, Train Loss: 1.0853, Train Acc: 0.6222, Train Latency: 46.31s, Memory Usage: 3119.0KB\n",
            "Test Loss: 3.7416, Test Acc: 0.3196, Test Latency: 5.91s, Test Memory Usage: 194.0KB\n",
            "\n",
            "Epoch 87\n"
          ]
        },
        {
          "name": "stderr",
          "output_type": "stream",
          "text": [
            "Train: 100%|##########| 391/391 [00:46<00:00,  8.44batch/s]\n"
          ]
        },
        {
          "name": "stdout",
          "output_type": "stream",
          "text": [
            "LR: 1.0000e-02, Train Loss: 1.0847, Train Acc: 0.6219, Train Latency: 46.35s, Memory Usage: 3119.0KB\n",
            "Test Loss: 1.4583, Test Acc: 0.5111, Test Latency: 5.98s, Test Memory Usage: 194.0KB\n",
            "\n",
            "Epoch 88\n"
          ]
        },
        {
          "name": "stderr",
          "output_type": "stream",
          "text": [
            "Train: 100%|##########| 391/391 [00:46<00:00,  8.43batch/s]\n"
          ]
        },
        {
          "name": "stdout",
          "output_type": "stream",
          "text": [
            "LR: 1.0000e-02, Train Loss: 1.0924, Train Acc: 0.6173, Train Latency: 46.37s, Memory Usage: 3119.0KB\n",
            "Test Loss: 1.5451, Test Acc: 0.5218, Test Latency: 5.92s, Test Memory Usage: 194.0KB\n",
            "\n",
            "Epoch 89\n"
          ]
        },
        {
          "name": "stderr",
          "output_type": "stream",
          "text": [
            "Train: 100%|##########| 391/391 [00:46<00:00,  8.48batch/s]\n"
          ]
        },
        {
          "name": "stdout",
          "output_type": "stream",
          "text": [
            "LR: 1.0000e-02, Train Loss: 1.0961, Train Acc: 0.6150, Train Latency: 46.10s, Memory Usage: 3119.0KB\n",
            "Test Loss: 1.1850, Test Acc: 0.5869, Test Latency: 5.91s, Test Memory Usage: 194.0KB\n",
            "\n",
            "Epoch 90\n"
          ]
        },
        {
          "name": "stderr",
          "output_type": "stream",
          "text": [
            "Train: 100%|##########| 391/391 [00:46<00:00,  8.42batch/s]\n"
          ]
        },
        {
          "name": "stdout",
          "output_type": "stream",
          "text": [
            "LR: 1.0000e-02, Train Loss: 1.0913, Train Acc: 0.6190, Train Latency: 46.45s, Memory Usage: 3119.0KB\n",
            "Test Loss: 1.6778, Test Acc: 0.5109, Test Latency: 5.98s, Test Memory Usage: 194.0KB\n",
            "\n",
            "Epoch 91\n"
          ]
        },
        {
          "name": "stderr",
          "output_type": "stream",
          "text": [
            "Train: 100%|##########| 391/391 [00:46<00:00,  8.39batch/s]\n"
          ]
        },
        {
          "name": "stdout",
          "output_type": "stream",
          "text": [
            "LR: 1.0000e-02, Train Loss: 1.1110, Train Acc: 0.6103, Train Latency: 46.58s, Memory Usage: 3119.0KB\n",
            "Test Loss: 1.5378, Test Acc: 0.5324, Test Latency: 5.97s, Test Memory Usage: 194.0KB\n",
            "\n",
            "Epoch 92\n"
          ]
        },
        {
          "name": "stderr",
          "output_type": "stream",
          "text": [
            "Train: 100%|##########| 391/391 [00:46<00:00,  8.38batch/s]\n"
          ]
        },
        {
          "name": "stdout",
          "output_type": "stream",
          "text": [
            "LR: 1.0000e-02, Train Loss: 1.0882, Train Acc: 0.6211, Train Latency: 46.67s, Memory Usage: 3119.0KB\n",
            "Test Loss: 1.1294, Test Acc: 0.6084, Test Latency: 5.94s, Test Memory Usage: 194.0KB\n",
            "\n",
            "Epoch 93\n"
          ]
        },
        {
          "name": "stderr",
          "output_type": "stream",
          "text": [
            "Train: 100%|##########| 391/391 [00:46<00:00,  8.37batch/s]\n"
          ]
        },
        {
          "name": "stdout",
          "output_type": "stream",
          "text": [
            "LR: 1.0000e-02, Train Loss: 1.0945, Train Acc: 0.6161, Train Latency: 46.74s, Memory Usage: 3119.0KB\n",
            "Test Loss: 1.4010, Test Acc: 0.5475, Test Latency: 6.00s, Test Memory Usage: 194.0KB\n",
            "\n",
            "Epoch 94\n"
          ]
        },
        {
          "name": "stderr",
          "output_type": "stream",
          "text": [
            "Train: 100%|##########| 391/391 [00:46<00:00,  8.37batch/s]\n"
          ]
        },
        {
          "name": "stdout",
          "output_type": "stream",
          "text": [
            "LR: 1.0000e-02, Train Loss: 1.1001, Train Acc: 0.6132, Train Latency: 46.70s, Memory Usage: 3119.0KB\n",
            "Test Loss: 1.1393, Test Acc: 0.6148, Test Latency: 5.95s, Test Memory Usage: 194.0KB\n",
            "\n",
            "Epoch 95\n"
          ]
        },
        {
          "name": "stderr",
          "output_type": "stream",
          "text": [
            "Train: 100%|##########| 391/391 [00:46<00:00,  8.39batch/s]\n"
          ]
        },
        {
          "name": "stdout",
          "output_type": "stream",
          "text": [
            "LR: 1.0000e-02, Train Loss: 1.0750, Train Acc: 0.6225, Train Latency: 46.62s, Memory Usage: 3119.0KB\n",
            "Test Loss: 1.5053, Test Acc: 0.5379, Test Latency: 5.88s, Test Memory Usage: 194.0KB\n",
            "\n",
            "Epoch 96\n"
          ]
        },
        {
          "name": "stderr",
          "output_type": "stream",
          "text": [
            "Train: 100%|##########| 391/391 [00:46<00:00,  8.41batch/s]\n"
          ]
        },
        {
          "name": "stdout",
          "output_type": "stream",
          "text": [
            "LR: 1.0000e-02, Train Loss: 1.0943, Train Acc: 0.6180, Train Latency: 46.48s, Memory Usage: 3119.0KB\n",
            "Test Loss: 2.4624, Test Acc: 0.4050, Test Latency: 6.01s, Test Memory Usage: 194.0KB\n",
            "\n",
            "Epoch 97\n"
          ]
        },
        {
          "name": "stderr",
          "output_type": "stream",
          "text": [
            "Train: 100%|##########| 391/391 [00:46<00:00,  8.40batch/s]\n"
          ]
        },
        {
          "name": "stdout",
          "output_type": "stream",
          "text": [
            "LR: 1.0000e-02, Train Loss: 1.0801, Train Acc: 0.6208, Train Latency: 46.55s, Memory Usage: 3119.0KB\n",
            "Test Loss: 1.1874, Test Acc: 0.6093, Test Latency: 5.97s, Test Memory Usage: 194.0KB\n",
            "\n",
            "Epoch 98\n"
          ]
        },
        {
          "name": "stderr",
          "output_type": "stream",
          "text": [
            "Train: 100%|##########| 391/391 [00:46<00:00,  8.37batch/s]\n"
          ]
        },
        {
          "name": "stdout",
          "output_type": "stream",
          "text": [
            "LR: 1.0000e-02, Train Loss: 1.1107, Train Acc: 0.6146, Train Latency: 46.71s, Memory Usage: 3119.0KB\n",
            "Test Loss: 1.3508, Test Acc: 0.5479, Test Latency: 5.92s, Test Memory Usage: 194.0KB\n",
            "\n",
            "Epoch 99\n"
          ]
        },
        {
          "name": "stderr",
          "output_type": "stream",
          "text": [
            "Train: 100%|##########| 391/391 [00:46<00:00,  8.35batch/s]\n"
          ]
        },
        {
          "name": "stdout",
          "output_type": "stream",
          "text": [
            "LR: 1.0000e-02, Train Loss: 1.0901, Train Acc: 0.6194, Train Latency: 46.81s, Memory Usage: 3119.0KB\n",
            "Test Loss: 1.5237, Test Acc: 0.5012, Test Latency: 6.03s, Test Memory Usage: 194.0KB\n",
            "\n",
            "Epoch 100\n"
          ]
        },
        {
          "name": "stderr",
          "output_type": "stream",
          "text": [
            "Train: 100%|##########| 391/391 [00:46<00:00,  8.39batch/s]\n"
          ]
        },
        {
          "name": "stdout",
          "output_type": "stream",
          "text": [
            "LR: 1.0000e-02, Train Loss: 1.1055, Train Acc: 0.6144, Train Latency: 46.60s, Memory Usage: 3119.0KB\n",
            "Test Loss: 1.2296, Test Acc: 0.5742, Test Latency: 5.92s, Test Memory Usage: 194.0KB\n",
            "\n",
            "Epoch 101\n"
          ]
        },
        {
          "name": "stderr",
          "output_type": "stream",
          "text": [
            "Train: 100%|##########| 391/391 [00:46<00:00,  8.42batch/s]\n"
          ]
        },
        {
          "name": "stdout",
          "output_type": "stream",
          "text": [
            "LR: 1.0000e-03, Train Loss: 1.0208, Train Acc: 0.6430, Train Latency: 46.44s, Memory Usage: 3119.0KB\n",
            "Test Loss: 1.0111, Test Acc: 0.6494, Test Latency: 5.93s, Test Memory Usage: 194.0KB\n",
            "Saving best model ...\n",
            "\n",
            "Epoch 102\n"
          ]
        },
        {
          "name": "stderr",
          "output_type": "stream",
          "text": [
            "Train: 100%|##########| 391/391 [00:46<00:00,  8.41batch/s]\n"
          ]
        },
        {
          "name": "stdout",
          "output_type": "stream",
          "text": [
            "LR: 1.0000e-03, Train Loss: 1.0126, Train Acc: 0.6457, Train Latency: 46.51s, Memory Usage: 3119.0KB\n",
            "Test Loss: 0.9764, Test Acc: 0.6600, Test Latency: 5.99s, Test Memory Usage: 194.0KB\n",
            "Saving best model ...\n",
            "\n",
            "Epoch 103\n"
          ]
        },
        {
          "name": "stderr",
          "output_type": "stream",
          "text": [
            "Train: 100%|##########| 391/391 [00:46<00:00,  8.41batch/s]\n"
          ]
        },
        {
          "name": "stdout",
          "output_type": "stream",
          "text": [
            "LR: 1.0000e-03, Train Loss: 0.9931, Train Acc: 0.6534, Train Latency: 46.49s, Memory Usage: 3119.0KB\n",
            "Test Loss: 1.0453, Test Acc: 0.6423, Test Latency: 5.91s, Test Memory Usage: 194.0KB\n",
            "\n",
            "Epoch 104\n"
          ]
        },
        {
          "name": "stderr",
          "output_type": "stream",
          "text": [
            "Train: 100%|##########| 391/391 [00:46<00:00,  8.38batch/s]\n"
          ]
        },
        {
          "name": "stdout",
          "output_type": "stream",
          "text": [
            "LR: 1.0000e-03, Train Loss: 0.9913, Train Acc: 0.6544, Train Latency: 46.67s, Memory Usage: 3119.0KB\n",
            "Test Loss: 0.9848, Test Acc: 0.6612, Test Latency: 5.93s, Test Memory Usage: 194.0KB\n",
            "Saving best model ...\n",
            "\n",
            "Epoch 105\n"
          ]
        },
        {
          "name": "stderr",
          "output_type": "stream",
          "text": [
            "Train: 100%|##########| 391/391 [00:46<00:00,  8.41batch/s]\n"
          ]
        },
        {
          "name": "stdout",
          "output_type": "stream",
          "text": [
            "LR: 1.0000e-03, Train Loss: 0.9740, Train Acc: 0.6618, Train Latency: 46.48s, Memory Usage: 3119.0KB\n",
            "Test Loss: 1.0001, Test Acc: 0.6577, Test Latency: 5.98s, Test Memory Usage: 194.0KB\n",
            "\n",
            "Epoch 106\n"
          ]
        },
        {
          "name": "stderr",
          "output_type": "stream",
          "text": [
            "Train: 100%|##########| 391/391 [00:46<00:00,  8.41batch/s]\n"
          ]
        },
        {
          "name": "stdout",
          "output_type": "stream",
          "text": [
            "LR: 1.0000e-03, Train Loss: 0.9773, Train Acc: 0.6575, Train Latency: 46.49s, Memory Usage: 3119.0KB\n",
            "Test Loss: 1.1211, Test Acc: 0.6192, Test Latency: 5.93s, Test Memory Usage: 194.0KB\n",
            "\n",
            "Epoch 107\n"
          ]
        },
        {
          "name": "stderr",
          "output_type": "stream",
          "text": [
            "Train: 100%|##########| 391/391 [00:46<00:00,  8.39batch/s]\n"
          ]
        },
        {
          "name": "stdout",
          "output_type": "stream",
          "text": [
            "LR: 1.0000e-03, Train Loss: 0.9746, Train Acc: 0.6600, Train Latency: 46.63s, Memory Usage: 3119.0KB\n",
            "Test Loss: 0.9492, Test Acc: 0.6711, Test Latency: 5.94s, Test Memory Usage: 194.0KB\n",
            "Saving best model ...\n",
            "\n",
            "Epoch 108\n"
          ]
        },
        {
          "name": "stderr",
          "output_type": "stream",
          "text": [
            "Train: 100%|##########| 391/391 [00:46<00:00,  8.43batch/s]\n"
          ]
        },
        {
          "name": "stdout",
          "output_type": "stream",
          "text": [
            "LR: 1.0000e-03, Train Loss: 0.9775, Train Acc: 0.6598, Train Latency: 46.39s, Memory Usage: 3119.0KB\n",
            "Test Loss: 1.0051, Test Acc: 0.6502, Test Latency: 5.98s, Test Memory Usage: 194.0KB\n",
            "\n",
            "Epoch 109\n"
          ]
        },
        {
          "name": "stderr",
          "output_type": "stream",
          "text": [
            "Train: 100%|##########| 391/391 [00:46<00:00,  8.36batch/s]\n"
          ]
        },
        {
          "name": "stdout",
          "output_type": "stream",
          "text": [
            "LR: 1.0000e-03, Train Loss: 0.9766, Train Acc: 0.6583, Train Latency: 46.75s, Memory Usage: 3119.0KB\n",
            "Test Loss: 0.9828, Test Acc: 0.6605, Test Latency: 5.91s, Test Memory Usage: 194.0KB\n",
            "\n",
            "Epoch 110\n"
          ]
        },
        {
          "name": "stderr",
          "output_type": "stream",
          "text": [
            "Train: 100%|##########| 391/391 [00:46<00:00,  8.40batch/s]\n"
          ]
        },
        {
          "name": "stdout",
          "output_type": "stream",
          "text": [
            "LR: 1.0000e-03, Train Loss: 1.0006, Train Acc: 0.6482, Train Latency: 46.56s, Memory Usage: 3119.0KB\n",
            "Test Loss: 1.1522, Test Acc: 0.6037, Test Latency: 6.00s, Test Memory Usage: 194.0KB\n",
            "\n",
            "Epoch 111\n"
          ]
        },
        {
          "name": "stderr",
          "output_type": "stream",
          "text": [
            "Train: 100%|##########| 391/391 [00:46<00:00,  8.40batch/s]\n"
          ]
        },
        {
          "name": "stdout",
          "output_type": "stream",
          "text": [
            "LR: 1.0000e-03, Train Loss: 1.0007, Train Acc: 0.6504, Train Latency: 46.56s, Memory Usage: 3119.0KB\n",
            "Test Loss: 0.9790, Test Acc: 0.6596, Test Latency: 5.95s, Test Memory Usage: 194.0KB\n",
            "\n",
            "Epoch 112\n"
          ]
        },
        {
          "name": "stderr",
          "output_type": "stream",
          "text": [
            "Train: 100%|##########| 391/391 [00:46<00:00,  8.40batch/s]\n"
          ]
        },
        {
          "name": "stdout",
          "output_type": "stream",
          "text": [
            "LR: 1.0000e-03, Train Loss: 0.9664, Train Acc: 0.6622, Train Latency: 46.58s, Memory Usage: 3119.0KB\n",
            "Test Loss: 1.0742, Test Acc: 0.6398, Test Latency: 5.91s, Test Memory Usage: 194.0KB\n",
            "\n",
            "Epoch 113\n"
          ]
        },
        {
          "name": "stderr",
          "output_type": "stream",
          "text": [
            "Train: 100%|##########| 391/391 [00:46<00:00,  8.41batch/s]\n"
          ]
        },
        {
          "name": "stdout",
          "output_type": "stream",
          "text": [
            "LR: 1.0000e-03, Train Loss: 0.9778, Train Acc: 0.6595, Train Latency: 46.47s, Memory Usage: 3119.0KB\n",
            "Test Loss: 0.9974, Test Acc: 0.6531, Test Latency: 5.98s, Test Memory Usage: 194.0KB\n",
            "\n",
            "Epoch 114\n"
          ]
        },
        {
          "name": "stderr",
          "output_type": "stream",
          "text": [
            "Train: 100%|##########| 391/391 [00:46<00:00,  8.40batch/s]\n"
          ]
        },
        {
          "name": "stdout",
          "output_type": "stream",
          "text": [
            "LR: 1.0000e-03, Train Loss: 0.9770, Train Acc: 0.6580, Train Latency: 46.55s, Memory Usage: 3119.0KB\n",
            "Test Loss: 1.0084, Test Acc: 0.6516, Test Latency: 5.96s, Test Memory Usage: 194.0KB\n",
            "\n",
            "Epoch 115\n"
          ]
        },
        {
          "name": "stderr",
          "output_type": "stream",
          "text": [
            "Train: 100%|##########| 391/391 [00:46<00:00,  8.42batch/s]\n"
          ]
        },
        {
          "name": "stdout",
          "output_type": "stream",
          "text": [
            "LR: 1.0000e-03, Train Loss: 0.9959, Train Acc: 0.6502, Train Latency: 46.44s, Memory Usage: 3119.0KB\n",
            "Test Loss: 1.0015, Test Acc: 0.6488, Test Latency: 5.89s, Test Memory Usage: 194.0KB\n",
            "\n",
            "Epoch 116\n"
          ]
        },
        {
          "name": "stderr",
          "output_type": "stream",
          "text": [
            "Train: 100%|##########| 391/391 [00:46<00:00,  8.40batch/s]\n"
          ]
        },
        {
          "name": "stdout",
          "output_type": "stream",
          "text": [
            "LR: 1.0000e-03, Train Loss: 1.0004, Train Acc: 0.6502, Train Latency: 46.55s, Memory Usage: 3119.0KB\n",
            "Test Loss: 0.9726, Test Acc: 0.6624, Test Latency: 6.02s, Test Memory Usage: 194.0KB\n",
            "\n",
            "Epoch 117\n"
          ]
        },
        {
          "name": "stderr",
          "output_type": "stream",
          "text": [
            "Train: 100%|##########| 391/391 [00:46<00:00,  8.42batch/s]\n"
          ]
        },
        {
          "name": "stdout",
          "output_type": "stream",
          "text": [
            "LR: 1.0000e-03, Train Loss: 0.9795, Train Acc: 0.6565, Train Latency: 46.46s, Memory Usage: 3119.0KB\n",
            "Test Loss: 1.0390, Test Acc: 0.6416, Test Latency: 5.94s, Test Memory Usage: 194.0KB\n",
            "\n",
            "Epoch 118\n"
          ]
        },
        {
          "name": "stderr",
          "output_type": "stream",
          "text": [
            "Train: 100%|##########| 391/391 [00:46<00:00,  8.42batch/s]\n"
          ]
        },
        {
          "name": "stdout",
          "output_type": "stream",
          "text": [
            "LR: 1.0000e-03, Train Loss: 0.9967, Train Acc: 0.6520, Train Latency: 46.44s, Memory Usage: 3119.0KB\n",
            "Test Loss: 1.0224, Test Acc: 0.6486, Test Latency: 5.92s, Test Memory Usage: 194.0KB\n",
            "\n",
            "Epoch 119\n"
          ]
        },
        {
          "name": "stderr",
          "output_type": "stream",
          "text": [
            "Train: 100%|##########| 391/391 [00:46<00:00,  8.36batch/s]\n"
          ]
        },
        {
          "name": "stdout",
          "output_type": "stream",
          "text": [
            "LR: 1.0000e-03, Train Loss: 0.9867, Train Acc: 0.6548, Train Latency: 46.80s, Memory Usage: 3119.0KB\n",
            "Test Loss: 1.0726, Test Acc: 0.6378, Test Latency: 6.03s, Test Memory Usage: 194.0KB\n",
            "\n",
            "Epoch 120\n"
          ]
        },
        {
          "name": "stderr",
          "output_type": "stream",
          "text": [
            "Train: 100%|##########| 391/391 [00:46<00:00,  8.46batch/s]\n"
          ]
        },
        {
          "name": "stdout",
          "output_type": "stream",
          "text": [
            "LR: 1.0000e-03, Train Loss: 0.9994, Train Acc: 0.6494, Train Latency: 46.23s, Memory Usage: 3119.0KB\n",
            "Test Loss: 1.0171, Test Acc: 0.6444, Test Latency: 5.94s, Test Memory Usage: 194.0KB\n",
            "\n",
            "Epoch 121\n"
          ]
        },
        {
          "name": "stderr",
          "output_type": "stream",
          "text": [
            "Train: 100%|##########| 391/391 [00:46<00:00,  8.40batch/s]\n"
          ]
        },
        {
          "name": "stdout",
          "output_type": "stream",
          "text": [
            "LR: 1.0000e-03, Train Loss: 0.9889, Train Acc: 0.6546, Train Latency: 46.54s, Memory Usage: 3119.0KB\n",
            "Test Loss: 0.9872, Test Acc: 0.6552, Test Latency: 5.88s, Test Memory Usage: 194.0KB\n",
            "\n",
            "Epoch 122\n"
          ]
        },
        {
          "name": "stderr",
          "output_type": "stream",
          "text": [
            "Train: 100%|##########| 391/391 [00:46<00:00,  8.40batch/s]\n"
          ]
        },
        {
          "name": "stdout",
          "output_type": "stream",
          "text": [
            "LR: 1.0000e-03, Train Loss: 0.9830, Train Acc: 0.6571, Train Latency: 46.54s, Memory Usage: 3119.0KB\n",
            "Test Loss: 1.1745, Test Acc: 0.6157, Test Latency: 6.02s, Test Memory Usage: 194.0KB\n",
            "\n",
            "Epoch 123\n"
          ]
        },
        {
          "name": "stderr",
          "output_type": "stream",
          "text": [
            "Train: 100%|##########| 391/391 [00:46<00:00,  8.42batch/s]\n"
          ]
        },
        {
          "name": "stdout",
          "output_type": "stream",
          "text": [
            "LR: 1.0000e-03, Train Loss: 0.9947, Train Acc: 0.6521, Train Latency: 46.47s, Memory Usage: 3119.0KB\n",
            "Test Loss: 1.0510, Test Acc: 0.6362, Test Latency: 5.92s, Test Memory Usage: 194.0KB\n",
            "\n",
            "Epoch 124\n"
          ]
        },
        {
          "name": "stderr",
          "output_type": "stream",
          "text": [
            "Train: 100%|##########| 391/391 [00:46<00:00,  8.39batch/s]\n"
          ]
        },
        {
          "name": "stdout",
          "output_type": "stream",
          "text": [
            "LR: 1.0000e-03, Train Loss: 1.0102, Train Acc: 0.6482, Train Latency: 46.62s, Memory Usage: 3119.0KB\n",
            "Test Loss: 1.1335, Test Acc: 0.6120, Test Latency: 5.91s, Test Memory Usage: 194.0KB\n",
            "\n",
            "Epoch 125\n"
          ]
        },
        {
          "name": "stderr",
          "output_type": "stream",
          "text": [
            "Train: 100%|##########| 391/391 [00:46<00:00,  8.40batch/s]\n"
          ]
        },
        {
          "name": "stdout",
          "output_type": "stream",
          "text": [
            "LR: 1.0000e-03, Train Loss: 1.0132, Train Acc: 0.6459, Train Latency: 46.54s, Memory Usage: 3119.0KB\n",
            "Test Loss: 1.0045, Test Acc: 0.6495, Test Latency: 5.95s, Test Memory Usage: 194.0KB\n",
            "\n",
            "Epoch 126\n"
          ]
        },
        {
          "name": "stderr",
          "output_type": "stream",
          "text": [
            "Train: 100%|##########| 391/391 [00:46<00:00,  8.42batch/s]\n"
          ]
        },
        {
          "name": "stdout",
          "output_type": "stream",
          "text": [
            "LR: 1.0000e-03, Train Loss: 0.9751, Train Acc: 0.6594, Train Latency: 46.45s, Memory Usage: 3119.0KB\n",
            "Test Loss: 1.0443, Test Acc: 0.6454, Test Latency: 5.95s, Test Memory Usage: 194.0KB\n",
            "\n",
            "Epoch 127\n"
          ]
        },
        {
          "name": "stderr",
          "output_type": "stream",
          "text": [
            "Train: 100%|##########| 391/391 [00:46<00:00,  8.41batch/s]\n"
          ]
        },
        {
          "name": "stdout",
          "output_type": "stream",
          "text": [
            "LR: 1.0000e-03, Train Loss: 0.9811, Train Acc: 0.6575, Train Latency: 46.52s, Memory Usage: 3119.0KB\n",
            "Test Loss: 2.2284, Test Acc: 0.4239, Test Latency: 5.91s, Test Memory Usage: 194.0KB\n",
            "\n",
            "Epoch 128\n"
          ]
        },
        {
          "name": "stderr",
          "output_type": "stream",
          "text": [
            "Train: 100%|##########| 391/391 [00:46<00:00,  8.38batch/s]\n"
          ]
        },
        {
          "name": "stdout",
          "output_type": "stream",
          "text": [
            "LR: 1.0000e-03, Train Loss: 1.0163, Train Acc: 0.6435, Train Latency: 46.67s, Memory Usage: 3119.0KB\n",
            "Test Loss: 1.0389, Test Acc: 0.6360, Test Latency: 6.03s, Test Memory Usage: 194.0KB\n",
            "\n",
            "Epoch 129\n"
          ]
        },
        {
          "name": "stderr",
          "output_type": "stream",
          "text": [
            "Train: 100%|##########| 391/391 [00:46<00:00,  8.40batch/s]\n"
          ]
        },
        {
          "name": "stdout",
          "output_type": "stream",
          "text": [
            "LR: 1.0000e-03, Train Loss: 1.0071, Train Acc: 0.6467, Train Latency: 46.54s, Memory Usage: 3119.0KB\n",
            "Test Loss: 1.0130, Test Acc: 0.6477, Test Latency: 5.91s, Test Memory Usage: 194.0KB\n",
            "\n",
            "Epoch 130\n"
          ]
        },
        {
          "name": "stderr",
          "output_type": "stream",
          "text": [
            "Train: 100%|##########| 391/391 [00:46<00:00,  8.42batch/s]\n"
          ]
        },
        {
          "name": "stdout",
          "output_type": "stream",
          "text": [
            "LR: 1.0000e-03, Train Loss: 0.9787, Train Acc: 0.6581, Train Latency: 46.47s, Memory Usage: 3119.0KB\n",
            "Test Loss: 0.9837, Test Acc: 0.6552, Test Latency: 5.98s, Test Memory Usage: 194.0KB\n",
            "\n",
            "Epoch 131\n"
          ]
        },
        {
          "name": "stderr",
          "output_type": "stream",
          "text": [
            "Train: 100%|##########| 391/391 [00:46<00:00,  8.38batch/s]\n"
          ]
        },
        {
          "name": "stdout",
          "output_type": "stream",
          "text": [
            "LR: 1.0000e-03, Train Loss: 1.0099, Train Acc: 0.6469, Train Latency: 46.65s, Memory Usage: 3119.0KB\n",
            "Test Loss: 1.0983, Test Acc: 0.6271, Test Latency: 5.99s, Test Memory Usage: 194.0KB\n",
            "\n",
            "Epoch 132\n"
          ]
        },
        {
          "name": "stderr",
          "output_type": "stream",
          "text": [
            "Train: 100%|##########| 391/391 [00:46<00:00,  8.40batch/s]\n"
          ]
        },
        {
          "name": "stdout",
          "output_type": "stream",
          "text": [
            "LR: 1.0000e-03, Train Loss: 1.0100, Train Acc: 0.6450, Train Latency: 46.56s, Memory Usage: 3119.0KB\n",
            "Test Loss: 1.0349, Test Acc: 0.6471, Test Latency: 5.93s, Test Memory Usage: 194.0KB\n",
            "\n",
            "Epoch 133\n"
          ]
        },
        {
          "name": "stderr",
          "output_type": "stream",
          "text": [
            "Train: 100%|##########| 391/391 [00:46<00:00,  8.35batch/s]\n"
          ]
        },
        {
          "name": "stdout",
          "output_type": "stream",
          "text": [
            "LR: 1.0000e-03, Train Loss: 1.0165, Train Acc: 0.6431, Train Latency: 46.81s, Memory Usage: 3119.0KB\n",
            "Test Loss: 1.0052, Test Acc: 0.6475, Test Latency: 5.99s, Test Memory Usage: 194.0KB\n",
            "\n",
            "Epoch 134\n"
          ]
        },
        {
          "name": "stderr",
          "output_type": "stream",
          "text": [
            "Train: 100%|##########| 391/391 [00:46<00:00,  8.39batch/s]\n"
          ]
        },
        {
          "name": "stdout",
          "output_type": "stream",
          "text": [
            "LR: 1.0000e-03, Train Loss: 0.9888, Train Acc: 0.6547, Train Latency: 46.61s, Memory Usage: 3119.0KB\n",
            "Test Loss: 1.0293, Test Acc: 0.6466, Test Latency: 5.96s, Test Memory Usage: 194.0KB\n",
            "\n",
            "Epoch 135\n"
          ]
        },
        {
          "name": "stderr",
          "output_type": "stream",
          "text": [
            "Train: 100%|##########| 391/391 [00:46<00:00,  8.38batch/s]\n"
          ]
        },
        {
          "name": "stdout",
          "output_type": "stream",
          "text": [
            "LR: 1.0000e-03, Train Loss: 1.0237, Train Acc: 0.6426, Train Latency: 46.64s, Memory Usage: 3119.0KB\n",
            "Test Loss: 1.1323, Test Acc: 0.6126, Test Latency: 5.92s, Test Memory Usage: 194.0KB\n",
            "\n",
            "Epoch 136\n"
          ]
        },
        {
          "name": "stderr",
          "output_type": "stream",
          "text": [
            "Train: 100%|##########| 391/391 [00:46<00:00,  8.38batch/s]\n"
          ]
        },
        {
          "name": "stdout",
          "output_type": "stream",
          "text": [
            "LR: 1.0000e-03, Train Loss: 1.0040, Train Acc: 0.6481, Train Latency: 46.64s, Memory Usage: 3119.0KB\n",
            "Test Loss: 1.1180, Test Acc: 0.6262, Test Latency: 6.00s, Test Memory Usage: 194.0KB\n",
            "\n",
            "Epoch 137\n"
          ]
        },
        {
          "name": "stderr",
          "output_type": "stream",
          "text": [
            "Train: 100%|##########| 391/391 [00:46<00:00,  8.40batch/s]\n"
          ]
        },
        {
          "name": "stdout",
          "output_type": "stream",
          "text": [
            "LR: 1.0000e-03, Train Loss: 1.0156, Train Acc: 0.6443, Train Latency: 46.56s, Memory Usage: 3119.0KB\n",
            "Test Loss: 1.0394, Test Acc: 0.6379, Test Latency: 6.02s, Test Memory Usage: 194.0KB\n",
            "\n",
            "Epoch 138\n"
          ]
        },
        {
          "name": "stderr",
          "output_type": "stream",
          "text": [
            "Train: 100%|##########| 391/391 [00:46<00:00,  8.41batch/s]\n"
          ]
        },
        {
          "name": "stdout",
          "output_type": "stream",
          "text": [
            "LR: 1.0000e-03, Train Loss: 1.0142, Train Acc: 0.6452, Train Latency: 46.51s, Memory Usage: 3119.0KB\n",
            "Test Loss: 1.0554, Test Acc: 0.6415, Test Latency: 5.92s, Test Memory Usage: 194.0KB\n",
            "\n",
            "Epoch 139\n"
          ]
        },
        {
          "name": "stderr",
          "output_type": "stream",
          "text": [
            "Train: 100%|##########| 391/391 [00:46<00:00,  8.40batch/s]\n"
          ]
        },
        {
          "name": "stdout",
          "output_type": "stream",
          "text": [
            "LR: 1.0000e-03, Train Loss: 1.0035, Train Acc: 0.6475, Train Latency: 46.55s, Memory Usage: 3119.0KB\n",
            "Test Loss: 1.0313, Test Acc: 0.6454, Test Latency: 6.00s, Test Memory Usage: 194.0KB\n",
            "\n",
            "Epoch 140\n"
          ]
        },
        {
          "name": "stderr",
          "output_type": "stream",
          "text": [
            "Train: 100%|##########| 391/391 [00:46<00:00,  8.35batch/s]\n"
          ]
        },
        {
          "name": "stdout",
          "output_type": "stream",
          "text": [
            "LR: 1.0000e-03, Train Loss: 1.0313, Train Acc: 0.6393, Train Latency: 46.84s, Memory Usage: 3119.0KB\n",
            "Test Loss: 1.1253, Test Acc: 0.6180, Test Latency: 5.95s, Test Memory Usage: 194.0KB\n",
            "\n",
            "Epoch 141\n"
          ]
        },
        {
          "name": "stderr",
          "output_type": "stream",
          "text": [
            "Train: 100%|##########| 391/391 [00:46<00:00,  8.36batch/s]\n"
          ]
        },
        {
          "name": "stdout",
          "output_type": "stream",
          "text": [
            "LR: 1.0000e-03, Train Loss: 0.9962, Train Acc: 0.6526, Train Latency: 46.78s, Memory Usage: 3119.0KB\n",
            "Test Loss: 1.0239, Test Acc: 0.6418, Test Latency: 5.92s, Test Memory Usage: 194.0KB\n",
            "\n",
            "Epoch 142\n"
          ]
        },
        {
          "name": "stderr",
          "output_type": "stream",
          "text": [
            "Train: 100%|##########| 391/391 [00:46<00:00,  8.36batch/s]\n"
          ]
        },
        {
          "name": "stdout",
          "output_type": "stream",
          "text": [
            "LR: 1.0000e-03, Train Loss: 1.0104, Train Acc: 0.6479, Train Latency: 46.78s, Memory Usage: 3119.0KB\n",
            "Test Loss: 1.0250, Test Acc: 0.6452, Test Latency: 5.98s, Test Memory Usage: 194.0KB\n",
            "\n",
            "Epoch 143\n"
          ]
        },
        {
          "name": "stderr",
          "output_type": "stream",
          "text": [
            "Train: 100%|##########| 391/391 [00:46<00:00,  8.41batch/s]\n"
          ]
        },
        {
          "name": "stdout",
          "output_type": "stream",
          "text": [
            "LR: 1.0000e-03, Train Loss: 1.0049, Train Acc: 0.6470, Train Latency: 46.50s, Memory Usage: 3119.0KB\n",
            "Test Loss: 1.0865, Test Acc: 0.6225, Test Latency: 5.98s, Test Memory Usage: 194.0KB\n",
            "\n",
            "Epoch 144\n"
          ]
        },
        {
          "name": "stderr",
          "output_type": "stream",
          "text": [
            "Train: 100%|##########| 391/391 [00:46<00:00,  8.38batch/s]\n"
          ]
        },
        {
          "name": "stdout",
          "output_type": "stream",
          "text": [
            "LR: 1.0000e-03, Train Loss: 1.0342, Train Acc: 0.6374, Train Latency: 46.68s, Memory Usage: 3119.0KB\n",
            "Test Loss: 1.0681, Test Acc: 0.6260, Test Latency: 5.95s, Test Memory Usage: 194.0KB\n",
            "\n",
            "Epoch 145\n"
          ]
        },
        {
          "name": "stderr",
          "output_type": "stream",
          "text": [
            "Train: 100%|##########| 391/391 [00:46<00:00,  8.41batch/s]\n"
          ]
        },
        {
          "name": "stdout",
          "output_type": "stream",
          "text": [
            "LR: 1.0000e-03, Train Loss: 1.0284, Train Acc: 0.6412, Train Latency: 46.52s, Memory Usage: 3119.0KB\n",
            "Test Loss: 1.0163, Test Acc: 0.6518, Test Latency: 6.01s, Test Memory Usage: 194.0KB\n",
            "\n",
            "Epoch 146\n"
          ]
        },
        {
          "name": "stderr",
          "output_type": "stream",
          "text": [
            "Train: 100%|##########| 391/391 [00:46<00:00,  8.39batch/s]\n"
          ]
        },
        {
          "name": "stdout",
          "output_type": "stream",
          "text": [
            "LR: 1.0000e-03, Train Loss: 0.9902, Train Acc: 0.6533, Train Latency: 46.58s, Memory Usage: 3119.0KB\n",
            "Test Loss: 1.0783, Test Acc: 0.6302, Test Latency: 5.97s, Test Memory Usage: 194.0KB\n",
            "\n",
            "Epoch 147\n"
          ]
        },
        {
          "name": "stderr",
          "output_type": "stream",
          "text": [
            "Train: 100%|##########| 391/391 [00:46<00:00,  8.43batch/s]\n"
          ]
        },
        {
          "name": "stdout",
          "output_type": "stream",
          "text": [
            "LR: 1.0000e-03, Train Loss: 1.0063, Train Acc: 0.6478, Train Latency: 46.38s, Memory Usage: 3119.0KB\n",
            "Test Loss: 1.0936, Test Acc: 0.6218, Test Latency: 5.95s, Test Memory Usage: 194.0KB\n",
            "\n",
            "Epoch 148\n"
          ]
        },
        {
          "name": "stderr",
          "output_type": "stream",
          "text": [
            "Train: 100%|##########| 391/391 [00:46<00:00,  8.41batch/s]\n"
          ]
        },
        {
          "name": "stdout",
          "output_type": "stream",
          "text": [
            "LR: 1.0000e-03, Train Loss: 0.9964, Train Acc: 0.6507, Train Latency: 46.48s, Memory Usage: 3119.0KB\n",
            "Test Loss: 1.0450, Test Acc: 0.6364, Test Latency: 6.02s, Test Memory Usage: 194.0KB\n",
            "\n",
            "Epoch 149\n"
          ]
        },
        {
          "name": "stderr",
          "output_type": "stream",
          "text": [
            "Train: 100%|##########| 391/391 [00:46<00:00,  8.34batch/s]\n"
          ]
        },
        {
          "name": "stdout",
          "output_type": "stream",
          "text": [
            "LR: 1.0000e-03, Train Loss: 1.0138, Train Acc: 0.6434, Train Latency: 46.88s, Memory Usage: 3119.0KB\n",
            "Test Loss: 1.0553, Test Acc: 0.6357, Test Latency: 5.94s, Test Memory Usage: 194.0KB\n",
            "\n",
            "Epoch 150\n"
          ]
        },
        {
          "name": "stderr",
          "output_type": "stream",
          "text": [
            "Train: 100%|##########| 391/391 [00:47<00:00,  8.29batch/s]\n"
          ]
        },
        {
          "name": "stdout",
          "output_type": "stream",
          "text": [
            "LR: 1.0000e-03, Train Loss: 1.0322, Train Acc: 0.6394, Train Latency: 47.15s, Memory Usage: 3119.0KB\n",
            "Test Loss: 1.1047, Test Acc: 0.6193, Test Latency: 5.99s, Test Memory Usage: 194.0KB\n",
            "\n",
            "Epoch 151\n"
          ]
        },
        {
          "name": "stderr",
          "output_type": "stream",
          "text": [
            "Train: 100%|##########| 391/391 [00:46<00:00,  8.38batch/s]\n"
          ]
        },
        {
          "name": "stdout",
          "output_type": "stream",
          "text": [
            "LR: 1.0000e-04, Train Loss: 1.0371, Train Acc: 0.6383, Train Latency: 46.64s, Memory Usage: 3119.0KB\n",
            "Test Loss: 1.0204, Test Acc: 0.6451, Test Latency: 5.98s, Test Memory Usage: 194.0KB\n",
            "\n",
            "Epoch 152\n"
          ]
        },
        {
          "name": "stderr",
          "output_type": "stream",
          "text": [
            "Train: 100%|##########| 391/391 [00:46<00:00,  8.42batch/s]\n"
          ]
        },
        {
          "name": "stdout",
          "output_type": "stream",
          "text": [
            "LR: 1.0000e-04, Train Loss: 1.0200, Train Acc: 0.6453, Train Latency: 46.46s, Memory Usage: 3119.0KB\n",
            "Test Loss: 0.9997, Test Acc: 0.6523, Test Latency: 5.90s, Test Memory Usage: 194.0KB\n",
            "\n",
            "Epoch 153\n"
          ]
        },
        {
          "name": "stderr",
          "output_type": "stream",
          "text": [
            "Train: 100%|##########| 391/391 [00:46<00:00,  8.41batch/s]\n"
          ]
        },
        {
          "name": "stdout",
          "output_type": "stream",
          "text": [
            "LR: 1.0000e-04, Train Loss: 1.0030, Train Acc: 0.6501, Train Latency: 46.52s, Memory Usage: 3119.0KB\n",
            "Test Loss: 0.9850, Test Acc: 0.6555, Test Latency: 5.94s, Test Memory Usage: 194.0KB\n",
            "\n",
            "Epoch 154\n"
          ]
        },
        {
          "name": "stderr",
          "output_type": "stream",
          "text": [
            "Train: 100%|##########| 391/391 [00:46<00:00,  8.41batch/s]\n"
          ]
        },
        {
          "name": "stdout",
          "output_type": "stream",
          "text": [
            "LR: 1.0000e-04, Train Loss: 1.0057, Train Acc: 0.6480, Train Latency: 46.52s, Memory Usage: 3119.0KB\n",
            "Test Loss: 0.9940, Test Acc: 0.6500, Test Latency: 6.06s, Test Memory Usage: 194.0KB\n",
            "\n",
            "Epoch 155\n"
          ]
        },
        {
          "name": "stderr",
          "output_type": "stream",
          "text": [
            "Train: 100%|##########| 391/391 [00:46<00:00,  8.40batch/s]\n"
          ]
        },
        {
          "name": "stdout",
          "output_type": "stream",
          "text": [
            "LR: 1.0000e-04, Train Loss: 0.9925, Train Acc: 0.6529, Train Latency: 46.57s, Memory Usage: 3119.0KB\n",
            "Test Loss: 0.9956, Test Acc: 0.6550, Test Latency: 5.94s, Test Memory Usage: 194.0KB\n",
            "\n",
            "Epoch 156\n"
          ]
        },
        {
          "name": "stderr",
          "output_type": "stream",
          "text": [
            "Train: 100%|##########| 391/391 [00:46<00:00,  8.39batch/s]\n"
          ]
        },
        {
          "name": "stdout",
          "output_type": "stream",
          "text": [
            "LR: 1.0000e-04, Train Loss: 0.9898, Train Acc: 0.6525, Train Latency: 46.61s, Memory Usage: 3119.0KB\n",
            "Test Loss: 0.9682, Test Acc: 0.6619, Test Latency: 5.92s, Test Memory Usage: 194.0KB\n",
            "\n",
            "Epoch 157\n"
          ]
        },
        {
          "name": "stderr",
          "output_type": "stream",
          "text": [
            "Train: 100%|##########| 391/391 [00:46<00:00,  8.42batch/s]\n"
          ]
        },
        {
          "name": "stdout",
          "output_type": "stream",
          "text": [
            "LR: 1.0000e-04, Train Loss: 0.9735, Train Acc: 0.6616, Train Latency: 46.46s, Memory Usage: 3119.0KB\n",
            "Test Loss: 0.9714, Test Acc: 0.6622, Test Latency: 5.98s, Test Memory Usage: 194.0KB\n",
            "\n",
            "Epoch 158\n"
          ]
        },
        {
          "name": "stderr",
          "output_type": "stream",
          "text": [
            "Train: 100%|##########| 391/391 [00:46<00:00,  8.39batch/s]\n"
          ]
        },
        {
          "name": "stdout",
          "output_type": "stream",
          "text": [
            "LR: 1.0000e-04, Train Loss: 0.9839, Train Acc: 0.6575, Train Latency: 46.60s, Memory Usage: 3119.0KB\n",
            "Test Loss: 1.0746, Test Acc: 0.6354, Test Latency: 5.86s, Test Memory Usage: 194.0KB\n",
            "\n",
            "Epoch 159\n"
          ]
        },
        {
          "name": "stderr",
          "output_type": "stream",
          "text": [
            "Train: 100%|##########| 391/391 [00:46<00:00,  8.41batch/s]\n"
          ]
        },
        {
          "name": "stdout",
          "output_type": "stream",
          "text": [
            "LR: 1.0000e-04, Train Loss: 1.0056, Train Acc: 0.6506, Train Latency: 46.48s, Memory Usage: 3119.0KB\n",
            "Test Loss: 1.0181, Test Acc: 0.6472, Test Latency: 5.99s, Test Memory Usage: 194.0KB\n",
            "\n",
            "Epoch 160\n"
          ]
        },
        {
          "name": "stderr",
          "output_type": "stream",
          "text": [
            "Train: 100%|##########| 391/391 [00:46<00:00,  8.38batch/s]\n"
          ]
        },
        {
          "name": "stdout",
          "output_type": "stream",
          "text": [
            "LR: 1.0000e-04, Train Loss: 1.0030, Train Acc: 0.6489, Train Latency: 46.66s, Memory Usage: 3119.0KB\n",
            "Test Loss: 1.0210, Test Acc: 0.6447, Test Latency: 6.00s, Test Memory Usage: 194.0KB\n",
            "\n",
            "Epoch 161\n"
          ]
        },
        {
          "name": "stderr",
          "output_type": "stream",
          "text": [
            "Train: 100%|##########| 391/391 [00:46<00:00,  8.42batch/s]\n"
          ]
        },
        {
          "name": "stdout",
          "output_type": "stream",
          "text": [
            "LR: 1.0000e-04, Train Loss: 1.0097, Train Acc: 0.6460, Train Latency: 46.46s, Memory Usage: 3119.0KB\n",
            "Test Loss: 1.0141, Test Acc: 0.6431, Test Latency: 5.90s, Test Memory Usage: 194.0KB\n",
            "\n",
            "Epoch 162\n"
          ]
        },
        {
          "name": "stderr",
          "output_type": "stream",
          "text": [
            "Train: 100%|##########| 391/391 [00:46<00:00,  8.41batch/s]\n"
          ]
        },
        {
          "name": "stdout",
          "output_type": "stream",
          "text": [
            "LR: 1.0000e-04, Train Loss: 0.9987, Train Acc: 0.6493, Train Latency: 46.49s, Memory Usage: 3119.0KB\n",
            "Test Loss: 1.0259, Test Acc: 0.6448, Test Latency: 6.00s, Test Memory Usage: 194.0KB\n",
            "\n",
            "Epoch 163\n"
          ]
        },
        {
          "name": "stderr",
          "output_type": "stream",
          "text": [
            "Train: 100%|##########| 391/391 [00:46<00:00,  8.40batch/s]\n"
          ]
        },
        {
          "name": "stdout",
          "output_type": "stream",
          "text": [
            "LR: 1.0000e-04, Train Loss: 0.9989, Train Acc: 0.6510, Train Latency: 46.56s, Memory Usage: 3119.0KB\n",
            "Test Loss: 1.0031, Test Acc: 0.6512, Test Latency: 5.97s, Test Memory Usage: 194.0KB\n",
            "\n",
            "Epoch 164\n"
          ]
        },
        {
          "name": "stderr",
          "output_type": "stream",
          "text": [
            "Train: 100%|##########| 391/391 [00:46<00:00,  8.41batch/s]\n"
          ]
        },
        {
          "name": "stdout",
          "output_type": "stream",
          "text": [
            "LR: 1.0000e-04, Train Loss: 0.9938, Train Acc: 0.6521, Train Latency: 46.51s, Memory Usage: 3119.0KB\n",
            "Test Loss: 1.0036, Test Acc: 0.6533, Test Latency: 5.91s, Test Memory Usage: 194.0KB\n",
            "\n",
            "Epoch 165\n"
          ]
        },
        {
          "name": "stderr",
          "output_type": "stream",
          "text": [
            "Train: 100%|##########| 391/391 [00:46<00:00,  8.39batch/s]\n"
          ]
        },
        {
          "name": "stdout",
          "output_type": "stream",
          "text": [
            "LR: 1.0000e-04, Train Loss: 1.0030, Train Acc: 0.6502, Train Latency: 46.60s, Memory Usage: 3119.0KB\n",
            "Test Loss: 1.0068, Test Acc: 0.6461, Test Latency: 5.97s, Test Memory Usage: 194.0KB\n",
            "\n",
            "Epoch 166\n"
          ]
        },
        {
          "name": "stderr",
          "output_type": "stream",
          "text": [
            "Train: 100%|##########| 391/391 [00:46<00:00,  8.43batch/s]\n"
          ]
        },
        {
          "name": "stdout",
          "output_type": "stream",
          "text": [
            "LR: 1.0000e-04, Train Loss: 1.0039, Train Acc: 0.6508, Train Latency: 46.39s, Memory Usage: 3119.0KB\n",
            "Test Loss: 1.0300, Test Acc: 0.6478, Test Latency: 5.95s, Test Memory Usage: 194.0KB\n",
            "\n",
            "Epoch 167\n"
          ]
        },
        {
          "name": "stderr",
          "output_type": "stream",
          "text": [
            "Train: 100%|##########| 391/391 [00:46<00:00,  8.41batch/s]\n"
          ]
        },
        {
          "name": "stdout",
          "output_type": "stream",
          "text": [
            "LR: 1.0000e-04, Train Loss: 1.0048, Train Acc: 0.6483, Train Latency: 46.51s, Memory Usage: 3119.0KB\n",
            "Test Loss: 0.9825, Test Acc: 0.6614, Test Latency: 5.97s, Test Memory Usage: 194.0KB\n",
            "\n",
            "Epoch 168\n"
          ]
        },
        {
          "name": "stderr",
          "output_type": "stream",
          "text": [
            "Train: 100%|##########| 391/391 [00:46<00:00,  8.40batch/s]\n"
          ]
        },
        {
          "name": "stdout",
          "output_type": "stream",
          "text": [
            "LR: 1.0000e-04, Train Loss: 0.9927, Train Acc: 0.6533, Train Latency: 46.54s, Memory Usage: 3119.0KB\n",
            "Test Loss: 1.0134, Test Acc: 0.6463, Test Latency: 5.97s, Test Memory Usage: 194.0KB\n",
            "\n",
            "Epoch 169\n"
          ]
        },
        {
          "name": "stderr",
          "output_type": "stream",
          "text": [
            "Train: 100%|##########| 391/391 [00:46<00:00,  8.43batch/s]\n"
          ]
        },
        {
          "name": "stdout",
          "output_type": "stream",
          "text": [
            "LR: 1.0000e-04, Train Loss: 0.9799, Train Acc: 0.6580, Train Latency: 46.39s, Memory Usage: 3119.0KB\n",
            "Test Loss: 0.9725, Test Acc: 0.6586, Test Latency: 5.90s, Test Memory Usage: 194.0KB\n",
            "\n",
            "Epoch 170\n"
          ]
        },
        {
          "name": "stderr",
          "output_type": "stream",
          "text": [
            "Train: 100%|##########| 391/391 [00:46<00:00,  8.43batch/s]\n"
          ]
        },
        {
          "name": "stdout",
          "output_type": "stream",
          "text": [
            "LR: 1.0000e-04, Train Loss: 0.9793, Train Acc: 0.6567, Train Latency: 46.38s, Memory Usage: 3119.0KB\n",
            "Test Loss: 0.9824, Test Acc: 0.6547, Test Latency: 5.96s, Test Memory Usage: 194.0KB\n",
            "\n",
            "Epoch 171\n"
          ]
        },
        {
          "name": "stderr",
          "output_type": "stream",
          "text": [
            "Train: 100%|##########| 391/391 [00:46<00:00,  8.41batch/s]\n"
          ]
        },
        {
          "name": "stdout",
          "output_type": "stream",
          "text": [
            "LR: 1.0000e-04, Train Loss: 0.9752, Train Acc: 0.6575, Train Latency: 46.48s, Memory Usage: 3119.0KB\n",
            "Test Loss: 0.9925, Test Acc: 0.6526, Test Latency: 5.93s, Test Memory Usage: 194.0KB\n",
            "\n",
            "Epoch 172\n"
          ]
        },
        {
          "name": "stderr",
          "output_type": "stream",
          "text": [
            "Train: 100%|##########| 391/391 [00:46<00:00,  8.40batch/s]\n"
          ]
        },
        {
          "name": "stdout",
          "output_type": "stream",
          "text": [
            "LR: 1.0000e-04, Train Loss: 0.9769, Train Acc: 0.6589, Train Latency: 46.56s, Memory Usage: 3119.0KB\n",
            "Test Loss: 0.9706, Test Acc: 0.6646, Test Latency: 5.88s, Test Memory Usage: 194.0KB\n",
            "\n",
            "Epoch 173\n"
          ]
        },
        {
          "name": "stderr",
          "output_type": "stream",
          "text": [
            "Train: 100%|##########| 391/391 [00:46<00:00,  8.42batch/s]\n"
          ]
        },
        {
          "name": "stdout",
          "output_type": "stream",
          "text": [
            "LR: 1.0000e-04, Train Loss: 0.9738, Train Acc: 0.6617, Train Latency: 46.47s, Memory Usage: 3119.0KB\n",
            "Test Loss: 0.9911, Test Acc: 0.6542, Test Latency: 5.94s, Test Memory Usage: 194.0KB\n",
            "\n",
            "Epoch 174\n"
          ]
        },
        {
          "name": "stderr",
          "output_type": "stream",
          "text": [
            "Train: 100%|##########| 391/391 [00:46<00:00,  8.40batch/s]\n"
          ]
        },
        {
          "name": "stdout",
          "output_type": "stream",
          "text": [
            "LR: 1.0000e-04, Train Loss: 0.9685, Train Acc: 0.6606, Train Latency: 46.54s, Memory Usage: 3119.0KB\n",
            "Test Loss: 1.0677, Test Acc: 0.6436, Test Latency: 5.99s, Test Memory Usage: 194.0KB\n",
            "\n",
            "Epoch 175\n"
          ]
        },
        {
          "name": "stderr",
          "output_type": "stream",
          "text": [
            "Train: 100%|##########| 391/391 [00:46<00:00,  8.40batch/s]\n"
          ]
        },
        {
          "name": "stdout",
          "output_type": "stream",
          "text": [
            "LR: 1.0000e-04, Train Loss: 0.9801, Train Acc: 0.6573, Train Latency: 46.55s, Memory Usage: 3119.0KB\n",
            "Test Loss: 1.0124, Test Acc: 0.6427, Test Latency: 5.90s, Test Memory Usage: 194.0KB\n",
            "\n",
            "Epoch 176\n"
          ]
        },
        {
          "name": "stderr",
          "output_type": "stream",
          "text": [
            "Train: 100%|##########| 391/391 [00:46<00:00,  8.40batch/s]\n"
          ]
        },
        {
          "name": "stdout",
          "output_type": "stream",
          "text": [
            "LR: 1.0000e-04, Train Loss: 0.9986, Train Acc: 0.6533, Train Latency: 46.53s, Memory Usage: 3119.0KB\n",
            "Test Loss: 0.9945, Test Acc: 0.6560, Test Latency: 5.96s, Test Memory Usage: 194.0KB\n",
            "\n",
            "Epoch 177\n"
          ]
        },
        {
          "name": "stderr",
          "output_type": "stream",
          "text": [
            "Train: 100%|##########| 391/391 [00:46<00:00,  8.41batch/s]\n"
          ]
        },
        {
          "name": "stdout",
          "output_type": "stream",
          "text": [
            "LR: 1.0000e-04, Train Loss: 1.0004, Train Acc: 0.6487, Train Latency: 46.52s, Memory Usage: 3119.0KB\n",
            "Test Loss: 0.9846, Test Acc: 0.6560, Test Latency: 6.00s, Test Memory Usage: 194.0KB\n",
            "\n",
            "Epoch 178\n"
          ]
        },
        {
          "name": "stderr",
          "output_type": "stream",
          "text": [
            "Train: 100%|##########| 391/391 [00:46<00:00,  8.40batch/s]\n"
          ]
        },
        {
          "name": "stdout",
          "output_type": "stream",
          "text": [
            "LR: 1.0000e-04, Train Loss: 0.9971, Train Acc: 0.6523, Train Latency: 46.53s, Memory Usage: 3119.0KB\n",
            "Test Loss: 1.0283, Test Acc: 0.6484, Test Latency: 5.87s, Test Memory Usage: 194.0KB\n",
            "\n",
            "Epoch 179\n"
          ]
        },
        {
          "name": "stderr",
          "output_type": "stream",
          "text": [
            "Train: 100%|##########| 391/391 [00:46<00:00,  8.41batch/s]\n"
          ]
        },
        {
          "name": "stdout",
          "output_type": "stream",
          "text": [
            "LR: 1.0000e-04, Train Loss: 1.0018, Train Acc: 0.6491, Train Latency: 46.47s, Memory Usage: 3119.0KB\n",
            "Test Loss: 1.0104, Test Acc: 0.6494, Test Latency: 5.99s, Test Memory Usage: 194.0KB\n",
            "\n",
            "Epoch 180\n"
          ]
        },
        {
          "name": "stderr",
          "output_type": "stream",
          "text": [
            "Train: 100%|##########| 391/391 [00:46<00:00,  8.40batch/s]\n"
          ]
        },
        {
          "name": "stdout",
          "output_type": "stream",
          "text": [
            "LR: 1.0000e-04, Train Loss: 1.0174, Train Acc: 0.6438, Train Latency: 46.57s, Memory Usage: 3119.0KB\n",
            "Test Loss: 0.9784, Test Acc: 0.6589, Test Latency: 6.00s, Test Memory Usage: 194.0KB\n",
            "\n",
            "Epoch 181\n"
          ]
        },
        {
          "name": "stderr",
          "output_type": "stream",
          "text": [
            "Train: 100%|##########| 391/391 [00:46<00:00,  8.41batch/s]\n"
          ]
        },
        {
          "name": "stdout",
          "output_type": "stream",
          "text": [
            "LR: 1.0000e-04, Train Loss: 1.0075, Train Acc: 0.6477, Train Latency: 46.50s, Memory Usage: 3119.0KB\n",
            "Test Loss: 0.9809, Test Acc: 0.6573, Test Latency: 5.91s, Test Memory Usage: 194.0KB\n",
            "\n",
            "Epoch 182\n"
          ]
        },
        {
          "name": "stderr",
          "output_type": "stream",
          "text": [
            "Train: 100%|##########| 391/391 [00:46<00:00,  8.42batch/s]\n"
          ]
        },
        {
          "name": "stdout",
          "output_type": "stream",
          "text": [
            "LR: 1.0000e-04, Train Loss: 1.0143, Train Acc: 0.6454, Train Latency: 46.44s, Memory Usage: 3119.0KB\n",
            "Test Loss: 1.0122, Test Acc: 0.6483, Test Latency: 5.97s, Test Memory Usage: 194.0KB\n",
            "\n",
            "Epoch 183\n"
          ]
        },
        {
          "name": "stderr",
          "output_type": "stream",
          "text": [
            "Train: 100%|##########| 391/391 [00:46<00:00,  8.42batch/s]\n"
          ]
        },
        {
          "name": "stdout",
          "output_type": "stream",
          "text": [
            "LR: 1.0000e-04, Train Loss: 1.0108, Train Acc: 0.6499, Train Latency: 46.43s, Memory Usage: 3119.0KB\n",
            "Test Loss: 1.0086, Test Acc: 0.6523, Test Latency: 5.94s, Test Memory Usage: 194.0KB\n",
            "\n",
            "Epoch 184\n"
          ]
        },
        {
          "name": "stderr",
          "output_type": "stream",
          "text": [
            "Train: 100%|##########| 391/391 [00:46<00:00,  8.41batch/s]\n"
          ]
        },
        {
          "name": "stdout",
          "output_type": "stream",
          "text": [
            "LR: 1.0000e-04, Train Loss: 1.0034, Train Acc: 0.6488, Train Latency: 46.50s, Memory Usage: 3119.0KB\n",
            "Test Loss: 0.9888, Test Acc: 0.6561, Test Latency: 5.90s, Test Memory Usage: 194.0KB\n",
            "\n",
            "Epoch 185\n"
          ]
        },
        {
          "name": "stderr",
          "output_type": "stream",
          "text": [
            "Train: 100%|##########| 391/391 [00:46<00:00,  8.41batch/s]\n"
          ]
        },
        {
          "name": "stdout",
          "output_type": "stream",
          "text": [
            "LR: 1.0000e-04, Train Loss: 1.0014, Train Acc: 0.6505, Train Latency: 46.51s, Memory Usage: 3119.0KB\n",
            "Test Loss: 0.9905, Test Acc: 0.6557, Test Latency: 6.01s, Test Memory Usage: 194.0KB\n",
            "\n",
            "Epoch 186\n"
          ]
        },
        {
          "name": "stderr",
          "output_type": "stream",
          "text": [
            "Train: 100%|##########| 391/391 [00:46<00:00,  8.38batch/s]\n"
          ]
        },
        {
          "name": "stdout",
          "output_type": "stream",
          "text": [
            "LR: 1.0000e-04, Train Loss: 1.0057, Train Acc: 0.6459, Train Latency: 46.68s, Memory Usage: 3119.0KB\n",
            "Test Loss: 1.0561, Test Acc: 0.6323, Test Latency: 5.95s, Test Memory Usage: 194.0KB\n",
            "\n",
            "Epoch 187\n"
          ]
        },
        {
          "name": "stderr",
          "output_type": "stream",
          "text": [
            "Train: 100%|##########| 391/391 [00:46<00:00,  8.40batch/s]\n"
          ]
        },
        {
          "name": "stdout",
          "output_type": "stream",
          "text": [
            "LR: 1.0000e-04, Train Loss: 1.0297, Train Acc: 0.6379, Train Latency: 46.53s, Memory Usage: 3119.0KB\n",
            "Test Loss: 1.0629, Test Acc: 0.6269, Test Latency: 5.92s, Test Memory Usage: 194.0KB\n",
            "\n",
            "Epoch 188\n"
          ]
        },
        {
          "name": "stderr",
          "output_type": "stream",
          "text": [
            "Train: 100%|##########| 391/391 [00:46<00:00,  8.41batch/s]\n"
          ]
        },
        {
          "name": "stdout",
          "output_type": "stream",
          "text": [
            "LR: 1.0000e-04, Train Loss: 1.0338, Train Acc: 0.6386, Train Latency: 46.51s, Memory Usage: 3119.0KB\n",
            "Test Loss: 1.0169, Test Acc: 0.6431, Test Latency: 6.02s, Test Memory Usage: 194.0KB\n",
            "\n",
            "Epoch 189\n"
          ]
        },
        {
          "name": "stderr",
          "output_type": "stream",
          "text": [
            "Train: 100%|##########| 391/391 [00:46<00:00,  8.38batch/s]\n"
          ]
        },
        {
          "name": "stdout",
          "output_type": "stream",
          "text": [
            "LR: 1.0000e-04, Train Loss: 1.0040, Train Acc: 0.6503, Train Latency: 46.65s, Memory Usage: 3119.0KB\n",
            "Test Loss: 0.9957, Test Acc: 0.6524, Test Latency: 5.95s, Test Memory Usage: 194.0KB\n",
            "\n",
            "Epoch 190\n"
          ]
        },
        {
          "name": "stderr",
          "output_type": "stream",
          "text": [
            "Train: 100%|##########| 391/391 [00:46<00:00,  8.40batch/s]\n"
          ]
        },
        {
          "name": "stdout",
          "output_type": "stream",
          "text": [
            "LR: 1.0000e-04, Train Loss: 1.0165, Train Acc: 0.6448, Train Latency: 46.57s, Memory Usage: 3119.0KB\n",
            "Test Loss: 1.0565, Test Acc: 0.6366, Test Latency: 5.97s, Test Memory Usage: 194.0KB\n",
            "\n",
            "Epoch 191\n"
          ]
        },
        {
          "name": "stderr",
          "output_type": "stream",
          "text": [
            "Train: 100%|##########| 391/391 [00:46<00:00,  8.39batch/s]\n"
          ]
        },
        {
          "name": "stdout",
          "output_type": "stream",
          "text": [
            "LR: 1.0000e-04, Train Loss: 0.9934, Train Acc: 0.6528, Train Latency: 46.63s, Memory Usage: 3119.0KB\n",
            "Test Loss: 1.0016, Test Acc: 0.6595, Test Latency: 5.99s, Test Memory Usage: 194.0KB\n",
            "\n",
            "Epoch 192\n"
          ]
        },
        {
          "name": "stderr",
          "output_type": "stream",
          "text": [
            "Train: 100%|##########| 391/391 [00:46<00:00,  8.36batch/s]\n"
          ]
        },
        {
          "name": "stdout",
          "output_type": "stream",
          "text": [
            "LR: 1.0000e-04, Train Loss: 0.9788, Train Acc: 0.6594, Train Latency: 46.75s, Memory Usage: -6494.0KB\n",
            "Test Loss: 0.9802, Test Acc: 0.6576, Test Latency: 5.96s, Test Memory Usage: 194.0KB\n",
            "\n",
            "Epoch 193\n"
          ]
        },
        {
          "name": "stderr",
          "output_type": "stream",
          "text": [
            "Train: 100%|##########| 391/391 [00:46<00:00,  8.35batch/s]\n"
          ]
        },
        {
          "name": "stdout",
          "output_type": "stream",
          "text": [
            "LR: 1.0000e-04, Train Loss: 0.9697, Train Acc: 0.6622, Train Latency: 46.82s, Memory Usage: -6494.0KB\n",
            "Test Loss: 0.9683, Test Acc: 0.6603, Test Latency: 6.03s, Test Memory Usage: 194.0KB\n",
            "\n",
            "Epoch 194\n"
          ]
        },
        {
          "name": "stderr",
          "output_type": "stream",
          "text": [
            "Train: 100%|##########| 391/391 [00:46<00:00,  8.37batch/s]\n"
          ]
        },
        {
          "name": "stdout",
          "output_type": "stream",
          "text": [
            "LR: 1.0000e-04, Train Loss: 0.9753, Train Acc: 0.6585, Train Latency: 46.70s, Memory Usage: -6494.0KB\n",
            "Test Loss: 1.0019, Test Acc: 0.6539, Test Latency: 5.97s, Test Memory Usage: 194.0KB\n",
            "\n",
            "Epoch 195\n"
          ]
        },
        {
          "name": "stderr",
          "output_type": "stream",
          "text": [
            "Train: 100%|##########| 391/391 [00:46<00:00,  8.36batch/s]\n"
          ]
        },
        {
          "name": "stdout",
          "output_type": "stream",
          "text": [
            "LR: 1.0000e-04, Train Loss: 0.9787, Train Acc: 0.6587, Train Latency: 46.75s, Memory Usage: -6494.0KB\n",
            "Test Loss: 0.9804, Test Acc: 0.6635, Test Latency: 5.96s, Test Memory Usage: 194.0KB\n",
            "\n",
            "Epoch 196\n"
          ]
        },
        {
          "name": "stderr",
          "output_type": "stream",
          "text": [
            "Train: 100%|##########| 391/391 [00:47<00:00,  8.30batch/s]\n"
          ]
        },
        {
          "name": "stdout",
          "output_type": "stream",
          "text": [
            "LR: 1.0000e-04, Train Loss: 0.9903, Train Acc: 0.6564, Train Latency: 47.13s, Memory Usage: -6494.0KB\n",
            "Test Loss: 1.0623, Test Acc: 0.6408, Test Latency: 6.05s, Test Memory Usage: 194.0KB\n",
            "\n",
            "Epoch 197\n"
          ]
        },
        {
          "name": "stderr",
          "output_type": "stream",
          "text": [
            "Train: 100%|##########| 391/391 [00:46<00:00,  8.37batch/s]\n"
          ]
        },
        {
          "name": "stdout",
          "output_type": "stream",
          "text": [
            "LR: 1.0000e-04, Train Loss: 1.0118, Train Acc: 0.6474, Train Latency: 46.72s, Memory Usage: -6494.0KB\n",
            "Test Loss: 1.0116, Test Acc: 0.6455, Test Latency: 5.96s, Test Memory Usage: 194.0KB\n",
            "\n",
            "Epoch 198\n"
          ]
        },
        {
          "name": "stderr",
          "output_type": "stream",
          "text": [
            "Train: 100%|##########| 391/391 [00:46<00:00,  8.39batch/s]\n"
          ]
        },
        {
          "name": "stdout",
          "output_type": "stream",
          "text": [
            "LR: 1.0000e-04, Train Loss: 1.0028, Train Acc: 0.6514, Train Latency: 46.58s, Memory Usage: -6494.0KB\n",
            "Test Loss: 1.0357, Test Acc: 0.6371, Test Latency: 5.92s, Test Memory Usage: 194.0KB\n",
            "\n",
            "Epoch 199\n"
          ]
        },
        {
          "name": "stderr",
          "output_type": "stream",
          "text": [
            "Train: 100%|##########| 391/391 [00:46<00:00,  8.37batch/s]\n"
          ]
        },
        {
          "name": "stdout",
          "output_type": "stream",
          "text": [
            "LR: 1.0000e-04, Train Loss: 1.0184, Train Acc: 0.6444, Train Latency: 46.71s, Memory Usage: -6494.0KB\n",
            "Test Loss: 1.0340, Test Acc: 0.6397, Test Latency: 6.11s, Test Memory Usage: 194.0KB\n",
            "\n",
            "Epoch 200\n"
          ]
        },
        {
          "name": "stderr",
          "output_type": "stream",
          "text": [
            "Train: 100%|##########| 391/391 [00:46<00:00,  8.38batch/s]\n"
          ]
        },
        {
          "name": "stdout",
          "output_type": "stream",
          "text": [
            "LR: 1.0000e-04, Train Loss: 1.0269, Train Acc: 0.6394, Train Latency: 46.67s, Memory Usage: -6494.0KB\n",
            "Test Loss: 1.0369, Test Acc: 0.6405, Test Latency: 5.91s, Test Memory Usage: 194.0KB\n",
            "Saving final epoch model ...\n",
            "\n",
            "Quantization: weight=2 activation=3, Using device: cuda\n",
            "\n",
            "Epoch 1\n"
          ]
        },
        {
          "name": "stderr",
          "output_type": "stream",
          "text": [
            "Train: 100%|##########| 391/391 [00:52<00:00,  7.47batch/s]\n"
          ]
        },
        {
          "name": "stdout",
          "output_type": "stream",
          "text": [
            "LR: 1.0000e-01, Train Loss: 1.8868, Train Acc: 0.2949, Train Latency: 52.35s, Memory Usage: 3119.0KB\n",
            "Test Loss: 1.7451, Test Acc: 0.3567, Test Latency: 7.17s, Test Memory Usage: 194.0KB\n",
            "\n",
            "Epoch 2\n"
          ]
        },
        {
          "name": "stderr",
          "output_type": "stream",
          "text": [
            "Train: 100%|##########| 391/391 [00:52<00:00,  7.45batch/s]\n"
          ]
        },
        {
          "name": "stdout",
          "output_type": "stream",
          "text": [
            "LR: 1.0000e-01, Train Loss: 1.5698, Train Acc: 0.4183, Train Latency: 52.49s, Memory Usage: 3119.0KB\n",
            "Test Loss: 1.5351, Test Acc: 0.4356, Test Latency: 7.13s, Test Memory Usage: 194.0KB\n",
            "\n",
            "Epoch 3\n"
          ]
        },
        {
          "name": "stderr",
          "output_type": "stream",
          "text": [
            "Train: 100%|##########| 391/391 [00:52<00:00,  7.45batch/s]\n"
          ]
        },
        {
          "name": "stdout",
          "output_type": "stream",
          "text": [
            "LR: 1.0000e-01, Train Loss: 1.4329, Train Acc: 0.4756, Train Latency: 52.47s, Memory Usage: 3119.0KB\n",
            "Test Loss: 1.5621, Test Acc: 0.4389, Test Latency: 7.08s, Test Memory Usage: 194.0KB\n",
            "\n",
            "Epoch 4\n"
          ]
        },
        {
          "name": "stderr",
          "output_type": "stream",
          "text": [
            "Train: 100%|##########| 391/391 [00:52<00:00,  7.42batch/s]\n"
          ]
        },
        {
          "name": "stdout",
          "output_type": "stream",
          "text": [
            "LR: 1.0000e-01, Train Loss: 1.3132, Train Acc: 0.5276, Train Latency: 52.67s, Memory Usage: 3119.0KB\n",
            "Test Loss: 1.3930, Test Acc: 0.5069, Test Latency: 7.17s, Test Memory Usage: 194.0KB\n",
            "\n",
            "Epoch 5\n"
          ]
        },
        {
          "name": "stderr",
          "output_type": "stream",
          "text": [
            "Train: 100%|##########| 391/391 [00:52<00:00,  7.46batch/s]\n"
          ]
        },
        {
          "name": "stdout",
          "output_type": "stream",
          "text": [
            "LR: 1.0000e-01, Train Loss: 1.2231, Train Acc: 0.5615, Train Latency: 52.41s, Memory Usage: 3119.0KB\n",
            "Test Loss: 1.4705, Test Acc: 0.5015, Test Latency: 7.07s, Test Memory Usage: 194.0KB\n",
            "\n",
            "Epoch 6\n"
          ]
        },
        {
          "name": "stderr",
          "output_type": "stream",
          "text": [
            "Train: 100%|##########| 391/391 [00:52<00:00,  7.51batch/s]\n"
          ]
        },
        {
          "name": "stdout",
          "output_type": "stream",
          "text": [
            "LR: 1.0000e-01, Train Loss: 1.1358, Train Acc: 0.5951, Train Latency: 52.05s, Memory Usage: 3119.0KB\n",
            "Test Loss: 1.1539, Test Acc: 0.5927, Test Latency: 7.07s, Test Memory Usage: 194.0KB\n",
            "\n",
            "Epoch 7\n"
          ]
        },
        {
          "name": "stderr",
          "output_type": "stream",
          "text": [
            "Train: 100%|##########| 391/391 [00:52<00:00,  7.49batch/s]\n"
          ]
        },
        {
          "name": "stdout",
          "output_type": "stream",
          "text": [
            "LR: 1.0000e-01, Train Loss: 1.0437, Train Acc: 0.6315, Train Latency: 52.20s, Memory Usage: 3119.0KB\n",
            "Test Loss: 1.0411, Test Acc: 0.6390, Test Latency: 7.14s, Test Memory Usage: 194.0KB\n",
            "\n",
            "Epoch 8\n"
          ]
        },
        {
          "name": "stderr",
          "output_type": "stream",
          "text": [
            "Train: 100%|##########| 391/391 [00:52<00:00,  7.48batch/s]\n"
          ]
        },
        {
          "name": "stdout",
          "output_type": "stream",
          "text": [
            "LR: 1.0000e-01, Train Loss: 0.9812, Train Acc: 0.6558, Train Latency: 52.29s, Memory Usage: 3119.0KB\n",
            "Test Loss: 1.0050, Test Acc: 0.6499, Test Latency: 7.13s, Test Memory Usage: 194.0KB\n",
            "\n",
            "Epoch 9\n"
          ]
        },
        {
          "name": "stderr",
          "output_type": "stream",
          "text": [
            "Train: 100%|##########| 391/391 [00:52<00:00,  7.44batch/s]\n"
          ]
        },
        {
          "name": "stdout",
          "output_type": "stream",
          "text": [
            "LR: 1.0000e-01, Train Loss: 0.9438, Train Acc: 0.6698, Train Latency: 52.56s, Memory Usage: 3119.0KB\n",
            "Test Loss: 1.1935, Test Acc: 0.6048, Test Latency: 7.16s, Test Memory Usage: 194.0KB\n",
            "\n",
            "Epoch 10\n"
          ]
        },
        {
          "name": "stderr",
          "output_type": "stream",
          "text": [
            "Train: 100%|##########| 391/391 [00:52<00:00,  7.44batch/s]\n"
          ]
        },
        {
          "name": "stdout",
          "output_type": "stream",
          "text": [
            "LR: 1.0000e-01, Train Loss: 0.9155, Train Acc: 0.6811, Train Latency: 52.58s, Memory Usage: 3119.0KB\n",
            "Test Loss: 1.0123, Test Acc: 0.6491, Test Latency: 7.14s, Test Memory Usage: 194.0KB\n",
            "\n",
            "Epoch 11\n"
          ]
        },
        {
          "name": "stderr",
          "output_type": "stream",
          "text": [
            "Train: 100%|##########| 391/391 [00:52<00:00,  7.44batch/s]\n"
          ]
        },
        {
          "name": "stdout",
          "output_type": "stream",
          "text": [
            "LR: 1.0000e-01, Train Loss: 0.8883, Train Acc: 0.6892, Train Latency: 52.58s, Memory Usage: 3119.0KB\n",
            "Test Loss: 1.3153, Test Acc: 0.5858, Test Latency: 7.19s, Test Memory Usage: 194.0KB\n",
            "\n",
            "Epoch 12\n"
          ]
        },
        {
          "name": "stderr",
          "output_type": "stream",
          "text": [
            "Train: 100%|##########| 391/391 [00:52<00:00,  7.41batch/s]\n"
          ]
        },
        {
          "name": "stdout",
          "output_type": "stream",
          "text": [
            "LR: 1.0000e-01, Train Loss: 0.8851, Train Acc: 0.6932, Train Latency: 52.81s, Memory Usage: 3119.0KB\n",
            "Test Loss: 1.2587, Test Acc: 0.5954, Test Latency: 7.15s, Test Memory Usage: 194.0KB\n",
            "\n",
            "Epoch 13\n"
          ]
        },
        {
          "name": "stderr",
          "output_type": "stream",
          "text": [
            "Train: 100%|##########| 391/391 [00:52<00:00,  7.39batch/s]\n"
          ]
        },
        {
          "name": "stdout",
          "output_type": "stream",
          "text": [
            "LR: 1.0000e-01, Train Loss: 0.8538, Train Acc: 0.7053, Train Latency: 52.90s, Memory Usage: 3119.0KB\n",
            "Test Loss: 1.1590, Test Acc: 0.6041, Test Latency: 7.23s, Test Memory Usage: 194.0KB\n",
            "\n",
            "Epoch 14\n"
          ]
        },
        {
          "name": "stderr",
          "output_type": "stream",
          "text": [
            "Train: 100%|##########| 391/391 [00:52<00:00,  7.40batch/s]\n"
          ]
        },
        {
          "name": "stdout",
          "output_type": "stream",
          "text": [
            "LR: 1.0000e-01, Train Loss: 0.8461, Train Acc: 0.7101, Train Latency: 52.83s, Memory Usage: 3119.0KB\n",
            "Test Loss: 0.9385, Test Acc: 0.6742, Test Latency: 7.21s, Test Memory Usage: 194.0KB\n",
            "\n",
            "Epoch 15\n"
          ]
        },
        {
          "name": "stderr",
          "output_type": "stream",
          "text": [
            "Train: 100%|##########| 391/391 [00:52<00:00,  7.43batch/s]\n"
          ]
        },
        {
          "name": "stdout",
          "output_type": "stream",
          "text": [
            "LR: 1.0000e-01, Train Loss: 0.8514, Train Acc: 0.7084, Train Latency: 52.61s, Memory Usage: 3119.0KB\n",
            "Test Loss: 0.8777, Test Acc: 0.6934, Test Latency: 7.14s, Test Memory Usage: 194.0KB\n",
            "\n",
            "Epoch 16\n"
          ]
        },
        {
          "name": "stderr",
          "output_type": "stream",
          "text": [
            "Train: 100%|##########| 391/391 [00:52<00:00,  7.44batch/s]\n"
          ]
        },
        {
          "name": "stdout",
          "output_type": "stream",
          "text": [
            "LR: 1.0000e-01, Train Loss: 0.8306, Train Acc: 0.7143, Train Latency: 52.57s, Memory Usage: 3119.0KB\n",
            "Test Loss: 1.4873, Test Acc: 0.5572, Test Latency: 7.23s, Test Memory Usage: 194.0KB\n",
            "\n",
            "Epoch 17\n"
          ]
        },
        {
          "name": "stderr",
          "output_type": "stream",
          "text": [
            "Train: 100%|##########| 391/391 [00:52<00:00,  7.45batch/s]\n"
          ]
        },
        {
          "name": "stdout",
          "output_type": "stream",
          "text": [
            "LR: 1.0000e-01, Train Loss: 0.8337, Train Acc: 0.7114, Train Latency: 52.51s, Memory Usage: 3119.0KB\n",
            "Test Loss: 1.1444, Test Acc: 0.6303, Test Latency: 7.20s, Test Memory Usage: 194.0KB\n",
            "\n",
            "Epoch 18\n"
          ]
        },
        {
          "name": "stderr",
          "output_type": "stream",
          "text": [
            "Train: 100%|##########| 391/391 [00:52<00:00,  7.40batch/s]\n"
          ]
        },
        {
          "name": "stdout",
          "output_type": "stream",
          "text": [
            "LR: 1.0000e-01, Train Loss: 0.8320, Train Acc: 0.7154, Train Latency: 52.84s, Memory Usage: 3119.0KB\n",
            "Test Loss: 1.2164, Test Acc: 0.5925, Test Latency: 7.17s, Test Memory Usage: 194.0KB\n",
            "\n",
            "Epoch 19\n"
          ]
        },
        {
          "name": "stderr",
          "output_type": "stream",
          "text": [
            "Train: 100%|##########| 391/391 [00:52<00:00,  7.42batch/s]\n"
          ]
        },
        {
          "name": "stdout",
          "output_type": "stream",
          "text": [
            "LR: 1.0000e-01, Train Loss: 0.8211, Train Acc: 0.7157, Train Latency: 52.71s, Memory Usage: 3119.0KB\n",
            "Test Loss: 0.8786, Test Acc: 0.6969, Test Latency: 7.20s, Test Memory Usage: 194.0KB\n",
            "\n",
            "Epoch 20\n"
          ]
        },
        {
          "name": "stderr",
          "output_type": "stream",
          "text": [
            "Train: 100%|##########| 391/391 [00:52<00:00,  7.42batch/s]\n"
          ]
        },
        {
          "name": "stdout",
          "output_type": "stream",
          "text": [
            "LR: 1.0000e-01, Train Loss: 0.8298, Train Acc: 0.7148, Train Latency: 52.69s, Memory Usage: 3119.0KB\n",
            "Test Loss: 1.3271, Test Acc: 0.5895, Test Latency: 7.27s, Test Memory Usage: 194.0KB\n",
            "\n",
            "Epoch 21\n"
          ]
        },
        {
          "name": "stderr",
          "output_type": "stream",
          "text": [
            "Train: 100%|##########| 391/391 [00:52<00:00,  7.40batch/s]\n"
          ]
        },
        {
          "name": "stdout",
          "output_type": "stream",
          "text": [
            "LR: 1.0000e-01, Train Loss: 0.8040, Train Acc: 0.7215, Train Latency: 52.84s, Memory Usage: 3119.0KB\n",
            "Test Loss: 1.0067, Test Acc: 0.6554, Test Latency: 7.24s, Test Memory Usage: 194.0KB\n",
            "\n",
            "Epoch 22\n"
          ]
        },
        {
          "name": "stderr",
          "output_type": "stream",
          "text": [
            "Train: 100%|##########| 391/391 [00:53<00:00,  7.36batch/s]\n"
          ]
        },
        {
          "name": "stdout",
          "output_type": "stream",
          "text": [
            "LR: 1.0000e-01, Train Loss: 0.8187, Train Acc: 0.7181, Train Latency: 53.10s, Memory Usage: 3119.0KB\n",
            "Test Loss: 1.0067, Test Acc: 0.6581, Test Latency: 7.20s, Test Memory Usage: 194.0KB\n",
            "\n",
            "Epoch 23\n"
          ]
        },
        {
          "name": "stderr",
          "output_type": "stream",
          "text": [
            "Train: 100%|##########| 391/391 [00:52<00:00,  7.38batch/s]\n"
          ]
        },
        {
          "name": "stdout",
          "output_type": "stream",
          "text": [
            "LR: 1.0000e-01, Train Loss: 0.7981, Train Acc: 0.7256, Train Latency: 52.97s, Memory Usage: 3119.0KB\n",
            "Test Loss: 1.4024, Test Acc: 0.5643, Test Latency: 7.26s, Test Memory Usage: 194.0KB\n",
            "\n",
            "Epoch 24\n"
          ]
        },
        {
          "name": "stderr",
          "output_type": "stream",
          "text": [
            "Train: 100%|##########| 391/391 [00:52<00:00,  7.38batch/s]\n"
          ]
        },
        {
          "name": "stdout",
          "output_type": "stream",
          "text": [
            "LR: 1.0000e-01, Train Loss: 0.8009, Train Acc: 0.7254, Train Latency: 52.96s, Memory Usage: 3119.0KB\n",
            "Test Loss: 1.3855, Test Acc: 0.5794, Test Latency: 7.22s, Test Memory Usage: 194.0KB\n",
            "\n",
            "Epoch 25\n"
          ]
        },
        {
          "name": "stderr",
          "output_type": "stream",
          "text": [
            "Train: 100%|##########| 391/391 [00:53<00:00,  7.37batch/s]\n"
          ]
        },
        {
          "name": "stdout",
          "output_type": "stream",
          "text": [
            "LR: 1.0000e-01, Train Loss: 0.8051, Train Acc: 0.7233, Train Latency: 53.04s, Memory Usage: 3119.0KB\n",
            "Test Loss: 1.3845, Test Acc: 0.5996, Test Latency: 7.22s, Test Memory Usage: 194.0KB\n",
            "\n",
            "Epoch 26\n"
          ]
        },
        {
          "name": "stderr",
          "output_type": "stream",
          "text": [
            "Train: 100%|##########| 391/391 [00:52<00:00,  7.38batch/s]\n"
          ]
        },
        {
          "name": "stdout",
          "output_type": "stream",
          "text": [
            "LR: 1.0000e-01, Train Loss: 0.7960, Train Acc: 0.7272, Train Latency: 52.98s, Memory Usage: 3119.0KB\n",
            "Test Loss: 1.3868, Test Acc: 0.5864, Test Latency: 7.21s, Test Memory Usage: 194.0KB\n",
            "\n",
            "Epoch 27\n"
          ]
        },
        {
          "name": "stderr",
          "output_type": "stream",
          "text": [
            "Train: 100%|##########| 391/391 [00:52<00:00,  7.41batch/s]\n"
          ]
        },
        {
          "name": "stdout",
          "output_type": "stream",
          "text": [
            "LR: 1.0000e-01, Train Loss: 0.8005, Train Acc: 0.7250, Train Latency: 52.76s, Memory Usage: 3119.0KB\n",
            "Test Loss: 1.0801, Test Acc: 0.6476, Test Latency: 7.23s, Test Memory Usage: 194.0KB\n",
            "\n",
            "Epoch 28\n"
          ]
        },
        {
          "name": "stderr",
          "output_type": "stream",
          "text": [
            "Train: 100%|##########| 391/391 [00:53<00:00,  7.34batch/s]\n"
          ]
        },
        {
          "name": "stdout",
          "output_type": "stream",
          "text": [
            "LR: 1.0000e-01, Train Loss: 0.8078, Train Acc: 0.7229, Train Latency: 53.26s, Memory Usage: 3119.0KB\n",
            "Test Loss: 1.0980, Test Acc: 0.6296, Test Latency: 7.22s, Test Memory Usage: 194.0KB\n",
            "\n",
            "Epoch 29\n"
          ]
        },
        {
          "name": "stderr",
          "output_type": "stream",
          "text": [
            "Train: 100%|##########| 391/391 [00:52<00:00,  7.43batch/s]\n"
          ]
        },
        {
          "name": "stdout",
          "output_type": "stream",
          "text": [
            "LR: 1.0000e-01, Train Loss: 0.7988, Train Acc: 0.7248, Train Latency: 52.64s, Memory Usage: 3119.0KB\n",
            "Test Loss: 1.0552, Test Acc: 0.6495, Test Latency: 7.17s, Test Memory Usage: 194.0KB\n",
            "\n",
            "Epoch 30\n"
          ]
        },
        {
          "name": "stderr",
          "output_type": "stream",
          "text": [
            "Train: 100%|##########| 391/391 [00:52<00:00,  7.43batch/s]\n"
          ]
        },
        {
          "name": "stdout",
          "output_type": "stream",
          "text": [
            "LR: 1.0000e-01, Train Loss: 0.8009, Train Acc: 0.7259, Train Latency: 52.62s, Memory Usage: 3119.0KB\n",
            "Test Loss: 0.9605, Test Acc: 0.6721, Test Latency: 7.23s, Test Memory Usage: 194.0KB\n",
            "\n",
            "Epoch 31\n"
          ]
        },
        {
          "name": "stderr",
          "output_type": "stream",
          "text": [
            "Train: 100%|##########| 391/391 [00:52<00:00,  7.42batch/s]\n"
          ]
        },
        {
          "name": "stdout",
          "output_type": "stream",
          "text": [
            "LR: 1.0000e-01, Train Loss: 0.7812, Train Acc: 0.7323, Train Latency: 52.71s, Memory Usage: 3119.0KB\n",
            "Test Loss: 1.0231, Test Acc: 0.6564, Test Latency: 7.20s, Test Memory Usage: 194.0KB\n",
            "\n",
            "Epoch 32\n"
          ]
        },
        {
          "name": "stderr",
          "output_type": "stream",
          "text": [
            "Train: 100%|##########| 391/391 [00:52<00:00,  7.40batch/s]\n"
          ]
        },
        {
          "name": "stdout",
          "output_type": "stream",
          "text": [
            "LR: 1.0000e-01, Train Loss: 0.7921, Train Acc: 0.7284, Train Latency: 52.83s, Memory Usage: 3119.0KB\n",
            "Test Loss: 1.2181, Test Acc: 0.5969, Test Latency: 7.19s, Test Memory Usage: 194.0KB\n",
            "\n",
            "Epoch 33\n"
          ]
        },
        {
          "name": "stderr",
          "output_type": "stream",
          "text": [
            "Train: 100%|##########| 391/391 [00:52<00:00,  7.41batch/s]\n"
          ]
        },
        {
          "name": "stdout",
          "output_type": "stream",
          "text": [
            "LR: 1.0000e-01, Train Loss: 0.8070, Train Acc: 0.7216, Train Latency: 52.77s, Memory Usage: 3119.0KB\n",
            "Test Loss: 0.9163, Test Acc: 0.6890, Test Latency: 7.19s, Test Memory Usage: 194.0KB\n",
            "\n",
            "Epoch 34\n"
          ]
        },
        {
          "name": "stderr",
          "output_type": "stream",
          "text": [
            "Train: 100%|##########| 391/391 [00:52<00:00,  7.40batch/s]\n"
          ]
        },
        {
          "name": "stdout",
          "output_type": "stream",
          "text": [
            "LR: 1.0000e-01, Train Loss: 0.7814, Train Acc: 0.7304, Train Latency: 52.85s, Memory Usage: 3119.0KB\n",
            "Test Loss: 1.0568, Test Acc: 0.6546, Test Latency: 7.22s, Test Memory Usage: 194.0KB\n",
            "\n",
            "Epoch 35\n"
          ]
        },
        {
          "name": "stderr",
          "output_type": "stream",
          "text": [
            "Train: 100%|##########| 391/391 [00:52<00:00,  7.43batch/s]\n"
          ]
        },
        {
          "name": "stdout",
          "output_type": "stream",
          "text": [
            "LR: 1.0000e-01, Train Loss: 0.7975, Train Acc: 0.7281, Train Latency: 52.66s, Memory Usage: 3119.0KB\n",
            "Test Loss: 0.9083, Test Acc: 0.6935, Test Latency: 7.19s, Test Memory Usage: 194.0KB\n",
            "\n",
            "Epoch 36\n"
          ]
        },
        {
          "name": "stderr",
          "output_type": "stream",
          "text": [
            "Train: 100%|##########| 391/391 [00:52<00:00,  7.40batch/s]\n"
          ]
        },
        {
          "name": "stdout",
          "output_type": "stream",
          "text": [
            "LR: 1.0000e-01, Train Loss: 0.7970, Train Acc: 0.7245, Train Latency: 52.84s, Memory Usage: 3119.0KB\n",
            "Test Loss: 1.3891, Test Acc: 0.5936, Test Latency: 7.29s, Test Memory Usage: 194.0KB\n",
            "\n",
            "Epoch 37\n"
          ]
        },
        {
          "name": "stderr",
          "output_type": "stream",
          "text": [
            "Train: 100%|##########| 391/391 [00:52<00:00,  7.39batch/s]\n"
          ]
        },
        {
          "name": "stdout",
          "output_type": "stream",
          "text": [
            "LR: 1.0000e-01, Train Loss: 0.7931, Train Acc: 0.7281, Train Latency: 52.95s, Memory Usage: 3119.0KB\n",
            "Test Loss: 1.0502, Test Acc: 0.6608, Test Latency: 7.20s, Test Memory Usage: 194.0KB\n",
            "\n",
            "Epoch 38\n"
          ]
        },
        {
          "name": "stderr",
          "output_type": "stream",
          "text": [
            "Train: 100%|##########| 391/391 [00:52<00:00,  7.43batch/s]\n"
          ]
        },
        {
          "name": "stdout",
          "output_type": "stream",
          "text": [
            "LR: 1.0000e-01, Train Loss: 0.7969, Train Acc: 0.7249, Train Latency: 52.64s, Memory Usage: 3119.0KB\n",
            "Test Loss: 0.9016, Test Acc: 0.6988, Test Latency: 7.15s, Test Memory Usage: 194.0KB\n",
            "\n",
            "Epoch 39\n"
          ]
        },
        {
          "name": "stderr",
          "output_type": "stream",
          "text": [
            "Train: 100%|##########| 391/391 [00:52<00:00,  7.40batch/s]\n"
          ]
        },
        {
          "name": "stdout",
          "output_type": "stream",
          "text": [
            "LR: 1.0000e-01, Train Loss: 0.7956, Train Acc: 0.7278, Train Latency: 52.81s, Memory Usage: 3119.0KB\n",
            "Test Loss: 1.0105, Test Acc: 0.6676, Test Latency: 7.23s, Test Memory Usage: 194.0KB\n",
            "\n",
            "Epoch 40\n"
          ]
        },
        {
          "name": "stderr",
          "output_type": "stream",
          "text": [
            "Train: 100%|##########| 391/391 [00:52<00:00,  7.42batch/s]\n"
          ]
        },
        {
          "name": "stdout",
          "output_type": "stream",
          "text": [
            "LR: 1.0000e-01, Train Loss: 0.8103, Train Acc: 0.7193, Train Latency: 52.68s, Memory Usage: 3119.0KB\n",
            "Test Loss: 1.1429, Test Acc: 0.6449, Test Latency: 7.20s, Test Memory Usage: 194.0KB\n",
            "\n",
            "Epoch 41\n"
          ]
        },
        {
          "name": "stderr",
          "output_type": "stream",
          "text": [
            "Train: 100%|##########| 391/391 [00:52<00:00,  7.41batch/s]\n"
          ]
        },
        {
          "name": "stdout",
          "output_type": "stream",
          "text": [
            "LR: 1.0000e-01, Train Loss: 0.7842, Train Acc: 0.7274, Train Latency: 52.78s, Memory Usage: 3119.0KB\n",
            "Test Loss: 1.0507, Test Acc: 0.6505, Test Latency: 7.21s, Test Memory Usage: 194.0KB\n",
            "\n",
            "Epoch 42\n"
          ]
        },
        {
          "name": "stderr",
          "output_type": "stream",
          "text": [
            "Train: 100%|##########| 391/391 [00:52<00:00,  7.42batch/s]\n"
          ]
        },
        {
          "name": "stdout",
          "output_type": "stream",
          "text": [
            "LR: 1.0000e-01, Train Loss: 0.7850, Train Acc: 0.7322, Train Latency: 52.69s, Memory Usage: 3119.0KB\n",
            "Test Loss: 2.2797, Test Acc: 0.4928, Test Latency: 7.18s, Test Memory Usage: 194.0KB\n",
            "\n",
            "Epoch 43\n"
          ]
        },
        {
          "name": "stderr",
          "output_type": "stream",
          "text": [
            "Train: 100%|##########| 391/391 [00:52<00:00,  7.41batch/s]\n"
          ]
        },
        {
          "name": "stdout",
          "output_type": "stream",
          "text": [
            "LR: 1.0000e-01, Train Loss: 0.7979, Train Acc: 0.7271, Train Latency: 52.74s, Memory Usage: 3119.0KB\n",
            "Test Loss: 1.1570, Test Acc: 0.6366, Test Latency: 7.20s, Test Memory Usage: 194.0KB\n",
            "\n",
            "Epoch 44\n"
          ]
        },
        {
          "name": "stderr",
          "output_type": "stream",
          "text": [
            "Train: 100%|##########| 391/391 [00:52<00:00,  7.41batch/s]\n"
          ]
        },
        {
          "name": "stdout",
          "output_type": "stream",
          "text": [
            "LR: 1.0000e-01, Train Loss: 0.7867, Train Acc: 0.7288, Train Latency: 52.78s, Memory Usage: 3119.0KB\n",
            "Test Loss: 0.8923, Test Acc: 0.7037, Test Latency: 7.18s, Test Memory Usage: 194.0KB\n",
            "\n",
            "Epoch 45\n"
          ]
        },
        {
          "name": "stderr",
          "output_type": "stream",
          "text": [
            "Train: 100%|##########| 391/391 [00:52<00:00,  7.41batch/s]\n"
          ]
        },
        {
          "name": "stdout",
          "output_type": "stream",
          "text": [
            "LR: 1.0000e-01, Train Loss: 0.7915, Train Acc: 0.7307, Train Latency: 52.79s, Memory Usage: 3119.0KB\n",
            "Test Loss: 0.8498, Test Acc: 0.7136, Test Latency: 7.26s, Test Memory Usage: 194.0KB\n",
            "\n",
            "Epoch 46\n"
          ]
        },
        {
          "name": "stderr",
          "output_type": "stream",
          "text": [
            "Train: 100%|##########| 391/391 [00:52<00:00,  7.39batch/s]\n"
          ]
        },
        {
          "name": "stdout",
          "output_type": "stream",
          "text": [
            "LR: 1.0000e-01, Train Loss: 0.7836, Train Acc: 0.7305, Train Latency: 52.93s, Memory Usage: 3119.0KB\n",
            "Test Loss: 1.3111, Test Acc: 0.6073, Test Latency: 7.24s, Test Memory Usage: 194.0KB\n",
            "\n",
            "Epoch 47\n"
          ]
        },
        {
          "name": "stderr",
          "output_type": "stream",
          "text": [
            "Train: 100%|##########| 391/391 [00:52<00:00,  7.39batch/s]\n"
          ]
        },
        {
          "name": "stdout",
          "output_type": "stream",
          "text": [
            "LR: 1.0000e-01, Train Loss: 0.7967, Train Acc: 0.7270, Train Latency: 52.88s, Memory Usage: 3119.0KB\n",
            "Test Loss: 1.1173, Test Acc: 0.6294, Test Latency: 7.22s, Test Memory Usage: 194.0KB\n",
            "\n",
            "Epoch 48\n"
          ]
        },
        {
          "name": "stderr",
          "output_type": "stream",
          "text": [
            "Train: 100%|##########| 391/391 [00:52<00:00,  7.43batch/s]\n"
          ]
        },
        {
          "name": "stdout",
          "output_type": "stream",
          "text": [
            "LR: 1.0000e-01, Train Loss: 0.7732, Train Acc: 0.7347, Train Latency: 52.63s, Memory Usage: 3119.0KB\n",
            "Test Loss: 1.1824, Test Acc: 0.6192, Test Latency: 7.22s, Test Memory Usage: 194.0KB\n",
            "\n",
            "Epoch 49\n"
          ]
        },
        {
          "name": "stderr",
          "output_type": "stream",
          "text": [
            "Train: 100%|##########| 391/391 [00:52<00:00,  7.39batch/s]\n"
          ]
        },
        {
          "name": "stdout",
          "output_type": "stream",
          "text": [
            "LR: 1.0000e-01, Train Loss: 0.7794, Train Acc: 0.7322, Train Latency: 52.91s, Memory Usage: 3119.0KB\n",
            "Test Loss: 1.0140, Test Acc: 0.6630, Test Latency: 7.20s, Test Memory Usage: 194.0KB\n",
            "\n",
            "Epoch 50\n"
          ]
        },
        {
          "name": "stderr",
          "output_type": "stream",
          "text": [
            "Train: 100%|##########| 391/391 [00:52<00:00,  7.39batch/s]\n"
          ]
        },
        {
          "name": "stdout",
          "output_type": "stream",
          "text": [
            "LR: 1.0000e-01, Train Loss: 0.7904, Train Acc: 0.7284, Train Latency: 52.91s, Memory Usage: 3119.0KB\n",
            "Test Loss: 1.1428, Test Acc: 0.6424, Test Latency: 7.19s, Test Memory Usage: 194.0KB\n",
            "\n",
            "Epoch 51\n"
          ]
        },
        {
          "name": "stderr",
          "output_type": "stream",
          "text": [
            "Train: 100%|##########| 391/391 [00:52<00:00,  7.47batch/s]\n"
          ]
        },
        {
          "name": "stdout",
          "output_type": "stream",
          "text": [
            "LR: 1.0000e-02, Train Loss: 0.6210, Train Acc: 0.7886, Train Latency: 52.38s, Memory Usage: 3119.0KB\n",
            "Test Loss: 0.5878, Test Acc: 0.7968, Test Latency: 7.18s, Test Memory Usage: 194.0KB\n",
            "Saving best model ...\n",
            "\n",
            "Epoch 52\n"
          ]
        },
        {
          "name": "stderr",
          "output_type": "stream",
          "text": [
            "Train: 100%|##########| 391/391 [00:52<00:00,  7.45batch/s]\n"
          ]
        },
        {
          "name": "stdout",
          "output_type": "stream",
          "text": [
            "LR: 1.0000e-02, Train Loss: 0.5693, Train Acc: 0.8052, Train Latency: 52.51s, Memory Usage: 3119.0KB\n",
            "Test Loss: 0.5738, Test Acc: 0.8054, Test Latency: 7.16s, Test Memory Usage: 194.0KB\n",
            "Saving best model ...\n",
            "\n",
            "Epoch 53\n"
          ]
        },
        {
          "name": "stderr",
          "output_type": "stream",
          "text": [
            "Train: 100%|##########| 391/391 [00:52<00:00,  7.44batch/s]\n"
          ]
        },
        {
          "name": "stdout",
          "output_type": "stream",
          "text": [
            "LR: 1.0000e-02, Train Loss: 0.5438, Train Acc: 0.8143, Train Latency: 52.52s, Memory Usage: 3119.0KB\n",
            "Test Loss: 0.5571, Test Acc: 0.8052, Test Latency: 7.17s, Test Memory Usage: 194.0KB\n",
            "\n",
            "Epoch 54\n"
          ]
        },
        {
          "name": "stderr",
          "output_type": "stream",
          "text": [
            "Train: 100%|##########| 391/391 [00:52<00:00,  7.43batch/s]\n"
          ]
        },
        {
          "name": "stdout",
          "output_type": "stream",
          "text": [
            "LR: 1.0000e-02, Train Loss: 0.5356, Train Acc: 0.8163, Train Latency: 52.62s, Memory Usage: 3119.0KB\n",
            "Test Loss: 0.5818, Test Acc: 0.8046, Test Latency: 7.21s, Test Memory Usage: 194.0KB\n",
            "\n",
            "Epoch 55\n"
          ]
        },
        {
          "name": "stderr",
          "output_type": "stream",
          "text": [
            "Train: 100%|##########| 391/391 [00:52<00:00,  7.41batch/s]\n"
          ]
        },
        {
          "name": "stdout",
          "output_type": "stream",
          "text": [
            "LR: 1.0000e-02, Train Loss: 0.5290, Train Acc: 0.8189, Train Latency: 52.78s, Memory Usage: 3119.0KB\n",
            "Test Loss: 0.6020, Test Acc: 0.7982, Test Latency: 7.13s, Test Memory Usage: 194.0KB\n",
            "\n",
            "Epoch 56\n"
          ]
        },
        {
          "name": "stderr",
          "output_type": "stream",
          "text": [
            "Train: 100%|##########| 391/391 [00:52<00:00,  7.42batch/s]\n"
          ]
        },
        {
          "name": "stdout",
          "output_type": "stream",
          "text": [
            "LR: 1.0000e-02, Train Loss: 0.5200, Train Acc: 0.8205, Train Latency: 52.69s, Memory Usage: 3119.0KB\n",
            "Test Loss: 0.5450, Test Acc: 0.8131, Test Latency: 7.20s, Test Memory Usage: 194.0KB\n",
            "Saving best model ...\n",
            "\n",
            "Epoch 57\n"
          ]
        },
        {
          "name": "stderr",
          "output_type": "stream",
          "text": [
            "Train: 100%|##########| 391/391 [00:52<00:00,  7.44batch/s]\n"
          ]
        },
        {
          "name": "stdout",
          "output_type": "stream",
          "text": [
            "LR: 1.0000e-02, Train Loss: 0.5179, Train Acc: 0.8222, Train Latency: 52.54s, Memory Usage: 3119.0KB\n",
            "Test Loss: 0.5404, Test Acc: 0.8145, Test Latency: 7.17s, Test Memory Usage: 194.0KB\n",
            "Saving best model ...\n",
            "\n",
            "Epoch 58\n"
          ]
        },
        {
          "name": "stderr",
          "output_type": "stream",
          "text": [
            "Train: 100%|##########| 391/391 [00:52<00:00,  7.40batch/s]\n"
          ]
        },
        {
          "name": "stdout",
          "output_type": "stream",
          "text": [
            "LR: 1.0000e-02, Train Loss: 0.5146, Train Acc: 0.8217, Train Latency: 52.86s, Memory Usage: 3119.0KB\n",
            "Test Loss: 0.5479, Test Acc: 0.8110, Test Latency: 7.15s, Test Memory Usage: 194.0KB\n",
            "\n",
            "Epoch 59\n"
          ]
        },
        {
          "name": "stderr",
          "output_type": "stream",
          "text": [
            "Train: 100%|##########| 391/391 [00:52<00:00,  7.42batch/s]\n"
          ]
        },
        {
          "name": "stdout",
          "output_type": "stream",
          "text": [
            "LR: 1.0000e-02, Train Loss: 0.5113, Train Acc: 0.8237, Train Latency: 52.73s, Memory Usage: 3119.0KB\n",
            "Test Loss: 0.5623, Test Acc: 0.8086, Test Latency: 7.20s, Test Memory Usage: 194.0KB\n",
            "\n",
            "Epoch 60\n"
          ]
        },
        {
          "name": "stderr",
          "output_type": "stream",
          "text": [
            "Train: 100%|##########| 391/391 [00:52<00:00,  7.43batch/s]\n"
          ]
        },
        {
          "name": "stdout",
          "output_type": "stream",
          "text": [
            "LR: 1.0000e-02, Train Loss: 0.5143, Train Acc: 0.8241, Train Latency: 52.66s, Memory Usage: 3119.0KB\n",
            "Test Loss: 0.6025, Test Acc: 0.7886, Test Latency: 7.19s, Test Memory Usage: 194.0KB\n",
            "\n",
            "Epoch 61\n"
          ]
        },
        {
          "name": "stderr",
          "output_type": "stream",
          "text": [
            "Train: 100%|##########| 391/391 [00:52<00:00,  7.43batch/s]\n"
          ]
        },
        {
          "name": "stdout",
          "output_type": "stream",
          "text": [
            "LR: 1.0000e-02, Train Loss: 0.5070, Train Acc: 0.8254, Train Latency: 52.65s, Memory Usage: 3119.0KB\n",
            "Test Loss: 0.5590, Test Acc: 0.8072, Test Latency: 7.16s, Test Memory Usage: 194.0KB\n",
            "\n",
            "Epoch 62\n"
          ]
        },
        {
          "name": "stderr",
          "output_type": "stream",
          "text": [
            "Train: 100%|##########| 391/391 [00:52<00:00,  7.42batch/s]\n"
          ]
        },
        {
          "name": "stdout",
          "output_type": "stream",
          "text": [
            "LR: 1.0000e-02, Train Loss: 0.5087, Train Acc: 0.8259, Train Latency: 52.68s, Memory Usage: 3119.0KB\n",
            "Test Loss: 0.6177, Test Acc: 0.7926, Test Latency: 7.15s, Test Memory Usage: 194.0KB\n",
            "\n",
            "Epoch 63\n"
          ]
        },
        {
          "name": "stderr",
          "output_type": "stream",
          "text": [
            "Train: 100%|##########| 391/391 [00:52<00:00,  7.40batch/s]\n"
          ]
        },
        {
          "name": "stdout",
          "output_type": "stream",
          "text": [
            "LR: 1.0000e-02, Train Loss: 0.5024, Train Acc: 0.8275, Train Latency: 52.84s, Memory Usage: 3119.0KB\n",
            "Test Loss: 0.5651, Test Acc: 0.8054, Test Latency: 7.20s, Test Memory Usage: 194.0KB\n",
            "\n",
            "Epoch 64\n"
          ]
        },
        {
          "name": "stderr",
          "output_type": "stream",
          "text": [
            "Train: 100%|##########| 391/391 [00:52<00:00,  7.44batch/s]\n"
          ]
        },
        {
          "name": "stdout",
          "output_type": "stream",
          "text": [
            "LR: 1.0000e-02, Train Loss: 0.5041, Train Acc: 0.8271, Train Latency: 52.54s, Memory Usage: 3119.0KB\n",
            "Test Loss: 0.6111, Test Acc: 0.7941, Test Latency: 7.17s, Test Memory Usage: 194.0KB\n",
            "\n",
            "Epoch 65\n"
          ]
        },
        {
          "name": "stderr",
          "output_type": "stream",
          "text": [
            "Train: 100%|##########| 391/391 [00:52<00:00,  7.42batch/s]\n"
          ]
        },
        {
          "name": "stdout",
          "output_type": "stream",
          "text": [
            "LR: 1.0000e-02, Train Loss: 0.5069, Train Acc: 0.8273, Train Latency: 52.68s, Memory Usage: 3119.0KB\n",
            "Test Loss: 0.6401, Test Acc: 0.7814, Test Latency: 7.19s, Test Memory Usage: 194.0KB\n",
            "\n",
            "Epoch 66\n"
          ]
        },
        {
          "name": "stderr",
          "output_type": "stream",
          "text": [
            "Train: 100%|##########| 391/391 [00:52<00:00,  7.43batch/s]\n"
          ]
        },
        {
          "name": "stdout",
          "output_type": "stream",
          "text": [
            "LR: 1.0000e-02, Train Loss: 0.5068, Train Acc: 0.8262, Train Latency: 52.66s, Memory Usage: 3119.0KB\n",
            "Test Loss: 0.5712, Test Acc: 0.8049, Test Latency: 7.15s, Test Memory Usage: 194.0KB\n",
            "\n",
            "Epoch 67\n"
          ]
        },
        {
          "name": "stderr",
          "output_type": "stream",
          "text": [
            "Train: 100%|##########| 391/391 [00:52<00:00,  7.41batch/s]\n"
          ]
        },
        {
          "name": "stdout",
          "output_type": "stream",
          "text": [
            "LR: 1.0000e-02, Train Loss: 0.5043, Train Acc: 0.8271, Train Latency: 52.74s, Memory Usage: 3119.0KB\n",
            "Test Loss: 0.5767, Test Acc: 0.8041, Test Latency: 7.16s, Test Memory Usage: 194.0KB\n",
            "\n",
            "Epoch 68\n"
          ]
        },
        {
          "name": "stderr",
          "output_type": "stream",
          "text": [
            "Train: 100%|##########| 391/391 [00:52<00:00,  7.42batch/s]\n"
          ]
        },
        {
          "name": "stdout",
          "output_type": "stream",
          "text": [
            "LR: 1.0000e-02, Train Loss: 0.5023, Train Acc: 0.8261, Train Latency: 52.72s, Memory Usage: 3119.0KB\n",
            "Test Loss: 0.6439, Test Acc: 0.7850, Test Latency: 7.19s, Test Memory Usage: 194.0KB\n",
            "\n",
            "Epoch 69\n"
          ]
        },
        {
          "name": "stderr",
          "output_type": "stream",
          "text": [
            "Train: 100%|##########| 391/391 [00:52<00:00,  7.47batch/s]\n"
          ]
        },
        {
          "name": "stdout",
          "output_type": "stream",
          "text": [
            "LR: 1.0000e-02, Train Loss: 0.5038, Train Acc: 0.8263, Train Latency: 52.36s, Memory Usage: 3119.0KB\n",
            "Test Loss: 0.5758, Test Acc: 0.8052, Test Latency: 7.21s, Test Memory Usage: 194.0KB\n",
            "\n",
            "Epoch 70\n"
          ]
        },
        {
          "name": "stderr",
          "output_type": "stream",
          "text": [
            "Train: 100%|##########| 391/391 [00:52<00:00,  7.46batch/s]\n"
          ]
        },
        {
          "name": "stdout",
          "output_type": "stream",
          "text": [
            "LR: 1.0000e-02, Train Loss: 0.5046, Train Acc: 0.8266, Train Latency: 52.42s, Memory Usage: 3119.0KB\n",
            "Test Loss: 0.5972, Test Acc: 0.8005, Test Latency: 7.18s, Test Memory Usage: 194.0KB\n",
            "\n",
            "Epoch 71\n"
          ]
        },
        {
          "name": "stderr",
          "output_type": "stream",
          "text": [
            "Train: 100%|##########| 391/391 [00:52<00:00,  7.45batch/s]\n"
          ]
        },
        {
          "name": "stdout",
          "output_type": "stream",
          "text": [
            "LR: 1.0000e-02, Train Loss: 0.5044, Train Acc: 0.8287, Train Latency: 52.50s, Memory Usage: 3119.0KB\n",
            "Test Loss: 0.5607, Test Acc: 0.8055, Test Latency: 7.19s, Test Memory Usage: 194.0KB\n",
            "\n",
            "Epoch 72\n"
          ]
        },
        {
          "name": "stderr",
          "output_type": "stream",
          "text": [
            "Train: 100%|##########| 391/391 [00:52<00:00,  7.39batch/s]\n"
          ]
        },
        {
          "name": "stdout",
          "output_type": "stream",
          "text": [
            "LR: 1.0000e-02, Train Loss: 0.5059, Train Acc: 0.8265, Train Latency: 52.91s, Memory Usage: 3119.0KB\n",
            "Test Loss: 0.6613, Test Acc: 0.7770, Test Latency: 7.18s, Test Memory Usage: 194.0KB\n",
            "\n",
            "Epoch 73\n"
          ]
        },
        {
          "name": "stderr",
          "output_type": "stream",
          "text": [
            "Train: 100%|##########| 391/391 [00:52<00:00,  7.41batch/s]\n"
          ]
        },
        {
          "name": "stdout",
          "output_type": "stream",
          "text": [
            "LR: 1.0000e-02, Train Loss: 0.5013, Train Acc: 0.8288, Train Latency: 52.77s, Memory Usage: 3119.0KB\n",
            "Test Loss: 0.6294, Test Acc: 0.7910, Test Latency: 7.23s, Test Memory Usage: 194.0KB\n",
            "\n",
            "Epoch 74\n"
          ]
        },
        {
          "name": "stderr",
          "output_type": "stream",
          "text": [
            "Train: 100%|##########| 391/391 [00:53<00:00,  7.33batch/s]\n"
          ]
        },
        {
          "name": "stdout",
          "output_type": "stream",
          "text": [
            "LR: 1.0000e-02, Train Loss: 0.4998, Train Acc: 0.8279, Train Latency: 53.37s, Memory Usage: 3119.0KB\n",
            "Test Loss: 0.5978, Test Acc: 0.7941, Test Latency: 7.17s, Test Memory Usage: 194.0KB\n",
            "\n",
            "Epoch 75\n"
          ]
        },
        {
          "name": "stderr",
          "output_type": "stream",
          "text": [
            "Train: 100%|##########| 391/391 [00:52<00:00,  7.40batch/s]\n"
          ]
        },
        {
          "name": "stdout",
          "output_type": "stream",
          "text": [
            "LR: 1.0000e-02, Train Loss: 0.5031, Train Acc: 0.8292, Train Latency: 52.82s, Memory Usage: 3119.0KB\n",
            "Test Loss: 0.5757, Test Acc: 0.8026, Test Latency: 7.15s, Test Memory Usage: 194.0KB\n",
            "\n",
            "Epoch 76\n"
          ]
        },
        {
          "name": "stderr",
          "output_type": "stream",
          "text": [
            "Train: 100%|##########| 391/391 [00:52<00:00,  7.43batch/s]\n"
          ]
        },
        {
          "name": "stdout",
          "output_type": "stream",
          "text": [
            "LR: 1.0000e-02, Train Loss: 0.4989, Train Acc: 0.8293, Train Latency: 52.66s, Memory Usage: 3119.0KB\n",
            "Test Loss: 0.5794, Test Acc: 0.8035, Test Latency: 7.17s, Test Memory Usage: 194.0KB\n",
            "\n",
            "Epoch 77\n"
          ]
        },
        {
          "name": "stderr",
          "output_type": "stream",
          "text": [
            "Train: 100%|##########| 391/391 [00:52<00:00,  7.43batch/s]\n"
          ]
        },
        {
          "name": "stdout",
          "output_type": "stream",
          "text": [
            "LR: 1.0000e-02, Train Loss: 0.5024, Train Acc: 0.8275, Train Latency: 52.65s, Memory Usage: 3119.0KB\n",
            "Test Loss: 0.5918, Test Acc: 0.7972, Test Latency: 7.17s, Test Memory Usage: 194.0KB\n",
            "\n",
            "Epoch 78\n"
          ]
        },
        {
          "name": "stderr",
          "output_type": "stream",
          "text": [
            "Train: 100%|##########| 391/391 [00:52<00:00,  7.45batch/s]\n"
          ]
        },
        {
          "name": "stdout",
          "output_type": "stream",
          "text": [
            "LR: 1.0000e-02, Train Loss: 0.4932, Train Acc: 0.8305, Train Latency: 52.49s, Memory Usage: 3119.0KB\n",
            "Test Loss: 0.9289, Test Acc: 0.7169, Test Latency: 7.19s, Test Memory Usage: 194.0KB\n",
            "\n",
            "Epoch 79\n"
          ]
        },
        {
          "name": "stderr",
          "output_type": "stream",
          "text": [
            "Train: 100%|##########| 391/391 [00:52<00:00,  7.44batch/s]\n"
          ]
        },
        {
          "name": "stdout",
          "output_type": "stream",
          "text": [
            "LR: 1.0000e-02, Train Loss: 0.5032, Train Acc: 0.8282, Train Latency: 52.56s, Memory Usage: 3119.0KB\n",
            "Test Loss: 0.5902, Test Acc: 0.8025, Test Latency: 7.17s, Test Memory Usage: 194.0KB\n",
            "\n",
            "Epoch 80\n"
          ]
        },
        {
          "name": "stderr",
          "output_type": "stream",
          "text": [
            "Train: 100%|##########| 391/391 [00:52<00:00,  7.45batch/s]\n"
          ]
        },
        {
          "name": "stdout",
          "output_type": "stream",
          "text": [
            "LR: 1.0000e-02, Train Loss: 0.4974, Train Acc: 0.8279, Train Latency: 52.50s, Memory Usage: 3119.0KB\n",
            "Test Loss: 0.5717, Test Acc: 0.8047, Test Latency: 7.14s, Test Memory Usage: 194.0KB\n",
            "\n",
            "Epoch 81\n"
          ]
        },
        {
          "name": "stderr",
          "output_type": "stream",
          "text": [
            "Train: 100%|##########| 391/391 [00:52<00:00,  7.43batch/s]\n"
          ]
        },
        {
          "name": "stdout",
          "output_type": "stream",
          "text": [
            "LR: 1.0000e-02, Train Loss: 0.5023, Train Acc: 0.8270, Train Latency: 52.63s, Memory Usage: 3119.0KB\n",
            "Test Loss: 0.6674, Test Acc: 0.7793, Test Latency: 7.20s, Test Memory Usage: 194.0KB\n",
            "\n",
            "Epoch 82\n"
          ]
        },
        {
          "name": "stderr",
          "output_type": "stream",
          "text": [
            "Train: 100%|##########| 391/391 [00:52<00:00,  7.46batch/s]\n"
          ]
        },
        {
          "name": "stdout",
          "output_type": "stream",
          "text": [
            "LR: 1.0000e-02, Train Loss: 0.4973, Train Acc: 0.8291, Train Latency: 52.43s, Memory Usage: 3119.0KB\n",
            "Test Loss: 0.5636, Test Acc: 0.8065, Test Latency: 7.16s, Test Memory Usage: 194.0KB\n",
            "\n",
            "Epoch 83\n"
          ]
        },
        {
          "name": "stderr",
          "output_type": "stream",
          "text": [
            "Train: 100%|##########| 391/391 [00:52<00:00,  7.44batch/s]\n"
          ]
        },
        {
          "name": "stdout",
          "output_type": "stream",
          "text": [
            "LR: 1.0000e-02, Train Loss: 0.4965, Train Acc: 0.8300, Train Latency: 52.58s, Memory Usage: 3119.0KB\n",
            "Test Loss: 0.5652, Test Acc: 0.8084, Test Latency: 7.17s, Test Memory Usage: 194.0KB\n",
            "\n",
            "Epoch 84\n"
          ]
        },
        {
          "name": "stderr",
          "output_type": "stream",
          "text": [
            "Train: 100%|##########| 391/391 [00:52<00:00,  7.43batch/s]\n"
          ]
        },
        {
          "name": "stdout",
          "output_type": "stream",
          "text": [
            "LR: 1.0000e-02, Train Loss: 0.4935, Train Acc: 0.8291, Train Latency: 52.61s, Memory Usage: 3119.0KB\n",
            "Test Loss: 0.6908, Test Acc: 0.7768, Test Latency: 7.20s, Test Memory Usage: 194.0KB\n",
            "\n",
            "Epoch 85\n"
          ]
        },
        {
          "name": "stderr",
          "output_type": "stream",
          "text": [
            "Train: 100%|##########| 391/391 [00:52<00:00,  7.45batch/s]\n"
          ]
        },
        {
          "name": "stdout",
          "output_type": "stream",
          "text": [
            "LR: 1.0000e-02, Train Loss: 0.4905, Train Acc: 0.8313, Train Latency: 52.48s, Memory Usage: 3119.0KB\n",
            "Test Loss: 0.6454, Test Acc: 0.7854, Test Latency: 7.18s, Test Memory Usage: 194.0KB\n",
            "\n",
            "Epoch 86\n"
          ]
        },
        {
          "name": "stderr",
          "output_type": "stream",
          "text": [
            "Train: 100%|##########| 391/391 [00:52<00:00,  7.38batch/s]\n"
          ]
        },
        {
          "name": "stdout",
          "output_type": "stream",
          "text": [
            "LR: 1.0000e-02, Train Loss: 0.4914, Train Acc: 0.8327, Train Latency: 52.98s, Memory Usage: 3119.0KB\n",
            "Test Loss: 0.7107, Test Acc: 0.7659, Test Latency: 7.29s, Test Memory Usage: 194.0KB\n",
            "\n",
            "Epoch 87\n"
          ]
        },
        {
          "name": "stderr",
          "output_type": "stream",
          "text": [
            "Train: 100%|##########| 391/391 [00:52<00:00,  7.40batch/s]\n"
          ]
        },
        {
          "name": "stdout",
          "output_type": "stream",
          "text": [
            "LR: 1.0000e-02, Train Loss: 0.4922, Train Acc: 0.8305, Train Latency: 52.81s, Memory Usage: 3119.0KB\n",
            "Test Loss: 0.5497, Test Acc: 0.8139, Test Latency: 7.22s, Test Memory Usage: 194.0KB\n",
            "\n",
            "Epoch 88\n"
          ]
        },
        {
          "name": "stderr",
          "output_type": "stream",
          "text": [
            "Train: 100%|##########| 391/391 [00:53<00:00,  7.36batch/s]\n"
          ]
        },
        {
          "name": "stdout",
          "output_type": "stream",
          "text": [
            "LR: 1.0000e-02, Train Loss: 0.4916, Train Acc: 0.8315, Train Latency: 53.15s, Memory Usage: 3119.0KB\n",
            "Test Loss: 0.7107, Test Acc: 0.7677, Test Latency: 7.20s, Test Memory Usage: 194.0KB\n",
            "\n",
            "Epoch 89\n"
          ]
        },
        {
          "name": "stderr",
          "output_type": "stream",
          "text": [
            "Train: 100%|##########| 391/391 [00:53<00:00,  7.34batch/s]\n"
          ]
        },
        {
          "name": "stdout",
          "output_type": "stream",
          "text": [
            "LR: 1.0000e-02, Train Loss: 0.4868, Train Acc: 0.8335, Train Latency: 53.27s, Memory Usage: 3119.0KB\n",
            "Test Loss: 0.7006, Test Acc: 0.7727, Test Latency: 7.30s, Test Memory Usage: 194.0KB\n",
            "\n",
            "Epoch 90\n"
          ]
        },
        {
          "name": "stderr",
          "output_type": "stream",
          "text": [
            "Train: 100%|##########| 391/391 [00:53<00:00,  7.29batch/s]\n"
          ]
        },
        {
          "name": "stdout",
          "output_type": "stream",
          "text": [
            "LR: 1.0000e-02, Train Loss: 0.4892, Train Acc: 0.8328, Train Latency: 53.61s, Memory Usage: 3119.0KB\n",
            "Test Loss: 0.6148, Test Acc: 0.7992, Test Latency: 7.34s, Test Memory Usage: 194.0KB\n",
            "\n",
            "Epoch 91\n"
          ]
        },
        {
          "name": "stderr",
          "output_type": "stream",
          "text": [
            "Train: 100%|##########| 391/391 [00:53<00:00,  7.31batch/s]\n"
          ]
        },
        {
          "name": "stdout",
          "output_type": "stream",
          "text": [
            "LR: 1.0000e-02, Train Loss: 0.4960, Train Acc: 0.8295, Train Latency: 53.51s, Memory Usage: 3119.0KB\n",
            "Test Loss: 0.6294, Test Acc: 0.7925, Test Latency: 7.24s, Test Memory Usage: 194.0KB\n",
            "\n",
            "Epoch 92\n"
          ]
        },
        {
          "name": "stderr",
          "output_type": "stream",
          "text": [
            "Train: 100%|##########| 391/391 [00:53<00:00,  7.36batch/s]\n"
          ]
        },
        {
          "name": "stdout",
          "output_type": "stream",
          "text": [
            "LR: 1.0000e-02, Train Loss: 0.4874, Train Acc: 0.8343, Train Latency: 53.12s, Memory Usage: 3119.0KB\n",
            "Test Loss: 0.5847, Test Acc: 0.7996, Test Latency: 7.25s, Test Memory Usage: 194.0KB\n",
            "\n",
            "Epoch 93\n"
          ]
        },
        {
          "name": "stderr",
          "output_type": "stream",
          "text": [
            "Train: 100%|##########| 391/391 [00:53<00:00,  7.35batch/s]\n"
          ]
        },
        {
          "name": "stdout",
          "output_type": "stream",
          "text": [
            "LR: 1.0000e-02, Train Loss: 0.4900, Train Acc: 0.8321, Train Latency: 53.23s, Memory Usage: 3119.0KB\n",
            "Test Loss: 0.6560, Test Acc: 0.7844, Test Latency: 7.27s, Test Memory Usage: 194.0KB\n",
            "\n",
            "Epoch 94\n"
          ]
        },
        {
          "name": "stderr",
          "output_type": "stream",
          "text": [
            "Train: 100%|##########| 391/391 [00:53<00:00,  7.34batch/s]\n"
          ]
        },
        {
          "name": "stdout",
          "output_type": "stream",
          "text": [
            "LR: 1.0000e-02, Train Loss: 0.4861, Train Acc: 0.8322, Train Latency: 53.27s, Memory Usage: 3119.0KB\n",
            "Test Loss: 0.6855, Test Acc: 0.7754, Test Latency: 7.21s, Test Memory Usage: 194.0KB\n",
            "\n",
            "Epoch 95\n"
          ]
        },
        {
          "name": "stderr",
          "output_type": "stream",
          "text": [
            "Train: 100%|##########| 391/391 [00:52<00:00,  7.38batch/s]\n"
          ]
        },
        {
          "name": "stdout",
          "output_type": "stream",
          "text": [
            "LR: 1.0000e-02, Train Loss: 0.4907, Train Acc: 0.8325, Train Latency: 52.95s, Memory Usage: 3119.0KB\n",
            "Test Loss: 0.6285, Test Acc: 0.7906, Test Latency: 7.24s, Test Memory Usage: 194.0KB\n",
            "\n",
            "Epoch 96\n"
          ]
        },
        {
          "name": "stderr",
          "output_type": "stream",
          "text": [
            "Train: 100%|##########| 391/391 [00:53<00:00,  7.35batch/s]\n"
          ]
        },
        {
          "name": "stdout",
          "output_type": "stream",
          "text": [
            "LR: 1.0000e-02, Train Loss: 0.4872, Train Acc: 0.8311, Train Latency: 53.22s, Memory Usage: 3119.0KB\n",
            "Test Loss: 0.6666, Test Acc: 0.7817, Test Latency: 7.22s, Test Memory Usage: 194.0KB\n",
            "\n",
            "Epoch 97\n"
          ]
        },
        {
          "name": "stderr",
          "output_type": "stream",
          "text": [
            "Train: 100%|##########| 391/391 [00:53<00:00,  7.37batch/s]\n"
          ]
        },
        {
          "name": "stdout",
          "output_type": "stream",
          "text": [
            "LR: 1.0000e-02, Train Loss: 0.4914, Train Acc: 0.8313, Train Latency: 53.07s, Memory Usage: 3119.0KB\n",
            "Test Loss: 0.5886, Test Acc: 0.8066, Test Latency: 7.29s, Test Memory Usage: 194.0KB\n",
            "\n",
            "Epoch 98\n"
          ]
        },
        {
          "name": "stderr",
          "output_type": "stream",
          "text": [
            "Train: 100%|##########| 391/391 [00:53<00:00,  7.34batch/s]\n"
          ]
        },
        {
          "name": "stdout",
          "output_type": "stream",
          "text": [
            "LR: 1.0000e-02, Train Loss: 0.4876, Train Acc: 0.8310, Train Latency: 53.25s, Memory Usage: 3119.0KB\n",
            "Test Loss: 0.5909, Test Acc: 0.8042, Test Latency: 7.24s, Test Memory Usage: 194.0KB\n",
            "\n",
            "Epoch 99\n"
          ]
        },
        {
          "name": "stderr",
          "output_type": "stream",
          "text": [
            "Train: 100%|##########| 391/391 [00:53<00:00,  7.35batch/s]\n"
          ]
        },
        {
          "name": "stdout",
          "output_type": "stream",
          "text": [
            "LR: 1.0000e-02, Train Loss: 0.4872, Train Acc: 0.8322, Train Latency: 53.23s, Memory Usage: 3119.0KB\n",
            "Test Loss: 0.7238, Test Acc: 0.7641, Test Latency: 7.27s, Test Memory Usage: 194.0KB\n",
            "\n",
            "Epoch 100\n"
          ]
        },
        {
          "name": "stderr",
          "output_type": "stream",
          "text": [
            "Train: 100%|##########| 391/391 [00:53<00:00,  7.38batch/s]\n"
          ]
        },
        {
          "name": "stdout",
          "output_type": "stream",
          "text": [
            "LR: 1.0000e-02, Train Loss: 0.4847, Train Acc: 0.8324, Train Latency: 53.02s, Memory Usage: 3119.0KB\n",
            "Test Loss: 0.6382, Test Acc: 0.7937, Test Latency: 7.23s, Test Memory Usage: 194.0KB\n",
            "\n",
            "Epoch 101\n"
          ]
        },
        {
          "name": "stderr",
          "output_type": "stream",
          "text": [
            "Train: 100%|##########| 391/391 [00:53<00:00,  7.34batch/s]\n"
          ]
        },
        {
          "name": "stdout",
          "output_type": "stream",
          "text": [
            "LR: 1.0000e-03, Train Loss: 0.4349, Train Acc: 0.8521, Train Latency: 53.28s, Memory Usage: 3119.0KB\n",
            "Test Loss: 0.4662, Test Acc: 0.8385, Test Latency: 7.24s, Test Memory Usage: 194.0KB\n",
            "Saving best model ...\n",
            "\n",
            "Epoch 102\n"
          ]
        },
        {
          "name": "stderr",
          "output_type": "stream",
          "text": [
            "Train: 100%|##########| 391/391 [00:53<00:00,  7.37batch/s]\n"
          ]
        },
        {
          "name": "stdout",
          "output_type": "stream",
          "text": [
            "LR: 1.0000e-03, Train Loss: 0.4119, Train Acc: 0.8603, Train Latency: 53.03s, Memory Usage: 3119.0KB\n",
            "Test Loss: 0.4471, Test Acc: 0.8476, Test Latency: 7.26s, Test Memory Usage: 194.0KB\n",
            "Saving best model ...\n",
            "\n",
            "Epoch 103\n"
          ]
        },
        {
          "name": "stderr",
          "output_type": "stream",
          "text": [
            "Train: 100%|##########| 391/391 [00:53<00:00,  7.34batch/s]\n"
          ]
        },
        {
          "name": "stdout",
          "output_type": "stream",
          "text": [
            "LR: 1.0000e-03, Train Loss: 0.3963, Train Acc: 0.8648, Train Latency: 53.28s, Memory Usage: 3119.0KB\n",
            "Test Loss: 0.4357, Test Acc: 0.8507, Test Latency: 7.27s, Test Memory Usage: 194.0KB\n",
            "Saving best model ...\n",
            "\n",
            "Epoch 104\n"
          ]
        },
        {
          "name": "stderr",
          "output_type": "stream",
          "text": [
            "Train: 100%|##########| 391/391 [00:53<00:00,  7.35batch/s]\n"
          ]
        },
        {
          "name": "stdout",
          "output_type": "stream",
          "text": [
            "LR: 1.0000e-03, Train Loss: 0.3957, Train Acc: 0.8642, Train Latency: 53.23s, Memory Usage: 3119.0KB\n",
            "Test Loss: 0.4437, Test Acc: 0.8472, Test Latency: 7.27s, Test Memory Usage: 194.0KB\n",
            "\n",
            "Epoch 105\n"
          ]
        },
        {
          "name": "stderr",
          "output_type": "stream",
          "text": [
            "Train: 100%|##########| 391/391 [00:53<00:00,  7.35batch/s]\n"
          ]
        },
        {
          "name": "stdout",
          "output_type": "stream",
          "text": [
            "LR: 1.0000e-03, Train Loss: 0.3976, Train Acc: 0.8632, Train Latency: 53.19s, Memory Usage: 3119.0KB\n",
            "Test Loss: 0.4501, Test Acc: 0.8475, Test Latency: 7.26s, Test Memory Usage: 194.0KB\n",
            "\n",
            "Epoch 106\n"
          ]
        },
        {
          "name": "stderr",
          "output_type": "stream",
          "text": [
            "Train: 100%|##########| 391/391 [00:53<00:00,  7.35batch/s]\n"
          ]
        },
        {
          "name": "stdout",
          "output_type": "stream",
          "text": [
            "LR: 1.0000e-03, Train Loss: 0.3971, Train Acc: 0.8620, Train Latency: 53.21s, Memory Usage: 3119.0KB\n",
            "Test Loss: 0.4543, Test Acc: 0.8429, Test Latency: 7.23s, Test Memory Usage: 194.0KB\n",
            "\n",
            "Epoch 107\n"
          ]
        },
        {
          "name": "stderr",
          "output_type": "stream",
          "text": [
            "Train: 100%|##########| 391/391 [00:53<00:00,  7.37batch/s]\n"
          ]
        },
        {
          "name": "stdout",
          "output_type": "stream",
          "text": [
            "LR: 1.0000e-03, Train Loss: 0.3941, Train Acc: 0.8641, Train Latency: 53.06s, Memory Usage: 3119.0KB\n",
            "Test Loss: 0.4509, Test Acc: 0.8447, Test Latency: 7.27s, Test Memory Usage: 194.0KB\n",
            "\n",
            "Epoch 108\n"
          ]
        },
        {
          "name": "stderr",
          "output_type": "stream",
          "text": [
            "Train: 100%|##########| 391/391 [00:53<00:00,  7.35batch/s]\n"
          ]
        },
        {
          "name": "stdout",
          "output_type": "stream",
          "text": [
            "LR: 1.0000e-03, Train Loss: 0.3828, Train Acc: 0.8687, Train Latency: 53.18s, Memory Usage: 3119.0KB\n",
            "Test Loss: 0.4501, Test Acc: 0.8499, Test Latency: 7.18s, Test Memory Usage: 194.0KB\n",
            "\n",
            "Epoch 109\n"
          ]
        },
        {
          "name": "stderr",
          "output_type": "stream",
          "text": [
            "Train: 100%|##########| 391/391 [00:53<00:00,  7.37batch/s]\n"
          ]
        },
        {
          "name": "stdout",
          "output_type": "stream",
          "text": [
            "LR: 1.0000e-03, Train Loss: 0.3907, Train Acc: 0.8674, Train Latency: 53.03s, Memory Usage: 3119.0KB\n",
            "Test Loss: 0.4449, Test Acc: 0.8495, Test Latency: 7.26s, Test Memory Usage: 194.0KB\n",
            "\n",
            "Epoch 110\n"
          ]
        },
        {
          "name": "stderr",
          "output_type": "stream",
          "text": [
            "Train: 100%|##########| 391/391 [00:53<00:00,  7.36batch/s]\n"
          ]
        },
        {
          "name": "stdout",
          "output_type": "stream",
          "text": [
            "LR: 1.0000e-03, Train Loss: 0.3902, Train Acc: 0.8666, Train Latency: 53.15s, Memory Usage: 3119.0KB\n",
            "Test Loss: 0.4393, Test Acc: 0.8496, Test Latency: 7.20s, Test Memory Usage: 194.0KB\n",
            "\n",
            "Epoch 111\n"
          ]
        },
        {
          "name": "stderr",
          "output_type": "stream",
          "text": [
            "Train: 100%|##########| 391/391 [00:52<00:00,  7.39batch/s]\n"
          ]
        },
        {
          "name": "stdout",
          "output_type": "stream",
          "text": [
            "LR: 1.0000e-03, Train Loss: 0.3928, Train Acc: 0.8654, Train Latency: 52.93s, Memory Usage: 3119.0KB\n",
            "Test Loss: 0.4494, Test Acc: 0.8467, Test Latency: 7.25s, Test Memory Usage: 194.0KB\n",
            "\n",
            "Epoch 112\n"
          ]
        },
        {
          "name": "stderr",
          "output_type": "stream",
          "text": [
            "Train: 100%|##########| 391/391 [00:53<00:00,  7.35batch/s]\n"
          ]
        },
        {
          "name": "stdout",
          "output_type": "stream",
          "text": [
            "LR: 1.0000e-03, Train Loss: 0.3908, Train Acc: 0.8648, Train Latency: 53.23s, Memory Usage: 3119.0KB\n",
            "Test Loss: 0.4614, Test Acc: 0.8423, Test Latency: 7.24s, Test Memory Usage: 194.0KB\n",
            "\n",
            "Epoch 113\n"
          ]
        },
        {
          "name": "stderr",
          "output_type": "stream",
          "text": [
            "Train: 100%|##########| 391/391 [00:53<00:00,  7.33batch/s]\n"
          ]
        },
        {
          "name": "stdout",
          "output_type": "stream",
          "text": [
            "LR: 1.0000e-03, Train Loss: 0.3898, Train Acc: 0.8664, Train Latency: 53.32s, Memory Usage: 3119.0KB\n",
            "Test Loss: 0.4501, Test Acc: 0.8458, Test Latency: 7.28s, Test Memory Usage: 194.0KB\n",
            "\n",
            "Epoch 114\n"
          ]
        },
        {
          "name": "stderr",
          "output_type": "stream",
          "text": [
            "Train: 100%|##########| 391/391 [00:53<00:00,  7.36batch/s]\n"
          ]
        },
        {
          "name": "stdout",
          "output_type": "stream",
          "text": [
            "LR: 1.0000e-03, Train Loss: 0.3866, Train Acc: 0.8666, Train Latency: 53.15s, Memory Usage: 3119.0KB\n",
            "Test Loss: 0.4470, Test Acc: 0.8476, Test Latency: 7.22s, Test Memory Usage: 194.0KB\n",
            "\n",
            "Epoch 115\n"
          ]
        },
        {
          "name": "stderr",
          "output_type": "stream",
          "text": [
            "Train:  82%|########2 | 321/391 [00:43<00:09,  7.35batch/s]\n"
          ]
        },
        {
          "ename": "KeyboardInterrupt",
          "evalue": "",
          "output_type": "error",
          "traceback": [
            "\u001b[0;31m---------------------------------------------------------------------------\u001b[0m",
            "\u001b[0;31mKeyboardInterrupt\u001b[0m                         Traceback (most recent call last)",
            "\u001b[0;32m<ipython-input-15-3ae02ab179b3>\u001b[0m in \u001b[0;36m<cell line: 1>\u001b[0;34m()\u001b[0m\n\u001b[1;32m      1\u001b[0m \u001b[0;32mfor\u001b[0m \u001b[0mw_nbits\u001b[0m \u001b[0;32min\u001b[0m \u001b[0;34m[\u001b[0m\u001b[0;36m1\u001b[0m\u001b[0;34m,\u001b[0m \u001b[0;36m2\u001b[0m\u001b[0;34m,\u001b[0m \u001b[0;36m3\u001b[0m\u001b[0;34m]\u001b[0m\u001b[0;34m:\u001b[0m\u001b[0;34m\u001b[0m\u001b[0;34m\u001b[0m\u001b[0m\n\u001b[1;32m      2\u001b[0m   \u001b[0;32mfor\u001b[0m \u001b[0ma_nbits\u001b[0m \u001b[0;32min\u001b[0m \u001b[0;34m[\u001b[0m\u001b[0;36m2\u001b[0m\u001b[0;34m,\u001b[0m \u001b[0;36m3\u001b[0m\u001b[0;34m]\u001b[0m\u001b[0;34m:\u001b[0m\u001b[0;34m\u001b[0m\u001b[0;34m\u001b[0m\u001b[0m\n\u001b[0;32m----> 3\u001b[0;31m     \u001b[0mtrain\u001b[0m\u001b[0;34m(\u001b[0m\u001b[0mw_nbits\u001b[0m\u001b[0;34m=\u001b[0m\u001b[0mw_nbits\u001b[0m\u001b[0;34m,\u001b[0m \u001b[0ma_nbits\u001b[0m\u001b[0;34m=\u001b[0m\u001b[0ma_nbits\u001b[0m\u001b[0;34m)\u001b[0m\u001b[0;34m\u001b[0m\u001b[0;34m\u001b[0m\u001b[0m\n\u001b[0m",
            "\u001b[0;32m<ipython-input-14-fdc0452779fc>\u001b[0m in \u001b[0;36mtrain\u001b[0;34m(w_nbits, a_nbits, lr, weight_decay, optimizer_type, epochs, batch_size)\u001b[0m\n\u001b[1;32m     57\u001b[0m                 \u001b[0moutputs\u001b[0m \u001b[0;34m=\u001b[0m \u001b[0mmodel\u001b[0m\u001b[0;34m(\u001b[0m\u001b[0minputs\u001b[0m\u001b[0;34m)\u001b[0m\u001b[0;34m\u001b[0m\u001b[0;34m\u001b[0m\u001b[0m\n\u001b[1;32m     58\u001b[0m                 \u001b[0mloss\u001b[0m \u001b[0;34m=\u001b[0m \u001b[0mcriterion\u001b[0m\u001b[0;34m(\u001b[0m\u001b[0moutputs\u001b[0m\u001b[0;34m,\u001b[0m \u001b[0mtargets\u001b[0m\u001b[0;34m)\u001b[0m\u001b[0;34m\u001b[0m\u001b[0;34m\u001b[0m\u001b[0m\n\u001b[0;32m---> 59\u001b[0;31m                 \u001b[0mloss\u001b[0m\u001b[0;34m.\u001b[0m\u001b[0mbackward\u001b[0m\u001b[0;34m(\u001b[0m\u001b[0;34m)\u001b[0m\u001b[0;34m\u001b[0m\u001b[0;34m\u001b[0m\u001b[0m\n\u001b[0m\u001b[1;32m     60\u001b[0m                 \u001b[0moptimizer\u001b[0m\u001b[0;34m.\u001b[0m\u001b[0mstep\u001b[0m\u001b[0;34m(\u001b[0m\u001b[0;34m)\u001b[0m\u001b[0;34m\u001b[0m\u001b[0;34m\u001b[0m\u001b[0m\n\u001b[1;32m     61\u001b[0m \u001b[0;34m\u001b[0m\u001b[0m\n",
            "\u001b[0;32m/usr/local/lib/python3.10/dist-packages/torch/_tensor.py\u001b[0m in \u001b[0;36mbackward\u001b[0;34m(self, gradient, retain_graph, create_graph, inputs)\u001b[0m\n\u001b[1;32m    520\u001b[0m                 \u001b[0minputs\u001b[0m\u001b[0;34m=\u001b[0m\u001b[0minputs\u001b[0m\u001b[0;34m,\u001b[0m\u001b[0;34m\u001b[0m\u001b[0;34m\u001b[0m\u001b[0m\n\u001b[1;32m    521\u001b[0m             )\n\u001b[0;32m--> 522\u001b[0;31m         torch.autograd.backward(\n\u001b[0m\u001b[1;32m    523\u001b[0m             \u001b[0mself\u001b[0m\u001b[0;34m,\u001b[0m \u001b[0mgradient\u001b[0m\u001b[0;34m,\u001b[0m \u001b[0mretain_graph\u001b[0m\u001b[0;34m,\u001b[0m \u001b[0mcreate_graph\u001b[0m\u001b[0;34m,\u001b[0m \u001b[0minputs\u001b[0m\u001b[0;34m=\u001b[0m\u001b[0minputs\u001b[0m\u001b[0;34m\u001b[0m\u001b[0;34m\u001b[0m\u001b[0m\n\u001b[1;32m    524\u001b[0m         )\n",
            "\u001b[0;32m/usr/local/lib/python3.10/dist-packages/torch/autograd/__init__.py\u001b[0m in \u001b[0;36mbackward\u001b[0;34m(tensors, grad_tensors, retain_graph, create_graph, grad_variables, inputs)\u001b[0m\n\u001b[1;32m    264\u001b[0m     \u001b[0;31m# some Python versions print out the first line of a multi-line function\u001b[0m\u001b[0;34m\u001b[0m\u001b[0;34m\u001b[0m\u001b[0m\n\u001b[1;32m    265\u001b[0m     \u001b[0;31m# calls in the traceback and some print out the last line\u001b[0m\u001b[0;34m\u001b[0m\u001b[0;34m\u001b[0m\u001b[0m\n\u001b[0;32m--> 266\u001b[0;31m     Variable._execution_engine.run_backward(  # Calls into the C++ engine to run the backward pass\n\u001b[0m\u001b[1;32m    267\u001b[0m         \u001b[0mtensors\u001b[0m\u001b[0;34m,\u001b[0m\u001b[0;34m\u001b[0m\u001b[0;34m\u001b[0m\u001b[0m\n\u001b[1;32m    268\u001b[0m         \u001b[0mgrad_tensors_\u001b[0m\u001b[0;34m,\u001b[0m\u001b[0;34m\u001b[0m\u001b[0;34m\u001b[0m\u001b[0m\n",
            "\u001b[0;31mKeyboardInterrupt\u001b[0m: "
          ]
        }
      ],
      "source": [
        "for w_nbits in [1, 2, 3]:\n",
        "  for a_nbits in [2, 3]:\n",
        "    train(w_nbits=w_nbits, a_nbits=a_nbits)"
      ]
    }
  ],
  "metadata": {
    "accelerator": "GPU",
    "colab": {
      "gpuType": "L4",
      "machine_shape": "hm",
      "provenance": []
    },
    "kernelspec": {
      "display_name": "Python 3",
      "name": "python3"
    },
    "language_info": {
      "codemirror_mode": {
        "name": "ipython",
        "version": 3
      },
      "file_extension": ".py",
      "mimetype": "text/x-python",
      "name": "python",
      "nbconvert_exporter": "python",
      "pygments_lexer": "ipython3",
      "version": "3.9.18"
    }
  },
  "nbformat": 4,
  "nbformat_minor": 0
}
