{
  "cells": [
    {
      "cell_type": "markdown",
      "metadata": {
        "id": "1YPfHGVFKcE5"
      },
      "source": [
        "1. **Preparing Process**\n",
        "\n",
        "---\n",
        "\n"
      ]
    },
    {
      "cell_type": "code",
      "execution_count": 1,
      "metadata": {
        "id": "Eub8GVLkNx8S"
      },
      "outputs": [],
      "source": [
        "import random\n",
        "from tqdm import tqdm\n",
        "import numpy as np\n",
        "import torch\n",
        "import torch.nn as nn\n",
        "import torch.optim as optim\n",
        "import torch.optim.lr_scheduler as lr_scheduler\n",
        "from torch.utils.data import Dataset, DataLoader\n",
        "import torchvision.datasets as datasets\n",
        "import torchvision.transforms as transforms\n",
        "\n",
        "import sys\n",
        "sys.path.append('/home/users/xt37/LQ-Nets')\n",
        "import resnet\n",
        "from resnet import ResNet\n",
        "from time import time\n",
        "import os\n",
        "\n",
        "random.seed(42)\n",
        "np.random.seed(42)\n",
        "torch.manual_seed(42)\n",
        "\n",
        "DEVICE = torch.device('cuda' if torch.cuda.is_available() else 'cpu')\n",
        "torch.backends.cudnn.benchmark = True"
      ]
    },
    {
      "cell_type": "code",
      "execution_count": 2,
      "metadata": {},
      "outputs": [
        {
          "name": "stdout",
          "output_type": "stream",
          "text": [
            "DEVICE: cuda\n"
          ]
        }
      ],
      "source": [
        "print('DEVICE:', DEVICE)"
      ]
    },
    {
      "cell_type": "code",
      "execution_count": 3,
      "metadata": {
        "colab": {
          "base_uri": "https://localhost:8080/"
        },
        "id": "kMuoreT6OEl4",
        "outputId": "5a2e66a2-d696-482b-92cd-22ee6afb20e2"
      },
      "outputs": [
        {
          "name": "stdout",
          "output_type": "stream",
          "text": [
            "Downloading https://www.cs.toronto.edu/~kriz/cifar-10-python.tar.gz to ./data/cifar-10-python.tar.gz\n"
          ]
        },
        {
          "name": "stderr",
          "output_type": "stream",
          "text": [
            "100%|███████████████████████████████████████| 170498071/170498071 [00:02<00:00, 68047730.15it/s]\n"
          ]
        },
        {
          "name": "stdout",
          "output_type": "stream",
          "text": [
            "Extracting ./data/cifar-10-python.tar.gz to ./data\n",
            "Files already downloaded and verified\n"
          ]
        }
      ],
      "source": [
        "def print_and_log(message, file):\n",
        "    print(message)\n",
        "    file.write(message + '\\n')\n",
        "\n",
        "class ApplyTransform(Dataset):\n",
        "    def __init__(self, dataset, transform):\n",
        "        self.dataset = dataset\n",
        "        self.transform = transform\n",
        "\n",
        "    def __getitem__(self, idx):\n",
        "        x, y = self.dataset[idx]\n",
        "        return self.transform(x), y\n",
        "\n",
        "    def __len__(self):\n",
        "        return len(self.dataset)\n",
        "\n",
        "# normalize = transforms.Normalize((0.4914, 0.4822, 0.4465), (0.2023, 0.1994, 0.2010))\n",
        "normalize = transforms.Normalize((0.485, 0.456, 0.406), (0.229, 0.224, 0.225))\n",
        "\n",
        "TRANSFORM_TRAIN = transforms.Compose([\n",
        "    transforms.RandomHorizontalFlip(),\n",
        "    transforms.RandomCrop(32, padding=4),\n",
        "    transforms.ToTensor(),\n",
        "    normalize,\n",
        "])\n",
        "TRANSFORM_TEST = transforms.Compose([\n",
        "    transforms.ToTensor(),\n",
        "    normalize,\n",
        "])\n",
        "\n",
        "TRAIN_SET = datasets.CIFAR10(root='./data', train=True, download=True, transform=TRANSFORM_TRAIN)\n",
        "TEST_SET = datasets.CIFAR10(root='./data', train=False, download=True, transform=TRANSFORM_TEST)\n",
        "\n",
        "\n",
        "\n",
        "\n"
      ]
    },
    {
      "cell_type": "code",
      "execution_count": 4,
      "metadata": {
        "id": "dHQMYhRYOH5T"
      },
      "outputs": [],
      "source": [
        "def test(model: nn.Module, loader: DataLoader):\n",
        "    criterion = nn.CrossEntropyLoss()\n",
        "    test_loss = 0\n",
        "    test_correct = 0\n",
        "    test_total = 0\n",
        "    start_time = time()\n",
        "    start_memory = torch.cuda.memory_allocated(DEVICE) / 1024 if DEVICE.type == 'cuda' else 0\n",
        "\n",
        "    with torch.no_grad():\n",
        "        for inputs, targets in loader:\n",
        "            inputs, targets = inputs.to(DEVICE), targets.to(DEVICE)\n",
        "            outputs = model(inputs)\n",
        "            loss = criterion(outputs, targets)\n",
        "\n",
        "            test_loss += loss.item()\n",
        "            test_correct += (outputs.argmax(1) == targets).sum().item()\n",
        "            test_total += targets.size(0)\n",
        "\n",
        "    latency = time() - start_time\n",
        "    memory_usage = torch.cuda.memory_allocated(DEVICE) / 1024 if DEVICE.type == 'cuda' else 0  # kB\n",
        "    test_memory_usage = memory_usage - start_memory\n",
        "\n",
        "    test_loss /= len(loader)\n",
        "    test_acc = test_correct / test_total\n",
        "    return test_loss, test_acc, latency, test_memory_usage"
      ]
    },
    {
      "cell_type": "code",
      "execution_count": 5,
      "metadata": {
        "id": "F2c-JRNRJrr8"
      },
      "outputs": [],
      "source": [
        "def train(w_nbits, a_nbits, lambda_val, lr=0.1, weight_decay=1e-3,\n",
        "          optimizer_type='sgd', epochs=200, batch_size=128):\n",
        "\n",
        "    # import resnet20\n",
        "    # model = resnet20.ResNetCIFAR(w_nbits=w_nbits, a_nbits=a_nbits).to(DEVICE)\n",
        "\n",
        "    model = ResNet(w_nbits=w_nbits, a_nbits=a_nbits, lambda_val=lambda_val).to(DEVICE)\n",
        "\n",
        "    ckpt_base_filename = (\n",
        "        '/home/users/xt37/LQ-Nets/resnet20_cifar'\n",
        "        + ('' if w_nbits is None else f'_wq{w_nbits}')\n",
        "        + ('' if a_nbits is None else f'_aq{a_nbits}')\n",
        "        + ('' if lambda_val is None else f'_lambda{lambda_val}')\n",
        "        + '.pt'\n",
        "    )\n",
        "    log_filename = ckpt_base_filename.replace('.pt', '.txt')\n",
        "    last_saved_filename = None\n",
        "\n",
        "    train_loader = DataLoader(TRAIN_SET, batch_size=batch_size, shuffle=True)\n",
        "    test_loader = DataLoader(TEST_SET, batch_size=batch_size, shuffle=False)\n",
        "\n",
        "    criterion = nn.CrossEntropyLoss()\n",
        "\n",
        "    if optimizer_type.lower() == 'sgd':\n",
        "        optimizer = optim.SGD(model.parameters(), lr=lr, momentum=0.9, weight_decay=weight_decay)\n",
        "    elif optimizer_type.lower() == 'adam':\n",
        "        optimizer = optim.Adam(model.parameters(), lr=lr)\n",
        "    elif optimizer_type.lower() == 'rmsprop':\n",
        "        optimizer = optim.RMSprop(model.parameters(), lr=lr, weight_decay=weight_decay)\n",
        "    elif optimizer_type.lower() == 'adagrad':\n",
        "        optimizer = optim.Adagrad(model.parameters(), lr=lr, weight_decay=weight_decay)\n",
        "    else:\n",
        "        raise ValueError(f\"Unsupported optimizer type: {optimizer_type}\")\n",
        "\n",
        "    scheduler = lr_scheduler.MultiStepLR(optimizer, milestones=[50, 100, 150], gamma=0.1)\n",
        "\n",
        "    best_test_acc = 0.0\n",
        "    save_threshold_epoch = min(50, epochs // 3)\n",
        "\n",
        "\n",
        "    with open(log_filename, 'w') as log_file:\n",
        "        print_and_log(f'\\nQuantization: weight={w_nbits} activation={a_nbits} threshold={lambda_val}, Using device: {DEVICE}', log_file)\n",
        "\n",
        "        start_memory = torch.cuda.memory_allocated(DEVICE) / 1024 if DEVICE.type == 'cuda' else 0\n",
        "\n",
        "        for epoch in range(epochs):\n",
        "            print_and_log(f'\\nEpoch {epoch+1}', log_file)\n",
        "            model.train()\n",
        "\n",
        "            train_loss = 0\n",
        "            train_correct = 0\n",
        "            train_total = 0\n",
        "\n",
        "            start_time = time()\n",
        "\n",
        "            for inputs, targets in tqdm(train_loader, desc='Train', unit='batch', ascii=True, dynamic_ncols=True):\n",
        "                inputs, targets = inputs.to(DEVICE), targets.to(DEVICE)\n",
        "                optimizer.zero_grad()\n",
        "                outputs = model(inputs)\n",
        "                loss = criterion(outputs, targets)\n",
        "                loss.backward()\n",
        "                optimizer.step()\n",
        "\n",
        "                train_loss += loss.item()\n",
        "                train_correct += (outputs.argmax(1) == targets).sum().item()\n",
        "                train_total += targets.size(0)\n",
        "\n",
        "            train_loss /= len(train_loader)\n",
        "            train_acc = train_correct / train_total\n",
        "\n",
        "            train_latency = time() - start_time\n",
        "            end_memory = torch.cuda.memory_allocated(DEVICE) / 1024 if DEVICE.type == 'cuda' else 0\n",
        "            train_memory_usage = end_memory - start_memory\n",
        "\n",
        "            print_and_log(f'LR: {optimizer.param_groups[0][\"lr\"]:.4e}, Train Loss: {train_loss:.4f}, Train Acc: {train_acc:.4f}, Train Latency: {train_latency:.2f}s, Memory Usage: {train_memory_usage}KB', log_file)\n",
        "\n",
        "            model.eval()\n",
        "            test_loss, test_acc, test_latency, test_memory_usage = test(model, test_loader)\n",
        "            print_and_log(f'Test Loss: {test_loss:.4f}, Test Acc: {test_acc:.4f}, Test Latency: {test_latency:.2f}s, Test Memory Usage: {test_memory_usage}KB', log_file)\n",
        "\n",
        "            scheduler.step()\n",
        "\n",
        "            if epoch >= save_threshold_epoch:\n",
        "                if test_acc > best_test_acc:\n",
        "                    best_test_acc = test_acc\n",
        "                    print('Saving best model ...')\n",
        "                    if last_saved_filename is not None and last_saved_filename != ckpt_base_filename:\n",
        "                        os.remove(last_saved_filename)\n",
        "                    ckpt_filename = ckpt_base_filename.replace('.pt', '') + f'epoch_{epoch+1}_' + '.pt'\n",
        "                    torch.save(model.state_dict(), ckpt_filename)\n",
        "                    last_saved_filename = ckpt_filename\n",
        "\n",
        "    print('Saving final epoch model ...')\n",
        "    torch.save(model.state_dict(), ckpt_base_filename)"
      ]
    },
    {
      "cell_type": "code",
      "execution_count": 6,
      "metadata": {},
      "outputs": [
        {
          "name": "stdout",
          "output_type": "stream",
          "text": [
            "\n",
            "Quantization: weight=3 activation=None threshold=0.004, Using device: cuda\n",
            "\n",
            "Epoch 1\n"
          ]
        },
        {
          "name": "stderr",
          "output_type": "stream",
          "text": [
            "Train: 100%|###############################################| 391/391 [00:30<00:00, 12.85batch/s]\n"
          ]
        },
        {
          "name": "stdout",
          "output_type": "stream",
          "text": [
            "LR: 1.0000e-01, Train Loss: 1.6442, Train Acc: 0.3862, Train Latency: 30.43s, Memory Usage: 19750.0KB\n",
            "Test Loss: 1.2924, Test Acc: 0.5252, Test Latency: 3.23s, Test Memory Usage: 194.0KB\n",
            "\n",
            "Epoch 2\n"
          ]
        },
        {
          "name": "stderr",
          "output_type": "stream",
          "text": [
            "Train: 100%|#############################| 391/391 [00:35<00:00, 11.07batch/s]                  \n"
          ]
        },
        {
          "name": "stdout",
          "output_type": "stream",
          "text": [
            "LR: 1.0000e-01, Train Loss: 1.1569, Train Acc: 0.5827, Train Latency: 35.32s, Memory Usage: 19750.0KB\n",
            "Test Loss: 1.1923, Test Acc: 0.5706, Test Latency: 3.68s, Test Memory Usage: 194.0KB\n",
            "\n",
            "Epoch 3\n"
          ]
        },
        {
          "name": "stderr",
          "output_type": "stream",
          "text": [
            "Train: 100%|#######################################################| 391/391 [00:23<00:00, 16.33batch/s]\n"
          ]
        },
        {
          "name": "stdout",
          "output_type": "stream",
          "text": [
            "LR: 1.0000e-01, Train Loss: 1.0011, Train Acc: 0.6439, Train Latency: 23.95s, Memory Usage: 19750.0KB\n",
            "Test Loss: 1.2275, Test Acc: 0.6009, Test Latency: 3.11s, Test Memory Usage: 194.0KB\n",
            "\n",
            "Epoch 4\n"
          ]
        },
        {
          "name": "stderr",
          "output_type": "stream",
          "text": [
            "Train: 100%|#######################################################| 391/391 [00:29<00:00, 13.10batch/s]\n"
          ]
        },
        {
          "name": "stdout",
          "output_type": "stream",
          "text": [
            "LR: 1.0000e-01, Train Loss: 0.8983, Train Acc: 0.6852, Train Latency: 29.84s, Memory Usage: 19750.0KB\n",
            "Test Loss: 1.1254, Test Acc: 0.6042, Test Latency: 3.70s, Test Memory Usage: 194.0KB\n",
            "\n",
            "Epoch 5\n"
          ]
        },
        {
          "name": "stderr",
          "output_type": "stream",
          "text": [
            "Train: 100%|#######################################################| 391/391 [00:27<00:00, 14.07batch/s]\n"
          ]
        },
        {
          "name": "stdout",
          "output_type": "stream",
          "text": [
            "LR: 1.0000e-01, Train Loss: 0.8304, Train Acc: 0.7099, Train Latency: 27.79s, Memory Usage: 19750.0KB\n",
            "Test Loss: 1.6680, Test Acc: 0.5001, Test Latency: 3.12s, Test Memory Usage: 194.0KB\n",
            "\n",
            "Epoch 6\n"
          ]
        },
        {
          "name": "stderr",
          "output_type": "stream",
          "text": [
            "Train: 100%|#######################################################| 391/391 [00:36<00:00, 10.80batch/s]\n"
          ]
        },
        {
          "name": "stdout",
          "output_type": "stream",
          "text": [
            "LR: 1.0000e-01, Train Loss: 0.7961, Train Acc: 0.7251, Train Latency: 36.20s, Memory Usage: 19750.0KB\n",
            "Test Loss: 1.0379, Test Acc: 0.6537, Test Latency: 4.07s, Test Memory Usage: 194.0KB\n",
            "\n",
            "Epoch 7\n"
          ]
        },
        {
          "name": "stderr",
          "output_type": "stream",
          "text": [
            "Train: 100%|#######################################################| 391/391 [00:31<00:00, 12.42batch/s]\n"
          ]
        },
        {
          "name": "stdout",
          "output_type": "stream",
          "text": [
            "LR: 1.0000e-01, Train Loss: 0.7727, Train Acc: 0.7333, Train Latency: 31.48s, Memory Usage: 19750.0KB\n",
            "Test Loss: 1.0601, Test Acc: 0.6420, Test Latency: 3.81s, Test Memory Usage: 194.0KB\n",
            "\n",
            "Epoch 8\n"
          ]
        },
        {
          "name": "stderr",
          "output_type": "stream",
          "text": [
            "Train: 100%|#######################################################| 391/391 [00:26<00:00, 14.65batch/s]\n"
          ]
        },
        {
          "name": "stdout",
          "output_type": "stream",
          "text": [
            "LR: 1.0000e-01, Train Loss: 0.7501, Train Acc: 0.7408, Train Latency: 26.69s, Memory Usage: 19750.0KB\n",
            "Test Loss: 0.8768, Test Acc: 0.6976, Test Latency: 3.11s, Test Memory Usage: 194.0KB\n",
            "\n",
            "Epoch 9\n"
          ]
        },
        {
          "name": "stderr",
          "output_type": "stream",
          "text": [
            "Train: 100%|#######################################################| 391/391 [00:25<00:00, 15.21batch/s]\n"
          ]
        },
        {
          "name": "stdout",
          "output_type": "stream",
          "text": [
            "LR: 1.0000e-01, Train Loss: 0.7455, Train Acc: 0.7405, Train Latency: 25.71s, Memory Usage: 19750.0KB\n",
            "Test Loss: 1.4899, Test Acc: 0.5320, Test Latency: 3.12s, Test Memory Usage: 194.0KB\n",
            "\n",
            "Epoch 10\n"
          ]
        },
        {
          "name": "stderr",
          "output_type": "stream",
          "text": [
            "Train: 100%|#######################################################| 391/391 [00:26<00:00, 14.54batch/s]\n"
          ]
        },
        {
          "name": "stdout",
          "output_type": "stream",
          "text": [
            "LR: 1.0000e-01, Train Loss: 0.7261, Train Acc: 0.7489, Train Latency: 26.89s, Memory Usage: 19750.0KB\n",
            "Test Loss: 0.8790, Test Acc: 0.6973, Test Latency: 4.12s, Test Memory Usage: 194.0KB\n",
            "\n",
            "Epoch 11\n"
          ]
        },
        {
          "name": "stderr",
          "output_type": "stream",
          "text": [
            "Train: 100%|#######################################################| 391/391 [00:32<00:00, 12.01batch/s]\n"
          ]
        },
        {
          "name": "stdout",
          "output_type": "stream",
          "text": [
            "LR: 1.0000e-01, Train Loss: 0.7236, Train Acc: 0.7499, Train Latency: 32.55s, Memory Usage: 19750.0KB\n",
            "Test Loss: 2.1065, Test Acc: 0.4470, Test Latency: 3.78s, Test Memory Usage: 194.0KB\n",
            "\n",
            "Epoch 12\n"
          ]
        },
        {
          "name": "stderr",
          "output_type": "stream",
          "text": [
            "Train: 100%|#######################################################| 391/391 [00:27<00:00, 14.19batch/s]\n"
          ]
        },
        {
          "name": "stdout",
          "output_type": "stream",
          "text": [
            "LR: 1.0000e-01, Train Loss: 0.7150, Train Acc: 0.7530, Train Latency: 27.56s, Memory Usage: 19750.0KB\n",
            "Test Loss: 1.1258, Test Acc: 0.6400, Test Latency: 3.12s, Test Memory Usage: 194.0KB\n",
            "\n",
            "Epoch 13\n"
          ]
        },
        {
          "name": "stderr",
          "output_type": "stream",
          "text": [
            "Train: 100%|#######################################################| 391/391 [00:27<00:00, 13.99batch/s]\n"
          ]
        },
        {
          "name": "stdout",
          "output_type": "stream",
          "text": [
            "LR: 1.0000e-01, Train Loss: 0.7140, Train Acc: 0.7534, Train Latency: 27.95s, Memory Usage: 19750.0KB\n",
            "Test Loss: 1.2910, Test Acc: 0.6081, Test Latency: 3.12s, Test Memory Usage: 194.0KB\n",
            "\n",
            "Epoch 14\n"
          ]
        },
        {
          "name": "stderr",
          "output_type": "stream",
          "text": [
            "Train: 100%|#######################################################| 391/391 [00:25<00:00, 15.61batch/s]\n"
          ]
        },
        {
          "name": "stdout",
          "output_type": "stream",
          "text": [
            "LR: 1.0000e-01, Train Loss: 0.7021, Train Acc: 0.7593, Train Latency: 25.05s, Memory Usage: 19750.0KB\n",
            "Test Loss: 1.4731, Test Acc: 0.5746, Test Latency: 3.11s, Test Memory Usage: 194.0KB\n",
            "\n",
            "Epoch 15\n"
          ]
        },
        {
          "name": "stderr",
          "output_type": "stream",
          "text": [
            "Train: 100%|#######################################################| 391/391 [00:30<00:00, 12.79batch/s]\n"
          ]
        },
        {
          "name": "stdout",
          "output_type": "stream",
          "text": [
            "LR: 1.0000e-01, Train Loss: 0.6971, Train Acc: 0.7585, Train Latency: 30.57s, Memory Usage: 19750.0KB\n",
            "Test Loss: 1.7215, Test Acc: 0.5830, Test Latency: 3.12s, Test Memory Usage: 194.0KB\n",
            "\n",
            "Epoch 16\n"
          ]
        },
        {
          "name": "stderr",
          "output_type": "stream",
          "text": [
            "Train: 100%|#######################################################| 391/391 [00:35<00:00, 10.98batch/s]\n"
          ]
        },
        {
          "name": "stdout",
          "output_type": "stream",
          "text": [
            "LR: 1.0000e-01, Train Loss: 0.6979, Train Acc: 0.7605, Train Latency: 35.61s, Memory Usage: 19750.0KB\n",
            "Test Loss: 1.1285, Test Acc: 0.6321, Test Latency: 3.77s, Test Memory Usage: 194.0KB\n",
            "\n",
            "Epoch 17\n"
          ]
        },
        {
          "name": "stderr",
          "output_type": "stream",
          "text": [
            "Train: 100%|#######################################################| 391/391 [00:34<00:00, 11.33batch/s]\n"
          ]
        },
        {
          "name": "stdout",
          "output_type": "stream",
          "text": [
            "LR: 1.0000e-01, Train Loss: 0.6900, Train Acc: 0.7607, Train Latency: 34.52s, Memory Usage: 19750.0KB\n",
            "Test Loss: 0.9737, Test Acc: 0.6822, Test Latency: 3.75s, Test Memory Usage: 194.0KB\n",
            "\n",
            "Epoch 18\n"
          ]
        },
        {
          "name": "stderr",
          "output_type": "stream",
          "text": [
            "Train: 100%|#######################################################| 391/391 [00:33<00:00, 11.76batch/s]\n"
          ]
        },
        {
          "name": "stdout",
          "output_type": "stream",
          "text": [
            "LR: 1.0000e-01, Train Loss: 0.6864, Train Acc: 0.7625, Train Latency: 33.26s, Memory Usage: 19750.0KB\n",
            "Test Loss: 1.0008, Test Acc: 0.6794, Test Latency: 3.87s, Test Memory Usage: 194.0KB\n",
            "\n",
            "Epoch 19\n"
          ]
        },
        {
          "name": "stderr",
          "output_type": "stream",
          "text": [
            "Train: 100%|#######################################################| 391/391 [00:32<00:00, 12.12batch/s]\n"
          ]
        },
        {
          "name": "stdout",
          "output_type": "stream",
          "text": [
            "LR: 1.0000e-01, Train Loss: 0.6859, Train Acc: 0.7639, Train Latency: 32.26s, Memory Usage: 19750.0KB\n",
            "Test Loss: 1.0463, Test Acc: 0.6471, Test Latency: 3.10s, Test Memory Usage: 194.0KB\n",
            "\n",
            "Epoch 20\n"
          ]
        },
        {
          "name": "stderr",
          "output_type": "stream",
          "text": [
            "Train: 100%|#######################################################| 391/391 [00:29<00:00, 13.10batch/s]\n"
          ]
        },
        {
          "name": "stdout",
          "output_type": "stream",
          "text": [
            "LR: 1.0000e-01, Train Loss: 0.6860, Train Acc: 0.7662, Train Latency: 29.84s, Memory Usage: 19750.0KB\n",
            "Test Loss: 1.2177, Test Acc: 0.6282, Test Latency: 3.73s, Test Memory Usage: 194.0KB\n",
            "\n",
            "Epoch 21\n"
          ]
        },
        {
          "name": "stderr",
          "output_type": "stream",
          "text": [
            "Train: 100%|#######################################################| 391/391 [00:35<00:00, 11.05batch/s]\n"
          ]
        },
        {
          "name": "stdout",
          "output_type": "stream",
          "text": [
            "LR: 1.0000e-01, Train Loss: 0.6872, Train Acc: 0.7630, Train Latency: 35.38s, Memory Usage: 19750.0KB\n",
            "Test Loss: 1.3085, Test Acc: 0.5815, Test Latency: 3.73s, Test Memory Usage: 194.0KB\n",
            "\n",
            "Epoch 22\n"
          ]
        },
        {
          "name": "stderr",
          "output_type": "stream",
          "text": [
            "Train: 100%|#######################################################| 391/391 [00:35<00:00, 10.98batch/s]\n"
          ]
        },
        {
          "name": "stdout",
          "output_type": "stream",
          "text": [
            "LR: 1.0000e-01, Train Loss: 0.6827, Train Acc: 0.7669, Train Latency: 35.60s, Memory Usage: 19750.0KB\n",
            "Test Loss: 1.2838, Test Acc: 0.6265, Test Latency: 4.23s, Test Memory Usage: 194.0KB\n",
            "\n",
            "Epoch 23\n"
          ]
        },
        {
          "name": "stderr",
          "output_type": "stream",
          "text": [
            "Train: 100%|#######################################################| 391/391 [00:34<00:00, 11.24batch/s]\n"
          ]
        },
        {
          "name": "stdout",
          "output_type": "stream",
          "text": [
            "LR: 1.0000e-01, Train Loss: 0.6869, Train Acc: 0.7644, Train Latency: 34.78s, Memory Usage: 19750.0KB\n",
            "Test Loss: 1.1282, Test Acc: 0.6055, Test Latency: 4.30s, Test Memory Usage: 194.0KB\n",
            "\n",
            "Epoch 24\n"
          ]
        },
        {
          "name": "stderr",
          "output_type": "stream",
          "text": [
            "Train: 100%|#######################################################| 391/391 [00:33<00:00, 11.69batch/s]\n"
          ]
        },
        {
          "name": "stdout",
          "output_type": "stream",
          "text": [
            "LR: 1.0000e-01, Train Loss: 0.6783, Train Acc: 0.7649, Train Latency: 33.44s, Memory Usage: 19750.0KB\n",
            "Test Loss: 0.7690, Test Acc: 0.7381, Test Latency: 4.24s, Test Memory Usage: 194.0KB\n",
            "\n",
            "Epoch 25\n"
          ]
        },
        {
          "name": "stderr",
          "output_type": "stream",
          "text": [
            "Train: 100%|#######################################################| 391/391 [00:33<00:00, 11.54batch/s]\n"
          ]
        },
        {
          "name": "stdout",
          "output_type": "stream",
          "text": [
            "LR: 1.0000e-01, Train Loss: 0.6782, Train Acc: 0.7685, Train Latency: 33.90s, Memory Usage: 19750.0KB\n",
            "Test Loss: 1.1428, Test Acc: 0.6475, Test Latency: 3.11s, Test Memory Usage: 194.0KB\n",
            "\n",
            "Epoch 26\n"
          ]
        },
        {
          "name": "stderr",
          "output_type": "stream",
          "text": [
            "Train: 100%|#######################################################| 391/391 [00:25<00:00, 15.37batch/s]\n"
          ]
        },
        {
          "name": "stdout",
          "output_type": "stream",
          "text": [
            "LR: 1.0000e-01, Train Loss: 0.6792, Train Acc: 0.7670, Train Latency: 25.45s, Memory Usage: 19750.0KB\n",
            "Test Loss: 1.7645, Test Acc: 0.5303, Test Latency: 3.12s, Test Memory Usage: 194.0KB\n",
            "\n",
            "Epoch 27\n"
          ]
        },
        {
          "name": "stderr",
          "output_type": "stream",
          "text": [
            "Train: 100%|#######################################################| 391/391 [00:32<00:00, 12.20batch/s]\n"
          ]
        },
        {
          "name": "stdout",
          "output_type": "stream",
          "text": [
            "LR: 1.0000e-01, Train Loss: 0.6778, Train Acc: 0.7678, Train Latency: 32.05s, Memory Usage: 19750.0KB\n",
            "Test Loss: 1.3192, Test Acc: 0.6083, Test Latency: 4.15s, Test Memory Usage: 194.0KB\n",
            "\n",
            "Epoch 28\n"
          ]
        },
        {
          "name": "stderr",
          "output_type": "stream",
          "text": [
            "Train: 100%|#######################################################| 391/391 [00:30<00:00, 12.74batch/s]\n"
          ]
        },
        {
          "name": "stdout",
          "output_type": "stream",
          "text": [
            "LR: 1.0000e-01, Train Loss: 0.6717, Train Acc: 0.7684, Train Latency: 30.70s, Memory Usage: 19750.0KB\n",
            "Test Loss: 0.8418, Test Acc: 0.7311, Test Latency: 3.71s, Test Memory Usage: 194.0KB\n",
            "\n",
            "Epoch 29\n"
          ]
        },
        {
          "name": "stderr",
          "output_type": "stream",
          "text": [
            "Train: 100%|#######################################################| 391/391 [00:33<00:00, 11.64batch/s]\n"
          ]
        },
        {
          "name": "stdout",
          "output_type": "stream",
          "text": [
            "LR: 1.0000e-01, Train Loss: 0.6796, Train Acc: 0.7673, Train Latency: 33.59s, Memory Usage: 19750.0KB\n",
            "Test Loss: 0.9309, Test Acc: 0.6825, Test Latency: 4.19s, Test Memory Usage: 194.0KB\n",
            "\n",
            "Epoch 30\n"
          ]
        },
        {
          "name": "stderr",
          "output_type": "stream",
          "text": [
            "Train: 100%|#######################################################| 391/391 [00:24<00:00, 15.67batch/s]\n"
          ]
        },
        {
          "name": "stdout",
          "output_type": "stream",
          "text": [
            "LR: 1.0000e-01, Train Loss: 0.6712, Train Acc: 0.7708, Train Latency: 24.95s, Memory Usage: 19750.0KB\n",
            "Test Loss: 0.8861, Test Acc: 0.7060, Test Latency: 3.11s, Test Memory Usage: 194.0KB\n",
            "\n",
            "Epoch 31\n"
          ]
        },
        {
          "name": "stderr",
          "output_type": "stream",
          "text": [
            "Train: 100%|#######################################################| 391/391 [00:33<00:00, 11.55batch/s]\n"
          ]
        },
        {
          "name": "stdout",
          "output_type": "stream",
          "text": [
            "LR: 1.0000e-01, Train Loss: 0.6714, Train Acc: 0.7678, Train Latency: 33.86s, Memory Usage: 19750.0KB\n",
            "Test Loss: 0.7334, Test Acc: 0.7523, Test Latency: 3.70s, Test Memory Usage: 194.0KB\n",
            "\n",
            "Epoch 32\n"
          ]
        },
        {
          "name": "stderr",
          "output_type": "stream",
          "text": [
            "Train: 100%|#######################################################| 391/391 [00:34<00:00, 11.47batch/s]\n"
          ]
        },
        {
          "name": "stdout",
          "output_type": "stream",
          "text": [
            "LR: 1.0000e-01, Train Loss: 0.6741, Train Acc: 0.7666, Train Latency: 34.09s, Memory Usage: 19750.0KB\n",
            "Test Loss: 1.7557, Test Acc: 0.5260, Test Latency: 4.31s, Test Memory Usage: 194.0KB\n",
            "\n",
            "Epoch 33\n"
          ]
        },
        {
          "name": "stderr",
          "output_type": "stream",
          "text": [
            "Train: 100%|#######################################################| 391/391 [00:26<00:00, 14.78batch/s]\n"
          ]
        },
        {
          "name": "stdout",
          "output_type": "stream",
          "text": [
            "LR: 1.0000e-01, Train Loss: 0.6675, Train Acc: 0.7719, Train Latency: 26.45s, Memory Usage: 19750.0KB\n",
            "Test Loss: 0.8748, Test Acc: 0.7091, Test Latency: 3.13s, Test Memory Usage: 194.0KB\n",
            "\n",
            "Epoch 34\n"
          ]
        },
        {
          "name": "stderr",
          "output_type": "stream",
          "text": [
            "Train: 100%|#######################################################| 391/391 [00:35<00:00, 11.13batch/s]\n"
          ]
        },
        {
          "name": "stdout",
          "output_type": "stream",
          "text": [
            "LR: 1.0000e-01, Train Loss: 0.6758, Train Acc: 0.7661, Train Latency: 35.12s, Memory Usage: 19750.0KB\n",
            "Test Loss: 0.8278, Test Acc: 0.7143, Test Latency: 4.19s, Test Memory Usage: 194.0KB\n",
            "\n",
            "Epoch 35\n"
          ]
        },
        {
          "name": "stderr",
          "output_type": "stream",
          "text": [
            "Train: 100%|#######################################################| 391/391 [00:34<00:00, 11.25batch/s]\n"
          ]
        },
        {
          "name": "stdout",
          "output_type": "stream",
          "text": [
            "LR: 1.0000e-01, Train Loss: 0.6623, Train Acc: 0.7711, Train Latency: 34.76s, Memory Usage: 19750.0KB\n",
            "Test Loss: 1.5194, Test Acc: 0.5761, Test Latency: 4.22s, Test Memory Usage: 194.0KB\n",
            "\n",
            "Epoch 36\n"
          ]
        },
        {
          "name": "stderr",
          "output_type": "stream",
          "text": [
            "Train: 100%|#######################################################| 391/391 [00:31<00:00, 12.48batch/s]\n"
          ]
        },
        {
          "name": "stdout",
          "output_type": "stream",
          "text": [
            "LR: 1.0000e-01, Train Loss: 0.6699, Train Acc: 0.7696, Train Latency: 31.33s, Memory Usage: 19750.0KB\n",
            "Test Loss: 1.2353, Test Acc: 0.5998, Test Latency: 4.22s, Test Memory Usage: 194.0KB\n",
            "\n",
            "Epoch 37\n"
          ]
        },
        {
          "name": "stderr",
          "output_type": "stream",
          "text": [
            "Train: 100%|#######################################################| 391/391 [00:33<00:00, 11.57batch/s]\n"
          ]
        },
        {
          "name": "stdout",
          "output_type": "stream",
          "text": [
            "LR: 1.0000e-01, Train Loss: 0.6678, Train Acc: 0.7705, Train Latency: 33.80s, Memory Usage: 19750.0KB\n",
            "Test Loss: 1.5165, Test Acc: 0.5057, Test Latency: 4.24s, Test Memory Usage: 194.0KB\n",
            "\n",
            "Epoch 38\n"
          ]
        },
        {
          "name": "stderr",
          "output_type": "stream",
          "text": [
            "Train: 100%|#######################################################| 391/391 [00:24<00:00, 15.77batch/s]\n"
          ]
        },
        {
          "name": "stdout",
          "output_type": "stream",
          "text": [
            "LR: 1.0000e-01, Train Loss: 0.6699, Train Acc: 0.7694, Train Latency: 24.80s, Memory Usage: 19750.0KB\n",
            "Test Loss: 0.7450, Test Acc: 0.7441, Test Latency: 3.12s, Test Memory Usage: 194.0KB\n",
            "\n",
            "Epoch 39\n"
          ]
        },
        {
          "name": "stderr",
          "output_type": "stream",
          "text": [
            "Train: 100%|#######################################################| 391/391 [00:34<00:00, 11.45batch/s]\n"
          ]
        },
        {
          "name": "stdout",
          "output_type": "stream",
          "text": [
            "LR: 1.0000e-01, Train Loss: 0.6690, Train Acc: 0.7702, Train Latency: 34.14s, Memory Usage: 19750.0KB\n",
            "Test Loss: 1.5716, Test Acc: 0.5396, Test Latency: 3.78s, Test Memory Usage: 194.0KB\n",
            "\n",
            "Epoch 40\n"
          ]
        },
        {
          "name": "stderr",
          "output_type": "stream",
          "text": [
            "Train: 100%|#######################################################| 391/391 [00:31<00:00, 12.37batch/s]\n"
          ]
        },
        {
          "name": "stdout",
          "output_type": "stream",
          "text": [
            "LR: 1.0000e-01, Train Loss: 0.6691, Train Acc: 0.7705, Train Latency: 31.61s, Memory Usage: 19750.0KB\n",
            "Test Loss: 0.8470, Test Acc: 0.7133, Test Latency: 4.06s, Test Memory Usage: 194.0KB\n",
            "\n",
            "Epoch 41\n"
          ]
        },
        {
          "name": "stderr",
          "output_type": "stream",
          "text": [
            "Train: 100%|#######################################################| 391/391 [00:32<00:00, 11.99batch/s]\n"
          ]
        },
        {
          "name": "stdout",
          "output_type": "stream",
          "text": [
            "LR: 1.0000e-01, Train Loss: 0.6679, Train Acc: 0.7716, Train Latency: 32.61s, Memory Usage: 19750.0KB\n",
            "Test Loss: 0.9448, Test Acc: 0.7113, Test Latency: 3.79s, Test Memory Usage: 194.0KB\n",
            "\n",
            "Epoch 42\n"
          ]
        },
        {
          "name": "stderr",
          "output_type": "stream",
          "text": [
            "Train: 100%|#######################################################| 391/391 [00:31<00:00, 12.40batch/s]\n"
          ]
        },
        {
          "name": "stdout",
          "output_type": "stream",
          "text": [
            "LR: 1.0000e-01, Train Loss: 0.6703, Train Acc: 0.7703, Train Latency: 31.53s, Memory Usage: 19750.0KB\n",
            "Test Loss: 1.6323, Test Acc: 0.5234, Test Latency: 3.93s, Test Memory Usage: 194.0KB\n",
            "\n",
            "Epoch 43\n"
          ]
        },
        {
          "name": "stderr",
          "output_type": "stream",
          "text": [
            "Train: 100%|#######################################################| 391/391 [00:33<00:00, 11.59batch/s]\n"
          ]
        },
        {
          "name": "stdout",
          "output_type": "stream",
          "text": [
            "LR: 1.0000e-01, Train Loss: 0.6651, Train Acc: 0.7719, Train Latency: 33.73s, Memory Usage: 19750.0KB\n",
            "Test Loss: 1.3109, Test Acc: 0.6027, Test Latency: 4.23s, Test Memory Usage: 194.0KB\n",
            "\n",
            "Epoch 44\n"
          ]
        },
        {
          "name": "stderr",
          "output_type": "stream",
          "text": [
            "Train: 100%|#######################################################| 391/391 [00:27<00:00, 14.43batch/s]\n"
          ]
        },
        {
          "name": "stdout",
          "output_type": "stream",
          "text": [
            "LR: 1.0000e-01, Train Loss: 0.6705, Train Acc: 0.7699, Train Latency: 27.10s, Memory Usage: 19750.0KB\n",
            "Test Loss: 1.3827, Test Acc: 0.5857, Test Latency: 3.11s, Test Memory Usage: 194.0KB\n",
            "\n",
            "Epoch 45\n"
          ]
        },
        {
          "name": "stderr",
          "output_type": "stream",
          "text": [
            "Train: 100%|#######################################################| 391/391 [00:33<00:00, 11.53batch/s]\n"
          ]
        },
        {
          "name": "stdout",
          "output_type": "stream",
          "text": [
            "LR: 1.0000e-01, Train Loss: 0.6647, Train Acc: 0.7726, Train Latency: 33.92s, Memory Usage: 19750.0KB\n",
            "Test Loss: 2.2018, Test Acc: 0.4273, Test Latency: 4.17s, Test Memory Usage: 194.0KB\n",
            "\n",
            "Epoch 46\n"
          ]
        },
        {
          "name": "stderr",
          "output_type": "stream",
          "text": [
            "Train: 100%|#######################################################| 391/391 [00:33<00:00, 11.83batch/s]\n"
          ]
        },
        {
          "name": "stdout",
          "output_type": "stream",
          "text": [
            "LR: 1.0000e-01, Train Loss: 0.6654, Train Acc: 0.7719, Train Latency: 33.06s, Memory Usage: 19750.0KB\n",
            "Test Loss: 0.8914, Test Acc: 0.6907, Test Latency: 3.87s, Test Memory Usage: 194.0KB\n",
            "\n",
            "Epoch 47\n"
          ]
        },
        {
          "name": "stderr",
          "output_type": "stream",
          "text": [
            "Train: 100%|#######################################################| 391/391 [00:29<00:00, 13.32batch/s]\n"
          ]
        },
        {
          "name": "stdout",
          "output_type": "stream",
          "text": [
            "LR: 1.0000e-01, Train Loss: 0.6617, Train Acc: 0.7719, Train Latency: 29.35s, Memory Usage: 19750.0KB\n",
            "Test Loss: 0.9275, Test Acc: 0.6799, Test Latency: 3.12s, Test Memory Usage: 194.0KB\n",
            "\n",
            "Epoch 48\n"
          ]
        },
        {
          "name": "stderr",
          "output_type": "stream",
          "text": [
            "Train: 100%|#######################################################| 391/391 [00:34<00:00, 11.45batch/s]\n"
          ]
        },
        {
          "name": "stdout",
          "output_type": "stream",
          "text": [
            "LR: 1.0000e-01, Train Loss: 0.6600, Train Acc: 0.7727, Train Latency: 34.16s, Memory Usage: 19750.0KB\n",
            "Test Loss: 1.2840, Test Acc: 0.6097, Test Latency: 4.12s, Test Memory Usage: 194.0KB\n",
            "\n",
            "Epoch 49\n"
          ]
        },
        {
          "name": "stderr",
          "output_type": "stream",
          "text": [
            "Train: 100%|#######################################################| 391/391 [00:28<00:00, 13.55batch/s]\n"
          ]
        },
        {
          "name": "stdout",
          "output_type": "stream",
          "text": [
            "LR: 1.0000e-01, Train Loss: 0.6745, Train Acc: 0.7697, Train Latency: 28.87s, Memory Usage: 19750.0KB\n",
            "Test Loss: 0.8222, Test Acc: 0.7191, Test Latency: 3.13s, Test Memory Usage: 194.0KB\n",
            "\n",
            "Epoch 50\n"
          ]
        },
        {
          "name": "stderr",
          "output_type": "stream",
          "text": [
            "Train: 100%|#######################################################| 391/391 [00:28<00:00, 13.78batch/s]\n"
          ]
        },
        {
          "name": "stdout",
          "output_type": "stream",
          "text": [
            "LR: 1.0000e-01, Train Loss: 0.6601, Train Acc: 0.7725, Train Latency: 28.39s, Memory Usage: 19750.0KB\n",
            "Test Loss: 2.4664, Test Acc: 0.4612, Test Latency: 4.10s, Test Memory Usage: 194.0KB\n",
            "\n",
            "Epoch 51\n"
          ]
        },
        {
          "name": "stderr",
          "output_type": "stream",
          "text": [
            "Train: 100%|#######################################################| 391/391 [00:32<00:00, 12.15batch/s]\n"
          ]
        },
        {
          "name": "stdout",
          "output_type": "stream",
          "text": [
            "LR: 1.0000e-02, Train Loss: 0.4763, Train Acc: 0.8384, Train Latency: 32.17s, Memory Usage: 19750.0KB\n",
            "Test Loss: 0.4589, Test Acc: 0.8437, Test Latency: 4.11s, Test Memory Usage: 194.0KB\n",
            "Saving best model ...\n",
            "\n",
            "Epoch 52\n"
          ]
        },
        {
          "name": "stderr",
          "output_type": "stream",
          "text": [
            "Train: 100%|#######################################################| 391/391 [00:31<00:00, 12.29batch/s]\n"
          ]
        },
        {
          "name": "stdout",
          "output_type": "stream",
          "text": [
            "LR: 1.0000e-02, Train Loss: 0.4247, Train Acc: 0.8552, Train Latency: 31.82s, Memory Usage: 19750.0KB\n",
            "Test Loss: 0.4681, Test Acc: 0.8379, Test Latency: 4.22s, Test Memory Usage: 194.0KB\n",
            "\n",
            "Epoch 53\n"
          ]
        },
        {
          "name": "stderr",
          "output_type": "stream",
          "text": [
            "Train: 100%|#######################################################| 391/391 [00:36<00:00, 10.75batch/s]\n"
          ]
        },
        {
          "name": "stdout",
          "output_type": "stream",
          "text": [
            "LR: 1.0000e-02, Train Loss: 0.4064, Train Acc: 0.8597, Train Latency: 36.37s, Memory Usage: 19750.0KB\n",
            "Test Loss: 0.4652, Test Acc: 0.8389, Test Latency: 4.23s, Test Memory Usage: 194.0KB\n",
            "\n",
            "Epoch 54\n"
          ]
        },
        {
          "name": "stderr",
          "output_type": "stream",
          "text": [
            "Train: 100%|#######################################################| 391/391 [00:36<00:00, 10.71batch/s]\n"
          ]
        },
        {
          "name": "stdout",
          "output_type": "stream",
          "text": [
            "LR: 1.0000e-02, Train Loss: 0.4032, Train Acc: 0.8606, Train Latency: 36.50s, Memory Usage: 19750.0KB\n",
            "Test Loss: 0.5109, Test Acc: 0.8248, Test Latency: 4.21s, Test Memory Usage: 194.0KB\n",
            "\n",
            "Epoch 55\n"
          ]
        },
        {
          "name": "stderr",
          "output_type": "stream",
          "text": [
            "Train: 100%|#######################################################| 391/391 [00:30<00:00, 12.94batch/s]\n"
          ]
        },
        {
          "name": "stdout",
          "output_type": "stream",
          "text": [
            "LR: 1.0000e-02, Train Loss: 0.3953, Train Acc: 0.8661, Train Latency: 30.21s, Memory Usage: 19750.0KB\n",
            "Test Loss: 0.4723, Test Acc: 0.8346, Test Latency: 3.73s, Test Memory Usage: 194.0KB\n",
            "\n",
            "Epoch 56\n"
          ]
        },
        {
          "name": "stderr",
          "output_type": "stream",
          "text": [
            "Train: 100%|#######################################################| 391/391 [00:30<00:00, 12.81batch/s]\n"
          ]
        },
        {
          "name": "stdout",
          "output_type": "stream",
          "text": [
            "LR: 1.0000e-02, Train Loss: 0.3934, Train Acc: 0.8657, Train Latency: 30.52s, Memory Usage: 19750.0KB\n",
            "Test Loss: 0.4588, Test Acc: 0.8448, Test Latency: 4.23s, Test Memory Usage: 194.0KB\n",
            "Saving best model ...\n",
            "\n",
            "Epoch 57\n"
          ]
        },
        {
          "name": "stderr",
          "output_type": "stream",
          "text": [
            "Train: 100%|#######################################################| 391/391 [00:35<00:00, 11.10batch/s]\n"
          ]
        },
        {
          "name": "stdout",
          "output_type": "stream",
          "text": [
            "LR: 1.0000e-02, Train Loss: 0.3950, Train Acc: 0.8632, Train Latency: 35.23s, Memory Usage: 19750.0KB\n",
            "Test Loss: 0.4753, Test Acc: 0.8398, Test Latency: 3.12s, Test Memory Usage: 194.0KB\n",
            "\n",
            "Epoch 58\n"
          ]
        },
        {
          "name": "stderr",
          "output_type": "stream",
          "text": [
            "Train: 100%|#######################################################| 391/391 [00:35<00:00, 10.89batch/s]\n"
          ]
        },
        {
          "name": "stdout",
          "output_type": "stream",
          "text": [
            "LR: 1.0000e-02, Train Loss: 0.3924, Train Acc: 0.8657, Train Latency: 35.89s, Memory Usage: 19750.0KB\n",
            "Test Loss: 0.4316, Test Acc: 0.8528, Test Latency: 4.00s, Test Memory Usage: 194.0KB\n",
            "Saving best model ...\n",
            "\n",
            "Epoch 59\n"
          ]
        },
        {
          "name": "stderr",
          "output_type": "stream",
          "text": [
            "Train: 100%|#######################################################| 391/391 [00:28<00:00, 13.89batch/s]\n"
          ]
        },
        {
          "name": "stdout",
          "output_type": "stream",
          "text": [
            "LR: 1.0000e-02, Train Loss: 0.3969, Train Acc: 0.8654, Train Latency: 28.15s, Memory Usage: 19750.0KB\n",
            "Test Loss: 0.4497, Test Acc: 0.8497, Test Latency: 3.13s, Test Memory Usage: 194.0KB\n",
            "\n",
            "Epoch 60\n"
          ]
        },
        {
          "name": "stderr",
          "output_type": "stream",
          "text": [
            "Train: 100%|#######################################################| 391/391 [00:26<00:00, 14.94batch/s]\n"
          ]
        },
        {
          "name": "stdout",
          "output_type": "stream",
          "text": [
            "LR: 1.0000e-02, Train Loss: 0.3956, Train Acc: 0.8628, Train Latency: 26.17s, Memory Usage: 19750.0KB\n",
            "Test Loss: 0.5165, Test Acc: 0.8281, Test Latency: 3.10s, Test Memory Usage: 194.0KB\n",
            "\n",
            "Epoch 61\n"
          ]
        },
        {
          "name": "stderr",
          "output_type": "stream",
          "text": [
            "Train: 100%|#######################################################| 391/391 [00:32<00:00, 12.10batch/s]\n"
          ]
        },
        {
          "name": "stdout",
          "output_type": "stream",
          "text": [
            "LR: 1.0000e-02, Train Loss: 0.3931, Train Acc: 0.8651, Train Latency: 32.31s, Memory Usage: 19750.0KB\n",
            "Test Loss: 0.4673, Test Acc: 0.8419, Test Latency: 3.79s, Test Memory Usage: 194.0KB\n",
            "\n",
            "Epoch 62\n"
          ]
        },
        {
          "name": "stderr",
          "output_type": "stream",
          "text": [
            "Train: 100%|#######################################################| 391/391 [00:34<00:00, 11.21batch/s]\n"
          ]
        },
        {
          "name": "stdout",
          "output_type": "stream",
          "text": [
            "LR: 1.0000e-02, Train Loss: 0.3942, Train Acc: 0.8639, Train Latency: 34.89s, Memory Usage: 19750.0KB\n",
            "Test Loss: 0.4985, Test Acc: 0.8321, Test Latency: 3.65s, Test Memory Usage: 194.0KB\n",
            "\n",
            "Epoch 63\n"
          ]
        },
        {
          "name": "stderr",
          "output_type": "stream",
          "text": [
            "Train: 100%|#######################################################| 391/391 [00:27<00:00, 14.13batch/s]\n"
          ]
        },
        {
          "name": "stdout",
          "output_type": "stream",
          "text": [
            "LR: 1.0000e-02, Train Loss: 0.3912, Train Acc: 0.8659, Train Latency: 27.68s, Memory Usage: 19750.0KB\n",
            "Test Loss: 0.5686, Test Acc: 0.8097, Test Latency: 3.11s, Test Memory Usage: 194.0KB\n",
            "\n",
            "Epoch 64\n"
          ]
        },
        {
          "name": "stderr",
          "output_type": "stream",
          "text": [
            "Train: 100%|#######################################################| 391/391 [00:33<00:00, 11.57batch/s]\n"
          ]
        },
        {
          "name": "stdout",
          "output_type": "stream",
          "text": [
            "LR: 1.0000e-02, Train Loss: 0.3890, Train Acc: 0.8667, Train Latency: 33.81s, Memory Usage: 19750.0KB\n",
            "Test Loss: 0.4961, Test Acc: 0.8310, Test Latency: 3.99s, Test Memory Usage: 194.0KB\n",
            "\n",
            "Epoch 65\n"
          ]
        },
        {
          "name": "stderr",
          "output_type": "stream",
          "text": [
            "Train: 100%|#######################################################| 391/391 [00:33<00:00, 11.65batch/s]\n"
          ]
        },
        {
          "name": "stdout",
          "output_type": "stream",
          "text": [
            "LR: 1.0000e-02, Train Loss: 0.3888, Train Acc: 0.8678, Train Latency: 33.56s, Memory Usage: 19750.0KB\n",
            "Test Loss: 0.5360, Test Acc: 0.8219, Test Latency: 4.26s, Test Memory Usage: 194.0KB\n",
            "\n",
            "Epoch 66\n"
          ]
        },
        {
          "name": "stderr",
          "output_type": "stream",
          "text": [
            "Train: 100%|#######################################################| 391/391 [00:31<00:00, 12.42batch/s]\n"
          ]
        },
        {
          "name": "stdout",
          "output_type": "stream",
          "text": [
            "LR: 1.0000e-02, Train Loss: 0.3847, Train Acc: 0.8669, Train Latency: 31.49s, Memory Usage: 19750.0KB\n",
            "Test Loss: 0.4965, Test Acc: 0.8309, Test Latency: 3.71s, Test Memory Usage: 194.0KB\n",
            "\n",
            "Epoch 67\n"
          ]
        },
        {
          "name": "stderr",
          "output_type": "stream",
          "text": [
            "Train: 100%|#######################################################| 391/391 [00:33<00:00, 11.76batch/s]\n"
          ]
        },
        {
          "name": "stdout",
          "output_type": "stream",
          "text": [
            "LR: 1.0000e-02, Train Loss: 0.3868, Train Acc: 0.8674, Train Latency: 33.26s, Memory Usage: 19750.0KB\n",
            "Test Loss: 0.6014, Test Acc: 0.7978, Test Latency: 3.12s, Test Memory Usage: 194.0KB\n",
            "\n",
            "Epoch 68\n"
          ]
        },
        {
          "name": "stderr",
          "output_type": "stream",
          "text": [
            "Train: 100%|##########################| 391/391 [00:28<00:00, 13.94batch/s]                             \n"
          ]
        },
        {
          "name": "stdout",
          "output_type": "stream",
          "text": [
            "LR: 1.0000e-02, Train Loss: 0.3847, Train Acc: 0.8693, Train Latency: 28.05s, Memory Usage: 19750.0KB\n",
            "Test Loss: 0.5456, Test Acc: 0.8190, Test Latency: 3.13s, Test Memory Usage: 194.0KB\n",
            "\n",
            "Epoch 69\n"
          ]
        },
        {
          "name": "stderr",
          "output_type": "stream",
          "text": [
            "Train: 100%|##########################| 391/391 [00:24<00:00, 15.70batch/s]\n"
          ]
        },
        {
          "name": "stdout",
          "output_type": "stream",
          "text": [
            "LR: 1.0000e-02, Train Loss: 0.3817, Train Acc: 0.8694, Train Latency: 24.91s, Memory Usage: 19750.0KB\n",
            "Test Loss: 0.5743, Test Acc: 0.8106, Test Latency: 3.10s, Test Memory Usage: 194.0KB\n",
            "\n",
            "Epoch 70\n"
          ]
        },
        {
          "name": "stderr",
          "output_type": "stream",
          "text": [
            "Train: 100%|##########################| 391/391 [00:30<00:00, 12.97batch/s]\n"
          ]
        },
        {
          "name": "stdout",
          "output_type": "stream",
          "text": [
            "LR: 1.0000e-02, Train Loss: 0.3787, Train Acc: 0.8691, Train Latency: 30.14s, Memory Usage: 19750.0KB\n",
            "Test Loss: 0.4462, Test Acc: 0.8455, Test Latency: 4.21s, Test Memory Usage: 194.0KB\n",
            "\n",
            "Epoch 71\n"
          ]
        },
        {
          "name": "stderr",
          "output_type": "stream",
          "text": [
            "Train: 100%|##########################| 391/391 [00:34<00:00, 11.21batch/s]\n"
          ]
        },
        {
          "name": "stdout",
          "output_type": "stream",
          "text": [
            "LR: 1.0000e-02, Train Loss: 0.3813, Train Acc: 0.8684, Train Latency: 34.87s, Memory Usage: 19750.0KB\n",
            "Test Loss: 0.5331, Test Acc: 0.8193, Test Latency: 4.21s, Test Memory Usage: 194.0KB\n",
            "\n",
            "Epoch 72\n"
          ]
        },
        {
          "name": "stderr",
          "output_type": "stream",
          "text": [
            "Train: 100%|##########################| 391/391 [00:36<00:00, 10.77batch/s]\n"
          ]
        },
        {
          "name": "stdout",
          "output_type": "stream",
          "text": [
            "LR: 1.0000e-02, Train Loss: 0.3851, Train Acc: 0.8682, Train Latency: 36.32s, Memory Usage: 19750.0KB\n",
            "Test Loss: 0.5771, Test Acc: 0.8148, Test Latency: 4.23s, Test Memory Usage: 194.0KB\n",
            "\n",
            "Epoch 73\n"
          ]
        },
        {
          "name": "stderr",
          "output_type": "stream",
          "text": [
            "Train: 100%|##########################| 391/391 [00:34<00:00, 11.39batch/s]\n"
          ]
        },
        {
          "name": "stdout",
          "output_type": "stream",
          "text": [
            "LR: 1.0000e-02, Train Loss: 0.3795, Train Acc: 0.8712, Train Latency: 34.33s, Memory Usage: 19750.0KB\n",
            "Test Loss: 0.4866, Test Acc: 0.8333, Test Latency: 4.23s, Test Memory Usage: 194.0KB\n",
            "\n",
            "Epoch 74\n"
          ]
        },
        {
          "name": "stderr",
          "output_type": "stream",
          "text": [
            "Train: 100%|##########################| 391/391 [00:27<00:00, 14.21batch/s]\n"
          ]
        },
        {
          "name": "stdout",
          "output_type": "stream",
          "text": [
            "LR: 1.0000e-02, Train Loss: 0.3803, Train Acc: 0.8699, Train Latency: 27.52s, Memory Usage: 19750.0KB\n",
            "Test Loss: 0.5113, Test Acc: 0.8291, Test Latency: 3.10s, Test Memory Usage: 194.0KB\n",
            "\n",
            "Epoch 75\n"
          ]
        },
        {
          "name": "stderr",
          "output_type": "stream",
          "text": [
            "Train: 100%|##########################| 391/391 [00:27<00:00, 14.27batch/s]\n"
          ]
        },
        {
          "name": "stdout",
          "output_type": "stream",
          "text": [
            "LR: 1.0000e-02, Train Loss: 0.3806, Train Acc: 0.8677, Train Latency: 27.41s, Memory Usage: 19750.0KB\n",
            "Test Loss: 0.5859, Test Acc: 0.8025, Test Latency: 3.69s, Test Memory Usage: 194.0KB\n",
            "\n",
            "Epoch 76\n"
          ]
        },
        {
          "name": "stderr",
          "output_type": "stream",
          "text": [
            "Train: 100%|##########################| 391/391 [00:35<00:00, 11.01batch/s]\n"
          ]
        },
        {
          "name": "stdout",
          "output_type": "stream",
          "text": [
            "LR: 1.0000e-02, Train Loss: 0.3781, Train Acc: 0.8697, Train Latency: 35.53s, Memory Usage: 19750.0KB\n",
            "Test Loss: 0.5097, Test Acc: 0.8311, Test Latency: 3.98s, Test Memory Usage: 194.0KB\n",
            "\n",
            "Epoch 77\n"
          ]
        },
        {
          "name": "stderr",
          "output_type": "stream",
          "text": [
            "Train: 100%|##########################| 391/391 [00:35<00:00, 11.01batch/s]\n"
          ]
        },
        {
          "name": "stdout",
          "output_type": "stream",
          "text": [
            "LR: 1.0000e-02, Train Loss: 0.3767, Train Acc: 0.8707, Train Latency: 35.51s, Memory Usage: 19750.0KB\n",
            "Test Loss: 0.5036, Test Acc: 0.8316, Test Latency: 4.29s, Test Memory Usage: 194.0KB\n",
            "\n",
            "Epoch 78\n"
          ]
        },
        {
          "name": "stderr",
          "output_type": "stream",
          "text": [
            "Train: 100%|##########################| 391/391 [00:34<00:00, 11.43batch/s]\n"
          ]
        },
        {
          "name": "stdout",
          "output_type": "stream",
          "text": [
            "LR: 1.0000e-02, Train Loss: 0.3790, Train Acc: 0.8702, Train Latency: 34.21s, Memory Usage: 19750.0KB\n",
            "Test Loss: 0.5009, Test Acc: 0.8331, Test Latency: 4.23s, Test Memory Usage: 194.0KB\n",
            "\n",
            "Epoch 79\n"
          ]
        },
        {
          "name": "stderr",
          "output_type": "stream",
          "text": [
            "Train: 100%|##########################| 391/391 [00:36<00:00, 10.82batch/s]\n"
          ]
        },
        {
          "name": "stdout",
          "output_type": "stream",
          "text": [
            "LR: 1.0000e-02, Train Loss: 0.3810, Train Acc: 0.8692, Train Latency: 36.15s, Memory Usage: 19750.0KB\n",
            "Test Loss: 0.5239, Test Acc: 0.8240, Test Latency: 3.77s, Test Memory Usage: 194.0KB\n",
            "\n",
            "Epoch 80\n"
          ]
        },
        {
          "name": "stderr",
          "output_type": "stream",
          "text": [
            "Train: 100%|##########################| 391/391 [00:29<00:00, 13.03batch/s]\n"
          ]
        },
        {
          "name": "stdout",
          "output_type": "stream",
          "text": [
            "LR: 1.0000e-02, Train Loss: 0.3738, Train Acc: 0.8732, Train Latency: 30.00s, Memory Usage: 19750.0KB\n",
            "Test Loss: 0.5499, Test Acc: 0.8186, Test Latency: 3.12s, Test Memory Usage: 194.0KB\n",
            "\n",
            "Epoch 81\n"
          ]
        },
        {
          "name": "stderr",
          "output_type": "stream",
          "text": [
            "Train: 100%|##########################| 391/391 [00:33<00:00, 11.66batch/s]\n"
          ]
        },
        {
          "name": "stdout",
          "output_type": "stream",
          "text": [
            "LR: 1.0000e-02, Train Loss: 0.3786, Train Acc: 0.8718, Train Latency: 33.53s, Memory Usage: 19750.0KB\n",
            "Test Loss: 0.5285, Test Acc: 0.8262, Test Latency: 4.19s, Test Memory Usage: 194.0KB\n",
            "\n",
            "Epoch 82\n"
          ]
        },
        {
          "name": "stderr",
          "output_type": "stream",
          "text": [
            "Train: 100%|##########################| 391/391 [00:36<00:00, 10.79batch/s]\n"
          ]
        },
        {
          "name": "stdout",
          "output_type": "stream",
          "text": [
            "LR: 1.0000e-02, Train Loss: 0.3692, Train Acc: 0.8746, Train Latency: 36.22s, Memory Usage: 19750.0KB\n",
            "Test Loss: 0.4727, Test Acc: 0.8429, Test Latency: 3.69s, Test Memory Usage: 194.0KB\n",
            "\n",
            "Epoch 83\n"
          ]
        },
        {
          "name": "stderr",
          "output_type": "stream",
          "text": [
            "Train: 100%|##########################| 391/391 [00:26<00:00, 14.64batch/s]\n"
          ]
        },
        {
          "name": "stdout",
          "output_type": "stream",
          "text": [
            "LR: 1.0000e-02, Train Loss: 0.3765, Train Acc: 0.8709, Train Latency: 26.70s, Memory Usage: 19750.0KB\n",
            "Test Loss: 0.5247, Test Acc: 0.8245, Test Latency: 3.12s, Test Memory Usage: 194.0KB\n",
            "\n",
            "Epoch 84\n"
          ]
        },
        {
          "name": "stderr",
          "output_type": "stream",
          "text": [
            "Train: 100%|##########################| 391/391 [00:28<00:00, 13.88batch/s]\n"
          ]
        },
        {
          "name": "stdout",
          "output_type": "stream",
          "text": [
            "LR: 1.0000e-02, Train Loss: 0.3691, Train Acc: 0.8732, Train Latency: 28.17s, Memory Usage: 19750.0KB\n",
            "Test Loss: 0.4971, Test Acc: 0.8337, Test Latency: 3.13s, Test Memory Usage: 194.0KB\n",
            "\n",
            "Epoch 85\n"
          ]
        },
        {
          "name": "stderr",
          "output_type": "stream",
          "text": [
            "Train: 100%|##########################| 391/391 [00:35<00:00, 11.16batch/s]\n"
          ]
        },
        {
          "name": "stdout",
          "output_type": "stream",
          "text": [
            "LR: 1.0000e-02, Train Loss: 0.3756, Train Acc: 0.8709, Train Latency: 35.03s, Memory Usage: 19750.0KB\n",
            "Test Loss: 0.6170, Test Acc: 0.7962, Test Latency: 3.73s, Test Memory Usage: 194.0KB\n",
            "\n",
            "Epoch 86\n"
          ]
        },
        {
          "name": "stderr",
          "output_type": "stream",
          "text": [
            "Train: 100%|##########################| 391/391 [00:31<00:00, 12.49batch/s]\n"
          ]
        },
        {
          "name": "stdout",
          "output_type": "stream",
          "text": [
            "LR: 1.0000e-02, Train Loss: 0.3762, Train Acc: 0.8713, Train Latency: 31.30s, Memory Usage: 19750.0KB\n",
            "Test Loss: 0.4454, Test Acc: 0.8470, Test Latency: 3.10s, Test Memory Usage: 194.0KB\n",
            "\n",
            "Epoch 87\n"
          ]
        },
        {
          "name": "stderr",
          "output_type": "stream",
          "text": [
            "Train: 100%|##########################| 391/391 [00:34<00:00, 11.29batch/s]\n"
          ]
        },
        {
          "name": "stdout",
          "output_type": "stream",
          "text": [
            "LR: 1.0000e-02, Train Loss: 0.3727, Train Acc: 0.8741, Train Latency: 34.63s, Memory Usage: 19750.0KB\n",
            "Test Loss: 0.5411, Test Acc: 0.8212, Test Latency: 4.28s, Test Memory Usage: 194.0KB\n",
            "\n",
            "Epoch 88\n"
          ]
        },
        {
          "name": "stderr",
          "output_type": "stream",
          "text": [
            "Train: 100%|##########################| 391/391 [00:30<00:00, 12.86batch/s]\n"
          ]
        },
        {
          "name": "stdout",
          "output_type": "stream",
          "text": [
            "LR: 1.0000e-02, Train Loss: 0.3686, Train Acc: 0.8735, Train Latency: 30.40s, Memory Usage: 19750.0KB\n",
            "Test Loss: 0.5418, Test Acc: 0.8173, Test Latency: 3.10s, Test Memory Usage: 194.0KB\n",
            "\n",
            "Epoch 89\n"
          ]
        },
        {
          "name": "stderr",
          "output_type": "stream",
          "text": [
            "Train: 100%|##########################| 391/391 [00:32<00:00, 11.85batch/s]\n"
          ]
        },
        {
          "name": "stdout",
          "output_type": "stream",
          "text": [
            "LR: 1.0000e-02, Train Loss: 0.3731, Train Acc: 0.8718, Train Latency: 32.99s, Memory Usage: 19750.0KB\n",
            "Test Loss: 0.4674, Test Acc: 0.8403, Test Latency: 4.22s, Test Memory Usage: 194.0KB\n",
            "\n",
            "Epoch 90\n"
          ]
        },
        {
          "name": "stderr",
          "output_type": "stream",
          "text": [
            "Train: 100%|##########################| 391/391 [00:29<00:00, 13.39batch/s]\n"
          ]
        },
        {
          "name": "stdout",
          "output_type": "stream",
          "text": [
            "LR: 1.0000e-02, Train Loss: 0.3724, Train Acc: 0.8725, Train Latency: 29.20s, Memory Usage: 19750.0KB\n",
            "Test Loss: 0.5009, Test Acc: 0.8345, Test Latency: 3.12s, Test Memory Usage: 194.0KB\n",
            "\n",
            "Epoch 91\n"
          ]
        },
        {
          "name": "stderr",
          "output_type": "stream",
          "text": [
            "Train: 100%|##########################| 391/391 [00:35<00:00, 10.92batch/s]\n"
          ]
        },
        {
          "name": "stdout",
          "output_type": "stream",
          "text": [
            "LR: 1.0000e-02, Train Loss: 0.3668, Train Acc: 0.8742, Train Latency: 35.80s, Memory Usage: 19750.0KB\n",
            "Test Loss: 0.6260, Test Acc: 0.7953, Test Latency: 4.24s, Test Memory Usage: 194.0KB\n",
            "\n",
            "Epoch 92\n"
          ]
        },
        {
          "name": "stderr",
          "output_type": "stream",
          "text": [
            "Train: 100%|##########################| 391/391 [00:36<00:00, 10.80batch/s]\n"
          ]
        },
        {
          "name": "stdout",
          "output_type": "stream",
          "text": [
            "LR: 1.0000e-02, Train Loss: 0.3703, Train Acc: 0.8728, Train Latency: 36.22s, Memory Usage: 19750.0KB\n",
            "Test Loss: 0.5389, Test Acc: 0.8200, Test Latency: 3.76s, Test Memory Usage: 194.0KB\n",
            "\n",
            "Epoch 93\n"
          ]
        },
        {
          "name": "stderr",
          "output_type": "stream",
          "text": [
            "Train: 100%|##########################| 391/391 [00:33<00:00, 11.72batch/s]\n"
          ]
        },
        {
          "name": "stdout",
          "output_type": "stream",
          "text": [
            "LR: 1.0000e-02, Train Loss: 0.3726, Train Acc: 0.8738, Train Latency: 33.37s, Memory Usage: 19750.0KB\n",
            "Test Loss: 0.5048, Test Acc: 0.8308, Test Latency: 3.78s, Test Memory Usage: 194.0KB\n",
            "\n",
            "Epoch 94\n"
          ]
        },
        {
          "name": "stderr",
          "output_type": "stream",
          "text": [
            "Train: 100%|##########################| 391/391 [00:35<00:00, 10.88batch/s]\n"
          ]
        },
        {
          "name": "stdout",
          "output_type": "stream",
          "text": [
            "LR: 1.0000e-02, Train Loss: 0.3706, Train Acc: 0.8725, Train Latency: 35.93s, Memory Usage: 19750.0KB\n",
            "Test Loss: 0.4699, Test Acc: 0.8425, Test Latency: 4.20s, Test Memory Usage: 194.0KB\n",
            "\n",
            "Epoch 95\n"
          ]
        },
        {
          "name": "stderr",
          "output_type": "stream",
          "text": [
            "Train: 100%|##########################| 391/391 [00:35<00:00, 11.07batch/s]\n"
          ]
        },
        {
          "name": "stdout",
          "output_type": "stream",
          "text": [
            "LR: 1.0000e-02, Train Loss: 0.3662, Train Acc: 0.8745, Train Latency: 35.34s, Memory Usage: 19750.0KB\n",
            "Test Loss: 0.6158, Test Acc: 0.8044, Test Latency: 4.22s, Test Memory Usage: 194.0KB\n",
            "\n",
            "Epoch 96\n"
          ]
        },
        {
          "name": "stderr",
          "output_type": "stream",
          "text": [
            "Train: 100%|##########################| 391/391 [00:35<00:00, 10.90batch/s]\n"
          ]
        },
        {
          "name": "stdout",
          "output_type": "stream",
          "text": [
            "LR: 1.0000e-02, Train Loss: 0.3614, Train Acc: 0.8741, Train Latency: 35.89s, Memory Usage: 19750.0KB\n",
            "Test Loss: 0.5689, Test Acc: 0.8107, Test Latency: 4.11s, Test Memory Usage: 194.0KB\n",
            "\n",
            "Epoch 97\n"
          ]
        },
        {
          "name": "stderr",
          "output_type": "stream",
          "text": [
            "Train: 100%|##########################| 391/391 [00:28<00:00, 13.53batch/s]\n"
          ]
        },
        {
          "name": "stdout",
          "output_type": "stream",
          "text": [
            "LR: 1.0000e-02, Train Loss: 0.3692, Train Acc: 0.8735, Train Latency: 28.89s, Memory Usage: 19750.0KB\n",
            "Test Loss: 0.5450, Test Acc: 0.8179, Test Latency: 3.11s, Test Memory Usage: 194.0KB\n",
            "\n",
            "Epoch 98\n"
          ]
        },
        {
          "name": "stderr",
          "output_type": "stream",
          "text": [
            "Train: 100%|##########################| 391/391 [00:28<00:00, 13.76batch/s]\n"
          ]
        },
        {
          "name": "stdout",
          "output_type": "stream",
          "text": [
            "LR: 1.0000e-02, Train Loss: 0.3658, Train Acc: 0.8741, Train Latency: 28.42s, Memory Usage: 19750.0KB\n",
            "Test Loss: 0.5319, Test Acc: 0.8203, Test Latency: 3.12s, Test Memory Usage: 194.0KB\n",
            "\n",
            "Epoch 99\n"
          ]
        },
        {
          "name": "stderr",
          "output_type": "stream",
          "text": [
            "Train: 100%|##########################| 391/391 [00:34<00:00, 11.26batch/s]\n"
          ]
        },
        {
          "name": "stdout",
          "output_type": "stream",
          "text": [
            "LR: 1.0000e-02, Train Loss: 0.3665, Train Acc: 0.8738, Train Latency: 34.72s, Memory Usage: 19750.0KB\n",
            "Test Loss: 0.6039, Test Acc: 0.8042, Test Latency: 4.19s, Test Memory Usage: 194.0KB\n",
            "\n",
            "Epoch 100\n"
          ]
        },
        {
          "name": "stderr",
          "output_type": "stream",
          "text": [
            "Train: 100%|##########################| 391/391 [00:33<00:00, 11.77batch/s]\n"
          ]
        },
        {
          "name": "stdout",
          "output_type": "stream",
          "text": [
            "LR: 1.0000e-02, Train Loss: 0.3662, Train Acc: 0.8753, Train Latency: 33.23s, Memory Usage: 19750.0KB\n",
            "Test Loss: 0.5921, Test Acc: 0.8120, Test Latency: 3.73s, Test Memory Usage: 194.0KB\n",
            "\n",
            "Epoch 101\n"
          ]
        },
        {
          "name": "stderr",
          "output_type": "stream",
          "text": [
            "Train: 100%|##########################| 391/391 [00:25<00:00, 15.33batch/s]\n"
          ]
        },
        {
          "name": "stdout",
          "output_type": "stream",
          "text": [
            "LR: 1.0000e-03, Train Loss: 0.2837, Train Acc: 0.9042, Train Latency: 25.51s, Memory Usage: 19750.0KB\n",
            "Test Loss: 0.3384, Test Acc: 0.8844, Test Latency: 3.78s, Test Memory Usage: 194.0KB\n",
            "Saving best model ...\n",
            "\n",
            "Epoch 102\n"
          ]
        },
        {
          "name": "stderr",
          "output_type": "stream",
          "text": [
            "Train: 100%|##########################| 391/391 [00:26<00:00, 14.51batch/s]\n"
          ]
        },
        {
          "name": "stdout",
          "output_type": "stream",
          "text": [
            "LR: 1.0000e-03, Train Loss: 0.2554, Train Acc: 0.9141, Train Latency: 26.94s, Memory Usage: 19750.0KB\n",
            "Test Loss: 0.3345, Test Acc: 0.8883, Test Latency: 3.12s, Test Memory Usage: 194.0KB\n",
            "Saving best model ...\n",
            "\n",
            "Epoch 103\n"
          ]
        },
        {
          "name": "stderr",
          "output_type": "stream",
          "text": [
            "Train: 100%|##########################| 391/391 [00:31<00:00, 12.42batch/s]\n"
          ]
        },
        {
          "name": "stdout",
          "output_type": "stream",
          "text": [
            "LR: 1.0000e-03, Train Loss: 0.2457, Train Acc: 0.9182, Train Latency: 31.49s, Memory Usage: 19750.0KB\n",
            "Test Loss: 0.3360, Test Acc: 0.8846, Test Latency: 3.11s, Test Memory Usage: 194.0KB\n",
            "\n",
            "Epoch 104\n"
          ]
        },
        {
          "name": "stderr",
          "output_type": "stream",
          "text": [
            "Train: 100%|##########################| 391/391 [00:23<00:00, 16.43batch/s]\n"
          ]
        },
        {
          "name": "stdout",
          "output_type": "stream",
          "text": [
            "LR: 1.0000e-03, Train Loss: 0.2445, Train Acc: 0.9183, Train Latency: 23.81s, Memory Usage: 19750.0KB\n",
            "Test Loss: 0.3204, Test Acc: 0.8897, Test Latency: 3.76s, Test Memory Usage: 194.0KB\n",
            "Saving best model ...\n",
            "\n",
            "Epoch 105\n"
          ]
        },
        {
          "name": "stderr",
          "output_type": "stream",
          "text": [
            "Train: 100%|##########################| 391/391 [00:29<00:00, 13.05batch/s]\n"
          ]
        },
        {
          "name": "stdout",
          "output_type": "stream",
          "text": [
            "LR: 1.0000e-03, Train Loss: 0.2426, Train Acc: 0.9187, Train Latency: 29.97s, Memory Usage: 19750.0KB\n",
            "Test Loss: 0.3333, Test Acc: 0.8842, Test Latency: 4.23s, Test Memory Usage: 194.0KB\n",
            "\n",
            "Epoch 106\n"
          ]
        },
        {
          "name": "stderr",
          "output_type": "stream",
          "text": [
            "Train: 100%|##########################| 391/391 [00:32<00:00, 11.94batch/s]\n"
          ]
        },
        {
          "name": "stdout",
          "output_type": "stream",
          "text": [
            "LR: 1.0000e-03, Train Loss: 0.2336, Train Acc: 0.9215, Train Latency: 32.74s, Memory Usage: 19750.0KB\n",
            "Test Loss: 0.3254, Test Acc: 0.8914, Test Latency: 4.21s, Test Memory Usage: 194.0KB\n",
            "Saving best model ...\n",
            "\n",
            "Epoch 107\n"
          ]
        },
        {
          "name": "stderr",
          "output_type": "stream",
          "text": [
            "Train: 100%|##########################| 391/391 [00:35<00:00, 10.94batch/s]\n"
          ]
        },
        {
          "name": "stdout",
          "output_type": "stream",
          "text": [
            "LR: 1.0000e-03, Train Loss: 0.2341, Train Acc: 0.9231, Train Latency: 35.75s, Memory Usage: 19750.0KB\n",
            "Test Loss: 0.3265, Test Acc: 0.8914, Test Latency: 4.09s, Test Memory Usage: 194.0KB\n",
            "\n",
            "Epoch 108\n"
          ]
        },
        {
          "name": "stderr",
          "output_type": "stream",
          "text": [
            "Train: 100%|##########################| 391/391 [00:34<00:00, 11.41batch/s]\n"
          ]
        },
        {
          "name": "stdout",
          "output_type": "stream",
          "text": [
            "LR: 1.0000e-03, Train Loss: 0.2321, Train Acc: 0.9228, Train Latency: 34.26s, Memory Usage: 19750.0KB\n",
            "Test Loss: 0.3383, Test Acc: 0.8846, Test Latency: 4.15s, Test Memory Usage: 194.0KB\n",
            "\n",
            "Epoch 109\n"
          ]
        },
        {
          "name": "stderr",
          "output_type": "stream",
          "text": [
            "Train: 100%|##########################| 391/391 [00:29<00:00, 13.15batch/s]\n"
          ]
        },
        {
          "name": "stdout",
          "output_type": "stream",
          "text": [
            "LR: 1.0000e-03, Train Loss: 0.2341, Train Acc: 0.9209, Train Latency: 29.74s, Memory Usage: 19750.0KB\n",
            "Test Loss: 0.3326, Test Acc: 0.8889, Test Latency: 3.11s, Test Memory Usage: 194.0KB\n",
            "\n",
            "Epoch 110\n"
          ]
        },
        {
          "name": "stderr",
          "output_type": "stream",
          "text": [
            "Train: 100%|##########################| 391/391 [00:28<00:00, 13.92batch/s]\n"
          ]
        },
        {
          "name": "stdout",
          "output_type": "stream",
          "text": [
            "LR: 1.0000e-03, Train Loss: 0.2290, Train Acc: 0.9250, Train Latency: 28.10s, Memory Usage: 19750.0KB\n",
            "Test Loss: 0.3321, Test Acc: 0.8857, Test Latency: 3.11s, Test Memory Usage: 194.0KB\n",
            "\n",
            "Epoch 111\n"
          ]
        },
        {
          "name": "stderr",
          "output_type": "stream",
          "text": [
            "Train: 100%|##########################| 391/391 [00:35<00:00, 10.99batch/s]\n"
          ]
        },
        {
          "name": "stdout",
          "output_type": "stream",
          "text": [
            "LR: 1.0000e-03, Train Loss: 0.2307, Train Acc: 0.9226, Train Latency: 35.59s, Memory Usage: 19750.0KB\n",
            "Test Loss: 0.3255, Test Acc: 0.8919, Test Latency: 3.78s, Test Memory Usage: 194.0KB\n",
            "Saving best model ...\n",
            "\n",
            "Epoch 112\n"
          ]
        },
        {
          "name": "stderr",
          "output_type": "stream",
          "text": [
            "Train: 100%|##########################| 391/391 [00:33<00:00, 11.53batch/s]\n"
          ]
        },
        {
          "name": "stdout",
          "output_type": "stream",
          "text": [
            "LR: 1.0000e-03, Train Loss: 0.2288, Train Acc: 0.9224, Train Latency: 33.92s, Memory Usage: 19750.0KB\n",
            "Test Loss: 0.3199, Test Acc: 0.8898, Test Latency: 4.22s, Test Memory Usage: 194.0KB\n",
            "\n",
            "Epoch 113\n"
          ]
        },
        {
          "name": "stderr",
          "output_type": "stream",
          "text": [
            "Train: 100%|##########################| 391/391 [00:36<00:00, 10.84batch/s]\n"
          ]
        },
        {
          "name": "stdout",
          "output_type": "stream",
          "text": [
            "LR: 1.0000e-03, Train Loss: 0.2308, Train Acc: 0.9232, Train Latency: 36.06s, Memory Usage: 19750.0KB\n",
            "Test Loss: 0.3395, Test Acc: 0.8836, Test Latency: 3.78s, Test Memory Usage: 194.0KB\n",
            "\n",
            "Epoch 114\n"
          ]
        },
        {
          "name": "stderr",
          "output_type": "stream",
          "text": [
            "Train: 100%|##########################| 391/391 [00:35<00:00, 10.89batch/s]\n"
          ]
        },
        {
          "name": "stdout",
          "output_type": "stream",
          "text": [
            "LR: 1.0000e-03, Train Loss: 0.2303, Train Acc: 0.9240, Train Latency: 35.89s, Memory Usage: 19750.0KB\n",
            "Test Loss: 0.3448, Test Acc: 0.8843, Test Latency: 4.15s, Test Memory Usage: 194.0KB\n",
            "\n",
            "Epoch 115\n"
          ]
        },
        {
          "name": "stderr",
          "output_type": "stream",
          "text": [
            "Train: 100%|##########################| 391/391 [00:31<00:00, 12.35batch/s]\n"
          ]
        },
        {
          "name": "stdout",
          "output_type": "stream",
          "text": [
            "LR: 1.0000e-03, Train Loss: 0.2236, Train Acc: 0.9251, Train Latency: 31.67s, Memory Usage: 19750.0KB\n",
            "Test Loss: 0.3342, Test Acc: 0.8883, Test Latency: 3.13s, Test Memory Usage: 194.0KB\n",
            "\n",
            "Epoch 116\n"
          ]
        },
        {
          "name": "stderr",
          "output_type": "stream",
          "text": [
            "Train: 100%|##########################| 391/391 [00:33<00:00, 11.61batch/s]\n"
          ]
        },
        {
          "name": "stdout",
          "output_type": "stream",
          "text": [
            "LR: 1.0000e-03, Train Loss: 0.2249, Train Acc: 0.9237, Train Latency: 33.68s, Memory Usage: 19750.0KB\n",
            "Test Loss: 0.3305, Test Acc: 0.8859, Test Latency: 4.21s, Test Memory Usage: 194.0KB\n",
            "\n",
            "Epoch 117\n"
          ]
        },
        {
          "name": "stderr",
          "output_type": "stream",
          "text": [
            "Train: 100%|##########################| 391/391 [00:24<00:00, 15.96batch/s]\n"
          ]
        },
        {
          "name": "stdout",
          "output_type": "stream",
          "text": [
            "LR: 1.0000e-03, Train Loss: 0.2267, Train Acc: 0.9241, Train Latency: 24.50s, Memory Usage: 19750.0KB\n",
            "Test Loss: 0.3428, Test Acc: 0.8850, Test Latency: 3.13s, Test Memory Usage: 194.0KB\n",
            "\n",
            "Epoch 118\n"
          ]
        },
        {
          "name": "stderr",
          "output_type": "stream",
          "text": [
            "Train: 100%|##########################| 391/391 [00:34<00:00, 11.39batch/s]\n"
          ]
        },
        {
          "name": "stdout",
          "output_type": "stream",
          "text": [
            "LR: 1.0000e-03, Train Loss: 0.2254, Train Acc: 0.9239, Train Latency: 34.32s, Memory Usage: 19750.0KB\n",
            "Test Loss: 0.3555, Test Acc: 0.8785, Test Latency: 3.11s, Test Memory Usage: 194.0KB\n",
            "\n",
            "Epoch 119\n"
          ]
        },
        {
          "name": "stderr",
          "output_type": "stream",
          "text": [
            "Train: 100%|##########################| 391/391 [00:29<00:00, 13.37batch/s]\n"
          ]
        },
        {
          "name": "stdout",
          "output_type": "stream",
          "text": [
            "LR: 1.0000e-03, Train Loss: 0.2264, Train Acc: 0.9237, Train Latency: 29.24s, Memory Usage: 19750.0KB\n",
            "Test Loss: 0.3357, Test Acc: 0.8863, Test Latency: 3.11s, Test Memory Usage: 194.0KB\n",
            "\n",
            "Epoch 120\n"
          ]
        },
        {
          "name": "stderr",
          "output_type": "stream",
          "text": [
            "Train: 100%|##########################| 391/391 [00:25<00:00, 15.07batch/s]\n"
          ]
        },
        {
          "name": "stdout",
          "output_type": "stream",
          "text": [
            "LR: 1.0000e-03, Train Loss: 0.2267, Train Acc: 0.9231, Train Latency: 25.94s, Memory Usage: 19750.0KB\n",
            "Test Loss: 0.3343, Test Acc: 0.8834, Test Latency: 3.12s, Test Memory Usage: 194.0KB\n",
            "\n",
            "Epoch 121\n"
          ]
        },
        {
          "name": "stderr",
          "output_type": "stream",
          "text": [
            "Train: 100%|##########################| 391/391 [00:31<00:00, 12.58batch/s]\n"
          ]
        },
        {
          "name": "stdout",
          "output_type": "stream",
          "text": [
            "LR: 1.0000e-03, Train Loss: 0.2265, Train Acc: 0.9231, Train Latency: 31.09s, Memory Usage: 19750.0KB\n",
            "Test Loss: 0.3627, Test Acc: 0.8787, Test Latency: 4.13s, Test Memory Usage: 194.0KB\n",
            "\n",
            "Epoch 122\n"
          ]
        },
        {
          "name": "stderr",
          "output_type": "stream",
          "text": [
            "Train: 100%|##########################| 391/391 [00:34<00:00, 11.39batch/s]\n"
          ]
        },
        {
          "name": "stdout",
          "output_type": "stream",
          "text": [
            "LR: 1.0000e-03, Train Loss: 0.2232, Train Acc: 0.9247, Train Latency: 34.34s, Memory Usage: 19750.0KB\n",
            "Test Loss: 0.3487, Test Acc: 0.8828, Test Latency: 3.60s, Test Memory Usage: 194.0KB\n",
            "\n",
            "Epoch 123\n"
          ]
        },
        {
          "name": "stderr",
          "output_type": "stream",
          "text": [
            "Train: 100%|##########################| 391/391 [00:36<00:00, 10.80batch/s]\n"
          ]
        },
        {
          "name": "stdout",
          "output_type": "stream",
          "text": [
            "LR: 1.0000e-03, Train Loss: 0.2211, Train Acc: 0.9252, Train Latency: 36.21s, Memory Usage: 19750.0KB\n",
            "Test Loss: 0.3491, Test Acc: 0.8852, Test Latency: 4.12s, Test Memory Usage: 194.0KB\n",
            "\n",
            "Epoch 124\n"
          ]
        },
        {
          "name": "stderr",
          "output_type": "stream",
          "text": [
            "Train: 100%|##########################| 391/391 [00:34<00:00, 11.41batch/s]\n"
          ]
        },
        {
          "name": "stdout",
          "output_type": "stream",
          "text": [
            "LR: 1.0000e-03, Train Loss: 0.2252, Train Acc: 0.9238, Train Latency: 34.26s, Memory Usage: 19750.0KB\n",
            "Test Loss: 0.3333, Test Acc: 0.8857, Test Latency: 3.89s, Test Memory Usage: 194.0KB\n",
            "\n",
            "Epoch 125\n"
          ]
        },
        {
          "name": "stderr",
          "output_type": "stream",
          "text": [
            "Train: 100%|##########################| 391/391 [00:31<00:00, 12.35batch/s]\n"
          ]
        },
        {
          "name": "stdout",
          "output_type": "stream",
          "text": [
            "LR: 1.0000e-03, Train Loss: 0.2228, Train Acc: 0.9243, Train Latency: 31.65s, Memory Usage: 19750.0KB\n",
            "Test Loss: 0.3507, Test Acc: 0.8810, Test Latency: 3.12s, Test Memory Usage: 194.0KB\n",
            "\n",
            "Epoch 126\n"
          ]
        },
        {
          "name": "stderr",
          "output_type": "stream",
          "text": [
            "Train: 100%|##########################| 391/391 [00:34<00:00, 11.18batch/s]\n"
          ]
        },
        {
          "name": "stdout",
          "output_type": "stream",
          "text": [
            "LR: 1.0000e-03, Train Loss: 0.2255, Train Acc: 0.9235, Train Latency: 34.98s, Memory Usage: 19750.0KB\n",
            "Test Loss: 0.3797, Test Acc: 0.8761, Test Latency: 4.28s, Test Memory Usage: 194.0KB\n",
            "\n",
            "Epoch 127\n"
          ]
        },
        {
          "name": "stderr",
          "output_type": "stream",
          "text": [
            "Train: 100%|##########################| 391/391 [00:36<00:00, 10.79batch/s]\n"
          ]
        },
        {
          "name": "stdout",
          "output_type": "stream",
          "text": [
            "LR: 1.0000e-03, Train Loss: 0.2233, Train Acc: 0.9250, Train Latency: 36.25s, Memory Usage: 19750.0KB\n",
            "Test Loss: 0.3557, Test Acc: 0.8825, Test Latency: 4.24s, Test Memory Usage: 194.0KB\n",
            "\n",
            "Epoch 128\n"
          ]
        },
        {
          "name": "stderr",
          "output_type": "stream",
          "text": [
            "Train: 100%|##########################| 391/391 [00:28<00:00, 13.96batch/s]\n"
          ]
        },
        {
          "name": "stdout",
          "output_type": "stream",
          "text": [
            "LR: 1.0000e-03, Train Loss: 0.2232, Train Acc: 0.9237, Train Latency: 28.01s, Memory Usage: 19750.0KB\n",
            "Test Loss: 0.3485, Test Acc: 0.8844, Test Latency: 3.81s, Test Memory Usage: 194.0KB\n",
            "\n",
            "Epoch 129\n"
          ]
        },
        {
          "name": "stderr",
          "output_type": "stream",
          "text": [
            "Train: 100%|##########################| 391/391 [00:30<00:00, 12.97batch/s]\n"
          ]
        },
        {
          "name": "stdout",
          "output_type": "stream",
          "text": [
            "LR: 1.0000e-03, Train Loss: 0.2237, Train Acc: 0.9252, Train Latency: 30.15s, Memory Usage: 19750.0KB\n",
            "Test Loss: 0.3952, Test Acc: 0.8708, Test Latency: 4.21s, Test Memory Usage: 194.0KB\n",
            "\n",
            "Epoch 130\n"
          ]
        },
        {
          "name": "stderr",
          "output_type": "stream",
          "text": [
            "Train: 100%|##########################| 391/391 [00:27<00:00, 14.22batch/s]\n"
          ]
        },
        {
          "name": "stdout",
          "output_type": "stream",
          "text": [
            "LR: 1.0000e-03, Train Loss: 0.2275, Train Acc: 0.9244, Train Latency: 27.50s, Memory Usage: 19750.0KB\n",
            "Test Loss: 0.3716, Test Acc: 0.8737, Test Latency: 3.13s, Test Memory Usage: 194.0KB\n",
            "\n",
            "Epoch 131\n"
          ]
        },
        {
          "name": "stderr",
          "output_type": "stream",
          "text": [
            "Train: 100%|##########################| 391/391 [00:25<00:00, 15.56batch/s]\n"
          ]
        },
        {
          "name": "stdout",
          "output_type": "stream",
          "text": [
            "LR: 1.0000e-03, Train Loss: 0.2283, Train Acc: 0.9234, Train Latency: 25.13s, Memory Usage: 19750.0KB\n",
            "Test Loss: 0.3384, Test Acc: 0.8843, Test Latency: 3.11s, Test Memory Usage: 194.0KB\n",
            "\n",
            "Epoch 132\n"
          ]
        },
        {
          "name": "stderr",
          "output_type": "stream",
          "text": [
            "Train: 100%|##########################| 391/391 [00:26<00:00, 14.92batch/s]\n"
          ]
        },
        {
          "name": "stdout",
          "output_type": "stream",
          "text": [
            "LR: 1.0000e-03, Train Loss: 0.2283, Train Acc: 0.9234, Train Latency: 26.21s, Memory Usage: 19750.0KB\n",
            "Test Loss: 0.3523, Test Acc: 0.8822, Test Latency: 3.12s, Test Memory Usage: 194.0KB\n",
            "\n",
            "Epoch 133\n"
          ]
        },
        {
          "name": "stderr",
          "output_type": "stream",
          "text": [
            "Train: 100%|##########################| 391/391 [00:29<00:00, 13.18batch/s]\n"
          ]
        },
        {
          "name": "stdout",
          "output_type": "stream",
          "text": [
            "LR: 1.0000e-03, Train Loss: 0.2270, Train Acc: 0.9231, Train Latency: 29.67s, Memory Usage: 19750.0KB\n",
            "Test Loss: 0.3575, Test Acc: 0.8813, Test Latency: 3.79s, Test Memory Usage: 194.0KB\n",
            "\n",
            "Epoch 134\n"
          ]
        },
        {
          "name": "stderr",
          "output_type": "stream",
          "text": [
            "Train: 100%|##########################| 391/391 [00:27<00:00, 14.18batch/s]\n"
          ]
        },
        {
          "name": "stdout",
          "output_type": "stream",
          "text": [
            "LR: 1.0000e-03, Train Loss: 0.2304, Train Acc: 0.9223, Train Latency: 27.58s, Memory Usage: 19750.0KB\n",
            "Test Loss: 0.3533, Test Acc: 0.8819, Test Latency: 3.78s, Test Memory Usage: 194.0KB\n",
            "\n",
            "Epoch 135\n"
          ]
        },
        {
          "name": "stderr",
          "output_type": "stream",
          "text": [
            "Train: 100%|##########################| 391/391 [00:34<00:00, 11.24batch/s]\n"
          ]
        },
        {
          "name": "stdout",
          "output_type": "stream",
          "text": [
            "LR: 1.0000e-03, Train Loss: 0.2278, Train Acc: 0.9233, Train Latency: 34.79s, Memory Usage: 19750.0KB\n",
            "Test Loss: 0.3484, Test Acc: 0.8848, Test Latency: 3.76s, Test Memory Usage: 194.0KB\n",
            "\n",
            "Epoch 136\n"
          ]
        },
        {
          "name": "stderr",
          "output_type": "stream",
          "text": [
            "Train: 100%|##########################| 391/391 [00:29<00:00, 13.16batch/s]\n"
          ]
        },
        {
          "name": "stdout",
          "output_type": "stream",
          "text": [
            "LR: 1.0000e-03, Train Loss: 0.2264, Train Acc: 0.9233, Train Latency: 29.71s, Memory Usage: 19750.0KB\n",
            "Test Loss: 0.4033, Test Acc: 0.8690, Test Latency: 3.12s, Test Memory Usage: 194.0KB\n",
            "\n",
            "Epoch 137\n"
          ]
        },
        {
          "name": "stderr",
          "output_type": "stream",
          "text": [
            "Train: 100%|##########################| 391/391 [00:30<00:00, 12.64batch/s]\n"
          ]
        },
        {
          "name": "stdout",
          "output_type": "stream",
          "text": [
            "LR: 1.0000e-03, Train Loss: 0.2287, Train Acc: 0.9220, Train Latency: 30.94s, Memory Usage: 19750.0KB\n",
            "Test Loss: 0.3689, Test Acc: 0.8772, Test Latency: 3.11s, Test Memory Usage: 194.0KB\n",
            "\n",
            "Epoch 138\n"
          ]
        },
        {
          "name": "stderr",
          "output_type": "stream",
          "text": [
            "Train: 100%|##########################| 391/391 [00:31<00:00, 12.41batch/s]\n"
          ]
        },
        {
          "name": "stdout",
          "output_type": "stream",
          "text": [
            "LR: 1.0000e-03, Train Loss: 0.2291, Train Acc: 0.9211, Train Latency: 31.51s, Memory Usage: 19750.0KB\n",
            "Test Loss: 0.3473, Test Acc: 0.8802, Test Latency: 4.24s, Test Memory Usage: 194.0KB\n",
            "\n",
            "Epoch 139\n"
          ]
        },
        {
          "name": "stderr",
          "output_type": "stream",
          "text": [
            "Train: 100%|##########################| 391/391 [00:27<00:00, 14.08batch/s]\n"
          ]
        },
        {
          "name": "stdout",
          "output_type": "stream",
          "text": [
            "LR: 1.0000e-03, Train Loss: 0.2283, Train Acc: 0.9223, Train Latency: 27.78s, Memory Usage: 19750.0KB\n",
            "Test Loss: 0.3682, Test Acc: 0.8750, Test Latency: 3.12s, Test Memory Usage: 194.0KB\n",
            "\n",
            "Epoch 140\n"
          ]
        },
        {
          "name": "stderr",
          "output_type": "stream",
          "text": [
            "Train: 100%|##########################| 391/391 [00:32<00:00, 11.89batch/s]\n"
          ]
        },
        {
          "name": "stdout",
          "output_type": "stream",
          "text": [
            "LR: 1.0000e-03, Train Loss: 0.2284, Train Acc: 0.9214, Train Latency: 32.90s, Memory Usage: 19750.0KB\n",
            "Test Loss: 0.3611, Test Acc: 0.8779, Test Latency: 3.76s, Test Memory Usage: 194.0KB\n",
            "\n",
            "Epoch 141\n"
          ]
        },
        {
          "name": "stderr",
          "output_type": "stream",
          "text": [
            "Train: 100%|##########################| 391/391 [00:34<00:00, 11.44batch/s]\n"
          ]
        },
        {
          "name": "stdout",
          "output_type": "stream",
          "text": [
            "LR: 1.0000e-03, Train Loss: 0.2256, Train Acc: 0.9242, Train Latency: 34.18s, Memory Usage: 19750.0KB\n",
            "Test Loss: 0.3788, Test Acc: 0.8735, Test Latency: 4.23s, Test Memory Usage: 194.0KB\n",
            "\n",
            "Epoch 142\n"
          ]
        },
        {
          "name": "stderr",
          "output_type": "stream",
          "text": [
            "Train: 100%|##########################| 391/391 [00:32<00:00, 11.96batch/s]\n"
          ]
        },
        {
          "name": "stdout",
          "output_type": "stream",
          "text": [
            "LR: 1.0000e-03, Train Loss: 0.2285, Train Acc: 0.9221, Train Latency: 32.71s, Memory Usage: 19750.0KB\n",
            "Test Loss: 0.3679, Test Acc: 0.8746, Test Latency: 3.77s, Test Memory Usage: 194.0KB\n",
            "\n",
            "Epoch 143\n"
          ]
        },
        {
          "name": "stderr",
          "output_type": "stream",
          "text": [
            "Train: 100%|##########################| 391/391 [00:34<00:00, 11.48batch/s]\n"
          ]
        },
        {
          "name": "stdout",
          "output_type": "stream",
          "text": [
            "LR: 1.0000e-03, Train Loss: 0.2258, Train Acc: 0.9235, Train Latency: 34.06s, Memory Usage: 19750.0KB\n",
            "Test Loss: 0.3574, Test Acc: 0.8778, Test Latency: 4.23s, Test Memory Usage: 194.0KB\n",
            "\n",
            "Epoch 144\n"
          ]
        },
        {
          "name": "stderr",
          "output_type": "stream",
          "text": [
            "Train: 100%|##########################| 391/391 [00:36<00:00, 10.85batch/s]\n"
          ]
        },
        {
          "name": "stdout",
          "output_type": "stream",
          "text": [
            "LR: 1.0000e-03, Train Loss: 0.2263, Train Acc: 0.9230, Train Latency: 36.03s, Memory Usage: 19750.0KB\n",
            "Test Loss: 0.4090, Test Acc: 0.8676, Test Latency: 3.70s, Test Memory Usage: 194.0KB\n",
            "\n",
            "Epoch 145\n"
          ]
        },
        {
          "name": "stderr",
          "output_type": "stream",
          "text": [
            "Train: 100%|##########################| 391/391 [00:29<00:00, 13.13batch/s]\n"
          ]
        },
        {
          "name": "stdout",
          "output_type": "stream",
          "text": [
            "LR: 1.0000e-03, Train Loss: 0.2280, Train Acc: 0.9238, Train Latency: 29.79s, Memory Usage: 19750.0KB\n",
            "Test Loss: 0.3646, Test Acc: 0.8755, Test Latency: 3.12s, Test Memory Usage: 194.0KB\n",
            "\n",
            "Epoch 146\n"
          ]
        },
        {
          "name": "stderr",
          "output_type": "stream",
          "text": [
            "Train: 100%|##########################| 391/391 [00:29<00:00, 13.14batch/s]\n"
          ]
        },
        {
          "name": "stdout",
          "output_type": "stream",
          "text": [
            "LR: 1.0000e-03, Train Loss: 0.2255, Train Acc: 0.9228, Train Latency: 29.76s, Memory Usage: 19750.0KB\n",
            "Test Loss: 0.3629, Test Acc: 0.8812, Test Latency: 4.12s, Test Memory Usage: 194.0KB\n",
            "\n",
            "Epoch 147\n"
          ]
        },
        {
          "name": "stderr",
          "output_type": "stream",
          "text": [
            "Train: 100%|##########################| 391/391 [00:24<00:00, 15.74batch/s]\n"
          ]
        },
        {
          "name": "stdout",
          "output_type": "stream",
          "text": [
            "LR: 1.0000e-03, Train Loss: 0.2266, Train Acc: 0.9244, Train Latency: 24.85s, Memory Usage: 19750.0KB\n",
            "Test Loss: 0.3774, Test Acc: 0.8723, Test Latency: 3.10s, Test Memory Usage: 194.0KB\n",
            "\n",
            "Epoch 148\n"
          ]
        },
        {
          "name": "stderr",
          "output_type": "stream",
          "text": [
            "Train: 100%|##########################| 391/391 [00:35<00:00, 10.98batch/s]\n"
          ]
        },
        {
          "name": "stdout",
          "output_type": "stream",
          "text": [
            "LR: 1.0000e-03, Train Loss: 0.2292, Train Acc: 0.9217, Train Latency: 35.61s, Memory Usage: 19750.0KB\n",
            "Test Loss: 0.3769, Test Acc: 0.8762, Test Latency: 4.23s, Test Memory Usage: 194.0KB\n",
            "\n",
            "Epoch 149\n"
          ]
        },
        {
          "name": "stderr",
          "output_type": "stream",
          "text": [
            "Train: 100%|##########################| 391/391 [00:27<00:00, 14.14batch/s]\n"
          ]
        },
        {
          "name": "stdout",
          "output_type": "stream",
          "text": [
            "LR: 1.0000e-03, Train Loss: 0.2297, Train Acc: 0.9220, Train Latency: 27.65s, Memory Usage: 19750.0KB\n",
            "Test Loss: 0.3805, Test Acc: 0.8744, Test Latency: 3.12s, Test Memory Usage: 194.0KB\n",
            "\n",
            "Epoch 150\n"
          ]
        },
        {
          "name": "stderr",
          "output_type": "stream",
          "text": [
            "Train: 100%|##########################| 391/391 [00:33<00:00, 11.61batch/s]\n"
          ]
        },
        {
          "name": "stdout",
          "output_type": "stream",
          "text": [
            "LR: 1.0000e-03, Train Loss: 0.2304, Train Acc: 0.9216, Train Latency: 33.69s, Memory Usage: 19750.0KB\n",
            "Test Loss: 0.3612, Test Acc: 0.8782, Test Latency: 4.20s, Test Memory Usage: 194.0KB\n",
            "\n",
            "Epoch 151\n"
          ]
        },
        {
          "name": "stderr",
          "output_type": "stream",
          "text": [
            "Train: 100%|##########################| 391/391 [00:34<00:00, 11.33batch/s]\n"
          ]
        },
        {
          "name": "stdout",
          "output_type": "stream",
          "text": [
            "LR: 1.0000e-04, Train Loss: 0.1953, Train Acc: 0.9348, Train Latency: 34.50s, Memory Usage: 19750.0KB\n",
            "Test Loss: 0.2975, Test Acc: 0.8999, Test Latency: 4.23s, Test Memory Usage: 194.0KB\n",
            "Saving best model ...\n",
            "\n",
            "Epoch 152\n"
          ]
        },
        {
          "name": "stderr",
          "output_type": "stream",
          "text": [
            "Train: 100%|##########################| 391/391 [00:35<00:00, 10.87batch/s]\n"
          ]
        },
        {
          "name": "stdout",
          "output_type": "stream",
          "text": [
            "LR: 1.0000e-04, Train Loss: 0.1832, Train Acc: 0.9396, Train Latency: 35.99s, Memory Usage: 19750.0KB\n",
            "Test Loss: 0.2975, Test Acc: 0.8990, Test Latency: 4.06s, Test Memory Usage: 194.0KB\n",
            "\n",
            "Epoch 153\n"
          ]
        },
        {
          "name": "stderr",
          "output_type": "stream",
          "text": [
            "Train: 100%|##########################| 391/391 [00:33<00:00, 11.62batch/s]\n"
          ]
        },
        {
          "name": "stdout",
          "output_type": "stream",
          "text": [
            "LR: 1.0000e-04, Train Loss: 0.1812, Train Acc: 0.9401, Train Latency: 33.64s, Memory Usage: 19750.0KB\n",
            "Test Loss: 0.3001, Test Acc: 0.8963, Test Latency: 4.23s, Test Memory Usage: 194.0KB\n",
            "\n",
            "Epoch 154\n"
          ]
        },
        {
          "name": "stderr",
          "output_type": "stream",
          "text": [
            "Train: 100%|##########################| 391/391 [00:36<00:00, 10.84batch/s]\n"
          ]
        },
        {
          "name": "stdout",
          "output_type": "stream",
          "text": [
            "LR: 1.0000e-04, Train Loss: 0.1770, Train Acc: 0.9422, Train Latency: 36.08s, Memory Usage: 19750.0KB\n",
            "Test Loss: 0.3024, Test Acc: 0.8990, Test Latency: 3.64s, Test Memory Usage: 194.0KB\n",
            "\n",
            "Epoch 155\n"
          ]
        },
        {
          "name": "stderr",
          "output_type": "stream",
          "text": [
            "Train: 100%|##########################| 391/391 [00:31<00:00, 12.29batch/s]\n"
          ]
        },
        {
          "name": "stdout",
          "output_type": "stream",
          "text": [
            "LR: 1.0000e-04, Train Loss: 0.1795, Train Acc: 0.9401, Train Latency: 31.81s, Memory Usage: 19750.0KB\n",
            "Test Loss: 0.2953, Test Acc: 0.8974, Test Latency: 3.46s, Test Memory Usage: 194.0KB\n",
            "\n",
            "Epoch 156\n"
          ]
        },
        {
          "name": "stderr",
          "output_type": "stream",
          "text": [
            "Train: 100%|##########################| 391/391 [00:30<00:00, 12.85batch/s]\n"
          ]
        },
        {
          "name": "stdout",
          "output_type": "stream",
          "text": [
            "LR: 1.0000e-04, Train Loss: 0.1756, Train Acc: 0.9410, Train Latency: 30.43s, Memory Usage: 19750.0KB\n",
            "Test Loss: 0.3096, Test Acc: 0.8973, Test Latency: 4.03s, Test Memory Usage: 194.0KB\n",
            "\n",
            "Epoch 157\n"
          ]
        },
        {
          "name": "stderr",
          "output_type": "stream",
          "text": [
            "Train: 100%|##########################| 391/391 [00:28<00:00, 13.49batch/s]\n"
          ]
        },
        {
          "name": "stdout",
          "output_type": "stream",
          "text": [
            "LR: 1.0000e-04, Train Loss: 0.1753, Train Acc: 0.9419, Train Latency: 28.99s, Memory Usage: 19750.0KB\n",
            "Test Loss: 0.3033, Test Acc: 0.8946, Test Latency: 3.15s, Test Memory Usage: 194.0KB\n",
            "\n",
            "Epoch 158\n"
          ]
        },
        {
          "name": "stderr",
          "output_type": "stream",
          "text": [
            "Train: 100%|##########################| 391/391 [00:28<00:00, 13.61batch/s]\n"
          ]
        },
        {
          "name": "stdout",
          "output_type": "stream",
          "text": [
            "LR: 1.0000e-04, Train Loss: 0.1746, Train Acc: 0.9419, Train Latency: 28.73s, Memory Usage: 19750.0KB\n",
            "Test Loss: 0.3048, Test Acc: 0.8953, Test Latency: 3.77s, Test Memory Usage: 194.0KB\n",
            "\n",
            "Epoch 159\n"
          ]
        },
        {
          "name": "stderr",
          "output_type": "stream",
          "text": [
            "Train: 100%|##########################| 391/391 [00:29<00:00, 13.04batch/s]\n"
          ]
        },
        {
          "name": "stdout",
          "output_type": "stream",
          "text": [
            "LR: 1.0000e-04, Train Loss: 0.1761, Train Acc: 0.9423, Train Latency: 29.98s, Memory Usage: 19750.0KB\n",
            "Test Loss: 0.3090, Test Acc: 0.8964, Test Latency: 4.13s, Test Memory Usage: 194.0KB\n",
            "\n",
            "Epoch 160\n"
          ]
        },
        {
          "name": "stderr",
          "output_type": "stream",
          "text": [
            "Train: 100%|##########################| 391/391 [00:30<00:00, 12.89batch/s]\n"
          ]
        },
        {
          "name": "stdout",
          "output_type": "stream",
          "text": [
            "LR: 1.0000e-04, Train Loss: 0.1758, Train Acc: 0.9417, Train Latency: 30.34s, Memory Usage: 19750.0KB\n",
            "Test Loss: 0.3127, Test Acc: 0.8943, Test Latency: 3.11s, Test Memory Usage: 194.0KB\n",
            "\n",
            "Epoch 161\n"
          ]
        },
        {
          "name": "stderr",
          "output_type": "stream",
          "text": [
            "Train: 100%|##########################| 391/391 [00:27<00:00, 14.03batch/s]\n"
          ]
        },
        {
          "name": "stdout",
          "output_type": "stream",
          "text": [
            "LR: 1.0000e-04, Train Loss: 0.1769, Train Acc: 0.9410, Train Latency: 27.88s, Memory Usage: 19750.0KB\n",
            "Test Loss: 0.3113, Test Acc: 0.8939, Test Latency: 3.12s, Test Memory Usage: 194.0KB\n",
            "\n",
            "Epoch 162\n"
          ]
        },
        {
          "name": "stderr",
          "output_type": "stream",
          "text": [
            "Train: 100%|##########################| 391/391 [00:33<00:00, 11.71batch/s]\n"
          ]
        },
        {
          "name": "stdout",
          "output_type": "stream",
          "text": [
            "LR: 1.0000e-04, Train Loss: 0.1723, Train Acc: 0.9437, Train Latency: 33.39s, Memory Usage: 19750.0KB\n",
            "Test Loss: 0.3174, Test Acc: 0.8901, Test Latency: 4.23s, Test Memory Usage: 194.0KB\n",
            "\n",
            "Epoch 163\n"
          ]
        },
        {
          "name": "stderr",
          "output_type": "stream",
          "text": [
            "Train: 100%|##########################| 391/391 [00:32<00:00, 12.06batch/s]\n"
          ]
        },
        {
          "name": "stdout",
          "output_type": "stream",
          "text": [
            "LR: 1.0000e-04, Train Loss: 0.1756, Train Acc: 0.9420, Train Latency: 32.43s, Memory Usage: 19750.0KB\n",
            "Test Loss: 0.3224, Test Acc: 0.8928, Test Latency: 4.22s, Test Memory Usage: 194.0KB\n",
            "\n",
            "Epoch 164\n"
          ]
        },
        {
          "name": "stderr",
          "output_type": "stream",
          "text": [
            "Train: 100%|##########################| 391/391 [00:35<00:00, 10.95batch/s]\n"
          ]
        },
        {
          "name": "stdout",
          "output_type": "stream",
          "text": [
            "LR: 1.0000e-04, Train Loss: 0.1730, Train Acc: 0.9422, Train Latency: 35.70s, Memory Usage: 19750.0KB\n",
            "Test Loss: 0.3243, Test Acc: 0.8894, Test Latency: 4.20s, Test Memory Usage: 194.0KB\n",
            "\n",
            "Epoch 165\n"
          ]
        },
        {
          "name": "stderr",
          "output_type": "stream",
          "text": [
            "Train: 100%|##########################| 391/391 [00:35<00:00, 10.95batch/s]\n"
          ]
        },
        {
          "name": "stdout",
          "output_type": "stream",
          "text": [
            "LR: 1.0000e-04, Train Loss: 0.1751, Train Acc: 0.9417, Train Latency: 35.70s, Memory Usage: 19750.0KB\n",
            "Test Loss: 0.3257, Test Acc: 0.8913, Test Latency: 4.23s, Test Memory Usage: 194.0KB\n",
            "\n",
            "Epoch 166\n"
          ]
        },
        {
          "name": "stderr",
          "output_type": "stream",
          "text": [
            "Train: 100%|##########################| 391/391 [00:31<00:00, 12.34batch/s]\n"
          ]
        },
        {
          "name": "stdout",
          "output_type": "stream",
          "text": [
            "LR: 1.0000e-04, Train Loss: 0.1754, Train Acc: 0.9419, Train Latency: 31.69s, Memory Usage: 19750.0KB\n",
            "Test Loss: 0.3127, Test Acc: 0.8922, Test Latency: 3.13s, Test Memory Usage: 194.0KB\n",
            "\n",
            "Epoch 167\n"
          ]
        },
        {
          "name": "stderr",
          "output_type": "stream",
          "text": [
            "Train: 100%|##########################| 391/391 [00:24<00:00, 15.67batch/s]\n"
          ]
        },
        {
          "name": "stdout",
          "output_type": "stream",
          "text": [
            "LR: 1.0000e-04, Train Loss: 0.1750, Train Acc: 0.9421, Train Latency: 24.95s, Memory Usage: 19750.0KB\n",
            "Test Loss: 0.3134, Test Acc: 0.8938, Test Latency: 3.10s, Test Memory Usage: 194.0KB\n",
            "\n",
            "Epoch 168\n"
          ]
        },
        {
          "name": "stderr",
          "output_type": "stream",
          "text": [
            "Train: 100%|##########################| 391/391 [00:25<00:00, 15.55batch/s]\n"
          ]
        },
        {
          "name": "stdout",
          "output_type": "stream",
          "text": [
            "LR: 1.0000e-04, Train Loss: 0.1742, Train Acc: 0.9427, Train Latency: 25.15s, Memory Usage: 19750.0KB\n",
            "Test Loss: 0.3321, Test Acc: 0.8860, Test Latency: 3.79s, Test Memory Usage: 194.0KB\n",
            "\n",
            "Epoch 169\n"
          ]
        },
        {
          "name": "stderr",
          "output_type": "stream",
          "text": [
            "Train: 100%|##########################| 391/391 [00:34<00:00, 11.36batch/s]\n"
          ]
        },
        {
          "name": "stdout",
          "output_type": "stream",
          "text": [
            "LR: 1.0000e-04, Train Loss: 0.1786, Train Acc: 0.9407, Train Latency: 34.42s, Memory Usage: 19750.0KB\n",
            "Test Loss: 0.3305, Test Acc: 0.8884, Test Latency: 4.27s, Test Memory Usage: 194.0KB\n",
            "\n",
            "Epoch 170\n"
          ]
        },
        {
          "name": "stderr",
          "output_type": "stream",
          "text": [
            "Train: 100%|##########################| 391/391 [00:28<00:00, 13.51batch/s]\n"
          ]
        },
        {
          "name": "stdout",
          "output_type": "stream",
          "text": [
            "LR: 1.0000e-04, Train Loss: 0.1786, Train Acc: 0.9410, Train Latency: 28.95s, Memory Usage: 19750.0KB\n",
            "Test Loss: 0.3204, Test Acc: 0.8912, Test Latency: 3.75s, Test Memory Usage: 194.0KB\n",
            "\n",
            "Epoch 171\n"
          ]
        },
        {
          "name": "stderr",
          "output_type": "stream",
          "text": [
            "Train: 100%|##########################| 391/391 [00:29<00:00, 13.16batch/s]\n"
          ]
        },
        {
          "name": "stdout",
          "output_type": "stream",
          "text": [
            "LR: 1.0000e-04, Train Loss: 0.1797, Train Acc: 0.9396, Train Latency: 29.72s, Memory Usage: 19750.0KB\n",
            "Test Loss: 0.3282, Test Acc: 0.8848, Test Latency: 4.06s, Test Memory Usage: 194.0KB\n",
            "\n",
            "Epoch 172\n"
          ]
        },
        {
          "name": "stderr",
          "output_type": "stream",
          "text": [
            "Train: 100%|##########################| 391/391 [00:34<00:00, 11.35batch/s]\n"
          ]
        },
        {
          "name": "stdout",
          "output_type": "stream",
          "text": [
            "LR: 1.0000e-04, Train Loss: 0.1728, Train Acc: 0.9434, Train Latency: 34.44s, Memory Usage: 19750.0KB\n",
            "Test Loss: 0.3105, Test Acc: 0.8932, Test Latency: 3.79s, Test Memory Usage: 194.0KB\n",
            "\n",
            "Epoch 173\n"
          ]
        },
        {
          "name": "stderr",
          "output_type": "stream",
          "text": [
            "Train: 100%|##########################| 391/391 [00:29<00:00, 13.30batch/s]\n"
          ]
        },
        {
          "name": "stdout",
          "output_type": "stream",
          "text": [
            "LR: 1.0000e-04, Train Loss: 0.1782, Train Acc: 0.9409, Train Latency: 29.41s, Memory Usage: 19750.0KB\n",
            "Test Loss: 0.3143, Test Acc: 0.8939, Test Latency: 3.12s, Test Memory Usage: 194.0KB\n",
            "\n",
            "Epoch 174\n"
          ]
        },
        {
          "name": "stderr",
          "output_type": "stream",
          "text": [
            "Train: 100%|##########################| 391/391 [00:36<00:00, 10.80batch/s]\n"
          ]
        },
        {
          "name": "stdout",
          "output_type": "stream",
          "text": [
            "LR: 1.0000e-04, Train Loss: 0.1739, Train Acc: 0.9425, Train Latency: 36.21s, Memory Usage: 19750.0KB\n",
            "Test Loss: 0.3109, Test Acc: 0.8945, Test Latency: 3.74s, Test Memory Usage: 194.0KB\n",
            "\n",
            "Epoch 175\n"
          ]
        },
        {
          "name": "stderr",
          "output_type": "stream",
          "text": [
            "Train: 100%|##########################| 391/391 [00:31<00:00, 12.48batch/s]\n"
          ]
        },
        {
          "name": "stdout",
          "output_type": "stream",
          "text": [
            "LR: 1.0000e-04, Train Loss: 0.1769, Train Acc: 0.9426, Train Latency: 31.33s, Memory Usage: 19750.0KB\n",
            "Test Loss: 0.3177, Test Acc: 0.8936, Test Latency: 3.72s, Test Memory Usage: 194.0KB\n",
            "\n",
            "Epoch 176\n"
          ]
        },
        {
          "name": "stderr",
          "output_type": "stream",
          "text": [
            "Train: 100%|##########################| 391/391 [00:24<00:00, 15.94batch/s]\n"
          ]
        },
        {
          "name": "stdout",
          "output_type": "stream",
          "text": [
            "LR: 1.0000e-04, Train Loss: 0.1773, Train Acc: 0.9414, Train Latency: 24.53s, Memory Usage: 19750.0KB\n",
            "Test Loss: 0.3198, Test Acc: 0.8925, Test Latency: 3.10s, Test Memory Usage: 194.0KB\n",
            "\n",
            "Epoch 177\n"
          ]
        },
        {
          "name": "stderr",
          "output_type": "stream",
          "text": [
            "Train: 100%|##########################| 391/391 [00:26<00:00, 14.92batch/s]\n"
          ]
        },
        {
          "name": "stdout",
          "output_type": "stream",
          "text": [
            "LR: 1.0000e-04, Train Loss: 0.1752, Train Acc: 0.9420, Train Latency: 26.22s, Memory Usage: 19750.0KB\n",
            "Test Loss: 0.3108, Test Acc: 0.8957, Test Latency: 3.69s, Test Memory Usage: 194.0KB\n",
            "\n",
            "Epoch 178\n"
          ]
        },
        {
          "name": "stderr",
          "output_type": "stream",
          "text": [
            "Train: 100%|##########################| 391/391 [00:27<00:00, 14.41batch/s]\n"
          ]
        },
        {
          "name": "stdout",
          "output_type": "stream",
          "text": [
            "LR: 1.0000e-04, Train Loss: 0.1775, Train Acc: 0.9404, Train Latency: 27.13s, Memory Usage: 19750.0KB\n",
            "Test Loss: 0.3339, Test Acc: 0.8881, Test Latency: 3.17s, Test Memory Usage: 194.0KB\n",
            "\n",
            "Epoch 179\n"
          ]
        },
        {
          "name": "stderr",
          "output_type": "stream",
          "text": [
            "Train: 100%|##########################| 391/391 [00:33<00:00, 11.84batch/s]\n"
          ]
        },
        {
          "name": "stdout",
          "output_type": "stream",
          "text": [
            "LR: 1.0000e-04, Train Loss: 0.1785, Train Acc: 0.9407, Train Latency: 33.02s, Memory Usage: 19750.0KB\n",
            "Test Loss: 0.3287, Test Acc: 0.8876, Test Latency: 4.21s, Test Memory Usage: 194.0KB\n",
            "\n",
            "Epoch 180\n"
          ]
        },
        {
          "name": "stderr",
          "output_type": "stream",
          "text": [
            "Train: 100%|##########################| 391/391 [00:27<00:00, 14.19batch/s]\n"
          ]
        },
        {
          "name": "stdout",
          "output_type": "stream",
          "text": [
            "LR: 1.0000e-04, Train Loss: 0.1765, Train Acc: 0.9414, Train Latency: 27.56s, Memory Usage: 19750.0KB\n",
            "Test Loss: 0.3365, Test Acc: 0.8869, Test Latency: 3.12s, Test Memory Usage: 194.0KB\n",
            "\n",
            "Epoch 181\n"
          ]
        },
        {
          "name": "stderr",
          "output_type": "stream",
          "text": [
            "Train: 100%|##########################| 391/391 [00:32<00:00, 12.11batch/s]\n"
          ]
        },
        {
          "name": "stdout",
          "output_type": "stream",
          "text": [
            "LR: 1.0000e-04, Train Loss: 0.1752, Train Acc: 0.9417, Train Latency: 32.30s, Memory Usage: 19750.0KB\n",
            "Test Loss: 0.3277, Test Acc: 0.8887, Test Latency: 4.22s, Test Memory Usage: 194.0KB\n",
            "\n",
            "Epoch 182\n"
          ]
        },
        {
          "name": "stderr",
          "output_type": "stream",
          "text": [
            "Train: 100%|##########################| 391/391 [00:36<00:00, 10.86batch/s]\n"
          ]
        },
        {
          "name": "stdout",
          "output_type": "stream",
          "text": [
            "LR: 1.0000e-04, Train Loss: 0.1801, Train Acc: 0.9400, Train Latency: 36.02s, Memory Usage: 19750.0KB\n",
            "Test Loss: 0.3211, Test Acc: 0.8921, Test Latency: 4.22s, Test Memory Usage: 194.0KB\n",
            "\n",
            "Epoch 183\n"
          ]
        },
        {
          "name": "stderr",
          "output_type": "stream",
          "text": [
            "Train: 100%|##########################| 391/391 [00:31<00:00, 12.51batch/s]\n"
          ]
        },
        {
          "name": "stdout",
          "output_type": "stream",
          "text": [
            "LR: 1.0000e-04, Train Loss: 0.1793, Train Acc: 0.9403, Train Latency: 31.26s, Memory Usage: 19750.0KB\n",
            "Test Loss: 0.3238, Test Acc: 0.8893, Test Latency: 3.11s, Test Memory Usage: 194.0KB\n",
            "\n",
            "Epoch 184\n"
          ]
        },
        {
          "name": "stderr",
          "output_type": "stream",
          "text": [
            "Train: 100%|##########################| 391/391 [00:34<00:00, 11.40batch/s]\n"
          ]
        },
        {
          "name": "stdout",
          "output_type": "stream",
          "text": [
            "LR: 1.0000e-04, Train Loss: 0.1778, Train Acc: 0.9411, Train Latency: 34.31s, Memory Usage: 19750.0KB\n",
            "Test Loss: 0.3205, Test Acc: 0.8907, Test Latency: 4.21s, Test Memory Usage: 194.0KB\n",
            "\n",
            "Epoch 185\n"
          ]
        },
        {
          "name": "stderr",
          "output_type": "stream",
          "text": [
            "Train: 100%|##########################| 391/391 [00:35<00:00, 10.90batch/s]\n"
          ]
        },
        {
          "name": "stdout",
          "output_type": "stream",
          "text": [
            "LR: 1.0000e-04, Train Loss: 0.1783, Train Acc: 0.9407, Train Latency: 35.89s, Memory Usage: 19750.0KB\n",
            "Test Loss: 0.3156, Test Acc: 0.8931, Test Latency: 3.88s, Test Memory Usage: 194.0KB\n",
            "\n",
            "Epoch 186\n"
          ]
        },
        {
          "name": "stderr",
          "output_type": "stream",
          "text": [
            "Train: 100%|##########################| 391/391 [00:35<00:00, 11.15batch/s]\n"
          ]
        },
        {
          "name": "stdout",
          "output_type": "stream",
          "text": [
            "LR: 1.0000e-04, Train Loss: 0.1803, Train Acc: 0.9395, Train Latency: 35.07s, Memory Usage: 19750.0KB\n",
            "Test Loss: 0.3170, Test Acc: 0.8928, Test Latency: 3.68s, Test Memory Usage: 194.0KB\n",
            "\n",
            "Epoch 187\n"
          ]
        },
        {
          "name": "stderr",
          "output_type": "stream",
          "text": [
            "Train: 100%|##########################| 391/391 [00:31<00:00, 12.60batch/s]\n"
          ]
        },
        {
          "name": "stdout",
          "output_type": "stream",
          "text": [
            "LR: 1.0000e-04, Train Loss: 0.1814, Train Acc: 0.9390, Train Latency: 31.03s, Memory Usage: 19750.0KB\n",
            "Test Loss: 0.3288, Test Acc: 0.8901, Test Latency: 4.30s, Test Memory Usage: 194.0KB\n",
            "\n",
            "Epoch 188\n"
          ]
        },
        {
          "name": "stderr",
          "output_type": "stream",
          "text": [
            "Train: 100%|##########################| 391/391 [00:32<00:00, 12.22batch/s]\n"
          ]
        },
        {
          "name": "stdout",
          "output_type": "stream",
          "text": [
            "LR: 1.0000e-04, Train Loss: 0.1759, Train Acc: 0.9409, Train Latency: 32.01s, Memory Usage: 19750.0KB\n",
            "Test Loss: 0.3206, Test Acc: 0.8935, Test Latency: 4.23s, Test Memory Usage: 194.0KB\n",
            "\n",
            "Epoch 189\n"
          ]
        },
        {
          "name": "stderr",
          "output_type": "stream",
          "text": [
            "Train: 100%|##########################| 391/391 [00:32<00:00, 11.87batch/s]\n"
          ]
        },
        {
          "name": "stdout",
          "output_type": "stream",
          "text": [
            "LR: 1.0000e-04, Train Loss: 0.1781, Train Acc: 0.9396, Train Latency: 32.94s, Memory Usage: 19750.0KB\n",
            "Test Loss: 0.3343, Test Acc: 0.8887, Test Latency: 3.65s, Test Memory Usage: 194.0KB\n",
            "\n",
            "Epoch 190\n"
          ]
        },
        {
          "name": "stderr",
          "output_type": "stream",
          "text": [
            "Train: 100%|##########################| 391/391 [00:31<00:00, 12.43batch/s]\n"
          ]
        },
        {
          "name": "stdout",
          "output_type": "stream",
          "text": [
            "LR: 1.0000e-04, Train Loss: 0.1752, Train Acc: 0.9426, Train Latency: 31.45s, Memory Usage: 19750.0KB\n",
            "Test Loss: 0.3243, Test Acc: 0.8902, Test Latency: 3.12s, Test Memory Usage: 194.0KB\n",
            "\n",
            "Epoch 191\n"
          ]
        },
        {
          "name": "stderr",
          "output_type": "stream",
          "text": [
            "Train: 100%|##########################| 391/391 [00:35<00:00, 10.98batch/s]\n"
          ]
        },
        {
          "name": "stdout",
          "output_type": "stream",
          "text": [
            "LR: 1.0000e-04, Train Loss: 0.1787, Train Acc: 0.9403, Train Latency: 35.62s, Memory Usage: 19750.0KB\n",
            "Test Loss: 0.3219, Test Acc: 0.8943, Test Latency: 3.68s, Test Memory Usage: 194.0KB\n",
            "\n",
            "Epoch 192\n"
          ]
        },
        {
          "name": "stderr",
          "output_type": "stream",
          "text": [
            "Train: 100%|##########################| 391/391 [00:25<00:00, 15.42batch/s]\n"
          ]
        },
        {
          "name": "stdout",
          "output_type": "stream",
          "text": [
            "LR: 1.0000e-04, Train Loss: 0.1784, Train Acc: 0.9406, Train Latency: 25.37s, Memory Usage: 19750.0KB\n",
            "Test Loss: 0.3180, Test Acc: 0.8942, Test Latency: 4.00s, Test Memory Usage: 194.0KB\n",
            "\n",
            "Epoch 193\n"
          ]
        },
        {
          "name": "stderr",
          "output_type": "stream",
          "text": [
            "Train: 100%|##########################| 391/391 [00:28<00:00, 13.84batch/s]\n"
          ]
        },
        {
          "name": "stdout",
          "output_type": "stream",
          "text": [
            "LR: 1.0000e-04, Train Loss: 0.1785, Train Acc: 0.9395, Train Latency: 28.25s, Memory Usage: 19750.0KB\n",
            "Test Loss: 0.3317, Test Acc: 0.8887, Test Latency: 3.12s, Test Memory Usage: 194.0KB\n",
            "\n",
            "Epoch 194\n"
          ]
        },
        {
          "name": "stderr",
          "output_type": "stream",
          "text": [
            "Train: 100%|##########################| 391/391 [00:34<00:00, 11.29batch/s]\n"
          ]
        },
        {
          "name": "stdout",
          "output_type": "stream",
          "text": [
            "LR: 1.0000e-04, Train Loss: 0.1821, Train Acc: 0.9382, Train Latency: 34.63s, Memory Usage: 19750.0KB\n",
            "Test Loss: 0.3462, Test Acc: 0.8830, Test Latency: 3.71s, Test Memory Usage: 194.0KB\n",
            "\n",
            "Epoch 195\n"
          ]
        },
        {
          "name": "stderr",
          "output_type": "stream",
          "text": [
            "Train: 100%|##########################| 391/391 [00:33<00:00, 11.55batch/s]\n"
          ]
        },
        {
          "name": "stdout",
          "output_type": "stream",
          "text": [
            "LR: 1.0000e-04, Train Loss: 0.1786, Train Acc: 0.9406, Train Latency: 33.85s, Memory Usage: 19750.0KB\n",
            "Test Loss: 0.3098, Test Acc: 0.8947, Test Latency: 4.22s, Test Memory Usage: 194.0KB\n",
            "\n",
            "Epoch 196\n"
          ]
        },
        {
          "name": "stderr",
          "output_type": "stream",
          "text": [
            "Train: 100%|##########################| 391/391 [00:24<00:00, 15.68batch/s]\n"
          ]
        },
        {
          "name": "stdout",
          "output_type": "stream",
          "text": [
            "LR: 1.0000e-04, Train Loss: 0.1814, Train Acc: 0.9392, Train Latency: 24.94s, Memory Usage: 19750.0KB\n",
            "Test Loss: 0.3270, Test Acc: 0.8904, Test Latency: 3.11s, Test Memory Usage: 194.0KB\n",
            "\n",
            "Epoch 197\n"
          ]
        },
        {
          "name": "stderr",
          "output_type": "stream",
          "text": [
            "Train: 100%|##########################| 391/391 [00:29<00:00, 13.41batch/s]\n"
          ]
        },
        {
          "name": "stdout",
          "output_type": "stream",
          "text": [
            "LR: 1.0000e-04, Train Loss: 0.1810, Train Acc: 0.9384, Train Latency: 29.15s, Memory Usage: 19750.0KB\n",
            "Test Loss: 0.3261, Test Acc: 0.8914, Test Latency: 3.74s, Test Memory Usage: 194.0KB\n",
            "\n",
            "Epoch 198\n"
          ]
        },
        {
          "name": "stderr",
          "output_type": "stream",
          "text": [
            "Train: 100%|##########################| 391/391 [00:28<00:00, 13.89batch/s]\n"
          ]
        },
        {
          "name": "stdout",
          "output_type": "stream",
          "text": [
            "LR: 1.0000e-04, Train Loss: 0.1781, Train Acc: 0.9409, Train Latency: 28.15s, Memory Usage: 19750.0KB\n",
            "Test Loss: 0.3372, Test Acc: 0.8908, Test Latency: 3.85s, Test Memory Usage: 194.0KB\n",
            "\n",
            "Epoch 199\n"
          ]
        },
        {
          "name": "stderr",
          "output_type": "stream",
          "text": [
            "Train: 100%|##########################| 391/391 [00:34<00:00, 11.26batch/s]\n"
          ]
        },
        {
          "name": "stdout",
          "output_type": "stream",
          "text": [
            "LR: 1.0000e-04, Train Loss: 0.1753, Train Acc: 0.9417, Train Latency: 34.73s, Memory Usage: 19750.0KB\n",
            "Test Loss: 0.3338, Test Acc: 0.8895, Test Latency: 4.22s, Test Memory Usage: 194.0KB\n",
            "\n",
            "Epoch 200\n"
          ]
        },
        {
          "name": "stderr",
          "output_type": "stream",
          "text": [
            "Train: 100%|##########################| 391/391 [00:32<00:00, 11.88batch/s]\n"
          ]
        },
        {
          "name": "stdout",
          "output_type": "stream",
          "text": [
            "LR: 1.0000e-04, Train Loss: 0.1797, Train Acc: 0.9406, Train Latency: 32.91s, Memory Usage: 19750.0KB\n",
            "Test Loss: 0.3383, Test Acc: 0.8843, Test Latency: 4.23s, Test Memory Usage: 194.0KB\n",
            "Saving final epoch model ...\n"
          ]
        }
      ],
      "source": [
        "train(w_nbits=3, a_nbits=None, lambda_val=0.004)"
      ]
    },
    {
      "cell_type": "code",
      "execution_count": 7,
      "metadata": {},
      "outputs": [
        {
          "name": "stdout",
          "output_type": "stream",
          "text": [
            "\n",
            "Quantization: weight=2 activation=None threshold=0.001, Using device: cuda\n",
            "\n",
            "Epoch 1\n"
          ]
        },
        {
          "name": "stderr",
          "output_type": "stream",
          "text": [
            "Train: 100%|##########################| 391/391 [00:29<00:00, 13.09batch/s]\n"
          ]
        },
        {
          "name": "stdout",
          "output_type": "stream",
          "text": [
            "LR: 1.0000e-01, Train Loss: 1.6257, Train Acc: 0.3985, Train Latency: 29.87s, Memory Usage: 3110.0KB\n",
            "Test Loss: 1.5442, Test Acc: 0.4613, Test Latency: 2.48s, Test Memory Usage: 194.0KB\n",
            "\n",
            "Epoch 2\n"
          ]
        },
        {
          "name": "stderr",
          "output_type": "stream",
          "text": [
            "Train: 100%|##########################| 391/391 [00:29<00:00, 13.15batch/s]\n"
          ]
        },
        {
          "name": "stdout",
          "output_type": "stream",
          "text": [
            "LR: 1.0000e-01, Train Loss: 1.1489, Train Acc: 0.5868, Train Latency: 29.73s, Memory Usage: 3110.0KB\n",
            "Test Loss: 1.3718, Test Acc: 0.5438, Test Latency: 3.06s, Test Memory Usage: 194.0KB\n",
            "\n",
            "Epoch 3\n"
          ]
        },
        {
          "name": "stderr",
          "output_type": "stream",
          "text": [
            "Train: 100%|##########################| 391/391 [00:31<00:00, 12.51batch/s]\n"
          ]
        },
        {
          "name": "stdout",
          "output_type": "stream",
          "text": [
            "LR: 1.0000e-01, Train Loss: 1.0091, Train Acc: 0.6454, Train Latency: 31.26s, Memory Usage: 3110.0KB\n",
            "Test Loss: 1.4996, Test Acc: 0.5040, Test Latency: 3.15s, Test Memory Usage: 194.0KB\n",
            "\n",
            "Epoch 4\n"
          ]
        },
        {
          "name": "stderr",
          "output_type": "stream",
          "text": [
            "Train: 100%|##########################| 391/391 [00:27<00:00, 14.28batch/s]\n"
          ]
        },
        {
          "name": "stdout",
          "output_type": "stream",
          "text": [
            "LR: 1.0000e-01, Train Loss: 0.8953, Train Acc: 0.6866, Train Latency: 27.39s, Memory Usage: 3110.0KB\n",
            "Test Loss: 0.9687, Test Acc: 0.6823, Test Latency: 3.34s, Test Memory Usage: 194.0KB\n",
            "\n",
            "Epoch 5\n"
          ]
        },
        {
          "name": "stderr",
          "output_type": "stream",
          "text": [
            "Train: 100%|##########################| 391/391 [00:32<00:00, 12.18batch/s]\n"
          ]
        },
        {
          "name": "stdout",
          "output_type": "stream",
          "text": [
            "LR: 1.0000e-01, Train Loss: 0.8249, Train Acc: 0.7122, Train Latency: 32.10s, Memory Usage: 3110.0KB\n",
            "Test Loss: 1.0793, Test Acc: 0.6565, Test Latency: 3.33s, Test Memory Usage: 194.0KB\n",
            "\n",
            "Epoch 6\n"
          ]
        },
        {
          "name": "stderr",
          "output_type": "stream",
          "text": [
            "Train: 100%|##########################| 391/391 [00:31<00:00, 12.41batch/s]\n"
          ]
        },
        {
          "name": "stdout",
          "output_type": "stream",
          "text": [
            "LR: 1.0000e-01, Train Loss: 0.7716, Train Acc: 0.7338, Train Latency: 31.52s, Memory Usage: 3110.0KB\n",
            "Test Loss: 1.1285, Test Acc: 0.6310, Test Latency: 2.75s, Test Memory Usage: 194.0KB\n",
            "\n",
            "Epoch 7\n"
          ]
        },
        {
          "name": "stderr",
          "output_type": "stream",
          "text": [
            "Train: 100%|##########################| 391/391 [00:24<00:00, 15.90batch/s]\n"
          ]
        },
        {
          "name": "stdout",
          "output_type": "stream",
          "text": [
            "LR: 1.0000e-01, Train Loss: 0.7416, Train Acc: 0.7442, Train Latency: 24.60s, Memory Usage: 3110.0KB\n",
            "Test Loss: 0.7608, Test Acc: 0.7404, Test Latency: 2.43s, Test Memory Usage: 194.0KB\n",
            "\n",
            "Epoch 8\n"
          ]
        },
        {
          "name": "stderr",
          "output_type": "stream",
          "text": [
            "Train: 100%|##########################| 391/391 [00:26<00:00, 14.74batch/s]\n"
          ]
        },
        {
          "name": "stdout",
          "output_type": "stream",
          "text": [
            "LR: 1.0000e-01, Train Loss: 0.7236, Train Acc: 0.7517, Train Latency: 26.52s, Memory Usage: 3110.0KB\n",
            "Test Loss: 1.0226, Test Acc: 0.6647, Test Latency: 3.10s, Test Memory Usage: 194.0KB\n",
            "\n",
            "Epoch 9\n"
          ]
        },
        {
          "name": "stderr",
          "output_type": "stream",
          "text": [
            "Train: 100%|##########################| 391/391 [00:21<00:00, 18.60batch/s]\n"
          ]
        },
        {
          "name": "stdout",
          "output_type": "stream",
          "text": [
            "LR: 1.0000e-01, Train Loss: 0.7021, Train Acc: 0.7580, Train Latency: 21.02s, Memory Usage: 3110.0KB\n",
            "Test Loss: 0.9978, Test Acc: 0.6682, Test Latency: 2.47s, Test Memory Usage: 194.0KB\n",
            "\n",
            "Epoch 10\n"
          ]
        },
        {
          "name": "stderr",
          "output_type": "stream",
          "text": [
            "Train: 100%|##########################| 391/391 [00:30<00:00, 12.89batch/s]\n"
          ]
        },
        {
          "name": "stdout",
          "output_type": "stream",
          "text": [
            "LR: 1.0000e-01, Train Loss: 0.6931, Train Acc: 0.7613, Train Latency: 30.35s, Memory Usage: 3110.0KB\n",
            "Test Loss: 0.9991, Test Acc: 0.6635, Test Latency: 3.08s, Test Memory Usage: 194.0KB\n",
            "\n",
            "Epoch 11\n"
          ]
        },
        {
          "name": "stderr",
          "output_type": "stream",
          "text": [
            "Train: 100%|##########################| 391/391 [00:29<00:00, 13.15batch/s]\n"
          ]
        },
        {
          "name": "stdout",
          "output_type": "stream",
          "text": [
            "LR: 1.0000e-01, Train Loss: 0.6821, Train Acc: 0.7648, Train Latency: 29.75s, Memory Usage: 3110.0KB\n",
            "Test Loss: 0.9958, Test Acc: 0.6645, Test Latency: 2.95s, Test Memory Usage: 194.0KB\n",
            "\n",
            "Epoch 12\n"
          ]
        },
        {
          "name": "stderr",
          "output_type": "stream",
          "text": [
            "Train: 100%|##########################| 391/391 [00:26<00:00, 15.02batch/s]\n"
          ]
        },
        {
          "name": "stdout",
          "output_type": "stream",
          "text": [
            "LR: 1.0000e-01, Train Loss: 0.6741, Train Acc: 0.7661, Train Latency: 26.03s, Memory Usage: 3110.0KB\n",
            "Test Loss: 0.8890, Test Acc: 0.7027, Test Latency: 2.83s, Test Memory Usage: 194.0KB\n",
            "\n",
            "Epoch 13\n"
          ]
        },
        {
          "name": "stderr",
          "output_type": "stream",
          "text": [
            "Train: 100%|##########################| 391/391 [00:27<00:00, 14.41batch/s]\n"
          ]
        },
        {
          "name": "stdout",
          "output_type": "stream",
          "text": [
            "LR: 1.0000e-01, Train Loss: 0.6670, Train Acc: 0.7712, Train Latency: 27.14s, Memory Usage: 3110.0KB\n",
            "Test Loss: 0.7485, Test Acc: 0.7453, Test Latency: 2.84s, Test Memory Usage: 194.0KB\n",
            "\n",
            "Epoch 14\n"
          ]
        },
        {
          "name": "stderr",
          "output_type": "stream",
          "text": [
            "Train: 100%|##########################| 391/391 [00:26<00:00, 14.89batch/s]\n"
          ]
        },
        {
          "name": "stdout",
          "output_type": "stream",
          "text": [
            "LR: 1.0000e-01, Train Loss: 0.6598, Train Acc: 0.7741, Train Latency: 26.26s, Memory Usage: 3110.0KB\n",
            "Test Loss: 1.0650, Test Acc: 0.6534, Test Latency: 2.81s, Test Memory Usage: 194.0KB\n",
            "\n",
            "Epoch 15\n"
          ]
        },
        {
          "name": "stderr",
          "output_type": "stream",
          "text": [
            "Train: 100%|##########################| 391/391 [00:26<00:00, 14.86batch/s]\n"
          ]
        },
        {
          "name": "stdout",
          "output_type": "stream",
          "text": [
            "LR: 1.0000e-01, Train Loss: 0.6588, Train Acc: 0.7715, Train Latency: 26.31s, Memory Usage: 3110.0KB\n",
            "Test Loss: 0.8277, Test Acc: 0.7167, Test Latency: 2.81s, Test Memory Usage: 194.0KB\n",
            "\n",
            "Epoch 16\n"
          ]
        },
        {
          "name": "stderr",
          "output_type": "stream",
          "text": [
            "Train: 100%|##########################| 391/391 [00:23<00:00, 17.00batch/s]\n"
          ]
        },
        {
          "name": "stdout",
          "output_type": "stream",
          "text": [
            "LR: 1.0000e-01, Train Loss: 0.6507, Train Acc: 0.7763, Train Latency: 23.00s, Memory Usage: 3110.0KB\n",
            "Test Loss: 0.7962, Test Acc: 0.7353, Test Latency: 2.46s, Test Memory Usage: 194.0KB\n",
            "\n",
            "Epoch 17\n"
          ]
        },
        {
          "name": "stderr",
          "output_type": "stream",
          "text": [
            "Train: 100%|##########################| 391/391 [00:24<00:00, 15.96batch/s]\n"
          ]
        },
        {
          "name": "stdout",
          "output_type": "stream",
          "text": [
            "LR: 1.0000e-01, Train Loss: 0.6478, Train Acc: 0.7775, Train Latency: 24.51s, Memory Usage: 3110.0KB\n",
            "Test Loss: 0.8812, Test Acc: 0.7063, Test Latency: 2.46s, Test Memory Usage: 194.0KB\n",
            "\n",
            "Epoch 18\n"
          ]
        },
        {
          "name": "stderr",
          "output_type": "stream",
          "text": [
            "Train: 100%|##########################| 391/391 [00:25<00:00, 15.34batch/s]\n"
          ]
        },
        {
          "name": "stdout",
          "output_type": "stream",
          "text": [
            "LR: 1.0000e-01, Train Loss: 0.6500, Train Acc: 0.7772, Train Latency: 25.49s, Memory Usage: 3110.0KB\n",
            "Test Loss: 1.1554, Test Acc: 0.6479, Test Latency: 2.81s, Test Memory Usage: 194.0KB\n",
            "\n",
            "Epoch 19\n"
          ]
        },
        {
          "name": "stderr",
          "output_type": "stream",
          "text": [
            "Train: 100%|##########################| 391/391 [00:26<00:00, 14.73batch/s]\n"
          ]
        },
        {
          "name": "stdout",
          "output_type": "stream",
          "text": [
            "LR: 1.0000e-01, Train Loss: 0.6387, Train Acc: 0.7807, Train Latency: 26.54s, Memory Usage: 3110.0KB\n",
            "Test Loss: 1.1894, Test Acc: 0.6382, Test Latency: 2.80s, Test Memory Usage: 194.0KB\n",
            "\n",
            "Epoch 20\n"
          ]
        },
        {
          "name": "stderr",
          "output_type": "stream",
          "text": [
            "Train: 100%|##########################| 391/391 [00:26<00:00, 14.83batch/s]\n"
          ]
        },
        {
          "name": "stdout",
          "output_type": "stream",
          "text": [
            "LR: 1.0000e-01, Train Loss: 0.6456, Train Acc: 0.7781, Train Latency: 26.38s, Memory Usage: 3110.0KB\n",
            "Test Loss: 0.8887, Test Acc: 0.7105, Test Latency: 2.78s, Test Memory Usage: 194.0KB\n",
            "\n",
            "Epoch 21\n"
          ]
        },
        {
          "name": "stderr",
          "output_type": "stream",
          "text": [
            "Train: 100%|##########################| 391/391 [00:26<00:00, 14.87batch/s]\n"
          ]
        },
        {
          "name": "stdout",
          "output_type": "stream",
          "text": [
            "LR: 1.0000e-01, Train Loss: 0.6376, Train Acc: 0.7797, Train Latency: 26.30s, Memory Usage: 3110.0KB\n",
            "Test Loss: 0.9457, Test Acc: 0.7005, Test Latency: 2.80s, Test Memory Usage: 194.0KB\n",
            "\n",
            "Epoch 22\n"
          ]
        },
        {
          "name": "stderr",
          "output_type": "stream",
          "text": [
            "Train: 100%|##########################| 391/391 [00:24<00:00, 15.83batch/s]\n"
          ]
        },
        {
          "name": "stdout",
          "output_type": "stream",
          "text": [
            "LR: 1.0000e-01, Train Loss: 0.6278, Train Acc: 0.7862, Train Latency: 24.71s, Memory Usage: 3110.0KB\n",
            "Test Loss: 0.8344, Test Acc: 0.7242, Test Latency: 2.47s, Test Memory Usage: 194.0KB\n",
            "\n",
            "Epoch 23\n"
          ]
        },
        {
          "name": "stderr",
          "output_type": "stream",
          "text": [
            "Train: 100%|##########################| 391/391 [00:24<00:00, 15.80batch/s]\n"
          ]
        },
        {
          "name": "stdout",
          "output_type": "stream",
          "text": [
            "LR: 1.0000e-01, Train Loss: 0.6298, Train Acc: 0.7847, Train Latency: 24.75s, Memory Usage: 3110.0KB\n",
            "Test Loss: 1.1908, Test Acc: 0.6367, Test Latency: 2.48s, Test Memory Usage: 194.0KB\n",
            "\n",
            "Epoch 24\n"
          ]
        },
        {
          "name": "stderr",
          "output_type": "stream",
          "text": [
            "Train: 100%|##########################| 391/391 [00:24<00:00, 15.81batch/s]\n"
          ]
        },
        {
          "name": "stdout",
          "output_type": "stream",
          "text": [
            "LR: 1.0000e-01, Train Loss: 0.6269, Train Acc: 0.7868, Train Latency: 24.74s, Memory Usage: 3110.0KB\n",
            "Test Loss: 0.8279, Test Acc: 0.7189, Test Latency: 2.80s, Test Memory Usage: 194.0KB\n",
            "\n",
            "Epoch 25\n"
          ]
        },
        {
          "name": "stderr",
          "output_type": "stream",
          "text": [
            "Train: 100%|##########################| 391/391 [00:24<00:00, 15.67batch/s]\n"
          ]
        },
        {
          "name": "stdout",
          "output_type": "stream",
          "text": [
            "LR: 1.0000e-01, Train Loss: 0.6284, Train Acc: 0.7838, Train Latency: 24.96s, Memory Usage: 3110.0KB\n",
            "Test Loss: 0.8333, Test Acc: 0.7267, Test Latency: 2.80s, Test Memory Usage: 194.0KB\n",
            "\n",
            "Epoch 26\n"
          ]
        },
        {
          "name": "stderr",
          "output_type": "stream",
          "text": [
            "Train: 100%|##########################| 391/391 [00:26<00:00, 14.75batch/s]\n"
          ]
        },
        {
          "name": "stdout",
          "output_type": "stream",
          "text": [
            "LR: 1.0000e-01, Train Loss: 0.6296, Train Acc: 0.7823, Train Latency: 26.52s, Memory Usage: 3110.0KB\n",
            "Test Loss: 0.8703, Test Acc: 0.7074, Test Latency: 2.78s, Test Memory Usage: 194.0KB\n",
            "\n",
            "Epoch 27\n"
          ]
        },
        {
          "name": "stderr",
          "output_type": "stream",
          "text": [
            "Train: 100%|##########################| 391/391 [00:24<00:00, 15.91batch/s]\n"
          ]
        },
        {
          "name": "stdout",
          "output_type": "stream",
          "text": [
            "LR: 1.0000e-01, Train Loss: 0.6225, Train Acc: 0.7880, Train Latency: 24.58s, Memory Usage: 3110.0KB\n",
            "Test Loss: 0.8386, Test Acc: 0.7257, Test Latency: 2.48s, Test Memory Usage: 194.0KB\n",
            "\n",
            "Epoch 28\n"
          ]
        },
        {
          "name": "stderr",
          "output_type": "stream",
          "text": [
            "Train: 100%|##########################| 391/391 [00:26<00:00, 15.02batch/s]\n"
          ]
        },
        {
          "name": "stdout",
          "output_type": "stream",
          "text": [
            "LR: 1.0000e-01, Train Loss: 0.6296, Train Acc: 0.7842, Train Latency: 26.03s, Memory Usage: 3110.0KB\n",
            "Test Loss: 1.0667, Test Acc: 0.6362, Test Latency: 2.80s, Test Memory Usage: 194.0KB\n",
            "\n",
            "Epoch 29\n"
          ]
        },
        {
          "name": "stderr",
          "output_type": "stream",
          "text": [
            "Train: 100%|##########################| 391/391 [00:24<00:00, 15.95batch/s]\n"
          ]
        },
        {
          "name": "stdout",
          "output_type": "stream",
          "text": [
            "LR: 1.0000e-01, Train Loss: 0.6174, Train Acc: 0.7891, Train Latency: 24.52s, Memory Usage: 3110.0KB\n",
            "Test Loss: 1.0848, Test Acc: 0.6494, Test Latency: 2.81s, Test Memory Usage: 194.0KB\n",
            "\n",
            "Epoch 30\n"
          ]
        },
        {
          "name": "stderr",
          "output_type": "stream",
          "text": [
            "Train: 100%|##########################| 391/391 [00:26<00:00, 14.96batch/s]\n"
          ]
        },
        {
          "name": "stdout",
          "output_type": "stream",
          "text": [
            "LR: 1.0000e-01, Train Loss: 0.6268, Train Acc: 0.7853, Train Latency: 26.14s, Memory Usage: 3110.0KB\n",
            "Test Loss: 0.8657, Test Acc: 0.7033, Test Latency: 2.80s, Test Memory Usage: 194.0KB\n",
            "\n",
            "Epoch 31\n"
          ]
        },
        {
          "name": "stderr",
          "output_type": "stream",
          "text": [
            "Train: 100%|##########################| 391/391 [00:25<00:00, 15.43batch/s]\n"
          ]
        },
        {
          "name": "stdout",
          "output_type": "stream",
          "text": [
            "LR: 1.0000e-01, Train Loss: 0.6266, Train Acc: 0.7859, Train Latency: 25.35s, Memory Usage: 3110.0KB\n",
            "Test Loss: 1.0274, Test Acc: 0.6693, Test Latency: 2.45s, Test Memory Usage: 194.0KB\n",
            "\n",
            "Epoch 32\n"
          ]
        },
        {
          "name": "stderr",
          "output_type": "stream",
          "text": [
            "Train: 100%|##########################| 391/391 [00:25<00:00, 15.43batch/s]\n"
          ]
        },
        {
          "name": "stdout",
          "output_type": "stream",
          "text": [
            "LR: 1.0000e-01, Train Loss: 0.6234, Train Acc: 0.7867, Train Latency: 25.35s, Memory Usage: 3110.0KB\n",
            "Test Loss: 1.4465, Test Acc: 0.5873, Test Latency: 2.82s, Test Memory Usage: 194.0KB\n",
            "\n",
            "Epoch 33\n"
          ]
        },
        {
          "name": "stderr",
          "output_type": "stream",
          "text": [
            "Train: 100%|##########################| 391/391 [00:26<00:00, 14.82batch/s]\n"
          ]
        },
        {
          "name": "stdout",
          "output_type": "stream",
          "text": [
            "LR: 1.0000e-01, Train Loss: 0.6239, Train Acc: 0.7861, Train Latency: 26.38s, Memory Usage: 3110.0KB\n",
            "Test Loss: 0.9827, Test Acc: 0.6921, Test Latency: 2.81s, Test Memory Usage: 194.0KB\n",
            "\n",
            "Epoch 34\n"
          ]
        },
        {
          "name": "stderr",
          "output_type": "stream",
          "text": [
            "Train: 100%|##########################| 391/391 [00:25<00:00, 15.43batch/s]\n"
          ]
        },
        {
          "name": "stdout",
          "output_type": "stream",
          "text": [
            "LR: 1.0000e-01, Train Loss: 0.6181, Train Acc: 0.7872, Train Latency: 25.34s, Memory Usage: 3110.0KB\n",
            "Test Loss: 0.7761, Test Acc: 0.7406, Test Latency: 2.80s, Test Memory Usage: 194.0KB\n",
            "\n",
            "Epoch 35\n"
          ]
        },
        {
          "name": "stderr",
          "output_type": "stream",
          "text": [
            "Train: 100%|##########################| 391/391 [00:26<00:00, 14.86batch/s]\n"
          ]
        },
        {
          "name": "stdout",
          "output_type": "stream",
          "text": [
            "LR: 1.0000e-01, Train Loss: 0.6126, Train Acc: 0.7913, Train Latency: 26.31s, Memory Usage: 3110.0KB\n",
            "Test Loss: 1.0156, Test Acc: 0.6864, Test Latency: 2.78s, Test Memory Usage: 194.0KB\n",
            "\n",
            "Epoch 36\n"
          ]
        },
        {
          "name": "stderr",
          "output_type": "stream",
          "text": [
            "Train: 100%|##########################| 391/391 [00:24<00:00, 16.06batch/s]\n"
          ]
        },
        {
          "name": "stdout",
          "output_type": "stream",
          "text": [
            "LR: 1.0000e-01, Train Loss: 0.6269, Train Acc: 0.7843, Train Latency: 24.34s, Memory Usage: 3110.0KB\n",
            "Test Loss: 0.9055, Test Acc: 0.7004, Test Latency: 2.80s, Test Memory Usage: 194.0KB\n",
            "\n",
            "Epoch 37\n"
          ]
        },
        {
          "name": "stderr",
          "output_type": "stream",
          "text": [
            "Train: 100%|##########################| 391/391 [00:24<00:00, 16.17batch/s]\n"
          ]
        },
        {
          "name": "stdout",
          "output_type": "stream",
          "text": [
            "LR: 1.0000e-01, Train Loss: 0.6132, Train Acc: 0.7903, Train Latency: 24.19s, Memory Usage: 3110.0KB\n",
            "Test Loss: 1.7327, Test Acc: 0.5531, Test Latency: 2.81s, Test Memory Usage: 194.0KB\n",
            "\n",
            "Epoch 38\n"
          ]
        },
        {
          "name": "stderr",
          "output_type": "stream",
          "text": [
            "Train: 100%|##########################| 391/391 [00:25<00:00, 15.54batch/s]\n"
          ]
        },
        {
          "name": "stdout",
          "output_type": "stream",
          "text": [
            "LR: 1.0000e-01, Train Loss: 0.6135, Train Acc: 0.7902, Train Latency: 25.16s, Memory Usage: 3110.0KB\n",
            "Test Loss: 0.9085, Test Acc: 0.6924, Test Latency: 2.79s, Test Memory Usage: 194.0KB\n",
            "\n",
            "Epoch 39\n"
          ]
        },
        {
          "name": "stderr",
          "output_type": "stream",
          "text": [
            "Train: 100%|##########################| 391/391 [00:25<00:00, 15.41batch/s]\n"
          ]
        },
        {
          "name": "stdout",
          "output_type": "stream",
          "text": [
            "LR: 1.0000e-01, Train Loss: 0.6118, Train Acc: 0.7907, Train Latency: 25.38s, Memory Usage: 3110.0KB\n",
            "Test Loss: 0.7313, Test Acc: 0.7482, Test Latency: 2.48s, Test Memory Usage: 194.0KB\n",
            "\n",
            "Epoch 40\n"
          ]
        },
        {
          "name": "stderr",
          "output_type": "stream",
          "text": [
            "Train: 100%|##########################| 391/391 [00:26<00:00, 14.74batch/s]\n"
          ]
        },
        {
          "name": "stdout",
          "output_type": "stream",
          "text": [
            "LR: 1.0000e-01, Train Loss: 0.6134, Train Acc: 0.7902, Train Latency: 26.54s, Memory Usage: 3110.0KB\n",
            "Test Loss: 1.2485, Test Acc: 0.6224, Test Latency: 2.72s, Test Memory Usage: 194.0KB\n",
            "\n",
            "Epoch 41\n"
          ]
        },
        {
          "name": "stderr",
          "output_type": "stream",
          "text": [
            "Train: 100%|##########################| 391/391 [00:24<00:00, 15.75batch/s]\n"
          ]
        },
        {
          "name": "stdout",
          "output_type": "stream",
          "text": [
            "LR: 1.0000e-01, Train Loss: 0.6109, Train Acc: 0.7915, Train Latency: 24.82s, Memory Usage: 3110.0KB\n",
            "Test Loss: 0.9909, Test Acc: 0.7005, Test Latency: 2.47s, Test Memory Usage: 194.0KB\n",
            "\n",
            "Epoch 42\n"
          ]
        },
        {
          "name": "stderr",
          "output_type": "stream",
          "text": [
            "Train: 100%|##########################| 391/391 [00:26<00:00, 14.83batch/s]\n"
          ]
        },
        {
          "name": "stdout",
          "output_type": "stream",
          "text": [
            "LR: 1.0000e-01, Train Loss: 0.6118, Train Acc: 0.7895, Train Latency: 26.38s, Memory Usage: 3110.0KB\n",
            "Test Loss: 0.9536, Test Acc: 0.6641, Test Latency: 2.71s, Test Memory Usage: 194.0KB\n",
            "\n",
            "Epoch 43\n"
          ]
        },
        {
          "name": "stderr",
          "output_type": "stream",
          "text": [
            "Train: 100%|##########################| 391/391 [00:25<00:00, 15.19batch/s]\n"
          ]
        },
        {
          "name": "stdout",
          "output_type": "stream",
          "text": [
            "LR: 1.0000e-01, Train Loss: 0.6132, Train Acc: 0.7909, Train Latency: 25.75s, Memory Usage: 3110.0KB\n",
            "Test Loss: 0.7532, Test Acc: 0.7524, Test Latency: 2.77s, Test Memory Usage: 194.0KB\n",
            "\n",
            "Epoch 44\n"
          ]
        },
        {
          "name": "stderr",
          "output_type": "stream",
          "text": [
            "Train: 100%|##########################| 391/391 [00:28<00:00, 13.81batch/s]\n"
          ]
        },
        {
          "name": "stdout",
          "output_type": "stream",
          "text": [
            "LR: 1.0000e-01, Train Loss: 0.6046, Train Acc: 0.7927, Train Latency: 28.31s, Memory Usage: 3110.0KB\n",
            "Test Loss: 0.8736, Test Acc: 0.7169, Test Latency: 2.93s, Test Memory Usage: 194.0KB\n",
            "\n",
            "Epoch 45\n"
          ]
        },
        {
          "name": "stderr",
          "output_type": "stream",
          "text": [
            "Train: 100%|##########################| 391/391 [00:28<00:00, 13.59batch/s]\n"
          ]
        },
        {
          "name": "stdout",
          "output_type": "stream",
          "text": [
            "LR: 1.0000e-01, Train Loss: 0.6142, Train Acc: 0.7899, Train Latency: 28.76s, Memory Usage: 3110.0KB\n",
            "Test Loss: 0.7892, Test Acc: 0.7324, Test Latency: 2.81s, Test Memory Usage: 194.0KB\n",
            "\n",
            "Epoch 46\n"
          ]
        },
        {
          "name": "stderr",
          "output_type": "stream",
          "text": [
            "Train: 100%|##########################| 391/391 [00:26<00:00, 14.81batch/s]\n"
          ]
        },
        {
          "name": "stdout",
          "output_type": "stream",
          "text": [
            "LR: 1.0000e-01, Train Loss: 0.6150, Train Acc: 0.7904, Train Latency: 26.41s, Memory Usage: 3110.0KB\n",
            "Test Loss: 0.7875, Test Acc: 0.7323, Test Latency: 2.83s, Test Memory Usage: 194.0KB\n",
            "\n",
            "Epoch 47\n"
          ]
        },
        {
          "name": "stderr",
          "output_type": "stream",
          "text": [
            "Train: 100%|##########################| 391/391 [00:24<00:00, 15.79batch/s]\n"
          ]
        },
        {
          "name": "stdout",
          "output_type": "stream",
          "text": [
            "LR: 1.0000e-01, Train Loss: 0.6108, Train Acc: 0.7901, Train Latency: 24.76s, Memory Usage: 3110.0KB\n",
            "Test Loss: 1.0041, Test Acc: 0.6588, Test Latency: 2.51s, Test Memory Usage: 194.0KB\n",
            "\n",
            "Epoch 48\n"
          ]
        },
        {
          "name": "stderr",
          "output_type": "stream",
          "text": [
            "Train: 100%|##########################| 391/391 [00:24<00:00, 15.94batch/s]\n"
          ]
        },
        {
          "name": "stdout",
          "output_type": "stream",
          "text": [
            "LR: 1.0000e-01, Train Loss: 0.6132, Train Acc: 0.7909, Train Latency: 24.54s, Memory Usage: 3110.0KB\n",
            "Test Loss: 0.9281, Test Acc: 0.6990, Test Latency: 2.78s, Test Memory Usage: 194.0KB\n",
            "\n",
            "Epoch 49\n"
          ]
        },
        {
          "name": "stderr",
          "output_type": "stream",
          "text": [
            "Train: 100%|##########################| 391/391 [00:23<00:00, 16.47batch/s]\n"
          ]
        },
        {
          "name": "stdout",
          "output_type": "stream",
          "text": [
            "LR: 1.0000e-01, Train Loss: 0.6144, Train Acc: 0.7905, Train Latency: 23.74s, Memory Usage: 3110.0KB\n",
            "Test Loss: 1.3025, Test Acc: 0.5918, Test Latency: 2.78s, Test Memory Usage: 194.0KB\n",
            "\n",
            "Epoch 50\n"
          ]
        },
        {
          "name": "stderr",
          "output_type": "stream",
          "text": [
            "Train: 100%|##########################| 391/391 [00:24<00:00, 15.88batch/s]\n"
          ]
        },
        {
          "name": "stdout",
          "output_type": "stream",
          "text": [
            "LR: 1.0000e-01, Train Loss: 0.6116, Train Acc: 0.7929, Train Latency: 24.62s, Memory Usage: 3110.0KB\n",
            "Test Loss: 0.8073, Test Acc: 0.7401, Test Latency: 2.79s, Test Memory Usage: 194.0KB\n",
            "\n",
            "Epoch 51\n"
          ]
        },
        {
          "name": "stderr",
          "output_type": "stream",
          "text": [
            "Train: 100%|##########################| 391/391 [00:26<00:00, 14.65batch/s]\n"
          ]
        },
        {
          "name": "stdout",
          "output_type": "stream",
          "text": [
            "LR: 1.0000e-02, Train Loss: 0.4187, Train Acc: 0.8576, Train Latency: 26.70s, Memory Usage: 3110.0KB\n",
            "Test Loss: 0.4428, Test Acc: 0.8509, Test Latency: 2.78s, Test Memory Usage: 194.0KB\n",
            "Saving best model ...\n",
            "\n",
            "Epoch 52\n"
          ]
        },
        {
          "name": "stderr",
          "output_type": "stream",
          "text": [
            "Train: 100%|##########################| 391/391 [00:25<00:00, 15.59batch/s]\n"
          ]
        },
        {
          "name": "stdout",
          "output_type": "stream",
          "text": [
            "LR: 1.0000e-02, Train Loss: 0.3686, Train Acc: 0.8748, Train Latency: 25.09s, Memory Usage: 3110.0KB\n",
            "Test Loss: 0.3952, Test Acc: 0.8644, Test Latency: 2.45s, Test Memory Usage: 194.0KB\n",
            "Saving best model ...\n",
            "\n",
            "Epoch 53\n"
          ]
        },
        {
          "name": "stderr",
          "output_type": "stream",
          "text": [
            "Train: 100%|##########################| 391/391 [00:24<00:00, 16.14batch/s]\n"
          ]
        },
        {
          "name": "stdout",
          "output_type": "stream",
          "text": [
            "LR: 1.0000e-02, Train Loss: 0.3480, Train Acc: 0.8801, Train Latency: 24.23s, Memory Usage: 3110.0KB\n",
            "Test Loss: 0.3966, Test Acc: 0.8673, Test Latency: 2.79s, Test Memory Usage: 194.0KB\n",
            "Saving best model ...\n",
            "\n",
            "Epoch 54\n"
          ]
        },
        {
          "name": "stderr",
          "output_type": "stream",
          "text": [
            "Train: 100%|##########################| 391/391 [00:23<00:00, 16.78batch/s]\n"
          ]
        },
        {
          "name": "stdout",
          "output_type": "stream",
          "text": [
            "LR: 1.0000e-02, Train Loss: 0.3350, Train Acc: 0.8846, Train Latency: 23.31s, Memory Usage: 3110.0KB\n",
            "Test Loss: 0.3905, Test Acc: 0.8706, Test Latency: 2.79s, Test Memory Usage: 194.0KB\n",
            "Saving best model ...\n",
            "\n",
            "Epoch 55\n"
          ]
        },
        {
          "name": "stderr",
          "output_type": "stream",
          "text": [
            "Train: 100%|##########################| 391/391 [00:26<00:00, 14.90batch/s]\n"
          ]
        },
        {
          "name": "stdout",
          "output_type": "stream",
          "text": [
            "LR: 1.0000e-02, Train Loss: 0.3272, Train Acc: 0.8884, Train Latency: 26.25s, Memory Usage: 3110.0KB\n",
            "Test Loss: 0.4074, Test Acc: 0.8605, Test Latency: 2.79s, Test Memory Usage: 194.0KB\n",
            "\n",
            "Epoch 56\n"
          ]
        },
        {
          "name": "stderr",
          "output_type": "stream",
          "text": [
            "Train: 100%|##########################| 391/391 [00:24<00:00, 15.90batch/s]\n"
          ]
        },
        {
          "name": "stdout",
          "output_type": "stream",
          "text": [
            "LR: 1.0000e-02, Train Loss: 0.3232, Train Acc: 0.8903, Train Latency: 24.60s, Memory Usage: 3110.0KB\n",
            "Test Loss: 0.3697, Test Acc: 0.8766, Test Latency: 2.80s, Test Memory Usage: 194.0KB\n",
            "Saving best model ...\n",
            "\n",
            "Epoch 57\n"
          ]
        },
        {
          "name": "stderr",
          "output_type": "stream",
          "text": [
            "Train: 100%|##########################| 391/391 [00:26<00:00, 14.73batch/s]\n"
          ]
        },
        {
          "name": "stdout",
          "output_type": "stream",
          "text": [
            "LR: 1.0000e-02, Train Loss: 0.3150, Train Acc: 0.8919, Train Latency: 26.55s, Memory Usage: 3110.0KB\n",
            "Test Loss: 0.4240, Test Acc: 0.8624, Test Latency: 2.80s, Test Memory Usage: 194.0KB\n",
            "\n",
            "Epoch 58\n"
          ]
        },
        {
          "name": "stderr",
          "output_type": "stream",
          "text": [
            "Train: 100%|##########################| 391/391 [00:23<00:00, 16.66batch/s]\n"
          ]
        },
        {
          "name": "stdout",
          "output_type": "stream",
          "text": [
            "LR: 1.0000e-02, Train Loss: 0.3176, Train Acc: 0.8921, Train Latency: 23.47s, Memory Usage: 3110.0KB\n",
            "Test Loss: 0.4126, Test Acc: 0.8596, Test Latency: 2.46s, Test Memory Usage: 194.0KB\n",
            "\n",
            "Epoch 59\n"
          ]
        },
        {
          "name": "stderr",
          "output_type": "stream",
          "text": [
            "Train: 100%|##########################| 391/391 [00:26<00:00, 14.97batch/s]\n"
          ]
        },
        {
          "name": "stdout",
          "output_type": "stream",
          "text": [
            "LR: 1.0000e-02, Train Loss: 0.3171, Train Acc: 0.8922, Train Latency: 26.12s, Memory Usage: 3110.0KB\n",
            "Test Loss: 0.3800, Test Acc: 0.8705, Test Latency: 2.46s, Test Memory Usage: 194.0KB\n",
            "\n",
            "Epoch 60\n"
          ]
        },
        {
          "name": "stderr",
          "output_type": "stream",
          "text": [
            "Train: 100%|##########################| 391/391 [00:25<00:00, 15.16batch/s]\n"
          ]
        },
        {
          "name": "stdout",
          "output_type": "stream",
          "text": [
            "LR: 1.0000e-02, Train Loss: 0.3152, Train Acc: 0.8920, Train Latency: 25.80s, Memory Usage: 3110.0KB\n",
            "Test Loss: 0.3942, Test Acc: 0.8663, Test Latency: 2.78s, Test Memory Usage: 194.0KB\n",
            "\n",
            "Epoch 61\n"
          ]
        },
        {
          "name": "stderr",
          "output_type": "stream",
          "text": [
            "Train: 100%|##########################| 391/391 [00:26<00:00, 14.74batch/s]\n"
          ]
        },
        {
          "name": "stdout",
          "output_type": "stream",
          "text": [
            "LR: 1.0000e-02, Train Loss: 0.3099, Train Acc: 0.8947, Train Latency: 26.52s, Memory Usage: 3110.0KB\n",
            "Test Loss: 0.4397, Test Acc: 0.8514, Test Latency: 2.82s, Test Memory Usage: 194.0KB\n",
            "\n",
            "Epoch 62\n"
          ]
        },
        {
          "name": "stderr",
          "output_type": "stream",
          "text": [
            "Train: 100%|##########################| 391/391 [00:26<00:00, 14.85batch/s]\n"
          ]
        },
        {
          "name": "stdout",
          "output_type": "stream",
          "text": [
            "LR: 1.0000e-02, Train Loss: 0.3159, Train Acc: 0.8917, Train Latency: 26.34s, Memory Usage: 3110.0KB\n",
            "Test Loss: 0.4495, Test Acc: 0.8507, Test Latency: 2.78s, Test Memory Usage: 194.0KB\n",
            "\n",
            "Epoch 63\n"
          ]
        },
        {
          "name": "stderr",
          "output_type": "stream",
          "text": [
            "Train: 100%|##########################| 391/391 [00:26<00:00, 14.96batch/s]\n"
          ]
        },
        {
          "name": "stdout",
          "output_type": "stream",
          "text": [
            "LR: 1.0000e-02, Train Loss: 0.3098, Train Acc: 0.8936, Train Latency: 26.13s, Memory Usage: 3110.0KB\n",
            "Test Loss: 0.3898, Test Acc: 0.8653, Test Latency: 2.78s, Test Memory Usage: 194.0KB\n",
            "\n",
            "Epoch 64\n"
          ]
        },
        {
          "name": "stderr",
          "output_type": "stream",
          "text": [
            "Train: 100%|##########################| 391/391 [00:25<00:00, 15.15batch/s]\n"
          ]
        },
        {
          "name": "stdout",
          "output_type": "stream",
          "text": [
            "LR: 1.0000e-02, Train Loss: 0.3089, Train Acc: 0.8941, Train Latency: 25.82s, Memory Usage: 3110.0KB\n",
            "Test Loss: 0.5045, Test Acc: 0.8331, Test Latency: 2.79s, Test Memory Usage: 194.0KB\n",
            "\n",
            "Epoch 65\n"
          ]
        },
        {
          "name": "stderr",
          "output_type": "stream",
          "text": [
            "Train: 100%|##########################| 391/391 [00:24<00:00, 15.86batch/s]\n"
          ]
        },
        {
          "name": "stdout",
          "output_type": "stream",
          "text": [
            "LR: 1.0000e-02, Train Loss: 0.3070, Train Acc: 0.8939, Train Latency: 24.66s, Memory Usage: 3110.0KB\n",
            "Test Loss: 0.4566, Test Acc: 0.8507, Test Latency: 2.44s, Test Memory Usage: 194.0KB\n",
            "\n",
            "Epoch 66\n"
          ]
        },
        {
          "name": "stderr",
          "output_type": "stream",
          "text": [
            "Train: 100%|##########################| 391/391 [00:26<00:00, 14.97batch/s]\n"
          ]
        },
        {
          "name": "stdout",
          "output_type": "stream",
          "text": [
            "LR: 1.0000e-02, Train Loss: 0.3074, Train Acc: 0.8952, Train Latency: 26.13s, Memory Usage: 3110.0KB\n",
            "Test Loss: 0.5490, Test Acc: 0.8175, Test Latency: 2.80s, Test Memory Usage: 194.0KB\n",
            "\n",
            "Epoch 67\n"
          ]
        },
        {
          "name": "stderr",
          "output_type": "stream",
          "text": [
            "Train: 100%|##########################| 391/391 [00:25<00:00, 15.64batch/s]\n"
          ]
        },
        {
          "name": "stdout",
          "output_type": "stream",
          "text": [
            "LR: 1.0000e-02, Train Loss: 0.3034, Train Acc: 0.8960, Train Latency: 25.01s, Memory Usage: 3110.0KB\n",
            "Test Loss: 0.4495, Test Acc: 0.8474, Test Latency: 2.79s, Test Memory Usage: 194.0KB\n",
            "\n",
            "Epoch 68\n"
          ]
        },
        {
          "name": "stderr",
          "output_type": "stream",
          "text": [
            "Train: 100%|##########################| 391/391 [00:26<00:00, 14.82batch/s]\n"
          ]
        },
        {
          "name": "stdout",
          "output_type": "stream",
          "text": [
            "LR: 1.0000e-02, Train Loss: 0.3070, Train Acc: 0.8940, Train Latency: 26.38s, Memory Usage: 3110.0KB\n",
            "Test Loss: 0.4014, Test Acc: 0.8617, Test Latency: 2.78s, Test Memory Usage: 194.0KB\n",
            "\n",
            "Epoch 69\n"
          ]
        },
        {
          "name": "stderr",
          "output_type": "stream",
          "text": [
            "Train: 100%|##########################| 391/391 [00:26<00:00, 14.98batch/s]\n"
          ]
        },
        {
          "name": "stdout",
          "output_type": "stream",
          "text": [
            "LR: 1.0000e-02, Train Loss: 0.3018, Train Acc: 0.8976, Train Latency: 26.11s, Memory Usage: 3110.0KB\n",
            "Test Loss: 0.6146, Test Acc: 0.8020, Test Latency: 2.81s, Test Memory Usage: 194.0KB\n",
            "\n",
            "Epoch 70\n"
          ]
        },
        {
          "name": "stderr",
          "output_type": "stream",
          "text": [
            "Train: 100%|##########################| 391/391 [00:26<00:00, 14.65batch/s]\n"
          ]
        },
        {
          "name": "stdout",
          "output_type": "stream",
          "text": [
            "LR: 1.0000e-02, Train Loss: 0.3068, Train Acc: 0.8958, Train Latency: 26.69s, Memory Usage: 3110.0KB\n",
            "Test Loss: 0.4061, Test Acc: 0.8595, Test Latency: 2.78s, Test Memory Usage: 194.0KB\n",
            "\n",
            "Epoch 71\n"
          ]
        },
        {
          "name": "stderr",
          "output_type": "stream",
          "text": [
            "Train: 100%|##########################| 391/391 [00:26<00:00, 14.79batch/s]\n"
          ]
        },
        {
          "name": "stdout",
          "output_type": "stream",
          "text": [
            "LR: 1.0000e-02, Train Loss: 0.2995, Train Acc: 0.8979, Train Latency: 26.45s, Memory Usage: 3110.0KB\n",
            "Test Loss: 0.5017, Test Acc: 0.8381, Test Latency: 2.78s, Test Memory Usage: 194.0KB\n",
            "\n",
            "Epoch 72\n"
          ]
        },
        {
          "name": "stderr",
          "output_type": "stream",
          "text": [
            "Train: 100%|##########################| 391/391 [00:24<00:00, 15.76batch/s]\n"
          ]
        },
        {
          "name": "stdout",
          "output_type": "stream",
          "text": [
            "LR: 1.0000e-02, Train Loss: 0.3069, Train Acc: 0.8956, Train Latency: 24.82s, Memory Usage: 3110.0KB\n",
            "Test Loss: 0.5062, Test Acc: 0.8359, Test Latency: 2.44s, Test Memory Usage: 194.0KB\n",
            "\n",
            "Epoch 73\n"
          ]
        },
        {
          "name": "stderr",
          "output_type": "stream",
          "text": [
            "Train: 100%|##########################| 391/391 [00:25<00:00, 15.17batch/s]\n"
          ]
        },
        {
          "name": "stdout",
          "output_type": "stream",
          "text": [
            "LR: 1.0000e-02, Train Loss: 0.3017, Train Acc: 0.8967, Train Latency: 25.77s, Memory Usage: 3110.0KB\n",
            "Test Loss: 0.4185, Test Acc: 0.8611, Test Latency: 2.81s, Test Memory Usage: 194.0KB\n",
            "\n",
            "Epoch 74\n"
          ]
        },
        {
          "name": "stderr",
          "output_type": "stream",
          "text": [
            "Train: 100%|##########################| 391/391 [00:25<00:00, 15.49batch/s]\n"
          ]
        },
        {
          "name": "stdout",
          "output_type": "stream",
          "text": [
            "LR: 1.0000e-02, Train Loss: 0.3018, Train Acc: 0.8970, Train Latency: 25.25s, Memory Usage: 3110.0KB\n",
            "Test Loss: 0.4630, Test Acc: 0.8455, Test Latency: 2.79s, Test Memory Usage: 194.0KB\n",
            "\n",
            "Epoch 75\n"
          ]
        },
        {
          "name": "stderr",
          "output_type": "stream",
          "text": [
            "Train: 100%|##########################| 391/391 [00:23<00:00, 16.31batch/s]\n"
          ]
        },
        {
          "name": "stdout",
          "output_type": "stream",
          "text": [
            "LR: 1.0000e-02, Train Loss: 0.3025, Train Acc: 0.8941, Train Latency: 23.98s, Memory Usage: 3110.0KB\n",
            "Test Loss: 0.4171, Test Acc: 0.8649, Test Latency: 2.80s, Test Memory Usage: 194.0KB\n",
            "\n",
            "Epoch 76\n"
          ]
        },
        {
          "name": "stderr",
          "output_type": "stream",
          "text": [
            "Train: 100%|##########################| 391/391 [00:26<00:00, 14.67batch/s]\n"
          ]
        },
        {
          "name": "stdout",
          "output_type": "stream",
          "text": [
            "LR: 1.0000e-02, Train Loss: 0.3000, Train Acc: 0.8961, Train Latency: 26.66s, Memory Usage: 3110.0KB\n",
            "Test Loss: 0.4777, Test Acc: 0.8363, Test Latency: 2.81s, Test Memory Usage: 194.0KB\n",
            "\n",
            "Epoch 77\n"
          ]
        },
        {
          "name": "stderr",
          "output_type": "stream",
          "text": [
            "Train: 100%|##########################| 391/391 [00:26<00:00, 15.02batch/s]\n"
          ]
        },
        {
          "name": "stdout",
          "output_type": "stream",
          "text": [
            "LR: 1.0000e-02, Train Loss: 0.2988, Train Acc: 0.8975, Train Latency: 26.03s, Memory Usage: 3110.0KB\n",
            "Test Loss: 0.4165, Test Acc: 0.8621, Test Latency: 2.78s, Test Memory Usage: 194.0KB\n",
            "\n",
            "Epoch 78\n"
          ]
        },
        {
          "name": "stderr",
          "output_type": "stream",
          "text": [
            "Train: 100%|##########################| 391/391 [00:26<00:00, 14.79batch/s]\n"
          ]
        },
        {
          "name": "stdout",
          "output_type": "stream",
          "text": [
            "LR: 1.0000e-02, Train Loss: 0.2937, Train Acc: 0.8985, Train Latency: 26.45s, Memory Usage: 3110.0KB\n",
            "Test Loss: 0.4292, Test Acc: 0.8533, Test Latency: 2.78s, Test Memory Usage: 194.0KB\n",
            "\n",
            "Epoch 79\n"
          ]
        },
        {
          "name": "stderr",
          "output_type": "stream",
          "text": [
            "Train: 100%|##########################| 391/391 [00:26<00:00, 14.88batch/s]\n"
          ]
        },
        {
          "name": "stdout",
          "output_type": "stream",
          "text": [
            "LR: 1.0000e-02, Train Loss: 0.2991, Train Acc: 0.8982, Train Latency: 26.28s, Memory Usage: 3110.0KB\n",
            "Test Loss: 0.4534, Test Acc: 0.8509, Test Latency: 2.77s, Test Memory Usage: 194.0KB\n",
            "\n",
            "Epoch 80\n"
          ]
        },
        {
          "name": "stderr",
          "output_type": "stream",
          "text": [
            "Train: 100%|##########################| 391/391 [00:26<00:00, 14.86batch/s]\n"
          ]
        },
        {
          "name": "stdout",
          "output_type": "stream",
          "text": [
            "LR: 1.0000e-02, Train Loss: 0.2895, Train Acc: 0.9000, Train Latency: 26.32s, Memory Usage: 3110.0KB\n",
            "Test Loss: 0.3886, Test Acc: 0.8677, Test Latency: 2.79s, Test Memory Usage: 194.0KB\n",
            "\n",
            "Epoch 81\n"
          ]
        },
        {
          "name": "stderr",
          "output_type": "stream",
          "text": [
            "Train: 100%|##########################| 391/391 [00:26<00:00, 14.91batch/s]\n"
          ]
        },
        {
          "name": "stdout",
          "output_type": "stream",
          "text": [
            "LR: 1.0000e-02, Train Loss: 0.2965, Train Acc: 0.8989, Train Latency: 26.22s, Memory Usage: 3110.0KB\n",
            "Test Loss: 0.4272, Test Acc: 0.8550, Test Latency: 2.80s, Test Memory Usage: 194.0KB\n",
            "\n",
            "Epoch 82\n"
          ]
        },
        {
          "name": "stderr",
          "output_type": "stream",
          "text": [
            "Train: 100%|##########################| 391/391 [00:26<00:00, 14.80batch/s]\n"
          ]
        },
        {
          "name": "stdout",
          "output_type": "stream",
          "text": [
            "LR: 1.0000e-02, Train Loss: 0.2937, Train Acc: 0.8996, Train Latency: 26.43s, Memory Usage: 3110.0KB\n",
            "Test Loss: 0.4485, Test Acc: 0.8483, Test Latency: 2.82s, Test Memory Usage: 194.0KB\n",
            "\n",
            "Epoch 83\n"
          ]
        },
        {
          "name": "stderr",
          "output_type": "stream",
          "text": [
            "Train: 100%|##########################| 391/391 [00:25<00:00, 15.16batch/s]\n"
          ]
        },
        {
          "name": "stdout",
          "output_type": "stream",
          "text": [
            "LR: 1.0000e-02, Train Loss: 0.2896, Train Acc: 0.9007, Train Latency: 25.80s, Memory Usage: 3110.0KB\n",
            "Test Loss: 0.4700, Test Acc: 0.8432, Test Latency: 2.67s, Test Memory Usage: 194.0KB\n",
            "\n",
            "Epoch 84\n"
          ]
        },
        {
          "name": "stderr",
          "output_type": "stream",
          "text": [
            "Train: 100%|##########################| 391/391 [00:24<00:00, 15.88batch/s]\n"
          ]
        },
        {
          "name": "stdout",
          "output_type": "stream",
          "text": [
            "LR: 1.0000e-02, Train Loss: 0.2913, Train Acc: 0.9008, Train Latency: 24.63s, Memory Usage: 3110.0KB\n",
            "Test Loss: 0.4304, Test Acc: 0.8571, Test Latency: 2.81s, Test Memory Usage: 194.0KB\n",
            "\n",
            "Epoch 85\n"
          ]
        },
        {
          "name": "stderr",
          "output_type": "stream",
          "text": [
            "Train: 100%|##########################| 391/391 [00:24<00:00, 15.71batch/s]\n"
          ]
        },
        {
          "name": "stdout",
          "output_type": "stream",
          "text": [
            "LR: 1.0000e-02, Train Loss: 0.2885, Train Acc: 0.8999, Train Latency: 24.89s, Memory Usage: 3110.0KB\n",
            "Test Loss: 0.4418, Test Acc: 0.8514, Test Latency: 2.46s, Test Memory Usage: 194.0KB\n",
            "\n",
            "Epoch 86\n"
          ]
        },
        {
          "name": "stderr",
          "output_type": "stream",
          "text": [
            "Train: 100%|##########################| 391/391 [00:24<00:00, 16.20batch/s]\n"
          ]
        },
        {
          "name": "stdout",
          "output_type": "stream",
          "text": [
            "LR: 1.0000e-02, Train Loss: 0.2908, Train Acc: 0.8992, Train Latency: 24.13s, Memory Usage: 3110.0KB\n",
            "Test Loss: 0.3759, Test Acc: 0.8742, Test Latency: 2.78s, Test Memory Usage: 194.0KB\n",
            "\n",
            "Epoch 87\n"
          ]
        },
        {
          "name": "stderr",
          "output_type": "stream",
          "text": [
            "Train: 100%|##########################| 391/391 [00:26<00:00, 14.63batch/s]\n"
          ]
        },
        {
          "name": "stdout",
          "output_type": "stream",
          "text": [
            "LR: 1.0000e-02, Train Loss: 0.2869, Train Acc: 0.9013, Train Latency: 26.72s, Memory Usage: 3110.0KB\n",
            "Test Loss: 0.4194, Test Acc: 0.8642, Test Latency: 2.78s, Test Memory Usage: 194.0KB\n",
            "\n",
            "Epoch 88\n"
          ]
        },
        {
          "name": "stderr",
          "output_type": "stream",
          "text": [
            "Train: 100%|##########################| 391/391 [00:25<00:00, 15.07batch/s]\n"
          ]
        },
        {
          "name": "stdout",
          "output_type": "stream",
          "text": [
            "LR: 1.0000e-02, Train Loss: 0.2902, Train Acc: 0.9012, Train Latency: 25.95s, Memory Usage: 3110.0KB\n",
            "Test Loss: 0.3883, Test Acc: 0.8664, Test Latency: 2.44s, Test Memory Usage: 194.0KB\n",
            "\n",
            "Epoch 89\n"
          ]
        },
        {
          "name": "stderr",
          "output_type": "stream",
          "text": [
            "Train: 100%|##########################| 391/391 [00:26<00:00, 14.97batch/s]\n"
          ]
        },
        {
          "name": "stdout",
          "output_type": "stream",
          "text": [
            "LR: 1.0000e-02, Train Loss: 0.2852, Train Acc: 0.9021, Train Latency: 26.12s, Memory Usage: 3110.0KB\n",
            "Test Loss: 0.5366, Test Acc: 0.8299, Test Latency: 2.82s, Test Memory Usage: 194.0KB\n",
            "\n",
            "Epoch 90\n"
          ]
        },
        {
          "name": "stderr",
          "output_type": "stream",
          "text": [
            "Train: 100%|##########################| 391/391 [00:24<00:00, 15.78batch/s]\n"
          ]
        },
        {
          "name": "stdout",
          "output_type": "stream",
          "text": [
            "LR: 1.0000e-02, Train Loss: 0.2859, Train Acc: 0.9025, Train Latency: 24.78s, Memory Usage: 3110.0KB\n",
            "Test Loss: 0.4919, Test Acc: 0.8405, Test Latency: 2.81s, Test Memory Usage: 194.0KB\n",
            "\n",
            "Epoch 91\n"
          ]
        },
        {
          "name": "stderr",
          "output_type": "stream",
          "text": [
            "Train: 100%|##########################| 391/391 [00:25<00:00, 15.34batch/s]\n"
          ]
        },
        {
          "name": "stdout",
          "output_type": "stream",
          "text": [
            "LR: 1.0000e-02, Train Loss: 0.2816, Train Acc: 0.9034, Train Latency: 25.48s, Memory Usage: 3110.0KB\n",
            "Test Loss: 0.3829, Test Acc: 0.8689, Test Latency: 2.80s, Test Memory Usage: 194.0KB\n",
            "\n",
            "Epoch 92\n"
          ]
        },
        {
          "name": "stderr",
          "output_type": "stream",
          "text": [
            "Train: 100%|##########################| 391/391 [00:24<00:00, 16.04batch/s]\n"
          ]
        },
        {
          "name": "stdout",
          "output_type": "stream",
          "text": [
            "LR: 1.0000e-02, Train Loss: 0.2850, Train Acc: 0.9015, Train Latency: 24.38s, Memory Usage: 3110.0KB\n",
            "Test Loss: 0.3988, Test Acc: 0.8626, Test Latency: 2.43s, Test Memory Usage: 194.0KB\n",
            "\n",
            "Epoch 93\n"
          ]
        },
        {
          "name": "stderr",
          "output_type": "stream",
          "text": [
            "Train: 100%|##########################| 391/391 [00:23<00:00, 16.59batch/s]\n"
          ]
        },
        {
          "name": "stdout",
          "output_type": "stream",
          "text": [
            "LR: 1.0000e-02, Train Loss: 0.2823, Train Acc: 0.9037, Train Latency: 23.57s, Memory Usage: 3110.0KB\n",
            "Test Loss: 0.4352, Test Acc: 0.8520, Test Latency: 2.44s, Test Memory Usage: 194.0KB\n",
            "\n",
            "Epoch 94\n"
          ]
        },
        {
          "name": "stderr",
          "output_type": "stream",
          "text": [
            "Train: 100%|##########################| 391/391 [00:26<00:00, 14.86batch/s]\n"
          ]
        },
        {
          "name": "stdout",
          "output_type": "stream",
          "text": [
            "LR: 1.0000e-02, Train Loss: 0.2791, Train Acc: 0.9057, Train Latency: 26.32s, Memory Usage: 3110.0KB\n",
            "Test Loss: 0.3871, Test Acc: 0.8669, Test Latency: 2.77s, Test Memory Usage: 194.0KB\n",
            "\n",
            "Epoch 95\n"
          ]
        },
        {
          "name": "stderr",
          "output_type": "stream",
          "text": [
            "Train: 100%|##########################| 391/391 [00:22<00:00, 17.66batch/s]\n"
          ]
        },
        {
          "name": "stdout",
          "output_type": "stream",
          "text": [
            "LR: 1.0000e-02, Train Loss: 0.2843, Train Acc: 0.9036, Train Latency: 22.14s, Memory Usage: 3110.0KB\n",
            "Test Loss: 0.3973, Test Acc: 0.8663, Test Latency: 2.48s, Test Memory Usage: 194.0KB\n",
            "\n",
            "Epoch 96\n"
          ]
        },
        {
          "name": "stderr",
          "output_type": "stream",
          "text": [
            "Train: 100%|##########################| 391/391 [00:25<00:00, 15.38batch/s]\n"
          ]
        },
        {
          "name": "stdout",
          "output_type": "stream",
          "text": [
            "LR: 1.0000e-02, Train Loss: 0.2833, Train Acc: 0.9014, Train Latency: 25.43s, Memory Usage: 3110.0KB\n",
            "Test Loss: 0.4300, Test Acc: 0.8510, Test Latency: 2.45s, Test Memory Usage: 194.0KB\n",
            "\n",
            "Epoch 97\n"
          ]
        },
        {
          "name": "stderr",
          "output_type": "stream",
          "text": [
            "Train: 100%|##########################| 391/391 [00:26<00:00, 14.92batch/s]\n"
          ]
        },
        {
          "name": "stdout",
          "output_type": "stream",
          "text": [
            "LR: 1.0000e-02, Train Loss: 0.2809, Train Acc: 0.9044, Train Latency: 26.21s, Memory Usage: 3110.0KB\n",
            "Test Loss: 0.4399, Test Acc: 0.8542, Test Latency: 2.81s, Test Memory Usage: 194.0KB\n",
            "\n",
            "Epoch 98\n"
          ]
        },
        {
          "name": "stderr",
          "output_type": "stream",
          "text": [
            "Train: 100%|##########################| 391/391 [00:26<00:00, 14.73batch/s]\n"
          ]
        },
        {
          "name": "stdout",
          "output_type": "stream",
          "text": [
            "LR: 1.0000e-02, Train Loss: 0.2809, Train Acc: 0.9043, Train Latency: 26.56s, Memory Usage: 3110.0KB\n",
            "Test Loss: 0.4061, Test Acc: 0.8640, Test Latency: 2.80s, Test Memory Usage: 194.0KB\n",
            "\n",
            "Epoch 99\n"
          ]
        },
        {
          "name": "stderr",
          "output_type": "stream",
          "text": [
            "Train: 100%|##########################| 391/391 [00:26<00:00, 14.90batch/s]\n"
          ]
        },
        {
          "name": "stdout",
          "output_type": "stream",
          "text": [
            "LR: 1.0000e-02, Train Loss: 0.2748, Train Acc: 0.9042, Train Latency: 26.24s, Memory Usage: 3110.0KB\n",
            "Test Loss: 0.4325, Test Acc: 0.8536, Test Latency: 2.80s, Test Memory Usage: 194.0KB\n",
            "\n",
            "Epoch 100\n"
          ]
        },
        {
          "name": "stderr",
          "output_type": "stream",
          "text": [
            "Train: 100%|##########################| 391/391 [00:26<00:00, 14.97batch/s]\n"
          ]
        },
        {
          "name": "stdout",
          "output_type": "stream",
          "text": [
            "LR: 1.0000e-02, Train Loss: 0.2762, Train Acc: 0.9062, Train Latency: 26.13s, Memory Usage: 3110.0KB\n",
            "Test Loss: 0.3963, Test Acc: 0.8737, Test Latency: 2.79s, Test Memory Usage: 194.0KB\n",
            "\n",
            "Epoch 101\n"
          ]
        },
        {
          "name": "stderr",
          "output_type": "stream",
          "text": [
            "Train: 100%|##########################| 391/391 [00:22<00:00, 17.12batch/s]\n"
          ]
        },
        {
          "name": "stdout",
          "output_type": "stream",
          "text": [
            "LR: 1.0000e-03, Train Loss: 0.2078, Train Acc: 0.9314, Train Latency: 22.84s, Memory Usage: 3110.0KB\n",
            "Test Loss: 0.2888, Test Acc: 0.9037, Test Latency: 2.79s, Test Memory Usage: 194.0KB\n",
            "Saving best model ...\n",
            "\n",
            "Epoch 102\n"
          ]
        },
        {
          "name": "stderr",
          "output_type": "stream",
          "text": [
            "Train: 100%|##########################| 391/391 [00:26<00:00, 14.76batch/s]\n"
          ]
        },
        {
          "name": "stdout",
          "output_type": "stream",
          "text": [
            "LR: 1.0000e-03, Train Loss: 0.1804, Train Acc: 0.9413, Train Latency: 26.50s, Memory Usage: 3110.0KB\n",
            "Test Loss: 0.2855, Test Acc: 0.9048, Test Latency: 2.78s, Test Memory Usage: 194.0KB\n",
            "Saving best model ...\n",
            "\n",
            "Epoch 103\n"
          ]
        },
        {
          "name": "stderr",
          "output_type": "stream",
          "text": [
            "Train: 100%|##########################| 391/391 [00:26<00:00, 14.66batch/s]\n"
          ]
        },
        {
          "name": "stdout",
          "output_type": "stream",
          "text": [
            "LR: 1.0000e-03, Train Loss: 0.1708, Train Acc: 0.9449, Train Latency: 26.67s, Memory Usage: 3110.0KB\n",
            "Test Loss: 0.2815, Test Acc: 0.9069, Test Latency: 2.72s, Test Memory Usage: 194.0KB\n",
            "Saving best model ...\n",
            "\n",
            "Epoch 104\n"
          ]
        },
        {
          "name": "stderr",
          "output_type": "stream",
          "text": [
            "Train: 100%|##########################| 391/391 [00:25<00:00, 15.42batch/s]\n"
          ]
        },
        {
          "name": "stdout",
          "output_type": "stream",
          "text": [
            "LR: 1.0000e-03, Train Loss: 0.1662, Train Acc: 0.9454, Train Latency: 25.36s, Memory Usage: 3110.0KB\n",
            "Test Loss: 0.2760, Test Acc: 0.9052, Test Latency: 2.79s, Test Memory Usage: 194.0KB\n",
            "\n",
            "Epoch 105\n"
          ]
        },
        {
          "name": "stderr",
          "output_type": "stream",
          "text": [
            "Train: 100%|##########################| 391/391 [00:25<00:00, 15.39batch/s]\n"
          ]
        },
        {
          "name": "stdout",
          "output_type": "stream",
          "text": [
            "LR: 1.0000e-03, Train Loss: 0.1663, Train Acc: 0.9464, Train Latency: 25.41s, Memory Usage: 3110.0KB\n",
            "Test Loss: 0.2797, Test Acc: 0.9040, Test Latency: 2.78s, Test Memory Usage: 194.0KB\n",
            "\n",
            "Epoch 106\n"
          ]
        },
        {
          "name": "stderr",
          "output_type": "stream",
          "text": [
            "Train: 100%|##########################| 391/391 [00:25<00:00, 15.25batch/s]\n"
          ]
        },
        {
          "name": "stdout",
          "output_type": "stream",
          "text": [
            "LR: 1.0000e-03, Train Loss: 0.1581, Train Acc: 0.9499, Train Latency: 25.65s, Memory Usage: 3110.0KB\n",
            "Test Loss: 0.2862, Test Acc: 0.9062, Test Latency: 2.78s, Test Memory Usage: 194.0KB\n",
            "\n",
            "Epoch 107\n"
          ]
        },
        {
          "name": "stderr",
          "output_type": "stream",
          "text": [
            "Train: 100%|##########################| 391/391 [00:24<00:00, 15.97batch/s]\n"
          ]
        },
        {
          "name": "stdout",
          "output_type": "stream",
          "text": [
            "LR: 1.0000e-03, Train Loss: 0.1575, Train Acc: 0.9481, Train Latency: 24.49s, Memory Usage: 3110.0KB\n",
            "Test Loss: 0.2794, Test Acc: 0.9076, Test Latency: 2.77s, Test Memory Usage: 194.0KB\n",
            "Saving best model ...\n",
            "\n",
            "Epoch 108\n"
          ]
        },
        {
          "name": "stderr",
          "output_type": "stream",
          "text": [
            "Train: 100%|##########################| 391/391 [00:25<00:00, 15.34batch/s]\n"
          ]
        },
        {
          "name": "stdout",
          "output_type": "stream",
          "text": [
            "LR: 1.0000e-03, Train Loss: 0.1524, Train Acc: 0.9502, Train Latency: 25.48s, Memory Usage: 3110.0KB\n",
            "Test Loss: 0.2816, Test Acc: 0.9057, Test Latency: 2.81s, Test Memory Usage: 194.0KB\n",
            "\n",
            "Epoch 109\n"
          ]
        },
        {
          "name": "stderr",
          "output_type": "stream",
          "text": [
            "Train: 100%|##########################| 391/391 [00:25<00:00, 15.37batch/s]\n"
          ]
        },
        {
          "name": "stdout",
          "output_type": "stream",
          "text": [
            "LR: 1.0000e-03, Train Loss: 0.1515, Train Acc: 0.9513, Train Latency: 25.45s, Memory Usage: 3110.0KB\n",
            "Test Loss: 0.2852, Test Acc: 0.9062, Test Latency: 2.83s, Test Memory Usage: 194.0KB\n",
            "\n",
            "Epoch 110\n"
          ]
        },
        {
          "name": "stderr",
          "output_type": "stream",
          "text": [
            "Train: 100%|##########################| 391/391 [00:26<00:00, 14.86batch/s]\n"
          ]
        },
        {
          "name": "stdout",
          "output_type": "stream",
          "text": [
            "LR: 1.0000e-03, Train Loss: 0.1482, Train Acc: 0.9507, Train Latency: 26.32s, Memory Usage: 3110.0KB\n",
            "Test Loss: 0.2796, Test Acc: 0.9084, Test Latency: 2.81s, Test Memory Usage: 194.0KB\n",
            "Saving best model ...\n",
            "\n",
            "Epoch 111\n"
          ]
        },
        {
          "name": "stderr",
          "output_type": "stream",
          "text": [
            "Train: 100%|##########################| 391/391 [00:24<00:00, 15.67batch/s]\n"
          ]
        },
        {
          "name": "stdout",
          "output_type": "stream",
          "text": [
            "LR: 1.0000e-03, Train Loss: 0.1445, Train Acc: 0.9528, Train Latency: 24.96s, Memory Usage: 3110.0KB\n",
            "Test Loss: 0.2764, Test Acc: 0.9087, Test Latency: 2.82s, Test Memory Usage: 194.0KB\n",
            "Saving best model ...\n",
            "\n",
            "Epoch 112\n"
          ]
        },
        {
          "name": "stderr",
          "output_type": "stream",
          "text": [
            "Train: 100%|##########################| 391/391 [00:23<00:00, 16.89batch/s]\n"
          ]
        },
        {
          "name": "stdout",
          "output_type": "stream",
          "text": [
            "LR: 1.0000e-03, Train Loss: 0.1473, Train Acc: 0.9529, Train Latency: 23.16s, Memory Usage: 3110.0KB\n",
            "Test Loss: 0.2718, Test Acc: 0.9103, Test Latency: 2.81s, Test Memory Usage: 194.0KB\n",
            "Saving best model ...\n",
            "\n",
            "Epoch 113\n"
          ]
        },
        {
          "name": "stderr",
          "output_type": "stream",
          "text": [
            "Train: 100%|##########################| 391/391 [00:26<00:00, 14.75batch/s]\n"
          ]
        },
        {
          "name": "stdout",
          "output_type": "stream",
          "text": [
            "LR: 1.0000e-03, Train Loss: 0.1446, Train Acc: 0.9538, Train Latency: 26.51s, Memory Usage: 3110.0KB\n",
            "Test Loss: 0.2891, Test Acc: 0.9042, Test Latency: 2.78s, Test Memory Usage: 194.0KB\n",
            "\n",
            "Epoch 114\n"
          ]
        },
        {
          "name": "stderr",
          "output_type": "stream",
          "text": [
            "Train: 100%|##########################| 391/391 [00:26<00:00, 14.89batch/s]\n"
          ]
        },
        {
          "name": "stdout",
          "output_type": "stream",
          "text": [
            "LR: 1.0000e-03, Train Loss: 0.1416, Train Acc: 0.9545, Train Latency: 26.26s, Memory Usage: 3110.0KB\n",
            "Test Loss: 0.2872, Test Acc: 0.9054, Test Latency: 2.79s, Test Memory Usage: 194.0KB\n",
            "\n",
            "Epoch 115\n"
          ]
        },
        {
          "name": "stderr",
          "output_type": "stream",
          "text": [
            "Train: 100%|##########################| 391/391 [00:26<00:00, 14.88batch/s]\n"
          ]
        },
        {
          "name": "stdout",
          "output_type": "stream",
          "text": [
            "LR: 1.0000e-03, Train Loss: 0.1409, Train Acc: 0.9551, Train Latency: 26.28s, Memory Usage: 3110.0KB\n",
            "Test Loss: 0.2779, Test Acc: 0.9079, Test Latency: 2.77s, Test Memory Usage: 194.0KB\n",
            "\n",
            "Epoch 116\n"
          ]
        },
        {
          "name": "stderr",
          "output_type": "stream",
          "text": [
            "Train: 100%|##########################| 391/391 [00:26<00:00, 14.93batch/s]\n"
          ]
        },
        {
          "name": "stdout",
          "output_type": "stream",
          "text": [
            "LR: 1.0000e-03, Train Loss: 0.1367, Train Acc: 0.9553, Train Latency: 26.19s, Memory Usage: 3110.0KB\n",
            "Test Loss: 0.2897, Test Acc: 0.9069, Test Latency: 2.79s, Test Memory Usage: 194.0KB\n",
            "\n",
            "Epoch 117\n"
          ]
        },
        {
          "name": "stderr",
          "output_type": "stream",
          "text": [
            "Train: 100%|##########################| 391/391 [00:26<00:00, 15.00batch/s]\n"
          ]
        },
        {
          "name": "stdout",
          "output_type": "stream",
          "text": [
            "LR: 1.0000e-03, Train Loss: 0.1409, Train Acc: 0.9539, Train Latency: 26.07s, Memory Usage: 3110.0KB\n",
            "Test Loss: 0.2872, Test Acc: 0.9063, Test Latency: 2.79s, Test Memory Usage: 194.0KB\n",
            "\n",
            "Epoch 118\n"
          ]
        },
        {
          "name": "stderr",
          "output_type": "stream",
          "text": [
            "Train: 100%|##########################| 391/391 [00:26<00:00, 14.53batch/s]\n"
          ]
        },
        {
          "name": "stdout",
          "output_type": "stream",
          "text": [
            "LR: 1.0000e-03, Train Loss: 0.1374, Train Acc: 0.9545, Train Latency: 26.92s, Memory Usage: 3110.0KB\n",
            "Test Loss: 0.2935, Test Acc: 0.9032, Test Latency: 2.80s, Test Memory Usage: 194.0KB\n",
            "\n",
            "Epoch 119\n"
          ]
        },
        {
          "name": "stderr",
          "output_type": "stream",
          "text": [
            "Train: 100%|##########################| 391/391 [00:25<00:00, 15.29batch/s]\n"
          ]
        },
        {
          "name": "stdout",
          "output_type": "stream",
          "text": [
            "LR: 1.0000e-03, Train Loss: 0.1377, Train Acc: 0.9552, Train Latency: 25.58s, Memory Usage: 3110.0KB\n",
            "Test Loss: 0.2861, Test Acc: 0.9085, Test Latency: 2.45s, Test Memory Usage: 194.0KB\n",
            "\n",
            "Epoch 120\n"
          ]
        },
        {
          "name": "stderr",
          "output_type": "stream",
          "text": [
            "Train: 100%|##########################| 391/391 [00:23<00:00, 16.38batch/s]\n"
          ]
        },
        {
          "name": "stdout",
          "output_type": "stream",
          "text": [
            "LR: 1.0000e-03, Train Loss: 0.1358, Train Acc: 0.9564, Train Latency: 23.87s, Memory Usage: 3110.0KB\n",
            "Test Loss: 0.2898, Test Acc: 0.9065, Test Latency: 2.45s, Test Memory Usage: 194.0KB\n",
            "\n",
            "Epoch 121\n"
          ]
        },
        {
          "name": "stderr",
          "output_type": "stream",
          "text": [
            "Train: 100%|##########################| 391/391 [00:25<00:00, 15.52batch/s]\n"
          ]
        },
        {
          "name": "stdout",
          "output_type": "stream",
          "text": [
            "LR: 1.0000e-03, Train Loss: 0.1356, Train Acc: 0.9560, Train Latency: 25.19s, Memory Usage: 3110.0KB\n",
            "Test Loss: 0.2895, Test Acc: 0.9041, Test Latency: 2.79s, Test Memory Usage: 194.0KB\n",
            "\n",
            "Epoch 122\n"
          ]
        },
        {
          "name": "stderr",
          "output_type": "stream",
          "text": [
            "Train: 100%|##########################| 391/391 [00:23<00:00, 16.49batch/s]\n"
          ]
        },
        {
          "name": "stdout",
          "output_type": "stream",
          "text": [
            "LR: 1.0000e-03, Train Loss: 0.1339, Train Acc: 0.9567, Train Latency: 23.72s, Memory Usage: 3110.0KB\n",
            "Test Loss: 0.2885, Test Acc: 0.9087, Test Latency: 2.80s, Test Memory Usage: 194.0KB\n",
            "\n",
            "Epoch 123\n"
          ]
        },
        {
          "name": "stderr",
          "output_type": "stream",
          "text": [
            "Train: 100%|##########################| 391/391 [00:23<00:00, 16.37batch/s]\n"
          ]
        },
        {
          "name": "stdout",
          "output_type": "stream",
          "text": [
            "LR: 1.0000e-03, Train Loss: 0.1318, Train Acc: 0.9573, Train Latency: 23.89s, Memory Usage: 3110.0KB\n",
            "Test Loss: 0.2928, Test Acc: 0.9055, Test Latency: 2.43s, Test Memory Usage: 194.0KB\n",
            "\n",
            "Epoch 124\n"
          ]
        },
        {
          "name": "stderr",
          "output_type": "stream",
          "text": [
            "Train: 100%|##########################| 391/391 [00:24<00:00, 16.21batch/s]\n"
          ]
        },
        {
          "name": "stdout",
          "output_type": "stream",
          "text": [
            "LR: 1.0000e-03, Train Loss: 0.1326, Train Acc: 0.9561, Train Latency: 24.13s, Memory Usage: 3110.0KB\n",
            "Test Loss: 0.2900, Test Acc: 0.9068, Test Latency: 2.80s, Test Memory Usage: 194.0KB\n",
            "\n",
            "Epoch 125\n"
          ]
        },
        {
          "name": "stderr",
          "output_type": "stream",
          "text": [
            "Train: 100%|##########################| 391/391 [00:26<00:00, 14.72batch/s]\n"
          ]
        },
        {
          "name": "stdout",
          "output_type": "stream",
          "text": [
            "LR: 1.0000e-03, Train Loss: 0.1293, Train Acc: 0.9587, Train Latency: 26.56s, Memory Usage: 3110.0KB\n",
            "Test Loss: 0.2983, Test Acc: 0.9051, Test Latency: 2.80s, Test Memory Usage: 194.0KB\n",
            "\n",
            "Epoch 126\n"
          ]
        },
        {
          "name": "stderr",
          "output_type": "stream",
          "text": [
            "Train: 100%|##########################| 391/391 [00:24<00:00, 15.71batch/s]\n"
          ]
        },
        {
          "name": "stdout",
          "output_type": "stream",
          "text": [
            "LR: 1.0000e-03, Train Loss: 0.1252, Train Acc: 0.9593, Train Latency: 24.89s, Memory Usage: 3110.0KB\n",
            "Test Loss: 0.3026, Test Acc: 0.9039, Test Latency: 2.45s, Test Memory Usage: 194.0KB\n",
            "\n",
            "Epoch 127\n"
          ]
        },
        {
          "name": "stderr",
          "output_type": "stream",
          "text": [
            "Train: 100%|##########################| 391/391 [00:26<00:00, 14.84batch/s]\n"
          ]
        },
        {
          "name": "stdout",
          "output_type": "stream",
          "text": [
            "LR: 1.0000e-03, Train Loss: 0.1316, Train Acc: 0.9564, Train Latency: 26.36s, Memory Usage: 3110.0KB\n",
            "Test Loss: 0.3029, Test Acc: 0.9012, Test Latency: 2.81s, Test Memory Usage: 194.0KB\n",
            "\n",
            "Epoch 128\n"
          ]
        },
        {
          "name": "stderr",
          "output_type": "stream",
          "text": [
            "Train: 100%|##########################| 391/391 [00:26<00:00, 14.76batch/s]\n"
          ]
        },
        {
          "name": "stdout",
          "output_type": "stream",
          "text": [
            "LR: 1.0000e-03, Train Loss: 0.1268, Train Acc: 0.9583, Train Latency: 26.50s, Memory Usage: 3110.0KB\n",
            "Test Loss: 0.2902, Test Acc: 0.9036, Test Latency: 2.81s, Test Memory Usage: 194.0KB\n",
            "\n",
            "Epoch 129\n"
          ]
        },
        {
          "name": "stderr",
          "output_type": "stream",
          "text": [
            "Train: 100%|##########################| 391/391 [00:26<00:00, 14.83batch/s]\n"
          ]
        },
        {
          "name": "stdout",
          "output_type": "stream",
          "text": [
            "LR: 1.0000e-03, Train Loss: 0.1267, Train Acc: 0.9590, Train Latency: 26.36s, Memory Usage: 3110.0KB\n",
            "Test Loss: 0.2937, Test Acc: 0.9068, Test Latency: 2.82s, Test Memory Usage: 194.0KB\n",
            "\n",
            "Epoch 130\n"
          ]
        },
        {
          "name": "stderr",
          "output_type": "stream",
          "text": [
            "Train: 100%|##########################| 391/391 [00:26<00:00, 14.87batch/s]\n"
          ]
        },
        {
          "name": "stdout",
          "output_type": "stream",
          "text": [
            "LR: 1.0000e-03, Train Loss: 0.1265, Train Acc: 0.9585, Train Latency: 26.30s, Memory Usage: 3110.0KB\n",
            "Test Loss: 0.3005, Test Acc: 0.9019, Test Latency: 2.79s, Test Memory Usage: 194.0KB\n",
            "\n",
            "Epoch 131\n"
          ]
        },
        {
          "name": "stderr",
          "output_type": "stream",
          "text": [
            "Train: 100%|##########################| 391/391 [00:26<00:00, 14.80batch/s]\n"
          ]
        },
        {
          "name": "stdout",
          "output_type": "stream",
          "text": [
            "LR: 1.0000e-03, Train Loss: 0.1277, Train Acc: 0.9576, Train Latency: 26.42s, Memory Usage: 3110.0KB\n",
            "Test Loss: 0.2990, Test Acc: 0.9067, Test Latency: 2.63s, Test Memory Usage: 194.0KB\n",
            "\n",
            "Epoch 132\n"
          ]
        },
        {
          "name": "stderr",
          "output_type": "stream",
          "text": [
            "Train: 100%|##########################| 391/391 [00:25<00:00, 15.09batch/s]\n"
          ]
        },
        {
          "name": "stdout",
          "output_type": "stream",
          "text": [
            "LR: 1.0000e-03, Train Loss: 0.1260, Train Acc: 0.9585, Train Latency: 25.92s, Memory Usage: 3110.0KB\n",
            "Test Loss: 0.2870, Test Acc: 0.9097, Test Latency: 2.79s, Test Memory Usage: 194.0KB\n",
            "\n",
            "Epoch 133\n"
          ]
        },
        {
          "name": "stderr",
          "output_type": "stream",
          "text": [
            "Train: 100%|##########################| 391/391 [00:26<00:00, 14.91batch/s]\n"
          ]
        },
        {
          "name": "stdout",
          "output_type": "stream",
          "text": [
            "LR: 1.0000e-03, Train Loss: 0.1270, Train Acc: 0.9582, Train Latency: 26.23s, Memory Usage: 3110.0KB\n",
            "Test Loss: 0.2985, Test Acc: 0.9041, Test Latency: 2.81s, Test Memory Usage: 194.0KB\n",
            "\n",
            "Epoch 134\n"
          ]
        },
        {
          "name": "stderr",
          "output_type": "stream",
          "text": [
            "Train: 100%|##########################| 391/391 [00:24<00:00, 15.76batch/s]\n"
          ]
        },
        {
          "name": "stdout",
          "output_type": "stream",
          "text": [
            "LR: 1.0000e-03, Train Loss: 0.1268, Train Acc: 0.9576, Train Latency: 24.81s, Memory Usage: 3110.0KB\n",
            "Test Loss: 0.3031, Test Acc: 0.9050, Test Latency: 2.81s, Test Memory Usage: 194.0KB\n",
            "\n",
            "Epoch 135\n"
          ]
        },
        {
          "name": "stderr",
          "output_type": "stream",
          "text": [
            "Train: 100%|##########################| 391/391 [00:24<00:00, 15.68batch/s]\n"
          ]
        },
        {
          "name": "stdout",
          "output_type": "stream",
          "text": [
            "LR: 1.0000e-03, Train Loss: 0.1218, Train Acc: 0.9597, Train Latency: 24.93s, Memory Usage: 3110.0KB\n",
            "Test Loss: 0.2916, Test Acc: 0.9084, Test Latency: 2.79s, Test Memory Usage: 194.0KB\n",
            "\n",
            "Epoch 136\n"
          ]
        },
        {
          "name": "stderr",
          "output_type": "stream",
          "text": [
            "Train: 100%|##########################| 391/391 [00:23<00:00, 16.68batch/s]\n"
          ]
        },
        {
          "name": "stdout",
          "output_type": "stream",
          "text": [
            "LR: 1.0000e-03, Train Loss: 0.1225, Train Acc: 0.9597, Train Latency: 23.45s, Memory Usage: 3110.0KB\n",
            "Test Loss: 0.3050, Test Acc: 0.9052, Test Latency: 2.44s, Test Memory Usage: 194.0KB\n",
            "\n",
            "Epoch 137\n"
          ]
        },
        {
          "name": "stderr",
          "output_type": "stream",
          "text": [
            "Train: 100%|##########################| 391/391 [00:23<00:00, 16.96batch/s]\n"
          ]
        },
        {
          "name": "stdout",
          "output_type": "stream",
          "text": [
            "LR: 1.0000e-03, Train Loss: 0.1236, Train Acc: 0.9598, Train Latency: 23.06s, Memory Usage: 3110.0KB\n",
            "Test Loss: 0.3030, Test Acc: 0.9020, Test Latency: 2.46s, Test Memory Usage: 194.0KB\n",
            "\n",
            "Epoch 138\n"
          ]
        },
        {
          "name": "stderr",
          "output_type": "stream",
          "text": [
            "Train: 100%|##########################| 391/391 [00:26<00:00, 14.96batch/s]\n"
          ]
        },
        {
          "name": "stdout",
          "output_type": "stream",
          "text": [
            "LR: 1.0000e-03, Train Loss: 0.1376, Train Acc: 0.9589, Train Latency: 26.15s, Memory Usage: 3110.0KB\n",
            "Test Loss: 0.3134, Test Acc: 0.9042, Test Latency: 2.78s, Test Memory Usage: 194.0KB\n",
            "\n",
            "Epoch 139\n"
          ]
        },
        {
          "name": "stderr",
          "output_type": "stream",
          "text": [
            "Train: 100%|##########################| 391/391 [00:26<00:00, 14.79batch/s]\n"
          ]
        },
        {
          "name": "stdout",
          "output_type": "stream",
          "text": [
            "LR: 1.0000e-03, Train Loss: 0.1230, Train Acc: 0.9595, Train Latency: 26.44s, Memory Usage: 3110.0KB\n",
            "Test Loss: 0.2994, Test Acc: 0.9045, Test Latency: 2.79s, Test Memory Usage: 194.0KB\n",
            "\n",
            "Epoch 140\n"
          ]
        },
        {
          "name": "stderr",
          "output_type": "stream",
          "text": [
            "Train: 100%|##########################| 391/391 [00:23<00:00, 16.45batch/s]\n"
          ]
        },
        {
          "name": "stdout",
          "output_type": "stream",
          "text": [
            "LR: 1.0000e-03, Train Loss: 0.1243, Train Acc: 0.9590, Train Latency: 23.78s, Memory Usage: 3110.0KB\n",
            "Test Loss: 0.3025, Test Acc: 0.9027, Test Latency: 2.45s, Test Memory Usage: 194.0KB\n",
            "\n",
            "Epoch 141\n"
          ]
        },
        {
          "name": "stderr",
          "output_type": "stream",
          "text": [
            "Train: 100%|##########################| 391/391 [00:26<00:00, 15.00batch/s]\n"
          ]
        },
        {
          "name": "stdout",
          "output_type": "stream",
          "text": [
            "LR: 1.0000e-03, Train Loss: 0.1246, Train Acc: 0.9583, Train Latency: 26.07s, Memory Usage: 3110.0KB\n",
            "Test Loss: 0.3007, Test Acc: 0.9059, Test Latency: 2.80s, Test Memory Usage: 194.0KB\n",
            "\n",
            "Epoch 142\n"
          ]
        },
        {
          "name": "stderr",
          "output_type": "stream",
          "text": [
            "Train: 100%|##########################| 391/391 [00:26<00:00, 14.76batch/s]\n"
          ]
        },
        {
          "name": "stdout",
          "output_type": "stream",
          "text": [
            "LR: 1.0000e-03, Train Loss: 0.1224, Train Acc: 0.9595, Train Latency: 26.49s, Memory Usage: 3110.0KB\n",
            "Test Loss: 0.3081, Test Acc: 0.9034, Test Latency: 2.80s, Test Memory Usage: 194.0KB\n",
            "\n",
            "Epoch 143\n"
          ]
        },
        {
          "name": "stderr",
          "output_type": "stream",
          "text": [
            "Train: 100%|##########################| 391/391 [00:25<00:00, 15.11batch/s]\n"
          ]
        },
        {
          "name": "stdout",
          "output_type": "stream",
          "text": [
            "LR: 1.0000e-03, Train Loss: 0.1203, Train Acc: 0.9609, Train Latency: 25.88s, Memory Usage: 3110.0KB\n",
            "Test Loss: 0.3066, Test Acc: 0.9024, Test Latency: 2.79s, Test Memory Usage: 194.0KB\n",
            "\n",
            "Epoch 144\n"
          ]
        },
        {
          "name": "stderr",
          "output_type": "stream",
          "text": [
            "Train: 100%|##########################| 391/391 [00:26<00:00, 14.86batch/s]\n"
          ]
        },
        {
          "name": "stdout",
          "output_type": "stream",
          "text": [
            "LR: 1.0000e-03, Train Loss: 0.1246, Train Acc: 0.9578, Train Latency: 26.31s, Memory Usage: 3110.0KB\n",
            "Test Loss: 0.3041, Test Acc: 0.9048, Test Latency: 2.78s, Test Memory Usage: 194.0KB\n",
            "\n",
            "Epoch 145\n"
          ]
        },
        {
          "name": "stderr",
          "output_type": "stream",
          "text": [
            "Train: 100%|##########################| 391/391 [00:26<00:00, 14.91batch/s]\n"
          ]
        },
        {
          "name": "stdout",
          "output_type": "stream",
          "text": [
            "LR: 1.0000e-03, Train Loss: 0.1213, Train Acc: 0.9598, Train Latency: 26.22s, Memory Usage: 3110.0KB\n",
            "Test Loss: 0.3113, Test Acc: 0.9013, Test Latency: 2.81s, Test Memory Usage: 194.0KB\n",
            "\n",
            "Epoch 146\n"
          ]
        },
        {
          "name": "stderr",
          "output_type": "stream",
          "text": [
            "Train: 100%|##########################| 391/391 [00:26<00:00, 14.98batch/s]\n"
          ]
        },
        {
          "name": "stdout",
          "output_type": "stream",
          "text": [
            "LR: 1.0000e-03, Train Loss: 0.1189, Train Acc: 0.9603, Train Latency: 26.11s, Memory Usage: 3110.0KB\n",
            "Test Loss: 0.3058, Test Acc: 0.9052, Test Latency: 2.78s, Test Memory Usage: 194.0KB\n",
            "\n",
            "Epoch 147\n"
          ]
        },
        {
          "name": "stderr",
          "output_type": "stream",
          "text": [
            "Train: 100%|##########################| 391/391 [00:26<00:00, 14.89batch/s]\n"
          ]
        },
        {
          "name": "stdout",
          "output_type": "stream",
          "text": [
            "LR: 1.0000e-03, Train Loss: 0.1190, Train Acc: 0.9614, Train Latency: 26.27s, Memory Usage: 3110.0KB\n",
            "Test Loss: 0.3032, Test Acc: 0.9041, Test Latency: 2.78s, Test Memory Usage: 194.0KB\n",
            "\n",
            "Epoch 148\n"
          ]
        },
        {
          "name": "stderr",
          "output_type": "stream",
          "text": [
            "Train: 100%|##########################| 391/391 [00:25<00:00, 15.54batch/s]\n"
          ]
        },
        {
          "name": "stdout",
          "output_type": "stream",
          "text": [
            "LR: 1.0000e-03, Train Loss: 0.1190, Train Acc: 0.9611, Train Latency: 25.16s, Memory Usage: 3110.0KB\n",
            "Test Loss: 0.3126, Test Acc: 0.8993, Test Latency: 2.46s, Test Memory Usage: 194.0KB\n",
            "\n",
            "Epoch 149\n"
          ]
        },
        {
          "name": "stderr",
          "output_type": "stream",
          "text": [
            "Train: 100%|##########################| 391/391 [00:25<00:00, 15.54batch/s]\n"
          ]
        },
        {
          "name": "stdout",
          "output_type": "stream",
          "text": [
            "LR: 1.0000e-03, Train Loss: 0.1155, Train Acc: 0.9629, Train Latency: 25.16s, Memory Usage: 3110.0KB\n",
            "Test Loss: 0.3372, Test Acc: 0.8989, Test Latency: 2.81s, Test Memory Usage: 194.0KB\n",
            "\n",
            "Epoch 150\n"
          ]
        },
        {
          "name": "stderr",
          "output_type": "stream",
          "text": [
            "Train: 100%|##########################| 391/391 [00:24<00:00, 15.77batch/s]\n"
          ]
        },
        {
          "name": "stdout",
          "output_type": "stream",
          "text": [
            "LR: 1.0000e-03, Train Loss: 0.1177, Train Acc: 0.9607, Train Latency: 24.80s, Memory Usage: 3110.0KB\n",
            "Test Loss: 0.3043, Test Acc: 0.9063, Test Latency: 2.82s, Test Memory Usage: 194.0KB\n",
            "\n",
            "Epoch 151\n"
          ]
        },
        {
          "name": "stderr",
          "output_type": "stream",
          "text": [
            "Train: 100%|##########################| 391/391 [00:26<00:00, 14.74batch/s]\n"
          ]
        },
        {
          "name": "stdout",
          "output_type": "stream",
          "text": [
            "LR: 1.0000e-04, Train Loss: 0.1112, Train Acc: 0.9640, Train Latency: 26.54s, Memory Usage: 3110.0KB\n",
            "Test Loss: 0.2991, Test Acc: 0.9076, Test Latency: 2.78s, Test Memory Usage: 194.0KB\n",
            "\n",
            "Epoch 152\n"
          ]
        },
        {
          "name": "stderr",
          "output_type": "stream",
          "text": [
            "Train: 100%|##########################| 391/391 [00:24<00:00, 16.01batch/s]\n"
          ]
        },
        {
          "name": "stdout",
          "output_type": "stream",
          "text": [
            "LR: 1.0000e-04, Train Loss: 0.1071, Train Acc: 0.9661, Train Latency: 24.42s, Memory Usage: 3110.0KB\n",
            "Test Loss: 0.2964, Test Acc: 0.9056, Test Latency: 2.79s, Test Memory Usage: 194.0KB\n",
            "\n",
            "Epoch 153\n"
          ]
        },
        {
          "name": "stderr",
          "output_type": "stream",
          "text": [
            "Train: 100%|##########################| 391/391 [00:25<00:00, 15.22batch/s]\n"
          ]
        },
        {
          "name": "stdout",
          "output_type": "stream",
          "text": [
            "LR: 1.0000e-04, Train Loss: 0.1044, Train Acc: 0.9669, Train Latency: 25.69s, Memory Usage: 3110.0KB\n",
            "Test Loss: 0.2857, Test Acc: 0.9086, Test Latency: 2.44s, Test Memory Usage: 194.0KB\n",
            "\n",
            "Epoch 154\n"
          ]
        },
        {
          "name": "stderr",
          "output_type": "stream",
          "text": [
            "Train: 100%|##########################| 391/391 [00:25<00:00, 15.16batch/s]\n"
          ]
        },
        {
          "name": "stdout",
          "output_type": "stream",
          "text": [
            "LR: 1.0000e-04, Train Loss: 0.0992, Train Acc: 0.9690, Train Latency: 25.80s, Memory Usage: 3110.0KB\n",
            "Test Loss: 0.2806, Test Acc: 0.9100, Test Latency: 2.80s, Test Memory Usage: 194.0KB\n",
            "\n",
            "Epoch 155\n"
          ]
        },
        {
          "name": "stderr",
          "output_type": "stream",
          "text": [
            "Train: 100%|##########################| 391/391 [00:26<00:00, 14.93batch/s]\n"
          ]
        },
        {
          "name": "stdout",
          "output_type": "stream",
          "text": [
            "LR: 1.0000e-04, Train Loss: 0.0956, Train Acc: 0.9707, Train Latency: 26.19s, Memory Usage: 3110.0KB\n",
            "Test Loss: 0.2855, Test Acc: 0.9109, Test Latency: 2.77s, Test Memory Usage: 194.0KB\n",
            "Saving best model ...\n",
            "\n",
            "Epoch 156\n"
          ]
        },
        {
          "name": "stderr",
          "output_type": "stream",
          "text": [
            "Train: 100%|##########################| 391/391 [00:25<00:00, 15.07batch/s]\n"
          ]
        },
        {
          "name": "stdout",
          "output_type": "stream",
          "text": [
            "LR: 1.0000e-04, Train Loss: 0.0950, Train Acc: 0.9706, Train Latency: 25.95s, Memory Usage: 3110.0KB\n",
            "Test Loss: 0.2824, Test Acc: 0.9109, Test Latency: 2.79s, Test Memory Usage: 194.0KB\n",
            "\n",
            "Epoch 157\n"
          ]
        },
        {
          "name": "stderr",
          "output_type": "stream",
          "text": [
            "Train: 100%|##########################| 391/391 [00:25<00:00, 15.06batch/s]\n"
          ]
        },
        {
          "name": "stdout",
          "output_type": "stream",
          "text": [
            "LR: 1.0000e-04, Train Loss: 0.0995, Train Acc: 0.9693, Train Latency: 25.97s, Memory Usage: 3110.0KB\n",
            "Test Loss: 0.2825, Test Acc: 0.9105, Test Latency: 2.47s, Test Memory Usage: 194.0KB\n",
            "\n",
            "Epoch 158\n"
          ]
        },
        {
          "name": "stderr",
          "output_type": "stream",
          "text": [
            "Train: 100%|##########################| 391/391 [00:24<00:00, 15.66batch/s]\n"
          ]
        },
        {
          "name": "stdout",
          "output_type": "stream",
          "text": [
            "LR: 1.0000e-04, Train Loss: 0.0923, Train Acc: 0.9725, Train Latency: 24.97s, Memory Usage: 3110.0KB\n",
            "Test Loss: 0.2885, Test Acc: 0.9107, Test Latency: 2.80s, Test Memory Usage: 194.0KB\n",
            "\n",
            "Epoch 159\n"
          ]
        },
        {
          "name": "stderr",
          "output_type": "stream",
          "text": [
            "Train: 100%|##########################| 391/391 [00:26<00:00, 14.65batch/s]\n"
          ]
        },
        {
          "name": "stdout",
          "output_type": "stream",
          "text": [
            "LR: 1.0000e-04, Train Loss: 0.0951, Train Acc: 0.9711, Train Latency: 26.69s, Memory Usage: 3110.0KB\n",
            "Test Loss: 0.2908, Test Acc: 0.9098, Test Latency: 2.79s, Test Memory Usage: 194.0KB\n",
            "\n",
            "Epoch 160\n"
          ]
        },
        {
          "name": "stderr",
          "output_type": "stream",
          "text": [
            "Train: 100%|##########################| 391/391 [00:23<00:00, 16.45batch/s]\n"
          ]
        },
        {
          "name": "stdout",
          "output_type": "stream",
          "text": [
            "LR: 1.0000e-04, Train Loss: 0.1009, Train Acc: 0.9682, Train Latency: 23.77s, Memory Usage: 3110.0KB\n",
            "Test Loss: 0.2898, Test Acc: 0.9104, Test Latency: 2.44s, Test Memory Usage: 194.0KB\n",
            "\n",
            "Epoch 161\n"
          ]
        },
        {
          "name": "stderr",
          "output_type": "stream",
          "text": [
            "Train: 100%|##########################| 391/391 [00:25<00:00, 15.05batch/s]\n"
          ]
        },
        {
          "name": "stdout",
          "output_type": "stream",
          "text": [
            "LR: 1.0000e-04, Train Loss: 0.0986, Train Acc: 0.9687, Train Latency: 25.98s, Memory Usage: 3110.0KB\n",
            "Test Loss: 0.2881, Test Acc: 0.9086, Test Latency: 2.80s, Test Memory Usage: 194.0KB\n",
            "\n",
            "Epoch 162\n"
          ]
        },
        {
          "name": "stderr",
          "output_type": "stream",
          "text": [
            "Train: 100%|##########################| 391/391 [00:25<00:00, 15.41batch/s]\n"
          ]
        },
        {
          "name": "stdout",
          "output_type": "stream",
          "text": [
            "LR: 1.0000e-04, Train Loss: 0.0963, Train Acc: 0.9706, Train Latency: 25.38s, Memory Usage: 3110.0KB\n",
            "Test Loss: 0.2824, Test Acc: 0.9080, Test Latency: 2.80s, Test Memory Usage: 194.0KB\n",
            "\n",
            "Epoch 163\n"
          ]
        },
        {
          "name": "stderr",
          "output_type": "stream",
          "text": [
            "Train: 100%|##########################| 391/391 [00:25<00:00, 15.40batch/s]\n"
          ]
        },
        {
          "name": "stdout",
          "output_type": "stream",
          "text": [
            "LR: 1.0000e-04, Train Loss: 0.0943, Train Acc: 0.9708, Train Latency: 25.39s, Memory Usage: 3110.0KB\n",
            "Test Loss: 0.2861, Test Acc: 0.9096, Test Latency: 2.45s, Test Memory Usage: 194.0KB\n",
            "\n",
            "Epoch 164\n"
          ]
        },
        {
          "name": "stderr",
          "output_type": "stream",
          "text": [
            "Train: 100%|##########################| 391/391 [00:26<00:00, 14.91batch/s]\n"
          ]
        },
        {
          "name": "stdout",
          "output_type": "stream",
          "text": [
            "LR: 1.0000e-04, Train Loss: 0.0930, Train Acc: 0.9719, Train Latency: 26.23s, Memory Usage: 3110.0KB\n",
            "Test Loss: 0.2859, Test Acc: 0.9093, Test Latency: 2.81s, Test Memory Usage: 194.0KB\n",
            "\n",
            "Epoch 165\n"
          ]
        },
        {
          "name": "stderr",
          "output_type": "stream",
          "text": [
            "Train: 100%|##########################| 391/391 [00:26<00:00, 14.82batch/s]\n"
          ]
        },
        {
          "name": "stdout",
          "output_type": "stream",
          "text": [
            "LR: 1.0000e-04, Train Loss: 0.0960, Train Acc: 0.9707, Train Latency: 26.38s, Memory Usage: 3110.0KB\n",
            "Test Loss: 0.2823, Test Acc: 0.9093, Test Latency: 2.79s, Test Memory Usage: 194.0KB\n",
            "\n",
            "Epoch 166\n"
          ]
        },
        {
          "name": "stderr",
          "output_type": "stream",
          "text": [
            "Train: 100%|##########################| 391/391 [00:26<00:00, 14.84batch/s]\n"
          ]
        },
        {
          "name": "stdout",
          "output_type": "stream",
          "text": [
            "LR: 1.0000e-04, Train Loss: 0.0934, Train Acc: 0.9713, Train Latency: 26.35s, Memory Usage: 3110.0KB\n",
            "Test Loss: 0.2842, Test Acc: 0.9094, Test Latency: 2.73s, Test Memory Usage: 194.0KB\n",
            "\n",
            "Epoch 167\n"
          ]
        },
        {
          "name": "stderr",
          "output_type": "stream",
          "text": [
            "Train: 100%|##########################| 391/391 [00:24<00:00, 15.78batch/s]\n"
          ]
        },
        {
          "name": "stdout",
          "output_type": "stream",
          "text": [
            "LR: 1.0000e-04, Train Loss: 0.0913, Train Acc: 0.9721, Train Latency: 24.78s, Memory Usage: 3110.0KB\n",
            "Test Loss: 0.2861, Test Acc: 0.9080, Test Latency: 2.84s, Test Memory Usage: 194.0KB\n",
            "\n",
            "Epoch 168\n"
          ]
        },
        {
          "name": "stderr",
          "output_type": "stream",
          "text": [
            "Train: 100%|##########################| 391/391 [00:25<00:00, 15.08batch/s]\n"
          ]
        },
        {
          "name": "stdout",
          "output_type": "stream",
          "text": [
            "LR: 1.0000e-04, Train Loss: 0.0926, Train Acc: 0.9712, Train Latency: 25.93s, Memory Usage: 3110.0KB\n",
            "Test Loss: 0.2961, Test Acc: 0.9068, Test Latency: 2.81s, Test Memory Usage: 194.0KB\n",
            "\n",
            "Epoch 169\n"
          ]
        },
        {
          "name": "stderr",
          "output_type": "stream",
          "text": [
            "Train: 100%|##########################| 391/391 [00:26<00:00, 14.69batch/s]\n"
          ]
        },
        {
          "name": "stdout",
          "output_type": "stream",
          "text": [
            "LR: 1.0000e-04, Train Loss: 0.0961, Train Acc: 0.9693, Train Latency: 26.62s, Memory Usage: 3110.0KB\n",
            "Test Loss: 0.2892, Test Acc: 0.9068, Test Latency: 2.81s, Test Memory Usage: 194.0KB\n",
            "\n",
            "Epoch 170\n"
          ]
        },
        {
          "name": "stderr",
          "output_type": "stream",
          "text": [
            "Train: 100%|##########################| 391/391 [00:26<00:00, 14.74batch/s]\n"
          ]
        },
        {
          "name": "stdout",
          "output_type": "stream",
          "text": [
            "LR: 1.0000e-04, Train Loss: 0.0946, Train Acc: 0.9705, Train Latency: 26.54s, Memory Usage: 3110.0KB\n",
            "Test Loss: 0.2857, Test Acc: 0.9072, Test Latency: 2.80s, Test Memory Usage: 194.0KB\n",
            "\n",
            "Epoch 171\n"
          ]
        },
        {
          "name": "stderr",
          "output_type": "stream",
          "text": [
            "Train: 100%|##########################| 391/391 [00:26<00:00, 14.77batch/s]\n"
          ]
        },
        {
          "name": "stdout",
          "output_type": "stream",
          "text": [
            "LR: 1.0000e-04, Train Loss: 0.0922, Train Acc: 0.9715, Train Latency: 26.49s, Memory Usage: 3110.0KB\n",
            "Test Loss: 0.2886, Test Acc: 0.9108, Test Latency: 2.78s, Test Memory Usage: 194.0KB\n",
            "\n",
            "Epoch 172\n"
          ]
        },
        {
          "name": "stderr",
          "output_type": "stream",
          "text": [
            "Train: 100%|##########################| 391/391 [00:26<00:00, 14.64batch/s]\n"
          ]
        },
        {
          "name": "stdout",
          "output_type": "stream",
          "text": [
            "LR: 1.0000e-04, Train Loss: 0.0916, Train Acc: 0.9712, Train Latency: 26.70s, Memory Usage: 3110.0KB\n",
            "Test Loss: 0.2862, Test Acc: 0.9109, Test Latency: 2.82s, Test Memory Usage: 194.0KB\n",
            "\n",
            "Epoch 173\n"
          ]
        },
        {
          "name": "stderr",
          "output_type": "stream",
          "text": [
            "Train: 100%|##########################| 391/391 [00:26<00:00, 14.76batch/s]\n"
          ]
        },
        {
          "name": "stdout",
          "output_type": "stream",
          "text": [
            "LR: 1.0000e-04, Train Loss: 0.0925, Train Acc: 0.9715, Train Latency: 26.49s, Memory Usage: 3110.0KB\n",
            "Test Loss: 0.2868, Test Acc: 0.9104, Test Latency: 2.80s, Test Memory Usage: 194.0KB\n",
            "\n",
            "Epoch 174\n"
          ]
        },
        {
          "name": "stderr",
          "output_type": "stream",
          "text": [
            "Train: 100%|##########################| 391/391 [00:24<00:00, 16.12batch/s]\n"
          ]
        },
        {
          "name": "stdout",
          "output_type": "stream",
          "text": [
            "LR: 1.0000e-04, Train Loss: 0.0948, Train Acc: 0.9704, Train Latency: 24.25s, Memory Usage: 3110.0KB\n",
            "Test Loss: 0.2873, Test Acc: 0.9096, Test Latency: 2.81s, Test Memory Usage: 194.0KB\n",
            "\n",
            "Epoch 175\n"
          ]
        },
        {
          "name": "stderr",
          "output_type": "stream",
          "text": [
            "Train: 100%|##########################| 391/391 [00:26<00:00, 14.87batch/s]\n"
          ]
        },
        {
          "name": "stdout",
          "output_type": "stream",
          "text": [
            "LR: 1.0000e-04, Train Loss: 0.0937, Train Acc: 0.9709, Train Latency: 26.29s, Memory Usage: 3110.0KB\n",
            "Test Loss: 0.2906, Test Acc: 0.9080, Test Latency: 2.80s, Test Memory Usage: 194.0KB\n",
            "\n",
            "Epoch 176\n"
          ]
        },
        {
          "name": "stderr",
          "output_type": "stream",
          "text": [
            "Train: 100%|##########################| 391/391 [00:26<00:00, 14.89batch/s]\n"
          ]
        },
        {
          "name": "stdout",
          "output_type": "stream",
          "text": [
            "LR: 1.0000e-04, Train Loss: 0.0893, Train Acc: 0.9729, Train Latency: 26.26s, Memory Usage: 3110.0KB\n",
            "Test Loss: 0.2841, Test Acc: 0.9099, Test Latency: 2.80s, Test Memory Usage: 194.0KB\n",
            "\n",
            "Epoch 177\n"
          ]
        },
        {
          "name": "stderr",
          "output_type": "stream",
          "text": [
            "Train: 100%|##########################| 391/391 [00:25<00:00, 15.04batch/s]\n"
          ]
        },
        {
          "name": "stdout",
          "output_type": "stream",
          "text": [
            "LR: 1.0000e-04, Train Loss: 0.0932, Train Acc: 0.9709, Train Latency: 26.00s, Memory Usage: 3110.0KB\n",
            "Test Loss: 0.2888, Test Acc: 0.9100, Test Latency: 2.80s, Test Memory Usage: 194.0KB\n",
            "\n",
            "Epoch 178\n"
          ]
        },
        {
          "name": "stderr",
          "output_type": "stream",
          "text": [
            "Train: 100%|##########################| 391/391 [00:25<00:00, 15.36batch/s]\n"
          ]
        },
        {
          "name": "stdout",
          "output_type": "stream",
          "text": [
            "LR: 1.0000e-04, Train Loss: 0.0887, Train Acc: 0.9724, Train Latency: 25.47s, Memory Usage: 3110.0KB\n",
            "Test Loss: 0.2883, Test Acc: 0.9106, Test Latency: 2.81s, Test Memory Usage: 194.0KB\n",
            "\n",
            "Epoch 179\n"
          ]
        },
        {
          "name": "stderr",
          "output_type": "stream",
          "text": [
            "Train: 100%|##########################| 391/391 [00:26<00:00, 14.79batch/s]\n"
          ]
        },
        {
          "name": "stdout",
          "output_type": "stream",
          "text": [
            "LR: 1.0000e-04, Train Loss: 0.0922, Train Acc: 0.9719, Train Latency: 26.44s, Memory Usage: 3110.0KB\n",
            "Test Loss: 0.2932, Test Acc: 0.9088, Test Latency: 2.80s, Test Memory Usage: 194.0KB\n",
            "\n",
            "Epoch 180\n"
          ]
        },
        {
          "name": "stderr",
          "output_type": "stream",
          "text": [
            "Train: 100%|##########################| 391/391 [00:26<00:00, 14.90batch/s]\n"
          ]
        },
        {
          "name": "stdout",
          "output_type": "stream",
          "text": [
            "LR: 1.0000e-04, Train Loss: 0.0912, Train Acc: 0.9714, Train Latency: 26.24s, Memory Usage: 3110.0KB\n",
            "Test Loss: 0.2957, Test Acc: 0.9082, Test Latency: 2.79s, Test Memory Usage: 194.0KB\n",
            "\n",
            "Epoch 181\n"
          ]
        },
        {
          "name": "stderr",
          "output_type": "stream",
          "text": [
            "Train: 100%|##########################| 391/391 [00:25<00:00, 15.17batch/s]\n"
          ]
        },
        {
          "name": "stdout",
          "output_type": "stream",
          "text": [
            "LR: 1.0000e-04, Train Loss: 0.0925, Train Acc: 0.9712, Train Latency: 25.78s, Memory Usage: 3110.0KB\n",
            "Test Loss: 0.2906, Test Acc: 0.9095, Test Latency: 2.81s, Test Memory Usage: 194.0KB\n",
            "\n",
            "Epoch 182\n"
          ]
        },
        {
          "name": "stderr",
          "output_type": "stream",
          "text": [
            "Train: 100%|##########################| 391/391 [00:24<00:00, 16.27batch/s]\n"
          ]
        },
        {
          "name": "stdout",
          "output_type": "stream",
          "text": [
            "LR: 1.0000e-04, Train Loss: 0.0908, Train Acc: 0.9722, Train Latency: 24.03s, Memory Usage: 3110.0KB\n",
            "Test Loss: 0.2895, Test Acc: 0.9114, Test Latency: 2.81s, Test Memory Usage: 194.0KB\n",
            "Saving best model ...\n",
            "\n",
            "Epoch 183\n"
          ]
        },
        {
          "name": "stderr",
          "output_type": "stream",
          "text": [
            "Train: 100%|##########################| 391/391 [00:25<00:00, 15.40batch/s]\n"
          ]
        },
        {
          "name": "stdout",
          "output_type": "stream",
          "text": [
            "LR: 1.0000e-04, Train Loss: 0.0923, Train Acc: 0.9715, Train Latency: 25.39s, Memory Usage: 3110.0KB\n",
            "Test Loss: 0.2922, Test Acc: 0.9110, Test Latency: 2.79s, Test Memory Usage: 194.0KB\n",
            "\n",
            "Epoch 184\n"
          ]
        },
        {
          "name": "stderr",
          "output_type": "stream",
          "text": [
            "Train: 100%|##########################| 391/391 [00:26<00:00, 14.51batch/s]\n"
          ]
        },
        {
          "name": "stdout",
          "output_type": "stream",
          "text": [
            "LR: 1.0000e-04, Train Loss: 0.0887, Train Acc: 0.9720, Train Latency: 26.95s, Memory Usage: 3110.0KB\n",
            "Test Loss: 0.2900, Test Acc: 0.9112, Test Latency: 2.79s, Test Memory Usage: 194.0KB\n",
            "\n",
            "Epoch 185\n"
          ]
        },
        {
          "name": "stderr",
          "output_type": "stream",
          "text": [
            "Train: 100%|##########################| 391/391 [00:26<00:00, 14.57batch/s]\n"
          ]
        },
        {
          "name": "stdout",
          "output_type": "stream",
          "text": [
            "LR: 1.0000e-04, Train Loss: 0.0892, Train Acc: 0.9732, Train Latency: 26.85s, Memory Usage: 3110.0KB\n",
            "Test Loss: 0.2832, Test Acc: 0.9119, Test Latency: 2.73s, Test Memory Usage: 194.0KB\n",
            "Saving best model ...\n",
            "\n",
            "Epoch 186\n"
          ]
        },
        {
          "name": "stderr",
          "output_type": "stream",
          "text": [
            "Train: 100%|##########################| 391/391 [00:23<00:00, 16.66batch/s]\n"
          ]
        },
        {
          "name": "stdout",
          "output_type": "stream",
          "text": [
            "LR: 1.0000e-04, Train Loss: 0.0875, Train Acc: 0.9729, Train Latency: 23.48s, Memory Usage: 3110.0KB\n",
            "Test Loss: 0.2895, Test Acc: 0.9099, Test Latency: 2.46s, Test Memory Usage: 194.0KB\n",
            "\n",
            "Epoch 187\n"
          ]
        },
        {
          "name": "stderr",
          "output_type": "stream",
          "text": [
            "Train: 100%|##########################| 391/391 [00:26<00:00, 14.98batch/s]\n"
          ]
        },
        {
          "name": "stdout",
          "output_type": "stream",
          "text": [
            "LR: 1.0000e-04, Train Loss: 0.0858, Train Acc: 0.9739, Train Latency: 26.10s, Memory Usage: 3110.0KB\n",
            "Test Loss: 0.2868, Test Acc: 0.9122, Test Latency: 2.81s, Test Memory Usage: 194.0KB\n",
            "Saving best model ...\n",
            "\n",
            "Epoch 188\n"
          ]
        },
        {
          "name": "stderr",
          "output_type": "stream",
          "text": [
            "Train: 100%|##########################| 391/391 [00:25<00:00, 15.46batch/s]\n"
          ]
        },
        {
          "name": "stdout",
          "output_type": "stream",
          "text": [
            "LR: 1.0000e-04, Train Loss: 0.0895, Train Acc: 0.9723, Train Latency: 25.29s, Memory Usage: 3110.0KB\n",
            "Test Loss: 0.2919, Test Acc: 0.9107, Test Latency: 2.78s, Test Memory Usage: 194.0KB\n",
            "\n",
            "Epoch 189\n"
          ]
        },
        {
          "name": "stderr",
          "output_type": "stream",
          "text": [
            "Train: 100%|##########################| 391/391 [00:24<00:00, 15.77batch/s]\n"
          ]
        },
        {
          "name": "stdout",
          "output_type": "stream",
          "text": [
            "LR: 1.0000e-04, Train Loss: 0.0884, Train Acc: 0.9731, Train Latency: 24.80s, Memory Usage: 3110.0KB\n",
            "Test Loss: 0.2974, Test Acc: 0.9079, Test Latency: 2.46s, Test Memory Usage: 194.0KB\n",
            "\n",
            "Epoch 190\n"
          ]
        },
        {
          "name": "stderr",
          "output_type": "stream",
          "text": [
            "Train: 100%|##########################| 391/391 [00:26<00:00, 14.88batch/s]\n"
          ]
        },
        {
          "name": "stdout",
          "output_type": "stream",
          "text": [
            "LR: 1.0000e-04, Train Loss: 0.0874, Train Acc: 0.9731, Train Latency: 26.28s, Memory Usage: 3110.0KB\n",
            "Test Loss: 0.2912, Test Acc: 0.9102, Test Latency: 2.75s, Test Memory Usage: 194.0KB\n",
            "\n",
            "Epoch 191\n"
          ]
        },
        {
          "name": "stderr",
          "output_type": "stream",
          "text": [
            "Train: 100%|##########################| 391/391 [00:25<00:00, 15.18batch/s]\n"
          ]
        },
        {
          "name": "stdout",
          "output_type": "stream",
          "text": [
            "LR: 1.0000e-04, Train Loss: 0.0876, Train Acc: 0.9732, Train Latency: 25.76s, Memory Usage: 3110.0KB\n",
            "Test Loss: 0.2929, Test Acc: 0.9093, Test Latency: 2.82s, Test Memory Usage: 194.0KB\n",
            "\n",
            "Epoch 192\n"
          ]
        },
        {
          "name": "stderr",
          "output_type": "stream",
          "text": [
            "Train: 100%|##########################| 391/391 [00:26<00:00, 14.88batch/s]\n"
          ]
        },
        {
          "name": "stdout",
          "output_type": "stream",
          "text": [
            "LR: 1.0000e-04, Train Loss: 0.0912, Train Acc: 0.9719, Train Latency: 26.28s, Memory Usage: 3110.0KB\n",
            "Test Loss: 0.2936, Test Acc: 0.9091, Test Latency: 2.82s, Test Memory Usage: 194.0KB\n",
            "\n",
            "Epoch 193\n"
          ]
        },
        {
          "name": "stderr",
          "output_type": "stream",
          "text": [
            "Train: 100%|##########################| 391/391 [00:25<00:00, 15.14batch/s]\n"
          ]
        },
        {
          "name": "stdout",
          "output_type": "stream",
          "text": [
            "LR: 1.0000e-04, Train Loss: 0.0895, Train Acc: 0.9729, Train Latency: 25.82s, Memory Usage: 3110.0KB\n",
            "Test Loss: 0.2883, Test Acc: 0.9087, Test Latency: 2.79s, Test Memory Usage: 194.0KB\n",
            "\n",
            "Epoch 194\n"
          ]
        },
        {
          "name": "stderr",
          "output_type": "stream",
          "text": [
            "Train: 100%|##########################| 391/391 [00:23<00:00, 16.32batch/s]\n"
          ]
        },
        {
          "name": "stdout",
          "output_type": "stream",
          "text": [
            "LR: 1.0000e-04, Train Loss: 0.0888, Train Acc: 0.9736, Train Latency: 23.96s, Memory Usage: 3110.0KB\n",
            "Test Loss: 0.2898, Test Acc: 0.9096, Test Latency: 2.47s, Test Memory Usage: 194.0KB\n",
            "\n",
            "Epoch 195\n"
          ]
        },
        {
          "name": "stderr",
          "output_type": "stream",
          "text": [
            "Train: 100%|##########################| 391/391 [00:26<00:00, 14.95batch/s]\n"
          ]
        },
        {
          "name": "stdout",
          "output_type": "stream",
          "text": [
            "LR: 1.0000e-04, Train Loss: 0.0895, Train Acc: 0.9726, Train Latency: 26.15s, Memory Usage: 3110.0KB\n",
            "Test Loss: 0.2982, Test Acc: 0.9070, Test Latency: 2.81s, Test Memory Usage: 194.0KB\n",
            "\n",
            "Epoch 196\n"
          ]
        },
        {
          "name": "stderr",
          "output_type": "stream",
          "text": [
            "Train: 100%|##########################| 391/391 [00:23<00:00, 16.48batch/s]\n"
          ]
        },
        {
          "name": "stdout",
          "output_type": "stream",
          "text": [
            "LR: 1.0000e-04, Train Loss: 0.0917, Train Acc: 0.9715, Train Latency: 23.72s, Memory Usage: 3110.0KB\n",
            "Test Loss: 0.3013, Test Acc: 0.9063, Test Latency: 2.45s, Test Memory Usage: 194.0KB\n",
            "\n",
            "Epoch 197\n"
          ]
        },
        {
          "name": "stderr",
          "output_type": "stream",
          "text": [
            "Train: 100%|##########################| 391/391 [00:24<00:00, 16.23batch/s]\n"
          ]
        },
        {
          "name": "stdout",
          "output_type": "stream",
          "text": [
            "LR: 1.0000e-04, Train Loss: 0.0934, Train Acc: 0.9707, Train Latency: 24.09s, Memory Usage: 3110.0KB\n",
            "Test Loss: 0.2999, Test Acc: 0.9096, Test Latency: 2.75s, Test Memory Usage: 194.0KB\n",
            "\n",
            "Epoch 198\n"
          ]
        },
        {
          "name": "stderr",
          "output_type": "stream",
          "text": [
            "Train: 100%|##########################| 391/391 [00:23<00:00, 16.76batch/s]\n"
          ]
        },
        {
          "name": "stdout",
          "output_type": "stream",
          "text": [
            "LR: 1.0000e-04, Train Loss: 0.0917, Train Acc: 0.9717, Train Latency: 23.33s, Memory Usage: 3110.0KB\n",
            "Test Loss: 0.2931, Test Acc: 0.9077, Test Latency: 2.44s, Test Memory Usage: 194.0KB\n",
            "\n",
            "Epoch 199\n"
          ]
        },
        {
          "name": "stderr",
          "output_type": "stream",
          "text": [
            "Train: 100%|##########################| 391/391 [00:23<00:00, 16.72batch/s]\n"
          ]
        },
        {
          "name": "stdout",
          "output_type": "stream",
          "text": [
            "LR: 1.0000e-04, Train Loss: 0.0889, Train Acc: 0.9723, Train Latency: 23.40s, Memory Usage: 3110.0KB\n",
            "Test Loss: 0.2980, Test Acc: 0.9061, Test Latency: 2.80s, Test Memory Usage: 194.0KB\n",
            "\n",
            "Epoch 200\n"
          ]
        },
        {
          "name": "stderr",
          "output_type": "stream",
          "text": [
            "Train: 100%|##########################| 391/391 [00:24<00:00, 15.94batch/s]\n"
          ]
        },
        {
          "name": "stdout",
          "output_type": "stream",
          "text": [
            "LR: 1.0000e-04, Train Loss: 0.0911, Train Acc: 0.9719, Train Latency: 24.53s, Memory Usage: 3110.0KB\n",
            "Test Loss: 0.2902, Test Acc: 0.9105, Test Latency: 2.78s, Test Memory Usage: 194.0KB\n",
            "Saving final epoch model ...\n"
          ]
        }
      ],
      "source": [
        "train(w_nbits=2, a_nbits=None, lambda_val=0.001)"
      ]
    },
    {
      "cell_type": "code",
      "execution_count": 8,
      "metadata": {},
      "outputs": [
        {
          "name": "stdout",
          "output_type": "stream",
          "text": [
            "\n",
            "Quantization: weight=2 activation=None threshold=0.004, Using device: cuda\n",
            "\n",
            "Epoch 1\n"
          ]
        },
        {
          "name": "stderr",
          "output_type": "stream",
          "text": [
            "Train: 100%|##########################| 391/391 [00:26<00:00, 14.88batch/s]\n"
          ]
        },
        {
          "name": "stdout",
          "output_type": "stream",
          "text": [
            "LR: 1.0000e-01, Train Loss: 1.6270, Train Acc: 0.3970, Train Latency: 26.28s, Memory Usage: 3110.0KB\n",
            "Test Loss: 1.6971, Test Acc: 0.4563, Test Latency: 2.85s, Test Memory Usage: 194.0KB\n",
            "\n",
            "Epoch 2\n"
          ]
        },
        {
          "name": "stderr",
          "output_type": "stream",
          "text": [
            "Train: 100%|##########################| 391/391 [00:26<00:00, 14.81batch/s]\n"
          ]
        },
        {
          "name": "stdout",
          "output_type": "stream",
          "text": [
            "LR: 1.0000e-01, Train Loss: 1.1651, Train Acc: 0.5823, Train Latency: 26.40s, Memory Usage: 3110.0KB\n",
            "Test Loss: 1.6915, Test Acc: 0.4851, Test Latency: 2.81s, Test Memory Usage: 194.0KB\n",
            "\n",
            "Epoch 3\n"
          ]
        },
        {
          "name": "stderr",
          "output_type": "stream",
          "text": [
            "Train: 100%|##########################| 391/391 [00:22<00:00, 17.29batch/s]\n"
          ]
        },
        {
          "name": "stdout",
          "output_type": "stream",
          "text": [
            "LR: 1.0000e-01, Train Loss: 1.0137, Train Acc: 0.6376, Train Latency: 22.61s, Memory Usage: 3110.0KB\n",
            "Test Loss: 1.2863, Test Acc: 0.5627, Test Latency: 2.45s, Test Memory Usage: 194.0KB\n",
            "\n",
            "Epoch 4\n"
          ]
        },
        {
          "name": "stderr",
          "output_type": "stream",
          "text": [
            "Train: 100%|##########################| 391/391 [00:23<00:00, 16.54batch/s]\n"
          ]
        },
        {
          "name": "stdout",
          "output_type": "stream",
          "text": [
            "LR: 1.0000e-01, Train Loss: 0.9118, Train Acc: 0.6818, Train Latency: 23.64s, Memory Usage: 3110.0KB\n",
            "Test Loss: 1.0352, Test Acc: 0.6608, Test Latency: 2.74s, Test Memory Usage: 194.0KB\n",
            "\n",
            "Epoch 5\n"
          ]
        },
        {
          "name": "stderr",
          "output_type": "stream",
          "text": [
            "Train: 100%|##########################| 391/391 [00:25<00:00, 15.44batch/s]\n"
          ]
        },
        {
          "name": "stdout",
          "output_type": "stream",
          "text": [
            "LR: 1.0000e-01, Train Loss: 0.8452, Train Acc: 0.7051, Train Latency: 25.33s, Memory Usage: 3110.0KB\n",
            "Test Loss: 1.6451, Test Acc: 0.5203, Test Latency: 2.81s, Test Memory Usage: 194.0KB\n",
            "\n",
            "Epoch 6\n"
          ]
        },
        {
          "name": "stderr",
          "output_type": "stream",
          "text": [
            "Train: 100%|##########################| 391/391 [00:24<00:00, 15.84batch/s]\n"
          ]
        },
        {
          "name": "stdout",
          "output_type": "stream",
          "text": [
            "LR: 1.0000e-01, Train Loss: 0.8178, Train Acc: 0.7139, Train Latency: 24.68s, Memory Usage: 3110.0KB\n",
            "Test Loss: 0.9113, Test Acc: 0.6853, Test Latency: 2.46s, Test Memory Usage: 194.0KB\n",
            "\n",
            "Epoch 7\n"
          ]
        },
        {
          "name": "stderr",
          "output_type": "stream",
          "text": [
            "Train: 100%|##########################| 391/391 [00:25<00:00, 15.34batch/s]\n"
          ]
        },
        {
          "name": "stdout",
          "output_type": "stream",
          "text": [
            "LR: 1.0000e-01, Train Loss: 0.7903, Train Acc: 0.7262, Train Latency: 25.49s, Memory Usage: 3110.0KB\n",
            "Test Loss: 1.2803, Test Acc: 0.5969, Test Latency: 2.79s, Test Memory Usage: 194.0KB\n",
            "\n",
            "Epoch 8\n"
          ]
        },
        {
          "name": "stderr",
          "output_type": "stream",
          "text": [
            "Train: 100%|##########################| 391/391 [00:22<00:00, 17.00batch/s]\n"
          ]
        },
        {
          "name": "stdout",
          "output_type": "stream",
          "text": [
            "LR: 1.0000e-01, Train Loss: 0.7583, Train Acc: 0.7372, Train Latency: 23.00s, Memory Usage: 3110.0KB\n",
            "Test Loss: 1.1084, Test Acc: 0.6409, Test Latency: 2.53s, Test Memory Usage: 176.0KB\n",
            "\n",
            "Epoch 9\n"
          ]
        },
        {
          "name": "stderr",
          "output_type": "stream",
          "text": [
            "Train: 100%|##########################| 391/391 [00:24<00:00, 15.76batch/s]\n"
          ]
        },
        {
          "name": "stdout",
          "output_type": "stream",
          "text": [
            "LR: 1.0000e-01, Train Loss: 0.7547, Train Acc: 0.7396, Train Latency: 24.82s, Memory Usage: 3092.0KB\n",
            "Test Loss: 1.1367, Test Acc: 0.6316, Test Latency: 2.79s, Test Memory Usage: 194.0KB\n",
            "\n",
            "Epoch 10\n"
          ]
        },
        {
          "name": "stderr",
          "output_type": "stream",
          "text": [
            "Train: 100%|##########################| 391/391 [00:26<00:00, 14.81batch/s]\n"
          ]
        },
        {
          "name": "stdout",
          "output_type": "stream",
          "text": [
            "LR: 1.0000e-01, Train Loss: 0.7381, Train Acc: 0.7440, Train Latency: 26.41s, Memory Usage: 3092.0KB\n",
            "Test Loss: 1.0751, Test Acc: 0.6619, Test Latency: 2.62s, Test Memory Usage: 194.0KB\n",
            "\n",
            "Epoch 11\n"
          ]
        },
        {
          "name": "stderr",
          "output_type": "stream",
          "text": [
            "Train: 100%|##########################| 391/391 [00:26<00:00, 14.84batch/s]\n"
          ]
        },
        {
          "name": "stdout",
          "output_type": "stream",
          "text": [
            "LR: 1.0000e-01, Train Loss: 0.7295, Train Acc: 0.7489, Train Latency: 26.35s, Memory Usage: 3092.0KB\n",
            "Test Loss: 0.9698, Test Acc: 0.6684, Test Latency: 2.80s, Test Memory Usage: 194.0KB\n",
            "\n",
            "Epoch 12\n"
          ]
        },
        {
          "name": "stderr",
          "output_type": "stream",
          "text": [
            "Train: 100%|##########################| 391/391 [00:25<00:00, 15.45batch/s]\n"
          ]
        },
        {
          "name": "stdout",
          "output_type": "stream",
          "text": [
            "LR: 1.0000e-01, Train Loss: 0.7245, Train Acc: 0.7517, Train Latency: 25.31s, Memory Usage: 3092.0KB\n",
            "Test Loss: 1.1627, Test Acc: 0.6376, Test Latency: 2.78s, Test Memory Usage: 194.0KB\n",
            "\n",
            "Epoch 13\n"
          ]
        },
        {
          "name": "stderr",
          "output_type": "stream",
          "text": [
            "Train: 100%|##########################| 391/391 [00:26<00:00, 15.01batch/s]\n"
          ]
        },
        {
          "name": "stdout",
          "output_type": "stream",
          "text": [
            "LR: 1.0000e-01, Train Loss: 0.7132, Train Acc: 0.7538, Train Latency: 26.05s, Memory Usage: 3092.0KB\n",
            "Test Loss: 1.4343, Test Acc: 0.5913, Test Latency: 2.57s, Test Memory Usage: 194.0KB\n",
            "\n",
            "Epoch 14\n"
          ]
        },
        {
          "name": "stderr",
          "output_type": "stream",
          "text": [
            "Train: 100%|##########################| 391/391 [00:25<00:00, 15.14batch/s]\n"
          ]
        },
        {
          "name": "stdout",
          "output_type": "stream",
          "text": [
            "LR: 1.0000e-01, Train Loss: 0.7103, Train Acc: 0.7544, Train Latency: 25.82s, Memory Usage: 3092.0KB\n",
            "Test Loss: 0.9073, Test Acc: 0.6934, Test Latency: 2.78s, Test Memory Usage: 194.0KB\n",
            "\n",
            "Epoch 15\n"
          ]
        },
        {
          "name": "stderr",
          "output_type": "stream",
          "text": [
            "Train: 100%|##########################| 391/391 [00:22<00:00, 17.26batch/s]\n"
          ]
        },
        {
          "name": "stdout",
          "output_type": "stream",
          "text": [
            "LR: 1.0000e-01, Train Loss: 0.7065, Train Acc: 0.7581, Train Latency: 22.66s, Memory Usage: 3092.0KB\n",
            "Test Loss: 1.3623, Test Acc: 0.6009, Test Latency: 2.77s, Test Memory Usage: 194.0KB\n",
            "\n",
            "Epoch 16\n"
          ]
        },
        {
          "name": "stderr",
          "output_type": "stream",
          "text": [
            "Train: 100%|##########################| 391/391 [00:26<00:00, 14.94batch/s]\n"
          ]
        },
        {
          "name": "stdout",
          "output_type": "stream",
          "text": [
            "LR: 1.0000e-01, Train Loss: 0.7073, Train Acc: 0.7576, Train Latency: 26.17s, Memory Usage: 3092.0KB\n",
            "Test Loss: 0.7877, Test Acc: 0.7310, Test Latency: 2.79s, Test Memory Usage: 194.0KB\n",
            "\n",
            "Epoch 17\n"
          ]
        },
        {
          "name": "stderr",
          "output_type": "stream",
          "text": [
            "Train: 100%|##########################| 391/391 [00:26<00:00, 14.87batch/s]\n"
          ]
        },
        {
          "name": "stdout",
          "output_type": "stream",
          "text": [
            "LR: 1.0000e-01, Train Loss: 0.6995, Train Acc: 0.7596, Train Latency: 26.31s, Memory Usage: 3092.0KB\n",
            "Test Loss: 1.1653, Test Acc: 0.6293, Test Latency: 2.71s, Test Memory Usage: 194.0KB\n",
            "\n",
            "Epoch 18\n"
          ]
        },
        {
          "name": "stderr",
          "output_type": "stream",
          "text": [
            "Train: 100%|##########################| 391/391 [00:25<00:00, 15.07batch/s]\n"
          ]
        },
        {
          "name": "stdout",
          "output_type": "stream",
          "text": [
            "LR: 1.0000e-01, Train Loss: 0.6954, Train Acc: 0.7586, Train Latency: 25.94s, Memory Usage: 3092.0KB\n",
            "Test Loss: 0.9069, Test Acc: 0.6948, Test Latency: 2.80s, Test Memory Usage: 194.0KB\n",
            "\n",
            "Epoch 19\n"
          ]
        },
        {
          "name": "stderr",
          "output_type": "stream",
          "text": [
            "Train: 100%|##########################| 391/391 [00:26<00:00, 15.01batch/s]\n"
          ]
        },
        {
          "name": "stdout",
          "output_type": "stream",
          "text": [
            "LR: 1.0000e-01, Train Loss: 0.6968, Train Acc: 0.7612, Train Latency: 26.05s, Memory Usage: 3092.0KB\n",
            "Test Loss: 1.5024, Test Acc: 0.5881, Test Latency: 2.80s, Test Memory Usage: 194.0KB\n",
            "\n",
            "Epoch 20\n"
          ]
        },
        {
          "name": "stderr",
          "output_type": "stream",
          "text": [
            "Train: 100%|##########################| 391/391 [00:24<00:00, 15.64batch/s]\n"
          ]
        },
        {
          "name": "stdout",
          "output_type": "stream",
          "text": [
            "LR: 1.0000e-01, Train Loss: 0.6918, Train Acc: 0.7619, Train Latency: 25.00s, Memory Usage: 3092.0KB\n",
            "Test Loss: 1.0243, Test Acc: 0.6741, Test Latency: 2.79s, Test Memory Usage: 194.0KB\n",
            "\n",
            "Epoch 21\n"
          ]
        },
        {
          "name": "stderr",
          "output_type": "stream",
          "text": [
            "Train: 100%|##########################| 391/391 [00:25<00:00, 15.28batch/s]\n"
          ]
        },
        {
          "name": "stdout",
          "output_type": "stream",
          "text": [
            "LR: 1.0000e-01, Train Loss: 0.6861, Train Acc: 0.7642, Train Latency: 25.60s, Memory Usage: 3092.0KB\n",
            "Test Loss: 1.5157, Test Acc: 0.5424, Test Latency: 2.72s, Test Memory Usage: 194.0KB\n",
            "\n",
            "Epoch 22\n"
          ]
        },
        {
          "name": "stderr",
          "output_type": "stream",
          "text": [
            "Train: 100%|##########################| 391/391 [00:26<00:00, 15.03batch/s]\n"
          ]
        },
        {
          "name": "stdout",
          "output_type": "stream",
          "text": [
            "LR: 1.0000e-01, Train Loss: 0.6815, Train Acc: 0.7676, Train Latency: 26.03s, Memory Usage: 3092.0KB\n",
            "Test Loss: 0.8947, Test Acc: 0.7035, Test Latency: 2.80s, Test Memory Usage: 194.0KB\n",
            "\n",
            "Epoch 23\n"
          ]
        },
        {
          "name": "stderr",
          "output_type": "stream",
          "text": [
            "Train: 100%|##########################| 391/391 [00:26<00:00, 14.93batch/s]\n"
          ]
        },
        {
          "name": "stdout",
          "output_type": "stream",
          "text": [
            "LR: 1.0000e-01, Train Loss: 0.6932, Train Acc: 0.7609, Train Latency: 26.19s, Memory Usage: 3092.0KB\n",
            "Test Loss: 1.1257, Test Acc: 0.6327, Test Latency: 2.80s, Test Memory Usage: 194.0KB\n",
            "\n",
            "Epoch 24\n"
          ]
        },
        {
          "name": "stderr",
          "output_type": "stream",
          "text": [
            "Train: 100%|##########################| 391/391 [00:26<00:00, 14.98batch/s]\n"
          ]
        },
        {
          "name": "stdout",
          "output_type": "stream",
          "text": [
            "LR: 1.0000e-01, Train Loss: 0.6830, Train Acc: 0.7664, Train Latency: 26.10s, Memory Usage: 3092.0KB\n",
            "Test Loss: 1.1036, Test Acc: 0.6338, Test Latency: 2.79s, Test Memory Usage: 194.0KB\n",
            "\n",
            "Epoch 25\n"
          ]
        },
        {
          "name": "stderr",
          "output_type": "stream",
          "text": [
            "Train: 100%|##########################| 391/391 [00:26<00:00, 14.77batch/s]\n"
          ]
        },
        {
          "name": "stdout",
          "output_type": "stream",
          "text": [
            "LR: 1.0000e-01, Train Loss: 0.6762, Train Acc: 0.7658, Train Latency: 26.47s, Memory Usage: 3092.0KB\n",
            "Test Loss: 0.8404, Test Acc: 0.7193, Test Latency: 2.79s, Test Memory Usage: 194.0KB\n",
            "\n",
            "Epoch 26\n"
          ]
        },
        {
          "name": "stderr",
          "output_type": "stream",
          "text": [
            "Train: 100%|##########################| 391/391 [00:26<00:00, 15.03batch/s]\n"
          ]
        },
        {
          "name": "stdout",
          "output_type": "stream",
          "text": [
            "LR: 1.0000e-01, Train Loss: 0.6766, Train Acc: 0.7677, Train Latency: 26.02s, Memory Usage: 3092.0KB\n",
            "Test Loss: 1.2162, Test Acc: 0.6345, Test Latency: 2.43s, Test Memory Usage: 194.0KB\n",
            "\n",
            "Epoch 27\n"
          ]
        },
        {
          "name": "stderr",
          "output_type": "stream",
          "text": [
            "Train: 100%|##########################| 391/391 [00:26<00:00, 14.94batch/s]\n"
          ]
        },
        {
          "name": "stdout",
          "output_type": "stream",
          "text": [
            "LR: 1.0000e-01, Train Loss: 0.6710, Train Acc: 0.7695, Train Latency: 26.16s, Memory Usage: 3092.0KB\n",
            "Test Loss: 1.0562, Test Acc: 0.6483, Test Latency: 2.81s, Test Memory Usage: 194.0KB\n",
            "\n",
            "Epoch 28\n"
          ]
        },
        {
          "name": "stderr",
          "output_type": "stream",
          "text": [
            "Train: 100%|##########################| 391/391 [00:25<00:00, 15.10batch/s]\n"
          ]
        },
        {
          "name": "stdout",
          "output_type": "stream",
          "text": [
            "LR: 1.0000e-01, Train Loss: 0.6767, Train Acc: 0.7666, Train Latency: 25.90s, Memory Usage: 3092.0KB\n",
            "Test Loss: 1.2661, Test Acc: 0.6023, Test Latency: 2.49s, Test Memory Usage: 194.0KB\n",
            "\n",
            "Epoch 29\n"
          ]
        },
        {
          "name": "stderr",
          "output_type": "stream",
          "text": [
            "Train: 100%|##########################| 391/391 [00:22<00:00, 17.37batch/s]\n"
          ]
        },
        {
          "name": "stdout",
          "output_type": "stream",
          "text": [
            "LR: 1.0000e-01, Train Loss: 0.6695, Train Acc: 0.7695, Train Latency: 22.51s, Memory Usage: 3092.0KB\n",
            "Test Loss: 0.9587, Test Acc: 0.6932, Test Latency: 2.45s, Test Memory Usage: 194.0KB\n",
            "\n",
            "Epoch 30\n"
          ]
        },
        {
          "name": "stderr",
          "output_type": "stream",
          "text": [
            "Train: 100%|##########################| 391/391 [00:24<00:00, 15.88batch/s]\n"
          ]
        },
        {
          "name": "stdout",
          "output_type": "stream",
          "text": [
            "LR: 1.0000e-01, Train Loss: 0.6684, Train Acc: 0.7729, Train Latency: 24.62s, Memory Usage: 3092.0KB\n",
            "Test Loss: 1.3068, Test Acc: 0.6021, Test Latency: 2.44s, Test Memory Usage: 194.0KB\n",
            "\n",
            "Epoch 31\n"
          ]
        },
        {
          "name": "stderr",
          "output_type": "stream",
          "text": [
            "Train: 100%|##########################| 391/391 [00:25<00:00, 15.20batch/s]\n"
          ]
        },
        {
          "name": "stdout",
          "output_type": "stream",
          "text": [
            "LR: 1.0000e-01, Train Loss: 0.6712, Train Acc: 0.7705, Train Latency: 25.73s, Memory Usage: 3092.0KB\n",
            "Test Loss: 0.8764, Test Acc: 0.7017, Test Latency: 2.79s, Test Memory Usage: 194.0KB\n",
            "\n",
            "Epoch 32\n"
          ]
        },
        {
          "name": "stderr",
          "output_type": "stream",
          "text": [
            "Train: 100%|##########################| 391/391 [00:26<00:00, 15.03batch/s]\n"
          ]
        },
        {
          "name": "stdout",
          "output_type": "stream",
          "text": [
            "LR: 1.0000e-01, Train Loss: 0.6737, Train Acc: 0.7690, Train Latency: 26.03s, Memory Usage: 3092.0KB\n",
            "Test Loss: 1.0412, Test Acc: 0.6525, Test Latency: 2.79s, Test Memory Usage: 194.0KB\n",
            "\n",
            "Epoch 33\n"
          ]
        },
        {
          "name": "stderr",
          "output_type": "stream",
          "text": [
            "Train: 100%|##########################| 391/391 [00:26<00:00, 14.94batch/s]\n"
          ]
        },
        {
          "name": "stdout",
          "output_type": "stream",
          "text": [
            "LR: 1.0000e-01, Train Loss: 0.6657, Train Acc: 0.7702, Train Latency: 26.18s, Memory Usage: 3092.0KB\n",
            "Test Loss: 1.1193, Test Acc: 0.6387, Test Latency: 2.77s, Test Memory Usage: 194.0KB\n",
            "\n",
            "Epoch 34\n"
          ]
        },
        {
          "name": "stderr",
          "output_type": "stream",
          "text": [
            "Train: 100%|##########################| 391/391 [00:25<00:00, 15.43batch/s]\n"
          ]
        },
        {
          "name": "stdout",
          "output_type": "stream",
          "text": [
            "LR: 1.0000e-01, Train Loss: 0.6613, Train Acc: 0.7720, Train Latency: 25.34s, Memory Usage: 3092.0KB\n",
            "Test Loss: 1.0970, Test Acc: 0.6496, Test Latency: 2.78s, Test Memory Usage: 194.0KB\n",
            "\n",
            "Epoch 35\n"
          ]
        },
        {
          "name": "stderr",
          "output_type": "stream",
          "text": [
            "Train: 100%|##########################| 391/391 [00:26<00:00, 14.74batch/s]\n"
          ]
        },
        {
          "name": "stdout",
          "output_type": "stream",
          "text": [
            "LR: 1.0000e-01, Train Loss: 0.6683, Train Acc: 0.7686, Train Latency: 26.53s, Memory Usage: 3092.0KB\n",
            "Test Loss: 1.8678, Test Acc: 0.5151, Test Latency: 2.81s, Test Memory Usage: 194.0KB\n",
            "\n",
            "Epoch 36\n"
          ]
        },
        {
          "name": "stderr",
          "output_type": "stream",
          "text": [
            "Train: 100%|##########################| 391/391 [00:24<00:00, 15.69batch/s]\n"
          ]
        },
        {
          "name": "stdout",
          "output_type": "stream",
          "text": [
            "LR: 1.0000e-01, Train Loss: 0.6710, Train Acc: 0.7703, Train Latency: 24.92s, Memory Usage: 3092.0KB\n",
            "Test Loss: 1.1676, Test Acc: 0.6325, Test Latency: 2.78s, Test Memory Usage: 194.0KB\n",
            "\n",
            "Epoch 37\n"
          ]
        },
        {
          "name": "stderr",
          "output_type": "stream",
          "text": [
            "Train: 100%|##########################| 391/391 [00:25<00:00, 15.33batch/s]\n"
          ]
        },
        {
          "name": "stdout",
          "output_type": "stream",
          "text": [
            "LR: 1.0000e-01, Train Loss: 0.6635, Train Acc: 0.7708, Train Latency: 25.51s, Memory Usage: 3092.0KB\n",
            "Test Loss: 2.5770, Test Acc: 0.4121, Test Latency: 2.45s, Test Memory Usage: 194.0KB\n",
            "\n",
            "Epoch 38\n"
          ]
        },
        {
          "name": "stderr",
          "output_type": "stream",
          "text": [
            "Train: 100%|##########################| 391/391 [00:26<00:00, 14.85batch/s]\n"
          ]
        },
        {
          "name": "stdout",
          "output_type": "stream",
          "text": [
            "LR: 1.0000e-01, Train Loss: 0.6605, Train Acc: 0.7730, Train Latency: 26.34s, Memory Usage: 3092.0KB\n",
            "Test Loss: 0.7722, Test Acc: 0.7397, Test Latency: 2.80s, Test Memory Usage: 194.0KB\n",
            "\n",
            "Epoch 39\n"
          ]
        },
        {
          "name": "stderr",
          "output_type": "stream",
          "text": [
            "Train: 100%|##########################| 391/391 [00:26<00:00, 14.94batch/s]\n"
          ]
        },
        {
          "name": "stdout",
          "output_type": "stream",
          "text": [
            "LR: 1.0000e-01, Train Loss: 0.6624, Train Acc: 0.7718, Train Latency: 26.17s, Memory Usage: 3092.0KB\n",
            "Test Loss: 1.1385, Test Acc: 0.6410, Test Latency: 2.79s, Test Memory Usage: 194.0KB\n",
            "\n",
            "Epoch 40\n"
          ]
        },
        {
          "name": "stderr",
          "output_type": "stream",
          "text": [
            "Train: 100%|##########################| 391/391 [00:26<00:00, 15.04batch/s]\n"
          ]
        },
        {
          "name": "stdout",
          "output_type": "stream",
          "text": [
            "LR: 1.0000e-01, Train Loss: 0.6612, Train Acc: 0.7740, Train Latency: 26.01s, Memory Usage: 3092.0KB\n",
            "Test Loss: 0.7669, Test Acc: 0.7372, Test Latency: 2.81s, Test Memory Usage: 194.0KB\n",
            "\n",
            "Epoch 41\n"
          ]
        },
        {
          "name": "stderr",
          "output_type": "stream",
          "text": [
            "Train: 100%|##########################| 391/391 [00:26<00:00, 14.94batch/s]\n"
          ]
        },
        {
          "name": "stdout",
          "output_type": "stream",
          "text": [
            "LR: 1.0000e-01, Train Loss: 0.6612, Train Acc: 0.7742, Train Latency: 26.18s, Memory Usage: 3092.0KB\n",
            "Test Loss: 0.8962, Test Acc: 0.7034, Test Latency: 2.79s, Test Memory Usage: 194.0KB\n",
            "\n",
            "Epoch 42\n"
          ]
        },
        {
          "name": "stderr",
          "output_type": "stream",
          "text": [
            "Train: 100%|##########################| 391/391 [00:25<00:00, 15.43batch/s]\n"
          ]
        },
        {
          "name": "stdout",
          "output_type": "stream",
          "text": [
            "LR: 1.0000e-01, Train Loss: 0.6654, Train Acc: 0.7736, Train Latency: 25.35s, Memory Usage: 3092.0KB\n",
            "Test Loss: 0.8662, Test Acc: 0.7139, Test Latency: 2.81s, Test Memory Usage: 194.0KB\n",
            "\n",
            "Epoch 43\n"
          ]
        },
        {
          "name": "stderr",
          "output_type": "stream",
          "text": [
            "Train: 100%|##########################| 391/391 [00:25<00:00, 15.23batch/s]\n"
          ]
        },
        {
          "name": "stdout",
          "output_type": "stream",
          "text": [
            "LR: 1.0000e-01, Train Loss: 0.6631, Train Acc: 0.7719, Train Latency: 25.68s, Memory Usage: 3092.0KB\n",
            "Test Loss: 1.1776, Test Acc: 0.6264, Test Latency: 2.81s, Test Memory Usage: 194.0KB\n",
            "\n",
            "Epoch 44\n"
          ]
        },
        {
          "name": "stderr",
          "output_type": "stream",
          "text": [
            "Train: 100%|##########################| 391/391 [00:26<00:00, 14.79batch/s]\n"
          ]
        },
        {
          "name": "stdout",
          "output_type": "stream",
          "text": [
            "LR: 1.0000e-01, Train Loss: 0.6600, Train Acc: 0.7744, Train Latency: 26.44s, Memory Usage: 3092.0KB\n",
            "Test Loss: 0.9691, Test Acc: 0.6891, Test Latency: 2.81s, Test Memory Usage: 194.0KB\n",
            "\n",
            "Epoch 45\n"
          ]
        },
        {
          "name": "stderr",
          "output_type": "stream",
          "text": [
            "Train: 100%|##########################| 391/391 [00:23<00:00, 16.94batch/s]\n"
          ]
        },
        {
          "name": "stdout",
          "output_type": "stream",
          "text": [
            "LR: 1.0000e-01, Train Loss: 0.6579, Train Acc: 0.7735, Train Latency: 23.08s, Memory Usage: 3092.0KB\n",
            "Test Loss: 1.1792, Test Acc: 0.6386, Test Latency: 2.44s, Test Memory Usage: 194.0KB\n",
            "\n",
            "Epoch 46\n"
          ]
        },
        {
          "name": "stderr",
          "output_type": "stream",
          "text": [
            "Train: 100%|##########################| 391/391 [00:24<00:00, 15.93batch/s]\n"
          ]
        },
        {
          "name": "stdout",
          "output_type": "stream",
          "text": [
            "LR: 1.0000e-01, Train Loss: 0.6602, Train Acc: 0.7739, Train Latency: 24.54s, Memory Usage: 3092.0KB\n",
            "Test Loss: 0.9571, Test Acc: 0.7019, Test Latency: 2.79s, Test Memory Usage: 194.0KB\n",
            "\n",
            "Epoch 47\n"
          ]
        },
        {
          "name": "stderr",
          "output_type": "stream",
          "text": [
            "Train: 100%|##########################| 391/391 [00:25<00:00, 15.27batch/s]\n"
          ]
        },
        {
          "name": "stdout",
          "output_type": "stream",
          "text": [
            "LR: 1.0000e-01, Train Loss: 0.6568, Train Acc: 0.7737, Train Latency: 25.62s, Memory Usage: 3092.0KB\n",
            "Test Loss: 1.2198, Test Acc: 0.6045, Test Latency: 2.79s, Test Memory Usage: 194.0KB\n",
            "\n",
            "Epoch 48\n"
          ]
        },
        {
          "name": "stderr",
          "output_type": "stream",
          "text": [
            "Train: 100%|##########################| 391/391 [00:25<00:00, 15.42batch/s]\n"
          ]
        },
        {
          "name": "stdout",
          "output_type": "stream",
          "text": [
            "LR: 1.0000e-01, Train Loss: 0.6585, Train Acc: 0.7740, Train Latency: 25.37s, Memory Usage: 3092.0KB\n",
            "Test Loss: 1.2134, Test Acc: 0.6315, Test Latency: 2.79s, Test Memory Usage: 194.0KB\n",
            "\n",
            "Epoch 49\n"
          ]
        },
        {
          "name": "stderr",
          "output_type": "stream",
          "text": [
            "Train: 100%|##########################| 391/391 [00:26<00:00, 14.89batch/s]\n"
          ]
        },
        {
          "name": "stdout",
          "output_type": "stream",
          "text": [
            "LR: 1.0000e-01, Train Loss: 0.6566, Train Acc: 0.7736, Train Latency: 26.26s, Memory Usage: 3092.0KB\n",
            "Test Loss: 1.0317, Test Acc: 0.6560, Test Latency: 2.80s, Test Memory Usage: 194.0KB\n",
            "\n",
            "Epoch 50\n"
          ]
        },
        {
          "name": "stderr",
          "output_type": "stream",
          "text": [
            "Train: 100%|##########################| 391/391 [00:26<00:00, 14.83batch/s]\n"
          ]
        },
        {
          "name": "stdout",
          "output_type": "stream",
          "text": [
            "LR: 1.0000e-01, Train Loss: 0.6539, Train Acc: 0.7748, Train Latency: 26.37s, Memory Usage: 3092.0KB\n",
            "Test Loss: 1.0353, Test Acc: 0.6717, Test Latency: 2.80s, Test Memory Usage: 194.0KB\n",
            "\n",
            "Epoch 51\n"
          ]
        },
        {
          "name": "stderr",
          "output_type": "stream",
          "text": [
            "Train: 100%|##########################| 391/391 [00:26<00:00, 14.71batch/s]\n"
          ]
        },
        {
          "name": "stdout",
          "output_type": "stream",
          "text": [
            "LR: 1.0000e-02, Train Loss: 0.4667, Train Acc: 0.8409, Train Latency: 26.58s, Memory Usage: 3092.0KB\n",
            "Test Loss: 0.4706, Test Acc: 0.8382, Test Latency: 2.79s, Test Memory Usage: 194.0KB\n",
            "Saving best model ...\n",
            "\n",
            "Epoch 52\n"
          ]
        },
        {
          "name": "stderr",
          "output_type": "stream",
          "text": [
            "Train: 100%|##########################| 391/391 [00:26<00:00, 14.85batch/s]\n"
          ]
        },
        {
          "name": "stdout",
          "output_type": "stream",
          "text": [
            "LR: 1.0000e-02, Train Loss: 0.4160, Train Acc: 0.8580, Train Latency: 26.33s, Memory Usage: 3092.0KB\n",
            "Test Loss: 0.4355, Test Acc: 0.8508, Test Latency: 2.82s, Test Memory Usage: 194.0KB\n",
            "Saving best model ...\n",
            "\n",
            "Epoch 53\n"
          ]
        },
        {
          "name": "stderr",
          "output_type": "stream",
          "text": [
            "Train: 100%|##########################| 391/391 [00:26<00:00, 14.78batch/s]\n"
          ]
        },
        {
          "name": "stdout",
          "output_type": "stream",
          "text": [
            "LR: 1.0000e-02, Train Loss: 0.4036, Train Acc: 0.8626, Train Latency: 26.45s, Memory Usage: 3092.0KB\n",
            "Test Loss: 0.4519, Test Acc: 0.8425, Test Latency: 2.78s, Test Memory Usage: 194.0KB\n",
            "\n",
            "Epoch 54\n"
          ]
        },
        {
          "name": "stderr",
          "output_type": "stream",
          "text": [
            "Train: 100%|##########################| 391/391 [00:26<00:00, 14.79batch/s]\n"
          ]
        },
        {
          "name": "stdout",
          "output_type": "stream",
          "text": [
            "LR: 1.0000e-02, Train Loss: 0.3916, Train Acc: 0.8668, Train Latency: 26.43s, Memory Usage: 3092.0KB\n",
            "Test Loss: 0.4516, Test Acc: 0.8444, Test Latency: 2.79s, Test Memory Usage: 194.0KB\n",
            "\n",
            "Epoch 55\n"
          ]
        },
        {
          "name": "stderr",
          "output_type": "stream",
          "text": [
            "Train: 100%|##########################| 391/391 [00:24<00:00, 16.22batch/s]\n"
          ]
        },
        {
          "name": "stdout",
          "output_type": "stream",
          "text": [
            "LR: 1.0000e-02, Train Loss: 0.3916, Train Acc: 0.8650, Train Latency: 24.11s, Memory Usage: 3092.0KB\n",
            "Test Loss: 0.4710, Test Acc: 0.8400, Test Latency: 2.44s, Test Memory Usage: 194.0KB\n",
            "\n",
            "Epoch 56\n"
          ]
        },
        {
          "name": "stderr",
          "output_type": "stream",
          "text": [
            "Train: 100%|##########################| 391/391 [00:25<00:00, 15.16batch/s]\n"
          ]
        },
        {
          "name": "stdout",
          "output_type": "stream",
          "text": [
            "LR: 1.0000e-02, Train Loss: 0.3875, Train Acc: 0.8678, Train Latency: 25.79s, Memory Usage: 3092.0KB\n",
            "Test Loss: 0.5126, Test Acc: 0.8270, Test Latency: 2.79s, Test Memory Usage: 194.0KB\n",
            "\n",
            "Epoch 57\n"
          ]
        },
        {
          "name": "stderr",
          "output_type": "stream",
          "text": [
            "Train: 100%|##########################| 391/391 [00:24<00:00, 16.25batch/s]\n"
          ]
        },
        {
          "name": "stdout",
          "output_type": "stream",
          "text": [
            "LR: 1.0000e-02, Train Loss: 0.3821, Train Acc: 0.8701, Train Latency: 24.07s, Memory Usage: 3092.0KB\n",
            "Test Loss: 0.4774, Test Acc: 0.8356, Test Latency: 2.47s, Test Memory Usage: 194.0KB\n",
            "\n",
            "Epoch 58\n"
          ]
        },
        {
          "name": "stderr",
          "output_type": "stream",
          "text": [
            "Train: 100%|##########################| 391/391 [00:22<00:00, 17.55batch/s]\n"
          ]
        },
        {
          "name": "stdout",
          "output_type": "stream",
          "text": [
            "LR: 1.0000e-02, Train Loss: 0.3883, Train Acc: 0.8671, Train Latency: 22.28s, Memory Usage: 3092.0KB\n",
            "Test Loss: 0.4751, Test Acc: 0.8398, Test Latency: 2.48s, Test Memory Usage: 194.0KB\n",
            "\n",
            "Epoch 59\n"
          ]
        },
        {
          "name": "stderr",
          "output_type": "stream",
          "text": [
            "Train: 100%|##########################| 391/391 [00:23<00:00, 16.67batch/s]\n"
          ]
        },
        {
          "name": "stdout",
          "output_type": "stream",
          "text": [
            "LR: 1.0000e-02, Train Loss: 0.3831, Train Acc: 0.8694, Train Latency: 23.45s, Memory Usage: 3092.0KB\n",
            "Test Loss: 0.5603, Test Acc: 0.8139, Test Latency: 2.46s, Test Memory Usage: 194.0KB\n",
            "\n",
            "Epoch 60\n"
          ]
        },
        {
          "name": "stderr",
          "output_type": "stream",
          "text": [
            "Train: 100%|##########################| 391/391 [00:26<00:00, 14.97batch/s]\n"
          ]
        },
        {
          "name": "stdout",
          "output_type": "stream",
          "text": [
            "LR: 1.0000e-02, Train Loss: 0.3854, Train Acc: 0.8683, Train Latency: 26.13s, Memory Usage: 3092.0KB\n",
            "Test Loss: 0.4984, Test Acc: 0.8312, Test Latency: 2.79s, Test Memory Usage: 194.0KB\n",
            "\n",
            "Epoch 61\n"
          ]
        },
        {
          "name": "stderr",
          "output_type": "stream",
          "text": [
            "Train: 100%|##########################| 391/391 [00:26<00:00, 14.86batch/s]\n"
          ]
        },
        {
          "name": "stdout",
          "output_type": "stream",
          "text": [
            "LR: 1.0000e-02, Train Loss: 0.3863, Train Acc: 0.8690, Train Latency: 26.32s, Memory Usage: 3092.0KB\n",
            "Test Loss: 0.4984, Test Acc: 0.8350, Test Latency: 2.79s, Test Memory Usage: 194.0KB\n",
            "\n",
            "Epoch 62\n"
          ]
        },
        {
          "name": "stderr",
          "output_type": "stream",
          "text": [
            "Train: 100%|##########################| 391/391 [00:25<00:00, 15.43batch/s]\n"
          ]
        },
        {
          "name": "stdout",
          "output_type": "stream",
          "text": [
            "LR: 1.0000e-02, Train Loss: 0.3840, Train Acc: 0.8685, Train Latency: 25.34s, Memory Usage: 3092.0KB\n",
            "Test Loss: 0.5090, Test Acc: 0.8252, Test Latency: 2.45s, Test Memory Usage: 194.0KB\n",
            "\n",
            "Epoch 63\n"
          ]
        },
        {
          "name": "stderr",
          "output_type": "stream",
          "text": [
            "Train: 100%|##########################| 391/391 [00:24<00:00, 16.18batch/s]\n"
          ]
        },
        {
          "name": "stdout",
          "output_type": "stream",
          "text": [
            "LR: 1.0000e-02, Train Loss: 0.3839, Train Acc: 0.8680, Train Latency: 24.18s, Memory Usage: 3092.0KB\n",
            "Test Loss: 0.5201, Test Acc: 0.8254, Test Latency: 2.78s, Test Memory Usage: 194.0KB\n",
            "\n",
            "Epoch 64\n"
          ]
        },
        {
          "name": "stderr",
          "output_type": "stream",
          "text": [
            "Train: 100%|##########################| 391/391 [00:25<00:00, 15.05batch/s]\n"
          ]
        },
        {
          "name": "stdout",
          "output_type": "stream",
          "text": [
            "LR: 1.0000e-02, Train Loss: 0.3814, Train Acc: 0.8694, Train Latency: 25.99s, Memory Usage: 3092.0KB\n",
            "Test Loss: 0.5322, Test Acc: 0.8253, Test Latency: 2.79s, Test Memory Usage: 194.0KB\n",
            "\n",
            "Epoch 65\n"
          ]
        },
        {
          "name": "stderr",
          "output_type": "stream",
          "text": [
            "Train: 100%|##########################| 391/391 [00:26<00:00, 14.93batch/s]\n"
          ]
        },
        {
          "name": "stdout",
          "output_type": "stream",
          "text": [
            "LR: 1.0000e-02, Train Loss: 0.3849, Train Acc: 0.8675, Train Latency: 26.20s, Memory Usage: 3092.0KB\n",
            "Test Loss: 0.4903, Test Acc: 0.8334, Test Latency: 2.78s, Test Memory Usage: 194.0KB\n",
            "\n",
            "Epoch 66\n"
          ]
        },
        {
          "name": "stderr",
          "output_type": "stream",
          "text": [
            "Train: 100%|##########################| 391/391 [00:26<00:00, 14.82batch/s]\n"
          ]
        },
        {
          "name": "stdout",
          "output_type": "stream",
          "text": [
            "LR: 1.0000e-02, Train Loss: 0.3774, Train Acc: 0.8702, Train Latency: 26.39s, Memory Usage: 3092.0KB\n",
            "Test Loss: 0.5540, Test Acc: 0.8148, Test Latency: 2.79s, Test Memory Usage: 194.0KB\n",
            "\n",
            "Epoch 67\n"
          ]
        },
        {
          "name": "stderr",
          "output_type": "stream",
          "text": [
            "Train: 100%|##########################| 391/391 [00:26<00:00, 14.72batch/s]\n"
          ]
        },
        {
          "name": "stdout",
          "output_type": "stream",
          "text": [
            "LR: 1.0000e-02, Train Loss: 0.3843, Train Acc: 0.8682, Train Latency: 26.56s, Memory Usage: 3092.0KB\n",
            "Test Loss: 0.5557, Test Acc: 0.8136, Test Latency: 2.80s, Test Memory Usage: 194.0KB\n",
            "\n",
            "Epoch 68\n"
          ]
        },
        {
          "name": "stderr",
          "output_type": "stream",
          "text": [
            "Train: 100%|##########################| 391/391 [00:26<00:00, 14.90batch/s]\n"
          ]
        },
        {
          "name": "stdout",
          "output_type": "stream",
          "text": [
            "LR: 1.0000e-02, Train Loss: 0.3788, Train Acc: 0.8701, Train Latency: 26.24s, Memory Usage: 3092.0KB\n",
            "Test Loss: 0.5519, Test Acc: 0.8154, Test Latency: 2.80s, Test Memory Usage: 194.0KB\n",
            "\n",
            "Epoch 69\n"
          ]
        },
        {
          "name": "stderr",
          "output_type": "stream",
          "text": [
            "Train: 100%|##########################| 391/391 [00:26<00:00, 14.78batch/s]\n"
          ]
        },
        {
          "name": "stdout",
          "output_type": "stream",
          "text": [
            "LR: 1.0000e-02, Train Loss: 0.3770, Train Acc: 0.8702, Train Latency: 26.46s, Memory Usage: 3092.0KB\n",
            "Test Loss: 0.5078, Test Acc: 0.8284, Test Latency: 2.79s, Test Memory Usage: 194.0KB\n",
            "\n",
            "Epoch 70\n"
          ]
        },
        {
          "name": "stderr",
          "output_type": "stream",
          "text": [
            "Train: 100%|##########################| 391/391 [00:26<00:00, 14.87batch/s]\n"
          ]
        },
        {
          "name": "stdout",
          "output_type": "stream",
          "text": [
            "LR: 1.0000e-02, Train Loss: 0.3777, Train Acc: 0.8697, Train Latency: 26.29s, Memory Usage: 3092.0KB\n",
            "Test Loss: 0.6170, Test Acc: 0.7903, Test Latency: 2.79s, Test Memory Usage: 194.0KB\n",
            "\n",
            "Epoch 71\n"
          ]
        },
        {
          "name": "stderr",
          "output_type": "stream",
          "text": [
            "Train: 100%|##########################| 391/391 [00:26<00:00, 14.96batch/s]\n"
          ]
        },
        {
          "name": "stdout",
          "output_type": "stream",
          "text": [
            "LR: 1.0000e-02, Train Loss: 0.3767, Train Acc: 0.8704, Train Latency: 26.13s, Memory Usage: 3092.0KB\n",
            "Test Loss: 0.7555, Test Acc: 0.7592, Test Latency: 2.76s, Test Memory Usage: 194.0KB\n",
            "\n",
            "Epoch 72\n"
          ]
        },
        {
          "name": "stderr",
          "output_type": "stream",
          "text": [
            "Train: 100%|##########################| 391/391 [00:25<00:00, 15.13batch/s]\n"
          ]
        },
        {
          "name": "stdout",
          "output_type": "stream",
          "text": [
            "LR: 1.0000e-02, Train Loss: 0.3782, Train Acc: 0.8692, Train Latency: 25.85s, Memory Usage: 3092.0KB\n",
            "Test Loss: 0.5074, Test Acc: 0.8227, Test Latency: 2.80s, Test Memory Usage: 194.0KB\n",
            "\n",
            "Epoch 73\n"
          ]
        },
        {
          "name": "stderr",
          "output_type": "stream",
          "text": [
            "Train: 100%|##########################| 391/391 [00:25<00:00, 15.06batch/s]\n"
          ]
        },
        {
          "name": "stdout",
          "output_type": "stream",
          "text": [
            "LR: 1.0000e-02, Train Loss: 0.3733, Train Acc: 0.8719, Train Latency: 25.96s, Memory Usage: 3092.0KB\n",
            "Test Loss: 0.5280, Test Acc: 0.8296, Test Latency: 2.79s, Test Memory Usage: 194.0KB\n",
            "\n",
            "Epoch 74\n"
          ]
        },
        {
          "name": "stderr",
          "output_type": "stream",
          "text": [
            "Train: 100%|##########################| 391/391 [00:25<00:00, 15.13batch/s]\n"
          ]
        },
        {
          "name": "stdout",
          "output_type": "stream",
          "text": [
            "LR: 1.0000e-02, Train Loss: 0.3729, Train Acc: 0.8729, Train Latency: 25.85s, Memory Usage: 3092.0KB\n",
            "Test Loss: 0.4584, Test Acc: 0.8422, Test Latency: 2.78s, Test Memory Usage: 194.0KB\n",
            "\n",
            "Epoch 75\n"
          ]
        },
        {
          "name": "stderr",
          "output_type": "stream",
          "text": [
            "Train: 100%|##########################| 391/391 [00:26<00:00, 14.88batch/s]\n"
          ]
        },
        {
          "name": "stdout",
          "output_type": "stream",
          "text": [
            "LR: 1.0000e-02, Train Loss: 0.3702, Train Acc: 0.8739, Train Latency: 26.29s, Memory Usage: 3092.0KB\n",
            "Test Loss: 0.4851, Test Acc: 0.8352, Test Latency: 2.79s, Test Memory Usage: 194.0KB\n",
            "\n",
            "Epoch 76\n"
          ]
        },
        {
          "name": "stderr",
          "output_type": "stream",
          "text": [
            "Train: 100%|##########################| 391/391 [00:26<00:00, 14.81batch/s]\n"
          ]
        },
        {
          "name": "stdout",
          "output_type": "stream",
          "text": [
            "LR: 1.0000e-02, Train Loss: 0.3784, Train Acc: 0.8703, Train Latency: 26.41s, Memory Usage: 3092.0KB\n",
            "Test Loss: 0.6667, Test Acc: 0.7834, Test Latency: 2.79s, Test Memory Usage: 194.0KB\n",
            "\n",
            "Epoch 77\n"
          ]
        },
        {
          "name": "stderr",
          "output_type": "stream",
          "text": [
            "Train: 100%|##########################| 391/391 [00:25<00:00, 15.18batch/s]\n"
          ]
        },
        {
          "name": "stdout",
          "output_type": "stream",
          "text": [
            "LR: 1.0000e-02, Train Loss: 0.3689, Train Acc: 0.8740, Train Latency: 25.76s, Memory Usage: 3092.0KB\n",
            "Test Loss: 0.5832, Test Acc: 0.8117, Test Latency: 2.80s, Test Memory Usage: 194.0KB\n",
            "\n",
            "Epoch 78\n"
          ]
        },
        {
          "name": "stderr",
          "output_type": "stream",
          "text": [
            "Train: 100%|##########################| 391/391 [00:26<00:00, 14.93batch/s]\n"
          ]
        },
        {
          "name": "stdout",
          "output_type": "stream",
          "text": [
            "LR: 1.0000e-02, Train Loss: 0.3705, Train Acc: 0.8726, Train Latency: 26.19s, Memory Usage: 3092.0KB\n",
            "Test Loss: 0.4916, Test Acc: 0.8322, Test Latency: 2.80s, Test Memory Usage: 194.0KB\n",
            "\n",
            "Epoch 79\n"
          ]
        },
        {
          "name": "stderr",
          "output_type": "stream",
          "text": [
            "Train: 100%|##########################| 391/391 [00:26<00:00, 14.92batch/s]\n"
          ]
        },
        {
          "name": "stdout",
          "output_type": "stream",
          "text": [
            "LR: 1.0000e-02, Train Loss: 0.3704, Train Acc: 0.8742, Train Latency: 26.21s, Memory Usage: 3092.0KB\n",
            "Test Loss: 0.5415, Test Acc: 0.8195, Test Latency: 2.79s, Test Memory Usage: 194.0KB\n",
            "\n",
            "Epoch 80\n"
          ]
        },
        {
          "name": "stderr",
          "output_type": "stream",
          "text": [
            "Train: 100%|##########################| 391/391 [00:25<00:00, 15.48batch/s]\n"
          ]
        },
        {
          "name": "stdout",
          "output_type": "stream",
          "text": [
            "LR: 1.0000e-02, Train Loss: 0.3714, Train Acc: 0.8730, Train Latency: 25.27s, Memory Usage: 3092.0KB\n",
            "Test Loss: 0.5271, Test Acc: 0.8196, Test Latency: 2.80s, Test Memory Usage: 194.0KB\n",
            "\n",
            "Epoch 81\n"
          ]
        },
        {
          "name": "stderr",
          "output_type": "stream",
          "text": [
            "Train: 100%|##########################| 391/391 [00:26<00:00, 14.70batch/s]\n"
          ]
        },
        {
          "name": "stdout",
          "output_type": "stream",
          "text": [
            "LR: 1.0000e-02, Train Loss: 0.3711, Train Acc: 0.8736, Train Latency: 26.60s, Memory Usage: 3092.0KB\n",
            "Test Loss: 0.4866, Test Acc: 0.8374, Test Latency: 2.77s, Test Memory Usage: 194.0KB\n",
            "\n",
            "Epoch 82\n"
          ]
        },
        {
          "name": "stderr",
          "output_type": "stream",
          "text": [
            "Train: 100%|##########################| 391/391 [00:26<00:00, 14.91batch/s]\n"
          ]
        },
        {
          "name": "stdout",
          "output_type": "stream",
          "text": [
            "LR: 1.0000e-02, Train Loss: 0.3696, Train Acc: 0.8727, Train Latency: 26.23s, Memory Usage: 3092.0KB\n",
            "Test Loss: 0.5098, Test Acc: 0.8325, Test Latency: 2.79s, Test Memory Usage: 194.0KB\n",
            "\n",
            "Epoch 83\n"
          ]
        },
        {
          "name": "stderr",
          "output_type": "stream",
          "text": [
            "Train: 100%|##########################| 391/391 [00:26<00:00, 14.90batch/s]\n"
          ]
        },
        {
          "name": "stdout",
          "output_type": "stream",
          "text": [
            "LR: 1.0000e-02, Train Loss: 0.3708, Train Acc: 0.8731, Train Latency: 26.25s, Memory Usage: 3092.0KB\n",
            "Test Loss: 0.5749, Test Acc: 0.8088, Test Latency: 2.78s, Test Memory Usage: 194.0KB\n",
            "\n",
            "Epoch 84\n"
          ]
        },
        {
          "name": "stderr",
          "output_type": "stream",
          "text": [
            "Train: 100%|##########################| 391/391 [00:26<00:00, 15.00batch/s]\n"
          ]
        },
        {
          "name": "stdout",
          "output_type": "stream",
          "text": [
            "LR: 1.0000e-02, Train Loss: 0.3693, Train Acc: 0.8717, Train Latency: 26.07s, Memory Usage: 3092.0KB\n",
            "Test Loss: 0.5139, Test Acc: 0.8256, Test Latency: 2.80s, Test Memory Usage: 194.0KB\n",
            "\n",
            "Epoch 85\n"
          ]
        },
        {
          "name": "stderr",
          "output_type": "stream",
          "text": [
            "Train: 100%|##########################| 391/391 [00:26<00:00, 14.90batch/s]\n"
          ]
        },
        {
          "name": "stdout",
          "output_type": "stream",
          "text": [
            "LR: 1.0000e-02, Train Loss: 0.3650, Train Acc: 0.8755, Train Latency: 26.25s, Memory Usage: 3092.0KB\n",
            "Test Loss: 0.4856, Test Acc: 0.8356, Test Latency: 2.81s, Test Memory Usage: 194.0KB\n",
            "\n",
            "Epoch 86\n"
          ]
        },
        {
          "name": "stderr",
          "output_type": "stream",
          "text": [
            "Train: 100%|##########################| 391/391 [00:26<00:00, 14.96batch/s]\n"
          ]
        },
        {
          "name": "stdout",
          "output_type": "stream",
          "text": [
            "LR: 1.0000e-02, Train Loss: 0.3654, Train Acc: 0.8735, Train Latency: 26.15s, Memory Usage: 3092.0KB\n",
            "Test Loss: 0.7666, Test Acc: 0.7672, Test Latency: 2.79s, Test Memory Usage: 194.0KB\n",
            "\n",
            "Epoch 87\n"
          ]
        },
        {
          "name": "stderr",
          "output_type": "stream",
          "text": [
            "Train: 100%|##########################| 391/391 [00:26<00:00, 14.62batch/s]\n"
          ]
        },
        {
          "name": "stdout",
          "output_type": "stream",
          "text": [
            "LR: 1.0000e-02, Train Loss: 0.3647, Train Acc: 0.8753, Train Latency: 26.74s, Memory Usage: 3092.0KB\n",
            "Test Loss: 0.5720, Test Acc: 0.8110, Test Latency: 2.79s, Test Memory Usage: 194.0KB\n",
            "\n",
            "Epoch 88\n"
          ]
        },
        {
          "name": "stderr",
          "output_type": "stream",
          "text": [
            "Train: 100%|##########################| 391/391 [00:26<00:00, 14.81batch/s]\n"
          ]
        },
        {
          "name": "stdout",
          "output_type": "stream",
          "text": [
            "LR: 1.0000e-02, Train Loss: 0.3669, Train Acc: 0.8749, Train Latency: 26.40s, Memory Usage: 3092.0KB\n",
            "Test Loss: 0.6281, Test Acc: 0.7897, Test Latency: 2.79s, Test Memory Usage: 194.0KB\n",
            "\n",
            "Epoch 89\n"
          ]
        },
        {
          "name": "stderr",
          "output_type": "stream",
          "text": [
            "Train: 100%|##########################| 391/391 [00:25<00:00, 15.10batch/s]\n"
          ]
        },
        {
          "name": "stdout",
          "output_type": "stream",
          "text": [
            "LR: 1.0000e-02, Train Loss: 0.3630, Train Acc: 0.8747, Train Latency: 25.89s, Memory Usage: 3092.0KB\n",
            "Test Loss: 0.4616, Test Acc: 0.8389, Test Latency: 2.79s, Test Memory Usage: 194.0KB\n",
            "\n",
            "Epoch 90\n"
          ]
        },
        {
          "name": "stderr",
          "output_type": "stream",
          "text": [
            "Train: 100%|##########################| 391/391 [00:26<00:00, 14.83batch/s]\n"
          ]
        },
        {
          "name": "stdout",
          "output_type": "stream",
          "text": [
            "LR: 1.0000e-02, Train Loss: 0.3675, Train Acc: 0.8736, Train Latency: 26.36s, Memory Usage: 3092.0KB\n",
            "Test Loss: 0.4691, Test Acc: 0.8445, Test Latency: 2.79s, Test Memory Usage: 194.0KB\n",
            "\n",
            "Epoch 91\n"
          ]
        },
        {
          "name": "stderr",
          "output_type": "stream",
          "text": [
            "Train: 100%|##########################| 391/391 [00:26<00:00, 14.91batch/s]\n"
          ]
        },
        {
          "name": "stdout",
          "output_type": "stream",
          "text": [
            "LR: 1.0000e-02, Train Loss: 0.3673, Train Acc: 0.8746, Train Latency: 26.22s, Memory Usage: 3092.0KB\n",
            "Test Loss: 0.4487, Test Acc: 0.8488, Test Latency: 2.48s, Test Memory Usage: 194.0KB\n",
            "\n",
            "Epoch 92\n"
          ]
        },
        {
          "name": "stderr",
          "output_type": "stream",
          "text": [
            "Train: 100%|##########################| 391/391 [00:25<00:00, 15.12batch/s]\n"
          ]
        },
        {
          "name": "stdout",
          "output_type": "stream",
          "text": [
            "LR: 1.0000e-02, Train Loss: 0.3650, Train Acc: 0.8751, Train Latency: 25.87s, Memory Usage: 3092.0KB\n",
            "Test Loss: 0.5286, Test Acc: 0.8222, Test Latency: 2.79s, Test Memory Usage: 194.0KB\n",
            "\n",
            "Epoch 93\n"
          ]
        },
        {
          "name": "stderr",
          "output_type": "stream",
          "text": [
            "Train: 100%|##########################| 391/391 [00:26<00:00, 14.78batch/s]\n"
          ]
        },
        {
          "name": "stdout",
          "output_type": "stream",
          "text": [
            "LR: 1.0000e-02, Train Loss: 0.3631, Train Acc: 0.8744, Train Latency: 26.46s, Memory Usage: 3092.0KB\n",
            "Test Loss: 0.4890, Test Acc: 0.8371, Test Latency: 2.79s, Test Memory Usage: 194.0KB\n",
            "\n",
            "Epoch 94\n"
          ]
        },
        {
          "name": "stderr",
          "output_type": "stream",
          "text": [
            "Train: 100%|##########################| 391/391 [00:26<00:00, 14.79batch/s]\n"
          ]
        },
        {
          "name": "stdout",
          "output_type": "stream",
          "text": [
            "LR: 1.0000e-02, Train Loss: 0.3601, Train Acc: 0.8768, Train Latency: 26.43s, Memory Usage: 3092.0KB\n",
            "Test Loss: 0.5265, Test Acc: 0.8172, Test Latency: 2.80s, Test Memory Usage: 194.0KB\n",
            "\n",
            "Epoch 95\n"
          ]
        },
        {
          "name": "stderr",
          "output_type": "stream",
          "text": [
            "Train: 100%|##########################| 391/391 [00:24<00:00, 15.82batch/s]\n"
          ]
        },
        {
          "name": "stdout",
          "output_type": "stream",
          "text": [
            "LR: 1.0000e-02, Train Loss: 0.3685, Train Acc: 0.8739, Train Latency: 24.72s, Memory Usage: 3092.0KB\n",
            "Test Loss: 0.4319, Test Acc: 0.8540, Test Latency: 2.78s, Test Memory Usage: 194.0KB\n",
            "Saving best model ...\n",
            "\n",
            "Epoch 96\n"
          ]
        },
        {
          "name": "stderr",
          "output_type": "stream",
          "text": [
            "Train: 100%|##########################| 391/391 [00:26<00:00, 14.64batch/s]\n"
          ]
        },
        {
          "name": "stdout",
          "output_type": "stream",
          "text": [
            "LR: 1.0000e-02, Train Loss: 0.3576, Train Acc: 0.8773, Train Latency: 26.72s, Memory Usage: 3092.0KB\n",
            "Test Loss: 0.5054, Test Acc: 0.8299, Test Latency: 2.80s, Test Memory Usage: 194.0KB\n",
            "\n",
            "Epoch 97\n"
          ]
        },
        {
          "name": "stderr",
          "output_type": "stream",
          "text": [
            "Train: 100%|##########################| 391/391 [00:26<00:00, 14.66batch/s]\n"
          ]
        },
        {
          "name": "stdout",
          "output_type": "stream",
          "text": [
            "LR: 1.0000e-02, Train Loss: 0.3597, Train Acc: 0.8774, Train Latency: 26.67s, Memory Usage: 3092.0KB\n",
            "Test Loss: 0.5887, Test Acc: 0.8098, Test Latency: 2.80s, Test Memory Usage: 194.0KB\n",
            "\n",
            "Epoch 98\n"
          ]
        },
        {
          "name": "stderr",
          "output_type": "stream",
          "text": [
            "Train: 100%|##########################| 391/391 [00:26<00:00, 14.80batch/s]\n"
          ]
        },
        {
          "name": "stdout",
          "output_type": "stream",
          "text": [
            "LR: 1.0000e-02, Train Loss: 0.3597, Train Acc: 0.8770, Train Latency: 26.43s, Memory Usage: 3092.0KB\n",
            "Test Loss: 0.4978, Test Acc: 0.8341, Test Latency: 2.79s, Test Memory Usage: 194.0KB\n",
            "\n",
            "Epoch 99\n"
          ]
        },
        {
          "name": "stderr",
          "output_type": "stream",
          "text": [
            "Train: 100%|##########################| 391/391 [00:26<00:00, 14.72batch/s]\n"
          ]
        },
        {
          "name": "stdout",
          "output_type": "stream",
          "text": [
            "LR: 1.0000e-02, Train Loss: 0.3629, Train Acc: 0.8767, Train Latency: 26.58s, Memory Usage: 3092.0KB\n",
            "Test Loss: 0.5530, Test Acc: 0.8113, Test Latency: 2.79s, Test Memory Usage: 194.0KB\n",
            "\n",
            "Epoch 100\n"
          ]
        },
        {
          "name": "stderr",
          "output_type": "stream",
          "text": [
            "Train: 100%|##########################| 391/391 [00:25<00:00, 15.31batch/s]\n"
          ]
        },
        {
          "name": "stdout",
          "output_type": "stream",
          "text": [
            "LR: 1.0000e-02, Train Loss: 0.3599, Train Acc: 0.8762, Train Latency: 25.54s, Memory Usage: 3092.0KB\n",
            "Test Loss: 0.6141, Test Acc: 0.7999, Test Latency: 2.79s, Test Memory Usage: 194.0KB\n",
            "\n",
            "Epoch 101\n"
          ]
        },
        {
          "name": "stderr",
          "output_type": "stream",
          "text": [
            "Train: 100%|##########################| 391/391 [00:23<00:00, 16.51batch/s]\n"
          ]
        },
        {
          "name": "stdout",
          "output_type": "stream",
          "text": [
            "LR: 1.0000e-03, Train Loss: 0.2823, Train Acc: 0.9045, Train Latency: 23.69s, Memory Usage: 3092.0KB\n",
            "Test Loss: 0.3295, Test Acc: 0.8872, Test Latency: 2.46s, Test Memory Usage: 194.0KB\n",
            "Saving best model ...\n",
            "\n",
            "Epoch 102\n"
          ]
        },
        {
          "name": "stderr",
          "output_type": "stream",
          "text": [
            "Train: 100%|##########################| 391/391 [00:25<00:00, 15.37batch/s]\n"
          ]
        },
        {
          "name": "stdout",
          "output_type": "stream",
          "text": [
            "LR: 1.0000e-03, Train Loss: 0.2539, Train Acc: 0.9152, Train Latency: 25.45s, Memory Usage: 3092.0KB\n",
            "Test Loss: 0.3183, Test Acc: 0.8924, Test Latency: 2.79s, Test Memory Usage: 194.0KB\n",
            "Saving best model ...\n",
            "\n",
            "Epoch 103\n"
          ]
        },
        {
          "name": "stderr",
          "output_type": "stream",
          "text": [
            "Train: 100%|##########################| 391/391 [00:26<00:00, 14.94batch/s]\n"
          ]
        },
        {
          "name": "stdout",
          "output_type": "stream",
          "text": [
            "LR: 1.0000e-03, Train Loss: 0.2479, Train Acc: 0.9166, Train Latency: 26.18s, Memory Usage: 3092.0KB\n",
            "Test Loss: 0.3206, Test Acc: 0.8919, Test Latency: 2.81s, Test Memory Usage: 194.0KB\n",
            "\n",
            "Epoch 104\n"
          ]
        },
        {
          "name": "stderr",
          "output_type": "stream",
          "text": [
            "Train: 100%|##########################| 391/391 [00:26<00:00, 14.93batch/s]\n"
          ]
        },
        {
          "name": "stdout",
          "output_type": "stream",
          "text": [
            "LR: 1.0000e-03, Train Loss: 0.2400, Train Acc: 0.9191, Train Latency: 26.19s, Memory Usage: 3092.0KB\n",
            "Test Loss: 0.3267, Test Acc: 0.8872, Test Latency: 2.80s, Test Memory Usage: 194.0KB\n",
            "\n",
            "Epoch 105\n"
          ]
        },
        {
          "name": "stderr",
          "output_type": "stream",
          "text": [
            "Train: 100%|##########################| 391/391 [00:26<00:00, 14.85batch/s]\n"
          ]
        },
        {
          "name": "stdout",
          "output_type": "stream",
          "text": [
            "LR: 1.0000e-03, Train Loss: 0.2352, Train Acc: 0.9197, Train Latency: 26.34s, Memory Usage: 3092.0KB\n",
            "Test Loss: 0.3330, Test Acc: 0.8869, Test Latency: 2.79s, Test Memory Usage: 194.0KB\n",
            "\n",
            "Epoch 106\n"
          ]
        },
        {
          "name": "stderr",
          "output_type": "stream",
          "text": [
            "Train: 100%|##########################| 391/391 [00:25<00:00, 15.43batch/s]\n"
          ]
        },
        {
          "name": "stdout",
          "output_type": "stream",
          "text": [
            "LR: 1.0000e-03, Train Loss: 0.2341, Train Acc: 0.9212, Train Latency: 25.34s, Memory Usage: 3092.0KB\n",
            "Test Loss: 0.3277, Test Acc: 0.8855, Test Latency: 2.79s, Test Memory Usage: 194.0KB\n",
            "\n",
            "Epoch 107\n"
          ]
        },
        {
          "name": "stderr",
          "output_type": "stream",
          "text": [
            "Train: 100%|##########################| 391/391 [00:25<00:00, 15.45batch/s]\n"
          ]
        },
        {
          "name": "stdout",
          "output_type": "stream",
          "text": [
            "LR: 1.0000e-03, Train Loss: 0.2293, Train Acc: 0.9233, Train Latency: 25.31s, Memory Usage: 3092.0KB\n",
            "Test Loss: 0.3176, Test Acc: 0.8931, Test Latency: 2.79s, Test Memory Usage: 194.0KB\n",
            "Saving best model ...\n",
            "\n",
            "Epoch 108\n"
          ]
        },
        {
          "name": "stderr",
          "output_type": "stream",
          "text": [
            "Train: 100%|##########################| 391/391 [00:23<00:00, 16.32batch/s]\n"
          ]
        },
        {
          "name": "stdout",
          "output_type": "stream",
          "text": [
            "LR: 1.0000e-03, Train Loss: 0.2294, Train Acc: 0.9218, Train Latency: 23.95s, Memory Usage: 3092.0KB\n",
            "Test Loss: 0.3243, Test Acc: 0.8872, Test Latency: 2.47s, Test Memory Usage: 194.0KB\n",
            "\n",
            "Epoch 109\n"
          ]
        },
        {
          "name": "stderr",
          "output_type": "stream",
          "text": [
            "Train: 100%|##########################| 391/391 [00:26<00:00, 14.88batch/s]\n"
          ]
        },
        {
          "name": "stdout",
          "output_type": "stream",
          "text": [
            "LR: 1.0000e-03, Train Loss: 0.2264, Train Acc: 0.9225, Train Latency: 26.28s, Memory Usage: 3092.0KB\n",
            "Test Loss: 0.3149, Test Acc: 0.8943, Test Latency: 2.79s, Test Memory Usage: 194.0KB\n",
            "Saving best model ...\n",
            "\n",
            "Epoch 110\n"
          ]
        },
        {
          "name": "stderr",
          "output_type": "stream",
          "text": [
            "Train: 100%|##########################| 391/391 [00:24<00:00, 16.29batch/s]\n"
          ]
        },
        {
          "name": "stdout",
          "output_type": "stream",
          "text": [
            "LR: 1.0000e-03, Train Loss: 0.2232, Train Acc: 0.9245, Train Latency: 24.01s, Memory Usage: 3092.0KB\n",
            "Test Loss: 0.3230, Test Acc: 0.8914, Test Latency: 2.78s, Test Memory Usage: 194.0KB\n",
            "\n",
            "Epoch 111\n"
          ]
        },
        {
          "name": "stderr",
          "output_type": "stream",
          "text": [
            "Train: 100%|##########################| 391/391 [00:25<00:00, 15.59batch/s]\n"
          ]
        },
        {
          "name": "stdout",
          "output_type": "stream",
          "text": [
            "LR: 1.0000e-03, Train Loss: 0.2278, Train Acc: 0.9227, Train Latency: 25.09s, Memory Usage: 3092.0KB\n",
            "Test Loss: 0.3262, Test Acc: 0.8918, Test Latency: 2.44s, Test Memory Usage: 194.0KB\n",
            "\n",
            "Epoch 112\n"
          ]
        },
        {
          "name": "stderr",
          "output_type": "stream",
          "text": [
            "Train: 100%|##########################| 391/391 [00:25<00:00, 15.15batch/s]\n"
          ]
        },
        {
          "name": "stdout",
          "output_type": "stream",
          "text": [
            "LR: 1.0000e-03, Train Loss: 0.2235, Train Acc: 0.9244, Train Latency: 25.82s, Memory Usage: 3092.0KB\n",
            "Test Loss: 0.3296, Test Acc: 0.8862, Test Latency: 2.79s, Test Memory Usage: 194.0KB\n",
            "\n",
            "Epoch 113\n"
          ]
        },
        {
          "name": "stderr",
          "output_type": "stream",
          "text": [
            "Train: 100%|##########################| 391/391 [00:25<00:00, 15.39batch/s]\n"
          ]
        },
        {
          "name": "stdout",
          "output_type": "stream",
          "text": [
            "LR: 1.0000e-03, Train Loss: 0.2223, Train Acc: 0.9252, Train Latency: 25.41s, Memory Usage: 3092.0KB\n",
            "Test Loss: 0.3262, Test Acc: 0.8896, Test Latency: 2.44s, Test Memory Usage: 194.0KB\n",
            "\n",
            "Epoch 114\n"
          ]
        },
        {
          "name": "stderr",
          "output_type": "stream",
          "text": [
            "Train: 100%|##########################| 391/391 [00:22<00:00, 17.32batch/s]\n"
          ]
        },
        {
          "name": "stdout",
          "output_type": "stream",
          "text": [
            "LR: 1.0000e-03, Train Loss: 0.2215, Train Acc: 0.9234, Train Latency: 22.58s, Memory Usage: 3092.0KB\n",
            "Test Loss: 0.3358, Test Acc: 0.8877, Test Latency: 2.78s, Test Memory Usage: 194.0KB\n",
            "\n",
            "Epoch 115\n"
          ]
        },
        {
          "name": "stderr",
          "output_type": "stream",
          "text": [
            "Train: 100%|##########################| 391/391 [00:25<00:00, 15.14batch/s]\n"
          ]
        },
        {
          "name": "stdout",
          "output_type": "stream",
          "text": [
            "LR: 1.0000e-03, Train Loss: 0.2191, Train Acc: 0.9258, Train Latency: 25.84s, Memory Usage: 3092.0KB\n",
            "Test Loss: 0.3332, Test Acc: 0.8893, Test Latency: 2.77s, Test Memory Usage: 194.0KB\n",
            "\n",
            "Epoch 116\n"
          ]
        },
        {
          "name": "stderr",
          "output_type": "stream",
          "text": [
            "Train: 100%|##########################| 391/391 [00:26<00:00, 14.82batch/s]\n"
          ]
        },
        {
          "name": "stdout",
          "output_type": "stream",
          "text": [
            "LR: 1.0000e-03, Train Loss: 0.2204, Train Acc: 0.9245, Train Latency: 26.39s, Memory Usage: 3092.0KB\n",
            "Test Loss: 0.3406, Test Acc: 0.8881, Test Latency: 2.79s, Test Memory Usage: 194.0KB\n",
            "\n",
            "Epoch 117\n"
          ]
        },
        {
          "name": "stderr",
          "output_type": "stream",
          "text": [
            "Train: 100%|##########################| 391/391 [00:25<00:00, 15.31batch/s]\n"
          ]
        },
        {
          "name": "stdout",
          "output_type": "stream",
          "text": [
            "LR: 1.0000e-03, Train Loss: 0.2216, Train Acc: 0.9254, Train Latency: 25.54s, Memory Usage: 3092.0KB\n",
            "Test Loss: 0.3247, Test Acc: 0.8937, Test Latency: 2.77s, Test Memory Usage: 194.0KB\n",
            "\n",
            "Epoch 118\n"
          ]
        },
        {
          "name": "stderr",
          "output_type": "stream",
          "text": [
            "Train: 100%|##########################| 391/391 [00:26<00:00, 14.86batch/s]\n"
          ]
        },
        {
          "name": "stdout",
          "output_type": "stream",
          "text": [
            "LR: 1.0000e-03, Train Loss: 0.2220, Train Acc: 0.9248, Train Latency: 26.32s, Memory Usage: 3092.0KB\n",
            "Test Loss: 0.3287, Test Acc: 0.8901, Test Latency: 2.77s, Test Memory Usage: 194.0KB\n",
            "\n",
            "Epoch 119\n"
          ]
        },
        {
          "name": "stderr",
          "output_type": "stream",
          "text": [
            "Train: 100%|##########################| 391/391 [00:26<00:00, 14.72batch/s]\n"
          ]
        },
        {
          "name": "stdout",
          "output_type": "stream",
          "text": [
            "LR: 1.0000e-03, Train Loss: 0.2200, Train Acc: 0.9262, Train Latency: 26.56s, Memory Usage: 3092.0KB\n",
            "Test Loss: 0.3402, Test Acc: 0.8879, Test Latency: 2.79s, Test Memory Usage: 194.0KB\n",
            "\n",
            "Epoch 120\n"
          ]
        },
        {
          "name": "stderr",
          "output_type": "stream",
          "text": [
            "Train: 100%|##########################| 391/391 [00:25<00:00, 15.07batch/s]\n"
          ]
        },
        {
          "name": "stdout",
          "output_type": "stream",
          "text": [
            "LR: 1.0000e-03, Train Loss: 0.2198, Train Acc: 0.9264, Train Latency: 25.95s, Memory Usage: 3092.0KB\n",
            "Test Loss: 0.3316, Test Acc: 0.8884, Test Latency: 2.78s, Test Memory Usage: 194.0KB\n",
            "\n",
            "Epoch 121\n"
          ]
        },
        {
          "name": "stderr",
          "output_type": "stream",
          "text": [
            "Train: 100%|##########################| 391/391 [00:26<00:00, 15.01batch/s]\n"
          ]
        },
        {
          "name": "stdout",
          "output_type": "stream",
          "text": [
            "LR: 1.0000e-03, Train Loss: 0.2242, Train Acc: 0.9232, Train Latency: 26.05s, Memory Usage: 3092.0KB\n",
            "Test Loss: 0.3895, Test Acc: 0.8709, Test Latency: 2.78s, Test Memory Usage: 194.0KB\n",
            "\n",
            "Epoch 122\n"
          ]
        },
        {
          "name": "stderr",
          "output_type": "stream",
          "text": [
            "Train: 100%|##########################| 391/391 [00:25<00:00, 15.20batch/s]\n"
          ]
        },
        {
          "name": "stdout",
          "output_type": "stream",
          "text": [
            "LR: 1.0000e-03, Train Loss: 0.2272, Train Acc: 0.9228, Train Latency: 25.73s, Memory Usage: 3092.0KB\n",
            "Test Loss: 0.3325, Test Acc: 0.8910, Test Latency: 2.45s, Test Memory Usage: 194.0KB\n",
            "\n",
            "Epoch 123\n"
          ]
        },
        {
          "name": "stderr",
          "output_type": "stream",
          "text": [
            "Train: 100%|##########################| 391/391 [00:25<00:00, 15.11batch/s]\n"
          ]
        },
        {
          "name": "stdout",
          "output_type": "stream",
          "text": [
            "LR: 1.0000e-03, Train Loss: 0.2214, Train Acc: 0.9260, Train Latency: 25.87s, Memory Usage: 3092.0KB\n",
            "Test Loss: 0.3394, Test Acc: 0.8882, Test Latency: 2.79s, Test Memory Usage: 194.0KB\n",
            "\n",
            "Epoch 124\n"
          ]
        },
        {
          "name": "stderr",
          "output_type": "stream",
          "text": [
            "Train: 100%|##########################| 391/391 [00:26<00:00, 14.80batch/s]\n"
          ]
        },
        {
          "name": "stdout",
          "output_type": "stream",
          "text": [
            "LR: 1.0000e-03, Train Loss: 0.2214, Train Acc: 0.9245, Train Latency: 26.41s, Memory Usage: 3092.0KB\n",
            "Test Loss: 0.3539, Test Acc: 0.8853, Test Latency: 2.79s, Test Memory Usage: 194.0KB\n",
            "\n",
            "Epoch 125\n"
          ]
        },
        {
          "name": "stderr",
          "output_type": "stream",
          "text": [
            "Train: 100%|##########################| 391/391 [00:25<00:00, 15.56batch/s]\n"
          ]
        },
        {
          "name": "stdout",
          "output_type": "stream",
          "text": [
            "LR: 1.0000e-03, Train Loss: 0.2253, Train Acc: 0.9237, Train Latency: 25.13s, Memory Usage: 3092.0KB\n",
            "Test Loss: 0.3387, Test Acc: 0.8871, Test Latency: 2.46s, Test Memory Usage: 194.0KB\n",
            "\n",
            "Epoch 126\n"
          ]
        },
        {
          "name": "stderr",
          "output_type": "stream",
          "text": [
            "Train: 100%|##########################| 391/391 [00:25<00:00, 15.09batch/s]\n"
          ]
        },
        {
          "name": "stdout",
          "output_type": "stream",
          "text": [
            "LR: 1.0000e-03, Train Loss: 0.2202, Train Acc: 0.9250, Train Latency: 25.92s, Memory Usage: 3092.0KB\n",
            "Test Loss: 0.3352, Test Acc: 0.8905, Test Latency: 2.79s, Test Memory Usage: 194.0KB\n",
            "\n",
            "Epoch 127\n"
          ]
        },
        {
          "name": "stderr",
          "output_type": "stream",
          "text": [
            "Train: 100%|##########################| 391/391 [00:26<00:00, 14.82batch/s]\n"
          ]
        },
        {
          "name": "stdout",
          "output_type": "stream",
          "text": [
            "LR: 1.0000e-03, Train Loss: 0.2200, Train Acc: 0.9254, Train Latency: 26.38s, Memory Usage: 3092.0KB\n",
            "Test Loss: 0.3455, Test Acc: 0.8862, Test Latency: 2.79s, Test Memory Usage: 194.0KB\n",
            "\n",
            "Epoch 128\n"
          ]
        },
        {
          "name": "stderr",
          "output_type": "stream",
          "text": [
            "Train: 100%|##########################| 391/391 [00:26<00:00, 14.93batch/s]\n"
          ]
        },
        {
          "name": "stdout",
          "output_type": "stream",
          "text": [
            "LR: 1.0000e-03, Train Loss: 0.2205, Train Acc: 0.9258, Train Latency: 26.19s, Memory Usage: 3092.0KB\n",
            "Test Loss: 0.3497, Test Acc: 0.8845, Test Latency: 2.81s, Test Memory Usage: 194.0KB\n",
            "\n",
            "Epoch 129\n"
          ]
        },
        {
          "name": "stderr",
          "output_type": "stream",
          "text": [
            "Train: 100%|##########################| 391/391 [00:24<00:00, 16.26batch/s]\n"
          ]
        },
        {
          "name": "stdout",
          "output_type": "stream",
          "text": [
            "LR: 1.0000e-03, Train Loss: 0.2202, Train Acc: 0.9255, Train Latency: 24.05s, Memory Usage: 3092.0KB\n",
            "Test Loss: 0.3610, Test Acc: 0.8784, Test Latency: 2.45s, Test Memory Usage: 194.0KB\n",
            "\n",
            "Epoch 130\n"
          ]
        },
        {
          "name": "stderr",
          "output_type": "stream",
          "text": [
            "Train: 100%|##########################| 391/391 [00:25<00:00, 15.15batch/s]\n"
          ]
        },
        {
          "name": "stdout",
          "output_type": "stream",
          "text": [
            "LR: 1.0000e-03, Train Loss: 0.2193, Train Acc: 0.9248, Train Latency: 25.82s, Memory Usage: 3092.0KB\n",
            "Test Loss: 0.3666, Test Acc: 0.8772, Test Latency: 2.79s, Test Memory Usage: 194.0KB\n",
            "\n",
            "Epoch 131\n"
          ]
        },
        {
          "name": "stderr",
          "output_type": "stream",
          "text": [
            "Train: 100%|##########################| 391/391 [00:25<00:00, 15.04batch/s]\n"
          ]
        },
        {
          "name": "stdout",
          "output_type": "stream",
          "text": [
            "LR: 1.0000e-03, Train Loss: 0.2192, Train Acc: 0.9250, Train Latency: 25.99s, Memory Usage: 3092.0KB\n",
            "Test Loss: 0.3439, Test Acc: 0.8833, Test Latency: 2.79s, Test Memory Usage: 194.0KB\n",
            "\n",
            "Epoch 132\n"
          ]
        },
        {
          "name": "stderr",
          "output_type": "stream",
          "text": [
            "Train: 100%|##########################| 391/391 [00:26<00:00, 14.89batch/s]\n"
          ]
        },
        {
          "name": "stdout",
          "output_type": "stream",
          "text": [
            "LR: 1.0000e-03, Train Loss: 0.2213, Train Acc: 0.9250, Train Latency: 26.26s, Memory Usage: 3092.0KB\n",
            "Test Loss: 0.3427, Test Acc: 0.8879, Test Latency: 2.80s, Test Memory Usage: 194.0KB\n",
            "\n",
            "Epoch 133\n"
          ]
        },
        {
          "name": "stderr",
          "output_type": "stream",
          "text": [
            "Train: 100%|##########################| 391/391 [00:24<00:00, 15.71batch/s]\n"
          ]
        },
        {
          "name": "stdout",
          "output_type": "stream",
          "text": [
            "LR: 1.0000e-03, Train Loss: 0.2245, Train Acc: 0.9230, Train Latency: 24.90s, Memory Usage: 3092.0KB\n",
            "Test Loss: 0.3443, Test Acc: 0.8842, Test Latency: 2.79s, Test Memory Usage: 194.0KB\n",
            "\n",
            "Epoch 134\n"
          ]
        },
        {
          "name": "stderr",
          "output_type": "stream",
          "text": [
            "Train: 100%|##########################| 391/391 [00:25<00:00, 15.19batch/s]\n"
          ]
        },
        {
          "name": "stdout",
          "output_type": "stream",
          "text": [
            "LR: 1.0000e-03, Train Loss: 0.2207, Train Acc: 0.9240, Train Latency: 25.75s, Memory Usage: 3092.0KB\n",
            "Test Loss: 0.3495, Test Acc: 0.8867, Test Latency: 2.80s, Test Memory Usage: 194.0KB\n",
            "\n",
            "Epoch 135\n"
          ]
        },
        {
          "name": "stderr",
          "output_type": "stream",
          "text": [
            "Train: 100%|##########################| 391/391 [00:26<00:00, 14.93batch/s]\n"
          ]
        },
        {
          "name": "stdout",
          "output_type": "stream",
          "text": [
            "LR: 1.0000e-03, Train Loss: 0.2259, Train Acc: 0.9230, Train Latency: 26.19s, Memory Usage: 3092.0KB\n",
            "Test Loss: 0.3482, Test Acc: 0.8871, Test Latency: 2.80s, Test Memory Usage: 194.0KB\n",
            "\n",
            "Epoch 136\n"
          ]
        },
        {
          "name": "stderr",
          "output_type": "stream",
          "text": [
            "Train: 100%|##########################| 391/391 [00:26<00:00, 14.86batch/s]\n"
          ]
        },
        {
          "name": "stdout",
          "output_type": "stream",
          "text": [
            "LR: 1.0000e-03, Train Loss: 0.2225, Train Acc: 0.9243, Train Latency: 26.32s, Memory Usage: 3092.0KB\n",
            "Test Loss: 0.3520, Test Acc: 0.8830, Test Latency: 2.79s, Test Memory Usage: 194.0KB\n",
            "\n",
            "Epoch 137\n"
          ]
        },
        {
          "name": "stderr",
          "output_type": "stream",
          "text": [
            "Train: 100%|##########################| 391/391 [00:26<00:00, 14.83batch/s]\n"
          ]
        },
        {
          "name": "stdout",
          "output_type": "stream",
          "text": [
            "LR: 1.0000e-03, Train Loss: 0.2202, Train Acc: 0.9247, Train Latency: 26.36s, Memory Usage: 3092.0KB\n",
            "Test Loss: 0.3309, Test Acc: 0.8914, Test Latency: 2.79s, Test Memory Usage: 194.0KB\n",
            "\n",
            "Epoch 138\n"
          ]
        },
        {
          "name": "stderr",
          "output_type": "stream",
          "text": [
            "Train: 100%|##########################| 391/391 [00:26<00:00, 14.77batch/s]\n"
          ]
        },
        {
          "name": "stdout",
          "output_type": "stream",
          "text": [
            "LR: 1.0000e-03, Train Loss: 0.2164, Train Acc: 0.9259, Train Latency: 26.47s, Memory Usage: 3092.0KB\n",
            "Test Loss: 0.3589, Test Acc: 0.8799, Test Latency: 2.71s, Test Memory Usage: 194.0KB\n",
            "\n",
            "Epoch 139\n"
          ]
        },
        {
          "name": "stderr",
          "output_type": "stream",
          "text": [
            "Train: 100%|##########################| 391/391 [00:25<00:00, 15.57batch/s]\n"
          ]
        },
        {
          "name": "stdout",
          "output_type": "stream",
          "text": [
            "LR: 1.0000e-03, Train Loss: 0.2246, Train Acc: 0.9221, Train Latency: 25.11s, Memory Usage: 3092.0KB\n",
            "Test Loss: 0.3691, Test Acc: 0.8790, Test Latency: 2.78s, Test Memory Usage: 194.0KB\n",
            "\n",
            "Epoch 140\n"
          ]
        },
        {
          "name": "stderr",
          "output_type": "stream",
          "text": [
            "Train: 100%|##########################| 391/391 [00:26<00:00, 14.71batch/s]\n"
          ]
        },
        {
          "name": "stdout",
          "output_type": "stream",
          "text": [
            "LR: 1.0000e-03, Train Loss: 0.2208, Train Acc: 0.9240, Train Latency: 26.59s, Memory Usage: 3092.0KB\n",
            "Test Loss: 0.3741, Test Acc: 0.8747, Test Latency: 2.77s, Test Memory Usage: 194.0KB\n",
            "\n",
            "Epoch 141\n"
          ]
        },
        {
          "name": "stderr",
          "output_type": "stream",
          "text": [
            "Train: 100%|##########################| 391/391 [00:26<00:00, 15.01batch/s]\n"
          ]
        },
        {
          "name": "stdout",
          "output_type": "stream",
          "text": [
            "LR: 1.0000e-03, Train Loss: 0.2188, Train Acc: 0.9245, Train Latency: 26.05s, Memory Usage: 3092.0KB\n",
            "Test Loss: 0.3793, Test Acc: 0.8739, Test Latency: 2.78s, Test Memory Usage: 194.0KB\n",
            "\n",
            "Epoch 142\n"
          ]
        },
        {
          "name": "stderr",
          "output_type": "stream",
          "text": [
            "Train: 100%|##########################| 391/391 [00:23<00:00, 16.48batch/s]\n"
          ]
        },
        {
          "name": "stdout",
          "output_type": "stream",
          "text": [
            "LR: 1.0000e-03, Train Loss: 0.2214, Train Acc: 0.9249, Train Latency: 23.73s, Memory Usage: 3092.0KB\n",
            "Test Loss: 0.3745, Test Acc: 0.8750, Test Latency: 2.44s, Test Memory Usage: 194.0KB\n",
            "\n",
            "Epoch 143\n"
          ]
        },
        {
          "name": "stderr",
          "output_type": "stream",
          "text": [
            "Train: 100%|##########################| 391/391 [00:24<00:00, 15.80batch/s]\n"
          ]
        },
        {
          "name": "stdout",
          "output_type": "stream",
          "text": [
            "LR: 1.0000e-03, Train Loss: 0.2253, Train Acc: 0.9242, Train Latency: 24.75s, Memory Usage: 3092.0KB\n",
            "Test Loss: 0.4574, Test Acc: 0.8452, Test Latency: 2.45s, Test Memory Usage: 194.0KB\n",
            "\n",
            "Epoch 144\n"
          ]
        },
        {
          "name": "stderr",
          "output_type": "stream",
          "text": [
            "Train: 100%|##########################| 391/391 [00:23<00:00, 16.54batch/s]\n"
          ]
        },
        {
          "name": "stdout",
          "output_type": "stream",
          "text": [
            "LR: 1.0000e-03, Train Loss: 0.2234, Train Acc: 0.9230, Train Latency: 23.64s, Memory Usage: 3092.0KB\n",
            "Test Loss: 0.3599, Test Acc: 0.8795, Test Latency: 2.49s, Test Memory Usage: 194.0KB\n",
            "\n",
            "Epoch 145\n"
          ]
        },
        {
          "name": "stderr",
          "output_type": "stream",
          "text": [
            "Train: 100%|##########################| 391/391 [00:24<00:00, 16.05batch/s]\n"
          ]
        },
        {
          "name": "stdout",
          "output_type": "stream",
          "text": [
            "LR: 1.0000e-03, Train Loss: 0.2231, Train Acc: 0.9230, Train Latency: 24.36s, Memory Usage: 3092.0KB\n",
            "Test Loss: 0.3476, Test Acc: 0.8834, Test Latency: 2.79s, Test Memory Usage: 194.0KB\n",
            "\n",
            "Epoch 146\n"
          ]
        },
        {
          "name": "stderr",
          "output_type": "stream",
          "text": [
            "Train: 100%|##########################| 391/391 [00:26<00:00, 14.88batch/s]\n"
          ]
        },
        {
          "name": "stdout",
          "output_type": "stream",
          "text": [
            "LR: 1.0000e-03, Train Loss: 0.2212, Train Acc: 0.9248, Train Latency: 26.28s, Memory Usage: 3092.0KB\n",
            "Test Loss: 0.3902, Test Acc: 0.8671, Test Latency: 2.81s, Test Memory Usage: 194.0KB\n",
            "\n",
            "Epoch 147\n"
          ]
        },
        {
          "name": "stderr",
          "output_type": "stream",
          "text": [
            "Train: 100%|##########################| 391/391 [00:26<00:00, 14.93batch/s]\n"
          ]
        },
        {
          "name": "stdout",
          "output_type": "stream",
          "text": [
            "LR: 1.0000e-03, Train Loss: 0.2256, Train Acc: 0.9236, Train Latency: 26.19s, Memory Usage: 3092.0KB\n",
            "Test Loss: 0.3439, Test Acc: 0.8838, Test Latency: 2.79s, Test Memory Usage: 194.0KB\n",
            "\n",
            "Epoch 148\n"
          ]
        },
        {
          "name": "stderr",
          "output_type": "stream",
          "text": [
            "Train: 100%|##########################| 391/391 [00:26<00:00, 14.89batch/s]\n"
          ]
        },
        {
          "name": "stdout",
          "output_type": "stream",
          "text": [
            "LR: 1.0000e-03, Train Loss: 0.2229, Train Acc: 0.9241, Train Latency: 26.26s, Memory Usage: 3092.0KB\n",
            "Test Loss: 0.3516, Test Acc: 0.8856, Test Latency: 2.79s, Test Memory Usage: 194.0KB\n",
            "\n",
            "Epoch 149\n"
          ]
        },
        {
          "name": "stderr",
          "output_type": "stream",
          "text": [
            "Train: 100%|##########################| 391/391 [00:26<00:00, 14.93batch/s]\n"
          ]
        },
        {
          "name": "stdout",
          "output_type": "stream",
          "text": [
            "LR: 1.0000e-03, Train Loss: 0.2186, Train Acc: 0.9253, Train Latency: 26.19s, Memory Usage: 3092.0KB\n",
            "Test Loss: 0.3469, Test Acc: 0.8853, Test Latency: 2.78s, Test Memory Usage: 194.0KB\n",
            "\n",
            "Epoch 150\n"
          ]
        },
        {
          "name": "stderr",
          "output_type": "stream",
          "text": [
            "Train: 100%|##########################| 391/391 [00:24<00:00, 15.66batch/s]\n"
          ]
        },
        {
          "name": "stdout",
          "output_type": "stream",
          "text": [
            "LR: 1.0000e-03, Train Loss: 0.2192, Train Acc: 0.9250, Train Latency: 24.96s, Memory Usage: 3092.0KB\n",
            "Test Loss: 0.3663, Test Acc: 0.8766, Test Latency: 2.79s, Test Memory Usage: 194.0KB\n",
            "\n",
            "Epoch 151\n"
          ]
        },
        {
          "name": "stderr",
          "output_type": "stream",
          "text": [
            "Train: 100%|##########################| 391/391 [00:26<00:00, 14.83batch/s]\n"
          ]
        },
        {
          "name": "stdout",
          "output_type": "stream",
          "text": [
            "LR: 1.0000e-04, Train Loss: 0.1924, Train Acc: 0.9352, Train Latency: 26.37s, Memory Usage: 3092.0KB\n",
            "Test Loss: 0.3133, Test Acc: 0.8958, Test Latency: 2.78s, Test Memory Usage: 194.0KB\n",
            "Saving best model ...\n",
            "\n",
            "Epoch 152\n"
          ]
        },
        {
          "name": "stderr",
          "output_type": "stream",
          "text": [
            "Train: 100%|##########################| 391/391 [00:26<00:00, 14.71batch/s]\n"
          ]
        },
        {
          "name": "stdout",
          "output_type": "stream",
          "text": [
            "LR: 1.0000e-04, Train Loss: 0.1818, Train Acc: 0.9395, Train Latency: 26.59s, Memory Usage: 3092.0KB\n",
            "Test Loss: 0.3082, Test Acc: 0.9000, Test Latency: 2.78s, Test Memory Usage: 194.0KB\n",
            "Saving best model ...\n",
            "\n",
            "Epoch 153\n"
          ]
        },
        {
          "name": "stderr",
          "output_type": "stream",
          "text": [
            "Train: 100%|##########################| 391/391 [00:26<00:00, 14.71batch/s]\n"
          ]
        },
        {
          "name": "stdout",
          "output_type": "stream",
          "text": [
            "LR: 1.0000e-04, Train Loss: 0.1750, Train Acc: 0.9421, Train Latency: 26.58s, Memory Usage: 3092.0KB\n",
            "Test Loss: 0.3061, Test Acc: 0.9002, Test Latency: 2.80s, Test Memory Usage: 194.0KB\n",
            "Saving best model ...\n",
            "\n",
            "Epoch 154\n"
          ]
        },
        {
          "name": "stderr",
          "output_type": "stream",
          "text": [
            "Train: 100%|##########################| 391/391 [00:24<00:00, 16.12batch/s]\n"
          ]
        },
        {
          "name": "stdout",
          "output_type": "stream",
          "text": [
            "LR: 1.0000e-04, Train Loss: 0.1750, Train Acc: 0.9417, Train Latency: 24.25s, Memory Usage: 3092.0KB\n",
            "Test Loss: 0.3060, Test Acc: 0.9030, Test Latency: 2.79s, Test Memory Usage: 194.0KB\n",
            "Saving best model ...\n",
            "\n",
            "Epoch 155\n"
          ]
        },
        {
          "name": "stderr",
          "output_type": "stream",
          "text": [
            "Train: 100%|##########################| 391/391 [00:26<00:00, 14.91batch/s]\n"
          ]
        },
        {
          "name": "stdout",
          "output_type": "stream",
          "text": [
            "LR: 1.0000e-04, Train Loss: 0.1712, Train Acc: 0.9436, Train Latency: 26.23s, Memory Usage: 3092.0KB\n",
            "Test Loss: 0.3036, Test Acc: 0.9010, Test Latency: 2.77s, Test Memory Usage: 194.0KB\n",
            "\n",
            "Epoch 156\n"
          ]
        },
        {
          "name": "stderr",
          "output_type": "stream",
          "text": [
            "Train: 100%|##########################| 391/391 [00:25<00:00, 15.54batch/s]\n"
          ]
        },
        {
          "name": "stdout",
          "output_type": "stream",
          "text": [
            "LR: 1.0000e-04, Train Loss: 0.1690, Train Acc: 0.9436, Train Latency: 25.16s, Memory Usage: 3092.0KB\n",
            "Test Loss: 0.3019, Test Acc: 0.9021, Test Latency: 2.81s, Test Memory Usage: 194.0KB\n",
            "\n",
            "Epoch 157\n"
          ]
        },
        {
          "name": "stderr",
          "output_type": "stream",
          "text": [
            "Train: 100%|##########################| 391/391 [00:26<00:00, 14.85batch/s]\n"
          ]
        },
        {
          "name": "stdout",
          "output_type": "stream",
          "text": [
            "LR: 1.0000e-04, Train Loss: 0.1735, Train Acc: 0.9420, Train Latency: 26.34s, Memory Usage: 3092.0KB\n",
            "Test Loss: 0.3024, Test Acc: 0.9004, Test Latency: 2.78s, Test Memory Usage: 194.0KB\n",
            "\n",
            "Epoch 158\n"
          ]
        },
        {
          "name": "stderr",
          "output_type": "stream",
          "text": [
            "Train: 100%|##########################| 391/391 [00:24<00:00, 15.87batch/s]\n"
          ]
        },
        {
          "name": "stdout",
          "output_type": "stream",
          "text": [
            "LR: 1.0000e-04, Train Loss: 0.1696, Train Acc: 0.9440, Train Latency: 24.63s, Memory Usage: 3092.0KB\n",
            "Test Loss: 0.3048, Test Acc: 0.9019, Test Latency: 2.44s, Test Memory Usage: 194.0KB\n",
            "\n",
            "Epoch 159\n"
          ]
        },
        {
          "name": "stderr",
          "output_type": "stream",
          "text": [
            "Train: 100%|##########################| 391/391 [00:26<00:00, 14.76batch/s]\n"
          ]
        },
        {
          "name": "stdout",
          "output_type": "stream",
          "text": [
            "LR: 1.0000e-04, Train Loss: 0.1682, Train Acc: 0.9451, Train Latency: 26.50s, Memory Usage: 3092.0KB\n",
            "Test Loss: 0.3087, Test Acc: 0.8993, Test Latency: 2.79s, Test Memory Usage: 194.0KB\n",
            "\n",
            "Epoch 160\n"
          ]
        },
        {
          "name": "stderr",
          "output_type": "stream",
          "text": [
            "Train: 100%|##########################| 391/391 [00:26<00:00, 14.74batch/s]\n"
          ]
        },
        {
          "name": "stdout",
          "output_type": "stream",
          "text": [
            "LR: 1.0000e-04, Train Loss: 0.1682, Train Acc: 0.9445, Train Latency: 26.52s, Memory Usage: 3092.0KB\n",
            "Test Loss: 0.3215, Test Acc: 0.8979, Test Latency: 2.78s, Test Memory Usage: 194.0KB\n",
            "\n",
            "Epoch 161\n"
          ]
        },
        {
          "name": "stderr",
          "output_type": "stream",
          "text": [
            "Train: 100%|##########################| 391/391 [00:26<00:00, 14.81batch/s]\n"
          ]
        },
        {
          "name": "stdout",
          "output_type": "stream",
          "text": [
            "LR: 1.0000e-04, Train Loss: 0.1672, Train Acc: 0.9448, Train Latency: 26.40s, Memory Usage: 3092.0KB\n",
            "Test Loss: 0.3116, Test Acc: 0.8961, Test Latency: 2.81s, Test Memory Usage: 194.0KB\n",
            "\n",
            "Epoch 162\n"
          ]
        },
        {
          "name": "stderr",
          "output_type": "stream",
          "text": [
            "Train: 100%|##########################| 391/391 [00:24<00:00, 16.28batch/s]\n"
          ]
        },
        {
          "name": "stdout",
          "output_type": "stream",
          "text": [
            "LR: 1.0000e-04, Train Loss: 0.1673, Train Acc: 0.9447, Train Latency: 24.03s, Memory Usage: 3092.0KB\n",
            "Test Loss: 0.3141, Test Acc: 0.8963, Test Latency: 2.78s, Test Memory Usage: 194.0KB\n",
            "\n",
            "Epoch 163\n"
          ]
        },
        {
          "name": "stderr",
          "output_type": "stream",
          "text": [
            "Train: 100%|##########################| 391/391 [00:25<00:00, 15.28batch/s]\n"
          ]
        },
        {
          "name": "stdout",
          "output_type": "stream",
          "text": [
            "LR: 1.0000e-04, Train Loss: 0.1682, Train Acc: 0.9440, Train Latency: 25.60s, Memory Usage: 3092.0KB\n",
            "Test Loss: 0.3116, Test Acc: 0.8998, Test Latency: 2.74s, Test Memory Usage: 194.0KB\n",
            "\n",
            "Epoch 164\n"
          ]
        },
        {
          "name": "stderr",
          "output_type": "stream",
          "text": [
            "Train: 100%|##########################| 391/391 [00:24<00:00, 16.01batch/s]\n"
          ]
        },
        {
          "name": "stdout",
          "output_type": "stream",
          "text": [
            "LR: 1.0000e-04, Train Loss: 0.1666, Train Acc: 0.9448, Train Latency: 24.43s, Memory Usage: 3092.0KB\n",
            "Test Loss: 0.3117, Test Acc: 0.8962, Test Latency: 2.79s, Test Memory Usage: 194.0KB\n",
            "\n",
            "Epoch 165\n"
          ]
        },
        {
          "name": "stderr",
          "output_type": "stream",
          "text": [
            "Train: 100%|##########################| 391/391 [00:23<00:00, 17.00batch/s]\n"
          ]
        },
        {
          "name": "stdout",
          "output_type": "stream",
          "text": [
            "LR: 1.0000e-04, Train Loss: 0.1693, Train Acc: 0.9439, Train Latency: 23.01s, Memory Usage: 3092.0KB\n",
            "Test Loss: 0.3087, Test Acc: 0.8970, Test Latency: 2.45s, Test Memory Usage: 194.0KB\n",
            "\n",
            "Epoch 166\n"
          ]
        },
        {
          "name": "stderr",
          "output_type": "stream",
          "text": [
            "Train: 100%|##########################| 391/391 [00:25<00:00, 15.58batch/s]\n"
          ]
        },
        {
          "name": "stdout",
          "output_type": "stream",
          "text": [
            "LR: 1.0000e-04, Train Loss: 0.1667, Train Acc: 0.9442, Train Latency: 25.11s, Memory Usage: 3092.0KB\n",
            "Test Loss: 0.3017, Test Acc: 0.9009, Test Latency: 2.79s, Test Memory Usage: 194.0KB\n",
            "\n",
            "Epoch 167\n"
          ]
        },
        {
          "name": "stderr",
          "output_type": "stream",
          "text": [
            "Train: 100%|##########################| 391/391 [00:26<00:00, 14.85batch/s]\n"
          ]
        },
        {
          "name": "stdout",
          "output_type": "stream",
          "text": [
            "LR: 1.0000e-04, Train Loss: 0.1678, Train Acc: 0.9436, Train Latency: 26.33s, Memory Usage: 3092.0KB\n",
            "Test Loss: 0.3170, Test Acc: 0.8984, Test Latency: 2.81s, Test Memory Usage: 194.0KB\n",
            "\n",
            "Epoch 168\n"
          ]
        },
        {
          "name": "stderr",
          "output_type": "stream",
          "text": [
            "Train: 100%|##########################| 391/391 [00:26<00:00, 14.82batch/s]\n"
          ]
        },
        {
          "name": "stdout",
          "output_type": "stream",
          "text": [
            "LR: 1.0000e-04, Train Loss: 0.1706, Train Acc: 0.9435, Train Latency: 26.38s, Memory Usage: 3092.0KB\n",
            "Test Loss: 0.3126, Test Acc: 0.8963, Test Latency: 2.80s, Test Memory Usage: 194.0KB\n",
            "\n",
            "Epoch 169\n"
          ]
        },
        {
          "name": "stderr",
          "output_type": "stream",
          "text": [
            "Train: 100%|##########################| 391/391 [00:26<00:00, 14.86batch/s]\n"
          ]
        },
        {
          "name": "stdout",
          "output_type": "stream",
          "text": [
            "LR: 1.0000e-04, Train Loss: 0.1652, Train Acc: 0.9461, Train Latency: 26.32s, Memory Usage: 3092.0KB\n",
            "Test Loss: 0.3114, Test Acc: 0.8990, Test Latency: 2.79s, Test Memory Usage: 194.0KB\n",
            "\n",
            "Epoch 170\n"
          ]
        },
        {
          "name": "stderr",
          "output_type": "stream",
          "text": [
            "Train: 100%|##########################| 391/391 [00:26<00:00, 14.71batch/s]\n"
          ]
        },
        {
          "name": "stdout",
          "output_type": "stream",
          "text": [
            "LR: 1.0000e-04, Train Loss: 0.1680, Train Acc: 0.9447, Train Latency: 26.58s, Memory Usage: 3092.0KB\n",
            "Test Loss: 0.3136, Test Acc: 0.8964, Test Latency: 2.79s, Test Memory Usage: 194.0KB\n",
            "\n",
            "Epoch 171\n"
          ]
        },
        {
          "name": "stderr",
          "output_type": "stream",
          "text": [
            "Train: 100%|##########################| 391/391 [00:25<00:00, 15.18batch/s]\n"
          ]
        },
        {
          "name": "stdout",
          "output_type": "stream",
          "text": [
            "LR: 1.0000e-04, Train Loss: 0.1679, Train Acc: 0.9446, Train Latency: 25.77s, Memory Usage: 3092.0KB\n",
            "Test Loss: 0.3136, Test Acc: 0.8953, Test Latency: 2.74s, Test Memory Usage: 194.0KB\n",
            "\n",
            "Epoch 172\n"
          ]
        },
        {
          "name": "stderr",
          "output_type": "stream",
          "text": [
            "Train: 100%|##########################| 391/391 [00:25<00:00, 15.15batch/s]\n"
          ]
        },
        {
          "name": "stdout",
          "output_type": "stream",
          "text": [
            "LR: 1.0000e-04, Train Loss: 0.1698, Train Acc: 0.9439, Train Latency: 25.81s, Memory Usage: 3092.0KB\n",
            "Test Loss: 0.3159, Test Acc: 0.8962, Test Latency: 2.80s, Test Memory Usage: 194.0KB\n",
            "\n",
            "Epoch 173\n"
          ]
        },
        {
          "name": "stderr",
          "output_type": "stream",
          "text": [
            "Train: 100%|##########################| 391/391 [00:26<00:00, 14.88batch/s]\n"
          ]
        },
        {
          "name": "stdout",
          "output_type": "stream",
          "text": [
            "LR: 1.0000e-04, Train Loss: 0.1682, Train Acc: 0.9438, Train Latency: 26.27s, Memory Usage: 3092.0KB\n",
            "Test Loss: 0.3194, Test Acc: 0.8939, Test Latency: 2.79s, Test Memory Usage: 194.0KB\n",
            "\n",
            "Epoch 174\n"
          ]
        },
        {
          "name": "stderr",
          "output_type": "stream",
          "text": [
            "Train: 100%|##########################| 391/391 [00:23<00:00, 16.49batch/s]\n"
          ]
        },
        {
          "name": "stdout",
          "output_type": "stream",
          "text": [
            "LR: 1.0000e-04, Train Loss: 0.1680, Train Acc: 0.9437, Train Latency: 23.72s, Memory Usage: 3092.0KB\n",
            "Test Loss: 0.3161, Test Acc: 0.8944, Test Latency: 2.45s, Test Memory Usage: 194.0KB\n",
            "\n",
            "Epoch 175\n"
          ]
        },
        {
          "name": "stderr",
          "output_type": "stream",
          "text": [
            "Train: 100%|##########################| 391/391 [00:24<00:00, 15.65batch/s]\n"
          ]
        },
        {
          "name": "stdout",
          "output_type": "stream",
          "text": [
            "LR: 1.0000e-04, Train Loss: 0.1669, Train Acc: 0.9443, Train Latency: 24.99s, Memory Usage: 3092.0KB\n",
            "Test Loss: 0.3200, Test Acc: 0.8958, Test Latency: 2.44s, Test Memory Usage: 194.0KB\n",
            "\n",
            "Epoch 176\n"
          ]
        },
        {
          "name": "stderr",
          "output_type": "stream",
          "text": [
            "Train: 100%|##########################| 391/391 [00:25<00:00, 15.22batch/s]\n"
          ]
        },
        {
          "name": "stdout",
          "output_type": "stream",
          "text": [
            "LR: 1.0000e-04, Train Loss: 0.1630, Train Acc: 0.9455, Train Latency: 25.69s, Memory Usage: 3092.0KB\n",
            "Test Loss: 0.3188, Test Acc: 0.8929, Test Latency: 2.77s, Test Memory Usage: 194.0KB\n",
            "\n",
            "Epoch 177\n"
          ]
        },
        {
          "name": "stderr",
          "output_type": "stream",
          "text": [
            "Train: 100%|##########################| 391/391 [00:26<00:00, 14.79batch/s]\n"
          ]
        },
        {
          "name": "stdout",
          "output_type": "stream",
          "text": [
            "LR: 1.0000e-04, Train Loss: 0.1661, Train Acc: 0.9443, Train Latency: 26.44s, Memory Usage: 3092.0KB\n",
            "Test Loss: 0.3145, Test Acc: 0.8967, Test Latency: 2.78s, Test Memory Usage: 194.0KB\n",
            "\n",
            "Epoch 178\n"
          ]
        },
        {
          "name": "stderr",
          "output_type": "stream",
          "text": [
            "Train: 100%|##########################| 391/391 [00:25<00:00, 15.12batch/s]\n"
          ]
        },
        {
          "name": "stdout",
          "output_type": "stream",
          "text": [
            "LR: 1.0000e-04, Train Loss: 0.1693, Train Acc: 0.9432, Train Latency: 25.85s, Memory Usage: 3092.0KB\n",
            "Test Loss: 0.3215, Test Acc: 0.8956, Test Latency: 2.60s, Test Memory Usage: 194.0KB\n",
            "\n",
            "Epoch 179\n"
          ]
        },
        {
          "name": "stderr",
          "output_type": "stream",
          "text": [
            "Train: 100%|##########################| 391/391 [00:26<00:00, 15.00batch/s]\n"
          ]
        },
        {
          "name": "stdout",
          "output_type": "stream",
          "text": [
            "LR: 1.0000e-04, Train Loss: 0.1721, Train Acc: 0.9422, Train Latency: 26.07s, Memory Usage: 3092.0KB\n",
            "Test Loss: 0.3169, Test Acc: 0.8956, Test Latency: 2.78s, Test Memory Usage: 194.0KB\n",
            "\n",
            "Epoch 180\n"
          ]
        },
        {
          "name": "stderr",
          "output_type": "stream",
          "text": [
            "Train: 100%|##########################| 391/391 [00:26<00:00, 14.92batch/s]\n"
          ]
        },
        {
          "name": "stdout",
          "output_type": "stream",
          "text": [
            "LR: 1.0000e-04, Train Loss: 0.1682, Train Acc: 0.9443, Train Latency: 26.22s, Memory Usage: 3092.0KB\n",
            "Test Loss: 0.3146, Test Acc: 0.9001, Test Latency: 2.81s, Test Memory Usage: 194.0KB\n",
            "\n",
            "Epoch 181\n"
          ]
        },
        {
          "name": "stderr",
          "output_type": "stream",
          "text": [
            "Train: 100%|##########################| 391/391 [00:26<00:00, 14.73batch/s]\n"
          ]
        },
        {
          "name": "stdout",
          "output_type": "stream",
          "text": [
            "LR: 1.0000e-04, Train Loss: 0.1699, Train Acc: 0.9434, Train Latency: 26.54s, Memory Usage: 3092.0KB\n",
            "Test Loss: 0.3071, Test Acc: 0.8997, Test Latency: 2.81s, Test Memory Usage: 194.0KB\n",
            "\n",
            "Epoch 182\n"
          ]
        },
        {
          "name": "stderr",
          "output_type": "stream",
          "text": [
            "Train: 100%|##########################| 391/391 [00:25<00:00, 15.20batch/s]\n"
          ]
        },
        {
          "name": "stdout",
          "output_type": "stream",
          "text": [
            "LR: 1.0000e-04, Train Loss: 0.1700, Train Acc: 0.9425, Train Latency: 25.72s, Memory Usage: 3092.0KB\n",
            "Test Loss: 0.3042, Test Acc: 0.8958, Test Latency: 2.80s, Test Memory Usage: 194.0KB\n",
            "\n",
            "Epoch 183\n"
          ]
        },
        {
          "name": "stderr",
          "output_type": "stream",
          "text": [
            "Train: 100%|##########################| 391/391 [00:26<00:00, 14.79batch/s]\n"
          ]
        },
        {
          "name": "stdout",
          "output_type": "stream",
          "text": [
            "LR: 1.0000e-04, Train Loss: 0.1712, Train Acc: 0.9436, Train Latency: 26.44s, Memory Usage: 3092.0KB\n",
            "Test Loss: 0.3270, Test Acc: 0.8938, Test Latency: 2.79s, Test Memory Usage: 194.0KB\n",
            "\n",
            "Epoch 184\n"
          ]
        },
        {
          "name": "stderr",
          "output_type": "stream",
          "text": [
            "Train: 100%|##########################| 391/391 [00:24<00:00, 15.99batch/s]\n"
          ]
        },
        {
          "name": "stdout",
          "output_type": "stream",
          "text": [
            "LR: 1.0000e-04, Train Loss: 0.1674, Train Acc: 0.9440, Train Latency: 24.45s, Memory Usage: 3092.0KB\n",
            "Test Loss: 0.3107, Test Acc: 0.8969, Test Latency: 2.79s, Test Memory Usage: 194.0KB\n",
            "\n",
            "Epoch 185\n"
          ]
        },
        {
          "name": "stderr",
          "output_type": "stream",
          "text": [
            "Train: 100%|##########################| 391/391 [00:24<00:00, 15.73batch/s]\n"
          ]
        },
        {
          "name": "stdout",
          "output_type": "stream",
          "text": [
            "LR: 1.0000e-04, Train Loss: 0.1686, Train Acc: 0.9433, Train Latency: 24.85s, Memory Usage: 3092.0KB\n",
            "Test Loss: 0.3172, Test Acc: 0.8962, Test Latency: 2.45s, Test Memory Usage: 194.0KB\n",
            "\n",
            "Epoch 186\n"
          ]
        },
        {
          "name": "stderr",
          "output_type": "stream",
          "text": [
            "Train: 100%|##########################| 391/391 [00:26<00:00, 14.97batch/s]\n"
          ]
        },
        {
          "name": "stdout",
          "output_type": "stream",
          "text": [
            "LR: 1.0000e-04, Train Loss: 0.1694, Train Acc: 0.9436, Train Latency: 26.12s, Memory Usage: 3092.0KB\n",
            "Test Loss: 0.3128, Test Acc: 0.8978, Test Latency: 2.80s, Test Memory Usage: 194.0KB\n",
            "\n",
            "Epoch 187\n"
          ]
        },
        {
          "name": "stderr",
          "output_type": "stream",
          "text": [
            "Train: 100%|##########################| 391/391 [00:23<00:00, 16.41batch/s]\n"
          ]
        },
        {
          "name": "stdout",
          "output_type": "stream",
          "text": [
            "LR: 1.0000e-04, Train Loss: 0.1700, Train Acc: 0.9433, Train Latency: 23.83s, Memory Usage: 3092.0KB\n",
            "Test Loss: 0.3173, Test Acc: 0.8964, Test Latency: 2.76s, Test Memory Usage: 194.0KB\n",
            "\n",
            "Epoch 188\n"
          ]
        },
        {
          "name": "stderr",
          "output_type": "stream",
          "text": [
            "Train: 100%|##########################| 391/391 [00:23<00:00, 16.58batch/s]\n"
          ]
        },
        {
          "name": "stdout",
          "output_type": "stream",
          "text": [
            "LR: 1.0000e-04, Train Loss: 0.1701, Train Acc: 0.9429, Train Latency: 23.58s, Memory Usage: 3092.0KB\n",
            "Test Loss: 0.3131, Test Acc: 0.8971, Test Latency: 2.46s, Test Memory Usage: 194.0KB\n",
            "\n",
            "Epoch 189\n"
          ]
        },
        {
          "name": "stderr",
          "output_type": "stream",
          "text": [
            "Train: 100%|##########################| 391/391 [00:26<00:00, 14.69batch/s]\n"
          ]
        },
        {
          "name": "stdout",
          "output_type": "stream",
          "text": [
            "LR: 1.0000e-04, Train Loss: 0.1698, Train Acc: 0.9423, Train Latency: 26.62s, Memory Usage: 3092.0KB\n",
            "Test Loss: 0.3206, Test Acc: 0.8949, Test Latency: 2.78s, Test Memory Usage: 194.0KB\n",
            "\n",
            "Epoch 190\n"
          ]
        },
        {
          "name": "stderr",
          "output_type": "stream",
          "text": [
            "Train: 100%|##########################| 391/391 [00:25<00:00, 15.40batch/s]\n"
          ]
        },
        {
          "name": "stdout",
          "output_type": "stream",
          "text": [
            "LR: 1.0000e-04, Train Loss: 0.1703, Train Acc: 0.9427, Train Latency: 25.40s, Memory Usage: 3092.0KB\n",
            "Test Loss: 0.3114, Test Acc: 0.8969, Test Latency: 2.79s, Test Memory Usage: 194.0KB\n",
            "\n",
            "Epoch 191\n"
          ]
        },
        {
          "name": "stderr",
          "output_type": "stream",
          "text": [
            "Train: 100%|##########################| 391/391 [00:25<00:00, 15.09batch/s]\n"
          ]
        },
        {
          "name": "stdout",
          "output_type": "stream",
          "text": [
            "LR: 1.0000e-04, Train Loss: 0.1712, Train Acc: 0.9428, Train Latency: 25.91s, Memory Usage: 3092.0KB\n",
            "Test Loss: 0.3160, Test Acc: 0.8976, Test Latency: 2.83s, Test Memory Usage: 194.0KB\n",
            "\n",
            "Epoch 192\n"
          ]
        },
        {
          "name": "stderr",
          "output_type": "stream",
          "text": [
            "Train: 100%|##########################| 391/391 [00:26<00:00, 14.91batch/s]\n"
          ]
        },
        {
          "name": "stdout",
          "output_type": "stream",
          "text": [
            "LR: 1.0000e-04, Train Loss: 0.1700, Train Acc: 0.9435, Train Latency: 26.23s, Memory Usage: 3092.0KB\n",
            "Test Loss: 0.3129, Test Acc: 0.8963, Test Latency: 2.80s, Test Memory Usage: 194.0KB\n",
            "\n",
            "Epoch 193\n"
          ]
        },
        {
          "name": "stderr",
          "output_type": "stream",
          "text": [
            "Train: 100%|##########################| 391/391 [00:23<00:00, 16.50batch/s]\n"
          ]
        },
        {
          "name": "stdout",
          "output_type": "stream",
          "text": [
            "LR: 1.0000e-04, Train Loss: 0.1697, Train Acc: 0.9430, Train Latency: 23.70s, Memory Usage: 3092.0KB\n",
            "Test Loss: 0.3113, Test Acc: 0.8958, Test Latency: 2.79s, Test Memory Usage: 194.0KB\n",
            "\n",
            "Epoch 194\n"
          ]
        },
        {
          "name": "stderr",
          "output_type": "stream",
          "text": [
            "Train: 100%|##########################| 391/391 [00:24<00:00, 16.22batch/s]\n"
          ]
        },
        {
          "name": "stdout",
          "output_type": "stream",
          "text": [
            "LR: 1.0000e-04, Train Loss: 0.1674, Train Acc: 0.9448, Train Latency: 24.11s, Memory Usage: 3092.0KB\n",
            "Test Loss: 0.3223, Test Acc: 0.8954, Test Latency: 2.78s, Test Memory Usage: 194.0KB\n",
            "\n",
            "Epoch 195\n"
          ]
        },
        {
          "name": "stderr",
          "output_type": "stream",
          "text": [
            "Train: 100%|##########################| 391/391 [00:26<00:00, 14.94batch/s]\n"
          ]
        },
        {
          "name": "stdout",
          "output_type": "stream",
          "text": [
            "LR: 1.0000e-04, Train Loss: 0.1701, Train Acc: 0.9437, Train Latency: 26.18s, Memory Usage: 3092.0KB\n",
            "Test Loss: 0.3190, Test Acc: 0.8944, Test Latency: 2.79s, Test Memory Usage: 194.0KB\n",
            "\n",
            "Epoch 196\n"
          ]
        },
        {
          "name": "stderr",
          "output_type": "stream",
          "text": [
            "Train: 100%|##########################| 391/391 [00:24<00:00, 16.03batch/s]\n"
          ]
        },
        {
          "name": "stdout",
          "output_type": "stream",
          "text": [
            "LR: 1.0000e-04, Train Loss: 0.1717, Train Acc: 0.9423, Train Latency: 24.39s, Memory Usage: 3092.0KB\n",
            "Test Loss: 0.3242, Test Acc: 0.8938, Test Latency: 2.74s, Test Memory Usage: 194.0KB\n",
            "\n",
            "Epoch 197\n"
          ]
        },
        {
          "name": "stderr",
          "output_type": "stream",
          "text": [
            "Train: 100%|##########################| 391/391 [00:25<00:00, 15.19batch/s]\n"
          ]
        },
        {
          "name": "stdout",
          "output_type": "stream",
          "text": [
            "LR: 1.0000e-04, Train Loss: 0.1711, Train Acc: 0.9429, Train Latency: 25.74s, Memory Usage: 3092.0KB\n",
            "Test Loss: 0.3198, Test Acc: 0.8964, Test Latency: 2.80s, Test Memory Usage: 194.0KB\n",
            "\n",
            "Epoch 198\n"
          ]
        },
        {
          "name": "stderr",
          "output_type": "stream",
          "text": [
            "Train: 100%|##########################| 391/391 [00:26<00:00, 14.80batch/s]\n"
          ]
        },
        {
          "name": "stdout",
          "output_type": "stream",
          "text": [
            "LR: 1.0000e-04, Train Loss: 0.1709, Train Acc: 0.9440, Train Latency: 26.41s, Memory Usage: 3092.0KB\n",
            "Test Loss: 0.3201, Test Acc: 0.8953, Test Latency: 2.78s, Test Memory Usage: 194.0KB\n",
            "\n",
            "Epoch 199\n"
          ]
        },
        {
          "name": "stderr",
          "output_type": "stream",
          "text": [
            "Train: 100%|##########################| 391/391 [00:26<00:00, 14.89batch/s]\n"
          ]
        },
        {
          "name": "stdout",
          "output_type": "stream",
          "text": [
            "LR: 1.0000e-04, Train Loss: 0.1702, Train Acc: 0.9431, Train Latency: 26.26s, Memory Usage: 3092.0KB\n",
            "Test Loss: 0.3162, Test Acc: 0.8953, Test Latency: 2.79s, Test Memory Usage: 194.0KB\n",
            "\n",
            "Epoch 200\n"
          ]
        },
        {
          "name": "stderr",
          "output_type": "stream",
          "text": [
            "Train: 100%|##########################| 391/391 [00:26<00:00, 14.87batch/s]\n"
          ]
        },
        {
          "name": "stdout",
          "output_type": "stream",
          "text": [
            "LR: 1.0000e-04, Train Loss: 0.1690, Train Acc: 0.9442, Train Latency: 26.30s, Memory Usage: 3092.0KB\n",
            "Test Loss: 0.3368, Test Acc: 0.8910, Test Latency: 2.80s, Test Memory Usage: 194.0KB\n",
            "Saving final epoch model ...\n"
          ]
        }
      ],
      "source": [
        "train(w_nbits=2, a_nbits=None, lambda_val=0.004)"
      ]
    },
    {
      "cell_type": "code",
      "execution_count": 9,
      "metadata": {},
      "outputs": [
        {
          "name": "stdout",
          "output_type": "stream",
          "text": [
            "\n",
            "Quantization: weight=1 activation=None threshold=0.001, Using device: cuda\n",
            "\n",
            "Epoch 1\n"
          ]
        },
        {
          "name": "stderr",
          "output_type": "stream",
          "text": [
            "Train: 100%|##########################| 391/391 [00:24<00:00, 16.11batch/s]\n"
          ]
        },
        {
          "name": "stdout",
          "output_type": "stream",
          "text": [
            "LR: 1.0000e-01, Train Loss: 1.5975, Train Acc: 0.4180, Train Latency: 24.27s, Memory Usage: 3110.0KB\n",
            "Test Loss: 1.5109, Test Acc: 0.4576, Test Latency: 2.37s, Test Memory Usage: 194.0KB\n",
            "\n",
            "Epoch 2\n"
          ]
        },
        {
          "name": "stderr",
          "output_type": "stream",
          "text": [
            "Train: 100%|##########################| 391/391 [00:23<00:00, 16.99batch/s]\n"
          ]
        },
        {
          "name": "stdout",
          "output_type": "stream",
          "text": [
            "LR: 1.0000e-01, Train Loss: 1.1510, Train Acc: 0.5881, Train Latency: 23.02s, Memory Usage: 3110.0KB\n",
            "Test Loss: 1.7684, Test Acc: 0.4534, Test Latency: 2.10s, Test Memory Usage: 194.0KB\n",
            "\n",
            "Epoch 3\n"
          ]
        },
        {
          "name": "stderr",
          "output_type": "stream",
          "text": [
            "Train: 100%|##########################| 391/391 [00:22<00:00, 17.23batch/s]\n"
          ]
        },
        {
          "name": "stdout",
          "output_type": "stream",
          "text": [
            "LR: 1.0000e-01, Train Loss: 0.9903, Train Acc: 0.6511, Train Latency: 22.70s, Memory Usage: 3110.0KB\n",
            "Test Loss: 1.1419, Test Acc: 0.6075, Test Latency: 2.09s, Test Memory Usage: 194.0KB\n",
            "\n",
            "Epoch 4\n"
          ]
        },
        {
          "name": "stderr",
          "output_type": "stream",
          "text": [
            "Train: 100%|##########################| 391/391 [00:21<00:00, 18.24batch/s]\n"
          ]
        },
        {
          "name": "stdout",
          "output_type": "stream",
          "text": [
            "LR: 1.0000e-01, Train Loss: 0.9099, Train Acc: 0.6827, Train Latency: 21.44s, Memory Usage: 3110.0KB\n",
            "Test Loss: 1.2348, Test Acc: 0.6047, Test Latency: 2.39s, Test Memory Usage: 194.0KB\n",
            "\n",
            "Epoch 5\n"
          ]
        },
        {
          "name": "stderr",
          "output_type": "stream",
          "text": [
            "Train: 100%|##########################| 391/391 [00:24<00:00, 16.11batch/s]\n"
          ]
        },
        {
          "name": "stdout",
          "output_type": "stream",
          "text": [
            "LR: 1.0000e-01, Train Loss: 0.8540, Train Acc: 0.7009, Train Latency: 24.27s, Memory Usage: 3110.0KB\n",
            "Test Loss: 1.4760, Test Acc: 0.5683, Test Latency: 2.36s, Test Memory Usage: 194.0KB\n",
            "\n",
            "Epoch 6\n"
          ]
        },
        {
          "name": "stderr",
          "output_type": "stream",
          "text": [
            "Train: 100%|##########################| 391/391 [00:22<00:00, 17.25batch/s]\n"
          ]
        },
        {
          "name": "stdout",
          "output_type": "stream",
          "text": [
            "LR: 1.0000e-01, Train Loss: 0.8237, Train Acc: 0.7128, Train Latency: 22.67s, Memory Usage: 3110.0KB\n",
            "Test Loss: 1.3382, Test Acc: 0.5650, Test Latency: 2.08s, Test Memory Usage: 194.0KB\n",
            "\n",
            "Epoch 7\n"
          ]
        },
        {
          "name": "stderr",
          "output_type": "stream",
          "text": [
            "Train: 100%|##########################| 391/391 [00:22<00:00, 17.08batch/s]\n"
          ]
        },
        {
          "name": "stdout",
          "output_type": "stream",
          "text": [
            "LR: 1.0000e-01, Train Loss: 0.7942, Train Acc: 0.7285, Train Latency: 22.89s, Memory Usage: 3110.0KB\n",
            "Test Loss: 0.8968, Test Acc: 0.6888, Test Latency: 2.36s, Test Memory Usage: 194.0KB\n",
            "\n",
            "Epoch 8\n"
          ]
        },
        {
          "name": "stderr",
          "output_type": "stream",
          "text": [
            "Train: 100%|##########################| 391/391 [00:23<00:00, 16.96batch/s]\n"
          ]
        },
        {
          "name": "stdout",
          "output_type": "stream",
          "text": [
            "LR: 1.0000e-01, Train Loss: 0.7795, Train Acc: 0.7295, Train Latency: 23.06s, Memory Usage: 3110.0KB\n",
            "Test Loss: 1.5024, Test Acc: 0.5305, Test Latency: 2.37s, Test Memory Usage: 194.0KB\n",
            "\n",
            "Epoch 9\n"
          ]
        },
        {
          "name": "stderr",
          "output_type": "stream",
          "text": [
            "Train: 100%|##########################| 391/391 [00:22<00:00, 17.22batch/s]\n"
          ]
        },
        {
          "name": "stdout",
          "output_type": "stream",
          "text": [
            "LR: 1.0000e-01, Train Loss: 0.7644, Train Acc: 0.7364, Train Latency: 22.71s, Memory Usage: 3110.0KB\n",
            "Test Loss: 3.4576, Test Acc: 0.3428, Test Latency: 2.36s, Test Memory Usage: 194.0KB\n",
            "\n",
            "Epoch 10\n"
          ]
        },
        {
          "name": "stderr",
          "output_type": "stream",
          "text": [
            "Train: 100%|##########################| 391/391 [00:24<00:00, 16.10batch/s]\n"
          ]
        },
        {
          "name": "stdout",
          "output_type": "stream",
          "text": [
            "LR: 1.0000e-01, Train Loss: 0.7635, Train Acc: 0.7374, Train Latency: 24.29s, Memory Usage: 3110.0KB\n",
            "Test Loss: 1.0554, Test Acc: 0.6396, Test Latency: 2.36s, Test Memory Usage: 194.0KB\n",
            "\n",
            "Epoch 11\n"
          ]
        },
        {
          "name": "stderr",
          "output_type": "stream",
          "text": [
            "Train: 100%|##########################| 391/391 [00:24<00:00, 16.08batch/s]\n"
          ]
        },
        {
          "name": "stdout",
          "output_type": "stream",
          "text": [
            "LR: 1.0000e-01, Train Loss: 0.7458, Train Acc: 0.7445, Train Latency: 24.32s, Memory Usage: 3110.0KB\n",
            "Test Loss: 1.1446, Test Acc: 0.6171, Test Latency: 2.36s, Test Memory Usage: 194.0KB\n",
            "\n",
            "Epoch 12\n"
          ]
        },
        {
          "name": "stderr",
          "output_type": "stream",
          "text": [
            "Train: 100%|##########################| 391/391 [00:22<00:00, 17.31batch/s]\n"
          ]
        },
        {
          "name": "stdout",
          "output_type": "stream",
          "text": [
            "LR: 1.0000e-01, Train Loss: 0.7394, Train Acc: 0.7444, Train Latency: 22.60s, Memory Usage: 3110.0KB\n",
            "Test Loss: 2.0788, Test Acc: 0.4316, Test Latency: 2.08s, Test Memory Usage: 194.0KB\n",
            "\n",
            "Epoch 13\n"
          ]
        },
        {
          "name": "stderr",
          "output_type": "stream",
          "text": [
            "Train: 100%|##########################| 391/391 [00:23<00:00, 16.51batch/s]\n"
          ]
        },
        {
          "name": "stdout",
          "output_type": "stream",
          "text": [
            "LR: 1.0000e-01, Train Loss: 0.7494, Train Acc: 0.7411, Train Latency: 23.69s, Memory Usage: 3110.0KB\n",
            "Test Loss: 1.4585, Test Acc: 0.5479, Test Latency: 2.35s, Test Memory Usage: 194.0KB\n",
            "\n",
            "Epoch 14\n"
          ]
        },
        {
          "name": "stderr",
          "output_type": "stream",
          "text": [
            "Train: 100%|##########################| 391/391 [00:24<00:00, 16.10batch/s]\n"
          ]
        },
        {
          "name": "stdout",
          "output_type": "stream",
          "text": [
            "LR: 1.0000e-01, Train Loss: 0.7409, Train Acc: 0.7448, Train Latency: 24.29s, Memory Usage: 3110.0KB\n",
            "Test Loss: 1.0200, Test Acc: 0.6648, Test Latency: 2.36s, Test Memory Usage: 194.0KB\n",
            "\n",
            "Epoch 15\n"
          ]
        },
        {
          "name": "stderr",
          "output_type": "stream",
          "text": [
            "Train: 100%|##########################| 391/391 [00:20<00:00, 19.40batch/s]\n"
          ]
        },
        {
          "name": "stdout",
          "output_type": "stream",
          "text": [
            "LR: 1.0000e-01, Train Loss: 0.7307, Train Acc: 0.7489, Train Latency: 20.16s, Memory Usage: 3110.0KB\n",
            "Test Loss: 1.5721, Test Acc: 0.5452, Test Latency: 2.09s, Test Memory Usage: 194.0KB\n",
            "\n",
            "Epoch 16\n"
          ]
        },
        {
          "name": "stderr",
          "output_type": "stream",
          "text": [
            "Train: 100%|##########################| 391/391 [00:23<00:00, 16.37batch/s]\n"
          ]
        },
        {
          "name": "stdout",
          "output_type": "stream",
          "text": [
            "LR: 1.0000e-01, Train Loss: 0.7280, Train Acc: 0.7467, Train Latency: 23.89s, Memory Usage: 3110.0KB\n",
            "Test Loss: 1.1311, Test Acc: 0.6346, Test Latency: 2.36s, Test Memory Usage: 194.0KB\n",
            "\n",
            "Epoch 17\n"
          ]
        },
        {
          "name": "stderr",
          "output_type": "stream",
          "text": [
            "Train: 100%|##########################| 391/391 [00:24<00:00, 16.03batch/s]\n"
          ]
        },
        {
          "name": "stdout",
          "output_type": "stream",
          "text": [
            "LR: 1.0000e-01, Train Loss: 0.7238, Train Acc: 0.7521, Train Latency: 24.40s, Memory Usage: 3110.0KB\n",
            "Test Loss: 0.9553, Test Acc: 0.6823, Test Latency: 2.36s, Test Memory Usage: 194.0KB\n",
            "\n",
            "Epoch 18\n"
          ]
        },
        {
          "name": "stderr",
          "output_type": "stream",
          "text": [
            "Train: 100%|##########################| 391/391 [00:23<00:00, 16.50batch/s]\n"
          ]
        },
        {
          "name": "stdout",
          "output_type": "stream",
          "text": [
            "LR: 1.0000e-01, Train Loss: 0.7227, Train Acc: 0.7508, Train Latency: 23.71s, Memory Usage: 3110.0KB\n",
            "Test Loss: 0.9770, Test Acc: 0.6625, Test Latency: 2.36s, Test Memory Usage: 194.0KB\n",
            "\n",
            "Epoch 19\n"
          ]
        },
        {
          "name": "stderr",
          "output_type": "stream",
          "text": [
            "Train: 100%|##########################| 391/391 [00:24<00:00, 15.99batch/s]\n"
          ]
        },
        {
          "name": "stdout",
          "output_type": "stream",
          "text": [
            "LR: 1.0000e-01, Train Loss: 0.7166, Train Acc: 0.7538, Train Latency: 24.46s, Memory Usage: 3110.0KB\n",
            "Test Loss: 1.0069, Test Acc: 0.6409, Test Latency: 2.37s, Test Memory Usage: 194.0KB\n",
            "\n",
            "Epoch 20\n"
          ]
        },
        {
          "name": "stderr",
          "output_type": "stream",
          "text": [
            "Train: 100%|##########################| 391/391 [00:23<00:00, 16.82batch/s]\n"
          ]
        },
        {
          "name": "stdout",
          "output_type": "stream",
          "text": [
            "LR: 1.0000e-01, Train Loss: 0.7205, Train Acc: 0.7521, Train Latency: 23.24s, Memory Usage: 3110.0KB\n",
            "Test Loss: 0.9537, Test Acc: 0.6799, Test Latency: 2.37s, Test Memory Usage: 194.0KB\n",
            "\n",
            "Epoch 21\n"
          ]
        },
        {
          "name": "stderr",
          "output_type": "stream",
          "text": [
            "Train: 100%|##########################| 391/391 [00:20<00:00, 19.42batch/s]\n"
          ]
        },
        {
          "name": "stdout",
          "output_type": "stream",
          "text": [
            "LR: 1.0000e-01, Train Loss: 0.7135, Train Acc: 0.7558, Train Latency: 20.14s, Memory Usage: 3110.0KB\n",
            "Test Loss: 0.9934, Test Acc: 0.6719, Test Latency: 2.35s, Test Memory Usage: 194.0KB\n",
            "\n",
            "Epoch 22\n"
          ]
        },
        {
          "name": "stderr",
          "output_type": "stream",
          "text": [
            "Train: 100%|##########################| 391/391 [00:24<00:00, 16.05batch/s]\n"
          ]
        },
        {
          "name": "stdout",
          "output_type": "stream",
          "text": [
            "LR: 1.0000e-01, Train Loss: 0.7116, Train Acc: 0.7556, Train Latency: 24.36s, Memory Usage: 3110.0KB\n",
            "Test Loss: 1.2061, Test Acc: 0.6132, Test Latency: 2.37s, Test Memory Usage: 194.0KB\n",
            "\n",
            "Epoch 23\n"
          ]
        },
        {
          "name": "stderr",
          "output_type": "stream",
          "text": [
            "Train: 100%|##########################| 391/391 [00:21<00:00, 18.04batch/s]\n"
          ]
        },
        {
          "name": "stdout",
          "output_type": "stream",
          "text": [
            "LR: 1.0000e-01, Train Loss: 0.7108, Train Acc: 0.7552, Train Latency: 21.68s, Memory Usage: 3110.0KB\n",
            "Test Loss: 1.2350, Test Acc: 0.6190, Test Latency: 2.37s, Test Memory Usage: 194.0KB\n",
            "\n",
            "Epoch 24\n"
          ]
        },
        {
          "name": "stderr",
          "output_type": "stream",
          "text": [
            "Train: 100%|##########################| 391/391 [00:24<00:00, 16.10batch/s]\n"
          ]
        },
        {
          "name": "stdout",
          "output_type": "stream",
          "text": [
            "LR: 1.0000e-01, Train Loss: 0.7127, Train Acc: 0.7535, Train Latency: 24.28s, Memory Usage: 3110.0KB\n",
            "Test Loss: 1.2067, Test Acc: 0.5967, Test Latency: 2.36s, Test Memory Usage: 194.0KB\n",
            "\n",
            "Epoch 25\n"
          ]
        },
        {
          "name": "stderr",
          "output_type": "stream",
          "text": [
            "Train: 100%|##########################| 391/391 [00:22<00:00, 17.68batch/s]\n"
          ]
        },
        {
          "name": "stdout",
          "output_type": "stream",
          "text": [
            "LR: 1.0000e-01, Train Loss: 0.7140, Train Acc: 0.7521, Train Latency: 22.11s, Memory Usage: 3110.0KB\n",
            "Test Loss: 1.1207, Test Acc: 0.6500, Test Latency: 2.35s, Test Memory Usage: 194.0KB\n",
            "\n",
            "Epoch 26\n"
          ]
        },
        {
          "name": "stderr",
          "output_type": "stream",
          "text": [
            "Train: 100%|##########################| 391/391 [00:21<00:00, 18.15batch/s]\n"
          ]
        },
        {
          "name": "stdout",
          "output_type": "stream",
          "text": [
            "LR: 1.0000e-01, Train Loss: 0.7080, Train Acc: 0.7566, Train Latency: 21.54s, Memory Usage: 3110.0KB\n",
            "Test Loss: 1.6456, Test Acc: 0.5439, Test Latency: 2.35s, Test Memory Usage: 194.0KB\n",
            "\n",
            "Epoch 27\n"
          ]
        },
        {
          "name": "stderr",
          "output_type": "stream",
          "text": [
            "Train: 100%|##########################| 391/391 [00:24<00:00, 16.07batch/s]\n"
          ]
        },
        {
          "name": "stdout",
          "output_type": "stream",
          "text": [
            "LR: 1.0000e-01, Train Loss: 0.7041, Train Acc: 0.7585, Train Latency: 24.34s, Memory Usage: 3110.0KB\n",
            "Test Loss: 0.8853, Test Acc: 0.6947, Test Latency: 2.37s, Test Memory Usage: 194.0KB\n",
            "\n",
            "Epoch 28\n"
          ]
        },
        {
          "name": "stderr",
          "output_type": "stream",
          "text": [
            "Train: 100%|##########################| 391/391 [00:22<00:00, 17.65batch/s]\n"
          ]
        },
        {
          "name": "stdout",
          "output_type": "stream",
          "text": [
            "LR: 1.0000e-01, Train Loss: 0.7073, Train Acc: 0.7554, Train Latency: 22.16s, Memory Usage: 3110.0KB\n",
            "Test Loss: 1.1692, Test Acc: 0.6200, Test Latency: 2.38s, Test Memory Usage: 194.0KB\n",
            "\n",
            "Epoch 29\n"
          ]
        },
        {
          "name": "stderr",
          "output_type": "stream",
          "text": [
            "Train: 100%|##########################| 391/391 [00:24<00:00, 16.12batch/s]\n"
          ]
        },
        {
          "name": "stdout",
          "output_type": "stream",
          "text": [
            "LR: 1.0000e-01, Train Loss: 0.7166, Train Acc: 0.7539, Train Latency: 24.26s, Memory Usage: 3110.0KB\n",
            "Test Loss: 2.0360, Test Acc: 0.5031, Test Latency: 2.38s, Test Memory Usage: 194.0KB\n",
            "\n",
            "Epoch 30\n"
          ]
        },
        {
          "name": "stderr",
          "output_type": "stream",
          "text": [
            "Train: 100%|##########################| 391/391 [00:24<00:00, 16.01batch/s]\n"
          ]
        },
        {
          "name": "stdout",
          "output_type": "stream",
          "text": [
            "LR: 1.0000e-01, Train Loss: 0.7106, Train Acc: 0.7530, Train Latency: 24.43s, Memory Usage: 3110.0KB\n",
            "Test Loss: 1.1699, Test Acc: 0.6195, Test Latency: 2.36s, Test Memory Usage: 194.0KB\n",
            "\n",
            "Epoch 31\n"
          ]
        },
        {
          "name": "stderr",
          "output_type": "stream",
          "text": [
            "Train: 100%|##########################| 391/391 [00:22<00:00, 17.03batch/s]\n"
          ]
        },
        {
          "name": "stdout",
          "output_type": "stream",
          "text": [
            "LR: 1.0000e-01, Train Loss: 0.7055, Train Acc: 0.7577, Train Latency: 22.97s, Memory Usage: 3110.0KB\n",
            "Test Loss: 1.1555, Test Acc: 0.6292, Test Latency: 2.36s, Test Memory Usage: 194.0KB\n",
            "\n",
            "Epoch 32\n"
          ]
        },
        {
          "name": "stderr",
          "output_type": "stream",
          "text": [
            "Train: 100%|##########################| 391/391 [00:19<00:00, 19.98batch/s]\n"
          ]
        },
        {
          "name": "stdout",
          "output_type": "stream",
          "text": [
            "LR: 1.0000e-01, Train Loss: 0.7046, Train Acc: 0.7561, Train Latency: 19.57s, Memory Usage: 3110.0KB\n",
            "Test Loss: 1.4845, Test Acc: 0.5445, Test Latency: 2.08s, Test Memory Usage: 194.0KB\n",
            "\n",
            "Epoch 33\n"
          ]
        },
        {
          "name": "stderr",
          "output_type": "stream",
          "text": [
            "Train: 100%|##########################| 391/391 [00:24<00:00, 16.26batch/s]\n"
          ]
        },
        {
          "name": "stdout",
          "output_type": "stream",
          "text": [
            "LR: 1.0000e-01, Train Loss: 0.7010, Train Acc: 0.7596, Train Latency: 24.06s, Memory Usage: 3110.0KB\n",
            "Test Loss: 1.3594, Test Acc: 0.6012, Test Latency: 2.36s, Test Memory Usage: 194.0KB\n",
            "\n",
            "Epoch 34\n"
          ]
        },
        {
          "name": "stderr",
          "output_type": "stream",
          "text": [
            "Train: 100%|##########################| 391/391 [00:24<00:00, 16.06batch/s]\n"
          ]
        },
        {
          "name": "stdout",
          "output_type": "stream",
          "text": [
            "LR: 1.0000e-01, Train Loss: 0.6997, Train Acc: 0.7597, Train Latency: 24.35s, Memory Usage: 3110.0KB\n",
            "Test Loss: 1.2930, Test Acc: 0.6073, Test Latency: 2.36s, Test Memory Usage: 194.0KB\n",
            "\n",
            "Epoch 35\n"
          ]
        },
        {
          "name": "stderr",
          "output_type": "stream",
          "text": [
            "Train: 100%|##########################| 391/391 [00:24<00:00, 16.14batch/s]\n"
          ]
        },
        {
          "name": "stdout",
          "output_type": "stream",
          "text": [
            "LR: 1.0000e-01, Train Loss: 0.6965, Train Acc: 0.7606, Train Latency: 24.23s, Memory Usage: 3110.0KB\n",
            "Test Loss: 1.1717, Test Acc: 0.6193, Test Latency: 2.35s, Test Memory Usage: 194.0KB\n",
            "\n",
            "Epoch 36\n"
          ]
        },
        {
          "name": "stderr",
          "output_type": "stream",
          "text": [
            "Train: 100%|##########################| 391/391 [00:24<00:00, 16.11batch/s]\n"
          ]
        },
        {
          "name": "stdout",
          "output_type": "stream",
          "text": [
            "LR: 1.0000e-01, Train Loss: 0.7060, Train Acc: 0.7545, Train Latency: 24.27s, Memory Usage: 3110.0KB\n",
            "Test Loss: 1.0185, Test Acc: 0.6580, Test Latency: 2.36s, Test Memory Usage: 194.0KB\n",
            "\n",
            "Epoch 37\n"
          ]
        },
        {
          "name": "stderr",
          "output_type": "stream",
          "text": [
            "Train: 100%|##########################| 391/391 [00:21<00:00, 18.20batch/s]\n"
          ]
        },
        {
          "name": "stdout",
          "output_type": "stream",
          "text": [
            "LR: 1.0000e-01, Train Loss: 0.6959, Train Acc: 0.7619, Train Latency: 21.49s, Memory Usage: 3110.0KB\n",
            "Test Loss: 1.6186, Test Acc: 0.5483, Test Latency: 2.09s, Test Memory Usage: 194.0KB\n",
            "\n",
            "Epoch 38\n"
          ]
        },
        {
          "name": "stderr",
          "output_type": "stream",
          "text": [
            "Train: 100%|##########################| 391/391 [00:24<00:00, 16.12batch/s]\n"
          ]
        },
        {
          "name": "stdout",
          "output_type": "stream",
          "text": [
            "LR: 1.0000e-01, Train Loss: 0.6956, Train Acc: 0.7624, Train Latency: 24.26s, Memory Usage: 3110.0KB\n",
            "Test Loss: 1.1612, Test Acc: 0.6458, Test Latency: 2.35s, Test Memory Usage: 194.0KB\n",
            "\n",
            "Epoch 39\n"
          ]
        },
        {
          "name": "stderr",
          "output_type": "stream",
          "text": [
            "Train: 100%|##########################| 391/391 [00:23<00:00, 16.64batch/s]\n"
          ]
        },
        {
          "name": "stdout",
          "output_type": "stream",
          "text": [
            "LR: 1.0000e-01, Train Loss: 0.6964, Train Acc: 0.7615, Train Latency: 23.50s, Memory Usage: 3110.0KB\n",
            "Test Loss: 1.0311, Test Acc: 0.6481, Test Latency: 2.35s, Test Memory Usage: 194.0KB\n",
            "\n",
            "Epoch 40\n"
          ]
        },
        {
          "name": "stderr",
          "output_type": "stream",
          "text": [
            "Train: 100%|##########################| 391/391 [00:21<00:00, 17.99batch/s]\n"
          ]
        },
        {
          "name": "stdout",
          "output_type": "stream",
          "text": [
            "LR: 1.0000e-01, Train Loss: 0.7028, Train Acc: 0.7574, Train Latency: 21.74s, Memory Usage: 3110.0KB\n",
            "Test Loss: 0.9942, Test Acc: 0.6706, Test Latency: 2.37s, Test Memory Usage: 194.0KB\n",
            "\n",
            "Epoch 41\n"
          ]
        },
        {
          "name": "stderr",
          "output_type": "stream",
          "text": [
            "Train: 100%|##########################| 391/391 [00:23<00:00, 16.48batch/s]\n"
          ]
        },
        {
          "name": "stdout",
          "output_type": "stream",
          "text": [
            "LR: 1.0000e-01, Train Loss: 0.6918, Train Acc: 0.7624, Train Latency: 23.73s, Memory Usage: 3110.0KB\n",
            "Test Loss: 0.8882, Test Acc: 0.6969, Test Latency: 2.40s, Test Memory Usage: 194.0KB\n",
            "\n",
            "Epoch 42\n"
          ]
        },
        {
          "name": "stderr",
          "output_type": "stream",
          "text": [
            "Train: 100%|##########################| 391/391 [00:24<00:00, 16.06batch/s]\n"
          ]
        },
        {
          "name": "stdout",
          "output_type": "stream",
          "text": [
            "LR: 1.0000e-01, Train Loss: 0.7021, Train Acc: 0.7580, Train Latency: 24.35s, Memory Usage: 3110.0KB\n",
            "Test Loss: 1.3441, Test Acc: 0.5913, Test Latency: 2.38s, Test Memory Usage: 194.0KB\n",
            "\n",
            "Epoch 43\n"
          ]
        },
        {
          "name": "stderr",
          "output_type": "stream",
          "text": [
            "Train: 100%|##########################| 391/391 [00:24<00:00, 16.25batch/s]\n"
          ]
        },
        {
          "name": "stdout",
          "output_type": "stream",
          "text": [
            "LR: 1.0000e-01, Train Loss: 0.6855, Train Acc: 0.7640, Train Latency: 24.07s, Memory Usage: 3110.0KB\n",
            "Test Loss: 2.4013, Test Acc: 0.4158, Test Latency: 2.38s, Test Memory Usage: 194.0KB\n",
            "\n",
            "Epoch 44\n"
          ]
        },
        {
          "name": "stderr",
          "output_type": "stream",
          "text": [
            "Train: 100%|##########################| 391/391 [00:24<00:00, 16.10batch/s]\n"
          ]
        },
        {
          "name": "stdout",
          "output_type": "stream",
          "text": [
            "LR: 1.0000e-01, Train Loss: 0.6961, Train Acc: 0.7622, Train Latency: 24.28s, Memory Usage: 3110.0KB\n",
            "Test Loss: 0.7722, Test Acc: 0.7354, Test Latency: 2.36s, Test Memory Usage: 194.0KB\n",
            "\n",
            "Epoch 45\n"
          ]
        },
        {
          "name": "stderr",
          "output_type": "stream",
          "text": [
            "Train: 100%|##########################| 391/391 [00:23<00:00, 16.54batch/s]\n"
          ]
        },
        {
          "name": "stdout",
          "output_type": "stream",
          "text": [
            "LR: 1.0000e-01, Train Loss: 0.6982, Train Acc: 0.7606, Train Latency: 23.65s, Memory Usage: 3110.0KB\n",
            "Test Loss: 1.1214, Test Acc: 0.6254, Test Latency: 2.39s, Test Memory Usage: 194.0KB\n",
            "\n",
            "Epoch 46\n"
          ]
        },
        {
          "name": "stderr",
          "output_type": "stream",
          "text": [
            "Train: 100%|##########################| 391/391 [00:23<00:00, 16.80batch/s]\n"
          ]
        },
        {
          "name": "stdout",
          "output_type": "stream",
          "text": [
            "LR: 1.0000e-01, Train Loss: 0.6954, Train Acc: 0.7588, Train Latency: 23.27s, Memory Usage: 3110.0KB\n",
            "Test Loss: 0.8689, Test Acc: 0.7045, Test Latency: 2.35s, Test Memory Usage: 194.0KB\n",
            "\n",
            "Epoch 47\n"
          ]
        },
        {
          "name": "stderr",
          "output_type": "stream",
          "text": [
            "Train: 100%|##########################| 391/391 [00:19<00:00, 19.67batch/s]\n"
          ]
        },
        {
          "name": "stdout",
          "output_type": "stream",
          "text": [
            "LR: 1.0000e-01, Train Loss: 0.6971, Train Acc: 0.7604, Train Latency: 19.88s, Memory Usage: 3110.0KB\n",
            "Test Loss: 0.9910, Test Acc: 0.6664, Test Latency: 2.08s, Test Memory Usage: 194.0KB\n",
            "\n",
            "Epoch 48\n"
          ]
        },
        {
          "name": "stderr",
          "output_type": "stream",
          "text": [
            "Train: 100%|##########################| 391/391 [00:19<00:00, 20.13batch/s]\n"
          ]
        },
        {
          "name": "stdout",
          "output_type": "stream",
          "text": [
            "LR: 1.0000e-01, Train Loss: 0.6949, Train Acc: 0.7625, Train Latency: 19.43s, Memory Usage: 3110.0KB\n",
            "Test Loss: 1.0627, Test Acc: 0.6409, Test Latency: 2.07s, Test Memory Usage: 194.0KB\n",
            "\n",
            "Epoch 49\n"
          ]
        },
        {
          "name": "stderr",
          "output_type": "stream",
          "text": [
            "Train: 100%|##########################| 391/391 [00:22<00:00, 17.36batch/s]\n"
          ]
        },
        {
          "name": "stdout",
          "output_type": "stream",
          "text": [
            "LR: 1.0000e-01, Train Loss: 0.6989, Train Acc: 0.7597, Train Latency: 22.53s, Memory Usage: 3110.0KB\n",
            "Test Loss: 1.0266, Test Acc: 0.6619, Test Latency: 2.37s, Test Memory Usage: 194.0KB\n",
            "\n",
            "Epoch 50\n"
          ]
        },
        {
          "name": "stderr",
          "output_type": "stream",
          "text": [
            "Train: 100%|##########################| 391/391 [00:22<00:00, 17.64batch/s]\n"
          ]
        },
        {
          "name": "stdout",
          "output_type": "stream",
          "text": [
            "LR: 1.0000e-01, Train Loss: 0.6902, Train Acc: 0.7627, Train Latency: 22.17s, Memory Usage: 3110.0KB\n",
            "Test Loss: 0.9734, Test Acc: 0.6892, Test Latency: 2.36s, Test Memory Usage: 194.0KB\n",
            "\n",
            "Epoch 51\n"
          ]
        },
        {
          "name": "stderr",
          "output_type": "stream",
          "text": [
            "Train: 100%|##########################| 391/391 [00:23<00:00, 16.87batch/s]\n"
          ]
        },
        {
          "name": "stdout",
          "output_type": "stream",
          "text": [
            "LR: 1.0000e-02, Train Loss: 0.5000, Train Acc: 0.8293, Train Latency: 23.18s, Memory Usage: 3110.0KB\n",
            "Test Loss: 0.4860, Test Acc: 0.8315, Test Latency: 2.08s, Test Memory Usage: 194.0KB\n",
            "Saving best model ...\n",
            "\n",
            "Epoch 52\n"
          ]
        },
        {
          "name": "stderr",
          "output_type": "stream",
          "text": [
            "Train: 100%|##########################| 391/391 [00:20<00:00, 18.94batch/s]\n"
          ]
        },
        {
          "name": "stdout",
          "output_type": "stream",
          "text": [
            "LR: 1.0000e-02, Train Loss: 0.4474, Train Acc: 0.8463, Train Latency: 20.64s, Memory Usage: 3110.0KB\n",
            "Test Loss: 0.4892, Test Acc: 0.8306, Test Latency: 2.08s, Test Memory Usage: 194.0KB\n",
            "\n",
            "Epoch 53\n"
          ]
        },
        {
          "name": "stderr",
          "output_type": "stream",
          "text": [
            "Train: 100%|##########################| 391/391 [00:23<00:00, 16.46batch/s]\n"
          ]
        },
        {
          "name": "stdout",
          "output_type": "stream",
          "text": [
            "LR: 1.0000e-02, Train Loss: 0.4351, Train Acc: 0.8511, Train Latency: 23.76s, Memory Usage: 3110.0KB\n",
            "Test Loss: 0.5008, Test Acc: 0.8329, Test Latency: 2.37s, Test Memory Usage: 194.0KB\n",
            "Saving best model ...\n",
            "\n",
            "Epoch 54\n"
          ]
        },
        {
          "name": "stderr",
          "output_type": "stream",
          "text": [
            "Train: 100%|##########################| 391/391 [00:21<00:00, 18.19batch/s]\n"
          ]
        },
        {
          "name": "stdout",
          "output_type": "stream",
          "text": [
            "LR: 1.0000e-02, Train Loss: 0.4233, Train Acc: 0.8540, Train Latency: 21.50s, Memory Usage: 3110.0KB\n",
            "Test Loss: 0.4577, Test Acc: 0.8431, Test Latency: 2.37s, Test Memory Usage: 194.0KB\n",
            "Saving best model ...\n",
            "\n",
            "Epoch 55\n"
          ]
        },
        {
          "name": "stderr",
          "output_type": "stream",
          "text": [
            "Train: 100%|##########################| 391/391 [00:24<00:00, 16.16batch/s]\n"
          ]
        },
        {
          "name": "stdout",
          "output_type": "stream",
          "text": [
            "LR: 1.0000e-02, Train Loss: 0.4178, Train Acc: 0.8559, Train Latency: 24.20s, Memory Usage: 3110.0KB\n",
            "Test Loss: 0.5074, Test Acc: 0.8288, Test Latency: 2.35s, Test Memory Usage: 194.0KB\n",
            "\n",
            "Epoch 56\n"
          ]
        },
        {
          "name": "stderr",
          "output_type": "stream",
          "text": [
            "Train: 100%|##########################| 391/391 [00:20<00:00, 18.86batch/s]\n"
          ]
        },
        {
          "name": "stdout",
          "output_type": "stream",
          "text": [
            "LR: 1.0000e-02, Train Loss: 0.4141, Train Acc: 0.8592, Train Latency: 20.74s, Memory Usage: 3110.0KB\n",
            "Test Loss: 0.5330, Test Acc: 0.8185, Test Latency: 2.37s, Test Memory Usage: 194.0KB\n",
            "\n",
            "Epoch 57\n"
          ]
        },
        {
          "name": "stderr",
          "output_type": "stream",
          "text": [
            "Train: 100%|##########################| 391/391 [00:23<00:00, 16.59batch/s]\n"
          ]
        },
        {
          "name": "stdout",
          "output_type": "stream",
          "text": [
            "LR: 1.0000e-02, Train Loss: 0.4109, Train Acc: 0.8579, Train Latency: 23.57s, Memory Usage: 3110.0KB\n",
            "Test Loss: 0.4771, Test Acc: 0.8349, Test Latency: 2.37s, Test Memory Usage: 194.0KB\n",
            "\n",
            "Epoch 58\n"
          ]
        },
        {
          "name": "stderr",
          "output_type": "stream",
          "text": [
            "Train: 100%|##########################| 391/391 [00:22<00:00, 17.15batch/s]\n"
          ]
        },
        {
          "name": "stdout",
          "output_type": "stream",
          "text": [
            "LR: 1.0000e-02, Train Loss: 0.4088, Train Acc: 0.8592, Train Latency: 22.80s, Memory Usage: 3110.0KB\n",
            "Test Loss: 0.5499, Test Acc: 0.8178, Test Latency: 2.07s, Test Memory Usage: 194.0KB\n",
            "\n",
            "Epoch 59\n"
          ]
        },
        {
          "name": "stderr",
          "output_type": "stream",
          "text": [
            "Train: 100%|##########################| 391/391 [00:21<00:00, 18.32batch/s]\n"
          ]
        },
        {
          "name": "stdout",
          "output_type": "stream",
          "text": [
            "LR: 1.0000e-02, Train Loss: 0.4087, Train Acc: 0.8601, Train Latency: 21.35s, Memory Usage: 3110.0KB\n",
            "Test Loss: 0.5619, Test Acc: 0.8090, Test Latency: 2.09s, Test Memory Usage: 194.0KB\n",
            "\n",
            "Epoch 60\n"
          ]
        },
        {
          "name": "stderr",
          "output_type": "stream",
          "text": [
            "Train: 100%|##########################| 391/391 [00:22<00:00, 17.67batch/s]\n"
          ]
        },
        {
          "name": "stdout",
          "output_type": "stream",
          "text": [
            "LR: 1.0000e-02, Train Loss: 0.4070, Train Acc: 0.8606, Train Latency: 22.13s, Memory Usage: 3110.0KB\n",
            "Test Loss: 0.5051, Test Acc: 0.8308, Test Latency: 2.10s, Test Memory Usage: 194.0KB\n",
            "\n",
            "Epoch 61\n"
          ]
        },
        {
          "name": "stderr",
          "output_type": "stream",
          "text": [
            "Train: 100%|##########################| 391/391 [00:21<00:00, 18.27batch/s]\n"
          ]
        },
        {
          "name": "stdout",
          "output_type": "stream",
          "text": [
            "LR: 1.0000e-02, Train Loss: 0.4122, Train Acc: 0.8582, Train Latency: 21.41s, Memory Usage: 3110.0KB\n",
            "Test Loss: 0.5231, Test Acc: 0.8297, Test Latency: 2.08s, Test Memory Usage: 194.0KB\n",
            "\n",
            "Epoch 62\n"
          ]
        },
        {
          "name": "stderr",
          "output_type": "stream",
          "text": [
            "Train: 100%|##########################| 391/391 [00:20<00:00, 19.11batch/s]\n"
          ]
        },
        {
          "name": "stdout",
          "output_type": "stream",
          "text": [
            "LR: 1.0000e-02, Train Loss: 0.4132, Train Acc: 0.8588, Train Latency: 20.47s, Memory Usage: 3110.0KB\n",
            "Test Loss: 0.5005, Test Acc: 0.8327, Test Latency: 2.09s, Test Memory Usage: 194.0KB\n",
            "\n",
            "Epoch 63\n"
          ]
        },
        {
          "name": "stderr",
          "output_type": "stream",
          "text": [
            "Train: 100%|##########################| 391/391 [00:20<00:00, 18.87batch/s]\n"
          ]
        },
        {
          "name": "stdout",
          "output_type": "stream",
          "text": [
            "LR: 1.0000e-02, Train Loss: 0.4109, Train Acc: 0.8591, Train Latency: 20.72s, Memory Usage: 3110.0KB\n",
            "Test Loss: 0.5990, Test Acc: 0.7990, Test Latency: 2.09s, Test Memory Usage: 194.0KB\n",
            "\n",
            "Epoch 64\n"
          ]
        },
        {
          "name": "stderr",
          "output_type": "stream",
          "text": [
            "Train: 100%|##########################| 391/391 [00:23<00:00, 16.35batch/s]\n"
          ]
        },
        {
          "name": "stdout",
          "output_type": "stream",
          "text": [
            "LR: 1.0000e-02, Train Loss: 0.4092, Train Acc: 0.8585, Train Latency: 23.92s, Memory Usage: 3110.0KB\n",
            "Test Loss: 0.4826, Test Acc: 0.8384, Test Latency: 2.37s, Test Memory Usage: 194.0KB\n",
            "\n",
            "Epoch 65\n"
          ]
        },
        {
          "name": "stderr",
          "output_type": "stream",
          "text": [
            "Train: 100%|##########################| 391/391 [00:23<00:00, 16.71batch/s]\n"
          ]
        },
        {
          "name": "stdout",
          "output_type": "stream",
          "text": [
            "LR: 1.0000e-02, Train Loss: 0.4090, Train Acc: 0.8603, Train Latency: 23.40s, Memory Usage: 3110.0KB\n",
            "Test Loss: 0.5848, Test Acc: 0.8039, Test Latency: 2.38s, Test Memory Usage: 194.0KB\n",
            "\n",
            "Epoch 66\n"
          ]
        },
        {
          "name": "stderr",
          "output_type": "stream",
          "text": [
            "Train: 100%|##########################| 391/391 [00:23<00:00, 16.40batch/s]\n"
          ]
        },
        {
          "name": "stdout",
          "output_type": "stream",
          "text": [
            "LR: 1.0000e-02, Train Loss: 0.4125, Train Acc: 0.8577, Train Latency: 23.84s, Memory Usage: 3110.0KB\n",
            "Test Loss: 0.8316, Test Acc: 0.7323, Test Latency: 2.35s, Test Memory Usage: 194.0KB\n",
            "\n",
            "Epoch 67\n"
          ]
        },
        {
          "name": "stderr",
          "output_type": "stream",
          "text": [
            "Train: 100%|##########################| 391/391 [00:23<00:00, 16.80batch/s]\n"
          ]
        },
        {
          "name": "stdout",
          "output_type": "stream",
          "text": [
            "LR: 1.0000e-02, Train Loss: 0.4160, Train Acc: 0.8576, Train Latency: 23.28s, Memory Usage: 3110.0KB\n",
            "Test Loss: 0.5501, Test Acc: 0.8180, Test Latency: 2.39s, Test Memory Usage: 194.0KB\n",
            "\n",
            "Epoch 68\n"
          ]
        },
        {
          "name": "stderr",
          "output_type": "stream",
          "text": [
            "Train: 100%|##########################| 391/391 [00:22<00:00, 17.25batch/s]\n"
          ]
        },
        {
          "name": "stdout",
          "output_type": "stream",
          "text": [
            "LR: 1.0000e-02, Train Loss: 0.4161, Train Acc: 0.8562, Train Latency: 22.67s, Memory Usage: 3110.0KB\n",
            "Test Loss: 0.5758, Test Acc: 0.8091, Test Latency: 2.37s, Test Memory Usage: 194.0KB\n",
            "\n",
            "Epoch 69\n"
          ]
        },
        {
          "name": "stderr",
          "output_type": "stream",
          "text": [
            "Train: 100%|##########################| 391/391 [00:24<00:00, 16.00batch/s]\n"
          ]
        },
        {
          "name": "stdout",
          "output_type": "stream",
          "text": [
            "LR: 1.0000e-02, Train Loss: 0.4165, Train Acc: 0.8573, Train Latency: 24.44s, Memory Usage: 3110.0KB\n",
            "Test Loss: 0.7780, Test Acc: 0.7453, Test Latency: 2.36s, Test Memory Usage: 194.0KB\n",
            "\n",
            "Epoch 70\n"
          ]
        },
        {
          "name": "stderr",
          "output_type": "stream",
          "text": [
            "Train: 100%|##########################| 391/391 [00:21<00:00, 17.94batch/s]\n"
          ]
        },
        {
          "name": "stdout",
          "output_type": "stream",
          "text": [
            "LR: 1.0000e-02, Train Loss: 0.4170, Train Acc: 0.8568, Train Latency: 21.80s, Memory Usage: 3110.0KB\n",
            "Test Loss: 0.5362, Test Acc: 0.8141, Test Latency: 2.36s, Test Memory Usage: 194.0KB\n",
            "\n",
            "Epoch 71\n"
          ]
        },
        {
          "name": "stderr",
          "output_type": "stream",
          "text": [
            "Train: 100%|##########################| 391/391 [00:22<00:00, 17.59batch/s]\n"
          ]
        },
        {
          "name": "stdout",
          "output_type": "stream",
          "text": [
            "LR: 1.0000e-02, Train Loss: 0.4162, Train Acc: 0.8568, Train Latency: 22.24s, Memory Usage: 3110.0KB\n",
            "Test Loss: 0.5989, Test Acc: 0.7983, Test Latency: 2.36s, Test Memory Usage: 194.0KB\n",
            "\n",
            "Epoch 72\n"
          ]
        },
        {
          "name": "stderr",
          "output_type": "stream",
          "text": [
            "Train: 100%|##########################| 391/391 [00:21<00:00, 17.82batch/s]\n"
          ]
        },
        {
          "name": "stdout",
          "output_type": "stream",
          "text": [
            "LR: 1.0000e-02, Train Loss: 0.4162, Train Acc: 0.8566, Train Latency: 21.94s, Memory Usage: 3110.0KB\n",
            "Test Loss: 0.8085, Test Acc: 0.7387, Test Latency: 2.09s, Test Memory Usage: 194.0KB\n",
            "\n",
            "Epoch 73\n"
          ]
        },
        {
          "name": "stderr",
          "output_type": "stream",
          "text": [
            "Train: 100%|##########################| 391/391 [00:20<00:00, 19.18batch/s]\n"
          ]
        },
        {
          "name": "stdout",
          "output_type": "stream",
          "text": [
            "LR: 1.0000e-02, Train Loss: 0.4179, Train Acc: 0.8568, Train Latency: 20.39s, Memory Usage: 3110.0KB\n",
            "Test Loss: 0.6296, Test Acc: 0.7927, Test Latency: 2.09s, Test Memory Usage: 194.0KB\n",
            "\n",
            "Epoch 74\n"
          ]
        },
        {
          "name": "stderr",
          "output_type": "stream",
          "text": [
            "Train: 100%|##########################| 391/391 [00:23<00:00, 16.32batch/s]\n"
          ]
        },
        {
          "name": "stdout",
          "output_type": "stream",
          "text": [
            "LR: 1.0000e-02, Train Loss: 0.4158, Train Acc: 0.8582, Train Latency: 23.97s, Memory Usage: 3110.0KB\n",
            "Test Loss: 0.5477, Test Acc: 0.8108, Test Latency: 2.37s, Test Memory Usage: 194.0KB\n",
            "\n",
            "Epoch 75\n"
          ]
        },
        {
          "name": "stderr",
          "output_type": "stream",
          "text": [
            "Train: 100%|##########################| 391/391 [00:23<00:00, 16.65batch/s]\n"
          ]
        },
        {
          "name": "stdout",
          "output_type": "stream",
          "text": [
            "LR: 1.0000e-02, Train Loss: 0.4137, Train Acc: 0.8584, Train Latency: 23.49s, Memory Usage: 3110.0KB\n",
            "Test Loss: 0.5117, Test Acc: 0.8275, Test Latency: 2.35s, Test Memory Usage: 194.0KB\n",
            "\n",
            "Epoch 76\n"
          ]
        },
        {
          "name": "stderr",
          "output_type": "stream",
          "text": [
            "Train: 100%|##########################| 391/391 [00:23<00:00, 16.47batch/s]\n"
          ]
        },
        {
          "name": "stdout",
          "output_type": "stream",
          "text": [
            "LR: 1.0000e-02, Train Loss: 0.4102, Train Acc: 0.8593, Train Latency: 23.74s, Memory Usage: 3110.0KB\n",
            "Test Loss: 0.5832, Test Acc: 0.8114, Test Latency: 2.36s, Test Memory Usage: 194.0KB\n",
            "\n",
            "Epoch 77\n"
          ]
        },
        {
          "name": "stderr",
          "output_type": "stream",
          "text": [
            "Train: 100%|##########################| 391/391 [00:23<00:00, 16.56batch/s]\n"
          ]
        },
        {
          "name": "stdout",
          "output_type": "stream",
          "text": [
            "LR: 1.0000e-02, Train Loss: 0.4129, Train Acc: 0.8591, Train Latency: 23.62s, Memory Usage: 3110.0KB\n",
            "Test Loss: 0.5235, Test Acc: 0.8189, Test Latency: 2.36s, Test Memory Usage: 194.0KB\n",
            "\n",
            "Epoch 78\n"
          ]
        },
        {
          "name": "stderr",
          "output_type": "stream",
          "text": [
            "Train: 100%|##########################| 391/391 [00:19<00:00, 20.40batch/s]\n"
          ]
        },
        {
          "name": "stdout",
          "output_type": "stream",
          "text": [
            "LR: 1.0000e-02, Train Loss: 0.4132, Train Acc: 0.8583, Train Latency: 19.17s, Memory Usage: 3110.0KB\n",
            "Test Loss: 0.4734, Test Acc: 0.8394, Test Latency: 2.08s, Test Memory Usage: 194.0KB\n",
            "\n",
            "Epoch 79\n"
          ]
        },
        {
          "name": "stderr",
          "output_type": "stream",
          "text": [
            "Train: 100%|##########################| 391/391 [00:23<00:00, 16.46batch/s]\n"
          ]
        },
        {
          "name": "stdout",
          "output_type": "stream",
          "text": [
            "LR: 1.0000e-02, Train Loss: 0.4124, Train Acc: 0.8577, Train Latency: 23.76s, Memory Usage: 3110.0KB\n",
            "Test Loss: 0.4954, Test Acc: 0.8251, Test Latency: 2.35s, Test Memory Usage: 194.0KB\n",
            "\n",
            "Epoch 80\n"
          ]
        },
        {
          "name": "stderr",
          "output_type": "stream",
          "text": [
            "Train: 100%|##########################| 391/391 [00:24<00:00, 16.11batch/s]\n"
          ]
        },
        {
          "name": "stdout",
          "output_type": "stream",
          "text": [
            "LR: 1.0000e-02, Train Loss: 0.4138, Train Acc: 0.8585, Train Latency: 24.27s, Memory Usage: 3110.0KB\n",
            "Test Loss: 0.6450, Test Acc: 0.7869, Test Latency: 2.36s, Test Memory Usage: 194.0KB\n",
            "\n",
            "Epoch 81\n"
          ]
        },
        {
          "name": "stderr",
          "output_type": "stream",
          "text": [
            "Train: 100%|##########################| 391/391 [00:24<00:00, 16.06batch/s]\n"
          ]
        },
        {
          "name": "stdout",
          "output_type": "stream",
          "text": [
            "LR: 1.0000e-02, Train Loss: 0.4137, Train Acc: 0.8585, Train Latency: 24.36s, Memory Usage: 3110.0KB\n",
            "Test Loss: 0.6056, Test Acc: 0.7979, Test Latency: 2.35s, Test Memory Usage: 194.0KB\n",
            "\n",
            "Epoch 82\n"
          ]
        },
        {
          "name": "stderr",
          "output_type": "stream",
          "text": [
            "Train: 100%|##########################| 391/391 [00:23<00:00, 16.87batch/s]\n"
          ]
        },
        {
          "name": "stdout",
          "output_type": "stream",
          "text": [
            "LR: 1.0000e-02, Train Loss: 0.4134, Train Acc: 0.8587, Train Latency: 23.18s, Memory Usage: 3110.0KB\n",
            "Test Loss: 0.5819, Test Acc: 0.8065, Test Latency: 2.37s, Test Memory Usage: 194.0KB\n",
            "\n",
            "Epoch 83\n"
          ]
        },
        {
          "name": "stderr",
          "output_type": "stream",
          "text": [
            "Train: 100%|##########################| 391/391 [00:24<00:00, 16.11batch/s]\n"
          ]
        },
        {
          "name": "stdout",
          "output_type": "stream",
          "text": [
            "LR: 1.0000e-02, Train Loss: 0.4120, Train Acc: 0.8597, Train Latency: 24.28s, Memory Usage: 3110.0KB\n",
            "Test Loss: 0.4941, Test Acc: 0.8275, Test Latency: 2.37s, Test Memory Usage: 194.0KB\n",
            "\n",
            "Epoch 84\n"
          ]
        },
        {
          "name": "stderr",
          "output_type": "stream",
          "text": [
            "Train: 100%|##########################| 391/391 [00:23<00:00, 16.83batch/s]\n"
          ]
        },
        {
          "name": "stdout",
          "output_type": "stream",
          "text": [
            "LR: 1.0000e-02, Train Loss: 0.4105, Train Acc: 0.8586, Train Latency: 23.24s, Memory Usage: 3110.0KB\n",
            "Test Loss: 0.5462, Test Acc: 0.8185, Test Latency: 2.35s, Test Memory Usage: 194.0KB\n",
            "\n",
            "Epoch 85\n"
          ]
        },
        {
          "name": "stderr",
          "output_type": "stream",
          "text": [
            "Train: 100%|##########################| 391/391 [00:24<00:00, 16.12batch/s]\n"
          ]
        },
        {
          "name": "stdout",
          "output_type": "stream",
          "text": [
            "LR: 1.0000e-02, Train Loss: 0.4093, Train Acc: 0.8611, Train Latency: 24.25s, Memory Usage: 3110.0KB\n",
            "Test Loss: 0.5684, Test Acc: 0.8093, Test Latency: 2.37s, Test Memory Usage: 194.0KB\n",
            "\n",
            "Epoch 86\n"
          ]
        },
        {
          "name": "stderr",
          "output_type": "stream",
          "text": [
            "Train: 100%|##########################| 391/391 [00:24<00:00, 16.17batch/s]\n"
          ]
        },
        {
          "name": "stdout",
          "output_type": "stream",
          "text": [
            "LR: 1.0000e-02, Train Loss: 0.4078, Train Acc: 0.8596, Train Latency: 24.18s, Memory Usage: 3110.0KB\n",
            "Test Loss: 0.5153, Test Acc: 0.8264, Test Latency: 2.38s, Test Memory Usage: 194.0KB\n",
            "\n",
            "Epoch 87\n"
          ]
        },
        {
          "name": "stderr",
          "output_type": "stream",
          "text": [
            "Train: 100%|##########################| 391/391 [00:20<00:00, 19.32batch/s]\n"
          ]
        },
        {
          "name": "stdout",
          "output_type": "stream",
          "text": [
            "LR: 1.0000e-02, Train Loss: 0.4115, Train Acc: 0.8589, Train Latency: 20.24s, Memory Usage: 3110.0KB\n",
            "Test Loss: 0.6017, Test Acc: 0.8002, Test Latency: 2.09s, Test Memory Usage: 194.0KB\n",
            "\n",
            "Epoch 88\n"
          ]
        },
        {
          "name": "stderr",
          "output_type": "stream",
          "text": [
            "Train: 100%|##########################| 391/391 [00:23<00:00, 16.78batch/s]\n"
          ]
        },
        {
          "name": "stdout",
          "output_type": "stream",
          "text": [
            "LR: 1.0000e-02, Train Loss: 0.4063, Train Acc: 0.8602, Train Latency: 23.31s, Memory Usage: 3110.0KB\n",
            "Test Loss: 0.5386, Test Acc: 0.8151, Test Latency: 2.07s, Test Memory Usage: 194.0KB\n",
            "\n",
            "Epoch 89\n"
          ]
        },
        {
          "name": "stderr",
          "output_type": "stream",
          "text": [
            "Train: 100%|##########################| 391/391 [00:23<00:00, 16.54batch/s]\n"
          ]
        },
        {
          "name": "stdout",
          "output_type": "stream",
          "text": [
            "LR: 1.0000e-02, Train Loss: 0.4065, Train Acc: 0.8609, Train Latency: 23.65s, Memory Usage: 3110.0KB\n",
            "Test Loss: 0.5648, Test Acc: 0.8110, Test Latency: 2.36s, Test Memory Usage: 194.0KB\n",
            "\n",
            "Epoch 90\n"
          ]
        },
        {
          "name": "stderr",
          "output_type": "stream",
          "text": [
            "Train: 100%|##########################| 391/391 [00:24<00:00, 16.14batch/s]\n"
          ]
        },
        {
          "name": "stdout",
          "output_type": "stream",
          "text": [
            "LR: 1.0000e-02, Train Loss: 0.4055, Train Acc: 0.8612, Train Latency: 24.23s, Memory Usage: 3110.0KB\n",
            "Test Loss: 0.6148, Test Acc: 0.7890, Test Latency: 2.35s, Test Memory Usage: 194.0KB\n",
            "\n",
            "Epoch 91\n"
          ]
        },
        {
          "name": "stderr",
          "output_type": "stream",
          "text": [
            "Train: 100%|##########################| 391/391 [00:24<00:00, 16.29batch/s]\n"
          ]
        },
        {
          "name": "stdout",
          "output_type": "stream",
          "text": [
            "LR: 1.0000e-02, Train Loss: 0.4028, Train Acc: 0.8612, Train Latency: 24.00s, Memory Usage: 3110.0KB\n",
            "Test Loss: 0.6320, Test Acc: 0.7913, Test Latency: 2.36s, Test Memory Usage: 194.0KB\n",
            "\n",
            "Epoch 92\n"
          ]
        },
        {
          "name": "stderr",
          "output_type": "stream",
          "text": [
            "Train: 100%|##########################| 391/391 [00:23<00:00, 16.63batch/s]\n"
          ]
        },
        {
          "name": "stdout",
          "output_type": "stream",
          "text": [
            "LR: 1.0000e-02, Train Loss: 0.4074, Train Acc: 0.8608, Train Latency: 23.51s, Memory Usage: 3110.0KB\n",
            "Test Loss: 0.5367, Test Acc: 0.8172, Test Latency: 2.37s, Test Memory Usage: 194.0KB\n",
            "\n",
            "Epoch 93\n"
          ]
        },
        {
          "name": "stderr",
          "output_type": "stream",
          "text": [
            "Train: 100%|##########################| 391/391 [00:24<00:00, 16.14batch/s]\n"
          ]
        },
        {
          "name": "stdout",
          "output_type": "stream",
          "text": [
            "LR: 1.0000e-02, Train Loss: 0.4058, Train Acc: 0.8603, Train Latency: 24.23s, Memory Usage: 3110.0KB\n",
            "Test Loss: 0.5426, Test Acc: 0.8157, Test Latency: 2.37s, Test Memory Usage: 194.0KB\n",
            "\n",
            "Epoch 94\n"
          ]
        },
        {
          "name": "stderr",
          "output_type": "stream",
          "text": [
            "Train: 100%|##########################| 391/391 [00:24<00:00, 16.10batch/s]\n"
          ]
        },
        {
          "name": "stdout",
          "output_type": "stream",
          "text": [
            "LR: 1.0000e-02, Train Loss: 0.4069, Train Acc: 0.8603, Train Latency: 24.29s, Memory Usage: 3110.0KB\n",
            "Test Loss: 0.4836, Test Acc: 0.8324, Test Latency: 2.38s, Test Memory Usage: 194.0KB\n",
            "\n",
            "Epoch 95\n"
          ]
        },
        {
          "name": "stderr",
          "output_type": "stream",
          "text": [
            "Train: 100%|##########################| 391/391 [00:22<00:00, 17.62batch/s]\n"
          ]
        },
        {
          "name": "stdout",
          "output_type": "stream",
          "text": [
            "LR: 1.0000e-02, Train Loss: 0.4022, Train Acc: 0.8617, Train Latency: 22.20s, Memory Usage: 3110.0KB\n",
            "Test Loss: 0.6843, Test Acc: 0.7744, Test Latency: 2.09s, Test Memory Usage: 194.0KB\n",
            "\n",
            "Epoch 96\n"
          ]
        },
        {
          "name": "stderr",
          "output_type": "stream",
          "text": [
            "Train: 100%|##########################| 391/391 [00:23<00:00, 16.47batch/s]\n"
          ]
        },
        {
          "name": "stdout",
          "output_type": "stream",
          "text": [
            "LR: 1.0000e-02, Train Loss: 0.4036, Train Acc: 0.8620, Train Latency: 23.75s, Memory Usage: 3110.0KB\n",
            "Test Loss: 0.5469, Test Acc: 0.8162, Test Latency: 2.15s, Test Memory Usage: 194.0KB\n",
            "\n",
            "Epoch 97\n"
          ]
        },
        {
          "name": "stderr",
          "output_type": "stream",
          "text": [
            "Train: 100%|##########################| 391/391 [00:22<00:00, 17.07batch/s]\n"
          ]
        },
        {
          "name": "stdout",
          "output_type": "stream",
          "text": [
            "LR: 1.0000e-02, Train Loss: 0.4012, Train Acc: 0.8621, Train Latency: 22.91s, Memory Usage: 3110.0KB\n",
            "Test Loss: 0.8172, Test Acc: 0.7397, Test Latency: 2.37s, Test Memory Usage: 194.0KB\n",
            "\n",
            "Epoch 98\n"
          ]
        },
        {
          "name": "stderr",
          "output_type": "stream",
          "text": [
            "Train: 100%|##########################| 391/391 [00:24<00:00, 16.12batch/s]\n"
          ]
        },
        {
          "name": "stdout",
          "output_type": "stream",
          "text": [
            "LR: 1.0000e-02, Train Loss: 0.4010, Train Acc: 0.8634, Train Latency: 24.26s, Memory Usage: 3110.0KB\n",
            "Test Loss: 0.5704, Test Acc: 0.8091, Test Latency: 2.38s, Test Memory Usage: 194.0KB\n",
            "\n",
            "Epoch 99\n"
          ]
        },
        {
          "name": "stderr",
          "output_type": "stream",
          "text": [
            "Train: 100%|##########################| 391/391 [00:24<00:00, 16.09batch/s]\n"
          ]
        },
        {
          "name": "stdout",
          "output_type": "stream",
          "text": [
            "LR: 1.0000e-02, Train Loss: 0.4075, Train Acc: 0.8608, Train Latency: 24.31s, Memory Usage: 3110.0KB\n",
            "Test Loss: 0.5525, Test Acc: 0.8089, Test Latency: 2.37s, Test Memory Usage: 194.0KB\n",
            "\n",
            "Epoch 100\n"
          ]
        },
        {
          "name": "stderr",
          "output_type": "stream",
          "text": [
            "Train: 100%|##########################| 391/391 [00:20<00:00, 19.05batch/s]\n"
          ]
        },
        {
          "name": "stdout",
          "output_type": "stream",
          "text": [
            "LR: 1.0000e-02, Train Loss: 0.3953, Train Acc: 0.8645, Train Latency: 20.53s, Memory Usage: 3110.0KB\n",
            "Test Loss: 0.4995, Test Acc: 0.8341, Test Latency: 2.26s, Test Memory Usage: 194.0KB\n",
            "\n",
            "Epoch 101\n"
          ]
        },
        {
          "name": "stderr",
          "output_type": "stream",
          "text": [
            "Train: 100%|##########################| 391/391 [00:24<00:00, 16.02batch/s]\n"
          ]
        },
        {
          "name": "stdout",
          "output_type": "stream",
          "text": [
            "LR: 1.0000e-03, Train Loss: 0.3135, Train Acc: 0.8940, Train Latency: 24.40s, Memory Usage: 3110.0KB\n",
            "Test Loss: 0.3624, Test Acc: 0.8768, Test Latency: 2.35s, Test Memory Usage: 194.0KB\n",
            "Saving best model ...\n",
            "\n",
            "Epoch 102\n"
          ]
        },
        {
          "name": "stderr",
          "output_type": "stream",
          "text": [
            "Train: 100%|##########################| 391/391 [00:22<00:00, 17.74batch/s]\n"
          ]
        },
        {
          "name": "stdout",
          "output_type": "stream",
          "text": [
            "LR: 1.0000e-03, Train Loss: 0.2849, Train Acc: 0.9047, Train Latency: 22.04s, Memory Usage: 3110.0KB\n",
            "Test Loss: 0.3572, Test Acc: 0.8776, Test Latency: 2.36s, Test Memory Usage: 194.0KB\n",
            "Saving best model ...\n",
            "\n",
            "Epoch 103\n"
          ]
        },
        {
          "name": "stderr",
          "output_type": "stream",
          "text": [
            "Train: 100%|##########################| 391/391 [00:23<00:00, 16.71batch/s]\n"
          ]
        },
        {
          "name": "stdout",
          "output_type": "stream",
          "text": [
            "LR: 1.0000e-03, Train Loss: 0.2783, Train Acc: 0.9060, Train Latency: 23.41s, Memory Usage: 3110.0KB\n",
            "Test Loss: 0.3644, Test Acc: 0.8783, Test Latency: 2.37s, Test Memory Usage: 194.0KB\n",
            "Saving best model ...\n",
            "\n",
            "Epoch 104\n"
          ]
        },
        {
          "name": "stderr",
          "output_type": "stream",
          "text": [
            "Train: 100%|##########################| 391/391 [00:23<00:00, 16.34batch/s]\n"
          ]
        },
        {
          "name": "stdout",
          "output_type": "stream",
          "text": [
            "LR: 1.0000e-03, Train Loss: 0.2738, Train Acc: 0.9078, Train Latency: 23.93s, Memory Usage: 3110.0KB\n",
            "Test Loss: 0.3514, Test Acc: 0.8825, Test Latency: 2.39s, Test Memory Usage: 194.0KB\n",
            "Saving best model ...\n",
            "\n",
            "Epoch 105\n"
          ]
        },
        {
          "name": "stderr",
          "output_type": "stream",
          "text": [
            "Train: 100%|##########################| 391/391 [00:24<00:00, 16.05batch/s]\n"
          ]
        },
        {
          "name": "stdout",
          "output_type": "stream",
          "text": [
            "LR: 1.0000e-03, Train Loss: 0.2650, Train Acc: 0.9113, Train Latency: 24.36s, Memory Usage: 3110.0KB\n",
            "Test Loss: 0.3565, Test Acc: 0.8805, Test Latency: 2.37s, Test Memory Usage: 194.0KB\n",
            "\n",
            "Epoch 106\n"
          ]
        },
        {
          "name": "stderr",
          "output_type": "stream",
          "text": [
            "Train: 100%|##########################| 391/391 [00:24<00:00, 16.13batch/s]\n"
          ]
        },
        {
          "name": "stdout",
          "output_type": "stream",
          "text": [
            "LR: 1.0000e-03, Train Loss: 0.2710, Train Acc: 0.9090, Train Latency: 24.25s, Memory Usage: 3110.0KB\n",
            "Test Loss: 0.3505, Test Acc: 0.8824, Test Latency: 2.36s, Test Memory Usage: 194.0KB\n",
            "\n",
            "Epoch 107\n"
          ]
        },
        {
          "name": "stderr",
          "output_type": "stream",
          "text": [
            "Train: 100%|##########################| 391/391 [00:24<00:00, 16.24batch/s]\n"
          ]
        },
        {
          "name": "stdout",
          "output_type": "stream",
          "text": [
            "LR: 1.0000e-03, Train Loss: 0.2606, Train Acc: 0.9117, Train Latency: 24.09s, Memory Usage: 3110.0KB\n",
            "Test Loss: 0.3516, Test Acc: 0.8806, Test Latency: 2.36s, Test Memory Usage: 194.0KB\n",
            "\n",
            "Epoch 108\n"
          ]
        },
        {
          "name": "stderr",
          "output_type": "stream",
          "text": [
            "Train: 100%|##########################| 391/391 [00:22<00:00, 17.28batch/s]\n"
          ]
        },
        {
          "name": "stdout",
          "output_type": "stream",
          "text": [
            "LR: 1.0000e-03, Train Loss: 0.2635, Train Acc: 0.9112, Train Latency: 22.64s, Memory Usage: 3110.0KB\n",
            "Test Loss: 0.3695, Test Acc: 0.8755, Test Latency: 2.06s, Test Memory Usage: 194.0KB\n",
            "\n",
            "Epoch 109\n"
          ]
        },
        {
          "name": "stderr",
          "output_type": "stream",
          "text": [
            "Train: 100%|##########################| 391/391 [00:23<00:00, 16.42batch/s]\n"
          ]
        },
        {
          "name": "stdout",
          "output_type": "stream",
          "text": [
            "LR: 1.0000e-03, Train Loss: 0.2606, Train Acc: 0.9103, Train Latency: 23.81s, Memory Usage: 3110.0KB\n",
            "Test Loss: 0.3744, Test Acc: 0.8736, Test Latency: 2.19s, Test Memory Usage: 194.0KB\n",
            "\n",
            "Epoch 110\n"
          ]
        },
        {
          "name": "stderr",
          "output_type": "stream",
          "text": [
            "Train: 100%|##########################| 391/391 [00:22<00:00, 17.25batch/s]\n"
          ]
        },
        {
          "name": "stdout",
          "output_type": "stream",
          "text": [
            "LR: 1.0000e-03, Train Loss: 0.2625, Train Acc: 0.9112, Train Latency: 22.67s, Memory Usage: 3110.0KB\n",
            "Test Loss: 0.3723, Test Acc: 0.8758, Test Latency: 2.37s, Test Memory Usage: 194.0KB\n",
            "\n",
            "Epoch 111\n"
          ]
        },
        {
          "name": "stderr",
          "output_type": "stream",
          "text": [
            "Train: 100%|##########################| 391/391 [00:22<00:00, 17.10batch/s]\n"
          ]
        },
        {
          "name": "stdout",
          "output_type": "stream",
          "text": [
            "LR: 1.0000e-03, Train Loss: 0.2595, Train Acc: 0.9112, Train Latency: 22.87s, Memory Usage: 3110.0KB\n",
            "Test Loss: 0.3610, Test Acc: 0.8758, Test Latency: 2.37s, Test Memory Usage: 194.0KB\n",
            "\n",
            "Epoch 112\n"
          ]
        },
        {
          "name": "stderr",
          "output_type": "stream",
          "text": [
            "Train: 100%|##########################| 391/391 [00:21<00:00, 18.18batch/s]\n"
          ]
        },
        {
          "name": "stdout",
          "output_type": "stream",
          "text": [
            "LR: 1.0000e-03, Train Loss: 0.2593, Train Acc: 0.9125, Train Latency: 21.51s, Memory Usage: 3110.0KB\n",
            "Test Loss: 0.3674, Test Acc: 0.8742, Test Latency: 2.10s, Test Memory Usage: 194.0KB\n",
            "\n",
            "Epoch 113\n"
          ]
        },
        {
          "name": "stderr",
          "output_type": "stream",
          "text": [
            "Train: 100%|##########################| 391/391 [00:21<00:00, 17.90batch/s]\n"
          ]
        },
        {
          "name": "stdout",
          "output_type": "stream",
          "text": [
            "LR: 1.0000e-03, Train Loss: 0.2569, Train Acc: 0.9129, Train Latency: 21.85s, Memory Usage: 3110.0KB\n",
            "Test Loss: 0.3582, Test Acc: 0.8807, Test Latency: 2.37s, Test Memory Usage: 194.0KB\n",
            "\n",
            "Epoch 114\n"
          ]
        },
        {
          "name": "stderr",
          "output_type": "stream",
          "text": [
            "Train: 100%|##########################| 391/391 [00:20<00:00, 19.51batch/s]\n"
          ]
        },
        {
          "name": "stdout",
          "output_type": "stream",
          "text": [
            "LR: 1.0000e-03, Train Loss: 0.2568, Train Acc: 0.9125, Train Latency: 20.05s, Memory Usage: 3110.0KB\n",
            "Test Loss: 0.3624, Test Acc: 0.8784, Test Latency: 2.10s, Test Memory Usage: 194.0KB\n",
            "\n",
            "Epoch 115\n"
          ]
        },
        {
          "name": "stderr",
          "output_type": "stream",
          "text": [
            "Train: 100%|##########################| 391/391 [00:23<00:00, 16.61batch/s]\n"
          ]
        },
        {
          "name": "stdout",
          "output_type": "stream",
          "text": [
            "LR: 1.0000e-03, Train Loss: 0.2579, Train Acc: 0.9120, Train Latency: 23.55s, Memory Usage: 3110.0KB\n",
            "Test Loss: 0.3833, Test Acc: 0.8742, Test Latency: 2.38s, Test Memory Usage: 194.0KB\n",
            "\n",
            "Epoch 116\n"
          ]
        },
        {
          "name": "stderr",
          "output_type": "stream",
          "text": [
            "Train: 100%|##########################| 391/391 [00:24<00:00, 15.95batch/s]\n"
          ]
        },
        {
          "name": "stdout",
          "output_type": "stream",
          "text": [
            "LR: 1.0000e-03, Train Loss: 0.2583, Train Acc: 0.9132, Train Latency: 24.51s, Memory Usage: 3110.0KB\n",
            "Test Loss: 0.3605, Test Acc: 0.8788, Test Latency: 2.36s, Test Memory Usage: 194.0KB\n",
            "\n",
            "Epoch 117\n"
          ]
        },
        {
          "name": "stderr",
          "output_type": "stream",
          "text": [
            "Train: 100%|##########################| 391/391 [00:23<00:00, 16.48batch/s]\n"
          ]
        },
        {
          "name": "stdout",
          "output_type": "stream",
          "text": [
            "LR: 1.0000e-03, Train Loss: 0.2558, Train Acc: 0.9130, Train Latency: 23.73s, Memory Usage: 3110.0KB\n",
            "Test Loss: 0.3954, Test Acc: 0.8679, Test Latency: 2.38s, Test Memory Usage: 194.0KB\n",
            "\n",
            "Epoch 118\n"
          ]
        },
        {
          "name": "stderr",
          "output_type": "stream",
          "text": [
            "Train: 100%|##########################| 391/391 [00:21<00:00, 17.80batch/s]\n"
          ]
        },
        {
          "name": "stdout",
          "output_type": "stream",
          "text": [
            "LR: 1.0000e-03, Train Loss: 0.2548, Train Acc: 0.9139, Train Latency: 21.97s, Memory Usage: 3110.0KB\n",
            "Test Loss: 0.3498, Test Acc: 0.8837, Test Latency: 2.41s, Test Memory Usage: 194.0KB\n",
            "Saving best model ...\n",
            "\n",
            "Epoch 119\n"
          ]
        },
        {
          "name": "stderr",
          "output_type": "stream",
          "text": [
            "Train: 100%|##########################| 391/391 [00:24<00:00, 15.94batch/s]\n"
          ]
        },
        {
          "name": "stdout",
          "output_type": "stream",
          "text": [
            "LR: 1.0000e-03, Train Loss: 0.2541, Train Acc: 0.9120, Train Latency: 24.54s, Memory Usage: 3110.0KB\n",
            "Test Loss: 0.3563, Test Acc: 0.8797, Test Latency: 2.41s, Test Memory Usage: 194.0KB\n",
            "\n",
            "Epoch 120\n"
          ]
        },
        {
          "name": "stderr",
          "output_type": "stream",
          "text": [
            "Train: 100%|##########################| 391/391 [00:22<00:00, 17.47batch/s]\n"
          ]
        },
        {
          "name": "stdout",
          "output_type": "stream",
          "text": [
            "LR: 1.0000e-03, Train Loss: 0.2557, Train Acc: 0.9133, Train Latency: 22.39s, Memory Usage: 3110.0KB\n",
            "Test Loss: 0.3631, Test Acc: 0.8804, Test Latency: 2.08s, Test Memory Usage: 194.0KB\n",
            "\n",
            "Epoch 121\n"
          ]
        },
        {
          "name": "stderr",
          "output_type": "stream",
          "text": [
            "Train: 100%|##########################| 391/391 [00:22<00:00, 17.11batch/s]\n"
          ]
        },
        {
          "name": "stdout",
          "output_type": "stream",
          "text": [
            "LR: 1.0000e-03, Train Loss: 0.2539, Train Acc: 0.9129, Train Latency: 22.85s, Memory Usage: 3110.0KB\n",
            "Test Loss: 0.3526, Test Acc: 0.8806, Test Latency: 2.07s, Test Memory Usage: 194.0KB\n",
            "\n",
            "Epoch 122\n"
          ]
        },
        {
          "name": "stderr",
          "output_type": "stream",
          "text": [
            "Train: 100%|##########################| 391/391 [00:23<00:00, 16.60batch/s]\n"
          ]
        },
        {
          "name": "stdout",
          "output_type": "stream",
          "text": [
            "LR: 1.0000e-03, Train Loss: 0.2542, Train Acc: 0.9132, Train Latency: 23.55s, Memory Usage: 3110.0KB\n",
            "Test Loss: 0.3613, Test Acc: 0.8829, Test Latency: 2.39s, Test Memory Usage: 194.0KB\n",
            "\n",
            "Epoch 123\n"
          ]
        },
        {
          "name": "stderr",
          "output_type": "stream",
          "text": [
            "Train: 100%|##########################| 391/391 [00:23<00:00, 16.98batch/s]\n"
          ]
        },
        {
          "name": "stdout",
          "output_type": "stream",
          "text": [
            "LR: 1.0000e-03, Train Loss: 0.2571, Train Acc: 0.9119, Train Latency: 23.03s, Memory Usage: 3110.0KB\n",
            "Test Loss: 0.4020, Test Acc: 0.8669, Test Latency: 2.07s, Test Memory Usage: 194.0KB\n",
            "\n",
            "Epoch 124\n"
          ]
        },
        {
          "name": "stderr",
          "output_type": "stream",
          "text": [
            "Train: 100%|##########################| 391/391 [00:21<00:00, 17.89batch/s]\n"
          ]
        },
        {
          "name": "stdout",
          "output_type": "stream",
          "text": [
            "LR: 1.0000e-03, Train Loss: 0.2559, Train Acc: 0.9131, Train Latency: 21.86s, Memory Usage: 3110.0KB\n",
            "Test Loss: 0.3890, Test Acc: 0.8701, Test Latency: 2.40s, Test Memory Usage: 194.0KB\n",
            "\n",
            "Epoch 125\n"
          ]
        },
        {
          "name": "stderr",
          "output_type": "stream",
          "text": [
            "Train: 100%|##########################| 391/391 [00:22<00:00, 17.38batch/s]\n"
          ]
        },
        {
          "name": "stdout",
          "output_type": "stream",
          "text": [
            "LR: 1.0000e-03, Train Loss: 0.2564, Train Acc: 0.9144, Train Latency: 22.51s, Memory Usage: 3110.0KB\n",
            "Test Loss: 0.3996, Test Acc: 0.8686, Test Latency: 2.07s, Test Memory Usage: 194.0KB\n",
            "\n",
            "Epoch 126\n"
          ]
        },
        {
          "name": "stderr",
          "output_type": "stream",
          "text": [
            "Train: 100%|##########################| 391/391 [00:20<00:00, 19.26batch/s]\n"
          ]
        },
        {
          "name": "stdout",
          "output_type": "stream",
          "text": [
            "LR: 1.0000e-03, Train Loss: 0.2528, Train Acc: 0.9136, Train Latency: 20.31s, Memory Usage: 3110.0KB\n",
            "Test Loss: 0.3796, Test Acc: 0.8747, Test Latency: 2.08s, Test Memory Usage: 194.0KB\n",
            "\n",
            "Epoch 127\n"
          ]
        },
        {
          "name": "stderr",
          "output_type": "stream",
          "text": [
            "Train: 100%|##########################| 391/391 [00:22<00:00, 17.34batch/s]\n"
          ]
        },
        {
          "name": "stdout",
          "output_type": "stream",
          "text": [
            "LR: 1.0000e-03, Train Loss: 0.2574, Train Acc: 0.9130, Train Latency: 22.55s, Memory Usage: 3110.0KB\n",
            "Test Loss: 0.4610, Test Acc: 0.8488, Test Latency: 2.39s, Test Memory Usage: 194.0KB\n",
            "\n",
            "Epoch 128\n"
          ]
        },
        {
          "name": "stderr",
          "output_type": "stream",
          "text": [
            "Train: 100%|##########################| 391/391 [00:22<00:00, 17.20batch/s]\n"
          ]
        },
        {
          "name": "stdout",
          "output_type": "stream",
          "text": [
            "LR: 1.0000e-03, Train Loss: 0.2553, Train Acc: 0.9131, Train Latency: 22.73s, Memory Usage: 3110.0KB\n",
            "Test Loss: 0.3802, Test Acc: 0.8727, Test Latency: 2.36s, Test Memory Usage: 194.0KB\n",
            "\n",
            "Epoch 129\n"
          ]
        },
        {
          "name": "stderr",
          "output_type": "stream",
          "text": [
            "Train: 100%|##########################| 391/391 [00:24<00:00, 16.11batch/s]\n"
          ]
        },
        {
          "name": "stdout",
          "output_type": "stream",
          "text": [
            "LR: 1.0000e-03, Train Loss: 0.2584, Train Acc: 0.9123, Train Latency: 24.27s, Memory Usage: 3110.0KB\n",
            "Test Loss: 0.3511, Test Acc: 0.8824, Test Latency: 2.39s, Test Memory Usage: 194.0KB\n",
            "\n",
            "Epoch 130\n"
          ]
        },
        {
          "name": "stderr",
          "output_type": "stream",
          "text": [
            "Train: 100%|##########################| 391/391 [00:23<00:00, 16.30batch/s]\n"
          ]
        },
        {
          "name": "stdout",
          "output_type": "stream",
          "text": [
            "LR: 1.0000e-03, Train Loss: 0.2556, Train Acc: 0.9127, Train Latency: 23.98s, Memory Usage: 3110.0KB\n",
            "Test Loss: 0.4083, Test Acc: 0.8639, Test Latency: 2.39s, Test Memory Usage: 194.0KB\n",
            "\n",
            "Epoch 131\n"
          ]
        },
        {
          "name": "stderr",
          "output_type": "stream",
          "text": [
            "Train: 100%|##########################| 391/391 [00:24<00:00, 16.06batch/s]\n"
          ]
        },
        {
          "name": "stdout",
          "output_type": "stream",
          "text": [
            "LR: 1.0000e-03, Train Loss: 0.2548, Train Acc: 0.9132, Train Latency: 24.35s, Memory Usage: 3110.0KB\n",
            "Test Loss: 0.3633, Test Acc: 0.8762, Test Latency: 2.37s, Test Memory Usage: 194.0KB\n",
            "\n",
            "Epoch 132\n"
          ]
        },
        {
          "name": "stderr",
          "output_type": "stream",
          "text": [
            "Train: 100%|##########################| 391/391 [00:24<00:00, 16.15batch/s]\n"
          ]
        },
        {
          "name": "stdout",
          "output_type": "stream",
          "text": [
            "LR: 1.0000e-03, Train Loss: 0.2594, Train Acc: 0.9114, Train Latency: 24.22s, Memory Usage: 3110.0KB\n",
            "Test Loss: 0.4056, Test Acc: 0.8677, Test Latency: 2.37s, Test Memory Usage: 194.0KB\n",
            "\n",
            "Epoch 133\n"
          ]
        },
        {
          "name": "stderr",
          "output_type": "stream",
          "text": [
            "Train: 100%|##########################| 391/391 [00:23<00:00, 16.64batch/s]\n"
          ]
        },
        {
          "name": "stdout",
          "output_type": "stream",
          "text": [
            "LR: 1.0000e-03, Train Loss: 0.2564, Train Acc: 0.9124, Train Latency: 23.50s, Memory Usage: 3110.0KB\n",
            "Test Loss: 0.3938, Test Acc: 0.8679, Test Latency: 2.09s, Test Memory Usage: 194.0KB\n",
            "\n",
            "Epoch 134\n"
          ]
        },
        {
          "name": "stderr",
          "output_type": "stream",
          "text": [
            "Train: 100%|##########################| 391/391 [00:24<00:00, 16.18batch/s]\n"
          ]
        },
        {
          "name": "stdout",
          "output_type": "stream",
          "text": [
            "LR: 1.0000e-03, Train Loss: 0.2597, Train Acc: 0.9125, Train Latency: 24.17s, Memory Usage: 3110.0KB\n",
            "Test Loss: 0.4374, Test Acc: 0.8558, Test Latency: 2.37s, Test Memory Usage: 194.0KB\n",
            "\n",
            "Epoch 135\n"
          ]
        },
        {
          "name": "stderr",
          "output_type": "stream",
          "text": [
            "Train: 100%|##########################| 391/391 [00:23<00:00, 16.88batch/s]\n"
          ]
        },
        {
          "name": "stdout",
          "output_type": "stream",
          "text": [
            "LR: 1.0000e-03, Train Loss: 0.2544, Train Acc: 0.9128, Train Latency: 23.16s, Memory Usage: 3110.0KB\n",
            "Test Loss: 0.3789, Test Acc: 0.8718, Test Latency: 2.36s, Test Memory Usage: 194.0KB\n",
            "\n",
            "Epoch 136\n"
          ]
        },
        {
          "name": "stderr",
          "output_type": "stream",
          "text": [
            "Train: 100%|##########################| 391/391 [00:24<00:00, 16.05batch/s]\n"
          ]
        },
        {
          "name": "stdout",
          "output_type": "stream",
          "text": [
            "LR: 1.0000e-03, Train Loss: 0.2569, Train Acc: 0.9122, Train Latency: 24.36s, Memory Usage: 3110.0KB\n",
            "Test Loss: 0.4211, Test Acc: 0.8623, Test Latency: 2.36s, Test Memory Usage: 194.0KB\n",
            "\n",
            "Epoch 137\n"
          ]
        },
        {
          "name": "stderr",
          "output_type": "stream",
          "text": [
            "Train: 100%|##########################| 391/391 [00:21<00:00, 18.34batch/s]\n"
          ]
        },
        {
          "name": "stdout",
          "output_type": "stream",
          "text": [
            "LR: 1.0000e-03, Train Loss: 0.2601, Train Acc: 0.9109, Train Latency: 21.32s, Memory Usage: 3110.0KB\n",
            "Test Loss: 0.3811, Test Acc: 0.8719, Test Latency: 2.37s, Test Memory Usage: 194.0KB\n",
            "\n",
            "Epoch 138\n"
          ]
        },
        {
          "name": "stderr",
          "output_type": "stream",
          "text": [
            "Train: 100%|##########################| 391/391 [00:24<00:00, 16.15batch/s]\n"
          ]
        },
        {
          "name": "stdout",
          "output_type": "stream",
          "text": [
            "LR: 1.0000e-03, Train Loss: 0.2536, Train Acc: 0.9139, Train Latency: 24.21s, Memory Usage: 3110.0KB\n",
            "Test Loss: 0.3896, Test Acc: 0.8722, Test Latency: 2.36s, Test Memory Usage: 194.0KB\n",
            "\n",
            "Epoch 139\n"
          ]
        },
        {
          "name": "stderr",
          "output_type": "stream",
          "text": [
            "Train: 100%|##########################| 391/391 [00:24<00:00, 16.00batch/s]\n"
          ]
        },
        {
          "name": "stdout",
          "output_type": "stream",
          "text": [
            "LR: 1.0000e-03, Train Loss: 0.2543, Train Acc: 0.9132, Train Latency: 24.44s, Memory Usage: 3110.0KB\n",
            "Test Loss: 0.3940, Test Acc: 0.8694, Test Latency: 2.36s, Test Memory Usage: 194.0KB\n",
            "\n",
            "Epoch 140\n"
          ]
        },
        {
          "name": "stderr",
          "output_type": "stream",
          "text": [
            "Train: 100%|##########################| 391/391 [00:22<00:00, 17.43batch/s]\n"
          ]
        },
        {
          "name": "stdout",
          "output_type": "stream",
          "text": [
            "LR: 1.0000e-03, Train Loss: 0.2546, Train Acc: 0.9129, Train Latency: 22.43s, Memory Usage: 3110.0KB\n",
            "Test Loss: 0.3776, Test Acc: 0.8754, Test Latency: 2.38s, Test Memory Usage: 194.0KB\n",
            "\n",
            "Epoch 141\n"
          ]
        },
        {
          "name": "stderr",
          "output_type": "stream",
          "text": [
            "Train: 100%|##########################| 391/391 [00:23<00:00, 16.81batch/s]\n"
          ]
        },
        {
          "name": "stdout",
          "output_type": "stream",
          "text": [
            "LR: 1.0000e-03, Train Loss: 0.2567, Train Acc: 0.9119, Train Latency: 23.26s, Memory Usage: 3110.0KB\n",
            "Test Loss: 0.3672, Test Acc: 0.8751, Test Latency: 2.10s, Test Memory Usage: 194.0KB\n",
            "\n",
            "Epoch 142\n"
          ]
        },
        {
          "name": "stderr",
          "output_type": "stream",
          "text": [
            "Train: 100%|##########################| 391/391 [00:23<00:00, 16.56batch/s]\n"
          ]
        },
        {
          "name": "stdout",
          "output_type": "stream",
          "text": [
            "LR: 1.0000e-03, Train Loss: 0.2568, Train Acc: 0.9118, Train Latency: 23.62s, Memory Usage: 3110.0KB\n",
            "Test Loss: 0.4148, Test Acc: 0.8632, Test Latency: 2.35s, Test Memory Usage: 194.0KB\n",
            "\n",
            "Epoch 143\n"
          ]
        },
        {
          "name": "stderr",
          "output_type": "stream",
          "text": [
            "Train: 100%|##########################| 391/391 [00:24<00:00, 16.05batch/s]\n"
          ]
        },
        {
          "name": "stdout",
          "output_type": "stream",
          "text": [
            "LR: 1.0000e-03, Train Loss: 0.2574, Train Acc: 0.9114, Train Latency: 24.36s, Memory Usage: 3110.0KB\n",
            "Test Loss: 0.4029, Test Acc: 0.8626, Test Latency: 2.36s, Test Memory Usage: 194.0KB\n",
            "\n",
            "Epoch 144\n"
          ]
        },
        {
          "name": "stderr",
          "output_type": "stream",
          "text": [
            "Train: 100%|##########################| 391/391 [00:24<00:00, 15.99batch/s]\n"
          ]
        },
        {
          "name": "stdout",
          "output_type": "stream",
          "text": [
            "LR: 1.0000e-03, Train Loss: 0.2562, Train Acc: 0.9138, Train Latency: 24.46s, Memory Usage: 3110.0KB\n",
            "Test Loss: 0.3950, Test Acc: 0.8703, Test Latency: 2.37s, Test Memory Usage: 194.0KB\n",
            "\n",
            "Epoch 145\n"
          ]
        },
        {
          "name": "stderr",
          "output_type": "stream",
          "text": [
            "Train: 100%|##########################| 391/391 [00:23<00:00, 16.31batch/s]\n"
          ]
        },
        {
          "name": "stdout",
          "output_type": "stream",
          "text": [
            "LR: 1.0000e-03, Train Loss: 0.2556, Train Acc: 0.9116, Train Latency: 23.98s, Memory Usage: 3110.0KB\n",
            "Test Loss: 0.4642, Test Acc: 0.8469, Test Latency: 2.08s, Test Memory Usage: 194.0KB\n",
            "\n",
            "Epoch 146\n"
          ]
        },
        {
          "name": "stderr",
          "output_type": "stream",
          "text": [
            "Train: 100%|##########################| 391/391 [00:22<00:00, 17.15batch/s]\n"
          ]
        },
        {
          "name": "stdout",
          "output_type": "stream",
          "text": [
            "LR: 1.0000e-03, Train Loss: 0.2563, Train Acc: 0.9134, Train Latency: 22.80s, Memory Usage: 3110.0KB\n",
            "Test Loss: 0.3712, Test Acc: 0.8731, Test Latency: 2.39s, Test Memory Usage: 194.0KB\n",
            "\n",
            "Epoch 147\n"
          ]
        },
        {
          "name": "stderr",
          "output_type": "stream",
          "text": [
            "Train: 100%|##########################| 391/391 [00:23<00:00, 16.67batch/s]\n"
          ]
        },
        {
          "name": "stdout",
          "output_type": "stream",
          "text": [
            "LR: 1.0000e-03, Train Loss: 0.2574, Train Acc: 0.9139, Train Latency: 23.46s, Memory Usage: 3110.0KB\n",
            "Test Loss: 0.3993, Test Acc: 0.8688, Test Latency: 2.37s, Test Memory Usage: 194.0KB\n",
            "\n",
            "Epoch 148\n"
          ]
        },
        {
          "name": "stderr",
          "output_type": "stream",
          "text": [
            "Train: 100%|##########################| 391/391 [00:24<00:00, 16.19batch/s]\n"
          ]
        },
        {
          "name": "stdout",
          "output_type": "stream",
          "text": [
            "LR: 1.0000e-03, Train Loss: 0.2539, Train Acc: 0.9127, Train Latency: 24.15s, Memory Usage: 3110.0KB\n",
            "Test Loss: 0.4156, Test Acc: 0.8597, Test Latency: 2.36s, Test Memory Usage: 194.0KB\n",
            "\n",
            "Epoch 149\n"
          ]
        },
        {
          "name": "stderr",
          "output_type": "stream",
          "text": [
            "Train: 100%|##########################| 391/391 [00:24<00:00, 16.02batch/s]\n"
          ]
        },
        {
          "name": "stdout",
          "output_type": "stream",
          "text": [
            "LR: 1.0000e-03, Train Loss: 0.2560, Train Acc: 0.9125, Train Latency: 24.41s, Memory Usage: 3110.0KB\n",
            "Test Loss: 0.3590, Test Acc: 0.8850, Test Latency: 2.36s, Test Memory Usage: 194.0KB\n",
            "Saving best model ...\n",
            "\n",
            "Epoch 150\n"
          ]
        },
        {
          "name": "stderr",
          "output_type": "stream",
          "text": [
            "Train: 100%|##########################| 391/391 [00:24<00:00, 16.07batch/s]\n"
          ]
        },
        {
          "name": "stdout",
          "output_type": "stream",
          "text": [
            "LR: 1.0000e-03, Train Loss: 0.2589, Train Acc: 0.9108, Train Latency: 24.34s, Memory Usage: 3110.0KB\n",
            "Test Loss: 0.3789, Test Acc: 0.8749, Test Latency: 2.39s, Test Memory Usage: 194.0KB\n",
            "\n",
            "Epoch 151\n"
          ]
        },
        {
          "name": "stderr",
          "output_type": "stream",
          "text": [
            "Train: 100%|##########################| 391/391 [00:21<00:00, 18.16batch/s]\n"
          ]
        },
        {
          "name": "stdout",
          "output_type": "stream",
          "text": [
            "LR: 1.0000e-04, Train Loss: 0.2174, Train Acc: 0.9290, Train Latency: 21.54s, Memory Usage: 3110.0KB\n",
            "Test Loss: 0.3298, Test Acc: 0.8894, Test Latency: 2.08s, Test Memory Usage: 194.0KB\n",
            "Saving best model ...\n",
            "\n",
            "Epoch 152\n"
          ]
        },
        {
          "name": "stderr",
          "output_type": "stream",
          "text": [
            "Train: 100%|##########################| 391/391 [00:24<00:00, 16.12batch/s]\n"
          ]
        },
        {
          "name": "stdout",
          "output_type": "stream",
          "text": [
            "LR: 1.0000e-04, Train Loss: 0.2052, Train Acc: 0.9322, Train Latency: 24.26s, Memory Usage: 3110.0KB\n",
            "Test Loss: 0.3223, Test Acc: 0.8942, Test Latency: 2.35s, Test Memory Usage: 194.0KB\n",
            "Saving best model ...\n",
            "\n",
            "Epoch 153\n"
          ]
        },
        {
          "name": "stderr",
          "output_type": "stream",
          "text": [
            "Train: 100%|##########################| 391/391 [00:22<00:00, 17.46batch/s]\n"
          ]
        },
        {
          "name": "stdout",
          "output_type": "stream",
          "text": [
            "LR: 1.0000e-04, Train Loss: 0.2035, Train Acc: 0.9327, Train Latency: 22.40s, Memory Usage: 3110.0KB\n",
            "Test Loss: 0.3237, Test Acc: 0.8932, Test Latency: 2.38s, Test Memory Usage: 194.0KB\n",
            "\n",
            "Epoch 154\n"
          ]
        },
        {
          "name": "stderr",
          "output_type": "stream",
          "text": [
            "Train: 100%|##########################| 391/391 [00:23<00:00, 16.43batch/s]\n"
          ]
        },
        {
          "name": "stdout",
          "output_type": "stream",
          "text": [
            "LR: 1.0000e-04, Train Loss: 0.2037, Train Acc: 0.9327, Train Latency: 23.81s, Memory Usage: 3110.0KB\n",
            "Test Loss: 0.3305, Test Acc: 0.8939, Test Latency: 2.39s, Test Memory Usage: 194.0KB\n",
            "\n",
            "Epoch 155\n"
          ]
        },
        {
          "name": "stderr",
          "output_type": "stream",
          "text": [
            "Train: 100%|##########################| 391/391 [00:23<00:00, 16.75batch/s]\n"
          ]
        },
        {
          "name": "stdout",
          "output_type": "stream",
          "text": [
            "LR: 1.0000e-04, Train Loss: 0.2012, Train Acc: 0.9331, Train Latency: 23.35s, Memory Usage: 3110.0KB\n",
            "Test Loss: 0.3237, Test Acc: 0.8944, Test Latency: 2.06s, Test Memory Usage: 194.0KB\n",
            "Saving best model ...\n",
            "\n",
            "Epoch 156\n"
          ]
        },
        {
          "name": "stderr",
          "output_type": "stream",
          "text": [
            "Train: 100%|##########################| 391/391 [00:22<00:00, 17.05batch/s]\n"
          ]
        },
        {
          "name": "stdout",
          "output_type": "stream",
          "text": [
            "LR: 1.0000e-04, Train Loss: 0.2002, Train Acc: 0.9329, Train Latency: 22.93s, Memory Usage: 3110.0KB\n",
            "Test Loss: 0.3288, Test Acc: 0.8890, Test Latency: 2.19s, Test Memory Usage: 194.0KB\n",
            "\n",
            "Epoch 157\n"
          ]
        },
        {
          "name": "stderr",
          "output_type": "stream",
          "text": [
            "Train: 100%|##########################| 391/391 [00:23<00:00, 16.84batch/s]\n"
          ]
        },
        {
          "name": "stdout",
          "output_type": "stream",
          "text": [
            "LR: 1.0000e-04, Train Loss: 0.2011, Train Acc: 0.9327, Train Latency: 23.22s, Memory Usage: 3110.0KB\n",
            "Test Loss: 0.3293, Test Acc: 0.8906, Test Latency: 2.36s, Test Memory Usage: 194.0KB\n",
            "\n",
            "Epoch 158\n"
          ]
        },
        {
          "name": "stderr",
          "output_type": "stream",
          "text": [
            "Train: 100%|##########################| 391/391 [00:23<00:00, 16.89batch/s]\n"
          ]
        },
        {
          "name": "stdout",
          "output_type": "stream",
          "text": [
            "LR: 1.0000e-04, Train Loss: 0.2013, Train Acc: 0.9324, Train Latency: 23.15s, Memory Usage: 3110.0KB\n",
            "Test Loss: 0.3277, Test Acc: 0.8931, Test Latency: 2.38s, Test Memory Usage: 194.0KB\n",
            "\n",
            "Epoch 159\n"
          ]
        },
        {
          "name": "stderr",
          "output_type": "stream",
          "text": [
            "Train: 100%|##########################| 391/391 [00:23<00:00, 16.73batch/s]\n"
          ]
        },
        {
          "name": "stdout",
          "output_type": "stream",
          "text": [
            "LR: 1.0000e-04, Train Loss: 0.2025, Train Acc: 0.9325, Train Latency: 23.38s, Memory Usage: 3110.0KB\n",
            "Test Loss: 0.3268, Test Acc: 0.8893, Test Latency: 2.09s, Test Memory Usage: 194.0KB\n",
            "\n",
            "Epoch 160\n"
          ]
        },
        {
          "name": "stderr",
          "output_type": "stream",
          "text": [
            "Train: 100%|##########################| 391/391 [00:23<00:00, 16.93batch/s]\n"
          ]
        },
        {
          "name": "stdout",
          "output_type": "stream",
          "text": [
            "LR: 1.0000e-04, Train Loss: 0.1956, Train Acc: 0.9349, Train Latency: 23.10s, Memory Usage: 3110.0KB\n",
            "Test Loss: 0.3402, Test Acc: 0.8859, Test Latency: 2.35s, Test Memory Usage: 194.0KB\n",
            "\n",
            "Epoch 161\n"
          ]
        },
        {
          "name": "stderr",
          "output_type": "stream",
          "text": [
            "Train: 100%|##########################| 391/391 [00:24<00:00, 16.25batch/s]\n"
          ]
        },
        {
          "name": "stdout",
          "output_type": "stream",
          "text": [
            "LR: 1.0000e-04, Train Loss: 0.1959, Train Acc: 0.9342, Train Latency: 24.06s, Memory Usage: 3110.0KB\n",
            "Test Loss: 0.3279, Test Acc: 0.8886, Test Latency: 2.36s, Test Memory Usage: 194.0KB\n",
            "\n",
            "Epoch 162\n"
          ]
        },
        {
          "name": "stderr",
          "output_type": "stream",
          "text": [
            "Train: 100%|##########################| 391/391 [00:24<00:00, 16.00batch/s]\n"
          ]
        },
        {
          "name": "stdout",
          "output_type": "stream",
          "text": [
            "LR: 1.0000e-04, Train Loss: 0.2009, Train Acc: 0.9330, Train Latency: 24.44s, Memory Usage: 3110.0KB\n",
            "Test Loss: 0.3592, Test Acc: 0.8804, Test Latency: 2.35s, Test Memory Usage: 194.0KB\n",
            "\n",
            "Epoch 163\n"
          ]
        },
        {
          "name": "stderr",
          "output_type": "stream",
          "text": [
            "Train: 100%|##########################| 391/391 [00:21<00:00, 18.50batch/s]\n"
          ]
        },
        {
          "name": "stdout",
          "output_type": "stream",
          "text": [
            "LR: 1.0000e-04, Train Loss: 0.2015, Train Acc: 0.9324, Train Latency: 21.14s, Memory Usage: 3110.0KB\n",
            "Test Loss: 0.3385, Test Acc: 0.8878, Test Latency: 2.09s, Test Memory Usage: 194.0KB\n",
            "\n",
            "Epoch 164\n"
          ]
        },
        {
          "name": "stderr",
          "output_type": "stream",
          "text": [
            "Train: 100%|##########################| 391/391 [00:23<00:00, 16.47batch/s]\n"
          ]
        },
        {
          "name": "stdout",
          "output_type": "stream",
          "text": [
            "LR: 1.0000e-04, Train Loss: 0.2018, Train Acc: 0.9330, Train Latency: 23.74s, Memory Usage: 3110.0KB\n",
            "Test Loss: 0.3245, Test Acc: 0.8882, Test Latency: 2.10s, Test Memory Usage: 194.0KB\n",
            "\n",
            "Epoch 165\n"
          ]
        },
        {
          "name": "stderr",
          "output_type": "stream",
          "text": [
            "Train: 100%|##########################| 391/391 [00:24<00:00, 16.07batch/s]\n"
          ]
        },
        {
          "name": "stdout",
          "output_type": "stream",
          "text": [
            "LR: 1.0000e-04, Train Loss: 0.2017, Train Acc: 0.9343, Train Latency: 24.34s, Memory Usage: 3110.0KB\n",
            "Test Loss: 0.3454, Test Acc: 0.8855, Test Latency: 2.35s, Test Memory Usage: 194.0KB\n",
            "\n",
            "Epoch 166\n"
          ]
        },
        {
          "name": "stderr",
          "output_type": "stream",
          "text": [
            "Train: 100%|##########################| 391/391 [00:24<00:00, 15.94batch/s]\n"
          ]
        },
        {
          "name": "stdout",
          "output_type": "stream",
          "text": [
            "LR: 1.0000e-04, Train Loss: 0.2009, Train Acc: 0.9333, Train Latency: 24.53s, Memory Usage: 3110.0KB\n",
            "Test Loss: 0.3386, Test Acc: 0.8865, Test Latency: 2.38s, Test Memory Usage: 194.0KB\n",
            "\n",
            "Epoch 167\n"
          ]
        },
        {
          "name": "stderr",
          "output_type": "stream",
          "text": [
            "Train: 100%|##########################| 391/391 [00:24<00:00, 16.14batch/s]\n"
          ]
        },
        {
          "name": "stdout",
          "output_type": "stream",
          "text": [
            "LR: 1.0000e-04, Train Loss: 0.2016, Train Acc: 0.9324, Train Latency: 24.22s, Memory Usage: 3110.0KB\n",
            "Test Loss: 0.3337, Test Acc: 0.8870, Test Latency: 2.37s, Test Memory Usage: 194.0KB\n",
            "\n",
            "Epoch 168\n"
          ]
        },
        {
          "name": "stderr",
          "output_type": "stream",
          "text": [
            "Train: 100%|##########################| 391/391 [00:24<00:00, 16.20batch/s]\n"
          ]
        },
        {
          "name": "stdout",
          "output_type": "stream",
          "text": [
            "LR: 1.0000e-04, Train Loss: 0.2023, Train Acc: 0.9326, Train Latency: 24.13s, Memory Usage: 3110.0KB\n",
            "Test Loss: 0.3357, Test Acc: 0.8853, Test Latency: 2.38s, Test Memory Usage: 194.0KB\n",
            "\n",
            "Epoch 169\n"
          ]
        },
        {
          "name": "stderr",
          "output_type": "stream",
          "text": [
            "Train: 100%|##########################| 391/391 [00:23<00:00, 16.53batch/s]\n"
          ]
        },
        {
          "name": "stdout",
          "output_type": "stream",
          "text": [
            "LR: 1.0000e-04, Train Loss: 0.2006, Train Acc: 0.9328, Train Latency: 23.66s, Memory Usage: 3110.0KB\n",
            "Test Loss: 0.3262, Test Acc: 0.8903, Test Latency: 2.38s, Test Memory Usage: 194.0KB\n",
            "\n",
            "Epoch 170\n"
          ]
        },
        {
          "name": "stderr",
          "output_type": "stream",
          "text": [
            "Train: 100%|##########################| 391/391 [00:24<00:00, 16.08batch/s]\n"
          ]
        },
        {
          "name": "stdout",
          "output_type": "stream",
          "text": [
            "LR: 1.0000e-04, Train Loss: 0.2007, Train Acc: 0.9331, Train Latency: 24.32s, Memory Usage: 3110.0KB\n",
            "Test Loss: 0.3406, Test Acc: 0.8889, Test Latency: 2.37s, Test Memory Usage: 194.0KB\n",
            "\n",
            "Epoch 171\n"
          ]
        },
        {
          "name": "stderr",
          "output_type": "stream",
          "text": [
            "Train: 100%|##########################| 391/391 [00:23<00:00, 16.62batch/s]\n"
          ]
        },
        {
          "name": "stdout",
          "output_type": "stream",
          "text": [
            "LR: 1.0000e-04, Train Loss: 0.2016, Train Acc: 0.9327, Train Latency: 23.53s, Memory Usage: 3110.0KB\n",
            "Test Loss: 0.3494, Test Acc: 0.8836, Test Latency: 2.37s, Test Memory Usage: 194.0KB\n",
            "\n",
            "Epoch 172\n"
          ]
        },
        {
          "name": "stderr",
          "output_type": "stream",
          "text": [
            "Train: 100%|##########################| 391/391 [00:23<00:00, 16.42batch/s]\n"
          ]
        },
        {
          "name": "stdout",
          "output_type": "stream",
          "text": [
            "LR: 1.0000e-04, Train Loss: 0.2037, Train Acc: 0.9324, Train Latency: 23.81s, Memory Usage: 3110.0KB\n",
            "Test Loss: 0.3439, Test Acc: 0.8855, Test Latency: 2.36s, Test Memory Usage: 194.0KB\n",
            "\n",
            "Epoch 173\n"
          ]
        },
        {
          "name": "stderr",
          "output_type": "stream",
          "text": [
            "Train: 100%|##########################| 391/391 [00:22<00:00, 17.47batch/s]\n"
          ]
        },
        {
          "name": "stdout",
          "output_type": "stream",
          "text": [
            "LR: 1.0000e-04, Train Loss: 0.2027, Train Acc: 0.9320, Train Latency: 22.38s, Memory Usage: 3110.0KB\n",
            "Test Loss: 0.3417, Test Acc: 0.8856, Test Latency: 2.37s, Test Memory Usage: 194.0KB\n",
            "\n",
            "Epoch 174\n"
          ]
        },
        {
          "name": "stderr",
          "output_type": "stream",
          "text": [
            "Train: 100%|##########################| 391/391 [00:23<00:00, 16.47batch/s]\n"
          ]
        },
        {
          "name": "stdout",
          "output_type": "stream",
          "text": [
            "LR: 1.0000e-04, Train Loss: 0.2034, Train Acc: 0.9316, Train Latency: 23.75s, Memory Usage: 3110.0KB\n",
            "Test Loss: 0.3440, Test Acc: 0.8878, Test Latency: 2.16s, Test Memory Usage: 194.0KB\n",
            "\n",
            "Epoch 175\n"
          ]
        },
        {
          "name": "stderr",
          "output_type": "stream",
          "text": [
            "Train: 100%|##########################| 391/391 [00:23<00:00, 16.76batch/s]\n"
          ]
        },
        {
          "name": "stdout",
          "output_type": "stream",
          "text": [
            "LR: 1.0000e-04, Train Loss: 0.2031, Train Acc: 0.9314, Train Latency: 23.33s, Memory Usage: 3110.0KB\n",
            "Test Loss: 0.3329, Test Acc: 0.8881, Test Latency: 2.38s, Test Memory Usage: 194.0KB\n",
            "\n",
            "Epoch 176\n"
          ]
        },
        {
          "name": "stderr",
          "output_type": "stream",
          "text": [
            "Train: 100%|##########################| 391/391 [00:21<00:00, 18.28batch/s]\n"
          ]
        },
        {
          "name": "stdout",
          "output_type": "stream",
          "text": [
            "LR: 1.0000e-04, Train Loss: 0.2024, Train Acc: 0.9316, Train Latency: 21.39s, Memory Usage: 3110.0KB\n",
            "Test Loss: 0.3531, Test Acc: 0.8824, Test Latency: 2.38s, Test Memory Usage: 194.0KB\n",
            "\n",
            "Epoch 177\n"
          ]
        },
        {
          "name": "stderr",
          "output_type": "stream",
          "text": [
            "Train: 100%|##########################| 391/391 [00:22<00:00, 17.65batch/s]\n"
          ]
        },
        {
          "name": "stdout",
          "output_type": "stream",
          "text": [
            "LR: 1.0000e-04, Train Loss: 0.2008, Train Acc: 0.9331, Train Latency: 22.16s, Memory Usage: 3110.0KB\n",
            "Test Loss: 0.3441, Test Acc: 0.8857, Test Latency: 2.09s, Test Memory Usage: 194.0KB\n",
            "\n",
            "Epoch 178\n"
          ]
        },
        {
          "name": "stderr",
          "output_type": "stream",
          "text": [
            "Train: 100%|##########################| 391/391 [00:23<00:00, 16.30batch/s]\n"
          ]
        },
        {
          "name": "stdout",
          "output_type": "stream",
          "text": [
            "LR: 1.0000e-04, Train Loss: 0.2040, Train Acc: 0.9316, Train Latency: 23.99s, Memory Usage: 3110.0KB\n",
            "Test Loss: 0.3552, Test Acc: 0.8809, Test Latency: 2.33s, Test Memory Usage: 194.0KB\n",
            "\n",
            "Epoch 179\n"
          ]
        },
        {
          "name": "stderr",
          "output_type": "stream",
          "text": [
            "Train: 100%|##########################| 391/391 [00:23<00:00, 16.83batch/s]\n"
          ]
        },
        {
          "name": "stdout",
          "output_type": "stream",
          "text": [
            "LR: 1.0000e-04, Train Loss: 0.2048, Train Acc: 0.9317, Train Latency: 23.23s, Memory Usage: 3110.0KB\n",
            "Test Loss: 0.3562, Test Acc: 0.8819, Test Latency: 2.36s, Test Memory Usage: 194.0KB\n",
            "\n",
            "Epoch 180\n"
          ]
        },
        {
          "name": "stderr",
          "output_type": "stream",
          "text": [
            "Train: 100%|##########################| 391/391 [00:24<00:00, 16.25batch/s]\n"
          ]
        },
        {
          "name": "stdout",
          "output_type": "stream",
          "text": [
            "LR: 1.0000e-04, Train Loss: 0.2044, Train Acc: 0.9302, Train Latency: 24.06s, Memory Usage: 3110.0KB\n",
            "Test Loss: 0.3635, Test Acc: 0.8790, Test Latency: 2.37s, Test Memory Usage: 194.0KB\n",
            "\n",
            "Epoch 181\n"
          ]
        },
        {
          "name": "stderr",
          "output_type": "stream",
          "text": [
            "Train: 100%|##########################| 391/391 [00:24<00:00, 16.02batch/s]\n"
          ]
        },
        {
          "name": "stdout",
          "output_type": "stream",
          "text": [
            "LR: 1.0000e-04, Train Loss: 0.2041, Train Acc: 0.9310, Train Latency: 24.40s, Memory Usage: 3110.0KB\n",
            "Test Loss: 0.3357, Test Acc: 0.8859, Test Latency: 2.35s, Test Memory Usage: 194.0KB\n",
            "\n",
            "Epoch 182\n"
          ]
        },
        {
          "name": "stderr",
          "output_type": "stream",
          "text": [
            "Train: 100%|##########################| 391/391 [00:23<00:00, 16.98batch/s]\n"
          ]
        },
        {
          "name": "stdout",
          "output_type": "stream",
          "text": [
            "LR: 1.0000e-04, Train Loss: 0.2026, Train Acc: 0.9319, Train Latency: 23.03s, Memory Usage: 3110.0KB\n",
            "Test Loss: 0.3523, Test Acc: 0.8813, Test Latency: 2.39s, Test Memory Usage: 194.0KB\n",
            "\n",
            "Epoch 183\n"
          ]
        },
        {
          "name": "stderr",
          "output_type": "stream",
          "text": [
            "Train: 100%|##########################| 391/391 [00:24<00:00, 16.21batch/s]\n"
          ]
        },
        {
          "name": "stdout",
          "output_type": "stream",
          "text": [
            "LR: 1.0000e-04, Train Loss: 0.2025, Train Acc: 0.9318, Train Latency: 24.12s, Memory Usage: 3110.0KB\n",
            "Test Loss: 0.4331, Test Acc: 0.8540, Test Latency: 2.38s, Test Memory Usage: 194.0KB\n",
            "\n",
            "Epoch 184\n"
          ]
        },
        {
          "name": "stderr",
          "output_type": "stream",
          "text": [
            "Train: 100%|##########################| 391/391 [00:24<00:00, 15.97batch/s]\n"
          ]
        },
        {
          "name": "stdout",
          "output_type": "stream",
          "text": [
            "LR: 1.0000e-04, Train Loss: 0.2044, Train Acc: 0.9318, Train Latency: 24.49s, Memory Usage: 3110.0KB\n",
            "Test Loss: 0.3838, Test Acc: 0.8703, Test Latency: 2.36s, Test Memory Usage: 194.0KB\n",
            "\n",
            "Epoch 185\n"
          ]
        },
        {
          "name": "stderr",
          "output_type": "stream",
          "text": [
            "Train: 100%|##########################| 391/391 [00:23<00:00, 16.74batch/s]\n"
          ]
        },
        {
          "name": "stdout",
          "output_type": "stream",
          "text": [
            "LR: 1.0000e-04, Train Loss: 0.2019, Train Acc: 0.9317, Train Latency: 23.36s, Memory Usage: 3110.0KB\n",
            "Test Loss: 0.3414, Test Acc: 0.8877, Test Latency: 2.07s, Test Memory Usage: 194.0KB\n",
            "\n",
            "Epoch 186\n"
          ]
        },
        {
          "name": "stderr",
          "output_type": "stream",
          "text": [
            "Train: 100%|##########################| 391/391 [00:22<00:00, 17.36batch/s]\n"
          ]
        },
        {
          "name": "stdout",
          "output_type": "stream",
          "text": [
            "LR: 1.0000e-04, Train Loss: 0.2050, Train Acc: 0.9312, Train Latency: 22.52s, Memory Usage: 3110.0KB\n",
            "Test Loss: 0.3643, Test Acc: 0.8815, Test Latency: 2.37s, Test Memory Usage: 194.0KB\n",
            "\n",
            "Epoch 187\n"
          ]
        },
        {
          "name": "stderr",
          "output_type": "stream",
          "text": [
            "Train: 100%|##########################| 391/391 [00:24<00:00, 16.16batch/s]\n"
          ]
        },
        {
          "name": "stdout",
          "output_type": "stream",
          "text": [
            "LR: 1.0000e-04, Train Loss: 0.2049, Train Acc: 0.9309, Train Latency: 24.20s, Memory Usage: 3110.0KB\n",
            "Test Loss: 0.3405, Test Acc: 0.8850, Test Latency: 2.37s, Test Memory Usage: 194.0KB\n",
            "\n",
            "Epoch 188\n"
          ]
        },
        {
          "name": "stderr",
          "output_type": "stream",
          "text": [
            "Train: 100%|##########################| 391/391 [00:24<00:00, 16.10batch/s]\n"
          ]
        },
        {
          "name": "stdout",
          "output_type": "stream",
          "text": [
            "LR: 1.0000e-04, Train Loss: 0.2051, Train Acc: 0.9307, Train Latency: 24.30s, Memory Usage: 3110.0KB\n",
            "Test Loss: 0.3438, Test Acc: 0.8826, Test Latency: 2.37s, Test Memory Usage: 194.0KB\n",
            "\n",
            "Epoch 189\n"
          ]
        },
        {
          "name": "stderr",
          "output_type": "stream",
          "text": [
            "Train: 100%|##########################| 391/391 [00:23<00:00, 16.99batch/s]\n"
          ]
        },
        {
          "name": "stdout",
          "output_type": "stream",
          "text": [
            "LR: 1.0000e-04, Train Loss: 0.2055, Train Acc: 0.9321, Train Latency: 23.02s, Memory Usage: 3110.0KB\n",
            "Test Loss: 0.3406, Test Acc: 0.8853, Test Latency: 2.09s, Test Memory Usage: 194.0KB\n",
            "\n",
            "Epoch 190\n"
          ]
        },
        {
          "name": "stderr",
          "output_type": "stream",
          "text": [
            "Train: 100%|##########################| 391/391 [00:21<00:00, 18.52batch/s]\n"
          ]
        },
        {
          "name": "stdout",
          "output_type": "stream",
          "text": [
            "LR: 1.0000e-04, Train Loss: 0.2049, Train Acc: 0.9311, Train Latency: 21.11s, Memory Usage: 3110.0KB\n",
            "Test Loss: 0.3720, Test Acc: 0.8728, Test Latency: 2.10s, Test Memory Usage: 194.0KB\n",
            "\n",
            "Epoch 191\n"
          ]
        },
        {
          "name": "stderr",
          "output_type": "stream",
          "text": [
            "Train: 100%|##########################| 391/391 [00:23<00:00, 16.33batch/s]\n"
          ]
        },
        {
          "name": "stdout",
          "output_type": "stream",
          "text": [
            "LR: 1.0000e-04, Train Loss: 0.2047, Train Acc: 0.9319, Train Latency: 23.94s, Memory Usage: 3110.0KB\n",
            "Test Loss: 0.3289, Test Acc: 0.8916, Test Latency: 2.35s, Test Memory Usage: 194.0KB\n",
            "\n",
            "Epoch 192\n"
          ]
        },
        {
          "name": "stderr",
          "output_type": "stream",
          "text": [
            "Train: 100%|##########################| 391/391 [00:24<00:00, 16.12batch/s]\n"
          ]
        },
        {
          "name": "stdout",
          "output_type": "stream",
          "text": [
            "LR: 1.0000e-04, Train Loss: 0.2057, Train Acc: 0.9308, Train Latency: 24.26s, Memory Usage: 3110.0KB\n",
            "Test Loss: 0.3509, Test Acc: 0.8819, Test Latency: 2.38s, Test Memory Usage: 194.0KB\n",
            "\n",
            "Epoch 193\n"
          ]
        },
        {
          "name": "stderr",
          "output_type": "stream",
          "text": [
            "Train: 100%|##########################| 391/391 [00:24<00:00, 16.22batch/s]\n"
          ]
        },
        {
          "name": "stdout",
          "output_type": "stream",
          "text": [
            "LR: 1.0000e-04, Train Loss: 0.2060, Train Acc: 0.9309, Train Latency: 24.11s, Memory Usage: 3110.0KB\n",
            "Test Loss: 0.3605, Test Acc: 0.8825, Test Latency: 2.37s, Test Memory Usage: 194.0KB\n",
            "\n",
            "Epoch 194\n"
          ]
        },
        {
          "name": "stderr",
          "output_type": "stream",
          "text": [
            "Train: 100%|##########################| 391/391 [00:24<00:00, 16.19batch/s]\n"
          ]
        },
        {
          "name": "stdout",
          "output_type": "stream",
          "text": [
            "LR: 1.0000e-04, Train Loss: 0.2077, Train Acc: 0.9303, Train Latency: 24.16s, Memory Usage: 3110.0KB\n",
            "Test Loss: 0.3303, Test Acc: 0.8919, Test Latency: 2.37s, Test Memory Usage: 194.0KB\n",
            "\n",
            "Epoch 195\n"
          ]
        },
        {
          "name": "stderr",
          "output_type": "stream",
          "text": [
            "Train: 100%|##########################| 391/391 [00:21<00:00, 17.85batch/s]\n"
          ]
        },
        {
          "name": "stdout",
          "output_type": "stream",
          "text": [
            "LR: 1.0000e-04, Train Loss: 0.2050, Train Acc: 0.9311, Train Latency: 21.91s, Memory Usage: 3110.0KB\n",
            "Test Loss: 0.3381, Test Acc: 0.8849, Test Latency: 2.36s, Test Memory Usage: 194.0KB\n",
            "\n",
            "Epoch 196\n"
          ]
        },
        {
          "name": "stderr",
          "output_type": "stream",
          "text": [
            "Train: 100%|##########################| 391/391 [00:22<00:00, 17.63batch/s]\n"
          ]
        },
        {
          "name": "stdout",
          "output_type": "stream",
          "text": [
            "LR: 1.0000e-04, Train Loss: 0.2042, Train Acc: 0.9308, Train Latency: 22.18s, Memory Usage: 3110.0KB\n",
            "Test Loss: 0.3562, Test Acc: 0.8834, Test Latency: 2.38s, Test Memory Usage: 194.0KB\n",
            "\n",
            "Epoch 197\n"
          ]
        },
        {
          "name": "stderr",
          "output_type": "stream",
          "text": [
            "Train: 100%|##########################| 391/391 [00:24<00:00, 16.15batch/s]\n"
          ]
        },
        {
          "name": "stdout",
          "output_type": "stream",
          "text": [
            "LR: 1.0000e-04, Train Loss: 0.2050, Train Acc: 0.9307, Train Latency: 24.22s, Memory Usage: 3110.0KB\n",
            "Test Loss: 0.3384, Test Acc: 0.8860, Test Latency: 2.36s, Test Memory Usage: 194.0KB\n",
            "\n",
            "Epoch 198\n"
          ]
        },
        {
          "name": "stderr",
          "output_type": "stream",
          "text": [
            "Train: 100%|##########################| 391/391 [00:24<00:00, 16.24batch/s]\n"
          ]
        },
        {
          "name": "stdout",
          "output_type": "stream",
          "text": [
            "LR: 1.0000e-04, Train Loss: 0.2033, Train Acc: 0.9309, Train Latency: 24.08s, Memory Usage: 3110.0KB\n",
            "Test Loss: 0.3515, Test Acc: 0.8832, Test Latency: 2.39s, Test Memory Usage: 194.0KB\n",
            "\n",
            "Epoch 199\n"
          ]
        },
        {
          "name": "stderr",
          "output_type": "stream",
          "text": [
            "Train: 100%|##########################| 391/391 [00:22<00:00, 17.71batch/s]\n"
          ]
        },
        {
          "name": "stdout",
          "output_type": "stream",
          "text": [
            "LR: 1.0000e-04, Train Loss: 0.2034, Train Acc: 0.9320, Train Latency: 22.09s, Memory Usage: 3110.0KB\n",
            "Test Loss: 0.3578, Test Acc: 0.8819, Test Latency: 2.09s, Test Memory Usage: 194.0KB\n",
            "\n",
            "Epoch 200\n"
          ]
        },
        {
          "name": "stderr",
          "output_type": "stream",
          "text": [
            "Train: 100%|##########################| 391/391 [00:23<00:00, 16.99batch/s]\n"
          ]
        },
        {
          "name": "stdout",
          "output_type": "stream",
          "text": [
            "LR: 1.0000e-04, Train Loss: 0.2058, Train Acc: 0.9316, Train Latency: 23.01s, Memory Usage: 3110.0KB\n",
            "Test Loss: 0.3811, Test Acc: 0.8734, Test Latency: 2.37s, Test Memory Usage: 194.0KB\n",
            "Saving final epoch model ...\n"
          ]
        }
      ],
      "source": [
        "train(w_nbits=1, a_nbits=None, lambda_val=0.001)"
      ]
    },
    {
      "cell_type": "code",
      "execution_count": 10,
      "metadata": {},
      "outputs": [
        {
          "name": "stdout",
          "output_type": "stream",
          "text": [
            "\n",
            "Quantization: weight=1 activation=None threshold=0.004, Using device: cuda\n",
            "\n",
            "Epoch 1\n"
          ]
        },
        {
          "name": "stderr",
          "output_type": "stream",
          "text": [
            "Train: 100%|##########################| 391/391 [00:24<00:00, 16.09batch/s]\n"
          ]
        },
        {
          "name": "stdout",
          "output_type": "stream",
          "text": [
            "LR: 1.0000e-01, Train Loss: 1.6290, Train Acc: 0.3959, Train Latency: 24.30s, Memory Usage: 3110.0KB\n",
            "Test Loss: 1.7522, Test Acc: 0.3924, Test Latency: 2.37s, Test Memory Usage: 194.0KB\n",
            "\n",
            "Epoch 2\n"
          ]
        },
        {
          "name": "stderr",
          "output_type": "stream",
          "text": [
            "Train: 100%|##########################| 391/391 [00:22<00:00, 17.04batch/s]\n"
          ]
        },
        {
          "name": "stdout",
          "output_type": "stream",
          "text": [
            "LR: 1.0000e-01, Train Loss: 1.1903, Train Acc: 0.5690, Train Latency: 22.95s, Memory Usage: 3110.0KB\n",
            "Test Loss: 1.3331, Test Acc: 0.5323, Test Latency: 2.10s, Test Memory Usage: 194.0KB\n",
            "\n",
            "Epoch 3\n"
          ]
        },
        {
          "name": "stderr",
          "output_type": "stream",
          "text": [
            "Train: 100%|##########################| 391/391 [00:23<00:00, 16.73batch/s]\n"
          ]
        },
        {
          "name": "stdout",
          "output_type": "stream",
          "text": [
            "LR: 1.0000e-01, Train Loss: 1.0054, Train Acc: 0.6428, Train Latency: 23.37s, Memory Usage: 3110.0KB\n",
            "Test Loss: 1.1351, Test Acc: 0.5930, Test Latency: 2.08s, Test Memory Usage: 194.0KB\n",
            "\n",
            "Epoch 4\n"
          ]
        },
        {
          "name": "stderr",
          "output_type": "stream",
          "text": [
            "Train: 100%|##########################| 391/391 [00:22<00:00, 17.23batch/s]\n"
          ]
        },
        {
          "name": "stdout",
          "output_type": "stream",
          "text": [
            "LR: 1.0000e-01, Train Loss: 0.9082, Train Acc: 0.6838, Train Latency: 22.70s, Memory Usage: 3110.0KB\n",
            "Test Loss: 1.1606, Test Acc: 0.5999, Test Latency: 2.11s, Test Memory Usage: 194.0KB\n",
            "\n",
            "Epoch 5\n"
          ]
        },
        {
          "name": "stderr",
          "output_type": "stream",
          "text": [
            "Train: 100%|##########################| 391/391 [00:20<00:00, 19.04batch/s]\n"
          ]
        },
        {
          "name": "stdout",
          "output_type": "stream",
          "text": [
            "LR: 1.0000e-01, Train Loss: 0.8559, Train Acc: 0.7012, Train Latency: 20.54s, Memory Usage: 3110.0KB\n",
            "Test Loss: 1.0594, Test Acc: 0.6418, Test Latency: 2.37s, Test Memory Usage: 194.0KB\n",
            "\n",
            "Epoch 6\n"
          ]
        },
        {
          "name": "stderr",
          "output_type": "stream",
          "text": [
            "Train: 100%|##########################| 391/391 [00:24<00:00, 16.07batch/s]\n"
          ]
        },
        {
          "name": "stdout",
          "output_type": "stream",
          "text": [
            "LR: 1.0000e-01, Train Loss: 0.8193, Train Acc: 0.7172, Train Latency: 24.34s, Memory Usage: 3110.0KB\n",
            "Test Loss: 1.1777, Test Acc: 0.6137, Test Latency: 2.37s, Test Memory Usage: 194.0KB\n",
            "\n",
            "Epoch 7\n"
          ]
        },
        {
          "name": "stderr",
          "output_type": "stream",
          "text": [
            "Train: 100%|##########################| 391/391 [00:24<00:00, 16.07batch/s]\n"
          ]
        },
        {
          "name": "stdout",
          "output_type": "stream",
          "text": [
            "LR: 1.0000e-01, Train Loss: 0.7979, Train Acc: 0.7241, Train Latency: 24.34s, Memory Usage: 3110.0KB\n",
            "Test Loss: 0.9920, Test Acc: 0.6674, Test Latency: 2.38s, Test Memory Usage: 194.0KB\n",
            "\n",
            "Epoch 8\n"
          ]
        },
        {
          "name": "stderr",
          "output_type": "stream",
          "text": [
            "Train: 100%|##########################| 391/391 [00:22<00:00, 17.01batch/s]\n"
          ]
        },
        {
          "name": "stdout",
          "output_type": "stream",
          "text": [
            "LR: 1.0000e-01, Train Loss: 0.7718, Train Acc: 0.7333, Train Latency: 22.99s, Memory Usage: 3110.0KB\n",
            "Test Loss: 0.9391, Test Acc: 0.6774, Test Latency: 2.16s, Test Memory Usage: 194.0KB\n",
            "\n",
            "Epoch 9\n"
          ]
        },
        {
          "name": "stderr",
          "output_type": "stream",
          "text": [
            "Train: 100%|##########################| 391/391 [00:24<00:00, 16.08batch/s]\n"
          ]
        },
        {
          "name": "stdout",
          "output_type": "stream",
          "text": [
            "LR: 1.0000e-01, Train Loss: 0.7623, Train Acc: 0.7371, Train Latency: 24.31s, Memory Usage: 3110.0KB\n",
            "Test Loss: 1.2359, Test Acc: 0.6060, Test Latency: 2.37s, Test Memory Usage: 194.0KB\n",
            "\n",
            "Epoch 10\n"
          ]
        },
        {
          "name": "stderr",
          "output_type": "stream",
          "text": [
            "Train: 100%|##########################| 391/391 [00:24<00:00, 16.27batch/s]\n"
          ]
        },
        {
          "name": "stdout",
          "output_type": "stream",
          "text": [
            "LR: 1.0000e-01, Train Loss: 0.7665, Train Acc: 0.7353, Train Latency: 24.04s, Memory Usage: 3110.0KB\n",
            "Test Loss: 1.2134, Test Acc: 0.6309, Test Latency: 2.37s, Test Memory Usage: 194.0KB\n",
            "\n",
            "Epoch 11\n"
          ]
        },
        {
          "name": "stderr",
          "output_type": "stream",
          "text": [
            "Train: 100%|##########################| 391/391 [00:24<00:00, 16.09batch/s]\n"
          ]
        },
        {
          "name": "stdout",
          "output_type": "stream",
          "text": [
            "LR: 1.0000e-01, Train Loss: 0.7543, Train Acc: 0.7398, Train Latency: 24.31s, Memory Usage: 3110.0KB\n",
            "Test Loss: 1.3938, Test Acc: 0.5719, Test Latency: 2.37s, Test Memory Usage: 194.0KB\n",
            "\n",
            "Epoch 12\n"
          ]
        },
        {
          "name": "stderr",
          "output_type": "stream",
          "text": [
            "Train: 100%|##########################| 391/391 [00:22<00:00, 17.51batch/s]\n"
          ]
        },
        {
          "name": "stdout",
          "output_type": "stream",
          "text": [
            "LR: 1.0000e-01, Train Loss: 0.7411, Train Acc: 0.7452, Train Latency: 22.33s, Memory Usage: 3110.0KB\n",
            "Test Loss: 1.4541, Test Acc: 0.5923, Test Latency: 2.08s, Test Memory Usage: 194.0KB\n",
            "\n",
            "Epoch 13\n"
          ]
        },
        {
          "name": "stderr",
          "output_type": "stream",
          "text": [
            "Train: 100%|##########################| 391/391 [00:22<00:00, 17.21batch/s]\n"
          ]
        },
        {
          "name": "stdout",
          "output_type": "stream",
          "text": [
            "LR: 1.0000e-01, Train Loss: 0.7428, Train Acc: 0.7442, Train Latency: 22.72s, Memory Usage: 3110.0KB\n",
            "Test Loss: 1.0494, Test Acc: 0.6465, Test Latency: 2.38s, Test Memory Usage: 194.0KB\n",
            "\n",
            "Epoch 14\n"
          ]
        },
        {
          "name": "stderr",
          "output_type": "stream",
          "text": [
            "Train: 100%|##########################| 391/391 [00:24<00:00, 16.07batch/s]\n"
          ]
        },
        {
          "name": "stdout",
          "output_type": "stream",
          "text": [
            "LR: 1.0000e-01, Train Loss: 0.7334, Train Acc: 0.7487, Train Latency: 24.34s, Memory Usage: 3110.0KB\n",
            "Test Loss: 1.1038, Test Acc: 0.6297, Test Latency: 2.38s, Test Memory Usage: 194.0KB\n",
            "\n",
            "Epoch 15\n"
          ]
        },
        {
          "name": "stderr",
          "output_type": "stream",
          "text": [
            "Train: 100%|##########################| 391/391 [00:23<00:00, 16.50batch/s]\n"
          ]
        },
        {
          "name": "stdout",
          "output_type": "stream",
          "text": [
            "LR: 1.0000e-01, Train Loss: 0.7269, Train Acc: 0.7492, Train Latency: 23.70s, Memory Usage: 3110.0KB\n",
            "Test Loss: 1.1130, Test Acc: 0.6387, Test Latency: 2.37s, Test Memory Usage: 194.0KB\n",
            "\n",
            "Epoch 16\n"
          ]
        },
        {
          "name": "stderr",
          "output_type": "stream",
          "text": [
            "Train: 100%|##########################| 391/391 [00:22<00:00, 17.14batch/s]\n"
          ]
        },
        {
          "name": "stdout",
          "output_type": "stream",
          "text": [
            "LR: 1.0000e-01, Train Loss: 0.7202, Train Acc: 0.7541, Train Latency: 22.81s, Memory Usage: 3110.0KB\n",
            "Test Loss: 0.9578, Test Acc: 0.6892, Test Latency: 2.38s, Test Memory Usage: 194.0KB\n",
            "\n",
            "Epoch 17\n"
          ]
        },
        {
          "name": "stderr",
          "output_type": "stream",
          "text": [
            "Train: 100%|##########################| 391/391 [00:21<00:00, 17.82batch/s]\n"
          ]
        },
        {
          "name": "stdout",
          "output_type": "stream",
          "text": [
            "LR: 1.0000e-01, Train Loss: 0.7246, Train Acc: 0.7512, Train Latency: 21.94s, Memory Usage: 3110.0KB\n",
            "Test Loss: 1.1609, Test Acc: 0.6249, Test Latency: 2.37s, Test Memory Usage: 194.0KB\n",
            "\n",
            "Epoch 18\n"
          ]
        },
        {
          "name": "stderr",
          "output_type": "stream",
          "text": [
            "Train: 100%|##########################| 391/391 [00:24<00:00, 16.17batch/s]\n"
          ]
        },
        {
          "name": "stdout",
          "output_type": "stream",
          "text": [
            "LR: 1.0000e-01, Train Loss: 0.7177, Train Acc: 0.7546, Train Latency: 24.19s, Memory Usage: 3110.0KB\n",
            "Test Loss: 1.3566, Test Acc: 0.5903, Test Latency: 2.34s, Test Memory Usage: 194.0KB\n",
            "\n",
            "Epoch 19\n"
          ]
        },
        {
          "name": "stderr",
          "output_type": "stream",
          "text": [
            "Train: 100%|##########################| 391/391 [00:23<00:00, 16.34batch/s]\n"
          ]
        },
        {
          "name": "stdout",
          "output_type": "stream",
          "text": [
            "LR: 1.0000e-01, Train Loss: 0.7173, Train Acc: 0.7539, Train Latency: 23.93s, Memory Usage: 3110.0KB\n",
            "Test Loss: 1.1673, Test Acc: 0.6516, Test Latency: 2.38s, Test Memory Usage: 194.0KB\n",
            "\n",
            "Epoch 20\n"
          ]
        },
        {
          "name": "stderr",
          "output_type": "stream",
          "text": [
            "Train: 100%|##########################| 391/391 [00:24<00:00, 16.05batch/s]\n"
          ]
        },
        {
          "name": "stdout",
          "output_type": "stream",
          "text": [
            "LR: 1.0000e-01, Train Loss: 0.7127, Train Acc: 0.7537, Train Latency: 24.37s, Memory Usage: 3110.0KB\n",
            "Test Loss: 0.9313, Test Acc: 0.6934, Test Latency: 2.38s, Test Memory Usage: 194.0KB\n",
            "\n",
            "Epoch 21\n"
          ]
        },
        {
          "name": "stderr",
          "output_type": "stream",
          "text": [
            "Train: 100%|##########################| 391/391 [00:24<00:00, 15.89batch/s]\n"
          ]
        },
        {
          "name": "stdout",
          "output_type": "stream",
          "text": [
            "LR: 1.0000e-01, Train Loss: 0.7148, Train Acc: 0.7514, Train Latency: 24.60s, Memory Usage: 3110.0KB\n",
            "Test Loss: 1.2230, Test Acc: 0.6059, Test Latency: 2.38s, Test Memory Usage: 194.0KB\n",
            "\n",
            "Epoch 22\n"
          ]
        },
        {
          "name": "stderr",
          "output_type": "stream",
          "text": [
            "Train: 100%|##########################| 391/391 [00:23<00:00, 16.35batch/s]\n"
          ]
        },
        {
          "name": "stdout",
          "output_type": "stream",
          "text": [
            "LR: 1.0000e-01, Train Loss: 0.7132, Train Acc: 0.7561, Train Latency: 23.92s, Memory Usage: 3110.0KB\n",
            "Test Loss: 0.8960, Test Acc: 0.6989, Test Latency: 2.40s, Test Memory Usage: 194.0KB\n",
            "\n",
            "Epoch 23\n"
          ]
        },
        {
          "name": "stderr",
          "output_type": "stream",
          "text": [
            "Train: 100%|##########################| 391/391 [00:23<00:00, 16.45batch/s]\n"
          ]
        },
        {
          "name": "stdout",
          "output_type": "stream",
          "text": [
            "LR: 1.0000e-01, Train Loss: 0.7071, Train Acc: 0.7568, Train Latency: 23.77s, Memory Usage: 3110.0KB\n",
            "Test Loss: 0.8931, Test Acc: 0.6913, Test Latency: 2.37s, Test Memory Usage: 194.0KB\n",
            "\n",
            "Epoch 24\n"
          ]
        },
        {
          "name": "stderr",
          "output_type": "stream",
          "text": [
            "Train: 100%|##########################| 391/391 [00:24<00:00, 16.16batch/s]\n"
          ]
        },
        {
          "name": "stdout",
          "output_type": "stream",
          "text": [
            "LR: 1.0000e-01, Train Loss: 0.7082, Train Acc: 0.7554, Train Latency: 24.19s, Memory Usage: 3110.0KB\n",
            "Test Loss: 0.8720, Test Acc: 0.7031, Test Latency: 2.38s, Test Memory Usage: 194.0KB\n",
            "\n",
            "Epoch 25\n"
          ]
        },
        {
          "name": "stderr",
          "output_type": "stream",
          "text": [
            "Train: 100%|##########################| 391/391 [00:24<00:00, 16.12batch/s]\n"
          ]
        },
        {
          "name": "stdout",
          "output_type": "stream",
          "text": [
            "LR: 1.0000e-01, Train Loss: 0.7075, Train Acc: 0.7555, Train Latency: 24.26s, Memory Usage: 3110.0KB\n",
            "Test Loss: 1.0089, Test Acc: 0.6708, Test Latency: 2.38s, Test Memory Usage: 194.0KB\n",
            "\n",
            "Epoch 26\n"
          ]
        },
        {
          "name": "stderr",
          "output_type": "stream",
          "text": [
            "Train: 100%|##########################| 391/391 [00:23<00:00, 16.54batch/s]\n"
          ]
        },
        {
          "name": "stdout",
          "output_type": "stream",
          "text": [
            "LR: 1.0000e-01, Train Loss: 0.7065, Train Acc: 0.7583, Train Latency: 23.64s, Memory Usage: 3110.0KB\n",
            "Test Loss: 0.9830, Test Acc: 0.6796, Test Latency: 2.08s, Test Memory Usage: 194.0KB\n",
            "\n",
            "Epoch 27\n"
          ]
        },
        {
          "name": "stderr",
          "output_type": "stream",
          "text": [
            "Train: 100%|##########################| 391/391 [00:22<00:00, 17.01batch/s]\n"
          ]
        },
        {
          "name": "stdout",
          "output_type": "stream",
          "text": [
            "LR: 1.0000e-01, Train Loss: 0.7053, Train Acc: 0.7568, Train Latency: 22.99s, Memory Usage: 3110.0KB\n",
            "Test Loss: 1.5690, Test Acc: 0.5590, Test Latency: 2.08s, Test Memory Usage: 194.0KB\n",
            "\n",
            "Epoch 28\n"
          ]
        },
        {
          "name": "stderr",
          "output_type": "stream",
          "text": [
            "Train: 100%|##########################| 391/391 [00:24<00:00, 16.27batch/s]\n"
          ]
        },
        {
          "name": "stdout",
          "output_type": "stream",
          "text": [
            "LR: 1.0000e-01, Train Loss: 0.7015, Train Acc: 0.7588, Train Latency: 24.03s, Memory Usage: 3110.0KB\n",
            "Test Loss: 1.4758, Test Acc: 0.5580, Test Latency: 2.37s, Test Memory Usage: 194.0KB\n",
            "\n",
            "Epoch 29\n"
          ]
        },
        {
          "name": "stderr",
          "output_type": "stream",
          "text": [
            "Train: 100%|##########################| 391/391 [00:23<00:00, 16.51batch/s]\n"
          ]
        },
        {
          "name": "stdout",
          "output_type": "stream",
          "text": [
            "LR: 1.0000e-01, Train Loss: 0.7078, Train Acc: 0.7579, Train Latency: 23.69s, Memory Usage: 3110.0KB\n",
            "Test Loss: 1.3749, Test Acc: 0.5542, Test Latency: 2.39s, Test Memory Usage: 194.0KB\n",
            "\n",
            "Epoch 30\n"
          ]
        },
        {
          "name": "stderr",
          "output_type": "stream",
          "text": [
            "Train: 100%|##########################| 391/391 [00:23<00:00, 16.33batch/s]\n"
          ]
        },
        {
          "name": "stdout",
          "output_type": "stream",
          "text": [
            "LR: 1.0000e-01, Train Loss: 0.6953, Train Acc: 0.7615, Train Latency: 23.95s, Memory Usage: 3110.0KB\n",
            "Test Loss: 1.3695, Test Acc: 0.5799, Test Latency: 2.38s, Test Memory Usage: 194.0KB\n",
            "\n",
            "Epoch 31\n"
          ]
        },
        {
          "name": "stderr",
          "output_type": "stream",
          "text": [
            "Train: 100%|##########################| 391/391 [00:24<00:00, 16.15batch/s]\n"
          ]
        },
        {
          "name": "stdout",
          "output_type": "stream",
          "text": [
            "LR: 1.0000e-01, Train Loss: 0.7028, Train Acc: 0.7562, Train Latency: 24.22s, Memory Usage: 3110.0KB\n",
            "Test Loss: 0.9861, Test Acc: 0.6781, Test Latency: 2.36s, Test Memory Usage: 194.0KB\n",
            "\n",
            "Epoch 32\n"
          ]
        },
        {
          "name": "stderr",
          "output_type": "stream",
          "text": [
            "Train: 100%|##########################| 391/391 [00:24<00:00, 16.19batch/s]\n"
          ]
        },
        {
          "name": "stdout",
          "output_type": "stream",
          "text": [
            "LR: 1.0000e-01, Train Loss: 0.6916, Train Acc: 0.7610, Train Latency: 24.15s, Memory Usage: 3110.0KB\n",
            "Test Loss: 0.9412, Test Acc: 0.6755, Test Latency: 2.36s, Test Memory Usage: 194.0KB\n",
            "\n",
            "Epoch 33\n"
          ]
        },
        {
          "name": "stderr",
          "output_type": "stream",
          "text": [
            "Train: 100%|##########################| 391/391 [00:24<00:00, 16.02batch/s]\n"
          ]
        },
        {
          "name": "stdout",
          "output_type": "stream",
          "text": [
            "LR: 1.0000e-01, Train Loss: 0.7012, Train Acc: 0.7584, Train Latency: 24.41s, Memory Usage: 3110.0KB\n",
            "Test Loss: 1.4702, Test Acc: 0.5260, Test Latency: 2.36s, Test Memory Usage: 194.0KB\n",
            "\n",
            "Epoch 34\n"
          ]
        },
        {
          "name": "stderr",
          "output_type": "stream",
          "text": [
            "Train: 100%|##########################| 391/391 [00:23<00:00, 16.30batch/s]\n"
          ]
        },
        {
          "name": "stdout",
          "output_type": "stream",
          "text": [
            "LR: 1.0000e-01, Train Loss: 0.6908, Train Acc: 0.7642, Train Latency: 23.99s, Memory Usage: 3110.0KB\n",
            "Test Loss: 1.2026, Test Acc: 0.6117, Test Latency: 2.39s, Test Memory Usage: 194.0KB\n",
            "\n",
            "Epoch 35\n"
          ]
        },
        {
          "name": "stderr",
          "output_type": "stream",
          "text": [
            "Train: 100%|##########################| 391/391 [00:23<00:00, 16.38batch/s]\n"
          ]
        },
        {
          "name": "stdout",
          "output_type": "stream",
          "text": [
            "LR: 1.0000e-01, Train Loss: 0.6995, Train Acc: 0.7592, Train Latency: 23.87s, Memory Usage: 3110.0KB\n",
            "Test Loss: 1.1988, Test Acc: 0.6156, Test Latency: 2.09s, Test Memory Usage: 194.0KB\n",
            "\n",
            "Epoch 36\n"
          ]
        },
        {
          "name": "stderr",
          "output_type": "stream",
          "text": [
            "Train: 100%|##########################| 391/391 [00:21<00:00, 18.20batch/s]\n"
          ]
        },
        {
          "name": "stdout",
          "output_type": "stream",
          "text": [
            "LR: 1.0000e-01, Train Loss: 0.6929, Train Acc: 0.7615, Train Latency: 21.48s, Memory Usage: 3110.0KB\n",
            "Test Loss: 1.5517, Test Acc: 0.5872, Test Latency: 2.08s, Test Memory Usage: 194.0KB\n",
            "\n",
            "Epoch 37\n"
          ]
        },
        {
          "name": "stderr",
          "output_type": "stream",
          "text": [
            "Train: 100%|##########################| 391/391 [00:22<00:00, 17.25batch/s]\n"
          ]
        },
        {
          "name": "stdout",
          "output_type": "stream",
          "text": [
            "LR: 1.0000e-01, Train Loss: 0.6958, Train Acc: 0.7616, Train Latency: 22.67s, Memory Usage: 3110.0KB\n",
            "Test Loss: 1.0699, Test Acc: 0.6556, Test Latency: 2.37s, Test Memory Usage: 194.0KB\n",
            "\n",
            "Epoch 38\n"
          ]
        },
        {
          "name": "stderr",
          "output_type": "stream",
          "text": [
            "Train: 100%|##########################| 391/391 [00:23<00:00, 16.65batch/s]\n"
          ]
        },
        {
          "name": "stdout",
          "output_type": "stream",
          "text": [
            "LR: 1.0000e-01, Train Loss: 0.7020, Train Acc: 0.7580, Train Latency: 23.49s, Memory Usage: 3110.0KB\n",
            "Test Loss: 1.0837, Test Acc: 0.6490, Test Latency: 2.07s, Test Memory Usage: 194.0KB\n",
            "\n",
            "Epoch 39\n"
          ]
        },
        {
          "name": "stderr",
          "output_type": "stream",
          "text": [
            "Train: 100%|##########################| 391/391 [00:23<00:00, 16.92batch/s]\n"
          ]
        },
        {
          "name": "stdout",
          "output_type": "stream",
          "text": [
            "LR: 1.0000e-01, Train Loss: 0.6848, Train Acc: 0.7635, Train Latency: 23.11s, Memory Usage: 3110.0KB\n",
            "Test Loss: 1.2049, Test Acc: 0.6071, Test Latency: 2.09s, Test Memory Usage: 194.0KB\n",
            "\n",
            "Epoch 40\n"
          ]
        },
        {
          "name": "stderr",
          "output_type": "stream",
          "text": [
            "Train: 100%|##########################| 391/391 [00:24<00:00, 16.15batch/s]\n"
          ]
        },
        {
          "name": "stdout",
          "output_type": "stream",
          "text": [
            "LR: 1.0000e-01, Train Loss: 0.6914, Train Acc: 0.7600, Train Latency: 24.22s, Memory Usage: 3110.0KB\n",
            "Test Loss: 1.6226, Test Acc: 0.5239, Test Latency: 2.35s, Test Memory Usage: 194.0KB\n",
            "\n",
            "Epoch 41\n"
          ]
        },
        {
          "name": "stderr",
          "output_type": "stream",
          "text": [
            "Train: 100%|##########################| 391/391 [00:24<00:00, 16.10batch/s]\n"
          ]
        },
        {
          "name": "stdout",
          "output_type": "stream",
          "text": [
            "LR: 1.0000e-01, Train Loss: 0.6973, Train Acc: 0.7593, Train Latency: 24.28s, Memory Usage: 3110.0KB\n",
            "Test Loss: 1.0352, Test Acc: 0.6683, Test Latency: 2.38s, Test Memory Usage: 194.0KB\n",
            "\n",
            "Epoch 42\n"
          ]
        },
        {
          "name": "stderr",
          "output_type": "stream",
          "text": [
            "Train: 100%|##########################| 391/391 [00:24<00:00, 16.20batch/s]\n"
          ]
        },
        {
          "name": "stdout",
          "output_type": "stream",
          "text": [
            "LR: 1.0000e-01, Train Loss: 0.6940, Train Acc: 0.7621, Train Latency: 24.15s, Memory Usage: 3110.0KB\n",
            "Test Loss: 1.4397, Test Acc: 0.5164, Test Latency: 2.36s, Test Memory Usage: 194.0KB\n",
            "\n",
            "Epoch 43\n"
          ]
        },
        {
          "name": "stderr",
          "output_type": "stream",
          "text": [
            "Train: 100%|##########################| 391/391 [00:21<00:00, 18.38batch/s]\n"
          ]
        },
        {
          "name": "stdout",
          "output_type": "stream",
          "text": [
            "LR: 1.0000e-01, Train Loss: 0.6872, Train Acc: 0.7641, Train Latency: 21.28s, Memory Usage: 3110.0KB\n",
            "Test Loss: 1.6471, Test Acc: 0.5784, Test Latency: 2.36s, Test Memory Usage: 194.0KB\n",
            "\n",
            "Epoch 44\n"
          ]
        },
        {
          "name": "stderr",
          "output_type": "stream",
          "text": [
            "Train: 100%|##########################| 391/391 [00:23<00:00, 16.37batch/s]\n"
          ]
        },
        {
          "name": "stdout",
          "output_type": "stream",
          "text": [
            "LR: 1.0000e-01, Train Loss: 0.6928, Train Acc: 0.7602, Train Latency: 23.88s, Memory Usage: 3110.0KB\n",
            "Test Loss: 1.5369, Test Acc: 0.5413, Test Latency: 2.36s, Test Memory Usage: 194.0KB\n",
            "\n",
            "Epoch 45\n"
          ]
        },
        {
          "name": "stderr",
          "output_type": "stream",
          "text": [
            "Train: 100%|##########################| 391/391 [00:23<00:00, 16.61batch/s]\n"
          ]
        },
        {
          "name": "stdout",
          "output_type": "stream",
          "text": [
            "LR: 1.0000e-01, Train Loss: 0.6921, Train Acc: 0.7610, Train Latency: 23.54s, Memory Usage: 3110.0KB\n",
            "Test Loss: 0.9556, Test Acc: 0.6788, Test Latency: 2.36s, Test Memory Usage: 194.0KB\n",
            "\n",
            "Epoch 46\n"
          ]
        },
        {
          "name": "stderr",
          "output_type": "stream",
          "text": [
            "Train: 100%|##########################| 391/391 [00:24<00:00, 16.20batch/s]\n"
          ]
        },
        {
          "name": "stdout",
          "output_type": "stream",
          "text": [
            "LR: 1.0000e-01, Train Loss: 0.6932, Train Acc: 0.7629, Train Latency: 24.14s, Memory Usage: 3110.0KB\n",
            "Test Loss: 1.3852, Test Acc: 0.5883, Test Latency: 2.35s, Test Memory Usage: 194.0KB\n",
            "\n",
            "Epoch 47\n"
          ]
        },
        {
          "name": "stderr",
          "output_type": "stream",
          "text": [
            "Train: 100%|##########################| 391/391 [00:22<00:00, 17.66batch/s]\n"
          ]
        },
        {
          "name": "stdout",
          "output_type": "stream",
          "text": [
            "LR: 1.0000e-01, Train Loss: 0.6901, Train Acc: 0.7628, Train Latency: 22.15s, Memory Usage: 3110.0KB\n",
            "Test Loss: 1.2544, Test Acc: 0.6119, Test Latency: 2.38s, Test Memory Usage: 194.0KB\n",
            "\n",
            "Epoch 48\n"
          ]
        },
        {
          "name": "stderr",
          "output_type": "stream",
          "text": [
            "Train: 100%|##########################| 391/391 [00:24<00:00, 16.13batch/s]\n"
          ]
        },
        {
          "name": "stdout",
          "output_type": "stream",
          "text": [
            "LR: 1.0000e-01, Train Loss: 0.6962, Train Acc: 0.7606, Train Latency: 24.25s, Memory Usage: 3110.0KB\n",
            "Test Loss: 1.0292, Test Acc: 0.6744, Test Latency: 2.36s, Test Memory Usage: 194.0KB\n",
            "\n",
            "Epoch 49\n"
          ]
        },
        {
          "name": "stderr",
          "output_type": "stream",
          "text": [
            "Train: 100%|##########################| 391/391 [00:24<00:00, 16.02batch/s]\n"
          ]
        },
        {
          "name": "stdout",
          "output_type": "stream",
          "text": [
            "LR: 1.0000e-01, Train Loss: 0.6863, Train Acc: 0.7641, Train Latency: 24.42s, Memory Usage: 3110.0KB\n",
            "Test Loss: 0.8343, Test Acc: 0.7134, Test Latency: 2.37s, Test Memory Usage: 194.0KB\n",
            "\n",
            "Epoch 50\n"
          ]
        },
        {
          "name": "stderr",
          "output_type": "stream",
          "text": [
            "Train: 100%|##########################| 391/391 [00:24<00:00, 16.12batch/s]\n"
          ]
        },
        {
          "name": "stdout",
          "output_type": "stream",
          "text": [
            "LR: 1.0000e-01, Train Loss: 0.6913, Train Acc: 0.7623, Train Latency: 24.27s, Memory Usage: 3110.0KB\n",
            "Test Loss: 1.1422, Test Acc: 0.6166, Test Latency: 2.36s, Test Memory Usage: 194.0KB\n",
            "\n",
            "Epoch 51\n"
          ]
        },
        {
          "name": "stderr",
          "output_type": "stream",
          "text": [
            "Train: 100%|##########################| 391/391 [00:24<00:00, 16.13batch/s]\n"
          ]
        },
        {
          "name": "stdout",
          "output_type": "stream",
          "text": [
            "LR: 1.0000e-02, Train Loss: 0.4940, Train Acc: 0.8303, Train Latency: 24.24s, Memory Usage: 3110.0KB\n",
            "Test Loss: 0.5029, Test Acc: 0.8310, Test Latency: 2.36s, Test Memory Usage: 194.0KB\n",
            "Saving best model ...\n",
            "\n",
            "Epoch 52\n"
          ]
        },
        {
          "name": "stderr",
          "output_type": "stream",
          "text": [
            "Train: 100%|##########################| 391/391 [00:23<00:00, 16.34batch/s]\n"
          ]
        },
        {
          "name": "stdout",
          "output_type": "stream",
          "text": [
            "LR: 1.0000e-02, Train Loss: 0.4508, Train Acc: 0.8456, Train Latency: 23.93s, Memory Usage: 3110.0KB\n",
            "Test Loss: 0.4886, Test Acc: 0.8274, Test Latency: 2.35s, Test Memory Usage: 194.0KB\n",
            "\n",
            "Epoch 53\n"
          ]
        },
        {
          "name": "stderr",
          "output_type": "stream",
          "text": [
            "Train: 100%|##########################| 391/391 [00:22<00:00, 17.02batch/s]\n"
          ]
        },
        {
          "name": "stdout",
          "output_type": "stream",
          "text": [
            "LR: 1.0000e-02, Train Loss: 0.4330, Train Acc: 0.8515, Train Latency: 22.98s, Memory Usage: 3110.0KB\n",
            "Test Loss: 0.4828, Test Acc: 0.8360, Test Latency: 2.37s, Test Memory Usage: 194.0KB\n",
            "Saving best model ...\n",
            "\n",
            "Epoch 54\n"
          ]
        },
        {
          "name": "stderr",
          "output_type": "stream",
          "text": [
            "Train: 100%|##########################| 391/391 [00:23<00:00, 16.37batch/s]\n"
          ]
        },
        {
          "name": "stdout",
          "output_type": "stream",
          "text": [
            "LR: 1.0000e-02, Train Loss: 0.4262, Train Acc: 0.8538, Train Latency: 23.89s, Memory Usage: 3110.0KB\n",
            "Test Loss: 0.5129, Test Acc: 0.8219, Test Latency: 2.35s, Test Memory Usage: 194.0KB\n",
            "\n",
            "Epoch 55\n"
          ]
        },
        {
          "name": "stderr",
          "output_type": "stream",
          "text": [
            "Train: 100%|##########################| 391/391 [00:21<00:00, 18.52batch/s]\n"
          ]
        },
        {
          "name": "stdout",
          "output_type": "stream",
          "text": [
            "LR: 1.0000e-02, Train Loss: 0.4218, Train Acc: 0.8541, Train Latency: 21.12s, Memory Usage: 3110.0KB\n",
            "Test Loss: 0.4846, Test Acc: 0.8337, Test Latency: 2.36s, Test Memory Usage: 194.0KB\n",
            "\n",
            "Epoch 56\n"
          ]
        },
        {
          "name": "stderr",
          "output_type": "stream",
          "text": [
            "Train: 100%|##########################| 391/391 [00:24<00:00, 16.02batch/s]\n"
          ]
        },
        {
          "name": "stdout",
          "output_type": "stream",
          "text": [
            "LR: 1.0000e-02, Train Loss: 0.4200, Train Acc: 0.8558, Train Latency: 24.40s, Memory Usage: 3110.0KB\n",
            "Test Loss: 0.6015, Test Acc: 0.8042, Test Latency: 2.38s, Test Memory Usage: 194.0KB\n",
            "\n",
            "Epoch 57\n"
          ]
        },
        {
          "name": "stderr",
          "output_type": "stream",
          "text": [
            "Train: 100%|##########################| 391/391 [00:22<00:00, 17.34batch/s]\n"
          ]
        },
        {
          "name": "stdout",
          "output_type": "stream",
          "text": [
            "LR: 1.0000e-02, Train Loss: 0.4195, Train Acc: 0.8555, Train Latency: 22.55s, Memory Usage: 3110.0KB\n",
            "Test Loss: 0.5742, Test Acc: 0.8047, Test Latency: 2.19s, Test Memory Usage: 194.0KB\n",
            "\n",
            "Epoch 58\n"
          ]
        },
        {
          "name": "stderr",
          "output_type": "stream",
          "text": [
            "Train: 100%|##########################| 391/391 [00:24<00:00, 16.13batch/s]\n"
          ]
        },
        {
          "name": "stdout",
          "output_type": "stream",
          "text": [
            "LR: 1.0000e-02, Train Loss: 0.4185, Train Acc: 0.8559, Train Latency: 24.24s, Memory Usage: 3110.0KB\n",
            "Test Loss: 0.4856, Test Acc: 0.8373, Test Latency: 2.36s, Test Memory Usage: 194.0KB\n",
            "Saving best model ...\n",
            "\n",
            "Epoch 59\n"
          ]
        },
        {
          "name": "stderr",
          "output_type": "stream",
          "text": [
            "Train: 100%|##########################| 391/391 [00:24<00:00, 16.14batch/s]\n"
          ]
        },
        {
          "name": "stdout",
          "output_type": "stream",
          "text": [
            "LR: 1.0000e-02, Train Loss: 0.4228, Train Acc: 0.8532, Train Latency: 24.23s, Memory Usage: 3110.0KB\n",
            "Test Loss: 0.5308, Test Acc: 0.8213, Test Latency: 2.39s, Test Memory Usage: 194.0KB\n",
            "\n",
            "Epoch 60\n"
          ]
        },
        {
          "name": "stderr",
          "output_type": "stream",
          "text": [
            "Train: 100%|##########################| 391/391 [00:22<00:00, 17.43batch/s]\n"
          ]
        },
        {
          "name": "stdout",
          "output_type": "stream",
          "text": [
            "LR: 1.0000e-02, Train Loss: 0.4193, Train Acc: 0.8572, Train Latency: 22.44s, Memory Usage: 3110.0KB\n",
            "Test Loss: 0.4872, Test Acc: 0.8332, Test Latency: 2.36s, Test Memory Usage: 194.0KB\n",
            "\n",
            "Epoch 61\n"
          ]
        },
        {
          "name": "stderr",
          "output_type": "stream",
          "text": [
            "Train: 100%|##########################| 391/391 [00:24<00:00, 16.11batch/s]\n"
          ]
        },
        {
          "name": "stdout",
          "output_type": "stream",
          "text": [
            "LR: 1.0000e-02, Train Loss: 0.4181, Train Acc: 0.8564, Train Latency: 24.27s, Memory Usage: 3110.0KB\n",
            "Test Loss: 0.5915, Test Acc: 0.8017, Test Latency: 2.36s, Test Memory Usage: 194.0KB\n",
            "\n",
            "Epoch 62\n"
          ]
        },
        {
          "name": "stderr",
          "output_type": "stream",
          "text": [
            "Train: 100%|##########################| 391/391 [00:22<00:00, 17.21batch/s]\n"
          ]
        },
        {
          "name": "stdout",
          "output_type": "stream",
          "text": [
            "LR: 1.0000e-02, Train Loss: 0.4159, Train Acc: 0.8581, Train Latency: 22.72s, Memory Usage: 3110.0KB\n",
            "Test Loss: 0.4773, Test Acc: 0.8358, Test Latency: 2.12s, Test Memory Usage: 194.0KB\n",
            "\n",
            "Epoch 63\n"
          ]
        },
        {
          "name": "stderr",
          "output_type": "stream",
          "text": [
            "Train: 100%|##########################| 391/391 [00:24<00:00, 16.09batch/s]\n"
          ]
        },
        {
          "name": "stdout",
          "output_type": "stream",
          "text": [
            "LR: 1.0000e-02, Train Loss: 0.4169, Train Acc: 0.8572, Train Latency: 24.31s, Memory Usage: 3110.0KB\n",
            "Test Loss: 0.4958, Test Acc: 0.8332, Test Latency: 2.36s, Test Memory Usage: 194.0KB\n",
            "\n",
            "Epoch 64\n"
          ]
        },
        {
          "name": "stderr",
          "output_type": "stream",
          "text": [
            "Train: 100%|##########################| 391/391 [00:23<00:00, 16.35batch/s]\n"
          ]
        },
        {
          "name": "stdout",
          "output_type": "stream",
          "text": [
            "LR: 1.0000e-02, Train Loss: 0.4165, Train Acc: 0.8570, Train Latency: 23.91s, Memory Usage: 3110.0KB\n",
            "Test Loss: 0.5359, Test Acc: 0.8201, Test Latency: 2.35s, Test Memory Usage: 194.0KB\n",
            "\n",
            "Epoch 65\n"
          ]
        },
        {
          "name": "stderr",
          "output_type": "stream",
          "text": [
            "Train: 100%|##########################| 391/391 [00:24<00:00, 16.11batch/s]\n"
          ]
        },
        {
          "name": "stdout",
          "output_type": "stream",
          "text": [
            "LR: 1.0000e-02, Train Loss: 0.4155, Train Acc: 0.8580, Train Latency: 24.28s, Memory Usage: 3110.0KB\n",
            "Test Loss: 0.5215, Test Acc: 0.8176, Test Latency: 2.36s, Test Memory Usage: 194.0KB\n",
            "\n",
            "Epoch 66\n"
          ]
        },
        {
          "name": "stderr",
          "output_type": "stream",
          "text": [
            "Train: 100%|##########################| 391/391 [00:22<00:00, 17.17batch/s]\n"
          ]
        },
        {
          "name": "stdout",
          "output_type": "stream",
          "text": [
            "LR: 1.0000e-02, Train Loss: 0.4214, Train Acc: 0.8548, Train Latency: 22.77s, Memory Usage: 3110.0KB\n",
            "Test Loss: 0.5345, Test Acc: 0.8208, Test Latency: 2.09s, Test Memory Usage: 194.0KB\n",
            "\n",
            "Epoch 67\n"
          ]
        },
        {
          "name": "stderr",
          "output_type": "stream",
          "text": [
            "Train: 100%|##########################| 391/391 [00:23<00:00, 16.60batch/s]\n"
          ]
        },
        {
          "name": "stdout",
          "output_type": "stream",
          "text": [
            "LR: 1.0000e-02, Train Loss: 0.4208, Train Acc: 0.8554, Train Latency: 23.55s, Memory Usage: 3110.0KB\n",
            "Test Loss: 0.5996, Test Acc: 0.8075, Test Latency: 2.37s, Test Memory Usage: 194.0KB\n",
            "\n",
            "Epoch 68\n"
          ]
        },
        {
          "name": "stderr",
          "output_type": "stream",
          "text": [
            "Train: 100%|##########################| 391/391 [00:22<00:00, 17.04batch/s]\n"
          ]
        },
        {
          "name": "stdout",
          "output_type": "stream",
          "text": [
            "LR: 1.0000e-02, Train Loss: 0.4196, Train Acc: 0.8561, Train Latency: 22.95s, Memory Usage: 3110.0KB\n",
            "Test Loss: 0.6081, Test Acc: 0.7949, Test Latency: 2.09s, Test Memory Usage: 194.0KB\n",
            "\n",
            "Epoch 69\n"
          ]
        },
        {
          "name": "stderr",
          "output_type": "stream",
          "text": [
            "Train: 100%|##########################| 391/391 [00:22<00:00, 17.02batch/s]\n"
          ]
        },
        {
          "name": "stdout",
          "output_type": "stream",
          "text": [
            "LR: 1.0000e-02, Train Loss: 0.4147, Train Acc: 0.8578, Train Latency: 22.98s, Memory Usage: 3110.0KB\n",
            "Test Loss: 0.7023, Test Acc: 0.7801, Test Latency: 2.37s, Test Memory Usage: 194.0KB\n",
            "\n",
            "Epoch 70\n"
          ]
        },
        {
          "name": "stderr",
          "output_type": "stream",
          "text": [
            "Train: 100%|##########################| 391/391 [00:21<00:00, 17.85batch/s]\n"
          ]
        },
        {
          "name": "stdout",
          "output_type": "stream",
          "text": [
            "LR: 1.0000e-02, Train Loss: 0.4172, Train Acc: 0.8577, Train Latency: 21.91s, Memory Usage: 3110.0KB\n",
            "Test Loss: 0.5486, Test Acc: 0.8123, Test Latency: 2.11s, Test Memory Usage: 194.0KB\n",
            "\n",
            "Epoch 71\n"
          ]
        },
        {
          "name": "stderr",
          "output_type": "stream",
          "text": [
            "Train: 100%|##########################| 391/391 [00:24<00:00, 16.09batch/s]\n"
          ]
        },
        {
          "name": "stdout",
          "output_type": "stream",
          "text": [
            "LR: 1.0000e-02, Train Loss: 0.4143, Train Acc: 0.8589, Train Latency: 24.30s, Memory Usage: 3110.0KB\n",
            "Test Loss: 0.5482, Test Acc: 0.8139, Test Latency: 2.36s, Test Memory Usage: 194.0KB\n",
            "\n",
            "Epoch 72\n"
          ]
        },
        {
          "name": "stderr",
          "output_type": "stream",
          "text": [
            "Train: 100%|##########################| 391/391 [00:24<00:00, 16.09batch/s]\n"
          ]
        },
        {
          "name": "stdout",
          "output_type": "stream",
          "text": [
            "LR: 1.0000e-02, Train Loss: 0.4153, Train Acc: 0.8577, Train Latency: 24.30s, Memory Usage: 3110.0KB\n",
            "Test Loss: 0.4995, Test Acc: 0.8313, Test Latency: 2.37s, Test Memory Usage: 194.0KB\n",
            "\n",
            "Epoch 73\n"
          ]
        },
        {
          "name": "stderr",
          "output_type": "stream",
          "text": [
            "Train: 100%|##########################| 391/391 [00:24<00:00, 16.03batch/s]\n"
          ]
        },
        {
          "name": "stdout",
          "output_type": "stream",
          "text": [
            "LR: 1.0000e-02, Train Loss: 0.4171, Train Acc: 0.8558, Train Latency: 24.40s, Memory Usage: 3110.0KB\n",
            "Test Loss: 0.6117, Test Acc: 0.8019, Test Latency: 2.40s, Test Memory Usage: 194.0KB\n",
            "\n",
            "Epoch 74\n"
          ]
        },
        {
          "name": "stderr",
          "output_type": "stream",
          "text": [
            "Train: 100%|##########################| 391/391 [00:24<00:00, 15.95batch/s]\n"
          ]
        },
        {
          "name": "stdout",
          "output_type": "stream",
          "text": [
            "LR: 1.0000e-02, Train Loss: 0.4119, Train Acc: 0.8584, Train Latency: 24.51s, Memory Usage: 3110.0KB\n",
            "Test Loss: 0.5359, Test Acc: 0.8222, Test Latency: 2.39s, Test Memory Usage: 194.0KB\n",
            "\n",
            "Epoch 75\n"
          ]
        },
        {
          "name": "stderr",
          "output_type": "stream",
          "text": [
            "Train: 100%|##########################| 391/391 [00:24<00:00, 16.27batch/s]\n"
          ]
        },
        {
          "name": "stdout",
          "output_type": "stream",
          "text": [
            "LR: 1.0000e-02, Train Loss: 0.4149, Train Acc: 0.8572, Train Latency: 24.04s, Memory Usage: 3110.0KB\n",
            "Test Loss: 0.8204, Test Acc: 0.7602, Test Latency: 2.36s, Test Memory Usage: 194.0KB\n",
            "\n",
            "Epoch 76\n"
          ]
        },
        {
          "name": "stderr",
          "output_type": "stream",
          "text": [
            "Train: 100%|##########################| 391/391 [00:22<00:00, 17.14batch/s]\n"
          ]
        },
        {
          "name": "stdout",
          "output_type": "stream",
          "text": [
            "LR: 1.0000e-02, Train Loss: 0.4138, Train Acc: 0.8576, Train Latency: 22.81s, Memory Usage: 3110.0KB\n",
            "Test Loss: 0.9446, Test Acc: 0.7074, Test Latency: 2.38s, Test Memory Usage: 194.0KB\n",
            "\n",
            "Epoch 77\n"
          ]
        },
        {
          "name": "stderr",
          "output_type": "stream",
          "text": [
            "Train: 100%|##########################| 391/391 [00:24<00:00, 16.17batch/s]\n"
          ]
        },
        {
          "name": "stdout",
          "output_type": "stream",
          "text": [
            "LR: 1.0000e-02, Train Loss: 0.4094, Train Acc: 0.8600, Train Latency: 24.18s, Memory Usage: 3110.0KB\n",
            "Test Loss: 0.5337, Test Acc: 0.8253, Test Latency: 2.38s, Test Memory Usage: 194.0KB\n",
            "\n",
            "Epoch 78\n"
          ]
        },
        {
          "name": "stderr",
          "output_type": "stream",
          "text": [
            "Train: 100%|##########################| 391/391 [00:24<00:00, 16.11batch/s]\n"
          ]
        },
        {
          "name": "stdout",
          "output_type": "stream",
          "text": [
            "LR: 1.0000e-02, Train Loss: 0.4169, Train Acc: 0.8581, Train Latency: 24.27s, Memory Usage: 3110.0KB\n",
            "Test Loss: 0.5293, Test Acc: 0.8214, Test Latency: 2.34s, Test Memory Usage: 194.0KB\n",
            "\n",
            "Epoch 79\n"
          ]
        },
        {
          "name": "stderr",
          "output_type": "stream",
          "text": [
            "Train: 100%|##########################| 391/391 [00:21<00:00, 17.88batch/s]\n"
          ]
        },
        {
          "name": "stdout",
          "output_type": "stream",
          "text": [
            "LR: 1.0000e-02, Train Loss: 0.4074, Train Acc: 0.8601, Train Latency: 21.87s, Memory Usage: 3110.0KB\n",
            "Test Loss: 0.5547, Test Acc: 0.8123, Test Latency: 2.08s, Test Memory Usage: 194.0KB\n",
            "\n",
            "Epoch 80\n"
          ]
        },
        {
          "name": "stderr",
          "output_type": "stream",
          "text": [
            "Train: 100%|##########################| 391/391 [00:23<00:00, 16.39batch/s]\n"
          ]
        },
        {
          "name": "stdout",
          "output_type": "stream",
          "text": [
            "LR: 1.0000e-02, Train Loss: 0.4101, Train Acc: 0.8592, Train Latency: 23.86s, Memory Usage: 3110.0KB\n",
            "Test Loss: 0.5636, Test Acc: 0.8142, Test Latency: 2.37s, Test Memory Usage: 194.0KB\n",
            "\n",
            "Epoch 81\n"
          ]
        },
        {
          "name": "stderr",
          "output_type": "stream",
          "text": [
            "Train: 100%|##########################| 391/391 [00:22<00:00, 17.52batch/s]\n"
          ]
        },
        {
          "name": "stdout",
          "output_type": "stream",
          "text": [
            "LR: 1.0000e-02, Train Loss: 0.4112, Train Acc: 0.8595, Train Latency: 22.32s, Memory Usage: 3110.0KB\n",
            "Test Loss: 0.6357, Test Acc: 0.7894, Test Latency: 2.07s, Test Memory Usage: 194.0KB\n",
            "\n",
            "Epoch 82\n"
          ]
        },
        {
          "name": "stderr",
          "output_type": "stream",
          "text": [
            "Train: 100%|##########################| 391/391 [00:23<00:00, 16.46batch/s]\n"
          ]
        },
        {
          "name": "stdout",
          "output_type": "stream",
          "text": [
            "LR: 1.0000e-02, Train Loss: 0.4126, Train Acc: 0.8601, Train Latency: 23.76s, Memory Usage: 3110.0KB\n",
            "Test Loss: 0.7102, Test Acc: 0.7717, Test Latency: 2.36s, Test Memory Usage: 194.0KB\n",
            "\n",
            "Epoch 83\n"
          ]
        },
        {
          "name": "stderr",
          "output_type": "stream",
          "text": [
            "Train: 100%|##########################| 391/391 [00:24<00:00, 16.10batch/s]\n"
          ]
        },
        {
          "name": "stdout",
          "output_type": "stream",
          "text": [
            "LR: 1.0000e-02, Train Loss: 0.4081, Train Acc: 0.8609, Train Latency: 24.29s, Memory Usage: 3110.0KB\n",
            "Test Loss: 0.6460, Test Acc: 0.7839, Test Latency: 2.38s, Test Memory Usage: 194.0KB\n",
            "\n",
            "Epoch 84\n"
          ]
        },
        {
          "name": "stderr",
          "output_type": "stream",
          "text": [
            "Train: 100%|##########################| 391/391 [00:24<00:00, 16.22batch/s]\n"
          ]
        },
        {
          "name": "stdout",
          "output_type": "stream",
          "text": [
            "LR: 1.0000e-02, Train Loss: 0.4086, Train Acc: 0.8598, Train Latency: 24.11s, Memory Usage: 3110.0KB\n",
            "Test Loss: 0.8176, Test Acc: 0.7424, Test Latency: 2.36s, Test Memory Usage: 194.0KB\n",
            "\n",
            "Epoch 85\n"
          ]
        },
        {
          "name": "stderr",
          "output_type": "stream",
          "text": [
            "Train: 100%|##########################| 391/391 [00:20<00:00, 19.46batch/s]\n"
          ]
        },
        {
          "name": "stdout",
          "output_type": "stream",
          "text": [
            "LR: 1.0000e-02, Train Loss: 0.4113, Train Acc: 0.8579, Train Latency: 20.10s, Memory Usage: 3110.0KB\n",
            "Test Loss: 0.5679, Test Acc: 0.8066, Test Latency: 2.35s, Test Memory Usage: 194.0KB\n",
            "\n",
            "Epoch 86\n"
          ]
        },
        {
          "name": "stderr",
          "output_type": "stream",
          "text": [
            "Train: 100%|##########################| 391/391 [00:24<00:00, 16.14batch/s]\n"
          ]
        },
        {
          "name": "stdout",
          "output_type": "stream",
          "text": [
            "LR: 1.0000e-02, Train Loss: 0.4045, Train Acc: 0.8616, Train Latency: 24.24s, Memory Usage: 3110.0KB\n",
            "Test Loss: 0.5068, Test Acc: 0.8320, Test Latency: 2.37s, Test Memory Usage: 194.0KB\n",
            "\n",
            "Epoch 87\n"
          ]
        },
        {
          "name": "stderr",
          "output_type": "stream",
          "text": [
            "Train: 100%|##########################| 391/391 [00:23<00:00, 16.98batch/s]\n"
          ]
        },
        {
          "name": "stdout",
          "output_type": "stream",
          "text": [
            "LR: 1.0000e-02, Train Loss: 0.4100, Train Acc: 0.8597, Train Latency: 23.02s, Memory Usage: 3110.0KB\n",
            "Test Loss: 0.5576, Test Acc: 0.8134, Test Latency: 2.09s, Test Memory Usage: 194.0KB\n",
            "\n",
            "Epoch 88\n"
          ]
        },
        {
          "name": "stderr",
          "output_type": "stream",
          "text": [
            "Train: 100%|##########################| 391/391 [00:23<00:00, 16.61batch/s]\n"
          ]
        },
        {
          "name": "stdout",
          "output_type": "stream",
          "text": [
            "LR: 1.0000e-02, Train Loss: 0.4032, Train Acc: 0.8609, Train Latency: 23.54s, Memory Usage: 3110.0KB\n",
            "Test Loss: 0.5015, Test Acc: 0.8284, Test Latency: 2.39s, Test Memory Usage: 194.0KB\n",
            "\n",
            "Epoch 89\n"
          ]
        },
        {
          "name": "stderr",
          "output_type": "stream",
          "text": [
            "Train: 100%|##########################| 391/391 [00:24<00:00, 16.11batch/s]\n"
          ]
        },
        {
          "name": "stdout",
          "output_type": "stream",
          "text": [
            "LR: 1.0000e-02, Train Loss: 0.4103, Train Acc: 0.8597, Train Latency: 24.27s, Memory Usage: 3110.0KB\n",
            "Test Loss: 0.5249, Test Acc: 0.8258, Test Latency: 2.37s, Test Memory Usage: 194.0KB\n",
            "\n",
            "Epoch 90\n"
          ]
        },
        {
          "name": "stderr",
          "output_type": "stream",
          "text": [
            "Train: 100%|##########################| 391/391 [00:24<00:00, 16.15batch/s]\n"
          ]
        },
        {
          "name": "stdout",
          "output_type": "stream",
          "text": [
            "LR: 1.0000e-02, Train Loss: 0.4024, Train Acc: 0.8604, Train Latency: 24.21s, Memory Usage: 3110.0KB\n",
            "Test Loss: 0.5986, Test Acc: 0.8123, Test Latency: 2.31s, Test Memory Usage: 194.0KB\n",
            "\n",
            "Epoch 91\n"
          ]
        },
        {
          "name": "stderr",
          "output_type": "stream",
          "text": [
            "Train: 100%|##########################| 391/391 [00:24<00:00, 16.05batch/s]\n"
          ]
        },
        {
          "name": "stdout",
          "output_type": "stream",
          "text": [
            "LR: 1.0000e-02, Train Loss: 0.4017, Train Acc: 0.8628, Train Latency: 24.37s, Memory Usage: 3110.0KB\n",
            "Test Loss: 0.5400, Test Acc: 0.8200, Test Latency: 2.36s, Test Memory Usage: 194.0KB\n",
            "\n",
            "Epoch 92\n"
          ]
        },
        {
          "name": "stderr",
          "output_type": "stream",
          "text": [
            "Train: 100%|##########################| 391/391 [00:24<00:00, 16.19batch/s]\n"
          ]
        },
        {
          "name": "stdout",
          "output_type": "stream",
          "text": [
            "LR: 1.0000e-02, Train Loss: 0.4019, Train Acc: 0.8626, Train Latency: 24.15s, Memory Usage: 3110.0KB\n",
            "Test Loss: 0.4807, Test Acc: 0.8348, Test Latency: 2.36s, Test Memory Usage: 194.0KB\n",
            "\n",
            "Epoch 93\n"
          ]
        },
        {
          "name": "stderr",
          "output_type": "stream",
          "text": [
            "Train: 100%|##########################| 391/391 [00:23<00:00, 16.79batch/s]\n"
          ]
        },
        {
          "name": "stdout",
          "output_type": "stream",
          "text": [
            "LR: 1.0000e-02, Train Loss: 0.4080, Train Acc: 0.8629, Train Latency: 23.29s, Memory Usage: 3110.0KB\n",
            "Test Loss: 0.4674, Test Acc: 0.8411, Test Latency: 2.38s, Test Memory Usage: 194.0KB\n",
            "Saving best model ...\n",
            "\n",
            "Epoch 94\n"
          ]
        },
        {
          "name": "stderr",
          "output_type": "stream",
          "text": [
            "Train: 100%|##########################| 391/391 [00:22<00:00, 17.43batch/s]\n"
          ]
        },
        {
          "name": "stdout",
          "output_type": "stream",
          "text": [
            "LR: 1.0000e-02, Train Loss: 0.4017, Train Acc: 0.8633, Train Latency: 22.44s, Memory Usage: 3110.0KB\n",
            "Test Loss: 0.5107, Test Acc: 0.8275, Test Latency: 2.36s, Test Memory Usage: 194.0KB\n",
            "\n",
            "Epoch 95\n"
          ]
        },
        {
          "name": "stderr",
          "output_type": "stream",
          "text": [
            "Train: 100%|##########################| 391/391 [00:21<00:00, 18.54batch/s]\n"
          ]
        },
        {
          "name": "stdout",
          "output_type": "stream",
          "text": [
            "LR: 1.0000e-02, Train Loss: 0.4067, Train Acc: 0.8597, Train Latency: 21.09s, Memory Usage: 3110.0KB\n",
            "Test Loss: 0.6577, Test Acc: 0.7878, Test Latency: 2.08s, Test Memory Usage: 194.0KB\n",
            "\n",
            "Epoch 96\n"
          ]
        },
        {
          "name": "stderr",
          "output_type": "stream",
          "text": [
            "Train: 100%|##########################| 391/391 [00:23<00:00, 16.80batch/s]\n"
          ]
        },
        {
          "name": "stdout",
          "output_type": "stream",
          "text": [
            "LR: 1.0000e-02, Train Loss: 0.4019, Train Acc: 0.8623, Train Latency: 23.27s, Memory Usage: 3110.0KB\n",
            "Test Loss: 0.4929, Test Acc: 0.8279, Test Latency: 2.36s, Test Memory Usage: 194.0KB\n",
            "\n",
            "Epoch 97\n"
          ]
        },
        {
          "name": "stderr",
          "output_type": "stream",
          "text": [
            "Train: 100%|##########################| 391/391 [00:22<00:00, 17.75batch/s]\n"
          ]
        },
        {
          "name": "stdout",
          "output_type": "stream",
          "text": [
            "LR: 1.0000e-02, Train Loss: 0.4051, Train Acc: 0.8604, Train Latency: 22.03s, Memory Usage: 3110.0KB\n",
            "Test Loss: 0.6486, Test Acc: 0.7834, Test Latency: 2.39s, Test Memory Usage: 194.0KB\n",
            "\n",
            "Epoch 98\n"
          ]
        },
        {
          "name": "stderr",
          "output_type": "stream",
          "text": [
            "Train: 100%|##########################| 391/391 [00:24<00:00, 16.27batch/s]\n"
          ]
        },
        {
          "name": "stdout",
          "output_type": "stream",
          "text": [
            "LR: 1.0000e-02, Train Loss: 0.4036, Train Acc: 0.8623, Train Latency: 24.04s, Memory Usage: 3110.0KB\n",
            "Test Loss: 0.5672, Test Acc: 0.8101, Test Latency: 2.37s, Test Memory Usage: 194.0KB\n",
            "\n",
            "Epoch 99\n"
          ]
        },
        {
          "name": "stderr",
          "output_type": "stream",
          "text": [
            "Train: 100%|##########################| 391/391 [00:23<00:00, 16.30batch/s]\n"
          ]
        },
        {
          "name": "stdout",
          "output_type": "stream",
          "text": [
            "LR: 1.0000e-02, Train Loss: 0.3936, Train Acc: 0.8662, Train Latency: 23.99s, Memory Usage: 3110.0KB\n",
            "Test Loss: 0.6873, Test Acc: 0.7739, Test Latency: 2.37s, Test Memory Usage: 194.0KB\n",
            "\n",
            "Epoch 100\n"
          ]
        },
        {
          "name": "stderr",
          "output_type": "stream",
          "text": [
            "Train: 100%|##########################| 391/391 [00:23<00:00, 16.85batch/s]\n"
          ]
        },
        {
          "name": "stdout",
          "output_type": "stream",
          "text": [
            "LR: 1.0000e-02, Train Loss: 0.4021, Train Acc: 0.8621, Train Latency: 23.21s, Memory Usage: 3110.0KB\n",
            "Test Loss: 0.4879, Test Acc: 0.8394, Test Latency: 2.39s, Test Memory Usage: 194.0KB\n",
            "\n",
            "Epoch 101\n"
          ]
        },
        {
          "name": "stderr",
          "output_type": "stream",
          "text": [
            "Train: 100%|##########################| 391/391 [00:21<00:00, 18.36batch/s]\n"
          ]
        },
        {
          "name": "stdout",
          "output_type": "stream",
          "text": [
            "LR: 1.0000e-03, Train Loss: 0.3118, Train Acc: 0.8936, Train Latency: 21.30s, Memory Usage: 3110.0KB\n",
            "Test Loss: 0.3517, Test Acc: 0.8809, Test Latency: 2.37s, Test Memory Usage: 194.0KB\n",
            "Saving best model ...\n",
            "\n",
            "Epoch 102\n"
          ]
        },
        {
          "name": "stderr",
          "output_type": "stream",
          "text": [
            "Train: 100%|##########################| 391/391 [00:22<00:00, 17.04batch/s]\n"
          ]
        },
        {
          "name": "stdout",
          "output_type": "stream",
          "text": [
            "LR: 1.0000e-03, Train Loss: 0.2875, Train Acc: 0.9032, Train Latency: 22.95s, Memory Usage: 3110.0KB\n",
            "Test Loss: 0.3608, Test Acc: 0.8770, Test Latency: 2.35s, Test Memory Usage: 194.0KB\n",
            "\n",
            "Epoch 103\n"
          ]
        },
        {
          "name": "stderr",
          "output_type": "stream",
          "text": [
            "Train: 100%|##########################| 391/391 [00:23<00:00, 16.34batch/s]\n"
          ]
        },
        {
          "name": "stdout",
          "output_type": "stream",
          "text": [
            "LR: 1.0000e-03, Train Loss: 0.2774, Train Acc: 0.9074, Train Latency: 23.94s, Memory Usage: 3110.0KB\n",
            "Test Loss: 0.3472, Test Acc: 0.8846, Test Latency: 2.36s, Test Memory Usage: 194.0KB\n",
            "Saving best model ...\n",
            "\n",
            "Epoch 104\n"
          ]
        },
        {
          "name": "stderr",
          "output_type": "stream",
          "text": [
            "Train: 100%|##########################| 391/391 [00:23<00:00, 16.89batch/s]\n"
          ]
        },
        {
          "name": "stdout",
          "output_type": "stream",
          "text": [
            "LR: 1.0000e-03, Train Loss: 0.2740, Train Acc: 0.9074, Train Latency: 23.15s, Memory Usage: 3110.0KB\n",
            "Test Loss: 0.3557, Test Acc: 0.8805, Test Latency: 2.37s, Test Memory Usage: 194.0KB\n",
            "\n",
            "Epoch 105\n"
          ]
        },
        {
          "name": "stderr",
          "output_type": "stream",
          "text": [
            "Train: 100%|##########################| 391/391 [00:22<00:00, 17.27batch/s]\n"
          ]
        },
        {
          "name": "stdout",
          "output_type": "stream",
          "text": [
            "LR: 1.0000e-03, Train Loss: 0.2672, Train Acc: 0.9092, Train Latency: 22.64s, Memory Usage: 3110.0KB\n",
            "Test Loss: 0.3674, Test Acc: 0.8742, Test Latency: 2.06s, Test Memory Usage: 194.0KB\n",
            "\n",
            "Epoch 106\n"
          ]
        },
        {
          "name": "stderr",
          "output_type": "stream",
          "text": [
            "Train: 100%|##########################| 391/391 [00:19<00:00, 19.98batch/s]\n"
          ]
        },
        {
          "name": "stdout",
          "output_type": "stream",
          "text": [
            "LR: 1.0000e-03, Train Loss: 0.2645, Train Acc: 0.9104, Train Latency: 19.57s, Memory Usage: 3110.0KB\n",
            "Test Loss: 0.3463, Test Acc: 0.8836, Test Latency: 2.07s, Test Memory Usage: 194.0KB\n",
            "\n",
            "Epoch 107\n"
          ]
        },
        {
          "name": "stderr",
          "output_type": "stream",
          "text": [
            "Train: 100%|##########################| 391/391 [00:22<00:00, 17.48batch/s]\n"
          ]
        },
        {
          "name": "stdout",
          "output_type": "stream",
          "text": [
            "LR: 1.0000e-03, Train Loss: 0.2621, Train Acc: 0.9109, Train Latency: 22.37s, Memory Usage: 3110.0KB\n",
            "Test Loss: 0.3580, Test Acc: 0.8766, Test Latency: 2.37s, Test Memory Usage: 194.0KB\n",
            "\n",
            "Epoch 108\n"
          ]
        },
        {
          "name": "stderr",
          "output_type": "stream",
          "text": [
            "Train: 100%|##########################| 391/391 [00:24<00:00, 16.07batch/s]\n"
          ]
        },
        {
          "name": "stdout",
          "output_type": "stream",
          "text": [
            "LR: 1.0000e-03, Train Loss: 0.2586, Train Acc: 0.9134, Train Latency: 24.34s, Memory Usage: 3110.0KB\n",
            "Test Loss: 0.3622, Test Acc: 0.8763, Test Latency: 2.36s, Test Memory Usage: 194.0KB\n",
            "\n",
            "Epoch 109\n"
          ]
        },
        {
          "name": "stderr",
          "output_type": "stream",
          "text": [
            "Train: 100%|##########################| 391/391 [00:24<00:00, 16.23batch/s]\n"
          ]
        },
        {
          "name": "stdout",
          "output_type": "stream",
          "text": [
            "LR: 1.0000e-03, Train Loss: 0.2621, Train Acc: 0.9103, Train Latency: 24.09s, Memory Usage: 3110.0KB\n",
            "Test Loss: 0.3835, Test Acc: 0.8688, Test Latency: 2.38s, Test Memory Usage: 194.0KB\n",
            "\n",
            "Epoch 110\n"
          ]
        },
        {
          "name": "stderr",
          "output_type": "stream",
          "text": [
            "Train: 100%|##########################| 391/391 [00:24<00:00, 16.07batch/s]\n"
          ]
        },
        {
          "name": "stdout",
          "output_type": "stream",
          "text": [
            "LR: 1.0000e-03, Train Loss: 0.2583, Train Acc: 0.9130, Train Latency: 24.33s, Memory Usage: 3110.0KB\n",
            "Test Loss: 0.3520, Test Acc: 0.8787, Test Latency: 2.38s, Test Memory Usage: 194.0KB\n",
            "\n",
            "Epoch 111\n"
          ]
        },
        {
          "name": "stderr",
          "output_type": "stream",
          "text": [
            "Train: 100%|##########################| 391/391 [00:24<00:00, 16.21batch/s]\n"
          ]
        },
        {
          "name": "stdout",
          "output_type": "stream",
          "text": [
            "LR: 1.0000e-03, Train Loss: 0.2610, Train Acc: 0.9127, Train Latency: 24.13s, Memory Usage: 3110.0KB\n",
            "Test Loss: 0.3739, Test Acc: 0.8714, Test Latency: 2.37s, Test Memory Usage: 194.0KB\n",
            "\n",
            "Epoch 112\n"
          ]
        },
        {
          "name": "stderr",
          "output_type": "stream",
          "text": [
            "Train: 100%|##########################| 391/391 [00:22<00:00, 17.55batch/s]\n"
          ]
        },
        {
          "name": "stdout",
          "output_type": "stream",
          "text": [
            "LR: 1.0000e-03, Train Loss: 0.2583, Train Acc: 0.9118, Train Latency: 22.28s, Memory Usage: 3110.0KB\n",
            "Test Loss: 0.3585, Test Acc: 0.8769, Test Latency: 2.36s, Test Memory Usage: 194.0KB\n",
            "\n",
            "Epoch 113\n"
          ]
        },
        {
          "name": "stderr",
          "output_type": "stream",
          "text": [
            "Train: 100%|##########################| 391/391 [00:24<00:00, 15.98batch/s]\n"
          ]
        },
        {
          "name": "stdout",
          "output_type": "stream",
          "text": [
            "LR: 1.0000e-03, Train Loss: 0.2566, Train Acc: 0.9141, Train Latency: 24.48s, Memory Usage: 3110.0KB\n",
            "Test Loss: 0.3578, Test Acc: 0.8803, Test Latency: 2.38s, Test Memory Usage: 194.0KB\n",
            "\n",
            "Epoch 114\n"
          ]
        },
        {
          "name": "stderr",
          "output_type": "stream",
          "text": [
            "Train: 100%|##########################| 391/391 [00:21<00:00, 18.27batch/s]\n"
          ]
        },
        {
          "name": "stdout",
          "output_type": "stream",
          "text": [
            "LR: 1.0000e-03, Train Loss: 0.2581, Train Acc: 0.9127, Train Latency: 21.40s, Memory Usage: 3110.0KB\n",
            "Test Loss: 0.3736, Test Acc: 0.8733, Test Latency: 2.37s, Test Memory Usage: 194.0KB\n",
            "\n",
            "Epoch 115\n"
          ]
        },
        {
          "name": "stderr",
          "output_type": "stream",
          "text": [
            "Train: 100%|##########################| 391/391 [00:23<00:00, 16.84batch/s]\n"
          ]
        },
        {
          "name": "stdout",
          "output_type": "stream",
          "text": [
            "LR: 1.0000e-03, Train Loss: 0.2567, Train Acc: 0.9114, Train Latency: 23.22s, Memory Usage: 3110.0KB\n",
            "Test Loss: 0.3741, Test Acc: 0.8760, Test Latency: 2.35s, Test Memory Usage: 194.0KB\n",
            "\n",
            "Epoch 116\n"
          ]
        },
        {
          "name": "stderr",
          "output_type": "stream",
          "text": [
            "Train: 100%|##########################| 391/391 [00:24<00:00, 15.90batch/s]\n"
          ]
        },
        {
          "name": "stdout",
          "output_type": "stream",
          "text": [
            "LR: 1.0000e-03, Train Loss: 0.2565, Train Acc: 0.9133, Train Latency: 24.59s, Memory Usage: 3110.0KB\n",
            "Test Loss: 0.3734, Test Acc: 0.8720, Test Latency: 2.37s, Test Memory Usage: 194.0KB\n",
            "\n",
            "Epoch 117\n"
          ]
        },
        {
          "name": "stderr",
          "output_type": "stream",
          "text": [
            "Train: 100%|##########################| 391/391 [00:24<00:00, 16.17batch/s]\n"
          ]
        },
        {
          "name": "stdout",
          "output_type": "stream",
          "text": [
            "LR: 1.0000e-03, Train Loss: 0.2573, Train Acc: 0.9131, Train Latency: 24.18s, Memory Usage: 3110.0KB\n",
            "Test Loss: 0.3712, Test Acc: 0.8759, Test Latency: 2.34s, Test Memory Usage: 194.0KB\n",
            "\n",
            "Epoch 118\n"
          ]
        },
        {
          "name": "stderr",
          "output_type": "stream",
          "text": [
            "Train: 100%|##########################| 391/391 [00:23<00:00, 16.70batch/s]\n"
          ]
        },
        {
          "name": "stdout",
          "output_type": "stream",
          "text": [
            "LR: 1.0000e-03, Train Loss: 0.2543, Train Acc: 0.9129, Train Latency: 23.42s, Memory Usage: 3110.0KB\n",
            "Test Loss: 0.3767, Test Acc: 0.8727, Test Latency: 2.13s, Test Memory Usage: 194.0KB\n",
            "\n",
            "Epoch 119\n"
          ]
        },
        {
          "name": "stderr",
          "output_type": "stream",
          "text": [
            "Train: 100%|##########################| 391/391 [00:21<00:00, 17.92batch/s]\n"
          ]
        },
        {
          "name": "stdout",
          "output_type": "stream",
          "text": [
            "LR: 1.0000e-03, Train Loss: 0.2580, Train Acc: 0.9130, Train Latency: 21.83s, Memory Usage: 3110.0KB\n",
            "Test Loss: 0.3978, Test Acc: 0.8661, Test Latency: 2.36s, Test Memory Usage: 194.0KB\n",
            "\n",
            "Epoch 120\n"
          ]
        },
        {
          "name": "stderr",
          "output_type": "stream",
          "text": [
            "Train: 100%|##########################| 391/391 [00:22<00:00, 17.19batch/s]\n"
          ]
        },
        {
          "name": "stdout",
          "output_type": "stream",
          "text": [
            "LR: 1.0000e-03, Train Loss: 0.2577, Train Acc: 0.9122, Train Latency: 22.74s, Memory Usage: 3110.0KB\n",
            "Test Loss: 0.3948, Test Acc: 0.8732, Test Latency: 2.36s, Test Memory Usage: 194.0KB\n",
            "\n",
            "Epoch 121\n"
          ]
        },
        {
          "name": "stderr",
          "output_type": "stream",
          "text": [
            "Train: 100%|##########################| 391/391 [00:24<00:00, 16.15batch/s]\n"
          ]
        },
        {
          "name": "stdout",
          "output_type": "stream",
          "text": [
            "LR: 1.0000e-03, Train Loss: 0.2562, Train Acc: 0.9118, Train Latency: 24.22s, Memory Usage: 3110.0KB\n",
            "Test Loss: 0.3739, Test Acc: 0.8747, Test Latency: 2.36s, Test Memory Usage: 194.0KB\n",
            "\n",
            "Epoch 122\n"
          ]
        },
        {
          "name": "stderr",
          "output_type": "stream",
          "text": [
            "Train: 100%|##########################| 391/391 [00:21<00:00, 17.96batch/s]\n"
          ]
        },
        {
          "name": "stdout",
          "output_type": "stream",
          "text": [
            "LR: 1.0000e-03, Train Loss: 0.2583, Train Acc: 0.9115, Train Latency: 21.77s, Memory Usage: 3110.0KB\n",
            "Test Loss: 0.4244, Test Acc: 0.8600, Test Latency: 2.09s, Test Memory Usage: 194.0KB\n",
            "\n",
            "Epoch 123\n"
          ]
        },
        {
          "name": "stderr",
          "output_type": "stream",
          "text": [
            "Train: 100%|##########################| 391/391 [00:24<00:00, 16.14batch/s]\n"
          ]
        },
        {
          "name": "stdout",
          "output_type": "stream",
          "text": [
            "LR: 1.0000e-03, Train Loss: 0.2597, Train Acc: 0.9113, Train Latency: 24.23s, Memory Usage: 3110.0KB\n",
            "Test Loss: 0.3600, Test Acc: 0.8812, Test Latency: 2.37s, Test Memory Usage: 194.0KB\n",
            "\n",
            "Epoch 124\n"
          ]
        },
        {
          "name": "stderr",
          "output_type": "stream",
          "text": [
            "Train: 100%|##########################| 391/391 [00:24<00:00, 16.12batch/s]\n"
          ]
        },
        {
          "name": "stdout",
          "output_type": "stream",
          "text": [
            "LR: 1.0000e-03, Train Loss: 0.2589, Train Acc: 0.9119, Train Latency: 24.26s, Memory Usage: 3110.0KB\n",
            "Test Loss: 0.3820, Test Acc: 0.8716, Test Latency: 2.37s, Test Memory Usage: 194.0KB\n",
            "\n",
            "Epoch 125\n"
          ]
        },
        {
          "name": "stderr",
          "output_type": "stream",
          "text": [
            "Train: 100%|##########################| 391/391 [00:23<00:00, 16.81batch/s]\n"
          ]
        },
        {
          "name": "stdout",
          "output_type": "stream",
          "text": [
            "LR: 1.0000e-03, Train Loss: 0.2572, Train Acc: 0.9114, Train Latency: 23.26s, Memory Usage: 3110.0KB\n",
            "Test Loss: 0.4252, Test Acc: 0.8589, Test Latency: 2.37s, Test Memory Usage: 194.0KB\n",
            "\n",
            "Epoch 126\n"
          ]
        },
        {
          "name": "stderr",
          "output_type": "stream",
          "text": [
            "Train: 100%|##########################| 391/391 [00:22<00:00, 17.19batch/s]\n"
          ]
        },
        {
          "name": "stdout",
          "output_type": "stream",
          "text": [
            "LR: 1.0000e-03, Train Loss: 0.2590, Train Acc: 0.9120, Train Latency: 22.76s, Memory Usage: 3110.0KB\n",
            "Test Loss: 0.3983, Test Acc: 0.8637, Test Latency: 2.35s, Test Memory Usage: 194.0KB\n",
            "\n",
            "Epoch 127\n"
          ]
        },
        {
          "name": "stderr",
          "output_type": "stream",
          "text": [
            "Train: 100%|##########################| 391/391 [00:24<00:00, 16.01batch/s]\n"
          ]
        },
        {
          "name": "stdout",
          "output_type": "stream",
          "text": [
            "LR: 1.0000e-03, Train Loss: 0.2579, Train Acc: 0.9119, Train Latency: 24.43s, Memory Usage: 3110.0KB\n",
            "Test Loss: 0.3618, Test Acc: 0.8786, Test Latency: 2.37s, Test Memory Usage: 194.0KB\n",
            "\n",
            "Epoch 128\n"
          ]
        },
        {
          "name": "stderr",
          "output_type": "stream",
          "text": [
            "Train: 100%|##########################| 391/391 [00:24<00:00, 16.22batch/s]\n"
          ]
        },
        {
          "name": "stdout",
          "output_type": "stream",
          "text": [
            "LR: 1.0000e-03, Train Loss: 0.2585, Train Acc: 0.9123, Train Latency: 24.12s, Memory Usage: 3110.0KB\n",
            "Test Loss: 0.3889, Test Acc: 0.8675, Test Latency: 2.08s, Test Memory Usage: 194.0KB\n",
            "\n",
            "Epoch 129\n"
          ]
        },
        {
          "name": "stderr",
          "output_type": "stream",
          "text": [
            "Train: 100%|##########################| 391/391 [00:22<00:00, 17.71batch/s]\n"
          ]
        },
        {
          "name": "stdout",
          "output_type": "stream",
          "text": [
            "LR: 1.0000e-03, Train Loss: 0.2611, Train Acc: 0.9104, Train Latency: 22.08s, Memory Usage: 3110.0KB\n",
            "Test Loss: 0.4041, Test Acc: 0.8673, Test Latency: 2.38s, Test Memory Usage: 194.0KB\n",
            "\n",
            "Epoch 130\n"
          ]
        },
        {
          "name": "stderr",
          "output_type": "stream",
          "text": [
            "Train: 100%|##########################| 391/391 [00:20<00:00, 18.90batch/s]\n"
          ]
        },
        {
          "name": "stdout",
          "output_type": "stream",
          "text": [
            "LR: 1.0000e-03, Train Loss: 0.2609, Train Acc: 0.9106, Train Latency: 20.70s, Memory Usage: 3110.0KB\n",
            "Test Loss: 0.3999, Test Acc: 0.8652, Test Latency: 2.09s, Test Memory Usage: 194.0KB\n",
            "\n",
            "Epoch 131\n"
          ]
        },
        {
          "name": "stderr",
          "output_type": "stream",
          "text": [
            "Train: 100%|##########################| 391/391 [00:22<00:00, 17.21batch/s]\n"
          ]
        },
        {
          "name": "stdout",
          "output_type": "stream",
          "text": [
            "LR: 1.0000e-03, Train Loss: 0.2636, Train Acc: 0.9098, Train Latency: 22.73s, Memory Usage: 3110.0KB\n",
            "Test Loss: 0.3794, Test Acc: 0.8717, Test Latency: 2.38s, Test Memory Usage: 194.0KB\n",
            "\n",
            "Epoch 132\n"
          ]
        },
        {
          "name": "stderr",
          "output_type": "stream",
          "text": [
            "Train: 100%|##########################| 391/391 [00:23<00:00, 16.33batch/s]\n"
          ]
        },
        {
          "name": "stdout",
          "output_type": "stream",
          "text": [
            "LR: 1.0000e-03, Train Loss: 0.2600, Train Acc: 0.9109, Train Latency: 23.95s, Memory Usage: 3110.0KB\n",
            "Test Loss: 0.3792, Test Acc: 0.8738, Test Latency: 2.36s, Test Memory Usage: 194.0KB\n",
            "\n",
            "Epoch 133\n"
          ]
        },
        {
          "name": "stderr",
          "output_type": "stream",
          "text": [
            "Train: 100%|##########################| 391/391 [00:21<00:00, 17.81batch/s]\n"
          ]
        },
        {
          "name": "stdout",
          "output_type": "stream",
          "text": [
            "LR: 1.0000e-03, Train Loss: 0.2557, Train Acc: 0.9130, Train Latency: 21.95s, Memory Usage: 3110.0KB\n",
            "Test Loss: 0.4232, Test Acc: 0.8613, Test Latency: 2.37s, Test Memory Usage: 194.0KB\n",
            "\n",
            "Epoch 134\n"
          ]
        },
        {
          "name": "stderr",
          "output_type": "stream",
          "text": [
            "Train: 100%|##########################| 391/391 [00:20<00:00, 19.01batch/s]\n"
          ]
        },
        {
          "name": "stdout",
          "output_type": "stream",
          "text": [
            "LR: 1.0000e-03, Train Loss: 0.2611, Train Acc: 0.9106, Train Latency: 20.57s, Memory Usage: 3110.0KB\n",
            "Test Loss: 0.3899, Test Acc: 0.8689, Test Latency: 2.37s, Test Memory Usage: 194.0KB\n",
            "\n",
            "Epoch 135\n"
          ]
        },
        {
          "name": "stderr",
          "output_type": "stream",
          "text": [
            "Train: 100%|##########################| 391/391 [00:21<00:00, 18.24batch/s]\n"
          ]
        },
        {
          "name": "stdout",
          "output_type": "stream",
          "text": [
            "LR: 1.0000e-03, Train Loss: 0.2624, Train Acc: 0.9088, Train Latency: 21.45s, Memory Usage: 3110.0KB\n",
            "Test Loss: 0.3741, Test Acc: 0.8743, Test Latency: 2.06s, Test Memory Usage: 194.0KB\n",
            "\n",
            "Epoch 136\n"
          ]
        },
        {
          "name": "stderr",
          "output_type": "stream",
          "text": [
            "Train: 100%|##########################| 391/391 [00:23<00:00, 16.57batch/s]\n"
          ]
        },
        {
          "name": "stdout",
          "output_type": "stream",
          "text": [
            "LR: 1.0000e-03, Train Loss: 0.2606, Train Acc: 0.9110, Train Latency: 23.61s, Memory Usage: 3110.0KB\n",
            "Test Loss: 0.3723, Test Acc: 0.8767, Test Latency: 2.37s, Test Memory Usage: 194.0KB\n",
            "\n",
            "Epoch 137\n"
          ]
        },
        {
          "name": "stderr",
          "output_type": "stream",
          "text": [
            "Train: 100%|##########################| 391/391 [00:24<00:00, 16.27batch/s]\n"
          ]
        },
        {
          "name": "stdout",
          "output_type": "stream",
          "text": [
            "LR: 1.0000e-03, Train Loss: 0.2576, Train Acc: 0.9111, Train Latency: 24.03s, Memory Usage: 3110.0KB\n",
            "Test Loss: 0.4134, Test Acc: 0.8705, Test Latency: 2.10s, Test Memory Usage: 194.0KB\n",
            "\n",
            "Epoch 138\n"
          ]
        },
        {
          "name": "stderr",
          "output_type": "stream",
          "text": [
            "Train: 100%|##########################| 391/391 [00:22<00:00, 17.17batch/s]\n"
          ]
        },
        {
          "name": "stdout",
          "output_type": "stream",
          "text": [
            "LR: 1.0000e-03, Train Loss: 0.2594, Train Acc: 0.9125, Train Latency: 22.77s, Memory Usage: 3110.0KB\n",
            "Test Loss: 0.3839, Test Acc: 0.8720, Test Latency: 2.39s, Test Memory Usage: 194.0KB\n",
            "\n",
            "Epoch 139\n"
          ]
        },
        {
          "name": "stderr",
          "output_type": "stream",
          "text": [
            "Train: 100%|##########################| 391/391 [00:23<00:00, 16.72batch/s]\n"
          ]
        },
        {
          "name": "stdout",
          "output_type": "stream",
          "text": [
            "LR: 1.0000e-03, Train Loss: 0.2589, Train Acc: 0.9128, Train Latency: 23.38s, Memory Usage: 3110.0KB\n",
            "Test Loss: 0.3735, Test Acc: 0.8739, Test Latency: 2.37s, Test Memory Usage: 194.0KB\n",
            "\n",
            "Epoch 140\n"
          ]
        },
        {
          "name": "stderr",
          "output_type": "stream",
          "text": [
            "Train: 100%|##########################| 391/391 [00:23<00:00, 16.97batch/s]\n"
          ]
        },
        {
          "name": "stdout",
          "output_type": "stream",
          "text": [
            "LR: 1.0000e-03, Train Loss: 0.2583, Train Acc: 0.9113, Train Latency: 23.05s, Memory Usage: 3110.0KB\n",
            "Test Loss: 0.3716, Test Acc: 0.8766, Test Latency: 2.36s, Test Memory Usage: 194.0KB\n",
            "\n",
            "Epoch 141\n"
          ]
        },
        {
          "name": "stderr",
          "output_type": "stream",
          "text": [
            "Train: 100%|##########################| 391/391 [00:19<00:00, 19.73batch/s]\n"
          ]
        },
        {
          "name": "stdout",
          "output_type": "stream",
          "text": [
            "LR: 1.0000e-03, Train Loss: 0.2573, Train Acc: 0.9123, Train Latency: 19.82s, Memory Usage: 3110.0KB\n",
            "Test Loss: 0.3915, Test Acc: 0.8655, Test Latency: 2.14s, Test Memory Usage: 194.0KB\n",
            "\n",
            "Epoch 142\n"
          ]
        },
        {
          "name": "stderr",
          "output_type": "stream",
          "text": [
            "Train: 100%|##########################| 391/391 [00:20<00:00, 19.06batch/s]\n"
          ]
        },
        {
          "name": "stdout",
          "output_type": "stream",
          "text": [
            "LR: 1.0000e-03, Train Loss: 0.2599, Train Acc: 0.9117, Train Latency: 20.52s, Memory Usage: 3110.0KB\n",
            "Test Loss: 0.4310, Test Acc: 0.8589, Test Latency: 2.37s, Test Memory Usage: 194.0KB\n",
            "\n",
            "Epoch 143\n"
          ]
        },
        {
          "name": "stderr",
          "output_type": "stream",
          "text": [
            "Train: 100%|##########################| 391/391 [00:22<00:00, 17.62batch/s]\n"
          ]
        },
        {
          "name": "stdout",
          "output_type": "stream",
          "text": [
            "LR: 1.0000e-03, Train Loss: 0.2589, Train Acc: 0.9108, Train Latency: 22.19s, Memory Usage: 3110.0KB\n",
            "Test Loss: 0.4031, Test Acc: 0.8650, Test Latency: 2.07s, Test Memory Usage: 194.0KB\n",
            "\n",
            "Epoch 144\n"
          ]
        },
        {
          "name": "stderr",
          "output_type": "stream",
          "text": [
            "Train: 100%|##########################| 391/391 [00:24<00:00, 16.26batch/s]\n"
          ]
        },
        {
          "name": "stdout",
          "output_type": "stream",
          "text": [
            "LR: 1.0000e-03, Train Loss: 0.2603, Train Acc: 0.9124, Train Latency: 24.05s, Memory Usage: 3110.0KB\n",
            "Test Loss: 0.3992, Test Acc: 0.8691, Test Latency: 2.37s, Test Memory Usage: 194.0KB\n",
            "\n",
            "Epoch 145\n"
          ]
        },
        {
          "name": "stderr",
          "output_type": "stream",
          "text": [
            "Train: 100%|##########################| 391/391 [00:24<00:00, 16.15batch/s]\n"
          ]
        },
        {
          "name": "stdout",
          "output_type": "stream",
          "text": [
            "LR: 1.0000e-03, Train Loss: 0.2615, Train Acc: 0.9083, Train Latency: 24.21s, Memory Usage: 3110.0KB\n",
            "Test Loss: 0.3869, Test Acc: 0.8680, Test Latency: 2.36s, Test Memory Usage: 194.0KB\n",
            "\n",
            "Epoch 146\n"
          ]
        },
        {
          "name": "stderr",
          "output_type": "stream",
          "text": [
            "Train: 100%|##########################| 391/391 [00:24<00:00, 16.16batch/s]\n"
          ]
        },
        {
          "name": "stdout",
          "output_type": "stream",
          "text": [
            "LR: 1.0000e-03, Train Loss: 0.2622, Train Acc: 0.9108, Train Latency: 24.21s, Memory Usage: 3110.0KB\n",
            "Test Loss: 0.3972, Test Acc: 0.8694, Test Latency: 2.37s, Test Memory Usage: 194.0KB\n",
            "\n",
            "Epoch 147\n"
          ]
        },
        {
          "name": "stderr",
          "output_type": "stream",
          "text": [
            "Train: 100%|##########################| 391/391 [00:24<00:00, 16.20batch/s]\n"
          ]
        },
        {
          "name": "stdout",
          "output_type": "stream",
          "text": [
            "LR: 1.0000e-03, Train Loss: 0.2608, Train Acc: 0.9110, Train Latency: 24.14s, Memory Usage: 3110.0KB\n",
            "Test Loss: 0.4249, Test Acc: 0.8581, Test Latency: 2.37s, Test Memory Usage: 194.0KB\n",
            "\n",
            "Epoch 148\n"
          ]
        },
        {
          "name": "stderr",
          "output_type": "stream",
          "text": [
            "Train: 100%|##########################| 391/391 [00:23<00:00, 16.38batch/s]\n"
          ]
        },
        {
          "name": "stdout",
          "output_type": "stream",
          "text": [
            "LR: 1.0000e-03, Train Loss: 0.2619, Train Acc: 0.9103, Train Latency: 23.88s, Memory Usage: 3110.0KB\n",
            "Test Loss: 0.4414, Test Acc: 0.8572, Test Latency: 2.37s, Test Memory Usage: 194.0KB\n",
            "\n",
            "Epoch 149\n"
          ]
        },
        {
          "name": "stderr",
          "output_type": "stream",
          "text": [
            "Train: 100%|##########################| 391/391 [00:20<00:00, 18.63batch/s]\n"
          ]
        },
        {
          "name": "stdout",
          "output_type": "stream",
          "text": [
            "LR: 1.0000e-03, Train Loss: 0.2601, Train Acc: 0.9121, Train Latency: 20.99s, Memory Usage: 3110.0KB\n",
            "Test Loss: 0.3969, Test Acc: 0.8657, Test Latency: 2.10s, Test Memory Usage: 194.0KB\n",
            "\n",
            "Epoch 150\n"
          ]
        },
        {
          "name": "stderr",
          "output_type": "stream",
          "text": [
            "Train: 100%|##########################| 391/391 [00:19<00:00, 19.92batch/s]\n"
          ]
        },
        {
          "name": "stdout",
          "output_type": "stream",
          "text": [
            "LR: 1.0000e-03, Train Loss: 0.2632, Train Acc: 0.9100, Train Latency: 19.64s, Memory Usage: 3110.0KB\n",
            "Test Loss: 0.3766, Test Acc: 0.8724, Test Latency: 2.36s, Test Memory Usage: 194.0KB\n",
            "\n",
            "Epoch 151\n"
          ]
        },
        {
          "name": "stderr",
          "output_type": "stream",
          "text": [
            "Train: 100%|##########################| 391/391 [00:23<00:00, 16.36batch/s]\n"
          ]
        },
        {
          "name": "stdout",
          "output_type": "stream",
          "text": [
            "LR: 1.0000e-04, Train Loss: 0.2190, Train Acc: 0.9264, Train Latency: 23.90s, Memory Usage: 3110.0KB\n",
            "Test Loss: 0.3145, Test Acc: 0.8920, Test Latency: 2.38s, Test Memory Usage: 194.0KB\n",
            "Saving best model ...\n",
            "\n",
            "Epoch 152\n"
          ]
        },
        {
          "name": "stderr",
          "output_type": "stream",
          "text": [
            "Train: 100%|##########################| 391/391 [00:24<00:00, 16.24batch/s]\n"
          ]
        },
        {
          "name": "stdout",
          "output_type": "stream",
          "text": [
            "LR: 1.0000e-04, Train Loss: 0.2076, Train Acc: 0.9299, Train Latency: 24.08s, Memory Usage: 3110.0KB\n",
            "Test Loss: 0.3269, Test Acc: 0.8905, Test Latency: 2.36s, Test Memory Usage: 194.0KB\n",
            "\n",
            "Epoch 153\n"
          ]
        },
        {
          "name": "stderr",
          "output_type": "stream",
          "text": [
            "Train: 100%|##########################| 391/391 [00:23<00:00, 16.47batch/s]\n"
          ]
        },
        {
          "name": "stdout",
          "output_type": "stream",
          "text": [
            "LR: 1.0000e-04, Train Loss: 0.2030, Train Acc: 0.9316, Train Latency: 23.75s, Memory Usage: 3110.0KB\n",
            "Test Loss: 0.3221, Test Acc: 0.8906, Test Latency: 2.36s, Test Memory Usage: 194.0KB\n",
            "\n",
            "Epoch 154\n"
          ]
        },
        {
          "name": "stderr",
          "output_type": "stream",
          "text": [
            "Train: 100%|##########################| 391/391 [00:24<00:00, 16.12batch/s]\n"
          ]
        },
        {
          "name": "stdout",
          "output_type": "stream",
          "text": [
            "LR: 1.0000e-04, Train Loss: 0.2011, Train Acc: 0.9317, Train Latency: 24.25s, Memory Usage: 3110.0KB\n",
            "Test Loss: 0.3085, Test Acc: 0.8963, Test Latency: 2.37s, Test Memory Usage: 194.0KB\n",
            "Saving best model ...\n",
            "\n",
            "Epoch 155\n"
          ]
        },
        {
          "name": "stderr",
          "output_type": "stream",
          "text": [
            "Train: 100%|##########################| 391/391 [00:24<00:00, 16.05batch/s]\n"
          ]
        },
        {
          "name": "stdout",
          "output_type": "stream",
          "text": [
            "LR: 1.0000e-04, Train Loss: 0.2011, Train Acc: 0.9336, Train Latency: 24.37s, Memory Usage: 3110.0KB\n",
            "Test Loss: 0.3241, Test Acc: 0.8931, Test Latency: 2.37s, Test Memory Usage: 194.0KB\n",
            "\n",
            "Epoch 156\n"
          ]
        },
        {
          "name": "stderr",
          "output_type": "stream",
          "text": [
            "Train: 100%|##########################| 391/391 [00:23<00:00, 16.62batch/s]\n"
          ]
        },
        {
          "name": "stdout",
          "output_type": "stream",
          "text": [
            "LR: 1.0000e-04, Train Loss: 0.2032, Train Acc: 0.9327, Train Latency: 23.53s, Memory Usage: 3110.0KB\n",
            "Test Loss: 0.3324, Test Acc: 0.8863, Test Latency: 2.37s, Test Memory Usage: 194.0KB\n",
            "\n",
            "Epoch 157\n"
          ]
        },
        {
          "name": "stderr",
          "output_type": "stream",
          "text": [
            "Train: 100%|##########################| 391/391 [00:24<00:00, 16.20batch/s]\n"
          ]
        },
        {
          "name": "stdout",
          "output_type": "stream",
          "text": [
            "LR: 1.0000e-04, Train Loss: 0.2016, Train Acc: 0.9331, Train Latency: 24.14s, Memory Usage: 3110.0KB\n",
            "Test Loss: 0.3265, Test Acc: 0.8941, Test Latency: 2.37s, Test Memory Usage: 194.0KB\n",
            "\n",
            "Epoch 158\n"
          ]
        },
        {
          "name": "stderr",
          "output_type": "stream",
          "text": [
            "Train: 100%|##########################| 391/391 [00:23<00:00, 16.38batch/s]\n"
          ]
        },
        {
          "name": "stdout",
          "output_type": "stream",
          "text": [
            "LR: 1.0000e-04, Train Loss: 0.2009, Train Acc: 0.9333, Train Latency: 23.87s, Memory Usage: 3110.0KB\n",
            "Test Loss: 0.3340, Test Acc: 0.8872, Test Latency: 2.35s, Test Memory Usage: 194.0KB\n",
            "\n",
            "Epoch 159\n"
          ]
        },
        {
          "name": "stderr",
          "output_type": "stream",
          "text": [
            "Train: 100%|##########################| 391/391 [00:24<00:00, 15.92batch/s]\n"
          ]
        },
        {
          "name": "stdout",
          "output_type": "stream",
          "text": [
            "LR: 1.0000e-04, Train Loss: 0.1989, Train Acc: 0.9337, Train Latency: 24.56s, Memory Usage: 3110.0KB\n",
            "Test Loss: 0.3258, Test Acc: 0.8925, Test Latency: 2.38s, Test Memory Usage: 194.0KB\n",
            "\n",
            "Epoch 160\n"
          ]
        },
        {
          "name": "stderr",
          "output_type": "stream",
          "text": [
            "Train: 100%|##########################| 391/391 [00:23<00:00, 16.74batch/s]\n"
          ]
        },
        {
          "name": "stdout",
          "output_type": "stream",
          "text": [
            "LR: 1.0000e-04, Train Loss: 0.2015, Train Acc: 0.9331, Train Latency: 23.36s, Memory Usage: 3110.0KB\n",
            "Test Loss: 0.3397, Test Acc: 0.8847, Test Latency: 2.08s, Test Memory Usage: 194.0KB\n",
            "\n",
            "Epoch 161\n"
          ]
        },
        {
          "name": "stderr",
          "output_type": "stream",
          "text": [
            "Train: 100%|##########################| 391/391 [00:23<00:00, 16.82batch/s]\n"
          ]
        },
        {
          "name": "stdout",
          "output_type": "stream",
          "text": [
            "LR: 1.0000e-04, Train Loss: 0.2023, Train Acc: 0.9325, Train Latency: 23.26s, Memory Usage: 3110.0KB\n",
            "Test Loss: 0.3497, Test Acc: 0.8824, Test Latency: 2.11s, Test Memory Usage: 194.0KB\n",
            "\n",
            "Epoch 162\n"
          ]
        },
        {
          "name": "stderr",
          "output_type": "stream",
          "text": [
            "Train: 100%|##########################| 391/391 [00:24<00:00, 16.29batch/s]\n"
          ]
        },
        {
          "name": "stdout",
          "output_type": "stream",
          "text": [
            "LR: 1.0000e-04, Train Loss: 0.1993, Train Acc: 0.9337, Train Latency: 24.01s, Memory Usage: 3110.0KB\n",
            "Test Loss: 0.3319, Test Acc: 0.8887, Test Latency: 2.35s, Test Memory Usage: 194.0KB\n",
            "\n",
            "Epoch 163\n"
          ]
        },
        {
          "name": "stderr",
          "output_type": "stream",
          "text": [
            "Train: 100%|##########################| 391/391 [00:22<00:00, 17.26batch/s]\n"
          ]
        },
        {
          "name": "stdout",
          "output_type": "stream",
          "text": [
            "LR: 1.0000e-04, Train Loss: 0.2020, Train Acc: 0.9328, Train Latency: 22.65s, Memory Usage: 3110.0KB\n",
            "Test Loss: 0.3386, Test Acc: 0.8846, Test Latency: 2.07s, Test Memory Usage: 194.0KB\n",
            "\n",
            "Epoch 164\n"
          ]
        },
        {
          "name": "stderr",
          "output_type": "stream",
          "text": [
            "Train: 100%|##########################| 391/391 [00:21<00:00, 17.83batch/s]\n"
          ]
        },
        {
          "name": "stdout",
          "output_type": "stream",
          "text": [
            "LR: 1.0000e-04, Train Loss: 0.1993, Train Acc: 0.9337, Train Latency: 21.94s, Memory Usage: 3110.0KB\n",
            "Test Loss: 0.3273, Test Acc: 0.8930, Test Latency: 2.38s, Test Memory Usage: 194.0KB\n",
            "\n",
            "Epoch 165\n"
          ]
        },
        {
          "name": "stderr",
          "output_type": "stream",
          "text": [
            "Train: 100%|##########################| 391/391 [00:24<00:00, 16.09batch/s]\n"
          ]
        },
        {
          "name": "stdout",
          "output_type": "stream",
          "text": [
            "LR: 1.0000e-04, Train Loss: 0.1995, Train Acc: 0.9339, Train Latency: 24.30s, Memory Usage: 3110.0KB\n",
            "Test Loss: 0.3409, Test Acc: 0.8858, Test Latency: 2.37s, Test Memory Usage: 194.0KB\n",
            "\n",
            "Epoch 166\n"
          ]
        },
        {
          "name": "stderr",
          "output_type": "stream",
          "text": [
            "Train: 100%|##########################| 391/391 [00:23<00:00, 16.72batch/s]\n"
          ]
        },
        {
          "name": "stdout",
          "output_type": "stream",
          "text": [
            "LR: 1.0000e-04, Train Loss: 0.2019, Train Acc: 0.9317, Train Latency: 23.39s, Memory Usage: 3110.0KB\n",
            "Test Loss: 0.3349, Test Acc: 0.8855, Test Latency: 2.35s, Test Memory Usage: 194.0KB\n",
            "\n",
            "Epoch 167\n"
          ]
        },
        {
          "name": "stderr",
          "output_type": "stream",
          "text": [
            "Train: 100%|##########################| 391/391 [00:23<00:00, 16.44batch/s]\n"
          ]
        },
        {
          "name": "stdout",
          "output_type": "stream",
          "text": [
            "LR: 1.0000e-04, Train Loss: 0.2026, Train Acc: 0.9314, Train Latency: 23.79s, Memory Usage: 3110.0KB\n",
            "Test Loss: 0.3536, Test Acc: 0.8817, Test Latency: 2.38s, Test Memory Usage: 194.0KB\n",
            "\n",
            "Epoch 168\n"
          ]
        },
        {
          "name": "stderr",
          "output_type": "stream",
          "text": [
            "Train: 100%|##########################| 391/391 [00:24<00:00, 16.26batch/s]\n"
          ]
        },
        {
          "name": "stdout",
          "output_type": "stream",
          "text": [
            "LR: 1.0000e-04, Train Loss: 0.2023, Train Acc: 0.9327, Train Latency: 24.06s, Memory Usage: 3110.0KB\n",
            "Test Loss: 0.3471, Test Acc: 0.8814, Test Latency: 2.35s, Test Memory Usage: 194.0KB\n",
            "\n",
            "Epoch 169\n"
          ]
        },
        {
          "name": "stderr",
          "output_type": "stream",
          "text": [
            "Train: 100%|##########################| 391/391 [00:24<00:00, 16.13batch/s]\n"
          ]
        },
        {
          "name": "stdout",
          "output_type": "stream",
          "text": [
            "LR: 1.0000e-04, Train Loss: 0.2013, Train Acc: 0.9321, Train Latency: 24.24s, Memory Usage: 3110.0KB\n",
            "Test Loss: 0.3411, Test Acc: 0.8869, Test Latency: 2.37s, Test Memory Usage: 194.0KB\n",
            "\n",
            "Epoch 170\n"
          ]
        },
        {
          "name": "stderr",
          "output_type": "stream",
          "text": [
            "Train: 100%|##########################| 391/391 [00:24<00:00, 16.15batch/s]\n"
          ]
        },
        {
          "name": "stdout",
          "output_type": "stream",
          "text": [
            "LR: 1.0000e-04, Train Loss: 0.2017, Train Acc: 0.9325, Train Latency: 24.21s, Memory Usage: 3110.0KB\n",
            "Test Loss: 0.3471, Test Acc: 0.8871, Test Latency: 2.37s, Test Memory Usage: 194.0KB\n",
            "\n",
            "Epoch 171\n"
          ]
        },
        {
          "name": "stderr",
          "output_type": "stream",
          "text": [
            "Train: 100%|##########################| 391/391 [00:24<00:00, 16.09batch/s]\n"
          ]
        },
        {
          "name": "stdout",
          "output_type": "stream",
          "text": [
            "LR: 1.0000e-04, Train Loss: 0.2018, Train Acc: 0.9320, Train Latency: 24.30s, Memory Usage: 3110.0KB\n",
            "Test Loss: 0.3837, Test Acc: 0.8724, Test Latency: 2.38s, Test Memory Usage: 194.0KB\n",
            "\n",
            "Epoch 172\n"
          ]
        },
        {
          "name": "stderr",
          "output_type": "stream",
          "text": [
            "Train: 100%|##########################| 391/391 [00:23<00:00, 16.52batch/s]\n"
          ]
        },
        {
          "name": "stdout",
          "output_type": "stream",
          "text": [
            "LR: 1.0000e-04, Train Loss: 0.2010, Train Acc: 0.9320, Train Latency: 23.67s, Memory Usage: 3110.0KB\n",
            "Test Loss: 0.3546, Test Acc: 0.8839, Test Latency: 2.35s, Test Memory Usage: 194.0KB\n",
            "\n",
            "Epoch 173\n"
          ]
        },
        {
          "name": "stderr",
          "output_type": "stream",
          "text": [
            "Train: 100%|##########################| 391/391 [00:23<00:00, 16.33batch/s]\n"
          ]
        },
        {
          "name": "stdout",
          "output_type": "stream",
          "text": [
            "LR: 1.0000e-04, Train Loss: 0.1987, Train Acc: 0.9336, Train Latency: 23.94s, Memory Usage: 3110.0KB\n",
            "Test Loss: 0.3381, Test Acc: 0.8897, Test Latency: 2.37s, Test Memory Usage: 194.0KB\n",
            "\n",
            "Epoch 174\n"
          ]
        },
        {
          "name": "stderr",
          "output_type": "stream",
          "text": [
            "Train: 100%|##########################| 391/391 [00:24<00:00, 16.03batch/s]\n"
          ]
        },
        {
          "name": "stdout",
          "output_type": "stream",
          "text": [
            "LR: 1.0000e-04, Train Loss: 0.2035, Train Acc: 0.9319, Train Latency: 24.40s, Memory Usage: 3110.0KB\n",
            "Test Loss: 0.3601, Test Acc: 0.8790, Test Latency: 2.37s, Test Memory Usage: 194.0KB\n",
            "\n",
            "Epoch 175\n"
          ]
        },
        {
          "name": "stderr",
          "output_type": "stream",
          "text": [
            "Train: 100%|##########################| 391/391 [00:22<00:00, 17.10batch/s]\n"
          ]
        },
        {
          "name": "stdout",
          "output_type": "stream",
          "text": [
            "LR: 1.0000e-04, Train Loss: 0.2003, Train Acc: 0.9332, Train Latency: 22.86s, Memory Usage: 3110.0KB\n",
            "Test Loss: 0.3714, Test Acc: 0.8771, Test Latency: 2.37s, Test Memory Usage: 194.0KB\n",
            "\n",
            "Epoch 176\n"
          ]
        },
        {
          "name": "stderr",
          "output_type": "stream",
          "text": [
            "Train: 100%|##########################| 391/391 [00:23<00:00, 16.30batch/s]\n"
          ]
        },
        {
          "name": "stdout",
          "output_type": "stream",
          "text": [
            "LR: 1.0000e-04, Train Loss: 0.1998, Train Acc: 0.9324, Train Latency: 23.99s, Memory Usage: 3110.0KB\n",
            "Test Loss: 0.3409, Test Acc: 0.8874, Test Latency: 2.37s, Test Memory Usage: 194.0KB\n",
            "\n",
            "Epoch 177\n"
          ]
        },
        {
          "name": "stderr",
          "output_type": "stream",
          "text": [
            "Train: 100%|##########################| 391/391 [00:24<00:00, 16.14batch/s]\n"
          ]
        },
        {
          "name": "stdout",
          "output_type": "stream",
          "text": [
            "LR: 1.0000e-04, Train Loss: 0.2018, Train Acc: 0.9331, Train Latency: 24.23s, Memory Usage: 3110.0KB\n",
            "Test Loss: 0.3451, Test Acc: 0.8846, Test Latency: 2.37s, Test Memory Usage: 194.0KB\n",
            "\n",
            "Epoch 178\n"
          ]
        },
        {
          "name": "stderr",
          "output_type": "stream",
          "text": [
            "Train: 100%|##########################| 391/391 [00:24<00:00, 16.09batch/s]\n"
          ]
        },
        {
          "name": "stdout",
          "output_type": "stream",
          "text": [
            "LR: 1.0000e-04, Train Loss: 0.2003, Train Acc: 0.9342, Train Latency: 24.30s, Memory Usage: 3110.0KB\n",
            "Test Loss: 0.3490, Test Acc: 0.8859, Test Latency: 2.36s, Test Memory Usage: 194.0KB\n",
            "\n",
            "Epoch 179\n"
          ]
        },
        {
          "name": "stderr",
          "output_type": "stream",
          "text": [
            "Train: 100%|##########################| 391/391 [00:23<00:00, 16.90batch/s]\n"
          ]
        },
        {
          "name": "stdout",
          "output_type": "stream",
          "text": [
            "LR: 1.0000e-04, Train Loss: 0.2041, Train Acc: 0.9316, Train Latency: 23.14s, Memory Usage: 3110.0KB\n",
            "Test Loss: 0.3608, Test Acc: 0.8835, Test Latency: 2.27s, Test Memory Usage: 194.0KB\n",
            "\n",
            "Epoch 180\n"
          ]
        },
        {
          "name": "stderr",
          "output_type": "stream",
          "text": [
            "Train: 100%|##########################| 391/391 [00:23<00:00, 16.89batch/s]\n"
          ]
        },
        {
          "name": "stdout",
          "output_type": "stream",
          "text": [
            "LR: 1.0000e-04, Train Loss: 0.2028, Train Acc: 0.9325, Train Latency: 23.15s, Memory Usage: 3110.0KB\n",
            "Test Loss: 0.3381, Test Acc: 0.8872, Test Latency: 2.08s, Test Memory Usage: 194.0KB\n",
            "\n",
            "Epoch 181\n"
          ]
        },
        {
          "name": "stderr",
          "output_type": "stream",
          "text": [
            "Train: 100%|##########################| 391/391 [00:21<00:00, 18.52batch/s]\n"
          ]
        },
        {
          "name": "stdout",
          "output_type": "stream",
          "text": [
            "LR: 1.0000e-04, Train Loss: 0.2016, Train Acc: 0.9314, Train Latency: 21.12s, Memory Usage: 3110.0KB\n",
            "Test Loss: 0.3492, Test Acc: 0.8825, Test Latency: 2.06s, Test Memory Usage: 194.0KB\n",
            "\n",
            "Epoch 182\n"
          ]
        },
        {
          "name": "stderr",
          "output_type": "stream",
          "text": [
            "Train: 100%|##########################| 391/391 [00:22<00:00, 17.25batch/s]\n"
          ]
        },
        {
          "name": "stdout",
          "output_type": "stream",
          "text": [
            "LR: 1.0000e-04, Train Loss: 0.2043, Train Acc: 0.9315, Train Latency: 22.67s, Memory Usage: 3110.0KB\n",
            "Test Loss: 0.3418, Test Acc: 0.8865, Test Latency: 2.07s, Test Memory Usage: 194.0KB\n",
            "\n",
            "Epoch 183\n"
          ]
        },
        {
          "name": "stderr",
          "output_type": "stream",
          "text": [
            "Train: 100%|##########################| 391/391 [00:24<00:00, 16.15batch/s]\n"
          ]
        },
        {
          "name": "stdout",
          "output_type": "stream",
          "text": [
            "LR: 1.0000e-04, Train Loss: 0.2046, Train Acc: 0.9310, Train Latency: 24.22s, Memory Usage: 3110.0KB\n",
            "Test Loss: 0.3621, Test Acc: 0.8802, Test Latency: 2.36s, Test Memory Usage: 194.0KB\n",
            "\n",
            "Epoch 184\n"
          ]
        },
        {
          "name": "stderr",
          "output_type": "stream",
          "text": [
            "Train: 100%|##########################| 391/391 [00:24<00:00, 16.13batch/s]\n"
          ]
        },
        {
          "name": "stdout",
          "output_type": "stream",
          "text": [
            "LR: 1.0000e-04, Train Loss: 0.2020, Train Acc: 0.9330, Train Latency: 24.24s, Memory Usage: 3110.0KB\n",
            "Test Loss: 0.3402, Test Acc: 0.8863, Test Latency: 2.36s, Test Memory Usage: 194.0KB\n",
            "\n",
            "Epoch 185\n"
          ]
        },
        {
          "name": "stderr",
          "output_type": "stream",
          "text": [
            "Train: 100%|##########################| 391/391 [00:22<00:00, 17.31batch/s]\n"
          ]
        },
        {
          "name": "stdout",
          "output_type": "stream",
          "text": [
            "LR: 1.0000e-04, Train Loss: 0.2057, Train Acc: 0.9306, Train Latency: 22.60s, Memory Usage: 3110.0KB\n",
            "Test Loss: 0.3492, Test Acc: 0.8884, Test Latency: 2.37s, Test Memory Usage: 194.0KB\n",
            "\n",
            "Epoch 186\n"
          ]
        },
        {
          "name": "stderr",
          "output_type": "stream",
          "text": [
            "Train: 100%|##########################| 391/391 [00:24<00:00, 16.02batch/s]\n"
          ]
        },
        {
          "name": "stdout",
          "output_type": "stream",
          "text": [
            "LR: 1.0000e-04, Train Loss: 0.2020, Train Acc: 0.9322, Train Latency: 24.41s, Memory Usage: 3110.0KB\n",
            "Test Loss: 0.3541, Test Acc: 0.8822, Test Latency: 2.36s, Test Memory Usage: 194.0KB\n",
            "\n",
            "Epoch 187\n"
          ]
        },
        {
          "name": "stderr",
          "output_type": "stream",
          "text": [
            "Train: 100%|##########################| 391/391 [00:24<00:00, 16.15batch/s]\n"
          ]
        },
        {
          "name": "stdout",
          "output_type": "stream",
          "text": [
            "LR: 1.0000e-04, Train Loss: 0.2066, Train Acc: 0.9312, Train Latency: 24.22s, Memory Usage: 3110.0KB\n",
            "Test Loss: 0.3461, Test Acc: 0.8819, Test Latency: 2.37s, Test Memory Usage: 194.0KB\n",
            "\n",
            "Epoch 188\n"
          ]
        },
        {
          "name": "stderr",
          "output_type": "stream",
          "text": [
            "Train: 100%|##########################| 391/391 [00:20<00:00, 19.39batch/s]\n"
          ]
        },
        {
          "name": "stdout",
          "output_type": "stream",
          "text": [
            "LR: 1.0000e-04, Train Loss: 0.2062, Train Acc: 0.9298, Train Latency: 20.16s, Memory Usage: 3110.0KB\n",
            "Test Loss: 0.3627, Test Acc: 0.8835, Test Latency: 2.09s, Test Memory Usage: 194.0KB\n",
            "\n",
            "Epoch 189\n"
          ]
        },
        {
          "name": "stderr",
          "output_type": "stream",
          "text": [
            "Train: 100%|##########################| 391/391 [00:23<00:00, 16.68batch/s]\n"
          ]
        },
        {
          "name": "stdout",
          "output_type": "stream",
          "text": [
            "LR: 1.0000e-04, Train Loss: 0.2054, Train Acc: 0.9317, Train Latency: 23.44s, Memory Usage: 3110.0KB\n",
            "Test Loss: 0.3523, Test Acc: 0.8840, Test Latency: 2.07s, Test Memory Usage: 194.0KB\n",
            "\n",
            "Epoch 190\n"
          ]
        },
        {
          "name": "stderr",
          "output_type": "stream",
          "text": [
            "Train: 100%|##########################| 391/391 [00:24<00:00, 16.16batch/s]\n"
          ]
        },
        {
          "name": "stdout",
          "output_type": "stream",
          "text": [
            "LR: 1.0000e-04, Train Loss: 0.2043, Train Acc: 0.9313, Train Latency: 24.20s, Memory Usage: 3110.0KB\n",
            "Test Loss: 0.4272, Test Acc: 0.8558, Test Latency: 2.35s, Test Memory Usage: 194.0KB\n",
            "\n",
            "Epoch 191\n"
          ]
        },
        {
          "name": "stderr",
          "output_type": "stream",
          "text": [
            "Train: 100%|##########################| 391/391 [00:24<00:00, 16.12batch/s]\n"
          ]
        },
        {
          "name": "stdout",
          "output_type": "stream",
          "text": [
            "LR: 1.0000e-04, Train Loss: 0.2073, Train Acc: 0.9304, Train Latency: 24.26s, Memory Usage: 3110.0KB\n",
            "Test Loss: 0.3900, Test Acc: 0.8732, Test Latency: 2.37s, Test Memory Usage: 194.0KB\n",
            "\n",
            "Epoch 192\n"
          ]
        },
        {
          "name": "stderr",
          "output_type": "stream",
          "text": [
            "Train: 100%|##########################| 391/391 [00:24<00:00, 16.26batch/s]\n"
          ]
        },
        {
          "name": "stdout",
          "output_type": "stream",
          "text": [
            "LR: 1.0000e-04, Train Loss: 0.2034, Train Acc: 0.9314, Train Latency: 24.05s, Memory Usage: 3110.0KB\n",
            "Test Loss: 0.3297, Test Acc: 0.8926, Test Latency: 2.35s, Test Memory Usage: 194.0KB\n",
            "\n",
            "Epoch 193\n"
          ]
        },
        {
          "name": "stderr",
          "output_type": "stream",
          "text": [
            "Train: 100%|##########################| 391/391 [00:24<00:00, 16.14batch/s]\n"
          ]
        },
        {
          "name": "stdout",
          "output_type": "stream",
          "text": [
            "LR: 1.0000e-04, Train Loss: 0.2038, Train Acc: 0.9320, Train Latency: 24.23s, Memory Usage: 3110.0KB\n",
            "Test Loss: 0.3694, Test Acc: 0.8778, Test Latency: 2.38s, Test Memory Usage: 194.0KB\n",
            "\n",
            "Epoch 194\n"
          ]
        },
        {
          "name": "stderr",
          "output_type": "stream",
          "text": [
            "Train: 100%|##########################| 391/391 [00:20<00:00, 18.62batch/s]\n"
          ]
        },
        {
          "name": "stdout",
          "output_type": "stream",
          "text": [
            "LR: 1.0000e-04, Train Loss: 0.2045, Train Acc: 0.9316, Train Latency: 21.00s, Memory Usage: 3110.0KB\n",
            "Test Loss: 0.3667, Test Acc: 0.8817, Test Latency: 2.38s, Test Memory Usage: 194.0KB\n",
            "\n",
            "Epoch 195\n"
          ]
        },
        {
          "name": "stderr",
          "output_type": "stream",
          "text": [
            "Train: 100%|##########################| 391/391 [00:24<00:00, 15.94batch/s]\n"
          ]
        },
        {
          "name": "stdout",
          "output_type": "stream",
          "text": [
            "LR: 1.0000e-04, Train Loss: 0.2048, Train Acc: 0.9309, Train Latency: 24.53s, Memory Usage: 3110.0KB\n",
            "Test Loss: 0.3868, Test Acc: 0.8756, Test Latency: 2.35s, Test Memory Usage: 194.0KB\n",
            "\n",
            "Epoch 196\n"
          ]
        },
        {
          "name": "stderr",
          "output_type": "stream",
          "text": [
            "Train: 100%|##########################| 391/391 [00:24<00:00, 16.19batch/s]\n"
          ]
        },
        {
          "name": "stdout",
          "output_type": "stream",
          "text": [
            "LR: 1.0000e-04, Train Loss: 0.2079, Train Acc: 0.9310, Train Latency: 24.16s, Memory Usage: 3110.0KB\n",
            "Test Loss: 0.3384, Test Acc: 0.8883, Test Latency: 2.38s, Test Memory Usage: 194.0KB\n",
            "\n",
            "Epoch 197\n"
          ]
        },
        {
          "name": "stderr",
          "output_type": "stream",
          "text": [
            "Train: 100%|##########################| 391/391 [00:24<00:00, 16.21batch/s]\n"
          ]
        },
        {
          "name": "stdout",
          "output_type": "stream",
          "text": [
            "LR: 1.0000e-04, Train Loss: 0.2090, Train Acc: 0.9291, Train Latency: 24.12s, Memory Usage: 3110.0KB\n",
            "Test Loss: 0.3458, Test Acc: 0.8867, Test Latency: 2.37s, Test Memory Usage: 194.0KB\n",
            "\n",
            "Epoch 198\n"
          ]
        },
        {
          "name": "stderr",
          "output_type": "stream",
          "text": [
            "Train: 100%|##########################| 391/391 [00:22<00:00, 17.32batch/s]\n"
          ]
        },
        {
          "name": "stdout",
          "output_type": "stream",
          "text": [
            "LR: 1.0000e-04, Train Loss: 0.2065, Train Acc: 0.9315, Train Latency: 22.57s, Memory Usage: 3110.0KB\n",
            "Test Loss: 0.3397, Test Acc: 0.8879, Test Latency: 2.37s, Test Memory Usage: 194.0KB\n",
            "\n",
            "Epoch 199\n"
          ]
        },
        {
          "name": "stderr",
          "output_type": "stream",
          "text": [
            "Train: 100%|##########################| 391/391 [00:21<00:00, 18.46batch/s]\n"
          ]
        },
        {
          "name": "stdout",
          "output_type": "stream",
          "text": [
            "LR: 1.0000e-04, Train Loss: 0.2071, Train Acc: 0.9299, Train Latency: 21.18s, Memory Usage: 3110.0KB\n",
            "Test Loss: 0.3604, Test Acc: 0.8816, Test Latency: 2.40s, Test Memory Usage: 194.0KB\n",
            "\n",
            "Epoch 200\n"
          ]
        },
        {
          "name": "stderr",
          "output_type": "stream",
          "text": [
            "Train: 100%|##########################| 391/391 [00:21<00:00, 17.93batch/s]\n"
          ]
        },
        {
          "name": "stdout",
          "output_type": "stream",
          "text": [
            "LR: 1.0000e-04, Train Loss: 0.2081, Train Acc: 0.9300, Train Latency: 21.81s, Memory Usage: 3110.0KB\n",
            "Test Loss: 0.3643, Test Acc: 0.8790, Test Latency: 2.35s, Test Memory Usage: 194.0KB\n",
            "Saving final epoch model ...\n"
          ]
        }
      ],
      "source": [
        "train(w_nbits=1, a_nbits=None, lambda_val=0.004)"
      ]
    },
    {
      "cell_type": "code",
      "execution_count": 6,
      "metadata": {},
      "outputs": [
        {
          "name": "stdout",
          "output_type": "stream",
          "text": [
            "\n",
            "Quantization: weight=3 activation=None threshold=0.001, Using device: cuda\n",
            "\n",
            "Epoch 1\n"
          ]
        },
        {
          "name": "stderr",
          "output_type": "stream",
          "text": [
            "Train: 100%|###############################| 391/391 [00:25<00:00, 15.09batch/s]\n"
          ]
        },
        {
          "name": "stdout",
          "output_type": "stream",
          "text": [
            "LR: 1.0000e-01, Train Loss: 1.5751, Train Acc: 0.4182, Train Latency: 25.91s, Memory Usage: 19750.0KB\n",
            "Test Loss: 1.5508, Test Acc: 0.4768, Test Latency: 3.32s, Test Memory Usage: 194.0KB\n",
            "\n",
            "Epoch 2\n"
          ]
        },
        {
          "name": "stderr",
          "output_type": "stream",
          "text": [
            "Train: 100%|###############################| 391/391 [00:30<00:00, 12.75batch/s]\n"
          ]
        },
        {
          "name": "stdout",
          "output_type": "stream",
          "text": [
            "LR: 1.0000e-01, Train Loss: 1.1141, Train Acc: 0.5974, Train Latency: 30.67s, Memory Usage: 19750.0KB\n",
            "Test Loss: 1.2724, Test Acc: 0.5723, Test Latency: 3.56s, Test Memory Usage: 194.0KB\n",
            "\n",
            "Epoch 3\n"
          ]
        },
        {
          "name": "stderr",
          "output_type": "stream",
          "text": [
            "Train: 100%|###############################| 391/391 [00:30<00:00, 12.62batch/s]\n"
          ]
        },
        {
          "name": "stdout",
          "output_type": "stream",
          "text": [
            "LR: 1.0000e-01, Train Loss: 0.9299, Train Acc: 0.6721, Train Latency: 31.00s, Memory Usage: 19750.0KB\n",
            "Test Loss: 1.0202, Test Acc: 0.6574, Test Latency: 3.71s, Test Memory Usage: 194.0KB\n",
            "\n",
            "Epoch 4\n"
          ]
        },
        {
          "name": "stderr",
          "output_type": "stream",
          "text": [
            "Train: 100%|###############################| 391/391 [00:31<00:00, 12.57batch/s]\n"
          ]
        },
        {
          "name": "stdout",
          "output_type": "stream",
          "text": [
            "LR: 1.0000e-01, Train Loss: 0.8306, Train Acc: 0.7118, Train Latency: 31.12s, Memory Usage: 19750.0KB\n",
            "Test Loss: 0.9541, Test Acc: 0.6719, Test Latency: 3.56s, Test Memory Usage: 194.0KB\n",
            "\n",
            "Epoch 5\n"
          ]
        },
        {
          "name": "stderr",
          "output_type": "stream",
          "text": [
            "Train: 100%|###############################| 391/391 [00:30<00:00, 12.91batch/s]\n"
          ]
        },
        {
          "name": "stdout",
          "output_type": "stream",
          "text": [
            "LR: 1.0000e-01, Train Loss: 0.7688, Train Acc: 0.7349, Train Latency: 30.29s, Memory Usage: 19750.0KB\n",
            "Test Loss: 1.2063, Test Acc: 0.6107, Test Latency: 3.69s, Test Memory Usage: 194.0KB\n",
            "\n",
            "Epoch 6\n"
          ]
        },
        {
          "name": "stderr",
          "output_type": "stream",
          "text": [
            "Train: 100%|###############################| 391/391 [00:31<00:00, 12.53batch/s]\n"
          ]
        },
        {
          "name": "stdout",
          "output_type": "stream",
          "text": [
            "LR: 1.0000e-01, Train Loss: 0.7443, Train Acc: 0.7437, Train Latency: 31.21s, Memory Usage: 19750.0KB\n",
            "Test Loss: 1.0676, Test Acc: 0.6556, Test Latency: 3.69s, Test Memory Usage: 194.0KB\n",
            "\n",
            "Epoch 7\n"
          ]
        },
        {
          "name": "stderr",
          "output_type": "stream",
          "text": [
            "Train: 100%|###############################| 391/391 [00:30<00:00, 12.72batch/s]\n"
          ]
        },
        {
          "name": "stdout",
          "output_type": "stream",
          "text": [
            "LR: 1.0000e-01, Train Loss: 0.7189, Train Acc: 0.7523, Train Latency: 30.74s, Memory Usage: 19750.0KB\n",
            "Test Loss: 1.1456, Test Acc: 0.6288, Test Latency: 3.54s, Test Memory Usage: 194.0KB\n",
            "\n",
            "Epoch 8\n"
          ]
        },
        {
          "name": "stderr",
          "output_type": "stream",
          "text": [
            "Train: 100%|###############################| 391/391 [00:30<00:00, 12.79batch/s]\n"
          ]
        },
        {
          "name": "stdout",
          "output_type": "stream",
          "text": [
            "LR: 1.0000e-01, Train Loss: 0.7001, Train Acc: 0.7587, Train Latency: 30.57s, Memory Usage: 19750.0KB\n",
            "Test Loss: 0.8485, Test Acc: 0.7111, Test Latency: 3.71s, Test Memory Usage: 194.0KB\n",
            "\n",
            "Epoch 9\n"
          ]
        },
        {
          "name": "stderr",
          "output_type": "stream",
          "text": [
            "Train: 100%|###############################| 391/391 [00:25<00:00, 15.17batch/s]\n"
          ]
        },
        {
          "name": "stdout",
          "output_type": "stream",
          "text": [
            "LR: 1.0000e-01, Train Loss: 0.6974, Train Acc: 0.7624, Train Latency: 25.78s, Memory Usage: 19750.0KB\n",
            "Test Loss: 1.0824, Test Acc: 0.6378, Test Latency: 3.23s, Test Memory Usage: 194.0KB\n",
            "\n",
            "Epoch 10\n"
          ]
        },
        {
          "name": "stderr",
          "output_type": "stream",
          "text": [
            "Train: 100%|###############################| 391/391 [00:24<00:00, 15.68batch/s]\n"
          ]
        },
        {
          "name": "stdout",
          "output_type": "stream",
          "text": [
            "LR: 1.0000e-01, Train Loss: 0.6809, Train Acc: 0.7664, Train Latency: 24.94s, Memory Usage: 19750.0KB\n",
            "Test Loss: 0.9729, Test Acc: 0.6871, Test Latency: 3.26s, Test Memory Usage: 194.0KB\n",
            "\n",
            "Epoch 11\n"
          ]
        },
        {
          "name": "stderr",
          "output_type": "stream",
          "text": [
            "Train: 100%|###############################| 391/391 [00:30<00:00, 12.62batch/s]\n"
          ]
        },
        {
          "name": "stdout",
          "output_type": "stream",
          "text": [
            "LR: 1.0000e-01, Train Loss: 0.6768, Train Acc: 0.7687, Train Latency: 30.98s, Memory Usage: 19750.0KB\n",
            "Test Loss: 1.1166, Test Acc: 0.6532, Test Latency: 3.71s, Test Memory Usage: 194.0KB\n",
            "\n",
            "Epoch 12\n"
          ]
        },
        {
          "name": "stderr",
          "output_type": "stream",
          "text": [
            "Train: 100%|###############################| 391/391 [00:30<00:00, 12.65batch/s]\n"
          ]
        },
        {
          "name": "stdout",
          "output_type": "stream",
          "text": [
            "LR: 1.0000e-01, Train Loss: 0.6713, Train Acc: 0.7676, Train Latency: 30.91s, Memory Usage: 19750.0KB\n",
            "Test Loss: 1.1648, Test Acc: 0.6112, Test Latency: 3.71s, Test Memory Usage: 194.0KB\n",
            "\n",
            "Epoch 13\n"
          ]
        },
        {
          "name": "stderr",
          "output_type": "stream",
          "text": [
            "Train: 100%|###############################| 391/391 [00:29<00:00, 13.40batch/s]\n"
          ]
        },
        {
          "name": "stdout",
          "output_type": "stream",
          "text": [
            "LR: 1.0000e-01, Train Loss: 0.6613, Train Acc: 0.7723, Train Latency: 29.18s, Memory Usage: 19750.0KB\n",
            "Test Loss: 0.9239, Test Acc: 0.6956, Test Latency: 3.24s, Test Memory Usage: 194.0KB\n",
            "\n",
            "Epoch 14\n"
          ]
        },
        {
          "name": "stderr",
          "output_type": "stream",
          "text": [
            "Train: 100%|###############################| 391/391 [00:24<00:00, 15.72batch/s]\n"
          ]
        },
        {
          "name": "stdout",
          "output_type": "stream",
          "text": [
            "LR: 1.0000e-01, Train Loss: 0.6490, Train Acc: 0.7786, Train Latency: 24.88s, Memory Usage: 19750.0KB\n",
            "Test Loss: 0.7634, Test Acc: 0.7318, Test Latency: 3.23s, Test Memory Usage: 194.0KB\n",
            "\n",
            "Epoch 15\n"
          ]
        },
        {
          "name": "stderr",
          "output_type": "stream",
          "text": [
            "Train: 100%|###############################| 391/391 [00:27<00:00, 14.12batch/s]\n"
          ]
        },
        {
          "name": "stdout",
          "output_type": "stream",
          "text": [
            "LR: 1.0000e-01, Train Loss: 0.6451, Train Acc: 0.7795, Train Latency: 27.69s, Memory Usage: 19750.0KB\n",
            "Test Loss: 0.8650, Test Acc: 0.7087, Test Latency: 3.24s, Test Memory Usage: 194.0KB\n",
            "\n",
            "Epoch 16\n"
          ]
        },
        {
          "name": "stderr",
          "output_type": "stream",
          "text": [
            "Train: 100%|###############################| 391/391 [00:25<00:00, 15.36batch/s]\n"
          ]
        },
        {
          "name": "stdout",
          "output_type": "stream",
          "text": [
            "LR: 1.0000e-01, Train Loss: 0.6401, Train Acc: 0.7774, Train Latency: 25.46s, Memory Usage: 19750.0KB\n",
            "Test Loss: 0.9087, Test Acc: 0.7063, Test Latency: 3.23s, Test Memory Usage: 194.0KB\n",
            "\n",
            "Epoch 17\n"
          ]
        },
        {
          "name": "stderr",
          "output_type": "stream",
          "text": [
            "Train: 100%|###############################| 391/391 [00:25<00:00, 15.42batch/s]\n"
          ]
        },
        {
          "name": "stdout",
          "output_type": "stream",
          "text": [
            "LR: 1.0000e-01, Train Loss: 0.6444, Train Acc: 0.7791, Train Latency: 25.36s, Memory Usage: 19750.0KB\n",
            "Test Loss: 1.0856, Test Acc: 0.6549, Test Latency: 3.60s, Test Memory Usage: 194.0KB\n",
            "\n",
            "Epoch 18\n"
          ]
        },
        {
          "name": "stderr",
          "output_type": "stream",
          "text": [
            "Train: 100%|###############################| 391/391 [00:27<00:00, 14.01batch/s]\n"
          ]
        },
        {
          "name": "stdout",
          "output_type": "stream",
          "text": [
            "LR: 1.0000e-01, Train Loss: 0.6323, Train Acc: 0.7850, Train Latency: 27.91s, Memory Usage: 19750.0KB\n",
            "Test Loss: 0.9941, Test Acc: 0.6788, Test Latency: 3.23s, Test Memory Usage: 194.0KB\n",
            "\n",
            "Epoch 19\n"
          ]
        },
        {
          "name": "stderr",
          "output_type": "stream",
          "text": [
            "Train: 100%|###############################| 391/391 [00:28<00:00, 13.96batch/s]\n"
          ]
        },
        {
          "name": "stdout",
          "output_type": "stream",
          "text": [
            "LR: 1.0000e-01, Train Loss: 0.6332, Train Acc: 0.7821, Train Latency: 28.01s, Memory Usage: 19750.0KB\n",
            "Test Loss: 0.8871, Test Acc: 0.6835, Test Latency: 3.24s, Test Memory Usage: 194.0KB\n",
            "\n",
            "Epoch 20\n"
          ]
        },
        {
          "name": "stderr",
          "output_type": "stream",
          "text": [
            "Train: 100%|###############################| 391/391 [00:31<00:00, 12.46batch/s]\n"
          ]
        },
        {
          "name": "stdout",
          "output_type": "stream",
          "text": [
            "LR: 1.0000e-01, Train Loss: 0.6399, Train Acc: 0.7800, Train Latency: 31.39s, Memory Usage: 19750.0KB\n",
            "Test Loss: 0.7352, Test Acc: 0.7407, Test Latency: 3.71s, Test Memory Usage: 194.0KB\n",
            "\n",
            "Epoch 21\n"
          ]
        },
        {
          "name": "stderr",
          "output_type": "stream",
          "text": [
            "Train: 100%|###############################| 391/391 [00:28<00:00, 13.83batch/s]\n"
          ]
        },
        {
          "name": "stdout",
          "output_type": "stream",
          "text": [
            "LR: 1.0000e-01, Train Loss: 0.6296, Train Acc: 0.7849, Train Latency: 28.27s, Memory Usage: 19750.0KB\n",
            "Test Loss: 0.8546, Test Acc: 0.7108, Test Latency: 3.22s, Test Memory Usage: 194.0KB\n",
            "\n",
            "Epoch 22\n"
          ]
        },
        {
          "name": "stderr",
          "output_type": "stream",
          "text": [
            "Train: 100%|###############################| 391/391 [00:30<00:00, 12.90batch/s]\n"
          ]
        },
        {
          "name": "stdout",
          "output_type": "stream",
          "text": [
            "LR: 1.0000e-01, Train Loss: 0.6226, Train Acc: 0.7867, Train Latency: 30.31s, Memory Usage: 19750.0KB\n",
            "Test Loss: 1.1892, Test Acc: 0.6339, Test Latency: 3.69s, Test Memory Usage: 194.0KB\n",
            "\n",
            "Epoch 23\n"
          ]
        },
        {
          "name": "stderr",
          "output_type": "stream",
          "text": [
            "Train: 100%|###############################| 391/391 [00:29<00:00, 13.27batch/s]\n"
          ]
        },
        {
          "name": "stdout",
          "output_type": "stream",
          "text": [
            "LR: 1.0000e-01, Train Loss: 0.6302, Train Acc: 0.7843, Train Latency: 29.46s, Memory Usage: 19750.0KB\n",
            "Test Loss: 0.9387, Test Acc: 0.7043, Test Latency: 3.52s, Test Memory Usage: 194.0KB\n",
            "\n",
            "Epoch 24\n"
          ]
        },
        {
          "name": "stderr",
          "output_type": "stream",
          "text": [
            "Train: 100%|###############################| 391/391 [00:27<00:00, 14.04batch/s]\n"
          ]
        },
        {
          "name": "stdout",
          "output_type": "stream",
          "text": [
            "LR: 1.0000e-01, Train Loss: 0.6182, Train Acc: 0.7904, Train Latency: 27.85s, Memory Usage: 19750.0KB\n",
            "Test Loss: 1.0005, Test Acc: 0.6817, Test Latency: 3.70s, Test Memory Usage: 194.0KB\n",
            "\n",
            "Epoch 25\n"
          ]
        },
        {
          "name": "stderr",
          "output_type": "stream",
          "text": [
            "Train: 100%|###############################| 391/391 [00:28<00:00, 13.86batch/s]\n"
          ]
        },
        {
          "name": "stdout",
          "output_type": "stream",
          "text": [
            "LR: 1.0000e-01, Train Loss: 0.6249, Train Acc: 0.7853, Train Latency: 28.22s, Memory Usage: 19750.0KB\n",
            "Test Loss: 1.2633, Test Acc: 0.6469, Test Latency: 3.24s, Test Memory Usage: 194.0KB\n",
            "\n",
            "Epoch 26\n"
          ]
        },
        {
          "name": "stderr",
          "output_type": "stream",
          "text": [
            "Train: 100%|###############################| 391/391 [00:28<00:00, 13.59batch/s]\n"
          ]
        },
        {
          "name": "stdout",
          "output_type": "stream",
          "text": [
            "LR: 1.0000e-01, Train Loss: 0.6181, Train Acc: 0.7861, Train Latency: 28.78s, Memory Usage: 19750.0KB\n",
            "Test Loss: 0.9603, Test Acc: 0.6850, Test Latency: 3.70s, Test Memory Usage: 194.0KB\n",
            "\n",
            "Epoch 27\n"
          ]
        },
        {
          "name": "stderr",
          "output_type": "stream",
          "text": [
            "Train: 100%|###############################| 391/391 [00:31<00:00, 12.58batch/s]\n"
          ]
        },
        {
          "name": "stdout",
          "output_type": "stream",
          "text": [
            "LR: 1.0000e-01, Train Loss: 0.6214, Train Acc: 0.7865, Train Latency: 31.09s, Memory Usage: 19750.0KB\n",
            "Test Loss: 0.9390, Test Acc: 0.6942, Test Latency: 3.70s, Test Memory Usage: 194.0KB\n",
            "\n",
            "Epoch 28\n"
          ]
        },
        {
          "name": "stderr",
          "output_type": "stream",
          "text": [
            "Train: 100%|###############################| 391/391 [00:31<00:00, 12.58batch/s]\n"
          ]
        },
        {
          "name": "stdout",
          "output_type": "stream",
          "text": [
            "LR: 1.0000e-01, Train Loss: 0.6085, Train Acc: 0.7924, Train Latency: 31.08s, Memory Usage: 19750.0KB\n",
            "Test Loss: 1.3455, Test Acc: 0.6115, Test Latency: 3.70s, Test Memory Usage: 194.0KB\n",
            "\n",
            "Epoch 29\n"
          ]
        },
        {
          "name": "stderr",
          "output_type": "stream",
          "text": [
            "Train: 100%|###############################| 391/391 [00:25<00:00, 15.38batch/s]\n"
          ]
        },
        {
          "name": "stdout",
          "output_type": "stream",
          "text": [
            "LR: 1.0000e-01, Train Loss: 0.6158, Train Acc: 0.7888, Train Latency: 25.42s, Memory Usage: 19750.0KB\n",
            "Test Loss: 1.2006, Test Acc: 0.6222, Test Latency: 3.24s, Test Memory Usage: 194.0KB\n",
            "\n",
            "Epoch 30\n"
          ]
        },
        {
          "name": "stderr",
          "output_type": "stream",
          "text": [
            "Train: 100%|###############################| 391/391 [00:25<00:00, 15.63batch/s]\n"
          ]
        },
        {
          "name": "stdout",
          "output_type": "stream",
          "text": [
            "LR: 1.0000e-01, Train Loss: 0.6177, Train Acc: 0.7896, Train Latency: 25.02s, Memory Usage: 19750.0KB\n",
            "Test Loss: 0.8315, Test Acc: 0.7314, Test Latency: 3.23s, Test Memory Usage: 194.0KB\n",
            "\n",
            "Epoch 31\n"
          ]
        },
        {
          "name": "stderr",
          "output_type": "stream",
          "text": [
            "Train: 100%|###############################| 391/391 [00:26<00:00, 14.53batch/s]\n"
          ]
        },
        {
          "name": "stdout",
          "output_type": "stream",
          "text": [
            "LR: 1.0000e-01, Train Loss: 0.6120, Train Acc: 0.7891, Train Latency: 26.91s, Memory Usage: 19750.0KB\n",
            "Test Loss: 0.8162, Test Acc: 0.7265, Test Latency: 3.70s, Test Memory Usage: 194.0KB\n",
            "\n",
            "Epoch 32\n"
          ]
        },
        {
          "name": "stderr",
          "output_type": "stream",
          "text": [
            "Train: 100%|###############################| 391/391 [00:30<00:00, 12.74batch/s]\n"
          ]
        },
        {
          "name": "stdout",
          "output_type": "stream",
          "text": [
            "LR: 1.0000e-01, Train Loss: 0.6092, Train Acc: 0.7899, Train Latency: 30.68s, Memory Usage: 19750.0KB\n",
            "Test Loss: 0.8606, Test Acc: 0.7150, Test Latency: 3.24s, Test Memory Usage: 194.0KB\n",
            "\n",
            "Epoch 33\n"
          ]
        },
        {
          "name": "stderr",
          "output_type": "stream",
          "text": [
            "Train: 100%|###############################| 391/391 [00:26<00:00, 15.00batch/s]\n"
          ]
        },
        {
          "name": "stdout",
          "output_type": "stream",
          "text": [
            "LR: 1.0000e-01, Train Loss: 0.6031, Train Acc: 0.7940, Train Latency: 26.07s, Memory Usage: 19750.0KB\n",
            "Test Loss: 1.0237, Test Acc: 0.6745, Test Latency: 3.24s, Test Memory Usage: 194.0KB\n",
            "\n",
            "Epoch 34\n"
          ]
        },
        {
          "name": "stderr",
          "output_type": "stream",
          "text": [
            "Train: 100%|###############################| 391/391 [00:24<00:00, 15.65batch/s]\n"
          ]
        },
        {
          "name": "stdout",
          "output_type": "stream",
          "text": [
            "LR: 1.0000e-01, Train Loss: 0.6072, Train Acc: 0.7916, Train Latency: 24.98s, Memory Usage: 19750.0KB\n",
            "Test Loss: 0.7721, Test Acc: 0.7444, Test Latency: 3.23s, Test Memory Usage: 194.0KB\n",
            "\n",
            "Epoch 35\n"
          ]
        },
        {
          "name": "stderr",
          "output_type": "stream",
          "text": [
            "Train: 100%|###############################| 391/391 [00:29<00:00, 13.10batch/s]\n"
          ]
        },
        {
          "name": "stdout",
          "output_type": "stream",
          "text": [
            "LR: 1.0000e-01, Train Loss: 0.6004, Train Acc: 0.7931, Train Latency: 29.84s, Memory Usage: 19750.0KB\n",
            "Test Loss: 1.9133, Test Acc: 0.4861, Test Latency: 3.25s, Test Memory Usage: 194.0KB\n",
            "\n",
            "Epoch 36\n"
          ]
        },
        {
          "name": "stderr",
          "output_type": "stream",
          "text": [
            "Train: 100%|###############################| 391/391 [00:25<00:00, 15.39batch/s]\n"
          ]
        },
        {
          "name": "stdout",
          "output_type": "stream",
          "text": [
            "LR: 1.0000e-01, Train Loss: 0.6101, Train Acc: 0.7920, Train Latency: 25.41s, Memory Usage: 19750.0KB\n",
            "Test Loss: 0.8889, Test Acc: 0.6972, Test Latency: 3.62s, Test Memory Usage: 194.0KB\n",
            "\n",
            "Epoch 37\n"
          ]
        },
        {
          "name": "stderr",
          "output_type": "stream",
          "text": [
            "Train: 100%|###############################| 391/391 [00:26<00:00, 14.56batch/s]\n"
          ]
        },
        {
          "name": "stdout",
          "output_type": "stream",
          "text": [
            "LR: 1.0000e-01, Train Loss: 0.6053, Train Acc: 0.7922, Train Latency: 26.86s, Memory Usage: 19750.0KB\n",
            "Test Loss: 1.1246, Test Acc: 0.6523, Test Latency: 3.72s, Test Memory Usage: 194.0KB\n",
            "\n",
            "Epoch 38\n"
          ]
        },
        {
          "name": "stderr",
          "output_type": "stream",
          "text": [
            "Train: 100%|###############################| 391/391 [00:31<00:00, 12.52batch/s]\n"
          ]
        },
        {
          "name": "stdout",
          "output_type": "stream",
          "text": [
            "LR: 1.0000e-01, Train Loss: 0.6060, Train Acc: 0.7923, Train Latency: 31.24s, Memory Usage: 19750.0KB\n",
            "Test Loss: 0.9572, Test Acc: 0.6891, Test Latency: 3.72s, Test Memory Usage: 194.0KB\n",
            "\n",
            "Epoch 39\n"
          ]
        },
        {
          "name": "stderr",
          "output_type": "stream",
          "text": [
            "Train: 100%|###############################| 391/391 [00:27<00:00, 14.41batch/s]\n"
          ]
        },
        {
          "name": "stdout",
          "output_type": "stream",
          "text": [
            "LR: 1.0000e-01, Train Loss: 0.6003, Train Acc: 0.7954, Train Latency: 27.14s, Memory Usage: 19750.0KB\n",
            "Test Loss: 0.9581, Test Acc: 0.6910, Test Latency: 3.64s, Test Memory Usage: 194.0KB\n",
            "\n",
            "Epoch 40\n"
          ]
        },
        {
          "name": "stderr",
          "output_type": "stream",
          "text": [
            "Train: 100%|###############################| 391/391 [00:29<00:00, 13.44batch/s]\n"
          ]
        },
        {
          "name": "stdout",
          "output_type": "stream",
          "text": [
            "LR: 1.0000e-01, Train Loss: 0.6037, Train Acc: 0.7937, Train Latency: 29.09s, Memory Usage: 19750.0KB\n",
            "Test Loss: 0.8162, Test Acc: 0.7163, Test Latency: 3.24s, Test Memory Usage: 194.0KB\n",
            "\n",
            "Epoch 41\n"
          ]
        },
        {
          "name": "stderr",
          "output_type": "stream",
          "text": [
            "Train: 100%|###############################| 391/391 [00:28<00:00, 13.51batch/s]\n"
          ]
        },
        {
          "name": "stdout",
          "output_type": "stream",
          "text": [
            "LR: 1.0000e-01, Train Loss: 0.6034, Train Acc: 0.7947, Train Latency: 28.94s, Memory Usage: 19750.0KB\n",
            "Test Loss: 0.9971, Test Acc: 0.6720, Test Latency: 3.24s, Test Memory Usage: 194.0KB\n",
            "\n",
            "Epoch 42\n"
          ]
        },
        {
          "name": "stderr",
          "output_type": "stream",
          "text": [
            "Train: 100%|###############################| 391/391 [00:26<00:00, 14.99batch/s]\n"
          ]
        },
        {
          "name": "stdout",
          "output_type": "stream",
          "text": [
            "LR: 1.0000e-01, Train Loss: 0.5977, Train Acc: 0.7952, Train Latency: 26.08s, Memory Usage: 19750.0KB\n",
            "Test Loss: 1.0331, Test Acc: 0.6724, Test Latency: 3.24s, Test Memory Usage: 194.0KB\n",
            "\n",
            "Epoch 43\n"
          ]
        },
        {
          "name": "stderr",
          "output_type": "stream",
          "text": [
            "Train: 100%|###############################| 391/391 [00:24<00:00, 15.76batch/s]\n"
          ]
        },
        {
          "name": "stdout",
          "output_type": "stream",
          "text": [
            "LR: 1.0000e-01, Train Loss: 0.5960, Train Acc: 0.7958, Train Latency: 24.81s, Memory Usage: 19750.0KB\n",
            "Test Loss: 0.8510, Test Acc: 0.7190, Test Latency: 3.25s, Test Memory Usage: 194.0KB\n",
            "\n",
            "Epoch 44\n"
          ]
        },
        {
          "name": "stderr",
          "output_type": "stream",
          "text": [
            "Train: 100%|###############################| 391/391 [00:31<00:00, 12.53batch/s]\n"
          ]
        },
        {
          "name": "stdout",
          "output_type": "stream",
          "text": [
            "LR: 1.0000e-01, Train Loss: 0.5999, Train Acc: 0.7947, Train Latency: 31.20s, Memory Usage: 19750.0KB\n",
            "Test Loss: 1.2615, Test Acc: 0.6244, Test Latency: 3.68s, Test Memory Usage: 194.0KB\n",
            "\n",
            "Epoch 45\n"
          ]
        },
        {
          "name": "stderr",
          "output_type": "stream",
          "text": [
            "Train: 100%|###############################| 391/391 [00:30<00:00, 12.64batch/s]\n"
          ]
        },
        {
          "name": "stdout",
          "output_type": "stream",
          "text": [
            "LR: 1.0000e-01, Train Loss: 0.6022, Train Acc: 0.7938, Train Latency: 30.95s, Memory Usage: 19750.0KB\n",
            "Test Loss: 0.7282, Test Acc: 0.7550, Test Latency: 3.70s, Test Memory Usage: 194.0KB\n",
            "\n",
            "Epoch 46\n"
          ]
        },
        {
          "name": "stderr",
          "output_type": "stream",
          "text": [
            "Train: 100%|###############################| 391/391 [00:31<00:00, 12.54batch/s]\n"
          ]
        },
        {
          "name": "stdout",
          "output_type": "stream",
          "text": [
            "LR: 1.0000e-01, Train Loss: 0.5963, Train Acc: 0.7973, Train Latency: 31.19s, Memory Usage: 19750.0KB\n",
            "Test Loss: 0.8794, Test Acc: 0.6968, Test Latency: 3.70s, Test Memory Usage: 194.0KB\n",
            "\n",
            "Epoch 47\n"
          ]
        },
        {
          "name": "stderr",
          "output_type": "stream",
          "text": [
            "Train: 100%|###############################| 391/391 [00:31<00:00, 12.52batch/s]\n"
          ]
        },
        {
          "name": "stdout",
          "output_type": "stream",
          "text": [
            "LR: 1.0000e-01, Train Loss: 0.5950, Train Acc: 0.7959, Train Latency: 31.23s, Memory Usage: 19750.0KB\n",
            "Test Loss: 0.7272, Test Acc: 0.7589, Test Latency: 3.66s, Test Memory Usage: 194.0KB\n",
            "\n",
            "Epoch 48\n"
          ]
        },
        {
          "name": "stderr",
          "output_type": "stream",
          "text": [
            "Train: 100%|###############################| 391/391 [00:31<00:00, 12.60batch/s]\n"
          ]
        },
        {
          "name": "stdout",
          "output_type": "stream",
          "text": [
            "LR: 1.0000e-01, Train Loss: 0.5917, Train Acc: 0.7972, Train Latency: 31.04s, Memory Usage: 19750.0KB\n",
            "Test Loss: 0.8537, Test Acc: 0.7175, Test Latency: 3.70s, Test Memory Usage: 194.0KB\n",
            "\n",
            "Epoch 49\n"
          ]
        },
        {
          "name": "stderr",
          "output_type": "stream",
          "text": [
            "Train: 100%|###############################| 391/391 [00:25<00:00, 15.53batch/s]\n"
          ]
        },
        {
          "name": "stdout",
          "output_type": "stream",
          "text": [
            "LR: 1.0000e-01, Train Loss: 0.5958, Train Acc: 0.7971, Train Latency: 25.18s, Memory Usage: 19750.0KB\n",
            "Test Loss: 0.8966, Test Acc: 0.7032, Test Latency: 3.24s, Test Memory Usage: 194.0KB\n",
            "\n",
            "Epoch 50\n"
          ]
        },
        {
          "name": "stderr",
          "output_type": "stream",
          "text": [
            "Train: 100%|###############################| 391/391 [00:30<00:00, 12.84batch/s]\n"
          ]
        },
        {
          "name": "stdout",
          "output_type": "stream",
          "text": [
            "LR: 1.0000e-01, Train Loss: 0.5913, Train Acc: 0.7964, Train Latency: 30.46s, Memory Usage: 19750.0KB\n",
            "Test Loss: 1.2110, Test Acc: 0.6418, Test Latency: 3.71s, Test Memory Usage: 194.0KB\n",
            "\n",
            "Epoch 51\n"
          ]
        },
        {
          "name": "stderr",
          "output_type": "stream",
          "text": [
            "Train: 100%|###############################| 391/391 [00:31<00:00, 12.56batch/s]\n"
          ]
        },
        {
          "name": "stdout",
          "output_type": "stream",
          "text": [
            "LR: 1.0000e-02, Train Loss: 0.4116, Train Acc: 0.8623, Train Latency: 31.14s, Memory Usage: 19750.0KB\n",
            "Test Loss: 0.3920, Test Acc: 0.8659, Test Latency: 3.70s, Test Memory Usage: 194.0KB\n",
            "Saving best model ...\n",
            "\n",
            "Epoch 52\n"
          ]
        },
        {
          "name": "stderr",
          "output_type": "stream",
          "text": [
            "Train: 100%|###############################| 391/391 [00:31<00:00, 12.60batch/s]\n"
          ]
        },
        {
          "name": "stdout",
          "output_type": "stream",
          "text": [
            "LR: 1.0000e-02, Train Loss: 0.3555, Train Acc: 0.8790, Train Latency: 31.03s, Memory Usage: 19750.0KB\n",
            "Test Loss: 0.3714, Test Acc: 0.8737, Test Latency: 3.55s, Test Memory Usage: 194.0KB\n",
            "Saving best model ...\n",
            "\n",
            "Epoch 53\n"
          ]
        },
        {
          "name": "stderr",
          "output_type": "stream",
          "text": [
            "Train: 100%|###############################| 391/391 [00:28<00:00, 13.63batch/s]\n"
          ]
        },
        {
          "name": "stdout",
          "output_type": "stream",
          "text": [
            "LR: 1.0000e-02, Train Loss: 0.3356, Train Acc: 0.8846, Train Latency: 28.69s, Memory Usage: 19750.0KB\n",
            "Test Loss: 0.3774, Test Acc: 0.8719, Test Latency: 3.66s, Test Memory Usage: 194.0KB\n",
            "\n",
            "Epoch 54\n"
          ]
        },
        {
          "name": "stderr",
          "output_type": "stream",
          "text": [
            "Train: 100%|###############################| 391/391 [00:24<00:00, 15.66batch/s]\n"
          ]
        },
        {
          "name": "stdout",
          "output_type": "stream",
          "text": [
            "LR: 1.0000e-02, Train Loss: 0.3275, Train Acc: 0.8878, Train Latency: 24.98s, Memory Usage: 19750.0KB\n",
            "Test Loss: 0.3951, Test Acc: 0.8633, Test Latency: 3.25s, Test Memory Usage: 194.0KB\n",
            "\n",
            "Epoch 55\n"
          ]
        },
        {
          "name": "stderr",
          "output_type": "stream",
          "text": [
            "Train: 100%|###############################| 391/391 [00:25<00:00, 15.63batch/s]\n"
          ]
        },
        {
          "name": "stdout",
          "output_type": "stream",
          "text": [
            "LR: 1.0000e-02, Train Loss: 0.3159, Train Acc: 0.8930, Train Latency: 25.01s, Memory Usage: 19750.0KB\n",
            "Test Loss: 0.3832, Test Acc: 0.8659, Test Latency: 3.24s, Test Memory Usage: 194.0KB\n",
            "\n",
            "Epoch 56\n"
          ]
        },
        {
          "name": "stderr",
          "output_type": "stream",
          "text": [
            "Train: 100%|###############################| 391/391 [00:25<00:00, 15.39batch/s]\n"
          ]
        },
        {
          "name": "stdout",
          "output_type": "stream",
          "text": [
            "LR: 1.0000e-02, Train Loss: 0.3078, Train Acc: 0.8957, Train Latency: 25.40s, Memory Usage: 19750.0KB\n",
            "Test Loss: 0.3823, Test Acc: 0.8708, Test Latency: 3.24s, Test Memory Usage: 194.0KB\n",
            "\n",
            "Epoch 57\n"
          ]
        },
        {
          "name": "stderr",
          "output_type": "stream",
          "text": [
            "Train: 100%|###############################| 391/391 [00:28<00:00, 13.52batch/s]\n"
          ]
        },
        {
          "name": "stdout",
          "output_type": "stream",
          "text": [
            "LR: 1.0000e-02, Train Loss: 0.3076, Train Acc: 0.8951, Train Latency: 28.93s, Memory Usage: 19750.0KB\n",
            "Test Loss: 0.3876, Test Acc: 0.8656, Test Latency: 3.24s, Test Memory Usage: 194.0KB\n",
            "\n",
            "Epoch 58\n"
          ]
        },
        {
          "name": "stderr",
          "output_type": "stream",
          "text": [
            "Train: 100%|###############################| 391/391 [00:31<00:00, 12.58batch/s]\n"
          ]
        },
        {
          "name": "stdout",
          "output_type": "stream",
          "text": [
            "LR: 1.0000e-02, Train Loss: 0.3054, Train Acc: 0.8964, Train Latency: 31.08s, Memory Usage: 19750.0KB\n",
            "Test Loss: 0.3832, Test Acc: 0.8739, Test Latency: 3.54s, Test Memory Usage: 194.0KB\n",
            "Saving best model ...\n",
            "\n",
            "Epoch 59\n"
          ]
        },
        {
          "name": "stderr",
          "output_type": "stream",
          "text": [
            "Train: 100%|###############################| 391/391 [00:30<00:00, 12.80batch/s]\n"
          ]
        },
        {
          "name": "stdout",
          "output_type": "stream",
          "text": [
            "LR: 1.0000e-02, Train Loss: 0.3012, Train Acc: 0.8978, Train Latency: 30.55s, Memory Usage: 19750.0KB\n",
            "Test Loss: 0.3784, Test Acc: 0.8730, Test Latency: 3.71s, Test Memory Usage: 194.0KB\n",
            "\n",
            "Epoch 60\n"
          ]
        },
        {
          "name": "stderr",
          "output_type": "stream",
          "text": [
            "Train: 100%|###############################| 391/391 [00:27<00:00, 14.06batch/s]\n"
          ]
        },
        {
          "name": "stdout",
          "output_type": "stream",
          "text": [
            "LR: 1.0000e-02, Train Loss: 0.3059, Train Acc: 0.8943, Train Latency: 27.82s, Memory Usage: 19750.0KB\n",
            "Test Loss: 0.4353, Test Acc: 0.8542, Test Latency: 3.24s, Test Memory Usage: 194.0KB\n",
            "\n",
            "Epoch 61\n"
          ]
        },
        {
          "name": "stderr",
          "output_type": "stream",
          "text": [
            "Train: 100%|###############################| 391/391 [00:25<00:00, 15.08batch/s]\n"
          ]
        },
        {
          "name": "stdout",
          "output_type": "stream",
          "text": [
            "LR: 1.0000e-02, Train Loss: 0.3032, Train Acc: 0.8960, Train Latency: 25.94s, Memory Usage: 19750.0KB\n",
            "Test Loss: 0.3998, Test Acc: 0.8679, Test Latency: 3.53s, Test Memory Usage: 194.0KB\n",
            "\n",
            "Epoch 62\n"
          ]
        },
        {
          "name": "stderr",
          "output_type": "stream",
          "text": [
            "Train: 100%|###############################| 391/391 [00:28<00:00, 13.86batch/s]\n"
          ]
        },
        {
          "name": "stdout",
          "output_type": "stream",
          "text": [
            "LR: 1.0000e-02, Train Loss: 0.3058, Train Acc: 0.8952, Train Latency: 28.21s, Memory Usage: 19750.0KB\n",
            "Test Loss: 0.4416, Test Acc: 0.8492, Test Latency: 3.27s, Test Memory Usage: 194.0KB\n",
            "\n",
            "Epoch 63\n"
          ]
        },
        {
          "name": "stderr",
          "output_type": "stream",
          "text": [
            "Train: 100%|###############################| 391/391 [00:28<00:00, 13.61batch/s]\n"
          ]
        },
        {
          "name": "stdout",
          "output_type": "stream",
          "text": [
            "LR: 1.0000e-02, Train Loss: 0.3042, Train Acc: 0.8975, Train Latency: 28.73s, Memory Usage: 19750.0KB\n",
            "Test Loss: 0.4573, Test Acc: 0.8502, Test Latency: 3.71s, Test Memory Usage: 194.0KB\n",
            "\n",
            "Epoch 64\n"
          ]
        },
        {
          "name": "stderr",
          "output_type": "stream",
          "text": [
            "Train: 100%|###############################| 391/391 [00:27<00:00, 14.27batch/s]\n"
          ]
        },
        {
          "name": "stdout",
          "output_type": "stream",
          "text": [
            "LR: 1.0000e-02, Train Loss: 0.2988, Train Acc: 0.8970, Train Latency: 27.41s, Memory Usage: 19750.0KB\n",
            "Test Loss: 0.4771, Test Acc: 0.8436, Test Latency: 3.22s, Test Memory Usage: 194.0KB\n",
            "\n",
            "Epoch 65\n"
          ]
        },
        {
          "name": "stderr",
          "output_type": "stream",
          "text": [
            "Train: 100%|###############################| 391/391 [00:30<00:00, 12.70batch/s]\n"
          ]
        },
        {
          "name": "stdout",
          "output_type": "stream",
          "text": [
            "LR: 1.0000e-02, Train Loss: 0.3027, Train Acc: 0.8966, Train Latency: 30.79s, Memory Usage: 19750.0KB\n",
            "Test Loss: 0.3987, Test Acc: 0.8674, Test Latency: 3.70s, Test Memory Usage: 194.0KB\n",
            "\n",
            "Epoch 66\n"
          ]
        },
        {
          "name": "stderr",
          "output_type": "stream",
          "text": [
            "Train: 100%|###############################| 391/391 [00:31<00:00, 12.52batch/s]\n"
          ]
        },
        {
          "name": "stdout",
          "output_type": "stream",
          "text": [
            "LR: 1.0000e-02, Train Loss: 0.2971, Train Acc: 0.8991, Train Latency: 31.25s, Memory Usage: 19750.0KB\n",
            "Test Loss: 0.4706, Test Acc: 0.8425, Test Latency: 3.70s, Test Memory Usage: 194.0KB\n",
            "\n",
            "Epoch 67\n"
          ]
        },
        {
          "name": "stderr",
          "output_type": "stream",
          "text": [
            "Train: 100%|###############################| 391/391 [00:25<00:00, 15.24batch/s]\n"
          ]
        },
        {
          "name": "stdout",
          "output_type": "stream",
          "text": [
            "LR: 1.0000e-02, Train Loss: 0.2973, Train Acc: 0.8978, Train Latency: 25.66s, Memory Usage: 19750.0KB\n",
            "Test Loss: 0.5108, Test Acc: 0.8291, Test Latency: 3.24s, Test Memory Usage: 194.0KB\n",
            "\n",
            "Epoch 68\n"
          ]
        },
        {
          "name": "stderr",
          "output_type": "stream",
          "text": [
            "Train: 100%|###############################| 391/391 [00:31<00:00, 12.54batch/s]\n"
          ]
        },
        {
          "name": "stdout",
          "output_type": "stream",
          "text": [
            "LR: 1.0000e-02, Train Loss: 0.2987, Train Acc: 0.8982, Train Latency: 31.19s, Memory Usage: 19750.0KB\n",
            "Test Loss: 0.3997, Test Acc: 0.8651, Test Latency: 3.72s, Test Memory Usage: 194.0KB\n",
            "\n",
            "Epoch 69\n"
          ]
        },
        {
          "name": "stderr",
          "output_type": "stream",
          "text": [
            "Train: 100%|###############################| 391/391 [00:31<00:00, 12.55batch/s]\n"
          ]
        },
        {
          "name": "stdout",
          "output_type": "stream",
          "text": [
            "LR: 1.0000e-02, Train Loss: 0.2930, Train Acc: 0.8986, Train Latency: 31.17s, Memory Usage: 19750.0KB\n",
            "Test Loss: 0.3780, Test Acc: 0.8706, Test Latency: 3.70s, Test Memory Usage: 194.0KB\n",
            "\n",
            "Epoch 70\n"
          ]
        },
        {
          "name": "stderr",
          "output_type": "stream",
          "text": [
            "Train: 100%|###############################| 391/391 [00:31<00:00, 12.55batch/s]\n"
          ]
        },
        {
          "name": "stdout",
          "output_type": "stream",
          "text": [
            "LR: 1.0000e-02, Train Loss: 0.2876, Train Acc: 0.9017, Train Latency: 31.15s, Memory Usage: 19750.0KB\n",
            "Test Loss: 0.4182, Test Acc: 0.8583, Test Latency: 3.72s, Test Memory Usage: 194.0KB\n",
            "\n",
            "Epoch 71\n"
          ]
        },
        {
          "name": "stderr",
          "output_type": "stream",
          "text": [
            "Train: 100%|###############################| 391/391 [00:31<00:00, 12.57batch/s]\n"
          ]
        },
        {
          "name": "stdout",
          "output_type": "stream",
          "text": [
            "LR: 1.0000e-02, Train Loss: 0.2924, Train Acc: 0.8998, Train Latency: 31.10s, Memory Usage: 19750.0KB\n",
            "Test Loss: 0.3661, Test Acc: 0.8772, Test Latency: 3.58s, Test Memory Usage: 194.0KB\n",
            "Saving best model ...\n",
            "\n",
            "Epoch 72\n"
          ]
        },
        {
          "name": "stderr",
          "output_type": "stream",
          "text": [
            "Train: 100%|###############################| 391/391 [00:30<00:00, 12.91batch/s]\n"
          ]
        },
        {
          "name": "stdout",
          "output_type": "stream",
          "text": [
            "LR: 1.0000e-02, Train Loss: 0.2911, Train Acc: 0.8996, Train Latency: 30.28s, Memory Usage: 19750.0KB\n",
            "Test Loss: 0.4849, Test Acc: 0.8464, Test Latency: 3.70s, Test Memory Usage: 194.0KB\n",
            "\n",
            "Epoch 73\n"
          ]
        },
        {
          "name": "stderr",
          "output_type": "stream",
          "text": [
            "Train: 100%|###############################| 391/391 [00:31<00:00, 12.56batch/s]\n"
          ]
        },
        {
          "name": "stdout",
          "output_type": "stream",
          "text": [
            "LR: 1.0000e-02, Train Loss: 0.2883, Train Acc: 0.9016, Train Latency: 31.12s, Memory Usage: 19750.0KB\n",
            "Test Loss: 0.5010, Test Acc: 0.8332, Test Latency: 3.71s, Test Memory Usage: 194.0KB\n",
            "\n",
            "Epoch 74\n"
          ]
        },
        {
          "name": "stderr",
          "output_type": "stream",
          "text": [
            "Train: 100%|###############################| 391/391 [00:31<00:00, 12.58batch/s]\n"
          ]
        },
        {
          "name": "stdout",
          "output_type": "stream",
          "text": [
            "LR: 1.0000e-02, Train Loss: 0.2895, Train Acc: 0.9012, Train Latency: 31.09s, Memory Usage: 19750.0KB\n",
            "Test Loss: 0.3786, Test Acc: 0.8708, Test Latency: 3.71s, Test Memory Usage: 194.0KB\n",
            "\n",
            "Epoch 75\n"
          ]
        },
        {
          "name": "stderr",
          "output_type": "stream",
          "text": [
            "Train: 100%|###############################| 391/391 [00:29<00:00, 13.33batch/s]\n"
          ]
        },
        {
          "name": "stdout",
          "output_type": "stream",
          "text": [
            "LR: 1.0000e-02, Train Loss: 0.2871, Train Acc: 0.9015, Train Latency: 29.34s, Memory Usage: 19750.0KB\n",
            "Test Loss: 0.4143, Test Acc: 0.8603, Test Latency: 3.70s, Test Memory Usage: 194.0KB\n",
            "\n",
            "Epoch 76\n"
          ]
        },
        {
          "name": "stderr",
          "output_type": "stream",
          "text": [
            "Train: 100%|###############################| 391/391 [00:30<00:00, 12.64batch/s]\n"
          ]
        },
        {
          "name": "stdout",
          "output_type": "stream",
          "text": [
            "LR: 1.0000e-02, Train Loss: 0.2846, Train Acc: 0.9025, Train Latency: 30.93s, Memory Usage: 19750.0KB\n",
            "Test Loss: 0.4387, Test Acc: 0.8533, Test Latency: 3.71s, Test Memory Usage: 194.0KB\n",
            "\n",
            "Epoch 77\n"
          ]
        },
        {
          "name": "stderr",
          "output_type": "stream",
          "text": [
            "Train: 100%|###############################| 391/391 [00:31<00:00, 12.59batch/s]\n"
          ]
        },
        {
          "name": "stdout",
          "output_type": "stream",
          "text": [
            "LR: 1.0000e-02, Train Loss: 0.2862, Train Acc: 0.9009, Train Latency: 31.07s, Memory Usage: 19750.0KB\n",
            "Test Loss: 0.4809, Test Acc: 0.8423, Test Latency: 3.70s, Test Memory Usage: 194.0KB\n",
            "\n",
            "Epoch 78\n"
          ]
        },
        {
          "name": "stderr",
          "output_type": "stream",
          "text": [
            "Train: 100%|###############################| 391/391 [00:30<00:00, 12.78batch/s]\n"
          ]
        },
        {
          "name": "stdout",
          "output_type": "stream",
          "text": [
            "LR: 1.0000e-02, Train Loss: 0.2865, Train Acc: 0.9017, Train Latency: 30.59s, Memory Usage: 19750.0KB\n",
            "Test Loss: 0.4029, Test Acc: 0.8604, Test Latency: 3.63s, Test Memory Usage: 194.0KB\n",
            "\n",
            "Epoch 79\n"
          ]
        },
        {
          "name": "stderr",
          "output_type": "stream",
          "text": [
            "Train: 100%|###############################| 391/391 [00:24<00:00, 15.72batch/s]\n"
          ]
        },
        {
          "name": "stdout",
          "output_type": "stream",
          "text": [
            "LR: 1.0000e-02, Train Loss: 0.2875, Train Acc: 0.9011, Train Latency: 24.88s, Memory Usage: 19750.0KB\n",
            "Test Loss: 0.4056, Test Acc: 0.8689, Test Latency: 3.23s, Test Memory Usage: 194.0KB\n",
            "\n",
            "Epoch 80\n"
          ]
        },
        {
          "name": "stderr",
          "output_type": "stream",
          "text": [
            "Train: 100%|###############################| 391/391 [00:25<00:00, 15.57batch/s]\n"
          ]
        },
        {
          "name": "stdout",
          "output_type": "stream",
          "text": [
            "LR: 1.0000e-02, Train Loss: 0.2817, Train Acc: 0.9035, Train Latency: 25.12s, Memory Usage: 19750.0KB\n",
            "Test Loss: 0.3959, Test Acc: 0.8678, Test Latency: 3.23s, Test Memory Usage: 194.0KB\n",
            "\n",
            "Epoch 81\n"
          ]
        },
        {
          "name": "stderr",
          "output_type": "stream",
          "text": [
            "Train: 100%|###############################| 391/391 [00:28<00:00, 13.61batch/s]\n"
          ]
        },
        {
          "name": "stdout",
          "output_type": "stream",
          "text": [
            "LR: 1.0000e-02, Train Loss: 0.2844, Train Acc: 0.9028, Train Latency: 28.74s, Memory Usage: 19750.0KB\n",
            "Test Loss: 0.5117, Test Acc: 0.8324, Test Latency: 3.24s, Test Memory Usage: 194.0KB\n",
            "\n",
            "Epoch 82\n"
          ]
        },
        {
          "name": "stderr",
          "output_type": "stream",
          "text": [
            "Train: 100%|###############################| 391/391 [00:30<00:00, 12.78batch/s]\n"
          ]
        },
        {
          "name": "stdout",
          "output_type": "stream",
          "text": [
            "LR: 1.0000e-02, Train Loss: 0.2797, Train Acc: 0.9051, Train Latency: 30.60s, Memory Usage: 19750.0KB\n",
            "Test Loss: 0.4320, Test Acc: 0.8582, Test Latency: 3.68s, Test Memory Usage: 194.0KB\n",
            "\n",
            "Epoch 83\n"
          ]
        },
        {
          "name": "stderr",
          "output_type": "stream",
          "text": [
            "Train: 100%|###############################| 391/391 [00:29<00:00, 13.34batch/s]\n"
          ]
        },
        {
          "name": "stdout",
          "output_type": "stream",
          "text": [
            "LR: 1.0000e-02, Train Loss: 0.2812, Train Acc: 0.9039, Train Latency: 29.31s, Memory Usage: 19750.0KB\n",
            "Test Loss: 0.4406, Test Acc: 0.8554, Test Latency: 3.52s, Test Memory Usage: 194.0KB\n",
            "\n",
            "Epoch 84\n"
          ]
        },
        {
          "name": "stderr",
          "output_type": "stream",
          "text": [
            "Train: 100%|###############################| 391/391 [00:31<00:00, 12.51batch/s]\n"
          ]
        },
        {
          "name": "stdout",
          "output_type": "stream",
          "text": [
            "LR: 1.0000e-02, Train Loss: 0.2771, Train Acc: 0.9056, Train Latency: 31.26s, Memory Usage: 19750.0KB\n",
            "Test Loss: 0.4074, Test Acc: 0.8637, Test Latency: 3.70s, Test Memory Usage: 194.0KB\n",
            "\n",
            "Epoch 85\n"
          ]
        },
        {
          "name": "stderr",
          "output_type": "stream",
          "text": [
            "Train: 100%|###############################| 391/391 [00:29<00:00, 13.23batch/s]\n"
          ]
        },
        {
          "name": "stdout",
          "output_type": "stream",
          "text": [
            "LR: 1.0000e-02, Train Loss: 0.2822, Train Acc: 0.9030, Train Latency: 29.56s, Memory Usage: 19750.0KB\n",
            "Test Loss: 0.4532, Test Acc: 0.8506, Test Latency: 3.70s, Test Memory Usage: 194.0KB\n",
            "\n",
            "Epoch 86\n"
          ]
        },
        {
          "name": "stderr",
          "output_type": "stream",
          "text": [
            "Train: 100%|###############################| 391/391 [00:31<00:00, 12.56batch/s]\n"
          ]
        },
        {
          "name": "stdout",
          "output_type": "stream",
          "text": [
            "LR: 1.0000e-02, Train Loss: 0.2758, Train Acc: 0.9043, Train Latency: 31.12s, Memory Usage: 19750.0KB\n",
            "Test Loss: 0.4384, Test Acc: 0.8525, Test Latency: 3.70s, Test Memory Usage: 194.0KB\n",
            "\n",
            "Epoch 87\n"
          ]
        },
        {
          "name": "stderr",
          "output_type": "stream",
          "text": [
            "Train: 100%|###############################| 391/391 [00:30<00:00, 12.62batch/s]\n"
          ]
        },
        {
          "name": "stdout",
          "output_type": "stream",
          "text": [
            "LR: 1.0000e-02, Train Loss: 0.2830, Train Acc: 0.9035, Train Latency: 30.98s, Memory Usage: 19750.0KB\n",
            "Test Loss: 0.4068, Test Acc: 0.8613, Test Latency: 3.70s, Test Memory Usage: 194.0KB\n",
            "\n",
            "Epoch 88\n"
          ]
        },
        {
          "name": "stderr",
          "output_type": "stream",
          "text": [
            "Train: 100%|###############################| 391/391 [00:31<00:00, 12.57batch/s]\n"
          ]
        },
        {
          "name": "stdout",
          "output_type": "stream",
          "text": [
            "LR: 1.0000e-02, Train Loss: 0.2730, Train Acc: 0.9067, Train Latency: 31.12s, Memory Usage: 19750.0KB\n",
            "Test Loss: 0.4178, Test Acc: 0.8612, Test Latency: 3.72s, Test Memory Usage: 194.0KB\n",
            "\n",
            "Epoch 89\n"
          ]
        },
        {
          "name": "stderr",
          "output_type": "stream",
          "text": [
            "Train: 100%|###############################| 391/391 [00:31<00:00, 12.57batch/s]\n"
          ]
        },
        {
          "name": "stdout",
          "output_type": "stream",
          "text": [
            "LR: 1.0000e-02, Train Loss: 0.2776, Train Acc: 0.9040, Train Latency: 31.12s, Memory Usage: 19750.0KB\n",
            "Test Loss: 0.4569, Test Acc: 0.8525, Test Latency: 3.69s, Test Memory Usage: 194.0KB\n",
            "\n",
            "Epoch 90\n"
          ]
        },
        {
          "name": "stderr",
          "output_type": "stream",
          "text": [
            "Train: 100%|###############################| 391/391 [00:30<00:00, 12.74batch/s]\n"
          ]
        },
        {
          "name": "stdout",
          "output_type": "stream",
          "text": [
            "LR: 1.0000e-02, Train Loss: 0.2758, Train Acc: 0.9052, Train Latency: 30.69s, Memory Usage: 19750.0KB\n",
            "Test Loss: 0.4377, Test Acc: 0.8539, Test Latency: 3.32s, Test Memory Usage: 194.0KB\n",
            "\n",
            "Epoch 91\n"
          ]
        },
        {
          "name": "stderr",
          "output_type": "stream",
          "text": [
            "Train: 100%|###############################| 391/391 [00:27<00:00, 14.28batch/s]\n"
          ]
        },
        {
          "name": "stdout",
          "output_type": "stream",
          "text": [
            "LR: 1.0000e-02, Train Loss: 0.2723, Train Acc: 0.9065, Train Latency: 27.37s, Memory Usage: 19750.0KB\n",
            "Test Loss: 0.3873, Test Acc: 0.8724, Test Latency: 3.23s, Test Memory Usage: 194.0KB\n",
            "\n",
            "Epoch 92\n"
          ]
        },
        {
          "name": "stderr",
          "output_type": "stream",
          "text": [
            "Train: 100%|###############################| 391/391 [00:31<00:00, 12.51batch/s]\n"
          ]
        },
        {
          "name": "stdout",
          "output_type": "stream",
          "text": [
            "LR: 1.0000e-02, Train Loss: 0.2683, Train Acc: 0.9077, Train Latency: 31.25s, Memory Usage: 19750.0KB\n",
            "Test Loss: 0.4243, Test Acc: 0.8588, Test Latency: 3.71s, Test Memory Usage: 194.0KB\n",
            "\n",
            "Epoch 93\n"
          ]
        },
        {
          "name": "stderr",
          "output_type": "stream",
          "text": [
            "Train: 100%|###############################| 391/391 [00:30<00:00, 12.81batch/s]\n"
          ]
        },
        {
          "name": "stdout",
          "output_type": "stream",
          "text": [
            "LR: 1.0000e-02, Train Loss: 0.2747, Train Acc: 0.9067, Train Latency: 30.54s, Memory Usage: 19750.0KB\n",
            "Test Loss: 0.4773, Test Acc: 0.8501, Test Latency: 3.72s, Test Memory Usage: 194.0KB\n",
            "\n",
            "Epoch 94\n"
          ]
        },
        {
          "name": "stderr",
          "output_type": "stream",
          "text": [
            "Train: 100%|###############################| 391/391 [00:30<00:00, 12.64batch/s]\n"
          ]
        },
        {
          "name": "stdout",
          "output_type": "stream",
          "text": [
            "LR: 1.0000e-02, Train Loss: 0.2737, Train Acc: 0.9062, Train Latency: 30.93s, Memory Usage: 19750.0KB\n",
            "Test Loss: 0.3703, Test Acc: 0.8778, Test Latency: 3.58s, Test Memory Usage: 194.0KB\n",
            "Saving best model ...\n",
            "\n",
            "Epoch 95\n"
          ]
        },
        {
          "name": "stderr",
          "output_type": "stream",
          "text": [
            "Train: 100%|###############################| 391/391 [00:30<00:00, 12.68batch/s]\n"
          ]
        },
        {
          "name": "stdout",
          "output_type": "stream",
          "text": [
            "LR: 1.0000e-02, Train Loss: 0.2716, Train Acc: 0.9079, Train Latency: 30.84s, Memory Usage: 19750.0KB\n",
            "Test Loss: 0.3673, Test Acc: 0.8762, Test Latency: 3.70s, Test Memory Usage: 194.0KB\n",
            "\n",
            "Epoch 96\n"
          ]
        },
        {
          "name": "stderr",
          "output_type": "stream",
          "text": [
            "Train: 100%|###############################| 391/391 [00:31<00:00, 12.59batch/s]\n"
          ]
        },
        {
          "name": "stdout",
          "output_type": "stream",
          "text": [
            "LR: 1.0000e-02, Train Loss: 0.2693, Train Acc: 0.9087, Train Latency: 31.05s, Memory Usage: 19750.0KB\n",
            "Test Loss: 0.4162, Test Acc: 0.8599, Test Latency: 3.69s, Test Memory Usage: 194.0KB\n",
            "\n",
            "Epoch 97\n"
          ]
        },
        {
          "name": "stderr",
          "output_type": "stream",
          "text": [
            "Train: 100%|###############################| 391/391 [00:31<00:00, 12.60batch/s]\n"
          ]
        },
        {
          "name": "stdout",
          "output_type": "stream",
          "text": [
            "LR: 1.0000e-02, Train Loss: 0.2693, Train Acc: 0.9074, Train Latency: 31.02s, Memory Usage: 19750.0KB\n",
            "Test Loss: 0.3884, Test Acc: 0.8676, Test Latency: 3.57s, Test Memory Usage: 194.0KB\n",
            "\n",
            "Epoch 98\n"
          ]
        },
        {
          "name": "stderr",
          "output_type": "stream",
          "text": [
            "Train: 100%|###############################| 391/391 [00:30<00:00, 12.65batch/s]\n"
          ]
        },
        {
          "name": "stdout",
          "output_type": "stream",
          "text": [
            "LR: 1.0000e-02, Train Loss: 0.2665, Train Acc: 0.9076, Train Latency: 30.91s, Memory Usage: 19750.0KB\n",
            "Test Loss: 0.4227, Test Acc: 0.8585, Test Latency: 3.71s, Test Memory Usage: 194.0KB\n",
            "\n",
            "Epoch 99\n"
          ]
        },
        {
          "name": "stderr",
          "output_type": "stream",
          "text": [
            "Train: 100%|###############################| 391/391 [00:30<00:00, 12.84batch/s]\n"
          ]
        },
        {
          "name": "stdout",
          "output_type": "stream",
          "text": [
            "LR: 1.0000e-02, Train Loss: 0.2625, Train Acc: 0.9105, Train Latency: 30.45s, Memory Usage: 19750.0KB\n",
            "Test Loss: 0.4249, Test Acc: 0.8548, Test Latency: 3.70s, Test Memory Usage: 194.0KB\n",
            "\n",
            "Epoch 100\n"
          ]
        },
        {
          "name": "stderr",
          "output_type": "stream",
          "text": [
            "Train: 100%|###############################| 391/391 [00:25<00:00, 15.47batch/s]\n"
          ]
        },
        {
          "name": "stdout",
          "output_type": "stream",
          "text": [
            "LR: 1.0000e-02, Train Loss: 0.2711, Train Acc: 0.9078, Train Latency: 25.27s, Memory Usage: 19750.0KB\n",
            "Test Loss: 0.4110, Test Acc: 0.8638, Test Latency: 3.25s, Test Memory Usage: 194.0KB\n",
            "\n",
            "Epoch 101\n"
          ]
        },
        {
          "name": "stderr",
          "output_type": "stream",
          "text": [
            "Train: 100%|###############################| 391/391 [00:30<00:00, 12.70batch/s]\n"
          ]
        },
        {
          "name": "stdout",
          "output_type": "stream",
          "text": [
            "LR: 1.0000e-03, Train Loss: 0.1951, Train Acc: 0.9348, Train Latency: 30.78s, Memory Usage: 19750.0KB\n",
            "Test Loss: 0.2829, Test Acc: 0.9062, Test Latency: 3.29s, Test Memory Usage: 194.0KB\n",
            "Saving best model ...\n",
            "\n",
            "Epoch 102\n"
          ]
        },
        {
          "name": "stderr",
          "output_type": "stream",
          "text": [
            "Train: 100%|###############################| 391/391 [00:28<00:00, 13.58batch/s]\n"
          ]
        },
        {
          "name": "stdout",
          "output_type": "stream",
          "text": [
            "LR: 1.0000e-03, Train Loss: 0.1677, Train Acc: 0.9455, Train Latency: 28.80s, Memory Usage: 19750.0KB\n",
            "Test Loss: 0.2715, Test Acc: 0.9111, Test Latency: 3.53s, Test Memory Usage: 194.0KB\n",
            "Saving best model ...\n",
            "\n",
            "Epoch 103\n"
          ]
        },
        {
          "name": "stderr",
          "output_type": "stream",
          "text": [
            "Train: 100%|###############################| 391/391 [00:29<00:00, 13.37batch/s]\n"
          ]
        },
        {
          "name": "stdout",
          "output_type": "stream",
          "text": [
            "LR: 1.0000e-03, Train Loss: 0.1577, Train Acc: 0.9489, Train Latency: 29.25s, Memory Usage: 19750.0KB\n",
            "Test Loss: 0.2699, Test Acc: 0.9127, Test Latency: 3.23s, Test Memory Usage: 194.0KB\n",
            "Saving best model ...\n",
            "\n",
            "Epoch 104\n"
          ]
        },
        {
          "name": "stderr",
          "output_type": "stream",
          "text": [
            "Train: 100%|###############################| 391/391 [00:24<00:00, 15.88batch/s]\n"
          ]
        },
        {
          "name": "stdout",
          "output_type": "stream",
          "text": [
            "LR: 1.0000e-03, Train Loss: 0.1553, Train Acc: 0.9498, Train Latency: 24.62s, Memory Usage: 19750.0KB\n",
            "Test Loss: 0.2680, Test Acc: 0.9086, Test Latency: 3.22s, Test Memory Usage: 194.0KB\n",
            "\n",
            "Epoch 105\n"
          ]
        },
        {
          "name": "stderr",
          "output_type": "stream",
          "text": [
            "Train: 100%|###############################| 391/391 [00:29<00:00, 13.45batch/s]\n"
          ]
        },
        {
          "name": "stdout",
          "output_type": "stream",
          "text": [
            "LR: 1.0000e-03, Train Loss: 0.1497, Train Acc: 0.9523, Train Latency: 29.07s, Memory Usage: 19750.0KB\n",
            "Test Loss: 0.2698, Test Acc: 0.9117, Test Latency: 3.24s, Test Memory Usage: 194.0KB\n",
            "\n",
            "Epoch 106\n"
          ]
        },
        {
          "name": "stderr",
          "output_type": "stream",
          "text": [
            "Train: 100%|###############################| 391/391 [00:31<00:00, 12.49batch/s]\n"
          ]
        },
        {
          "name": "stdout",
          "output_type": "stream",
          "text": [
            "LR: 1.0000e-03, Train Loss: 0.1447, Train Acc: 0.9536, Train Latency: 31.30s, Memory Usage: 19750.0KB\n",
            "Test Loss: 0.2712, Test Acc: 0.9116, Test Latency: 3.68s, Test Memory Usage: 194.0KB\n",
            "\n",
            "Epoch 107\n"
          ]
        },
        {
          "name": "stderr",
          "output_type": "stream",
          "text": [
            "Train: 100%|###############################| 391/391 [00:25<00:00, 15.57batch/s]\n"
          ]
        },
        {
          "name": "stdout",
          "output_type": "stream",
          "text": [
            "LR: 1.0000e-03, Train Loss: 0.1420, Train Acc: 0.9548, Train Latency: 25.11s, Memory Usage: 19750.0KB\n",
            "Test Loss: 0.2697, Test Acc: 0.9127, Test Latency: 3.22s, Test Memory Usage: 194.0KB\n",
            "\n",
            "Epoch 108\n"
          ]
        },
        {
          "name": "stderr",
          "output_type": "stream",
          "text": [
            "Train: 100%|###############################| 391/391 [00:24<00:00, 15.83batch/s]\n"
          ]
        },
        {
          "name": "stdout",
          "output_type": "stream",
          "text": [
            "LR: 1.0000e-03, Train Loss: 0.1380, Train Acc: 0.9550, Train Latency: 24.71s, Memory Usage: 19750.0KB\n",
            "Test Loss: 0.2734, Test Acc: 0.9116, Test Latency: 3.23s, Test Memory Usage: 194.0KB\n",
            "\n",
            "Epoch 109\n"
          ]
        },
        {
          "name": "stderr",
          "output_type": "stream",
          "text": [
            "Train: 100%|###############################| 391/391 [00:30<00:00, 12.63batch/s]\n"
          ]
        },
        {
          "name": "stdout",
          "output_type": "stream",
          "text": [
            "LR: 1.0000e-03, Train Loss: 0.1381, Train Acc: 0.9555, Train Latency: 30.96s, Memory Usage: 19750.0KB\n",
            "Test Loss: 0.2697, Test Acc: 0.9129, Test Latency: 3.69s, Test Memory Usage: 194.0KB\n",
            "Saving best model ...\n",
            "\n",
            "Epoch 110\n"
          ]
        },
        {
          "name": "stderr",
          "output_type": "stream",
          "text": [
            "Train: 100%|###############################| 391/391 [00:31<00:00, 12.49batch/s]\n"
          ]
        },
        {
          "name": "stdout",
          "output_type": "stream",
          "text": [
            "LR: 1.0000e-03, Train Loss: 0.1365, Train Acc: 0.9563, Train Latency: 31.30s, Memory Usage: 19750.0KB\n",
            "Test Loss: 0.2805, Test Acc: 0.9076, Test Latency: 3.71s, Test Memory Usage: 194.0KB\n",
            "\n",
            "Epoch 111\n"
          ]
        },
        {
          "name": "stderr",
          "output_type": "stream",
          "text": [
            "Train: 100%|###############################| 391/391 [00:25<00:00, 15.09batch/s]\n"
          ]
        },
        {
          "name": "stdout",
          "output_type": "stream",
          "text": [
            "LR: 1.0000e-03, Train Loss: 0.1375, Train Acc: 0.9565, Train Latency: 25.92s, Memory Usage: 19750.0KB\n",
            "Test Loss: 0.2722, Test Acc: 0.9115, Test Latency: 3.64s, Test Memory Usage: 194.0KB\n",
            "\n",
            "Epoch 112\n"
          ]
        },
        {
          "name": "stderr",
          "output_type": "stream",
          "text": [
            "Train: 100%|###############################| 391/391 [00:25<00:00, 15.50batch/s]\n"
          ]
        },
        {
          "name": "stdout",
          "output_type": "stream",
          "text": [
            "LR: 1.0000e-03, Train Loss: 0.1341, Train Acc: 0.9575, Train Latency: 25.23s, Memory Usage: 19750.0KB\n",
            "Test Loss: 0.2725, Test Acc: 0.9098, Test Latency: 3.25s, Test Memory Usage: 194.0KB\n",
            "\n",
            "Epoch 113\n"
          ]
        },
        {
          "name": "stderr",
          "output_type": "stream",
          "text": [
            "Train: 100%|###############################| 391/391 [00:26<00:00, 14.67batch/s]\n"
          ]
        },
        {
          "name": "stdout",
          "output_type": "stream",
          "text": [
            "LR: 1.0000e-03, Train Loss: 0.1331, Train Acc: 0.9573, Train Latency: 26.66s, Memory Usage: 19750.0KB\n",
            "Test Loss: 0.2754, Test Acc: 0.9101, Test Latency: 3.55s, Test Memory Usage: 194.0KB\n",
            "\n",
            "Epoch 114\n"
          ]
        },
        {
          "name": "stderr",
          "output_type": "stream",
          "text": [
            "Train: 100%|###############################| 391/391 [00:27<00:00, 14.42batch/s]\n"
          ]
        },
        {
          "name": "stdout",
          "output_type": "stream",
          "text": [
            "LR: 1.0000e-03, Train Loss: 0.1287, Train Acc: 0.9578, Train Latency: 27.11s, Memory Usage: 19750.0KB\n",
            "Test Loss: 0.2780, Test Acc: 0.9099, Test Latency: 3.24s, Test Memory Usage: 194.0KB\n",
            "\n",
            "Epoch 115\n"
          ]
        },
        {
          "name": "stderr",
          "output_type": "stream",
          "text": [
            "Train: 100%|###############################| 391/391 [00:28<00:00, 13.69batch/s]\n"
          ]
        },
        {
          "name": "stdout",
          "output_type": "stream",
          "text": [
            "LR: 1.0000e-03, Train Loss: 0.1269, Train Acc: 0.9589, Train Latency: 28.56s, Memory Usage: 19750.0KB\n",
            "Test Loss: 0.2806, Test Acc: 0.9085, Test Latency: 3.23s, Test Memory Usage: 194.0KB\n",
            "\n",
            "Epoch 116\n"
          ]
        },
        {
          "name": "stderr",
          "output_type": "stream",
          "text": [
            "Train: 100%|###############################| 391/391 [00:25<00:00, 15.14batch/s]\n"
          ]
        },
        {
          "name": "stdout",
          "output_type": "stream",
          "text": [
            "LR: 1.0000e-03, Train Loss: 0.1268, Train Acc: 0.9595, Train Latency: 25.82s, Memory Usage: 19750.0KB\n",
            "Test Loss: 0.2773, Test Acc: 0.9061, Test Latency: 3.23s, Test Memory Usage: 194.0KB\n",
            "\n",
            "Epoch 117\n"
          ]
        },
        {
          "name": "stderr",
          "output_type": "stream",
          "text": [
            "Train: 100%|###############################| 391/391 [00:28<00:00, 13.89batch/s]\n"
          ]
        },
        {
          "name": "stdout",
          "output_type": "stream",
          "text": [
            "LR: 1.0000e-03, Train Loss: 0.1294, Train Acc: 0.9587, Train Latency: 28.15s, Memory Usage: 19750.0KB\n",
            "Test Loss: 0.2810, Test Acc: 0.9085, Test Latency: 3.23s, Test Memory Usage: 194.0KB\n",
            "\n",
            "Epoch 118\n"
          ]
        },
        {
          "name": "stderr",
          "output_type": "stream",
          "text": [
            "Train: 100%|###############################| 391/391 [00:24<00:00, 15.64batch/s]\n"
          ]
        },
        {
          "name": "stdout",
          "output_type": "stream",
          "text": [
            "LR: 1.0000e-03, Train Loss: 0.1274, Train Acc: 0.9590, Train Latency: 25.00s, Memory Usage: 19750.0KB\n",
            "Test Loss: 0.2846, Test Acc: 0.9083, Test Latency: 3.23s, Test Memory Usage: 194.0KB\n",
            "\n",
            "Epoch 119\n"
          ]
        },
        {
          "name": "stderr",
          "output_type": "stream",
          "text": [
            "Train: 100%|###############################| 391/391 [00:28<00:00, 13.91batch/s]\n"
          ]
        },
        {
          "name": "stdout",
          "output_type": "stream",
          "text": [
            "LR: 1.0000e-03, Train Loss: 0.1247, Train Acc: 0.9600, Train Latency: 28.11s, Memory Usage: 19750.0KB\n",
            "Test Loss: 0.2880, Test Acc: 0.9076, Test Latency: 3.70s, Test Memory Usage: 194.0KB\n",
            "\n",
            "Epoch 120\n"
          ]
        },
        {
          "name": "stderr",
          "output_type": "stream",
          "text": [
            "Train: 100%|###############################| 391/391 [00:30<00:00, 12.85batch/s]\n"
          ]
        },
        {
          "name": "stdout",
          "output_type": "stream",
          "text": [
            "LR: 1.0000e-03, Train Loss: 0.1255, Train Acc: 0.9603, Train Latency: 30.44s, Memory Usage: 19750.0KB\n",
            "Test Loss: 0.2784, Test Acc: 0.9131, Test Latency: 3.69s, Test Memory Usage: 194.0KB\n",
            "Saving best model ...\n",
            "\n",
            "Epoch 121\n"
          ]
        },
        {
          "name": "stderr",
          "output_type": "stream",
          "text": [
            "Train: 100%|###############################| 391/391 [00:31<00:00, 12.48batch/s]\n"
          ]
        },
        {
          "name": "stdout",
          "output_type": "stream",
          "text": [
            "LR: 1.0000e-03, Train Loss: 0.1250, Train Acc: 0.9588, Train Latency: 31.34s, Memory Usage: 19750.0KB\n",
            "Test Loss: 0.2916, Test Acc: 0.9089, Test Latency: 3.69s, Test Memory Usage: 194.0KB\n",
            "\n",
            "Epoch 122\n"
          ]
        },
        {
          "name": "stderr",
          "output_type": "stream",
          "text": [
            "Train: 100%|###############################| 391/391 [00:31<00:00, 12.51batch/s]\n"
          ]
        },
        {
          "name": "stdout",
          "output_type": "stream",
          "text": [
            "LR: 1.0000e-03, Train Loss: 0.1232, Train Acc: 0.9597, Train Latency: 31.26s, Memory Usage: 19750.0KB\n",
            "Test Loss: 0.2995, Test Acc: 0.9040, Test Latency: 3.69s, Test Memory Usage: 194.0KB\n",
            "\n",
            "Epoch 123\n"
          ]
        },
        {
          "name": "stderr",
          "output_type": "stream",
          "text": [
            "Train: 100%|###############################| 391/391 [00:29<00:00, 13.46batch/s]\n"
          ]
        },
        {
          "name": "stdout",
          "output_type": "stream",
          "text": [
            "LR: 1.0000e-03, Train Loss: 0.1214, Train Acc: 0.9615, Train Latency: 29.06s, Memory Usage: 19750.0KB\n",
            "Test Loss: 0.2777, Test Acc: 0.9088, Test Latency: 3.71s, Test Memory Usage: 194.0KB\n",
            "\n",
            "Epoch 124\n"
          ]
        },
        {
          "name": "stderr",
          "output_type": "stream",
          "text": [
            "Train: 100%|###############################| 391/391 [00:30<00:00, 12.88batch/s]\n"
          ]
        },
        {
          "name": "stdout",
          "output_type": "stream",
          "text": [
            "LR: 1.0000e-03, Train Loss: 0.1247, Train Acc: 0.9604, Train Latency: 30.36s, Memory Usage: 19750.0KB\n",
            "Test Loss: 0.2916, Test Acc: 0.9056, Test Latency: 3.26s, Test Memory Usage: 194.0KB\n",
            "\n",
            "Epoch 125\n"
          ]
        },
        {
          "name": "stderr",
          "output_type": "stream",
          "text": [
            "Train: 100%|###############################| 391/391 [00:28<00:00, 13.85batch/s]\n"
          ]
        },
        {
          "name": "stdout",
          "output_type": "stream",
          "text": [
            "LR: 1.0000e-03, Train Loss: 0.1253, Train Acc: 0.9593, Train Latency: 28.24s, Memory Usage: 19750.0KB\n",
            "Test Loss: 0.2869, Test Acc: 0.9066, Test Latency: 3.24s, Test Memory Usage: 194.0KB\n",
            "\n",
            "Epoch 126\n"
          ]
        },
        {
          "name": "stderr",
          "output_type": "stream",
          "text": [
            "Train: 100%|###############################| 391/391 [00:28<00:00, 13.89batch/s]\n"
          ]
        },
        {
          "name": "stdout",
          "output_type": "stream",
          "text": [
            "LR: 1.0000e-03, Train Loss: 0.1258, Train Acc: 0.9594, Train Latency: 28.14s, Memory Usage: 19750.0KB\n",
            "Test Loss: 0.2969, Test Acc: 0.9034, Test Latency: 3.24s, Test Memory Usage: 194.0KB\n",
            "\n",
            "Epoch 127\n"
          ]
        },
        {
          "name": "stderr",
          "output_type": "stream",
          "text": [
            "Train: 100%|###############################| 391/391 [00:29<00:00, 13.42batch/s]\n"
          ]
        },
        {
          "name": "stdout",
          "output_type": "stream",
          "text": [
            "LR: 1.0000e-03, Train Loss: 0.1221, Train Acc: 0.9602, Train Latency: 29.13s, Memory Usage: 19750.0KB\n",
            "Test Loss: 0.3145, Test Acc: 0.9037, Test Latency: 3.71s, Test Memory Usage: 194.0KB\n",
            "\n",
            "Epoch 128\n"
          ]
        },
        {
          "name": "stderr",
          "output_type": "stream",
          "text": [
            "Train: 100%|###############################| 391/391 [00:31<00:00, 12.53batch/s]\n"
          ]
        },
        {
          "name": "stdout",
          "output_type": "stream",
          "text": [
            "LR: 1.0000e-03, Train Loss: 0.1196, Train Acc: 0.9610, Train Latency: 31.20s, Memory Usage: 19750.0KB\n",
            "Test Loss: 0.2942, Test Acc: 0.9080, Test Latency: 3.70s, Test Memory Usage: 194.0KB\n",
            "\n",
            "Epoch 129\n"
          ]
        },
        {
          "name": "stderr",
          "output_type": "stream",
          "text": [
            "Train: 100%|###############################| 391/391 [00:28<00:00, 13.65batch/s]\n"
          ]
        },
        {
          "name": "stdout",
          "output_type": "stream",
          "text": [
            "LR: 1.0000e-03, Train Loss: 0.1192, Train Acc: 0.9615, Train Latency: 28.64s, Memory Usage: 19750.0KB\n",
            "Test Loss: 0.3027, Test Acc: 0.9059, Test Latency: 3.43s, Test Memory Usage: 194.0KB\n",
            "\n",
            "Epoch 130\n"
          ]
        },
        {
          "name": "stderr",
          "output_type": "stream",
          "text": [
            "Train: 100%|###############################| 391/391 [00:28<00:00, 13.63batch/s]\n"
          ]
        },
        {
          "name": "stdout",
          "output_type": "stream",
          "text": [
            "LR: 1.0000e-03, Train Loss: 0.1216, Train Acc: 0.9602, Train Latency: 28.69s, Memory Usage: 19750.0KB\n",
            "Test Loss: 0.3095, Test Acc: 0.9044, Test Latency: 3.26s, Test Memory Usage: 194.0KB\n",
            "\n",
            "Epoch 131\n"
          ]
        },
        {
          "name": "stderr",
          "output_type": "stream",
          "text": [
            "Train: 100%|###############################| 391/391 [00:29<00:00, 13.04batch/s]\n"
          ]
        },
        {
          "name": "stdout",
          "output_type": "stream",
          "text": [
            "LR: 1.0000e-03, Train Loss: 0.1176, Train Acc: 0.9623, Train Latency: 29.99s, Memory Usage: 19750.0KB\n",
            "Test Loss: 0.3064, Test Acc: 0.9023, Test Latency: 3.23s, Test Memory Usage: 194.0KB\n",
            "\n",
            "Epoch 132\n"
          ]
        },
        {
          "name": "stderr",
          "output_type": "stream",
          "text": [
            "Train: 100%|###############################| 391/391 [00:30<00:00, 12.74batch/s]\n"
          ]
        },
        {
          "name": "stdout",
          "output_type": "stream",
          "text": [
            "LR: 1.0000e-03, Train Loss: 0.1191, Train Acc: 0.9603, Train Latency: 30.69s, Memory Usage: 19750.0KB\n",
            "Test Loss: 0.2930, Test Acc: 0.9076, Test Latency: 3.57s, Test Memory Usage: 194.0KB\n",
            "\n",
            "Epoch 133\n"
          ]
        },
        {
          "name": "stderr",
          "output_type": "stream",
          "text": [
            "Train: 100%|###############################| 391/391 [00:29<00:00, 13.32batch/s]\n"
          ]
        },
        {
          "name": "stdout",
          "output_type": "stream",
          "text": [
            "LR: 1.0000e-03, Train Loss: 0.1174, Train Acc: 0.9615, Train Latency: 29.35s, Memory Usage: 19750.0KB\n",
            "Test Loss: 0.2981, Test Acc: 0.9055, Test Latency: 3.69s, Test Memory Usage: 194.0KB\n",
            "\n",
            "Epoch 134\n"
          ]
        },
        {
          "name": "stderr",
          "output_type": "stream",
          "text": [
            "Train: 100%|###############################| 391/391 [00:25<00:00, 15.50batch/s]\n"
          ]
        },
        {
          "name": "stdout",
          "output_type": "stream",
          "text": [
            "LR: 1.0000e-03, Train Loss: 0.1197, Train Acc: 0.9613, Train Latency: 25.23s, Memory Usage: 19750.0KB\n",
            "Test Loss: 0.2847, Test Acc: 0.9111, Test Latency: 3.23s, Test Memory Usage: 194.0KB\n",
            "\n",
            "Epoch 135\n"
          ]
        },
        {
          "name": "stderr",
          "output_type": "stream",
          "text": [
            "Train: 100%|###############################| 391/391 [00:30<00:00, 12.85batch/s]\n"
          ]
        },
        {
          "name": "stdout",
          "output_type": "stream",
          "text": [
            "LR: 1.0000e-03, Train Loss: 0.1190, Train Acc: 0.9618, Train Latency: 30.42s, Memory Usage: 19750.0KB\n",
            "Test Loss: 0.3054, Test Acc: 0.9063, Test Latency: 3.58s, Test Memory Usage: 194.0KB\n",
            "\n",
            "Epoch 136\n"
          ]
        },
        {
          "name": "stderr",
          "output_type": "stream",
          "text": [
            "Train: 100%|###############################| 391/391 [00:30<00:00, 12.74batch/s]\n"
          ]
        },
        {
          "name": "stdout",
          "output_type": "stream",
          "text": [
            "LR: 1.0000e-03, Train Loss: 0.1205, Train Acc: 0.9607, Train Latency: 30.70s, Memory Usage: 19750.0KB\n",
            "Test Loss: 0.3146, Test Acc: 0.8989, Test Latency: 3.61s, Test Memory Usage: 194.0KB\n",
            "\n",
            "Epoch 137\n"
          ]
        },
        {
          "name": "stderr",
          "output_type": "stream",
          "text": [
            "Train: 100%|###############################| 391/391 [00:28<00:00, 13.54batch/s]\n"
          ]
        },
        {
          "name": "stdout",
          "output_type": "stream",
          "text": [
            "LR: 1.0000e-03, Train Loss: 0.1240, Train Acc: 0.9611, Train Latency: 28.88s, Memory Usage: 19750.0KB\n",
            "Test Loss: 0.3081, Test Acc: 0.9065, Test Latency: 3.72s, Test Memory Usage: 194.0KB\n",
            "\n",
            "Epoch 138\n"
          ]
        },
        {
          "name": "stderr",
          "output_type": "stream",
          "text": [
            "Train: 100%|###############################| 391/391 [00:30<00:00, 12.64batch/s]\n"
          ]
        },
        {
          "name": "stdout",
          "output_type": "stream",
          "text": [
            "LR: 1.0000e-03, Train Loss: 0.1168, Train Acc: 0.9622, Train Latency: 30.93s, Memory Usage: 19750.0KB\n",
            "Test Loss: 0.2996, Test Acc: 0.9089, Test Latency: 3.53s, Test Memory Usage: 194.0KB\n",
            "\n",
            "Epoch 139\n"
          ]
        },
        {
          "name": "stderr",
          "output_type": "stream",
          "text": [
            "Train: 100%|###############################| 391/391 [00:30<00:00, 12.93batch/s]\n"
          ]
        },
        {
          "name": "stdout",
          "output_type": "stream",
          "text": [
            "LR: 1.0000e-03, Train Loss: 0.1202, Train Acc: 0.9611, Train Latency: 30.25s, Memory Usage: 19750.0KB\n",
            "Test Loss: 0.3152, Test Acc: 0.9024, Test Latency: 3.70s, Test Memory Usage: 194.0KB\n",
            "\n",
            "Epoch 140\n"
          ]
        },
        {
          "name": "stderr",
          "output_type": "stream",
          "text": [
            "Train: 100%|###############################| 391/391 [00:31<00:00, 12.55batch/s]\n"
          ]
        },
        {
          "name": "stdout",
          "output_type": "stream",
          "text": [
            "LR: 1.0000e-03, Train Loss: 0.1167, Train Acc: 0.9628, Train Latency: 31.15s, Memory Usage: 19750.0KB\n",
            "Test Loss: 0.3039, Test Acc: 0.9048, Test Latency: 3.71s, Test Memory Usage: 194.0KB\n",
            "\n",
            "Epoch 141\n"
          ]
        },
        {
          "name": "stderr",
          "output_type": "stream",
          "text": [
            "Train: 100%|###############################| 391/391 [00:28<00:00, 13.53batch/s]\n"
          ]
        },
        {
          "name": "stdout",
          "output_type": "stream",
          "text": [
            "LR: 1.0000e-03, Train Loss: 0.1195, Train Acc: 0.9613, Train Latency: 28.90s, Memory Usage: 19750.0KB\n",
            "Test Loss: 0.3093, Test Acc: 0.9026, Test Latency: 3.23s, Test Memory Usage: 194.0KB\n",
            "\n",
            "Epoch 142\n"
          ]
        },
        {
          "name": "stderr",
          "output_type": "stream",
          "text": [
            "Train: 100%|###############################| 391/391 [00:24<00:00, 15.82batch/s]\n"
          ]
        },
        {
          "name": "stdout",
          "output_type": "stream",
          "text": [
            "LR: 1.0000e-03, Train Loss: 0.1199, Train Acc: 0.9607, Train Latency: 24.72s, Memory Usage: 19750.0KB\n",
            "Test Loss: 0.3092, Test Acc: 0.9026, Test Latency: 3.24s, Test Memory Usage: 194.0KB\n",
            "\n",
            "Epoch 143\n"
          ]
        },
        {
          "name": "stderr",
          "output_type": "stream",
          "text": [
            "Train: 100%|###############################| 391/391 [00:29<00:00, 13.09batch/s]\n"
          ]
        },
        {
          "name": "stdout",
          "output_type": "stream",
          "text": [
            "LR: 1.0000e-03, Train Loss: 0.1203, Train Acc: 0.9599, Train Latency: 29.87s, Memory Usage: 19750.0KB\n",
            "Test Loss: 0.3184, Test Acc: 0.9032, Test Latency: 3.71s, Test Memory Usage: 194.0KB\n",
            "\n",
            "Epoch 144\n"
          ]
        },
        {
          "name": "stderr",
          "output_type": "stream",
          "text": [
            "Train: 100%|###############################| 391/391 [00:31<00:00, 12.58batch/s]\n"
          ]
        },
        {
          "name": "stdout",
          "output_type": "stream",
          "text": [
            "LR: 1.0000e-03, Train Loss: 0.1203, Train Acc: 0.9602, Train Latency: 31.10s, Memory Usage: 19750.0KB\n",
            "Test Loss: 0.3010, Test Acc: 0.9029, Test Latency: 3.71s, Test Memory Usage: 194.0KB\n",
            "\n",
            "Epoch 145\n"
          ]
        },
        {
          "name": "stderr",
          "output_type": "stream",
          "text": [
            "Train: 100%|###############################| 391/391 [00:31<00:00, 12.57batch/s]\n"
          ]
        },
        {
          "name": "stdout",
          "output_type": "stream",
          "text": [
            "LR: 1.0000e-03, Train Loss: 0.1186, Train Acc: 0.9611, Train Latency: 31.12s, Memory Usage: 19750.0KB\n",
            "Test Loss: 0.3091, Test Acc: 0.9049, Test Latency: 3.70s, Test Memory Usage: 194.0KB\n",
            "\n",
            "Epoch 146\n"
          ]
        },
        {
          "name": "stderr",
          "output_type": "stream",
          "text": [
            "Train: 100%|###############################| 391/391 [00:29<00:00, 13.48batch/s]\n"
          ]
        },
        {
          "name": "stdout",
          "output_type": "stream",
          "text": [
            "LR: 1.0000e-03, Train Loss: 0.1223, Train Acc: 0.9600, Train Latency: 29.01s, Memory Usage: 19750.0KB\n",
            "Test Loss: 0.3170, Test Acc: 0.9022, Test Latency: 3.54s, Test Memory Usage: 194.0KB\n",
            "\n",
            "Epoch 147\n"
          ]
        },
        {
          "name": "stderr",
          "output_type": "stream",
          "text": [
            "Train: 100%|###############################| 391/391 [00:24<00:00, 15.82batch/s]\n"
          ]
        },
        {
          "name": "stdout",
          "output_type": "stream",
          "text": [
            "LR: 1.0000e-03, Train Loss: 0.1182, Train Acc: 0.9612, Train Latency: 24.72s, Memory Usage: 19750.0KB\n",
            "Test Loss: 0.3123, Test Acc: 0.9032, Test Latency: 3.23s, Test Memory Usage: 194.0KB\n",
            "\n",
            "Epoch 148\n"
          ]
        },
        {
          "name": "stderr",
          "output_type": "stream",
          "text": [
            "Train: 100%|###############################| 391/391 [00:24<00:00, 15.81batch/s]\n"
          ]
        },
        {
          "name": "stdout",
          "output_type": "stream",
          "text": [
            "LR: 1.0000e-03, Train Loss: 0.1201, Train Acc: 0.9601, Train Latency: 24.74s, Memory Usage: 19750.0KB\n",
            "Test Loss: 0.3021, Test Acc: 0.9056, Test Latency: 3.23s, Test Memory Usage: 194.0KB\n",
            "\n",
            "Epoch 149\n"
          ]
        },
        {
          "name": "stderr",
          "output_type": "stream",
          "text": [
            "Train: 100%|###############################| 391/391 [00:27<00:00, 14.24batch/s]\n"
          ]
        },
        {
          "name": "stdout",
          "output_type": "stream",
          "text": [
            "LR: 1.0000e-03, Train Loss: 0.1216, Train Acc: 0.9593, Train Latency: 27.46s, Memory Usage: 19750.0KB\n",
            "Test Loss: 0.3061, Test Acc: 0.9063, Test Latency: 3.23s, Test Memory Usage: 194.0KB\n",
            "\n",
            "Epoch 150\n"
          ]
        },
        {
          "name": "stderr",
          "output_type": "stream",
          "text": [
            "Train: 100%|###############################| 391/391 [00:30<00:00, 12.62batch/s]\n"
          ]
        },
        {
          "name": "stdout",
          "output_type": "stream",
          "text": [
            "LR: 1.0000e-03, Train Loss: 0.1208, Train Acc: 0.9604, Train Latency: 30.98s, Memory Usage: 19750.0KB\n",
            "Test Loss: 0.3290, Test Acc: 0.9000, Test Latency: 3.53s, Test Memory Usage: 194.0KB\n",
            "\n",
            "Epoch 151\n"
          ]
        },
        {
          "name": "stderr",
          "output_type": "stream",
          "text": [
            "Train: 100%|###############################| 391/391 [00:30<00:00, 12.63batch/s]\n"
          ]
        },
        {
          "name": "stdout",
          "output_type": "stream",
          "text": [
            "LR: 1.0000e-04, Train Loss: 0.1017, Train Acc: 0.9683, Train Latency: 30.96s, Memory Usage: 19750.0KB\n",
            "Test Loss: 0.2837, Test Acc: 0.9122, Test Latency: 3.71s, Test Memory Usage: 194.0KB\n",
            "\n",
            "Epoch 152\n"
          ]
        },
        {
          "name": "stderr",
          "output_type": "stream",
          "text": [
            "Train: 100%|###############################| 391/391 [00:31<00:00, 12.50batch/s]\n"
          ]
        },
        {
          "name": "stdout",
          "output_type": "stream",
          "text": [
            "LR: 1.0000e-04, Train Loss: 0.0918, Train Acc: 0.9724, Train Latency: 31.27s, Memory Usage: 19750.0KB\n",
            "Test Loss: 0.2797, Test Acc: 0.9142, Test Latency: 3.72s, Test Memory Usage: 194.0KB\n",
            "Saving best model ...\n",
            "\n",
            "Epoch 153\n"
          ]
        },
        {
          "name": "stderr",
          "output_type": "stream",
          "text": [
            "Train: 100%|###############################| 391/391 [00:29<00:00, 13.30batch/s]\n"
          ]
        },
        {
          "name": "stdout",
          "output_type": "stream",
          "text": [
            "LR: 1.0000e-04, Train Loss: 0.0929, Train Acc: 0.9725, Train Latency: 29.39s, Memory Usage: 19750.0KB\n",
            "Test Loss: 0.2696, Test Acc: 0.9152, Test Latency: 3.25s, Test Memory Usage: 194.0KB\n",
            "Saving best model ...\n",
            "\n",
            "Epoch 154\n"
          ]
        },
        {
          "name": "stderr",
          "output_type": "stream",
          "text": [
            "Train: 100%|###############################| 391/391 [00:25<00:00, 15.04batch/s]\n"
          ]
        },
        {
          "name": "stdout",
          "output_type": "stream",
          "text": [
            "LR: 1.0000e-04, Train Loss: 0.1090, Train Acc: 0.9734, Train Latency: 26.00s, Memory Usage: 19750.0KB\n",
            "Test Loss: 0.2696, Test Acc: 0.9150, Test Latency: 3.54s, Test Memory Usage: 194.0KB\n",
            "\n",
            "Epoch 155\n"
          ]
        },
        {
          "name": "stderr",
          "output_type": "stream",
          "text": [
            "Train: 100%|###############################| 391/391 [00:30<00:00, 12.68batch/s]\n"
          ]
        },
        {
          "name": "stdout",
          "output_type": "stream",
          "text": [
            "LR: 1.0000e-04, Train Loss: 0.0913, Train Acc: 0.9736, Train Latency: 30.83s, Memory Usage: 19750.0KB\n",
            "Test Loss: 0.2739, Test Acc: 0.9148, Test Latency: 3.71s, Test Memory Usage: 194.0KB\n",
            "\n",
            "Epoch 156\n"
          ]
        },
        {
          "name": "stderr",
          "output_type": "stream",
          "text": [
            "Train: 100%|###############################| 391/391 [00:31<00:00, 12.54batch/s]\n"
          ]
        },
        {
          "name": "stdout",
          "output_type": "stream",
          "text": [
            "LR: 1.0000e-04, Train Loss: 0.0904, Train Acc: 0.9742, Train Latency: 31.17s, Memory Usage: 19750.0KB\n",
            "Test Loss: 0.2759, Test Acc: 0.9133, Test Latency: 3.50s, Test Memory Usage: 194.0KB\n",
            "\n",
            "Epoch 157\n"
          ]
        },
        {
          "name": "stderr",
          "output_type": "stream",
          "text": [
            "Train: 100%|###############################| 391/391 [00:30<00:00, 12.78batch/s]\n"
          ]
        },
        {
          "name": "stdout",
          "output_type": "stream",
          "text": [
            "LR: 1.0000e-04, Train Loss: 0.0890, Train Acc: 0.9740, Train Latency: 30.60s, Memory Usage: 19750.0KB\n",
            "Test Loss: 0.2794, Test Acc: 0.9130, Test Latency: 3.23s, Test Memory Usage: 194.0KB\n",
            "\n",
            "Epoch 158\n"
          ]
        },
        {
          "name": "stderr",
          "output_type": "stream",
          "text": [
            "Train: 100%|###############################| 391/391 [00:30<00:00, 12.96batch/s]\n"
          ]
        },
        {
          "name": "stdout",
          "output_type": "stream",
          "text": [
            "LR: 1.0000e-04, Train Loss: 0.0885, Train Acc: 0.9742, Train Latency: 30.18s, Memory Usage: 19750.0KB\n",
            "Test Loss: 0.2838, Test Acc: 0.9092, Test Latency: 3.55s, Test Memory Usage: 194.0KB\n",
            "\n",
            "Epoch 159\n"
          ]
        },
        {
          "name": "stderr",
          "output_type": "stream",
          "text": [
            "Train: 100%|###############################| 391/391 [00:28<00:00, 13.95batch/s]\n"
          ]
        },
        {
          "name": "stdout",
          "output_type": "stream",
          "text": [
            "LR: 1.0000e-04, Train Loss: 0.0882, Train Acc: 0.9741, Train Latency: 28.02s, Memory Usage: 19750.0KB\n",
            "Test Loss: 0.2849, Test Acc: 0.9115, Test Latency: 3.70s, Test Memory Usage: 194.0KB\n",
            "\n",
            "Epoch 160\n"
          ]
        },
        {
          "name": "stderr",
          "output_type": "stream",
          "text": [
            "Train: 100%|###############################| 391/391 [00:31<00:00, 12.58batch/s]\n"
          ]
        },
        {
          "name": "stdout",
          "output_type": "stream",
          "text": [
            "LR: 1.0000e-04, Train Loss: 0.0869, Train Acc: 0.9749, Train Latency: 31.09s, Memory Usage: 19750.0KB\n",
            "Test Loss: 0.2896, Test Acc: 0.9094, Test Latency: 3.69s, Test Memory Usage: 194.0KB\n",
            "\n",
            "Epoch 161\n"
          ]
        },
        {
          "name": "stderr",
          "output_type": "stream",
          "text": [
            "Train: 100%|###############################| 391/391 [00:31<00:00, 12.54batch/s]\n"
          ]
        },
        {
          "name": "stdout",
          "output_type": "stream",
          "text": [
            "LR: 1.0000e-04, Train Loss: 0.0888, Train Acc: 0.9737, Train Latency: 31.19s, Memory Usage: 19750.0KB\n",
            "Test Loss: 0.2806, Test Acc: 0.9133, Test Latency: 3.70s, Test Memory Usage: 194.0KB\n",
            "\n",
            "Epoch 162\n"
          ]
        },
        {
          "name": "stderr",
          "output_type": "stream",
          "text": [
            "Train: 100%|###############################| 391/391 [00:25<00:00, 15.47batch/s]\n"
          ]
        },
        {
          "name": "stdout",
          "output_type": "stream",
          "text": [
            "LR: 1.0000e-04, Train Loss: 0.0871, Train Acc: 0.9744, Train Latency: 25.27s, Memory Usage: 19750.0KB\n",
            "Test Loss: 0.2782, Test Acc: 0.9126, Test Latency: 3.22s, Test Memory Usage: 194.0KB\n",
            "\n",
            "Epoch 163\n"
          ]
        },
        {
          "name": "stderr",
          "output_type": "stream",
          "text": [
            "Train: 100%|###############################| 391/391 [00:30<00:00, 12.67batch/s]\n"
          ]
        },
        {
          "name": "stdout",
          "output_type": "stream",
          "text": [
            "LR: 1.0000e-04, Train Loss: 0.0869, Train Acc: 0.9743, Train Latency: 30.87s, Memory Usage: 19750.0KB\n",
            "Test Loss: 0.2772, Test Acc: 0.9128, Test Latency: 3.69s, Test Memory Usage: 194.0KB\n",
            "\n",
            "Epoch 164\n"
          ]
        },
        {
          "name": "stderr",
          "output_type": "stream",
          "text": [
            "Train: 100%|###############################| 391/391 [00:28<00:00, 13.60batch/s]\n"
          ]
        },
        {
          "name": "stdout",
          "output_type": "stream",
          "text": [
            "LR: 1.0000e-04, Train Loss: 0.0846, Train Acc: 0.9753, Train Latency: 28.76s, Memory Usage: 19750.0KB\n",
            "Test Loss: 0.2803, Test Acc: 0.9105, Test Latency: 3.22s, Test Memory Usage: 194.0KB\n",
            "\n",
            "Epoch 165\n"
          ]
        },
        {
          "name": "stderr",
          "output_type": "stream",
          "text": [
            "Train: 100%|###############################| 391/391 [00:27<00:00, 14.28batch/s]\n"
          ]
        },
        {
          "name": "stdout",
          "output_type": "stream",
          "text": [
            "LR: 1.0000e-04, Train Loss: 0.0865, Train Acc: 0.9744, Train Latency: 27.38s, Memory Usage: 19750.0KB\n",
            "Test Loss: 0.2802, Test Acc: 0.9116, Test Latency: 3.24s, Test Memory Usage: 194.0KB\n",
            "\n",
            "Epoch 166\n"
          ]
        },
        {
          "name": "stderr",
          "output_type": "stream",
          "text": [
            "Train: 100%|###############################| 391/391 [00:28<00:00, 13.56batch/s]\n"
          ]
        },
        {
          "name": "stdout",
          "output_type": "stream",
          "text": [
            "LR: 1.0000e-04, Train Loss: 0.0849, Train Acc: 0.9742, Train Latency: 28.83s, Memory Usage: 19750.0KB\n",
            "Test Loss: 0.2872, Test Acc: 0.9111, Test Latency: 3.23s, Test Memory Usage: 194.0KB\n",
            "\n",
            "Epoch 167\n"
          ]
        },
        {
          "name": "stderr",
          "output_type": "stream",
          "text": [
            "Train: 100%|###############################| 391/391 [00:24<00:00, 15.83batch/s]\n"
          ]
        },
        {
          "name": "stdout",
          "output_type": "stream",
          "text": [
            "LR: 1.0000e-04, Train Loss: 0.0850, Train Acc: 0.9750, Train Latency: 24.70s, Memory Usage: 19750.0KB\n",
            "Test Loss: 0.2828, Test Acc: 0.9116, Test Latency: 3.23s, Test Memory Usage: 194.0KB\n",
            "\n",
            "Epoch 168\n"
          ]
        },
        {
          "name": "stderr",
          "output_type": "stream",
          "text": [
            "Train: 100%|###############################| 391/391 [00:29<00:00, 13.40batch/s]\n"
          ]
        },
        {
          "name": "stdout",
          "output_type": "stream",
          "text": [
            "LR: 1.0000e-04, Train Loss: 0.0867, Train Acc: 0.9740, Train Latency: 29.17s, Memory Usage: 19750.0KB\n",
            "Test Loss: 0.2819, Test Acc: 0.9128, Test Latency: 3.45s, Test Memory Usage: 194.0KB\n",
            "\n",
            "Epoch 169\n"
          ]
        },
        {
          "name": "stderr",
          "output_type": "stream",
          "text": [
            "Train: 100%|###############################| 391/391 [00:26<00:00, 14.68batch/s]\n"
          ]
        },
        {
          "name": "stdout",
          "output_type": "stream",
          "text": [
            "LR: 1.0000e-04, Train Loss: 0.0858, Train Acc: 0.9746, Train Latency: 26.64s, Memory Usage: 19750.0KB\n",
            "Test Loss: 0.2898, Test Acc: 0.9122, Test Latency: 3.56s, Test Memory Usage: 194.0KB\n",
            "\n",
            "Epoch 170\n"
          ]
        },
        {
          "name": "stderr",
          "output_type": "stream",
          "text": [
            "Train: 100%|###############################| 391/391 [00:31<00:00, 12.54batch/s]\n"
          ]
        },
        {
          "name": "stdout",
          "output_type": "stream",
          "text": [
            "LR: 1.0000e-04, Train Loss: 0.0849, Train Acc: 0.9746, Train Latency: 31.18s, Memory Usage: 19750.0KB\n",
            "Test Loss: 0.2876, Test Acc: 0.9117, Test Latency: 3.70s, Test Memory Usage: 194.0KB\n",
            "\n",
            "Epoch 171\n"
          ]
        },
        {
          "name": "stderr",
          "output_type": "stream",
          "text": [
            "Train: 100%|###############################| 391/391 [00:25<00:00, 15.48batch/s]\n"
          ]
        },
        {
          "name": "stdout",
          "output_type": "stream",
          "text": [
            "LR: 1.0000e-04, Train Loss: 0.0839, Train Acc: 0.9752, Train Latency: 25.26s, Memory Usage: 19750.0KB\n",
            "Test Loss: 0.2999, Test Acc: 0.9079, Test Latency: 3.23s, Test Memory Usage: 194.0KB\n",
            "\n",
            "Epoch 172\n"
          ]
        },
        {
          "name": "stderr",
          "output_type": "stream",
          "text": [
            "Train: 100%|###############################| 391/391 [00:25<00:00, 15.62batch/s]\n"
          ]
        },
        {
          "name": "stdout",
          "output_type": "stream",
          "text": [
            "LR: 1.0000e-04, Train Loss: 0.0833, Train Acc: 0.9756, Train Latency: 25.04s, Memory Usage: 19750.0KB\n",
            "Test Loss: 0.2884, Test Acc: 0.9131, Test Latency: 3.24s, Test Memory Usage: 194.0KB\n",
            "\n",
            "Epoch 173\n"
          ]
        },
        {
          "name": "stderr",
          "output_type": "stream",
          "text": [
            "Train: 100%|###############################| 391/391 [00:31<00:00, 12.51batch/s]\n"
          ]
        },
        {
          "name": "stdout",
          "output_type": "stream",
          "text": [
            "LR: 1.0000e-04, Train Loss: 0.0856, Train Acc: 0.9745, Train Latency: 31.25s, Memory Usage: 19750.0KB\n",
            "Test Loss: 0.2897, Test Acc: 0.9109, Test Latency: 3.69s, Test Memory Usage: 194.0KB\n",
            "\n",
            "Epoch 174\n"
          ]
        },
        {
          "name": "stderr",
          "output_type": "stream",
          "text": [
            "Train: 100%|###############################| 391/391 [00:26<00:00, 14.83batch/s]\n"
          ]
        },
        {
          "name": "stdout",
          "output_type": "stream",
          "text": [
            "LR: 1.0000e-04, Train Loss: 0.0851, Train Acc: 0.9743, Train Latency: 26.36s, Memory Usage: 19750.0KB\n",
            "Test Loss: 0.2869, Test Acc: 0.9121, Test Latency: 3.53s, Test Memory Usage: 194.0KB\n",
            "\n",
            "Epoch 175\n"
          ]
        },
        {
          "name": "stderr",
          "output_type": "stream",
          "text": [
            "Train: 100%|###############################| 391/391 [00:25<00:00, 15.20batch/s]\n"
          ]
        },
        {
          "name": "stdout",
          "output_type": "stream",
          "text": [
            "LR: 1.0000e-04, Train Loss: 0.0836, Train Acc: 0.9760, Train Latency: 25.73s, Memory Usage: 19750.0KB\n",
            "Test Loss: 0.2886, Test Acc: 0.9101, Test Latency: 3.23s, Test Memory Usage: 194.0KB\n",
            "\n",
            "Epoch 176\n"
          ]
        },
        {
          "name": "stderr",
          "output_type": "stream",
          "text": [
            "Train: 100%|###############################| 391/391 [00:28<00:00, 13.92batch/s]\n"
          ]
        },
        {
          "name": "stdout",
          "output_type": "stream",
          "text": [
            "LR: 1.0000e-04, Train Loss: 0.0844, Train Acc: 0.9739, Train Latency: 28.09s, Memory Usage: 19750.0KB\n",
            "Test Loss: 0.2818, Test Acc: 0.9120, Test Latency: 3.23s, Test Memory Usage: 194.0KB\n",
            "\n",
            "Epoch 177\n"
          ]
        },
        {
          "name": "stderr",
          "output_type": "stream",
          "text": [
            "Train: 100%|###############################| 391/391 [00:28<00:00, 13.85batch/s]\n"
          ]
        },
        {
          "name": "stdout",
          "output_type": "stream",
          "text": [
            "LR: 1.0000e-04, Train Loss: 0.0824, Train Acc: 0.9765, Train Latency: 28.22s, Memory Usage: 19750.0KB\n",
            "Test Loss: 0.2870, Test Acc: 0.9127, Test Latency: 3.23s, Test Memory Usage: 194.0KB\n",
            "\n",
            "Epoch 178\n"
          ]
        },
        {
          "name": "stderr",
          "output_type": "stream",
          "text": [
            "Train: 100%|###############################| 391/391 [00:30<00:00, 12.68batch/s]\n"
          ]
        },
        {
          "name": "stdout",
          "output_type": "stream",
          "text": [
            "LR: 1.0000e-04, Train Loss: 0.0849, Train Acc: 0.9750, Train Latency: 30.83s, Memory Usage: 19750.0KB\n",
            "Test Loss: 0.2950, Test Acc: 0.9113, Test Latency: 3.70s, Test Memory Usage: 194.0KB\n",
            "\n",
            "Epoch 179\n"
          ]
        },
        {
          "name": "stderr",
          "output_type": "stream",
          "text": [
            "Train: 100%|###############################| 391/391 [00:30<00:00, 12.63batch/s]\n"
          ]
        },
        {
          "name": "stdout",
          "output_type": "stream",
          "text": [
            "LR: 1.0000e-04, Train Loss: 0.0839, Train Acc: 0.9751, Train Latency: 30.95s, Memory Usage: 19750.0KB\n",
            "Test Loss: 0.2997, Test Acc: 0.9096, Test Latency: 3.70s, Test Memory Usage: 194.0KB\n",
            "\n",
            "Epoch 180\n"
          ]
        },
        {
          "name": "stderr",
          "output_type": "stream",
          "text": [
            "Train: 100%|###############################| 391/391 [00:29<00:00, 13.42batch/s]\n"
          ]
        },
        {
          "name": "stdout",
          "output_type": "stream",
          "text": [
            "LR: 1.0000e-04, Train Loss: 0.0823, Train Acc: 0.9761, Train Latency: 29.15s, Memory Usage: 19750.0KB\n",
            "Test Loss: 0.2937, Test Acc: 0.9100, Test Latency: 3.70s, Test Memory Usage: 194.0KB\n",
            "\n",
            "Epoch 181\n"
          ]
        },
        {
          "name": "stderr",
          "output_type": "stream",
          "text": [
            "Train: 100%|###############################| 391/391 [00:30<00:00, 12.62batch/s]\n"
          ]
        },
        {
          "name": "stdout",
          "output_type": "stream",
          "text": [
            "LR: 1.0000e-04, Train Loss: 0.0853, Train Acc: 0.9744, Train Latency: 30.99s, Memory Usage: 19750.0KB\n",
            "Test Loss: 0.2933, Test Acc: 0.9112, Test Latency: 3.69s, Test Memory Usage: 194.0KB\n",
            "\n",
            "Epoch 182\n"
          ]
        },
        {
          "name": "stderr",
          "output_type": "stream",
          "text": [
            "Train: 100%|###############################| 391/391 [00:25<00:00, 15.44batch/s]\n"
          ]
        },
        {
          "name": "stdout",
          "output_type": "stream",
          "text": [
            "LR: 1.0000e-04, Train Loss: 0.0839, Train Acc: 0.9750, Train Latency: 25.33s, Memory Usage: 19750.0KB\n",
            "Test Loss: 0.2955, Test Acc: 0.9080, Test Latency: 3.23s, Test Memory Usage: 194.0KB\n",
            "\n",
            "Epoch 183\n"
          ]
        },
        {
          "name": "stderr",
          "output_type": "stream",
          "text": [
            "Train: 100%|###############################| 391/391 [00:30<00:00, 12.76batch/s]\n"
          ]
        },
        {
          "name": "stdout",
          "output_type": "stream",
          "text": [
            "LR: 1.0000e-04, Train Loss: 0.0853, Train Acc: 0.9746, Train Latency: 30.65s, Memory Usage: 19750.0KB\n",
            "Test Loss: 0.2913, Test Acc: 0.9090, Test Latency: 3.71s, Test Memory Usage: 194.0KB\n",
            "\n",
            "Epoch 184\n"
          ]
        },
        {
          "name": "stderr",
          "output_type": "stream",
          "text": [
            "Train: 100%|###############################| 391/391 [00:31<00:00, 12.48batch/s]\n"
          ]
        },
        {
          "name": "stdout",
          "output_type": "stream",
          "text": [
            "LR: 1.0000e-04, Train Loss: 0.0835, Train Acc: 0.9756, Train Latency: 31.32s, Memory Usage: 19750.0KB\n",
            "Test Loss: 0.2945, Test Acc: 0.9089, Test Latency: 3.46s, Test Memory Usage: 194.0KB\n",
            "\n",
            "Epoch 185\n"
          ]
        },
        {
          "name": "stderr",
          "output_type": "stream",
          "text": [
            "Train: 100%|###############################| 391/391 [00:31<00:00, 12.60batch/s]\n"
          ]
        },
        {
          "name": "stdout",
          "output_type": "stream",
          "text": [
            "LR: 1.0000e-04, Train Loss: 0.0859, Train Acc: 0.9740, Train Latency: 31.04s, Memory Usage: 19750.0KB\n",
            "Test Loss: 0.3022, Test Acc: 0.9081, Test Latency: 3.70s, Test Memory Usage: 194.0KB\n",
            "\n",
            "Epoch 186\n"
          ]
        },
        {
          "name": "stderr",
          "output_type": "stream",
          "text": [
            "Train: 100%|###############################| 391/391 [00:25<00:00, 15.25batch/s]\n"
          ]
        },
        {
          "name": "stdout",
          "output_type": "stream",
          "text": [
            "LR: 1.0000e-04, Train Loss: 0.0855, Train Acc: 0.9740, Train Latency: 25.64s, Memory Usage: 19750.0KB\n",
            "Test Loss: 0.2894, Test Acc: 0.9124, Test Latency: 3.23s, Test Memory Usage: 194.0KB\n",
            "\n",
            "Epoch 187\n"
          ]
        },
        {
          "name": "stderr",
          "output_type": "stream",
          "text": [
            "Train: 100%|###############################| 391/391 [00:30<00:00, 12.75batch/s]\n"
          ]
        },
        {
          "name": "stdout",
          "output_type": "stream",
          "text": [
            "LR: 1.0000e-04, Train Loss: 0.0839, Train Acc: 0.9748, Train Latency: 30.68s, Memory Usage: 19750.0KB\n",
            "Test Loss: 0.3064, Test Acc: 0.9080, Test Latency: 3.68s, Test Memory Usage: 194.0KB\n",
            "\n",
            "Epoch 188\n"
          ]
        },
        {
          "name": "stderr",
          "output_type": "stream",
          "text": [
            "Train: 100%|###############################| 391/391 [00:25<00:00, 15.32batch/s]\n"
          ]
        },
        {
          "name": "stdout",
          "output_type": "stream",
          "text": [
            "LR: 1.0000e-04, Train Loss: 0.0829, Train Acc: 0.9750, Train Latency: 25.52s, Memory Usage: 19750.0KB\n",
            "Test Loss: 0.2858, Test Acc: 0.9128, Test Latency: 3.27s, Test Memory Usage: 194.0KB\n",
            "\n",
            "Epoch 189\n"
          ]
        },
        {
          "name": "stderr",
          "output_type": "stream",
          "text": [
            "Train: 100%|###############################| 391/391 [00:31<00:00, 12.52batch/s]\n"
          ]
        },
        {
          "name": "stdout",
          "output_type": "stream",
          "text": [
            "LR: 1.0000e-04, Train Loss: 0.0854, Train Acc: 0.9744, Train Latency: 31.23s, Memory Usage: 19750.0KB\n",
            "Test Loss: 0.2809, Test Acc: 0.9142, Test Latency: 3.69s, Test Memory Usage: 194.0KB\n",
            "\n",
            "Epoch 190\n"
          ]
        },
        {
          "name": "stderr",
          "output_type": "stream",
          "text": [
            "Train: 100%|###############################| 391/391 [00:30<00:00, 12.80batch/s]\n"
          ]
        },
        {
          "name": "stdout",
          "output_type": "stream",
          "text": [
            "LR: 1.0000e-04, Train Loss: 0.0847, Train Acc: 0.9742, Train Latency: 30.55s, Memory Usage: 19750.0KB\n",
            "Test Loss: 0.3025, Test Acc: 0.9079, Test Latency: 3.71s, Test Memory Usage: 194.0KB\n",
            "\n",
            "Epoch 191\n"
          ]
        },
        {
          "name": "stderr",
          "output_type": "stream",
          "text": [
            "Train: 100%|###############################| 391/391 [00:30<00:00, 12.61batch/s]\n"
          ]
        },
        {
          "name": "stdout",
          "output_type": "stream",
          "text": [
            "LR: 1.0000e-04, Train Loss: 0.0866, Train Acc: 0.9743, Train Latency: 31.00s, Memory Usage: 19750.0KB\n",
            "Test Loss: 0.2906, Test Acc: 0.9101, Test Latency: 3.71s, Test Memory Usage: 194.0KB\n",
            "\n",
            "Epoch 192\n"
          ]
        },
        {
          "name": "stderr",
          "output_type": "stream",
          "text": [
            "Train: 100%|###############################| 391/391 [00:30<00:00, 12.61batch/s]\n"
          ]
        },
        {
          "name": "stdout",
          "output_type": "stream",
          "text": [
            "LR: 1.0000e-04, Train Loss: 0.0867, Train Acc: 0.9746, Train Latency: 31.00s, Memory Usage: 19750.0KB\n",
            "Test Loss: 0.2878, Test Acc: 0.9113, Test Latency: 3.69s, Test Memory Usage: 194.0KB\n",
            "\n",
            "Epoch 193\n"
          ]
        },
        {
          "name": "stderr",
          "output_type": "stream",
          "text": [
            "Train: 100%|###############################| 391/391 [00:26<00:00, 14.57batch/s]\n"
          ]
        },
        {
          "name": "stdout",
          "output_type": "stream",
          "text": [
            "LR: 1.0000e-04, Train Loss: 0.0859, Train Acc: 0.9750, Train Latency: 26.84s, Memory Usage: 19750.0KB\n",
            "Test Loss: 0.2932, Test Acc: 0.9110, Test Latency: 3.71s, Test Memory Usage: 194.0KB\n",
            "\n",
            "Epoch 194\n"
          ]
        },
        {
          "name": "stderr",
          "output_type": "stream",
          "text": [
            "Train: 100%|###############################| 391/391 [00:31<00:00, 12.50batch/s]\n"
          ]
        },
        {
          "name": "stdout",
          "output_type": "stream",
          "text": [
            "LR: 1.0000e-04, Train Loss: 0.0861, Train Acc: 0.9740, Train Latency: 31.29s, Memory Usage: 19750.0KB\n",
            "Test Loss: 0.3005, Test Acc: 0.9106, Test Latency: 3.54s, Test Memory Usage: 194.0KB\n",
            "\n",
            "Epoch 195\n"
          ]
        },
        {
          "name": "stderr",
          "output_type": "stream",
          "text": [
            "Train: 100%|###############################| 391/391 [00:29<00:00, 13.05batch/s]\n"
          ]
        },
        {
          "name": "stdout",
          "output_type": "stream",
          "text": [
            "LR: 1.0000e-04, Train Loss: 0.0862, Train Acc: 0.9743, Train Latency: 29.96s, Memory Usage: 19750.0KB\n",
            "Test Loss: 0.2882, Test Acc: 0.9111, Test Latency: 3.69s, Test Memory Usage: 194.0KB\n",
            "\n",
            "Epoch 196\n"
          ]
        },
        {
          "name": "stderr",
          "output_type": "stream",
          "text": [
            "Train: 100%|###############################| 391/391 [00:25<00:00, 15.39batch/s]\n"
          ]
        },
        {
          "name": "stdout",
          "output_type": "stream",
          "text": [
            "LR: 1.0000e-04, Train Loss: 0.0872, Train Acc: 0.9735, Train Latency: 25.41s, Memory Usage: 19750.0KB\n",
            "Test Loss: 0.2972, Test Acc: 0.9109, Test Latency: 3.23s, Test Memory Usage: 194.0KB\n",
            "\n",
            "Epoch 197\n"
          ]
        },
        {
          "name": "stderr",
          "output_type": "stream",
          "text": [
            "Train: 100%|###############################| 391/391 [00:25<00:00, 15.59batch/s]\n"
          ]
        },
        {
          "name": "stdout",
          "output_type": "stream",
          "text": [
            "LR: 1.0000e-04, Train Loss: 0.0861, Train Acc: 0.9739, Train Latency: 25.09s, Memory Usage: 19750.0KB\n",
            "Test Loss: 0.2846, Test Acc: 0.9133, Test Latency: 3.23s, Test Memory Usage: 194.0KB\n",
            "\n",
            "Epoch 198\n"
          ]
        },
        {
          "name": "stderr",
          "output_type": "stream",
          "text": [
            "Train: 100%|###############################| 391/391 [00:31<00:00, 12.56batch/s]\n"
          ]
        },
        {
          "name": "stdout",
          "output_type": "stream",
          "text": [
            "LR: 1.0000e-04, Train Loss: 0.0849, Train Acc: 0.9754, Train Latency: 31.13s, Memory Usage: 19750.0KB\n",
            "Test Loss: 0.2944, Test Acc: 0.9097, Test Latency: 3.71s, Test Memory Usage: 194.0KB\n",
            "\n",
            "Epoch 199\n"
          ]
        },
        {
          "name": "stderr",
          "output_type": "stream",
          "text": [
            "Train: 100%|###############################| 391/391 [00:31<00:00, 12.55batch/s]\n"
          ]
        },
        {
          "name": "stdout",
          "output_type": "stream",
          "text": [
            "LR: 1.0000e-04, Train Loss: 0.0846, Train Acc: 0.9744, Train Latency: 31.15s, Memory Usage: 19750.0KB\n",
            "Test Loss: 0.2868, Test Acc: 0.9119, Test Latency: 3.71s, Test Memory Usage: 194.0KB\n",
            "\n",
            "Epoch 200\n"
          ]
        },
        {
          "name": "stderr",
          "output_type": "stream",
          "text": [
            "Train: 100%|###############################| 391/391 [00:31<00:00, 12.58batch/s]\n"
          ]
        },
        {
          "name": "stdout",
          "output_type": "stream",
          "text": [
            "LR: 1.0000e-04, Train Loss: 0.0839, Train Acc: 0.9754, Train Latency: 31.08s, Memory Usage: 19750.0KB\n",
            "Test Loss: 0.2845, Test Acc: 0.9122, Test Latency: 3.22s, Test Memory Usage: 194.0KB\n",
            "Saving final epoch model ...\n",
            "\n",
            "Quantization: weight=3 activation=None threshold=0.004, Using device: cuda\n",
            "\n",
            "Epoch 1\n"
          ]
        },
        {
          "name": "stderr",
          "output_type": "stream",
          "text": [
            "Train: 100%|###############################| 391/391 [00:28<00:00, 13.87batch/s]\n"
          ]
        },
        {
          "name": "stdout",
          "output_type": "stream",
          "text": [
            "LR: 1.0000e-01, Train Loss: 1.6774, Train Acc: 0.3759, Train Latency: 28.19s, Memory Usage: 3110.0KB\n",
            "Test Loss: 2.2591, Test Acc: 0.3172, Test Latency: 3.20s, Test Memory Usage: 194.0KB\n",
            "\n",
            "Epoch 2\n"
          ]
        },
        {
          "name": "stderr",
          "output_type": "stream",
          "text": [
            "Train: 100%|###############################| 391/391 [00:28<00:00, 13.89batch/s]\n"
          ]
        },
        {
          "name": "stdout",
          "output_type": "stream",
          "text": [
            "LR: 1.0000e-01, Train Loss: 1.2028, Train Acc: 0.5670, Train Latency: 28.14s, Memory Usage: 3110.0KB\n",
            "Test Loss: 1.8465, Test Acc: 0.4773, Test Latency: 3.20s, Test Memory Usage: 194.0KB\n",
            "\n",
            "Epoch 3\n"
          ]
        },
        {
          "name": "stderr",
          "output_type": "stream",
          "text": [
            "Train: 100%|###############################| 391/391 [00:28<00:00, 13.89batch/s]\n"
          ]
        },
        {
          "name": "stdout",
          "output_type": "stream",
          "text": [
            "LR: 1.0000e-01, Train Loss: 1.0385, Train Acc: 0.6300, Train Latency: 28.15s, Memory Usage: 3110.0KB\n",
            "Test Loss: 1.2615, Test Acc: 0.5589, Test Latency: 3.19s, Test Memory Usage: 194.0KB\n",
            "\n",
            "Epoch 4\n"
          ]
        },
        {
          "name": "stderr",
          "output_type": "stream",
          "text": [
            "Train: 100%|###############################| 391/391 [00:28<00:00, 13.79batch/s]\n"
          ]
        },
        {
          "name": "stdout",
          "output_type": "stream",
          "text": [
            "LR: 1.0000e-01, Train Loss: 0.9518, Train Acc: 0.6652, Train Latency: 28.35s, Memory Usage: 3110.0KB\n",
            "Test Loss: 1.0334, Test Acc: 0.6478, Test Latency: 3.20s, Test Memory Usage: 194.0KB\n",
            "\n",
            "Epoch 5\n"
          ]
        },
        {
          "name": "stderr",
          "output_type": "stream",
          "text": [
            "Train: 100%|###############################| 391/391 [00:30<00:00, 13.02batch/s]\n"
          ]
        },
        {
          "name": "stdout",
          "output_type": "stream",
          "text": [
            "LR: 1.0000e-01, Train Loss: 0.8807, Train Acc: 0.6908, Train Latency: 30.04s, Memory Usage: 3110.0KB\n",
            "Test Loss: 1.1126, Test Acc: 0.6301, Test Latency: 3.67s, Test Memory Usage: 194.0KB\n",
            "\n",
            "Epoch 6\n"
          ]
        },
        {
          "name": "stderr",
          "output_type": "stream",
          "text": [
            "Train: 100%|###############################| 391/391 [00:30<00:00, 12.75batch/s]\n"
          ]
        },
        {
          "name": "stdout",
          "output_type": "stream",
          "text": [
            "LR: 1.0000e-01, Train Loss: 0.8282, Train Acc: 0.7109, Train Latency: 30.67s, Memory Usage: 3110.0KB\n",
            "Test Loss: 1.5435, Test Acc: 0.5742, Test Latency: 3.68s, Test Memory Usage: 194.0KB\n",
            "\n",
            "Epoch 7\n"
          ]
        },
        {
          "name": "stderr",
          "output_type": "stream",
          "text": [
            "Train: 100%|###############################| 391/391 [00:31<00:00, 12.54batch/s]\n"
          ]
        },
        {
          "name": "stdout",
          "output_type": "stream",
          "text": [
            "LR: 1.0000e-01, Train Loss: 0.7912, Train Acc: 0.7265, Train Latency: 31.20s, Memory Usage: 3110.0KB\n",
            "Test Loss: 1.0077, Test Acc: 0.6593, Test Latency: 3.65s, Test Memory Usage: 194.0KB\n",
            "\n",
            "Epoch 8\n"
          ]
        },
        {
          "name": "stderr",
          "output_type": "stream",
          "text": [
            "Train: 100%|###############################| 391/391 [00:29<00:00, 13.17batch/s]\n"
          ]
        },
        {
          "name": "stdout",
          "output_type": "stream",
          "text": [
            "LR: 1.0000e-01, Train Loss: 0.7653, Train Acc: 0.7344, Train Latency: 29.70s, Memory Usage: 3110.0KB\n",
            "Test Loss: 1.1131, Test Acc: 0.6336, Test Latency: 3.20s, Test Memory Usage: 194.0KB\n",
            "\n",
            "Epoch 9\n"
          ]
        },
        {
          "name": "stderr",
          "output_type": "stream",
          "text": [
            "Train: 100%|###############################| 391/391 [00:30<00:00, 12.80batch/s]\n"
          ]
        },
        {
          "name": "stdout",
          "output_type": "stream",
          "text": [
            "LR: 1.0000e-01, Train Loss: 0.7490, Train Acc: 0.7419, Train Latency: 30.56s, Memory Usage: 3110.0KB\n",
            "Test Loss: 1.2371, Test Acc: 0.6055, Test Latency: 3.19s, Test Memory Usage: 194.0KB\n",
            "\n",
            "Epoch 10\n"
          ]
        },
        {
          "name": "stderr",
          "output_type": "stream",
          "text": [
            "Train: 100%|###############################| 391/391 [00:24<00:00, 16.04batch/s]\n"
          ]
        },
        {
          "name": "stdout",
          "output_type": "stream",
          "text": [
            "LR: 1.0000e-01, Train Loss: 0.7435, Train Acc: 0.7422, Train Latency: 24.39s, Memory Usage: 3110.0KB\n",
            "Test Loss: 2.4465, Test Acc: 0.4593, Test Latency: 3.19s, Test Memory Usage: 194.0KB\n",
            "\n",
            "Epoch 11\n"
          ]
        },
        {
          "name": "stderr",
          "output_type": "stream",
          "text": [
            "Train: 100%|###############################| 391/391 [00:25<00:00, 15.60batch/s]\n"
          ]
        },
        {
          "name": "stdout",
          "output_type": "stream",
          "text": [
            "LR: 1.0000e-01, Train Loss: 0.7274, Train Acc: 0.7500, Train Latency: 25.07s, Memory Usage: 3110.0KB\n",
            "Test Loss: 0.9567, Test Acc: 0.6723, Test Latency: 3.19s, Test Memory Usage: 194.0KB\n",
            "\n",
            "Epoch 12\n"
          ]
        },
        {
          "name": "stderr",
          "output_type": "stream",
          "text": [
            "Train: 100%|###############################| 391/391 [00:27<00:00, 14.15batch/s]\n"
          ]
        },
        {
          "name": "stdout",
          "output_type": "stream",
          "text": [
            "LR: 1.0000e-01, Train Loss: 0.7161, Train Acc: 0.7530, Train Latency: 27.64s, Memory Usage: 3110.0KB\n",
            "Test Loss: 0.9326, Test Acc: 0.6730, Test Latency: 3.21s, Test Memory Usage: 194.0KB\n",
            "\n",
            "Epoch 13\n"
          ]
        },
        {
          "name": "stderr",
          "output_type": "stream",
          "text": [
            "Train: 100%|###############################| 391/391 [00:28<00:00, 13.60batch/s]\n"
          ]
        },
        {
          "name": "stdout",
          "output_type": "stream",
          "text": [
            "LR: 1.0000e-01, Train Loss: 0.7084, Train Acc: 0.7579, Train Latency: 28.75s, Memory Usage: 3110.0KB\n",
            "Test Loss: 1.8395, Test Acc: 0.5373, Test Latency: 3.52s, Test Memory Usage: 194.0KB\n",
            "\n",
            "Epoch 14\n"
          ]
        },
        {
          "name": "stderr",
          "output_type": "stream",
          "text": [
            "Train: 100%|###############################| 391/391 [00:26<00:00, 14.85batch/s]\n"
          ]
        },
        {
          "name": "stdout",
          "output_type": "stream",
          "text": [
            "LR: 1.0000e-01, Train Loss: 0.7120, Train Acc: 0.7538, Train Latency: 26.34s, Memory Usage: 3110.0KB\n",
            "Test Loss: 1.2719, Test Acc: 0.6346, Test Latency: 3.66s, Test Memory Usage: 194.0KB\n",
            "\n",
            "Epoch 15\n"
          ]
        },
        {
          "name": "stderr",
          "output_type": "stream",
          "text": [
            "Train: 100%|###############################| 391/391 [00:31<00:00, 12.58batch/s]\n"
          ]
        },
        {
          "name": "stdout",
          "output_type": "stream",
          "text": [
            "LR: 1.0000e-01, Train Loss: 0.7017, Train Acc: 0.7581, Train Latency: 31.09s, Memory Usage: 3110.0KB\n",
            "Test Loss: 1.0918, Test Acc: 0.6358, Test Latency: 3.67s, Test Memory Usage: 194.0KB\n",
            "\n",
            "Epoch 16\n"
          ]
        },
        {
          "name": "stderr",
          "output_type": "stream",
          "text": [
            "Train: 100%|###############################| 391/391 [00:31<00:00, 12.52batch/s]\n"
          ]
        },
        {
          "name": "stdout",
          "output_type": "stream",
          "text": [
            "LR: 1.0000e-01, Train Loss: 0.6971, Train Acc: 0.7604, Train Latency: 31.23s, Memory Usage: 3110.0KB\n",
            "Test Loss: 0.8820, Test Acc: 0.7018, Test Latency: 3.66s, Test Memory Usage: 194.0KB\n",
            "\n",
            "Epoch 17\n"
          ]
        },
        {
          "name": "stderr",
          "output_type": "stream",
          "text": [
            "Train: 100%|###############################| 391/391 [00:26<00:00, 14.63batch/s]\n"
          ]
        },
        {
          "name": "stdout",
          "output_type": "stream",
          "text": [
            "LR: 1.0000e-01, Train Loss: 0.7019, Train Acc: 0.7615, Train Latency: 26.72s, Memory Usage: 3110.0KB\n",
            "Test Loss: 0.7555, Test Acc: 0.7417, Test Latency: 3.20s, Test Memory Usage: 194.0KB\n",
            "\n",
            "Epoch 18\n"
          ]
        },
        {
          "name": "stderr",
          "output_type": "stream",
          "text": [
            "Train: 100%|###############################| 391/391 [00:27<00:00, 14.11batch/s]\n"
          ]
        },
        {
          "name": "stdout",
          "output_type": "stream",
          "text": [
            "LR: 1.0000e-01, Train Loss: 0.6978, Train Acc: 0.7602, Train Latency: 27.71s, Memory Usage: 3110.0KB\n",
            "Test Loss: 1.1309, Test Acc: 0.6336, Test Latency: 3.21s, Test Memory Usage: 194.0KB\n",
            "\n",
            "Epoch 19\n"
          ]
        },
        {
          "name": "stderr",
          "output_type": "stream",
          "text": [
            "Train: 100%|###############################| 391/391 [00:26<00:00, 14.49batch/s]\n"
          ]
        },
        {
          "name": "stdout",
          "output_type": "stream",
          "text": [
            "LR: 1.0000e-01, Train Loss: 0.6886, Train Acc: 0.7634, Train Latency: 26.98s, Memory Usage: 3110.0KB\n",
            "Test Loss: 1.3843, Test Acc: 0.5695, Test Latency: 3.21s, Test Memory Usage: 194.0KB\n",
            "\n",
            "Epoch 20\n"
          ]
        },
        {
          "name": "stderr",
          "output_type": "stream",
          "text": [
            "Train: 100%|###############################| 391/391 [00:29<00:00, 13.47batch/s]\n"
          ]
        },
        {
          "name": "stdout",
          "output_type": "stream",
          "text": [
            "LR: 1.0000e-01, Train Loss: 0.6963, Train Acc: 0.7579, Train Latency: 29.03s, Memory Usage: 3110.0KB\n",
            "Test Loss: 0.8863, Test Acc: 0.6908, Test Latency: 3.66s, Test Memory Usage: 194.0KB\n",
            "\n",
            "Epoch 21\n"
          ]
        },
        {
          "name": "stderr",
          "output_type": "stream",
          "text": [
            "Train: 100%|###############################| 391/391 [00:29<00:00, 13.22batch/s]\n"
          ]
        },
        {
          "name": "stdout",
          "output_type": "stream",
          "text": [
            "LR: 1.0000e-01, Train Loss: 0.6763, Train Acc: 0.7683, Train Latency: 29.59s, Memory Usage: 3110.0KB\n",
            "Test Loss: 0.9188, Test Acc: 0.6877, Test Latency: 3.66s, Test Memory Usage: 194.0KB\n",
            "\n",
            "Epoch 22\n"
          ]
        },
        {
          "name": "stderr",
          "output_type": "stream",
          "text": [
            "Train: 100%|###############################| 391/391 [00:30<00:00, 12.64batch/s]\n"
          ]
        },
        {
          "name": "stdout",
          "output_type": "stream",
          "text": [
            "LR: 1.0000e-01, Train Loss: 0.6783, Train Acc: 0.7678, Train Latency: 30.93s, Memory Usage: 3110.0KB\n",
            "Test Loss: 1.0121, Test Acc: 0.6630, Test Latency: 3.66s, Test Memory Usage: 194.0KB\n",
            "\n",
            "Epoch 23\n"
          ]
        },
        {
          "name": "stderr",
          "output_type": "stream",
          "text": [
            "Train: 100%|###############################| 391/391 [00:30<00:00, 12.68batch/s]\n"
          ]
        },
        {
          "name": "stdout",
          "output_type": "stream",
          "text": [
            "LR: 1.0000e-01, Train Loss: 0.6731, Train Acc: 0.7684, Train Latency: 30.83s, Memory Usage: 3110.0KB\n",
            "Test Loss: 1.3168, Test Acc: 0.5895, Test Latency: 3.67s, Test Memory Usage: 194.0KB\n",
            "\n",
            "Epoch 24\n"
          ]
        },
        {
          "name": "stderr",
          "output_type": "stream",
          "text": [
            "Train: 100%|###############################| 391/391 [00:30<00:00, 12.64batch/s]\n"
          ]
        },
        {
          "name": "stdout",
          "output_type": "stream",
          "text": [
            "LR: 1.0000e-01, Train Loss: 0.6745, Train Acc: 0.7672, Train Latency: 30.93s, Memory Usage: 3110.0KB\n",
            "Test Loss: 0.9794, Test Acc: 0.6826, Test Latency: 3.51s, Test Memory Usage: 194.0KB\n",
            "\n",
            "Epoch 25\n"
          ]
        },
        {
          "name": "stderr",
          "output_type": "stream",
          "text": [
            "Train: 100%|###############################| 391/391 [00:29<00:00, 13.09batch/s]\n"
          ]
        },
        {
          "name": "stdout",
          "output_type": "stream",
          "text": [
            "LR: 1.0000e-01, Train Loss: 0.6792, Train Acc: 0.7666, Train Latency: 29.87s, Memory Usage: 3110.0KB\n",
            "Test Loss: 1.1293, Test Acc: 0.6456, Test Latency: 3.65s, Test Memory Usage: 194.0KB\n",
            "\n",
            "Epoch 26\n"
          ]
        },
        {
          "name": "stderr",
          "output_type": "stream",
          "text": [
            "Train: 100%|###############################| 391/391 [00:30<00:00, 12.70batch/s]\n"
          ]
        },
        {
          "name": "stdout",
          "output_type": "stream",
          "text": [
            "LR: 1.0000e-01, Train Loss: 0.6761, Train Acc: 0.7678, Train Latency: 30.78s, Memory Usage: 3110.0KB\n",
            "Test Loss: 0.8767, Test Acc: 0.7055, Test Latency: 3.54s, Test Memory Usage: 194.0KB\n",
            "\n",
            "Epoch 27\n"
          ]
        },
        {
          "name": "stderr",
          "output_type": "stream",
          "text": [
            "Train: 100%|###############################| 391/391 [00:28<00:00, 13.87batch/s]\n"
          ]
        },
        {
          "name": "stdout",
          "output_type": "stream",
          "text": [
            "LR: 1.0000e-01, Train Loss: 0.6691, Train Acc: 0.7694, Train Latency: 28.20s, Memory Usage: 3110.0KB\n",
            "Test Loss: 0.8206, Test Acc: 0.7307, Test Latency: 3.20s, Test Memory Usage: 194.0KB\n",
            "\n",
            "Epoch 28\n"
          ]
        },
        {
          "name": "stderr",
          "output_type": "stream",
          "text": [
            "Train: 100%|###############################| 391/391 [00:24<00:00, 15.83batch/s]\n"
          ]
        },
        {
          "name": "stdout",
          "output_type": "stream",
          "text": [
            "LR: 1.0000e-01, Train Loss: 0.6764, Train Acc: 0.7670, Train Latency: 24.71s, Memory Usage: 3110.0KB\n",
            "Test Loss: 1.3575, Test Acc: 0.5987, Test Latency: 3.20s, Test Memory Usage: 194.0KB\n",
            "\n",
            "Epoch 29\n"
          ]
        },
        {
          "name": "stderr",
          "output_type": "stream",
          "text": [
            "Train: 100%|###############################| 391/391 [00:30<00:00, 12.88batch/s]\n"
          ]
        },
        {
          "name": "stdout",
          "output_type": "stream",
          "text": [
            "LR: 1.0000e-01, Train Loss: 0.6749, Train Acc: 0.7699, Train Latency: 30.37s, Memory Usage: 3110.0KB\n",
            "Test Loss: 1.0340, Test Acc: 0.6776, Test Latency: 3.66s, Test Memory Usage: 194.0KB\n",
            "\n",
            "Epoch 30\n"
          ]
        },
        {
          "name": "stderr",
          "output_type": "stream",
          "text": [
            "Train: 100%|###############################| 391/391 [00:26<00:00, 14.68batch/s]\n"
          ]
        },
        {
          "name": "stdout",
          "output_type": "stream",
          "text": [
            "LR: 1.0000e-01, Train Loss: 0.6698, Train Acc: 0.7711, Train Latency: 26.64s, Memory Usage: 3110.0KB\n",
            "Test Loss: 0.9998, Test Acc: 0.6609, Test Latency: 3.21s, Test Memory Usage: 194.0KB\n",
            "\n",
            "Epoch 31\n"
          ]
        },
        {
          "name": "stderr",
          "output_type": "stream",
          "text": [
            "Train: 100%|###############################| 391/391 [00:26<00:00, 14.58batch/s]\n"
          ]
        },
        {
          "name": "stdout",
          "output_type": "stream",
          "text": [
            "LR: 1.0000e-01, Train Loss: 0.6719, Train Acc: 0.7670, Train Latency: 26.81s, Memory Usage: 3110.0KB\n",
            "Test Loss: 1.3063, Test Acc: 0.6014, Test Latency: 3.21s, Test Memory Usage: 194.0KB\n",
            "\n",
            "Epoch 32\n"
          ]
        },
        {
          "name": "stderr",
          "output_type": "stream",
          "text": [
            "Train: 100%|###############################| 391/391 [00:29<00:00, 13.42batch/s]\n"
          ]
        },
        {
          "name": "stdout",
          "output_type": "stream",
          "text": [
            "LR: 1.0000e-01, Train Loss: 0.6632, Train Acc: 0.7730, Train Latency: 29.14s, Memory Usage: 3110.0KB\n",
            "Test Loss: 0.8676, Test Acc: 0.7056, Test Latency: 3.65s, Test Memory Usage: 194.0KB\n",
            "\n",
            "Epoch 33\n"
          ]
        },
        {
          "name": "stderr",
          "output_type": "stream",
          "text": [
            "Train: 100%|###############################| 391/391 [00:31<00:00, 12.56batch/s]\n"
          ]
        },
        {
          "name": "stdout",
          "output_type": "stream",
          "text": [
            "LR: 1.0000e-01, Train Loss: 0.6677, Train Acc: 0.7717, Train Latency: 31.13s, Memory Usage: 3110.0KB\n",
            "Test Loss: 1.0526, Test Acc: 0.6685, Test Latency: 3.65s, Test Memory Usage: 194.0KB\n",
            "\n",
            "Epoch 34\n"
          ]
        },
        {
          "name": "stderr",
          "output_type": "stream",
          "text": [
            "Train: 100%|###############################| 391/391 [00:25<00:00, 15.54batch/s]\n"
          ]
        },
        {
          "name": "stdout",
          "output_type": "stream",
          "text": [
            "LR: 1.0000e-01, Train Loss: 0.6675, Train Acc: 0.7713, Train Latency: 25.17s, Memory Usage: 3110.0KB\n",
            "Test Loss: 1.7692, Test Acc: 0.4954, Test Latency: 3.21s, Test Memory Usage: 194.0KB\n",
            "\n",
            "Epoch 35\n"
          ]
        },
        {
          "name": "stderr",
          "output_type": "stream",
          "text": [
            "Train: 100%|###############################| 391/391 [00:30<00:00, 12.82batch/s]\n"
          ]
        },
        {
          "name": "stdout",
          "output_type": "stream",
          "text": [
            "LR: 1.0000e-01, Train Loss: 0.6607, Train Acc: 0.7744, Train Latency: 30.50s, Memory Usage: 3110.0KB\n",
            "Test Loss: 2.1663, Test Acc: 0.4886, Test Latency: 3.21s, Test Memory Usage: 194.0KB\n",
            "\n",
            "Epoch 36\n"
          ]
        },
        {
          "name": "stderr",
          "output_type": "stream",
          "text": [
            "Train: 100%|###############################| 391/391 [00:26<00:00, 14.50batch/s]\n"
          ]
        },
        {
          "name": "stdout",
          "output_type": "stream",
          "text": [
            "LR: 1.0000e-01, Train Loss: 0.6683, Train Acc: 0.7697, Train Latency: 26.97s, Memory Usage: 3110.0KB\n",
            "Test Loss: 1.2408, Test Acc: 0.6373, Test Latency: 3.27s, Test Memory Usage: 194.0KB\n",
            "\n",
            "Epoch 37\n"
          ]
        },
        {
          "name": "stderr",
          "output_type": "stream",
          "text": [
            "Train: 100%|###############################| 391/391 [00:28<00:00, 13.81batch/s]\n"
          ]
        },
        {
          "name": "stdout",
          "output_type": "stream",
          "text": [
            "LR: 1.0000e-01, Train Loss: 0.6584, Train Acc: 0.7735, Train Latency: 28.32s, Memory Usage: 3110.0KB\n",
            "Test Loss: 1.0385, Test Acc: 0.6647, Test Latency: 3.19s, Test Memory Usage: 194.0KB\n",
            "\n",
            "Epoch 38\n"
          ]
        },
        {
          "name": "stderr",
          "output_type": "stream",
          "text": [
            "Train: 100%|###############################| 391/391 [00:28<00:00, 13.89batch/s]\n"
          ]
        },
        {
          "name": "stdout",
          "output_type": "stream",
          "text": [
            "LR: 1.0000e-01, Train Loss: 0.6616, Train Acc: 0.7738, Train Latency: 28.15s, Memory Usage: 3110.0KB\n",
            "Test Loss: 0.9871, Test Acc: 0.6662, Test Latency: 3.20s, Test Memory Usage: 194.0KB\n",
            "\n",
            "Epoch 39\n"
          ]
        },
        {
          "name": "stderr",
          "output_type": "stream",
          "text": [
            "Train: 100%|###############################| 391/391 [00:28<00:00, 13.86batch/s]\n"
          ]
        },
        {
          "name": "stdout",
          "output_type": "stream",
          "text": [
            "LR: 1.0000e-01, Train Loss: 0.6641, Train Acc: 0.7729, Train Latency: 28.21s, Memory Usage: 3110.0KB\n",
            "Test Loss: 0.8055, Test Acc: 0.7291, Test Latency: 3.20s, Test Memory Usage: 194.0KB\n",
            "\n",
            "Epoch 40\n"
          ]
        },
        {
          "name": "stderr",
          "output_type": "stream",
          "text": [
            "Train: 100%|###############################| 391/391 [00:31<00:00, 12.61batch/s]\n"
          ]
        },
        {
          "name": "stdout",
          "output_type": "stream",
          "text": [
            "LR: 1.0000e-01, Train Loss: 0.6588, Train Acc: 0.7740, Train Latency: 31.01s, Memory Usage: 3110.0KB\n",
            "Test Loss: 1.1672, Test Acc: 0.6204, Test Latency: 3.66s, Test Memory Usage: 194.0KB\n",
            "\n",
            "Epoch 41\n"
          ]
        },
        {
          "name": "stderr",
          "output_type": "stream",
          "text": [
            "Train: 100%|###############################| 391/391 [00:30<00:00, 12.95batch/s]\n"
          ]
        },
        {
          "name": "stdout",
          "output_type": "stream",
          "text": [
            "LR: 1.0000e-01, Train Loss: 0.6590, Train Acc: 0.7737, Train Latency: 30.20s, Memory Usage: 3110.0KB\n",
            "Test Loss: 0.8781, Test Acc: 0.7031, Test Latency: 3.54s, Test Memory Usage: 194.0KB\n",
            "\n",
            "Epoch 42\n"
          ]
        },
        {
          "name": "stderr",
          "output_type": "stream",
          "text": [
            "Train: 100%|###############################| 391/391 [00:27<00:00, 14.06batch/s]\n"
          ]
        },
        {
          "name": "stdout",
          "output_type": "stream",
          "text": [
            "LR: 1.0000e-01, Train Loss: 0.6628, Train Acc: 0.7717, Train Latency: 27.81s, Memory Usage: 3110.0KB\n",
            "Test Loss: 1.1768, Test Acc: 0.6332, Test Latency: 3.20s, Test Memory Usage: 194.0KB\n",
            "\n",
            "Epoch 43\n"
          ]
        },
        {
          "name": "stderr",
          "output_type": "stream",
          "text": [
            "Train:  68%|####################9          | 264/391 [00:19<00:10, 12.58batch/s]"
          ]
        },
        {
          "ename": "",
          "evalue": "",
          "output_type": "error",
          "traceback": [
            "\u001b[1;31mFailed to connect to the remote Jupyter Server 'http://compsci-cluster-fitz-06:8888/'. Verify the server is running and reachable."
          ]
        }
      ],
      "source": [
        "for w_nbits in [3, 2, 1]:\n",
        "    for lambda_val in [0.001, 0.004]:\n",
        "        train(w_nbits=w_nbits, a_nbits=None, lambda_val=lambda_val)"
      ]
    }
  ],
  "metadata": {
    "accelerator": "GPU",
    "colab": {
      "gpuType": "L4",
      "machine_shape": "hm",
      "provenance": []
    },
    "kernelspec": {
      "display_name": "Python (torch",
      "language": "python",
      "name": "torch"
    }
  },
  "nbformat": 4,
  "nbformat_minor": 0
}
