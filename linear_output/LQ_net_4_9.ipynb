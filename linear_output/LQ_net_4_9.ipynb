{
  "cells": [
    {
      "cell_type": "markdown",
      "metadata": {
        "id": "X2EExKUgHJ7h"
      },
      "source": [
        "# 1. **Preparing Process**\n",
        "\n",
        "---"
      ]
    },
    {
      "cell_type": "code",
      "execution_count": 4,
      "metadata": {
        "id": "Eub8GVLkNx8S"
      },
      "outputs": [],
      "source": [
        "import random\n",
        "from tqdm import tqdm\n",
        "import numpy as np\n",
        "import torch\n",
        "import torch.nn as nn\n",
        "import torch.optim as optim\n",
        "import torch.optim.lr_scheduler as lr_scheduler\n",
        "from torch.utils.data import Dataset, DataLoader\n",
        "import torchvision.datasets as datasets\n",
        "import torchvision.transforms as transforms\n",
        "from resnet import ResNet\n",
        "from resnet_liq import ResNet as ResNetLiQ\n",
        "from time import time\n",
        "from contextlib import contextmanager\n",
        "import os\n",
        "from torch.cuda import max_memory_allocated\n",
        "\n",
        "random.seed(42)\n",
        "np.random.seed(42)\n",
        "torch.manual_seed(42)\n",
        "\n",
        "DEVICE = torch.device('cuda' if torch.cuda.is_available() else 'cpu')\n",
        "torch.backends.cudnn.benchmark = True"
      ]
    },
    {
      "cell_type": "code",
      "execution_count": 5,
      "metadata": {
        "colab": {
          "base_uri": "https://localhost:8080/"
        },
        "id": "kMuoreT6OEl4",
        "outputId": "9073f942-2c11-4be8-ad86-d8aa673cc67a"
      },
      "outputs": [
        {
          "output_type": "stream",
          "name": "stdout",
          "text": [
            "Downloading https://www.cs.toronto.edu/~kriz/cifar-10-python.tar.gz to ./data/cifar-10-python.tar.gz\n"
          ]
        },
        {
          "output_type": "stream",
          "name": "stderr",
          "text": [
            "100%|██████████| 170498071/170498071 [00:04<00:00, 41635369.70it/s]\n"
          ]
        },
        {
          "output_type": "stream",
          "name": "stdout",
          "text": [
            "Extracting ./data/cifar-10-python.tar.gz to ./data\n",
            "Files already downloaded and verified\n"
          ]
        }
      ],
      "source": [
        "@contextmanager\n",
        "def print_and_log(log_filename):\n",
        "    log_file = open(log_filename, 'w')\n",
        "    def log(message):\n",
        "        print(message)\n",
        "        log_file.write(message + '\\n')\n",
        "        log_file.flush()\n",
        "    yield log\n",
        "    log_file.close()\n",
        "\n",
        "class ApplyTransform(Dataset):\n",
        "    def __init__(self, dataset, transform):\n",
        "        self.dataset = dataset\n",
        "        self.transform = transform\n",
        "\n",
        "    def __getitem__(self, idx):\n",
        "        x, y = self.dataset[idx]\n",
        "        return self.transform(x), y\n",
        "\n",
        "    def __len__(self):\n",
        "        return len(self.dataset)\n",
        "\n",
        "# normalize = transforms.Normalize((0.4914, 0.4822, 0.4465), (0.2023, 0.1994, 0.2010))\n",
        "normalize = transforms.Normalize((0.485, 0.456, 0.406), (0.229, 0.224, 0.225))\n",
        "\n",
        "TRANSFORM_TRAIN = transforms.Compose([\n",
        "    transforms.RandomHorizontalFlip(),\n",
        "    transforms.RandomCrop(32, padding=4),\n",
        "    transforms.ToTensor(),\n",
        "    normalize,\n",
        "])\n",
        "TRANSFORM_TEST = transforms.Compose([\n",
        "    transforms.ToTensor(),\n",
        "    normalize,\n",
        "])\n",
        "\n",
        "TRAIN_SET = datasets.CIFAR10(root='./data', train=True, download=True, transform=TRANSFORM_TRAIN)\n",
        "TEST_SET = datasets.CIFAR10(root='./data', train=False, download=True, transform=TRANSFORM_TEST)"
      ]
    },
    {
      "cell_type": "code",
      "execution_count": 6,
      "metadata": {
        "id": "dHQMYhRYOH5T"
      },
      "outputs": [],
      "source": [
        "def test(model: nn.Module, loader: DataLoader):\n",
        "    criterion = nn.CrossEntropyLoss()\n",
        "    test_loss = 0\n",
        "    test_correct = 0\n",
        "    test_total = 0\n",
        "    start_time = time()\n",
        "    torch.cuda.reset_max_memory_allocated(DEVICE)\n",
        "\n",
        "    with torch.no_grad():\n",
        "        for inputs, targets in loader:\n",
        "            inputs, targets = inputs.to(DEVICE), targets.to(DEVICE)\n",
        "            outputs = model(inputs)\n",
        "            loss = criterion(outputs, targets)\n",
        "\n",
        "            test_loss += loss.item()\n",
        "            test_correct += (outputs.argmax(1) == targets).sum().item()\n",
        "            test_total += targets.size(0)\n",
        "\n",
        "    latency = time() - start_time\n",
        "    max_memory_usage = max_memory_allocated(DEVICE) / (1024 ** 2)\n",
        "\n",
        "    test_loss /= len(loader)\n",
        "    test_acc = test_correct / test_total\n",
        "    return test_loss, test_acc, latency, max_memory_usage"
      ]
    },
    {
      "cell_type": "code",
      "execution_count": 7,
      "metadata": {
        "id": "F2c-JRNRJrr8"
      },
      "outputs": [],
      "source": [
        "def train(w_nbits, a_nbits, linear=False, lr=0.1, weight_decay=1e-3,\n",
        "          optimizer_type='sgd', epochs=200, batch_size=128):\n",
        "\n",
        "    torch.cuda.reset_max_memory_allocated(DEVICE)\n",
        "\n",
        "    if linear:\n",
        "        model = ResNetLiQ(w_nbits=w_nbits, a_nbits=a_nbits).to(DEVICE)\n",
        "    else:\n",
        "        model = ResNet(w_nbits=w_nbits, a_nbits=a_nbits).to(DEVICE)\n",
        "\n",
        "    ckpt_base_filename = (\n",
        "        'resnet20_cifar'\n",
        "        + ('_linear' if linear else '')\n",
        "        + ('' if w_nbits is None else f'_wq{w_nbits}')\n",
        "        + ('' if a_nbits is None else f'_aq{a_nbits}')\n",
        "        + '.pt'\n",
        "    )\n",
        "    log_filename = ckpt_base_filename.replace('.pt', '.txt')\n",
        "    last_saved_filename = None\n",
        "\n",
        "    train_loader = DataLoader(TRAIN_SET, batch_size=batch_size, shuffle=True)\n",
        "    test_loader = DataLoader(TEST_SET, batch_size=batch_size, shuffle=False)\n",
        "\n",
        "    criterion = nn.CrossEntropyLoss()\n",
        "\n",
        "    if optimizer_type.lower() == 'sgd':\n",
        "        optimizer = optim.SGD(model.parameters(), lr=lr, momentum=0.9, weight_decay=weight_decay)\n",
        "    elif optimizer_type.lower() == 'adam':\n",
        "        optimizer = optim.Adam(model.parameters(), lr=lr)\n",
        "    elif optimizer_type.lower() == 'rmsprop':\n",
        "        optimizer = optim.RMSprop(model.parameters(), lr=lr, weight_decay=weight_decay)\n",
        "    elif optimizer_type.lower() == 'adagrad':\n",
        "        optimizer = optim.Adagrad(model.parameters(), lr=lr, weight_decay=weight_decay)\n",
        "    else:\n",
        "        raise ValueError(f\"Unsupported optimizer type: {optimizer_type}\")\n",
        "\n",
        "    scheduler = lr_scheduler.MultiStepLR(optimizer, milestones=[50, 100, 150], gamma=0.1)\n",
        "\n",
        "    best_test_acc = 0.0\n",
        "    save_threshold_epoch = min(50, epochs // 3)\n",
        "\n",
        "\n",
        "    with print_and_log(log_filename) as log:\n",
        "        log(f'\\nQuantization: weight={w_nbits} activation={a_nbits} linear={linear}, Using device: {DEVICE}')\n",
        "\n",
        "        for epoch in range(epochs):\n",
        "            log(f'\\nEpoch {epoch+1}')\n",
        "            model.train()\n",
        "\n",
        "            train_loss = 0\n",
        "            train_correct = 0\n",
        "            train_total = 0\n",
        "\n",
        "            start_time = time()\n",
        "\n",
        "            for inputs, targets in tqdm(train_loader, desc='Train', unit='batch', ascii=True, dynamic_ncols=True):\n",
        "                inputs, targets = inputs.to(DEVICE), targets.to(DEVICE)\n",
        "                optimizer.zero_grad()\n",
        "                outputs = model(inputs)\n",
        "                loss = criterion(outputs, targets)\n",
        "                loss.backward()\n",
        "                optimizer.step()\n",
        "\n",
        "                train_loss += loss.item()\n",
        "                train_correct += (outputs.argmax(1) == targets).sum().item()\n",
        "                train_total += targets.size(0)\n",
        "\n",
        "            train_loss /= len(train_loader)\n",
        "            train_acc = train_correct / train_total\n",
        "\n",
        "            train_latency = time() - start_time\n",
        "            max_memory_usage_during_training = max_memory_allocated(DEVICE) / (1024 ** 2)\n",
        "\n",
        "            log(f'LR: {optimizer.param_groups[0][\"lr\"]:.4e}, Train Loss: {train_loss:.4f}, Train Acc: {train_acc:.4f}, Train Latency: {train_latency:.2f}s, Memory Usage: {max_memory_usage_during_training:.2f}MB')\n",
        "\n",
        "            model.eval()\n",
        "            test_loss, test_acc, test_latency, test_memory_usage = test(model, test_loader)\n",
        "            log(f'Test Loss: {test_loss:.4f}, Test Acc: {test_acc:.4f}, Test Latency: {test_latency:.2f}s, Test Memory Usage: {test_memory_usage:.2f}MB')\n",
        "\n",
        "            scheduler.step()\n",
        "\n",
        "            if epoch >= save_threshold_epoch:\n",
        "                if test_acc > best_test_acc:\n",
        "                    best_test_acc = test_acc\n",
        "                    print('Saving best model ...')\n",
        "                    if last_saved_filename is not None and last_saved_filename != ckpt_base_filename:\n",
        "                        os.remove(last_saved_filename)\n",
        "                    ckpt_filename = f'epoch_{epoch+1}_' + ckpt_base_filename\n",
        "                    torch.save(model.state_dict(), ckpt_filename)\n",
        "                    last_saved_filename = ckpt_filename\n",
        "\n",
        "    print('Saving final epoch model ...')\n",
        "    torch.save(model.state_dict(), ckpt_base_filename)\n",
        "    return ckpt_base_filename"
      ]
    },
    {
      "cell_type": "code",
      "execution_count": 8,
      "metadata": {
        "id": "Zx4qhgF0po48"
      },
      "outputs": [],
      "source": [
        "from lq_layers import LQConv, LQActiv\n",
        "from liq_layers import LiQConv, LiQActiv\n",
        "import numpy as np\n",
        "import matplotlib.pyplot as plt\n",
        "import re\n",
        "import os\n",
        "\n",
        "\n",
        "def parse_quantization_bits_from_filename(filename):\n",
        "    match_w = re.search(r'_wq(\\d+)', filename)\n",
        "    match_a = re.search(r'_aq(\\d+)', filename)\n",
        "\n",
        "    w_nbits = int(match_w.group(1)) if match_w else None\n",
        "    a_nbits = int(match_a.group(1)) if match_a else None\n",
        "    base_filename = os.path.splitext(os.path.basename(filename))[0]\n",
        "\n",
        "    contains_linear = 'linear' in base_filename\n",
        "\n",
        "    print('weight bits:', w_nbits, 'activation bits:', a_nbits, 'is linear:', contains_linear, 'base filename:', base_filename)\n",
        "\n",
        "    return w_nbits, a_nbits, contains_linear, base_filename\n",
        "\n",
        "def load_model(model_path, num_layers, num_classes, w_nbits, a_nbits, device):\n",
        "    model = ResNet(w_nbits=w_nbits, a_nbits=a_nbits)\n",
        "    model.to(device)\n",
        "\n",
        "    model.load_state_dict(torch.load(model_path, map_location=device))\n",
        "    model.eval()\n",
        "\n",
        "    return model\n",
        "\n",
        "def collect_activations_and_quantized_weights(model, dataloader, device,linear = False):\n",
        "    activations = {}\n",
        "    quantized_weights = {}\n",
        "\n",
        "    def get_quantized_weight(name, layer):\n",
        "        def hook(model, input, output):\n",
        "            q_weight = layer.lq.apply(layer.conv.weight, layer.basis, False)[0]\n",
        "            quantized_weights[name] = q_weight.detach().cpu().numpy()\n",
        "        return hook\n",
        "\n",
        "    def get_activation(name, layer):\n",
        "      def hook(model, input, output):\n",
        "          activations[name] = output.detach().cpu().numpy()\n",
        "      return hook\n",
        "\n",
        "    for name, layer in model.named_modules():\n",
        "        if linear:\n",
        "            if isinstance(layer, LiQConv):\n",
        "                layer.register_forward_hook(get_quantized_weight(name, layer))\n",
        "            if isinstance(layer, LiQActiv):\n",
        "                layer.register_forward_hook(get_activation(name, layer))\n",
        "        else:\n",
        "            if isinstance(layer, LQConv):\n",
        "                layer.register_forward_hook(get_quantized_weight(name, layer))\n",
        "            if isinstance(layer, LQActiv):\n",
        "                layer.register_forward_hook(get_activation(name, layer))\n",
        "\n",
        "    with torch.no_grad():\n",
        "        for inputs, _ in dataloader:\n",
        "            inputs = inputs.to(device)\n",
        "            _ = model(inputs)\n",
        "\n",
        "    return activations, quantized_weights\n",
        "\n",
        "def plot_distributions_side_by_side(activations, quantized_weights, base_filename):\n",
        "    sorted_weight_keys = sorted(quantized_weights.keys())\n",
        "    sorted_activation_keys = sorted(activations.keys())\n",
        "\n",
        "    num_layers = max(len(sorted_weight_keys), len(sorted_activation_keys))\n",
        "    fig, axes = plt.subplots(num_layers, 2, figsize=(12, 6 * num_layers))\n",
        "\n",
        "    output_directory = f\"./output/{base_filename}\"\n",
        "    if not os.path.exists(output_directory):\n",
        "        os.makedirs(output_directory)\n",
        "\n",
        "    for i, (weight_key, activation_key) in enumerate(zip(sorted_weight_keys, sorted_activation_keys)):\n",
        "        ax_w = axes[i][0] if num_layers > 1 else axes[0]\n",
        "        ax_a = axes[i][1] if num_layers > 1 else axes[1]\n",
        "        ax_w.hist(quantized_weights[weight_key].ravel(), bins=50, alpha=0.75)\n",
        "        ax_w.set_title(f'Quantized Weight Distribution: {weight_key}')\n",
        "        ax_w.set_xlabel('Weight Values')\n",
        "        ax_w.set_ylabel('Frequency')\n",
        "\n",
        "        ax_a.hist(activations[activation_key].ravel(), bins=50, alpha=0.75)\n",
        "        ax_a.set_title(f'Activation Distribution: {activation_key}')\n",
        "        ax_a.set_xlabel('Activation Values')\n",
        "        ax_a.set_ylabel('Frequency')\n",
        "\n",
        "        plot_filename = f\"{output_directory}/{base_filename}_{weight_key}_and_{activation_key}.png\"\n",
        "        plt.savefig(plot_filename)\n",
        "        print(f\"Saved plot as {plot_filename}\")\n",
        "\n",
        "    plt.close(fig)\n",
        "\n",
        "def analyze_model(model_filename, device='cuda'):\n",
        "    w_nbits, a_nbits, linear, base_filename = parse_quantization_bits_from_filename(model_filename)\n",
        "    num_layers = 20\n",
        "    num_classes = 10\n",
        "\n",
        "    model = load_model(model_filename, num_layers, num_classes, w_nbits, a_nbits, device)\n",
        "    test_loader = DataLoader(TEST_SET, batch_size=64, shuffle=False)\n",
        "\n",
        "    activations, weights = collect_activations_and_quantized_weights(model, test_loader, device, linear=linear)\n",
        "    plot_distributions_side_by_side(activations, weights, base_filename)\n"
      ]
    },
    {
      "cell_type": "markdown",
      "metadata": {
        "id": "9j4Ew55YHDq5"
      },
      "source": [
        "# 2. **Base Model**\n",
        "\n",
        "---\n"
      ]
    },
    {
      "cell_type": "code",
      "execution_count": 9,
      "metadata": {
        "colab": {
          "base_uri": "https://localhost:8080/"
        },
        "id": "ds66aqMkumry",
        "outputId": "1e23d519-01ae-422f-d03d-0a8108d11714"
      },
      "outputs": [
        {
          "output_type": "stream",
          "name": "stderr",
          "text": [
            "/usr/local/lib/python3.10/dist-packages/torch/cuda/memory.py:330: FutureWarning: torch.cuda.reset_max_memory_allocated now calls torch.cuda.reset_peak_memory_stats, which resets /all/ peak memory stats.\n",
            "  warnings.warn(\n"
          ]
        },
        {
          "output_type": "stream",
          "name": "stdout",
          "text": [
            "\n",
            "Quantization: weight=None activation=None linear=True, Using device: cuda\n",
            "\n",
            "Epoch 1\n"
          ]
        },
        {
          "output_type": "stream",
          "name": "stderr",
          "text": [
            "Train: 100%|##########| 391/391 [00:27<00:00, 14.36batch/s]\n"
          ]
        },
        {
          "output_type": "stream",
          "name": "stdout",
          "text": [
            "LR: 1.0000e-01, Train Loss: 1.6845, Train Acc: 0.3783, Train Latency: 27.23s, Memory Usage: 291.35MB\n",
            "Test Loss: 1.6865, Test Acc: 0.4535, Test Latency: 2.74s, Test Memory Usage: 61.86MB\n",
            "\n",
            "Epoch 2\n"
          ]
        },
        {
          "output_type": "stream",
          "name": "stderr",
          "text": [
            "Train: 100%|##########| 391/391 [00:24<00:00, 15.94batch/s]\n"
          ]
        },
        {
          "output_type": "stream",
          "name": "stdout",
          "text": [
            "LR: 1.0000e-01, Train Loss: 1.1543, Train Acc: 0.5850, Train Latency: 24.54s, Memory Usage: 212.38MB\n",
            "Test Loss: 1.9302, Test Acc: 0.4205, Test Latency: 2.68s, Test Memory Usage: 61.86MB\n",
            "\n",
            "Epoch 3\n"
          ]
        },
        {
          "output_type": "stream",
          "name": "stderr",
          "text": [
            "Train: 100%|##########| 391/391 [00:24<00:00, 15.94batch/s]\n"
          ]
        },
        {
          "output_type": "stream",
          "name": "stdout",
          "text": [
            "LR: 1.0000e-01, Train Loss: 0.9407, Train Acc: 0.6644, Train Latency: 24.54s, Memory Usage: 212.38MB\n",
            "Test Loss: 1.3217, Test Acc: 0.6045, Test Latency: 2.69s, Test Memory Usage: 61.86MB\n",
            "\n",
            "Epoch 4\n"
          ]
        },
        {
          "output_type": "stream",
          "name": "stderr",
          "text": [
            "Train: 100%|##########| 391/391 [00:24<00:00, 15.76batch/s]\n"
          ]
        },
        {
          "output_type": "stream",
          "name": "stdout",
          "text": [
            "LR: 1.0000e-01, Train Loss: 0.8182, Train Acc: 0.7159, Train Latency: 24.81s, Memory Usage: 212.38MB\n",
            "Test Loss: 2.2043, Test Acc: 0.4406, Test Latency: 2.69s, Test Memory Usage: 61.86MB\n",
            "\n",
            "Epoch 5\n"
          ]
        },
        {
          "output_type": "stream",
          "name": "stderr",
          "text": [
            "Train: 100%|##########| 391/391 [00:24<00:00, 15.78batch/s]\n"
          ]
        },
        {
          "output_type": "stream",
          "name": "stdout",
          "text": [
            "LR: 1.0000e-01, Train Loss: 0.7605, Train Acc: 0.7357, Train Latency: 24.78s, Memory Usage: 212.38MB\n",
            "Test Loss: 2.1662, Test Acc: 0.4969, Test Latency: 2.69s, Test Memory Usage: 61.86MB\n",
            "\n",
            "Epoch 6\n"
          ]
        },
        {
          "output_type": "stream",
          "name": "stderr",
          "text": [
            "Train: 100%|##########| 391/391 [00:24<00:00, 15.89batch/s]\n"
          ]
        },
        {
          "output_type": "stream",
          "name": "stdout",
          "text": [
            "LR: 1.0000e-01, Train Loss: 0.7193, Train Acc: 0.7538, Train Latency: 24.62s, Memory Usage: 212.38MB\n",
            "Test Loss: 1.0271, Test Acc: 0.6570, Test Latency: 2.66s, Test Memory Usage: 61.86MB\n",
            "\n",
            "Epoch 7\n"
          ]
        },
        {
          "output_type": "stream",
          "name": "stderr",
          "text": [
            "Train: 100%|##########| 391/391 [00:24<00:00, 15.77batch/s]\n"
          ]
        },
        {
          "output_type": "stream",
          "name": "stdout",
          "text": [
            "LR: 1.0000e-01, Train Loss: 0.6933, Train Acc: 0.7613, Train Latency: 24.80s, Memory Usage: 212.38MB\n",
            "Test Loss: 0.7966, Test Acc: 0.7225, Test Latency: 2.80s, Test Memory Usage: 61.86MB\n",
            "\n",
            "Epoch 8\n"
          ]
        },
        {
          "output_type": "stream",
          "name": "stderr",
          "text": [
            "Train: 100%|##########| 391/391 [00:24<00:00, 15.65batch/s]\n"
          ]
        },
        {
          "output_type": "stream",
          "name": "stdout",
          "text": [
            "LR: 1.0000e-01, Train Loss: 0.6775, Train Acc: 0.7678, Train Latency: 24.99s, Memory Usage: 212.38MB\n",
            "Test Loss: 1.1411, Test Acc: 0.6330, Test Latency: 2.71s, Test Memory Usage: 61.86MB\n",
            "\n",
            "Epoch 9\n"
          ]
        },
        {
          "output_type": "stream",
          "name": "stderr",
          "text": [
            "Train: 100%|##########| 391/391 [00:24<00:00, 15.77batch/s]\n"
          ]
        },
        {
          "output_type": "stream",
          "name": "stdout",
          "text": [
            "LR: 1.0000e-01, Train Loss: 0.6626, Train Acc: 0.7724, Train Latency: 24.80s, Memory Usage: 212.38MB\n",
            "Test Loss: 1.0914, Test Acc: 0.6571, Test Latency: 2.72s, Test Memory Usage: 61.86MB\n",
            "\n",
            "Epoch 10\n"
          ]
        },
        {
          "output_type": "stream",
          "name": "stderr",
          "text": [
            "Train: 100%|##########| 391/391 [00:24<00:00, 15.74batch/s]\n"
          ]
        },
        {
          "output_type": "stream",
          "name": "stdout",
          "text": [
            "LR: 1.0000e-01, Train Loss: 0.6545, Train Acc: 0.7759, Train Latency: 24.85s, Memory Usage: 212.38MB\n",
            "Test Loss: 0.8209, Test Acc: 0.7351, Test Latency: 2.72s, Test Memory Usage: 77.86MB\n",
            "\n",
            "Epoch 11\n"
          ]
        },
        {
          "output_type": "stream",
          "name": "stderr",
          "text": [
            "Train: 100%|##########| 391/391 [00:24<00:00, 15.76batch/s]\n"
          ]
        },
        {
          "output_type": "stream",
          "name": "stdout",
          "text": [
            "LR: 1.0000e-01, Train Loss: 0.6414, Train Acc: 0.7811, Train Latency: 24.81s, Memory Usage: 212.38MB\n",
            "Test Loss: 0.8062, Test Acc: 0.7405, Test Latency: 2.71s, Test Memory Usage: 61.86MB\n",
            "\n",
            "Epoch 12\n"
          ]
        },
        {
          "output_type": "stream",
          "name": "stderr",
          "text": [
            "Train: 100%|##########| 391/391 [00:24<00:00, 15.87batch/s]\n"
          ]
        },
        {
          "output_type": "stream",
          "name": "stdout",
          "text": [
            "LR: 1.0000e-01, Train Loss: 0.6366, Train Acc: 0.7806, Train Latency: 24.64s, Memory Usage: 212.38MB\n",
            "Test Loss: 1.0997, Test Acc: 0.6473, Test Latency: 2.68s, Test Memory Usage: 61.86MB\n",
            "\n",
            "Epoch 13\n"
          ]
        },
        {
          "output_type": "stream",
          "name": "stderr",
          "text": [
            "Train: 100%|##########| 391/391 [00:24<00:00, 15.94batch/s]\n"
          ]
        },
        {
          "output_type": "stream",
          "name": "stdout",
          "text": [
            "LR: 1.0000e-01, Train Loss: 0.6317, Train Acc: 0.7841, Train Latency: 24.53s, Memory Usage: 212.38MB\n",
            "Test Loss: 1.3812, Test Acc: 0.5697, Test Latency: 2.68s, Test Memory Usage: 61.86MB\n",
            "\n",
            "Epoch 14\n"
          ]
        },
        {
          "output_type": "stream",
          "name": "stderr",
          "text": [
            "Train: 100%|##########| 391/391 [00:24<00:00, 15.88batch/s]\n"
          ]
        },
        {
          "output_type": "stream",
          "name": "stdout",
          "text": [
            "LR: 1.0000e-01, Train Loss: 0.6243, Train Acc: 0.7876, Train Latency: 24.62s, Memory Usage: 212.38MB\n",
            "Test Loss: 0.8234, Test Acc: 0.7229, Test Latency: 2.78s, Test Memory Usage: 61.86MB\n",
            "\n",
            "Epoch 15\n"
          ]
        },
        {
          "output_type": "stream",
          "name": "stderr",
          "text": [
            "Train: 100%|##########| 391/391 [00:24<00:00, 15.70batch/s]\n"
          ]
        },
        {
          "output_type": "stream",
          "name": "stdout",
          "text": [
            "LR: 1.0000e-01, Train Loss: 0.6184, Train Acc: 0.7882, Train Latency: 24.91s, Memory Usage: 212.38MB\n",
            "Test Loss: 0.8965, Test Acc: 0.7094, Test Latency: 2.71s, Test Memory Usage: 61.86MB\n",
            "\n",
            "Epoch 16\n"
          ]
        },
        {
          "output_type": "stream",
          "name": "stderr",
          "text": [
            "Train: 100%|##########| 391/391 [00:24<00:00, 15.66batch/s]\n"
          ]
        },
        {
          "output_type": "stream",
          "name": "stdout",
          "text": [
            "LR: 1.0000e-01, Train Loss: 0.6074, Train Acc: 0.7922, Train Latency: 24.96s, Memory Usage: 212.38MB\n",
            "Test Loss: 0.8599, Test Acc: 0.7167, Test Latency: 2.74s, Test Memory Usage: 61.86MB\n",
            "\n",
            "Epoch 17\n"
          ]
        },
        {
          "output_type": "stream",
          "name": "stderr",
          "text": [
            "Train: 100%|##########| 391/391 [00:24<00:00, 15.71batch/s]\n"
          ]
        },
        {
          "output_type": "stream",
          "name": "stdout",
          "text": [
            "LR: 1.0000e-01, Train Loss: 0.6087, Train Acc: 0.7902, Train Latency: 24.89s, Memory Usage: 212.38MB\n",
            "Test Loss: 0.9262, Test Acc: 0.7086, Test Latency: 2.73s, Test Memory Usage: 61.86MB\n",
            "\n",
            "Epoch 18\n"
          ]
        },
        {
          "output_type": "stream",
          "name": "stderr",
          "text": [
            "Train: 100%|##########| 391/391 [00:24<00:00, 15.65batch/s]\n"
          ]
        },
        {
          "output_type": "stream",
          "name": "stdout",
          "text": [
            "LR: 1.0000e-01, Train Loss: 0.6077, Train Acc: 0.7916, Train Latency: 24.99s, Memory Usage: 212.38MB\n",
            "Test Loss: 1.0028, Test Acc: 0.6718, Test Latency: 2.72s, Test Memory Usage: 61.86MB\n",
            "\n",
            "Epoch 19\n"
          ]
        },
        {
          "output_type": "stream",
          "name": "stderr",
          "text": [
            "Train: 100%|##########| 391/391 [00:24<00:00, 15.76batch/s]\n"
          ]
        },
        {
          "output_type": "stream",
          "name": "stdout",
          "text": [
            "LR: 1.0000e-01, Train Loss: 0.6033, Train Acc: 0.7921, Train Latency: 24.81s, Memory Usage: 212.38MB\n",
            "Test Loss: 1.6352, Test Acc: 0.5504, Test Latency: 2.71s, Test Memory Usage: 61.86MB\n",
            "\n",
            "Epoch 20\n"
          ]
        },
        {
          "output_type": "stream",
          "name": "stderr",
          "text": [
            "Train: 100%|##########| 391/391 [00:25<00:00, 15.61batch/s]\n"
          ]
        },
        {
          "output_type": "stream",
          "name": "stdout",
          "text": [
            "LR: 1.0000e-01, Train Loss: 0.6061, Train Acc: 0.7920, Train Latency: 25.06s, Memory Usage: 212.38MB\n",
            "Test Loss: 0.9359, Test Acc: 0.6896, Test Latency: 2.75s, Test Memory Usage: 61.86MB\n",
            "\n",
            "Epoch 21\n"
          ]
        },
        {
          "output_type": "stream",
          "name": "stderr",
          "text": [
            "Train: 100%|##########| 391/391 [00:24<00:00, 15.78batch/s]\n"
          ]
        },
        {
          "output_type": "stream",
          "name": "stdout",
          "text": [
            "LR: 1.0000e-01, Train Loss: 0.5983, Train Acc: 0.7968, Train Latency: 24.78s, Memory Usage: 212.38MB\n",
            "Test Loss: 1.2350, Test Acc: 0.6110, Test Latency: 2.71s, Test Memory Usage: 61.86MB\n",
            "\n",
            "Epoch 22\n"
          ]
        },
        {
          "output_type": "stream",
          "name": "stderr",
          "text": [
            "Train: 100%|##########| 391/391 [00:24<00:00, 15.91batch/s]\n"
          ]
        },
        {
          "output_type": "stream",
          "name": "stdout",
          "text": [
            "LR: 1.0000e-01, Train Loss: 0.6007, Train Acc: 0.7942, Train Latency: 24.57s, Memory Usage: 212.38MB\n",
            "Test Loss: 1.0331, Test Acc: 0.6859, Test Latency: 2.68s, Test Memory Usage: 61.86MB\n",
            "\n",
            "Epoch 23\n"
          ]
        },
        {
          "output_type": "stream",
          "name": "stderr",
          "text": [
            "Train: 100%|##########| 391/391 [00:24<00:00, 15.89batch/s]\n"
          ]
        },
        {
          "output_type": "stream",
          "name": "stdout",
          "text": [
            "LR: 1.0000e-01, Train Loss: 0.5924, Train Acc: 0.7960, Train Latency: 24.60s, Memory Usage: 212.38MB\n",
            "Test Loss: 0.9638, Test Acc: 0.6972, Test Latency: 2.71s, Test Memory Usage: 61.86MB\n",
            "\n",
            "Epoch 24\n"
          ]
        },
        {
          "output_type": "stream",
          "name": "stderr",
          "text": [
            "Train: 100%|##########| 391/391 [00:24<00:00, 15.71batch/s]\n"
          ]
        },
        {
          "output_type": "stream",
          "name": "stdout",
          "text": [
            "LR: 1.0000e-01, Train Loss: 0.5890, Train Acc: 0.7981, Train Latency: 24.90s, Memory Usage: 212.38MB\n",
            "Test Loss: 0.9532, Test Acc: 0.6790, Test Latency: 2.73s, Test Memory Usage: 61.86MB\n",
            "\n",
            "Epoch 25\n"
          ]
        },
        {
          "output_type": "stream",
          "name": "stderr",
          "text": [
            "Train: 100%|##########| 391/391 [00:24<00:00, 15.76batch/s]\n"
          ]
        },
        {
          "output_type": "stream",
          "name": "stdout",
          "text": [
            "LR: 1.0000e-01, Train Loss: 0.5886, Train Acc: 0.7972, Train Latency: 24.81s, Memory Usage: 212.38MB\n",
            "Test Loss: 0.7728, Test Acc: 0.7362, Test Latency: 2.69s, Test Memory Usage: 61.86MB\n",
            "\n",
            "Epoch 26\n"
          ]
        },
        {
          "output_type": "stream",
          "name": "stderr",
          "text": [
            "Train: 100%|##########| 391/391 [00:24<00:00, 15.84batch/s]\n"
          ]
        },
        {
          "output_type": "stream",
          "name": "stdout",
          "text": [
            "LR: 1.0000e-01, Train Loss: 0.5814, Train Acc: 0.8005, Train Latency: 24.68s, Memory Usage: 212.38MB\n",
            "Test Loss: 0.8760, Test Acc: 0.7055, Test Latency: 2.70s, Test Memory Usage: 61.86MB\n",
            "\n",
            "Epoch 27\n"
          ]
        },
        {
          "output_type": "stream",
          "name": "stderr",
          "text": [
            "Train: 100%|##########| 391/391 [00:24<00:00, 15.65batch/s]\n"
          ]
        },
        {
          "output_type": "stream",
          "name": "stdout",
          "text": [
            "LR: 1.0000e-01, Train Loss: 0.5856, Train Acc: 0.8005, Train Latency: 24.98s, Memory Usage: 212.38MB\n",
            "Test Loss: 0.7859, Test Acc: 0.7357, Test Latency: 2.73s, Test Memory Usage: 61.86MB\n",
            "\n",
            "Epoch 28\n"
          ]
        },
        {
          "output_type": "stream",
          "name": "stderr",
          "text": [
            "Train: 100%|##########| 391/391 [00:24<00:00, 15.75batch/s]\n"
          ]
        },
        {
          "output_type": "stream",
          "name": "stdout",
          "text": [
            "LR: 1.0000e-01, Train Loss: 0.5842, Train Acc: 0.7997, Train Latency: 24.82s, Memory Usage: 212.38MB\n",
            "Test Loss: 0.9932, Test Acc: 0.6622, Test Latency: 2.70s, Test Memory Usage: 61.86MB\n",
            "\n",
            "Epoch 29\n"
          ]
        },
        {
          "output_type": "stream",
          "name": "stderr",
          "text": [
            "Train: 100%|##########| 391/391 [00:24<00:00, 15.77batch/s]\n"
          ]
        },
        {
          "output_type": "stream",
          "name": "stdout",
          "text": [
            "LR: 1.0000e-01, Train Loss: 0.5927, Train Acc: 0.7969, Train Latency: 24.79s, Memory Usage: 212.38MB\n",
            "Test Loss: 0.9065, Test Acc: 0.6973, Test Latency: 2.72s, Test Memory Usage: 61.86MB\n",
            "\n",
            "Epoch 30\n"
          ]
        },
        {
          "output_type": "stream",
          "name": "stderr",
          "text": [
            "Train: 100%|##########| 391/391 [00:24<00:00, 15.69batch/s]\n"
          ]
        },
        {
          "output_type": "stream",
          "name": "stdout",
          "text": [
            "LR: 1.0000e-01, Train Loss: 0.5770, Train Acc: 0.8016, Train Latency: 24.92s, Memory Usage: 212.38MB\n",
            "Test Loss: 1.5014, Test Acc: 0.5631, Test Latency: 2.71s, Test Memory Usage: 61.86MB\n",
            "\n",
            "Epoch 31\n"
          ]
        },
        {
          "output_type": "stream",
          "name": "stderr",
          "text": [
            "Train: 100%|##########| 391/391 [00:24<00:00, 15.74batch/s]\n"
          ]
        },
        {
          "output_type": "stream",
          "name": "stdout",
          "text": [
            "LR: 1.0000e-01, Train Loss: 0.5798, Train Acc: 0.8011, Train Latency: 24.84s, Memory Usage: 212.38MB\n",
            "Test Loss: 1.0234, Test Acc: 0.6529, Test Latency: 2.67s, Test Memory Usage: 61.86MB\n",
            "\n",
            "Epoch 32\n"
          ]
        },
        {
          "output_type": "stream",
          "name": "stderr",
          "text": [
            "Train: 100%|##########| 391/391 [00:24<00:00, 15.84batch/s]\n"
          ]
        },
        {
          "output_type": "stream",
          "name": "stdout",
          "text": [
            "LR: 1.0000e-01, Train Loss: 0.5770, Train Acc: 0.8029, Train Latency: 24.69s, Memory Usage: 212.38MB\n",
            "Test Loss: 0.6967, Test Acc: 0.7670, Test Latency: 2.72s, Test Memory Usage: 61.86MB\n",
            "\n",
            "Epoch 33\n"
          ]
        },
        {
          "output_type": "stream",
          "name": "stderr",
          "text": [
            "Train: 100%|##########| 391/391 [00:24<00:00, 15.67batch/s]\n"
          ]
        },
        {
          "output_type": "stream",
          "name": "stdout",
          "text": [
            "LR: 1.0000e-01, Train Loss: 0.5772, Train Acc: 0.8037, Train Latency: 24.96s, Memory Usage: 212.38MB\n",
            "Test Loss: 1.2324, Test Acc: 0.6395, Test Latency: 2.71s, Test Memory Usage: 61.86MB\n",
            "\n",
            "Epoch 34\n"
          ]
        },
        {
          "output_type": "stream",
          "name": "stderr",
          "text": [
            "Train: 100%|##########| 391/391 [00:24<00:00, 15.84batch/s]\n"
          ]
        },
        {
          "output_type": "stream",
          "name": "stdout",
          "text": [
            "LR: 1.0000e-01, Train Loss: 0.5700, Train Acc: 0.8061, Train Latency: 24.69s, Memory Usage: 212.38MB\n",
            "Test Loss: 0.9034, Test Acc: 0.7039, Test Latency: 2.69s, Test Memory Usage: 61.86MB\n",
            "\n",
            "Epoch 35\n"
          ]
        },
        {
          "output_type": "stream",
          "name": "stderr",
          "text": [
            "Train: 100%|##########| 391/391 [00:24<00:00, 15.66batch/s]\n"
          ]
        },
        {
          "output_type": "stream",
          "name": "stdout",
          "text": [
            "LR: 1.0000e-01, Train Loss: 0.5814, Train Acc: 0.8012, Train Latency: 24.97s, Memory Usage: 212.38MB\n",
            "Test Loss: 1.0344, Test Acc: 0.6941, Test Latency: 2.70s, Test Memory Usage: 61.86MB\n",
            "\n",
            "Epoch 36\n"
          ]
        },
        {
          "output_type": "stream",
          "name": "stderr",
          "text": [
            "Train: 100%|##########| 391/391 [00:25<00:00, 15.63batch/s]\n"
          ]
        },
        {
          "output_type": "stream",
          "name": "stdout",
          "text": [
            "LR: 1.0000e-01, Train Loss: 0.5718, Train Acc: 0.8041, Train Latency: 25.01s, Memory Usage: 212.38MB\n",
            "Test Loss: 1.4708, Test Acc: 0.6004, Test Latency: 2.74s, Test Memory Usage: 61.86MB\n",
            "\n",
            "Epoch 37\n"
          ]
        },
        {
          "output_type": "stream",
          "name": "stderr",
          "text": [
            "Train: 100%|##########| 391/391 [00:24<00:00, 15.72batch/s]\n"
          ]
        },
        {
          "output_type": "stream",
          "name": "stdout",
          "text": [
            "LR: 1.0000e-01, Train Loss: 0.5719, Train Acc: 0.8040, Train Latency: 24.88s, Memory Usage: 212.38MB\n",
            "Test Loss: 0.7549, Test Acc: 0.7493, Test Latency: 2.74s, Test Memory Usage: 61.86MB\n",
            "\n",
            "Epoch 38\n"
          ]
        },
        {
          "output_type": "stream",
          "name": "stderr",
          "text": [
            "Train: 100%|##########| 391/391 [00:24<00:00, 15.69batch/s]\n"
          ]
        },
        {
          "output_type": "stream",
          "name": "stdout",
          "text": [
            "LR: 1.0000e-01, Train Loss: 0.5756, Train Acc: 0.8023, Train Latency: 24.93s, Memory Usage: 212.38MB\n",
            "Test Loss: 1.0841, Test Acc: 0.6836, Test Latency: 2.72s, Test Memory Usage: 61.86MB\n",
            "\n",
            "Epoch 39\n"
          ]
        },
        {
          "output_type": "stream",
          "name": "stderr",
          "text": [
            "Train: 100%|##########| 391/391 [00:24<00:00, 15.76batch/s]\n"
          ]
        },
        {
          "output_type": "stream",
          "name": "stdout",
          "text": [
            "LR: 1.0000e-01, Train Loss: 0.5748, Train Acc: 0.8026, Train Latency: 24.82s, Memory Usage: 212.38MB\n",
            "Test Loss: 0.7875, Test Acc: 0.7460, Test Latency: 2.72s, Test Memory Usage: 61.86MB\n",
            "\n",
            "Epoch 40\n"
          ]
        },
        {
          "output_type": "stream",
          "name": "stderr",
          "text": [
            "Train: 100%|##########| 391/391 [00:24<00:00, 15.95batch/s]\n"
          ]
        },
        {
          "output_type": "stream",
          "name": "stdout",
          "text": [
            "LR: 1.0000e-01, Train Loss: 0.5714, Train Acc: 0.8048, Train Latency: 24.52s, Memory Usage: 212.38MB\n",
            "Test Loss: 0.7766, Test Acc: 0.7551, Test Latency: 2.70s, Test Memory Usage: 69.86MB\n",
            "\n",
            "Epoch 41\n"
          ]
        },
        {
          "output_type": "stream",
          "name": "stderr",
          "text": [
            "Train: 100%|##########| 391/391 [00:24<00:00, 15.94batch/s]\n"
          ]
        },
        {
          "output_type": "stream",
          "name": "stdout",
          "text": [
            "LR: 1.0000e-01, Train Loss: 0.5722, Train Acc: 0.8047, Train Latency: 24.54s, Memory Usage: 212.38MB\n",
            "Test Loss: 1.1570, Test Acc: 0.6436, Test Latency: 2.69s, Test Memory Usage: 61.86MB\n",
            "\n",
            "Epoch 42\n"
          ]
        },
        {
          "output_type": "stream",
          "name": "stderr",
          "text": [
            "Train: 100%|##########| 391/391 [00:24<00:00, 15.80batch/s]\n"
          ]
        },
        {
          "output_type": "stream",
          "name": "stdout",
          "text": [
            "LR: 1.0000e-01, Train Loss: 0.5708, Train Acc: 0.8054, Train Latency: 24.76s, Memory Usage: 212.38MB\n",
            "Test Loss: 0.8986, Test Acc: 0.6922, Test Latency: 2.69s, Test Memory Usage: 61.86MB\n",
            "\n",
            "Epoch 43\n"
          ]
        },
        {
          "output_type": "stream",
          "name": "stderr",
          "text": [
            "Train: 100%|##########| 391/391 [00:24<00:00, 15.74batch/s]\n"
          ]
        },
        {
          "output_type": "stream",
          "name": "stdout",
          "text": [
            "LR: 1.0000e-01, Train Loss: 0.5724, Train Acc: 0.8047, Train Latency: 24.84s, Memory Usage: 212.38MB\n",
            "Test Loss: 0.7953, Test Acc: 0.7358, Test Latency: 2.66s, Test Memory Usage: 61.86MB\n",
            "\n",
            "Epoch 44\n"
          ]
        },
        {
          "output_type": "stream",
          "name": "stderr",
          "text": [
            "Train: 100%|##########| 391/391 [00:24<00:00, 15.87batch/s]\n"
          ]
        },
        {
          "output_type": "stream",
          "name": "stdout",
          "text": [
            "LR: 1.0000e-01, Train Loss: 0.5773, Train Acc: 0.8030, Train Latency: 24.64s, Memory Usage: 212.38MB\n",
            "Test Loss: 1.1010, Test Acc: 0.6608, Test Latency: 2.72s, Test Memory Usage: 66.23MB\n",
            "\n",
            "Epoch 45\n"
          ]
        },
        {
          "output_type": "stream",
          "name": "stderr",
          "text": [
            "Train: 100%|##########| 391/391 [00:24<00:00, 15.80batch/s]\n"
          ]
        },
        {
          "output_type": "stream",
          "name": "stdout",
          "text": [
            "LR: 1.0000e-01, Train Loss: 0.5640, Train Acc: 0.8083, Train Latency: 24.75s, Memory Usage: 212.38MB\n",
            "Test Loss: 1.6177, Test Acc: 0.5829, Test Latency: 2.73s, Test Memory Usage: 61.86MB\n",
            "\n",
            "Epoch 46\n"
          ]
        },
        {
          "output_type": "stream",
          "name": "stderr",
          "text": [
            "Train: 100%|##########| 391/391 [00:24<00:00, 15.81batch/s]\n"
          ]
        },
        {
          "output_type": "stream",
          "name": "stdout",
          "text": [
            "LR: 1.0000e-01, Train Loss: 0.5709, Train Acc: 0.8054, Train Latency: 24.73s, Memory Usage: 212.38MB\n",
            "Test Loss: 0.7950, Test Acc: 0.7208, Test Latency: 2.69s, Test Memory Usage: 61.86MB\n",
            "\n",
            "Epoch 47\n"
          ]
        },
        {
          "output_type": "stream",
          "name": "stderr",
          "text": [
            "Train: 100%|##########| 391/391 [00:24<00:00, 15.76batch/s]\n"
          ]
        },
        {
          "output_type": "stream",
          "name": "stdout",
          "text": [
            "LR: 1.0000e-01, Train Loss: 0.5686, Train Acc: 0.8038, Train Latency: 24.81s, Memory Usage: 212.38MB\n",
            "Test Loss: 0.9726, Test Acc: 0.6958, Test Latency: 2.71s, Test Memory Usage: 61.86MB\n",
            "\n",
            "Epoch 48\n"
          ]
        },
        {
          "output_type": "stream",
          "name": "stderr",
          "text": [
            "Train: 100%|##########| 391/391 [00:25<00:00, 15.63batch/s]\n"
          ]
        },
        {
          "output_type": "stream",
          "name": "stdout",
          "text": [
            "LR: 1.0000e-01, Train Loss: 0.5760, Train Acc: 0.8025, Train Latency: 25.01s, Memory Usage: 212.38MB\n",
            "Test Loss: 0.7070, Test Acc: 0.7561, Test Latency: 2.71s, Test Memory Usage: 61.86MB\n",
            "\n",
            "Epoch 49\n"
          ]
        },
        {
          "output_type": "stream",
          "name": "stderr",
          "text": [
            "Train: 100%|##########| 391/391 [00:24<00:00, 15.73batch/s]\n"
          ]
        },
        {
          "output_type": "stream",
          "name": "stdout",
          "text": [
            "LR: 1.0000e-01, Train Loss: 0.5663, Train Acc: 0.8075, Train Latency: 24.86s, Memory Usage: 212.38MB\n",
            "Test Loss: 0.7422, Test Acc: 0.7450, Test Latency: 2.69s, Test Memory Usage: 69.86MB\n",
            "\n",
            "Epoch 50\n"
          ]
        },
        {
          "output_type": "stream",
          "name": "stderr",
          "text": [
            "Train: 100%|##########| 391/391 [00:24<00:00, 16.07batch/s]\n"
          ]
        },
        {
          "output_type": "stream",
          "name": "stdout",
          "text": [
            "LR: 1.0000e-01, Train Loss: 0.5630, Train Acc: 0.8079, Train Latency: 24.34s, Memory Usage: 212.38MB\n",
            "Test Loss: 0.8402, Test Acc: 0.7254, Test Latency: 2.69s, Test Memory Usage: 61.86MB\n",
            "\n",
            "Epoch 51\n"
          ]
        },
        {
          "output_type": "stream",
          "name": "stderr",
          "text": [
            "Train: 100%|##########| 391/391 [00:24<00:00, 15.77batch/s]\n"
          ]
        },
        {
          "output_type": "stream",
          "name": "stdout",
          "text": [
            "LR: 1.0000e-02, Train Loss: 0.3769, Train Acc: 0.8737, Train Latency: 24.80s, Memory Usage: 212.38MB\n",
            "Test Loss: 0.3684, Test Acc: 0.8745, Test Latency: 2.71s, Test Memory Usage: 61.86MB\n",
            "Saving best model ...\n",
            "\n",
            "Epoch 52\n"
          ]
        },
        {
          "output_type": "stream",
          "name": "stderr",
          "text": [
            "Train: 100%|##########| 391/391 [00:24<00:00, 15.68batch/s]\n"
          ]
        },
        {
          "output_type": "stream",
          "name": "stdout",
          "text": [
            "LR: 1.0000e-02, Train Loss: 0.3254, Train Acc: 0.8904, Train Latency: 24.95s, Memory Usage: 212.38MB\n",
            "Test Loss: 0.3731, Test Acc: 0.8730, Test Latency: 2.68s, Test Memory Usage: 61.86MB\n",
            "\n",
            "Epoch 53\n"
          ]
        },
        {
          "output_type": "stream",
          "name": "stderr",
          "text": [
            "Train: 100%|##########| 391/391 [00:24<00:00, 15.82batch/s]\n"
          ]
        },
        {
          "output_type": "stream",
          "name": "stdout",
          "text": [
            "LR: 1.0000e-02, Train Loss: 0.3030, Train Acc: 0.8969, Train Latency: 24.72s, Memory Usage: 212.38MB\n",
            "Test Loss: 0.3369, Test Acc: 0.8826, Test Latency: 2.70s, Test Memory Usage: 61.86MB\n",
            "Saving best model ...\n",
            "\n",
            "Epoch 54\n"
          ]
        },
        {
          "output_type": "stream",
          "name": "stderr",
          "text": [
            "Train: 100%|##########| 391/391 [00:24<00:00, 15.78batch/s]\n"
          ]
        },
        {
          "output_type": "stream",
          "name": "stdout",
          "text": [
            "LR: 1.0000e-02, Train Loss: 0.2877, Train Acc: 0.9020, Train Latency: 24.78s, Memory Usage: 212.38MB\n",
            "Test Loss: 0.3477, Test Acc: 0.8834, Test Latency: 2.71s, Test Memory Usage: 61.86MB\n",
            "Saving best model ...\n",
            "\n",
            "Epoch 55\n"
          ]
        },
        {
          "output_type": "stream",
          "name": "stderr",
          "text": [
            "Train: 100%|##########| 391/391 [00:24<00:00, 15.78batch/s]\n"
          ]
        },
        {
          "output_type": "stream",
          "name": "stdout",
          "text": [
            "LR: 1.0000e-02, Train Loss: 0.2745, Train Acc: 0.9073, Train Latency: 24.78s, Memory Usage: 212.38MB\n",
            "Test Loss: 0.3359, Test Acc: 0.8865, Test Latency: 2.68s, Test Memory Usage: 61.86MB\n",
            "Saving best model ...\n",
            "\n",
            "Epoch 56\n"
          ]
        },
        {
          "output_type": "stream",
          "name": "stderr",
          "text": [
            "Train: 100%|##########| 391/391 [00:24<00:00, 15.84batch/s]\n"
          ]
        },
        {
          "output_type": "stream",
          "name": "stdout",
          "text": [
            "LR: 1.0000e-02, Train Loss: 0.2695, Train Acc: 0.9094, Train Latency: 24.68s, Memory Usage: 212.38MB\n",
            "Test Loss: 0.3330, Test Acc: 0.8879, Test Latency: 2.68s, Test Memory Usage: 61.86MB\n",
            "Saving best model ...\n",
            "\n",
            "Epoch 57\n"
          ]
        },
        {
          "output_type": "stream",
          "name": "stderr",
          "text": [
            "Train: 100%|##########| 391/391 [00:24<00:00, 15.87batch/s]\n"
          ]
        },
        {
          "output_type": "stream",
          "name": "stdout",
          "text": [
            "LR: 1.0000e-02, Train Loss: 0.2624, Train Acc: 0.9122, Train Latency: 24.65s, Memory Usage: 212.38MB\n",
            "Test Loss: 0.3197, Test Acc: 0.8877, Test Latency: 2.70s, Test Memory Usage: 61.86MB\n",
            "\n",
            "Epoch 58\n"
          ]
        },
        {
          "output_type": "stream",
          "name": "stderr",
          "text": [
            "Train: 100%|##########| 391/391 [00:24<00:00, 15.93batch/s]\n"
          ]
        },
        {
          "output_type": "stream",
          "name": "stdout",
          "text": [
            "LR: 1.0000e-02, Train Loss: 0.2604, Train Acc: 0.9127, Train Latency: 24.55s, Memory Usage: 212.38MB\n",
            "Test Loss: 0.3387, Test Acc: 0.8862, Test Latency: 2.70s, Test Memory Usage: 69.86MB\n",
            "\n",
            "Epoch 59\n"
          ]
        },
        {
          "output_type": "stream",
          "name": "stderr",
          "text": [
            "Train: 100%|##########| 391/391 [00:24<00:00, 15.88batch/s]\n"
          ]
        },
        {
          "output_type": "stream",
          "name": "stdout",
          "text": [
            "LR: 1.0000e-02, Train Loss: 0.2531, Train Acc: 0.9152, Train Latency: 24.63s, Memory Usage: 212.38MB\n",
            "Test Loss: 0.3368, Test Acc: 0.8843, Test Latency: 2.66s, Test Memory Usage: 61.86MB\n",
            "\n",
            "Epoch 60\n"
          ]
        },
        {
          "output_type": "stream",
          "name": "stderr",
          "text": [
            "Train: 100%|##########| 391/391 [00:24<00:00, 15.94batch/s]\n"
          ]
        },
        {
          "output_type": "stream",
          "name": "stdout",
          "text": [
            "LR: 1.0000e-02, Train Loss: 0.2474, Train Acc: 0.9163, Train Latency: 24.54s, Memory Usage: 212.38MB\n",
            "Test Loss: 0.3249, Test Acc: 0.8874, Test Latency: 2.69s, Test Memory Usage: 61.86MB\n",
            "\n",
            "Epoch 61\n"
          ]
        },
        {
          "output_type": "stream",
          "name": "stderr",
          "text": [
            "Train: 100%|##########| 391/391 [00:24<00:00, 15.85batch/s]\n"
          ]
        },
        {
          "output_type": "stream",
          "name": "stdout",
          "text": [
            "LR: 1.0000e-02, Train Loss: 0.2495, Train Acc: 0.9155, Train Latency: 24.67s, Memory Usage: 212.38MB\n",
            "Test Loss: 0.3501, Test Acc: 0.8802, Test Latency: 2.71s, Test Memory Usage: 61.86MB\n",
            "\n",
            "Epoch 62\n"
          ]
        },
        {
          "output_type": "stream",
          "name": "stderr",
          "text": [
            "Train: 100%|##########| 391/391 [00:24<00:00, 15.69batch/s]\n"
          ]
        },
        {
          "output_type": "stream",
          "name": "stdout",
          "text": [
            "LR: 1.0000e-02, Train Loss: 0.2456, Train Acc: 0.9171, Train Latency: 24.92s, Memory Usage: 212.38MB\n",
            "Test Loss: 0.3454, Test Acc: 0.8804, Test Latency: 2.71s, Test Memory Usage: 61.86MB\n",
            "\n",
            "Epoch 63\n"
          ]
        },
        {
          "output_type": "stream",
          "name": "stderr",
          "text": [
            "Train: 100%|##########| 391/391 [00:24<00:00, 15.94batch/s]\n"
          ]
        },
        {
          "output_type": "stream",
          "name": "stdout",
          "text": [
            "LR: 1.0000e-02, Train Loss: 0.2455, Train Acc: 0.9156, Train Latency: 24.53s, Memory Usage: 212.38MB\n",
            "Test Loss: 0.4122, Test Acc: 0.8617, Test Latency: 2.70s, Test Memory Usage: 61.86MB\n",
            "\n",
            "Epoch 64\n"
          ]
        },
        {
          "output_type": "stream",
          "name": "stderr",
          "text": [
            "Train: 100%|##########| 391/391 [00:24<00:00, 15.91batch/s]\n"
          ]
        },
        {
          "output_type": "stream",
          "name": "stdout",
          "text": [
            "LR: 1.0000e-02, Train Loss: 0.2427, Train Acc: 0.9172, Train Latency: 24.58s, Memory Usage: 212.38MB\n",
            "Test Loss: 0.3523, Test Acc: 0.8798, Test Latency: 2.69s, Test Memory Usage: 61.86MB\n",
            "\n",
            "Epoch 65\n"
          ]
        },
        {
          "output_type": "stream",
          "name": "stderr",
          "text": [
            "Train: 100%|##########| 391/391 [00:24<00:00, 15.94batch/s]\n"
          ]
        },
        {
          "output_type": "stream",
          "name": "stdout",
          "text": [
            "LR: 1.0000e-02, Train Loss: 0.2462, Train Acc: 0.9163, Train Latency: 24.53s, Memory Usage: 212.38MB\n",
            "Test Loss: 0.3689, Test Acc: 0.8752, Test Latency: 2.68s, Test Memory Usage: 61.86MB\n",
            "\n",
            "Epoch 66\n"
          ]
        },
        {
          "output_type": "stream",
          "name": "stderr",
          "text": [
            "Train: 100%|##########| 391/391 [00:24<00:00, 15.93batch/s]\n"
          ]
        },
        {
          "output_type": "stream",
          "name": "stdout",
          "text": [
            "LR: 1.0000e-02, Train Loss: 0.2445, Train Acc: 0.9153, Train Latency: 24.56s, Memory Usage: 212.38MB\n",
            "Test Loss: 0.3497, Test Acc: 0.8810, Test Latency: 2.68s, Test Memory Usage: 61.86MB\n",
            "\n",
            "Epoch 67\n"
          ]
        },
        {
          "output_type": "stream",
          "name": "stderr",
          "text": [
            "Train: 100%|##########| 391/391 [00:24<00:00, 15.90batch/s]\n"
          ]
        },
        {
          "output_type": "stream",
          "name": "stdout",
          "text": [
            "LR: 1.0000e-02, Train Loss: 0.2407, Train Acc: 0.9182, Train Latency: 24.60s, Memory Usage: 212.38MB\n",
            "Test Loss: 0.4327, Test Acc: 0.8594, Test Latency: 2.70s, Test Memory Usage: 61.86MB\n",
            "\n",
            "Epoch 68\n"
          ]
        },
        {
          "output_type": "stream",
          "name": "stderr",
          "text": [
            "Train: 100%|##########| 391/391 [00:24<00:00, 15.84batch/s]\n"
          ]
        },
        {
          "output_type": "stream",
          "name": "stdout",
          "text": [
            "LR: 1.0000e-02, Train Loss: 0.2414, Train Acc: 0.9171, Train Latency: 24.69s, Memory Usage: 212.38MB\n",
            "Test Loss: 0.3447, Test Acc: 0.8841, Test Latency: 2.78s, Test Memory Usage: 61.86MB\n",
            "\n",
            "Epoch 69\n"
          ]
        },
        {
          "output_type": "stream",
          "name": "stderr",
          "text": [
            "Train: 100%|##########| 391/391 [00:24<00:00, 15.86batch/s]\n"
          ]
        },
        {
          "output_type": "stream",
          "name": "stdout",
          "text": [
            "LR: 1.0000e-02, Train Loss: 0.2444, Train Acc: 0.9160, Train Latency: 24.65s, Memory Usage: 212.38MB\n",
            "Test Loss: 0.4048, Test Acc: 0.8676, Test Latency: 2.66s, Test Memory Usage: 61.86MB\n",
            "\n",
            "Epoch 70\n"
          ]
        },
        {
          "output_type": "stream",
          "name": "stderr",
          "text": [
            "Train: 100%|##########| 391/391 [00:24<00:00, 15.94batch/s]\n"
          ]
        },
        {
          "output_type": "stream",
          "name": "stdout",
          "text": [
            "LR: 1.0000e-02, Train Loss: 0.2434, Train Acc: 0.9173, Train Latency: 24.53s, Memory Usage: 212.38MB\n",
            "Test Loss: 0.3511, Test Acc: 0.8800, Test Latency: 2.70s, Test Memory Usage: 61.86MB\n",
            "\n",
            "Epoch 71\n"
          ]
        },
        {
          "output_type": "stream",
          "name": "stderr",
          "text": [
            "Train: 100%|##########| 391/391 [00:24<00:00, 15.94batch/s]\n"
          ]
        },
        {
          "output_type": "stream",
          "name": "stdout",
          "text": [
            "LR: 1.0000e-02, Train Loss: 0.2435, Train Acc: 0.9174, Train Latency: 24.54s, Memory Usage: 212.38MB\n",
            "Test Loss: 0.4437, Test Acc: 0.8553, Test Latency: 2.70s, Test Memory Usage: 61.86MB\n",
            "\n",
            "Epoch 72\n"
          ]
        },
        {
          "output_type": "stream",
          "name": "stderr",
          "text": [
            "Train: 100%|##########| 391/391 [00:24<00:00, 15.95batch/s]\n"
          ]
        },
        {
          "output_type": "stream",
          "name": "stdout",
          "text": [
            "LR: 1.0000e-02, Train Loss: 0.2351, Train Acc: 0.9187, Train Latency: 24.51s, Memory Usage: 212.38MB\n",
            "Test Loss: 0.4155, Test Acc: 0.8662, Test Latency: 2.69s, Test Memory Usage: 61.86MB\n",
            "\n",
            "Epoch 73\n"
          ]
        },
        {
          "output_type": "stream",
          "name": "stderr",
          "text": [
            "Train: 100%|##########| 391/391 [00:24<00:00, 15.86batch/s]\n"
          ]
        },
        {
          "output_type": "stream",
          "name": "stdout",
          "text": [
            "LR: 1.0000e-02, Train Loss: 0.2426, Train Acc: 0.9161, Train Latency: 24.66s, Memory Usage: 212.38MB\n",
            "Test Loss: 0.3544, Test Acc: 0.8805, Test Latency: 2.68s, Test Memory Usage: 61.86MB\n",
            "\n",
            "Epoch 74\n"
          ]
        },
        {
          "output_type": "stream",
          "name": "stderr",
          "text": [
            "Train: 100%|##########| 391/391 [00:24<00:00, 15.86batch/s]\n"
          ]
        },
        {
          "output_type": "stream",
          "name": "stdout",
          "text": [
            "LR: 1.0000e-02, Train Loss: 0.2387, Train Acc: 0.9184, Train Latency: 24.66s, Memory Usage: 212.38MB\n",
            "Test Loss: 0.5350, Test Acc: 0.8365, Test Latency: 2.68s, Test Memory Usage: 61.86MB\n",
            "\n",
            "Epoch 75\n"
          ]
        },
        {
          "output_type": "stream",
          "name": "stderr",
          "text": [
            "Train: 100%|##########| 391/391 [00:24<00:00, 15.92batch/s]\n"
          ]
        },
        {
          "output_type": "stream",
          "name": "stdout",
          "text": [
            "LR: 1.0000e-02, Train Loss: 0.2388, Train Acc: 0.9189, Train Latency: 24.56s, Memory Usage: 212.38MB\n",
            "Test Loss: 0.4022, Test Acc: 0.8684, Test Latency: 2.69s, Test Memory Usage: 61.86MB\n",
            "\n",
            "Epoch 76\n"
          ]
        },
        {
          "output_type": "stream",
          "name": "stderr",
          "text": [
            "Train: 100%|##########| 391/391 [00:24<00:00, 15.96batch/s]\n"
          ]
        },
        {
          "output_type": "stream",
          "name": "stdout",
          "text": [
            "LR: 1.0000e-02, Train Loss: 0.2378, Train Acc: 0.9183, Train Latency: 24.50s, Memory Usage: 212.38MB\n",
            "Test Loss: 0.3741, Test Acc: 0.8761, Test Latency: 2.66s, Test Memory Usage: 61.86MB\n",
            "\n",
            "Epoch 77\n"
          ]
        },
        {
          "output_type": "stream",
          "name": "stderr",
          "text": [
            "Train: 100%|##########| 391/391 [00:24<00:00, 15.95batch/s]\n"
          ]
        },
        {
          "output_type": "stream",
          "name": "stdout",
          "text": [
            "LR: 1.0000e-02, Train Loss: 0.2361, Train Acc: 0.9191, Train Latency: 24.52s, Memory Usage: 212.38MB\n",
            "Test Loss: 0.4292, Test Acc: 0.8558, Test Latency: 2.67s, Test Memory Usage: 61.86MB\n",
            "\n",
            "Epoch 78\n"
          ]
        },
        {
          "output_type": "stream",
          "name": "stderr",
          "text": [
            "Train: 100%|##########| 391/391 [00:24<00:00, 15.95batch/s]\n"
          ]
        },
        {
          "output_type": "stream",
          "name": "stdout",
          "text": [
            "LR: 1.0000e-02, Train Loss: 0.2382, Train Acc: 0.9190, Train Latency: 24.52s, Memory Usage: 212.38MB\n",
            "Test Loss: 0.4175, Test Acc: 0.8588, Test Latency: 2.68s, Test Memory Usage: 61.86MB\n",
            "\n",
            "Epoch 79\n"
          ]
        },
        {
          "output_type": "stream",
          "name": "stderr",
          "text": [
            "Train: 100%|##########| 391/391 [00:24<00:00, 15.95batch/s]\n"
          ]
        },
        {
          "output_type": "stream",
          "name": "stdout",
          "text": [
            "LR: 1.0000e-02, Train Loss: 0.2324, Train Acc: 0.9199, Train Latency: 24.52s, Memory Usage: 212.38MB\n",
            "Test Loss: 0.3524, Test Acc: 0.8800, Test Latency: 2.68s, Test Memory Usage: 61.86MB\n",
            "\n",
            "Epoch 80\n"
          ]
        },
        {
          "output_type": "stream",
          "name": "stderr",
          "text": [
            "Train: 100%|##########| 391/391 [00:24<00:00, 15.93batch/s]\n"
          ]
        },
        {
          "output_type": "stream",
          "name": "stdout",
          "text": [
            "LR: 1.0000e-02, Train Loss: 0.2336, Train Acc: 0.9199, Train Latency: 24.55s, Memory Usage: 212.38MB\n",
            "Test Loss: 0.4562, Test Acc: 0.8551, Test Latency: 2.69s, Test Memory Usage: 61.86MB\n",
            "\n",
            "Epoch 81\n"
          ]
        },
        {
          "output_type": "stream",
          "name": "stderr",
          "text": [
            "Train: 100%|##########| 391/391 [00:24<00:00, 15.89batch/s]\n"
          ]
        },
        {
          "output_type": "stream",
          "name": "stdout",
          "text": [
            "LR: 1.0000e-02, Train Loss: 0.2360, Train Acc: 0.9199, Train Latency: 24.61s, Memory Usage: 212.38MB\n",
            "Test Loss: 0.3724, Test Acc: 0.8781, Test Latency: 2.68s, Test Memory Usage: 61.86MB\n",
            "\n",
            "Epoch 82\n"
          ]
        },
        {
          "output_type": "stream",
          "name": "stderr",
          "text": [
            "Train: 100%|##########| 391/391 [00:24<00:00, 15.90batch/s]\n"
          ]
        },
        {
          "output_type": "stream",
          "name": "stdout",
          "text": [
            "LR: 1.0000e-02, Train Loss: 0.2336, Train Acc: 0.9186, Train Latency: 24.59s, Memory Usage: 212.38MB\n",
            "Test Loss: 0.3931, Test Acc: 0.8719, Test Latency: 2.68s, Test Memory Usage: 61.86MB\n",
            "\n",
            "Epoch 83\n"
          ]
        },
        {
          "output_type": "stream",
          "name": "stderr",
          "text": [
            "Train: 100%|##########| 391/391 [00:24<00:00, 15.89batch/s]\n"
          ]
        },
        {
          "output_type": "stream",
          "name": "stdout",
          "text": [
            "LR: 1.0000e-02, Train Loss: 0.2335, Train Acc: 0.9196, Train Latency: 24.61s, Memory Usage: 212.38MB\n",
            "Test Loss: 0.4094, Test Acc: 0.8624, Test Latency: 2.67s, Test Memory Usage: 61.86MB\n",
            "\n",
            "Epoch 84\n"
          ]
        },
        {
          "output_type": "stream",
          "name": "stderr",
          "text": [
            "Train: 100%|##########| 391/391 [00:24<00:00, 15.99batch/s]\n"
          ]
        },
        {
          "output_type": "stream",
          "name": "stdout",
          "text": [
            "LR: 1.0000e-02, Train Loss: 0.2283, Train Acc: 0.9213, Train Latency: 24.46s, Memory Usage: 212.38MB\n",
            "Test Loss: 0.3629, Test Acc: 0.8771, Test Latency: 2.67s, Test Memory Usage: 69.86MB\n",
            "\n",
            "Epoch 85\n"
          ]
        },
        {
          "output_type": "stream",
          "name": "stderr",
          "text": [
            "Train: 100%|##########| 391/391 [00:24<00:00, 15.89batch/s]\n"
          ]
        },
        {
          "output_type": "stream",
          "name": "stdout",
          "text": [
            "LR: 1.0000e-02, Train Loss: 0.2345, Train Acc: 0.9197, Train Latency: 24.60s, Memory Usage: 212.38MB\n",
            "Test Loss: 0.3862, Test Acc: 0.8728, Test Latency: 2.67s, Test Memory Usage: 61.86MB\n",
            "\n",
            "Epoch 86\n"
          ]
        },
        {
          "output_type": "stream",
          "name": "stderr",
          "text": [
            "Train: 100%|##########| 391/391 [00:24<00:00, 15.99batch/s]\n"
          ]
        },
        {
          "output_type": "stream",
          "name": "stdout",
          "text": [
            "LR: 1.0000e-02, Train Loss: 0.2258, Train Acc: 0.9228, Train Latency: 24.45s, Memory Usage: 212.38MB\n",
            "Test Loss: 0.4541, Test Acc: 0.8603, Test Latency: 2.67s, Test Memory Usage: 61.86MB\n",
            "\n",
            "Epoch 87\n"
          ]
        },
        {
          "output_type": "stream",
          "name": "stderr",
          "text": [
            "Train: 100%|##########| 391/391 [00:24<00:00, 15.98batch/s]\n"
          ]
        },
        {
          "output_type": "stream",
          "name": "stdout",
          "text": [
            "LR: 1.0000e-02, Train Loss: 0.2314, Train Acc: 0.9205, Train Latency: 24.47s, Memory Usage: 212.38MB\n",
            "Test Loss: 0.3974, Test Acc: 0.8726, Test Latency: 2.68s, Test Memory Usage: 61.86MB\n",
            "\n",
            "Epoch 88\n"
          ]
        },
        {
          "output_type": "stream",
          "name": "stderr",
          "text": [
            "Train: 100%|##########| 391/391 [00:24<00:00, 15.92batch/s]\n"
          ]
        },
        {
          "output_type": "stream",
          "name": "stdout",
          "text": [
            "LR: 1.0000e-02, Train Loss: 0.2297, Train Acc: 0.9219, Train Latency: 24.56s, Memory Usage: 212.38MB\n",
            "Test Loss: 0.3925, Test Acc: 0.8706, Test Latency: 2.68s, Test Memory Usage: 61.86MB\n",
            "\n",
            "Epoch 89\n"
          ]
        },
        {
          "output_type": "stream",
          "name": "stderr",
          "text": [
            "Train: 100%|##########| 391/391 [00:24<00:00, 15.97batch/s]\n"
          ]
        },
        {
          "output_type": "stream",
          "name": "stdout",
          "text": [
            "LR: 1.0000e-02, Train Loss: 0.2285, Train Acc: 0.9222, Train Latency: 24.48s, Memory Usage: 212.38MB\n",
            "Test Loss: 0.3994, Test Acc: 0.8723, Test Latency: 2.68s, Test Memory Usage: 61.86MB\n",
            "\n",
            "Epoch 90\n"
          ]
        },
        {
          "output_type": "stream",
          "name": "stderr",
          "text": [
            "Train: 100%|##########| 391/391 [00:24<00:00, 16.06batch/s]\n"
          ]
        },
        {
          "output_type": "stream",
          "name": "stdout",
          "text": [
            "LR: 1.0000e-02, Train Loss: 0.2294, Train Acc: 0.9210, Train Latency: 24.35s, Memory Usage: 212.38MB\n",
            "Test Loss: 0.5096, Test Acc: 0.8381, Test Latency: 2.68s, Test Memory Usage: 77.86MB\n",
            "\n",
            "Epoch 91\n"
          ]
        },
        {
          "output_type": "stream",
          "name": "stderr",
          "text": [
            "Train: 100%|##########| 391/391 [00:24<00:00, 15.90batch/s]\n"
          ]
        },
        {
          "output_type": "stream",
          "name": "stdout",
          "text": [
            "LR: 1.0000e-02, Train Loss: 0.2265, Train Acc: 0.9226, Train Latency: 24.61s, Memory Usage: 212.38MB\n",
            "Test Loss: 0.3568, Test Acc: 0.8779, Test Latency: 2.68s, Test Memory Usage: 61.86MB\n",
            "\n",
            "Epoch 92\n"
          ]
        },
        {
          "output_type": "stream",
          "name": "stderr",
          "text": [
            "Train: 100%|##########| 391/391 [00:24<00:00, 15.98batch/s]\n"
          ]
        },
        {
          "output_type": "stream",
          "name": "stdout",
          "text": [
            "LR: 1.0000e-02, Train Loss: 0.2263, Train Acc: 0.9213, Train Latency: 24.47s, Memory Usage: 212.38MB\n",
            "Test Loss: 0.3625, Test Acc: 0.8820, Test Latency: 2.69s, Test Memory Usage: 61.86MB\n",
            "\n",
            "Epoch 93\n"
          ]
        },
        {
          "output_type": "stream",
          "name": "stderr",
          "text": [
            "Train: 100%|##########| 391/391 [00:24<00:00, 15.99batch/s]\n"
          ]
        },
        {
          "output_type": "stream",
          "name": "stdout",
          "text": [
            "LR: 1.0000e-02, Train Loss: 0.2258, Train Acc: 0.9231, Train Latency: 24.46s, Memory Usage: 212.38MB\n",
            "Test Loss: 0.3593, Test Acc: 0.8831, Test Latency: 2.66s, Test Memory Usage: 61.86MB\n",
            "\n",
            "Epoch 94\n"
          ]
        },
        {
          "output_type": "stream",
          "name": "stderr",
          "text": [
            "Train: 100%|##########| 391/391 [00:24<00:00, 15.99batch/s]\n"
          ]
        },
        {
          "output_type": "stream",
          "name": "stdout",
          "text": [
            "LR: 1.0000e-02, Train Loss: 0.2220, Train Acc: 0.9233, Train Latency: 24.46s, Memory Usage: 212.38MB\n",
            "Test Loss: 0.3974, Test Acc: 0.8674, Test Latency: 2.67s, Test Memory Usage: 61.86MB\n",
            "\n",
            "Epoch 95\n"
          ]
        },
        {
          "output_type": "stream",
          "name": "stderr",
          "text": [
            "Train: 100%|##########| 391/391 [00:24<00:00, 15.92batch/s]\n"
          ]
        },
        {
          "output_type": "stream",
          "name": "stdout",
          "text": [
            "LR: 1.0000e-02, Train Loss: 0.2243, Train Acc: 0.9231, Train Latency: 24.56s, Memory Usage: 212.38MB\n",
            "Test Loss: 0.3862, Test Acc: 0.8692, Test Latency: 2.70s, Test Memory Usage: 61.86MB\n",
            "\n",
            "Epoch 96\n"
          ]
        },
        {
          "output_type": "stream",
          "name": "stderr",
          "text": [
            "Train: 100%|##########| 391/391 [00:24<00:00, 15.83batch/s]\n"
          ]
        },
        {
          "output_type": "stream",
          "name": "stdout",
          "text": [
            "LR: 1.0000e-02, Train Loss: 0.2238, Train Acc: 0.9236, Train Latency: 24.70s, Memory Usage: 212.38MB\n",
            "Test Loss: 0.4280, Test Acc: 0.8594, Test Latency: 2.70s, Test Memory Usage: 61.86MB\n",
            "\n",
            "Epoch 97\n"
          ]
        },
        {
          "output_type": "stream",
          "name": "stderr",
          "text": [
            "Train: 100%|##########| 391/391 [00:24<00:00, 16.03batch/s]\n"
          ]
        },
        {
          "output_type": "stream",
          "name": "stdout",
          "text": [
            "LR: 1.0000e-02, Train Loss: 0.2165, Train Acc: 0.9254, Train Latency: 24.39s, Memory Usage: 212.38MB\n",
            "Test Loss: 0.4618, Test Acc: 0.8512, Test Latency: 2.71s, Test Memory Usage: 61.86MB\n",
            "\n",
            "Epoch 98\n"
          ]
        },
        {
          "output_type": "stream",
          "name": "stderr",
          "text": [
            "Train: 100%|##########| 391/391 [00:24<00:00, 16.04batch/s]\n"
          ]
        },
        {
          "output_type": "stream",
          "name": "stdout",
          "text": [
            "LR: 1.0000e-02, Train Loss: 0.2208, Train Acc: 0.9243, Train Latency: 24.38s, Memory Usage: 212.38MB\n",
            "Test Loss: 0.3458, Test Acc: 0.8853, Test Latency: 2.68s, Test Memory Usage: 61.86MB\n",
            "\n",
            "Epoch 99\n"
          ]
        },
        {
          "output_type": "stream",
          "name": "stderr",
          "text": [
            "Train: 100%|##########| 391/391 [00:24<00:00, 15.85batch/s]\n"
          ]
        },
        {
          "output_type": "stream",
          "name": "stdout",
          "text": [
            "LR: 1.0000e-02, Train Loss: 0.2149, Train Acc: 0.9260, Train Latency: 24.68s, Memory Usage: 212.38MB\n",
            "Test Loss: 0.4309, Test Acc: 0.8607, Test Latency: 2.73s, Test Memory Usage: 61.90MB\n",
            "\n",
            "Epoch 100\n"
          ]
        },
        {
          "output_type": "stream",
          "name": "stderr",
          "text": [
            "Train: 100%|##########| 391/391 [00:24<00:00, 15.93batch/s]\n"
          ]
        },
        {
          "output_type": "stream",
          "name": "stdout",
          "text": [
            "LR: 1.0000e-02, Train Loss: 0.2185, Train Acc: 0.9262, Train Latency: 24.55s, Memory Usage: 212.38MB\n",
            "Test Loss: 0.4907, Test Acc: 0.8376, Test Latency: 2.67s, Test Memory Usage: 61.86MB\n",
            "\n",
            "Epoch 101\n"
          ]
        },
        {
          "output_type": "stream",
          "name": "stderr",
          "text": [
            "Train: 100%|##########| 391/391 [00:24<00:00, 15.95batch/s]\n"
          ]
        },
        {
          "output_type": "stream",
          "name": "stdout",
          "text": [
            "LR: 1.0000e-03, Train Loss: 0.1496, Train Acc: 0.9507, Train Latency: 24.51s, Memory Usage: 212.38MB\n",
            "Test Loss: 0.2538, Test Acc: 0.9147, Test Latency: 2.70s, Test Memory Usage: 61.86MB\n",
            "Saving best model ...\n",
            "\n",
            "Epoch 102\n"
          ]
        },
        {
          "output_type": "stream",
          "name": "stderr",
          "text": [
            "Train: 100%|##########| 391/391 [00:24<00:00, 15.90batch/s]\n"
          ]
        },
        {
          "output_type": "stream",
          "name": "stdout",
          "text": [
            "LR: 1.0000e-03, Train Loss: 0.1259, Train Acc: 0.9605, Train Latency: 24.60s, Memory Usage: 212.38MB\n",
            "Test Loss: 0.2471, Test Acc: 0.9180, Test Latency: 2.72s, Test Memory Usage: 61.86MB\n",
            "Saving best model ...\n",
            "\n",
            "Epoch 103\n"
          ]
        },
        {
          "output_type": "stream",
          "name": "stderr",
          "text": [
            "Train: 100%|##########| 391/391 [00:24<00:00, 15.95batch/s]\n"
          ]
        },
        {
          "output_type": "stream",
          "name": "stdout",
          "text": [
            "LR: 1.0000e-03, Train Loss: 0.1170, Train Acc: 0.9648, Train Latency: 24.52s, Memory Usage: 212.38MB\n",
            "Test Loss: 0.2458, Test Acc: 0.9177, Test Latency: 2.70s, Test Memory Usage: 61.86MB\n",
            "\n",
            "Epoch 104\n"
          ]
        },
        {
          "output_type": "stream",
          "name": "stderr",
          "text": [
            "Train: 100%|##########| 391/391 [00:24<00:00, 15.91batch/s]\n"
          ]
        },
        {
          "output_type": "stream",
          "name": "stdout",
          "text": [
            "LR: 1.0000e-03, Train Loss: 0.1103, Train Acc: 0.9658, Train Latency: 24.58s, Memory Usage: 212.38MB\n",
            "Test Loss: 0.2427, Test Acc: 0.9212, Test Latency: 2.69s, Test Memory Usage: 61.86MB\n",
            "Saving best model ...\n",
            "\n",
            "Epoch 105\n"
          ]
        },
        {
          "output_type": "stream",
          "name": "stderr",
          "text": [
            "Train: 100%|##########| 391/391 [00:24<00:00, 15.65batch/s]\n"
          ]
        },
        {
          "output_type": "stream",
          "name": "stdout",
          "text": [
            "LR: 1.0000e-03, Train Loss: 0.1053, Train Acc: 0.9684, Train Latency: 24.98s, Memory Usage: 212.38MB\n",
            "Test Loss: 0.2416, Test Acc: 0.9188, Test Latency: 2.69s, Test Memory Usage: 61.86MB\n",
            "\n",
            "Epoch 106\n"
          ]
        },
        {
          "output_type": "stream",
          "name": "stderr",
          "text": [
            "Train: 100%|##########| 391/391 [00:24<00:00, 15.88batch/s]\n"
          ]
        },
        {
          "output_type": "stream",
          "name": "stdout",
          "text": [
            "LR: 1.0000e-03, Train Loss: 0.1016, Train Acc: 0.9692, Train Latency: 24.62s, Memory Usage: 212.38MB\n",
            "Test Loss: 0.2408, Test Acc: 0.9212, Test Latency: 2.68s, Test Memory Usage: 61.86MB\n",
            "\n",
            "Epoch 107\n"
          ]
        },
        {
          "output_type": "stream",
          "name": "stderr",
          "text": [
            "Train: 100%|##########| 391/391 [00:24<00:00, 15.76batch/s]\n"
          ]
        },
        {
          "output_type": "stream",
          "name": "stdout",
          "text": [
            "LR: 1.0000e-03, Train Loss: 0.0988, Train Acc: 0.9707, Train Latency: 24.81s, Memory Usage: 212.38MB\n",
            "Test Loss: 0.2422, Test Acc: 0.9203, Test Latency: 2.74s, Test Memory Usage: 61.86MB\n",
            "\n",
            "Epoch 108\n"
          ]
        },
        {
          "output_type": "stream",
          "name": "stderr",
          "text": [
            "Train: 100%|##########| 391/391 [00:24<00:00, 15.77batch/s]\n"
          ]
        },
        {
          "output_type": "stream",
          "name": "stdout",
          "text": [
            "LR: 1.0000e-03, Train Loss: 0.0970, Train Acc: 0.9707, Train Latency: 24.79s, Memory Usage: 212.38MB\n",
            "Test Loss: 0.2469, Test Acc: 0.9170, Test Latency: 2.71s, Test Memory Usage: 66.23MB\n",
            "\n",
            "Epoch 109\n"
          ]
        },
        {
          "output_type": "stream",
          "name": "stderr",
          "text": [
            "Train: 100%|##########| 391/391 [00:24<00:00, 15.80batch/s]\n"
          ]
        },
        {
          "output_type": "stream",
          "name": "stdout",
          "text": [
            "LR: 1.0000e-03, Train Loss: 0.0937, Train Acc: 0.9722, Train Latency: 24.75s, Memory Usage: 212.38MB\n",
            "Test Loss: 0.2395, Test Acc: 0.9217, Test Latency: 2.73s, Test Memory Usage: 61.86MB\n",
            "Saving best model ...\n",
            "\n",
            "Epoch 110\n"
          ]
        },
        {
          "output_type": "stream",
          "name": "stderr",
          "text": [
            "Train: 100%|##########| 391/391 [00:24<00:00, 15.80batch/s]\n"
          ]
        },
        {
          "output_type": "stream",
          "name": "stdout",
          "text": [
            "LR: 1.0000e-03, Train Loss: 0.0904, Train Acc: 0.9728, Train Latency: 24.75s, Memory Usage: 212.38MB\n",
            "Test Loss: 0.2463, Test Acc: 0.9191, Test Latency: 2.70s, Test Memory Usage: 61.86MB\n",
            "\n",
            "Epoch 111\n"
          ]
        },
        {
          "output_type": "stream",
          "name": "stderr",
          "text": [
            "Train: 100%|##########| 391/391 [00:24<00:00, 15.91batch/s]\n"
          ]
        },
        {
          "output_type": "stream",
          "name": "stdout",
          "text": [
            "LR: 1.0000e-03, Train Loss: 0.0897, Train Acc: 0.9734, Train Latency: 24.59s, Memory Usage: 212.38MB\n",
            "Test Loss: 0.2462, Test Acc: 0.9215, Test Latency: 2.69s, Test Memory Usage: 61.86MB\n",
            "\n",
            "Epoch 112\n"
          ]
        },
        {
          "output_type": "stream",
          "name": "stderr",
          "text": [
            "Train: 100%|##########| 391/391 [00:24<00:00, 15.86batch/s]\n"
          ]
        },
        {
          "output_type": "stream",
          "name": "stdout",
          "text": [
            "LR: 1.0000e-03, Train Loss: 0.0870, Train Acc: 0.9738, Train Latency: 24.66s, Memory Usage: 212.38MB\n",
            "Test Loss: 0.2439, Test Acc: 0.9194, Test Latency: 2.71s, Test Memory Usage: 77.86MB\n",
            "\n",
            "Epoch 113\n"
          ]
        },
        {
          "output_type": "stream",
          "name": "stderr",
          "text": [
            "Train: 100%|##########| 391/391 [00:24<00:00, 15.89batch/s]\n"
          ]
        },
        {
          "output_type": "stream",
          "name": "stdout",
          "text": [
            "LR: 1.0000e-03, Train Loss: 0.0837, Train Acc: 0.9760, Train Latency: 24.62s, Memory Usage: 212.38MB\n",
            "Test Loss: 0.2417, Test Acc: 0.9205, Test Latency: 2.68s, Test Memory Usage: 61.86MB\n",
            "\n",
            "Epoch 114\n"
          ]
        },
        {
          "output_type": "stream",
          "name": "stderr",
          "text": [
            "Train: 100%|##########| 391/391 [00:24<00:00, 15.91batch/s]\n"
          ]
        },
        {
          "output_type": "stream",
          "name": "stdout",
          "text": [
            "LR: 1.0000e-03, Train Loss: 0.0840, Train Acc: 0.9760, Train Latency: 24.58s, Memory Usage: 212.38MB\n",
            "Test Loss: 0.2429, Test Acc: 0.9211, Test Latency: 2.71s, Test Memory Usage: 61.86MB\n",
            "\n",
            "Epoch 115\n"
          ]
        },
        {
          "output_type": "stream",
          "name": "stderr",
          "text": [
            "Train: 100%|##########| 391/391 [00:24<00:00, 15.86batch/s]\n"
          ]
        },
        {
          "output_type": "stream",
          "name": "stdout",
          "text": [
            "LR: 1.0000e-03, Train Loss: 0.0800, Train Acc: 0.9768, Train Latency: 24.66s, Memory Usage: 212.38MB\n",
            "Test Loss: 0.2506, Test Acc: 0.9205, Test Latency: 2.68s, Test Memory Usage: 61.86MB\n",
            "\n",
            "Epoch 116\n"
          ]
        },
        {
          "output_type": "stream",
          "name": "stderr",
          "text": [
            "Train: 100%|##########| 391/391 [00:24<00:00, 15.90batch/s]\n"
          ]
        },
        {
          "output_type": "stream",
          "name": "stdout",
          "text": [
            "LR: 1.0000e-03, Train Loss: 0.0809, Train Acc: 0.9763, Train Latency: 24.59s, Memory Usage: 212.38MB\n",
            "Test Loss: 0.2536, Test Acc: 0.9170, Test Latency: 2.68s, Test Memory Usage: 66.23MB\n",
            "\n",
            "Epoch 117\n"
          ]
        },
        {
          "output_type": "stream",
          "name": "stderr",
          "text": [
            "Train: 100%|##########| 391/391 [00:24<00:00, 15.85batch/s]\n"
          ]
        },
        {
          "output_type": "stream",
          "name": "stdout",
          "text": [
            "LR: 1.0000e-03, Train Loss: 0.0766, Train Acc: 0.9778, Train Latency: 24.67s, Memory Usage: 212.38MB\n",
            "Test Loss: 0.2492, Test Acc: 0.9201, Test Latency: 2.70s, Test Memory Usage: 61.86MB\n",
            "\n",
            "Epoch 118\n"
          ]
        },
        {
          "output_type": "stream",
          "name": "stderr",
          "text": [
            "Train: 100%|##########| 391/391 [00:24<00:00, 15.90batch/s]\n"
          ]
        },
        {
          "output_type": "stream",
          "name": "stdout",
          "text": [
            "LR: 1.0000e-03, Train Loss: 0.0756, Train Acc: 0.9781, Train Latency: 24.59s, Memory Usage: 212.38MB\n",
            "Test Loss: 0.2497, Test Acc: 0.9203, Test Latency: 2.67s, Test Memory Usage: 61.86MB\n",
            "\n",
            "Epoch 119\n"
          ]
        },
        {
          "output_type": "stream",
          "name": "stderr",
          "text": [
            "Train: 100%|##########| 391/391 [00:24<00:00, 15.89batch/s]\n"
          ]
        },
        {
          "output_type": "stream",
          "name": "stdout",
          "text": [
            "LR: 1.0000e-03, Train Loss: 0.0757, Train Acc: 0.9785, Train Latency: 24.61s, Memory Usage: 212.38MB\n",
            "Test Loss: 0.2464, Test Acc: 0.9218, Test Latency: 2.71s, Test Memory Usage: 61.86MB\n",
            "Saving best model ...\n",
            "\n",
            "Epoch 120\n"
          ]
        },
        {
          "output_type": "stream",
          "name": "stderr",
          "text": [
            "Train: 100%|##########| 391/391 [00:24<00:00, 15.82batch/s]\n"
          ]
        },
        {
          "output_type": "stream",
          "name": "stdout",
          "text": [
            "LR: 1.0000e-03, Train Loss: 0.0744, Train Acc: 0.9787, Train Latency: 24.72s, Memory Usage: 212.38MB\n",
            "Test Loss: 0.2505, Test Acc: 0.9192, Test Latency: 2.71s, Test Memory Usage: 61.86MB\n",
            "\n",
            "Epoch 121\n"
          ]
        },
        {
          "output_type": "stream",
          "name": "stderr",
          "text": [
            "Train: 100%|##########| 391/391 [00:24<00:00, 15.84batch/s]\n"
          ]
        },
        {
          "output_type": "stream",
          "name": "stdout",
          "text": [
            "LR: 1.0000e-03, Train Loss: 0.0732, Train Acc: 0.9795, Train Latency: 24.68s, Memory Usage: 212.38MB\n",
            "Test Loss: 0.2505, Test Acc: 0.9196, Test Latency: 2.74s, Test Memory Usage: 61.86MB\n",
            "\n",
            "Epoch 122\n"
          ]
        },
        {
          "output_type": "stream",
          "name": "stderr",
          "text": [
            "Train: 100%|##########| 391/391 [00:24<00:00, 15.80batch/s]\n"
          ]
        },
        {
          "output_type": "stream",
          "name": "stdout",
          "text": [
            "LR: 1.0000e-03, Train Loss: 0.0718, Train Acc: 0.9797, Train Latency: 24.76s, Memory Usage: 212.38MB\n",
            "Test Loss: 0.2541, Test Acc: 0.9195, Test Latency: 2.69s, Test Memory Usage: 61.86MB\n",
            "\n",
            "Epoch 123\n"
          ]
        },
        {
          "output_type": "stream",
          "name": "stderr",
          "text": [
            "Train: 100%|##########| 391/391 [00:24<00:00, 15.86batch/s]\n"
          ]
        },
        {
          "output_type": "stream",
          "name": "stdout",
          "text": [
            "LR: 1.0000e-03, Train Loss: 0.0715, Train Acc: 0.9792, Train Latency: 24.66s, Memory Usage: 212.38MB\n",
            "Test Loss: 0.2541, Test Acc: 0.9185, Test Latency: 2.69s, Test Memory Usage: 61.86MB\n",
            "\n",
            "Epoch 124\n"
          ]
        },
        {
          "output_type": "stream",
          "name": "stderr",
          "text": [
            "Train: 100%|##########| 391/391 [00:24<00:00, 15.81batch/s]\n"
          ]
        },
        {
          "output_type": "stream",
          "name": "stdout",
          "text": [
            "LR: 1.0000e-03, Train Loss: 0.0698, Train Acc: 0.9802, Train Latency: 24.73s, Memory Usage: 212.38MB\n",
            "Test Loss: 0.2542, Test Acc: 0.9177, Test Latency: 2.68s, Test Memory Usage: 61.86MB\n",
            "\n",
            "Epoch 125\n"
          ]
        },
        {
          "output_type": "stream",
          "name": "stderr",
          "text": [
            "Train: 100%|##########| 391/391 [00:24<00:00, 15.74batch/s]\n"
          ]
        },
        {
          "output_type": "stream",
          "name": "stdout",
          "text": [
            "LR: 1.0000e-03, Train Loss: 0.0680, Train Acc: 0.9812, Train Latency: 24.84s, Memory Usage: 212.38MB\n",
            "Test Loss: 0.2522, Test Acc: 0.9208, Test Latency: 2.73s, Test Memory Usage: 61.86MB\n",
            "\n",
            "Epoch 126\n"
          ]
        },
        {
          "output_type": "stream",
          "name": "stderr",
          "text": [
            "Train: 100%|##########| 391/391 [00:24<00:00, 15.80batch/s]\n"
          ]
        },
        {
          "output_type": "stream",
          "name": "stdout",
          "text": [
            "LR: 1.0000e-03, Train Loss: 0.0672, Train Acc: 0.9819, Train Latency: 24.75s, Memory Usage: 212.38MB\n",
            "Test Loss: 0.2585, Test Acc: 0.9198, Test Latency: 2.69s, Test Memory Usage: 61.86MB\n",
            "\n",
            "Epoch 127\n"
          ]
        },
        {
          "output_type": "stream",
          "name": "stderr",
          "text": [
            "Train: 100%|##########| 391/391 [00:24<00:00, 15.86batch/s]\n"
          ]
        },
        {
          "output_type": "stream",
          "name": "stdout",
          "text": [
            "LR: 1.0000e-03, Train Loss: 0.0671, Train Acc: 0.9813, Train Latency: 24.66s, Memory Usage: 212.38MB\n",
            "Test Loss: 0.2579, Test Acc: 0.9211, Test Latency: 2.69s, Test Memory Usage: 61.86MB\n",
            "\n",
            "Epoch 128\n"
          ]
        },
        {
          "output_type": "stream",
          "name": "stderr",
          "text": [
            "Train: 100%|##########| 391/391 [00:24<00:00, 15.73batch/s]\n"
          ]
        },
        {
          "output_type": "stream",
          "name": "stdout",
          "text": [
            "LR: 1.0000e-03, Train Loss: 0.0657, Train Acc: 0.9820, Train Latency: 24.87s, Memory Usage: 212.38MB\n",
            "Test Loss: 0.2621, Test Acc: 0.9201, Test Latency: 2.71s, Test Memory Usage: 61.86MB\n",
            "\n",
            "Epoch 129\n"
          ]
        },
        {
          "output_type": "stream",
          "name": "stderr",
          "text": [
            "Train: 100%|##########| 391/391 [00:24<00:00, 15.86batch/s]\n"
          ]
        },
        {
          "output_type": "stream",
          "name": "stdout",
          "text": [
            "LR: 1.0000e-03, Train Loss: 0.0647, Train Acc: 0.9819, Train Latency: 24.65s, Memory Usage: 212.38MB\n",
            "Test Loss: 0.2616, Test Acc: 0.9200, Test Latency: 2.70s, Test Memory Usage: 61.86MB\n",
            "\n",
            "Epoch 130\n"
          ]
        },
        {
          "output_type": "stream",
          "name": "stderr",
          "text": [
            "Train: 100%|##########| 391/391 [00:24<00:00, 15.85batch/s]\n"
          ]
        },
        {
          "output_type": "stream",
          "name": "stdout",
          "text": [
            "LR: 1.0000e-03, Train Loss: 0.0634, Train Acc: 0.9825, Train Latency: 24.67s, Memory Usage: 212.38MB\n",
            "Test Loss: 0.2594, Test Acc: 0.9209, Test Latency: 2.68s, Test Memory Usage: 61.86MB\n",
            "\n",
            "Epoch 131\n"
          ]
        },
        {
          "output_type": "stream",
          "name": "stderr",
          "text": [
            "Train: 100%|##########| 391/391 [00:24<00:00, 15.83batch/s]\n"
          ]
        },
        {
          "output_type": "stream",
          "name": "stdout",
          "text": [
            "LR: 1.0000e-03, Train Loss: 0.0632, Train Acc: 0.9823, Train Latency: 24.70s, Memory Usage: 212.38MB\n",
            "Test Loss: 0.2596, Test Acc: 0.9189, Test Latency: 2.69s, Test Memory Usage: 61.86MB\n",
            "\n",
            "Epoch 132\n"
          ]
        },
        {
          "output_type": "stream",
          "name": "stderr",
          "text": [
            "Train: 100%|##########| 391/391 [00:24<00:00, 15.82batch/s]\n"
          ]
        },
        {
          "output_type": "stream",
          "name": "stdout",
          "text": [
            "LR: 1.0000e-03, Train Loss: 0.0620, Train Acc: 0.9830, Train Latency: 24.72s, Memory Usage: 212.38MB\n",
            "Test Loss: 0.2552, Test Acc: 0.9220, Test Latency: 2.68s, Test Memory Usage: 69.86MB\n",
            "Saving best model ...\n",
            "\n",
            "Epoch 133\n"
          ]
        },
        {
          "output_type": "stream",
          "name": "stderr",
          "text": [
            "Train: 100%|##########| 391/391 [00:24<00:00, 15.81batch/s]\n"
          ]
        },
        {
          "output_type": "stream",
          "name": "stdout",
          "text": [
            "LR: 1.0000e-03, Train Loss: 0.0626, Train Acc: 0.9831, Train Latency: 24.74s, Memory Usage: 212.38MB\n",
            "Test Loss: 0.2611, Test Acc: 0.9204, Test Latency: 2.71s, Test Memory Usage: 61.86MB\n",
            "\n",
            "Epoch 134\n"
          ]
        },
        {
          "output_type": "stream",
          "name": "stderr",
          "text": [
            "Train: 100%|##########| 391/391 [00:24<00:00, 15.72batch/s]\n"
          ]
        },
        {
          "output_type": "stream",
          "name": "stdout",
          "text": [
            "LR: 1.0000e-03, Train Loss: 0.0622, Train Acc: 0.9822, Train Latency: 24.88s, Memory Usage: 212.38MB\n",
            "Test Loss: 0.2649, Test Acc: 0.9193, Test Latency: 2.70s, Test Memory Usage: 61.86MB\n",
            "\n",
            "Epoch 135\n"
          ]
        },
        {
          "output_type": "stream",
          "name": "stderr",
          "text": [
            "Train: 100%|##########| 391/391 [00:24<00:00, 15.73batch/s]\n"
          ]
        },
        {
          "output_type": "stream",
          "name": "stdout",
          "text": [
            "LR: 1.0000e-03, Train Loss: 0.0600, Train Acc: 0.9835, Train Latency: 24.86s, Memory Usage: 212.38MB\n",
            "Test Loss: 0.2578, Test Acc: 0.9206, Test Latency: 2.70s, Test Memory Usage: 61.86MB\n",
            "\n",
            "Epoch 136\n"
          ]
        },
        {
          "output_type": "stream",
          "name": "stderr",
          "text": [
            "Train: 100%|##########| 391/391 [00:24<00:00, 15.87batch/s]\n"
          ]
        },
        {
          "output_type": "stream",
          "name": "stdout",
          "text": [
            "LR: 1.0000e-03, Train Loss: 0.0601, Train Acc: 0.9829, Train Latency: 24.64s, Memory Usage: 212.38MB\n",
            "Test Loss: 0.2568, Test Acc: 0.9194, Test Latency: 2.70s, Test Memory Usage: 61.86MB\n",
            "\n",
            "Epoch 137\n"
          ]
        },
        {
          "output_type": "stream",
          "name": "stderr",
          "text": [
            "Train: 100%|##########| 391/391 [00:24<00:00, 15.88batch/s]\n"
          ]
        },
        {
          "output_type": "stream",
          "name": "stdout",
          "text": [
            "LR: 1.0000e-03, Train Loss: 0.0590, Train Acc: 0.9840, Train Latency: 24.63s, Memory Usage: 212.38MB\n",
            "Test Loss: 0.2672, Test Acc: 0.9186, Test Latency: 2.69s, Test Memory Usage: 61.86MB\n",
            "\n",
            "Epoch 138\n"
          ]
        },
        {
          "output_type": "stream",
          "name": "stderr",
          "text": [
            "Train: 100%|##########| 391/391 [00:24<00:00, 15.82batch/s]\n"
          ]
        },
        {
          "output_type": "stream",
          "name": "stdout",
          "text": [
            "LR: 1.0000e-03, Train Loss: 0.0586, Train Acc: 0.9847, Train Latency: 24.71s, Memory Usage: 212.38MB\n",
            "Test Loss: 0.2630, Test Acc: 0.9193, Test Latency: 2.72s, Test Memory Usage: 61.86MB\n",
            "\n",
            "Epoch 139\n"
          ]
        },
        {
          "output_type": "stream",
          "name": "stderr",
          "text": [
            "Train: 100%|##########| 391/391 [00:24<00:00, 15.91batch/s]\n"
          ]
        },
        {
          "output_type": "stream",
          "name": "stdout",
          "text": [
            "LR: 1.0000e-03, Train Loss: 0.0586, Train Acc: 0.9833, Train Latency: 24.59s, Memory Usage: 212.38MB\n",
            "Test Loss: 0.2626, Test Acc: 0.9183, Test Latency: 2.67s, Test Memory Usage: 61.86MB\n",
            "\n",
            "Epoch 140\n"
          ]
        },
        {
          "output_type": "stream",
          "name": "stderr",
          "text": [
            "Train: 100%|##########| 391/391 [00:24<00:00, 15.82batch/s]\n"
          ]
        },
        {
          "output_type": "stream",
          "name": "stdout",
          "text": [
            "LR: 1.0000e-03, Train Loss: 0.0574, Train Acc: 0.9845, Train Latency: 24.71s, Memory Usage: 212.38MB\n",
            "Test Loss: 0.2612, Test Acc: 0.9195, Test Latency: 2.71s, Test Memory Usage: 61.86MB\n",
            "\n",
            "Epoch 141\n"
          ]
        },
        {
          "output_type": "stream",
          "name": "stderr",
          "text": [
            "Train: 100%|##########| 391/391 [00:24<00:00, 15.80batch/s]\n"
          ]
        },
        {
          "output_type": "stream",
          "name": "stdout",
          "text": [
            "LR: 1.0000e-03, Train Loss: 0.0567, Train Acc: 0.9843, Train Latency: 24.75s, Memory Usage: 212.38MB\n",
            "Test Loss: 0.2657, Test Acc: 0.9183, Test Latency: 2.71s, Test Memory Usage: 61.86MB\n",
            "\n",
            "Epoch 142\n"
          ]
        },
        {
          "output_type": "stream",
          "name": "stderr",
          "text": [
            "Train: 100%|##########| 391/391 [00:24<00:00, 15.82batch/s]\n"
          ]
        },
        {
          "output_type": "stream",
          "name": "stdout",
          "text": [
            "LR: 1.0000e-03, Train Loss: 0.0561, Train Acc: 0.9846, Train Latency: 24.72s, Memory Usage: 212.38MB\n",
            "Test Loss: 0.2653, Test Acc: 0.9199, Test Latency: 2.71s, Test Memory Usage: 61.86MB\n",
            "\n",
            "Epoch 143\n"
          ]
        },
        {
          "output_type": "stream",
          "name": "stderr",
          "text": [
            "Train: 100%|##########| 391/391 [00:24<00:00, 15.65batch/s]\n"
          ]
        },
        {
          "output_type": "stream",
          "name": "stdout",
          "text": [
            "LR: 1.0000e-03, Train Loss: 0.0559, Train Acc: 0.9852, Train Latency: 24.99s, Memory Usage: 212.38MB\n",
            "Test Loss: 0.2661, Test Acc: 0.9208, Test Latency: 2.69s, Test Memory Usage: 61.86MB\n",
            "\n",
            "Epoch 144\n"
          ]
        },
        {
          "output_type": "stream",
          "name": "stderr",
          "text": [
            "Train: 100%|##########| 391/391 [00:24<00:00, 15.74batch/s]\n"
          ]
        },
        {
          "output_type": "stream",
          "name": "stdout",
          "text": [
            "LR: 1.0000e-03, Train Loss: 0.0551, Train Acc: 0.9854, Train Latency: 24.84s, Memory Usage: 212.38MB\n",
            "Test Loss: 0.2746, Test Acc: 0.9173, Test Latency: 2.70s, Test Memory Usage: 61.86MB\n",
            "\n",
            "Epoch 145\n"
          ]
        },
        {
          "output_type": "stream",
          "name": "stderr",
          "text": [
            "Train: 100%|##########| 391/391 [00:24<00:00, 15.85batch/s]\n"
          ]
        },
        {
          "output_type": "stream",
          "name": "stdout",
          "text": [
            "LR: 1.0000e-03, Train Loss: 0.0543, Train Acc: 0.9854, Train Latency: 24.67s, Memory Usage: 212.38MB\n",
            "Test Loss: 0.2585, Test Acc: 0.9205, Test Latency: 2.72s, Test Memory Usage: 61.86MB\n",
            "\n",
            "Epoch 146\n"
          ]
        },
        {
          "output_type": "stream",
          "name": "stderr",
          "text": [
            "Train: 100%|##########| 391/391 [00:24<00:00, 15.76batch/s]\n"
          ]
        },
        {
          "output_type": "stream",
          "name": "stdout",
          "text": [
            "LR: 1.0000e-03, Train Loss: 0.0536, Train Acc: 0.9858, Train Latency: 24.81s, Memory Usage: 212.38MB\n",
            "Test Loss: 0.2649, Test Acc: 0.9206, Test Latency: 2.73s, Test Memory Usage: 61.86MB\n",
            "\n",
            "Epoch 147\n"
          ]
        },
        {
          "output_type": "stream",
          "name": "stderr",
          "text": [
            "Train: 100%|##########| 391/391 [00:24<00:00, 15.73batch/s]\n"
          ]
        },
        {
          "output_type": "stream",
          "name": "stdout",
          "text": [
            "LR: 1.0000e-03, Train Loss: 0.0538, Train Acc: 0.9859, Train Latency: 24.86s, Memory Usage: 212.38MB\n",
            "Test Loss: 0.2779, Test Acc: 0.9189, Test Latency: 2.70s, Test Memory Usage: 61.86MB\n",
            "\n",
            "Epoch 148\n"
          ]
        },
        {
          "output_type": "stream",
          "name": "stderr",
          "text": [
            "Train: 100%|##########| 391/391 [00:24<00:00, 15.85batch/s]\n"
          ]
        },
        {
          "output_type": "stream",
          "name": "stdout",
          "text": [
            "LR: 1.0000e-03, Train Loss: 0.0531, Train Acc: 0.9856, Train Latency: 24.68s, Memory Usage: 212.38MB\n",
            "Test Loss: 0.2704, Test Acc: 0.9194, Test Latency: 2.69s, Test Memory Usage: 61.86MB\n",
            "\n",
            "Epoch 149\n"
          ]
        },
        {
          "output_type": "stream",
          "name": "stderr",
          "text": [
            "Train: 100%|##########| 391/391 [00:24<00:00, 15.87batch/s]\n"
          ]
        },
        {
          "output_type": "stream",
          "name": "stdout",
          "text": [
            "LR: 1.0000e-03, Train Loss: 0.0520, Train Acc: 0.9868, Train Latency: 24.65s, Memory Usage: 212.38MB\n",
            "Test Loss: 0.2660, Test Acc: 0.9206, Test Latency: 2.66s, Test Memory Usage: 61.86MB\n",
            "\n",
            "Epoch 150\n"
          ]
        },
        {
          "output_type": "stream",
          "name": "stderr",
          "text": [
            "Train: 100%|##########| 391/391 [00:24<00:00, 15.81batch/s]\n"
          ]
        },
        {
          "output_type": "stream",
          "name": "stdout",
          "text": [
            "LR: 1.0000e-03, Train Loss: 0.0521, Train Acc: 0.9865, Train Latency: 24.74s, Memory Usage: 212.38MB\n",
            "Test Loss: 0.2697, Test Acc: 0.9193, Test Latency: 2.70s, Test Memory Usage: 61.86MB\n",
            "\n",
            "Epoch 151\n"
          ]
        },
        {
          "output_type": "stream",
          "name": "stderr",
          "text": [
            "Train: 100%|##########| 391/391 [00:24<00:00, 15.84batch/s]\n"
          ]
        },
        {
          "output_type": "stream",
          "name": "stdout",
          "text": [
            "LR: 1.0000e-04, Train Loss: 0.0463, Train Acc: 0.9888, Train Latency: 24.69s, Memory Usage: 212.38MB\n",
            "Test Loss: 0.2646, Test Acc: 0.9210, Test Latency: 2.70s, Test Memory Usage: 61.86MB\n",
            "\n",
            "Epoch 152\n"
          ]
        },
        {
          "output_type": "stream",
          "name": "stderr",
          "text": [
            "Train: 100%|##########| 391/391 [00:24<00:00, 15.69batch/s]\n"
          ]
        },
        {
          "output_type": "stream",
          "name": "stdout",
          "text": [
            "LR: 1.0000e-04, Train Loss: 0.0437, Train Acc: 0.9899, Train Latency: 24.93s, Memory Usage: 212.38MB\n",
            "Test Loss: 0.2632, Test Acc: 0.9212, Test Latency: 2.74s, Test Memory Usage: 61.86MB\n",
            "\n",
            "Epoch 153\n"
          ]
        },
        {
          "output_type": "stream",
          "name": "stderr",
          "text": [
            "Train: 100%|##########| 391/391 [00:25<00:00, 15.62batch/s]\n"
          ]
        },
        {
          "output_type": "stream",
          "name": "stdout",
          "text": [
            "LR: 1.0000e-04, Train Loss: 0.0436, Train Acc: 0.9901, Train Latency: 25.03s, Memory Usage: 212.38MB\n",
            "Test Loss: 0.2633, Test Acc: 0.9213, Test Latency: 2.70s, Test Memory Usage: 61.86MB\n",
            "\n",
            "Epoch 154\n"
          ]
        },
        {
          "output_type": "stream",
          "name": "stderr",
          "text": [
            "Train: 100%|##########| 391/391 [00:24<00:00, 15.79batch/s]\n"
          ]
        },
        {
          "output_type": "stream",
          "name": "stdout",
          "text": [
            "LR: 1.0000e-04, Train Loss: 0.0421, Train Acc: 0.9906, Train Latency: 24.76s, Memory Usage: 212.38MB\n",
            "Test Loss: 0.2618, Test Acc: 0.9214, Test Latency: 2.72s, Test Memory Usage: 61.86MB\n",
            "\n",
            "Epoch 155\n"
          ]
        },
        {
          "output_type": "stream",
          "name": "stderr",
          "text": [
            "Train: 100%|##########| 391/391 [00:24<00:00, 15.68batch/s]\n"
          ]
        },
        {
          "output_type": "stream",
          "name": "stdout",
          "text": [
            "LR: 1.0000e-04, Train Loss: 0.0427, Train Acc: 0.9900, Train Latency: 24.93s, Memory Usage: 212.38MB\n",
            "Test Loss: 0.2610, Test Acc: 0.9223, Test Latency: 2.77s, Test Memory Usage: 61.86MB\n",
            "Saving best model ...\n",
            "\n",
            "Epoch 156\n"
          ]
        },
        {
          "output_type": "stream",
          "name": "stderr",
          "text": [
            "Train: 100%|##########| 391/391 [00:24<00:00, 15.73batch/s]\n"
          ]
        },
        {
          "output_type": "stream",
          "name": "stdout",
          "text": [
            "LR: 1.0000e-04, Train Loss: 0.0429, Train Acc: 0.9899, Train Latency: 24.87s, Memory Usage: 212.38MB\n",
            "Test Loss: 0.2628, Test Acc: 0.9215, Test Latency: 2.68s, Test Memory Usage: 61.86MB\n",
            "\n",
            "Epoch 157\n"
          ]
        },
        {
          "output_type": "stream",
          "name": "stderr",
          "text": [
            "Train: 100%|##########| 391/391 [00:24<00:00, 15.74batch/s]\n"
          ]
        },
        {
          "output_type": "stream",
          "name": "stdout",
          "text": [
            "LR: 1.0000e-04, Train Loss: 0.0403, Train Acc: 0.9911, Train Latency: 24.84s, Memory Usage: 212.38MB\n",
            "Test Loss: 0.2617, Test Acc: 0.9215, Test Latency: 2.72s, Test Memory Usage: 61.86MB\n",
            "\n",
            "Epoch 158\n"
          ]
        },
        {
          "output_type": "stream",
          "name": "stderr",
          "text": [
            "Train: 100%|##########| 391/391 [00:24<00:00, 15.70batch/s]\n"
          ]
        },
        {
          "output_type": "stream",
          "name": "stdout",
          "text": [
            "LR: 1.0000e-04, Train Loss: 0.0413, Train Acc: 0.9906, Train Latency: 24.91s, Memory Usage: 212.38MB\n",
            "Test Loss: 0.2636, Test Acc: 0.9224, Test Latency: 2.69s, Test Memory Usage: 61.86MB\n",
            "Saving best model ...\n",
            "\n",
            "Epoch 159\n"
          ]
        },
        {
          "output_type": "stream",
          "name": "stderr",
          "text": [
            "Train: 100%|##########| 391/391 [00:24<00:00, 15.78batch/s]\n"
          ]
        },
        {
          "output_type": "stream",
          "name": "stdout",
          "text": [
            "LR: 1.0000e-04, Train Loss: 0.0414, Train Acc: 0.9909, Train Latency: 24.79s, Memory Usage: 212.38MB\n",
            "Test Loss: 0.2632, Test Acc: 0.9224, Test Latency: 2.70s, Test Memory Usage: 61.86MB\n",
            "\n",
            "Epoch 160\n"
          ]
        },
        {
          "output_type": "stream",
          "name": "stderr",
          "text": [
            "Train: 100%|##########| 391/391 [00:24<00:00, 15.71batch/s]\n"
          ]
        },
        {
          "output_type": "stream",
          "name": "stdout",
          "text": [
            "LR: 1.0000e-04, Train Loss: 0.0403, Train Acc: 0.9912, Train Latency: 24.89s, Memory Usage: 212.38MB\n",
            "Test Loss: 0.2632, Test Acc: 0.9225, Test Latency: 2.72s, Test Memory Usage: 61.86MB\n",
            "Saving best model ...\n",
            "\n",
            "Epoch 161\n"
          ]
        },
        {
          "output_type": "stream",
          "name": "stderr",
          "text": [
            "Train: 100%|##########| 391/391 [00:24<00:00, 15.67batch/s]\n"
          ]
        },
        {
          "output_type": "stream",
          "name": "stdout",
          "text": [
            "LR: 1.0000e-04, Train Loss: 0.0407, Train Acc: 0.9908, Train Latency: 24.95s, Memory Usage: 212.38MB\n",
            "Test Loss: 0.2630, Test Acc: 0.9215, Test Latency: 2.70s, Test Memory Usage: 61.86MB\n",
            "\n",
            "Epoch 162\n"
          ]
        },
        {
          "output_type": "stream",
          "name": "stderr",
          "text": [
            "Train: 100%|##########| 391/391 [00:24<00:00, 15.75batch/s]\n"
          ]
        },
        {
          "output_type": "stream",
          "name": "stdout",
          "text": [
            "LR: 1.0000e-04, Train Loss: 0.0400, Train Acc: 0.9911, Train Latency: 24.83s, Memory Usage: 212.38MB\n",
            "Test Loss: 0.2631, Test Acc: 0.9216, Test Latency: 2.71s, Test Memory Usage: 61.86MB\n",
            "\n",
            "Epoch 163\n"
          ]
        },
        {
          "output_type": "stream",
          "name": "stderr",
          "text": [
            "Train: 100%|##########| 391/391 [00:24<00:00, 15.84batch/s]\n"
          ]
        },
        {
          "output_type": "stream",
          "name": "stdout",
          "text": [
            "LR: 1.0000e-04, Train Loss: 0.0401, Train Acc: 0.9911, Train Latency: 24.68s, Memory Usage: 212.38MB\n",
            "Test Loss: 0.2613, Test Acc: 0.9224, Test Latency: 2.75s, Test Memory Usage: 61.86MB\n",
            "\n",
            "Epoch 164\n"
          ]
        },
        {
          "output_type": "stream",
          "name": "stderr",
          "text": [
            "Train: 100%|##########| 391/391 [00:24<00:00, 15.92batch/s]\n"
          ]
        },
        {
          "output_type": "stream",
          "name": "stdout",
          "text": [
            "LR: 1.0000e-04, Train Loss: 0.0388, Train Acc: 0.9918, Train Latency: 24.56s, Memory Usage: 212.38MB\n",
            "Test Loss: 0.2651, Test Acc: 0.9218, Test Latency: 2.69s, Test Memory Usage: 66.23MB\n",
            "\n",
            "Epoch 165\n"
          ]
        },
        {
          "output_type": "stream",
          "name": "stderr",
          "text": [
            "Train: 100%|##########| 391/391 [00:24<00:00, 15.79batch/s]\n"
          ]
        },
        {
          "output_type": "stream",
          "name": "stdout",
          "text": [
            "LR: 1.0000e-04, Train Loss: 0.0395, Train Acc: 0.9918, Train Latency: 24.77s, Memory Usage: 212.38MB\n",
            "Test Loss: 0.2636, Test Acc: 0.9212, Test Latency: 2.70s, Test Memory Usage: 61.86MB\n",
            "\n",
            "Epoch 166\n"
          ]
        },
        {
          "output_type": "stream",
          "name": "stderr",
          "text": [
            "Train: 100%|##########| 391/391 [00:24<00:00, 15.75batch/s]\n"
          ]
        },
        {
          "output_type": "stream",
          "name": "stdout",
          "text": [
            "LR: 1.0000e-04, Train Loss: 0.0394, Train Acc: 0.9917, Train Latency: 24.82s, Memory Usage: 212.38MB\n",
            "Test Loss: 0.2636, Test Acc: 0.9218, Test Latency: 2.69s, Test Memory Usage: 61.86MB\n",
            "\n",
            "Epoch 167\n"
          ]
        },
        {
          "output_type": "stream",
          "name": "stderr",
          "text": [
            "Train: 100%|##########| 391/391 [00:24<00:00, 15.85batch/s]\n"
          ]
        },
        {
          "output_type": "stream",
          "name": "stdout",
          "text": [
            "LR: 1.0000e-04, Train Loss: 0.0393, Train Acc: 0.9915, Train Latency: 24.68s, Memory Usage: 212.38MB\n",
            "Test Loss: 0.2660, Test Acc: 0.9221, Test Latency: 2.70s, Test Memory Usage: 61.86MB\n",
            "\n",
            "Epoch 168\n"
          ]
        },
        {
          "output_type": "stream",
          "name": "stderr",
          "text": [
            "Train: 100%|##########| 391/391 [00:24<00:00, 15.78batch/s]\n"
          ]
        },
        {
          "output_type": "stream",
          "name": "stdout",
          "text": [
            "LR: 1.0000e-04, Train Loss: 0.0396, Train Acc: 0.9914, Train Latency: 24.78s, Memory Usage: 212.38MB\n",
            "Test Loss: 0.2642, Test Acc: 0.9226, Test Latency: 2.78s, Test Memory Usage: 61.86MB\n",
            "Saving best model ...\n",
            "\n",
            "Epoch 169\n"
          ]
        },
        {
          "output_type": "stream",
          "name": "stderr",
          "text": [
            "Train: 100%|##########| 391/391 [00:24<00:00, 15.65batch/s]\n"
          ]
        },
        {
          "output_type": "stream",
          "name": "stdout",
          "text": [
            "LR: 1.0000e-04, Train Loss: 0.0392, Train Acc: 0.9915, Train Latency: 24.98s, Memory Usage: 212.38MB\n",
            "Test Loss: 0.2627, Test Acc: 0.9221, Test Latency: 2.70s, Test Memory Usage: 61.86MB\n",
            "\n",
            "Epoch 170\n"
          ]
        },
        {
          "output_type": "stream",
          "name": "stderr",
          "text": [
            "Train: 100%|##########| 391/391 [00:24<00:00, 15.76batch/s]\n"
          ]
        },
        {
          "output_type": "stream",
          "name": "stdout",
          "text": [
            "LR: 1.0000e-04, Train Loss: 0.0399, Train Acc: 0.9915, Train Latency: 24.81s, Memory Usage: 212.38MB\n",
            "Test Loss: 0.2622, Test Acc: 0.9218, Test Latency: 2.72s, Test Memory Usage: 61.86MB\n",
            "\n",
            "Epoch 171\n"
          ]
        },
        {
          "output_type": "stream",
          "name": "stderr",
          "text": [
            "Train: 100%|##########| 391/391 [00:24<00:00, 15.73batch/s]\n"
          ]
        },
        {
          "output_type": "stream",
          "name": "stdout",
          "text": [
            "LR: 1.0000e-04, Train Loss: 0.0403, Train Acc: 0.9905, Train Latency: 24.86s, Memory Usage: 212.38MB\n",
            "Test Loss: 0.2661, Test Acc: 0.9215, Test Latency: 2.71s, Test Memory Usage: 61.86MB\n",
            "\n",
            "Epoch 172\n"
          ]
        },
        {
          "output_type": "stream",
          "name": "stderr",
          "text": [
            "Train: 100%|##########| 391/391 [00:24<00:00, 15.85batch/s]\n"
          ]
        },
        {
          "output_type": "stream",
          "name": "stdout",
          "text": [
            "LR: 1.0000e-04, Train Loss: 0.0392, Train Acc: 0.9911, Train Latency: 24.67s, Memory Usage: 212.38MB\n",
            "Test Loss: 0.2640, Test Acc: 0.9216, Test Latency: 2.71s, Test Memory Usage: 69.86MB\n",
            "\n",
            "Epoch 173\n"
          ]
        },
        {
          "output_type": "stream",
          "name": "stderr",
          "text": [
            "Train: 100%|##########| 391/391 [00:24<00:00, 15.85batch/s]\n"
          ]
        },
        {
          "output_type": "stream",
          "name": "stdout",
          "text": [
            "LR: 1.0000e-04, Train Loss: 0.0393, Train Acc: 0.9912, Train Latency: 24.68s, Memory Usage: 212.38MB\n",
            "Test Loss: 0.2625, Test Acc: 0.9221, Test Latency: 2.67s, Test Memory Usage: 61.86MB\n",
            "\n",
            "Epoch 174\n"
          ]
        },
        {
          "output_type": "stream",
          "name": "stderr",
          "text": [
            "Train: 100%|##########| 391/391 [00:24<00:00, 15.84batch/s]\n"
          ]
        },
        {
          "output_type": "stream",
          "name": "stdout",
          "text": [
            "LR: 1.0000e-04, Train Loss: 0.0386, Train Acc: 0.9925, Train Latency: 24.69s, Memory Usage: 212.38MB\n",
            "Test Loss: 0.2618, Test Acc: 0.9224, Test Latency: 2.69s, Test Memory Usage: 61.86MB\n",
            "\n",
            "Epoch 175\n"
          ]
        },
        {
          "output_type": "stream",
          "name": "stderr",
          "text": [
            "Train: 100%|##########| 391/391 [00:24<00:00, 15.91batch/s]\n"
          ]
        },
        {
          "output_type": "stream",
          "name": "stdout",
          "text": [
            "LR: 1.0000e-04, Train Loss: 0.0398, Train Acc: 0.9912, Train Latency: 24.58s, Memory Usage: 212.38MB\n",
            "Test Loss: 0.2629, Test Acc: 0.9213, Test Latency: 2.68s, Test Memory Usage: 61.86MB\n",
            "\n",
            "Epoch 176\n"
          ]
        },
        {
          "output_type": "stream",
          "name": "stderr",
          "text": [
            "Train: 100%|##########| 391/391 [00:24<00:00, 15.81batch/s]\n"
          ]
        },
        {
          "output_type": "stream",
          "name": "stdout",
          "text": [
            "LR: 1.0000e-04, Train Loss: 0.0385, Train Acc: 0.9916, Train Latency: 24.74s, Memory Usage: 212.38MB\n",
            "Test Loss: 0.2668, Test Acc: 0.9204, Test Latency: 2.70s, Test Memory Usage: 61.86MB\n",
            "\n",
            "Epoch 177\n"
          ]
        },
        {
          "output_type": "stream",
          "name": "stderr",
          "text": [
            "Train: 100%|##########| 391/391 [00:24<00:00, 15.83batch/s]\n"
          ]
        },
        {
          "output_type": "stream",
          "name": "stdout",
          "text": [
            "LR: 1.0000e-04, Train Loss: 0.0387, Train Acc: 0.9918, Train Latency: 24.71s, Memory Usage: 212.38MB\n",
            "Test Loss: 0.2660, Test Acc: 0.9207, Test Latency: 2.70s, Test Memory Usage: 61.86MB\n",
            "\n",
            "Epoch 178\n"
          ]
        },
        {
          "output_type": "stream",
          "name": "stderr",
          "text": [
            "Train: 100%|##########| 391/391 [00:24<00:00, 15.82batch/s]\n"
          ]
        },
        {
          "output_type": "stream",
          "name": "stdout",
          "text": [
            "LR: 1.0000e-04, Train Loss: 0.0376, Train Acc: 0.9922, Train Latency: 24.72s, Memory Usage: 212.38MB\n",
            "Test Loss: 0.2657, Test Acc: 0.9213, Test Latency: 2.71s, Test Memory Usage: 61.86MB\n",
            "\n",
            "Epoch 179\n"
          ]
        },
        {
          "output_type": "stream",
          "name": "stderr",
          "text": [
            "Train: 100%|##########| 391/391 [00:24<00:00, 15.84batch/s]\n"
          ]
        },
        {
          "output_type": "stream",
          "name": "stdout",
          "text": [
            "LR: 1.0000e-04, Train Loss: 0.0386, Train Acc: 0.9914, Train Latency: 24.69s, Memory Usage: 212.38MB\n",
            "Test Loss: 0.2652, Test Acc: 0.9218, Test Latency: 2.66s, Test Memory Usage: 61.86MB\n",
            "\n",
            "Epoch 180\n"
          ]
        },
        {
          "output_type": "stream",
          "name": "stderr",
          "text": [
            "Train: 100%|##########| 391/391 [00:24<00:00, 15.83batch/s]\n"
          ]
        },
        {
          "output_type": "stream",
          "name": "stdout",
          "text": [
            "LR: 1.0000e-04, Train Loss: 0.0398, Train Acc: 0.9910, Train Latency: 24.70s, Memory Usage: 212.38MB\n",
            "Test Loss: 0.2661, Test Acc: 0.9214, Test Latency: 2.72s, Test Memory Usage: 61.86MB\n",
            "\n",
            "Epoch 181\n"
          ]
        },
        {
          "output_type": "stream",
          "name": "stderr",
          "text": [
            "Train: 100%|##########| 391/391 [00:24<00:00, 15.89batch/s]\n"
          ]
        },
        {
          "output_type": "stream",
          "name": "stdout",
          "text": [
            "LR: 1.0000e-04, Train Loss: 0.0374, Train Acc: 0.9923, Train Latency: 24.61s, Memory Usage: 212.38MB\n",
            "Test Loss: 0.2664, Test Acc: 0.9217, Test Latency: 2.69s, Test Memory Usage: 61.86MB\n",
            "\n",
            "Epoch 182\n"
          ]
        },
        {
          "output_type": "stream",
          "name": "stderr",
          "text": [
            "Train: 100%|##########| 391/391 [00:24<00:00, 15.93batch/s]\n"
          ]
        },
        {
          "output_type": "stream",
          "name": "stdout",
          "text": [
            "LR: 1.0000e-04, Train Loss: 0.0382, Train Acc: 0.9923, Train Latency: 24.54s, Memory Usage: 212.38MB\n",
            "Test Loss: 0.2676, Test Acc: 0.9214, Test Latency: 2.70s, Test Memory Usage: 61.86MB\n",
            "\n",
            "Epoch 183\n"
          ]
        },
        {
          "output_type": "stream",
          "name": "stderr",
          "text": [
            "Train: 100%|##########| 391/391 [00:25<00:00, 15.62batch/s]\n"
          ]
        },
        {
          "output_type": "stream",
          "name": "stdout",
          "text": [
            "LR: 1.0000e-04, Train Loss: 0.0392, Train Acc: 0.9914, Train Latency: 25.04s, Memory Usage: 212.38MB\n",
            "Test Loss: 0.2663, Test Acc: 0.9221, Test Latency: 2.75s, Test Memory Usage: 61.86MB\n",
            "\n",
            "Epoch 184\n"
          ]
        },
        {
          "output_type": "stream",
          "name": "stderr",
          "text": [
            "Train: 100%|##########| 391/391 [00:25<00:00, 15.55batch/s]\n"
          ]
        },
        {
          "output_type": "stream",
          "name": "stdout",
          "text": [
            "LR: 1.0000e-04, Train Loss: 0.0371, Train Acc: 0.9927, Train Latency: 25.15s, Memory Usage: 212.38MB\n",
            "Test Loss: 0.2650, Test Acc: 0.9220, Test Latency: 2.77s, Test Memory Usage: 61.86MB\n",
            "\n",
            "Epoch 185\n"
          ]
        },
        {
          "output_type": "stream",
          "name": "stderr",
          "text": [
            "Train: 100%|##########| 391/391 [00:24<00:00, 15.69batch/s]\n"
          ]
        },
        {
          "output_type": "stream",
          "name": "stdout",
          "text": [
            "LR: 1.0000e-04, Train Loss: 0.0372, Train Acc: 0.9921, Train Latency: 24.92s, Memory Usage: 212.38MB\n",
            "Test Loss: 0.2684, Test Acc: 0.9210, Test Latency: 2.73s, Test Memory Usage: 61.86MB\n",
            "\n",
            "Epoch 186\n"
          ]
        },
        {
          "output_type": "stream",
          "name": "stderr",
          "text": [
            "Train: 100%|##########| 391/391 [00:24<00:00, 15.79batch/s]\n"
          ]
        },
        {
          "output_type": "stream",
          "name": "stdout",
          "text": [
            "LR: 1.0000e-04, Train Loss: 0.0370, Train Acc: 0.9922, Train Latency: 24.77s, Memory Usage: 212.38MB\n",
            "Test Loss: 0.2653, Test Acc: 0.9224, Test Latency: 2.67s, Test Memory Usage: 61.86MB\n",
            "\n",
            "Epoch 187\n"
          ]
        },
        {
          "output_type": "stream",
          "name": "stderr",
          "text": [
            "Train: 100%|##########| 391/391 [00:24<00:00, 15.77batch/s]\n"
          ]
        },
        {
          "output_type": "stream",
          "name": "stdout",
          "text": [
            "LR: 1.0000e-04, Train Loss: 0.0373, Train Acc: 0.9919, Train Latency: 24.79s, Memory Usage: 212.38MB\n",
            "Test Loss: 0.2644, Test Acc: 0.9218, Test Latency: 2.68s, Test Memory Usage: 61.86MB\n",
            "\n",
            "Epoch 188\n"
          ]
        },
        {
          "output_type": "stream",
          "name": "stderr",
          "text": [
            "Train: 100%|##########| 391/391 [00:24<00:00, 15.70batch/s]\n"
          ]
        },
        {
          "output_type": "stream",
          "name": "stdout",
          "text": [
            "LR: 1.0000e-04, Train Loss: 0.0375, Train Acc: 0.9918, Train Latency: 24.90s, Memory Usage: 212.38MB\n",
            "Test Loss: 0.2647, Test Acc: 0.9216, Test Latency: 2.69s, Test Memory Usage: 61.86MB\n",
            "\n",
            "Epoch 189\n"
          ]
        },
        {
          "output_type": "stream",
          "name": "stderr",
          "text": [
            "Train: 100%|##########| 391/391 [00:24<00:00, 15.77batch/s]\n"
          ]
        },
        {
          "output_type": "stream",
          "name": "stdout",
          "text": [
            "LR: 1.0000e-04, Train Loss: 0.0385, Train Acc: 0.9915, Train Latency: 24.80s, Memory Usage: 212.38MB\n",
            "Test Loss: 0.2647, Test Acc: 0.9227, Test Latency: 2.69s, Test Memory Usage: 61.86MB\n",
            "Saving best model ...\n",
            "\n",
            "Epoch 190\n"
          ]
        },
        {
          "output_type": "stream",
          "name": "stderr",
          "text": [
            "Train: 100%|##########| 391/391 [00:24<00:00, 15.85batch/s]\n"
          ]
        },
        {
          "output_type": "stream",
          "name": "stdout",
          "text": [
            "LR: 1.0000e-04, Train Loss: 0.0372, Train Acc: 0.9919, Train Latency: 24.67s, Memory Usage: 212.38MB\n",
            "Test Loss: 0.2644, Test Acc: 0.9219, Test Latency: 2.70s, Test Memory Usage: 61.86MB\n",
            "\n",
            "Epoch 191\n"
          ]
        },
        {
          "output_type": "stream",
          "name": "stderr",
          "text": [
            "Train: 100%|##########| 391/391 [00:24<00:00, 15.71batch/s]\n"
          ]
        },
        {
          "output_type": "stream",
          "name": "stdout",
          "text": [
            "LR: 1.0000e-04, Train Loss: 0.0375, Train Acc: 0.9920, Train Latency: 24.90s, Memory Usage: 212.38MB\n",
            "Test Loss: 0.2675, Test Acc: 0.9218, Test Latency: 2.68s, Test Memory Usage: 61.86MB\n",
            "\n",
            "Epoch 192\n"
          ]
        },
        {
          "output_type": "stream",
          "name": "stderr",
          "text": [
            "Train: 100%|##########| 391/391 [00:24<00:00, 15.76batch/s]\n"
          ]
        },
        {
          "output_type": "stream",
          "name": "stdout",
          "text": [
            "LR: 1.0000e-04, Train Loss: 0.0373, Train Acc: 0.9918, Train Latency: 24.81s, Memory Usage: 212.38MB\n",
            "Test Loss: 0.2658, Test Acc: 0.9216, Test Latency: 2.74s, Test Memory Usage: 61.86MB\n",
            "\n",
            "Epoch 193\n"
          ]
        },
        {
          "output_type": "stream",
          "name": "stderr",
          "text": [
            "Train: 100%|##########| 391/391 [00:24<00:00, 15.90batch/s]\n"
          ]
        },
        {
          "output_type": "stream",
          "name": "stdout",
          "text": [
            "LR: 1.0000e-04, Train Loss: 0.0375, Train Acc: 0.9921, Train Latency: 24.59s, Memory Usage: 212.38MB\n",
            "Test Loss: 0.2667, Test Acc: 0.9215, Test Latency: 2.70s, Test Memory Usage: 61.86MB\n",
            "\n",
            "Epoch 194\n"
          ]
        },
        {
          "output_type": "stream",
          "name": "stderr",
          "text": [
            "Train: 100%|##########| 391/391 [00:24<00:00, 15.72batch/s]\n"
          ]
        },
        {
          "output_type": "stream",
          "name": "stdout",
          "text": [
            "LR: 1.0000e-04, Train Loss: 0.0383, Train Acc: 0.9916, Train Latency: 24.87s, Memory Usage: 212.38MB\n",
            "Test Loss: 0.2659, Test Acc: 0.9217, Test Latency: 2.70s, Test Memory Usage: 61.86MB\n",
            "\n",
            "Epoch 195\n"
          ]
        },
        {
          "output_type": "stream",
          "name": "stderr",
          "text": [
            "Train: 100%|##########| 391/391 [00:24<00:00, 15.80batch/s]\n"
          ]
        },
        {
          "output_type": "stream",
          "name": "stdout",
          "text": [
            "LR: 1.0000e-04, Train Loss: 0.0368, Train Acc: 0.9923, Train Latency: 24.75s, Memory Usage: 212.38MB\n",
            "Test Loss: 0.2670, Test Acc: 0.9210, Test Latency: 2.67s, Test Memory Usage: 61.86MB\n",
            "\n",
            "Epoch 196\n"
          ]
        },
        {
          "output_type": "stream",
          "name": "stderr",
          "text": [
            "Train: 100%|##########| 391/391 [00:24<00:00, 15.82batch/s]\n"
          ]
        },
        {
          "output_type": "stream",
          "name": "stdout",
          "text": [
            "LR: 1.0000e-04, Train Loss: 0.0369, Train Acc: 0.9920, Train Latency: 24.72s, Memory Usage: 212.38MB\n",
            "Test Loss: 0.2654, Test Acc: 0.9222, Test Latency: 2.71s, Test Memory Usage: 61.86MB\n",
            "\n",
            "Epoch 197\n"
          ]
        },
        {
          "output_type": "stream",
          "name": "stderr",
          "text": [
            "Train: 100%|##########| 391/391 [00:24<00:00, 15.77batch/s]\n"
          ]
        },
        {
          "output_type": "stream",
          "name": "stdout",
          "text": [
            "LR: 1.0000e-04, Train Loss: 0.0367, Train Acc: 0.9924, Train Latency: 24.80s, Memory Usage: 212.38MB\n",
            "Test Loss: 0.2675, Test Acc: 0.9221, Test Latency: 2.70s, Test Memory Usage: 61.86MB\n",
            "\n",
            "Epoch 198\n"
          ]
        },
        {
          "output_type": "stream",
          "name": "stderr",
          "text": [
            "Train: 100%|##########| 391/391 [00:24<00:00, 15.87batch/s]\n"
          ]
        },
        {
          "output_type": "stream",
          "name": "stdout",
          "text": [
            "LR: 1.0000e-04, Train Loss: 0.0364, Train Acc: 0.9922, Train Latency: 24.63s, Memory Usage: 212.38MB\n",
            "Test Loss: 0.2670, Test Acc: 0.9218, Test Latency: 2.73s, Test Memory Usage: 61.86MB\n",
            "\n",
            "Epoch 199\n"
          ]
        },
        {
          "output_type": "stream",
          "name": "stderr",
          "text": [
            "Train: 100%|##########| 391/391 [00:24<00:00, 15.89batch/s]\n"
          ]
        },
        {
          "output_type": "stream",
          "name": "stdout",
          "text": [
            "LR: 1.0000e-04, Train Loss: 0.0375, Train Acc: 0.9916, Train Latency: 24.60s, Memory Usage: 212.38MB\n",
            "Test Loss: 0.2667, Test Acc: 0.9211, Test Latency: 2.68s, Test Memory Usage: 61.86MB\n",
            "\n",
            "Epoch 200\n"
          ]
        },
        {
          "output_type": "stream",
          "name": "stderr",
          "text": [
            "Train: 100%|##########| 391/391 [00:24<00:00, 15.90batch/s]\n"
          ]
        },
        {
          "output_type": "stream",
          "name": "stdout",
          "text": [
            "LR: 1.0000e-04, Train Loss: 0.0358, Train Acc: 0.9928, Train Latency: 24.59s, Memory Usage: 212.38MB\n",
            "Test Loss: 0.2678, Test Acc: 0.9212, Test Latency: 2.69s, Test Memory Usage: 61.86MB\n",
            "Saving final epoch model ...\n"
          ]
        }
      ],
      "source": [
        "model_name = train(w_nbits=None, a_nbits=None, linear=True)"
      ]
    },
    {
      "cell_type": "code",
      "execution_count": 10,
      "metadata": {
        "id": "C9hlLHMbttDN"
      },
      "outputs": [],
      "source": [
        "# analyze_model('resnet20_cifarlinear.pt')"
      ]
    },
    {
      "cell_type": "markdown",
      "metadata": {
        "id": "bn1AOGcCKs3s"
      },
      "source": [
        "# **Weight Quantization**\n",
        "\n",
        "---"
      ]
    },
    {
      "cell_type": "code",
      "execution_count": 11,
      "metadata": {
        "colab": {
          "base_uri": "https://localhost:8080/"
        },
        "id": "i8_reggVOjiG",
        "outputId": "dad4e8f9-51bc-4b82-f038-16f8e21a764e"
      },
      "outputs": [
        {
          "metadata": {
            "tags": null
          },
          "name": "stdout",
          "output_type": "stream",
          "text": [
            "\n",
            "Quantization: weight=3 activation=None linear=True, Using device: cuda\n",
            "\n",
            "Epoch 1\n"
          ]
        },
        {
          "metadata": {
            "tags": null
          },
          "name": "stderr",
          "output_type": "stream",
          "text": [
            "Train: 100%|##########| 391/391 [00:25<00:00, 15.07batch/s]\n"
          ]
        },
        {
          "metadata": {
            "tags": null
          },
          "name": "stdout",
          "output_type": "stream",
          "text": [
            "LR: 1.0000e-01, Train Loss: 1.8193, Train Acc: 0.3517, Train Latency: 25.95s, Memory Usage: 213.40MB\n",
            "Test Loss: 1.7265, Test Acc: 0.4345, Test Latency: 2.97s, Test Memory Usage: 61.86MB\n",
            "\n",
            "Epoch 2\n"
          ]
        },
        {
          "metadata": {
            "tags": null
          },
          "name": "stderr",
          "output_type": "stream",
          "text": [
            "Train: 100%|##########| 391/391 [00:25<00:00, 15.22batch/s]\n"
          ]
        },
        {
          "metadata": {
            "tags": null
          },
          "name": "stdout",
          "output_type": "stream",
          "text": [
            "LR: 1.0000e-01, Train Loss: 1.2687, Train Acc: 0.5382, Train Latency: 25.70s, Memory Usage: 213.40MB\n",
            "Test Loss: 1.4622, Test Acc: 0.5176, Test Latency: 2.93s, Test Memory Usage: 61.86MB\n",
            "\n",
            "Epoch 3\n"
          ]
        },
        {
          "metadata": {
            "tags": null
          },
          "name": "stderr",
          "output_type": "stream",
          "text": [
            "Train: 100%|##########| 391/391 [00:25<00:00, 15.21batch/s]\n"
          ]
        },
        {
          "metadata": {
            "tags": null
          },
          "name": "stdout",
          "output_type": "stream",
          "text": [
            "LR: 1.0000e-01, Train Loss: 1.0676, Train Acc: 0.6180, Train Latency: 25.70s, Memory Usage: 213.40MB\n",
            "Test Loss: 1.2752, Test Acc: 0.5645, Test Latency: 2.91s, Test Memory Usage: 61.86MB\n",
            "\n",
            "Epoch 4\n"
          ]
        },
        {
          "metadata": {
            "tags": null
          },
          "name": "stderr",
          "output_type": "stream",
          "text": [
            "Train: 100%|##########| 391/391 [00:25<00:00, 15.16batch/s]\n"
          ]
        },
        {
          "metadata": {
            "tags": null
          },
          "name": "stdout",
          "output_type": "stream",
          "text": [
            "LR: 1.0000e-01, Train Loss: 0.9237, Train Acc: 0.6748, Train Latency: 25.79s, Memory Usage: 213.40MB\n",
            "Test Loss: 1.9751, Test Acc: 0.4678, Test Latency: 2.91s, Test Memory Usage: 61.86MB\n",
            "\n",
            "Epoch 5\n"
          ]
        },
        {
          "metadata": {
            "tags": null
          },
          "name": "stderr",
          "output_type": "stream",
          "text": [
            "Train: 100%|##########| 391/391 [00:25<00:00, 15.05batch/s]\n"
          ]
        },
        {
          "metadata": {
            "tags": null
          },
          "name": "stdout",
          "output_type": "stream",
          "text": [
            "LR: 1.0000e-01, Train Loss: 0.8481, Train Acc: 0.7050, Train Latency: 25.98s, Memory Usage: 213.40MB\n",
            "Test Loss: 1.8577, Test Acc: 0.5041, Test Latency: 2.93s, Test Memory Usage: 61.86MB\n",
            "\n",
            "Epoch 6\n"
          ]
        },
        {
          "metadata": {
            "tags": null
          },
          "name": "stderr",
          "output_type": "stream",
          "text": [
            "Train: 100%|##########| 391/391 [00:25<00:00, 15.18batch/s]\n"
          ]
        },
        {
          "metadata": {
            "tags": null
          },
          "name": "stdout",
          "output_type": "stream",
          "text": [
            "LR: 1.0000e-01, Train Loss: 0.7989, Train Acc: 0.7238, Train Latency: 25.76s, Memory Usage: 213.40MB\n",
            "Test Loss: 0.8832, Test Acc: 0.6994, Test Latency: 2.93s, Test Memory Usage: 61.86MB\n",
            "\n",
            "Epoch 7\n"
          ]
        },
        {
          "metadata": {
            "tags": null
          },
          "name": "stderr",
          "output_type": "stream",
          "text": [
            "Train: 100%|##########| 391/391 [00:25<00:00, 15.12batch/s]\n"
          ]
        },
        {
          "metadata": {
            "tags": null
          },
          "name": "stdout",
          "output_type": "stream",
          "text": [
            "LR: 1.0000e-01, Train Loss: 0.7647, Train Acc: 0.7350, Train Latency: 25.87s, Memory Usage: 213.40MB\n",
            "Test Loss: 1.0870, Test Acc: 0.6545, Test Latency: 2.95s, Test Memory Usage: 61.86MB\n",
            "\n",
            "Epoch 8\n"
          ]
        },
        {
          "metadata": {
            "tags": null
          },
          "name": "stderr",
          "output_type": "stream",
          "text": [
            "Train: 100%|##########| 391/391 [00:25<00:00, 15.21batch/s]\n"
          ]
        },
        {
          "metadata": {
            "tags": null
          },
          "name": "stdout",
          "output_type": "stream",
          "text": [
            "LR: 1.0000e-01, Train Loss: 0.7518, Train Acc: 0.7407, Train Latency: 25.71s, Memory Usage: 213.40MB\n",
            "Test Loss: 1.1643, Test Acc: 0.6394, Test Latency: 3.01s, Test Memory Usage: 61.86MB\n",
            "\n",
            "Epoch 9\n"
          ]
        },
        {
          "metadata": {
            "tags": null
          },
          "name": "stderr",
          "output_type": "stream",
          "text": [
            "Train: 100%|##########| 391/391 [00:25<00:00, 15.05batch/s]\n"
          ]
        },
        {
          "metadata": {
            "tags": null
          },
          "name": "stdout",
          "output_type": "stream",
          "text": [
            "LR: 1.0000e-01, Train Loss: 0.7382, Train Acc: 0.7454, Train Latency: 25.98s, Memory Usage: 213.40MB\n",
            "Test Loss: 1.0757, Test Acc: 0.6177, Test Latency: 2.94s, Test Memory Usage: 61.86MB\n",
            "\n",
            "Epoch 10\n"
          ]
        },
        {
          "metadata": {
            "tags": null
          },
          "name": "stderr",
          "output_type": "stream",
          "text": [
            "Train: 100%|##########| 391/391 [00:25<00:00, 15.10batch/s]\n"
          ]
        },
        {
          "metadata": {
            "tags": null
          },
          "name": "stdout",
          "output_type": "stream",
          "text": [
            "LR: 1.0000e-01, Train Loss: 0.7131, Train Acc: 0.7533, Train Latency: 25.90s, Memory Usage: 213.40MB\n",
            "Test Loss: 1.1600, Test Acc: 0.6155, Test Latency: 2.98s, Test Memory Usage: 61.86MB\n",
            "\n",
            "Epoch 11\n"
          ]
        },
        {
          "metadata": {
            "tags": null
          },
          "name": "stderr",
          "output_type": "stream",
          "text": [
            "Train: 100%|##########| 391/391 [00:25<00:00, 15.23batch/s]\n"
          ]
        },
        {
          "metadata": {
            "tags": null
          },
          "name": "stdout",
          "output_type": "stream",
          "text": [
            "LR: 1.0000e-01, Train Loss: 0.7053, Train Acc: 0.7577, Train Latency: 25.68s, Memory Usage: 213.40MB\n",
            "Test Loss: 1.1941, Test Acc: 0.6165, Test Latency: 2.94s, Test Memory Usage: 61.86MB\n",
            "\n",
            "Epoch 12\n"
          ]
        },
        {
          "metadata": {
            "tags": null
          },
          "name": "stderr",
          "output_type": "stream",
          "text": [
            "Train: 100%|##########| 391/391 [00:25<00:00, 15.09batch/s]\n"
          ]
        },
        {
          "metadata": {
            "tags": null
          },
          "name": "stdout",
          "output_type": "stream",
          "text": [
            "LR: 1.0000e-01, Train Loss: 0.6975, Train Acc: 0.7620, Train Latency: 25.91s, Memory Usage: 213.40MB\n",
            "Test Loss: 1.2025, Test Acc: 0.6110, Test Latency: 2.92s, Test Memory Usage: 61.86MB\n",
            "\n",
            "Epoch 13\n"
          ]
        },
        {
          "metadata": {
            "tags": null
          },
          "name": "stderr",
          "output_type": "stream",
          "text": [
            "Train: 100%|##########| 391/391 [00:25<00:00, 15.05batch/s]\n"
          ]
        },
        {
          "metadata": {
            "tags": null
          },
          "name": "stdout",
          "output_type": "stream",
          "text": [
            "LR: 1.0000e-01, Train Loss: 0.6939, Train Acc: 0.7600, Train Latency: 25.98s, Memory Usage: 213.40MB\n",
            "Test Loss: 1.4242, Test Acc: 0.5344, Test Latency: 2.98s, Test Memory Usage: 61.86MB\n",
            "\n",
            "Epoch 14\n"
          ]
        },
        {
          "metadata": {
            "tags": null
          },
          "name": "stderr",
          "output_type": "stream",
          "text": [
            "Train: 100%|##########| 391/391 [00:25<00:00, 15.04batch/s]\n"
          ]
        },
        {
          "metadata": {
            "tags": null
          },
          "name": "stdout",
          "output_type": "stream",
          "text": [
            "LR: 1.0000e-01, Train Loss: 0.6924, Train Acc: 0.7623, Train Latency: 25.99s, Memory Usage: 213.40MB\n",
            "Test Loss: 3.3384, Test Acc: 0.3390, Test Latency: 2.92s, Test Memory Usage: 61.86MB\n",
            "\n",
            "Epoch 15\n"
          ]
        },
        {
          "metadata": {
            "tags": null
          },
          "name": "stderr",
          "output_type": "stream",
          "text": [
            "Train: 100%|##########| 391/391 [00:25<00:00, 15.08batch/s]\n"
          ]
        },
        {
          "metadata": {
            "tags": null
          },
          "name": "stdout",
          "output_type": "stream",
          "text": [
            "LR: 1.0000e-01, Train Loss: 0.6873, Train Acc: 0.7639, Train Latency: 25.94s, Memory Usage: 213.40MB\n",
            "Test Loss: 1.3954, Test Acc: 0.5494, Test Latency: 2.94s, Test Memory Usage: 61.86MB\n",
            "\n",
            "Epoch 16\n"
          ]
        },
        {
          "metadata": {
            "tags": null
          },
          "name": "stderr",
          "output_type": "stream",
          "text": [
            "Train: 100%|##########| 391/391 [00:25<00:00, 15.16batch/s]\n"
          ]
        },
        {
          "metadata": {
            "tags": null
          },
          "name": "stdout",
          "output_type": "stream",
          "text": [
            "LR: 1.0000e-01, Train Loss: 0.6786, Train Acc: 0.7676, Train Latency: 25.79s, Memory Usage: 213.40MB\n",
            "Test Loss: 1.1799, Test Acc: 0.6388, Test Latency: 2.95s, Test Memory Usage: 61.86MB\n",
            "\n",
            "Epoch 17\n"
          ]
        },
        {
          "metadata": {
            "tags": null
          },
          "name": "stderr",
          "output_type": "stream",
          "text": [
            "Train: 100%|##########| 391/391 [00:25<00:00, 15.21batch/s]\n"
          ]
        },
        {
          "metadata": {
            "tags": null
          },
          "name": "stdout",
          "output_type": "stream",
          "text": [
            "LR: 1.0000e-01, Train Loss: 0.6771, Train Acc: 0.7657, Train Latency: 25.70s, Memory Usage: 213.40MB\n",
            "Test Loss: 1.1493, Test Acc: 0.6567, Test Latency: 2.93s, Test Memory Usage: 61.86MB\n",
            "\n",
            "Epoch 18\n"
          ]
        },
        {
          "metadata": {
            "tags": null
          },
          "name": "stderr",
          "output_type": "stream",
          "text": [
            "Train: 100%|##########| 391/391 [00:25<00:00, 15.08batch/s]\n"
          ]
        },
        {
          "metadata": {
            "tags": null
          },
          "name": "stdout",
          "output_type": "stream",
          "text": [
            "LR: 1.0000e-01, Train Loss: 0.6787, Train Acc: 0.7681, Train Latency: 25.93s, Memory Usage: 213.40MB\n",
            "Test Loss: 1.0345, Test Acc: 0.6647, Test Latency: 2.94s, Test Memory Usage: 61.86MB\n",
            "\n",
            "Epoch 19\n"
          ]
        },
        {
          "metadata": {
            "tags": null
          },
          "name": "stderr",
          "output_type": "stream",
          "text": [
            "Train: 100%|##########| 391/391 [00:25<00:00, 15.19batch/s]\n"
          ]
        },
        {
          "metadata": {
            "tags": null
          },
          "name": "stdout",
          "output_type": "stream",
          "text": [
            "LR: 1.0000e-01, Train Loss: 0.6768, Train Acc: 0.7664, Train Latency: 25.74s, Memory Usage: 213.40MB\n",
            "Test Loss: 1.0424, Test Acc: 0.6616, Test Latency: 2.94s, Test Memory Usage: 61.86MB\n",
            "\n",
            "Epoch 20\n"
          ]
        },
        {
          "metadata": {
            "tags": null
          },
          "name": "stderr",
          "output_type": "stream",
          "text": [
            "Train: 100%|##########| 391/391 [00:25<00:00, 15.21batch/s]\n"
          ]
        },
        {
          "metadata": {
            "tags": null
          },
          "name": "stdout",
          "output_type": "stream",
          "text": [
            "LR: 1.0000e-01, Train Loss: 0.6670, Train Acc: 0.7699, Train Latency: 25.71s, Memory Usage: 213.40MB\n",
            "Test Loss: 1.0563, Test Acc: 0.6592, Test Latency: 2.93s, Test Memory Usage: 61.86MB\n",
            "\n",
            "Epoch 21\n"
          ]
        },
        {
          "metadata": {
            "tags": null
          },
          "name": "stderr",
          "output_type": "stream",
          "text": [
            "Train: 100%|##########| 391/391 [00:25<00:00, 15.09batch/s]\n"
          ]
        },
        {
          "metadata": {
            "tags": null
          },
          "name": "stdout",
          "output_type": "stream",
          "text": [
            "LR: 1.0000e-01, Train Loss: 0.6655, Train Acc: 0.7722, Train Latency: 25.91s, Memory Usage: 213.40MB\n",
            "Test Loss: 1.3876, Test Acc: 0.5603, Test Latency: 2.97s, Test Memory Usage: 61.86MB\n",
            "\n",
            "Epoch 22\n"
          ]
        },
        {
          "metadata": {
            "tags": null
          },
          "name": "stderr",
          "output_type": "stream",
          "text": [
            "Train: 100%|##########| 391/391 [00:26<00:00, 15.02batch/s]\n"
          ]
        },
        {
          "metadata": {
            "tags": null
          },
          "name": "stdout",
          "output_type": "stream",
          "text": [
            "LR: 1.0000e-01, Train Loss: 0.6719, Train Acc: 0.7688, Train Latency: 26.03s, Memory Usage: 213.40MB\n",
            "Test Loss: 0.9855, Test Acc: 0.6804, Test Latency: 2.90s, Test Memory Usage: 61.86MB\n",
            "\n",
            "Epoch 23\n"
          ]
        },
        {
          "metadata": {
            "tags": null
          },
          "name": "stderr",
          "output_type": "stream",
          "text": [
            "Train: 100%|##########| 391/391 [00:25<00:00, 15.11batch/s]\n"
          ]
        },
        {
          "metadata": {
            "tags": null
          },
          "name": "stdout",
          "output_type": "stream",
          "text": [
            "LR: 1.0000e-01, Train Loss: 0.6750, Train Acc: 0.7670, Train Latency: 25.88s, Memory Usage: 213.40MB\n",
            "Test Loss: 0.9014, Test Acc: 0.6949, Test Latency: 2.95s, Test Memory Usage: 61.86MB\n",
            "\n",
            "Epoch 24\n"
          ]
        },
        {
          "metadata": {
            "tags": null
          },
          "name": "stderr",
          "output_type": "stream",
          "text": [
            "Train: 100%|##########| 391/391 [00:25<00:00, 15.10batch/s]\n"
          ]
        },
        {
          "metadata": {
            "tags": null
          },
          "name": "stdout",
          "output_type": "stream",
          "text": [
            "LR: 1.0000e-01, Train Loss: 0.6674, Train Acc: 0.7697, Train Latency: 25.91s, Memory Usage: 213.40MB\n",
            "Test Loss: 0.9551, Test Acc: 0.7117, Test Latency: 2.94s, Test Memory Usage: 61.86MB\n",
            "\n",
            "Epoch 25\n"
          ]
        },
        {
          "metadata": {
            "tags": null
          },
          "name": "stderr",
          "output_type": "stream",
          "text": [
            "Train: 100%|##########| 391/391 [00:25<00:00, 15.05batch/s]\n"
          ]
        },
        {
          "metadata": {
            "tags": null
          },
          "name": "stdout",
          "output_type": "stream",
          "text": [
            "LR: 1.0000e-01, Train Loss: 0.6665, Train Acc: 0.7702, Train Latency: 25.98s, Memory Usage: 213.40MB\n",
            "Test Loss: 0.8503, Test Acc: 0.7103, Test Latency: 3.02s, Test Memory Usage: 61.86MB\n",
            "\n",
            "Epoch 26\n"
          ]
        },
        {
          "metadata": {
            "tags": null
          },
          "name": "stderr",
          "output_type": "stream",
          "text": [
            "Train: 100%|##########| 391/391 [00:26<00:00, 14.95batch/s]\n"
          ]
        },
        {
          "metadata": {
            "tags": null
          },
          "name": "stdout",
          "output_type": "stream",
          "text": [
            "LR: 1.0000e-01, Train Loss: 0.6628, Train Acc: 0.7745, Train Latency: 26.15s, Memory Usage: 213.40MB\n",
            "Test Loss: 1.2841, Test Acc: 0.6136, Test Latency: 3.05s, Test Memory Usage: 61.86MB\n",
            "\n",
            "Epoch 27\n"
          ]
        },
        {
          "metadata": {
            "tags": null
          },
          "name": "stderr",
          "output_type": "stream",
          "text": [
            "Train: 100%|##########| 391/391 [00:26<00:00, 14.86batch/s]\n"
          ]
        },
        {
          "metadata": {
            "tags": null
          },
          "name": "stdout",
          "output_type": "stream",
          "text": [
            "LR: 1.0000e-01, Train Loss: 0.6578, Train Acc: 0.7746, Train Latency: 26.32s, Memory Usage: 213.40MB\n",
            "Test Loss: 0.8166, Test Acc: 0.7347, Test Latency: 2.96s, Test Memory Usage: 61.86MB\n",
            "\n",
            "Epoch 28\n"
          ]
        },
        {
          "metadata": {
            "tags": null
          },
          "name": "stderr",
          "output_type": "stream",
          "text": [
            "Train: 100%|##########| 391/391 [00:26<00:00, 15.02batch/s]\n"
          ]
        },
        {
          "metadata": {
            "tags": null
          },
          "name": "stdout",
          "output_type": "stream",
          "text": [
            "LR: 1.0000e-01, Train Loss: 0.6701, Train Acc: 0.7684, Train Latency: 26.04s, Memory Usage: 213.40MB\n",
            "Test Loss: 0.9623, Test Acc: 0.6796, Test Latency: 2.97s, Test Memory Usage: 61.86MB\n",
            "\n",
            "Epoch 29\n"
          ]
        },
        {
          "metadata": {
            "tags": null
          },
          "name": "stderr",
          "output_type": "stream",
          "text": [
            "Train: 100%|##########| 391/391 [00:25<00:00, 15.18batch/s]\n"
          ]
        },
        {
          "metadata": {
            "tags": null
          },
          "name": "stdout",
          "output_type": "stream",
          "text": [
            "LR: 1.0000e-01, Train Loss: 0.6589, Train Acc: 0.7728, Train Latency: 25.76s, Memory Usage: 213.40MB\n",
            "Test Loss: 1.5626, Test Acc: 0.5140, Test Latency: 2.92s, Test Memory Usage: 61.86MB\n",
            "\n",
            "Epoch 30\n"
          ]
        },
        {
          "metadata": {
            "tags": null
          },
          "name": "stderr",
          "output_type": "stream",
          "text": [
            "Train: 100%|##########| 391/391 [00:25<00:00, 15.05batch/s]\n"
          ]
        },
        {
          "metadata": {
            "tags": null
          },
          "name": "stdout",
          "output_type": "stream",
          "text": [
            "LR: 1.0000e-01, Train Loss: 0.6603, Train Acc: 0.7712, Train Latency: 25.98s, Memory Usage: 213.40MB\n",
            "Test Loss: 1.0842, Test Acc: 0.6511, Test Latency: 2.95s, Test Memory Usage: 61.86MB\n",
            "\n",
            "Epoch 31\n"
          ]
        },
        {
          "metadata": {
            "tags": null
          },
          "name": "stderr",
          "output_type": "stream",
          "text": [
            "Train: 100%|##########| 391/391 [00:25<00:00, 15.13batch/s]\n"
          ]
        },
        {
          "metadata": {
            "tags": null
          },
          "name": "stdout",
          "output_type": "stream",
          "text": [
            "LR: 1.0000e-01, Train Loss: 0.6595, Train Acc: 0.7720, Train Latency: 25.84s, Memory Usage: 213.40MB\n",
            "Test Loss: 0.8821, Test Acc: 0.7040, Test Latency: 2.91s, Test Memory Usage: 61.86MB\n",
            "\n",
            "Epoch 32\n"
          ]
        },
        {
          "metadata": {
            "tags": null
          },
          "name": "stderr",
          "output_type": "stream",
          "text": [
            "Train: 100%|##########| 391/391 [00:25<00:00, 15.21batch/s]\n"
          ]
        },
        {
          "metadata": {
            "tags": null
          },
          "name": "stdout",
          "output_type": "stream",
          "text": [
            "LR: 1.0000e-01, Train Loss: 0.6532, Train Acc: 0.7743, Train Latency: 25.71s, Memory Usage: 213.40MB\n",
            "Test Loss: 1.1092, Test Acc: 0.6583, Test Latency: 2.93s, Test Memory Usage: 61.86MB\n",
            "\n",
            "Epoch 33\n"
          ]
        },
        {
          "metadata": {
            "tags": null
          },
          "name": "stderr",
          "output_type": "stream",
          "text": [
            "Train: 100%|##########| 391/391 [00:25<00:00, 15.15batch/s]\n"
          ]
        },
        {
          "metadata": {
            "tags": null
          },
          "name": "stdout",
          "output_type": "stream",
          "text": [
            "LR: 1.0000e-01, Train Loss: 0.6465, Train Acc: 0.7779, Train Latency: 25.81s, Memory Usage: 213.40MB\n",
            "Test Loss: 0.8977, Test Acc: 0.7088, Test Latency: 2.99s, Test Memory Usage: 61.86MB\n",
            "\n",
            "Epoch 34\n"
          ]
        },
        {
          "metadata": {
            "tags": null
          },
          "name": "stderr",
          "output_type": "stream",
          "text": [
            "Train: 100%|##########| 391/391 [00:26<00:00, 14.97batch/s]\n"
          ]
        },
        {
          "metadata": {
            "tags": null
          },
          "name": "stdout",
          "output_type": "stream",
          "text": [
            "LR: 1.0000e-01, Train Loss: 0.6472, Train Acc: 0.7779, Train Latency: 26.12s, Memory Usage: 213.40MB\n",
            "Test Loss: 1.3669, Test Acc: 0.5923, Test Latency: 2.98s, Test Memory Usage: 61.88MB\n",
            "\n",
            "Epoch 35\n"
          ]
        },
        {
          "metadata": {
            "tags": null
          },
          "name": "stderr",
          "output_type": "stream",
          "text": [
            "Train: 100%|##########| 391/391 [00:25<00:00, 15.12batch/s]\n"
          ]
        },
        {
          "metadata": {
            "tags": null
          },
          "name": "stdout",
          "output_type": "stream",
          "text": [
            "LR: 1.0000e-01, Train Loss: 0.6542, Train Acc: 0.7741, Train Latency: 25.86s, Memory Usage: 213.40MB\n",
            "Test Loss: 0.7694, Test Acc: 0.7421, Test Latency: 2.99s, Test Memory Usage: 61.86MB\n",
            "\n",
            "Epoch 36\n"
          ]
        },
        {
          "metadata": {
            "tags": null
          },
          "name": "stderr",
          "output_type": "stream",
          "text": [
            "Train: 100%|##########| 391/391 [00:25<00:00, 15.06batch/s]\n"
          ]
        },
        {
          "metadata": {
            "tags": null
          },
          "name": "stdout",
          "output_type": "stream",
          "text": [
            "LR: 1.0000e-01, Train Loss: 0.6545, Train Acc: 0.7738, Train Latency: 25.96s, Memory Usage: 213.40MB\n",
            "Test Loss: 1.1104, Test Acc: 0.6410, Test Latency: 2.96s, Test Memory Usage: 61.86MB\n",
            "\n",
            "Epoch 37\n"
          ]
        },
        {
          "metadata": {
            "tags": null
          },
          "name": "stderr",
          "output_type": "stream",
          "text": [
            "Train: 100%|##########| 391/391 [00:25<00:00, 15.06batch/s]\n"
          ]
        },
        {
          "metadata": {
            "tags": null
          },
          "name": "stdout",
          "output_type": "stream",
          "text": [
            "LR: 1.0000e-01, Train Loss: 0.6557, Train Acc: 0.7748, Train Latency: 25.97s, Memory Usage: 213.40MB\n",
            "Test Loss: 0.9955, Test Acc: 0.6688, Test Latency: 2.96s, Test Memory Usage: 61.86MB\n",
            "\n",
            "Epoch 38\n"
          ]
        },
        {
          "metadata": {
            "tags": null
          },
          "name": "stderr",
          "output_type": "stream",
          "text": [
            "Train: 100%|##########| 391/391 [00:26<00:00, 15.03batch/s]\n"
          ]
        },
        {
          "metadata": {
            "tags": null
          },
          "name": "stdout",
          "output_type": "stream",
          "text": [
            "LR: 1.0000e-01, Train Loss: 0.6586, Train Acc: 0.7727, Train Latency: 26.01s, Memory Usage: 213.40MB\n",
            "Test Loss: 0.8590, Test Acc: 0.7097, Test Latency: 2.92s, Test Memory Usage: 61.86MB\n",
            "\n",
            "Epoch 39\n"
          ]
        },
        {
          "metadata": {
            "tags": null
          },
          "name": "stderr",
          "output_type": "stream",
          "text": [
            "Train: 100%|##########| 391/391 [00:25<00:00, 15.12batch/s]\n"
          ]
        },
        {
          "metadata": {
            "tags": null
          },
          "name": "stdout",
          "output_type": "stream",
          "text": [
            "LR: 1.0000e-01, Train Loss: 0.6576, Train Acc: 0.7746, Train Latency: 25.87s, Memory Usage: 213.40MB\n",
            "Test Loss: 1.0639, Test Acc: 0.6582, Test Latency: 2.93s, Test Memory Usage: 61.86MB\n",
            "\n",
            "Epoch 40\n"
          ]
        },
        {
          "metadata": {
            "tags": null
          },
          "name": "stderr",
          "output_type": "stream",
          "text": [
            "Train: 100%|##########| 391/391 [00:25<00:00, 15.14batch/s]\n"
          ]
        },
        {
          "metadata": {
            "tags": null
          },
          "name": "stdout",
          "output_type": "stream",
          "text": [
            "LR: 1.0000e-01, Train Loss: 0.6487, Train Acc: 0.7758, Train Latency: 25.82s, Memory Usage: 213.40MB\n",
            "Test Loss: 1.6138, Test Acc: 0.5596, Test Latency: 2.93s, Test Memory Usage: 61.86MB\n",
            "\n",
            "Epoch 41\n"
          ]
        },
        {
          "metadata": {
            "tags": null
          },
          "name": "stderr",
          "output_type": "stream",
          "text": [
            "Train: 100%|##########| 391/391 [00:25<00:00, 15.12batch/s]\n"
          ]
        },
        {
          "metadata": {
            "tags": null
          },
          "name": "stdout",
          "output_type": "stream",
          "text": [
            "LR: 1.0000e-01, Train Loss: 0.6507, Train Acc: 0.7754, Train Latency: 25.87s, Memory Usage: 213.40MB\n",
            "Test Loss: 1.7093, Test Acc: 0.4375, Test Latency: 2.95s, Test Memory Usage: 61.86MB\n",
            "\n",
            "Epoch 42\n"
          ]
        },
        {
          "metadata": {
            "tags": null
          },
          "name": "stderr",
          "output_type": "stream",
          "text": [
            "Train: 100%|##########| 391/391 [00:26<00:00, 15.04batch/s]\n"
          ]
        },
        {
          "metadata": {
            "tags": null
          },
          "name": "stdout",
          "output_type": "stream",
          "text": [
            "LR: 1.0000e-01, Train Loss: 0.6469, Train Acc: 0.7800, Train Latency: 26.00s, Memory Usage: 213.40MB\n",
            "Test Loss: 1.0725, Test Acc: 0.6690, Test Latency: 2.94s, Test Memory Usage: 61.86MB\n",
            "\n",
            "Epoch 43\n"
          ]
        },
        {
          "metadata": {
            "tags": null
          },
          "name": "stderr",
          "output_type": "stream",
          "text": [
            "Train: 100%|##########| 391/391 [00:25<00:00, 15.11batch/s]\n"
          ]
        },
        {
          "metadata": {
            "tags": null
          },
          "name": "stdout",
          "output_type": "stream",
          "text": [
            "LR: 1.0000e-01, Train Loss: 0.6611, Train Acc: 0.7743, Train Latency: 25.88s, Memory Usage: 213.40MB\n",
            "Test Loss: 1.2601, Test Acc: 0.6029, Test Latency: 2.92s, Test Memory Usage: 61.86MB\n",
            "\n",
            "Epoch 44\n"
          ]
        },
        {
          "metadata": {
            "tags": null
          },
          "name": "stderr",
          "output_type": "stream",
          "text": [
            "Train: 100%|##########| 391/391 [00:25<00:00, 15.15batch/s]\n"
          ]
        },
        {
          "metadata": {
            "tags": null
          },
          "name": "stdout",
          "output_type": "stream",
          "text": [
            "LR: 1.0000e-01, Train Loss: 0.6452, Train Acc: 0.7787, Train Latency: 25.81s, Memory Usage: 213.40MB\n",
            "Test Loss: 1.5096, Test Acc: 0.5282, Test Latency: 2.96s, Test Memory Usage: 61.86MB\n",
            "\n",
            "Epoch 45\n"
          ]
        },
        {
          "metadata": {
            "tags": null
          },
          "name": "stderr",
          "output_type": "stream",
          "text": [
            "Train: 100%|##########| 391/391 [00:25<00:00, 15.08batch/s]\n"
          ]
        },
        {
          "metadata": {
            "tags": null
          },
          "name": "stdout",
          "output_type": "stream",
          "text": [
            "LR: 1.0000e-01, Train Loss: 0.6599, Train Acc: 0.7749, Train Latency: 25.92s, Memory Usage: 213.40MB\n",
            "Test Loss: 0.8616, Test Acc: 0.7124, Test Latency: 2.95s, Test Memory Usage: 61.86MB\n",
            "\n",
            "Epoch 46\n"
          ]
        },
        {
          "metadata": {
            "tags": null
          },
          "name": "stderr",
          "output_type": "stream",
          "text": [
            "Train: 100%|##########| 391/391 [00:25<00:00, 15.09batch/s]\n"
          ]
        },
        {
          "metadata": {
            "tags": null
          },
          "name": "stdout",
          "output_type": "stream",
          "text": [
            "LR: 1.0000e-01, Train Loss: 0.6477, Train Acc: 0.7804, Train Latency: 25.92s, Memory Usage: 213.40MB\n",
            "Test Loss: 1.8419, Test Acc: 0.5386, Test Latency: 2.98s, Test Memory Usage: 69.86MB\n",
            "\n",
            "Epoch 47\n"
          ]
        },
        {
          "metadata": {
            "tags": null
          },
          "name": "stderr",
          "output_type": "stream",
          "text": [
            "Train: 100%|##########| 391/391 [00:25<00:00, 15.19batch/s]\n"
          ]
        },
        {
          "metadata": {
            "tags": null
          },
          "name": "stdout",
          "output_type": "stream",
          "text": [
            "LR: 1.0000e-01, Train Loss: 0.6521, Train Acc: 0.7757, Train Latency: 25.74s, Memory Usage: 213.40MB\n",
            "Test Loss: 1.1821, Test Acc: 0.6474, Test Latency: 2.94s, Test Memory Usage: 61.86MB\n",
            "\n",
            "Epoch 48\n"
          ]
        },
        {
          "metadata": {
            "tags": null
          },
          "name": "stderr",
          "output_type": "stream",
          "text": [
            "Train: 100%|##########| 391/391 [00:25<00:00, 15.09batch/s]\n"
          ]
        },
        {
          "metadata": {
            "tags": null
          },
          "name": "stdout",
          "output_type": "stream",
          "text": [
            "LR: 1.0000e-01, Train Loss: 0.6528, Train Acc: 0.7755, Train Latency: 25.91s, Memory Usage: 213.40MB\n",
            "Test Loss: 2.5212, Test Acc: 0.4418, Test Latency: 2.94s, Test Memory Usage: 61.86MB\n",
            "\n",
            "Epoch 49\n"
          ]
        },
        {
          "metadata": {
            "tags": null
          },
          "name": "stderr",
          "output_type": "stream",
          "text": [
            "Train: 100%|##########| 391/391 [00:26<00:00, 15.03batch/s]\n"
          ]
        },
        {
          "metadata": {
            "tags": null
          },
          "name": "stdout",
          "output_type": "stream",
          "text": [
            "LR: 1.0000e-01, Train Loss: 0.6486, Train Acc: 0.7786, Train Latency: 26.03s, Memory Usage: 213.40MB\n",
            "Test Loss: 1.0259, Test Acc: 0.6643, Test Latency: 2.95s, Test Memory Usage: 61.86MB\n",
            "\n",
            "Epoch 50\n"
          ]
        },
        {
          "metadata": {
            "tags": null
          },
          "name": "stderr",
          "output_type": "stream",
          "text": [
            "Train: 100%|##########| 391/391 [00:26<00:00, 15.00batch/s]\n"
          ]
        },
        {
          "metadata": {
            "tags": null
          },
          "name": "stdout",
          "output_type": "stream",
          "text": [
            "LR: 1.0000e-01, Train Loss: 0.6539, Train Acc: 0.7746, Train Latency: 26.07s, Memory Usage: 213.40MB\n",
            "Test Loss: 1.2026, Test Acc: 0.6129, Test Latency: 2.95s, Test Memory Usage: 61.86MB\n",
            "\n",
            "Epoch 51\n"
          ]
        },
        {
          "metadata": {
            "tags": null
          },
          "name": "stderr",
          "output_type": "stream",
          "text": [
            "Train: 100%|##########| 391/391 [00:26<00:00, 14.99batch/s]\n"
          ]
        },
        {
          "metadata": {
            "tags": null
          },
          "name": "stdout",
          "output_type": "stream",
          "text": [
            "LR: 1.0000e-02, Train Loss: 0.4683, Train Acc: 0.8395, Train Latency: 26.09s, Memory Usage: 213.40MB\n",
            "Test Loss: 0.4826, Test Acc: 0.8331, Test Latency: 2.94s, Test Memory Usage: 61.86MB\n",
            "Saving best model ...\n",
            "\n",
            "Epoch 52\n"
          ]
        },
        {
          "metadata": {
            "tags": null
          },
          "name": "stderr",
          "output_type": "stream",
          "text": [
            "Train: 100%|##########| 391/391 [00:25<00:00, 15.08batch/s]\n"
          ]
        },
        {
          "metadata": {
            "tags": null
          },
          "name": "stdout",
          "output_type": "stream",
          "text": [
            "LR: 1.0000e-02, Train Loss: 0.4206, Train Acc: 0.8565, Train Latency: 25.93s, Memory Usage: 213.40MB\n",
            "Test Loss: 0.4543, Test Acc: 0.8433, Test Latency: 2.97s, Test Memory Usage: 61.86MB\n",
            "Saving best model ...\n",
            "\n",
            "Epoch 53\n"
          ]
        },
        {
          "metadata": {
            "tags": null
          },
          "name": "stderr",
          "output_type": "stream",
          "text": [
            "Train: 100%|##########| 391/391 [00:26<00:00, 14.88batch/s]\n"
          ]
        },
        {
          "metadata": {
            "tags": null
          },
          "name": "stdout",
          "output_type": "stream",
          "text": [
            "LR: 1.0000e-02, Train Loss: 0.3956, Train Acc: 0.8643, Train Latency: 26.28s, Memory Usage: 213.40MB\n",
            "Test Loss: 0.4401, Test Acc: 0.8469, Test Latency: 3.06s, Test Memory Usage: 61.86MB\n",
            "Saving best model ...\n",
            "\n",
            "Epoch 54\n"
          ]
        },
        {
          "metadata": {
            "tags": null
          },
          "name": "stderr",
          "output_type": "stream",
          "text": [
            "Train: 100%|##########| 391/391 [00:26<00:00, 14.81batch/s]\n"
          ]
        },
        {
          "metadata": {
            "tags": null
          },
          "name": "stdout",
          "output_type": "stream",
          "text": [
            "LR: 1.0000e-02, Train Loss: 0.3839, Train Acc: 0.8676, Train Latency: 26.41s, Memory Usage: 213.40MB\n",
            "Test Loss: 0.4366, Test Acc: 0.8501, Test Latency: 3.00s, Test Memory Usage: 61.86MB\n",
            "Saving best model ...\n",
            "\n",
            "Epoch 55\n"
          ]
        },
        {
          "metadata": {
            "tags": null
          },
          "name": "stderr",
          "output_type": "stream",
          "text": [
            "Train: 100%|##########| 391/391 [00:26<00:00, 14.98batch/s]\n"
          ]
        },
        {
          "metadata": {
            "tags": null
          },
          "name": "stdout",
          "output_type": "stream",
          "text": [
            "LR: 1.0000e-02, Train Loss: 0.3788, Train Acc: 0.8707, Train Latency: 26.11s, Memory Usage: 213.40MB\n",
            "Test Loss: 0.4310, Test Acc: 0.8526, Test Latency: 3.00s, Test Memory Usage: 61.88MB\n",
            "Saving best model ...\n",
            "\n",
            "Epoch 56\n"
          ]
        },
        {
          "metadata": {
            "tags": null
          },
          "name": "stderr",
          "output_type": "stream",
          "text": [
            "Train: 100%|##########| 391/391 [00:26<00:00, 14.91batch/s]\n"
          ]
        },
        {
          "metadata": {
            "tags": null
          },
          "name": "stdout",
          "output_type": "stream",
          "text": [
            "LR: 1.0000e-02, Train Loss: 0.3719, Train Acc: 0.8733, Train Latency: 26.22s, Memory Usage: 213.40MB\n",
            "Test Loss: 0.4280, Test Acc: 0.8510, Test Latency: 3.03s, Test Memory Usage: 61.86MB\n",
            "\n",
            "Epoch 57\n"
          ]
        },
        {
          "metadata": {
            "tags": null
          },
          "name": "stderr",
          "output_type": "stream",
          "text": [
            "Train: 100%|##########| 391/391 [00:26<00:00, 14.90batch/s]\n"
          ]
        },
        {
          "metadata": {
            "tags": null
          },
          "name": "stdout",
          "output_type": "stream",
          "text": [
            "LR: 1.0000e-02, Train Loss: 0.3655, Train Acc: 0.8754, Train Latency: 26.25s, Memory Usage: 213.40MB\n",
            "Test Loss: 0.4332, Test Acc: 0.8486, Test Latency: 2.98s, Test Memory Usage: 61.86MB\n",
            "\n",
            "Epoch 58\n"
          ]
        },
        {
          "metadata": {
            "tags": null
          },
          "name": "stderr",
          "output_type": "stream",
          "text": [
            "Train: 100%|##########| 391/391 [00:26<00:00, 14.91batch/s]\n"
          ]
        },
        {
          "metadata": {
            "tags": null
          },
          "name": "stdout",
          "output_type": "stream",
          "text": [
            "LR: 1.0000e-02, Train Loss: 0.3649, Train Acc: 0.8751, Train Latency: 26.22s, Memory Usage: 213.40MB\n",
            "Test Loss: 0.4566, Test Acc: 0.8440, Test Latency: 2.99s, Test Memory Usage: 61.86MB\n",
            "\n",
            "Epoch 59\n"
          ]
        },
        {
          "metadata": {
            "tags": null
          },
          "name": "stderr",
          "output_type": "stream",
          "text": [
            "Train: 100%|##########| 391/391 [00:26<00:00, 14.91batch/s]\n"
          ]
        },
        {
          "metadata": {
            "tags": null
          },
          "name": "stdout",
          "output_type": "stream",
          "text": [
            "LR: 1.0000e-02, Train Loss: 0.3637, Train Acc: 0.8754, Train Latency: 26.22s, Memory Usage: 213.40MB\n",
            "Test Loss: 0.4241, Test Acc: 0.8521, Test Latency: 3.03s, Test Memory Usage: 61.86MB\n",
            "\n",
            "Epoch 60\n"
          ]
        },
        {
          "metadata": {
            "tags": null
          },
          "name": "stderr",
          "output_type": "stream",
          "text": [
            "Train: 100%|##########| 391/391 [00:26<00:00, 14.88batch/s]\n"
          ]
        },
        {
          "metadata": {
            "tags": null
          },
          "name": "stdout",
          "output_type": "stream",
          "text": [
            "LR: 1.0000e-02, Train Loss: 0.3604, Train Acc: 0.8775, Train Latency: 26.27s, Memory Usage: 213.40MB\n",
            "Test Loss: 0.4920, Test Acc: 0.8345, Test Latency: 3.01s, Test Memory Usage: 61.86MB\n",
            "\n",
            "Epoch 61\n"
          ]
        },
        {
          "metadata": {
            "tags": null
          },
          "name": "stderr",
          "output_type": "stream",
          "text": [
            "Train: 100%|##########| 391/391 [00:26<00:00, 14.84batch/s]\n"
          ]
        },
        {
          "metadata": {
            "tags": null
          },
          "name": "stdout",
          "output_type": "stream",
          "text": [
            "LR: 1.0000e-02, Train Loss: 0.3588, Train Acc: 0.8769, Train Latency: 26.35s, Memory Usage: 213.40MB\n",
            "Test Loss: 0.4630, Test Acc: 0.8401, Test Latency: 3.03s, Test Memory Usage: 61.86MB\n",
            "\n",
            "Epoch 62\n"
          ]
        },
        {
          "metadata": {
            "tags": null
          },
          "name": "stderr",
          "output_type": "stream",
          "text": [
            "Train: 100%|##########| 391/391 [00:26<00:00, 14.91batch/s]\n"
          ]
        },
        {
          "metadata": {
            "tags": null
          },
          "name": "stdout",
          "output_type": "stream",
          "text": [
            "LR: 1.0000e-02, Train Loss: 0.3549, Train Acc: 0.8778, Train Latency: 26.23s, Memory Usage: 213.40MB\n",
            "Test Loss: 0.5254, Test Acc: 0.8153, Test Latency: 3.00s, Test Memory Usage: 61.86MB\n",
            "\n",
            "Epoch 63\n"
          ]
        },
        {
          "metadata": {
            "tags": null
          },
          "name": "stderr",
          "output_type": "stream",
          "text": [
            "Train: 100%|##########| 391/391 [00:26<00:00, 14.82batch/s]\n"
          ]
        },
        {
          "metadata": {
            "tags": null
          },
          "name": "stdout",
          "output_type": "stream",
          "text": [
            "LR: 1.0000e-02, Train Loss: 0.3583, Train Acc: 0.8764, Train Latency: 26.38s, Memory Usage: 213.40MB\n",
            "Test Loss: 0.4398, Test Acc: 0.8530, Test Latency: 3.03s, Test Memory Usage: 61.86MB\n",
            "Saving best model ...\n",
            "\n",
            "Epoch 64\n"
          ]
        },
        {
          "metadata": {
            "tags": null
          },
          "name": "stderr",
          "output_type": "stream",
          "text": [
            "Train: 100%|##########| 391/391 [00:26<00:00, 14.76batch/s]\n"
          ]
        },
        {
          "metadata": {
            "tags": null
          },
          "name": "stdout",
          "output_type": "stream",
          "text": [
            "LR: 1.0000e-02, Train Loss: 0.3580, Train Acc: 0.8776, Train Latency: 26.50s, Memory Usage: 213.40MB\n",
            "Test Loss: 0.5108, Test Acc: 0.8319, Test Latency: 3.02s, Test Memory Usage: 61.86MB\n",
            "\n",
            "Epoch 65\n"
          ]
        },
        {
          "metadata": {
            "tags": null
          },
          "name": "stderr",
          "output_type": "stream",
          "text": [
            "Train: 100%|##########| 391/391 [00:26<00:00, 14.85batch/s]\n"
          ]
        },
        {
          "metadata": {
            "tags": null
          },
          "name": "stdout",
          "output_type": "stream",
          "text": [
            "LR: 1.0000e-02, Train Loss: 0.3551, Train Acc: 0.8778, Train Latency: 26.33s, Memory Usage: 213.40MB\n",
            "Test Loss: 0.5232, Test Acc: 0.8202, Test Latency: 3.04s, Test Memory Usage: 61.86MB\n",
            "\n",
            "Epoch 66\n"
          ]
        },
        {
          "metadata": {
            "tags": null
          },
          "name": "stderr",
          "output_type": "stream",
          "text": [
            "Train: 100%|##########| 391/391 [00:26<00:00, 14.83batch/s]\n"
          ]
        },
        {
          "metadata": {
            "tags": null
          },
          "name": "stdout",
          "output_type": "stream",
          "text": [
            "LR: 1.0000e-02, Train Loss: 0.3498, Train Acc: 0.8801, Train Latency: 26.37s, Memory Usage: 213.40MB\n",
            "Test Loss: 0.4820, Test Acc: 0.8380, Test Latency: 3.00s, Test Memory Usage: 61.86MB\n",
            "\n",
            "Epoch 67\n"
          ]
        },
        {
          "metadata": {
            "tags": null
          },
          "name": "stderr",
          "output_type": "stream",
          "text": [
            "Train: 100%|##########| 391/391 [00:26<00:00, 14.73batch/s]\n"
          ]
        },
        {
          "metadata": {
            "tags": null
          },
          "name": "stdout",
          "output_type": "stream",
          "text": [
            "LR: 1.0000e-02, Train Loss: 0.3586, Train Acc: 0.8783, Train Latency: 26.54s, Memory Usage: 213.40MB\n",
            "Test Loss: 0.5070, Test Acc: 0.8280, Test Latency: 3.01s, Test Memory Usage: 61.86MB\n",
            "\n",
            "Epoch 68\n"
          ]
        },
        {
          "metadata": {
            "tags": null
          },
          "name": "stderr",
          "output_type": "stream",
          "text": [
            "Train: 100%|##########| 391/391 [00:26<00:00, 14.79batch/s]\n"
          ]
        },
        {
          "metadata": {
            "tags": null
          },
          "name": "stdout",
          "output_type": "stream",
          "text": [
            "LR: 1.0000e-02, Train Loss: 0.3545, Train Acc: 0.8781, Train Latency: 26.45s, Memory Usage: 213.40MB\n",
            "Test Loss: 0.4659, Test Acc: 0.8424, Test Latency: 3.03s, Test Memory Usage: 61.86MB\n",
            "\n",
            "Epoch 69\n"
          ]
        },
        {
          "metadata": {
            "tags": null
          },
          "name": "stderr",
          "output_type": "stream",
          "text": [
            "Train: 100%|##########| 391/391 [00:26<00:00, 14.70batch/s]\n"
          ]
        },
        {
          "metadata": {
            "tags": null
          },
          "name": "stdout",
          "output_type": "stream",
          "text": [
            "LR: 1.0000e-02, Train Loss: 0.3493, Train Acc: 0.8805, Train Latency: 26.60s, Memory Usage: 213.40MB\n",
            "Test Loss: 0.5286, Test Acc: 0.8214, Test Latency: 3.02s, Test Memory Usage: 61.86MB\n",
            "\n",
            "Epoch 70\n"
          ]
        },
        {
          "metadata": {
            "tags": null
          },
          "name": "stderr",
          "output_type": "stream",
          "text": [
            "Train: 100%|##########| 391/391 [00:26<00:00, 14.74batch/s]\n"
          ]
        },
        {
          "metadata": {
            "tags": null
          },
          "name": "stdout",
          "output_type": "stream",
          "text": [
            "LR: 1.0000e-02, Train Loss: 0.3573, Train Acc: 0.8768, Train Latency: 26.52s, Memory Usage: 213.40MB\n",
            "Test Loss: 0.5413, Test Acc: 0.8154, Test Latency: 3.08s, Test Memory Usage: 61.86MB\n",
            "\n",
            "Epoch 71\n"
          ]
        },
        {
          "metadata": {
            "tags": null
          },
          "name": "stderr",
          "output_type": "stream",
          "text": [
            "Train: 100%|##########| 391/391 [00:26<00:00, 14.67batch/s]\n"
          ]
        },
        {
          "metadata": {
            "tags": null
          },
          "name": "stdout",
          "output_type": "stream",
          "text": [
            "LR: 1.0000e-02, Train Loss: 0.3539, Train Acc: 0.8790, Train Latency: 26.65s, Memory Usage: 213.40MB\n",
            "Test Loss: 0.4629, Test Acc: 0.8408, Test Latency: 3.02s, Test Memory Usage: 61.86MB\n",
            "\n",
            "Epoch 72\n"
          ]
        },
        {
          "metadata": {
            "tags": null
          },
          "name": "stderr",
          "output_type": "stream",
          "text": [
            "Train: 100%|##########| 391/391 [00:26<00:00, 14.73batch/s]\n"
          ]
        },
        {
          "metadata": {
            "tags": null
          },
          "name": "stdout",
          "output_type": "stream",
          "text": [
            "LR: 1.0000e-02, Train Loss: 0.3528, Train Acc: 0.8806, Train Latency: 26.56s, Memory Usage: 213.40MB\n",
            "Test Loss: 0.4821, Test Acc: 0.8381, Test Latency: 3.00s, Test Memory Usage: 61.86MB\n",
            "\n",
            "Epoch 73\n"
          ]
        },
        {
          "metadata": {
            "tags": null
          },
          "name": "stderr",
          "output_type": "stream",
          "text": [
            "Train: 100%|##########| 391/391 [00:26<00:00, 14.84batch/s]\n"
          ]
        },
        {
          "metadata": {
            "tags": null
          },
          "name": "stdout",
          "output_type": "stream",
          "text": [
            "LR: 1.0000e-02, Train Loss: 0.3535, Train Acc: 0.8784, Train Latency: 26.35s, Memory Usage: 213.40MB\n",
            "Test Loss: 0.5241, Test Acc: 0.8261, Test Latency: 2.99s, Test Memory Usage: 61.86MB\n",
            "\n",
            "Epoch 74\n"
          ]
        },
        {
          "metadata": {
            "tags": null
          },
          "name": "stderr",
          "output_type": "stream",
          "text": [
            "Train: 100%|##########| 391/391 [00:26<00:00, 14.76batch/s]\n"
          ]
        },
        {
          "metadata": {
            "tags": null
          },
          "name": "stdout",
          "output_type": "stream",
          "text": [
            "LR: 1.0000e-02, Train Loss: 0.3489, Train Acc: 0.8808, Train Latency: 26.50s, Memory Usage: 213.40MB\n",
            "Test Loss: 0.4613, Test Acc: 0.8469, Test Latency: 3.00s, Test Memory Usage: 61.86MB\n",
            "\n",
            "Epoch 75\n"
          ]
        },
        {
          "metadata": {
            "tags": null
          },
          "name": "stderr",
          "output_type": "stream",
          "text": [
            "Train: 100%|##########| 391/391 [00:26<00:00, 14.78batch/s]\n"
          ]
        },
        {
          "metadata": {
            "tags": null
          },
          "name": "stdout",
          "output_type": "stream",
          "text": [
            "LR: 1.0000e-02, Train Loss: 0.3510, Train Acc: 0.8809, Train Latency: 26.46s, Memory Usage: 213.40MB\n",
            "Test Loss: 0.4973, Test Acc: 0.8300, Test Latency: 3.03s, Test Memory Usage: 61.86MB\n",
            "\n",
            "Epoch 76\n"
          ]
        },
        {
          "metadata": {
            "tags": null
          },
          "name": "stderr",
          "output_type": "stream",
          "text": [
            "Train: 100%|##########| 391/391 [00:26<00:00, 14.76batch/s]\n"
          ]
        },
        {
          "metadata": {
            "tags": null
          },
          "name": "stdout",
          "output_type": "stream",
          "text": [
            "LR: 1.0000e-02, Train Loss: 0.3483, Train Acc: 0.8810, Train Latency: 26.49s, Memory Usage: 213.40MB\n",
            "Test Loss: 0.4830, Test Acc: 0.8326, Test Latency: 3.02s, Test Memory Usage: 61.86MB\n",
            "\n",
            "Epoch 77\n"
          ]
        },
        {
          "metadata": {
            "tags": null
          },
          "name": "stderr",
          "output_type": "stream",
          "text": [
            "Train: 100%|##########| 391/391 [00:26<00:00, 14.73batch/s]\n"
          ]
        },
        {
          "metadata": {
            "tags": null
          },
          "name": "stdout",
          "output_type": "stream",
          "text": [
            "LR: 1.0000e-02, Train Loss: 0.3458, Train Acc: 0.8814, Train Latency: 26.55s, Memory Usage: 213.40MB\n",
            "Test Loss: 0.5357, Test Acc: 0.8190, Test Latency: 2.98s, Test Memory Usage: 61.86MB\n",
            "\n",
            "Epoch 78\n"
          ]
        },
        {
          "metadata": {
            "tags": null
          },
          "name": "stderr",
          "output_type": "stream",
          "text": [
            "Train: 100%|##########| 391/391 [00:26<00:00, 14.82batch/s]\n"
          ]
        },
        {
          "metadata": {
            "tags": null
          },
          "name": "stdout",
          "output_type": "stream",
          "text": [
            "LR: 1.0000e-02, Train Loss: 0.3392, Train Acc: 0.8839, Train Latency: 26.39s, Memory Usage: 213.40MB\n",
            "Test Loss: 0.4415, Test Acc: 0.8493, Test Latency: 3.04s, Test Memory Usage: 61.86MB\n",
            "\n",
            "Epoch 79\n"
          ]
        },
        {
          "metadata": {
            "tags": null
          },
          "name": "stderr",
          "output_type": "stream",
          "text": [
            "Train: 100%|##########| 391/391 [00:26<00:00, 14.80batch/s]\n"
          ]
        },
        {
          "metadata": {
            "tags": null
          },
          "name": "stdout",
          "output_type": "stream",
          "text": [
            "LR: 1.0000e-02, Train Loss: 0.3444, Train Acc: 0.8820, Train Latency: 26.42s, Memory Usage: 213.40MB\n",
            "Test Loss: 0.5580, Test Acc: 0.8133, Test Latency: 2.99s, Test Memory Usage: 61.88MB\n",
            "\n",
            "Epoch 80\n"
          ]
        },
        {
          "metadata": {
            "tags": null
          },
          "name": "stderr",
          "output_type": "stream",
          "text": [
            "Train: 100%|##########| 391/391 [00:26<00:00, 14.81batch/s]\n"
          ]
        },
        {
          "metadata": {
            "tags": null
          },
          "name": "stdout",
          "output_type": "stream",
          "text": [
            "LR: 1.0000e-02, Train Loss: 0.3422, Train Acc: 0.8819, Train Latency: 26.40s, Memory Usage: 213.40MB\n",
            "Test Loss: 0.5472, Test Acc: 0.8055, Test Latency: 3.03s, Test Memory Usage: 61.86MB\n",
            "\n",
            "Epoch 81\n"
          ]
        },
        {
          "metadata": {
            "tags": null
          },
          "name": "stderr",
          "output_type": "stream",
          "text": [
            "Train: 100%|##########| 391/391 [00:26<00:00, 14.80batch/s]\n"
          ]
        },
        {
          "metadata": {
            "tags": null
          },
          "name": "stdout",
          "output_type": "stream",
          "text": [
            "LR: 1.0000e-02, Train Loss: 0.3425, Train Acc: 0.8831, Train Latency: 26.42s, Memory Usage: 213.40MB\n",
            "Test Loss: 0.4600, Test Acc: 0.8422, Test Latency: 3.01s, Test Memory Usage: 61.86MB\n",
            "\n",
            "Epoch 82\n"
          ]
        },
        {
          "metadata": {
            "tags": null
          },
          "name": "stderr",
          "output_type": "stream",
          "text": [
            "Train: 100%|##########| 391/391 [00:26<00:00, 14.81batch/s]\n"
          ]
        },
        {
          "metadata": {
            "tags": null
          },
          "name": "stdout",
          "output_type": "stream",
          "text": [
            "LR: 1.0000e-02, Train Loss: 0.3460, Train Acc: 0.8806, Train Latency: 26.40s, Memory Usage: 213.40MB\n",
            "Test Loss: 0.5387, Test Acc: 0.8099, Test Latency: 3.00s, Test Memory Usage: 61.86MB\n",
            "\n",
            "Epoch 83\n"
          ]
        },
        {
          "metadata": {
            "tags": null
          },
          "name": "stderr",
          "output_type": "stream",
          "text": [
            "Train: 100%|##########| 391/391 [00:26<00:00, 14.88batch/s]\n"
          ]
        },
        {
          "metadata": {
            "tags": null
          },
          "name": "stdout",
          "output_type": "stream",
          "text": [
            "LR: 1.0000e-02, Train Loss: 0.3419, Train Acc: 0.8827, Train Latency: 26.28s, Memory Usage: 213.40MB\n",
            "Test Loss: 0.4504, Test Acc: 0.8509, Test Latency: 3.01s, Test Memory Usage: 61.86MB\n",
            "\n",
            "Epoch 84\n"
          ]
        },
        {
          "metadata": {
            "tags": null
          },
          "name": "stderr",
          "output_type": "stream",
          "text": [
            "Train: 100%|##########| 391/391 [00:26<00:00, 14.77batch/s]\n"
          ]
        },
        {
          "metadata": {
            "tags": null
          },
          "name": "stdout",
          "output_type": "stream",
          "text": [
            "LR: 1.0000e-02, Train Loss: 0.3427, Train Acc: 0.8827, Train Latency: 26.48s, Memory Usage: 213.40MB\n",
            "Test Loss: 0.5186, Test Acc: 0.8286, Test Latency: 3.01s, Test Memory Usage: 61.86MB\n",
            "\n",
            "Epoch 85\n"
          ]
        },
        {
          "metadata": {
            "tags": null
          },
          "name": "stderr",
          "output_type": "stream",
          "text": [
            "Train: 100%|##########| 391/391 [00:26<00:00, 14.81batch/s]\n"
          ]
        },
        {
          "metadata": {
            "tags": null
          },
          "name": "stdout",
          "output_type": "stream",
          "text": [
            "LR: 1.0000e-02, Train Loss: 0.3362, Train Acc: 0.8861, Train Latency: 26.40s, Memory Usage: 213.40MB\n",
            "Test Loss: 0.5104, Test Acc: 0.8261, Test Latency: 3.01s, Test Memory Usage: 61.86MB\n",
            "\n",
            "Epoch 86\n"
          ]
        },
        {
          "metadata": {
            "tags": null
          },
          "name": "stderr",
          "output_type": "stream",
          "text": [
            "Train: 100%|##########| 391/391 [00:26<00:00, 14.85batch/s]\n"
          ]
        },
        {
          "metadata": {
            "tags": null
          },
          "name": "stdout",
          "output_type": "stream",
          "text": [
            "LR: 1.0000e-02, Train Loss: 0.3385, Train Acc: 0.8837, Train Latency: 26.33s, Memory Usage: 213.40MB\n",
            "Test Loss: 0.5366, Test Acc: 0.8227, Test Latency: 3.02s, Test Memory Usage: 61.86MB\n",
            "\n",
            "Epoch 87\n"
          ]
        },
        {
          "metadata": {
            "tags": null
          },
          "name": "stderr",
          "output_type": "stream",
          "text": [
            "Train: 100%|##########| 391/391 [00:26<00:00, 14.82batch/s]\n"
          ]
        },
        {
          "metadata": {
            "tags": null
          },
          "name": "stdout",
          "output_type": "stream",
          "text": [
            "LR: 1.0000e-02, Train Loss: 0.3392, Train Acc: 0.8839, Train Latency: 26.39s, Memory Usage: 213.40MB\n",
            "Test Loss: 0.5716, Test Acc: 0.8196, Test Latency: 3.00s, Test Memory Usage: 61.86MB\n",
            "\n",
            "Epoch 88\n"
          ]
        },
        {
          "metadata": {
            "tags": null
          },
          "name": "stderr",
          "output_type": "stream",
          "text": [
            "Train: 100%|##########| 391/391 [00:26<00:00, 14.77batch/s]\n"
          ]
        },
        {
          "metadata": {
            "tags": null
          },
          "name": "stdout",
          "output_type": "stream",
          "text": [
            "LR: 1.0000e-02, Train Loss: 0.3394, Train Acc: 0.8841, Train Latency: 26.48s, Memory Usage: 213.40MB\n",
            "Test Loss: 0.5623, Test Acc: 0.8144, Test Latency: 3.01s, Test Memory Usage: 61.86MB\n",
            "\n",
            "Epoch 89\n"
          ]
        },
        {
          "metadata": {
            "tags": null
          },
          "name": "stderr",
          "output_type": "stream",
          "text": [
            "Train: 100%|##########| 391/391 [00:26<00:00, 14.71batch/s]\n"
          ]
        },
        {
          "metadata": {
            "tags": null
          },
          "name": "stdout",
          "output_type": "stream",
          "text": [
            "LR: 1.0000e-02, Train Loss: 0.3405, Train Acc: 0.8827, Train Latency: 26.58s, Memory Usage: 213.40MB\n",
            "Test Loss: 0.5843, Test Acc: 0.7991, Test Latency: 3.01s, Test Memory Usage: 61.86MB\n",
            "\n",
            "Epoch 90\n"
          ]
        },
        {
          "metadata": {
            "tags": null
          },
          "name": "stderr",
          "output_type": "stream",
          "text": [
            "Train: 100%|##########| 391/391 [00:26<00:00, 14.73batch/s]\n"
          ]
        },
        {
          "metadata": {
            "tags": null
          },
          "name": "stdout",
          "output_type": "stream",
          "text": [
            "LR: 1.0000e-02, Train Loss: 0.3378, Train Acc: 0.8858, Train Latency: 26.56s, Memory Usage: 213.40MB\n",
            "Test Loss: 0.4889, Test Acc: 0.8367, Test Latency: 3.08s, Test Memory Usage: 61.86MB\n",
            "\n",
            "Epoch 91\n"
          ]
        },
        {
          "metadata": {
            "tags": null
          },
          "name": "stderr",
          "output_type": "stream",
          "text": [
            "Train: 100%|##########| 391/391 [00:26<00:00, 14.77batch/s]\n"
          ]
        },
        {
          "metadata": {
            "tags": null
          },
          "name": "stdout",
          "output_type": "stream",
          "text": [
            "LR: 1.0000e-02, Train Loss: 0.3317, Train Acc: 0.8875, Train Latency: 26.48s, Memory Usage: 213.40MB\n",
            "Test Loss: 0.4815, Test Acc: 0.8352, Test Latency: 2.99s, Test Memory Usage: 61.86MB\n",
            "\n",
            "Epoch 92\n"
          ]
        },
        {
          "metadata": {
            "tags": null
          },
          "name": "stderr",
          "output_type": "stream",
          "text": [
            "Train: 100%|##########| 391/391 [00:26<00:00, 14.69batch/s]\n"
          ]
        },
        {
          "metadata": {
            "tags": null
          },
          "name": "stdout",
          "output_type": "stream",
          "text": [
            "LR: 1.0000e-02, Train Loss: 0.3351, Train Acc: 0.8843, Train Latency: 26.62s, Memory Usage: 213.40MB\n",
            "Test Loss: 0.4602, Test Acc: 0.8472, Test Latency: 3.04s, Test Memory Usage: 61.86MB\n",
            "\n",
            "Epoch 93\n"
          ]
        },
        {
          "metadata": {
            "tags": null
          },
          "name": "stderr",
          "output_type": "stream",
          "text": [
            "Train: 100%|##########| 391/391 [00:26<00:00, 14.72batch/s]\n"
          ]
        },
        {
          "metadata": {
            "tags": null
          },
          "name": "stdout",
          "output_type": "stream",
          "text": [
            "LR: 1.0000e-02, Train Loss: 0.3258, Train Acc: 0.8870, Train Latency: 26.57s, Memory Usage: 213.40MB\n",
            "Test Loss: 0.4670, Test Acc: 0.8440, Test Latency: 3.06s, Test Memory Usage: 61.86MB\n",
            "\n",
            "Epoch 94\n"
          ]
        },
        {
          "metadata": {
            "tags": null
          },
          "name": "stderr",
          "output_type": "stream",
          "text": [
            "Train: 100%|##########| 391/391 [00:26<00:00, 14.68batch/s]\n"
          ]
        },
        {
          "metadata": {
            "tags": null
          },
          "name": "stdout",
          "output_type": "stream",
          "text": [
            "LR: 1.0000e-02, Train Loss: 0.3359, Train Acc: 0.8847, Train Latency: 26.63s, Memory Usage: 213.40MB\n",
            "Test Loss: 0.5071, Test Acc: 0.8223, Test Latency: 3.00s, Test Memory Usage: 61.86MB\n",
            "\n",
            "Epoch 95\n"
          ]
        },
        {
          "metadata": {
            "tags": null
          },
          "name": "stderr",
          "output_type": "stream",
          "text": [
            "Train: 100%|##########| 391/391 [00:26<00:00, 14.86batch/s]\n"
          ]
        },
        {
          "metadata": {
            "tags": null
          },
          "name": "stdout",
          "output_type": "stream",
          "text": [
            "LR: 1.0000e-02, Train Loss: 0.3336, Train Acc: 0.8849, Train Latency: 26.31s, Memory Usage: 213.40MB\n",
            "Test Loss: 0.6433, Test Acc: 0.7925, Test Latency: 3.01s, Test Memory Usage: 61.88MB\n",
            "\n",
            "Epoch 96\n"
          ]
        },
        {
          "metadata": {
            "tags": null
          },
          "name": "stderr",
          "output_type": "stream",
          "text": [
            "Train: 100%|##########| 391/391 [00:26<00:00, 14.89batch/s]\n"
          ]
        },
        {
          "metadata": {
            "tags": null
          },
          "name": "stdout",
          "output_type": "stream",
          "text": [
            "LR: 1.0000e-02, Train Loss: 0.3322, Train Acc: 0.8854, Train Latency: 26.27s, Memory Usage: 213.40MB\n",
            "Test Loss: 0.5853, Test Acc: 0.8100, Test Latency: 3.00s, Test Memory Usage: 69.86MB\n",
            "\n",
            "Epoch 97\n"
          ]
        },
        {
          "metadata": {
            "tags": null
          },
          "name": "stderr",
          "output_type": "stream",
          "text": [
            "Train: 100%|##########| 391/391 [00:26<00:00, 14.80batch/s]\n"
          ]
        },
        {
          "metadata": {
            "tags": null
          },
          "name": "stdout",
          "output_type": "stream",
          "text": [
            "LR: 1.0000e-02, Train Loss: 0.3339, Train Acc: 0.8855, Train Latency: 26.43s, Memory Usage: 213.40MB\n",
            "Test Loss: 0.5705, Test Acc: 0.8070, Test Latency: 2.98s, Test Memory Usage: 61.86MB\n",
            "\n",
            "Epoch 98\n"
          ]
        },
        {
          "metadata": {
            "tags": null
          },
          "name": "stderr",
          "output_type": "stream",
          "text": [
            "Train: 100%|##########| 391/391 [00:26<00:00, 14.67batch/s]\n"
          ]
        },
        {
          "metadata": {
            "tags": null
          },
          "name": "stdout",
          "output_type": "stream",
          "text": [
            "LR: 1.0000e-02, Train Loss: 0.3342, Train Acc: 0.8850, Train Latency: 26.66s, Memory Usage: 213.40MB\n",
            "Test Loss: 0.4928, Test Acc: 0.8334, Test Latency: 3.06s, Test Memory Usage: 61.86MB\n",
            "\n",
            "Epoch 99\n"
          ]
        },
        {
          "metadata": {
            "tags": null
          },
          "name": "stderr",
          "output_type": "stream",
          "text": [
            "Train: 100%|##########| 391/391 [00:26<00:00, 14.73batch/s]\n"
          ]
        },
        {
          "metadata": {
            "tags": null
          },
          "name": "stdout",
          "output_type": "stream",
          "text": [
            "LR: 1.0000e-02, Train Loss: 0.3319, Train Acc: 0.8851, Train Latency: 26.55s, Memory Usage: 213.40MB\n",
            "Test Loss: 0.5143, Test Acc: 0.8276, Test Latency: 2.98s, Test Memory Usage: 61.86MB\n",
            "\n",
            "Epoch 100\n"
          ]
        },
        {
          "metadata": {
            "tags": null
          },
          "name": "stderr",
          "output_type": "stream",
          "text": [
            "Train: 100%|##########| 391/391 [00:26<00:00, 14.74batch/s]\n"
          ]
        },
        {
          "metadata": {
            "tags": null
          },
          "name": "stdout",
          "output_type": "stream",
          "text": [
            "LR: 1.0000e-02, Train Loss: 0.3326, Train Acc: 0.8847, Train Latency: 26.54s, Memory Usage: 213.40MB\n",
            "Test Loss: 0.5462, Test Acc: 0.8274, Test Latency: 3.05s, Test Memory Usage: 61.86MB\n",
            "\n",
            "Epoch 101\n"
          ]
        },
        {
          "metadata": {
            "tags": null
          },
          "name": "stderr",
          "output_type": "stream",
          "text": [
            "Train: 100%|##########| 391/391 [00:26<00:00, 14.74batch/s]\n"
          ]
        },
        {
          "metadata": {
            "tags": null
          },
          "name": "stdout",
          "output_type": "stream",
          "text": [
            "LR: 1.0000e-03, Train Loss: 0.2568, Train Acc: 0.9138, Train Latency: 26.52s, Memory Usage: 213.40MB\n",
            "Test Loss: 0.3304, Test Acc: 0.8877, Test Latency: 3.03s, Test Memory Usage: 61.86MB\n",
            "Saving best model ...\n",
            "\n",
            "Epoch 102\n"
          ]
        },
        {
          "metadata": {
            "tags": null
          },
          "name": "stderr",
          "output_type": "stream",
          "text": [
            "Train: 100%|##########| 391/391 [00:26<00:00, 14.75batch/s]\n"
          ]
        },
        {
          "metadata": {
            "tags": null
          },
          "name": "stdout",
          "output_type": "stream",
          "text": [
            "LR: 1.0000e-03, Train Loss: 0.2314, Train Acc: 0.9227, Train Latency: 26.52s, Memory Usage: 213.40MB\n",
            "Test Loss: 0.3372, Test Acc: 0.8821, Test Latency: 3.01s, Test Memory Usage: 61.86MB\n",
            "\n",
            "Epoch 103\n"
          ]
        },
        {
          "metadata": {
            "tags": null
          },
          "name": "stderr",
          "output_type": "stream",
          "text": [
            "Train: 100%|##########| 391/391 [00:26<00:00, 14.82batch/s]\n"
          ]
        },
        {
          "metadata": {
            "tags": null
          },
          "name": "stdout",
          "output_type": "stream",
          "text": [
            "LR: 1.0000e-03, Train Loss: 0.2241, Train Acc: 0.9256, Train Latency: 26.39s, Memory Usage: 213.40MB\n",
            "Test Loss: 0.3182, Test Acc: 0.8898, Test Latency: 3.08s, Test Memory Usage: 61.86MB\n",
            "Saving best model ...\n",
            "\n",
            "Epoch 104\n"
          ]
        },
        {
          "metadata": {
            "tags": null
          },
          "name": "stderr",
          "output_type": "stream",
          "text": [
            "Train: 100%|##########| 391/391 [00:26<00:00, 14.86batch/s]\n"
          ]
        },
        {
          "metadata": {
            "tags": null
          },
          "name": "stdout",
          "output_type": "stream",
          "text": [
            "LR: 1.0000e-03, Train Loss: 0.2201, Train Acc: 0.9269, Train Latency: 26.32s, Memory Usage: 213.40MB\n",
            "Test Loss: 0.3183, Test Acc: 0.8904, Test Latency: 3.01s, Test Memory Usage: 61.86MB\n",
            "Saving best model ...\n",
            "\n",
            "Epoch 105\n"
          ]
        },
        {
          "metadata": {
            "tags": null
          },
          "name": "stderr",
          "output_type": "stream",
          "text": [
            "Train: 100%|##########| 391/391 [00:26<00:00, 14.82batch/s]\n"
          ]
        },
        {
          "metadata": {
            "tags": null
          },
          "name": "stdout",
          "output_type": "stream",
          "text": [
            "LR: 1.0000e-03, Train Loss: 0.2126, Train Acc: 0.9291, Train Latency: 26.38s, Memory Usage: 213.40MB\n",
            "Test Loss: 0.3097, Test Acc: 0.8931, Test Latency: 3.03s, Test Memory Usage: 61.86MB\n",
            "Saving best model ...\n",
            "\n",
            "Epoch 106\n"
          ]
        },
        {
          "metadata": {
            "tags": null
          },
          "name": "stderr",
          "output_type": "stream",
          "text": [
            "Train: 100%|##########| 391/391 [00:26<00:00, 14.77batch/s]\n"
          ]
        },
        {
          "metadata": {
            "tags": null
          },
          "name": "stdout",
          "output_type": "stream",
          "text": [
            "LR: 1.0000e-03, Train Loss: 0.2105, Train Acc: 0.9289, Train Latency: 26.48s, Memory Usage: 213.40MB\n",
            "Test Loss: 0.3192, Test Acc: 0.8910, Test Latency: 2.98s, Test Memory Usage: 61.86MB\n",
            "\n",
            "Epoch 107\n"
          ]
        },
        {
          "metadata": {
            "tags": null
          },
          "name": "stderr",
          "output_type": "stream",
          "text": [
            "Train: 100%|##########| 391/391 [00:26<00:00, 14.74batch/s]\n"
          ]
        },
        {
          "metadata": {
            "tags": null
          },
          "name": "stdout",
          "output_type": "stream",
          "text": [
            "LR: 1.0000e-03, Train Loss: 0.2072, Train Acc: 0.9300, Train Latency: 26.53s, Memory Usage: 213.40MB\n",
            "Test Loss: 0.3174, Test Acc: 0.8923, Test Latency: 2.99s, Test Memory Usage: 61.86MB\n",
            "\n",
            "Epoch 108\n"
          ]
        },
        {
          "metadata": {
            "tags": null
          },
          "name": "stderr",
          "output_type": "stream",
          "text": [
            "Train: 100%|##########| 391/391 [00:26<00:00, 14.77batch/s]\n"
          ]
        },
        {
          "metadata": {
            "tags": null
          },
          "name": "stdout",
          "output_type": "stream",
          "text": [
            "LR: 1.0000e-03, Train Loss: 0.2033, Train Acc: 0.9324, Train Latency: 26.48s, Memory Usage: 213.40MB\n",
            "Test Loss: 0.3148, Test Acc: 0.8905, Test Latency: 3.10s, Test Memory Usage: 61.86MB\n",
            "\n",
            "Epoch 109\n"
          ]
        },
        {
          "metadata": {
            "tags": null
          },
          "name": "stderr",
          "output_type": "stream",
          "text": [
            "Train: 100%|##########| 391/391 [00:26<00:00, 14.92batch/s]\n"
          ]
        },
        {
          "metadata": {
            "tags": null
          },
          "name": "stdout",
          "output_type": "stream",
          "text": [
            "LR: 1.0000e-03, Train Loss: 0.2032, Train Acc: 0.9325, Train Latency: 26.21s, Memory Usage: 213.40MB\n",
            "Test Loss: 0.3186, Test Acc: 0.8922, Test Latency: 2.98s, Test Memory Usage: 61.86MB\n",
            "\n",
            "Epoch 110\n"
          ]
        },
        {
          "metadata": {
            "tags": null
          },
          "name": "stderr",
          "output_type": "stream",
          "text": [
            "Train: 100%|##########| 391/391 [00:26<00:00, 14.83batch/s]\n"
          ]
        },
        {
          "metadata": {
            "tags": null
          },
          "name": "stdout",
          "output_type": "stream",
          "text": [
            "LR: 1.0000e-03, Train Loss: 0.2002, Train Acc: 0.9321, Train Latency: 26.37s, Memory Usage: 213.40MB\n",
            "Test Loss: 0.3099, Test Acc: 0.8951, Test Latency: 3.01s, Test Memory Usage: 61.86MB\n",
            "Saving best model ...\n",
            "\n",
            "Epoch 111\n"
          ]
        },
        {
          "metadata": {
            "tags": null
          },
          "name": "stderr",
          "output_type": "stream",
          "text": [
            "Train: 100%|##########| 391/391 [00:26<00:00, 14.83batch/s]\n"
          ]
        },
        {
          "metadata": {
            "tags": null
          },
          "name": "stdout",
          "output_type": "stream",
          "text": [
            "LR: 1.0000e-03, Train Loss: 0.1989, Train Acc: 0.9339, Train Latency: 26.37s, Memory Usage: 213.40MB\n",
            "Test Loss: 0.3056, Test Acc: 0.8955, Test Latency: 2.99s, Test Memory Usage: 61.86MB\n",
            "Saving best model ...\n",
            "\n",
            "Epoch 112\n"
          ]
        },
        {
          "metadata": {
            "tags": null
          },
          "name": "stderr",
          "output_type": "stream",
          "text": [
            "Train: 100%|##########| 391/391 [00:26<00:00, 14.73batch/s]\n"
          ]
        },
        {
          "metadata": {
            "tags": null
          },
          "name": "stdout",
          "output_type": "stream",
          "text": [
            "LR: 1.0000e-03, Train Loss: 0.1992, Train Acc: 0.9318, Train Latency: 26.55s, Memory Usage: 213.40MB\n",
            "Test Loss: 0.3166, Test Acc: 0.8916, Test Latency: 3.01s, Test Memory Usage: 61.86MB\n",
            "\n",
            "Epoch 113\n"
          ]
        },
        {
          "metadata": {
            "tags": null
          },
          "name": "stderr",
          "output_type": "stream",
          "text": [
            "Train: 100%|##########| 391/391 [00:26<00:00, 14.71batch/s]\n"
          ]
        },
        {
          "metadata": {
            "tags": null
          },
          "name": "stdout",
          "output_type": "stream",
          "text": [
            "LR: 1.0000e-03, Train Loss: 0.1942, Train Acc: 0.9355, Train Latency: 26.59s, Memory Usage: 213.40MB\n",
            "Test Loss: 0.3078, Test Acc: 0.8957, Test Latency: 3.02s, Test Memory Usage: 61.86MB\n",
            "Saving best model ...\n",
            "\n",
            "Epoch 114\n"
          ]
        },
        {
          "metadata": {
            "tags": null
          },
          "name": "stderr",
          "output_type": "stream",
          "text": [
            "Train: 100%|##########| 391/391 [00:26<00:00, 14.66batch/s]\n"
          ]
        },
        {
          "metadata": {
            "tags": null
          },
          "name": "stdout",
          "output_type": "stream",
          "text": [
            "LR: 1.0000e-03, Train Loss: 0.1955, Train Acc: 0.9342, Train Latency: 26.68s, Memory Usage: 213.40MB\n",
            "Test Loss: 0.3153, Test Acc: 0.8933, Test Latency: 3.04s, Test Memory Usage: 61.86MB\n",
            "\n",
            "Epoch 115\n"
          ]
        },
        {
          "metadata": {
            "tags": null
          },
          "name": "stderr",
          "output_type": "stream",
          "text": [
            "Train: 100%|##########| 391/391 [00:26<00:00, 14.73batch/s]\n"
          ]
        },
        {
          "metadata": {
            "tags": null
          },
          "name": "stdout",
          "output_type": "stream",
          "text": [
            "LR: 1.0000e-03, Train Loss: 0.1953, Train Acc: 0.9349, Train Latency: 26.55s, Memory Usage: 213.40MB\n",
            "Test Loss: 0.3271, Test Acc: 0.8910, Test Latency: 3.03s, Test Memory Usage: 61.86MB\n",
            "\n",
            "Epoch 116\n"
          ]
        },
        {
          "metadata": {
            "tags": null
          },
          "name": "stderr",
          "output_type": "stream",
          "text": [
            "Train: 100%|##########| 391/391 [00:26<00:00, 14.76batch/s]\n"
          ]
        },
        {
          "metadata": {
            "tags": null
          },
          "name": "stdout",
          "output_type": "stream",
          "text": [
            "LR: 1.0000e-03, Train Loss: 0.1930, Train Acc: 0.9353, Train Latency: 26.49s, Memory Usage: 213.40MB\n",
            "Test Loss: 0.3172, Test Acc: 0.8907, Test Latency: 2.99s, Test Memory Usage: 61.86MB\n",
            "\n",
            "Epoch 117\n"
          ]
        },
        {
          "metadata": {
            "tags": null
          },
          "name": "stderr",
          "output_type": "stream",
          "text": [
            "Train: 100%|##########| 391/391 [00:26<00:00, 14.80batch/s]\n"
          ]
        },
        {
          "metadata": {
            "tags": null
          },
          "name": "stdout",
          "output_type": "stream",
          "text": [
            "LR: 1.0000e-03, Train Loss: 0.1907, Train Acc: 0.9361, Train Latency: 26.42s, Memory Usage: 213.40MB\n",
            "Test Loss: 0.3197, Test Acc: 0.8931, Test Latency: 2.98s, Test Memory Usage: 61.86MB\n",
            "\n",
            "Epoch 118\n"
          ]
        },
        {
          "metadata": {
            "tags": null
          },
          "name": "stderr",
          "output_type": "stream",
          "text": [
            "Train: 100%|##########| 391/391 [00:26<00:00, 14.83batch/s]\n"
          ]
        },
        {
          "metadata": {
            "tags": null
          },
          "name": "stdout",
          "output_type": "stream",
          "text": [
            "LR: 1.0000e-03, Train Loss: 0.1919, Train Acc: 0.9352, Train Latency: 26.38s, Memory Usage: 213.40MB\n",
            "Test Loss: 0.3085, Test Acc: 0.8958, Test Latency: 3.05s, Test Memory Usage: 61.86MB\n",
            "Saving best model ...\n",
            "\n",
            "Epoch 119\n"
          ]
        },
        {
          "metadata": {
            "tags": null
          },
          "name": "stderr",
          "output_type": "stream",
          "text": [
            "Train: 100%|##########| 391/391 [00:26<00:00, 14.79batch/s]\n"
          ]
        },
        {
          "metadata": {
            "tags": null
          },
          "name": "stdout",
          "output_type": "stream",
          "text": [
            "LR: 1.0000e-03, Train Loss: 0.1889, Train Acc: 0.9361, Train Latency: 26.44s, Memory Usage: 213.40MB\n",
            "Test Loss: 0.3499, Test Acc: 0.8848, Test Latency: 3.00s, Test Memory Usage: 61.86MB\n",
            "\n",
            "Epoch 120\n"
          ]
        },
        {
          "metadata": {
            "tags": null
          },
          "name": "stderr",
          "output_type": "stream",
          "text": [
            "Train: 100%|##########| 391/391 [00:26<00:00, 14.82batch/s]\n"
          ]
        },
        {
          "metadata": {
            "tags": null
          },
          "name": "stdout",
          "output_type": "stream",
          "text": [
            "LR: 1.0000e-03, Train Loss: 0.1878, Train Acc: 0.9378, Train Latency: 26.38s, Memory Usage: 213.40MB\n",
            "Test Loss: 0.3385, Test Acc: 0.8869, Test Latency: 3.02s, Test Memory Usage: 61.86MB\n",
            "\n",
            "Epoch 121\n"
          ]
        },
        {
          "metadata": {
            "tags": null
          },
          "name": "stderr",
          "output_type": "stream",
          "text": [
            "Train: 100%|##########| 391/391 [00:26<00:00, 14.83batch/s]\n"
          ]
        },
        {
          "metadata": {
            "tags": null
          },
          "name": "stdout",
          "output_type": "stream",
          "text": [
            "LR: 1.0000e-03, Train Loss: 0.1884, Train Acc: 0.9361, Train Latency: 26.36s, Memory Usage: 213.40MB\n",
            "Test Loss: 0.3195, Test Acc: 0.8922, Test Latency: 3.00s, Test Memory Usage: 61.86MB\n",
            "\n",
            "Epoch 122\n"
          ]
        },
        {
          "metadata": {
            "tags": null
          },
          "name": "stderr",
          "output_type": "stream",
          "text": [
            "Train: 100%|##########| 391/391 [00:26<00:00, 14.85batch/s]\n"
          ]
        },
        {
          "metadata": {
            "tags": null
          },
          "name": "stdout",
          "output_type": "stream",
          "text": [
            "LR: 1.0000e-03, Train Loss: 0.1904, Train Acc: 0.9369, Train Latency: 26.33s, Memory Usage: 213.40MB\n",
            "Test Loss: 0.3340, Test Acc: 0.8886, Test Latency: 3.02s, Test Memory Usage: 61.86MB\n",
            "\n",
            "Epoch 123\n"
          ]
        },
        {
          "metadata": {
            "tags": null
          },
          "name": "stderr",
          "output_type": "stream",
          "text": [
            "Train: 100%|##########| 391/391 [00:26<00:00, 14.75batch/s]\n"
          ]
        },
        {
          "metadata": {
            "tags": null
          },
          "name": "stdout",
          "output_type": "stream",
          "text": [
            "LR: 1.0000e-03, Train Loss: 0.1884, Train Acc: 0.9361, Train Latency: 26.51s, Memory Usage: 213.40MB\n",
            "Test Loss: 0.3407, Test Acc: 0.8865, Test Latency: 2.99s, Test Memory Usage: 61.86MB\n",
            "\n",
            "Epoch 124\n"
          ]
        },
        {
          "metadata": {
            "tags": null
          },
          "name": "stderr",
          "output_type": "stream",
          "text": [
            "Train: 100%|##########| 391/391 [00:26<00:00, 14.80batch/s]\n"
          ]
        },
        {
          "metadata": {
            "tags": null
          },
          "name": "stdout",
          "output_type": "stream",
          "text": [
            "LR: 1.0000e-03, Train Loss: 0.1868, Train Acc: 0.9373, Train Latency: 26.42s, Memory Usage: 213.40MB\n",
            "Test Loss: 0.3650, Test Acc: 0.8838, Test Latency: 3.03s, Test Memory Usage: 61.86MB\n",
            "\n",
            "Epoch 125\n"
          ]
        },
        {
          "metadata": {
            "tags": null
          },
          "name": "stderr",
          "output_type": "stream",
          "text": [
            "Train: 100%|##########| 391/391 [00:26<00:00, 14.70batch/s]\n"
          ]
        },
        {
          "metadata": {
            "tags": null
          },
          "name": "stdout",
          "output_type": "stream",
          "text": [
            "LR: 1.0000e-03, Train Loss: 0.1852, Train Acc: 0.9387, Train Latency: 26.60s, Memory Usage: 213.40MB\n",
            "Test Loss: 0.3166, Test Acc: 0.8965, Test Latency: 2.99s, Test Memory Usage: 61.86MB\n",
            "Saving best model ...\n",
            "\n",
            "Epoch 126\n"
          ]
        },
        {
          "metadata": {
            "tags": null
          },
          "name": "stderr",
          "output_type": "stream",
          "text": [
            "Train: 100%|##########| 391/391 [00:26<00:00, 14.80batch/s]\n"
          ]
        },
        {
          "metadata": {
            "tags": null
          },
          "name": "stdout",
          "output_type": "stream",
          "text": [
            "LR: 1.0000e-03, Train Loss: 0.1885, Train Acc: 0.9355, Train Latency: 26.41s, Memory Usage: 213.40MB\n",
            "Test Loss: 0.3627, Test Acc: 0.8812, Test Latency: 3.01s, Test Memory Usage: 61.86MB\n",
            "\n",
            "Epoch 127\n"
          ]
        },
        {
          "metadata": {
            "tags": null
          },
          "name": "stderr",
          "output_type": "stream",
          "text": [
            "Train: 100%|##########| 391/391 [00:26<00:00, 14.77batch/s]\n"
          ]
        },
        {
          "metadata": {
            "tags": null
          },
          "name": "stdout",
          "output_type": "stream",
          "text": [
            "LR: 1.0000e-03, Train Loss: 0.1878, Train Acc: 0.9359, Train Latency: 26.47s, Memory Usage: 213.40MB\n",
            "Test Loss: 0.3314, Test Acc: 0.8869, Test Latency: 2.98s, Test Memory Usage: 61.86MB\n",
            "\n",
            "Epoch 128\n"
          ]
        },
        {
          "metadata": {
            "tags": null
          },
          "name": "stderr",
          "output_type": "stream",
          "text": [
            "Train: 100%|##########| 391/391 [00:26<00:00, 14.80batch/s]\n"
          ]
        },
        {
          "metadata": {
            "tags": null
          },
          "name": "stdout",
          "output_type": "stream",
          "text": [
            "LR: 1.0000e-03, Train Loss: 0.1847, Train Acc: 0.9381, Train Latency: 26.42s, Memory Usage: 213.40MB\n",
            "Test Loss: 0.3331, Test Acc: 0.8883, Test Latency: 3.01s, Test Memory Usage: 61.86MB\n",
            "\n",
            "Epoch 129\n"
          ]
        },
        {
          "metadata": {
            "tags": null
          },
          "name": "stderr",
          "output_type": "stream",
          "text": [
            "Train: 100%|##########| 391/391 [00:26<00:00, 14.83batch/s]\n"
          ]
        },
        {
          "metadata": {
            "tags": null
          },
          "name": "stdout",
          "output_type": "stream",
          "text": [
            "LR: 1.0000e-03, Train Loss: 0.1888, Train Acc: 0.9367, Train Latency: 26.37s, Memory Usage: 213.40MB\n",
            "Test Loss: 0.3402, Test Acc: 0.8877, Test Latency: 3.02s, Test Memory Usage: 61.86MB\n",
            "\n",
            "Epoch 130\n"
          ]
        },
        {
          "metadata": {
            "tags": null
          },
          "name": "stderr",
          "output_type": "stream",
          "text": [
            "Train: 100%|##########| 391/391 [00:26<00:00, 14.86batch/s]\n"
          ]
        },
        {
          "metadata": {
            "tags": null
          },
          "name": "stdout",
          "output_type": "stream",
          "text": [
            "LR: 1.0000e-03, Train Loss: 0.1871, Train Acc: 0.9378, Train Latency: 26.31s, Memory Usage: 213.40MB\n",
            "Test Loss: 0.3425, Test Acc: 0.8858, Test Latency: 2.99s, Test Memory Usage: 61.86MB\n",
            "\n",
            "Epoch 131\n"
          ]
        },
        {
          "metadata": {
            "tags": null
          },
          "name": "stderr",
          "output_type": "stream",
          "text": [
            "Train: 100%|##########| 391/391 [00:26<00:00, 14.86batch/s]\n"
          ]
        },
        {
          "metadata": {
            "tags": null
          },
          "name": "stdout",
          "output_type": "stream",
          "text": [
            "LR: 1.0000e-03, Train Loss: 0.1831, Train Acc: 0.9381, Train Latency: 26.32s, Memory Usage: 213.40MB\n",
            "Test Loss: 0.3244, Test Acc: 0.8926, Test Latency: 2.99s, Test Memory Usage: 61.86MB\n",
            "\n",
            "Epoch 132\n"
          ]
        },
        {
          "metadata": {
            "tags": null
          },
          "name": "stderr",
          "output_type": "stream",
          "text": [
            "Train: 100%|##########| 391/391 [00:26<00:00, 14.89batch/s]\n"
          ]
        },
        {
          "metadata": {
            "tags": null
          },
          "name": "stdout",
          "output_type": "stream",
          "text": [
            "LR: 1.0000e-03, Train Loss: 0.1813, Train Acc: 0.9393, Train Latency: 26.27s, Memory Usage: 213.40MB\n",
            "Test Loss: 0.3708, Test Acc: 0.8786, Test Latency: 3.01s, Test Memory Usage: 61.86MB\n",
            "\n",
            "Epoch 133\n"
          ]
        },
        {
          "metadata": {
            "tags": null
          },
          "name": "stderr",
          "output_type": "stream",
          "text": [
            "Train: 100%|##########| 391/391 [00:26<00:00, 14.89batch/s]\n"
          ]
        },
        {
          "metadata": {
            "tags": null
          },
          "name": "stdout",
          "output_type": "stream",
          "text": [
            "LR: 1.0000e-03, Train Loss: 0.1805, Train Acc: 0.9392, Train Latency: 26.26s, Memory Usage: 213.40MB\n",
            "Test Loss: 0.3424, Test Acc: 0.8836, Test Latency: 3.03s, Test Memory Usage: 61.86MB\n",
            "\n",
            "Epoch 134\n"
          ]
        },
        {
          "metadata": {
            "tags": null
          },
          "name": "stderr",
          "output_type": "stream",
          "text": [
            "Train: 100%|##########| 391/391 [00:26<00:00, 14.88batch/s]\n"
          ]
        },
        {
          "metadata": {
            "tags": null
          },
          "name": "stdout",
          "output_type": "stream",
          "text": [
            "LR: 1.0000e-03, Train Loss: 0.1826, Train Acc: 0.9383, Train Latency: 26.28s, Memory Usage: 213.40MB\n",
            "Test Loss: 0.3325, Test Acc: 0.8912, Test Latency: 2.99s, Test Memory Usage: 61.86MB\n",
            "\n",
            "Epoch 135\n"
          ]
        },
        {
          "metadata": {
            "tags": null
          },
          "name": "stderr",
          "output_type": "stream",
          "text": [
            "Train: 100%|##########| 391/391 [00:26<00:00, 14.85batch/s]\n"
          ]
        },
        {
          "metadata": {
            "tags": null
          },
          "name": "stdout",
          "output_type": "stream",
          "text": [
            "LR: 1.0000e-03, Train Loss: 0.1830, Train Acc: 0.9392, Train Latency: 26.34s, Memory Usage: 213.40MB\n",
            "Test Loss: 0.3439, Test Acc: 0.8884, Test Latency: 2.98s, Test Memory Usage: 61.86MB\n",
            "\n",
            "Epoch 136\n"
          ]
        },
        {
          "metadata": {
            "tags": null
          },
          "name": "stderr",
          "output_type": "stream",
          "text": [
            "Train: 100%|##########| 391/391 [00:26<00:00, 14.95batch/s]\n"
          ]
        },
        {
          "metadata": {
            "tags": null
          },
          "name": "stdout",
          "output_type": "stream",
          "text": [
            "LR: 1.0000e-03, Train Loss: 0.1864, Train Acc: 0.9375, Train Latency: 26.15s, Memory Usage: 213.40MB\n",
            "Test Loss: 0.3717, Test Acc: 0.8779, Test Latency: 2.98s, Test Memory Usage: 61.86MB\n",
            "\n",
            "Epoch 137\n"
          ]
        },
        {
          "metadata": {
            "tags": null
          },
          "name": "stderr",
          "output_type": "stream",
          "text": [
            "Train: 100%|##########| 391/391 [00:26<00:00, 14.89batch/s]\n"
          ]
        },
        {
          "metadata": {
            "tags": null
          },
          "name": "stdout",
          "output_type": "stream",
          "text": [
            "LR: 1.0000e-03, Train Loss: 0.1810, Train Acc: 0.9382, Train Latency: 26.27s, Memory Usage: 213.40MB\n",
            "Test Loss: 0.3451, Test Acc: 0.8850, Test Latency: 2.95s, Test Memory Usage: 61.86MB\n",
            "\n",
            "Epoch 138\n"
          ]
        },
        {
          "metadata": {
            "tags": null
          },
          "name": "stderr",
          "output_type": "stream",
          "text": [
            "Train: 100%|##########| 391/391 [00:26<00:00, 14.90batch/s]\n"
          ]
        },
        {
          "metadata": {
            "tags": null
          },
          "name": "stdout",
          "output_type": "stream",
          "text": [
            "LR: 1.0000e-03, Train Loss: 0.1801, Train Acc: 0.9394, Train Latency: 26.25s, Memory Usage: 213.40MB\n",
            "Test Loss: 0.3837, Test Acc: 0.8774, Test Latency: 3.01s, Test Memory Usage: 61.86MB\n",
            "\n",
            "Epoch 139\n"
          ]
        },
        {
          "metadata": {
            "tags": null
          },
          "name": "stderr",
          "output_type": "stream",
          "text": [
            "Train: 100%|##########| 391/391 [00:26<00:00, 14.81batch/s]\n"
          ]
        },
        {
          "metadata": {
            "tags": null
          },
          "name": "stdout",
          "output_type": "stream",
          "text": [
            "LR: 1.0000e-03, Train Loss: 0.1812, Train Acc: 0.9378, Train Latency: 26.41s, Memory Usage: 213.40MB\n",
            "Test Loss: 0.3793, Test Acc: 0.8798, Test Latency: 2.99s, Test Memory Usage: 61.86MB\n",
            "\n",
            "Epoch 140\n"
          ]
        },
        {
          "metadata": {
            "tags": null
          },
          "name": "stderr",
          "output_type": "stream",
          "text": [
            "Train: 100%|##########| 391/391 [00:26<00:00, 14.85batch/s]\n"
          ]
        },
        {
          "metadata": {
            "tags": null
          },
          "name": "stdout",
          "output_type": "stream",
          "text": [
            "LR: 1.0000e-03, Train Loss: 0.1795, Train Acc: 0.9396, Train Latency: 26.33s, Memory Usage: 213.40MB\n",
            "Test Loss: 0.3364, Test Acc: 0.8904, Test Latency: 2.98s, Test Memory Usage: 61.86MB\n",
            "\n",
            "Epoch 141\n"
          ]
        },
        {
          "metadata": {
            "tags": null
          },
          "name": "stderr",
          "output_type": "stream",
          "text": [
            "Train: 100%|##########| 391/391 [00:26<00:00, 14.83batch/s]\n"
          ]
        },
        {
          "metadata": {
            "tags": null
          },
          "name": "stdout",
          "output_type": "stream",
          "text": [
            "LR: 1.0000e-03, Train Loss: 0.1817, Train Acc: 0.9386, Train Latency: 26.37s, Memory Usage: 213.40MB\n",
            "Test Loss: 0.3559, Test Acc: 0.8826, Test Latency: 3.05s, Test Memory Usage: 61.86MB\n",
            "\n",
            "Epoch 142\n"
          ]
        },
        {
          "metadata": {
            "tags": null
          },
          "name": "stderr",
          "output_type": "stream",
          "text": [
            "Train: 100%|##########| 391/391 [00:26<00:00, 14.88batch/s]\n"
          ]
        },
        {
          "metadata": {
            "tags": null
          },
          "name": "stdout",
          "output_type": "stream",
          "text": [
            "LR: 1.0000e-03, Train Loss: 0.1805, Train Acc: 0.9390, Train Latency: 26.29s, Memory Usage: 213.40MB\n",
            "Test Loss: 0.3241, Test Acc: 0.8915, Test Latency: 2.98s, Test Memory Usage: 61.86MB\n",
            "\n",
            "Epoch 143\n"
          ]
        },
        {
          "metadata": {
            "tags": null
          },
          "name": "stderr",
          "output_type": "stream",
          "text": [
            "Train: 100%|##########| 391/391 [00:26<00:00, 14.85batch/s]\n"
          ]
        },
        {
          "metadata": {
            "tags": null
          },
          "name": "stdout",
          "output_type": "stream",
          "text": [
            "LR: 1.0000e-03, Train Loss: 0.1818, Train Acc: 0.9386, Train Latency: 26.34s, Memory Usage: 213.40MB\n",
            "Test Loss: 0.3729, Test Acc: 0.8787, Test Latency: 2.98s, Test Memory Usage: 61.86MB\n",
            "\n",
            "Epoch 144\n"
          ]
        },
        {
          "metadata": {
            "tags": null
          },
          "name": "stderr",
          "output_type": "stream",
          "text": [
            "Train: 100%|##########| 391/391 [00:26<00:00, 14.90batch/s]\n"
          ]
        },
        {
          "metadata": {
            "tags": null
          },
          "name": "stdout",
          "output_type": "stream",
          "text": [
            "LR: 1.0000e-03, Train Loss: 0.1789, Train Acc: 0.9395, Train Latency: 26.25s, Memory Usage: 213.40MB\n",
            "Test Loss: 0.3589, Test Acc: 0.8841, Test Latency: 2.97s, Test Memory Usage: 61.86MB\n",
            "\n",
            "Epoch 145\n"
          ]
        },
        {
          "metadata": {
            "tags": null
          },
          "name": "stderr",
          "output_type": "stream",
          "text": [
            "Train: 100%|##########| 391/391 [00:26<00:00, 14.78batch/s]\n"
          ]
        },
        {
          "metadata": {
            "tags": null
          },
          "name": "stdout",
          "output_type": "stream",
          "text": [
            "LR: 1.0000e-03, Train Loss: 0.1786, Train Acc: 0.9395, Train Latency: 26.45s, Memory Usage: 213.40MB\n",
            "Test Loss: 0.3533, Test Acc: 0.8823, Test Latency: 2.99s, Test Memory Usage: 61.86MB\n",
            "\n",
            "Epoch 146\n"
          ]
        },
        {
          "metadata": {
            "tags": null
          },
          "name": "stderr",
          "output_type": "stream",
          "text": [
            "Train: 100%|##########| 391/391 [00:26<00:00, 14.82batch/s]\n"
          ]
        },
        {
          "metadata": {
            "tags": null
          },
          "name": "stdout",
          "output_type": "stream",
          "text": [
            "LR: 1.0000e-03, Train Loss: 0.1785, Train Acc: 0.9399, Train Latency: 26.39s, Memory Usage: 213.40MB\n",
            "Test Loss: 0.3457, Test Acc: 0.8885, Test Latency: 3.03s, Test Memory Usage: 61.86MB\n",
            "\n",
            "Epoch 147\n"
          ]
        },
        {
          "metadata": {
            "tags": null
          },
          "name": "stderr",
          "output_type": "stream",
          "text": [
            "Train: 100%|##########| 391/391 [00:26<00:00, 14.90batch/s]\n"
          ]
        },
        {
          "metadata": {
            "tags": null
          },
          "name": "stdout",
          "output_type": "stream",
          "text": [
            "LR: 1.0000e-03, Train Loss: 0.1812, Train Acc: 0.9389, Train Latency: 26.25s, Memory Usage: 213.40MB\n",
            "Test Loss: 0.4068, Test Acc: 0.8670, Test Latency: 2.98s, Test Memory Usage: 61.86MB\n",
            "\n",
            "Epoch 148\n"
          ]
        },
        {
          "metadata": {
            "tags": null
          },
          "name": "stderr",
          "output_type": "stream",
          "text": [
            "Train: 100%|##########| 391/391 [00:26<00:00, 14.91batch/s]\n"
          ]
        },
        {
          "metadata": {
            "tags": null
          },
          "name": "stdout",
          "output_type": "stream",
          "text": [
            "LR: 1.0000e-03, Train Loss: 0.1821, Train Acc: 0.9378, Train Latency: 26.22s, Memory Usage: 213.40MB\n",
            "Test Loss: 0.3565, Test Acc: 0.8836, Test Latency: 2.98s, Test Memory Usage: 61.86MB\n",
            "\n",
            "Epoch 149\n"
          ]
        },
        {
          "metadata": {
            "tags": null
          },
          "name": "stderr",
          "output_type": "stream",
          "text": [
            "Train: 100%|##########| 391/391 [00:26<00:00, 14.84batch/s]\n"
          ]
        },
        {
          "metadata": {
            "tags": null
          },
          "name": "stdout",
          "output_type": "stream",
          "text": [
            "LR: 1.0000e-03, Train Loss: 0.1768, Train Acc: 0.9410, Train Latency: 26.36s, Memory Usage: 213.40MB\n",
            "Test Loss: 0.3671, Test Acc: 0.8841, Test Latency: 3.01s, Test Memory Usage: 61.86MB\n",
            "\n",
            "Epoch 150\n"
          ]
        },
        {
          "metadata": {
            "tags": null
          },
          "name": "stderr",
          "output_type": "stream",
          "text": [
            "Train: 100%|##########| 391/391 [00:26<00:00, 14.77batch/s]\n"
          ]
        },
        {
          "metadata": {
            "tags": null
          },
          "name": "stdout",
          "output_type": "stream",
          "text": [
            "LR: 1.0000e-03, Train Loss: 0.1810, Train Acc: 0.9385, Train Latency: 26.48s, Memory Usage: 213.40MB\n",
            "Test Loss: 0.3312, Test Acc: 0.8896, Test Latency: 2.99s, Test Memory Usage: 61.86MB\n",
            "\n",
            "Epoch 151\n"
          ]
        },
        {
          "metadata": {
            "tags": null
          },
          "name": "stderr",
          "output_type": "stream",
          "text": [
            "Train: 100%|##########| 391/391 [00:26<00:00, 14.76batch/s]\n"
          ]
        },
        {
          "metadata": {
            "tags": null
          },
          "name": "stdout",
          "output_type": "stream",
          "text": [
            "LR: 1.0000e-04, Train Loss: 0.1555, Train Acc: 0.9487, Train Latency: 26.50s, Memory Usage: 213.40MB\n",
            "Test Loss: 0.3044, Test Acc: 0.8975, Test Latency: 3.00s, Test Memory Usage: 61.86MB\n",
            "Saving best model ...\n",
            "\n",
            "Epoch 152\n"
          ]
        },
        {
          "metadata": {
            "tags": null
          },
          "name": "stderr",
          "output_type": "stream",
          "text": [
            "Train: 100%|##########| 391/391 [00:26<00:00, 14.82batch/s]\n"
          ]
        },
        {
          "metadata": {
            "tags": null
          },
          "name": "stdout",
          "output_type": "stream",
          "text": [
            "LR: 1.0000e-04, Train Loss: 0.1489, Train Acc: 0.9519, Train Latency: 26.39s, Memory Usage: 213.40MB\n",
            "Test Loss: 0.3058, Test Acc: 0.8995, Test Latency: 2.98s, Test Memory Usage: 61.86MB\n",
            "Saving best model ...\n",
            "\n",
            "Epoch 153\n"
          ]
        },
        {
          "metadata": {
            "tags": null
          },
          "name": "stderr",
          "output_type": "stream",
          "text": [
            "Train: 100%|##########| 391/391 [00:26<00:00, 14.78batch/s]\n"
          ]
        },
        {
          "metadata": {
            "tags": null
          },
          "name": "stdout",
          "output_type": "stream",
          "text": [
            "LR: 1.0000e-04, Train Loss: 0.1489, Train Acc: 0.9507, Train Latency: 26.45s, Memory Usage: 213.40MB\n",
            "Test Loss: 0.3113, Test Acc: 0.8949, Test Latency: 3.01s, Test Memory Usage: 61.86MB\n",
            "\n",
            "Epoch 154\n"
          ]
        },
        {
          "metadata": {
            "tags": null
          },
          "name": "stderr",
          "output_type": "stream",
          "text": [
            "Train: 100%|##########| 391/391 [00:26<00:00, 14.87batch/s]\n"
          ]
        },
        {
          "metadata": {
            "tags": null
          },
          "name": "stdout",
          "output_type": "stream",
          "text": [
            "LR: 1.0000e-04, Train Loss: 0.1445, Train Acc: 0.9529, Train Latency: 26.30s, Memory Usage: 213.40MB\n",
            "Test Loss: 0.3001, Test Acc: 0.9000, Test Latency: 3.02s, Test Memory Usage: 61.86MB\n",
            "Saving best model ...\n",
            "\n",
            "Epoch 155\n"
          ]
        },
        {
          "metadata": {
            "tags": null
          },
          "name": "stderr",
          "output_type": "stream",
          "text": [
            "Train: 100%|##########| 391/391 [00:26<00:00, 14.86batch/s]\n"
          ]
        },
        {
          "metadata": {
            "tags": null
          },
          "name": "stdout",
          "output_type": "stream",
          "text": [
            "LR: 1.0000e-04, Train Loss: 0.1439, Train Acc: 0.9531, Train Latency: 26.32s, Memory Usage: 213.40MB\n",
            "Test Loss: 0.3036, Test Acc: 0.8987, Test Latency: 3.00s, Test Memory Usage: 61.86MB\n",
            "\n",
            "Epoch 156\n"
          ]
        },
        {
          "metadata": {
            "tags": null
          },
          "name": "stderr",
          "output_type": "stream",
          "text": [
            "Train: 100%|##########| 391/391 [00:26<00:00, 14.88batch/s]\n"
          ]
        },
        {
          "metadata": {
            "tags": null
          },
          "name": "stdout",
          "output_type": "stream",
          "text": [
            "LR: 1.0000e-04, Train Loss: 0.1447, Train Acc: 0.9528, Train Latency: 26.28s, Memory Usage: 213.40MB\n",
            "Test Loss: 0.3011, Test Acc: 0.9013, Test Latency: 3.04s, Test Memory Usage: 61.86MB\n",
            "Saving best model ...\n",
            "\n",
            "Epoch 157\n"
          ]
        },
        {
          "metadata": {
            "tags": null
          },
          "name": "stderr",
          "output_type": "stream",
          "text": [
            "Train: 100%|##########| 391/391 [00:26<00:00, 14.83batch/s]\n"
          ]
        },
        {
          "metadata": {
            "tags": null
          },
          "name": "stdout",
          "output_type": "stream",
          "text": [
            "LR: 1.0000e-04, Train Loss: 0.1410, Train Acc: 0.9546, Train Latency: 26.36s, Memory Usage: 213.40MB\n",
            "Test Loss: 0.3034, Test Acc: 0.8996, Test Latency: 3.00s, Test Memory Usage: 61.86MB\n",
            "\n",
            "Epoch 158\n"
          ]
        },
        {
          "metadata": {
            "tags": null
          },
          "name": "stderr",
          "output_type": "stream",
          "text": [
            "Train: 100%|##########| 391/391 [00:26<00:00, 14.77batch/s]\n"
          ]
        },
        {
          "metadata": {
            "tags": null
          },
          "name": "stdout",
          "output_type": "stream",
          "text": [
            "LR: 1.0000e-04, Train Loss: 0.1422, Train Acc: 0.9530, Train Latency: 26.48s, Memory Usage: 213.40MB\n",
            "Test Loss: 0.3056, Test Acc: 0.9006, Test Latency: 2.98s, Test Memory Usage: 61.86MB\n",
            "\n",
            "Epoch 159\n"
          ]
        },
        {
          "metadata": {
            "tags": null
          },
          "name": "stderr",
          "output_type": "stream",
          "text": [
            "Train: 100%|##########| 391/391 [00:26<00:00, 14.80batch/s]\n"
          ]
        },
        {
          "metadata": {
            "tags": null
          },
          "name": "stdout",
          "output_type": "stream",
          "text": [
            "LR: 1.0000e-04, Train Loss: 0.1419, Train Acc: 0.9542, Train Latency: 26.42s, Memory Usage: 213.40MB\n",
            "Test Loss: 0.3032, Test Acc: 0.8993, Test Latency: 3.04s, Test Memory Usage: 61.86MB\n",
            "\n",
            "Epoch 160\n"
          ]
        },
        {
          "metadata": {
            "tags": null
          },
          "name": "stderr",
          "output_type": "stream",
          "text": [
            "Train: 100%|##########| 391/391 [00:26<00:00, 14.85batch/s]\n"
          ]
        },
        {
          "metadata": {
            "tags": null
          },
          "name": "stdout",
          "output_type": "stream",
          "text": [
            "LR: 1.0000e-04, Train Loss: 0.1444, Train Acc: 0.9535, Train Latency: 26.34s, Memory Usage: 213.40MB\n",
            "Test Loss: 0.3140, Test Acc: 0.8975, Test Latency: 2.97s, Test Memory Usage: 61.86MB\n",
            "\n",
            "Epoch 161\n"
          ]
        },
        {
          "metadata": {
            "tags": null
          },
          "name": "stderr",
          "output_type": "stream",
          "text": [
            "Train: 100%|##########| 391/391 [00:26<00:00, 14.88batch/s]\n"
          ]
        },
        {
          "metadata": {
            "tags": null
          },
          "name": "stdout",
          "output_type": "stream",
          "text": [
            "LR: 1.0000e-04, Train Loss: 0.1430, Train Acc: 0.9534, Train Latency: 26.29s, Memory Usage: 213.40MB\n",
            "Test Loss: 0.3039, Test Acc: 0.8996, Test Latency: 3.01s, Test Memory Usage: 61.86MB\n",
            "\n",
            "Epoch 162\n"
          ]
        },
        {
          "metadata": {
            "tags": null
          },
          "name": "stderr",
          "output_type": "stream",
          "text": [
            "Train: 100%|##########| 391/391 [00:26<00:00, 14.86batch/s]\n"
          ]
        },
        {
          "metadata": {
            "tags": null
          },
          "name": "stdout",
          "output_type": "stream",
          "text": [
            "LR: 1.0000e-04, Train Loss: 0.1386, Train Acc: 0.9545, Train Latency: 26.32s, Memory Usage: 213.40MB\n",
            "Test Loss: 0.3014, Test Acc: 0.8994, Test Latency: 3.02s, Test Memory Usage: 61.86MB\n",
            "\n",
            "Epoch 163\n"
          ]
        },
        {
          "metadata": {
            "tags": null
          },
          "name": "stderr",
          "output_type": "stream",
          "text": [
            "Train: 100%|##########| 391/391 [00:26<00:00, 14.82batch/s]\n"
          ]
        },
        {
          "metadata": {
            "tags": null
          },
          "name": "stdout",
          "output_type": "stream",
          "text": [
            "LR: 1.0000e-04, Train Loss: 0.1410, Train Acc: 0.9539, Train Latency: 26.38s, Memory Usage: 213.40MB\n",
            "Test Loss: 0.3012, Test Acc: 0.8988, Test Latency: 2.99s, Test Memory Usage: 61.86MB\n",
            "\n",
            "Epoch 164\n"
          ]
        },
        {
          "metadata": {
            "tags": null
          },
          "name": "stderr",
          "output_type": "stream",
          "text": [
            "Train: 100%|##########| 391/391 [00:26<00:00, 14.81batch/s]\n"
          ]
        },
        {
          "metadata": {
            "tags": null
          },
          "name": "stdout",
          "output_type": "stream",
          "text": [
            "LR: 1.0000e-04, Train Loss: 0.1382, Train Acc: 0.9552, Train Latency: 26.41s, Memory Usage: 213.40MB\n",
            "Test Loss: 0.3041, Test Acc: 0.8985, Test Latency: 2.99s, Test Memory Usage: 61.86MB\n",
            "\n",
            "Epoch 165\n"
          ]
        },
        {
          "metadata": {
            "tags": null
          },
          "name": "stderr",
          "output_type": "stream",
          "text": [
            "Train: 100%|##########| 391/391 [00:26<00:00, 14.85batch/s]\n"
          ]
        },
        {
          "metadata": {
            "tags": null
          },
          "name": "stdout",
          "output_type": "stream",
          "text": [
            "LR: 1.0000e-04, Train Loss: 0.1411, Train Acc: 0.9528, Train Latency: 26.33s, Memory Usage: 213.40MB\n",
            "Test Loss: 0.3105, Test Acc: 0.8948, Test Latency: 3.00s, Test Memory Usage: 61.86MB\n",
            "\n",
            "Epoch 166\n"
          ]
        },
        {
          "metadata": {
            "tags": null
          },
          "name": "stderr",
          "output_type": "stream",
          "text": [
            "Train: 100%|##########| 391/391 [00:26<00:00, 14.72batch/s]\n"
          ]
        },
        {
          "metadata": {
            "tags": null
          },
          "name": "stdout",
          "output_type": "stream",
          "text": [
            "LR: 1.0000e-04, Train Loss: 0.1369, Train Acc: 0.9552, Train Latency: 26.57s, Memory Usage: 213.40MB\n",
            "Test Loss: 0.3166, Test Acc: 0.8934, Test Latency: 3.00s, Test Memory Usage: 61.86MB\n",
            "\n",
            "Epoch 167\n"
          ]
        },
        {
          "metadata": {
            "tags": null
          },
          "name": "stderr",
          "output_type": "stream",
          "text": [
            "Train: 100%|##########| 391/391 [00:26<00:00, 14.76batch/s]\n"
          ]
        },
        {
          "metadata": {
            "tags": null
          },
          "name": "stdout",
          "output_type": "stream",
          "text": [
            "LR: 1.0000e-04, Train Loss: 0.1397, Train Acc: 0.9551, Train Latency: 26.49s, Memory Usage: 213.40MB\n",
            "Test Loss: 0.3025, Test Acc: 0.9021, Test Latency: 3.01s, Test Memory Usage: 61.86MB\n",
            "Saving best model ...\n",
            "\n",
            "Epoch 168\n"
          ]
        },
        {
          "metadata": {
            "tags": null
          },
          "name": "stderr",
          "output_type": "stream",
          "text": [
            "Train: 100%|##########| 391/391 [00:26<00:00, 14.78batch/s]\n"
          ]
        },
        {
          "metadata": {
            "tags": null
          },
          "name": "stdout",
          "output_type": "stream",
          "text": [
            "LR: 1.0000e-04, Train Loss: 0.1380, Train Acc: 0.9555, Train Latency: 26.45s, Memory Usage: 213.40MB\n",
            "Test Loss: 0.3025, Test Acc: 0.8990, Test Latency: 3.00s, Test Memory Usage: 61.86MB\n",
            "\n",
            "Epoch 169\n"
          ]
        },
        {
          "metadata": {
            "tags": null
          },
          "name": "stderr",
          "output_type": "stream",
          "text": [
            "Train: 100%|##########| 391/391 [00:26<00:00, 14.82batch/s]\n"
          ]
        },
        {
          "metadata": {
            "tags": null
          },
          "name": "stdout",
          "output_type": "stream",
          "text": [
            "LR: 1.0000e-04, Train Loss: 0.1357, Train Acc: 0.9559, Train Latency: 26.38s, Memory Usage: 213.40MB\n",
            "Test Loss: 0.3138, Test Acc: 0.8977, Test Latency: 3.01s, Test Memory Usage: 61.86MB\n",
            "\n",
            "Epoch 170\n"
          ]
        },
        {
          "metadata": {
            "tags": null
          },
          "name": "stderr",
          "output_type": "stream",
          "text": [
            "Train: 100%|##########| 391/391 [00:26<00:00, 14.84batch/s]\n"
          ]
        },
        {
          "metadata": {
            "tags": null
          },
          "name": "stdout",
          "output_type": "stream",
          "text": [
            "LR: 1.0000e-04, Train Loss: 0.1387, Train Acc: 0.9549, Train Latency: 26.36s, Memory Usage: 213.40MB\n",
            "Test Loss: 0.3372, Test Acc: 0.8917, Test Latency: 2.99s, Test Memory Usage: 61.86MB\n",
            "\n",
            "Epoch 171\n"
          ]
        },
        {
          "metadata": {
            "tags": null
          },
          "name": "stderr",
          "output_type": "stream",
          "text": [
            "Train: 100%|##########| 391/391 [00:26<00:00, 14.84batch/s]\n"
          ]
        },
        {
          "metadata": {
            "tags": null
          },
          "name": "stdout",
          "output_type": "stream",
          "text": [
            "LR: 1.0000e-04, Train Loss: 0.1356, Train Acc: 0.9551, Train Latency: 26.35s, Memory Usage: 213.40MB\n",
            "Test Loss: 0.3027, Test Acc: 0.9010, Test Latency: 2.99s, Test Memory Usage: 61.86MB\n",
            "\n",
            "Epoch 172\n"
          ]
        },
        {
          "metadata": {
            "tags": null
          },
          "name": "stderr",
          "output_type": "stream",
          "text": [
            "Train: 100%|##########| 391/391 [00:26<00:00, 14.86batch/s]\n"
          ]
        },
        {
          "metadata": {
            "tags": null
          },
          "name": "stdout",
          "output_type": "stream",
          "text": [
            "LR: 1.0000e-04, Train Loss: 0.1368, Train Acc: 0.9554, Train Latency: 26.31s, Memory Usage: 213.40MB\n",
            "Test Loss: 0.3051, Test Acc: 0.8996, Test Latency: 2.99s, Test Memory Usage: 61.86MB\n",
            "\n",
            "Epoch 173\n"
          ]
        },
        {
          "metadata": {
            "tags": null
          },
          "name": "stderr",
          "output_type": "stream",
          "text": [
            "Train: 100%|##########| 391/391 [00:26<00:00, 14.88batch/s]\n"
          ]
        },
        {
          "metadata": {
            "tags": null
          },
          "name": "stdout",
          "output_type": "stream",
          "text": [
            "LR: 1.0000e-04, Train Loss: 0.1392, Train Acc: 0.9545, Train Latency: 26.28s, Memory Usage: 213.40MB\n",
            "Test Loss: 0.3131, Test Acc: 0.8976, Test Latency: 3.00s, Test Memory Usage: 61.86MB\n",
            "\n",
            "Epoch 174\n"
          ]
        },
        {
          "metadata": {
            "tags": null
          },
          "name": "stderr",
          "output_type": "stream",
          "text": [
            "Train: 100%|##########| 391/391 [00:26<00:00, 14.83batch/s]\n"
          ]
        },
        {
          "metadata": {
            "tags": null
          },
          "name": "stdout",
          "output_type": "stream",
          "text": [
            "LR: 1.0000e-04, Train Loss: 0.1382, Train Acc: 0.9540, Train Latency: 26.37s, Memory Usage: 213.40MB\n",
            "Test Loss: 0.3188, Test Acc: 0.8939, Test Latency: 3.04s, Test Memory Usage: 61.86MB\n",
            "\n",
            "Epoch 175\n"
          ]
        },
        {
          "metadata": {
            "tags": null
          },
          "name": "stderr",
          "output_type": "stream",
          "text": [
            "Train: 100%|##########| 391/391 [00:26<00:00, 14.78batch/s]\n"
          ]
        },
        {
          "metadata": {
            "tags": null
          },
          "name": "stdout",
          "output_type": "stream",
          "text": [
            "LR: 1.0000e-04, Train Loss: 0.1359, Train Acc: 0.9565, Train Latency: 26.46s, Memory Usage: 213.40MB\n",
            "Test Loss: 0.3069, Test Acc: 0.8975, Test Latency: 3.00s, Test Memory Usage: 61.86MB\n",
            "\n",
            "Epoch 176\n"
          ]
        },
        {
          "metadata": {
            "tags": null
          },
          "name": "stderr",
          "output_type": "stream",
          "text": [
            "Train: 100%|##########| 391/391 [00:26<00:00, 14.92batch/s]\n"
          ]
        },
        {
          "metadata": {
            "tags": null
          },
          "name": "stdout",
          "output_type": "stream",
          "text": [
            "LR: 1.0000e-04, Train Loss: 0.1356, Train Acc: 0.9559, Train Latency: 26.22s, Memory Usage: 213.40MB\n",
            "Test Loss: 0.3184, Test Acc: 0.8963, Test Latency: 3.00s, Test Memory Usage: 61.86MB\n",
            "\n",
            "Epoch 177\n"
          ]
        },
        {
          "metadata": {
            "tags": null
          },
          "name": "stderr",
          "output_type": "stream",
          "text": [
            "Train: 100%|##########| 391/391 [00:26<00:00, 14.81batch/s]\n"
          ]
        },
        {
          "metadata": {
            "tags": null
          },
          "name": "stdout",
          "output_type": "stream",
          "text": [
            "LR: 1.0000e-04, Train Loss: 0.1361, Train Acc: 0.9554, Train Latency: 26.40s, Memory Usage: 213.40MB\n",
            "Test Loss: 0.3290, Test Acc: 0.8927, Test Latency: 3.03s, Test Memory Usage: 61.86MB\n",
            "\n",
            "Epoch 178\n"
          ]
        },
        {
          "metadata": {
            "tags": null
          },
          "name": "stderr",
          "output_type": "stream",
          "text": [
            "Train: 100%|##########| 391/391 [00:26<00:00, 14.86batch/s]\n"
          ]
        },
        {
          "metadata": {
            "tags": null
          },
          "name": "stdout",
          "output_type": "stream",
          "text": [
            "LR: 1.0000e-04, Train Loss: 0.1348, Train Acc: 0.9552, Train Latency: 26.31s, Memory Usage: 213.40MB\n",
            "Test Loss: 0.3167, Test Acc: 0.8945, Test Latency: 2.99s, Test Memory Usage: 61.86MB\n",
            "\n",
            "Epoch 179\n"
          ]
        },
        {
          "metadata": {
            "tags": null
          },
          "name": "stderr",
          "output_type": "stream",
          "text": [
            "Train: 100%|##########| 391/391 [00:26<00:00, 14.85batch/s]\n"
          ]
        },
        {
          "metadata": {
            "tags": null
          },
          "name": "stdout",
          "output_type": "stream",
          "text": [
            "LR: 1.0000e-04, Train Loss: 0.1379, Train Acc: 0.9548, Train Latency: 26.33s, Memory Usage: 213.40MB\n",
            "Test Loss: 0.3168, Test Acc: 0.8953, Test Latency: 2.99s, Test Memory Usage: 61.86MB\n",
            "\n",
            "Epoch 180\n"
          ]
        },
        {
          "metadata": {
            "tags": null
          },
          "name": "stderr",
          "output_type": "stream",
          "text": [
            "Train: 100%|##########| 391/391 [00:26<00:00, 14.86batch/s]\n"
          ]
        },
        {
          "metadata": {
            "tags": null
          },
          "name": "stdout",
          "output_type": "stream",
          "text": [
            "LR: 1.0000e-04, Train Loss: 0.1371, Train Acc: 0.9555, Train Latency: 26.32s, Memory Usage: 213.40MB\n",
            "Test Loss: 0.3161, Test Acc: 0.8953, Test Latency: 3.00s, Test Memory Usage: 61.86MB\n",
            "\n",
            "Epoch 181\n"
          ]
        },
        {
          "metadata": {
            "tags": null
          },
          "name": "stderr",
          "output_type": "stream",
          "text": [
            "Train: 100%|##########| 391/391 [00:26<00:00, 14.86batch/s]\n"
          ]
        },
        {
          "metadata": {
            "tags": null
          },
          "name": "stdout",
          "output_type": "stream",
          "text": [
            "LR: 1.0000e-04, Train Loss: 0.1388, Train Acc: 0.9548, Train Latency: 26.31s, Memory Usage: 213.40MB\n",
            "Test Loss: 0.3340, Test Acc: 0.8922, Test Latency: 2.99s, Test Memory Usage: 61.86MB\n",
            "\n",
            "Epoch 182\n"
          ]
        },
        {
          "metadata": {
            "tags": null
          },
          "name": "stderr",
          "output_type": "stream",
          "text": [
            "Train: 100%|##########| 391/391 [00:26<00:00, 14.79batch/s]\n"
          ]
        },
        {
          "metadata": {
            "tags": null
          },
          "name": "stdout",
          "output_type": "stream",
          "text": [
            "LR: 1.0000e-04, Train Loss: 0.1352, Train Acc: 0.9563, Train Latency: 26.44s, Memory Usage: 213.40MB\n",
            "Test Loss: 0.3251, Test Acc: 0.8921, Test Latency: 2.99s, Test Memory Usage: 61.86MB\n",
            "\n",
            "Epoch 183\n"
          ]
        },
        {
          "metadata": {
            "tags": null
          },
          "name": "stderr",
          "output_type": "stream",
          "text": [
            "Train: 100%|##########| 391/391 [00:26<00:00, 14.81batch/s]\n"
          ]
        },
        {
          "metadata": {
            "tags": null
          },
          "name": "stdout",
          "output_type": "stream",
          "text": [
            "LR: 1.0000e-04, Train Loss: 0.1372, Train Acc: 0.9552, Train Latency: 26.40s, Memory Usage: 213.40MB\n",
            "Test Loss: 0.3106, Test Acc: 0.8984, Test Latency: 3.03s, Test Memory Usage: 61.86MB\n",
            "\n",
            "Epoch 184\n"
          ]
        },
        {
          "metadata": {
            "tags": null
          },
          "name": "stderr",
          "output_type": "stream",
          "text": [
            "Train: 100%|##########| 391/391 [00:26<00:00, 14.82batch/s]\n"
          ]
        },
        {
          "metadata": {
            "tags": null
          },
          "name": "stdout",
          "output_type": "stream",
          "text": [
            "LR: 1.0000e-04, Train Loss: 0.1356, Train Acc: 0.9556, Train Latency: 26.38s, Memory Usage: 213.40MB\n",
            "Test Loss: 0.3029, Test Acc: 0.9000, Test Latency: 2.96s, Test Memory Usage: 61.86MB\n",
            "\n",
            "Epoch 185\n"
          ]
        },
        {
          "metadata": {
            "tags": null
          },
          "name": "stderr",
          "output_type": "stream",
          "text": [
            "Train: 100%|##########| 391/391 [00:26<00:00, 14.80batch/s]\n"
          ]
        },
        {
          "metadata": {
            "tags": null
          },
          "name": "stdout",
          "output_type": "stream",
          "text": [
            "LR: 1.0000e-04, Train Loss: 0.1391, Train Acc: 0.9559, Train Latency: 26.42s, Memory Usage: 213.40MB\n",
            "Test Loss: 0.3096, Test Acc: 0.8997, Test Latency: 3.01s, Test Memory Usage: 61.86MB\n",
            "\n",
            "Epoch 186\n"
          ]
        },
        {
          "metadata": {
            "tags": null
          },
          "name": "stderr",
          "output_type": "stream",
          "text": [
            "Train: 100%|##########| 391/391 [00:26<00:00, 14.79batch/s]\n"
          ]
        },
        {
          "metadata": {
            "tags": null
          },
          "name": "stdout",
          "output_type": "stream",
          "text": [
            "LR: 1.0000e-04, Train Loss: 0.1375, Train Acc: 0.9555, Train Latency: 26.45s, Memory Usage: 213.40MB\n",
            "Test Loss: 0.3053, Test Acc: 0.9005, Test Latency: 2.98s, Test Memory Usage: 61.86MB\n",
            "\n",
            "Epoch 187\n"
          ]
        },
        {
          "metadata": {
            "tags": null
          },
          "name": "stderr",
          "output_type": "stream",
          "text": [
            "Train: 100%|##########| 391/391 [00:26<00:00, 14.81batch/s]\n"
          ]
        },
        {
          "metadata": {
            "tags": null
          },
          "name": "stdout",
          "output_type": "stream",
          "text": [
            "LR: 1.0000e-04, Train Loss: 0.1347, Train Acc: 0.9566, Train Latency: 26.40s, Memory Usage: 213.40MB\n",
            "Test Loss: 0.3361, Test Acc: 0.8931, Test Latency: 3.04s, Test Memory Usage: 61.86MB\n",
            "\n",
            "Epoch 188\n"
          ]
        },
        {
          "metadata": {
            "tags": null
          },
          "name": "stderr",
          "output_type": "stream",
          "text": [
            "Train: 100%|##########| 391/391 [00:26<00:00, 14.82batch/s]\n"
          ]
        },
        {
          "metadata": {
            "tags": null
          },
          "name": "stdout",
          "output_type": "stream",
          "text": [
            "LR: 1.0000e-04, Train Loss: 0.1357, Train Acc: 0.9561, Train Latency: 26.39s, Memory Usage: 213.40MB\n",
            "Test Loss: 0.3401, Test Acc: 0.8888, Test Latency: 3.02s, Test Memory Usage: 61.86MB\n",
            "\n",
            "Epoch 189\n"
          ]
        },
        {
          "metadata": {
            "tags": null
          },
          "name": "stderr",
          "output_type": "stream",
          "text": [
            "Train: 100%|##########| 391/391 [00:26<00:00, 14.83batch/s]\n"
          ]
        },
        {
          "metadata": {
            "tags": null
          },
          "name": "stdout",
          "output_type": "stream",
          "text": [
            "LR: 1.0000e-04, Train Loss: 0.1353, Train Acc: 0.9558, Train Latency: 26.36s, Memory Usage: 213.40MB\n",
            "Test Loss: 0.3049, Test Acc: 0.9003, Test Latency: 2.98s, Test Memory Usage: 61.86MB\n",
            "\n",
            "Epoch 190\n"
          ]
        },
        {
          "metadata": {
            "tags": null
          },
          "name": "stderr",
          "output_type": "stream",
          "text": [
            "Train: 100%|##########| 391/391 [00:26<00:00, 14.83batch/s]\n"
          ]
        },
        {
          "metadata": {
            "tags": null
          },
          "name": "stdout",
          "output_type": "stream",
          "text": [
            "LR: 1.0000e-04, Train Loss: 0.1384, Train Acc: 0.9549, Train Latency: 26.37s, Memory Usage: 213.40MB\n",
            "Test Loss: 0.3265, Test Acc: 0.8944, Test Latency: 2.96s, Test Memory Usage: 61.86MB\n",
            "\n",
            "Epoch 191\n"
          ]
        },
        {
          "metadata": {
            "tags": null
          },
          "name": "stderr",
          "output_type": "stream",
          "text": [
            "Train: 100%|##########| 391/391 [00:26<00:00, 14.83batch/s]\n"
          ]
        },
        {
          "metadata": {
            "tags": null
          },
          "name": "stdout",
          "output_type": "stream",
          "text": [
            "LR: 1.0000e-04, Train Loss: 0.1354, Train Acc: 0.9564, Train Latency: 26.38s, Memory Usage: 213.40MB\n",
            "Test Loss: 0.3242, Test Acc: 0.8944, Test Latency: 3.06s, Test Memory Usage: 61.86MB\n",
            "\n",
            "Epoch 192\n"
          ]
        },
        {
          "metadata": {
            "tags": null
          },
          "name": "stderr",
          "output_type": "stream",
          "text": [
            "Train: 100%|##########| 391/391 [00:26<00:00, 14.82batch/s]\n"
          ]
        },
        {
          "metadata": {
            "tags": null
          },
          "name": "stdout",
          "output_type": "stream",
          "text": [
            "LR: 1.0000e-04, Train Loss: 0.1384, Train Acc: 0.9551, Train Latency: 26.39s, Memory Usage: 213.40MB\n",
            "Test Loss: 0.3091, Test Acc: 0.8991, Test Latency: 2.95s, Test Memory Usage: 61.86MB\n",
            "\n",
            "Epoch 193\n"
          ]
        },
        {
          "metadata": {
            "tags": null
          },
          "name": "stderr",
          "output_type": "stream",
          "text": [
            "Train: 100%|##########| 391/391 [00:26<00:00, 14.73batch/s]\n"
          ]
        },
        {
          "metadata": {
            "tags": null
          },
          "name": "stdout",
          "output_type": "stream",
          "text": [
            "LR: 1.0000e-04, Train Loss: 0.1366, Train Acc: 0.9554, Train Latency: 26.55s, Memory Usage: 213.40MB\n",
            "Test Loss: 0.3185, Test Acc: 0.8953, Test Latency: 3.01s, Test Memory Usage: 61.86MB\n",
            "\n",
            "Epoch 194\n"
          ]
        },
        {
          "metadata": {
            "tags": null
          },
          "name": "stderr",
          "output_type": "stream",
          "text": [
            "Train: 100%|##########| 391/391 [00:26<00:00, 14.83batch/s]\n"
          ]
        },
        {
          "metadata": {
            "tags": null
          },
          "name": "stdout",
          "output_type": "stream",
          "text": [
            "LR: 1.0000e-04, Train Loss: 0.1390, Train Acc: 0.9540, Train Latency: 26.37s, Memory Usage: 213.40MB\n",
            "Test Loss: 0.3241, Test Acc: 0.8961, Test Latency: 3.00s, Test Memory Usage: 61.86MB\n",
            "\n",
            "Epoch 195\n"
          ]
        },
        {
          "metadata": {
            "tags": null
          },
          "name": "stderr",
          "output_type": "stream",
          "text": [
            "Train: 100%|##########| 391/391 [00:26<00:00, 14.73batch/s]\n"
          ]
        },
        {
          "metadata": {
            "tags": null
          },
          "name": "stdout",
          "output_type": "stream",
          "text": [
            "LR: 1.0000e-04, Train Loss: 0.1354, Train Acc: 0.9551, Train Latency: 26.56s, Memory Usage: 213.40MB\n",
            "Test Loss: 0.3193, Test Acc: 0.8952, Test Latency: 3.01s, Test Memory Usage: 61.86MB\n",
            "\n",
            "Epoch 196\n"
          ]
        },
        {
          "metadata": {
            "tags": null
          },
          "name": "stderr",
          "output_type": "stream",
          "text": [
            "Train: 100%|##########| 391/391 [00:26<00:00, 14.76batch/s]\n"
          ]
        },
        {
          "metadata": {
            "tags": null
          },
          "name": "stdout",
          "output_type": "stream",
          "text": [
            "LR: 1.0000e-04, Train Loss: 0.1375, Train Acc: 0.9540, Train Latency: 26.50s, Memory Usage: 213.40MB\n",
            "Test Loss: 0.3176, Test Acc: 0.8962, Test Latency: 3.05s, Test Memory Usage: 61.86MB\n",
            "\n",
            "Epoch 197\n"
          ]
        },
        {
          "metadata": {
            "tags": null
          },
          "name": "stderr",
          "output_type": "stream",
          "text": [
            "Train: 100%|##########| 391/391 [00:26<00:00, 14.90batch/s]\n"
          ]
        },
        {
          "metadata": {
            "tags": null
          },
          "name": "stdout",
          "output_type": "stream",
          "text": [
            "LR: 1.0000e-04, Train Loss: 0.1344, Train Acc: 0.9566, Train Latency: 26.25s, Memory Usage: 213.40MB\n",
            "Test Loss: 0.3263, Test Acc: 0.8918, Test Latency: 3.02s, Test Memory Usage: 61.86MB\n",
            "\n",
            "Epoch 198\n"
          ]
        },
        {
          "metadata": {
            "tags": null
          },
          "name": "stderr",
          "output_type": "stream",
          "text": [
            "Train: 100%|##########| 391/391 [00:26<00:00, 14.76batch/s]\n"
          ]
        },
        {
          "metadata": {
            "tags": null
          },
          "name": "stdout",
          "output_type": "stream",
          "text": [
            "LR: 1.0000e-04, Train Loss: 0.1345, Train Acc: 0.9569, Train Latency: 26.50s, Memory Usage: 213.40MB\n",
            "Test Loss: 0.3184, Test Acc: 0.8961, Test Latency: 2.99s, Test Memory Usage: 61.86MB\n",
            "\n",
            "Epoch 199\n"
          ]
        },
        {
          "metadata": {
            "tags": null
          },
          "name": "stderr",
          "output_type": "stream",
          "text": [
            "Train: 100%|##########| 391/391 [00:26<00:00, 14.75batch/s]\n"
          ]
        },
        {
          "metadata": {
            "tags": null
          },
          "name": "stdout",
          "output_type": "stream",
          "text": [
            "LR: 1.0000e-04, Train Loss: 0.1357, Train Acc: 0.9552, Train Latency: 26.51s, Memory Usage: 213.40MB\n",
            "Test Loss: 0.3234, Test Acc: 0.8917, Test Latency: 3.09s, Test Memory Usage: 61.86MB\n",
            "\n",
            "Epoch 200\n"
          ]
        },
        {
          "metadata": {
            "tags": null
          },
          "name": "stderr",
          "output_type": "stream",
          "text": [
            "Train: 100%|##########| 391/391 [00:26<00:00, 14.78batch/s]\n"
          ]
        },
        {
          "metadata": {
            "tags": null
          },
          "name": "stdout",
          "output_type": "stream",
          "text": [
            "LR: 1.0000e-04, Train Loss: 0.1388, Train Acc: 0.9546, Train Latency: 26.45s, Memory Usage: 213.40MB\n",
            "Test Loss: 0.3315, Test Acc: 0.8947, Test Latency: 2.99s, Test Memory Usage: 61.86MB\n",
            "Saving final epoch model ...\n",
            "\n",
            "Quantization: weight=2 activation=None linear=True, Using device: cuda\n",
            "\n",
            "Epoch 1\n"
          ]
        },
        {
          "metadata": {
            "tags": null
          },
          "name": "stderr",
          "output_type": "stream",
          "text": [
            "Train: 100%|##########| 391/391 [00:26<00:00, 14.83batch/s]\n"
          ]
        },
        {
          "metadata": {
            "tags": null
          },
          "name": "stdout",
          "output_type": "stream",
          "text": [
            "LR: 1.0000e-01, Train Loss: 1.6293, Train Acc: 0.4012, Train Latency: 26.38s, Memory Usage: 213.40MB\n",
            "Test Loss: 1.5252, Test Acc: 0.4408, Test Latency: 3.01s, Test Memory Usage: 61.86MB\n",
            "\n",
            "Epoch 2\n"
          ]
        },
        {
          "metadata": {
            "tags": null
          },
          "name": "stderr",
          "output_type": "stream",
          "text": [
            "Train: 100%|##########| 391/391 [00:26<00:00, 14.81batch/s]\n"
          ]
        },
        {
          "metadata": {
            "tags": null
          },
          "name": "stdout",
          "output_type": "stream",
          "text": [
            "LR: 1.0000e-01, Train Loss: 1.1850, Train Acc: 0.5729, Train Latency: 26.40s, Memory Usage: 213.40MB\n",
            "Test Loss: 1.4754, Test Acc: 0.5122, Test Latency: 2.99s, Test Memory Usage: 61.86MB\n",
            "\n",
            "Epoch 3\n"
          ]
        },
        {
          "metadata": {
            "tags": null
          },
          "name": "stderr",
          "output_type": "stream",
          "text": [
            "Train: 100%|##########| 391/391 [00:26<00:00, 14.86batch/s]\n"
          ]
        },
        {
          "metadata": {
            "tags": null
          },
          "name": "stdout",
          "output_type": "stream",
          "text": [
            "LR: 1.0000e-01, Train Loss: 1.0073, Train Acc: 0.6450, Train Latency: 26.31s, Memory Usage: 213.40MB\n",
            "Test Loss: 2.0987, Test Acc: 0.4366, Test Latency: 2.98s, Test Memory Usage: 61.86MB\n",
            "\n",
            "Epoch 4\n"
          ]
        },
        {
          "metadata": {
            "tags": null
          },
          "name": "stderr",
          "output_type": "stream",
          "text": [
            "Train: 100%|##########| 391/391 [00:26<00:00, 14.81batch/s]\n"
          ]
        },
        {
          "metadata": {
            "tags": null
          },
          "name": "stdout",
          "output_type": "stream",
          "text": [
            "LR: 1.0000e-01, Train Loss: 0.9333, Train Acc: 0.6736, Train Latency: 26.40s, Memory Usage: 213.40MB\n",
            "Test Loss: 1.7083, Test Acc: 0.4649, Test Latency: 3.00s, Test Memory Usage: 61.86MB\n",
            "\n",
            "Epoch 5\n"
          ]
        },
        {
          "metadata": {
            "tags": null
          },
          "name": "stderr",
          "output_type": "stream",
          "text": [
            "Train: 100%|##########| 391/391 [00:26<00:00, 14.84batch/s]\n"
          ]
        },
        {
          "metadata": {
            "tags": null
          },
          "name": "stdout",
          "output_type": "stream",
          "text": [
            "LR: 1.0000e-01, Train Loss: 0.8894, Train Acc: 0.6926, Train Latency: 26.36s, Memory Usage: 213.40MB\n",
            "Test Loss: 1.2144, Test Acc: 0.5673, Test Latency: 3.00s, Test Memory Usage: 61.86MB\n",
            "\n",
            "Epoch 6\n"
          ]
        },
        {
          "metadata": {
            "tags": null
          },
          "name": "stderr",
          "output_type": "stream",
          "text": [
            "Train: 100%|##########| 391/391 [00:26<00:00, 14.83batch/s]\n"
          ]
        },
        {
          "metadata": {
            "tags": null
          },
          "name": "stdout",
          "output_type": "stream",
          "text": [
            "LR: 1.0000e-01, Train Loss: 0.8806, Train Acc: 0.6929, Train Latency: 26.36s, Memory Usage: 213.40MB\n",
            "Test Loss: 1.0827, Test Acc: 0.6396, Test Latency: 3.00s, Test Memory Usage: 61.86MB\n",
            "\n",
            "Epoch 7\n"
          ]
        },
        {
          "metadata": {
            "tags": null
          },
          "name": "stderr",
          "output_type": "stream",
          "text": [
            "Train: 100%|##########| 391/391 [00:26<00:00, 14.74batch/s]\n"
          ]
        },
        {
          "metadata": {
            "tags": null
          },
          "name": "stdout",
          "output_type": "stream",
          "text": [
            "LR: 1.0000e-01, Train Loss: 0.8652, Train Acc: 0.6980, Train Latency: 26.53s, Memory Usage: 213.40MB\n",
            "Test Loss: 1.5211, Test Acc: 0.5118, Test Latency: 3.09s, Test Memory Usage: 61.86MB\n",
            "\n",
            "Epoch 8\n"
          ]
        },
        {
          "metadata": {
            "tags": null
          },
          "name": "stderr",
          "output_type": "stream",
          "text": [
            "Train: 100%|##########| 391/391 [00:26<00:00, 14.80batch/s]\n"
          ]
        },
        {
          "metadata": {
            "tags": null
          },
          "name": "stdout",
          "output_type": "stream",
          "text": [
            "LR: 1.0000e-01, Train Loss: 0.8518, Train Acc: 0.7049, Train Latency: 26.42s, Memory Usage: 213.40MB\n",
            "Test Loss: 2.5312, Test Acc: 0.3216, Test Latency: 2.98s, Test Memory Usage: 61.86MB\n",
            "\n",
            "Epoch 9\n"
          ]
        },
        {
          "metadata": {
            "tags": null
          },
          "name": "stderr",
          "output_type": "stream",
          "text": [
            "Train: 100%|##########| 391/391 [00:26<00:00, 14.80batch/s]\n"
          ]
        },
        {
          "metadata": {
            "tags": null
          },
          "name": "stdout",
          "output_type": "stream",
          "text": [
            "LR: 1.0000e-01, Train Loss: 0.8429, Train Acc: 0.7066, Train Latency: 26.42s, Memory Usage: 213.40MB\n",
            "Test Loss: 1.5152, Test Acc: 0.4818, Test Latency: 3.00s, Test Memory Usage: 61.86MB\n",
            "\n",
            "Epoch 10\n"
          ]
        },
        {
          "metadata": {
            "tags": null
          },
          "name": "stderr",
          "output_type": "stream",
          "text": [
            "Train: 100%|##########| 391/391 [00:26<00:00, 14.78batch/s]\n"
          ]
        },
        {
          "metadata": {
            "tags": null
          },
          "name": "stdout",
          "output_type": "stream",
          "text": [
            "LR: 1.0000e-01, Train Loss: 0.8343, Train Acc: 0.7135, Train Latency: 26.47s, Memory Usage: 213.40MB\n",
            "Test Loss: 1.6928, Test Acc: 0.4356, Test Latency: 2.99s, Test Memory Usage: 61.86MB\n",
            "\n",
            "Epoch 11\n"
          ]
        },
        {
          "metadata": {
            "tags": null
          },
          "name": "stderr",
          "output_type": "stream",
          "text": [
            "Train: 100%|##########| 391/391 [00:26<00:00, 14.83batch/s]\n"
          ]
        },
        {
          "metadata": {
            "tags": null
          },
          "name": "stdout",
          "output_type": "stream",
          "text": [
            "LR: 1.0000e-01, Train Loss: 0.8254, Train Acc: 0.7141, Train Latency: 26.38s, Memory Usage: 213.40MB\n",
            "Test Loss: 1.1494, Test Acc: 0.6023, Test Latency: 2.98s, Test Memory Usage: 61.86MB\n",
            "\n",
            "Epoch 12\n"
          ]
        },
        {
          "metadata": {
            "tags": null
          },
          "name": "stderr",
          "output_type": "stream",
          "text": [
            "Train: 100%|##########| 391/391 [00:26<00:00, 14.87batch/s]\n"
          ]
        },
        {
          "metadata": {
            "tags": null
          },
          "name": "stdout",
          "output_type": "stream",
          "text": [
            "LR: 1.0000e-01, Train Loss: 0.8286, Train Acc: 0.7147, Train Latency: 26.29s, Memory Usage: 213.40MB\n",
            "Test Loss: 1.2362, Test Acc: 0.5920, Test Latency: 3.06s, Test Memory Usage: 61.86MB\n",
            "\n",
            "Epoch 13\n"
          ]
        },
        {
          "metadata": {
            "tags": null
          },
          "name": "stderr",
          "output_type": "stream",
          "text": [
            "Train: 100%|##########| 391/391 [00:26<00:00, 14.76batch/s]\n"
          ]
        },
        {
          "metadata": {
            "tags": null
          },
          "name": "stdout",
          "output_type": "stream",
          "text": [
            "LR: 1.0000e-01, Train Loss: 0.8172, Train Acc: 0.7187, Train Latency: 26.49s, Memory Usage: 213.40MB\n",
            "Test Loss: 1.8566, Test Acc: 0.3314, Test Latency: 2.99s, Test Memory Usage: 61.86MB\n",
            "\n",
            "Epoch 14\n"
          ]
        },
        {
          "metadata": {
            "tags": null
          },
          "name": "stderr",
          "output_type": "stream",
          "text": [
            "Train: 100%|##########| 391/391 [00:26<00:00, 14.86batch/s]\n"
          ]
        },
        {
          "metadata": {
            "tags": null
          },
          "name": "stdout",
          "output_type": "stream",
          "text": [
            "LR: 1.0000e-01, Train Loss: 0.8219, Train Acc: 0.7177, Train Latency: 26.32s, Memory Usage: 213.40MB\n",
            "Test Loss: 1.1986, Test Acc: 0.5988, Test Latency: 2.96s, Test Memory Usage: 61.86MB\n",
            "\n",
            "Epoch 15\n"
          ]
        },
        {
          "metadata": {
            "tags": null
          },
          "name": "stderr",
          "output_type": "stream",
          "text": [
            "Train: 100%|##########| 391/391 [00:26<00:00, 14.90batch/s]\n"
          ]
        },
        {
          "metadata": {
            "tags": null
          },
          "name": "stdout",
          "output_type": "stream",
          "text": [
            "LR: 1.0000e-01, Train Loss: 0.8064, Train Acc: 0.7209, Train Latency: 26.25s, Memory Usage: 213.40MB\n",
            "Test Loss: 1.3753, Test Acc: 0.5709, Test Latency: 2.99s, Test Memory Usage: 61.86MB\n",
            "\n",
            "Epoch 16\n"
          ]
        },
        {
          "metadata": {
            "tags": null
          },
          "name": "stderr",
          "output_type": "stream",
          "text": [
            "Train: 100%|##########| 391/391 [00:26<00:00, 14.85batch/s]\n"
          ]
        },
        {
          "metadata": {
            "tags": null
          },
          "name": "stdout",
          "output_type": "stream",
          "text": [
            "LR: 1.0000e-01, Train Loss: 0.8120, Train Acc: 0.7191, Train Latency: 26.33s, Memory Usage: 213.40MB\n",
            "Test Loss: 1.6818, Test Acc: 0.5119, Test Latency: 2.98s, Test Memory Usage: 61.86MB\n",
            "\n",
            "Epoch 17\n"
          ]
        },
        {
          "metadata": {
            "tags": null
          },
          "name": "stderr",
          "output_type": "stream",
          "text": [
            "Train: 100%|##########| 391/391 [00:26<00:00, 14.77batch/s]\n"
          ]
        },
        {
          "metadata": {
            "tags": null
          },
          "name": "stdout",
          "output_type": "stream",
          "text": [
            "LR: 1.0000e-01, Train Loss: 0.8054, Train Acc: 0.7243, Train Latency: 26.47s, Memory Usage: 213.40MB\n",
            "Test Loss: 1.2477, Test Acc: 0.5960, Test Latency: 3.01s, Test Memory Usage: 61.86MB\n",
            "\n",
            "Epoch 18\n"
          ]
        },
        {
          "metadata": {
            "tags": null
          },
          "name": "stderr",
          "output_type": "stream",
          "text": [
            "Train: 100%|##########| 391/391 [00:26<00:00, 14.84batch/s]\n"
          ]
        },
        {
          "metadata": {
            "tags": null
          },
          "name": "stdout",
          "output_type": "stream",
          "text": [
            "LR: 1.0000e-01, Train Loss: 0.8074, Train Acc: 0.7214, Train Latency: 26.36s, Memory Usage: 213.40MB\n",
            "Test Loss: 1.5910, Test Acc: 0.5227, Test Latency: 2.97s, Test Memory Usage: 61.86MB\n",
            "\n",
            "Epoch 19\n"
          ]
        },
        {
          "metadata": {
            "tags": null
          },
          "name": "stderr",
          "output_type": "stream",
          "text": [
            "Train: 100%|##########| 391/391 [00:26<00:00, 14.88batch/s]\n"
          ]
        },
        {
          "metadata": {
            "tags": null
          },
          "name": "stdout",
          "output_type": "stream",
          "text": [
            "LR: 1.0000e-01, Train Loss: 0.8006, Train Acc: 0.7248, Train Latency: 26.27s, Memory Usage: 213.40MB\n",
            "Test Loss: 1.6590, Test Acc: 0.4156, Test Latency: 2.96s, Test Memory Usage: 61.86MB\n",
            "\n",
            "Epoch 20\n"
          ]
        },
        {
          "metadata": {
            "tags": null
          },
          "name": "stderr",
          "output_type": "stream",
          "text": [
            "Train: 100%|##########| 391/391 [00:26<00:00, 14.91batch/s]\n"
          ]
        },
        {
          "metadata": {
            "tags": null
          },
          "name": "stdout",
          "output_type": "stream",
          "text": [
            "LR: 1.0000e-01, Train Loss: 0.8018, Train Acc: 0.7258, Train Latency: 26.23s, Memory Usage: 213.40MB\n",
            "Test Loss: 1.2940, Test Acc: 0.5193, Test Latency: 2.99s, Test Memory Usage: 61.86MB\n",
            "\n",
            "Epoch 21\n"
          ]
        },
        {
          "metadata": {
            "tags": null
          },
          "name": "stderr",
          "output_type": "stream",
          "text": [
            "Train: 100%|##########| 391/391 [00:26<00:00, 14.92batch/s]\n"
          ]
        },
        {
          "metadata": {
            "tags": null
          },
          "name": "stdout",
          "output_type": "stream",
          "text": [
            "LR: 1.0000e-01, Train Loss: 0.8075, Train Acc: 0.7232, Train Latency: 26.22s, Memory Usage: 213.40MB\n",
            "Test Loss: 1.4903, Test Acc: 0.4353, Test Latency: 2.98s, Test Memory Usage: 61.86MB\n",
            "\n",
            "Epoch 22\n"
          ]
        },
        {
          "metadata": {
            "tags": null
          },
          "name": "stderr",
          "output_type": "stream",
          "text": [
            "Train: 100%|##########| 391/391 [00:26<00:00, 14.94batch/s]\n"
          ]
        },
        {
          "metadata": {
            "tags": null
          },
          "name": "stdout",
          "output_type": "stream",
          "text": [
            "LR: 1.0000e-01, Train Loss: 0.8058, Train Acc: 0.7238, Train Latency: 26.18s, Memory Usage: 213.40MB\n",
            "Test Loss: 1.4805, Test Acc: 0.4767, Test Latency: 2.99s, Test Memory Usage: 61.86MB\n",
            "\n",
            "Epoch 23\n"
          ]
        },
        {
          "metadata": {
            "tags": null
          },
          "name": "stderr",
          "output_type": "stream",
          "text": [
            "Train: 100%|##########| 391/391 [00:26<00:00, 14.90batch/s]\n"
          ]
        },
        {
          "metadata": {
            "tags": null
          },
          "name": "stdout",
          "output_type": "stream",
          "text": [
            "LR: 1.0000e-01, Train Loss: 0.8192, Train Acc: 0.7186, Train Latency: 26.24s, Memory Usage: 213.40MB\n",
            "Test Loss: 1.4765, Test Acc: 0.5293, Test Latency: 3.00s, Test Memory Usage: 61.86MB\n",
            "\n",
            "Epoch 24\n"
          ]
        },
        {
          "metadata": {
            "tags": null
          },
          "name": "stderr",
          "output_type": "stream",
          "text": [
            "Train: 100%|##########| 391/391 [00:26<00:00, 14.88batch/s]\n"
          ]
        },
        {
          "metadata": {
            "tags": null
          },
          "name": "stdout",
          "output_type": "stream",
          "text": [
            "LR: 1.0000e-01, Train Loss: 0.8015, Train Acc: 0.7233, Train Latency: 26.27s, Memory Usage: 213.40MB\n",
            "Test Loss: 1.3888, Test Acc: 0.5679, Test Latency: 2.98s, Test Memory Usage: 61.86MB\n",
            "\n",
            "Epoch 25\n"
          ]
        },
        {
          "metadata": {
            "tags": null
          },
          "name": "stderr",
          "output_type": "stream",
          "text": [
            "Train: 100%|##########| 391/391 [00:26<00:00, 14.85batch/s]\n"
          ]
        },
        {
          "metadata": {
            "tags": null
          },
          "name": "stdout",
          "output_type": "stream",
          "text": [
            "LR: 1.0000e-01, Train Loss: 0.7957, Train Acc: 0.7265, Train Latency: 26.34s, Memory Usage: 213.40MB\n",
            "Test Loss: 1.2207, Test Acc: 0.6002, Test Latency: 2.99s, Test Memory Usage: 61.86MB\n",
            "\n",
            "Epoch 26\n"
          ]
        },
        {
          "metadata": {
            "tags": null
          },
          "name": "stderr",
          "output_type": "stream",
          "text": [
            "Train: 100%|##########| 391/391 [00:26<00:00, 14.80batch/s]\n"
          ]
        },
        {
          "metadata": {
            "tags": null
          },
          "name": "stdout",
          "output_type": "stream",
          "text": [
            "LR: 1.0000e-01, Train Loss: 0.8034, Train Acc: 0.7255, Train Latency: 26.42s, Memory Usage: 213.40MB\n",
            "Test Loss: 1.7179, Test Acc: 0.5247, Test Latency: 2.97s, Test Memory Usage: 61.86MB\n",
            "\n",
            "Epoch 27\n"
          ]
        },
        {
          "metadata": {
            "tags": null
          },
          "name": "stderr",
          "output_type": "stream",
          "text": [
            "Train: 100%|##########| 391/391 [00:26<00:00, 14.80batch/s]\n"
          ]
        },
        {
          "metadata": {
            "tags": null
          },
          "name": "stdout",
          "output_type": "stream",
          "text": [
            "LR: 1.0000e-01, Train Loss: 0.8108, Train Acc: 0.7214, Train Latency: 26.43s, Memory Usage: 213.40MB\n",
            "Test Loss: 1.5868, Test Acc: 0.4192, Test Latency: 2.95s, Test Memory Usage: 61.86MB\n",
            "\n",
            "Epoch 28\n"
          ]
        },
        {
          "metadata": {
            "tags": null
          },
          "name": "stderr",
          "output_type": "stream",
          "text": [
            "Train: 100%|##########| 391/391 [00:26<00:00, 14.86batch/s]\n"
          ]
        },
        {
          "metadata": {
            "tags": null
          },
          "name": "stdout",
          "output_type": "stream",
          "text": [
            "LR: 1.0000e-01, Train Loss: 0.8039, Train Acc: 0.7260, Train Latency: 26.32s, Memory Usage: 213.40MB\n",
            "Test Loss: 1.3821, Test Acc: 0.5656, Test Latency: 3.00s, Test Memory Usage: 61.86MB\n",
            "\n",
            "Epoch 29\n"
          ]
        },
        {
          "metadata": {
            "tags": null
          },
          "name": "stderr",
          "output_type": "stream",
          "text": [
            "Train: 100%|##########| 391/391 [00:26<00:00, 14.80batch/s]\n"
          ]
        },
        {
          "metadata": {
            "tags": null
          },
          "name": "stdout",
          "output_type": "stream",
          "text": [
            "LR: 1.0000e-01, Train Loss: 0.8049, Train Acc: 0.7223, Train Latency: 26.43s, Memory Usage: 213.40MB\n",
            "Test Loss: 1.7190, Test Acc: 0.4809, Test Latency: 2.97s, Test Memory Usage: 61.86MB\n",
            "\n",
            "Epoch 30\n"
          ]
        },
        {
          "metadata": {
            "tags": null
          },
          "name": "stderr",
          "output_type": "stream",
          "text": [
            "Train: 100%|##########| 391/391 [00:26<00:00, 14.82batch/s]\n"
          ]
        },
        {
          "metadata": {
            "tags": null
          },
          "name": "stdout",
          "output_type": "stream",
          "text": [
            "LR: 1.0000e-01, Train Loss: 0.8103, Train Acc: 0.7204, Train Latency: 26.38s, Memory Usage: 213.40MB\n",
            "Test Loss: 1.8683, Test Acc: 0.4525, Test Latency: 3.02s, Test Memory Usage: 61.86MB\n",
            "\n",
            "Epoch 31\n"
          ]
        },
        {
          "metadata": {
            "tags": null
          },
          "name": "stderr",
          "output_type": "stream",
          "text": [
            "Train: 100%|##########| 391/391 [00:26<00:00, 14.84batch/s]\n"
          ]
        },
        {
          "metadata": {
            "tags": null
          },
          "name": "stdout",
          "output_type": "stream",
          "text": [
            "LR: 1.0000e-01, Train Loss: 0.7984, Train Acc: 0.7281, Train Latency: 26.35s, Memory Usage: 213.40MB\n",
            "Test Loss: 1.7033, Test Acc: 0.4971, Test Latency: 2.96s, Test Memory Usage: 61.86MB\n",
            "\n",
            "Epoch 32\n"
          ]
        },
        {
          "metadata": {
            "tags": null
          },
          "name": "stderr",
          "output_type": "stream",
          "text": [
            "Train: 100%|##########| 391/391 [00:26<00:00, 14.97batch/s]\n"
          ]
        },
        {
          "metadata": {
            "tags": null
          },
          "name": "stdout",
          "output_type": "stream",
          "text": [
            "LR: 1.0000e-01, Train Loss: 0.7988, Train Acc: 0.7239, Train Latency: 26.12s, Memory Usage: 213.40MB\n",
            "Test Loss: 1.5841, Test Acc: 0.5399, Test Latency: 2.97s, Test Memory Usage: 61.86MB\n",
            "\n",
            "Epoch 33\n"
          ]
        },
        {
          "metadata": {
            "tags": null
          },
          "name": "stderr",
          "output_type": "stream",
          "text": [
            "Train: 100%|##########| 391/391 [00:26<00:00, 14.87batch/s]\n"
          ]
        },
        {
          "metadata": {
            "tags": null
          },
          "name": "stdout",
          "output_type": "stream",
          "text": [
            "LR: 1.0000e-01, Train Loss: 0.7948, Train Acc: 0.7267, Train Latency: 26.30s, Memory Usage: 213.40MB\n",
            "Test Loss: 5.0785, Test Acc: 0.2085, Test Latency: 3.02s, Test Memory Usage: 61.86MB\n",
            "\n",
            "Epoch 34\n"
          ]
        },
        {
          "metadata": {
            "tags": null
          },
          "name": "stderr",
          "output_type": "stream",
          "text": [
            "Train: 100%|##########| 391/391 [00:26<00:00, 14.97batch/s]\n"
          ]
        },
        {
          "metadata": {
            "tags": null
          },
          "name": "stdout",
          "output_type": "stream",
          "text": [
            "LR: 1.0000e-01, Train Loss: 0.7979, Train Acc: 0.7249, Train Latency: 26.12s, Memory Usage: 213.40MB\n",
            "Test Loss: 1.3187, Test Acc: 0.5946, Test Latency: 2.97s, Test Memory Usage: 61.86MB\n",
            "\n",
            "Epoch 35\n"
          ]
        },
        {
          "metadata": {
            "tags": null
          },
          "name": "stderr",
          "output_type": "stream",
          "text": [
            "Train: 100%|##########| 391/391 [00:26<00:00, 14.81batch/s]\n"
          ]
        },
        {
          "metadata": {
            "tags": null
          },
          "name": "stdout",
          "output_type": "stream",
          "text": [
            "LR: 1.0000e-01, Train Loss: 0.7859, Train Acc: 0.7312, Train Latency: 26.40s, Memory Usage: 213.40MB\n",
            "Test Loss: 1.6584, Test Acc: 0.5057, Test Latency: 3.01s, Test Memory Usage: 61.86MB\n",
            "\n",
            "Epoch 36\n"
          ]
        },
        {
          "metadata": {
            "tags": null
          },
          "name": "stderr",
          "output_type": "stream",
          "text": [
            "Train: 100%|##########| 391/391 [00:26<00:00, 14.88batch/s]\n"
          ]
        },
        {
          "metadata": {
            "tags": null
          },
          "name": "stdout",
          "output_type": "stream",
          "text": [
            "LR: 1.0000e-01, Train Loss: 0.7979, Train Acc: 0.7255, Train Latency: 26.28s, Memory Usage: 213.40MB\n",
            "Test Loss: 1.8301, Test Acc: 0.4536, Test Latency: 2.96s, Test Memory Usage: 61.86MB\n",
            "\n",
            "Epoch 37\n"
          ]
        },
        {
          "output_type": "stream",
          "name": "stderr",
          "text": [
            "Train: 100%|##########| 391/391 [00:26<00:00, 14.95batch/s]\n"
          ]
        },
        {
          "output_type": "stream",
          "name": "stdout",
          "text": [
            "LR: 1.0000e-01, Train Loss: 0.7941, Train Acc: 0.7261, Train Latency: 26.17s, Memory Usage: 213.40MB\n",
            "Test Loss: 1.3349, Test Acc: 0.6088, Test Latency: 2.99s, Test Memory Usage: 61.86MB\n",
            "\n",
            "Epoch 38\n"
          ]
        },
        {
          "output_type": "stream",
          "name": "stderr",
          "text": [
            "Train: 100%|##########| 391/391 [00:26<00:00, 14.93batch/s]\n"
          ]
        },
        {
          "output_type": "stream",
          "name": "stdout",
          "text": [
            "LR: 1.0000e-01, Train Loss: 0.7963, Train Acc: 0.7256, Train Latency: 26.20s, Memory Usage: 213.40MB\n",
            "Test Loss: 1.6238, Test Acc: 0.4301, Test Latency: 3.02s, Test Memory Usage: 61.86MB\n",
            "\n",
            "Epoch 39\n"
          ]
        },
        {
          "output_type": "stream",
          "name": "stderr",
          "text": [
            "Train: 100%|##########| 391/391 [00:26<00:00, 14.93batch/s]\n"
          ]
        },
        {
          "output_type": "stream",
          "name": "stdout",
          "text": [
            "LR: 1.0000e-01, Train Loss: 0.7887, Train Acc: 0.7316, Train Latency: 26.20s, Memory Usage: 213.40MB\n",
            "Test Loss: 1.4833, Test Acc: 0.5447, Test Latency: 2.99s, Test Memory Usage: 61.86MB\n",
            "\n",
            "Epoch 40\n"
          ]
        },
        {
          "output_type": "stream",
          "name": "stderr",
          "text": [
            "Train: 100%|##########| 391/391 [00:26<00:00, 14.87batch/s]\n"
          ]
        },
        {
          "output_type": "stream",
          "name": "stdout",
          "text": [
            "LR: 1.0000e-01, Train Loss: 0.7909, Train Acc: 0.7299, Train Latency: 26.30s, Memory Usage: 213.40MB\n",
            "Test Loss: 2.0409, Test Acc: 0.4503, Test Latency: 2.97s, Test Memory Usage: 61.86MB\n",
            "\n",
            "Epoch 41\n"
          ]
        },
        {
          "output_type": "stream",
          "name": "stderr",
          "text": [
            "Train: 100%|##########| 391/391 [00:26<00:00, 14.82batch/s]\n"
          ]
        },
        {
          "output_type": "stream",
          "name": "stdout",
          "text": [
            "LR: 1.0000e-01, Train Loss: 0.8049, Train Acc: 0.7226, Train Latency: 26.38s, Memory Usage: 213.40MB\n",
            "Test Loss: 1.1034, Test Acc: 0.6127, Test Latency: 3.01s, Test Memory Usage: 61.86MB\n",
            "\n",
            "Epoch 42\n"
          ]
        },
        {
          "output_type": "stream",
          "name": "stderr",
          "text": [
            "Train: 100%|##########| 391/391 [00:26<00:00, 14.85batch/s]\n"
          ]
        },
        {
          "output_type": "stream",
          "name": "stdout",
          "text": [
            "LR: 1.0000e-01, Train Loss: 0.7947, Train Acc: 0.7288, Train Latency: 26.34s, Memory Usage: 213.40MB\n",
            "Test Loss: 2.1875, Test Acc: 0.3620, Test Latency: 2.98s, Test Memory Usage: 61.86MB\n",
            "\n",
            "Epoch 43\n"
          ]
        },
        {
          "output_type": "stream",
          "name": "stderr",
          "text": [
            "Train: 100%|##########| 391/391 [00:26<00:00, 14.91batch/s]\n"
          ]
        },
        {
          "output_type": "stream",
          "name": "stdout",
          "text": [
            "LR: 1.0000e-01, Train Loss: 0.8044, Train Acc: 0.7234, Train Latency: 26.23s, Memory Usage: 213.40MB\n",
            "Test Loss: 1.3896, Test Acc: 0.5959, Test Latency: 3.00s, Test Memory Usage: 61.86MB\n",
            "\n",
            "Epoch 44\n"
          ]
        },
        {
          "output_type": "stream",
          "name": "stderr",
          "text": [
            "Train: 100%|##########| 391/391 [00:26<00:00, 14.85batch/s]\n"
          ]
        },
        {
          "output_type": "stream",
          "name": "stdout",
          "text": [
            "LR: 1.0000e-01, Train Loss: 0.8029, Train Acc: 0.7233, Train Latency: 26.34s, Memory Usage: 213.40MB\n",
            "Test Loss: 1.8366, Test Acc: 0.4267, Test Latency: 3.00s, Test Memory Usage: 61.86MB\n",
            "\n",
            "Epoch 45\n"
          ]
        },
        {
          "output_type": "stream",
          "name": "stderr",
          "text": [
            "Train: 100%|##########| 391/391 [00:26<00:00, 14.93batch/s]\n"
          ]
        },
        {
          "output_type": "stream",
          "name": "stdout",
          "text": [
            "LR: 1.0000e-01, Train Loss: 0.7973, Train Acc: 0.7267, Train Latency: 26.19s, Memory Usage: 213.40MB\n",
            "Test Loss: 1.5583, Test Acc: 0.5477, Test Latency: 2.96s, Test Memory Usage: 61.86MB\n",
            "\n",
            "Epoch 46\n"
          ]
        },
        {
          "output_type": "stream",
          "name": "stderr",
          "text": [
            "Train: 100%|##########| 391/391 [00:26<00:00, 15.00batch/s]\n"
          ]
        },
        {
          "output_type": "stream",
          "name": "stdout",
          "text": [
            "LR: 1.0000e-01, Train Loss: 0.7994, Train Acc: 0.7257, Train Latency: 26.07s, Memory Usage: 213.40MB\n",
            "Test Loss: 1.4078, Test Acc: 0.5350, Test Latency: 2.94s, Test Memory Usage: 61.86MB\n",
            "\n",
            "Epoch 47\n"
          ]
        },
        {
          "output_type": "stream",
          "name": "stderr",
          "text": [
            "Train: 100%|##########| 391/391 [00:25<00:00, 15.09batch/s]\n"
          ]
        },
        {
          "output_type": "stream",
          "name": "stdout",
          "text": [
            "LR: 1.0000e-01, Train Loss: 0.7860, Train Acc: 0.7296, Train Latency: 25.92s, Memory Usage: 213.40MB\n",
            "Test Loss: 1.8398, Test Acc: 0.4620, Test Latency: 2.92s, Test Memory Usage: 61.86MB\n",
            "\n",
            "Epoch 48\n"
          ]
        },
        {
          "output_type": "stream",
          "name": "stderr",
          "text": [
            "Train: 100%|##########| 391/391 [00:25<00:00, 15.14batch/s]\n"
          ]
        },
        {
          "output_type": "stream",
          "name": "stdout",
          "text": [
            "LR: 1.0000e-01, Train Loss: 0.7939, Train Acc: 0.7249, Train Latency: 25.84s, Memory Usage: 213.40MB\n",
            "Test Loss: 1.1910, Test Acc: 0.5866, Test Latency: 2.95s, Test Memory Usage: 61.86MB\n",
            "\n",
            "Epoch 49\n"
          ]
        },
        {
          "output_type": "stream",
          "name": "stderr",
          "text": [
            "Train: 100%|##########| 391/391 [00:25<00:00, 15.10batch/s]\n"
          ]
        },
        {
          "output_type": "stream",
          "name": "stdout",
          "text": [
            "LR: 1.0000e-01, Train Loss: 0.7953, Train Acc: 0.7273, Train Latency: 25.90s, Memory Usage: 213.40MB\n",
            "Test Loss: 1.1456, Test Acc: 0.6149, Test Latency: 2.93s, Test Memory Usage: 61.86MB\n",
            "\n",
            "Epoch 50\n"
          ]
        },
        {
          "output_type": "stream",
          "name": "stderr",
          "text": [
            "Train: 100%|##########| 391/391 [00:25<00:00, 15.17batch/s]\n"
          ]
        },
        {
          "output_type": "stream",
          "name": "stdout",
          "text": [
            "LR: 1.0000e-01, Train Loss: 0.8051, Train Acc: 0.7234, Train Latency: 25.77s, Memory Usage: 213.40MB\n",
            "Test Loss: 1.1820, Test Acc: 0.5889, Test Latency: 2.97s, Test Memory Usage: 61.86MB\n",
            "\n",
            "Epoch 51\n"
          ]
        },
        {
          "output_type": "stream",
          "name": "stderr",
          "text": [
            "Train: 100%|##########| 391/391 [00:26<00:00, 15.01batch/s]\n"
          ]
        },
        {
          "output_type": "stream",
          "name": "stdout",
          "text": [
            "LR: 1.0000e-02, Train Loss: 0.6168, Train Acc: 0.7881, Train Latency: 26.06s, Memory Usage: 213.40MB\n",
            "Test Loss: 0.6342, Test Acc: 0.7864, Test Latency: 2.91s, Test Memory Usage: 61.86MB\n",
            "Saving best model ...\n",
            "\n",
            "Epoch 52\n"
          ]
        },
        {
          "output_type": "stream",
          "name": "stderr",
          "text": [
            "Train: 100%|##########| 391/391 [00:25<00:00, 15.19batch/s]\n"
          ]
        },
        {
          "output_type": "stream",
          "name": "stdout",
          "text": [
            "LR: 1.0000e-02, Train Loss: 0.5751, Train Acc: 0.8027, Train Latency: 25.75s, Memory Usage: 213.40MB\n",
            "Test Loss: 0.6004, Test Acc: 0.7952, Test Latency: 2.92s, Test Memory Usage: 61.86MB\n",
            "Saving best model ...\n",
            "\n",
            "Epoch 53\n"
          ]
        },
        {
          "output_type": "stream",
          "name": "stderr",
          "text": [
            "Train: 100%|##########| 391/391 [00:25<00:00, 15.17batch/s]\n"
          ]
        },
        {
          "output_type": "stream",
          "name": "stdout",
          "text": [
            "LR: 1.0000e-02, Train Loss: 0.5557, Train Acc: 0.8091, Train Latency: 25.78s, Memory Usage: 213.40MB\n",
            "Test Loss: 0.7146, Test Acc: 0.7637, Test Latency: 2.92s, Test Memory Usage: 61.86MB\n",
            "\n",
            "Epoch 54\n"
          ]
        },
        {
          "output_type": "stream",
          "name": "stderr",
          "text": [
            "Train: 100%|##########| 391/391 [00:25<00:00, 15.11batch/s]\n"
          ]
        },
        {
          "output_type": "stream",
          "name": "stdout",
          "text": [
            "LR: 1.0000e-02, Train Loss: 0.5369, Train Acc: 0.8157, Train Latency: 25.89s, Memory Usage: 213.40MB\n",
            "Test Loss: 0.5951, Test Acc: 0.7930, Test Latency: 2.90s, Test Memory Usage: 61.86MB\n",
            "\n",
            "Epoch 55\n"
          ]
        },
        {
          "output_type": "stream",
          "name": "stderr",
          "text": [
            "Train: 100%|##########| 391/391 [00:25<00:00, 15.14batch/s]\n"
          ]
        },
        {
          "output_type": "stream",
          "name": "stdout",
          "text": [
            "LR: 1.0000e-02, Train Loss: 0.5352, Train Acc: 0.8155, Train Latency: 25.83s, Memory Usage: 213.40MB\n",
            "Test Loss: 0.9505, Test Acc: 0.7022, Test Latency: 2.96s, Test Memory Usage: 61.86MB\n",
            "\n",
            "Epoch 56\n"
          ]
        },
        {
          "output_type": "stream",
          "name": "stderr",
          "text": [
            "Train: 100%|##########| 391/391 [00:25<00:00, 15.13batch/s]\n"
          ]
        },
        {
          "output_type": "stream",
          "name": "stdout",
          "text": [
            "LR: 1.0000e-02, Train Loss: 0.5372, Train Acc: 0.8139, Train Latency: 25.84s, Memory Usage: 213.40MB\n",
            "Test Loss: 0.8000, Test Acc: 0.7382, Test Latency: 2.92s, Test Memory Usage: 61.86MB\n",
            "\n",
            "Epoch 57\n"
          ]
        },
        {
          "output_type": "stream",
          "name": "stderr",
          "text": [
            "Train: 100%|##########| 391/391 [00:25<00:00, 15.18batch/s]\n"
          ]
        },
        {
          "output_type": "stream",
          "name": "stdout",
          "text": [
            "LR: 1.0000e-02, Train Loss: 0.5329, Train Acc: 0.8169, Train Latency: 25.75s, Memory Usage: 213.40MB\n",
            "Test Loss: 0.6987, Test Acc: 0.7689, Test Latency: 2.93s, Test Memory Usage: 61.86MB\n",
            "\n",
            "Epoch 58\n"
          ]
        },
        {
          "output_type": "stream",
          "name": "stderr",
          "text": [
            "Train: 100%|##########| 391/391 [00:25<00:00, 15.14batch/s]\n"
          ]
        },
        {
          "output_type": "stream",
          "name": "stdout",
          "text": [
            "LR: 1.0000e-02, Train Loss: 0.5375, Train Acc: 0.8187, Train Latency: 25.83s, Memory Usage: 213.40MB\n",
            "Test Loss: 0.7527, Test Acc: 0.7447, Test Latency: 2.95s, Test Memory Usage: 61.86MB\n",
            "\n",
            "Epoch 59\n"
          ]
        },
        {
          "output_type": "stream",
          "name": "stderr",
          "text": [
            "Train: 100%|##########| 391/391 [00:25<00:00, 15.19batch/s]\n"
          ]
        },
        {
          "output_type": "stream",
          "name": "stdout",
          "text": [
            "LR: 1.0000e-02, Train Loss: 0.5328, Train Acc: 0.8176, Train Latency: 25.75s, Memory Usage: 213.40MB\n",
            "Test Loss: 0.6704, Test Acc: 0.7680, Test Latency: 2.93s, Test Memory Usage: 61.86MB\n",
            "\n",
            "Epoch 60\n"
          ]
        },
        {
          "output_type": "stream",
          "name": "stderr",
          "text": [
            "Train: 100%|##########| 391/391 [00:25<00:00, 15.12batch/s]\n"
          ]
        },
        {
          "output_type": "stream",
          "name": "stdout",
          "text": [
            "LR: 1.0000e-02, Train Loss: 0.5402, Train Acc: 0.8135, Train Latency: 25.86s, Memory Usage: 213.40MB\n",
            "Test Loss: 0.9950, Test Acc: 0.6928, Test Latency: 2.91s, Test Memory Usage: 61.86MB\n",
            "\n",
            "Epoch 61\n"
          ]
        },
        {
          "output_type": "stream",
          "name": "stderr",
          "text": [
            "Train: 100%|##########| 391/391 [00:25<00:00, 15.15batch/s]\n"
          ]
        },
        {
          "output_type": "stream",
          "name": "stdout",
          "text": [
            "LR: 1.0000e-02, Train Loss: 0.5465, Train Acc: 0.8102, Train Latency: 25.82s, Memory Usage: 213.40MB\n",
            "Test Loss: 0.7420, Test Acc: 0.7447, Test Latency: 2.94s, Test Memory Usage: 61.86MB\n",
            "\n",
            "Epoch 62\n"
          ]
        },
        {
          "output_type": "stream",
          "name": "stderr",
          "text": [
            "Train: 100%|##########| 391/391 [00:25<00:00, 15.14batch/s]\n"
          ]
        },
        {
          "output_type": "stream",
          "name": "stdout",
          "text": [
            "LR: 1.0000e-02, Train Loss: 0.5339, Train Acc: 0.8157, Train Latency: 25.82s, Memory Usage: 213.40MB\n",
            "Test Loss: 0.6596, Test Acc: 0.7773, Test Latency: 2.97s, Test Memory Usage: 61.86MB\n",
            "\n",
            "Epoch 63\n"
          ]
        },
        {
          "output_type": "stream",
          "name": "stderr",
          "text": [
            "Train: 100%|##########| 391/391 [00:25<00:00, 15.14batch/s]\n"
          ]
        },
        {
          "output_type": "stream",
          "name": "stdout",
          "text": [
            "LR: 1.0000e-02, Train Loss: 0.5358, Train Acc: 0.8161, Train Latency: 25.83s, Memory Usage: 213.40MB\n",
            "Test Loss: 0.7339, Test Acc: 0.7471, Test Latency: 2.92s, Test Memory Usage: 61.86MB\n",
            "\n",
            "Epoch 64\n"
          ]
        },
        {
          "output_type": "stream",
          "name": "stderr",
          "text": [
            "Train: 100%|##########| 391/391 [00:25<00:00, 15.14batch/s]\n"
          ]
        },
        {
          "output_type": "stream",
          "name": "stdout",
          "text": [
            "LR: 1.0000e-02, Train Loss: 0.5433, Train Acc: 0.8140, Train Latency: 25.83s, Memory Usage: 213.40MB\n",
            "Test Loss: 0.7381, Test Acc: 0.7610, Test Latency: 2.93s, Test Memory Usage: 61.86MB\n",
            "\n",
            "Epoch 65\n"
          ]
        },
        {
          "output_type": "stream",
          "name": "stderr",
          "text": [
            "Train: 100%|##########| 391/391 [00:25<00:00, 15.23batch/s]\n"
          ]
        },
        {
          "output_type": "stream",
          "name": "stdout",
          "text": [
            "LR: 1.0000e-02, Train Loss: 0.5438, Train Acc: 0.8122, Train Latency: 25.67s, Memory Usage: 213.40MB\n",
            "Test Loss: 0.7855, Test Acc: 0.7458, Test Latency: 2.96s, Test Memory Usage: 61.86MB\n",
            "\n",
            "Epoch 66\n"
          ]
        },
        {
          "output_type": "stream",
          "name": "stderr",
          "text": [
            "Train: 100%|##########| 391/391 [00:26<00:00, 14.97batch/s]\n"
          ]
        },
        {
          "output_type": "stream",
          "name": "stdout",
          "text": [
            "LR: 1.0000e-02, Train Loss: 0.5419, Train Acc: 0.8125, Train Latency: 26.12s, Memory Usage: 213.40MB\n",
            "Test Loss: 0.7242, Test Acc: 0.7642, Test Latency: 2.91s, Test Memory Usage: 61.86MB\n",
            "\n",
            "Epoch 67\n"
          ]
        },
        {
          "output_type": "stream",
          "name": "stderr",
          "text": [
            "Train: 100%|##########| 391/391 [00:25<00:00, 15.29batch/s]\n"
          ]
        },
        {
          "output_type": "stream",
          "name": "stdout",
          "text": [
            "LR: 1.0000e-02, Train Loss: 0.5366, Train Acc: 0.8152, Train Latency: 25.57s, Memory Usage: 213.40MB\n",
            "Test Loss: 1.4195, Test Acc: 0.5841, Test Latency: 2.95s, Test Memory Usage: 61.86MB\n",
            "\n",
            "Epoch 68\n"
          ]
        },
        {
          "output_type": "stream",
          "name": "stderr",
          "text": [
            "Train: 100%|##########| 391/391 [00:25<00:00, 15.21batch/s]\n"
          ]
        },
        {
          "output_type": "stream",
          "name": "stdout",
          "text": [
            "LR: 1.0000e-02, Train Loss: 0.5399, Train Acc: 0.8146, Train Latency: 25.71s, Memory Usage: 213.40MB\n",
            "Test Loss: 0.9288, Test Acc: 0.6912, Test Latency: 2.92s, Test Memory Usage: 61.86MB\n",
            "\n",
            "Epoch 69\n"
          ]
        },
        {
          "output_type": "stream",
          "name": "stderr",
          "text": [
            "Train: 100%|##########| 391/391 [00:25<00:00, 15.08batch/s]\n"
          ]
        },
        {
          "output_type": "stream",
          "name": "stdout",
          "text": [
            "LR: 1.0000e-02, Train Loss: 0.5371, Train Acc: 0.8150, Train Latency: 25.93s, Memory Usage: 213.40MB\n",
            "Test Loss: 0.7055, Test Acc: 0.7544, Test Latency: 2.95s, Test Memory Usage: 61.86MB\n",
            "\n",
            "Epoch 70\n"
          ]
        },
        {
          "output_type": "stream",
          "name": "stderr",
          "text": [
            "Train: 100%|##########| 391/391 [00:25<00:00, 15.08batch/s]\n"
          ]
        },
        {
          "output_type": "stream",
          "name": "stdout",
          "text": [
            "LR: 1.0000e-02, Train Loss: 0.5331, Train Acc: 0.8175, Train Latency: 25.93s, Memory Usage: 213.40MB\n",
            "Test Loss: 0.7894, Test Acc: 0.7360, Test Latency: 2.90s, Test Memory Usage: 61.86MB\n",
            "\n",
            "Epoch 71\n"
          ]
        },
        {
          "output_type": "stream",
          "name": "stderr",
          "text": [
            "Train: 100%|##########| 391/391 [00:25<00:00, 15.12batch/s]\n"
          ]
        },
        {
          "output_type": "stream",
          "name": "stdout",
          "text": [
            "LR: 1.0000e-02, Train Loss: 0.5380, Train Acc: 0.8138, Train Latency: 25.86s, Memory Usage: 213.40MB\n",
            "Test Loss: 0.6887, Test Acc: 0.7643, Test Latency: 2.98s, Test Memory Usage: 61.86MB\n",
            "\n",
            "Epoch 72\n"
          ]
        },
        {
          "output_type": "stream",
          "name": "stderr",
          "text": [
            "Train: 100%|##########| 391/391 [00:25<00:00, 15.12batch/s]\n"
          ]
        },
        {
          "output_type": "stream",
          "name": "stdout",
          "text": [
            "LR: 1.0000e-02, Train Loss: 0.5395, Train Acc: 0.8145, Train Latency: 25.86s, Memory Usage: 213.40MB\n",
            "Test Loss: 0.7929, Test Acc: 0.7314, Test Latency: 2.91s, Test Memory Usage: 61.86MB\n",
            "\n",
            "Epoch 73\n"
          ]
        },
        {
          "output_type": "stream",
          "name": "stderr",
          "text": [
            "Train: 100%|##########| 391/391 [00:25<00:00, 15.10batch/s]\n"
          ]
        },
        {
          "output_type": "stream",
          "name": "stdout",
          "text": [
            "LR: 1.0000e-02, Train Loss: 0.5391, Train Acc: 0.8156, Train Latency: 25.90s, Memory Usage: 213.40MB\n",
            "Test Loss: 0.9146, Test Acc: 0.6974, Test Latency: 2.92s, Test Memory Usage: 61.86MB\n",
            "\n",
            "Epoch 74\n"
          ]
        },
        {
          "output_type": "stream",
          "name": "stderr",
          "text": [
            "Train: 100%|##########| 391/391 [00:26<00:00, 15.01batch/s]\n"
          ]
        },
        {
          "output_type": "stream",
          "name": "stdout",
          "text": [
            "LR: 1.0000e-02, Train Loss: 0.5394, Train Acc: 0.8157, Train Latency: 26.05s, Memory Usage: 213.40MB\n",
            "Test Loss: 0.7480, Test Acc: 0.7504, Test Latency: 2.93s, Test Memory Usage: 61.86MB\n",
            "\n",
            "Epoch 75\n"
          ]
        },
        {
          "output_type": "stream",
          "name": "stderr",
          "text": [
            "Train: 100%|##########| 391/391 [00:25<00:00, 15.13batch/s]\n"
          ]
        },
        {
          "output_type": "stream",
          "name": "stdout",
          "text": [
            "LR: 1.0000e-02, Train Loss: 0.5377, Train Acc: 0.8162, Train Latency: 25.84s, Memory Usage: 213.40MB\n",
            "Test Loss: 0.7913, Test Acc: 0.7426, Test Latency: 2.92s, Test Memory Usage: 61.86MB\n",
            "\n",
            "Epoch 76\n"
          ]
        },
        {
          "output_type": "stream",
          "name": "stderr",
          "text": [
            "Train: 100%|##########| 391/391 [00:25<00:00, 15.09batch/s]\n"
          ]
        },
        {
          "output_type": "stream",
          "name": "stdout",
          "text": [
            "LR: 1.0000e-02, Train Loss: 0.5425, Train Acc: 0.8138, Train Latency: 25.91s, Memory Usage: 213.40MB\n",
            "Test Loss: 1.1464, Test Acc: 0.6312, Test Latency: 2.94s, Test Memory Usage: 61.86MB\n",
            "\n",
            "Epoch 77\n"
          ]
        },
        {
          "output_type": "stream",
          "name": "stderr",
          "text": [
            "Train: 100%|##########| 391/391 [00:25<00:00, 15.05batch/s]\n"
          ]
        },
        {
          "output_type": "stream",
          "name": "stdout",
          "text": [
            "LR: 1.0000e-02, Train Loss: 0.5430, Train Acc: 0.8136, Train Latency: 25.98s, Memory Usage: 213.40MB\n",
            "Test Loss: 0.7068, Test Acc: 0.7658, Test Latency: 2.91s, Test Memory Usage: 61.86MB\n",
            "\n",
            "Epoch 78\n"
          ]
        },
        {
          "output_type": "stream",
          "name": "stderr",
          "text": [
            "Train: 100%|##########| 391/391 [00:25<00:00, 15.09batch/s]\n"
          ]
        },
        {
          "output_type": "stream",
          "name": "stdout",
          "text": [
            "LR: 1.0000e-02, Train Loss: 0.5404, Train Acc: 0.8152, Train Latency: 25.91s, Memory Usage: 213.40MB\n",
            "Test Loss: 0.8348, Test Acc: 0.7092, Test Latency: 2.97s, Test Memory Usage: 61.86MB\n",
            "\n",
            "Epoch 79\n"
          ]
        },
        {
          "output_type": "stream",
          "name": "stderr",
          "text": [
            "Train: 100%|##########| 391/391 [00:25<00:00, 15.14batch/s]\n"
          ]
        },
        {
          "output_type": "stream",
          "name": "stdout",
          "text": [
            "LR: 1.0000e-02, Train Loss: 0.5424, Train Acc: 0.8136, Train Latency: 25.83s, Memory Usage: 213.40MB\n",
            "Test Loss: 0.8078, Test Acc: 0.7469, Test Latency: 2.92s, Test Memory Usage: 61.86MB\n",
            "\n",
            "Epoch 80\n"
          ]
        },
        {
          "output_type": "stream",
          "name": "stderr",
          "text": [
            "Train: 100%|##########| 391/391 [00:26<00:00, 15.03batch/s]\n"
          ]
        },
        {
          "output_type": "stream",
          "name": "stdout",
          "text": [
            "LR: 1.0000e-02, Train Loss: 0.5435, Train Acc: 0.8135, Train Latency: 26.01s, Memory Usage: 213.40MB\n",
            "Test Loss: 1.1715, Test Acc: 0.6578, Test Latency: 2.93s, Test Memory Usage: 61.86MB\n",
            "\n",
            "Epoch 81\n"
          ]
        },
        {
          "output_type": "stream",
          "name": "stderr",
          "text": [
            "Train: 100%|##########| 391/391 [00:25<00:00, 15.14batch/s]\n"
          ]
        },
        {
          "output_type": "stream",
          "name": "stdout",
          "text": [
            "LR: 1.0000e-02, Train Loss: 0.5416, Train Acc: 0.8142, Train Latency: 25.83s, Memory Usage: 213.40MB\n",
            "Test Loss: 0.7886, Test Acc: 0.7362, Test Latency: 2.95s, Test Memory Usage: 61.86MB\n",
            "\n",
            "Epoch 82\n"
          ]
        },
        {
          "output_type": "stream",
          "name": "stderr",
          "text": [
            "Train: 100%|##########| 391/391 [00:25<00:00, 15.08batch/s]\n"
          ]
        },
        {
          "output_type": "stream",
          "name": "stdout",
          "text": [
            "LR: 1.0000e-02, Train Loss: 0.5500, Train Acc: 0.8126, Train Latency: 25.93s, Memory Usage: 213.40MB\n",
            "Test Loss: 1.0676, Test Acc: 0.6581, Test Latency: 2.93s, Test Memory Usage: 61.86MB\n",
            "\n",
            "Epoch 83\n"
          ]
        },
        {
          "output_type": "stream",
          "name": "stderr",
          "text": [
            "Train: 100%|##########| 391/391 [00:25<00:00, 15.12batch/s]\n"
          ]
        },
        {
          "output_type": "stream",
          "name": "stdout",
          "text": [
            "LR: 1.0000e-02, Train Loss: 0.5560, Train Acc: 0.8106, Train Latency: 25.87s, Memory Usage: 213.40MB\n",
            "Test Loss: 0.9252, Test Acc: 0.7022, Test Latency: 2.95s, Test Memory Usage: 61.86MB\n",
            "\n",
            "Epoch 84\n"
          ]
        },
        {
          "output_type": "stream",
          "name": "stderr",
          "text": [
            "Train: 100%|##########| 391/391 [00:25<00:00, 15.15batch/s]\n"
          ]
        },
        {
          "output_type": "stream",
          "name": "stdout",
          "text": [
            "LR: 1.0000e-02, Train Loss: 0.5429, Train Acc: 0.8139, Train Latency: 25.80s, Memory Usage: 213.40MB\n",
            "Test Loss: 1.5510, Test Acc: 0.5613, Test Latency: 2.94s, Test Memory Usage: 61.86MB\n",
            "\n",
            "Epoch 85\n"
          ]
        },
        {
          "output_type": "stream",
          "name": "stderr",
          "text": [
            "Train: 100%|##########| 391/391 [00:25<00:00, 15.09batch/s]\n"
          ]
        },
        {
          "output_type": "stream",
          "name": "stdout",
          "text": [
            "LR: 1.0000e-02, Train Loss: 0.5424, Train Acc: 0.8148, Train Latency: 25.91s, Memory Usage: 213.40MB\n",
            "Test Loss: 0.7456, Test Acc: 0.7481, Test Latency: 2.95s, Test Memory Usage: 61.86MB\n",
            "\n",
            "Epoch 86\n"
          ]
        },
        {
          "output_type": "stream",
          "name": "stderr",
          "text": [
            "Train: 100%|##########| 391/391 [00:25<00:00, 15.20batch/s]\n"
          ]
        },
        {
          "output_type": "stream",
          "name": "stdout",
          "text": [
            "LR: 1.0000e-02, Train Loss: 0.5430, Train Acc: 0.8149, Train Latency: 25.72s, Memory Usage: 213.40MB\n",
            "Test Loss: 1.0443, Test Acc: 0.6674, Test Latency: 2.91s, Test Memory Usage: 61.86MB\n",
            "\n",
            "Epoch 87\n"
          ]
        },
        {
          "output_type": "stream",
          "name": "stderr",
          "text": [
            "Train: 100%|##########| 391/391 [00:25<00:00, 15.22batch/s]\n"
          ]
        },
        {
          "output_type": "stream",
          "name": "stdout",
          "text": [
            "LR: 1.0000e-02, Train Loss: 0.5416, Train Acc: 0.8154, Train Latency: 25.70s, Memory Usage: 213.40MB\n",
            "Test Loss: 0.9499, Test Acc: 0.6935, Test Latency: 2.93s, Test Memory Usage: 61.86MB\n",
            "\n",
            "Epoch 88\n"
          ]
        },
        {
          "output_type": "stream",
          "name": "stderr",
          "text": [
            "Train: 100%|##########| 391/391 [00:25<00:00, 15.21batch/s]\n"
          ]
        },
        {
          "output_type": "stream",
          "name": "stdout",
          "text": [
            "LR: 1.0000e-02, Train Loss: 0.5274, Train Acc: 0.8197, Train Latency: 25.71s, Memory Usage: 213.40MB\n",
            "Test Loss: 1.2310, Test Acc: 0.5989, Test Latency: 2.93s, Test Memory Usage: 61.86MB\n",
            "\n",
            "Epoch 89\n"
          ]
        },
        {
          "output_type": "stream",
          "name": "stderr",
          "text": [
            "Train: 100%|##########| 391/391 [00:25<00:00, 15.20batch/s]\n"
          ]
        },
        {
          "output_type": "stream",
          "name": "stdout",
          "text": [
            "LR: 1.0000e-02, Train Loss: 0.5351, Train Acc: 0.8168, Train Latency: 25.73s, Memory Usage: 213.40MB\n",
            "Test Loss: 0.8513, Test Acc: 0.7248, Test Latency: 2.92s, Test Memory Usage: 61.86MB\n",
            "\n",
            "Epoch 90\n"
          ]
        },
        {
          "output_type": "stream",
          "name": "stderr",
          "text": [
            "Train: 100%|##########| 391/391 [00:25<00:00, 15.19batch/s]\n"
          ]
        },
        {
          "output_type": "stream",
          "name": "stdout",
          "text": [
            "LR: 1.0000e-02, Train Loss: 0.5469, Train Acc: 0.8117, Train Latency: 25.74s, Memory Usage: 213.40MB\n",
            "Test Loss: 0.7039, Test Acc: 0.7639, Test Latency: 2.92s, Test Memory Usage: 61.86MB\n",
            "\n",
            "Epoch 91\n"
          ]
        },
        {
          "output_type": "stream",
          "name": "stderr",
          "text": [
            "Train: 100%|##########| 391/391 [00:25<00:00, 15.18batch/s]\n"
          ]
        },
        {
          "output_type": "stream",
          "name": "stdout",
          "text": [
            "LR: 1.0000e-02, Train Loss: 0.5410, Train Acc: 0.8138, Train Latency: 25.77s, Memory Usage: 213.40MB\n",
            "Test Loss: 0.8396, Test Acc: 0.7324, Test Latency: 2.96s, Test Memory Usage: 61.86MB\n",
            "\n",
            "Epoch 92\n"
          ]
        },
        {
          "output_type": "stream",
          "name": "stderr",
          "text": [
            "Train: 100%|##########| 391/391 [00:25<00:00, 15.12batch/s]\n"
          ]
        },
        {
          "output_type": "stream",
          "name": "stdout",
          "text": [
            "LR: 1.0000e-02, Train Loss: 0.5293, Train Acc: 0.8183, Train Latency: 25.86s, Memory Usage: 213.40MB\n",
            "Test Loss: 0.6692, Test Acc: 0.7758, Test Latency: 2.93s, Test Memory Usage: 61.86MB\n",
            "\n",
            "Epoch 93\n"
          ]
        },
        {
          "output_type": "stream",
          "name": "stderr",
          "text": [
            "Train: 100%|##########| 391/391 [00:25<00:00, 15.19batch/s]\n"
          ]
        },
        {
          "output_type": "stream",
          "name": "stdout",
          "text": [
            "LR: 1.0000e-02, Train Loss: 0.5326, Train Acc: 0.8170, Train Latency: 25.74s, Memory Usage: 213.40MB\n",
            "Test Loss: 0.8004, Test Acc: 0.7257, Test Latency: 2.92s, Test Memory Usage: 61.86MB\n",
            "\n",
            "Epoch 94\n"
          ]
        },
        {
          "output_type": "stream",
          "name": "stderr",
          "text": [
            "Train: 100%|##########| 391/391 [00:25<00:00, 15.22batch/s]\n"
          ]
        },
        {
          "output_type": "stream",
          "name": "stdout",
          "text": [
            "LR: 1.0000e-02, Train Loss: 0.5317, Train Acc: 0.8196, Train Latency: 25.69s, Memory Usage: 213.40MB\n",
            "Test Loss: 0.9691, Test Acc: 0.6797, Test Latency: 2.95s, Test Memory Usage: 61.86MB\n",
            "\n",
            "Epoch 95\n"
          ]
        },
        {
          "output_type": "stream",
          "name": "stderr",
          "text": [
            "Train: 100%|##########| 391/391 [00:25<00:00, 15.19batch/s]\n"
          ]
        },
        {
          "output_type": "stream",
          "name": "stdout",
          "text": [
            "LR: 1.0000e-02, Train Loss: 0.5392, Train Acc: 0.8162, Train Latency: 25.74s, Memory Usage: 213.40MB\n",
            "Test Loss: 0.7597, Test Acc: 0.7360, Test Latency: 2.93s, Test Memory Usage: 61.86MB\n",
            "\n",
            "Epoch 96\n"
          ]
        },
        {
          "output_type": "stream",
          "name": "stderr",
          "text": [
            "Train: 100%|##########| 391/391 [00:25<00:00, 15.11batch/s]\n"
          ]
        },
        {
          "output_type": "stream",
          "name": "stdout",
          "text": [
            "LR: 1.0000e-02, Train Loss: 0.5418, Train Acc: 0.8160, Train Latency: 25.89s, Memory Usage: 213.40MB\n",
            "Test Loss: 0.8412, Test Acc: 0.7302, Test Latency: 2.93s, Test Memory Usage: 61.86MB\n",
            "\n",
            "Epoch 97\n"
          ]
        },
        {
          "output_type": "stream",
          "name": "stderr",
          "text": [
            "Train: 100%|##########| 391/391 [00:25<00:00, 15.15batch/s]\n"
          ]
        },
        {
          "output_type": "stream",
          "name": "stdout",
          "text": [
            "LR: 1.0000e-02, Train Loss: 0.5372, Train Acc: 0.8153, Train Latency: 25.81s, Memory Usage: 213.40MB\n",
            "Test Loss: 1.5482, Test Acc: 0.5475, Test Latency: 2.92s, Test Memory Usage: 61.86MB\n",
            "\n",
            "Epoch 98\n"
          ]
        },
        {
          "output_type": "stream",
          "name": "stderr",
          "text": [
            "Train: 100%|##########| 391/391 [00:25<00:00, 15.05batch/s]\n"
          ]
        },
        {
          "output_type": "stream",
          "name": "stdout",
          "text": [
            "LR: 1.0000e-02, Train Loss: 0.5392, Train Acc: 0.8154, Train Latency: 25.99s, Memory Usage: 213.40MB\n",
            "Test Loss: 0.9577, Test Acc: 0.7027, Test Latency: 2.93s, Test Memory Usage: 61.86MB\n",
            "\n",
            "Epoch 99\n"
          ]
        },
        {
          "output_type": "stream",
          "name": "stderr",
          "text": [
            "Train: 100%|##########| 391/391 [00:25<00:00, 15.24batch/s]\n"
          ]
        },
        {
          "output_type": "stream",
          "name": "stdout",
          "text": [
            "LR: 1.0000e-02, Train Loss: 0.5332, Train Acc: 0.8168, Train Latency: 25.66s, Memory Usage: 213.40MB\n",
            "Test Loss: 0.7619, Test Acc: 0.7386, Test Latency: 2.95s, Test Memory Usage: 61.86MB\n",
            "\n",
            "Epoch 100\n"
          ]
        },
        {
          "output_type": "stream",
          "name": "stderr",
          "text": [
            "Train: 100%|##########| 391/391 [00:25<00:00, 15.26batch/s]\n"
          ]
        },
        {
          "output_type": "stream",
          "name": "stdout",
          "text": [
            "LR: 1.0000e-02, Train Loss: 0.5221, Train Acc: 0.8207, Train Latency: 25.63s, Memory Usage: 213.40MB\n",
            "Test Loss: 0.8528, Test Acc: 0.7161, Test Latency: 2.93s, Test Memory Usage: 61.86MB\n",
            "\n",
            "Epoch 101\n"
          ]
        },
        {
          "output_type": "stream",
          "name": "stderr",
          "text": [
            "Train: 100%|##########| 391/391 [00:25<00:00, 15.23batch/s]\n"
          ]
        },
        {
          "output_type": "stream",
          "name": "stdout",
          "text": [
            "LR: 1.0000e-03, Train Loss: 0.4412, Train Acc: 0.8491, Train Latency: 25.67s, Memory Usage: 213.40MB\n",
            "Test Loss: 0.5062, Test Acc: 0.8274, Test Latency: 2.95s, Test Memory Usage: 61.86MB\n",
            "Saving best model ...\n",
            "\n",
            "Epoch 102\n"
          ]
        },
        {
          "output_type": "stream",
          "name": "stderr",
          "text": [
            "Train: 100%|##########| 391/391 [00:25<00:00, 15.33batch/s]\n"
          ]
        },
        {
          "output_type": "stream",
          "name": "stdout",
          "text": [
            "LR: 1.0000e-03, Train Loss: 0.4222, Train Acc: 0.8566, Train Latency: 25.52s, Memory Usage: 213.40MB\n",
            "Test Loss: 0.5219, Test Acc: 0.8214, Test Latency: 2.93s, Test Memory Usage: 61.86MB\n",
            "\n",
            "Epoch 103\n"
          ]
        },
        {
          "output_type": "stream",
          "name": "stderr",
          "text": [
            "Train: 100%|##########| 391/391 [00:25<00:00, 15.19batch/s]\n"
          ]
        },
        {
          "output_type": "stream",
          "name": "stdout",
          "text": [
            "LR: 1.0000e-03, Train Loss: 0.4197, Train Acc: 0.8555, Train Latency: 25.74s, Memory Usage: 213.40MB\n",
            "Test Loss: 0.5201, Test Acc: 0.8235, Test Latency: 2.94s, Test Memory Usage: 61.86MB\n",
            "\n",
            "Epoch 104\n"
          ]
        },
        {
          "output_type": "stream",
          "name": "stderr",
          "text": [
            "Train: 100%|##########| 391/391 [00:25<00:00, 15.15batch/s]\n"
          ]
        },
        {
          "output_type": "stream",
          "name": "stdout",
          "text": [
            "LR: 1.0000e-03, Train Loss: 0.4123, Train Acc: 0.8595, Train Latency: 25.82s, Memory Usage: 213.40MB\n",
            "Test Loss: 0.5666, Test Acc: 0.8113, Test Latency: 2.92s, Test Memory Usage: 61.86MB\n",
            "\n",
            "Epoch 105\n"
          ]
        },
        {
          "output_type": "stream",
          "name": "stderr",
          "text": [
            "Train: 100%|##########| 391/391 [00:25<00:00, 15.08batch/s]\n"
          ]
        },
        {
          "output_type": "stream",
          "name": "stdout",
          "text": [
            "LR: 1.0000e-03, Train Loss: 0.4098, Train Acc: 0.8616, Train Latency: 25.93s, Memory Usage: 213.40MB\n",
            "Test Loss: 0.4742, Test Acc: 0.8404, Test Latency: 2.94s, Test Memory Usage: 61.86MB\n",
            "Saving best model ...\n",
            "\n",
            "Epoch 106\n"
          ]
        },
        {
          "output_type": "stream",
          "name": "stderr",
          "text": [
            "Train: 100%|##########| 391/391 [00:25<00:00, 15.16batch/s]\n"
          ]
        },
        {
          "output_type": "stream",
          "name": "stdout",
          "text": [
            "LR: 1.0000e-03, Train Loss: 0.4113, Train Acc: 0.8593, Train Latency: 25.79s, Memory Usage: 213.40MB\n",
            "Test Loss: 0.5098, Test Acc: 0.8301, Test Latency: 2.93s, Test Memory Usage: 61.86MB\n",
            "\n",
            "Epoch 107\n"
          ]
        },
        {
          "output_type": "stream",
          "name": "stderr",
          "text": [
            "Train: 100%|##########| 391/391 [00:25<00:00, 15.08batch/s]\n"
          ]
        },
        {
          "output_type": "stream",
          "name": "stdout",
          "text": [
            "LR: 1.0000e-03, Train Loss: 0.4080, Train Acc: 0.8612, Train Latency: 25.93s, Memory Usage: 213.40MB\n",
            "Test Loss: 0.4822, Test Acc: 0.8351, Test Latency: 2.92s, Test Memory Usage: 61.86MB\n",
            "\n",
            "Epoch 108\n"
          ]
        },
        {
          "output_type": "stream",
          "name": "stderr",
          "text": [
            "Train: 100%|##########| 391/391 [00:25<00:00, 15.18batch/s]\n"
          ]
        },
        {
          "output_type": "stream",
          "name": "stdout",
          "text": [
            "LR: 1.0000e-03, Train Loss: 0.4038, Train Acc: 0.8622, Train Latency: 25.76s, Memory Usage: 213.40MB\n",
            "Test Loss: 0.5382, Test Acc: 0.8184, Test Latency: 2.95s, Test Memory Usage: 61.86MB\n",
            "\n",
            "Epoch 109\n"
          ]
        },
        {
          "output_type": "stream",
          "name": "stderr",
          "text": [
            "Train: 100%|##########| 391/391 [00:25<00:00, 15.21batch/s]\n"
          ]
        },
        {
          "output_type": "stream",
          "name": "stdout",
          "text": [
            "LR: 1.0000e-03, Train Loss: 0.4050, Train Acc: 0.8611, Train Latency: 25.70s, Memory Usage: 213.40MB\n",
            "Test Loss: 0.5389, Test Acc: 0.8175, Test Latency: 2.92s, Test Memory Usage: 61.86MB\n",
            "\n",
            "Epoch 110\n"
          ]
        },
        {
          "output_type": "stream",
          "name": "stderr",
          "text": [
            "Train: 100%|##########| 391/391 [00:25<00:00, 15.24batch/s]\n"
          ]
        },
        {
          "output_type": "stream",
          "name": "stdout",
          "text": [
            "LR: 1.0000e-03, Train Loss: 0.4046, Train Acc: 0.8619, Train Latency: 25.65s, Memory Usage: 213.40MB\n",
            "Test Loss: 0.5981, Test Acc: 0.7996, Test Latency: 2.96s, Test Memory Usage: 61.86MB\n",
            "\n",
            "Epoch 111\n"
          ]
        },
        {
          "output_type": "stream",
          "name": "stderr",
          "text": [
            "Train: 100%|##########| 391/391 [00:25<00:00, 15.14batch/s]\n"
          ]
        },
        {
          "output_type": "stream",
          "name": "stdout",
          "text": [
            "LR: 1.0000e-03, Train Loss: 0.4086, Train Acc: 0.8617, Train Latency: 25.83s, Memory Usage: 213.40MB\n",
            "Test Loss: 0.4945, Test Acc: 0.8314, Test Latency: 2.95s, Test Memory Usage: 61.86MB\n",
            "\n",
            "Epoch 112\n"
          ]
        },
        {
          "output_type": "stream",
          "name": "stderr",
          "text": [
            "Train: 100%|##########| 391/391 [00:25<00:00, 15.08batch/s]\n"
          ]
        },
        {
          "output_type": "stream",
          "name": "stdout",
          "text": [
            "LR: 1.0000e-03, Train Loss: 0.4015, Train Acc: 0.8630, Train Latency: 25.93s, Memory Usage: 213.40MB\n",
            "Test Loss: 0.5446, Test Acc: 0.8139, Test Latency: 2.93s, Test Memory Usage: 61.86MB\n",
            "\n",
            "Epoch 113\n"
          ]
        },
        {
          "output_type": "stream",
          "name": "stderr",
          "text": [
            "Train: 100%|##########| 391/391 [00:25<00:00, 15.18batch/s]\n"
          ]
        },
        {
          "output_type": "stream",
          "name": "stdout",
          "text": [
            "LR: 1.0000e-03, Train Loss: 0.4045, Train Acc: 0.8627, Train Latency: 25.76s, Memory Usage: 213.40MB\n",
            "Test Loss: 0.5010, Test Acc: 0.8301, Test Latency: 2.92s, Test Memory Usage: 61.86MB\n",
            "\n",
            "Epoch 114\n"
          ]
        },
        {
          "output_type": "stream",
          "name": "stderr",
          "text": [
            "Train: 100%|##########| 391/391 [00:26<00:00, 14.99batch/s]\n"
          ]
        },
        {
          "output_type": "stream",
          "name": "stdout",
          "text": [
            "LR: 1.0000e-03, Train Loss: 0.4074, Train Acc: 0.8614, Train Latency: 26.09s, Memory Usage: 213.40MB\n",
            "Test Loss: 0.5302, Test Acc: 0.8148, Test Latency: 2.93s, Test Memory Usage: 61.86MB\n",
            "\n",
            "Epoch 115\n"
          ]
        },
        {
          "output_type": "stream",
          "name": "stderr",
          "text": [
            "Train: 100%|##########| 391/391 [00:25<00:00, 15.17batch/s]\n"
          ]
        },
        {
          "output_type": "stream",
          "name": "stdout",
          "text": [
            "LR: 1.0000e-03, Train Loss: 0.4082, Train Acc: 0.8620, Train Latency: 25.78s, Memory Usage: 213.40MB\n",
            "Test Loss: 0.5059, Test Acc: 0.8266, Test Latency: 2.96s, Test Memory Usage: 61.86MB\n",
            "\n",
            "Epoch 116\n"
          ]
        },
        {
          "output_type": "stream",
          "name": "stderr",
          "text": [
            "Train: 100%|##########| 391/391 [00:25<00:00, 15.14batch/s]\n"
          ]
        },
        {
          "output_type": "stream",
          "name": "stdout",
          "text": [
            "LR: 1.0000e-03, Train Loss: 0.4124, Train Acc: 0.8595, Train Latency: 25.83s, Memory Usage: 213.40MB\n",
            "Test Loss: 0.6991, Test Acc: 0.7704, Test Latency: 2.93s, Test Memory Usage: 61.86MB\n",
            "\n",
            "Epoch 117\n"
          ]
        },
        {
          "output_type": "stream",
          "name": "stderr",
          "text": [
            "Train: 100%|##########| 391/391 [00:25<00:00, 15.25batch/s]\n"
          ]
        },
        {
          "output_type": "stream",
          "name": "stdout",
          "text": [
            "LR: 1.0000e-03, Train Loss: 0.4050, Train Acc: 0.8616, Train Latency: 25.64s, Memory Usage: 213.40MB\n",
            "Test Loss: 0.5714, Test Acc: 0.8033, Test Latency: 2.92s, Test Memory Usage: 61.86MB\n",
            "\n",
            "Epoch 118\n"
          ]
        },
        {
          "output_type": "stream",
          "name": "stderr",
          "text": [
            "Train: 100%|##########| 391/391 [00:25<00:00, 15.11batch/s]\n"
          ]
        },
        {
          "output_type": "stream",
          "name": "stdout",
          "text": [
            "LR: 1.0000e-03, Train Loss: 0.4055, Train Acc: 0.8605, Train Latency: 25.87s, Memory Usage: 213.40MB\n",
            "Test Loss: 0.5329, Test Acc: 0.8169, Test Latency: 2.94s, Test Memory Usage: 61.86MB\n",
            "\n",
            "Epoch 119\n"
          ]
        },
        {
          "output_type": "stream",
          "name": "stderr",
          "text": [
            "Train: 100%|##########| 391/391 [00:25<00:00, 15.14batch/s]\n"
          ]
        },
        {
          "output_type": "stream",
          "name": "stdout",
          "text": [
            "LR: 1.0000e-03, Train Loss: 0.4047, Train Acc: 0.8617, Train Latency: 25.83s, Memory Usage: 213.40MB\n",
            "Test Loss: 0.4800, Test Acc: 0.8372, Test Latency: 2.94s, Test Memory Usage: 61.86MB\n",
            "\n",
            "Epoch 120\n"
          ]
        },
        {
          "output_type": "stream",
          "name": "stderr",
          "text": [
            "Train: 100%|##########| 391/391 [00:25<00:00, 15.04batch/s]\n"
          ]
        },
        {
          "output_type": "stream",
          "name": "stdout",
          "text": [
            "LR: 1.0000e-03, Train Loss: 0.4099, Train Acc: 0.8606, Train Latency: 25.99s, Memory Usage: 213.40MB\n",
            "Test Loss: 1.2745, Test Acc: 0.6397, Test Latency: 2.91s, Test Memory Usage: 61.86MB\n",
            "\n",
            "Epoch 121\n"
          ]
        },
        {
          "output_type": "stream",
          "name": "stderr",
          "text": [
            "Train: 100%|##########| 391/391 [00:25<00:00, 15.20batch/s]\n"
          ]
        },
        {
          "output_type": "stream",
          "name": "stdout",
          "text": [
            "LR: 1.0000e-03, Train Loss: 0.4073, Train Acc: 0.8623, Train Latency: 25.73s, Memory Usage: 213.40MB\n",
            "Test Loss: 0.6223, Test Acc: 0.7890, Test Latency: 2.93s, Test Memory Usage: 61.86MB\n",
            "\n",
            "Epoch 122\n"
          ]
        },
        {
          "output_type": "stream",
          "name": "stderr",
          "text": [
            "Train: 100%|##########| 391/391 [00:25<00:00, 15.19batch/s]\n"
          ]
        },
        {
          "output_type": "stream",
          "name": "stdout",
          "text": [
            "LR: 1.0000e-03, Train Loss: 0.4040, Train Acc: 0.8637, Train Latency: 25.74s, Memory Usage: 213.40MB\n",
            "Test Loss: 0.5297, Test Acc: 0.8227, Test Latency: 2.93s, Test Memory Usage: 61.86MB\n",
            "\n",
            "Epoch 123\n"
          ]
        },
        {
          "output_type": "stream",
          "name": "stderr",
          "text": [
            "Train: 100%|##########| 391/391 [00:25<00:00, 15.26batch/s]\n"
          ]
        },
        {
          "output_type": "stream",
          "name": "stdout",
          "text": [
            "LR: 1.0000e-03, Train Loss: 0.4057, Train Acc: 0.8614, Train Latency: 25.62s, Memory Usage: 213.40MB\n",
            "Test Loss: 0.4989, Test Acc: 0.8315, Test Latency: 2.90s, Test Memory Usage: 61.86MB\n",
            "\n",
            "Epoch 124\n"
          ]
        },
        {
          "output_type": "stream",
          "name": "stderr",
          "text": [
            "Train: 100%|##########| 391/391 [00:25<00:00, 15.19batch/s]\n"
          ]
        },
        {
          "output_type": "stream",
          "name": "stdout",
          "text": [
            "LR: 1.0000e-03, Train Loss: 0.4103, Train Acc: 0.8588, Train Latency: 25.74s, Memory Usage: 213.40MB\n",
            "Test Loss: 1.3522, Test Acc: 0.6212, Test Latency: 2.94s, Test Memory Usage: 61.86MB\n",
            "\n",
            "Epoch 125\n"
          ]
        },
        {
          "output_type": "stream",
          "name": "stderr",
          "text": [
            "Train: 100%|##########| 391/391 [00:25<00:00, 15.14batch/s]\n"
          ]
        },
        {
          "output_type": "stream",
          "name": "stdout",
          "text": [
            "LR: 1.0000e-03, Train Loss: 0.4070, Train Acc: 0.8607, Train Latency: 25.83s, Memory Usage: 213.40MB\n",
            "Test Loss: 0.5622, Test Acc: 0.8154, Test Latency: 2.93s, Test Memory Usage: 61.86MB\n",
            "\n",
            "Epoch 126\n"
          ]
        },
        {
          "output_type": "stream",
          "name": "stderr",
          "text": [
            "Train: 100%|##########| 391/391 [00:25<00:00, 15.06batch/s]\n"
          ]
        },
        {
          "output_type": "stream",
          "name": "stdout",
          "text": [
            "LR: 1.0000e-03, Train Loss: 0.4060, Train Acc: 0.8605, Train Latency: 25.97s, Memory Usage: 213.40MB\n",
            "Test Loss: 0.5532, Test Acc: 0.8109, Test Latency: 2.93s, Test Memory Usage: 61.86MB\n",
            "\n",
            "Epoch 127\n"
          ]
        },
        {
          "output_type": "stream",
          "name": "stderr",
          "text": [
            "Train: 100%|##########| 391/391 [00:25<00:00, 15.05batch/s]\n"
          ]
        },
        {
          "output_type": "stream",
          "name": "stdout",
          "text": [
            "LR: 1.0000e-03, Train Loss: 0.4080, Train Acc: 0.8616, Train Latency: 25.98s, Memory Usage: 213.40MB\n",
            "Test Loss: 0.8322, Test Acc: 0.7353, Test Latency: 3.00s, Test Memory Usage: 61.86MB\n",
            "\n",
            "Epoch 128\n"
          ]
        },
        {
          "output_type": "stream",
          "name": "stderr",
          "text": [
            "Train: 100%|##########| 391/391 [00:26<00:00, 15.03batch/s]\n"
          ]
        },
        {
          "output_type": "stream",
          "name": "stdout",
          "text": [
            "LR: 1.0000e-03, Train Loss: 0.4089, Train Acc: 0.8590, Train Latency: 26.02s, Memory Usage: 213.40MB\n",
            "Test Loss: 0.7208, Test Acc: 0.7751, Test Latency: 2.94s, Test Memory Usage: 61.86MB\n",
            "\n",
            "Epoch 129\n"
          ]
        },
        {
          "output_type": "stream",
          "name": "stderr",
          "text": [
            "Train: 100%|##########| 391/391 [00:26<00:00, 14.99batch/s]\n"
          ]
        },
        {
          "output_type": "stream",
          "name": "stdout",
          "text": [
            "LR: 1.0000e-03, Train Loss: 0.4075, Train Acc: 0.8617, Train Latency: 26.09s, Memory Usage: 213.40MB\n",
            "Test Loss: 0.5201, Test Acc: 0.8267, Test Latency: 2.93s, Test Memory Usage: 61.86MB\n",
            "\n",
            "Epoch 130\n"
          ]
        },
        {
          "output_type": "stream",
          "name": "stderr",
          "text": [
            "Train: 100%|##########| 391/391 [00:25<00:00, 15.16batch/s]\n"
          ]
        },
        {
          "output_type": "stream",
          "name": "stdout",
          "text": [
            "LR: 1.0000e-03, Train Loss: 0.4070, Train Acc: 0.8607, Train Latency: 25.80s, Memory Usage: 213.40MB\n",
            "Test Loss: 0.5711, Test Acc: 0.8027, Test Latency: 2.92s, Test Memory Usage: 61.86MB\n",
            "\n",
            "Epoch 131\n"
          ]
        },
        {
          "output_type": "stream",
          "name": "stderr",
          "text": [
            "Train: 100%|##########| 391/391 [00:25<00:00, 15.07batch/s]\n"
          ]
        },
        {
          "output_type": "stream",
          "name": "stdout",
          "text": [
            "LR: 1.0000e-03, Train Loss: 0.4056, Train Acc: 0.8613, Train Latency: 25.95s, Memory Usage: 213.40MB\n",
            "Test Loss: 0.5152, Test Acc: 0.8240, Test Latency: 2.97s, Test Memory Usage: 61.86MB\n",
            "\n",
            "Epoch 132\n"
          ]
        },
        {
          "output_type": "stream",
          "name": "stderr",
          "text": [
            "Train: 100%|##########| 391/391 [00:26<00:00, 14.98batch/s]\n"
          ]
        },
        {
          "output_type": "stream",
          "name": "stdout",
          "text": [
            "LR: 1.0000e-03, Train Loss: 0.4086, Train Acc: 0.8611, Train Latency: 26.11s, Memory Usage: 213.40MB\n",
            "Test Loss: 0.5899, Test Acc: 0.8072, Test Latency: 2.94s, Test Memory Usage: 61.86MB\n",
            "\n",
            "Epoch 133\n"
          ]
        },
        {
          "output_type": "stream",
          "name": "stderr",
          "text": [
            "Train: 100%|##########| 391/391 [00:25<00:00, 15.07batch/s]\n"
          ]
        },
        {
          "output_type": "stream",
          "name": "stdout",
          "text": [
            "LR: 1.0000e-03, Train Loss: 0.4063, Train Acc: 0.8619, Train Latency: 25.95s, Memory Usage: 213.40MB\n",
            "Test Loss: 0.5098, Test Acc: 0.8256, Test Latency: 2.92s, Test Memory Usage: 61.86MB\n",
            "\n",
            "Epoch 134\n"
          ]
        },
        {
          "output_type": "stream",
          "name": "stderr",
          "text": [
            "Train: 100%|##########| 391/391 [00:25<00:00, 15.14batch/s]\n"
          ]
        },
        {
          "output_type": "stream",
          "name": "stdout",
          "text": [
            "LR: 1.0000e-03, Train Loss: 0.4084, Train Acc: 0.8624, Train Latency: 25.83s, Memory Usage: 213.40MB\n",
            "Test Loss: 0.5416, Test Acc: 0.8170, Test Latency: 2.94s, Test Memory Usage: 61.86MB\n",
            "\n",
            "Epoch 135\n"
          ]
        },
        {
          "output_type": "stream",
          "name": "stderr",
          "text": [
            "Train: 100%|##########| 391/391 [00:25<00:00, 15.21batch/s]\n"
          ]
        },
        {
          "output_type": "stream",
          "name": "stdout",
          "text": [
            "LR: 1.0000e-03, Train Loss: 0.4066, Train Acc: 0.8605, Train Latency: 25.71s, Memory Usage: 213.40MB\n",
            "Test Loss: 1.4564, Test Acc: 0.5802, Test Latency: 2.95s, Test Memory Usage: 61.86MB\n",
            "\n",
            "Epoch 136\n"
          ]
        },
        {
          "output_type": "stream",
          "name": "stderr",
          "text": [
            "Train: 100%|##########| 391/391 [00:25<00:00, 15.10batch/s]\n"
          ]
        },
        {
          "output_type": "stream",
          "name": "stdout",
          "text": [
            "LR: 1.0000e-03, Train Loss: 0.4021, Train Acc: 0.8612, Train Latency: 25.89s, Memory Usage: 213.40MB\n",
            "Test Loss: 0.5649, Test Acc: 0.8151, Test Latency: 2.96s, Test Memory Usage: 61.86MB\n",
            "\n",
            "Epoch 137\n"
          ]
        },
        {
          "output_type": "stream",
          "name": "stderr",
          "text": [
            "Train: 100%|##########| 391/391 [00:25<00:00, 15.19batch/s]\n"
          ]
        },
        {
          "output_type": "stream",
          "name": "stdout",
          "text": [
            "LR: 1.0000e-03, Train Loss: 0.4046, Train Acc: 0.8625, Train Latency: 25.75s, Memory Usage: 213.40MB\n",
            "Test Loss: 0.7177, Test Acc: 0.7675, Test Latency: 2.92s, Test Memory Usage: 61.86MB\n",
            "\n",
            "Epoch 138\n"
          ]
        },
        {
          "output_type": "stream",
          "name": "stderr",
          "text": [
            "Train: 100%|##########| 391/391 [00:26<00:00, 15.01batch/s]\n"
          ]
        },
        {
          "output_type": "stream",
          "name": "stdout",
          "text": [
            "LR: 1.0000e-03, Train Loss: 0.4036, Train Acc: 0.8611, Train Latency: 26.05s, Memory Usage: 213.40MB\n",
            "Test Loss: 1.4727, Test Acc: 0.6139, Test Latency: 3.03s, Test Memory Usage: 61.86MB\n",
            "\n",
            "Epoch 139\n"
          ]
        },
        {
          "output_type": "stream",
          "name": "stderr",
          "text": [
            "Train: 100%|##########| 391/391 [00:25<00:00, 15.08batch/s]\n"
          ]
        },
        {
          "output_type": "stream",
          "name": "stdout",
          "text": [
            "LR: 1.0000e-03, Train Loss: 0.4069, Train Acc: 0.8608, Train Latency: 25.93s, Memory Usage: 213.40MB\n",
            "Test Loss: 0.7348, Test Acc: 0.7688, Test Latency: 2.94s, Test Memory Usage: 61.86MB\n",
            "\n",
            "Epoch 140\n"
          ]
        },
        {
          "output_type": "stream",
          "name": "stderr",
          "text": [
            "Train: 100%|##########| 391/391 [00:26<00:00, 15.00batch/s]\n"
          ]
        },
        {
          "output_type": "stream",
          "name": "stdout",
          "text": [
            "LR: 1.0000e-03, Train Loss: 0.4037, Train Acc: 0.8620, Train Latency: 26.07s, Memory Usage: 213.40MB\n",
            "Test Loss: 0.5935, Test Acc: 0.8027, Test Latency: 2.93s, Test Memory Usage: 61.86MB\n",
            "\n",
            "Epoch 141\n"
          ]
        },
        {
          "output_type": "stream",
          "name": "stderr",
          "text": [
            "Train: 100%|##########| 391/391 [00:25<00:00, 15.17batch/s]\n"
          ]
        },
        {
          "output_type": "stream",
          "name": "stdout",
          "text": [
            "LR: 1.0000e-03, Train Loss: 0.4037, Train Acc: 0.8621, Train Latency: 25.78s, Memory Usage: 213.40MB\n",
            "Test Loss: 0.5649, Test Acc: 0.8138, Test Latency: 2.91s, Test Memory Usage: 61.86MB\n",
            "\n",
            "Epoch 142\n"
          ]
        },
        {
          "output_type": "stream",
          "name": "stderr",
          "text": [
            "Train: 100%|##########| 391/391 [00:25<00:00, 15.11batch/s]\n"
          ]
        },
        {
          "output_type": "stream",
          "name": "stdout",
          "text": [
            "LR: 1.0000e-03, Train Loss: 0.4009, Train Acc: 0.8635, Train Latency: 25.89s, Memory Usage: 213.40MB\n",
            "Test Loss: 0.5454, Test Acc: 0.8185, Test Latency: 2.92s, Test Memory Usage: 61.86MB\n",
            "\n",
            "Epoch 143\n"
          ]
        },
        {
          "output_type": "stream",
          "name": "stderr",
          "text": [
            "Train: 100%|##########| 391/391 [00:25<00:00, 15.21batch/s]\n"
          ]
        },
        {
          "output_type": "stream",
          "name": "stdout",
          "text": [
            "LR: 1.0000e-03, Train Loss: 0.4073, Train Acc: 0.8614, Train Latency: 25.72s, Memory Usage: 213.40MB\n",
            "Test Loss: 0.6758, Test Acc: 0.7761, Test Latency: 2.93s, Test Memory Usage: 61.86MB\n",
            "\n",
            "Epoch 144\n"
          ]
        },
        {
          "output_type": "stream",
          "name": "stderr",
          "text": [
            "Train: 100%|##########| 391/391 [00:26<00:00, 14.98batch/s]\n"
          ]
        },
        {
          "output_type": "stream",
          "name": "stdout",
          "text": [
            "LR: 1.0000e-03, Train Loss: 0.4021, Train Acc: 0.8628, Train Latency: 26.11s, Memory Usage: 213.40MB\n",
            "Test Loss: 0.6102, Test Acc: 0.7946, Test Latency: 3.00s, Test Memory Usage: 61.86MB\n",
            "\n",
            "Epoch 145\n"
          ]
        },
        {
          "output_type": "stream",
          "name": "stderr",
          "text": [
            "Train: 100%|##########| 391/391 [00:25<00:00, 15.14batch/s]\n"
          ]
        },
        {
          "output_type": "stream",
          "name": "stdout",
          "text": [
            "LR: 1.0000e-03, Train Loss: 0.4066, Train Acc: 0.8601, Train Latency: 25.84s, Memory Usage: 213.40MB\n",
            "Test Loss: 0.6886, Test Acc: 0.7691, Test Latency: 2.91s, Test Memory Usage: 61.86MB\n",
            "\n",
            "Epoch 146\n"
          ]
        },
        {
          "output_type": "stream",
          "name": "stderr",
          "text": [
            "Train: 100%|##########| 391/391 [00:25<00:00, 15.14batch/s]\n"
          ]
        },
        {
          "output_type": "stream",
          "name": "stdout",
          "text": [
            "LR: 1.0000e-03, Train Loss: 0.4054, Train Acc: 0.8608, Train Latency: 25.82s, Memory Usage: 213.40MB\n",
            "Test Loss: 0.8978, Test Acc: 0.7198, Test Latency: 2.91s, Test Memory Usage: 61.86MB\n",
            "\n",
            "Epoch 147\n"
          ]
        },
        {
          "output_type": "stream",
          "name": "stderr",
          "text": [
            "Train: 100%|##########| 391/391 [00:25<00:00, 15.22batch/s]\n"
          ]
        },
        {
          "output_type": "stream",
          "name": "stdout",
          "text": [
            "LR: 1.0000e-03, Train Loss: 0.4091, Train Acc: 0.8602, Train Latency: 25.70s, Memory Usage: 213.40MB\n",
            "Test Loss: 0.7197, Test Acc: 0.7601, Test Latency: 2.92s, Test Memory Usage: 61.86MB\n",
            "\n",
            "Epoch 148\n"
          ]
        },
        {
          "output_type": "stream",
          "name": "stderr",
          "text": [
            "Train: 100%|##########| 391/391 [00:25<00:00, 15.14batch/s]\n"
          ]
        },
        {
          "output_type": "stream",
          "name": "stdout",
          "text": [
            "LR: 1.0000e-03, Train Loss: 0.4086, Train Acc: 0.8612, Train Latency: 25.84s, Memory Usage: 213.40MB\n",
            "Test Loss: 0.5138, Test Acc: 0.8261, Test Latency: 2.95s, Test Memory Usage: 61.86MB\n",
            "\n",
            "Epoch 149\n"
          ]
        },
        {
          "output_type": "stream",
          "name": "stderr",
          "text": [
            "Train: 100%|##########| 391/391 [00:25<00:00, 15.23batch/s]\n"
          ]
        },
        {
          "output_type": "stream",
          "name": "stdout",
          "text": [
            "LR: 1.0000e-03, Train Loss: 0.4032, Train Acc: 0.8607, Train Latency: 25.67s, Memory Usage: 213.40MB\n",
            "Test Loss: 0.5483, Test Acc: 0.8161, Test Latency: 2.89s, Test Memory Usage: 61.86MB\n",
            "\n",
            "Epoch 150\n"
          ]
        },
        {
          "output_type": "stream",
          "name": "stderr",
          "text": [
            "Train: 100%|##########| 391/391 [00:25<00:00, 15.04batch/s]\n"
          ]
        },
        {
          "output_type": "stream",
          "name": "stdout",
          "text": [
            "LR: 1.0000e-03, Train Loss: 0.4042, Train Acc: 0.8626, Train Latency: 26.00s, Memory Usage: 213.40MB\n",
            "Test Loss: 0.6536, Test Acc: 0.7789, Test Latency: 3.02s, Test Memory Usage: 61.86MB\n",
            "\n",
            "Epoch 151\n"
          ]
        },
        {
          "output_type": "stream",
          "name": "stderr",
          "text": [
            "Train: 100%|##########| 391/391 [00:25<00:00, 15.12batch/s]\n"
          ]
        },
        {
          "output_type": "stream",
          "name": "stdout",
          "text": [
            "LR: 1.0000e-04, Train Loss: 0.3711, Train Acc: 0.8741, Train Latency: 25.86s, Memory Usage: 213.40MB\n",
            "Test Loss: 0.4891, Test Acc: 0.8299, Test Latency: 2.92s, Test Memory Usage: 61.86MB\n",
            "\n",
            "Epoch 152\n"
          ]
        },
        {
          "output_type": "stream",
          "name": "stderr",
          "text": [
            "Train: 100%|##########| 391/391 [00:25<00:00, 15.07batch/s]\n"
          ]
        },
        {
          "output_type": "stream",
          "name": "stdout",
          "text": [
            "LR: 1.0000e-04, Train Loss: 0.3601, Train Acc: 0.8771, Train Latency: 25.95s, Memory Usage: 213.40MB\n",
            "Test Loss: 0.4682, Test Acc: 0.8435, Test Latency: 2.92s, Test Memory Usage: 61.86MB\n",
            "Saving best model ...\n",
            "\n",
            "Epoch 153\n"
          ]
        },
        {
          "output_type": "stream",
          "name": "stderr",
          "text": [
            "Train: 100%|##########| 391/391 [00:25<00:00, 15.22batch/s]\n"
          ]
        },
        {
          "output_type": "stream",
          "name": "stdout",
          "text": [
            "LR: 1.0000e-04, Train Loss: 0.3606, Train Acc: 0.8773, Train Latency: 25.69s, Memory Usage: 213.40MB\n",
            "Test Loss: 0.4435, Test Acc: 0.8495, Test Latency: 2.91s, Test Memory Usage: 61.86MB\n",
            "Saving best model ...\n",
            "\n",
            "Epoch 154\n"
          ]
        },
        {
          "output_type": "stream",
          "name": "stderr",
          "text": [
            "Train: 100%|##########| 391/391 [00:25<00:00, 15.25batch/s]\n"
          ]
        },
        {
          "output_type": "stream",
          "name": "stdout",
          "text": [
            "LR: 1.0000e-04, Train Loss: 0.3568, Train Acc: 0.8794, Train Latency: 25.64s, Memory Usage: 213.40MB\n",
            "Test Loss: 0.5174, Test Acc: 0.8224, Test Latency: 2.92s, Test Memory Usage: 61.86MB\n",
            "\n",
            "Epoch 155\n"
          ]
        },
        {
          "output_type": "stream",
          "name": "stderr",
          "text": [
            "Train: 100%|##########| 391/391 [00:25<00:00, 15.21batch/s]\n"
          ]
        },
        {
          "output_type": "stream",
          "name": "stdout",
          "text": [
            "LR: 1.0000e-04, Train Loss: 0.3572, Train Acc: 0.8777, Train Latency: 25.71s, Memory Usage: 213.40MB\n",
            "Test Loss: 0.4385, Test Acc: 0.8519, Test Latency: 2.94s, Test Memory Usage: 61.86MB\n",
            "Saving best model ...\n",
            "\n",
            "Epoch 156\n"
          ]
        },
        {
          "output_type": "stream",
          "name": "stderr",
          "text": [
            "Train: 100%|##########| 391/391 [00:26<00:00, 14.99batch/s]\n"
          ]
        },
        {
          "output_type": "stream",
          "name": "stdout",
          "text": [
            "LR: 1.0000e-04, Train Loss: 0.3573, Train Acc: 0.8778, Train Latency: 26.09s, Memory Usage: 213.40MB\n",
            "Test Loss: 0.5686, Test Acc: 0.8079, Test Latency: 2.97s, Test Memory Usage: 61.86MB\n",
            "\n",
            "Epoch 157\n"
          ]
        },
        {
          "output_type": "stream",
          "name": "stderr",
          "text": [
            "Train: 100%|##########| 391/391 [00:25<00:00, 15.08batch/s]\n"
          ]
        },
        {
          "output_type": "stream",
          "name": "stdout",
          "text": [
            "LR: 1.0000e-04, Train Loss: 0.3559, Train Acc: 0.8797, Train Latency: 25.93s, Memory Usage: 213.40MB\n",
            "Test Loss: 0.4223, Test Acc: 0.8591, Test Latency: 2.93s, Test Memory Usage: 61.86MB\n",
            "Saving best model ...\n",
            "\n",
            "Epoch 158\n"
          ]
        },
        {
          "output_type": "stream",
          "name": "stderr",
          "text": [
            "Train: 100%|##########| 391/391 [00:25<00:00, 15.07batch/s]\n"
          ]
        },
        {
          "output_type": "stream",
          "name": "stdout",
          "text": [
            "LR: 1.0000e-04, Train Loss: 0.3582, Train Acc: 0.8786, Train Latency: 25.95s, Memory Usage: 213.40MB\n",
            "Test Loss: 0.6636, Test Acc: 0.7801, Test Latency: 2.93s, Test Memory Usage: 61.86MB\n",
            "\n",
            "Epoch 159\n"
          ]
        },
        {
          "output_type": "stream",
          "name": "stderr",
          "text": [
            "Train: 100%|##########| 391/391 [00:25<00:00, 15.13batch/s]\n"
          ]
        },
        {
          "output_type": "stream",
          "name": "stdout",
          "text": [
            "LR: 1.0000e-04, Train Loss: 0.3612, Train Acc: 0.8776, Train Latency: 25.85s, Memory Usage: 213.40MB\n",
            "Test Loss: 0.4483, Test Acc: 0.8477, Test Latency: 2.94s, Test Memory Usage: 61.86MB\n",
            "\n",
            "Epoch 160\n"
          ]
        },
        {
          "output_type": "stream",
          "name": "stderr",
          "text": [
            "Train: 100%|##########| 391/391 [00:25<00:00, 15.05batch/s]\n"
          ]
        },
        {
          "output_type": "stream",
          "name": "stdout",
          "text": [
            "LR: 1.0000e-04, Train Loss: 0.3546, Train Acc: 0.8802, Train Latency: 25.98s, Memory Usage: 213.40MB\n",
            "Test Loss: 0.4217, Test Acc: 0.8591, Test Latency: 2.94s, Test Memory Usage: 61.86MB\n",
            "\n",
            "Epoch 161\n"
          ]
        },
        {
          "output_type": "stream",
          "name": "stderr",
          "text": [
            "Train: 100%|##########| 391/391 [00:26<00:00, 14.97batch/s]\n"
          ]
        },
        {
          "output_type": "stream",
          "name": "stdout",
          "text": [
            "LR: 1.0000e-04, Train Loss: 0.3572, Train Acc: 0.8781, Train Latency: 26.13s, Memory Usage: 213.40MB\n",
            "Test Loss: 0.4613, Test Acc: 0.8491, Test Latency: 2.95s, Test Memory Usage: 61.86MB\n",
            "\n",
            "Epoch 162\n"
          ]
        },
        {
          "output_type": "stream",
          "name": "stderr",
          "text": [
            "Train: 100%|##########| 391/391 [00:25<00:00, 15.05batch/s]\n"
          ]
        },
        {
          "output_type": "stream",
          "name": "stdout",
          "text": [
            "LR: 1.0000e-04, Train Loss: 0.3532, Train Acc: 0.8792, Train Latency: 25.99s, Memory Usage: 213.40MB\n",
            "Test Loss: 0.4803, Test Acc: 0.8393, Test Latency: 2.97s, Test Memory Usage: 61.86MB\n",
            "\n",
            "Epoch 163\n"
          ]
        },
        {
          "output_type": "stream",
          "name": "stderr",
          "text": [
            "Train: 100%|##########| 391/391 [00:25<00:00, 15.05batch/s]\n"
          ]
        },
        {
          "output_type": "stream",
          "name": "stdout",
          "text": [
            "LR: 1.0000e-04, Train Loss: 0.3563, Train Acc: 0.8792, Train Latency: 25.99s, Memory Usage: 213.40MB\n",
            "Test Loss: 0.4397, Test Acc: 0.8538, Test Latency: 2.94s, Test Memory Usage: 61.86MB\n",
            "\n",
            "Epoch 164\n"
          ]
        },
        {
          "output_type": "stream",
          "name": "stderr",
          "text": [
            "Train: 100%|##########| 391/391 [00:25<00:00, 15.15batch/s]\n"
          ]
        },
        {
          "output_type": "stream",
          "name": "stdout",
          "text": [
            "LR: 1.0000e-04, Train Loss: 0.3539, Train Acc: 0.8802, Train Latency: 25.81s, Memory Usage: 213.40MB\n",
            "Test Loss: 0.4738, Test Acc: 0.8430, Test Latency: 2.95s, Test Memory Usage: 61.86MB\n",
            "\n",
            "Epoch 165\n"
          ]
        },
        {
          "output_type": "stream",
          "name": "stderr",
          "text": [
            "Train: 100%|##########| 391/391 [00:25<00:00, 15.11batch/s]\n"
          ]
        },
        {
          "output_type": "stream",
          "name": "stdout",
          "text": [
            "LR: 1.0000e-04, Train Loss: 0.3588, Train Acc: 0.8776, Train Latency: 25.88s, Memory Usage: 213.40MB\n",
            "Test Loss: 0.4463, Test Acc: 0.8467, Test Latency: 2.95s, Test Memory Usage: 61.86MB\n",
            "\n",
            "Epoch 166\n"
          ]
        },
        {
          "output_type": "stream",
          "name": "stderr",
          "text": [
            "Train: 100%|##########| 391/391 [00:25<00:00, 15.17batch/s]\n"
          ]
        },
        {
          "output_type": "stream",
          "name": "stdout",
          "text": [
            "LR: 1.0000e-04, Train Loss: 0.3558, Train Acc: 0.8795, Train Latency: 25.77s, Memory Usage: 213.40MB\n",
            "Test Loss: 0.9586, Test Acc: 0.7120, Test Latency: 2.92s, Test Memory Usage: 61.86MB\n",
            "\n",
            "Epoch 167\n"
          ]
        },
        {
          "output_type": "stream",
          "name": "stderr",
          "text": [
            "Train: 100%|##########| 391/391 [00:25<00:00, 15.13batch/s]\n"
          ]
        },
        {
          "output_type": "stream",
          "name": "stdout",
          "text": [
            "LR: 1.0000e-04, Train Loss: 0.3594, Train Acc: 0.8783, Train Latency: 25.84s, Memory Usage: 213.40MB\n",
            "Test Loss: 0.8440, Test Acc: 0.7250, Test Latency: 3.00s, Test Memory Usage: 61.86MB\n",
            "\n",
            "Epoch 168\n"
          ]
        },
        {
          "output_type": "stream",
          "name": "stderr",
          "text": [
            "Train: 100%|##########| 391/391 [00:26<00:00, 15.02batch/s]\n"
          ]
        },
        {
          "output_type": "stream",
          "name": "stdout",
          "text": [
            "LR: 1.0000e-04, Train Loss: 0.3551, Train Acc: 0.8805, Train Latency: 26.04s, Memory Usage: 213.40MB\n",
            "Test Loss: 0.5054, Test Acc: 0.8318, Test Latency: 2.90s, Test Memory Usage: 61.86MB\n",
            "\n",
            "Epoch 169\n"
          ]
        },
        {
          "output_type": "stream",
          "name": "stderr",
          "text": [
            "Train: 100%|##########| 391/391 [00:25<00:00, 15.06batch/s]\n"
          ]
        },
        {
          "output_type": "stream",
          "name": "stdout",
          "text": [
            "LR: 1.0000e-04, Train Loss: 0.3551, Train Acc: 0.8782, Train Latency: 25.97s, Memory Usage: 213.40MB\n",
            "Test Loss: 0.4611, Test Acc: 0.8470, Test Latency: 3.01s, Test Memory Usage: 61.86MB\n",
            "\n",
            "Epoch 170\n"
          ]
        },
        {
          "output_type": "stream",
          "name": "stderr",
          "text": [
            "Train: 100%|##########| 391/391 [00:25<00:00, 15.15batch/s]\n"
          ]
        },
        {
          "output_type": "stream",
          "name": "stdout",
          "text": [
            "LR: 1.0000e-04, Train Loss: 0.3593, Train Acc: 0.8785, Train Latency: 25.81s, Memory Usage: 213.40MB\n",
            "Test Loss: 0.5357, Test Acc: 0.8230, Test Latency: 2.90s, Test Memory Usage: 61.86MB\n",
            "\n",
            "Epoch 171\n"
          ]
        },
        {
          "output_type": "stream",
          "name": "stderr",
          "text": [
            "Train: 100%|##########| 391/391 [00:25<00:00, 15.14batch/s]\n"
          ]
        },
        {
          "output_type": "stream",
          "name": "stdout",
          "text": [
            "LR: 1.0000e-04, Train Loss: 0.3562, Train Acc: 0.8782, Train Latency: 25.83s, Memory Usage: 213.40MB\n",
            "Test Loss: 0.5227, Test Acc: 0.8276, Test Latency: 2.93s, Test Memory Usage: 61.86MB\n",
            "\n",
            "Epoch 172\n"
          ]
        },
        {
          "output_type": "stream",
          "name": "stderr",
          "text": [
            "Train: 100%|##########| 391/391 [00:25<00:00, 15.23batch/s]\n"
          ]
        },
        {
          "output_type": "stream",
          "name": "stdout",
          "text": [
            "LR: 1.0000e-04, Train Loss: 0.3584, Train Acc: 0.8776, Train Latency: 25.67s, Memory Usage: 213.40MB\n",
            "Test Loss: 0.4708, Test Acc: 0.8388, Test Latency: 2.92s, Test Memory Usage: 61.86MB\n",
            "\n",
            "Epoch 173\n"
          ]
        },
        {
          "output_type": "stream",
          "name": "stderr",
          "text": [
            "Train: 100%|##########| 391/391 [00:26<00:00, 14.95batch/s]\n"
          ]
        },
        {
          "output_type": "stream",
          "name": "stdout",
          "text": [
            "LR: 1.0000e-04, Train Loss: 0.3601, Train Acc: 0.8770, Train Latency: 26.16s, Memory Usage: 213.40MB\n",
            "Test Loss: 0.4690, Test Acc: 0.8448, Test Latency: 2.95s, Test Memory Usage: 61.86MB\n",
            "\n",
            "Epoch 174\n"
          ]
        },
        {
          "output_type": "stream",
          "name": "stderr",
          "text": [
            "Train: 100%|##########| 391/391 [00:25<00:00, 15.24batch/s]\n"
          ]
        },
        {
          "output_type": "stream",
          "name": "stdout",
          "text": [
            "LR: 1.0000e-04, Train Loss: 0.3555, Train Acc: 0.8796, Train Latency: 25.67s, Memory Usage: 213.40MB\n",
            "Test Loss: 0.4992, Test Acc: 0.8338, Test Latency: 2.93s, Test Memory Usage: 61.86MB\n",
            "\n",
            "Epoch 175\n"
          ]
        },
        {
          "output_type": "stream",
          "name": "stderr",
          "text": [
            "Train: 100%|##########| 391/391 [00:25<00:00, 15.20batch/s]\n"
          ]
        },
        {
          "output_type": "stream",
          "name": "stdout",
          "text": [
            "LR: 1.0000e-04, Train Loss: 0.3569, Train Acc: 0.8783, Train Latency: 25.73s, Memory Usage: 213.40MB\n",
            "Test Loss: 0.4711, Test Acc: 0.8399, Test Latency: 2.92s, Test Memory Usage: 61.86MB\n",
            "\n",
            "Epoch 176\n"
          ]
        },
        {
          "output_type": "stream",
          "name": "stderr",
          "text": [
            "Train: 100%|##########| 391/391 [00:25<00:00, 15.30batch/s]\n"
          ]
        },
        {
          "output_type": "stream",
          "name": "stdout",
          "text": [
            "LR: 1.0000e-04, Train Loss: 0.3563, Train Acc: 0.8792, Train Latency: 25.56s, Memory Usage: 213.40MB\n",
            "Test Loss: 0.8544, Test Acc: 0.7261, Test Latency: 2.95s, Test Memory Usage: 61.86MB\n",
            "\n",
            "Epoch 177\n"
          ]
        },
        {
          "output_type": "stream",
          "name": "stderr",
          "text": [
            "Train: 100%|##########| 391/391 [00:25<00:00, 15.24batch/s]\n"
          ]
        },
        {
          "output_type": "stream",
          "name": "stdout",
          "text": [
            "LR: 1.0000e-04, Train Loss: 0.3601, Train Acc: 0.8769, Train Latency: 25.65s, Memory Usage: 213.40MB\n",
            "Test Loss: 0.4649, Test Acc: 0.8441, Test Latency: 2.90s, Test Memory Usage: 61.86MB\n",
            "\n",
            "Epoch 178\n"
          ]
        },
        {
          "output_type": "stream",
          "name": "stderr",
          "text": [
            "Train: 100%|##########| 391/391 [00:25<00:00, 15.21batch/s]\n"
          ]
        },
        {
          "output_type": "stream",
          "name": "stdout",
          "text": [
            "LR: 1.0000e-04, Train Loss: 0.3566, Train Acc: 0.8797, Train Latency: 25.72s, Memory Usage: 213.40MB\n",
            "Test Loss: 0.4785, Test Acc: 0.8372, Test Latency: 2.91s, Test Memory Usage: 61.86MB\n",
            "\n",
            "Epoch 179\n"
          ]
        },
        {
          "output_type": "stream",
          "name": "stderr",
          "text": [
            "Train: 100%|##########| 391/391 [00:26<00:00, 14.93batch/s]\n"
          ]
        },
        {
          "output_type": "stream",
          "name": "stdout",
          "text": [
            "LR: 1.0000e-04, Train Loss: 0.3612, Train Acc: 0.8776, Train Latency: 26.19s, Memory Usage: 213.40MB\n",
            "Test Loss: 0.6450, Test Acc: 0.7969, Test Latency: 2.94s, Test Memory Usage: 61.86MB\n",
            "\n",
            "Epoch 180\n"
          ]
        },
        {
          "output_type": "stream",
          "name": "stderr",
          "text": [
            "Train: 100%|##########| 391/391 [00:25<00:00, 15.18batch/s]\n"
          ]
        },
        {
          "output_type": "stream",
          "name": "stdout",
          "text": [
            "LR: 1.0000e-04, Train Loss: 0.3591, Train Acc: 0.8779, Train Latency: 25.76s, Memory Usage: 213.40MB\n",
            "Test Loss: 0.4553, Test Acc: 0.8485, Test Latency: 2.93s, Test Memory Usage: 61.86MB\n",
            "\n",
            "Epoch 181\n"
          ]
        },
        {
          "output_type": "stream",
          "name": "stderr",
          "text": [
            "Train: 100%|##########| 391/391 [00:25<00:00, 15.16batch/s]\n"
          ]
        },
        {
          "output_type": "stream",
          "name": "stdout",
          "text": [
            "LR: 1.0000e-04, Train Loss: 0.3588, Train Acc: 0.8783, Train Latency: 25.80s, Memory Usage: 213.40MB\n",
            "Test Loss: 0.4870, Test Acc: 0.8353, Test Latency: 2.93s, Test Memory Usage: 61.86MB\n",
            "\n",
            "Epoch 182\n"
          ]
        },
        {
          "output_type": "stream",
          "name": "stderr",
          "text": [
            "Train: 100%|##########| 391/391 [00:25<00:00, 15.12batch/s]\n"
          ]
        },
        {
          "output_type": "stream",
          "name": "stdout",
          "text": [
            "LR: 1.0000e-04, Train Loss: 0.3604, Train Acc: 0.8767, Train Latency: 25.87s, Memory Usage: 213.40MB\n",
            "Test Loss: 0.5394, Test Acc: 0.8201, Test Latency: 2.92s, Test Memory Usage: 61.86MB\n",
            "\n",
            "Epoch 183\n"
          ]
        },
        {
          "output_type": "stream",
          "name": "stderr",
          "text": [
            "Train: 100%|##########| 391/391 [00:25<00:00, 15.18batch/s]\n"
          ]
        },
        {
          "output_type": "stream",
          "name": "stdout",
          "text": [
            "LR: 1.0000e-04, Train Loss: 0.3620, Train Acc: 0.8766, Train Latency: 25.76s, Memory Usage: 213.40MB\n",
            "Test Loss: 0.6070, Test Acc: 0.7899, Test Latency: 2.93s, Test Memory Usage: 61.86MB\n",
            "\n",
            "Epoch 184\n"
          ]
        },
        {
          "output_type": "stream",
          "name": "stderr",
          "text": [
            "Train: 100%|##########| 391/391 [00:25<00:00, 15.15batch/s]\n"
          ]
        },
        {
          "output_type": "stream",
          "name": "stdout",
          "text": [
            "LR: 1.0000e-04, Train Loss: 0.3600, Train Acc: 0.8770, Train Latency: 25.82s, Memory Usage: 213.40MB\n",
            "Test Loss: 0.5366, Test Acc: 0.8243, Test Latency: 2.90s, Test Memory Usage: 61.86MB\n",
            "\n",
            "Epoch 185\n"
          ]
        },
        {
          "output_type": "stream",
          "name": "stderr",
          "text": [
            "Train: 100%|##########| 391/391 [00:26<00:00, 14.92batch/s]\n"
          ]
        },
        {
          "output_type": "stream",
          "name": "stdout",
          "text": [
            "LR: 1.0000e-04, Train Loss: 0.3595, Train Acc: 0.8771, Train Latency: 26.22s, Memory Usage: 213.40MB\n",
            "Test Loss: 0.4942, Test Acc: 0.8344, Test Latency: 2.95s, Test Memory Usage: 61.86MB\n",
            "\n",
            "Epoch 186\n"
          ]
        },
        {
          "output_type": "stream",
          "name": "stderr",
          "text": [
            "Train: 100%|##########| 391/391 [00:25<00:00, 15.15batch/s]\n"
          ]
        },
        {
          "output_type": "stream",
          "name": "stdout",
          "text": [
            "LR: 1.0000e-04, Train Loss: 0.3575, Train Acc: 0.8784, Train Latency: 25.81s, Memory Usage: 213.40MB\n",
            "Test Loss: 0.5664, Test Acc: 0.8101, Test Latency: 2.93s, Test Memory Usage: 61.86MB\n",
            "\n",
            "Epoch 187\n"
          ]
        },
        {
          "output_type": "stream",
          "name": "stderr",
          "text": [
            "Train: 100%|##########| 391/391 [00:25<00:00, 15.14batch/s]\n"
          ]
        },
        {
          "output_type": "stream",
          "name": "stdout",
          "text": [
            "LR: 1.0000e-04, Train Loss: 0.3605, Train Acc: 0.8773, Train Latency: 25.83s, Memory Usage: 213.40MB\n",
            "Test Loss: 0.5396, Test Acc: 0.8194, Test Latency: 2.94s, Test Memory Usage: 61.86MB\n",
            "\n",
            "Epoch 188\n"
          ]
        },
        {
          "output_type": "stream",
          "name": "stderr",
          "text": [
            "Train: 100%|##########| 391/391 [00:25<00:00, 15.21batch/s]\n"
          ]
        },
        {
          "output_type": "stream",
          "name": "stdout",
          "text": [
            "LR: 1.0000e-04, Train Loss: 0.3595, Train Acc: 0.8768, Train Latency: 25.71s, Memory Usage: 213.40MB\n",
            "Test Loss: 0.4919, Test Acc: 0.8343, Test Latency: 2.88s, Test Memory Usage: 61.86MB\n",
            "\n",
            "Epoch 189\n"
          ]
        },
        {
          "output_type": "stream",
          "name": "stderr",
          "text": [
            "Train: 100%|##########| 391/391 [00:26<00:00, 15.03batch/s]\n"
          ]
        },
        {
          "output_type": "stream",
          "name": "stdout",
          "text": [
            "LR: 1.0000e-04, Train Loss: 0.3591, Train Acc: 0.8771, Train Latency: 26.02s, Memory Usage: 213.40MB\n",
            "Test Loss: 0.5010, Test Acc: 0.8285, Test Latency: 2.95s, Test Memory Usage: 61.86MB\n",
            "\n",
            "Epoch 190\n"
          ]
        },
        {
          "output_type": "stream",
          "name": "stderr",
          "text": [
            "Train: 100%|##########| 391/391 [00:26<00:00, 15.03batch/s]\n"
          ]
        },
        {
          "output_type": "stream",
          "name": "stdout",
          "text": [
            "LR: 1.0000e-04, Train Loss: 0.3614, Train Acc: 0.8774, Train Latency: 26.03s, Memory Usage: 213.40MB\n",
            "Test Loss: 0.6859, Test Acc: 0.7764, Test Latency: 2.94s, Test Memory Usage: 61.86MB\n",
            "\n",
            "Epoch 191\n"
          ]
        },
        {
          "output_type": "stream",
          "name": "stderr",
          "text": [
            "Train: 100%|##########| 391/391 [00:26<00:00, 14.83batch/s]\n"
          ]
        },
        {
          "output_type": "stream",
          "name": "stdout",
          "text": [
            "LR: 1.0000e-04, Train Loss: 0.3595, Train Acc: 0.8772, Train Latency: 26.36s, Memory Usage: 213.40MB\n",
            "Test Loss: 0.6530, Test Acc: 0.7891, Test Latency: 2.93s, Test Memory Usage: 61.86MB\n",
            "\n",
            "Epoch 192\n"
          ]
        },
        {
          "output_type": "stream",
          "name": "stderr",
          "text": [
            "Train: 100%|##########| 391/391 [00:25<00:00, 15.13batch/s]\n"
          ]
        },
        {
          "output_type": "stream",
          "name": "stdout",
          "text": [
            "LR: 1.0000e-04, Train Loss: 0.3635, Train Acc: 0.8750, Train Latency: 25.85s, Memory Usage: 213.40MB\n",
            "Test Loss: 0.4721, Test Acc: 0.8417, Test Latency: 2.97s, Test Memory Usage: 61.86MB\n",
            "\n",
            "Epoch 193\n"
          ]
        },
        {
          "output_type": "stream",
          "name": "stderr",
          "text": [
            "Train: 100%|##########| 391/391 [00:25<00:00, 15.13batch/s]\n"
          ]
        },
        {
          "output_type": "stream",
          "name": "stdout",
          "text": [
            "LR: 1.0000e-04, Train Loss: 0.3605, Train Acc: 0.8773, Train Latency: 25.84s, Memory Usage: 213.40MB\n",
            "Test Loss: 0.4444, Test Acc: 0.8501, Test Latency: 2.92s, Test Memory Usage: 61.86MB\n",
            "\n",
            "Epoch 194\n"
          ]
        },
        {
          "output_type": "stream",
          "name": "stderr",
          "text": [
            "Train: 100%|##########| 391/391 [00:25<00:00, 15.14batch/s]\n"
          ]
        },
        {
          "output_type": "stream",
          "name": "stdout",
          "text": [
            "LR: 1.0000e-04, Train Loss: 0.3599, Train Acc: 0.8766, Train Latency: 25.83s, Memory Usage: 213.40MB\n",
            "Test Loss: 0.5449, Test Acc: 0.8140, Test Latency: 2.90s, Test Memory Usage: 61.86MB\n",
            "\n",
            "Epoch 195\n"
          ]
        },
        {
          "output_type": "stream",
          "name": "stderr",
          "text": [
            "Train: 100%|##########| 391/391 [00:25<00:00, 15.15batch/s]\n"
          ]
        },
        {
          "output_type": "stream",
          "name": "stdout",
          "text": [
            "LR: 1.0000e-04, Train Loss: 0.3633, Train Acc: 0.8761, Train Latency: 25.80s, Memory Usage: 213.40MB\n",
            "Test Loss: 0.5088, Test Acc: 0.8246, Test Latency: 2.93s, Test Memory Usage: 61.86MB\n",
            "\n",
            "Epoch 196\n"
          ]
        },
        {
          "output_type": "stream",
          "name": "stderr",
          "text": [
            "Train: 100%|##########| 391/391 [00:25<00:00, 15.21batch/s]\n"
          ]
        },
        {
          "output_type": "stream",
          "name": "stdout",
          "text": [
            "LR: 1.0000e-04, Train Loss: 0.3584, Train Acc: 0.8783, Train Latency: 25.72s, Memory Usage: 213.40MB\n",
            "Test Loss: 0.8500, Test Acc: 0.7354, Test Latency: 2.89s, Test Memory Usage: 61.86MB\n",
            "\n",
            "Epoch 197\n"
          ]
        },
        {
          "output_type": "stream",
          "name": "stderr",
          "text": [
            "Train: 100%|##########| 391/391 [00:26<00:00, 14.99batch/s]\n"
          ]
        },
        {
          "output_type": "stream",
          "name": "stdout",
          "text": [
            "LR: 1.0000e-04, Train Loss: 0.3570, Train Acc: 0.8785, Train Latency: 26.09s, Memory Usage: 213.40MB\n",
            "Test Loss: 0.5774, Test Acc: 0.8040, Test Latency: 2.92s, Test Memory Usage: 61.86MB\n",
            "\n",
            "Epoch 198\n"
          ]
        },
        {
          "output_type": "stream",
          "name": "stderr",
          "text": [
            "Train: 100%|##########| 391/391 [00:25<00:00, 15.12batch/s]\n"
          ]
        },
        {
          "output_type": "stream",
          "name": "stdout",
          "text": [
            "LR: 1.0000e-04, Train Loss: 0.3630, Train Acc: 0.8758, Train Latency: 25.86s, Memory Usage: 213.40MB\n",
            "Test Loss: 0.5244, Test Acc: 0.8235, Test Latency: 2.91s, Test Memory Usage: 61.86MB\n",
            "\n",
            "Epoch 199\n"
          ]
        },
        {
          "output_type": "stream",
          "name": "stderr",
          "text": [
            "Train: 100%|##########| 391/391 [00:25<00:00, 15.13batch/s]\n"
          ]
        },
        {
          "output_type": "stream",
          "name": "stdout",
          "text": [
            "LR: 1.0000e-04, Train Loss: 0.3597, Train Acc: 0.8773, Train Latency: 25.84s, Memory Usage: 213.40MB\n",
            "Test Loss: 0.5709, Test Acc: 0.8107, Test Latency: 2.92s, Test Memory Usage: 61.86MB\n",
            "\n",
            "Epoch 200\n"
          ]
        },
        {
          "output_type": "stream",
          "name": "stderr",
          "text": [
            "Train: 100%|##########| 391/391 [00:25<00:00, 15.26batch/s]\n"
          ]
        },
        {
          "output_type": "stream",
          "name": "stdout",
          "text": [
            "LR: 1.0000e-04, Train Loss: 0.3636, Train Acc: 0.8758, Train Latency: 25.63s, Memory Usage: 213.40MB\n",
            "Test Loss: 0.6223, Test Acc: 0.7936, Test Latency: 2.91s, Test Memory Usage: 61.86MB\n",
            "Saving final epoch model ...\n",
            "\n",
            "Quantization: weight=1 activation=None linear=True, Using device: cuda\n",
            "\n",
            "Epoch 1\n"
          ]
        },
        {
          "output_type": "stream",
          "name": "stderr",
          "text": [
            "Train: 100%|##########| 391/391 [00:25<00:00, 15.13batch/s]\n"
          ]
        },
        {
          "output_type": "stream",
          "name": "stdout",
          "text": [
            "LR: 1.0000e-01, Train Loss: 1.9646, Train Acc: 0.2900, Train Latency: 25.85s, Memory Usage: 213.40MB\n",
            "Test Loss: 1.7415, Test Acc: 0.3428, Test Latency: 2.91s, Test Memory Usage: 61.86MB\n",
            "\n",
            "Epoch 2\n"
          ]
        },
        {
          "output_type": "stream",
          "name": "stderr",
          "text": [
            "Train: 100%|##########| 391/391 [00:25<00:00, 15.05batch/s]\n"
          ]
        },
        {
          "output_type": "stream",
          "name": "stdout",
          "text": [
            "LR: 1.0000e-01, Train Loss: 1.5915, Train Acc: 0.4048, Train Latency: 25.99s, Memory Usage: 213.40MB\n",
            "Test Loss: 1.8690, Test Acc: 0.3748, Test Latency: 2.89s, Test Memory Usage: 61.86MB\n",
            "\n",
            "Epoch 3\n"
          ]
        },
        {
          "output_type": "stream",
          "name": "stderr",
          "text": [
            "Train: 100%|##########| 391/391 [00:26<00:00, 14.83batch/s]\n"
          ]
        },
        {
          "output_type": "stream",
          "name": "stdout",
          "text": [
            "LR: 1.0000e-01, Train Loss: 1.4223, Train Acc: 0.4792, Train Latency: 26.37s, Memory Usage: 213.40MB\n",
            "Test Loss: 1.7516, Test Acc: 0.3921, Test Latency: 2.95s, Test Memory Usage: 61.86MB\n",
            "\n",
            "Epoch 4\n"
          ]
        },
        {
          "output_type": "stream",
          "name": "stderr",
          "text": [
            "Train: 100%|##########| 391/391 [00:26<00:00, 15.00batch/s]\n"
          ]
        },
        {
          "output_type": "stream",
          "name": "stdout",
          "text": [
            "LR: 1.0000e-01, Train Loss: 1.3266, Train Acc: 0.5152, Train Latency: 26.08s, Memory Usage: 213.40MB\n",
            "Test Loss: 2.4357, Test Acc: 0.3318, Test Latency: 2.98s, Test Memory Usage: 61.86MB\n",
            "\n",
            "Epoch 5\n"
          ]
        },
        {
          "output_type": "stream",
          "name": "stderr",
          "text": [
            "Train: 100%|##########| 391/391 [00:25<00:00, 15.04batch/s]\n"
          ]
        },
        {
          "output_type": "stream",
          "name": "stdout",
          "text": [
            "LR: 1.0000e-01, Train Loss: 1.3198, Train Acc: 0.5209, Train Latency: 25.99s, Memory Usage: 213.40MB\n",
            "Test Loss: 2.7667, Test Acc: 0.3071, Test Latency: 2.89s, Test Memory Usage: 61.86MB\n",
            "\n",
            "Epoch 6\n"
          ]
        },
        {
          "output_type": "stream",
          "name": "stderr",
          "text": [
            "Train: 100%|##########| 391/391 [00:25<00:00, 15.20batch/s]\n"
          ]
        },
        {
          "output_type": "stream",
          "name": "stdout",
          "text": [
            "LR: 1.0000e-01, Train Loss: 1.2985, Train Acc: 0.5312, Train Latency: 25.73s, Memory Usage: 213.40MB\n",
            "Test Loss: 2.6738, Test Acc: 0.2302, Test Latency: 3.00s, Test Memory Usage: 61.86MB\n",
            "\n",
            "Epoch 7\n"
          ]
        },
        {
          "output_type": "stream",
          "name": "stderr",
          "text": [
            "Train: 100%|##########| 391/391 [00:25<00:00, 15.08batch/s]\n"
          ]
        },
        {
          "output_type": "stream",
          "name": "stdout",
          "text": [
            "LR: 1.0000e-01, Train Loss: 1.2733, Train Acc: 0.5409, Train Latency: 25.93s, Memory Usage: 213.40MB\n",
            "Test Loss: 5.9805, Test Acc: 0.1190, Test Latency: 2.93s, Test Memory Usage: 61.86MB\n",
            "\n",
            "Epoch 8\n"
          ]
        },
        {
          "output_type": "stream",
          "name": "stderr",
          "text": [
            "Train: 100%|##########| 391/391 [00:25<00:00, 15.11batch/s]\n"
          ]
        },
        {
          "output_type": "stream",
          "name": "stdout",
          "text": [
            "LR: 1.0000e-01, Train Loss: 1.2829, Train Acc: 0.5379, Train Latency: 25.88s, Memory Usage: 213.40MB\n",
            "Test Loss: 3.1269, Test Acc: 0.2277, Test Latency: 2.95s, Test Memory Usage: 61.86MB\n",
            "\n",
            "Epoch 9\n"
          ]
        },
        {
          "output_type": "stream",
          "name": "stderr",
          "text": [
            "Train: 100%|##########| 391/391 [00:26<00:00, 14.80batch/s]\n"
          ]
        },
        {
          "output_type": "stream",
          "name": "stdout",
          "text": [
            "LR: 1.0000e-01, Train Loss: 1.2401, Train Acc: 0.5535, Train Latency: 26.42s, Memory Usage: 213.40MB\n",
            "Test Loss: 1.6609, Test Acc: 0.4367, Test Latency: 2.96s, Test Memory Usage: 61.86MB\n",
            "\n",
            "Epoch 10\n"
          ]
        },
        {
          "output_type": "stream",
          "name": "stderr",
          "text": [
            "Train: 100%|##########| 391/391 [00:26<00:00, 14.98batch/s]\n"
          ]
        },
        {
          "output_type": "stream",
          "name": "stdout",
          "text": [
            "LR: 1.0000e-01, Train Loss: 1.2321, Train Acc: 0.5554, Train Latency: 26.10s, Memory Usage: 213.40MB\n",
            "Test Loss: 2.9155, Test Acc: 0.2505, Test Latency: 2.92s, Test Memory Usage: 61.86MB\n",
            "\n",
            "Epoch 11\n"
          ]
        },
        {
          "output_type": "stream",
          "name": "stderr",
          "text": [
            "Train: 100%|##########| 391/391 [00:25<00:00, 15.06batch/s]\n"
          ]
        },
        {
          "output_type": "stream",
          "name": "stdout",
          "text": [
            "LR: 1.0000e-01, Train Loss: 1.2404, Train Acc: 0.5529, Train Latency: 25.97s, Memory Usage: 213.40MB\n",
            "Test Loss: 1.8259, Test Acc: 0.4432, Test Latency: 2.94s, Test Memory Usage: 61.86MB\n",
            "\n",
            "Epoch 12\n"
          ]
        },
        {
          "output_type": "stream",
          "name": "stderr",
          "text": [
            "Train: 100%|##########| 391/391 [00:25<00:00, 15.12batch/s]\n"
          ]
        },
        {
          "output_type": "stream",
          "name": "stdout",
          "text": [
            "LR: 1.0000e-01, Train Loss: 1.2348, Train Acc: 0.5549, Train Latency: 25.86s, Memory Usage: 213.40MB\n",
            "Test Loss: 1.9795, Test Acc: 0.3219, Test Latency: 2.94s, Test Memory Usage: 61.86MB\n",
            "\n",
            "Epoch 13\n"
          ]
        },
        {
          "output_type": "stream",
          "name": "stderr",
          "text": [
            "Train: 100%|##########| 391/391 [00:25<00:00, 15.08batch/s]\n"
          ]
        },
        {
          "output_type": "stream",
          "name": "stdout",
          "text": [
            "LR: 1.0000e-01, Train Loss: 1.2569, Train Acc: 0.5466, Train Latency: 25.93s, Memory Usage: 213.40MB\n",
            "Test Loss: 1.8750, Test Acc: 0.3699, Test Latency: 2.94s, Test Memory Usage: 61.86MB\n",
            "\n",
            "Epoch 14\n"
          ]
        },
        {
          "output_type": "stream",
          "name": "stderr",
          "text": [
            "Train: 100%|##########| 391/391 [00:25<00:00, 15.07batch/s]\n"
          ]
        },
        {
          "output_type": "stream",
          "name": "stdout",
          "text": [
            "LR: 1.0000e-01, Train Loss: 1.2398, Train Acc: 0.5507, Train Latency: 25.95s, Memory Usage: 213.40MB\n",
            "Test Loss: 4.7002, Test Acc: 0.2059, Test Latency: 2.94s, Test Memory Usage: 61.86MB\n",
            "\n",
            "Epoch 15\n"
          ]
        },
        {
          "output_type": "stream",
          "name": "stderr",
          "text": [
            "Train: 100%|##########| 391/391 [00:26<00:00, 14.83batch/s]\n"
          ]
        },
        {
          "output_type": "stream",
          "name": "stdout",
          "text": [
            "LR: 1.0000e-01, Train Loss: 1.2261, Train Acc: 0.5594, Train Latency: 26.36s, Memory Usage: 213.40MB\n",
            "Test Loss: 3.3114, Test Acc: 0.2157, Test Latency: 2.93s, Test Memory Usage: 61.86MB\n",
            "\n",
            "Epoch 16\n"
          ]
        },
        {
          "output_type": "stream",
          "name": "stderr",
          "text": [
            "Train: 100%|##########| 391/391 [00:25<00:00, 15.08batch/s]\n"
          ]
        },
        {
          "output_type": "stream",
          "name": "stdout",
          "text": [
            "LR: 1.0000e-01, Train Loss: 1.2360, Train Acc: 0.5554, Train Latency: 25.93s, Memory Usage: 213.40MB\n",
            "Test Loss: 2.5016, Test Acc: 0.2671, Test Latency: 2.92s, Test Memory Usage: 61.86MB\n",
            "\n",
            "Epoch 17\n"
          ]
        },
        {
          "output_type": "stream",
          "name": "stderr",
          "text": [
            "Train: 100%|##########| 391/391 [00:26<00:00, 15.01batch/s]\n"
          ]
        },
        {
          "output_type": "stream",
          "name": "stdout",
          "text": [
            "LR: 1.0000e-01, Train Loss: 1.2377, Train Acc: 0.5541, Train Latency: 26.06s, Memory Usage: 213.40MB\n",
            "Test Loss: 1.5824, Test Acc: 0.4412, Test Latency: 2.94s, Test Memory Usage: 61.86MB\n",
            "\n",
            "Epoch 18\n"
          ]
        },
        {
          "output_type": "stream",
          "name": "stderr",
          "text": [
            "Train: 100%|##########| 391/391 [00:25<00:00, 15.18batch/s]\n"
          ]
        },
        {
          "output_type": "stream",
          "name": "stdout",
          "text": [
            "LR: 1.0000e-01, Train Loss: 1.2206, Train Acc: 0.5618, Train Latency: 25.76s, Memory Usage: 213.40MB\n",
            "Test Loss: 1.5527, Test Acc: 0.4585, Test Latency: 2.91s, Test Memory Usage: 61.86MB\n",
            "\n",
            "Epoch 19\n"
          ]
        },
        {
          "output_type": "stream",
          "name": "stderr",
          "text": [
            "Train: 100%|##########| 391/391 [00:25<00:00, 15.19batch/s]\n"
          ]
        },
        {
          "output_type": "stream",
          "name": "stdout",
          "text": [
            "LR: 1.0000e-01, Train Loss: 1.2213, Train Acc: 0.5616, Train Latency: 25.75s, Memory Usage: 213.40MB\n",
            "Test Loss: 1.7628, Test Acc: 0.3784, Test Latency: 2.90s, Test Memory Usage: 61.86MB\n",
            "\n",
            "Epoch 20\n"
          ]
        },
        {
          "output_type": "stream",
          "name": "stderr",
          "text": [
            "Train: 100%|##########| 391/391 [00:25<00:00, 15.24batch/s]\n"
          ]
        },
        {
          "output_type": "stream",
          "name": "stdout",
          "text": [
            "LR: 1.0000e-01, Train Loss: 1.2240, Train Acc: 0.5603, Train Latency: 25.66s, Memory Usage: 213.40MB\n",
            "Test Loss: 4.0178, Test Acc: 0.1942, Test Latency: 2.93s, Test Memory Usage: 61.86MB\n",
            "\n",
            "Epoch 21\n"
          ]
        },
        {
          "output_type": "stream",
          "name": "stderr",
          "text": [
            "Train: 100%|##########| 391/391 [00:26<00:00, 14.99batch/s]\n"
          ]
        },
        {
          "output_type": "stream",
          "name": "stdout",
          "text": [
            "LR: 1.0000e-01, Train Loss: 1.2256, Train Acc: 0.5588, Train Latency: 26.09s, Memory Usage: 213.40MB\n",
            "Test Loss: 2.5808, Test Acc: 0.3173, Test Latency: 2.91s, Test Memory Usage: 61.86MB\n",
            "\n",
            "Epoch 22\n"
          ]
        },
        {
          "output_type": "stream",
          "name": "stderr",
          "text": [
            "Train: 100%|##########| 391/391 [00:25<00:00, 15.17batch/s]\n"
          ]
        },
        {
          "output_type": "stream",
          "name": "stdout",
          "text": [
            "LR: 1.0000e-01, Train Loss: 1.2208, Train Acc: 0.5612, Train Latency: 25.78s, Memory Usage: 213.40MB\n",
            "Test Loss: 1.5948, Test Acc: 0.4562, Test Latency: 2.89s, Test Memory Usage: 61.86MB\n",
            "\n",
            "Epoch 23\n"
          ]
        },
        {
          "output_type": "stream",
          "name": "stderr",
          "text": [
            "Train: 100%|##########| 391/391 [00:25<00:00, 15.13batch/s]\n"
          ]
        },
        {
          "output_type": "stream",
          "name": "stdout",
          "text": [
            "LR: 1.0000e-01, Train Loss: 1.2316, Train Acc: 0.5563, Train Latency: 25.84s, Memory Usage: 213.40MB\n",
            "Test Loss: 1.9208, Test Acc: 0.3177, Test Latency: 2.93s, Test Memory Usage: 61.86MB\n",
            "\n",
            "Epoch 24\n"
          ]
        },
        {
          "output_type": "stream",
          "name": "stderr",
          "text": [
            "Train: 100%|##########| 391/391 [00:25<00:00, 15.24batch/s]\n"
          ]
        },
        {
          "output_type": "stream",
          "name": "stdout",
          "text": [
            "LR: 1.0000e-01, Train Loss: 1.2247, Train Acc: 0.5580, Train Latency: 25.66s, Memory Usage: 213.40MB\n",
            "Test Loss: 2.1048, Test Acc: 0.3720, Test Latency: 2.92s, Test Memory Usage: 61.86MB\n",
            "\n",
            "Epoch 25\n"
          ]
        },
        {
          "output_type": "stream",
          "name": "stderr",
          "text": [
            "Train: 100%|##########| 391/391 [00:25<00:00, 15.14batch/s]\n"
          ]
        },
        {
          "output_type": "stream",
          "name": "stdout",
          "text": [
            "LR: 1.0000e-01, Train Loss: 1.2449, Train Acc: 0.5525, Train Latency: 25.83s, Memory Usage: 213.40MB\n",
            "Test Loss: 2.1811, Test Acc: 0.3708, Test Latency: 2.96s, Test Memory Usage: 61.86MB\n",
            "\n",
            "Epoch 26\n"
          ]
        },
        {
          "output_type": "stream",
          "name": "stderr",
          "text": [
            "Train: 100%|##########| 391/391 [00:26<00:00, 15.02batch/s]\n"
          ]
        },
        {
          "output_type": "stream",
          "name": "stdout",
          "text": [
            "LR: 1.0000e-01, Train Loss: 1.2192, Train Acc: 0.5613, Train Latency: 26.04s, Memory Usage: 213.40MB\n",
            "Test Loss: 1.8264, Test Acc: 0.4081, Test Latency: 2.98s, Test Memory Usage: 61.86MB\n",
            "\n",
            "Epoch 27\n"
          ]
        },
        {
          "output_type": "stream",
          "name": "stderr",
          "text": [
            "Train: 100%|##########| 391/391 [00:26<00:00, 14.97batch/s]\n"
          ]
        },
        {
          "output_type": "stream",
          "name": "stdout",
          "text": [
            "LR: 1.0000e-01, Train Loss: 1.2158, Train Acc: 0.5659, Train Latency: 26.12s, Memory Usage: 213.40MB\n",
            "Test Loss: 2.5194, Test Acc: 0.3226, Test Latency: 2.93s, Test Memory Usage: 61.86MB\n",
            "\n",
            "Epoch 28\n"
          ]
        },
        {
          "output_type": "stream",
          "name": "stderr",
          "text": [
            "Train: 100%|##########| 391/391 [00:25<00:00, 15.20batch/s]\n"
          ]
        },
        {
          "output_type": "stream",
          "name": "stdout",
          "text": [
            "LR: 1.0000e-01, Train Loss: 1.2094, Train Acc: 0.5664, Train Latency: 25.73s, Memory Usage: 213.40MB\n",
            "Test Loss: 1.9697, Test Acc: 0.3402, Test Latency: 2.91s, Test Memory Usage: 61.86MB\n",
            "\n",
            "Epoch 29\n"
          ]
        },
        {
          "output_type": "stream",
          "name": "stderr",
          "text": [
            "Train: 100%|##########| 391/391 [00:26<00:00, 14.99batch/s]\n"
          ]
        },
        {
          "output_type": "stream",
          "name": "stdout",
          "text": [
            "LR: 1.0000e-01, Train Loss: 1.2150, Train Acc: 0.5618, Train Latency: 26.09s, Memory Usage: 213.40MB\n",
            "Test Loss: 2.3475, Test Acc: 0.3195, Test Latency: 2.92s, Test Memory Usage: 61.86MB\n",
            "\n",
            "Epoch 30\n"
          ]
        },
        {
          "output_type": "stream",
          "name": "stderr",
          "text": [
            "Train: 100%|##########| 391/391 [00:25<00:00, 15.20batch/s]\n"
          ]
        },
        {
          "output_type": "stream",
          "name": "stdout",
          "text": [
            "LR: 1.0000e-01, Train Loss: 1.2312, Train Acc: 0.5576, Train Latency: 25.73s, Memory Usage: 213.40MB\n",
            "Test Loss: 2.8091, Test Acc: 0.2925, Test Latency: 2.94s, Test Memory Usage: 61.86MB\n",
            "\n",
            "Epoch 31\n"
          ]
        },
        {
          "output_type": "stream",
          "name": "stderr",
          "text": [
            "Train: 100%|##########| 391/391 [00:25<00:00, 15.21batch/s]\n"
          ]
        },
        {
          "output_type": "stream",
          "name": "stdout",
          "text": [
            "LR: 1.0000e-01, Train Loss: 1.2293, Train Acc: 0.5603, Train Latency: 25.71s, Memory Usage: 213.40MB\n",
            "Test Loss: 1.5759, Test Acc: 0.4448, Test Latency: 2.90s, Test Memory Usage: 61.86MB\n",
            "\n",
            "Epoch 32\n"
          ]
        },
        {
          "output_type": "stream",
          "name": "stderr",
          "text": [
            "Train: 100%|##########| 391/391 [00:25<00:00, 15.14batch/s]\n"
          ]
        },
        {
          "output_type": "stream",
          "name": "stdout",
          "text": [
            "LR: 1.0000e-01, Train Loss: 1.2205, Train Acc: 0.5627, Train Latency: 25.82s, Memory Usage: 213.40MB\n",
            "Test Loss: 2.5714, Test Acc: 0.2713, Test Latency: 2.98s, Test Memory Usage: 61.86MB\n",
            "\n",
            "Epoch 33\n"
          ]
        },
        {
          "output_type": "stream",
          "name": "stderr",
          "text": [
            "Train: 100%|##########| 391/391 [00:26<00:00, 14.97batch/s]\n"
          ]
        },
        {
          "output_type": "stream",
          "name": "stdout",
          "text": [
            "LR: 1.0000e-01, Train Loss: 1.2248, Train Acc: 0.5615, Train Latency: 26.13s, Memory Usage: 213.40MB\n",
            "Test Loss: 2.2679, Test Acc: 0.2042, Test Latency: 2.92s, Test Memory Usage: 61.86MB\n",
            "\n",
            "Epoch 34\n"
          ]
        },
        {
          "output_type": "stream",
          "name": "stderr",
          "text": [
            "Train: 100%|##########| 391/391 [00:26<00:00, 14.99batch/s]\n"
          ]
        },
        {
          "output_type": "stream",
          "name": "stdout",
          "text": [
            "LR: 1.0000e-01, Train Loss: 1.2326, Train Acc: 0.5567, Train Latency: 26.08s, Memory Usage: 213.40MB\n",
            "Test Loss: 1.6428, Test Acc: 0.4484, Test Latency: 2.94s, Test Memory Usage: 61.86MB\n",
            "\n",
            "Epoch 35\n"
          ]
        },
        {
          "output_type": "stream",
          "name": "stderr",
          "text": [
            "Train: 100%|##########| 391/391 [00:25<00:00, 15.17batch/s]\n"
          ]
        },
        {
          "output_type": "stream",
          "name": "stdout",
          "text": [
            "LR: 1.0000e-01, Train Loss: 1.2163, Train Acc: 0.5631, Train Latency: 25.77s, Memory Usage: 213.40MB\n",
            "Test Loss: 2.1422, Test Acc: 0.3280, Test Latency: 2.91s, Test Memory Usage: 61.86MB\n",
            "\n",
            "Epoch 36\n"
          ]
        },
        {
          "output_type": "stream",
          "name": "stderr",
          "text": [
            "Train: 100%|##########| 391/391 [00:25<00:00, 15.27batch/s]\n"
          ]
        },
        {
          "output_type": "stream",
          "name": "stdout",
          "text": [
            "LR: 1.0000e-01, Train Loss: 1.2161, Train Acc: 0.5628, Train Latency: 25.61s, Memory Usage: 213.40MB\n",
            "Test Loss: 1.5568, Test Acc: 0.4460, Test Latency: 2.90s, Test Memory Usage: 61.86MB\n",
            "\n",
            "Epoch 37\n"
          ]
        },
        {
          "output_type": "stream",
          "name": "stderr",
          "text": [
            "Train: 100%|##########| 391/391 [00:25<00:00, 15.22batch/s]\n"
          ]
        },
        {
          "output_type": "stream",
          "name": "stdout",
          "text": [
            "LR: 1.0000e-01, Train Loss: 1.2215, Train Acc: 0.5611, Train Latency: 25.70s, Memory Usage: 213.40MB\n",
            "Test Loss: 5.5932, Test Acc: 0.2199, Test Latency: 2.96s, Test Memory Usage: 61.86MB\n",
            "\n",
            "Epoch 38\n"
          ]
        },
        {
          "output_type": "stream",
          "name": "stderr",
          "text": [
            "Train: 100%|##########| 391/391 [00:25<00:00, 15.13batch/s]\n"
          ]
        },
        {
          "output_type": "stream",
          "name": "stdout",
          "text": [
            "LR: 1.0000e-01, Train Loss: 1.2228, Train Acc: 0.5606, Train Latency: 25.85s, Memory Usage: 213.40MB\n",
            "Test Loss: 2.4076, Test Acc: 0.1926, Test Latency: 3.00s, Test Memory Usage: 61.86MB\n",
            "\n",
            "Epoch 39\n"
          ]
        },
        {
          "output_type": "stream",
          "name": "stderr",
          "text": [
            "Train: 100%|##########| 391/391 [00:25<00:00, 15.11batch/s]\n"
          ]
        },
        {
          "output_type": "stream",
          "name": "stdout",
          "text": [
            "LR: 1.0000e-01, Train Loss: 1.2300, Train Acc: 0.5591, Train Latency: 25.88s, Memory Usage: 213.40MB\n",
            "Test Loss: 1.9840, Test Acc: 0.3941, Test Latency: 2.94s, Test Memory Usage: 61.86MB\n",
            "\n",
            "Epoch 40\n"
          ]
        },
        {
          "output_type": "stream",
          "name": "stderr",
          "text": [
            "Train: 100%|##########| 391/391 [00:25<00:00, 15.18batch/s]\n"
          ]
        },
        {
          "output_type": "stream",
          "name": "stdout",
          "text": [
            "LR: 1.0000e-01, Train Loss: 1.2475, Train Acc: 0.5490, Train Latency: 25.76s, Memory Usage: 213.40MB\n",
            "Test Loss: 2.5467, Test Acc: 0.2858, Test Latency: 2.91s, Test Memory Usage: 61.86MB\n",
            "\n",
            "Epoch 41\n"
          ]
        },
        {
          "output_type": "stream",
          "name": "stderr",
          "text": [
            "Train: 100%|##########| 391/391 [00:25<00:00, 15.14batch/s]\n"
          ]
        },
        {
          "output_type": "stream",
          "name": "stdout",
          "text": [
            "LR: 1.0000e-01, Train Loss: 1.2299, Train Acc: 0.5575, Train Latency: 25.83s, Memory Usage: 213.40MB\n",
            "Test Loss: 2.0096, Test Acc: 0.4017, Test Latency: 2.93s, Test Memory Usage: 61.86MB\n",
            "\n",
            "Epoch 42\n"
          ]
        },
        {
          "output_type": "stream",
          "name": "stderr",
          "text": [
            "Train: 100%|##########| 391/391 [00:25<00:00, 15.08batch/s]\n"
          ]
        },
        {
          "output_type": "stream",
          "name": "stdout",
          "text": [
            "LR: 1.0000e-01, Train Loss: 1.2273, Train Acc: 0.5563, Train Latency: 25.94s, Memory Usage: 213.40MB\n",
            "Test Loss: 2.0905, Test Acc: 0.3253, Test Latency: 2.94s, Test Memory Usage: 61.86MB\n",
            "\n",
            "Epoch 43\n"
          ]
        },
        {
          "output_type": "stream",
          "name": "stderr",
          "text": [
            "Train: 100%|##########| 391/391 [00:25<00:00, 15.13batch/s]\n"
          ]
        },
        {
          "output_type": "stream",
          "name": "stdout",
          "text": [
            "LR: 1.0000e-01, Train Loss: 1.2189, Train Acc: 0.5623, Train Latency: 25.84s, Memory Usage: 213.40MB\n",
            "Test Loss: 1.7373, Test Acc: 0.3866, Test Latency: 2.90s, Test Memory Usage: 61.86MB\n",
            "\n",
            "Epoch 44\n"
          ]
        },
        {
          "output_type": "stream",
          "name": "stderr",
          "text": [
            "Train: 100%|##########| 391/391 [00:25<00:00, 15.05batch/s]\n"
          ]
        },
        {
          "output_type": "stream",
          "name": "stdout",
          "text": [
            "LR: 1.0000e-01, Train Loss: 1.2320, Train Acc: 0.5575, Train Latency: 25.98s, Memory Usage: 213.40MB\n",
            "Test Loss: 1.5646, Test Acc: 0.4193, Test Latency: 3.03s, Test Memory Usage: 61.86MB\n",
            "\n",
            "Epoch 45\n"
          ]
        },
        {
          "output_type": "stream",
          "name": "stderr",
          "text": [
            "Train: 100%|##########| 391/391 [00:26<00:00, 15.03batch/s]\n"
          ]
        },
        {
          "output_type": "stream",
          "name": "stdout",
          "text": [
            "LR: 1.0000e-01, Train Loss: 1.2343, Train Acc: 0.5583, Train Latency: 26.02s, Memory Usage: 213.40MB\n",
            "Test Loss: 1.9245, Test Acc: 0.2896, Test Latency: 2.92s, Test Memory Usage: 61.86MB\n",
            "\n",
            "Epoch 46\n"
          ]
        },
        {
          "output_type": "stream",
          "name": "stderr",
          "text": [
            "Train: 100%|##########| 391/391 [00:25<00:00, 15.07batch/s]\n"
          ]
        },
        {
          "output_type": "stream",
          "name": "stdout",
          "text": [
            "LR: 1.0000e-01, Train Loss: 1.2436, Train Acc: 0.5525, Train Latency: 25.94s, Memory Usage: 213.40MB\n",
            "Test Loss: 2.0709, Test Acc: 0.3589, Test Latency: 2.93s, Test Memory Usage: 61.86MB\n",
            "\n",
            "Epoch 47\n"
          ]
        },
        {
          "output_type": "stream",
          "name": "stderr",
          "text": [
            "Train: 100%|##########| 391/391 [00:25<00:00, 15.22batch/s]\n"
          ]
        },
        {
          "output_type": "stream",
          "name": "stdout",
          "text": [
            "LR: 1.0000e-01, Train Loss: 1.2371, Train Acc: 0.5535, Train Latency: 25.70s, Memory Usage: 213.40MB\n",
            "Test Loss: 2.0480, Test Acc: 0.3620, Test Latency: 2.92s, Test Memory Usage: 61.86MB\n",
            "\n",
            "Epoch 48\n"
          ]
        },
        {
          "output_type": "stream",
          "name": "stderr",
          "text": [
            "Train: 100%|##########| 391/391 [00:25<00:00, 15.24batch/s]\n"
          ]
        },
        {
          "output_type": "stream",
          "name": "stdout",
          "text": [
            "LR: 1.0000e-01, Train Loss: 1.2494, Train Acc: 0.5519, Train Latency: 25.67s, Memory Usage: 213.40MB\n",
            "Test Loss: 2.4625, Test Acc: 0.3163, Test Latency: 2.90s, Test Memory Usage: 61.86MB\n",
            "\n",
            "Epoch 49\n"
          ]
        },
        {
          "output_type": "stream",
          "name": "stderr",
          "text": [
            "Train: 100%|##########| 391/391 [00:25<00:00, 15.15batch/s]\n"
          ]
        },
        {
          "output_type": "stream",
          "name": "stdout",
          "text": [
            "LR: 1.0000e-01, Train Loss: 1.2426, Train Acc: 0.5536, Train Latency: 25.82s, Memory Usage: 213.40MB\n",
            "Test Loss: 1.8272, Test Acc: 0.4529, Test Latency: 2.93s, Test Memory Usage: 61.86MB\n",
            "\n",
            "Epoch 50\n"
          ]
        },
        {
          "output_type": "stream",
          "name": "stderr",
          "text": [
            "Train: 100%|##########| 391/391 [00:25<00:00, 15.12batch/s]\n"
          ]
        },
        {
          "output_type": "stream",
          "name": "stdout",
          "text": [
            "LR: 1.0000e-01, Train Loss: 1.2296, Train Acc: 0.5586, Train Latency: 25.87s, Memory Usage: 213.40MB\n",
            "Test Loss: 2.0819, Test Acc: 0.3889, Test Latency: 2.91s, Test Memory Usage: 61.86MB\n",
            "\n",
            "Epoch 51\n"
          ]
        },
        {
          "output_type": "stream",
          "name": "stderr",
          "text": [
            "Train: 100%|##########| 391/391 [00:25<00:00, 15.07batch/s]\n"
          ]
        },
        {
          "output_type": "stream",
          "name": "stdout",
          "text": [
            "LR: 1.0000e-02, Train Loss: 1.0924, Train Acc: 0.6093, Train Latency: 25.95s, Memory Usage: 213.40MB\n",
            "Test Loss: 1.3354, Test Acc: 0.5490, Test Latency: 2.92s, Test Memory Usage: 61.86MB\n",
            "Saving best model ...\n",
            "\n",
            "Epoch 52\n"
          ]
        },
        {
          "output_type": "stream",
          "name": "stderr",
          "text": [
            "Train: 100%|##########| 391/391 [00:25<00:00, 15.09batch/s]\n"
          ]
        },
        {
          "output_type": "stream",
          "name": "stdout",
          "text": [
            "LR: 1.0000e-02, Train Loss: 1.0666, Train Acc: 0.6175, Train Latency: 25.92s, Memory Usage: 213.40MB\n",
            "Test Loss: 2.9947, Test Acc: 0.2530, Test Latency: 2.96s, Test Memory Usage: 61.86MB\n",
            "\n",
            "Epoch 53\n"
          ]
        },
        {
          "output_type": "stream",
          "name": "stderr",
          "text": [
            "Train: 100%|##########| 391/391 [00:25<00:00, 15.19batch/s]\n"
          ]
        },
        {
          "output_type": "stream",
          "name": "stdout",
          "text": [
            "LR: 1.0000e-02, Train Loss: 1.0648, Train Acc: 0.6179, Train Latency: 25.75s, Memory Usage: 213.40MB\n",
            "Test Loss: 1.5341, Test Acc: 0.4908, Test Latency: 2.90s, Test Memory Usage: 61.86MB\n",
            "\n",
            "Epoch 54\n"
          ]
        },
        {
          "output_type": "stream",
          "name": "stderr",
          "text": [
            "Train: 100%|##########| 391/391 [00:26<00:00, 15.02batch/s]\n"
          ]
        },
        {
          "output_type": "stream",
          "name": "stdout",
          "text": [
            "LR: 1.0000e-02, Train Loss: 1.0536, Train Acc: 0.6212, Train Latency: 26.04s, Memory Usage: 213.40MB\n",
            "Test Loss: 1.7253, Test Acc: 0.4192, Test Latency: 2.98s, Test Memory Usage: 61.86MB\n",
            "\n",
            "Epoch 55\n"
          ]
        },
        {
          "output_type": "stream",
          "name": "stderr",
          "text": [
            "Train: 100%|##########| 391/391 [00:25<00:00, 15.04batch/s]\n"
          ]
        },
        {
          "output_type": "stream",
          "name": "stdout",
          "text": [
            "LR: 1.0000e-02, Train Loss: 1.0604, Train Acc: 0.6190, Train Latency: 25.99s, Memory Usage: 213.40MB\n",
            "Test Loss: 1.2139, Test Acc: 0.5668, Test Latency: 2.99s, Test Memory Usage: 61.86MB\n",
            "Saving best model ...\n",
            "\n",
            "Epoch 56\n"
          ]
        },
        {
          "output_type": "stream",
          "name": "stderr",
          "text": [
            "Train: 100%|##########| 391/391 [00:26<00:00, 14.93batch/s]\n"
          ]
        },
        {
          "output_type": "stream",
          "name": "stdout",
          "text": [
            "LR: 1.0000e-02, Train Loss: 1.0595, Train Acc: 0.6193, Train Latency: 26.20s, Memory Usage: 213.40MB\n",
            "Test Loss: 1.5050, Test Acc: 0.4920, Test Latency: 2.94s, Test Memory Usage: 61.86MB\n",
            "\n",
            "Epoch 57\n"
          ]
        },
        {
          "output_type": "stream",
          "name": "stderr",
          "text": [
            "Train: 100%|##########| 391/391 [00:26<00:00, 15.00batch/s]\n"
          ]
        },
        {
          "output_type": "stream",
          "name": "stdout",
          "text": [
            "LR: 1.0000e-02, Train Loss: 1.0634, Train Acc: 0.6165, Train Latency: 26.07s, Memory Usage: 213.40MB\n",
            "Test Loss: 1.4622, Test Acc: 0.5004, Test Latency: 2.91s, Test Memory Usage: 61.86MB\n",
            "\n",
            "Epoch 58\n"
          ]
        },
        {
          "output_type": "stream",
          "name": "stderr",
          "text": [
            "Train: 100%|##########| 391/391 [00:25<00:00, 15.12batch/s]\n"
          ]
        },
        {
          "output_type": "stream",
          "name": "stdout",
          "text": [
            "LR: 1.0000e-02, Train Loss: 1.0595, Train Acc: 0.6212, Train Latency: 25.87s, Memory Usage: 213.40MB\n",
            "Test Loss: 1.4885, Test Acc: 0.5029, Test Latency: 2.95s, Test Memory Usage: 61.86MB\n",
            "\n",
            "Epoch 59\n"
          ]
        },
        {
          "output_type": "stream",
          "name": "stderr",
          "text": [
            "Train: 100%|##########| 391/391 [00:25<00:00, 15.08batch/s]\n"
          ]
        },
        {
          "output_type": "stream",
          "name": "stdout",
          "text": [
            "LR: 1.0000e-02, Train Loss: 1.0662, Train Acc: 0.6191, Train Latency: 25.92s, Memory Usage: 213.40MB\n",
            "Test Loss: 1.3759, Test Acc: 0.5092, Test Latency: 2.92s, Test Memory Usage: 61.86MB\n",
            "\n",
            "Epoch 60\n"
          ]
        },
        {
          "output_type": "stream",
          "name": "stderr",
          "text": [
            "Train: 100%|##########| 391/391 [00:25<00:00, 15.19batch/s]\n"
          ]
        },
        {
          "output_type": "stream",
          "name": "stdout",
          "text": [
            "LR: 1.0000e-02, Train Loss: 1.0697, Train Acc: 0.6160, Train Latency: 25.75s, Memory Usage: 213.40MB\n",
            "Test Loss: 2.4075, Test Acc: 0.3396, Test Latency: 2.97s, Test Memory Usage: 61.86MB\n",
            "\n",
            "Epoch 61\n"
          ]
        },
        {
          "output_type": "stream",
          "name": "stderr",
          "text": [
            "Train: 100%|##########| 391/391 [00:26<00:00, 14.86batch/s]\n"
          ]
        },
        {
          "output_type": "stream",
          "name": "stdout",
          "text": [
            "LR: 1.0000e-02, Train Loss: 1.0735, Train Acc: 0.6174, Train Latency: 26.32s, Memory Usage: 213.40MB\n",
            "Test Loss: 2.1657, Test Acc: 0.3401, Test Latency: 3.02s, Test Memory Usage: 61.86MB\n",
            "\n",
            "Epoch 62\n"
          ]
        },
        {
          "output_type": "stream",
          "name": "stderr",
          "text": [
            "Train: 100%|##########| 391/391 [00:26<00:00, 14.94batch/s]\n"
          ]
        },
        {
          "output_type": "stream",
          "name": "stdout",
          "text": [
            "LR: 1.0000e-02, Train Loss: 1.0630, Train Acc: 0.6197, Train Latency: 26.17s, Memory Usage: 213.40MB\n",
            "Test Loss: 1.3118, Test Acc: 0.5225, Test Latency: 2.97s, Test Memory Usage: 61.86MB\n",
            "\n",
            "Epoch 63\n"
          ]
        },
        {
          "output_type": "stream",
          "name": "stderr",
          "text": [
            "Train: 100%|##########| 391/391 [00:26<00:00, 14.88batch/s]\n"
          ]
        },
        {
          "output_type": "stream",
          "name": "stdout",
          "text": [
            "LR: 1.0000e-02, Train Loss: 1.0626, Train Acc: 0.6184, Train Latency: 26.29s, Memory Usage: 213.40MB\n",
            "Test Loss: 1.4695, Test Acc: 0.4802, Test Latency: 2.98s, Test Memory Usage: 61.86MB\n",
            "\n",
            "Epoch 64\n"
          ]
        },
        {
          "output_type": "stream",
          "name": "stderr",
          "text": [
            "Train: 100%|##########| 391/391 [00:26<00:00, 14.83batch/s]\n"
          ]
        },
        {
          "output_type": "stream",
          "name": "stdout",
          "text": [
            "LR: 1.0000e-02, Train Loss: 1.0786, Train Acc: 0.6149, Train Latency: 26.37s, Memory Usage: 213.40MB\n",
            "Test Loss: 2.0209, Test Acc: 0.3696, Test Latency: 2.96s, Test Memory Usage: 61.86MB\n",
            "\n",
            "Epoch 65\n"
          ]
        },
        {
          "output_type": "stream",
          "name": "stderr",
          "text": [
            "Train: 100%|##########| 391/391 [00:26<00:00, 14.86batch/s]\n"
          ]
        },
        {
          "output_type": "stream",
          "name": "stdout",
          "text": [
            "LR: 1.0000e-02, Train Loss: 1.0806, Train Acc: 0.6140, Train Latency: 26.32s, Memory Usage: 213.40MB\n",
            "Test Loss: 1.5524, Test Acc: 0.4673, Test Latency: 2.98s, Test Memory Usage: 61.86MB\n",
            "\n",
            "Epoch 66\n"
          ]
        },
        {
          "output_type": "stream",
          "name": "stderr",
          "text": [
            "Train: 100%|##########| 391/391 [00:26<00:00, 14.84batch/s]\n"
          ]
        },
        {
          "output_type": "stream",
          "name": "stdout",
          "text": [
            "LR: 1.0000e-02, Train Loss: 1.0675, Train Acc: 0.6182, Train Latency: 26.35s, Memory Usage: 213.40MB\n",
            "Test Loss: 3.8105, Test Acc: 0.1981, Test Latency: 2.98s, Test Memory Usage: 61.86MB\n",
            "\n",
            "Epoch 67\n"
          ]
        },
        {
          "output_type": "stream",
          "name": "stderr",
          "text": [
            "Train: 100%|##########| 391/391 [00:26<00:00, 14.63batch/s]\n"
          ]
        },
        {
          "output_type": "stream",
          "name": "stdout",
          "text": [
            "LR: 1.0000e-02, Train Loss: 1.0748, Train Acc: 0.6161, Train Latency: 26.72s, Memory Usage: 213.40MB\n",
            "Test Loss: 1.5552, Test Acc: 0.4878, Test Latency: 2.99s, Test Memory Usage: 61.86MB\n",
            "\n",
            "Epoch 68\n"
          ]
        },
        {
          "output_type": "stream",
          "name": "stderr",
          "text": [
            "Train: 100%|##########| 391/391 [00:26<00:00, 14.81batch/s]\n"
          ]
        },
        {
          "output_type": "stream",
          "name": "stdout",
          "text": [
            "LR: 1.0000e-02, Train Loss: 1.0619, Train Acc: 0.6232, Train Latency: 26.41s, Memory Usage: 213.40MB\n",
            "Test Loss: 1.6817, Test Acc: 0.4379, Test Latency: 3.02s, Test Memory Usage: 61.86MB\n",
            "\n",
            "Epoch 69\n"
          ]
        },
        {
          "output_type": "stream",
          "name": "stderr",
          "text": [
            "Train: 100%|##########| 391/391 [00:26<00:00, 14.81batch/s]\n"
          ]
        },
        {
          "output_type": "stream",
          "name": "stdout",
          "text": [
            "LR: 1.0000e-02, Train Loss: 1.0713, Train Acc: 0.6164, Train Latency: 26.41s, Memory Usage: 213.40MB\n",
            "Test Loss: 1.4621, Test Acc: 0.4971, Test Latency: 2.96s, Test Memory Usage: 61.86MB\n",
            "\n",
            "Epoch 70\n"
          ]
        },
        {
          "output_type": "stream",
          "name": "stderr",
          "text": [
            "Train: 100%|##########| 391/391 [00:26<00:00, 14.88batch/s]\n"
          ]
        },
        {
          "output_type": "stream",
          "name": "stdout",
          "text": [
            "LR: 1.0000e-02, Train Loss: 1.0624, Train Acc: 0.6211, Train Latency: 26.28s, Memory Usage: 213.40MB\n",
            "Test Loss: 1.6584, Test Acc: 0.4431, Test Latency: 2.94s, Test Memory Usage: 61.86MB\n",
            "\n",
            "Epoch 71\n"
          ]
        },
        {
          "output_type": "stream",
          "name": "stderr",
          "text": [
            "Train: 100%|##########| 391/391 [00:25<00:00, 15.08batch/s]\n"
          ]
        },
        {
          "output_type": "stream",
          "name": "stdout",
          "text": [
            "LR: 1.0000e-02, Train Loss: 1.0617, Train Acc: 0.6188, Train Latency: 25.94s, Memory Usage: 213.40MB\n",
            "Test Loss: 1.1797, Test Acc: 0.5660, Test Latency: 2.93s, Test Memory Usage: 61.86MB\n",
            "\n",
            "Epoch 72\n"
          ]
        },
        {
          "output_type": "stream",
          "name": "stderr",
          "text": [
            "Train: 100%|##########| 391/391 [00:26<00:00, 14.99batch/s]\n"
          ]
        },
        {
          "output_type": "stream",
          "name": "stdout",
          "text": [
            "LR: 1.0000e-02, Train Loss: 1.0643, Train Acc: 0.6189, Train Latency: 26.09s, Memory Usage: 213.40MB\n",
            "Test Loss: 1.4446, Test Acc: 0.5108, Test Latency: 2.92s, Test Memory Usage: 61.86MB\n",
            "\n",
            "Epoch 73\n"
          ]
        },
        {
          "output_type": "stream",
          "name": "stderr",
          "text": [
            "Train: 100%|##########| 391/391 [00:26<00:00, 14.82batch/s]\n"
          ]
        },
        {
          "output_type": "stream",
          "name": "stdout",
          "text": [
            "LR: 1.0000e-02, Train Loss: 1.0672, Train Acc: 0.6184, Train Latency: 26.38s, Memory Usage: 213.40MB\n",
            "Test Loss: 1.3801, Test Acc: 0.5058, Test Latency: 2.93s, Test Memory Usage: 61.86MB\n",
            "\n",
            "Epoch 74\n"
          ]
        },
        {
          "output_type": "stream",
          "name": "stderr",
          "text": [
            "Train: 100%|##########| 391/391 [00:25<00:00, 15.12batch/s]\n"
          ]
        },
        {
          "output_type": "stream",
          "name": "stdout",
          "text": [
            "LR: 1.0000e-02, Train Loss: 1.0624, Train Acc: 0.6194, Train Latency: 25.86s, Memory Usage: 213.40MB\n",
            "Test Loss: 1.7353, Test Acc: 0.4527, Test Latency: 2.93s, Test Memory Usage: 61.86MB\n",
            "\n",
            "Epoch 75\n"
          ]
        },
        {
          "output_type": "stream",
          "name": "stderr",
          "text": [
            "Train: 100%|##########| 391/391 [00:26<00:00, 15.01batch/s]\n"
          ]
        },
        {
          "output_type": "stream",
          "name": "stdout",
          "text": [
            "LR: 1.0000e-02, Train Loss: 1.0644, Train Acc: 0.6188, Train Latency: 26.05s, Memory Usage: 213.40MB\n",
            "Test Loss: 1.8931, Test Acc: 0.4267, Test Latency: 2.93s, Test Memory Usage: 61.86MB\n",
            "\n",
            "Epoch 76\n"
          ]
        },
        {
          "output_type": "stream",
          "name": "stderr",
          "text": [
            "Train: 100%|##########| 391/391 [00:25<00:00, 15.10batch/s]\n"
          ]
        },
        {
          "output_type": "stream",
          "name": "stdout",
          "text": [
            "LR: 1.0000e-02, Train Loss: 1.0661, Train Acc: 0.6204, Train Latency: 25.90s, Memory Usage: 213.40MB\n",
            "Test Loss: 1.5209, Test Acc: 0.5151, Test Latency: 2.95s, Test Memory Usage: 61.86MB\n",
            "\n",
            "Epoch 77\n"
          ]
        },
        {
          "output_type": "stream",
          "name": "stderr",
          "text": [
            "Train: 100%|##########| 391/391 [00:25<00:00, 15.05batch/s]\n"
          ]
        },
        {
          "output_type": "stream",
          "name": "stdout",
          "text": [
            "LR: 1.0000e-02, Train Loss: 1.0712, Train Acc: 0.6165, Train Latency: 25.98s, Memory Usage: 213.40MB\n",
            "Test Loss: 2.6823, Test Acc: 0.3609, Test Latency: 2.91s, Test Memory Usage: 61.86MB\n",
            "\n",
            "Epoch 78\n"
          ]
        },
        {
          "output_type": "stream",
          "name": "stderr",
          "text": [
            "Train: 100%|##########| 391/391 [00:25<00:00, 15.14batch/s]\n"
          ]
        },
        {
          "output_type": "stream",
          "name": "stdout",
          "text": [
            "LR: 1.0000e-02, Train Loss: 1.0595, Train Acc: 0.6193, Train Latency: 25.83s, Memory Usage: 213.40MB\n",
            "Test Loss: 1.5438, Test Acc: 0.4949, Test Latency: 2.93s, Test Memory Usage: 61.86MB\n",
            "\n",
            "Epoch 79\n"
          ]
        },
        {
          "output_type": "stream",
          "name": "stderr",
          "text": [
            "Train: 100%|##########| 391/391 [00:26<00:00, 14.90batch/s]\n"
          ]
        },
        {
          "output_type": "stream",
          "name": "stdout",
          "text": [
            "LR: 1.0000e-02, Train Loss: 1.0579, Train Acc: 0.6209, Train Latency: 26.24s, Memory Usage: 213.40MB\n",
            "Test Loss: 1.8209, Test Acc: 0.4368, Test Latency: 2.95s, Test Memory Usage: 61.86MB\n",
            "\n",
            "Epoch 80\n"
          ]
        },
        {
          "output_type": "stream",
          "name": "stderr",
          "text": [
            "Train: 100%|##########| 391/391 [00:25<00:00, 15.08batch/s]\n"
          ]
        },
        {
          "output_type": "stream",
          "name": "stdout",
          "text": [
            "LR: 1.0000e-02, Train Loss: 1.0627, Train Acc: 0.6174, Train Latency: 25.93s, Memory Usage: 213.40MB\n",
            "Test Loss: 1.4983, Test Acc: 0.4791, Test Latency: 2.92s, Test Memory Usage: 61.86MB\n",
            "\n",
            "Epoch 81\n"
          ]
        },
        {
          "output_type": "stream",
          "name": "stderr",
          "text": [
            "Train: 100%|##########| 391/391 [00:25<00:00, 15.10batch/s]\n"
          ]
        },
        {
          "output_type": "stream",
          "name": "stdout",
          "text": [
            "LR: 1.0000e-02, Train Loss: 1.0537, Train Acc: 0.6228, Train Latency: 25.90s, Memory Usage: 213.40MB\n",
            "Test Loss: 1.6798, Test Acc: 0.4298, Test Latency: 2.91s, Test Memory Usage: 61.86MB\n",
            "\n",
            "Epoch 82\n"
          ]
        },
        {
          "output_type": "stream",
          "name": "stderr",
          "text": [
            "Train: 100%|##########| 391/391 [00:26<00:00, 15.02batch/s]\n"
          ]
        },
        {
          "output_type": "stream",
          "name": "stdout",
          "text": [
            "LR: 1.0000e-02, Train Loss: 1.0528, Train Acc: 0.6229, Train Latency: 26.03s, Memory Usage: 213.40MB\n",
            "Test Loss: 1.3512, Test Acc: 0.5114, Test Latency: 2.93s, Test Memory Usage: 61.86MB\n",
            "\n",
            "Epoch 83\n"
          ]
        },
        {
          "output_type": "stream",
          "name": "stderr",
          "text": [
            "Train: 100%|##########| 391/391 [00:25<00:00, 15.10batch/s]\n"
          ]
        },
        {
          "output_type": "stream",
          "name": "stdout",
          "text": [
            "LR: 1.0000e-02, Train Loss: 1.0563, Train Acc: 0.6227, Train Latency: 25.89s, Memory Usage: 213.40MB\n",
            "Test Loss: 1.4417, Test Acc: 0.4988, Test Latency: 2.94s, Test Memory Usage: 61.86MB\n",
            "\n",
            "Epoch 84\n"
          ]
        },
        {
          "output_type": "stream",
          "name": "stderr",
          "text": [
            "Train: 100%|##########| 391/391 [00:26<00:00, 14.96batch/s]\n"
          ]
        },
        {
          "output_type": "stream",
          "name": "stdout",
          "text": [
            "LR: 1.0000e-02, Train Loss: 1.0498, Train Acc: 0.6233, Train Latency: 26.13s, Memory Usage: 213.40MB\n",
            "Test Loss: 1.9072, Test Acc: 0.4512, Test Latency: 2.93s, Test Memory Usage: 61.86MB\n",
            "\n",
            "Epoch 85\n"
          ]
        },
        {
          "output_type": "stream",
          "name": "stderr",
          "text": [
            "Train: 100%|##########| 391/391 [00:26<00:00, 14.98batch/s]\n"
          ]
        },
        {
          "output_type": "stream",
          "name": "stdout",
          "text": [
            "LR: 1.0000e-02, Train Loss: 1.0483, Train Acc: 0.6250, Train Latency: 26.10s, Memory Usage: 213.40MB\n",
            "Test Loss: 1.3027, Test Acc: 0.5614, Test Latency: 2.98s, Test Memory Usage: 61.86MB\n",
            "\n",
            "Epoch 86\n"
          ]
        },
        {
          "output_type": "stream",
          "name": "stderr",
          "text": [
            "Train: 100%|##########| 391/391 [00:25<00:00, 15.16batch/s]\n"
          ]
        },
        {
          "output_type": "stream",
          "name": "stdout",
          "text": [
            "LR: 1.0000e-02, Train Loss: 1.0488, Train Acc: 0.6256, Train Latency: 25.80s, Memory Usage: 213.40MB\n",
            "Test Loss: 2.1485, Test Acc: 0.2722, Test Latency: 2.93s, Test Memory Usage: 61.86MB\n",
            "\n",
            "Epoch 87\n"
          ]
        },
        {
          "output_type": "stream",
          "name": "stderr",
          "text": [
            "Train: 100%|##########| 391/391 [00:25<00:00, 15.04batch/s]\n"
          ]
        },
        {
          "output_type": "stream",
          "name": "stdout",
          "text": [
            "LR: 1.0000e-02, Train Loss: 1.0554, Train Acc: 0.6240, Train Latency: 26.00s, Memory Usage: 213.40MB\n",
            "Test Loss: 1.6073, Test Acc: 0.4554, Test Latency: 2.94s, Test Memory Usage: 61.86MB\n",
            "\n",
            "Epoch 88\n"
          ]
        },
        {
          "output_type": "stream",
          "name": "stderr",
          "text": [
            "Train: 100%|##########| 391/391 [00:25<00:00, 15.17batch/s]\n"
          ]
        },
        {
          "output_type": "stream",
          "name": "stdout",
          "text": [
            "LR: 1.0000e-02, Train Loss: 1.0496, Train Acc: 0.6257, Train Latency: 25.79s, Memory Usage: 213.40MB\n",
            "Test Loss: 1.1430, Test Acc: 0.5875, Test Latency: 2.95s, Test Memory Usage: 61.86MB\n",
            "Saving best model ...\n",
            "\n",
            "Epoch 89\n"
          ]
        },
        {
          "output_type": "stream",
          "name": "stderr",
          "text": [
            "Train: 100%|##########| 391/391 [00:25<00:00, 15.13batch/s]\n"
          ]
        },
        {
          "output_type": "stream",
          "name": "stdout",
          "text": [
            "LR: 1.0000e-02, Train Loss: 1.0512, Train Acc: 0.6259, Train Latency: 25.84s, Memory Usage: 213.40MB\n",
            "Test Loss: 2.2571, Test Acc: 0.3816, Test Latency: 2.94s, Test Memory Usage: 61.86MB\n",
            "\n",
            "Epoch 90\n"
          ]
        },
        {
          "output_type": "stream",
          "name": "stderr",
          "text": [
            "Train: 100%|##########| 391/391 [00:26<00:00, 15.02batch/s]\n"
          ]
        },
        {
          "output_type": "stream",
          "name": "stdout",
          "text": [
            "LR: 1.0000e-02, Train Loss: 1.0528, Train Acc: 0.6248, Train Latency: 26.03s, Memory Usage: 213.40MB\n",
            "Test Loss: 1.8296, Test Acc: 0.4403, Test Latency: 2.98s, Test Memory Usage: 61.86MB\n",
            "\n",
            "Epoch 91\n"
          ]
        },
        {
          "output_type": "stream",
          "name": "stderr",
          "text": [
            "Train: 100%|##########| 391/391 [00:26<00:00, 14.92batch/s]\n"
          ]
        },
        {
          "output_type": "stream",
          "name": "stdout",
          "text": [
            "LR: 1.0000e-02, Train Loss: 1.0546, Train Acc: 0.6230, Train Latency: 26.21s, Memory Usage: 213.40MB\n",
            "Test Loss: 1.2477, Test Acc: 0.5596, Test Latency: 2.92s, Test Memory Usage: 61.86MB\n",
            "\n",
            "Epoch 92\n"
          ]
        },
        {
          "output_type": "stream",
          "name": "stderr",
          "text": [
            "Train: 100%|##########| 391/391 [00:25<00:00, 15.08batch/s]\n"
          ]
        },
        {
          "output_type": "stream",
          "name": "stdout",
          "text": [
            "LR: 1.0000e-02, Train Loss: 1.0560, Train Acc: 0.6208, Train Latency: 25.94s, Memory Usage: 213.40MB\n",
            "Test Loss: 1.6089, Test Acc: 0.4813, Test Latency: 2.96s, Test Memory Usage: 61.86MB\n",
            "\n",
            "Epoch 93\n"
          ]
        },
        {
          "output_type": "stream",
          "name": "stderr",
          "text": [
            "Train: 100%|##########| 391/391 [00:25<00:00, 15.12batch/s]\n"
          ]
        },
        {
          "output_type": "stream",
          "name": "stdout",
          "text": [
            "LR: 1.0000e-02, Train Loss: 1.0530, Train Acc: 0.6219, Train Latency: 25.86s, Memory Usage: 213.40MB\n",
            "Test Loss: 2.1276, Test Acc: 0.3136, Test Latency: 2.90s, Test Memory Usage: 61.86MB\n",
            "\n",
            "Epoch 94\n"
          ]
        },
        {
          "output_type": "stream",
          "name": "stderr",
          "text": [
            "Train: 100%|##########| 391/391 [00:25<00:00, 15.12batch/s]\n"
          ]
        },
        {
          "output_type": "stream",
          "name": "stdout",
          "text": [
            "LR: 1.0000e-02, Train Loss: 1.0541, Train Acc: 0.6233, Train Latency: 25.87s, Memory Usage: 213.40MB\n",
            "Test Loss: 2.2340, Test Acc: 0.3579, Test Latency: 2.93s, Test Memory Usage: 61.86MB\n",
            "\n",
            "Epoch 95\n"
          ]
        },
        {
          "output_type": "stream",
          "name": "stderr",
          "text": [
            "Train: 100%|##########| 391/391 [00:25<00:00, 15.11batch/s]\n"
          ]
        },
        {
          "output_type": "stream",
          "name": "stdout",
          "text": [
            "LR: 1.0000e-02, Train Loss: 1.0560, Train Acc: 0.6210, Train Latency: 25.88s, Memory Usage: 213.40MB\n",
            "Test Loss: 1.3085, Test Acc: 0.5305, Test Latency: 2.95s, Test Memory Usage: 61.86MB\n",
            "\n",
            "Epoch 96\n"
          ]
        },
        {
          "output_type": "stream",
          "name": "stderr",
          "text": [
            "Train: 100%|##########| 391/391 [00:25<00:00, 15.15batch/s]\n"
          ]
        },
        {
          "output_type": "stream",
          "name": "stdout",
          "text": [
            "LR: 1.0000e-02, Train Loss: 1.0635, Train Acc: 0.6190, Train Latency: 25.81s, Memory Usage: 213.40MB\n",
            "Test Loss: 1.4461, Test Acc: 0.5045, Test Latency: 2.96s, Test Memory Usage: 61.86MB\n",
            "\n",
            "Epoch 97\n"
          ]
        },
        {
          "output_type": "stream",
          "name": "stderr",
          "text": [
            "Train: 100%|##########| 391/391 [00:25<00:00, 15.12batch/s]\n"
          ]
        },
        {
          "output_type": "stream",
          "name": "stdout",
          "text": [
            "LR: 1.0000e-02, Train Loss: 1.0539, Train Acc: 0.6207, Train Latency: 25.87s, Memory Usage: 213.40MB\n",
            "Test Loss: 1.5646, Test Acc: 0.4980, Test Latency: 2.95s, Test Memory Usage: 61.86MB\n",
            "\n",
            "Epoch 98\n"
          ]
        },
        {
          "output_type": "stream",
          "name": "stderr",
          "text": [
            "Train: 100%|##########| 391/391 [00:26<00:00, 14.99batch/s]\n"
          ]
        },
        {
          "output_type": "stream",
          "name": "stdout",
          "text": [
            "LR: 1.0000e-02, Train Loss: 1.0572, Train Acc: 0.6216, Train Latency: 26.09s, Memory Usage: 213.40MB\n",
            "Test Loss: 1.4883, Test Acc: 0.4636, Test Latency: 2.92s, Test Memory Usage: 61.86MB\n",
            "\n",
            "Epoch 99\n"
          ]
        },
        {
          "output_type": "stream",
          "name": "stderr",
          "text": [
            "Train: 100%|##########| 391/391 [00:25<00:00, 15.15batch/s]\n"
          ]
        },
        {
          "output_type": "stream",
          "name": "stdout",
          "text": [
            "LR: 1.0000e-02, Train Loss: 1.0493, Train Acc: 0.6257, Train Latency: 25.82s, Memory Usage: 213.40MB\n",
            "Test Loss: 1.9889, Test Acc: 0.3957, Test Latency: 2.92s, Test Memory Usage: 61.86MB\n",
            "\n",
            "Epoch 100\n"
          ]
        },
        {
          "output_type": "stream",
          "name": "stderr",
          "text": [
            "Train: 100%|##########| 391/391 [00:25<00:00, 15.25batch/s]\n"
          ]
        },
        {
          "output_type": "stream",
          "name": "stdout",
          "text": [
            "LR: 1.0000e-02, Train Loss: 1.0576, Train Acc: 0.6213, Train Latency: 25.64s, Memory Usage: 213.40MB\n",
            "Test Loss: 2.1829, Test Acc: 0.4097, Test Latency: 2.91s, Test Memory Usage: 61.86MB\n",
            "\n",
            "Epoch 101\n"
          ]
        },
        {
          "output_type": "stream",
          "name": "stderr",
          "text": [
            "Train: 100%|##########| 391/391 [00:25<00:00, 15.15batch/s]\n"
          ]
        },
        {
          "output_type": "stream",
          "name": "stdout",
          "text": [
            "LR: 1.0000e-03, Train Loss: 0.9842, Train Acc: 0.6488, Train Latency: 25.82s, Memory Usage: 213.40MB\n",
            "Test Loss: 1.3203, Test Acc: 0.5393, Test Latency: 2.91s, Test Memory Usage: 61.86MB\n",
            "\n",
            "Epoch 102\n"
          ]
        },
        {
          "output_type": "stream",
          "name": "stderr",
          "text": [
            "Train: 100%|##########| 391/391 [00:25<00:00, 15.11batch/s]\n"
          ]
        },
        {
          "output_type": "stream",
          "name": "stdout",
          "text": [
            "LR: 1.0000e-03, Train Loss: 0.9717, Train Acc: 0.6542, Train Latency: 25.87s, Memory Usage: 213.40MB\n",
            "Test Loss: 1.1288, Test Acc: 0.5953, Test Latency: 2.99s, Test Memory Usage: 61.86MB\n",
            "Saving best model ...\n",
            "\n",
            "Epoch 103\n"
          ]
        },
        {
          "output_type": "stream",
          "name": "stderr",
          "text": [
            "Train: 100%|##########| 391/391 [00:26<00:00, 14.89batch/s]\n"
          ]
        },
        {
          "output_type": "stream",
          "name": "stdout",
          "text": [
            "LR: 1.0000e-03, Train Loss: 0.9794, Train Acc: 0.6514, Train Latency: 26.26s, Memory Usage: 213.40MB\n",
            "Test Loss: 1.2288, Test Acc: 0.5685, Test Latency: 2.93s, Test Memory Usage: 61.86MB\n",
            "\n",
            "Epoch 104\n"
          ]
        },
        {
          "output_type": "stream",
          "name": "stderr",
          "text": [
            "Train: 100%|##########| 391/391 [00:25<00:00, 15.05batch/s]\n"
          ]
        },
        {
          "output_type": "stream",
          "name": "stdout",
          "text": [
            "LR: 1.0000e-03, Train Loss: 0.9741, Train Acc: 0.6508, Train Latency: 25.98s, Memory Usage: 213.40MB\n",
            "Test Loss: 1.4960, Test Acc: 0.5100, Test Latency: 2.96s, Test Memory Usage: 61.86MB\n",
            "\n",
            "Epoch 105\n"
          ]
        },
        {
          "output_type": "stream",
          "name": "stderr",
          "text": [
            "Train: 100%|##########| 391/391 [00:25<00:00, 15.10batch/s]\n"
          ]
        },
        {
          "output_type": "stream",
          "name": "stdout",
          "text": [
            "LR: 1.0000e-03, Train Loss: 0.9728, Train Acc: 0.6510, Train Latency: 25.90s, Memory Usage: 213.40MB\n",
            "Test Loss: 1.3958, Test Acc: 0.5238, Test Latency: 2.94s, Test Memory Usage: 61.86MB\n",
            "\n",
            "Epoch 106\n"
          ]
        },
        {
          "output_type": "stream",
          "name": "stderr",
          "text": [
            "Train: 100%|##########| 391/391 [00:25<00:00, 15.11batch/s]\n"
          ]
        },
        {
          "output_type": "stream",
          "name": "stdout",
          "text": [
            "LR: 1.0000e-03, Train Loss: 0.9766, Train Acc: 0.6520, Train Latency: 25.87s, Memory Usage: 213.40MB\n",
            "Test Loss: 1.5638, Test Acc: 0.5027, Test Latency: 2.91s, Test Memory Usage: 61.86MB\n",
            "\n",
            "Epoch 107\n"
          ]
        },
        {
          "output_type": "stream",
          "name": "stderr",
          "text": [
            "Train: 100%|##########| 391/391 [00:25<00:00, 15.17batch/s]\n"
          ]
        },
        {
          "output_type": "stream",
          "name": "stdout",
          "text": [
            "LR: 1.0000e-03, Train Loss: 0.9760, Train Acc: 0.6495, Train Latency: 25.77s, Memory Usage: 213.40MB\n",
            "Test Loss: 1.6351, Test Acc: 0.4658, Test Latency: 2.93s, Test Memory Usage: 61.86MB\n",
            "\n",
            "Epoch 108\n"
          ]
        },
        {
          "output_type": "stream",
          "name": "stderr",
          "text": [
            "Train: 100%|##########| 391/391 [00:25<00:00, 15.05batch/s]\n"
          ]
        },
        {
          "output_type": "stream",
          "name": "stdout",
          "text": [
            "LR: 1.0000e-03, Train Loss: 0.9739, Train Acc: 0.6534, Train Latency: 25.98s, Memory Usage: 213.40MB\n",
            "Test Loss: 1.2733, Test Acc: 0.5663, Test Latency: 2.95s, Test Memory Usage: 61.86MB\n",
            "\n",
            "Epoch 109\n"
          ]
        },
        {
          "output_type": "stream",
          "name": "stderr",
          "text": [
            "Train: 100%|##########| 391/391 [00:26<00:00, 14.99batch/s]\n"
          ]
        },
        {
          "output_type": "stream",
          "name": "stdout",
          "text": [
            "LR: 1.0000e-03, Train Loss: 0.9797, Train Acc: 0.6489, Train Latency: 26.09s, Memory Usage: 213.40MB\n",
            "Test Loss: 1.2855, Test Acc: 0.5642, Test Latency: 2.95s, Test Memory Usage: 61.86MB\n",
            "\n",
            "Epoch 110\n"
          ]
        },
        {
          "output_type": "stream",
          "name": "stderr",
          "text": [
            "Train: 100%|##########| 391/391 [00:25<00:00, 15.06batch/s]\n"
          ]
        },
        {
          "output_type": "stream",
          "name": "stdout",
          "text": [
            "LR: 1.0000e-03, Train Loss: 0.9728, Train Acc: 0.6519, Train Latency: 25.96s, Memory Usage: 213.40MB\n",
            "Test Loss: 2.1649, Test Acc: 0.3751, Test Latency: 2.92s, Test Memory Usage: 61.86MB\n",
            "\n",
            "Epoch 111\n"
          ]
        },
        {
          "output_type": "stream",
          "name": "stderr",
          "text": [
            "Train: 100%|##########| 391/391 [00:25<00:00, 15.11batch/s]\n"
          ]
        },
        {
          "output_type": "stream",
          "name": "stdout",
          "text": [
            "LR: 1.0000e-03, Train Loss: 0.9775, Train Acc: 0.6505, Train Latency: 25.88s, Memory Usage: 213.40MB\n",
            "Test Loss: 6.4195, Test Acc: 0.1413, Test Latency: 2.94s, Test Memory Usage: 61.86MB\n",
            "\n",
            "Epoch 112\n"
          ]
        },
        {
          "output_type": "stream",
          "name": "stderr",
          "text": [
            "Train: 100%|##########| 391/391 [00:26<00:00, 15.01batch/s]\n"
          ]
        },
        {
          "output_type": "stream",
          "name": "stdout",
          "text": [
            "LR: 1.0000e-03, Train Loss: 0.9771, Train Acc: 0.6504, Train Latency: 26.05s, Memory Usage: 213.40MB\n",
            "Test Loss: 1.7150, Test Acc: 0.4420, Test Latency: 2.91s, Test Memory Usage: 61.86MB\n",
            "\n",
            "Epoch 113\n"
          ]
        },
        {
          "output_type": "stream",
          "name": "stderr",
          "text": [
            "Train: 100%|##########| 391/391 [00:25<00:00, 15.22batch/s]\n"
          ]
        },
        {
          "output_type": "stream",
          "name": "stdout",
          "text": [
            "LR: 1.0000e-03, Train Loss: 0.9844, Train Acc: 0.6464, Train Latency: 25.69s, Memory Usage: 213.40MB\n",
            "Test Loss: 1.3433, Test Acc: 0.5362, Test Latency: 2.93s, Test Memory Usage: 61.86MB\n",
            "\n",
            "Epoch 114\n"
          ]
        },
        {
          "output_type": "stream",
          "name": "stderr",
          "text": [
            "Train: 100%|##########| 391/391 [00:25<00:00, 15.11batch/s]\n"
          ]
        },
        {
          "output_type": "stream",
          "name": "stdout",
          "text": [
            "LR: 1.0000e-03, Train Loss: 0.9876, Train Acc: 0.6467, Train Latency: 25.88s, Memory Usage: 213.40MB\n",
            "Test Loss: 1.5440, Test Acc: 0.4925, Test Latency: 2.96s, Test Memory Usage: 61.86MB\n",
            "\n",
            "Epoch 115\n"
          ]
        },
        {
          "output_type": "stream",
          "name": "stderr",
          "text": [
            "Train: 100%|##########| 391/391 [00:26<00:00, 14.94batch/s]\n"
          ]
        },
        {
          "output_type": "stream",
          "name": "stdout",
          "text": [
            "LR: 1.0000e-03, Train Loss: 0.9796, Train Acc: 0.6507, Train Latency: 26.18s, Memory Usage: 213.40MB\n",
            "Test Loss: 1.4183, Test Acc: 0.5294, Test Latency: 2.95s, Test Memory Usage: 61.86MB\n",
            "\n",
            "Epoch 116\n"
          ]
        },
        {
          "output_type": "stream",
          "name": "stderr",
          "text": [
            "Train: 100%|##########| 391/391 [00:26<00:00, 15.02batch/s]\n"
          ]
        },
        {
          "output_type": "stream",
          "name": "stdout",
          "text": [
            "LR: 1.0000e-03, Train Loss: 0.9812, Train Acc: 0.6489, Train Latency: 26.04s, Memory Usage: 213.40MB\n",
            "Test Loss: 2.2401, Test Acc: 0.3574, Test Latency: 2.94s, Test Memory Usage: 61.86MB\n",
            "\n",
            "Epoch 117\n"
          ]
        },
        {
          "output_type": "stream",
          "name": "stderr",
          "text": [
            "Train: 100%|##########| 391/391 [00:25<00:00, 15.13batch/s]\n"
          ]
        },
        {
          "output_type": "stream",
          "name": "stdout",
          "text": [
            "LR: 1.0000e-03, Train Loss: 0.9808, Train Acc: 0.6495, Train Latency: 25.85s, Memory Usage: 213.40MB\n",
            "Test Loss: 1.8835, Test Acc: 0.4583, Test Latency: 2.91s, Test Memory Usage: 61.86MB\n",
            "\n",
            "Epoch 118\n"
          ]
        },
        {
          "output_type": "stream",
          "name": "stderr",
          "text": [
            "Train: 100%|##########| 391/391 [00:26<00:00, 15.01batch/s]\n"
          ]
        },
        {
          "output_type": "stream",
          "name": "stdout",
          "text": [
            "LR: 1.0000e-03, Train Loss: 0.9853, Train Acc: 0.6479, Train Latency: 26.06s, Memory Usage: 213.40MB\n",
            "Test Loss: 2.0390, Test Acc: 0.4084, Test Latency: 2.93s, Test Memory Usage: 61.86MB\n",
            "\n",
            "Epoch 119\n"
          ]
        },
        {
          "output_type": "stream",
          "name": "stderr",
          "text": [
            "Train: 100%|##########| 391/391 [00:25<00:00, 15.17batch/s]\n"
          ]
        },
        {
          "output_type": "stream",
          "name": "stdout",
          "text": [
            "LR: 1.0000e-03, Train Loss: 0.9860, Train Acc: 0.6487, Train Latency: 25.78s, Memory Usage: 213.40MB\n",
            "Test Loss: 1.7150, Test Acc: 0.4285, Test Latency: 2.93s, Test Memory Usage: 61.86MB\n",
            "\n",
            "Epoch 120\n"
          ]
        },
        {
          "output_type": "stream",
          "name": "stderr",
          "text": [
            "Train: 100%|##########| 391/391 [00:26<00:00, 15.02batch/s]\n"
          ]
        },
        {
          "output_type": "stream",
          "name": "stdout",
          "text": [
            "LR: 1.0000e-03, Train Loss: 0.9843, Train Acc: 0.6481, Train Latency: 26.03s, Memory Usage: 213.40MB\n",
            "Test Loss: 1.1229, Test Acc: 0.6087, Test Latency: 3.04s, Test Memory Usage: 61.86MB\n",
            "Saving best model ...\n",
            "\n",
            "Epoch 121\n"
          ]
        },
        {
          "output_type": "stream",
          "name": "stderr",
          "text": [
            "Train: 100%|##########| 391/391 [00:26<00:00, 14.99batch/s]\n"
          ]
        },
        {
          "output_type": "stream",
          "name": "stdout",
          "text": [
            "LR: 1.0000e-03, Train Loss: 0.9823, Train Acc: 0.6487, Train Latency: 26.08s, Memory Usage: 213.40MB\n",
            "Test Loss: 1.6213, Test Acc: 0.4690, Test Latency: 2.94s, Test Memory Usage: 61.86MB\n",
            "\n",
            "Epoch 122\n"
          ]
        },
        {
          "output_type": "stream",
          "name": "stderr",
          "text": [
            "Train: 100%|##########| 391/391 [00:25<00:00, 15.09batch/s]\n"
          ]
        },
        {
          "output_type": "stream",
          "name": "stdout",
          "text": [
            "LR: 1.0000e-03, Train Loss: 0.9811, Train Acc: 0.6517, Train Latency: 25.91s, Memory Usage: 213.40MB\n",
            "Test Loss: 2.3031, Test Acc: 0.3611, Test Latency: 2.98s, Test Memory Usage: 61.86MB\n",
            "\n",
            "Epoch 123\n"
          ]
        },
        {
          "output_type": "stream",
          "name": "stderr",
          "text": [
            "Train: 100%|##########| 391/391 [00:25<00:00, 15.09batch/s]\n"
          ]
        },
        {
          "output_type": "stream",
          "name": "stdout",
          "text": [
            "LR: 1.0000e-03, Train Loss: 0.9773, Train Acc: 0.6512, Train Latency: 25.91s, Memory Usage: 213.40MB\n",
            "Test Loss: 2.2822, Test Acc: 0.3772, Test Latency: 2.94s, Test Memory Usage: 61.86MB\n",
            "\n",
            "Epoch 124\n"
          ]
        },
        {
          "output_type": "stream",
          "name": "stderr",
          "text": [
            "Train: 100%|##########| 391/391 [00:25<00:00, 15.10batch/s]\n"
          ]
        },
        {
          "output_type": "stream",
          "name": "stdout",
          "text": [
            "LR: 1.0000e-03, Train Loss: 0.9808, Train Acc: 0.6502, Train Latency: 25.90s, Memory Usage: 213.40MB\n",
            "Test Loss: 1.4843, Test Acc: 0.5196, Test Latency: 2.94s, Test Memory Usage: 61.86MB\n",
            "\n",
            "Epoch 125\n"
          ]
        },
        {
          "output_type": "stream",
          "name": "stderr",
          "text": [
            "Train: 100%|##########| 391/391 [00:25<00:00, 15.09batch/s]\n"
          ]
        },
        {
          "output_type": "stream",
          "name": "stdout",
          "text": [
            "LR: 1.0000e-03, Train Loss: 0.9781, Train Acc: 0.6503, Train Latency: 25.92s, Memory Usage: 213.40MB\n",
            "Test Loss: 1.9448, Test Acc: 0.4127, Test Latency: 2.94s, Test Memory Usage: 61.86MB\n",
            "\n",
            "Epoch 126\n"
          ]
        },
        {
          "output_type": "stream",
          "name": "stderr",
          "text": [
            "Train: 100%|##########| 391/391 [00:26<00:00, 14.94batch/s]\n"
          ]
        },
        {
          "output_type": "stream",
          "name": "stdout",
          "text": [
            "LR: 1.0000e-03, Train Loss: 0.9778, Train Acc: 0.6505, Train Latency: 26.17s, Memory Usage: 213.40MB\n",
            "Test Loss: 1.3664, Test Acc: 0.5395, Test Latency: 2.93s, Test Memory Usage: 61.86MB\n",
            "\n",
            "Epoch 127\n"
          ]
        },
        {
          "output_type": "stream",
          "name": "stderr",
          "text": [
            "Train: 100%|##########| 391/391 [00:26<00:00, 15.03batch/s]\n"
          ]
        },
        {
          "output_type": "stream",
          "name": "stdout",
          "text": [
            "LR: 1.0000e-03, Train Loss: 0.9764, Train Acc: 0.6504, Train Latency: 26.02s, Memory Usage: 213.40MB\n",
            "Test Loss: 1.9320, Test Acc: 0.4330, Test Latency: 2.92s, Test Memory Usage: 61.86MB\n",
            "\n",
            "Epoch 128\n"
          ]
        },
        {
          "output_type": "stream",
          "name": "stderr",
          "text": [
            "Train: 100%|##########| 391/391 [00:25<00:00, 15.10batch/s]\n"
          ]
        },
        {
          "output_type": "stream",
          "name": "stdout",
          "text": [
            "LR: 1.0000e-03, Train Loss: 0.9790, Train Acc: 0.6508, Train Latency: 25.90s, Memory Usage: 213.40MB\n",
            "Test Loss: 2.3112, Test Acc: 0.3747, Test Latency: 2.98s, Test Memory Usage: 61.86MB\n",
            "\n",
            "Epoch 129\n"
          ]
        },
        {
          "output_type": "stream",
          "name": "stderr",
          "text": [
            "Train: 100%|##########| 391/391 [00:26<00:00, 15.00batch/s]\n"
          ]
        },
        {
          "output_type": "stream",
          "name": "stdout",
          "text": [
            "LR: 1.0000e-03, Train Loss: 0.9830, Train Acc: 0.6498, Train Latency: 26.08s, Memory Usage: 213.40MB\n",
            "Test Loss: 2.0674, Test Acc: 0.4145, Test Latency: 2.92s, Test Memory Usage: 61.86MB\n",
            "\n",
            "Epoch 130\n"
          ]
        },
        {
          "output_type": "stream",
          "name": "stderr",
          "text": [
            "Train: 100%|##########| 391/391 [00:25<00:00, 15.16batch/s]\n"
          ]
        },
        {
          "output_type": "stream",
          "name": "stdout",
          "text": [
            "LR: 1.0000e-03, Train Loss: 0.9805, Train Acc: 0.6503, Train Latency: 25.79s, Memory Usage: 213.40MB\n",
            "Test Loss: 1.6063, Test Acc: 0.4586, Test Latency: 2.96s, Test Memory Usage: 61.86MB\n",
            "\n",
            "Epoch 131\n"
          ]
        },
        {
          "output_type": "stream",
          "name": "stderr",
          "text": [
            "Train: 100%|##########| 391/391 [00:26<00:00, 15.00batch/s]\n"
          ]
        },
        {
          "output_type": "stream",
          "name": "stdout",
          "text": [
            "LR: 1.0000e-03, Train Loss: 0.9765, Train Acc: 0.6505, Train Latency: 26.07s, Memory Usage: 213.40MB\n",
            "Test Loss: 1.1230, Test Acc: 0.6116, Test Latency: 2.96s, Test Memory Usage: 61.86MB\n",
            "Saving best model ...\n",
            "\n",
            "Epoch 132\n"
          ]
        },
        {
          "output_type": "stream",
          "name": "stderr",
          "text": [
            "Train: 100%|##########| 391/391 [00:26<00:00, 14.88batch/s]\n"
          ]
        },
        {
          "output_type": "stream",
          "name": "stdout",
          "text": [
            "LR: 1.0000e-03, Train Loss: 0.9795, Train Acc: 0.6506, Train Latency: 26.29s, Memory Usage: 213.40MB\n",
            "Test Loss: 1.3026, Test Acc: 0.5586, Test Latency: 2.99s, Test Memory Usage: 61.86MB\n",
            "\n",
            "Epoch 133\n"
          ]
        },
        {
          "output_type": "stream",
          "name": "stderr",
          "text": [
            "Train: 100%|##########| 391/391 [00:26<00:00, 15.02batch/s]\n"
          ]
        },
        {
          "output_type": "stream",
          "name": "stdout",
          "text": [
            "LR: 1.0000e-03, Train Loss: 0.9733, Train Acc: 0.6525, Train Latency: 26.03s, Memory Usage: 213.40MB\n",
            "Test Loss: 3.8552, Test Acc: 0.2137, Test Latency: 2.94s, Test Memory Usage: 61.86MB\n",
            "\n",
            "Epoch 134\n"
          ]
        },
        {
          "output_type": "stream",
          "name": "stderr",
          "text": [
            "Train: 100%|##########| 391/391 [00:25<00:00, 15.16batch/s]\n"
          ]
        },
        {
          "output_type": "stream",
          "name": "stdout",
          "text": [
            "LR: 1.0000e-03, Train Loss: 0.9809, Train Acc: 0.6510, Train Latency: 25.79s, Memory Usage: 213.40MB\n",
            "Test Loss: 1.4250, Test Acc: 0.5345, Test Latency: 2.93s, Test Memory Usage: 61.86MB\n",
            "\n",
            "Epoch 135\n"
          ]
        },
        {
          "output_type": "stream",
          "name": "stderr",
          "text": [
            "Train: 100%|##########| 391/391 [00:25<00:00, 15.18batch/s]\n"
          ]
        },
        {
          "output_type": "stream",
          "name": "stdout",
          "text": [
            "LR: 1.0000e-03, Train Loss: 0.9766, Train Acc: 0.6521, Train Latency: 25.77s, Memory Usage: 213.40MB\n",
            "Test Loss: 1.1066, Test Acc: 0.6019, Test Latency: 2.91s, Test Memory Usage: 61.86MB\n",
            "\n",
            "Epoch 136\n"
          ]
        },
        {
          "output_type": "stream",
          "name": "stderr",
          "text": [
            "Train: 100%|##########| 391/391 [00:25<00:00, 15.19batch/s]\n"
          ]
        },
        {
          "output_type": "stream",
          "name": "stdout",
          "text": [
            "LR: 1.0000e-03, Train Loss: 0.9774, Train Acc: 0.6513, Train Latency: 25.75s, Memory Usage: 213.40MB\n",
            "Test Loss: 1.4713, Test Acc: 0.5068, Test Latency: 2.93s, Test Memory Usage: 61.86MB\n",
            "\n",
            "Epoch 137\n"
          ]
        },
        {
          "output_type": "stream",
          "name": "stderr",
          "text": [
            "Train: 100%|##########| 391/391 [00:25<00:00, 15.14batch/s]\n"
          ]
        },
        {
          "output_type": "stream",
          "name": "stdout",
          "text": [
            "LR: 1.0000e-03, Train Loss: 0.9830, Train Acc: 0.6488, Train Latency: 25.83s, Memory Usage: 213.40MB\n",
            "Test Loss: 1.2984, Test Acc: 0.5505, Test Latency: 3.02s, Test Memory Usage: 61.86MB\n",
            "\n",
            "Epoch 138\n"
          ]
        },
        {
          "output_type": "stream",
          "name": "stderr",
          "text": [
            "Train: 100%|##########| 391/391 [00:25<00:00, 15.10batch/s]\n"
          ]
        },
        {
          "output_type": "stream",
          "name": "stdout",
          "text": [
            "LR: 1.0000e-03, Train Loss: 0.9788, Train Acc: 0.6528, Train Latency: 25.90s, Memory Usage: 213.40MB\n",
            "Test Loss: 1.0468, Test Acc: 0.6196, Test Latency: 2.92s, Test Memory Usage: 61.86MB\n",
            "Saving best model ...\n",
            "\n",
            "Epoch 139\n"
          ]
        },
        {
          "output_type": "stream",
          "name": "stderr",
          "text": [
            "Train: 100%|##########| 391/391 [00:25<00:00, 15.15batch/s]\n"
          ]
        },
        {
          "output_type": "stream",
          "name": "stdout",
          "text": [
            "LR: 1.0000e-03, Train Loss: 0.9817, Train Acc: 0.6504, Train Latency: 25.82s, Memory Usage: 213.40MB\n",
            "Test Loss: 1.6054, Test Acc: 0.4781, Test Latency: 2.94s, Test Memory Usage: 61.86MB\n",
            "\n",
            "Epoch 140\n"
          ]
        },
        {
          "output_type": "stream",
          "name": "stderr",
          "text": [
            "Train: 100%|##########| 391/391 [00:25<00:00, 15.22batch/s]\n"
          ]
        },
        {
          "output_type": "stream",
          "name": "stdout",
          "text": [
            "LR: 1.0000e-03, Train Loss: 0.9830, Train Acc: 0.6494, Train Latency: 25.70s, Memory Usage: 213.40MB\n",
            "Test Loss: 1.6475, Test Acc: 0.4648, Test Latency: 2.94s, Test Memory Usage: 61.86MB\n",
            "\n",
            "Epoch 141\n"
          ]
        },
        {
          "output_type": "stream",
          "name": "stderr",
          "text": [
            "Train: 100%|##########| 391/391 [00:25<00:00, 15.22batch/s]\n"
          ]
        },
        {
          "output_type": "stream",
          "name": "stdout",
          "text": [
            "LR: 1.0000e-03, Train Loss: 0.9909, Train Acc: 0.6477, Train Latency: 25.69s, Memory Usage: 213.40MB\n",
            "Test Loss: 1.1331, Test Acc: 0.6065, Test Latency: 2.93s, Test Memory Usage: 61.86MB\n",
            "\n",
            "Epoch 142\n"
          ]
        },
        {
          "output_type": "stream",
          "name": "stderr",
          "text": [
            "Train: 100%|##########| 391/391 [00:25<00:00, 15.12batch/s]\n"
          ]
        },
        {
          "output_type": "stream",
          "name": "stdout",
          "text": [
            "LR: 1.0000e-03, Train Loss: 0.9865, Train Acc: 0.6477, Train Latency: 25.87s, Memory Usage: 213.40MB\n",
            "Test Loss: 1.7593, Test Acc: 0.4730, Test Latency: 3.01s, Test Memory Usage: 61.86MB\n",
            "\n",
            "Epoch 143\n"
          ]
        },
        {
          "output_type": "stream",
          "name": "stderr",
          "text": [
            "Train: 100%|##########| 391/391 [00:26<00:00, 15.01batch/s]\n"
          ]
        },
        {
          "output_type": "stream",
          "name": "stdout",
          "text": [
            "LR: 1.0000e-03, Train Loss: 0.9854, Train Acc: 0.6487, Train Latency: 26.05s, Memory Usage: 213.40MB\n",
            "Test Loss: 1.7327, Test Acc: 0.4795, Test Latency: 3.00s, Test Memory Usage: 61.86MB\n",
            "\n",
            "Epoch 144\n"
          ]
        },
        {
          "output_type": "stream",
          "name": "stderr",
          "text": [
            "Train: 100%|##########| 391/391 [00:25<00:00, 15.11batch/s]\n"
          ]
        },
        {
          "output_type": "stream",
          "name": "stdout",
          "text": [
            "LR: 1.0000e-03, Train Loss: 0.9814, Train Acc: 0.6503, Train Latency: 25.87s, Memory Usage: 213.40MB\n",
            "Test Loss: 1.3490, Test Acc: 0.5188, Test Latency: 2.96s, Test Memory Usage: 61.86MB\n",
            "\n",
            "Epoch 145\n"
          ]
        },
        {
          "output_type": "stream",
          "name": "stderr",
          "text": [
            "Train: 100%|##########| 391/391 [00:26<00:00, 14.94batch/s]\n"
          ]
        },
        {
          "output_type": "stream",
          "name": "stdout",
          "text": [
            "LR: 1.0000e-03, Train Loss: 0.9835, Train Acc: 0.6495, Train Latency: 26.18s, Memory Usage: 213.40MB\n",
            "Test Loss: 2.3315, Test Acc: 0.3619, Test Latency: 2.93s, Test Memory Usage: 61.86MB\n",
            "\n",
            "Epoch 146\n"
          ]
        },
        {
          "output_type": "stream",
          "name": "stderr",
          "text": [
            "Train: 100%|##########| 391/391 [00:25<00:00, 15.07batch/s]\n"
          ]
        },
        {
          "output_type": "stream",
          "name": "stdout",
          "text": [
            "LR: 1.0000e-03, Train Loss: 0.9892, Train Acc: 0.6480, Train Latency: 25.95s, Memory Usage: 213.40MB\n",
            "Test Loss: 1.9348, Test Acc: 0.4263, Test Latency: 2.98s, Test Memory Usage: 61.86MB\n",
            "\n",
            "Epoch 147\n"
          ]
        },
        {
          "output_type": "stream",
          "name": "stderr",
          "text": [
            "Train: 100%|##########| 391/391 [00:26<00:00, 14.84batch/s]\n"
          ]
        },
        {
          "output_type": "stream",
          "name": "stdout",
          "text": [
            "LR: 1.0000e-03, Train Loss: 0.9815, Train Acc: 0.6496, Train Latency: 26.36s, Memory Usage: 213.40MB\n",
            "Test Loss: 1.4665, Test Acc: 0.5115, Test Latency: 2.96s, Test Memory Usage: 61.86MB\n",
            "\n",
            "Epoch 148\n"
          ]
        },
        {
          "output_type": "stream",
          "name": "stderr",
          "text": [
            "Train: 100%|##########| 391/391 [00:25<00:00, 15.08batch/s]\n"
          ]
        },
        {
          "output_type": "stream",
          "name": "stdout",
          "text": [
            "LR: 1.0000e-03, Train Loss: 0.9790, Train Acc: 0.6503, Train Latency: 25.93s, Memory Usage: 213.40MB\n",
            "Test Loss: 1.9162, Test Acc: 0.3818, Test Latency: 2.96s, Test Memory Usage: 61.86MB\n",
            "\n",
            "Epoch 149\n"
          ]
        },
        {
          "output_type": "stream",
          "name": "stderr",
          "text": [
            "Train: 100%|##########| 391/391 [00:25<00:00, 15.09batch/s]\n"
          ]
        },
        {
          "output_type": "stream",
          "name": "stdout",
          "text": [
            "LR: 1.0000e-03, Train Loss: 0.9833, Train Acc: 0.6495, Train Latency: 25.92s, Memory Usage: 213.40MB\n",
            "Test Loss: 1.6767, Test Acc: 0.4430, Test Latency: 2.92s, Test Memory Usage: 61.86MB\n",
            "\n",
            "Epoch 150\n"
          ]
        },
        {
          "output_type": "stream",
          "name": "stderr",
          "text": [
            "Train: 100%|##########| 391/391 [00:26<00:00, 15.03batch/s]\n"
          ]
        },
        {
          "output_type": "stream",
          "name": "stdout",
          "text": [
            "LR: 1.0000e-03, Train Loss: 0.9788, Train Acc: 0.6515, Train Latency: 26.01s, Memory Usage: 213.40MB\n",
            "Test Loss: 1.1419, Test Acc: 0.5968, Test Latency: 2.93s, Test Memory Usage: 61.86MB\n",
            "\n",
            "Epoch 151\n"
          ]
        },
        {
          "output_type": "stream",
          "name": "stderr",
          "text": [
            "Train: 100%|##########| 391/391 [00:26<00:00, 15.03batch/s]\n"
          ]
        },
        {
          "output_type": "stream",
          "name": "stdout",
          "text": [
            "LR: 1.0000e-04, Train Loss: 0.9379, Train Acc: 0.6665, Train Latency: 26.02s, Memory Usage: 213.40MB\n",
            "Test Loss: 1.1107, Test Acc: 0.6045, Test Latency: 2.93s, Test Memory Usage: 61.86MB\n",
            "\n",
            "Epoch 152\n"
          ]
        },
        {
          "output_type": "stream",
          "name": "stderr",
          "text": [
            "Train: 100%|##########| 391/391 [00:25<00:00, 15.12batch/s]\n"
          ]
        },
        {
          "output_type": "stream",
          "name": "stdout",
          "text": [
            "LR: 1.0000e-04, Train Loss: 0.9413, Train Acc: 0.6647, Train Latency: 25.87s, Memory Usage: 213.40MB\n",
            "Test Loss: 1.1129, Test Acc: 0.6128, Test Latency: 2.94s, Test Memory Usage: 61.86MB\n",
            "\n",
            "Epoch 153\n"
          ]
        },
        {
          "output_type": "stream",
          "name": "stderr",
          "text": [
            "Train: 100%|##########| 391/391 [00:25<00:00, 15.21batch/s]\n"
          ]
        },
        {
          "output_type": "stream",
          "name": "stdout",
          "text": [
            "LR: 1.0000e-04, Train Loss: 0.9459, Train Acc: 0.6621, Train Latency: 25.71s, Memory Usage: 213.40MB\n",
            "Test Loss: 1.4855, Test Acc: 0.5301, Test Latency: 2.94s, Test Memory Usage: 61.86MB\n",
            "\n",
            "Epoch 154\n"
          ]
        },
        {
          "output_type": "stream",
          "name": "stderr",
          "text": [
            "Train: 100%|##########| 391/391 [00:25<00:00, 15.06batch/s]\n"
          ]
        },
        {
          "output_type": "stream",
          "name": "stdout",
          "text": [
            "LR: 1.0000e-04, Train Loss: 0.9464, Train Acc: 0.6637, Train Latency: 25.96s, Memory Usage: 213.40MB\n",
            "Test Loss: 1.0408, Test Acc: 0.6316, Test Latency: 3.00s, Test Memory Usage: 61.86MB\n",
            "Saving best model ...\n",
            "\n",
            "Epoch 155\n"
          ]
        },
        {
          "output_type": "stream",
          "name": "stderr",
          "text": [
            "Train: 100%|##########| 391/391 [00:25<00:00, 15.08batch/s]\n"
          ]
        },
        {
          "output_type": "stream",
          "name": "stdout",
          "text": [
            "LR: 1.0000e-04, Train Loss: 0.9473, Train Acc: 0.6612, Train Latency: 25.94s, Memory Usage: 213.40MB\n",
            "Test Loss: 2.1833, Test Acc: 0.3958, Test Latency: 2.93s, Test Memory Usage: 61.86MB\n",
            "\n",
            "Epoch 156\n"
          ]
        },
        {
          "output_type": "stream",
          "name": "stderr",
          "text": [
            "Train: 100%|##########| 391/391 [00:25<00:00, 15.19batch/s]\n"
          ]
        },
        {
          "output_type": "stream",
          "name": "stdout",
          "text": [
            "LR: 1.0000e-04, Train Loss: 0.9489, Train Acc: 0.6622, Train Latency: 25.75s, Memory Usage: 213.40MB\n",
            "Test Loss: 1.0276, Test Acc: 0.6348, Test Latency: 2.94s, Test Memory Usage: 61.86MB\n",
            "Saving best model ...\n",
            "\n",
            "Epoch 157\n"
          ]
        },
        {
          "output_type": "stream",
          "name": "stderr",
          "text": [
            "Train: 100%|##########| 391/391 [00:25<00:00, 15.18batch/s]\n"
          ]
        },
        {
          "output_type": "stream",
          "name": "stdout",
          "text": [
            "LR: 1.0000e-04, Train Loss: 0.9512, Train Acc: 0.6592, Train Latency: 25.76s, Memory Usage: 213.40MB\n",
            "Test Loss: 2.3873, Test Acc: 0.3917, Test Latency: 2.94s, Test Memory Usage: 61.86MB\n",
            "\n",
            "Epoch 158\n"
          ]
        },
        {
          "output_type": "stream",
          "name": "stderr",
          "text": [
            "Train: 100%|##########| 391/391 [00:25<00:00, 15.10batch/s]\n"
          ]
        },
        {
          "output_type": "stream",
          "name": "stdout",
          "text": [
            "LR: 1.0000e-04, Train Loss: 0.9542, Train Acc: 0.6602, Train Latency: 25.90s, Memory Usage: 213.40MB\n",
            "Test Loss: 5.0196, Test Acc: 0.1686, Test Latency: 2.93s, Test Memory Usage: 61.86MB\n",
            "\n",
            "Epoch 159\n"
          ]
        },
        {
          "output_type": "stream",
          "name": "stderr",
          "text": [
            "Train: 100%|##########| 391/391 [00:25<00:00, 15.19batch/s]\n"
          ]
        },
        {
          "output_type": "stream",
          "name": "stdout",
          "text": [
            "LR: 1.0000e-04, Train Loss: 0.9496, Train Acc: 0.6609, Train Latency: 25.74s, Memory Usage: 213.40MB\n",
            "Test Loss: 1.7928, Test Acc: 0.4553, Test Latency: 2.94s, Test Memory Usage: 61.86MB\n",
            "\n",
            "Epoch 160\n"
          ]
        },
        {
          "output_type": "stream",
          "name": "stderr",
          "text": [
            "Train: 100%|##########| 391/391 [00:26<00:00, 14.98batch/s]\n"
          ]
        },
        {
          "output_type": "stream",
          "name": "stdout",
          "text": [
            "LR: 1.0000e-04, Train Loss: 0.9540, Train Acc: 0.6569, Train Latency: 26.10s, Memory Usage: 213.40MB\n",
            "Test Loss: 2.2867, Test Acc: 0.3696, Test Latency: 2.93s, Test Memory Usage: 61.86MB\n",
            "\n",
            "Epoch 161\n"
          ]
        },
        {
          "output_type": "stream",
          "name": "stderr",
          "text": [
            "Train: 100%|##########| 391/391 [00:25<00:00, 15.17batch/s]\n"
          ]
        },
        {
          "output_type": "stream",
          "name": "stdout",
          "text": [
            "LR: 1.0000e-04, Train Loss: 0.9554, Train Acc: 0.6584, Train Latency: 25.78s, Memory Usage: 213.40MB\n",
            "Test Loss: 1.4758, Test Acc: 0.5022, Test Latency: 2.94s, Test Memory Usage: 61.86MB\n",
            "\n",
            "Epoch 162\n"
          ]
        },
        {
          "output_type": "stream",
          "name": "stderr",
          "text": [
            "Train: 100%|##########| 391/391 [00:25<00:00, 15.05batch/s]\n"
          ]
        },
        {
          "output_type": "stream",
          "name": "stdout",
          "text": [
            "LR: 1.0000e-04, Train Loss: 0.9503, Train Acc: 0.6626, Train Latency: 25.99s, Memory Usage: 213.40MB\n",
            "Test Loss: 1.3783, Test Acc: 0.5519, Test Latency: 2.91s, Test Memory Usage: 61.86MB\n",
            "\n",
            "Epoch 163\n"
          ]
        },
        {
          "output_type": "stream",
          "name": "stderr",
          "text": [
            "Train: 100%|##########| 391/391 [00:25<00:00, 15.12batch/s]\n"
          ]
        },
        {
          "output_type": "stream",
          "name": "stdout",
          "text": [
            "LR: 1.0000e-04, Train Loss: 0.9530, Train Acc: 0.6615, Train Latency: 25.87s, Memory Usage: 213.40MB\n",
            "Test Loss: 1.1004, Test Acc: 0.6109, Test Latency: 2.92s, Test Memory Usage: 61.86MB\n",
            "\n",
            "Epoch 164\n"
          ]
        },
        {
          "output_type": "stream",
          "name": "stderr",
          "text": [
            "Train: 100%|##########| 391/391 [00:25<00:00, 15.16batch/s]\n"
          ]
        },
        {
          "output_type": "stream",
          "name": "stdout",
          "text": [
            "LR: 1.0000e-04, Train Loss: 0.9518, Train Acc: 0.6595, Train Latency: 25.80s, Memory Usage: 213.40MB\n",
            "Test Loss: 2.3314, Test Acc: 0.3668, Test Latency: 2.94s, Test Memory Usage: 61.86MB\n",
            "\n",
            "Epoch 165\n"
          ]
        },
        {
          "output_type": "stream",
          "name": "stderr",
          "text": [
            "Train: 100%|##########| 391/391 [00:25<00:00, 15.19batch/s]\n"
          ]
        },
        {
          "output_type": "stream",
          "name": "stdout",
          "text": [
            "LR: 1.0000e-04, Train Loss: 0.9572, Train Acc: 0.6585, Train Latency: 25.74s, Memory Usage: 213.40MB\n",
            "Test Loss: 1.0880, Test Acc: 0.6054, Test Latency: 2.93s, Test Memory Usage: 61.86MB\n",
            "\n",
            "Epoch 166\n"
          ]
        },
        {
          "output_type": "stream",
          "name": "stderr",
          "text": [
            "Train: 100%|##########| 391/391 [00:26<00:00, 14.86batch/s]\n"
          ]
        },
        {
          "output_type": "stream",
          "name": "stdout",
          "text": [
            "LR: 1.0000e-04, Train Loss: 0.9517, Train Acc: 0.6613, Train Latency: 26.32s, Memory Usage: 213.40MB\n",
            "Test Loss: 1.4163, Test Acc: 0.5177, Test Latency: 2.91s, Test Memory Usage: 61.86MB\n",
            "\n",
            "Epoch 167\n"
          ]
        },
        {
          "output_type": "stream",
          "name": "stderr",
          "text": [
            "Train: 100%|##########| 391/391 [00:25<00:00, 15.09batch/s]\n"
          ]
        },
        {
          "output_type": "stream",
          "name": "stdout",
          "text": [
            "LR: 1.0000e-04, Train Loss: 0.9568, Train Acc: 0.6562, Train Latency: 25.92s, Memory Usage: 213.40MB\n",
            "Test Loss: 1.6803, Test Acc: 0.4608, Test Latency: 2.92s, Test Memory Usage: 61.86MB\n",
            "\n",
            "Epoch 168\n"
          ]
        },
        {
          "output_type": "stream",
          "name": "stderr",
          "text": [
            "Train: 100%|##########| 391/391 [00:25<00:00, 15.13batch/s]\n"
          ]
        },
        {
          "output_type": "stream",
          "name": "stdout",
          "text": [
            "LR: 1.0000e-04, Train Loss: 0.9581, Train Acc: 0.6571, Train Latency: 25.84s, Memory Usage: 213.40MB\n",
            "Test Loss: 1.4498, Test Acc: 0.5278, Test Latency: 2.93s, Test Memory Usage: 61.86MB\n",
            "\n",
            "Epoch 169\n"
          ]
        },
        {
          "output_type": "stream",
          "name": "stderr",
          "text": [
            "Train: 100%|##########| 391/391 [00:26<00:00, 14.99batch/s]\n"
          ]
        },
        {
          "output_type": "stream",
          "name": "stdout",
          "text": [
            "LR: 1.0000e-04, Train Loss: 0.9590, Train Acc: 0.6581, Train Latency: 26.09s, Memory Usage: 213.40MB\n",
            "Test Loss: 1.8558, Test Acc: 0.4457, Test Latency: 3.00s, Test Memory Usage: 61.86MB\n",
            "\n",
            "Epoch 170\n"
          ]
        },
        {
          "output_type": "stream",
          "name": "stderr",
          "text": [
            "Train: 100%|##########| 391/391 [00:26<00:00, 14.97batch/s]\n"
          ]
        },
        {
          "output_type": "stream",
          "name": "stdout",
          "text": [
            "LR: 1.0000e-04, Train Loss: 0.9569, Train Acc: 0.6605, Train Latency: 26.13s, Memory Usage: 213.40MB\n",
            "Test Loss: 1.1220, Test Acc: 0.6133, Test Latency: 2.91s, Test Memory Usage: 61.86MB\n",
            "\n",
            "Epoch 171\n"
          ]
        },
        {
          "output_type": "stream",
          "name": "stderr",
          "text": [
            "Train: 100%|##########| 391/391 [00:25<00:00, 15.06batch/s]\n"
          ]
        },
        {
          "output_type": "stream",
          "name": "stdout",
          "text": [
            "LR: 1.0000e-04, Train Loss: 0.9551, Train Acc: 0.6611, Train Latency: 25.97s, Memory Usage: 213.40MB\n",
            "Test Loss: 1.4993, Test Acc: 0.4960, Test Latency: 2.94s, Test Memory Usage: 61.86MB\n",
            "\n",
            "Epoch 172\n"
          ]
        },
        {
          "output_type": "stream",
          "name": "stderr",
          "text": [
            "Train: 100%|##########| 391/391 [00:26<00:00, 14.91batch/s]\n"
          ]
        },
        {
          "output_type": "stream",
          "name": "stdout",
          "text": [
            "LR: 1.0000e-04, Train Loss: 0.9595, Train Acc: 0.6580, Train Latency: 26.23s, Memory Usage: 213.40MB\n",
            "Test Loss: 1.4098, Test Acc: 0.5350, Test Latency: 2.93s, Test Memory Usage: 61.86MB\n",
            "\n",
            "Epoch 173\n"
          ]
        },
        {
          "output_type": "stream",
          "name": "stderr",
          "text": [
            "Train: 100%|##########| 391/391 [00:25<00:00, 15.13batch/s]\n"
          ]
        },
        {
          "output_type": "stream",
          "name": "stdout",
          "text": [
            "LR: 1.0000e-04, Train Loss: 0.9612, Train Acc: 0.6585, Train Latency: 25.85s, Memory Usage: 213.40MB\n",
            "Test Loss: 1.3306, Test Acc: 0.5468, Test Latency: 2.94s, Test Memory Usage: 61.86MB\n",
            "\n",
            "Epoch 174\n"
          ]
        },
        {
          "output_type": "stream",
          "name": "stderr",
          "text": [
            "Train: 100%|##########| 391/391 [00:25<00:00, 15.10batch/s]\n"
          ]
        },
        {
          "output_type": "stream",
          "name": "stdout",
          "text": [
            "LR: 1.0000e-04, Train Loss: 0.9601, Train Acc: 0.6589, Train Latency: 25.90s, Memory Usage: 213.40MB\n",
            "Test Loss: 1.5415, Test Acc: 0.4957, Test Latency: 2.93s, Test Memory Usage: 61.86MB\n",
            "\n",
            "Epoch 175\n"
          ]
        },
        {
          "output_type": "stream",
          "name": "stderr",
          "text": [
            "Train: 100%|##########| 391/391 [00:26<00:00, 14.96batch/s]\n"
          ]
        },
        {
          "output_type": "stream",
          "name": "stdout",
          "text": [
            "LR: 1.0000e-04, Train Loss: 0.9573, Train Acc: 0.6582, Train Latency: 26.15s, Memory Usage: 213.40MB\n",
            "Test Loss: 1.7445, Test Acc: 0.4370, Test Latency: 2.95s, Test Memory Usage: 61.86MB\n",
            "\n",
            "Epoch 176\n"
          ]
        },
        {
          "output_type": "stream",
          "name": "stderr",
          "text": [
            "Train: 100%|##########| 391/391 [00:26<00:00, 14.88batch/s]\n"
          ]
        },
        {
          "output_type": "stream",
          "name": "stdout",
          "text": [
            "LR: 1.0000e-04, Train Loss: 0.9638, Train Acc: 0.6551, Train Latency: 26.28s, Memory Usage: 213.40MB\n",
            "Test Loss: 1.4039, Test Acc: 0.5195, Test Latency: 2.98s, Test Memory Usage: 61.86MB\n",
            "\n",
            "Epoch 177\n"
          ]
        },
        {
          "output_type": "stream",
          "name": "stderr",
          "text": [
            "Train: 100%|##########| 391/391 [00:26<00:00, 14.95batch/s]\n"
          ]
        },
        {
          "output_type": "stream",
          "name": "stdout",
          "text": [
            "LR: 1.0000e-04, Train Loss: 0.9628, Train Acc: 0.6577, Train Latency: 26.15s, Memory Usage: 213.40MB\n",
            "Test Loss: 1.5594, Test Acc: 0.5021, Test Latency: 2.96s, Test Memory Usage: 61.86MB\n",
            "\n",
            "Epoch 178\n"
          ]
        },
        {
          "output_type": "stream",
          "name": "stderr",
          "text": [
            "Train: 100%|##########| 391/391 [00:26<00:00, 14.91batch/s]\n"
          ]
        },
        {
          "output_type": "stream",
          "name": "stdout",
          "text": [
            "LR: 1.0000e-04, Train Loss: 0.9680, Train Acc: 0.6544, Train Latency: 26.23s, Memory Usage: 213.40MB\n",
            "Test Loss: 1.4770, Test Acc: 0.5452, Test Latency: 3.03s, Test Memory Usage: 61.86MB\n",
            "\n",
            "Epoch 179\n"
          ]
        },
        {
          "output_type": "stream",
          "name": "stderr",
          "text": [
            "Train: 100%|##########| 391/391 [00:26<00:00, 14.91batch/s]\n"
          ]
        },
        {
          "output_type": "stream",
          "name": "stdout",
          "text": [
            "LR: 1.0000e-04, Train Loss: 0.9604, Train Acc: 0.6572, Train Latency: 26.23s, Memory Usage: 213.40MB\n",
            "Test Loss: 1.4786, Test Acc: 0.5167, Test Latency: 2.94s, Test Memory Usage: 61.86MB\n",
            "\n",
            "Epoch 180\n"
          ]
        },
        {
          "output_type": "stream",
          "name": "stderr",
          "text": [
            "Train: 100%|##########| 391/391 [00:25<00:00, 15.05batch/s]\n"
          ]
        },
        {
          "output_type": "stream",
          "name": "stdout",
          "text": [
            "LR: 1.0000e-04, Train Loss: 0.9572, Train Acc: 0.6584, Train Latency: 25.98s, Memory Usage: 213.40MB\n",
            "Test Loss: 1.1508, Test Acc: 0.5985, Test Latency: 2.91s, Test Memory Usage: 61.86MB\n",
            "\n",
            "Epoch 181\n"
          ]
        },
        {
          "output_type": "stream",
          "name": "stderr",
          "text": [
            "Train: 100%|##########| 391/391 [00:25<00:00, 15.09batch/s]\n"
          ]
        },
        {
          "output_type": "stream",
          "name": "stdout",
          "text": [
            "LR: 1.0000e-04, Train Loss: 0.9556, Train Acc: 0.6592, Train Latency: 25.91s, Memory Usage: 213.40MB\n",
            "Test Loss: 1.2089, Test Acc: 0.5755, Test Latency: 2.95s, Test Memory Usage: 61.86MB\n",
            "\n",
            "Epoch 182\n"
          ]
        },
        {
          "output_type": "stream",
          "name": "stderr",
          "text": [
            "Train: 100%|##########| 391/391 [00:25<00:00, 15.08batch/s]\n"
          ]
        },
        {
          "output_type": "stream",
          "name": "stdout",
          "text": [
            "LR: 1.0000e-04, Train Loss: 0.9570, Train Acc: 0.6572, Train Latency: 25.94s, Memory Usage: 213.40MB\n",
            "Test Loss: 1.2579, Test Acc: 0.5676, Test Latency: 2.91s, Test Memory Usage: 61.86MB\n",
            "\n",
            "Epoch 183\n"
          ]
        },
        {
          "output_type": "stream",
          "name": "stderr",
          "text": [
            "Train: 100%|##########| 391/391 [00:25<00:00, 15.17batch/s]\n"
          ]
        },
        {
          "output_type": "stream",
          "name": "stdout",
          "text": [
            "LR: 1.0000e-04, Train Loss: 0.9642, Train Acc: 0.6572, Train Latency: 25.78s, Memory Usage: 213.40MB\n",
            "Test Loss: 1.2608, Test Acc: 0.5559, Test Latency: 2.93s, Test Memory Usage: 61.86MB\n",
            "\n",
            "Epoch 184\n"
          ]
        },
        {
          "output_type": "stream",
          "name": "stderr",
          "text": [
            "Train: 100%|##########| 391/391 [00:26<00:00, 14.94batch/s]\n"
          ]
        },
        {
          "output_type": "stream",
          "name": "stdout",
          "text": [
            "LR: 1.0000e-04, Train Loss: 0.9619, Train Acc: 0.6568, Train Latency: 26.18s, Memory Usage: 213.40MB\n",
            "Test Loss: 1.6334, Test Acc: 0.4955, Test Latency: 2.94s, Test Memory Usage: 61.86MB\n",
            "\n",
            "Epoch 185\n"
          ]
        },
        {
          "output_type": "stream",
          "name": "stderr",
          "text": [
            "Train: 100%|##########| 391/391 [00:25<00:00, 15.21batch/s]\n"
          ]
        },
        {
          "output_type": "stream",
          "name": "stdout",
          "text": [
            "LR: 1.0000e-04, Train Loss: 0.9612, Train Acc: 0.6578, Train Latency: 25.71s, Memory Usage: 213.40MB\n",
            "Test Loss: 1.3296, Test Acc: 0.5488, Test Latency: 3.02s, Test Memory Usage: 61.86MB\n",
            "\n",
            "Epoch 186\n"
          ]
        },
        {
          "output_type": "stream",
          "name": "stderr",
          "text": [
            "Train: 100%|##########| 391/391 [00:25<00:00, 15.17batch/s]\n"
          ]
        },
        {
          "output_type": "stream",
          "name": "stdout",
          "text": [
            "LR: 1.0000e-04, Train Loss: 0.9691, Train Acc: 0.6544, Train Latency: 25.78s, Memory Usage: 213.40MB\n",
            "Test Loss: 1.5508, Test Acc: 0.4828, Test Latency: 2.93s, Test Memory Usage: 61.86MB\n",
            "\n",
            "Epoch 187\n"
          ]
        },
        {
          "output_type": "stream",
          "name": "stderr",
          "text": [
            "Train: 100%|##########| 391/391 [00:25<00:00, 15.27batch/s]\n"
          ]
        },
        {
          "output_type": "stream",
          "name": "stdout",
          "text": [
            "LR: 1.0000e-04, Train Loss: 0.9605, Train Acc: 0.6581, Train Latency: 25.61s, Memory Usage: 213.40MB\n",
            "Test Loss: 1.8709, Test Acc: 0.4465, Test Latency: 2.93s, Test Memory Usage: 61.86MB\n",
            "\n",
            "Epoch 188\n"
          ]
        },
        {
          "output_type": "stream",
          "name": "stderr",
          "text": [
            "Train: 100%|##########| 391/391 [00:26<00:00, 14.94batch/s]\n"
          ]
        },
        {
          "output_type": "stream",
          "name": "stdout",
          "text": [
            "LR: 1.0000e-04, Train Loss: 0.9620, Train Acc: 0.6557, Train Latency: 26.18s, Memory Usage: 213.40MB\n",
            "Test Loss: 1.4448, Test Acc: 0.5208, Test Latency: 3.04s, Test Memory Usage: 61.86MB\n",
            "\n",
            "Epoch 189\n"
          ]
        },
        {
          "output_type": "stream",
          "name": "stderr",
          "text": [
            "Train: 100%|##########| 391/391 [00:25<00:00, 15.06batch/s]\n"
          ]
        },
        {
          "output_type": "stream",
          "name": "stdout",
          "text": [
            "LR: 1.0000e-04, Train Loss: 0.9644, Train Acc: 0.6546, Train Latency: 25.97s, Memory Usage: 213.40MB\n",
            "Test Loss: 1.4468, Test Acc: 0.5204, Test Latency: 2.93s, Test Memory Usage: 61.86MB\n",
            "\n",
            "Epoch 190\n"
          ]
        },
        {
          "output_type": "stream",
          "name": "stderr",
          "text": [
            "Train: 100%|##########| 391/391 [00:25<00:00, 15.06batch/s]\n"
          ]
        },
        {
          "output_type": "stream",
          "name": "stdout",
          "text": [
            "LR: 1.0000e-04, Train Loss: 0.9634, Train Acc: 0.6573, Train Latency: 25.96s, Memory Usage: 213.40MB\n",
            "Test Loss: 2.1337, Test Acc: 0.3956, Test Latency: 2.94s, Test Memory Usage: 61.86MB\n",
            "\n",
            "Epoch 191\n"
          ]
        },
        {
          "output_type": "stream",
          "name": "stderr",
          "text": [
            "Train: 100%|##########| 391/391 [00:25<00:00, 15.12batch/s]\n"
          ]
        },
        {
          "output_type": "stream",
          "name": "stdout",
          "text": [
            "LR: 1.0000e-04, Train Loss: 0.9613, Train Acc: 0.6569, Train Latency: 25.86s, Memory Usage: 213.40MB\n",
            "Test Loss: 1.2284, Test Acc: 0.5753, Test Latency: 2.95s, Test Memory Usage: 61.86MB\n",
            "\n",
            "Epoch 192\n"
          ]
        },
        {
          "output_type": "stream",
          "name": "stderr",
          "text": [
            "Train: 100%|##########| 391/391 [00:25<00:00, 15.09batch/s]\n"
          ]
        },
        {
          "output_type": "stream",
          "name": "stdout",
          "text": [
            "LR: 1.0000e-04, Train Loss: 0.9637, Train Acc: 0.6572, Train Latency: 25.92s, Memory Usage: 213.40MB\n",
            "Test Loss: 1.2163, Test Acc: 0.5942, Test Latency: 2.93s, Test Memory Usage: 61.86MB\n",
            "\n",
            "Epoch 193\n"
          ]
        },
        {
          "output_type": "stream",
          "name": "stderr",
          "text": [
            "Train: 100%|##########| 391/391 [00:25<00:00, 15.15batch/s]\n"
          ]
        },
        {
          "output_type": "stream",
          "name": "stdout",
          "text": [
            "LR: 1.0000e-04, Train Loss: 0.9678, Train Acc: 0.6538, Train Latency: 25.81s, Memory Usage: 213.40MB\n",
            "Test Loss: 1.1899, Test Acc: 0.5816, Test Latency: 2.94s, Test Memory Usage: 61.86MB\n",
            "\n",
            "Epoch 194\n"
          ]
        },
        {
          "output_type": "stream",
          "name": "stderr",
          "text": [
            "Train: 100%|##########| 391/391 [00:25<00:00, 15.05batch/s]\n"
          ]
        },
        {
          "output_type": "stream",
          "name": "stdout",
          "text": [
            "LR: 1.0000e-04, Train Loss: 0.9649, Train Acc: 0.6545, Train Latency: 25.99s, Memory Usage: 213.40MB\n",
            "Test Loss: 1.5474, Test Acc: 0.5093, Test Latency: 2.93s, Test Memory Usage: 61.86MB\n",
            "\n",
            "Epoch 195\n"
          ]
        },
        {
          "output_type": "stream",
          "name": "stderr",
          "text": [
            "Train: 100%|##########| 391/391 [00:25<00:00, 15.19batch/s]\n"
          ]
        },
        {
          "output_type": "stream",
          "name": "stdout",
          "text": [
            "LR: 1.0000e-04, Train Loss: 0.9634, Train Acc: 0.6582, Train Latency: 25.74s, Memory Usage: 213.40MB\n",
            "Test Loss: 1.2159, Test Acc: 0.5706, Test Latency: 2.92s, Test Memory Usage: 61.86MB\n",
            "\n",
            "Epoch 196\n"
          ]
        },
        {
          "output_type": "stream",
          "name": "stderr",
          "text": [
            "Train: 100%|##########| 391/391 [00:25<00:00, 15.10batch/s]\n"
          ]
        },
        {
          "output_type": "stream",
          "name": "stdout",
          "text": [
            "LR: 1.0000e-04, Train Loss: 0.9662, Train Acc: 0.6542, Train Latency: 25.89s, Memory Usage: 213.40MB\n",
            "Test Loss: 1.2014, Test Acc: 0.6046, Test Latency: 2.93s, Test Memory Usage: 61.86MB\n",
            "\n",
            "Epoch 197\n"
          ]
        },
        {
          "output_type": "stream",
          "name": "stderr",
          "text": [
            "Train: 100%|##########| 391/391 [00:25<00:00, 15.17batch/s]\n"
          ]
        },
        {
          "output_type": "stream",
          "name": "stdout",
          "text": [
            "LR: 1.0000e-04, Train Loss: 0.9635, Train Acc: 0.6568, Train Latency: 25.78s, Memory Usage: 213.40MB\n",
            "Test Loss: 1.9784, Test Acc: 0.4310, Test Latency: 2.93s, Test Memory Usage: 61.86MB\n",
            "\n",
            "Epoch 198\n"
          ]
        },
        {
          "output_type": "stream",
          "name": "stderr",
          "text": [
            "Train: 100%|##########| 391/391 [00:25<00:00, 15.16batch/s]\n"
          ]
        },
        {
          "output_type": "stream",
          "name": "stdout",
          "text": [
            "LR: 1.0000e-04, Train Loss: 0.9647, Train Acc: 0.6538, Train Latency: 25.80s, Memory Usage: 213.40MB\n",
            "Test Loss: 1.5129, Test Acc: 0.4839, Test Latency: 2.96s, Test Memory Usage: 61.86MB\n",
            "\n",
            "Epoch 199\n"
          ]
        },
        {
          "output_type": "stream",
          "name": "stderr",
          "text": [
            "Train: 100%|##########| 391/391 [00:25<00:00, 15.04batch/s]\n"
          ]
        },
        {
          "output_type": "stream",
          "name": "stdout",
          "text": [
            "LR: 1.0000e-04, Train Loss: 0.9602, Train Acc: 0.6578, Train Latency: 26.00s, Memory Usage: 213.40MB\n",
            "Test Loss: 2.6129, Test Acc: 0.3321, Test Latency: 3.05s, Test Memory Usage: 61.86MB\n",
            "\n",
            "Epoch 200\n"
          ]
        },
        {
          "output_type": "stream",
          "name": "stderr",
          "text": [
            "Train: 100%|##########| 391/391 [00:26<00:00, 14.98batch/s]\n"
          ]
        },
        {
          "output_type": "stream",
          "name": "stdout",
          "text": [
            "LR: 1.0000e-04, Train Loss: 0.9624, Train Acc: 0.6594, Train Latency: 26.11s, Memory Usage: 213.40MB\n",
            "Test Loss: 1.8899, Test Acc: 0.4371, Test Latency: 2.92s, Test Memory Usage: 61.86MB\n",
            "Saving final epoch model ...\n"
          ]
        }
      ],
      "source": [
        "model_name_list = []\n",
        "for w_nbits in [3, 2, 1]:\n",
        "    temp_name = train(w_nbits=w_nbits, a_nbits=None, linear=True)\n",
        "    model_name_list.append(temp_name)"
      ]
    },
    {
      "cell_type": "code",
      "execution_count": 12,
      "metadata": {
        "id": "lDstM_bzELEH"
      },
      "outputs": [],
      "source": [
        "# for model_name in model_name_list:\n",
        "#     print('_'*50)\n",
        "#     analyze_model(model_name)\n",
        "#     print('_'*50)"
      ]
    },
    {
      "cell_type": "markdown",
      "metadata": {
        "id": "u6JKkVzuKzmw"
      },
      "source": [
        "# **Weight & Activation**\n",
        "\n",
        "---"
      ]
    },
    {
      "cell_type": "code",
      "execution_count": 13,
      "metadata": {
        "id": "kyejfM1LHhm1",
        "colab": {
          "base_uri": "https://localhost:8080/"
        },
        "outputId": "4a1b92b9-f959-41d2-b2dc-a984114f2b8e"
      },
      "outputs": [
        {
          "output_type": "stream",
          "name": "stdout",
          "text": [
            "\n",
            "Quantization: weight=1 activation=2 linear=True, Using device: cuda\n",
            "\n",
            "Epoch 1\n"
          ]
        },
        {
          "output_type": "stream",
          "name": "stderr",
          "text": [
            "Train: 100%|##########| 391/391 [00:26<00:00, 14.53batch/s]\n"
          ]
        },
        {
          "output_type": "stream",
          "name": "stdout",
          "text": [
            "LR: 1.0000e-01, Train Loss: 5.4831, Train Acc: 0.1959, Train Latency: 26.92s, Memory Usage: 295.40MB\n",
            "Test Loss: 501.5986, Test Acc: 0.0998, Test Latency: 3.14s, Test Memory Usage: 77.86MB\n",
            "\n",
            "Epoch 2\n"
          ]
        },
        {
          "output_type": "stream",
          "name": "stderr",
          "text": [
            "Train: 100%|##########| 391/391 [00:26<00:00, 14.51batch/s]\n"
          ]
        },
        {
          "output_type": "stream",
          "name": "stdout",
          "text": [
            "LR: 1.0000e-01, Train Loss: 156.7066, Train Acc: 0.1154, Train Latency: 26.95s, Memory Usage: 295.40MB\n",
            "Test Loss: 3569.5803, Test Acc: 0.1003, Test Latency: 3.12s, Test Memory Usage: 77.86MB\n",
            "\n",
            "Epoch 3\n"
          ]
        },
        {
          "output_type": "stream",
          "name": "stderr",
          "text": [
            "Train: 100%|##########| 391/391 [00:26<00:00, 14.49batch/s]\n"
          ]
        },
        {
          "output_type": "stream",
          "name": "stdout",
          "text": [
            "LR: 1.0000e-01, Train Loss: 103.8199, Train Acc: 0.1063, Train Latency: 26.99s, Memory Usage: 295.40MB\n",
            "Test Loss: 3.5202, Test Acc: 0.1212, Test Latency: 3.14s, Test Memory Usage: 77.86MB\n",
            "\n",
            "Epoch 4\n"
          ]
        },
        {
          "output_type": "stream",
          "name": "stderr",
          "text": [
            "Train: 100%|##########| 391/391 [00:27<00:00, 14.12batch/s]\n"
          ]
        },
        {
          "output_type": "stream",
          "name": "stdout",
          "text": [
            "LR: 1.0000e-01, Train Loss: 3.4314, Train Acc: 0.1128, Train Latency: 27.69s, Memory Usage: 295.40MB\n",
            "Test Loss: 2.3625, Test Acc: 0.1175, Test Latency: 3.22s, Test Memory Usage: 77.86MB\n",
            "\n",
            "Epoch 5\n"
          ]
        },
        {
          "output_type": "stream",
          "name": "stderr",
          "text": [
            "Train: 100%|##########| 391/391 [00:27<00:00, 14.14batch/s]\n"
          ]
        },
        {
          "output_type": "stream",
          "name": "stdout",
          "text": [
            "LR: 1.0000e-01, Train Loss: 2.3950, Train Acc: 0.1130, Train Latency: 27.65s, Memory Usage: 295.40MB\n",
            "Test Loss: 2.3074, Test Acc: 0.1113, Test Latency: 3.15s, Test Memory Usage: 77.86MB\n",
            "\n",
            "Epoch 6\n"
          ]
        },
        {
          "output_type": "stream",
          "name": "stderr",
          "text": [
            "Train: 100%|##########| 391/391 [00:27<00:00, 14.24batch/s]\n"
          ]
        },
        {
          "output_type": "stream",
          "name": "stdout",
          "text": [
            "LR: 1.0000e-01, Train Loss: 2.3250, Train Acc: 0.1149, Train Latency: 27.47s, Memory Usage: 295.40MB\n",
            "Test Loss: 2.3014, Test Acc: 0.1238, Test Latency: 3.20s, Test Memory Usage: 77.86MB\n",
            "\n",
            "Epoch 7\n"
          ]
        },
        {
          "output_type": "stream",
          "name": "stderr",
          "text": [
            "Train: 100%|##########| 391/391 [00:27<00:00, 14.36batch/s]\n"
          ]
        },
        {
          "output_type": "stream",
          "name": "stdout",
          "text": [
            "LR: 1.0000e-01, Train Loss: 2.3030, Train Acc: 0.1193, Train Latency: 27.24s, Memory Usage: 295.40MB\n",
            "Test Loss: 2.2987, Test Acc: 0.1106, Test Latency: 3.17s, Test Memory Usage: 77.86MB\n",
            "\n",
            "Epoch 8\n"
          ]
        },
        {
          "output_type": "stream",
          "name": "stderr",
          "text": [
            "Train: 100%|##########| 391/391 [00:27<00:00, 14.36batch/s]\n"
          ]
        },
        {
          "output_type": "stream",
          "name": "stdout",
          "text": [
            "LR: 1.0000e-01, Train Loss: 19.2215, Train Acc: 0.1272, Train Latency: 27.24s, Memory Usage: 295.40MB\n",
            "Test Loss: 2.2955, Test Acc: 0.1490, Test Latency: 3.19s, Test Memory Usage: 77.86MB\n",
            "\n",
            "Epoch 9\n"
          ]
        },
        {
          "output_type": "stream",
          "name": "stderr",
          "text": [
            "Train: 100%|##########| 391/391 [00:27<00:00, 14.45batch/s]\n"
          ]
        },
        {
          "output_type": "stream",
          "name": "stdout",
          "text": [
            "LR: 1.0000e-01, Train Loss: 2.3392, Train Acc: 0.1534, Train Latency: 27.07s, Memory Usage: 295.40MB\n",
            "Test Loss: 2.2445, Test Acc: 0.1552, Test Latency: 3.13s, Test Memory Usage: 77.86MB\n",
            "\n",
            "Epoch 10\n"
          ]
        },
        {
          "output_type": "stream",
          "name": "stderr",
          "text": [
            "Train: 100%|##########| 391/391 [00:26<00:00, 14.56batch/s]\n"
          ]
        },
        {
          "output_type": "stream",
          "name": "stdout",
          "text": [
            "LR: 1.0000e-01, Train Loss: 2.2531, Train Acc: 0.1657, Train Latency: 26.85s, Memory Usage: 295.40MB\n",
            "Test Loss: 2.2460, Test Acc: 0.1540, Test Latency: 3.11s, Test Memory Usage: 77.86MB\n",
            "\n",
            "Epoch 11\n"
          ]
        },
        {
          "output_type": "stream",
          "name": "stderr",
          "text": [
            "Train: 100%|##########| 391/391 [00:26<00:00, 14.59batch/s]\n"
          ]
        },
        {
          "output_type": "stream",
          "name": "stdout",
          "text": [
            "LR: 1.0000e-01, Train Loss: 2.2107, Train Acc: 0.1705, Train Latency: 26.81s, Memory Usage: 295.40MB\n",
            "Test Loss: 2.1928, Test Acc: 0.1805, Test Latency: 3.11s, Test Memory Usage: 77.86MB\n",
            "\n",
            "Epoch 12\n"
          ]
        },
        {
          "output_type": "stream",
          "name": "stderr",
          "text": [
            "Train: 100%|##########| 391/391 [00:26<00:00, 14.49batch/s]\n"
          ]
        },
        {
          "output_type": "stream",
          "name": "stdout",
          "text": [
            "LR: 1.0000e-01, Train Loss: 2.1903, Train Acc: 0.1739, Train Latency: 26.99s, Memory Usage: 295.40MB\n",
            "Test Loss: 2.3378, Test Acc: 0.1275, Test Latency: 3.15s, Test Memory Usage: 77.86MB\n",
            "\n",
            "Epoch 13\n"
          ]
        },
        {
          "output_type": "stream",
          "name": "stderr",
          "text": [
            "Train: 100%|##########| 391/391 [00:26<00:00, 14.55batch/s]\n"
          ]
        },
        {
          "output_type": "stream",
          "name": "stdout",
          "text": [
            "LR: 1.0000e-01, Train Loss: 2.2219, Train Acc: 0.1648, Train Latency: 26.88s, Memory Usage: 295.40MB\n",
            "Test Loss: 2.2020, Test Acc: 0.1821, Test Latency: 3.08s, Test Memory Usage: 77.86MB\n",
            "\n",
            "Epoch 14\n"
          ]
        },
        {
          "output_type": "stream",
          "name": "stderr",
          "text": [
            "Train: 100%|##########| 391/391 [00:27<00:00, 14.47batch/s]\n"
          ]
        },
        {
          "output_type": "stream",
          "name": "stdout",
          "text": [
            "LR: 1.0000e-01, Train Loss: 2.2070, Train Acc: 0.1781, Train Latency: 27.02s, Memory Usage: 295.40MB\n",
            "Test Loss: 2.2910, Test Acc: 0.1616, Test Latency: 3.12s, Test Memory Usage: 77.86MB\n",
            "\n",
            "Epoch 15\n"
          ]
        },
        {
          "output_type": "stream",
          "name": "stderr",
          "text": [
            "Train: 100%|##########| 391/391 [00:26<00:00, 14.55batch/s]\n"
          ]
        },
        {
          "output_type": "stream",
          "name": "stdout",
          "text": [
            "LR: 1.0000e-01, Train Loss: 2.2097, Train Acc: 0.1781, Train Latency: 26.88s, Memory Usage: 295.40MB\n",
            "Test Loss: 2.2752, Test Acc: 0.1658, Test Latency: 3.15s, Test Memory Usage: 77.86MB\n",
            "\n",
            "Epoch 16\n"
          ]
        },
        {
          "output_type": "stream",
          "name": "stderr",
          "text": [
            "Train: 100%|##########| 391/391 [00:27<00:00, 14.37batch/s]\n"
          ]
        },
        {
          "output_type": "stream",
          "name": "stdout",
          "text": [
            "LR: 1.0000e-01, Train Loss: 2.2547, Train Acc: 0.1799, Train Latency: 27.21s, Memory Usage: 295.40MB\n",
            "Test Loss: 2.0702, Test Acc: 0.2290, Test Latency: 3.14s, Test Memory Usage: 77.86MB\n",
            "\n",
            "Epoch 17\n"
          ]
        },
        {
          "output_type": "stream",
          "name": "stderr",
          "text": [
            "Train: 100%|##########| 391/391 [00:26<00:00, 14.56batch/s]\n"
          ]
        },
        {
          "output_type": "stream",
          "name": "stdout",
          "text": [
            "LR: 1.0000e-01, Train Loss: 2.4156, Train Acc: 0.1933, Train Latency: 26.86s, Memory Usage: 295.40MB\n",
            "Test Loss: 4.1118, Test Acc: 0.1213, Test Latency: 3.13s, Test Memory Usage: 77.86MB\n",
            "\n",
            "Epoch 18\n"
          ]
        },
        {
          "output_type": "stream",
          "name": "stderr",
          "text": [
            "Train: 100%|##########| 391/391 [00:26<00:00, 14.51batch/s]\n"
          ]
        },
        {
          "output_type": "stream",
          "name": "stdout",
          "text": [
            "LR: 1.0000e-01, Train Loss: 2.5177, Train Acc: 0.1532, Train Latency: 26.96s, Memory Usage: 295.40MB\n",
            "Test Loss: 2.2127, Test Acc: 0.1766, Test Latency: 3.13s, Test Memory Usage: 77.86MB\n",
            "\n",
            "Epoch 19\n"
          ]
        },
        {
          "output_type": "stream",
          "name": "stderr",
          "text": [
            "Train: 100%|##########| 391/391 [00:26<00:00, 14.56batch/s]\n"
          ]
        },
        {
          "output_type": "stream",
          "name": "stdout",
          "text": [
            "LR: 1.0000e-01, Train Loss: 2.1608, Train Acc: 0.1843, Train Latency: 26.86s, Memory Usage: 295.40MB\n",
            "Test Loss: 2.1993, Test Acc: 0.1887, Test Latency: 3.14s, Test Memory Usage: 77.86MB\n",
            "\n",
            "Epoch 20\n"
          ]
        },
        {
          "output_type": "stream",
          "name": "stderr",
          "text": [
            "Train: 100%|##########| 391/391 [00:26<00:00, 14.48batch/s]\n"
          ]
        },
        {
          "output_type": "stream",
          "name": "stdout",
          "text": [
            "LR: 1.0000e-01, Train Loss: 2.2428, Train Acc: 0.1633, Train Latency: 27.00s, Memory Usage: 295.40MB\n",
            "Test Loss: 2.1615, Test Acc: 0.1807, Test Latency: 3.11s, Test Memory Usage: 77.86MB\n",
            "\n",
            "Epoch 21\n"
          ]
        },
        {
          "output_type": "stream",
          "name": "stderr",
          "text": [
            "Train: 100%|##########| 391/391 [00:26<00:00, 14.49batch/s]\n"
          ]
        },
        {
          "output_type": "stream",
          "name": "stdout",
          "text": [
            "LR: 1.0000e-01, Train Loss: 2.1404, Train Acc: 0.1877, Train Latency: 26.98s, Memory Usage: 295.40MB\n",
            "Test Loss: 2.0960, Test Acc: 0.2011, Test Latency: 3.12s, Test Memory Usage: 77.86MB\n",
            "\n",
            "Epoch 22\n"
          ]
        },
        {
          "output_type": "stream",
          "name": "stderr",
          "text": [
            "Train: 100%|##########| 391/391 [00:26<00:00, 14.59batch/s]\n"
          ]
        },
        {
          "output_type": "stream",
          "name": "stdout",
          "text": [
            "LR: 1.0000e-01, Train Loss: 2.2346, Train Acc: 0.1615, Train Latency: 26.81s, Memory Usage: 295.40MB\n",
            "Test Loss: 2.7149, Test Acc: 0.1222, Test Latency: 3.10s, Test Memory Usage: 77.86MB\n",
            "\n",
            "Epoch 23\n"
          ]
        },
        {
          "output_type": "stream",
          "name": "stderr",
          "text": [
            "Train: 100%|##########| 391/391 [00:26<00:00, 14.66batch/s]\n"
          ]
        },
        {
          "output_type": "stream",
          "name": "stdout",
          "text": [
            "LR: 1.0000e-01, Train Loss: 2.3560, Train Acc: 0.1190, Train Latency: 26.67s, Memory Usage: 295.40MB\n",
            "Test Loss: 2.2935, Test Acc: 0.1330, Test Latency: 3.11s, Test Memory Usage: 77.86MB\n",
            "\n",
            "Epoch 24\n"
          ]
        },
        {
          "output_type": "stream",
          "name": "stderr",
          "text": [
            "Train: 100%|##########| 391/391 [00:26<00:00, 14.56batch/s]\n"
          ]
        },
        {
          "output_type": "stream",
          "name": "stdout",
          "text": [
            "LR: 1.0000e-01, Train Loss: 2.2923, Train Acc: 0.1265, Train Latency: 26.86s, Memory Usage: 295.40MB\n",
            "Test Loss: 2.3128, Test Acc: 0.1250, Test Latency: 3.13s, Test Memory Usage: 77.86MB\n",
            "\n",
            "Epoch 25\n"
          ]
        },
        {
          "output_type": "stream",
          "name": "stderr",
          "text": [
            "Train: 100%|##########| 391/391 [00:26<00:00, 14.53batch/s]\n"
          ]
        },
        {
          "output_type": "stream",
          "name": "stdout",
          "text": [
            "LR: 1.0000e-01, Train Loss: 2.2960, Train Acc: 0.1230, Train Latency: 26.91s, Memory Usage: 295.40MB\n",
            "Test Loss: 2.2991, Test Acc: 0.1109, Test Latency: 3.21s, Test Memory Usage: 77.86MB\n",
            "\n",
            "Epoch 26\n"
          ]
        },
        {
          "output_type": "stream",
          "name": "stderr",
          "text": [
            "Train: 100%|##########| 391/391 [00:26<00:00, 14.49batch/s]\n"
          ]
        },
        {
          "output_type": "stream",
          "name": "stdout",
          "text": [
            "LR: 1.0000e-01, Train Loss: 2.2736, Train Acc: 0.1402, Train Latency: 27.00s, Memory Usage: 295.40MB\n",
            "Test Loss: 2.3192, Test Acc: 0.1123, Test Latency: 3.13s, Test Memory Usage: 77.86MB\n",
            "\n",
            "Epoch 27\n"
          ]
        },
        {
          "output_type": "stream",
          "name": "stderr",
          "text": [
            "Train: 100%|##########| 391/391 [00:26<00:00, 14.56batch/s]\n"
          ]
        },
        {
          "output_type": "stream",
          "name": "stdout",
          "text": [
            "LR: 1.0000e-01, Train Loss: 2.2795, Train Acc: 0.1322, Train Latency: 26.86s, Memory Usage: 295.40MB\n",
            "Test Loss: 2.2808, Test Acc: 0.1354, Test Latency: 3.12s, Test Memory Usage: 77.86MB\n",
            "\n",
            "Epoch 28\n"
          ]
        },
        {
          "output_type": "stream",
          "name": "stderr",
          "text": [
            "Train: 100%|##########| 391/391 [00:26<00:00, 14.48batch/s]\n"
          ]
        },
        {
          "output_type": "stream",
          "name": "stdout",
          "text": [
            "LR: 1.0000e-01, Train Loss: 2.2800, Train Acc: 0.1338, Train Latency: 27.00s, Memory Usage: 295.40MB\n",
            "Test Loss: 2.2438, Test Acc: 0.1412, Test Latency: 3.21s, Test Memory Usage: 77.86MB\n",
            "\n",
            "Epoch 29\n"
          ]
        },
        {
          "output_type": "stream",
          "name": "stderr",
          "text": [
            "Train: 100%|##########| 391/391 [00:27<00:00, 14.45batch/s]\n"
          ]
        },
        {
          "output_type": "stream",
          "name": "stdout",
          "text": [
            "LR: 1.0000e-01, Train Loss: 2.2360, Train Acc: 0.1568, Train Latency: 27.07s, Memory Usage: 295.40MB\n",
            "Test Loss: 2.2526, Test Acc: 0.1482, Test Latency: 3.12s, Test Memory Usage: 77.86MB\n",
            "\n",
            "Epoch 30\n"
          ]
        },
        {
          "output_type": "stream",
          "name": "stderr",
          "text": [
            "Train: 100%|##########| 391/391 [00:27<00:00, 14.43batch/s]\n"
          ]
        },
        {
          "output_type": "stream",
          "name": "stdout",
          "text": [
            "LR: 1.0000e-01, Train Loss: 2.2365, Train Acc: 0.1608, Train Latency: 27.10s, Memory Usage: 295.40MB\n",
            "Test Loss: 2.5220, Test Acc: 0.1202, Test Latency: 3.13s, Test Memory Usage: 77.86MB\n",
            "\n",
            "Epoch 31\n"
          ]
        },
        {
          "output_type": "stream",
          "name": "stderr",
          "text": [
            "Train: 100%|##########| 391/391 [00:27<00:00, 14.45batch/s]\n"
          ]
        },
        {
          "output_type": "stream",
          "name": "stdout",
          "text": [
            "LR: 1.0000e-01, Train Loss: 2.2479, Train Acc: 0.1535, Train Latency: 27.06s, Memory Usage: 295.40MB\n",
            "Test Loss: 8.7507, Test Acc: 0.0703, Test Latency: 3.19s, Test Memory Usage: 77.86MB\n",
            "\n",
            "Epoch 32\n"
          ]
        },
        {
          "output_type": "stream",
          "name": "stderr",
          "text": [
            "Train: 100%|##########| 391/391 [00:27<00:00, 14.28batch/s]\n"
          ]
        },
        {
          "output_type": "stream",
          "name": "stdout",
          "text": [
            "LR: 1.0000e-01, Train Loss: 2.2629, Train Acc: 0.1491, Train Latency: 27.39s, Memory Usage: 295.40MB\n",
            "Test Loss: 2.2480, Test Acc: 0.1706, Test Latency: 3.15s, Test Memory Usage: 77.86MB\n",
            "\n",
            "Epoch 33\n"
          ]
        },
        {
          "output_type": "stream",
          "name": "stderr",
          "text": [
            "Train: 100%|##########| 391/391 [00:27<00:00, 14.34batch/s]\n"
          ]
        },
        {
          "output_type": "stream",
          "name": "stdout",
          "text": [
            "LR: 1.0000e-01, Train Loss: 2.2031, Train Acc: 0.1673, Train Latency: 27.27s, Memory Usage: 295.40MB\n",
            "Test Loss: 2.1601, Test Acc: 0.1682, Test Latency: 3.15s, Test Memory Usage: 77.86MB\n",
            "\n",
            "Epoch 34\n"
          ]
        },
        {
          "output_type": "stream",
          "name": "stderr",
          "text": [
            "Train: 100%|##########| 391/391 [00:26<00:00, 14.52batch/s]\n"
          ]
        },
        {
          "output_type": "stream",
          "name": "stdout",
          "text": [
            "LR: 1.0000e-01, Train Loss: 2.2128, Train Acc: 0.1658, Train Latency: 26.94s, Memory Usage: 295.40MB\n",
            "Test Loss: 2.3933, Test Acc: 0.0993, Test Latency: 3.12s, Test Memory Usage: 77.86MB\n",
            "\n",
            "Epoch 35\n"
          ]
        },
        {
          "output_type": "stream",
          "name": "stderr",
          "text": [
            "Train: 100%|##########| 391/391 [00:26<00:00, 14.63batch/s]\n"
          ]
        },
        {
          "output_type": "stream",
          "name": "stdout",
          "text": [
            "LR: 1.0000e-01, Train Loss: 2.1873, Train Acc: 0.1811, Train Latency: 26.73s, Memory Usage: 295.40MB\n",
            "Test Loss: 2.4118, Test Acc: 0.1365, Test Latency: 3.16s, Test Memory Usage: 77.86MB\n",
            "\n",
            "Epoch 36\n"
          ]
        },
        {
          "output_type": "stream",
          "name": "stderr",
          "text": [
            "Train: 100%|##########| 391/391 [00:27<00:00, 14.42batch/s]\n"
          ]
        },
        {
          "output_type": "stream",
          "name": "stdout",
          "text": [
            "LR: 1.0000e-01, Train Loss: 2.1311, Train Acc: 0.1858, Train Latency: 27.13s, Memory Usage: 295.40MB\n",
            "Test Loss: 2.4916, Test Acc: 0.1598, Test Latency: 3.16s, Test Memory Usage: 77.86MB\n",
            "\n",
            "Epoch 37\n"
          ]
        },
        {
          "output_type": "stream",
          "name": "stderr",
          "text": [
            "Train: 100%|##########| 391/391 [00:27<00:00, 14.25batch/s]\n"
          ]
        },
        {
          "output_type": "stream",
          "name": "stdout",
          "text": [
            "LR: 1.0000e-01, Train Loss: 17.6334, Train Acc: 0.1191, Train Latency: 27.44s, Memory Usage: 295.40MB\n",
            "Test Loss: 2.3090, Test Acc: 0.0997, Test Latency: 3.17s, Test Memory Usage: 77.86MB\n",
            "\n",
            "Epoch 38\n"
          ]
        },
        {
          "output_type": "stream",
          "name": "stderr",
          "text": [
            "Train: 100%|##########| 391/391 [00:27<00:00, 14.26batch/s]\n"
          ]
        },
        {
          "output_type": "stream",
          "name": "stdout",
          "text": [
            "LR: 1.0000e-01, Train Loss: 3.5750, Train Acc: 0.1044, Train Latency: 27.43s, Memory Usage: 295.40MB\n",
            "Test Loss: 2.2996, Test Acc: 0.1090, Test Latency: 3.16s, Test Memory Usage: 77.86MB\n",
            "\n",
            "Epoch 39\n"
          ]
        },
        {
          "output_type": "stream",
          "name": "stderr",
          "text": [
            "Train: 100%|##########| 391/391 [00:27<00:00, 14.36batch/s]\n"
          ]
        },
        {
          "output_type": "stream",
          "name": "stdout",
          "text": [
            "LR: 1.0000e-01, Train Loss: 2.2939, Train Acc: 0.1200, Train Latency: 27.23s, Memory Usage: 295.40MB\n",
            "Test Loss: 2.2774, Test Acc: 0.1283, Test Latency: 3.20s, Test Memory Usage: 77.86MB\n",
            "\n",
            "Epoch 40\n"
          ]
        },
        {
          "output_type": "stream",
          "name": "stderr",
          "text": [
            "Train: 100%|##########| 391/391 [00:27<00:00, 14.30batch/s]\n"
          ]
        },
        {
          "output_type": "stream",
          "name": "stdout",
          "text": [
            "LR: 1.0000e-01, Train Loss: 2.2745, Train Acc: 0.1347, Train Latency: 27.35s, Memory Usage: 295.40MB\n",
            "Test Loss: 3.0770, Test Acc: 0.1010, Test Latency: 3.14s, Test Memory Usage: 77.86MB\n",
            "\n",
            "Epoch 41\n"
          ]
        },
        {
          "output_type": "stream",
          "name": "stderr",
          "text": [
            "Train: 100%|##########| 391/391 [00:27<00:00, 14.28batch/s]\n"
          ]
        },
        {
          "output_type": "stream",
          "name": "stdout",
          "text": [
            "LR: 1.0000e-01, Train Loss: 2.2571, Train Acc: 0.1431, Train Latency: 27.38s, Memory Usage: 295.40MB\n",
            "Test Loss: 2.2271, Test Acc: 0.1623, Test Latency: 3.17s, Test Memory Usage: 77.86MB\n",
            "\n",
            "Epoch 42\n"
          ]
        },
        {
          "output_type": "stream",
          "name": "stderr",
          "text": [
            "Train: 100%|##########| 391/391 [00:27<00:00, 14.25batch/s]\n"
          ]
        },
        {
          "output_type": "stream",
          "name": "stdout",
          "text": [
            "LR: 1.0000e-01, Train Loss: 2.2357, Train Acc: 0.1586, Train Latency: 27.44s, Memory Usage: 295.40MB\n",
            "Test Loss: 2.2365, Test Acc: 0.1710, Test Latency: 3.19s, Test Memory Usage: 77.86MB\n",
            "\n",
            "Epoch 43\n"
          ]
        },
        {
          "output_type": "stream",
          "name": "stderr",
          "text": [
            "Train: 100%|##########| 391/391 [00:27<00:00, 14.26batch/s]\n"
          ]
        },
        {
          "output_type": "stream",
          "name": "stdout",
          "text": [
            "LR: 1.0000e-01, Train Loss: 2.2359, Train Acc: 0.1617, Train Latency: 27.43s, Memory Usage: 295.40MB\n",
            "Test Loss: 2.2895, Test Acc: 0.1632, Test Latency: 3.20s, Test Memory Usage: 77.86MB\n",
            "\n",
            "Epoch 44\n"
          ]
        },
        {
          "output_type": "stream",
          "name": "stderr",
          "text": [
            "Train: 100%|##########| 391/391 [00:27<00:00, 14.37batch/s]\n"
          ]
        },
        {
          "output_type": "stream",
          "name": "stdout",
          "text": [
            "LR: 1.0000e-01, Train Loss: 2.2177, Train Acc: 0.1717, Train Latency: 27.22s, Memory Usage: 295.40MB\n",
            "Test Loss: 2.1991, Test Acc: 0.1779, Test Latency: 3.20s, Test Memory Usage: 77.86MB\n",
            "\n",
            "Epoch 45\n"
          ]
        },
        {
          "output_type": "stream",
          "name": "stderr",
          "text": [
            "Train: 100%|##########| 391/391 [00:27<00:00, 14.28batch/s]\n"
          ]
        },
        {
          "output_type": "stream",
          "name": "stdout",
          "text": [
            "LR: 1.0000e-01, Train Loss: 2.2036, Train Acc: 0.1735, Train Latency: 27.38s, Memory Usage: 295.40MB\n",
            "Test Loss: 2.1211, Test Acc: 0.2055, Test Latency: 3.17s, Test Memory Usage: 77.86MB\n",
            "\n",
            "Epoch 46\n"
          ]
        },
        {
          "output_type": "stream",
          "name": "stderr",
          "text": [
            "Train: 100%|##########| 391/391 [00:27<00:00, 14.20batch/s]\n"
          ]
        },
        {
          "output_type": "stream",
          "name": "stdout",
          "text": [
            "LR: 1.0000e-01, Train Loss: 2.1771, Train Acc: 0.1780, Train Latency: 27.53s, Memory Usage: 295.40MB\n",
            "Test Loss: 2.1275, Test Acc: 0.1742, Test Latency: 3.22s, Test Memory Usage: 77.86MB\n",
            "\n",
            "Epoch 47\n"
          ]
        },
        {
          "output_type": "stream",
          "name": "stderr",
          "text": [
            "Train: 100%|##########| 391/391 [00:27<00:00, 14.31batch/s]\n"
          ]
        },
        {
          "output_type": "stream",
          "name": "stdout",
          "text": [
            "LR: 1.0000e-01, Train Loss: 2.1332, Train Acc: 0.1922, Train Latency: 27.33s, Memory Usage: 295.40MB\n",
            "Test Loss: 2.2690, Test Acc: 0.1753, Test Latency: 3.17s, Test Memory Usage: 77.86MB\n",
            "\n",
            "Epoch 48\n"
          ]
        },
        {
          "output_type": "stream",
          "name": "stderr",
          "text": [
            "Train: 100%|##########| 391/391 [00:27<00:00, 14.31batch/s]\n"
          ]
        },
        {
          "output_type": "stream",
          "name": "stdout",
          "text": [
            "LR: 1.0000e-01, Train Loss: 2.0840, Train Acc: 0.2098, Train Latency: 27.33s, Memory Usage: 295.40MB\n",
            "Test Loss: 2.1066, Test Acc: 0.1794, Test Latency: 3.20s, Test Memory Usage: 77.86MB\n",
            "\n",
            "Epoch 49\n"
          ]
        },
        {
          "output_type": "stream",
          "name": "stderr",
          "text": [
            "Train: 100%|##########| 391/391 [00:27<00:00, 14.34batch/s]\n"
          ]
        },
        {
          "output_type": "stream",
          "name": "stdout",
          "text": [
            "LR: 1.0000e-01, Train Loss: 2.2196, Train Acc: 0.1569, Train Latency: 27.27s, Memory Usage: 295.40MB\n",
            "Test Loss: 2.3436, Test Acc: 0.1376, Test Latency: 3.17s, Test Memory Usage: 77.86MB\n",
            "\n",
            "Epoch 50\n"
          ]
        },
        {
          "output_type": "stream",
          "name": "stderr",
          "text": [
            "Train: 100%|##########| 391/391 [00:27<00:00, 14.30batch/s]\n"
          ]
        },
        {
          "output_type": "stream",
          "name": "stdout",
          "text": [
            "LR: 1.0000e-01, Train Loss: 2.2410, Train Acc: 0.1583, Train Latency: 27.35s, Memory Usage: 295.40MB\n",
            "Test Loss: 2.1836, Test Acc: 0.1760, Test Latency: 3.17s, Test Memory Usage: 77.86MB\n",
            "\n",
            "Epoch 51\n"
          ]
        },
        {
          "output_type": "stream",
          "name": "stderr",
          "text": [
            "Train: 100%|##########| 391/391 [00:27<00:00, 14.28batch/s]\n"
          ]
        },
        {
          "output_type": "stream",
          "name": "stdout",
          "text": [
            "LR: 1.0000e-02, Train Loss: 2.1982, Train Acc: 0.1728, Train Latency: 27.39s, Memory Usage: 295.40MB\n",
            "Test Loss: 2.2758, Test Acc: 0.1282, Test Latency: 3.18s, Test Memory Usage: 77.86MB\n",
            "Saving best model ...\n",
            "\n",
            "Epoch 52\n"
          ]
        },
        {
          "output_type": "stream",
          "name": "stderr",
          "text": [
            "Train: 100%|##########| 391/391 [00:27<00:00, 14.30batch/s]\n"
          ]
        },
        {
          "output_type": "stream",
          "name": "stdout",
          "text": [
            "LR: 1.0000e-02, Train Loss: 2.1967, Train Acc: 0.1773, Train Latency: 27.34s, Memory Usage: 295.40MB\n",
            "Test Loss: 2.1746, Test Acc: 0.2014, Test Latency: 3.18s, Test Memory Usage: 77.86MB\n",
            "Saving best model ...\n",
            "\n",
            "Epoch 53\n"
          ]
        },
        {
          "output_type": "stream",
          "name": "stderr",
          "text": [
            "Train: 100%|##########| 391/391 [00:27<00:00, 14.33batch/s]\n"
          ]
        },
        {
          "output_type": "stream",
          "name": "stdout",
          "text": [
            "LR: 1.0000e-02, Train Loss: 2.1923, Train Acc: 0.1794, Train Latency: 27.28s, Memory Usage: 295.40MB\n",
            "Test Loss: 2.2090, Test Acc: 0.1694, Test Latency: 3.15s, Test Memory Usage: 77.86MB\n",
            "\n",
            "Epoch 54\n"
          ]
        },
        {
          "output_type": "stream",
          "name": "stderr",
          "text": [
            "Train: 100%|##########| 391/391 [00:27<00:00, 14.42batch/s]\n"
          ]
        },
        {
          "output_type": "stream",
          "name": "stdout",
          "text": [
            "LR: 1.0000e-02, Train Loss: 2.1679, Train Acc: 0.1930, Train Latency: 27.13s, Memory Usage: 295.40MB\n",
            "Test Loss: 2.1660, Test Acc: 0.1889, Test Latency: 3.13s, Test Memory Usage: 77.86MB\n",
            "\n",
            "Epoch 55\n"
          ]
        },
        {
          "output_type": "stream",
          "name": "stderr",
          "text": [
            "Train: 100%|##########| 391/391 [00:27<00:00, 14.41batch/s]\n"
          ]
        },
        {
          "output_type": "stream",
          "name": "stdout",
          "text": [
            "LR: 1.0000e-02, Train Loss: 2.1495, Train Acc: 0.1982, Train Latency: 27.14s, Memory Usage: 295.40MB\n",
            "Test Loss: 2.3076, Test Acc: 0.1669, Test Latency: 3.13s, Test Memory Usage: 77.86MB\n",
            "\n",
            "Epoch 56\n"
          ]
        },
        {
          "output_type": "stream",
          "name": "stderr",
          "text": [
            "Train: 100%|##########| 391/391 [00:26<00:00, 14.51batch/s]\n"
          ]
        },
        {
          "output_type": "stream",
          "name": "stdout",
          "text": [
            "LR: 1.0000e-02, Train Loss: 2.1999, Train Acc: 0.1765, Train Latency: 26.95s, Memory Usage: 295.40MB\n",
            "Test Loss: 2.6509, Test Acc: 0.1165, Test Latency: 3.13s, Test Memory Usage: 77.86MB\n",
            "\n",
            "Epoch 57\n"
          ]
        },
        {
          "output_type": "stream",
          "name": "stderr",
          "text": [
            "Train: 100%|##########| 391/391 [00:26<00:00, 14.49batch/s]\n"
          ]
        },
        {
          "output_type": "stream",
          "name": "stdout",
          "text": [
            "LR: 1.0000e-02, Train Loss: 2.1679, Train Acc: 0.1967, Train Latency: 27.00s, Memory Usage: 295.40MB\n",
            "Test Loss: 2.1794, Test Acc: 0.2121, Test Latency: 3.14s, Test Memory Usage: 77.86MB\n",
            "Saving best model ...\n",
            "\n",
            "Epoch 58\n"
          ]
        },
        {
          "output_type": "stream",
          "name": "stderr",
          "text": [
            "Train: 100%|##########| 391/391 [00:26<00:00, 14.56batch/s]\n"
          ]
        },
        {
          "output_type": "stream",
          "name": "stdout",
          "text": [
            "LR: 1.0000e-02, Train Loss: 2.1161, Train Acc: 0.2140, Train Latency: 26.86s, Memory Usage: 295.40MB\n",
            "Test Loss: 2.1963, Test Acc: 0.1930, Test Latency: 3.11s, Test Memory Usage: 77.86MB\n",
            "\n",
            "Epoch 59\n"
          ]
        },
        {
          "output_type": "stream",
          "name": "stderr",
          "text": [
            "Train: 100%|##########| 391/391 [00:26<00:00, 14.50batch/s]\n"
          ]
        },
        {
          "output_type": "stream",
          "name": "stdout",
          "text": [
            "LR: 1.0000e-02, Train Loss: 2.1253, Train Acc: 0.2063, Train Latency: 26.97s, Memory Usage: 295.40MB\n",
            "Test Loss: 2.1146, Test Acc: 0.2083, Test Latency: 3.17s, Test Memory Usage: 77.86MB\n",
            "\n",
            "Epoch 60\n"
          ]
        },
        {
          "output_type": "stream",
          "name": "stderr",
          "text": [
            "Train: 100%|##########| 391/391 [00:26<00:00, 14.58batch/s]\n"
          ]
        },
        {
          "output_type": "stream",
          "name": "stdout",
          "text": [
            "LR: 1.0000e-02, Train Loss: 2.1100, Train Acc: 0.2119, Train Latency: 26.81s, Memory Usage: 295.40MB\n",
            "Test Loss: 2.1288, Test Acc: 0.2173, Test Latency: 3.13s, Test Memory Usage: 77.86MB\n",
            "Saving best model ...\n",
            "\n",
            "Epoch 61\n"
          ]
        },
        {
          "output_type": "stream",
          "name": "stderr",
          "text": [
            "Train: 100%|##########| 391/391 [00:26<00:00, 14.57batch/s]\n"
          ]
        },
        {
          "output_type": "stream",
          "name": "stdout",
          "text": [
            "LR: 1.0000e-02, Train Loss: 2.1166, Train Acc: 0.2089, Train Latency: 26.83s, Memory Usage: 295.40MB\n",
            "Test Loss: 2.1068, Test Acc: 0.2210, Test Latency: 3.13s, Test Memory Usage: 77.86MB\n",
            "Saving best model ...\n",
            "\n",
            "Epoch 62\n"
          ]
        },
        {
          "output_type": "stream",
          "name": "stderr",
          "text": [
            "Train: 100%|##########| 391/391 [00:26<00:00, 14.60batch/s]\n"
          ]
        },
        {
          "output_type": "stream",
          "name": "stdout",
          "text": [
            "LR: 1.0000e-02, Train Loss: 2.0873, Train Acc: 0.2123, Train Latency: 26.79s, Memory Usage: 295.40MB\n",
            "Test Loss: 2.1032, Test Acc: 0.2119, Test Latency: 3.10s, Test Memory Usage: 77.86MB\n",
            "\n",
            "Epoch 63\n"
          ]
        },
        {
          "output_type": "stream",
          "name": "stderr",
          "text": [
            "Train: 100%|##########| 391/391 [00:27<00:00, 14.46batch/s]\n"
          ]
        },
        {
          "output_type": "stream",
          "name": "stdout",
          "text": [
            "LR: 1.0000e-02, Train Loss: 2.0918, Train Acc: 0.2097, Train Latency: 27.05s, Memory Usage: 295.40MB\n",
            "Test Loss: 2.3031, Test Acc: 0.1320, Test Latency: 3.15s, Test Memory Usage: 77.86MB\n",
            "\n",
            "Epoch 64\n"
          ]
        },
        {
          "output_type": "stream",
          "name": "stderr",
          "text": [
            "Train: 100%|##########| 391/391 [00:26<00:00, 14.51batch/s]\n"
          ]
        },
        {
          "output_type": "stream",
          "name": "stdout",
          "text": [
            "LR: 1.0000e-02, Train Loss: 2.1283, Train Acc: 0.1974, Train Latency: 26.96s, Memory Usage: 295.40MB\n",
            "Test Loss: 2.3540, Test Acc: 0.1757, Test Latency: 3.13s, Test Memory Usage: 77.86MB\n",
            "\n",
            "Epoch 65\n"
          ]
        },
        {
          "output_type": "stream",
          "name": "stderr",
          "text": [
            "Train: 100%|##########| 391/391 [00:26<00:00, 14.50batch/s]\n"
          ]
        },
        {
          "output_type": "stream",
          "name": "stdout",
          "text": [
            "LR: 1.0000e-02, Train Loss: 2.0876, Train Acc: 0.2152, Train Latency: 26.97s, Memory Usage: 295.40MB\n",
            "Test Loss: 2.0605, Test Acc: 0.2186, Test Latency: 3.17s, Test Memory Usage: 77.86MB\n",
            "\n",
            "Epoch 66\n"
          ]
        },
        {
          "output_type": "stream",
          "name": "stderr",
          "text": [
            "Train: 100%|##########| 391/391 [00:26<00:00, 14.55batch/s]\n"
          ]
        },
        {
          "output_type": "stream",
          "name": "stdout",
          "text": [
            "LR: 1.0000e-02, Train Loss: 2.0659, Train Acc: 0.2228, Train Latency: 26.87s, Memory Usage: 295.40MB\n",
            "Test Loss: 2.1577, Test Acc: 0.1986, Test Latency: 3.15s, Test Memory Usage: 77.86MB\n",
            "\n",
            "Epoch 67\n"
          ]
        },
        {
          "output_type": "stream",
          "name": "stderr",
          "text": [
            "Train: 100%|##########| 391/391 [00:27<00:00, 14.48batch/s]\n"
          ]
        },
        {
          "output_type": "stream",
          "name": "stdout",
          "text": [
            "LR: 1.0000e-02, Train Loss: 2.0566, Train Acc: 0.2240, Train Latency: 27.01s, Memory Usage: 295.40MB\n",
            "Test Loss: 2.0371, Test Acc: 0.2171, Test Latency: 3.13s, Test Memory Usage: 77.86MB\n",
            "\n",
            "Epoch 68\n"
          ]
        },
        {
          "output_type": "stream",
          "name": "stderr",
          "text": [
            "Train: 100%|##########| 391/391 [00:27<00:00, 14.47batch/s]\n"
          ]
        },
        {
          "output_type": "stream",
          "name": "stdout",
          "text": [
            "LR: 1.0000e-02, Train Loss: 2.0505, Train Acc: 0.2293, Train Latency: 27.02s, Memory Usage: 295.40MB\n",
            "Test Loss: 2.0323, Test Acc: 0.2389, Test Latency: 3.14s, Test Memory Usage: 77.86MB\n",
            "Saving best model ...\n",
            "\n",
            "Epoch 69\n"
          ]
        },
        {
          "output_type": "stream",
          "name": "stderr",
          "text": [
            "Train: 100%|##########| 391/391 [00:26<00:00, 14.55batch/s]\n"
          ]
        },
        {
          "output_type": "stream",
          "name": "stdout",
          "text": [
            "LR: 1.0000e-02, Train Loss: 2.0570, Train Acc: 0.2253, Train Latency: 26.88s, Memory Usage: 295.40MB\n",
            "Test Loss: 2.0496, Test Acc: 0.2242, Test Latency: 3.13s, Test Memory Usage: 77.86MB\n",
            "\n",
            "Epoch 70\n"
          ]
        },
        {
          "output_type": "stream",
          "name": "stderr",
          "text": [
            "Train: 100%|##########| 391/391 [00:26<00:00, 14.56batch/s]\n"
          ]
        },
        {
          "output_type": "stream",
          "name": "stdout",
          "text": [
            "LR: 1.0000e-02, Train Loss: 2.0680, Train Acc: 0.2260, Train Latency: 26.86s, Memory Usage: 295.40MB\n",
            "Test Loss: 2.0741, Test Acc: 0.2086, Test Latency: 3.12s, Test Memory Usage: 77.86MB\n",
            "\n",
            "Epoch 71\n"
          ]
        },
        {
          "output_type": "stream",
          "name": "stderr",
          "text": [
            "Train: 100%|##########| 391/391 [00:26<00:00, 14.56batch/s]\n"
          ]
        },
        {
          "output_type": "stream",
          "name": "stdout",
          "text": [
            "LR: 1.0000e-02, Train Loss: 2.0885, Train Acc: 0.2094, Train Latency: 26.85s, Memory Usage: 295.40MB\n",
            "Test Loss: 2.1055, Test Acc: 0.2005, Test Latency: 3.13s, Test Memory Usage: 77.86MB\n",
            "\n",
            "Epoch 72\n"
          ]
        },
        {
          "output_type": "stream",
          "name": "stderr",
          "text": [
            "Train: 100%|##########| 391/391 [00:27<00:00, 14.46batch/s]\n"
          ]
        },
        {
          "output_type": "stream",
          "name": "stdout",
          "text": [
            "LR: 1.0000e-02, Train Loss: 2.0864, Train Acc: 0.2083, Train Latency: 27.04s, Memory Usage: 295.40MB\n",
            "Test Loss: 2.1641, Test Acc: 0.1916, Test Latency: 3.16s, Test Memory Usage: 77.86MB\n",
            "\n",
            "Epoch 73\n"
          ]
        },
        {
          "output_type": "stream",
          "name": "stderr",
          "text": [
            "Train: 100%|##########| 391/391 [00:27<00:00, 14.43batch/s]\n"
          ]
        },
        {
          "output_type": "stream",
          "name": "stdout",
          "text": [
            "LR: 1.0000e-02, Train Loss: 2.0795, Train Acc: 0.2132, Train Latency: 27.10s, Memory Usage: 295.40MB\n",
            "Test Loss: 2.1076, Test Acc: 0.1930, Test Latency: 3.20s, Test Memory Usage: 77.86MB\n",
            "\n",
            "Epoch 74\n"
          ]
        },
        {
          "output_type": "stream",
          "name": "stderr",
          "text": [
            "Train: 100%|##########| 391/391 [00:27<00:00, 14.37batch/s]\n"
          ]
        },
        {
          "output_type": "stream",
          "name": "stdout",
          "text": [
            "LR: 1.0000e-02, Train Loss: 2.0762, Train Acc: 0.2150, Train Latency: 27.21s, Memory Usage: 295.40MB\n",
            "Test Loss: 2.0458, Test Acc: 0.2244, Test Latency: 3.14s, Test Memory Usage: 77.86MB\n",
            "\n",
            "Epoch 75\n"
          ]
        },
        {
          "output_type": "stream",
          "name": "stderr",
          "text": [
            "Train: 100%|##########| 391/391 [00:27<00:00, 14.32batch/s]\n"
          ]
        },
        {
          "output_type": "stream",
          "name": "stdout",
          "text": [
            "LR: 1.0000e-02, Train Loss: 2.1049, Train Acc: 0.2087, Train Latency: 27.31s, Memory Usage: 295.40MB\n",
            "Test Loss: 2.2276, Test Acc: 0.1745, Test Latency: 3.17s, Test Memory Usage: 77.86MB\n",
            "\n",
            "Epoch 76\n"
          ]
        },
        {
          "output_type": "stream",
          "name": "stderr",
          "text": [
            "Train: 100%|##########| 391/391 [00:27<00:00, 14.25batch/s]\n"
          ]
        },
        {
          "output_type": "stream",
          "name": "stdout",
          "text": [
            "LR: 1.0000e-02, Train Loss: 2.1307, Train Acc: 0.2067, Train Latency: 27.45s, Memory Usage: 295.40MB\n",
            "Test Loss: 2.1243, Test Acc: 0.2064, Test Latency: 3.19s, Test Memory Usage: 77.86MB\n",
            "\n",
            "Epoch 77\n"
          ]
        },
        {
          "output_type": "stream",
          "name": "stderr",
          "text": [
            "Train: 100%|##########| 391/391 [00:27<00:00, 14.40batch/s]\n"
          ]
        },
        {
          "output_type": "stream",
          "name": "stdout",
          "text": [
            "LR: 1.0000e-02, Train Loss: 2.0962, Train Acc: 0.2139, Train Latency: 27.16s, Memory Usage: 295.40MB\n",
            "Test Loss: 2.2014, Test Acc: 0.1847, Test Latency: 3.13s, Test Memory Usage: 77.86MB\n",
            "\n",
            "Epoch 78\n"
          ]
        },
        {
          "output_type": "stream",
          "name": "stderr",
          "text": [
            "Train: 100%|##########| 391/391 [00:27<00:00, 14.39batch/s]\n"
          ]
        },
        {
          "output_type": "stream",
          "name": "stdout",
          "text": [
            "LR: 1.0000e-02, Train Loss: 2.1497, Train Acc: 0.1974, Train Latency: 27.17s, Memory Usage: 295.40MB\n",
            "Test Loss: 2.1582, Test Acc: 0.1893, Test Latency: 3.14s, Test Memory Usage: 77.86MB\n",
            "\n",
            "Epoch 79\n"
          ]
        },
        {
          "output_type": "stream",
          "name": "stderr",
          "text": [
            "Train: 100%|##########| 391/391 [00:27<00:00, 14.41batch/s]\n"
          ]
        },
        {
          "output_type": "stream",
          "name": "stdout",
          "text": [
            "LR: 1.0000e-02, Train Loss: 2.1209, Train Acc: 0.2030, Train Latency: 27.13s, Memory Usage: 295.40MB\n",
            "Test Loss: 2.7493, Test Acc: 0.1374, Test Latency: 3.16s, Test Memory Usage: 77.86MB\n",
            "\n",
            "Epoch 80\n"
          ]
        },
        {
          "output_type": "stream",
          "name": "stderr",
          "text": [
            "Train: 100%|##########| 391/391 [00:27<00:00, 14.38batch/s]\n"
          ]
        },
        {
          "output_type": "stream",
          "name": "stdout",
          "text": [
            "LR: 1.0000e-02, Train Loss: 2.2172, Train Acc: 0.1700, Train Latency: 27.19s, Memory Usage: 295.40MB\n",
            "Test Loss: 2.1830, Test Acc: 0.1888, Test Latency: 3.21s, Test Memory Usage: 77.86MB\n",
            "\n",
            "Epoch 81\n"
          ]
        },
        {
          "output_type": "stream",
          "name": "stderr",
          "text": [
            "Train: 100%|##########| 391/391 [00:27<00:00, 14.43batch/s]\n"
          ]
        },
        {
          "output_type": "stream",
          "name": "stdout",
          "text": [
            "LR: 1.0000e-02, Train Loss: 2.2069, Train Acc: 0.1723, Train Latency: 27.10s, Memory Usage: 295.40MB\n",
            "Test Loss: 2.1858, Test Acc: 0.1866, Test Latency: 3.13s, Test Memory Usage: 77.86MB\n",
            "\n",
            "Epoch 82\n"
          ]
        },
        {
          "output_type": "stream",
          "name": "stderr",
          "text": [
            "Train: 100%|##########| 391/391 [00:27<00:00, 14.46batch/s]\n"
          ]
        },
        {
          "output_type": "stream",
          "name": "stdout",
          "text": [
            "LR: 1.0000e-02, Train Loss: 2.2042, Train Acc: 0.1703, Train Latency: 27.04s, Memory Usage: 295.40MB\n",
            "Test Loss: 2.2189, Test Acc: 0.1870, Test Latency: 3.16s, Test Memory Usage: 77.86MB\n",
            "\n",
            "Epoch 83\n"
          ]
        },
        {
          "output_type": "stream",
          "name": "stderr",
          "text": [
            "Train: 100%|##########| 391/391 [00:26<00:00, 14.50batch/s]\n"
          ]
        },
        {
          "output_type": "stream",
          "name": "stdout",
          "text": [
            "LR: 1.0000e-02, Train Loss: 2.2173, Train Acc: 0.1724, Train Latency: 26.96s, Memory Usage: 295.40MB\n",
            "Test Loss: 2.1724, Test Acc: 0.1768, Test Latency: 3.13s, Test Memory Usage: 77.86MB\n",
            "\n",
            "Epoch 84\n"
          ]
        },
        {
          "output_type": "stream",
          "name": "stderr",
          "text": [
            "Train: 100%|##########| 391/391 [00:26<00:00, 14.51batch/s]\n"
          ]
        },
        {
          "output_type": "stream",
          "name": "stdout",
          "text": [
            "LR: 1.0000e-02, Train Loss: 2.2020, Train Acc: 0.1747, Train Latency: 26.94s, Memory Usage: 295.40MB\n",
            "Test Loss: 2.1659, Test Acc: 0.1761, Test Latency: 3.13s, Test Memory Usage: 77.86MB\n",
            "\n",
            "Epoch 85\n"
          ]
        },
        {
          "output_type": "stream",
          "name": "stderr",
          "text": [
            "Train: 100%|##########| 391/391 [00:26<00:00, 14.48batch/s]\n"
          ]
        },
        {
          "output_type": "stream",
          "name": "stdout",
          "text": [
            "LR: 1.0000e-02, Train Loss: 2.2379, Train Acc: 0.1608, Train Latency: 27.00s, Memory Usage: 295.40MB\n",
            "Test Loss: 2.2135, Test Acc: 0.1725, Test Latency: 3.15s, Test Memory Usage: 77.86MB\n",
            "\n",
            "Epoch 86\n"
          ]
        },
        {
          "output_type": "stream",
          "name": "stderr",
          "text": [
            "Train: 100%|##########| 391/391 [00:26<00:00, 14.52batch/s]\n"
          ]
        },
        {
          "output_type": "stream",
          "name": "stdout",
          "text": [
            "LR: 1.0000e-02, Train Loss: 2.1874, Train Acc: 0.1780, Train Latency: 26.93s, Memory Usage: 295.40MB\n",
            "Test Loss: 2.2206, Test Acc: 0.1610, Test Latency: 3.12s, Test Memory Usage: 77.86MB\n",
            "\n",
            "Epoch 87\n"
          ]
        },
        {
          "output_type": "stream",
          "name": "stderr",
          "text": [
            "Train: 100%|##########| 391/391 [00:26<00:00, 14.51batch/s]\n"
          ]
        },
        {
          "output_type": "stream",
          "name": "stdout",
          "text": [
            "LR: 1.0000e-02, Train Loss: 2.1881, Train Acc: 0.1729, Train Latency: 26.95s, Memory Usage: 295.40MB\n",
            "Test Loss: 2.1752, Test Acc: 0.1708, Test Latency: 3.13s, Test Memory Usage: 77.86MB\n",
            "\n",
            "Epoch 88\n"
          ]
        },
        {
          "output_type": "stream",
          "name": "stderr",
          "text": [
            "Train: 100%|##########| 391/391 [00:26<00:00, 14.51batch/s]\n"
          ]
        },
        {
          "output_type": "stream",
          "name": "stdout",
          "text": [
            "LR: 1.0000e-02, Train Loss: 2.1847, Train Acc: 0.1774, Train Latency: 26.94s, Memory Usage: 295.40MB\n",
            "Test Loss: 2.1456, Test Acc: 0.1817, Test Latency: 3.13s, Test Memory Usage: 77.86MB\n",
            "\n",
            "Epoch 89\n"
          ]
        },
        {
          "output_type": "stream",
          "name": "stderr",
          "text": [
            "Train: 100%|##########| 391/391 [00:26<00:00, 14.54batch/s]\n"
          ]
        },
        {
          "output_type": "stream",
          "name": "stdout",
          "text": [
            "LR: 1.0000e-02, Train Loss: 2.1849, Train Acc: 0.1766, Train Latency: 26.89s, Memory Usage: 295.40MB\n",
            "Test Loss: 2.3208, Test Acc: 0.1634, Test Latency: 3.12s, Test Memory Usage: 77.86MB\n",
            "\n",
            "Epoch 90\n"
          ]
        },
        {
          "output_type": "stream",
          "name": "stderr",
          "text": [
            "Train: 100%|##########| 391/391 [00:26<00:00, 14.63batch/s]\n"
          ]
        },
        {
          "output_type": "stream",
          "name": "stdout",
          "text": [
            "LR: 1.0000e-02, Train Loss: 2.1771, Train Acc: 0.1819, Train Latency: 26.72s, Memory Usage: 295.40MB\n",
            "Test Loss: 2.1523, Test Acc: 0.1880, Test Latency: 3.15s, Test Memory Usage: 77.86MB\n",
            "\n",
            "Epoch 91\n"
          ]
        },
        {
          "output_type": "stream",
          "name": "stderr",
          "text": [
            "Train: 100%|##########| 391/391 [00:27<00:00, 14.47batch/s]\n"
          ]
        },
        {
          "output_type": "stream",
          "name": "stdout",
          "text": [
            "LR: 1.0000e-02, Train Loss: 2.1973, Train Acc: 0.1751, Train Latency: 27.02s, Memory Usage: 295.40MB\n",
            "Test Loss: 2.3200, Test Acc: 0.1553, Test Latency: 3.17s, Test Memory Usage: 77.86MB\n",
            "\n",
            "Epoch 92\n"
          ]
        },
        {
          "output_type": "stream",
          "name": "stderr",
          "text": [
            "Train: 100%|##########| 391/391 [00:26<00:00, 14.51batch/s]\n"
          ]
        },
        {
          "output_type": "stream",
          "name": "stdout",
          "text": [
            "LR: 1.0000e-02, Train Loss: 2.2131, Train Acc: 0.1680, Train Latency: 26.96s, Memory Usage: 295.40MB\n",
            "Test Loss: 2.1831, Test Acc: 0.1762, Test Latency: 3.13s, Test Memory Usage: 77.86MB\n",
            "\n",
            "Epoch 93\n"
          ]
        },
        {
          "output_type": "stream",
          "name": "stderr",
          "text": [
            "Train: 100%|##########| 391/391 [00:26<00:00, 14.54batch/s]\n"
          ]
        },
        {
          "output_type": "stream",
          "name": "stdout",
          "text": [
            "LR: 1.0000e-02, Train Loss: 2.2743, Train Acc: 0.1473, Train Latency: 26.90s, Memory Usage: 295.40MB\n",
            "Test Loss: 3.0731, Test Acc: 0.1251, Test Latency: 3.14s, Test Memory Usage: 77.86MB\n",
            "\n",
            "Epoch 94\n"
          ]
        },
        {
          "output_type": "stream",
          "name": "stderr",
          "text": [
            "Train: 100%|##########| 391/391 [00:26<00:00, 14.51batch/s]\n"
          ]
        },
        {
          "output_type": "stream",
          "name": "stdout",
          "text": [
            "LR: 1.0000e-02, Train Loss: 2.2629, Train Acc: 0.1538, Train Latency: 26.95s, Memory Usage: 295.40MB\n",
            "Test Loss: 2.2483, Test Acc: 0.1640, Test Latency: 3.11s, Test Memory Usage: 77.86MB\n",
            "\n",
            "Epoch 95\n"
          ]
        },
        {
          "output_type": "stream",
          "name": "stderr",
          "text": [
            "Train: 100%|##########| 391/391 [00:26<00:00, 14.53batch/s]\n"
          ]
        },
        {
          "output_type": "stream",
          "name": "stdout",
          "text": [
            "LR: 1.0000e-02, Train Loss: 2.2739, Train Acc: 0.1481, Train Latency: 26.92s, Memory Usage: 295.40MB\n",
            "Test Loss: 2.2851, Test Acc: 0.1513, Test Latency: 3.15s, Test Memory Usage: 77.86MB\n",
            "\n",
            "Epoch 96\n"
          ]
        },
        {
          "output_type": "stream",
          "name": "stderr",
          "text": [
            "Train: 100%|##########| 391/391 [00:26<00:00, 14.55batch/s]\n"
          ]
        },
        {
          "output_type": "stream",
          "name": "stdout",
          "text": [
            "LR: 1.0000e-02, Train Loss: 2.2607, Train Acc: 0.1495, Train Latency: 26.88s, Memory Usage: 295.40MB\n",
            "Test Loss: 2.2579, Test Acc: 0.1499, Test Latency: 3.13s, Test Memory Usage: 77.86MB\n",
            "\n",
            "Epoch 97\n"
          ]
        },
        {
          "output_type": "stream",
          "name": "stderr",
          "text": [
            "Train: 100%|##########| 391/391 [00:27<00:00, 14.41batch/s]\n"
          ]
        },
        {
          "output_type": "stream",
          "name": "stdout",
          "text": [
            "LR: 1.0000e-02, Train Loss: 2.2730, Train Acc: 0.1442, Train Latency: 27.15s, Memory Usage: 295.40MB\n",
            "Test Loss: 2.3134, Test Acc: 0.1540, Test Latency: 3.16s, Test Memory Usage: 77.86MB\n",
            "\n",
            "Epoch 98\n"
          ]
        },
        {
          "output_type": "stream",
          "name": "stderr",
          "text": [
            "Train: 100%|##########| 391/391 [00:27<00:00, 14.43batch/s]\n"
          ]
        },
        {
          "output_type": "stream",
          "name": "stdout",
          "text": [
            "LR: 1.0000e-02, Train Loss: 2.2774, Train Acc: 0.1500, Train Latency: 27.09s, Memory Usage: 295.40MB\n",
            "Test Loss: 2.2712, Test Acc: 0.1334, Test Latency: 3.12s, Test Memory Usage: 77.86MB\n",
            "\n",
            "Epoch 99\n"
          ]
        },
        {
          "output_type": "stream",
          "name": "stderr",
          "text": [
            "Train: 100%|##########| 391/391 [00:26<00:00, 14.59batch/s]\n"
          ]
        },
        {
          "output_type": "stream",
          "name": "stdout",
          "text": [
            "LR: 1.0000e-02, Train Loss: 2.3691, Train Acc: 0.1344, Train Latency: 26.80s, Memory Usage: 295.40MB\n",
            "Test Loss: 2.6197, Test Acc: 0.1161, Test Latency: 3.13s, Test Memory Usage: 77.86MB\n",
            "\n",
            "Epoch 100\n"
          ]
        },
        {
          "output_type": "stream",
          "name": "stderr",
          "text": [
            "Train: 100%|##########| 391/391 [00:26<00:00, 14.54batch/s]\n"
          ]
        },
        {
          "output_type": "stream",
          "name": "stdout",
          "text": [
            "LR: 1.0000e-02, Train Loss: 2.3747, Train Acc: 0.1333, Train Latency: 26.89s, Memory Usage: 295.40MB\n",
            "Test Loss: 2.3505, Test Acc: 0.1544, Test Latency: 3.12s, Test Memory Usage: 77.86MB\n",
            "\n",
            "Epoch 101\n"
          ]
        },
        {
          "output_type": "stream",
          "name": "stderr",
          "text": [
            "Train: 100%|##########| 391/391 [00:26<00:00, 14.63batch/s]\n"
          ]
        },
        {
          "output_type": "stream",
          "name": "stdout",
          "text": [
            "LR: 1.0000e-03, Train Loss: 2.2252, Train Acc: 0.1602, Train Latency: 26.73s, Memory Usage: 295.40MB\n",
            "Test Loss: 2.2151, Test Acc: 0.1630, Test Latency: 3.12s, Test Memory Usage: 77.86MB\n",
            "\n",
            "Epoch 102\n"
          ]
        },
        {
          "output_type": "stream",
          "name": "stderr",
          "text": [
            "Train: 100%|##########| 391/391 [00:26<00:00, 14.49batch/s]\n"
          ]
        },
        {
          "output_type": "stream",
          "name": "stdout",
          "text": [
            "LR: 1.0000e-03, Train Loss: 2.2229, Train Acc: 0.1634, Train Latency: 26.99s, Memory Usage: 295.40MB\n",
            "Test Loss: 2.2351, Test Acc: 0.1746, Test Latency: 3.13s, Test Memory Usage: 77.86MB\n",
            "\n",
            "Epoch 103\n"
          ]
        },
        {
          "output_type": "stream",
          "name": "stderr",
          "text": [
            "Train: 100%|##########| 391/391 [00:27<00:00, 14.48batch/s]\n"
          ]
        },
        {
          "output_type": "stream",
          "name": "stdout",
          "text": [
            "LR: 1.0000e-03, Train Loss: 2.2255, Train Acc: 0.1653, Train Latency: 27.01s, Memory Usage: 295.40MB\n",
            "Test Loss: 2.2639, Test Acc: 0.1575, Test Latency: 3.12s, Test Memory Usage: 77.86MB\n",
            "\n",
            "Epoch 104\n"
          ]
        },
        {
          "output_type": "stream",
          "name": "stderr",
          "text": [
            "Train: 100%|##########| 391/391 [00:27<00:00, 14.43batch/s]\n"
          ]
        },
        {
          "output_type": "stream",
          "name": "stdout",
          "text": [
            "LR: 1.0000e-03, Train Loss: 2.2291, Train Acc: 0.1612, Train Latency: 27.09s, Memory Usage: 295.40MB\n",
            "Test Loss: 2.1974, Test Acc: 0.1859, Test Latency: 3.16s, Test Memory Usage: 77.86MB\n",
            "\n",
            "Epoch 105\n"
          ]
        },
        {
          "output_type": "stream",
          "name": "stderr",
          "text": [
            "Train: 100%|##########| 391/391 [00:27<00:00, 14.43batch/s]\n"
          ]
        },
        {
          "output_type": "stream",
          "name": "stdout",
          "text": [
            "LR: 1.0000e-03, Train Loss: 2.2299, Train Acc: 0.1603, Train Latency: 27.10s, Memory Usage: 295.40MB\n",
            "Test Loss: 2.3810, Test Acc: 0.1527, Test Latency: 3.14s, Test Memory Usage: 77.86MB\n",
            "\n",
            "Epoch 106\n"
          ]
        },
        {
          "output_type": "stream",
          "name": "stderr",
          "text": [
            "Train: 100%|##########| 391/391 [00:26<00:00, 14.49batch/s]\n"
          ]
        },
        {
          "output_type": "stream",
          "name": "stdout",
          "text": [
            "LR: 1.0000e-03, Train Loss: 2.2259, Train Acc: 0.1627, Train Latency: 26.98s, Memory Usage: 295.40MB\n",
            "Test Loss: 2.3559, Test Acc: 0.1788, Test Latency: 3.09s, Test Memory Usage: 77.86MB\n",
            "\n",
            "Epoch 107\n"
          ]
        },
        {
          "output_type": "stream",
          "name": "stderr",
          "text": [
            "Train: 100%|##########| 391/391 [00:27<00:00, 14.33batch/s]\n"
          ]
        },
        {
          "output_type": "stream",
          "name": "stdout",
          "text": [
            "LR: 1.0000e-03, Train Loss: 2.2218, Train Acc: 0.1612, Train Latency: 27.29s, Memory Usage: 295.40MB\n",
            "Test Loss: 2.2246, Test Acc: 0.1590, Test Latency: 3.23s, Test Memory Usage: 77.86MB\n",
            "\n",
            "Epoch 108\n"
          ]
        },
        {
          "output_type": "stream",
          "name": "stderr",
          "text": [
            "Train: 100%|##########| 391/391 [00:27<00:00, 14.32batch/s]\n"
          ]
        },
        {
          "output_type": "stream",
          "name": "stdout",
          "text": [
            "LR: 1.0000e-03, Train Loss: 2.2280, Train Acc: 0.1626, Train Latency: 27.30s, Memory Usage: 295.40MB\n",
            "Test Loss: 2.2114, Test Acc: 0.1752, Test Latency: 3.20s, Test Memory Usage: 77.86MB\n",
            "\n",
            "Epoch 109\n"
          ]
        },
        {
          "output_type": "stream",
          "name": "stderr",
          "text": [
            "Train: 100%|##########| 391/391 [00:27<00:00, 14.42batch/s]\n"
          ]
        },
        {
          "output_type": "stream",
          "name": "stdout",
          "text": [
            "LR: 1.0000e-03, Train Loss: 2.2264, Train Acc: 0.1617, Train Latency: 27.12s, Memory Usage: 295.40MB\n",
            "Test Loss: 2.2464, Test Acc: 0.1424, Test Latency: 3.14s, Test Memory Usage: 77.86MB\n",
            "\n",
            "Epoch 110\n"
          ]
        },
        {
          "output_type": "stream",
          "name": "stderr",
          "text": [
            "Train: 100%|##########| 391/391 [00:27<00:00, 14.44batch/s]\n"
          ]
        },
        {
          "output_type": "stream",
          "name": "stdout",
          "text": [
            "LR: 1.0000e-03, Train Loss: 2.2262, Train Acc: 0.1594, Train Latency: 27.09s, Memory Usage: 295.40MB\n",
            "Test Loss: 2.2324, Test Acc: 0.1669, Test Latency: 3.14s, Test Memory Usage: 77.86MB\n",
            "\n",
            "Epoch 111\n"
          ]
        },
        {
          "output_type": "stream",
          "name": "stderr",
          "text": [
            "Train: 100%|##########| 391/391 [00:27<00:00, 14.36batch/s]\n"
          ]
        },
        {
          "output_type": "stream",
          "name": "stdout",
          "text": [
            "LR: 1.0000e-03, Train Loss: 2.2267, Train Acc: 0.1643, Train Latency: 27.23s, Memory Usage: 295.40MB\n",
            "Test Loss: 2.2295, Test Acc: 0.1605, Test Latency: 3.15s, Test Memory Usage: 77.86MB\n",
            "\n",
            "Epoch 112\n"
          ]
        },
        {
          "output_type": "stream",
          "name": "stderr",
          "text": [
            "Train: 100%|##########| 391/391 [00:27<00:00, 14.46batch/s]\n"
          ]
        },
        {
          "output_type": "stream",
          "name": "stdout",
          "text": [
            "LR: 1.0000e-03, Train Loss: 2.2220, Train Acc: 0.1649, Train Latency: 27.05s, Memory Usage: 295.40MB\n",
            "Test Loss: 2.2410, Test Acc: 0.1633, Test Latency: 3.14s, Test Memory Usage: 77.86MB\n",
            "\n",
            "Epoch 113\n"
          ]
        },
        {
          "output_type": "stream",
          "name": "stderr",
          "text": [
            "Train: 100%|##########| 391/391 [00:26<00:00, 14.49batch/s]\n"
          ]
        },
        {
          "output_type": "stream",
          "name": "stdout",
          "text": [
            "LR: 1.0000e-03, Train Loss: 2.2258, Train Acc: 0.1622, Train Latency: 26.98s, Memory Usage: 295.40MB\n",
            "Test Loss: 2.2919, Test Acc: 0.1603, Test Latency: 3.10s, Test Memory Usage: 77.86MB\n",
            "\n",
            "Epoch 114\n"
          ]
        },
        {
          "output_type": "stream",
          "name": "stderr",
          "text": [
            "Train: 100%|##########| 391/391 [00:26<00:00, 14.51batch/s]\n"
          ]
        },
        {
          "output_type": "stream",
          "name": "stdout",
          "text": [
            "LR: 1.0000e-03, Train Loss: 2.2252, Train Acc: 0.1661, Train Latency: 26.96s, Memory Usage: 295.40MB\n",
            "Test Loss: 2.3665, Test Acc: 0.1419, Test Latency: 3.14s, Test Memory Usage: 77.86MB\n",
            "\n",
            "Epoch 115\n"
          ]
        },
        {
          "output_type": "stream",
          "name": "stderr",
          "text": [
            "Train: 100%|##########| 391/391 [00:26<00:00, 14.55batch/s]\n"
          ]
        },
        {
          "output_type": "stream",
          "name": "stdout",
          "text": [
            "LR: 1.0000e-03, Train Loss: 2.2245, Train Acc: 0.1663, Train Latency: 26.88s, Memory Usage: 295.40MB\n",
            "Test Loss: 2.2239, Test Acc: 0.1588, Test Latency: 3.12s, Test Memory Usage: 77.86MB\n",
            "\n",
            "Epoch 116\n"
          ]
        },
        {
          "output_type": "stream",
          "name": "stderr",
          "text": [
            "Train: 100%|##########| 391/391 [00:26<00:00, 14.48batch/s]\n"
          ]
        },
        {
          "output_type": "stream",
          "name": "stdout",
          "text": [
            "LR: 1.0000e-03, Train Loss: 2.2228, Train Acc: 0.1646, Train Latency: 27.00s, Memory Usage: 295.40MB\n",
            "Test Loss: 2.2623, Test Acc: 0.1667, Test Latency: 3.12s, Test Memory Usage: 77.86MB\n",
            "\n",
            "Epoch 117\n"
          ]
        },
        {
          "output_type": "stream",
          "name": "stderr",
          "text": [
            "Train: 100%|##########| 391/391 [00:26<00:00, 14.56batch/s]\n"
          ]
        },
        {
          "output_type": "stream",
          "name": "stdout",
          "text": [
            "LR: 1.0000e-03, Train Loss: 2.2219, Train Acc: 0.1666, Train Latency: 26.86s, Memory Usage: 295.40MB\n",
            "Test Loss: 2.2209, Test Acc: 0.1660, Test Latency: 3.14s, Test Memory Usage: 77.86MB\n",
            "\n",
            "Epoch 118\n"
          ]
        },
        {
          "output_type": "stream",
          "name": "stderr",
          "text": [
            "Train: 100%|##########| 391/391 [00:26<00:00, 14.56batch/s]\n"
          ]
        },
        {
          "output_type": "stream",
          "name": "stdout",
          "text": [
            "LR: 1.0000e-03, Train Loss: 2.2146, Train Acc: 0.1657, Train Latency: 26.86s, Memory Usage: 295.40MB\n",
            "Test Loss: 2.2668, Test Acc: 0.1608, Test Latency: 3.12s, Test Memory Usage: 77.86MB\n",
            "\n",
            "Epoch 119\n"
          ]
        },
        {
          "output_type": "stream",
          "name": "stderr",
          "text": [
            "Train: 100%|##########| 391/391 [00:26<00:00, 14.56batch/s]\n"
          ]
        },
        {
          "output_type": "stream",
          "name": "stdout",
          "text": [
            "LR: 1.0000e-03, Train Loss: 2.2107, Train Acc: 0.1711, Train Latency: 26.86s, Memory Usage: 295.40MB\n",
            "Test Loss: 2.4730, Test Acc: 0.1463, Test Latency: 3.10s, Test Memory Usage: 77.86MB\n",
            "\n",
            "Epoch 120\n"
          ]
        },
        {
          "output_type": "stream",
          "name": "stderr",
          "text": [
            "Train: 100%|##########| 391/391 [00:26<00:00, 14.62batch/s]\n"
          ]
        },
        {
          "output_type": "stream",
          "name": "stdout",
          "text": [
            "LR: 1.0000e-03, Train Loss: 2.2057, Train Acc: 0.1777, Train Latency: 26.75s, Memory Usage: 295.40MB\n",
            "Test Loss: 2.2116, Test Acc: 0.1708, Test Latency: 3.12s, Test Memory Usage: 77.86MB\n",
            "\n",
            "Epoch 121\n"
          ]
        },
        {
          "output_type": "stream",
          "name": "stderr",
          "text": [
            "Train: 100%|##########| 391/391 [00:27<00:00, 14.48batch/s]\n"
          ]
        },
        {
          "output_type": "stream",
          "name": "stdout",
          "text": [
            "LR: 1.0000e-03, Train Loss: 2.2035, Train Acc: 0.1760, Train Latency: 27.01s, Memory Usage: 295.40MB\n",
            "Test Loss: 2.2114, Test Acc: 0.1813, Test Latency: 3.18s, Test Memory Usage: 77.86MB\n",
            "\n",
            "Epoch 122\n"
          ]
        },
        {
          "output_type": "stream",
          "name": "stderr",
          "text": [
            "Train: 100%|##########| 391/391 [00:26<00:00, 14.54batch/s]\n"
          ]
        },
        {
          "output_type": "stream",
          "name": "stdout",
          "text": [
            "LR: 1.0000e-03, Train Loss: 2.2032, Train Acc: 0.1754, Train Latency: 26.89s, Memory Usage: 295.40MB\n",
            "Test Loss: 2.1977, Test Acc: 0.1908, Test Latency: 3.10s, Test Memory Usage: 77.86MB\n",
            "\n",
            "Epoch 123\n"
          ]
        },
        {
          "output_type": "stream",
          "name": "stderr",
          "text": [
            "Train: 100%|##########| 391/391 [00:26<00:00, 14.55batch/s]\n"
          ]
        },
        {
          "output_type": "stream",
          "name": "stdout",
          "text": [
            "LR: 1.0000e-03, Train Loss: 2.1984, Train Acc: 0.1814, Train Latency: 26.88s, Memory Usage: 295.40MB\n",
            "Test Loss: 2.1936, Test Acc: 0.1780, Test Latency: 3.15s, Test Memory Usage: 77.86MB\n",
            "\n",
            "Epoch 124\n"
          ]
        },
        {
          "output_type": "stream",
          "name": "stderr",
          "text": [
            "Train: 100%|##########| 391/391 [00:26<00:00, 14.63batch/s]\n"
          ]
        },
        {
          "output_type": "stream",
          "name": "stdout",
          "text": [
            "LR: 1.0000e-03, Train Loss: 2.1979, Train Acc: 0.1785, Train Latency: 26.72s, Memory Usage: 295.40MB\n",
            "Test Loss: 2.1973, Test Acc: 0.1930, Test Latency: 3.18s, Test Memory Usage: 77.86MB\n",
            "\n",
            "Epoch 125\n"
          ]
        },
        {
          "output_type": "stream",
          "name": "stderr",
          "text": [
            "Train: 100%|##########| 391/391 [00:26<00:00, 14.55batch/s]\n"
          ]
        },
        {
          "output_type": "stream",
          "name": "stdout",
          "text": [
            "LR: 1.0000e-03, Train Loss: 2.1958, Train Acc: 0.1800, Train Latency: 26.88s, Memory Usage: 295.40MB\n",
            "Test Loss: 2.1893, Test Acc: 0.1919, Test Latency: 3.10s, Test Memory Usage: 77.86MB\n",
            "\n",
            "Epoch 126\n"
          ]
        },
        {
          "output_type": "stream",
          "name": "stderr",
          "text": [
            "Train: 100%|##########| 391/391 [00:26<00:00, 14.56batch/s]\n"
          ]
        },
        {
          "output_type": "stream",
          "name": "stdout",
          "text": [
            "LR: 1.0000e-03, Train Loss: 2.1977, Train Acc: 0.1774, Train Latency: 26.86s, Memory Usage: 295.40MB\n",
            "Test Loss: 2.2656, Test Acc: 0.1525, Test Latency: 3.13s, Test Memory Usage: 77.86MB\n",
            "\n",
            "Epoch 127\n"
          ]
        },
        {
          "output_type": "stream",
          "name": "stderr",
          "text": [
            "Train: 100%|##########| 391/391 [00:26<00:00, 14.53batch/s]\n"
          ]
        },
        {
          "output_type": "stream",
          "name": "stdout",
          "text": [
            "LR: 1.0000e-03, Train Loss: 2.1937, Train Acc: 0.1806, Train Latency: 26.91s, Memory Usage: 295.40MB\n",
            "Test Loss: 2.2726, Test Acc: 0.1583, Test Latency: 3.12s, Test Memory Usage: 77.86MB\n",
            "\n",
            "Epoch 128\n"
          ]
        },
        {
          "output_type": "stream",
          "name": "stderr",
          "text": [
            "Train: 100%|##########| 391/391 [00:26<00:00, 14.53batch/s]\n"
          ]
        },
        {
          "output_type": "stream",
          "name": "stdout",
          "text": [
            "LR: 1.0000e-03, Train Loss: 2.1875, Train Acc: 0.1822, Train Latency: 26.91s, Memory Usage: 295.40MB\n",
            "Test Loss: 2.2794, Test Acc: 0.1501, Test Latency: 3.14s, Test Memory Usage: 77.86MB\n",
            "\n",
            "Epoch 129\n"
          ]
        },
        {
          "output_type": "stream",
          "name": "stderr",
          "text": [
            "Train: 100%|##########| 391/391 [00:26<00:00, 14.53batch/s]\n"
          ]
        },
        {
          "output_type": "stream",
          "name": "stdout",
          "text": [
            "LR: 1.0000e-03, Train Loss: 2.1913, Train Acc: 0.1790, Train Latency: 26.90s, Memory Usage: 295.40MB\n",
            "Test Loss: 2.2048, Test Acc: 0.1871, Test Latency: 3.11s, Test Memory Usage: 77.86MB\n",
            "\n",
            "Epoch 130\n"
          ]
        },
        {
          "output_type": "stream",
          "name": "stderr",
          "text": [
            "Train: 100%|##########| 391/391 [00:26<00:00, 14.53batch/s]\n"
          ]
        },
        {
          "output_type": "stream",
          "name": "stdout",
          "text": [
            "LR: 1.0000e-03, Train Loss: 2.1955, Train Acc: 0.1817, Train Latency: 26.91s, Memory Usage: 295.40MB\n",
            "Test Loss: 2.4011, Test Acc: 0.1667, Test Latency: 3.16s, Test Memory Usage: 77.86MB\n",
            "\n",
            "Epoch 131\n"
          ]
        },
        {
          "output_type": "stream",
          "name": "stderr",
          "text": [
            "Train: 100%|##########| 391/391 [00:26<00:00, 14.51batch/s]\n"
          ]
        },
        {
          "output_type": "stream",
          "name": "stdout",
          "text": [
            "LR: 1.0000e-03, Train Loss: 2.1945, Train Acc: 0.1843, Train Latency: 26.96s, Memory Usage: 295.40MB\n",
            "Test Loss: 2.2211, Test Acc: 0.1686, Test Latency: 3.12s, Test Memory Usage: 77.86MB\n",
            "\n",
            "Epoch 132\n"
          ]
        },
        {
          "output_type": "stream",
          "name": "stderr",
          "text": [
            "Train: 100%|##########| 391/391 [00:26<00:00, 14.49batch/s]\n"
          ]
        },
        {
          "output_type": "stream",
          "name": "stdout",
          "text": [
            "LR: 1.0000e-03, Train Loss: 2.1896, Train Acc: 0.1814, Train Latency: 26.99s, Memory Usage: 295.40MB\n",
            "Test Loss: 2.2105, Test Acc: 0.1873, Test Latency: 3.14s, Test Memory Usage: 77.86MB\n",
            "\n",
            "Epoch 133\n"
          ]
        },
        {
          "output_type": "stream",
          "name": "stderr",
          "text": [
            "Train: 100%|##########| 391/391 [00:27<00:00, 14.47batch/s]\n"
          ]
        },
        {
          "output_type": "stream",
          "name": "stdout",
          "text": [
            "LR: 1.0000e-03, Train Loss: 2.1865, Train Acc: 0.1804, Train Latency: 27.03s, Memory Usage: 295.40MB\n",
            "Test Loss: 2.3794, Test Acc: 0.1680, Test Latency: 3.16s, Test Memory Usage: 77.86MB\n",
            "\n",
            "Epoch 134\n"
          ]
        },
        {
          "output_type": "stream",
          "name": "stderr",
          "text": [
            "Train: 100%|##########| 391/391 [00:26<00:00, 14.49batch/s]\n"
          ]
        },
        {
          "output_type": "stream",
          "name": "stdout",
          "text": [
            "LR: 1.0000e-03, Train Loss: 2.1905, Train Acc: 0.1792, Train Latency: 26.99s, Memory Usage: 295.40MB\n",
            "Test Loss: 2.2781, Test Acc: 0.1914, Test Latency: 3.15s, Test Memory Usage: 77.86MB\n",
            "\n",
            "Epoch 135\n"
          ]
        },
        {
          "output_type": "stream",
          "name": "stderr",
          "text": [
            "Train: 100%|##########| 391/391 [00:26<00:00, 14.49batch/s]\n"
          ]
        },
        {
          "output_type": "stream",
          "name": "stdout",
          "text": [
            "LR: 1.0000e-03, Train Loss: 2.1958, Train Acc: 0.1783, Train Latency: 26.99s, Memory Usage: 295.40MB\n",
            "Test Loss: 2.2196, Test Acc: 0.1672, Test Latency: 3.13s, Test Memory Usage: 77.86MB\n",
            "\n",
            "Epoch 136\n"
          ]
        },
        {
          "output_type": "stream",
          "name": "stderr",
          "text": [
            "Train: 100%|##########| 391/391 [00:27<00:00, 14.44batch/s]\n"
          ]
        },
        {
          "output_type": "stream",
          "name": "stdout",
          "text": [
            "LR: 1.0000e-03, Train Loss: 2.1928, Train Acc: 0.1809, Train Latency: 27.09s, Memory Usage: 295.40MB\n",
            "Test Loss: 2.2965, Test Acc: 0.1686, Test Latency: 3.13s, Test Memory Usage: 77.86MB\n",
            "\n",
            "Epoch 137\n"
          ]
        },
        {
          "output_type": "stream",
          "name": "stderr",
          "text": [
            "Train: 100%|##########| 391/391 [00:26<00:00, 14.50batch/s]\n"
          ]
        },
        {
          "output_type": "stream",
          "name": "stdout",
          "text": [
            "LR: 1.0000e-03, Train Loss: 2.1839, Train Acc: 0.1852, Train Latency: 26.96s, Memory Usage: 295.40MB\n",
            "Test Loss: 2.2335, Test Acc: 0.1835, Test Latency: 3.15s, Test Memory Usage: 77.86MB\n",
            "\n",
            "Epoch 138\n"
          ]
        },
        {
          "output_type": "stream",
          "name": "stderr",
          "text": [
            "Train: 100%|##########| 391/391 [00:26<00:00, 14.50batch/s]\n"
          ]
        },
        {
          "output_type": "stream",
          "name": "stdout",
          "text": [
            "LR: 1.0000e-03, Train Loss: 2.1839, Train Acc: 0.1861, Train Latency: 26.97s, Memory Usage: 295.40MB\n",
            "Test Loss: 2.2439, Test Acc: 0.1723, Test Latency: 3.13s, Test Memory Usage: 77.86MB\n",
            "\n",
            "Epoch 139\n"
          ]
        },
        {
          "output_type": "stream",
          "name": "stderr",
          "text": [
            "Train: 100%|##########| 391/391 [00:27<00:00, 14.30batch/s]\n"
          ]
        },
        {
          "output_type": "stream",
          "name": "stdout",
          "text": [
            "LR: 1.0000e-03, Train Loss: 2.1714, Train Acc: 0.1902, Train Latency: 27.34s, Memory Usage: 295.40MB\n",
            "Test Loss: 2.1660, Test Acc: 0.1941, Test Latency: 3.17s, Test Memory Usage: 77.86MB\n",
            "\n",
            "Epoch 140\n"
          ]
        },
        {
          "output_type": "stream",
          "name": "stderr",
          "text": [
            "Train: 100%|##########| 391/391 [00:27<00:00, 14.37batch/s]\n"
          ]
        },
        {
          "output_type": "stream",
          "name": "stdout",
          "text": [
            "LR: 1.0000e-03, Train Loss: 2.1716, Train Acc: 0.1864, Train Latency: 27.21s, Memory Usage: 295.40MB\n",
            "Test Loss: 2.1679, Test Acc: 0.1891, Test Latency: 3.18s, Test Memory Usage: 77.86MB\n",
            "\n",
            "Epoch 141\n"
          ]
        },
        {
          "output_type": "stream",
          "name": "stderr",
          "text": [
            "Train: 100%|##########| 391/391 [00:27<00:00, 14.33batch/s]\n"
          ]
        },
        {
          "output_type": "stream",
          "name": "stdout",
          "text": [
            "LR: 1.0000e-03, Train Loss: 2.1699, Train Acc: 0.1877, Train Latency: 27.28s, Memory Usage: 295.40MB\n",
            "Test Loss: 2.2077, Test Acc: 0.1843, Test Latency: 3.14s, Test Memory Usage: 77.86MB\n",
            "\n",
            "Epoch 142\n"
          ]
        },
        {
          "output_type": "stream",
          "name": "stderr",
          "text": [
            "Train: 100%|##########| 391/391 [00:27<00:00, 14.39batch/s]\n"
          ]
        },
        {
          "output_type": "stream",
          "name": "stdout",
          "text": [
            "LR: 1.0000e-03, Train Loss: 2.1685, Train Acc: 0.1875, Train Latency: 27.17s, Memory Usage: 295.40MB\n",
            "Test Loss: 2.2102, Test Acc: 0.1787, Test Latency: 3.14s, Test Memory Usage: 77.86MB\n",
            "\n",
            "Epoch 143\n"
          ]
        },
        {
          "output_type": "stream",
          "name": "stderr",
          "text": [
            "Train: 100%|##########| 391/391 [00:27<00:00, 14.45batch/s]\n"
          ]
        },
        {
          "output_type": "stream",
          "name": "stdout",
          "text": [
            "LR: 1.0000e-03, Train Loss: 2.1693, Train Acc: 0.1859, Train Latency: 27.07s, Memory Usage: 295.40MB\n",
            "Test Loss: 2.2594, Test Acc: 0.1732, Test Latency: 3.21s, Test Memory Usage: 77.86MB\n",
            "\n",
            "Epoch 144\n"
          ]
        },
        {
          "output_type": "stream",
          "name": "stderr",
          "text": [
            "Train: 100%|##########| 391/391 [00:27<00:00, 14.32batch/s]\n"
          ]
        },
        {
          "output_type": "stream",
          "name": "stdout",
          "text": [
            "LR: 1.0000e-03, Train Loss: 2.1705, Train Acc: 0.1868, Train Latency: 27.32s, Memory Usage: 295.40MB\n",
            "Test Loss: 2.2207, Test Acc: 0.1951, Test Latency: 3.11s, Test Memory Usage: 77.86MB\n",
            "\n",
            "Epoch 145\n"
          ]
        },
        {
          "output_type": "stream",
          "name": "stderr",
          "text": [
            "Train: 100%|##########| 391/391 [00:27<00:00, 14.40batch/s]\n"
          ]
        },
        {
          "output_type": "stream",
          "name": "stdout",
          "text": [
            "LR: 1.0000e-03, Train Loss: 2.1795, Train Acc: 0.1813, Train Latency: 27.16s, Memory Usage: 295.40MB\n",
            "Test Loss: 2.2444, Test Acc: 0.1920, Test Latency: 3.12s, Test Memory Usage: 77.86MB\n",
            "\n",
            "Epoch 146\n"
          ]
        },
        {
          "output_type": "stream",
          "name": "stderr",
          "text": [
            "Train: 100%|##########| 391/391 [00:27<00:00, 14.41batch/s]\n"
          ]
        },
        {
          "output_type": "stream",
          "name": "stdout",
          "text": [
            "LR: 1.0000e-03, Train Loss: 2.1803, Train Acc: 0.1832, Train Latency: 27.13s, Memory Usage: 295.40MB\n",
            "Test Loss: 2.1997, Test Acc: 0.1841, Test Latency: 3.13s, Test Memory Usage: 77.86MB\n",
            "\n",
            "Epoch 147\n"
          ]
        },
        {
          "output_type": "stream",
          "name": "stderr",
          "text": [
            "Train: 100%|##########| 391/391 [00:27<00:00, 14.47batch/s]\n"
          ]
        },
        {
          "output_type": "stream",
          "name": "stdout",
          "text": [
            "LR: 1.0000e-03, Train Loss: 2.1810, Train Acc: 0.1811, Train Latency: 27.03s, Memory Usage: 295.40MB\n",
            "Test Loss: 2.4039, Test Acc: 0.1611, Test Latency: 3.15s, Test Memory Usage: 77.86MB\n",
            "\n",
            "Epoch 148\n"
          ]
        },
        {
          "output_type": "stream",
          "name": "stderr",
          "text": [
            "Train: 100%|##########| 391/391 [00:27<00:00, 14.43batch/s]\n"
          ]
        },
        {
          "output_type": "stream",
          "name": "stdout",
          "text": [
            "LR: 1.0000e-03, Train Loss: 2.1866, Train Acc: 0.1795, Train Latency: 27.10s, Memory Usage: 295.40MB\n",
            "Test Loss: 2.1898, Test Acc: 0.1779, Test Latency: 3.15s, Test Memory Usage: 77.86MB\n",
            "\n",
            "Epoch 149\n"
          ]
        },
        {
          "output_type": "stream",
          "name": "stderr",
          "text": [
            "Train: 100%|##########| 391/391 [00:27<00:00, 14.36batch/s]\n"
          ]
        },
        {
          "output_type": "stream",
          "name": "stdout",
          "text": [
            "LR: 1.0000e-03, Train Loss: 2.1804, Train Acc: 0.1844, Train Latency: 27.22s, Memory Usage: 295.40MB\n",
            "Test Loss: 2.3128, Test Acc: 0.1830, Test Latency: 3.19s, Test Memory Usage: 77.86MB\n",
            "\n",
            "Epoch 150\n"
          ]
        },
        {
          "output_type": "stream",
          "name": "stderr",
          "text": [
            "Train: 100%|##########| 391/391 [00:27<00:00, 14.38batch/s]\n"
          ]
        },
        {
          "output_type": "stream",
          "name": "stdout",
          "text": [
            "LR: 1.0000e-03, Train Loss: 2.1813, Train Acc: 0.1864, Train Latency: 27.19s, Memory Usage: 295.40MB\n",
            "Test Loss: 2.3207, Test Acc: 0.1627, Test Latency: 3.24s, Test Memory Usage: 77.86MB\n",
            "\n",
            "Epoch 151\n"
          ]
        },
        {
          "output_type": "stream",
          "name": "stderr",
          "text": [
            "Train: 100%|##########| 391/391 [00:27<00:00, 14.33batch/s]\n"
          ]
        },
        {
          "output_type": "stream",
          "name": "stdout",
          "text": [
            "LR: 1.0000e-04, Train Loss: 2.1747, Train Acc: 0.1871, Train Latency: 27.30s, Memory Usage: 295.40MB\n",
            "Test Loss: 2.8366, Test Acc: 0.1502, Test Latency: 3.14s, Test Memory Usage: 77.86MB\n",
            "\n",
            "Epoch 152\n"
          ]
        },
        {
          "output_type": "stream",
          "name": "stderr",
          "text": [
            "Train: 100%|##########| 391/391 [00:27<00:00, 14.44batch/s]\n"
          ]
        },
        {
          "output_type": "stream",
          "name": "stdout",
          "text": [
            "LR: 1.0000e-04, Train Loss: 2.1729, Train Acc: 0.1889, Train Latency: 27.08s, Memory Usage: 295.40MB\n",
            "Test Loss: 2.1877, Test Acc: 0.1901, Test Latency: 3.17s, Test Memory Usage: 77.86MB\n",
            "\n",
            "Epoch 153\n"
          ]
        },
        {
          "output_type": "stream",
          "name": "stderr",
          "text": [
            "Train: 100%|##########| 391/391 [00:26<00:00, 14.50batch/s]\n"
          ]
        },
        {
          "output_type": "stream",
          "name": "stdout",
          "text": [
            "LR: 1.0000e-04, Train Loss: 2.1772, Train Acc: 0.1850, Train Latency: 26.98s, Memory Usage: 295.40MB\n",
            "Test Loss: 2.2340, Test Acc: 0.1886, Test Latency: 3.18s, Test Memory Usage: 77.86MB\n",
            "\n",
            "Epoch 154\n"
          ]
        },
        {
          "output_type": "stream",
          "name": "stderr",
          "text": [
            "Train: 100%|##########| 391/391 [00:26<00:00, 14.59batch/s]\n"
          ]
        },
        {
          "output_type": "stream",
          "name": "stdout",
          "text": [
            "LR: 1.0000e-04, Train Loss: 2.1752, Train Acc: 0.1868, Train Latency: 26.80s, Memory Usage: 295.40MB\n",
            "Test Loss: 3.3682, Test Acc: 0.1528, Test Latency: 3.15s, Test Memory Usage: 77.86MB\n",
            "\n",
            "Epoch 155\n"
          ]
        },
        {
          "output_type": "stream",
          "name": "stderr",
          "text": [
            "Train: 100%|##########| 391/391 [00:26<00:00, 14.65batch/s]\n"
          ]
        },
        {
          "output_type": "stream",
          "name": "stdout",
          "text": [
            "LR: 1.0000e-04, Train Loss: 2.1779, Train Acc: 0.1877, Train Latency: 26.69s, Memory Usage: 295.40MB\n",
            "Test Loss: 2.1821, Test Acc: 0.1833, Test Latency: 3.11s, Test Memory Usage: 77.86MB\n",
            "\n",
            "Epoch 156\n"
          ]
        },
        {
          "output_type": "stream",
          "name": "stderr",
          "text": [
            "Train: 100%|##########| 391/391 [00:26<00:00, 14.56batch/s]\n"
          ]
        },
        {
          "output_type": "stream",
          "name": "stdout",
          "text": [
            "LR: 1.0000e-04, Train Loss: 2.1753, Train Acc: 0.1891, Train Latency: 26.85s, Memory Usage: 295.40MB\n",
            "Test Loss: 2.1732, Test Acc: 0.1983, Test Latency: 3.12s, Test Memory Usage: 77.86MB\n",
            "\n",
            "Epoch 157\n"
          ]
        },
        {
          "output_type": "stream",
          "name": "stderr",
          "text": [
            "Train: 100%|##########| 391/391 [00:26<00:00, 14.56batch/s]\n"
          ]
        },
        {
          "output_type": "stream",
          "name": "stdout",
          "text": [
            "LR: 1.0000e-04, Train Loss: 2.1767, Train Acc: 0.1882, Train Latency: 26.85s, Memory Usage: 295.40MB\n",
            "Test Loss: 2.6127, Test Acc: 0.1505, Test Latency: 3.19s, Test Memory Usage: 77.86MB\n",
            "\n",
            "Epoch 158\n"
          ]
        },
        {
          "output_type": "stream",
          "name": "stderr",
          "text": [
            "Train: 100%|##########| 391/391 [00:27<00:00, 14.47batch/s]\n"
          ]
        },
        {
          "output_type": "stream",
          "name": "stdout",
          "text": [
            "LR: 1.0000e-04, Train Loss: 2.1766, Train Acc: 0.1843, Train Latency: 27.03s, Memory Usage: 295.40MB\n",
            "Test Loss: 2.4002, Test Acc: 0.1775, Test Latency: 3.13s, Test Memory Usage: 77.86MB\n",
            "\n",
            "Epoch 159\n"
          ]
        },
        {
          "output_type": "stream",
          "name": "stderr",
          "text": [
            "Train: 100%|##########| 391/391 [00:27<00:00, 14.46batch/s]\n"
          ]
        },
        {
          "output_type": "stream",
          "name": "stdout",
          "text": [
            "LR: 1.0000e-04, Train Loss: 2.1733, Train Acc: 0.1888, Train Latency: 27.05s, Memory Usage: 295.40MB\n",
            "Test Loss: 2.3195, Test Acc: 0.1855, Test Latency: 3.13s, Test Memory Usage: 77.86MB\n",
            "\n",
            "Epoch 160\n"
          ]
        },
        {
          "output_type": "stream",
          "name": "stderr",
          "text": [
            "Train: 100%|##########| 391/391 [00:27<00:00, 14.43batch/s]\n"
          ]
        },
        {
          "output_type": "stream",
          "name": "stdout",
          "text": [
            "LR: 1.0000e-04, Train Loss: 2.1745, Train Acc: 0.1873, Train Latency: 27.10s, Memory Usage: 295.40MB\n",
            "Test Loss: 2.2932, Test Acc: 0.1825, Test Latency: 3.14s, Test Memory Usage: 77.86MB\n",
            "\n",
            "Epoch 161\n"
          ]
        },
        {
          "output_type": "stream",
          "name": "stderr",
          "text": [
            "Train: 100%|##########| 391/391 [00:26<00:00, 14.58batch/s]\n"
          ]
        },
        {
          "output_type": "stream",
          "name": "stdout",
          "text": [
            "LR: 1.0000e-04, Train Loss: 2.1763, Train Acc: 0.1882, Train Latency: 26.82s, Memory Usage: 295.40MB\n",
            "Test Loss: 2.5642, Test Acc: 0.1513, Test Latency: 3.14s, Test Memory Usage: 77.86MB\n",
            "\n",
            "Epoch 162\n"
          ]
        },
        {
          "output_type": "stream",
          "name": "stderr",
          "text": [
            "Train: 100%|##########| 391/391 [00:26<00:00, 14.50batch/s]\n"
          ]
        },
        {
          "output_type": "stream",
          "name": "stdout",
          "text": [
            "LR: 1.0000e-04, Train Loss: 2.1766, Train Acc: 0.1861, Train Latency: 26.96s, Memory Usage: 295.40MB\n",
            "Test Loss: 2.3472, Test Acc: 0.1692, Test Latency: 3.14s, Test Memory Usage: 77.86MB\n",
            "\n",
            "Epoch 163\n"
          ]
        },
        {
          "output_type": "stream",
          "name": "stderr",
          "text": [
            "Train: 100%|##########| 391/391 [00:27<00:00, 14.48batch/s]\n"
          ]
        },
        {
          "output_type": "stream",
          "name": "stdout",
          "text": [
            "LR: 1.0000e-04, Train Loss: 2.1773, Train Acc: 0.1866, Train Latency: 27.01s, Memory Usage: 295.40MB\n",
            "Test Loss: 2.2273, Test Acc: 0.1874, Test Latency: 3.14s, Test Memory Usage: 77.86MB\n",
            "\n",
            "Epoch 164\n"
          ]
        },
        {
          "output_type": "stream",
          "name": "stderr",
          "text": [
            "Train: 100%|##########| 391/391 [00:26<00:00, 14.53batch/s]\n"
          ]
        },
        {
          "output_type": "stream",
          "name": "stdout",
          "text": [
            "LR: 1.0000e-04, Train Loss: 2.1787, Train Acc: 0.1869, Train Latency: 26.91s, Memory Usage: 295.40MB\n",
            "Test Loss: 2.2872, Test Acc: 0.1911, Test Latency: 3.13s, Test Memory Usage: 77.86MB\n",
            "\n",
            "Epoch 165\n"
          ]
        },
        {
          "output_type": "stream",
          "name": "stderr",
          "text": [
            "Train: 100%|##########| 391/391 [00:26<00:00, 14.57batch/s]\n"
          ]
        },
        {
          "output_type": "stream",
          "name": "stdout",
          "text": [
            "LR: 1.0000e-04, Train Loss: 2.1761, Train Acc: 0.1873, Train Latency: 26.84s, Memory Usage: 295.40MB\n",
            "Test Loss: 2.3692, Test Acc: 0.1761, Test Latency: 3.15s, Test Memory Usage: 77.86MB\n",
            "\n",
            "Epoch 166\n"
          ]
        },
        {
          "output_type": "stream",
          "name": "stderr",
          "text": [
            "Train: 100%|##########| 391/391 [00:26<00:00, 14.57batch/s]\n"
          ]
        },
        {
          "output_type": "stream",
          "name": "stdout",
          "text": [
            "LR: 1.0000e-04, Train Loss: 2.1790, Train Acc: 0.1866, Train Latency: 26.84s, Memory Usage: 295.40MB\n",
            "Test Loss: 2.1880, Test Acc: 0.1870, Test Latency: 3.16s, Test Memory Usage: 77.86MB\n",
            "\n",
            "Epoch 167\n"
          ]
        },
        {
          "output_type": "stream",
          "name": "stderr",
          "text": [
            "Train: 100%|##########| 391/391 [00:26<00:00, 14.52batch/s]\n"
          ]
        },
        {
          "output_type": "stream",
          "name": "stdout",
          "text": [
            "LR: 1.0000e-04, Train Loss: 2.1798, Train Acc: 0.1875, Train Latency: 26.92s, Memory Usage: 295.40MB\n",
            "Test Loss: 2.5054, Test Acc: 0.1684, Test Latency: 3.13s, Test Memory Usage: 77.86MB\n",
            "\n",
            "Epoch 168\n"
          ]
        },
        {
          "output_type": "stream",
          "name": "stderr",
          "text": [
            "Train: 100%|##########| 391/391 [00:26<00:00, 14.54batch/s]\n"
          ]
        },
        {
          "output_type": "stream",
          "name": "stdout",
          "text": [
            "LR: 1.0000e-04, Train Loss: 2.1767, Train Acc: 0.1856, Train Latency: 26.90s, Memory Usage: 295.40MB\n",
            "Test Loss: 2.1789, Test Acc: 0.1994, Test Latency: 3.11s, Test Memory Usage: 77.86MB\n",
            "\n",
            "Epoch 169\n"
          ]
        },
        {
          "output_type": "stream",
          "name": "stderr",
          "text": [
            "Train: 100%|##########| 391/391 [00:26<00:00, 14.68batch/s]\n"
          ]
        },
        {
          "output_type": "stream",
          "name": "stdout",
          "text": [
            "LR: 1.0000e-04, Train Loss: 2.1764, Train Acc: 0.1862, Train Latency: 26.64s, Memory Usage: 295.40MB\n",
            "Test Loss: 2.2641, Test Acc: 0.1899, Test Latency: 3.17s, Test Memory Usage: 77.86MB\n",
            "\n",
            "Epoch 170\n"
          ]
        },
        {
          "output_type": "stream",
          "name": "stderr",
          "text": [
            "Train: 100%|##########| 391/391 [00:26<00:00, 14.64batch/s]\n"
          ]
        },
        {
          "output_type": "stream",
          "name": "stdout",
          "text": [
            "LR: 1.0000e-04, Train Loss: 2.1765, Train Acc: 0.1898, Train Latency: 26.70s, Memory Usage: 295.40MB\n",
            "Test Loss: 2.2045, Test Acc: 0.1816, Test Latency: 3.13s, Test Memory Usage: 77.86MB\n",
            "\n",
            "Epoch 171\n"
          ]
        },
        {
          "output_type": "stream",
          "name": "stderr",
          "text": [
            "Train: 100%|##########| 391/391 [00:26<00:00, 14.58batch/s]\n"
          ]
        },
        {
          "output_type": "stream",
          "name": "stdout",
          "text": [
            "LR: 1.0000e-04, Train Loss: 2.1795, Train Acc: 0.1821, Train Latency: 26.82s, Memory Usage: 295.40MB\n",
            "Test Loss: 2.1739, Test Acc: 0.1922, Test Latency: 3.08s, Test Memory Usage: 77.86MB\n",
            "\n",
            "Epoch 172\n"
          ]
        },
        {
          "output_type": "stream",
          "name": "stderr",
          "text": [
            "Train: 100%|##########| 391/391 [00:26<00:00, 14.64batch/s]\n"
          ]
        },
        {
          "output_type": "stream",
          "name": "stdout",
          "text": [
            "LR: 1.0000e-04, Train Loss: 2.1788, Train Acc: 0.1869, Train Latency: 26.71s, Memory Usage: 295.40MB\n",
            "Test Loss: 2.8090, Test Acc: 0.1608, Test Latency: 3.12s, Test Memory Usage: 77.86MB\n",
            "\n",
            "Epoch 173\n"
          ]
        },
        {
          "output_type": "stream",
          "name": "stderr",
          "text": [
            "Train: 100%|##########| 391/391 [00:26<00:00, 14.57batch/s]\n"
          ]
        },
        {
          "output_type": "stream",
          "name": "stdout",
          "text": [
            "LR: 1.0000e-04, Train Loss: 2.1775, Train Acc: 0.1864, Train Latency: 26.83s, Memory Usage: 295.40MB\n",
            "Test Loss: 2.1592, Test Acc: 0.1918, Test Latency: 3.12s, Test Memory Usage: 77.86MB\n",
            "\n",
            "Epoch 174\n"
          ]
        },
        {
          "output_type": "stream",
          "name": "stderr",
          "text": [
            "Train: 100%|##########| 391/391 [00:26<00:00, 14.73batch/s]\n"
          ]
        },
        {
          "output_type": "stream",
          "name": "stdout",
          "text": [
            "LR: 1.0000e-04, Train Loss: 2.1767, Train Acc: 0.1832, Train Latency: 26.54s, Memory Usage: 295.40MB\n",
            "Test Loss: 2.1694, Test Acc: 0.2017, Test Latency: 3.10s, Test Memory Usage: 77.86MB\n",
            "\n",
            "Epoch 175\n"
          ]
        },
        {
          "output_type": "stream",
          "name": "stderr",
          "text": [
            "Train: 100%|##########| 391/391 [00:26<00:00, 14.75batch/s]\n"
          ]
        },
        {
          "output_type": "stream",
          "name": "stdout",
          "text": [
            "LR: 1.0000e-04, Train Loss: 2.1767, Train Acc: 0.1882, Train Latency: 26.51s, Memory Usage: 295.40MB\n",
            "Test Loss: 2.7655, Test Acc: 0.1481, Test Latency: 3.09s, Test Memory Usage: 77.86MB\n",
            "\n",
            "Epoch 176\n"
          ]
        },
        {
          "output_type": "stream",
          "name": "stderr",
          "text": [
            "Train: 100%|##########| 391/391 [00:26<00:00, 14.73batch/s]\n"
          ]
        },
        {
          "output_type": "stream",
          "name": "stdout",
          "text": [
            "LR: 1.0000e-04, Train Loss: 2.1775, Train Acc: 0.1853, Train Latency: 26.54s, Memory Usage: 295.40MB\n",
            "Test Loss: 2.3789, Test Acc: 0.1749, Test Latency: 3.08s, Test Memory Usage: 77.86MB\n",
            "\n",
            "Epoch 177\n"
          ]
        },
        {
          "output_type": "stream",
          "name": "stderr",
          "text": [
            "Train: 100%|##########| 391/391 [00:26<00:00, 14.69batch/s]\n"
          ]
        },
        {
          "output_type": "stream",
          "name": "stdout",
          "text": [
            "LR: 1.0000e-04, Train Loss: 2.1777, Train Acc: 0.1848, Train Latency: 26.61s, Memory Usage: 295.40MB\n",
            "Test Loss: 2.2154, Test Acc: 0.1606, Test Latency: 3.14s, Test Memory Usage: 77.86MB\n",
            "\n",
            "Epoch 178\n"
          ]
        },
        {
          "output_type": "stream",
          "name": "stderr",
          "text": [
            "Train: 100%|##########| 391/391 [00:26<00:00, 14.67batch/s]\n"
          ]
        },
        {
          "output_type": "stream",
          "name": "stdout",
          "text": [
            "LR: 1.0000e-04, Train Loss: 2.1778, Train Acc: 0.1846, Train Latency: 26.66s, Memory Usage: 295.40MB\n",
            "Test Loss: 2.7660, Test Acc: 0.1462, Test Latency: 3.13s, Test Memory Usage: 77.86MB\n",
            "\n",
            "Epoch 179\n"
          ]
        },
        {
          "output_type": "stream",
          "name": "stderr",
          "text": [
            "Train: 100%|##########| 391/391 [00:26<00:00, 14.64batch/s]\n"
          ]
        },
        {
          "output_type": "stream",
          "name": "stdout",
          "text": [
            "LR: 1.0000e-04, Train Loss: 2.1791, Train Acc: 0.1856, Train Latency: 26.70s, Memory Usage: 295.40MB\n",
            "Test Loss: 2.2265, Test Acc: 0.1807, Test Latency: 3.12s, Test Memory Usage: 77.86MB\n",
            "\n",
            "Epoch 180\n"
          ]
        },
        {
          "output_type": "stream",
          "name": "stderr",
          "text": [
            "Train: 100%|##########| 391/391 [00:26<00:00, 14.61batch/s]\n"
          ]
        },
        {
          "output_type": "stream",
          "name": "stdout",
          "text": [
            "LR: 1.0000e-04, Train Loss: 2.1784, Train Acc: 0.1854, Train Latency: 26.77s, Memory Usage: 295.40MB\n",
            "Test Loss: 2.2446, Test Acc: 0.1774, Test Latency: 3.12s, Test Memory Usage: 77.86MB\n",
            "\n",
            "Epoch 181\n"
          ]
        },
        {
          "output_type": "stream",
          "name": "stderr",
          "text": [
            "Train: 100%|##########| 391/391 [00:26<00:00, 14.66batch/s]\n"
          ]
        },
        {
          "output_type": "stream",
          "name": "stdout",
          "text": [
            "LR: 1.0000e-04, Train Loss: 2.1787, Train Acc: 0.1856, Train Latency: 26.68s, Memory Usage: 295.40MB\n",
            "Test Loss: 2.6907, Test Acc: 0.1562, Test Latency: 3.12s, Test Memory Usage: 77.86MB\n",
            "\n",
            "Epoch 182\n"
          ]
        },
        {
          "output_type": "stream",
          "name": "stderr",
          "text": [
            "Train: 100%|##########| 391/391 [00:26<00:00, 14.59batch/s]\n"
          ]
        },
        {
          "output_type": "stream",
          "name": "stdout",
          "text": [
            "LR: 1.0000e-04, Train Loss: 2.1792, Train Acc: 0.1862, Train Latency: 26.81s, Memory Usage: 295.40MB\n",
            "Test Loss: 2.2017, Test Acc: 0.1980, Test Latency: 3.13s, Test Memory Usage: 77.86MB\n",
            "\n",
            "Epoch 183\n"
          ]
        },
        {
          "output_type": "stream",
          "name": "stderr",
          "text": [
            "Train: 100%|##########| 391/391 [00:26<00:00, 14.59batch/s]\n"
          ]
        },
        {
          "output_type": "stream",
          "name": "stdout",
          "text": [
            "LR: 1.0000e-04, Train Loss: 2.1786, Train Acc: 0.1855, Train Latency: 26.80s, Memory Usage: 295.40MB\n",
            "Test Loss: 3.0007, Test Acc: 0.1692, Test Latency: 3.10s, Test Memory Usage: 77.86MB\n",
            "\n",
            "Epoch 184\n"
          ]
        },
        {
          "output_type": "stream",
          "name": "stderr",
          "text": [
            "Train: 100%|##########| 391/391 [00:26<00:00, 14.60batch/s]\n"
          ]
        },
        {
          "output_type": "stream",
          "name": "stdout",
          "text": [
            "LR: 1.0000e-04, Train Loss: 2.1796, Train Acc: 0.1890, Train Latency: 26.78s, Memory Usage: 295.40MB\n",
            "Test Loss: 2.1552, Test Acc: 0.1978, Test Latency: 3.08s, Test Memory Usage: 77.86MB\n",
            "\n",
            "Epoch 185\n"
          ]
        },
        {
          "output_type": "stream",
          "name": "stderr",
          "text": [
            "Train: 100%|##########| 391/391 [00:26<00:00, 14.70batch/s]\n"
          ]
        },
        {
          "output_type": "stream",
          "name": "stdout",
          "text": [
            "LR: 1.0000e-04, Train Loss: 2.1788, Train Acc: 0.1861, Train Latency: 26.60s, Memory Usage: 295.40MB\n",
            "Test Loss: 2.1851, Test Acc: 0.1846, Test Latency: 3.12s, Test Memory Usage: 77.86MB\n",
            "\n",
            "Epoch 186\n"
          ]
        },
        {
          "output_type": "stream",
          "name": "stderr",
          "text": [
            "Train: 100%|##########| 391/391 [00:26<00:00, 14.58batch/s]\n"
          ]
        },
        {
          "output_type": "stream",
          "name": "stdout",
          "text": [
            "LR: 1.0000e-04, Train Loss: 2.1801, Train Acc: 0.1846, Train Latency: 26.81s, Memory Usage: 295.40MB\n",
            "Test Loss: 2.6656, Test Acc: 0.1539, Test Latency: 3.13s, Test Memory Usage: 77.86MB\n",
            "\n",
            "Epoch 187\n"
          ]
        },
        {
          "output_type": "stream",
          "name": "stderr",
          "text": [
            "Train: 100%|##########| 391/391 [00:26<00:00, 14.59batch/s]\n"
          ]
        },
        {
          "output_type": "stream",
          "name": "stdout",
          "text": [
            "LR: 1.0000e-04, Train Loss: 2.1818, Train Acc: 0.1841, Train Latency: 26.80s, Memory Usage: 295.40MB\n",
            "Test Loss: 2.1702, Test Acc: 0.1935, Test Latency: 3.16s, Test Memory Usage: 77.86MB\n",
            "\n",
            "Epoch 188\n"
          ]
        },
        {
          "output_type": "stream",
          "name": "stderr",
          "text": [
            "Train: 100%|##########| 391/391 [00:26<00:00, 14.59batch/s]\n"
          ]
        },
        {
          "output_type": "stream",
          "name": "stdout",
          "text": [
            "LR: 1.0000e-04, Train Loss: 2.1795, Train Acc: 0.1847, Train Latency: 26.81s, Memory Usage: 295.40MB\n",
            "Test Loss: 2.1753, Test Acc: 0.1824, Test Latency: 3.13s, Test Memory Usage: 77.86MB\n",
            "\n",
            "Epoch 189\n"
          ]
        },
        {
          "output_type": "stream",
          "name": "stderr",
          "text": [
            "Train: 100%|##########| 391/391 [00:27<00:00, 14.48batch/s]\n"
          ]
        },
        {
          "output_type": "stream",
          "name": "stdout",
          "text": [
            "LR: 1.0000e-04, Train Loss: 2.1787, Train Acc: 0.1844, Train Latency: 27.01s, Memory Usage: 295.40MB\n",
            "Test Loss: 2.3225, Test Acc: 0.1541, Test Latency: 3.13s, Test Memory Usage: 77.86MB\n",
            "\n",
            "Epoch 190\n"
          ]
        },
        {
          "output_type": "stream",
          "name": "stderr",
          "text": [
            "Train: 100%|##########| 391/391 [00:26<00:00, 14.55batch/s]\n"
          ]
        },
        {
          "output_type": "stream",
          "name": "stdout",
          "text": [
            "LR: 1.0000e-04, Train Loss: 2.1800, Train Acc: 0.1846, Train Latency: 26.87s, Memory Usage: 295.40MB\n",
            "Test Loss: 2.2322, Test Acc: 0.1879, Test Latency: 3.15s, Test Memory Usage: 77.86MB\n",
            "\n",
            "Epoch 191\n"
          ]
        },
        {
          "output_type": "stream",
          "name": "stderr",
          "text": [
            "Train: 100%|##########| 391/391 [00:26<00:00, 14.56batch/s]\n"
          ]
        },
        {
          "output_type": "stream",
          "name": "stdout",
          "text": [
            "LR: 1.0000e-04, Train Loss: 2.1794, Train Acc: 0.1826, Train Latency: 26.85s, Memory Usage: 295.40MB\n",
            "Test Loss: 2.1929, Test Acc: 0.1925, Test Latency: 3.13s, Test Memory Usage: 77.86MB\n",
            "\n",
            "Epoch 192\n"
          ]
        },
        {
          "output_type": "stream",
          "name": "stderr",
          "text": [
            "Train: 100%|##########| 391/391 [00:26<00:00, 14.50batch/s]\n"
          ]
        },
        {
          "output_type": "stream",
          "name": "stdout",
          "text": [
            "LR: 1.0000e-04, Train Loss: 2.1791, Train Acc: 0.1853, Train Latency: 26.97s, Memory Usage: 295.40MB\n",
            "Test Loss: 3.0845, Test Acc: 0.1479, Test Latency: 3.11s, Test Memory Usage: 77.86MB\n",
            "\n",
            "Epoch 193\n"
          ]
        },
        {
          "output_type": "stream",
          "name": "stderr",
          "text": [
            "Train: 100%|##########| 391/391 [00:26<00:00, 14.59batch/s]\n"
          ]
        },
        {
          "output_type": "stream",
          "name": "stdout",
          "text": [
            "LR: 1.0000e-04, Train Loss: 2.1827, Train Acc: 0.1826, Train Latency: 26.80s, Memory Usage: 295.40MB\n",
            "Test Loss: 2.6695, Test Acc: 0.1447, Test Latency: 3.11s, Test Memory Usage: 77.86MB\n",
            "\n",
            "Epoch 194\n"
          ]
        },
        {
          "output_type": "stream",
          "name": "stderr",
          "text": [
            "Train: 100%|##########| 391/391 [00:26<00:00, 14.63batch/s]\n"
          ]
        },
        {
          "output_type": "stream",
          "name": "stdout",
          "text": [
            "LR: 1.0000e-04, Train Loss: 2.1798, Train Acc: 0.1877, Train Latency: 26.72s, Memory Usage: 295.40MB\n",
            "Test Loss: 2.3836, Test Acc: 0.1695, Test Latency: 3.10s, Test Memory Usage: 77.86MB\n",
            "\n",
            "Epoch 195\n"
          ]
        },
        {
          "output_type": "stream",
          "name": "stderr",
          "text": [
            "Train: 100%|##########| 391/391 [00:26<00:00, 14.66batch/s]\n"
          ]
        },
        {
          "output_type": "stream",
          "name": "stdout",
          "text": [
            "LR: 1.0000e-04, Train Loss: 2.1798, Train Acc: 0.1828, Train Latency: 26.67s, Memory Usage: 295.40MB\n",
            "Test Loss: 2.2343, Test Acc: 0.1901, Test Latency: 3.10s, Test Memory Usage: 77.86MB\n",
            "\n",
            "Epoch 196\n"
          ]
        },
        {
          "output_type": "stream",
          "name": "stderr",
          "text": [
            "Train: 100%|##########| 391/391 [00:26<00:00, 14.59batch/s]\n"
          ]
        },
        {
          "output_type": "stream",
          "name": "stdout",
          "text": [
            "LR: 1.0000e-04, Train Loss: 2.1789, Train Acc: 0.1857, Train Latency: 26.79s, Memory Usage: 295.40MB\n",
            "Test Loss: 2.2226, Test Acc: 0.1900, Test Latency: 3.11s, Test Memory Usage: 77.86MB\n",
            "\n",
            "Epoch 197\n"
          ]
        },
        {
          "output_type": "stream",
          "name": "stderr",
          "text": [
            "Train: 100%|##########| 391/391 [00:26<00:00, 14.66batch/s]\n"
          ]
        },
        {
          "output_type": "stream",
          "name": "stdout",
          "text": [
            "LR: 1.0000e-04, Train Loss: 2.1792, Train Acc: 0.1881, Train Latency: 26.67s, Memory Usage: 295.40MB\n",
            "Test Loss: 2.5006, Test Acc: 0.1716, Test Latency: 3.12s, Test Memory Usage: 77.86MB\n",
            "\n",
            "Epoch 198\n"
          ]
        },
        {
          "output_type": "stream",
          "name": "stderr",
          "text": [
            "Train: 100%|##########| 391/391 [00:26<00:00, 14.62batch/s]\n"
          ]
        },
        {
          "output_type": "stream",
          "name": "stdout",
          "text": [
            "LR: 1.0000e-04, Train Loss: 2.1793, Train Acc: 0.1859, Train Latency: 26.75s, Memory Usage: 295.40MB\n",
            "Test Loss: 2.1691, Test Acc: 0.1895, Test Latency: 3.11s, Test Memory Usage: 77.86MB\n",
            "\n",
            "Epoch 199\n"
          ]
        },
        {
          "output_type": "stream",
          "name": "stderr",
          "text": [
            "Train: 100%|##########| 391/391 [00:26<00:00, 14.66batch/s]\n"
          ]
        },
        {
          "output_type": "stream",
          "name": "stdout",
          "text": [
            "LR: 1.0000e-04, Train Loss: 2.1790, Train Acc: 0.1849, Train Latency: 26.67s, Memory Usage: 295.40MB\n",
            "Test Loss: 2.2017, Test Acc: 0.1709, Test Latency: 3.11s, Test Memory Usage: 77.86MB\n",
            "\n",
            "Epoch 200\n"
          ]
        },
        {
          "output_type": "stream",
          "name": "stderr",
          "text": [
            "Train: 100%|##########| 391/391 [00:26<00:00, 14.73batch/s]\n"
          ]
        },
        {
          "output_type": "stream",
          "name": "stdout",
          "text": [
            "LR: 1.0000e-04, Train Loss: 2.1785, Train Acc: 0.1876, Train Latency: 26.54s, Memory Usage: 295.40MB\n",
            "Test Loss: 2.2510, Test Acc: 0.1892, Test Latency: 3.10s, Test Memory Usage: 77.86MB\n",
            "Saving final epoch model ...\n"
          ]
        }
      ],
      "source": [
        "model_name = train(w_nbits=1, a_nbits=2, linear=True)"
      ]
    },
    {
      "cell_type": "code",
      "execution_count": null,
      "metadata": {
        "id": "HrkZeveMHyzX"
      },
      "outputs": [],
      "source": [
        "# analyze_model(model_name)"
      ]
    },
    {
      "cell_type": "code",
      "execution_count": null,
      "metadata": {
        "id": "rie0TCWoH8G6"
      },
      "outputs": [],
      "source": [
        "model_name = train(w_nbits=2, a_nbits=2, linear=True)"
      ]
    },
    {
      "cell_type": "code",
      "execution_count": 16,
      "metadata": {
        "id": "3IHQw1FXH1-e"
      },
      "outputs": [],
      "source": [
        "# analyze_model(model_name)"
      ]
    },
    {
      "cell_type": "code",
      "execution_count": null,
      "metadata": {
        "id": "LvqOrGyMHlBl"
      },
      "outputs": [],
      "source": [
        "model_name = train(w_nbits=2, a_nbits=3, linear=True)"
      ]
    },
    {
      "cell_type": "code",
      "execution_count": null,
      "metadata": {
        "id": "CbPHHIPrH3QL"
      },
      "outputs": [],
      "source": [
        "# analyze_model(model_name)"
      ]
    },
    {
      "cell_type": "code",
      "execution_count": 19,
      "metadata": {
        "id": "tttP3rBDH_fH",
        "colab": {
          "base_uri": "https://localhost:8080/"
        },
        "outputId": "3ba149f7-20bd-4c44-ee77-145e9f85b941"
      },
      "outputs": [
        {
          "output_type": "stream",
          "name": "stdout",
          "text": [
            "\n",
            "Quantization: weight=3 activation=3 linear=True, Using device: cuda\n",
            "\n",
            "Epoch 1\n"
          ]
        },
        {
          "output_type": "stream",
          "name": "stderr",
          "text": [
            "Train: 100%|##########| 391/391 [00:26<00:00, 14.51batch/s]\n"
          ]
        },
        {
          "output_type": "stream",
          "name": "stdout",
          "text": [
            "LR: 1.0000e-01, Train Loss: 1.7647, Train Acc: 0.3345, Train Latency: 26.95s, Memory Usage: 295.40MB\n",
            "Test Loss: 1.6442, Test Acc: 0.3826, Test Latency: 3.16s, Test Memory Usage: 77.86MB\n",
            "\n",
            "Epoch 2\n"
          ]
        },
        {
          "output_type": "stream",
          "name": "stderr",
          "text": [
            "Train: 100%|##########| 391/391 [00:26<00:00, 14.57batch/s]\n"
          ]
        },
        {
          "output_type": "stream",
          "name": "stdout",
          "text": [
            "LR: 1.0000e-01, Train Loss: 1.4296, Train Acc: 0.4768, Train Latency: 26.85s, Memory Usage: 295.40MB\n",
            "Test Loss: 1.6452, Test Acc: 0.4493, Test Latency: 3.13s, Test Memory Usage: 77.86MB\n",
            "\n",
            "Epoch 3\n"
          ]
        },
        {
          "output_type": "stream",
          "name": "stderr",
          "text": [
            "Train: 100%|##########| 391/391 [00:26<00:00, 14.53batch/s]\n"
          ]
        },
        {
          "output_type": "stream",
          "name": "stdout",
          "text": [
            "LR: 1.0000e-01, Train Loss: 1.2127, Train Acc: 0.5653, Train Latency: 26.91s, Memory Usage: 295.40MB\n",
            "Test Loss: 2.2889, Test Acc: 0.3478, Test Latency: 3.12s, Test Memory Usage: 77.86MB\n",
            "\n",
            "Epoch 4\n"
          ]
        },
        {
          "output_type": "stream",
          "name": "stderr",
          "text": [
            "Train: 100%|##########| 391/391 [00:26<00:00, 14.52batch/s]\n"
          ]
        },
        {
          "output_type": "stream",
          "name": "stdout",
          "text": [
            "LR: 1.0000e-01, Train Loss: 1.1510, Train Acc: 0.5900, Train Latency: 26.93s, Memory Usage: 295.40MB\n",
            "Test Loss: 1.3935, Test Acc: 0.5240, Test Latency: 3.16s, Test Memory Usage: 77.86MB\n",
            "\n",
            "Epoch 5\n"
          ]
        },
        {
          "output_type": "stream",
          "name": "stderr",
          "text": [
            "Train: 100%|##########| 391/391 [00:27<00:00, 14.48batch/s]\n"
          ]
        },
        {
          "output_type": "stream",
          "name": "stdout",
          "text": [
            "LR: 1.0000e-01, Train Loss: 1.1134, Train Acc: 0.6055, Train Latency: 27.01s, Memory Usage: 295.40MB\n",
            "Test Loss: 1.8011, Test Acc: 0.4405, Test Latency: 3.13s, Test Memory Usage: 77.86MB\n",
            "\n",
            "Epoch 6\n"
          ]
        },
        {
          "output_type": "stream",
          "name": "stderr",
          "text": [
            "Train: 100%|##########| 391/391 [00:27<00:00, 14.47batch/s]\n"
          ]
        },
        {
          "output_type": "stream",
          "name": "stdout",
          "text": [
            "LR: 1.0000e-01, Train Loss: 1.0625, Train Acc: 0.6220, Train Latency: 27.02s, Memory Usage: 295.40MB\n",
            "Test Loss: 1.3591, Test Acc: 0.5529, Test Latency: 3.11s, Test Memory Usage: 77.86MB\n",
            "\n",
            "Epoch 7\n"
          ]
        },
        {
          "output_type": "stream",
          "name": "stderr",
          "text": [
            "Train: 100%|##########| 391/391 [00:27<00:00, 14.39batch/s]\n"
          ]
        },
        {
          "output_type": "stream",
          "name": "stdout",
          "text": [
            "LR: 1.0000e-01, Train Loss: 1.0249, Train Acc: 0.6422, Train Latency: 27.17s, Memory Usage: 295.40MB\n",
            "Test Loss: 2.1000, Test Acc: 0.4565, Test Latency: 3.13s, Test Memory Usage: 77.86MB\n",
            "\n",
            "Epoch 8\n"
          ]
        },
        {
          "output_type": "stream",
          "name": "stderr",
          "text": [
            "Train: 100%|##########| 391/391 [00:26<00:00, 14.55batch/s]\n"
          ]
        },
        {
          "output_type": "stream",
          "name": "stdout",
          "text": [
            "LR: 1.0000e-01, Train Loss: 0.9828, Train Acc: 0.6544, Train Latency: 26.87s, Memory Usage: 295.40MB\n",
            "Test Loss: 1.9497, Test Acc: 0.4312, Test Latency: 3.11s, Test Memory Usage: 77.86MB\n",
            "\n",
            "Epoch 9\n"
          ]
        },
        {
          "output_type": "stream",
          "name": "stderr",
          "text": [
            "Train: 100%|##########| 391/391 [00:26<00:00, 14.63batch/s]\n"
          ]
        },
        {
          "output_type": "stream",
          "name": "stdout",
          "text": [
            "LR: 1.0000e-01, Train Loss: 0.9396, Train Acc: 0.6738, Train Latency: 26.73s, Memory Usage: 295.40MB\n",
            "Test Loss: 1.1048, Test Acc: 0.6174, Test Latency: 3.11s, Test Memory Usage: 77.86MB\n",
            "\n",
            "Epoch 10\n"
          ]
        },
        {
          "output_type": "stream",
          "name": "stderr",
          "text": [
            "Train: 100%|##########| 391/391 [00:26<00:00, 14.53batch/s]\n"
          ]
        },
        {
          "output_type": "stream",
          "name": "stdout",
          "text": [
            "LR: 1.0000e-01, Train Loss: 0.9373, Train Acc: 0.6753, Train Latency: 26.92s, Memory Usage: 295.40MB\n",
            "Test Loss: 1.4812, Test Acc: 0.5346, Test Latency: 3.12s, Test Memory Usage: 77.86MB\n",
            "\n",
            "Epoch 11\n"
          ]
        },
        {
          "output_type": "stream",
          "name": "stderr",
          "text": [
            "Train: 100%|##########| 391/391 [00:26<00:00, 14.57batch/s]\n"
          ]
        },
        {
          "output_type": "stream",
          "name": "stdout",
          "text": [
            "LR: 1.0000e-01, Train Loss: 0.9330, Train Acc: 0.6756, Train Latency: 26.84s, Memory Usage: 295.40MB\n",
            "Test Loss: 1.1672, Test Acc: 0.6076, Test Latency: 3.12s, Test Memory Usage: 77.86MB\n",
            "\n",
            "Epoch 12\n"
          ]
        },
        {
          "output_type": "stream",
          "name": "stderr",
          "text": [
            "Train: 100%|##########| 391/391 [00:26<00:00, 14.53batch/s]\n"
          ]
        },
        {
          "output_type": "stream",
          "name": "stdout",
          "text": [
            "LR: 1.0000e-01, Train Loss: 0.9114, Train Acc: 0.6822, Train Latency: 26.92s, Memory Usage: 295.40MB\n",
            "Test Loss: 1.2902, Test Acc: 0.6135, Test Latency: 3.13s, Test Memory Usage: 77.86MB\n",
            "\n",
            "Epoch 13\n"
          ]
        },
        {
          "output_type": "stream",
          "name": "stderr",
          "text": [
            "Train: 100%|##########| 391/391 [00:27<00:00, 14.42batch/s]\n"
          ]
        },
        {
          "output_type": "stream",
          "name": "stdout",
          "text": [
            "LR: 1.0000e-01, Train Loss: 0.9087, Train Acc: 0.6827, Train Latency: 27.12s, Memory Usage: 295.40MB\n",
            "Test Loss: 1.1338, Test Acc: 0.6061, Test Latency: 3.18s, Test Memory Usage: 77.86MB\n",
            "\n",
            "Epoch 14\n"
          ]
        },
        {
          "output_type": "stream",
          "name": "stderr",
          "text": [
            "Train: 100%|##########| 391/391 [00:26<00:00, 14.52batch/s]\n"
          ]
        },
        {
          "output_type": "stream",
          "name": "stdout",
          "text": [
            "LR: 1.0000e-01, Train Loss: 0.8932, Train Acc: 0.6896, Train Latency: 26.94s, Memory Usage: 295.40MB\n",
            "Test Loss: 1.0849, Test Acc: 0.6430, Test Latency: 3.13s, Test Memory Usage: 77.86MB\n",
            "\n",
            "Epoch 15\n"
          ]
        },
        {
          "output_type": "stream",
          "name": "stderr",
          "text": [
            "Train: 100%|##########| 391/391 [00:26<00:00, 14.56batch/s]\n"
          ]
        },
        {
          "output_type": "stream",
          "name": "stdout",
          "text": [
            "LR: 1.0000e-01, Train Loss: 0.9130, Train Acc: 0.6813, Train Latency: 26.87s, Memory Usage: 295.40MB\n",
            "Test Loss: 1.2148, Test Acc: 0.6124, Test Latency: 3.12s, Test Memory Usage: 77.86MB\n",
            "\n",
            "Epoch 16\n"
          ]
        },
        {
          "output_type": "stream",
          "name": "stderr",
          "text": [
            "Train: 100%|##########| 391/391 [00:26<00:00, 14.54batch/s]\n"
          ]
        },
        {
          "output_type": "stream",
          "name": "stdout",
          "text": [
            "LR: 1.0000e-01, Train Loss: 0.8913, Train Acc: 0.6927, Train Latency: 26.89s, Memory Usage: 295.40MB\n",
            "Test Loss: 1.4539, Test Acc: 0.5651, Test Latency: 3.14s, Test Memory Usage: 77.86MB\n",
            "\n",
            "Epoch 17\n"
          ]
        },
        {
          "output_type": "stream",
          "name": "stderr",
          "text": [
            "Train: 100%|##########| 391/391 [00:27<00:00, 14.48batch/s]\n"
          ]
        },
        {
          "output_type": "stream",
          "name": "stdout",
          "text": [
            "LR: 1.0000e-01, Train Loss: 0.8979, Train Acc: 0.6890, Train Latency: 27.01s, Memory Usage: 295.40MB\n",
            "Test Loss: 1.0873, Test Acc: 0.6377, Test Latency: 3.14s, Test Memory Usage: 77.86MB\n",
            "\n",
            "Epoch 18\n"
          ]
        },
        {
          "output_type": "stream",
          "name": "stderr",
          "text": [
            "Train: 100%|##########| 391/391 [00:26<00:00, 14.57batch/s]\n"
          ]
        },
        {
          "output_type": "stream",
          "name": "stdout",
          "text": [
            "LR: 1.0000e-01, Train Loss: 0.8819, Train Acc: 0.6955, Train Latency: 26.84s, Memory Usage: 295.40MB\n",
            "Test Loss: 1.0199, Test Acc: 0.6622, Test Latency: 3.12s, Test Memory Usage: 77.86MB\n",
            "\n",
            "Epoch 19\n"
          ]
        },
        {
          "output_type": "stream",
          "name": "stderr",
          "text": [
            "Train: 100%|##########| 391/391 [00:26<00:00, 14.56batch/s]\n"
          ]
        },
        {
          "output_type": "stream",
          "name": "stdout",
          "text": [
            "LR: 1.0000e-01, Train Loss: 0.8788, Train Acc: 0.6929, Train Latency: 26.86s, Memory Usage: 295.40MB\n",
            "Test Loss: 1.4544, Test Acc: 0.5310, Test Latency: 3.12s, Test Memory Usage: 77.86MB\n",
            "\n",
            "Epoch 20\n"
          ]
        },
        {
          "output_type": "stream",
          "name": "stderr",
          "text": [
            "Train: 100%|##########| 391/391 [00:26<00:00, 14.57batch/s]\n"
          ]
        },
        {
          "output_type": "stream",
          "name": "stdout",
          "text": [
            "LR: 1.0000e-01, Train Loss: 0.8686, Train Acc: 0.6979, Train Latency: 26.84s, Memory Usage: 295.40MB\n",
            "Test Loss: 1.0409, Test Acc: 0.6408, Test Latency: 3.12s, Test Memory Usage: 77.86MB\n",
            "\n",
            "Epoch 21\n"
          ]
        },
        {
          "output_type": "stream",
          "name": "stderr",
          "text": [
            "Train: 100%|##########| 391/391 [00:26<00:00, 14.52batch/s]\n"
          ]
        },
        {
          "output_type": "stream",
          "name": "stdout",
          "text": [
            "LR: 1.0000e-01, Train Loss: 0.8572, Train Acc: 0.7038, Train Latency: 26.93s, Memory Usage: 295.40MB\n",
            "Test Loss: 0.9391, Test Acc: 0.6804, Test Latency: 3.12s, Test Memory Usage: 77.86MB\n",
            "\n",
            "Epoch 22\n"
          ]
        },
        {
          "output_type": "stream",
          "name": "stderr",
          "text": [
            "Train: 100%|##########| 391/391 [00:26<00:00, 14.51batch/s]\n"
          ]
        },
        {
          "output_type": "stream",
          "name": "stdout",
          "text": [
            "LR: 1.0000e-01, Train Loss: 0.8607, Train Acc: 0.7028, Train Latency: 26.96s, Memory Usage: 295.40MB\n",
            "Test Loss: 1.2574, Test Acc: 0.5983, Test Latency: 3.12s, Test Memory Usage: 77.86MB\n",
            "\n",
            "Epoch 23\n"
          ]
        },
        {
          "output_type": "stream",
          "name": "stderr",
          "text": [
            "Train: 100%|##########| 391/391 [00:26<00:00, 14.54batch/s]\n"
          ]
        },
        {
          "output_type": "stream",
          "name": "stdout",
          "text": [
            "LR: 1.0000e-01, Train Loss: 0.8531, Train Acc: 0.7025, Train Latency: 26.89s, Memory Usage: 295.40MB\n",
            "Test Loss: 1.1218, Test Acc: 0.6285, Test Latency: 3.12s, Test Memory Usage: 77.86MB\n",
            "\n",
            "Epoch 24\n"
          ]
        },
        {
          "output_type": "stream",
          "name": "stderr",
          "text": [
            "Train: 100%|##########| 391/391 [00:26<00:00, 14.55batch/s]\n"
          ]
        },
        {
          "output_type": "stream",
          "name": "stdout",
          "text": [
            "LR: 1.0000e-01, Train Loss: 0.8413, Train Acc: 0.7077, Train Latency: 26.87s, Memory Usage: 295.40MB\n",
            "Test Loss: 1.0168, Test Acc: 0.6654, Test Latency: 3.12s, Test Memory Usage: 77.86MB\n",
            "\n",
            "Epoch 25\n"
          ]
        },
        {
          "output_type": "stream",
          "name": "stderr",
          "text": [
            "Train: 100%|##########| 391/391 [00:26<00:00, 14.58batch/s]\n"
          ]
        },
        {
          "output_type": "stream",
          "name": "stdout",
          "text": [
            "LR: 1.0000e-01, Train Loss: 0.8591, Train Acc: 0.7065, Train Latency: 26.83s, Memory Usage: 295.40MB\n",
            "Test Loss: 1.7317, Test Acc: 0.5432, Test Latency: 3.12s, Test Memory Usage: 77.86MB\n",
            "\n",
            "Epoch 26\n"
          ]
        },
        {
          "output_type": "stream",
          "name": "stderr",
          "text": [
            "Train: 100%|##########| 391/391 [00:26<00:00, 14.51batch/s]\n"
          ]
        },
        {
          "output_type": "stream",
          "name": "stdout",
          "text": [
            "LR: 1.0000e-01, Train Loss: 0.8485, Train Acc: 0.7066, Train Latency: 26.94s, Memory Usage: 295.40MB\n",
            "Test Loss: 1.0851, Test Acc: 0.6299, Test Latency: 3.11s, Test Memory Usage: 77.86MB\n",
            "\n",
            "Epoch 27\n"
          ]
        },
        {
          "output_type": "stream",
          "name": "stderr",
          "text": [
            "Train: 100%|##########| 391/391 [00:26<00:00, 14.63batch/s]\n"
          ]
        },
        {
          "output_type": "stream",
          "name": "stdout",
          "text": [
            "LR: 1.0000e-01, Train Loss: 0.8518, Train Acc: 0.7041, Train Latency: 26.73s, Memory Usage: 295.40MB\n",
            "Test Loss: 1.0183, Test Acc: 0.6603, Test Latency: 3.15s, Test Memory Usage: 77.86MB\n",
            "\n",
            "Epoch 28\n"
          ]
        },
        {
          "output_type": "stream",
          "name": "stderr",
          "text": [
            "Train: 100%|##########| 391/391 [00:26<00:00, 14.51batch/s]\n"
          ]
        },
        {
          "output_type": "stream",
          "name": "stdout",
          "text": [
            "LR: 1.0000e-01, Train Loss: 0.8671, Train Acc: 0.6993, Train Latency: 26.95s, Memory Usage: 295.40MB\n",
            "Test Loss: 1.1780, Test Acc: 0.6360, Test Latency: 3.17s, Test Memory Usage: 77.86MB\n",
            "\n",
            "Epoch 29\n"
          ]
        },
        {
          "output_type": "stream",
          "name": "stderr",
          "text": [
            "Train: 100%|##########| 391/391 [00:26<00:00, 14.49batch/s]\n"
          ]
        },
        {
          "output_type": "stream",
          "name": "stdout",
          "text": [
            "LR: 1.0000e-01, Train Loss: 0.8530, Train Acc: 0.7063, Train Latency: 27.00s, Memory Usage: 295.40MB\n",
            "Test Loss: 1.1425, Test Acc: 0.6374, Test Latency: 3.12s, Test Memory Usage: 77.86MB\n",
            "\n",
            "Epoch 30\n"
          ]
        },
        {
          "output_type": "stream",
          "name": "stderr",
          "text": [
            "Train: 100%|##########| 391/391 [00:26<00:00, 14.66batch/s]\n"
          ]
        },
        {
          "output_type": "stream",
          "name": "stdout",
          "text": [
            "LR: 1.0000e-01, Train Loss: 0.8431, Train Acc: 0.7084, Train Latency: 26.67s, Memory Usage: 295.40MB\n",
            "Test Loss: 1.6338, Test Acc: 0.5427, Test Latency: 3.13s, Test Memory Usage: 77.86MB\n",
            "\n",
            "Epoch 31\n"
          ]
        },
        {
          "output_type": "stream",
          "name": "stderr",
          "text": [
            "Train: 100%|##########| 391/391 [00:26<00:00, 14.63batch/s]\n"
          ]
        },
        {
          "output_type": "stream",
          "name": "stdout",
          "text": [
            "LR: 1.0000e-01, Train Loss: 0.8570, Train Acc: 0.7040, Train Latency: 26.74s, Memory Usage: 295.40MB\n",
            "Test Loss: 1.2859, Test Acc: 0.5865, Test Latency: 3.09s, Test Memory Usage: 77.86MB\n",
            "\n",
            "Epoch 32\n"
          ]
        },
        {
          "output_type": "stream",
          "name": "stderr",
          "text": [
            "Train: 100%|##########| 391/391 [00:26<00:00, 14.62batch/s]\n"
          ]
        },
        {
          "output_type": "stream",
          "name": "stdout",
          "text": [
            "LR: 1.0000e-01, Train Loss: 0.8474, Train Acc: 0.7063, Train Latency: 26.74s, Memory Usage: 295.40MB\n",
            "Test Loss: 1.2448, Test Acc: 0.6103, Test Latency: 3.12s, Test Memory Usage: 77.86MB\n",
            "\n",
            "Epoch 33\n"
          ]
        },
        {
          "output_type": "stream",
          "name": "stderr",
          "text": [
            "Train: 100%|##########| 391/391 [00:26<00:00, 14.64batch/s]\n"
          ]
        },
        {
          "output_type": "stream",
          "name": "stdout",
          "text": [
            "LR: 1.0000e-01, Train Loss: 0.8556, Train Acc: 0.7064, Train Latency: 26.71s, Memory Usage: 295.40MB\n",
            "Test Loss: 1.1248, Test Acc: 0.6432, Test Latency: 3.11s, Test Memory Usage: 77.86MB\n",
            "\n",
            "Epoch 34\n"
          ]
        },
        {
          "output_type": "stream",
          "name": "stderr",
          "text": [
            "Train: 100%|##########| 391/391 [00:26<00:00, 14.58batch/s]\n"
          ]
        },
        {
          "output_type": "stream",
          "name": "stdout",
          "text": [
            "LR: 1.0000e-01, Train Loss: 0.8592, Train Acc: 0.7019, Train Latency: 26.81s, Memory Usage: 295.40MB\n",
            "Test Loss: 1.7433, Test Acc: 0.5157, Test Latency: 3.11s, Test Memory Usage: 77.86MB\n",
            "\n",
            "Epoch 35\n"
          ]
        },
        {
          "output_type": "stream",
          "name": "stderr",
          "text": [
            "Train: 100%|##########| 391/391 [00:26<00:00, 14.64batch/s]\n"
          ]
        },
        {
          "output_type": "stream",
          "name": "stdout",
          "text": [
            "LR: 1.0000e-01, Train Loss: 0.8448, Train Acc: 0.7094, Train Latency: 26.72s, Memory Usage: 295.40MB\n",
            "Test Loss: 1.8199, Test Acc: 0.5389, Test Latency: 3.13s, Test Memory Usage: 77.86MB\n",
            "\n",
            "Epoch 36\n"
          ]
        },
        {
          "output_type": "stream",
          "name": "stderr",
          "text": [
            "Train: 100%|##########| 391/391 [00:26<00:00, 14.61batch/s]\n"
          ]
        },
        {
          "output_type": "stream",
          "name": "stdout",
          "text": [
            "LR: 1.0000e-01, Train Loss: 0.8405, Train Acc: 0.7097, Train Latency: 26.76s, Memory Usage: 295.40MB\n",
            "Test Loss: 1.4707, Test Acc: 0.5661, Test Latency: 3.09s, Test Memory Usage: 77.86MB\n",
            "\n",
            "Epoch 37\n"
          ]
        },
        {
          "output_type": "stream",
          "name": "stderr",
          "text": [
            "Train: 100%|##########| 391/391 [00:26<00:00, 14.50batch/s]\n"
          ]
        },
        {
          "output_type": "stream",
          "name": "stdout",
          "text": [
            "LR: 1.0000e-01, Train Loss: 0.8594, Train Acc: 0.7051, Train Latency: 26.97s, Memory Usage: 295.40MB\n",
            "Test Loss: 1.3581, Test Acc: 0.5918, Test Latency: 3.11s, Test Memory Usage: 77.86MB\n",
            "\n",
            "Epoch 38\n"
          ]
        },
        {
          "output_type": "stream",
          "name": "stderr",
          "text": [
            "Train: 100%|##########| 391/391 [00:26<00:00, 14.65batch/s]\n"
          ]
        },
        {
          "output_type": "stream",
          "name": "stdout",
          "text": [
            "LR: 1.0000e-01, Train Loss: 0.8463, Train Acc: 0.7073, Train Latency: 26.69s, Memory Usage: 295.40MB\n",
            "Test Loss: 1.2724, Test Acc: 0.6016, Test Latency: 3.12s, Test Memory Usage: 77.86MB\n",
            "\n",
            "Epoch 39\n"
          ]
        },
        {
          "output_type": "stream",
          "name": "stderr",
          "text": [
            "Train: 100%|##########| 391/391 [00:26<00:00, 14.70batch/s]\n"
          ]
        },
        {
          "output_type": "stream",
          "name": "stdout",
          "text": [
            "LR: 1.0000e-01, Train Loss: 0.8470, Train Acc: 0.7097, Train Latency: 26.61s, Memory Usage: 295.40MB\n",
            "Test Loss: 1.1297, Test Acc: 0.6257, Test Latency: 3.11s, Test Memory Usage: 77.86MB\n",
            "\n",
            "Epoch 40\n"
          ]
        },
        {
          "output_type": "stream",
          "name": "stderr",
          "text": [
            "Train: 100%|##########| 391/391 [00:26<00:00, 14.65batch/s]\n"
          ]
        },
        {
          "output_type": "stream",
          "name": "stdout",
          "text": [
            "LR: 1.0000e-01, Train Loss: 0.8646, Train Acc: 0.7015, Train Latency: 26.69s, Memory Usage: 295.40MB\n",
            "Test Loss: 1.0693, Test Acc: 0.6253, Test Latency: 3.10s, Test Memory Usage: 77.86MB\n",
            "\n",
            "Epoch 41\n"
          ]
        },
        {
          "output_type": "stream",
          "name": "stderr",
          "text": [
            "Train: 100%|##########| 391/391 [00:26<00:00, 14.72batch/s]\n"
          ]
        },
        {
          "output_type": "stream",
          "name": "stdout",
          "text": [
            "LR: 1.0000e-01, Train Loss: 0.8490, Train Acc: 0.7043, Train Latency: 26.57s, Memory Usage: 295.40MB\n",
            "Test Loss: 1.2063, Test Acc: 0.6032, Test Latency: 3.11s, Test Memory Usage: 77.86MB\n",
            "\n",
            "Epoch 42\n"
          ]
        },
        {
          "output_type": "stream",
          "name": "stderr",
          "text": [
            "Train: 100%|##########| 391/391 [00:26<00:00, 14.66batch/s]\n"
          ]
        },
        {
          "output_type": "stream",
          "name": "stdout",
          "text": [
            "LR: 1.0000e-01, Train Loss: 0.8517, Train Acc: 0.7069, Train Latency: 26.68s, Memory Usage: 295.40MB\n",
            "Test Loss: 1.2142, Test Acc: 0.6072, Test Latency: 3.11s, Test Memory Usage: 77.86MB\n",
            "\n",
            "Epoch 43\n"
          ]
        },
        {
          "output_type": "stream",
          "name": "stderr",
          "text": [
            "Train: 100%|##########| 391/391 [00:26<00:00, 14.53batch/s]\n"
          ]
        },
        {
          "output_type": "stream",
          "name": "stdout",
          "text": [
            "LR: 1.0000e-01, Train Loss: 0.8611, Train Acc: 0.7025, Train Latency: 26.91s, Memory Usage: 295.40MB\n",
            "Test Loss: 1.0246, Test Acc: 0.6469, Test Latency: 3.18s, Test Memory Usage: 77.86MB\n",
            "\n",
            "Epoch 44\n"
          ]
        },
        {
          "output_type": "stream",
          "name": "stderr",
          "text": [
            "Train: 100%|##########| 391/391 [00:26<00:00, 14.63batch/s]\n"
          ]
        },
        {
          "output_type": "stream",
          "name": "stdout",
          "text": [
            "LR: 1.0000e-01, Train Loss: 0.8526, Train Acc: 0.7045, Train Latency: 26.73s, Memory Usage: 295.40MB\n",
            "Test Loss: 1.1026, Test Acc: 0.6404, Test Latency: 3.12s, Test Memory Usage: 77.86MB\n",
            "\n",
            "Epoch 45\n"
          ]
        },
        {
          "output_type": "stream",
          "name": "stderr",
          "text": [
            "Train: 100%|##########| 391/391 [00:26<00:00, 14.69batch/s]\n"
          ]
        },
        {
          "output_type": "stream",
          "name": "stdout",
          "text": [
            "LR: 1.0000e-01, Train Loss: 0.8534, Train Acc: 0.7056, Train Latency: 26.63s, Memory Usage: 295.40MB\n",
            "Test Loss: 1.0636, Test Acc: 0.6502, Test Latency: 3.14s, Test Memory Usage: 77.86MB\n",
            "\n",
            "Epoch 46\n"
          ]
        },
        {
          "output_type": "stream",
          "name": "stderr",
          "text": [
            "Train: 100%|##########| 391/391 [00:26<00:00, 14.57batch/s]\n"
          ]
        },
        {
          "output_type": "stream",
          "name": "stdout",
          "text": [
            "LR: 1.0000e-01, Train Loss: 0.8521, Train Acc: 0.7072, Train Latency: 26.85s, Memory Usage: 295.40MB\n",
            "Test Loss: 1.4797, Test Acc: 0.5400, Test Latency: 3.10s, Test Memory Usage: 77.86MB\n",
            "\n",
            "Epoch 47\n"
          ]
        },
        {
          "output_type": "stream",
          "name": "stderr",
          "text": [
            "Train: 100%|##########| 391/391 [00:26<00:00, 14.68batch/s]\n"
          ]
        },
        {
          "output_type": "stream",
          "name": "stdout",
          "text": [
            "LR: 1.0000e-01, Train Loss: 0.8584, Train Acc: 0.7017, Train Latency: 26.64s, Memory Usage: 295.40MB\n",
            "Test Loss: 1.4372, Test Acc: 0.5608, Test Latency: 3.13s, Test Memory Usage: 77.86MB\n",
            "\n",
            "Epoch 48\n"
          ]
        },
        {
          "output_type": "stream",
          "name": "stderr",
          "text": [
            "Train: 100%|##########| 391/391 [00:26<00:00, 14.59batch/s]\n"
          ]
        },
        {
          "output_type": "stream",
          "name": "stdout",
          "text": [
            "LR: 1.0000e-01, Train Loss: 0.8513, Train Acc: 0.7082, Train Latency: 26.80s, Memory Usage: 295.40MB\n",
            "Test Loss: 1.2853, Test Acc: 0.5868, Test Latency: 3.10s, Test Memory Usage: 77.86MB\n",
            "\n",
            "Epoch 49\n"
          ]
        },
        {
          "output_type": "stream",
          "name": "stderr",
          "text": [
            "Train: 100%|##########| 391/391 [00:26<00:00, 14.64batch/s]\n"
          ]
        },
        {
          "output_type": "stream",
          "name": "stdout",
          "text": [
            "LR: 1.0000e-01, Train Loss: 0.8612, Train Acc: 0.7026, Train Latency: 26.71s, Memory Usage: 295.40MB\n",
            "Test Loss: 1.3634, Test Acc: 0.5906, Test Latency: 3.10s, Test Memory Usage: 77.86MB\n",
            "\n",
            "Epoch 50\n"
          ]
        },
        {
          "output_type": "stream",
          "name": "stderr",
          "text": [
            "Train: 100%|##########| 391/391 [00:26<00:00, 14.61batch/s]\n"
          ]
        },
        {
          "output_type": "stream",
          "name": "stdout",
          "text": [
            "LR: 1.0000e-01, Train Loss: 0.8514, Train Acc: 0.7071, Train Latency: 26.77s, Memory Usage: 295.40MB\n",
            "Test Loss: 1.7700, Test Acc: 0.5167, Test Latency: 3.13s, Test Memory Usage: 77.86MB\n",
            "\n",
            "Epoch 51\n"
          ]
        },
        {
          "output_type": "stream",
          "name": "stderr",
          "text": [
            "Train: 100%|##########| 391/391 [00:26<00:00, 14.67batch/s]\n"
          ]
        },
        {
          "output_type": "stream",
          "name": "stdout",
          "text": [
            "LR: 1.0000e-02, Train Loss: 0.6631, Train Acc: 0.7713, Train Latency: 26.65s, Memory Usage: 295.40MB\n",
            "Test Loss: 0.6275, Test Acc: 0.7826, Test Latency: 3.10s, Test Memory Usage: 77.86MB\n",
            "Saving best model ...\n",
            "\n",
            "Epoch 52\n"
          ]
        },
        {
          "output_type": "stream",
          "name": "stderr",
          "text": [
            "Train: 100%|##########| 391/391 [00:26<00:00, 14.61batch/s]\n"
          ]
        },
        {
          "output_type": "stream",
          "name": "stdout",
          "text": [
            "LR: 1.0000e-02, Train Loss: 0.6223, Train Acc: 0.7855, Train Latency: 26.77s, Memory Usage: 295.40MB\n",
            "Test Loss: 0.6570, Test Acc: 0.7741, Test Latency: 3.12s, Test Memory Usage: 77.86MB\n",
            "\n",
            "Epoch 53\n"
          ]
        },
        {
          "output_type": "stream",
          "name": "stderr",
          "text": [
            "Train: 100%|##########| 391/391 [00:26<00:00, 14.62batch/s]\n"
          ]
        },
        {
          "output_type": "stream",
          "name": "stdout",
          "text": [
            "LR: 1.0000e-02, Train Loss: 0.6149, Train Acc: 0.7867, Train Latency: 26.75s, Memory Usage: 295.40MB\n",
            "Test Loss: 0.6365, Test Acc: 0.7806, Test Latency: 3.12s, Test Memory Usage: 77.86MB\n",
            "\n",
            "Epoch 54\n"
          ]
        },
        {
          "output_type": "stream",
          "name": "stderr",
          "text": [
            "Train: 100%|##########| 391/391 [00:26<00:00, 14.62batch/s]\n"
          ]
        },
        {
          "output_type": "stream",
          "name": "stdout",
          "text": [
            "LR: 1.0000e-02, Train Loss: 0.6004, Train Acc: 0.7929, Train Latency: 26.74s, Memory Usage: 295.40MB\n",
            "Test Loss: 0.6875, Test Acc: 0.7662, Test Latency: 3.08s, Test Memory Usage: 77.86MB\n",
            "\n",
            "Epoch 55\n"
          ]
        },
        {
          "output_type": "stream",
          "name": "stderr",
          "text": [
            "Train: 100%|##########| 391/391 [00:26<00:00, 14.49batch/s]\n"
          ]
        },
        {
          "output_type": "stream",
          "name": "stdout",
          "text": [
            "LR: 1.0000e-02, Train Loss: 0.5911, Train Acc: 0.7968, Train Latency: 26.98s, Memory Usage: 295.40MB\n",
            "Test Loss: 0.6690, Test Acc: 0.7673, Test Latency: 3.15s, Test Memory Usage: 77.86MB\n",
            "\n",
            "Epoch 56\n"
          ]
        },
        {
          "output_type": "stream",
          "name": "stderr",
          "text": [
            "Train: 100%|##########| 391/391 [00:27<00:00, 14.13batch/s]\n"
          ]
        },
        {
          "output_type": "stream",
          "name": "stdout",
          "text": [
            "LR: 1.0000e-02, Train Loss: 0.6009, Train Acc: 0.7929, Train Latency: 27.67s, Memory Usage: 295.40MB\n",
            "Test Loss: 0.7012, Test Acc: 0.7586, Test Latency: 3.25s, Test Memory Usage: 77.86MB\n",
            "\n",
            "Epoch 57\n"
          ]
        },
        {
          "output_type": "stream",
          "name": "stderr",
          "text": [
            "Train: 100%|##########| 391/391 [00:27<00:00, 14.27batch/s]\n"
          ]
        },
        {
          "output_type": "stream",
          "name": "stdout",
          "text": [
            "LR: 1.0000e-02, Train Loss: 0.5949, Train Acc: 0.7938, Train Latency: 27.40s, Memory Usage: 295.40MB\n",
            "Test Loss: 0.6902, Test Acc: 0.7620, Test Latency: 3.17s, Test Memory Usage: 77.86MB\n",
            "\n",
            "Epoch 58\n"
          ]
        },
        {
          "output_type": "stream",
          "name": "stderr",
          "text": [
            "Train: 100%|##########| 391/391 [00:27<00:00, 14.27batch/s]\n"
          ]
        },
        {
          "output_type": "stream",
          "name": "stdout",
          "text": [
            "LR: 1.0000e-02, Train Loss: 0.5984, Train Acc: 0.7941, Train Latency: 27.41s, Memory Usage: 295.40MB\n",
            "Test Loss: 0.6953, Test Acc: 0.7557, Test Latency: 3.17s, Test Memory Usage: 77.86MB\n",
            "\n",
            "Epoch 59\n"
          ]
        },
        {
          "output_type": "stream",
          "name": "stderr",
          "text": [
            "Train: 100%|##########| 391/391 [00:27<00:00, 14.24batch/s]\n"
          ]
        },
        {
          "output_type": "stream",
          "name": "stdout",
          "text": [
            "LR: 1.0000e-02, Train Loss: 0.5863, Train Acc: 0.7968, Train Latency: 27.47s, Memory Usage: 295.40MB\n",
            "Test Loss: 0.6269, Test Acc: 0.7876, Test Latency: 3.31s, Test Memory Usage: 77.86MB\n",
            "Saving best model ...\n",
            "\n",
            "Epoch 60\n"
          ]
        },
        {
          "output_type": "stream",
          "name": "stderr",
          "text": [
            "Train: 100%|##########| 391/391 [00:28<00:00, 13.82batch/s]\n"
          ]
        },
        {
          "output_type": "stream",
          "name": "stdout",
          "text": [
            "LR: 1.0000e-02, Train Loss: 0.5889, Train Acc: 0.7961, Train Latency: 28.29s, Memory Usage: 295.40MB\n",
            "Test Loss: 0.6764, Test Acc: 0.7647, Test Latency: 3.29s, Test Memory Usage: 77.86MB\n",
            "\n",
            "Epoch 61\n"
          ]
        },
        {
          "output_type": "stream",
          "name": "stderr",
          "text": [
            "Train: 100%|##########| 391/391 [00:28<00:00, 13.78batch/s]\n"
          ]
        },
        {
          "output_type": "stream",
          "name": "stdout",
          "text": [
            "LR: 1.0000e-02, Train Loss: 0.6001, Train Acc: 0.7917, Train Latency: 28.38s, Memory Usage: 295.40MB\n",
            "Test Loss: 0.7771, Test Acc: 0.7373, Test Latency: 3.35s, Test Memory Usage: 77.86MB\n",
            "\n",
            "Epoch 62\n"
          ]
        },
        {
          "output_type": "stream",
          "name": "stderr",
          "text": [
            "Train: 100%|##########| 391/391 [00:28<00:00, 13.66batch/s]\n"
          ]
        },
        {
          "output_type": "stream",
          "name": "stdout",
          "text": [
            "LR: 1.0000e-02, Train Loss: 0.5924, Train Acc: 0.7950, Train Latency: 28.62s, Memory Usage: 295.40MB\n",
            "Test Loss: 0.7372, Test Acc: 0.7571, Test Latency: 3.31s, Test Memory Usage: 77.86MB\n",
            "\n",
            "Epoch 63\n"
          ]
        },
        {
          "output_type": "stream",
          "name": "stderr",
          "text": [
            "Train: 100%|##########| 391/391 [00:28<00:00, 13.77batch/s]\n"
          ]
        },
        {
          "output_type": "stream",
          "name": "stdout",
          "text": [
            "LR: 1.0000e-02, Train Loss: 0.5957, Train Acc: 0.7944, Train Latency: 28.41s, Memory Usage: 295.40MB\n",
            "Test Loss: 0.6981, Test Acc: 0.7574, Test Latency: 3.34s, Test Memory Usage: 77.86MB\n",
            "\n",
            "Epoch 64\n"
          ]
        },
        {
          "output_type": "stream",
          "name": "stderr",
          "text": [
            "Train: 100%|##########| 391/391 [00:27<00:00, 14.13batch/s]\n"
          ]
        },
        {
          "output_type": "stream",
          "name": "stdout",
          "text": [
            "LR: 1.0000e-02, Train Loss: 0.5960, Train Acc: 0.7940, Train Latency: 27.68s, Memory Usage: 295.40MB\n",
            "Test Loss: 0.7602, Test Acc: 0.7517, Test Latency: 3.16s, Test Memory Usage: 77.86MB\n",
            "\n",
            "Epoch 65\n"
          ]
        },
        {
          "output_type": "stream",
          "name": "stderr",
          "text": [
            "Train: 100%|##########| 391/391 [00:27<00:00, 14.31batch/s]\n"
          ]
        },
        {
          "output_type": "stream",
          "name": "stdout",
          "text": [
            "LR: 1.0000e-02, Train Loss: 0.6061, Train Acc: 0.7910, Train Latency: 27.33s, Memory Usage: 295.40MB\n",
            "Test Loss: 0.7869, Test Acc: 0.7326, Test Latency: 3.15s, Test Memory Usage: 77.86MB\n",
            "\n",
            "Epoch 66\n"
          ]
        },
        {
          "output_type": "stream",
          "name": "stderr",
          "text": [
            "Train: 100%|##########| 391/391 [00:27<00:00, 14.34batch/s]\n"
          ]
        },
        {
          "output_type": "stream",
          "name": "stdout",
          "text": [
            "LR: 1.0000e-02, Train Loss: 0.6040, Train Acc: 0.7912, Train Latency: 27.28s, Memory Usage: 295.40MB\n",
            "Test Loss: 0.7848, Test Acc: 0.7389, Test Latency: 3.17s, Test Memory Usage: 77.86MB\n",
            "\n",
            "Epoch 67\n"
          ]
        },
        {
          "output_type": "stream",
          "name": "stderr",
          "text": [
            "Train: 100%|##########| 391/391 [00:27<00:00, 14.36batch/s]\n"
          ]
        },
        {
          "output_type": "stream",
          "name": "stdout",
          "text": [
            "LR: 1.0000e-02, Train Loss: 0.6010, Train Acc: 0.7911, Train Latency: 27.23s, Memory Usage: 295.40MB\n",
            "Test Loss: 0.7698, Test Acc: 0.7397, Test Latency: 3.21s, Test Memory Usage: 77.86MB\n",
            "\n",
            "Epoch 68\n"
          ]
        },
        {
          "output_type": "stream",
          "name": "stderr",
          "text": [
            "Train: 100%|##########| 391/391 [00:27<00:00, 14.37batch/s]\n"
          ]
        },
        {
          "output_type": "stream",
          "name": "stdout",
          "text": [
            "LR: 1.0000e-02, Train Loss: 0.6015, Train Acc: 0.7907, Train Latency: 27.22s, Memory Usage: 295.40MB\n",
            "Test Loss: 0.7000, Test Acc: 0.7569, Test Latency: 3.17s, Test Memory Usage: 77.86MB\n",
            "\n",
            "Epoch 69\n"
          ]
        },
        {
          "output_type": "stream",
          "name": "stderr",
          "text": [
            "Train: 100%|##########| 391/391 [00:26<00:00, 14.50batch/s]\n"
          ]
        },
        {
          "output_type": "stream",
          "name": "stdout",
          "text": [
            "LR: 1.0000e-02, Train Loss: 0.6048, Train Acc: 0.7916, Train Latency: 26.96s, Memory Usage: 295.40MB\n",
            "Test Loss: 0.6366, Test Acc: 0.7781, Test Latency: 3.13s, Test Memory Usage: 77.86MB\n",
            "\n",
            "Epoch 70\n"
          ]
        },
        {
          "output_type": "stream",
          "name": "stderr",
          "text": [
            "Train: 100%|##########| 391/391 [00:26<00:00, 14.52batch/s]\n"
          ]
        },
        {
          "output_type": "stream",
          "name": "stdout",
          "text": [
            "LR: 1.0000e-02, Train Loss: 0.6022, Train Acc: 0.7931, Train Latency: 26.92s, Memory Usage: 295.40MB\n",
            "Test Loss: 0.8143, Test Acc: 0.7302, Test Latency: 3.15s, Test Memory Usage: 77.86MB\n",
            "\n",
            "Epoch 71\n"
          ]
        },
        {
          "output_type": "stream",
          "name": "stderr",
          "text": [
            "Train: 100%|##########| 391/391 [00:27<00:00, 14.43batch/s]\n"
          ]
        },
        {
          "output_type": "stream",
          "name": "stdout",
          "text": [
            "LR: 1.0000e-02, Train Loss: 0.5957, Train Acc: 0.7933, Train Latency: 27.09s, Memory Usage: 295.40MB\n",
            "Test Loss: 0.8499, Test Acc: 0.7288, Test Latency: 3.11s, Test Memory Usage: 77.86MB\n",
            "\n",
            "Epoch 72\n"
          ]
        },
        {
          "output_type": "stream",
          "name": "stderr",
          "text": [
            "Train: 100%|##########| 391/391 [00:27<00:00, 14.39batch/s]\n"
          ]
        },
        {
          "output_type": "stream",
          "name": "stdout",
          "text": [
            "LR: 1.0000e-02, Train Loss: 0.6026, Train Acc: 0.7911, Train Latency: 27.17s, Memory Usage: 295.40MB\n",
            "Test Loss: 0.6720, Test Acc: 0.7687, Test Latency: 3.15s, Test Memory Usage: 77.86MB\n",
            "\n",
            "Epoch 73\n"
          ]
        },
        {
          "output_type": "stream",
          "name": "stderr",
          "text": [
            "Train: 100%|##########| 391/391 [00:26<00:00, 14.53batch/s]\n"
          ]
        },
        {
          "output_type": "stream",
          "name": "stdout",
          "text": [
            "LR: 1.0000e-02, Train Loss: 0.6032, Train Acc: 0.7913, Train Latency: 26.91s, Memory Usage: 295.40MB\n",
            "Test Loss: 0.7564, Test Acc: 0.7430, Test Latency: 3.11s, Test Memory Usage: 77.86MB\n",
            "\n",
            "Epoch 74\n"
          ]
        },
        {
          "output_type": "stream",
          "name": "stderr",
          "text": [
            "Train: 100%|##########| 391/391 [00:27<00:00, 14.43batch/s]\n"
          ]
        },
        {
          "output_type": "stream",
          "name": "stdout",
          "text": [
            "LR: 1.0000e-02, Train Loss: 0.5997, Train Acc: 0.7916, Train Latency: 27.10s, Memory Usage: 295.40MB\n",
            "Test Loss: 0.7182, Test Acc: 0.7578, Test Latency: 3.13s, Test Memory Usage: 77.86MB\n",
            "\n",
            "Epoch 75\n"
          ]
        },
        {
          "output_type": "stream",
          "name": "stderr",
          "text": [
            "Train: 100%|##########| 391/391 [00:26<00:00, 14.48batch/s]\n"
          ]
        },
        {
          "output_type": "stream",
          "name": "stdout",
          "text": [
            "LR: 1.0000e-02, Train Loss: 0.6017, Train Acc: 0.7926, Train Latency: 27.00s, Memory Usage: 295.40MB\n",
            "Test Loss: 0.8104, Test Acc: 0.7308, Test Latency: 3.15s, Test Memory Usage: 77.86MB\n",
            "\n",
            "Epoch 76\n"
          ]
        },
        {
          "output_type": "stream",
          "name": "stderr",
          "text": [
            "Train: 100%|##########| 391/391 [00:27<00:00, 14.39batch/s]\n"
          ]
        },
        {
          "output_type": "stream",
          "name": "stdout",
          "text": [
            "LR: 1.0000e-02, Train Loss: 0.5924, Train Acc: 0.7938, Train Latency: 27.18s, Memory Usage: 295.40MB\n",
            "Test Loss: 0.7180, Test Acc: 0.7524, Test Latency: 3.15s, Test Memory Usage: 77.86MB\n",
            "\n",
            "Epoch 77\n"
          ]
        },
        {
          "output_type": "stream",
          "name": "stderr",
          "text": [
            "Train: 100%|##########| 391/391 [00:27<00:00, 14.46batch/s]\n"
          ]
        },
        {
          "output_type": "stream",
          "name": "stdout",
          "text": [
            "LR: 1.0000e-02, Train Loss: 0.6028, Train Acc: 0.7918, Train Latency: 27.04s, Memory Usage: 295.40MB\n",
            "Test Loss: 0.7970, Test Acc: 0.7374, Test Latency: 3.10s, Test Memory Usage: 77.86MB\n",
            "\n",
            "Epoch 78\n"
          ]
        },
        {
          "output_type": "stream",
          "name": "stderr",
          "text": [
            "Train: 100%|##########| 391/391 [00:27<00:00, 14.43batch/s]\n"
          ]
        },
        {
          "output_type": "stream",
          "name": "stdout",
          "text": [
            "LR: 1.0000e-02, Train Loss: 0.6028, Train Acc: 0.7911, Train Latency: 27.09s, Memory Usage: 295.40MB\n",
            "Test Loss: 0.7895, Test Acc: 0.7343, Test Latency: 3.17s, Test Memory Usage: 77.86MB\n",
            "\n",
            "Epoch 79\n"
          ]
        },
        {
          "output_type": "stream",
          "name": "stderr",
          "text": [
            "Train: 100%|##########| 391/391 [00:27<00:00, 14.47batch/s]\n"
          ]
        },
        {
          "output_type": "stream",
          "name": "stdout",
          "text": [
            "LR: 1.0000e-02, Train Loss: 0.5996, Train Acc: 0.7913, Train Latency: 27.04s, Memory Usage: 295.40MB\n",
            "Test Loss: 0.6496, Test Acc: 0.7758, Test Latency: 3.14s, Test Memory Usage: 77.86MB\n",
            "\n",
            "Epoch 80\n"
          ]
        },
        {
          "output_type": "stream",
          "name": "stderr",
          "text": [
            "Train: 100%|##########| 391/391 [00:26<00:00, 14.48batch/s]\n"
          ]
        },
        {
          "output_type": "stream",
          "name": "stdout",
          "text": [
            "LR: 1.0000e-02, Train Loss: 0.5971, Train Acc: 0.7930, Train Latency: 27.00s, Memory Usage: 295.40MB\n",
            "Test Loss: 0.8814, Test Acc: 0.7336, Test Latency: 3.13s, Test Memory Usage: 77.86MB\n",
            "\n",
            "Epoch 81\n"
          ]
        },
        {
          "output_type": "stream",
          "name": "stderr",
          "text": [
            "Train: 100%|##########| 391/391 [00:26<00:00, 14.51batch/s]\n"
          ]
        },
        {
          "output_type": "stream",
          "name": "stdout",
          "text": [
            "LR: 1.0000e-02, Train Loss: 0.5921, Train Acc: 0.7940, Train Latency: 26.95s, Memory Usage: 295.40MB\n",
            "Test Loss: 0.6314, Test Acc: 0.7874, Test Latency: 3.16s, Test Memory Usage: 77.86MB\n",
            "\n",
            "Epoch 82\n"
          ]
        },
        {
          "output_type": "stream",
          "name": "stderr",
          "text": [
            "Train: 100%|##########| 391/391 [00:27<00:00, 14.25batch/s]\n"
          ]
        },
        {
          "output_type": "stream",
          "name": "stdout",
          "text": [
            "LR: 1.0000e-02, Train Loss: 0.6057, Train Acc: 0.7897, Train Latency: 27.43s, Memory Usage: 295.40MB\n",
            "Test Loss: 0.8636, Test Acc: 0.7188, Test Latency: 3.23s, Test Memory Usage: 77.86MB\n",
            "\n",
            "Epoch 83\n"
          ]
        },
        {
          "output_type": "stream",
          "name": "stderr",
          "text": [
            "Train: 100%|##########| 391/391 [00:27<00:00, 14.42batch/s]\n"
          ]
        },
        {
          "output_type": "stream",
          "name": "stdout",
          "text": [
            "LR: 1.0000e-02, Train Loss: 0.6007, Train Acc: 0.7934, Train Latency: 27.12s, Memory Usage: 295.40MB\n",
            "Test Loss: 0.6960, Test Acc: 0.7643, Test Latency: 3.14s, Test Memory Usage: 77.86MB\n",
            "\n",
            "Epoch 84\n"
          ]
        },
        {
          "output_type": "stream",
          "name": "stderr",
          "text": [
            "Train: 100%|##########| 391/391 [00:26<00:00, 14.53batch/s]\n"
          ]
        },
        {
          "output_type": "stream",
          "name": "stdout",
          "text": [
            "LR: 1.0000e-02, Train Loss: 0.6075, Train Acc: 0.7909, Train Latency: 26.92s, Memory Usage: 295.40MB\n",
            "Test Loss: 0.9200, Test Acc: 0.6947, Test Latency: 3.15s, Test Memory Usage: 77.86MB\n",
            "\n",
            "Epoch 85\n"
          ]
        },
        {
          "output_type": "stream",
          "name": "stderr",
          "text": [
            "Train: 100%|##########| 391/391 [00:27<00:00, 14.30batch/s]\n"
          ]
        },
        {
          "output_type": "stream",
          "name": "stdout",
          "text": [
            "LR: 1.0000e-02, Train Loss: 0.6038, Train Acc: 0.7896, Train Latency: 27.35s, Memory Usage: 295.40MB\n",
            "Test Loss: 0.6422, Test Acc: 0.7753, Test Latency: 3.20s, Test Memory Usage: 77.86MB\n",
            "\n",
            "Epoch 86\n"
          ]
        },
        {
          "output_type": "stream",
          "name": "stderr",
          "text": [
            "Train: 100%|##########| 391/391 [00:27<00:00, 14.22batch/s]\n"
          ]
        },
        {
          "output_type": "stream",
          "name": "stdout",
          "text": [
            "LR: 1.0000e-02, Train Loss: 0.5968, Train Acc: 0.7928, Train Latency: 27.50s, Memory Usage: 295.40MB\n",
            "Test Loss: 0.7868, Test Acc: 0.7215, Test Latency: 3.18s, Test Memory Usage: 77.86MB\n",
            "\n",
            "Epoch 87\n"
          ]
        },
        {
          "output_type": "stream",
          "name": "stderr",
          "text": [
            "Train: 100%|##########| 391/391 [00:27<00:00, 14.31batch/s]\n"
          ]
        },
        {
          "output_type": "stream",
          "name": "stdout",
          "text": [
            "LR: 1.0000e-02, Train Loss: 0.6022, Train Acc: 0.7918, Train Latency: 27.33s, Memory Usage: 295.40MB\n",
            "Test Loss: 1.0084, Test Acc: 0.6663, Test Latency: 3.19s, Test Memory Usage: 77.86MB\n",
            "\n",
            "Epoch 88\n"
          ]
        },
        {
          "output_type": "stream",
          "name": "stderr",
          "text": [
            "Train: 100%|##########| 391/391 [00:27<00:00, 14.21batch/s]\n"
          ]
        },
        {
          "output_type": "stream",
          "name": "stdout",
          "text": [
            "LR: 1.0000e-02, Train Loss: 0.6049, Train Acc: 0.7919, Train Latency: 27.52s, Memory Usage: 295.40MB\n",
            "Test Loss: 0.6985, Test Acc: 0.7664, Test Latency: 3.16s, Test Memory Usage: 77.86MB\n",
            "\n",
            "Epoch 89\n"
          ]
        },
        {
          "output_type": "stream",
          "name": "stderr",
          "text": [
            "Train: 100%|##########| 391/391 [00:27<00:00, 14.28batch/s]\n"
          ]
        },
        {
          "output_type": "stream",
          "name": "stdout",
          "text": [
            "LR: 1.0000e-02, Train Loss: 0.6013, Train Acc: 0.7929, Train Latency: 27.38s, Memory Usage: 295.40MB\n",
            "Test Loss: 0.8026, Test Acc: 0.7291, Test Latency: 3.19s, Test Memory Usage: 77.86MB\n",
            "\n",
            "Epoch 90\n"
          ]
        },
        {
          "output_type": "stream",
          "name": "stderr",
          "text": [
            "Train: 100%|##########| 391/391 [00:27<00:00, 14.30batch/s]\n"
          ]
        },
        {
          "output_type": "stream",
          "name": "stdout",
          "text": [
            "LR: 1.0000e-02, Train Loss: 0.5991, Train Acc: 0.7927, Train Latency: 27.34s, Memory Usage: 295.40MB\n",
            "Test Loss: 0.6641, Test Acc: 0.7709, Test Latency: 3.18s, Test Memory Usage: 77.86MB\n",
            "\n",
            "Epoch 91\n"
          ]
        },
        {
          "output_type": "stream",
          "name": "stderr",
          "text": [
            "Train: 100%|##########| 391/391 [00:27<00:00, 14.23batch/s]\n"
          ]
        },
        {
          "output_type": "stream",
          "name": "stdout",
          "text": [
            "LR: 1.0000e-02, Train Loss: 0.5936, Train Acc: 0.7967, Train Latency: 27.47s, Memory Usage: 295.40MB\n",
            "Test Loss: 0.7779, Test Acc: 0.7461, Test Latency: 3.13s, Test Memory Usage: 77.86MB\n",
            "\n",
            "Epoch 92\n"
          ]
        },
        {
          "output_type": "stream",
          "name": "stderr",
          "text": [
            "Train: 100%|##########| 391/391 [00:27<00:00, 14.44batch/s]\n"
          ]
        },
        {
          "output_type": "stream",
          "name": "stdout",
          "text": [
            "LR: 1.0000e-02, Train Loss: 0.5894, Train Acc: 0.7947, Train Latency: 27.08s, Memory Usage: 295.40MB\n",
            "Test Loss: 0.7516, Test Acc: 0.7503, Test Latency: 3.16s, Test Memory Usage: 77.86MB\n",
            "\n",
            "Epoch 93\n"
          ]
        },
        {
          "output_type": "stream",
          "name": "stderr",
          "text": [
            "Train: 100%|##########| 391/391 [00:27<00:00, 14.27batch/s]\n"
          ]
        },
        {
          "output_type": "stream",
          "name": "stdout",
          "text": [
            "LR: 1.0000e-02, Train Loss: 0.5907, Train Acc: 0.7957, Train Latency: 27.40s, Memory Usage: 295.40MB\n",
            "Test Loss: 0.6909, Test Acc: 0.7656, Test Latency: 3.17s, Test Memory Usage: 77.86MB\n",
            "\n",
            "Epoch 94\n"
          ]
        },
        {
          "output_type": "stream",
          "name": "stderr",
          "text": [
            "Train: 100%|##########| 391/391 [00:27<00:00, 14.35batch/s]\n"
          ]
        },
        {
          "output_type": "stream",
          "name": "stdout",
          "text": [
            "LR: 1.0000e-02, Train Loss: 0.5872, Train Acc: 0.7972, Train Latency: 27.26s, Memory Usage: 295.40MB\n",
            "Test Loss: 0.8294, Test Acc: 0.7197, Test Latency: 3.22s, Test Memory Usage: 77.86MB\n",
            "\n",
            "Epoch 95\n"
          ]
        },
        {
          "output_type": "stream",
          "name": "stderr",
          "text": [
            "Train: 100%|##########| 391/391 [00:27<00:00, 14.19batch/s]\n"
          ]
        },
        {
          "output_type": "stream",
          "name": "stdout",
          "text": [
            "LR: 1.0000e-02, Train Loss: 0.5922, Train Acc: 0.7965, Train Latency: 27.55s, Memory Usage: 295.40MB\n",
            "Test Loss: 0.6670, Test Acc: 0.7745, Test Latency: 3.17s, Test Memory Usage: 77.86MB\n",
            "\n",
            "Epoch 96\n"
          ]
        },
        {
          "output_type": "stream",
          "name": "stderr",
          "text": [
            "Train: 100%|##########| 391/391 [00:27<00:00, 14.24batch/s]\n"
          ]
        },
        {
          "output_type": "stream",
          "name": "stdout",
          "text": [
            "LR: 1.0000e-02, Train Loss: 0.5872, Train Acc: 0.7970, Train Latency: 27.47s, Memory Usage: 295.40MB\n",
            "Test Loss: 0.6629, Test Acc: 0.7679, Test Latency: 3.17s, Test Memory Usage: 77.86MB\n",
            "\n",
            "Epoch 97\n"
          ]
        },
        {
          "output_type": "stream",
          "name": "stderr",
          "text": [
            "Train: 100%|##########| 391/391 [00:27<00:00, 14.29batch/s]\n"
          ]
        },
        {
          "output_type": "stream",
          "name": "stdout",
          "text": [
            "LR: 1.0000e-02, Train Loss: 0.5870, Train Acc: 0.7958, Train Latency: 27.37s, Memory Usage: 295.40MB\n",
            "Test Loss: 0.6753, Test Acc: 0.7665, Test Latency: 3.16s, Test Memory Usage: 77.86MB\n",
            "\n",
            "Epoch 98\n"
          ]
        },
        {
          "output_type": "stream",
          "name": "stderr",
          "text": [
            "Train: 100%|##########| 391/391 [00:27<00:00, 14.31batch/s]\n"
          ]
        },
        {
          "output_type": "stream",
          "name": "stdout",
          "text": [
            "LR: 1.0000e-02, Train Loss: 0.5901, Train Acc: 0.7964, Train Latency: 27.33s, Memory Usage: 295.40MB\n",
            "Test Loss: 0.7366, Test Acc: 0.7550, Test Latency: 3.17s, Test Memory Usage: 77.86MB\n",
            "\n",
            "Epoch 99\n"
          ]
        },
        {
          "output_type": "stream",
          "name": "stderr",
          "text": [
            "Train: 100%|##########| 391/391 [00:27<00:00, 14.35batch/s]\n"
          ]
        },
        {
          "output_type": "stream",
          "name": "stdout",
          "text": [
            "LR: 1.0000e-02, Train Loss: 0.5910, Train Acc: 0.7961, Train Latency: 27.25s, Memory Usage: 295.40MB\n",
            "Test Loss: 0.6964, Test Acc: 0.7627, Test Latency: 3.14s, Test Memory Usage: 77.86MB\n",
            "\n",
            "Epoch 100\n"
          ]
        },
        {
          "output_type": "stream",
          "name": "stderr",
          "text": [
            "Train: 100%|##########| 391/391 [00:27<00:00, 14.37batch/s]\n"
          ]
        },
        {
          "output_type": "stream",
          "name": "stdout",
          "text": [
            "LR: 1.0000e-02, Train Loss: 0.5851, Train Acc: 0.7975, Train Latency: 27.21s, Memory Usage: 295.40MB\n",
            "Test Loss: 0.7009, Test Acc: 0.7614, Test Latency: 3.15s, Test Memory Usage: 77.86MB\n",
            "\n",
            "Epoch 101\n"
          ]
        },
        {
          "output_type": "stream",
          "name": "stderr",
          "text": [
            "Train: 100%|##########| 391/391 [00:27<00:00, 14.32batch/s]\n"
          ]
        },
        {
          "output_type": "stream",
          "name": "stdout",
          "text": [
            "LR: 1.0000e-03, Train Loss: 0.5133, Train Acc: 0.8226, Train Latency: 27.30s, Memory Usage: 295.40MB\n",
            "Test Loss: 0.5378, Test Acc: 0.8107, Test Latency: 3.15s, Test Memory Usage: 77.86MB\n",
            "Saving best model ...\n",
            "\n",
            "Epoch 102\n"
          ]
        },
        {
          "output_type": "stream",
          "name": "stderr",
          "text": [
            "Train: 100%|##########| 391/391 [00:27<00:00, 14.35batch/s]\n"
          ]
        },
        {
          "output_type": "stream",
          "name": "stdout",
          "text": [
            "LR: 1.0000e-03, Train Loss: 0.4949, Train Acc: 0.8290, Train Latency: 27.24s, Memory Usage: 295.40MB\n",
            "Test Loss: 0.5281, Test Acc: 0.8159, Test Latency: 3.14s, Test Memory Usage: 77.86MB\n",
            "Saving best model ...\n",
            "\n",
            "Epoch 103\n"
          ]
        },
        {
          "output_type": "stream",
          "name": "stderr",
          "text": [
            "Train: 100%|##########| 391/391 [00:27<00:00, 14.39batch/s]\n"
          ]
        },
        {
          "output_type": "stream",
          "name": "stdout",
          "text": [
            "LR: 1.0000e-03, Train Loss: 0.4846, Train Acc: 0.8319, Train Latency: 27.18s, Memory Usage: 295.40MB\n",
            "Test Loss: 0.5534, Test Acc: 0.8062, Test Latency: 3.16s, Test Memory Usage: 77.86MB\n",
            "\n",
            "Epoch 104\n"
          ]
        },
        {
          "output_type": "stream",
          "name": "stderr",
          "text": [
            "Train: 100%|##########| 391/391 [00:27<00:00, 14.32batch/s]\n"
          ]
        },
        {
          "output_type": "stream",
          "name": "stdout",
          "text": [
            "LR: 1.0000e-03, Train Loss: 0.4863, Train Acc: 0.8327, Train Latency: 27.32s, Memory Usage: 295.40MB\n",
            "Test Loss: 0.5419, Test Acc: 0.8181, Test Latency: 3.15s, Test Memory Usage: 77.86MB\n",
            "Saving best model ...\n",
            "\n",
            "Epoch 105\n"
          ]
        },
        {
          "output_type": "stream",
          "name": "stderr",
          "text": [
            "Train: 100%|##########| 391/391 [00:27<00:00, 14.30batch/s]\n"
          ]
        },
        {
          "output_type": "stream",
          "name": "stdout",
          "text": [
            "LR: 1.0000e-03, Train Loss: 0.4846, Train Acc: 0.8328, Train Latency: 27.35s, Memory Usage: 295.40MB\n",
            "Test Loss: 0.5511, Test Acc: 0.8084, Test Latency: 3.14s, Test Memory Usage: 77.86MB\n",
            "\n",
            "Epoch 106\n"
          ]
        },
        {
          "output_type": "stream",
          "name": "stderr",
          "text": [
            "Train: 100%|##########| 391/391 [00:27<00:00, 14.31batch/s]\n"
          ]
        },
        {
          "output_type": "stream",
          "name": "stdout",
          "text": [
            "LR: 1.0000e-03, Train Loss: 0.4887, Train Acc: 0.8309, Train Latency: 27.33s, Memory Usage: 295.40MB\n",
            "Test Loss: 0.5350, Test Acc: 0.8153, Test Latency: 3.14s, Test Memory Usage: 77.86MB\n",
            "\n",
            "Epoch 107\n"
          ]
        },
        {
          "output_type": "stream",
          "name": "stderr",
          "text": [
            "Train: 100%|##########| 391/391 [00:27<00:00, 14.31batch/s]\n"
          ]
        },
        {
          "output_type": "stream",
          "name": "stdout",
          "text": [
            "LR: 1.0000e-03, Train Loss: 0.4879, Train Acc: 0.8318, Train Latency: 27.32s, Memory Usage: 295.40MB\n",
            "Test Loss: 0.5589, Test Acc: 0.8079, Test Latency: 3.16s, Test Memory Usage: 77.86MB\n",
            "\n",
            "Epoch 108\n"
          ]
        },
        {
          "output_type": "stream",
          "name": "stderr",
          "text": [
            "Train: 100%|##########| 391/391 [00:27<00:00, 14.31batch/s]\n"
          ]
        },
        {
          "output_type": "stream",
          "name": "stdout",
          "text": [
            "LR: 1.0000e-03, Train Loss: 0.4886, Train Acc: 0.8301, Train Latency: 27.32s, Memory Usage: 295.40MB\n",
            "Test Loss: 0.5427, Test Acc: 0.8136, Test Latency: 3.16s, Test Memory Usage: 77.86MB\n",
            "\n",
            "Epoch 109\n"
          ]
        },
        {
          "output_type": "stream",
          "name": "stderr",
          "text": [
            "Train: 100%|##########| 391/391 [00:27<00:00, 14.34batch/s]\n"
          ]
        },
        {
          "output_type": "stream",
          "name": "stdout",
          "text": [
            "LR: 1.0000e-03, Train Loss: 0.4900, Train Acc: 0.8288, Train Latency: 27.27s, Memory Usage: 295.40MB\n",
            "Test Loss: 0.5680, Test Acc: 0.8076, Test Latency: 3.20s, Test Memory Usage: 77.86MB\n",
            "\n",
            "Epoch 110\n"
          ]
        },
        {
          "output_type": "stream",
          "name": "stderr",
          "text": [
            "Train: 100%|##########| 391/391 [00:27<00:00, 14.22batch/s]\n"
          ]
        },
        {
          "output_type": "stream",
          "name": "stdout",
          "text": [
            "LR: 1.0000e-03, Train Loss: 0.4830, Train Acc: 0.8334, Train Latency: 27.49s, Memory Usage: 295.40MB\n",
            "Test Loss: 0.5190, Test Acc: 0.8219, Test Latency: 3.16s, Test Memory Usage: 77.86MB\n",
            "Saving best model ...\n",
            "\n",
            "Epoch 111\n"
          ]
        },
        {
          "output_type": "stream",
          "name": "stderr",
          "text": [
            "Train: 100%|##########| 391/391 [00:27<00:00, 14.40batch/s]\n"
          ]
        },
        {
          "output_type": "stream",
          "name": "stdout",
          "text": [
            "LR: 1.0000e-03, Train Loss: 0.4822, Train Acc: 0.8332, Train Latency: 27.15s, Memory Usage: 295.40MB\n",
            "Test Loss: 0.5772, Test Acc: 0.8057, Test Latency: 3.18s, Test Memory Usage: 77.86MB\n",
            "\n",
            "Epoch 112\n"
          ]
        },
        {
          "output_type": "stream",
          "name": "stderr",
          "text": [
            "Train: 100%|##########| 391/391 [00:27<00:00, 14.36batch/s]\n"
          ]
        },
        {
          "output_type": "stream",
          "name": "stdout",
          "text": [
            "LR: 1.0000e-03, Train Loss: 0.4870, Train Acc: 0.8332, Train Latency: 27.22s, Memory Usage: 295.40MB\n",
            "Test Loss: 0.5723, Test Acc: 0.8084, Test Latency: 3.13s, Test Memory Usage: 77.86MB\n",
            "\n",
            "Epoch 113\n"
          ]
        },
        {
          "output_type": "stream",
          "name": "stderr",
          "text": [
            "Train: 100%|##########| 391/391 [00:27<00:00, 14.46batch/s]\n"
          ]
        },
        {
          "output_type": "stream",
          "name": "stdout",
          "text": [
            "LR: 1.0000e-03, Train Loss: 0.4798, Train Acc: 0.8354, Train Latency: 27.04s, Memory Usage: 295.40MB\n",
            "Test Loss: 0.5289, Test Acc: 0.8189, Test Latency: 3.18s, Test Memory Usage: 77.86MB\n",
            "\n",
            "Epoch 114\n"
          ]
        },
        {
          "output_type": "stream",
          "name": "stderr",
          "text": [
            "Train: 100%|##########| 391/391 [00:27<00:00, 14.47batch/s]\n"
          ]
        },
        {
          "output_type": "stream",
          "name": "stdout",
          "text": [
            "LR: 1.0000e-03, Train Loss: 0.4846, Train Acc: 0.8320, Train Latency: 27.02s, Memory Usage: 295.40MB\n",
            "Test Loss: 0.5423, Test Acc: 0.8128, Test Latency: 3.14s, Test Memory Usage: 77.86MB\n",
            "\n",
            "Epoch 115\n"
          ]
        },
        {
          "output_type": "stream",
          "name": "stderr",
          "text": [
            "Train: 100%|##########| 391/391 [00:27<00:00, 14.41batch/s]\n"
          ]
        },
        {
          "output_type": "stream",
          "name": "stdout",
          "text": [
            "LR: 1.0000e-03, Train Loss: 0.4775, Train Acc: 0.8342, Train Latency: 27.14s, Memory Usage: 295.40MB\n",
            "Test Loss: 0.5856, Test Acc: 0.7975, Test Latency: 3.17s, Test Memory Usage: 77.86MB\n",
            "\n",
            "Epoch 116\n"
          ]
        },
        {
          "output_type": "stream",
          "name": "stderr",
          "text": [
            "Train: 100%|##########| 391/391 [00:27<00:00, 14.28batch/s]\n"
          ]
        },
        {
          "output_type": "stream",
          "name": "stdout",
          "text": [
            "LR: 1.0000e-03, Train Loss: 0.4796, Train Acc: 0.8357, Train Latency: 27.39s, Memory Usage: 295.40MB\n",
            "Test Loss: 0.5452, Test Acc: 0.8125, Test Latency: 3.15s, Test Memory Usage: 77.86MB\n",
            "\n",
            "Epoch 117\n"
          ]
        },
        {
          "output_type": "stream",
          "name": "stderr",
          "text": [
            "Train: 100%|##########| 391/391 [00:27<00:00, 14.36batch/s]\n"
          ]
        },
        {
          "output_type": "stream",
          "name": "stdout",
          "text": [
            "LR: 1.0000e-03, Train Loss: 0.4708, Train Acc: 0.8364, Train Latency: 27.23s, Memory Usage: 295.40MB\n",
            "Test Loss: 0.5462, Test Acc: 0.8148, Test Latency: 3.15s, Test Memory Usage: 77.86MB\n",
            "\n",
            "Epoch 118\n"
          ]
        },
        {
          "output_type": "stream",
          "name": "stderr",
          "text": [
            "Train: 100%|##########| 391/391 [00:27<00:00, 14.39batch/s]\n"
          ]
        },
        {
          "output_type": "stream",
          "name": "stdout",
          "text": [
            "LR: 1.0000e-03, Train Loss: 0.4822, Train Acc: 0.8326, Train Latency: 27.17s, Memory Usage: 295.40MB\n",
            "Test Loss: 0.5284, Test Acc: 0.8196, Test Latency: 3.13s, Test Memory Usage: 77.86MB\n",
            "\n",
            "Epoch 119\n"
          ]
        },
        {
          "output_type": "stream",
          "name": "stderr",
          "text": [
            "Train: 100%|##########| 391/391 [00:27<00:00, 14.40batch/s]\n"
          ]
        },
        {
          "output_type": "stream",
          "name": "stdout",
          "text": [
            "LR: 1.0000e-03, Train Loss: 0.4775, Train Acc: 0.8342, Train Latency: 27.16s, Memory Usage: 295.40MB\n",
            "Test Loss: 0.5993, Test Acc: 0.7969, Test Latency: 3.17s, Test Memory Usage: 77.86MB\n",
            "\n",
            "Epoch 120\n"
          ]
        },
        {
          "output_type": "stream",
          "name": "stderr",
          "text": [
            "Train: 100%|##########| 391/391 [00:27<00:00, 14.37batch/s]\n"
          ]
        },
        {
          "output_type": "stream",
          "name": "stdout",
          "text": [
            "LR: 1.0000e-03, Train Loss: 0.4762, Train Acc: 0.8347, Train Latency: 27.22s, Memory Usage: 295.40MB\n",
            "Test Loss: 0.5552, Test Acc: 0.8091, Test Latency: 3.16s, Test Memory Usage: 77.86MB\n",
            "\n",
            "Epoch 121\n"
          ]
        },
        {
          "output_type": "stream",
          "name": "stderr",
          "text": [
            "Train: 100%|##########| 391/391 [00:27<00:00, 14.33batch/s]\n"
          ]
        },
        {
          "output_type": "stream",
          "name": "stdout",
          "text": [
            "LR: 1.0000e-03, Train Loss: 0.4753, Train Acc: 0.8340, Train Latency: 27.30s, Memory Usage: 295.40MB\n",
            "Test Loss: 0.5427, Test Acc: 0.8121, Test Latency: 3.16s, Test Memory Usage: 77.86MB\n",
            "\n",
            "Epoch 122\n"
          ]
        },
        {
          "output_type": "stream",
          "name": "stderr",
          "text": [
            "Train: 100%|##########| 391/391 [00:27<00:00, 14.37batch/s]\n"
          ]
        },
        {
          "output_type": "stream",
          "name": "stdout",
          "text": [
            "LR: 1.0000e-03, Train Loss: 0.4802, Train Acc: 0.8335, Train Latency: 27.22s, Memory Usage: 295.40MB\n",
            "Test Loss: 0.5342, Test Acc: 0.8164, Test Latency: 3.15s, Test Memory Usage: 77.86MB\n",
            "\n",
            "Epoch 123\n"
          ]
        },
        {
          "output_type": "stream",
          "name": "stderr",
          "text": [
            "Train: 100%|##########| 391/391 [00:27<00:00, 14.40batch/s]\n"
          ]
        },
        {
          "output_type": "stream",
          "name": "stdout",
          "text": [
            "LR: 1.0000e-03, Train Loss: 0.4814, Train Acc: 0.8352, Train Latency: 27.15s, Memory Usage: 295.40MB\n",
            "Test Loss: 0.5482, Test Acc: 0.8133, Test Latency: 3.16s, Test Memory Usage: 77.86MB\n",
            "\n",
            "Epoch 124\n"
          ]
        },
        {
          "output_type": "stream",
          "name": "stderr",
          "text": [
            "Train: 100%|##########| 391/391 [00:27<00:00, 14.42batch/s]\n"
          ]
        },
        {
          "output_type": "stream",
          "name": "stdout",
          "text": [
            "LR: 1.0000e-03, Train Loss: 0.4793, Train Acc: 0.8345, Train Latency: 27.11s, Memory Usage: 295.40MB\n",
            "Test Loss: 0.5515, Test Acc: 0.8157, Test Latency: 3.18s, Test Memory Usage: 77.86MB\n",
            "\n",
            "Epoch 125\n"
          ]
        },
        {
          "output_type": "stream",
          "name": "stderr",
          "text": [
            "Train: 100%|##########| 391/391 [00:27<00:00, 14.29batch/s]\n"
          ]
        },
        {
          "output_type": "stream",
          "name": "stdout",
          "text": [
            "LR: 1.0000e-03, Train Loss: 0.4841, Train Acc: 0.8314, Train Latency: 27.37s, Memory Usage: 295.40MB\n",
            "Test Loss: 0.5221, Test Acc: 0.8171, Test Latency: 3.21s, Test Memory Usage: 77.86MB\n",
            "\n",
            "Epoch 126\n"
          ]
        },
        {
          "output_type": "stream",
          "name": "stderr",
          "text": [
            "Train: 100%|##########| 391/391 [00:27<00:00, 14.29batch/s]\n"
          ]
        },
        {
          "output_type": "stream",
          "name": "stdout",
          "text": [
            "LR: 1.0000e-03, Train Loss: 0.4777, Train Acc: 0.8332, Train Latency: 27.37s, Memory Usage: 295.40MB\n",
            "Test Loss: 0.5620, Test Acc: 0.8072, Test Latency: 3.15s, Test Memory Usage: 77.86MB\n",
            "\n",
            "Epoch 127\n"
          ]
        },
        {
          "output_type": "stream",
          "name": "stderr",
          "text": [
            "Train: 100%|##########| 391/391 [00:27<00:00, 14.28batch/s]\n"
          ]
        },
        {
          "output_type": "stream",
          "name": "stdout",
          "text": [
            "LR: 1.0000e-03, Train Loss: 0.4804, Train Acc: 0.8312, Train Latency: 27.38s, Memory Usage: 295.40MB\n",
            "Test Loss: 0.5905, Test Acc: 0.7996, Test Latency: 3.20s, Test Memory Usage: 77.86MB\n",
            "\n",
            "Epoch 128\n"
          ]
        },
        {
          "output_type": "stream",
          "name": "stderr",
          "text": [
            "Train: 100%|##########| 391/391 [00:27<00:00, 14.30batch/s]\n"
          ]
        },
        {
          "output_type": "stream",
          "name": "stdout",
          "text": [
            "LR: 1.0000e-03, Train Loss: 0.4839, Train Acc: 0.8329, Train Latency: 27.34s, Memory Usage: 295.40MB\n",
            "Test Loss: 0.5623, Test Acc: 0.8070, Test Latency: 3.15s, Test Memory Usage: 77.86MB\n",
            "\n",
            "Epoch 129\n"
          ]
        },
        {
          "output_type": "stream",
          "name": "stderr",
          "text": [
            "Train: 100%|##########| 391/391 [00:27<00:00, 14.38batch/s]\n"
          ]
        },
        {
          "output_type": "stream",
          "name": "stdout",
          "text": [
            "LR: 1.0000e-03, Train Loss: 0.4757, Train Acc: 0.8341, Train Latency: 27.19s, Memory Usage: 295.40MB\n",
            "Test Loss: 0.5869, Test Acc: 0.7988, Test Latency: 3.14s, Test Memory Usage: 77.86MB\n",
            "\n",
            "Epoch 130\n"
          ]
        },
        {
          "output_type": "stream",
          "name": "stderr",
          "text": [
            "Train: 100%|##########| 391/391 [00:27<00:00, 14.28batch/s]\n"
          ]
        },
        {
          "output_type": "stream",
          "name": "stdout",
          "text": [
            "LR: 1.0000e-03, Train Loss: 0.4818, Train Acc: 0.8314, Train Latency: 27.39s, Memory Usage: 295.40MB\n",
            "Test Loss: 0.6397, Test Acc: 0.7908, Test Latency: 3.22s, Test Memory Usage: 77.86MB\n",
            "\n",
            "Epoch 131\n"
          ]
        },
        {
          "output_type": "stream",
          "name": "stderr",
          "text": [
            "Train: 100%|##########| 391/391 [00:27<00:00, 14.24batch/s]\n"
          ]
        },
        {
          "output_type": "stream",
          "name": "stdout",
          "text": [
            "LR: 1.0000e-03, Train Loss: 0.4882, Train Acc: 0.8308, Train Latency: 27.46s, Memory Usage: 295.40MB\n",
            "Test Loss: 0.5797, Test Acc: 0.8057, Test Latency: 3.18s, Test Memory Usage: 77.86MB\n",
            "\n",
            "Epoch 132\n"
          ]
        },
        {
          "output_type": "stream",
          "name": "stderr",
          "text": [
            "Train: 100%|##########| 391/391 [00:27<00:00, 14.32batch/s]\n"
          ]
        },
        {
          "output_type": "stream",
          "name": "stdout",
          "text": [
            "LR: 1.0000e-03, Train Loss: 0.4847, Train Acc: 0.8311, Train Latency: 27.31s, Memory Usage: 295.40MB\n",
            "Test Loss: 0.6046, Test Acc: 0.7906, Test Latency: 3.15s, Test Memory Usage: 77.86MB\n",
            "\n",
            "Epoch 133\n"
          ]
        },
        {
          "output_type": "stream",
          "name": "stderr",
          "text": [
            "Train: 100%|##########| 391/391 [00:27<00:00, 14.21batch/s]\n"
          ]
        },
        {
          "output_type": "stream",
          "name": "stdout",
          "text": [
            "LR: 1.0000e-03, Train Loss: 0.4885, Train Acc: 0.8295, Train Latency: 27.51s, Memory Usage: 295.40MB\n",
            "Test Loss: 0.5824, Test Acc: 0.8032, Test Latency: 3.23s, Test Memory Usage: 77.86MB\n",
            "\n",
            "Epoch 134\n"
          ]
        },
        {
          "output_type": "stream",
          "name": "stderr",
          "text": [
            "Train: 100%|##########| 391/391 [00:27<00:00, 14.26batch/s]\n"
          ]
        },
        {
          "output_type": "stream",
          "name": "stdout",
          "text": [
            "LR: 1.0000e-03, Train Loss: 0.4857, Train Acc: 0.8315, Train Latency: 27.43s, Memory Usage: 295.40MB\n",
            "Test Loss: 0.5441, Test Acc: 0.8090, Test Latency: 3.24s, Test Memory Usage: 77.86MB\n",
            "\n",
            "Epoch 135\n"
          ]
        },
        {
          "output_type": "stream",
          "name": "stderr",
          "text": [
            "Train: 100%|##########| 391/391 [00:27<00:00, 14.30batch/s]\n"
          ]
        },
        {
          "output_type": "stream",
          "name": "stdout",
          "text": [
            "LR: 1.0000e-03, Train Loss: 0.4813, Train Acc: 0.8335, Train Latency: 27.35s, Memory Usage: 295.40MB\n",
            "Test Loss: 0.5917, Test Acc: 0.7986, Test Latency: 3.18s, Test Memory Usage: 77.86MB\n",
            "\n",
            "Epoch 136\n"
          ]
        },
        {
          "output_type": "stream",
          "name": "stderr",
          "text": [
            "Train: 100%|##########| 391/391 [00:27<00:00, 14.32batch/s]\n"
          ]
        },
        {
          "output_type": "stream",
          "name": "stdout",
          "text": [
            "LR: 1.0000e-03, Train Loss: 0.4812, Train Acc: 0.8320, Train Latency: 27.30s, Memory Usage: 295.40MB\n",
            "Test Loss: 0.5472, Test Acc: 0.8153, Test Latency: 3.24s, Test Memory Usage: 77.86MB\n",
            "\n",
            "Epoch 137\n"
          ]
        },
        {
          "output_type": "stream",
          "name": "stderr",
          "text": [
            "Train: 100%|##########| 391/391 [00:27<00:00, 14.25batch/s]\n"
          ]
        },
        {
          "output_type": "stream",
          "name": "stdout",
          "text": [
            "LR: 1.0000e-03, Train Loss: 0.4827, Train Acc: 0.8334, Train Latency: 27.44s, Memory Usage: 295.40MB\n",
            "Test Loss: 0.5730, Test Acc: 0.8088, Test Latency: 3.15s, Test Memory Usage: 77.86MB\n",
            "\n",
            "Epoch 138\n"
          ]
        },
        {
          "output_type": "stream",
          "name": "stderr",
          "text": [
            "Train: 100%|##########| 391/391 [00:27<00:00, 14.37batch/s]\n"
          ]
        },
        {
          "output_type": "stream",
          "name": "stdout",
          "text": [
            "LR: 1.0000e-03, Train Loss: 0.4924, Train Acc: 0.8269, Train Latency: 27.21s, Memory Usage: 295.40MB\n",
            "Test Loss: 0.5550, Test Acc: 0.8115, Test Latency: 3.15s, Test Memory Usage: 77.86MB\n",
            "\n",
            "Epoch 139\n"
          ]
        },
        {
          "output_type": "stream",
          "name": "stderr",
          "text": [
            "Train: 100%|##########| 391/391 [00:27<00:00, 14.35batch/s]\n"
          ]
        },
        {
          "output_type": "stream",
          "name": "stdout",
          "text": [
            "LR: 1.0000e-03, Train Loss: 0.4879, Train Acc: 0.8303, Train Latency: 27.24s, Memory Usage: 295.40MB\n",
            "Test Loss: 0.5785, Test Acc: 0.8001, Test Latency: 3.18s, Test Memory Usage: 77.86MB\n",
            "\n",
            "Epoch 140\n"
          ]
        },
        {
          "output_type": "stream",
          "name": "stderr",
          "text": [
            "Train: 100%|##########| 391/391 [00:27<00:00, 14.13batch/s]\n"
          ]
        },
        {
          "output_type": "stream",
          "name": "stdout",
          "text": [
            "LR: 1.0000e-03, Train Loss: 0.4821, Train Acc: 0.8320, Train Latency: 27.68s, Memory Usage: 295.40MB\n",
            "Test Loss: 0.5719, Test Acc: 0.8033, Test Latency: 3.19s, Test Memory Usage: 77.86MB\n",
            "\n",
            "Epoch 141\n"
          ]
        },
        {
          "output_type": "stream",
          "name": "stderr",
          "text": [
            "Train: 100%|##########| 391/391 [00:27<00:00, 14.17batch/s]\n"
          ]
        },
        {
          "output_type": "stream",
          "name": "stdout",
          "text": [
            "LR: 1.0000e-03, Train Loss: 0.4841, Train Acc: 0.8304, Train Latency: 27.60s, Memory Usage: 295.40MB\n",
            "Test Loss: 0.5353, Test Acc: 0.8121, Test Latency: 3.21s, Test Memory Usage: 77.86MB\n",
            "\n",
            "Epoch 142\n"
          ]
        },
        {
          "output_type": "stream",
          "name": "stderr",
          "text": [
            "Train: 100%|##########| 391/391 [00:27<00:00, 14.35batch/s]\n"
          ]
        },
        {
          "output_type": "stream",
          "name": "stdout",
          "text": [
            "LR: 1.0000e-03, Train Loss: 0.4805, Train Acc: 0.8339, Train Latency: 27.25s, Memory Usage: 295.40MB\n",
            "Test Loss: 0.6164, Test Acc: 0.7953, Test Latency: 3.16s, Test Memory Usage: 77.86MB\n",
            "\n",
            "Epoch 143\n"
          ]
        },
        {
          "output_type": "stream",
          "name": "stderr",
          "text": [
            "Train: 100%|##########| 391/391 [00:27<00:00, 14.42batch/s]\n"
          ]
        },
        {
          "output_type": "stream",
          "name": "stdout",
          "text": [
            "LR: 1.0000e-03, Train Loss: 0.4822, Train Acc: 0.8320, Train Latency: 27.12s, Memory Usage: 295.40MB\n",
            "Test Loss: 0.5989, Test Acc: 0.7914, Test Latency: 3.15s, Test Memory Usage: 77.86MB\n",
            "\n",
            "Epoch 144\n"
          ]
        },
        {
          "output_type": "stream",
          "name": "stderr",
          "text": [
            "Train: 100%|##########| 391/391 [00:27<00:00, 14.37batch/s]\n"
          ]
        },
        {
          "output_type": "stream",
          "name": "stdout",
          "text": [
            "LR: 1.0000e-03, Train Loss: 0.4856, Train Acc: 0.8314, Train Latency: 27.21s, Memory Usage: 295.40MB\n",
            "Test Loss: 0.6026, Test Acc: 0.7946, Test Latency: 3.16s, Test Memory Usage: 77.86MB\n",
            "\n",
            "Epoch 145\n"
          ]
        },
        {
          "output_type": "stream",
          "name": "stderr",
          "text": [
            "Train: 100%|##########| 391/391 [00:27<00:00, 14.34batch/s]\n"
          ]
        },
        {
          "output_type": "stream",
          "name": "stdout",
          "text": [
            "LR: 1.0000e-03, Train Loss: 0.4822, Train Acc: 0.8329, Train Latency: 27.27s, Memory Usage: 295.40MB\n",
            "Test Loss: 0.5966, Test Acc: 0.7974, Test Latency: 3.14s, Test Memory Usage: 77.86MB\n",
            "\n",
            "Epoch 146\n"
          ]
        },
        {
          "output_type": "stream",
          "name": "stderr",
          "text": [
            "Train: 100%|##########| 391/391 [00:27<00:00, 14.35batch/s]\n"
          ]
        },
        {
          "output_type": "stream",
          "name": "stdout",
          "text": [
            "LR: 1.0000e-03, Train Loss: 0.4841, Train Acc: 0.8314, Train Latency: 27.26s, Memory Usage: 295.40MB\n",
            "Test Loss: 0.6484, Test Acc: 0.7726, Test Latency: 3.17s, Test Memory Usage: 77.86MB\n",
            "\n",
            "Epoch 147\n"
          ]
        },
        {
          "output_type": "stream",
          "name": "stderr",
          "text": [
            "Train: 100%|##########| 391/391 [00:27<00:00, 14.38batch/s]\n"
          ]
        },
        {
          "output_type": "stream",
          "name": "stdout",
          "text": [
            "LR: 1.0000e-03, Train Loss: 0.4838, Train Acc: 0.8306, Train Latency: 27.19s, Memory Usage: 295.40MB\n",
            "Test Loss: 0.6432, Test Acc: 0.7836, Test Latency: 3.13s, Test Memory Usage: 77.86MB\n",
            "\n",
            "Epoch 148\n"
          ]
        },
        {
          "output_type": "stream",
          "name": "stderr",
          "text": [
            "Train: 100%|##########| 391/391 [00:27<00:00, 14.28batch/s]\n"
          ]
        },
        {
          "output_type": "stream",
          "name": "stdout",
          "text": [
            "LR: 1.0000e-03, Train Loss: 0.4887, Train Acc: 0.8327, Train Latency: 27.39s, Memory Usage: 295.40MB\n",
            "Test Loss: 0.6093, Test Acc: 0.7908, Test Latency: 3.14s, Test Memory Usage: 77.86MB\n",
            "\n",
            "Epoch 149\n"
          ]
        },
        {
          "output_type": "stream",
          "name": "stderr",
          "text": [
            "Train: 100%|##########| 391/391 [00:27<00:00, 14.30batch/s]\n"
          ]
        },
        {
          "output_type": "stream",
          "name": "stdout",
          "text": [
            "LR: 1.0000e-03, Train Loss: 0.4893, Train Acc: 0.8292, Train Latency: 27.35s, Memory Usage: 295.40MB\n",
            "Test Loss: 0.6567, Test Acc: 0.7831, Test Latency: 3.16s, Test Memory Usage: 77.86MB\n",
            "\n",
            "Epoch 150\n"
          ]
        },
        {
          "output_type": "stream",
          "name": "stderr",
          "text": [
            "Train: 100%|##########| 391/391 [00:27<00:00, 14.33batch/s]\n"
          ]
        },
        {
          "output_type": "stream",
          "name": "stdout",
          "text": [
            "LR: 1.0000e-03, Train Loss: 0.4766, Train Acc: 0.8357, Train Latency: 27.29s, Memory Usage: 295.40MB\n",
            "Test Loss: 0.6086, Test Acc: 0.7959, Test Latency: 3.19s, Test Memory Usage: 77.86MB\n",
            "\n",
            "Epoch 151\n"
          ]
        },
        {
          "output_type": "stream",
          "name": "stderr",
          "text": [
            "Train: 100%|##########| 391/391 [00:27<00:00, 14.37batch/s]\n"
          ]
        },
        {
          "output_type": "stream",
          "name": "stdout",
          "text": [
            "LR: 1.0000e-04, Train Loss: 0.4564, Train Acc: 0.8417, Train Latency: 27.21s, Memory Usage: 295.40MB\n",
            "Test Loss: 0.4984, Test Acc: 0.8269, Test Latency: 3.15s, Test Memory Usage: 77.86MB\n",
            "Saving best model ...\n",
            "\n",
            "Epoch 152\n"
          ]
        },
        {
          "output_type": "stream",
          "name": "stderr",
          "text": [
            "Train: 100%|##########| 391/391 [00:27<00:00, 14.40batch/s]\n"
          ]
        },
        {
          "output_type": "stream",
          "name": "stdout",
          "text": [
            "LR: 1.0000e-04, Train Loss: 0.4452, Train Acc: 0.8469, Train Latency: 27.15s, Memory Usage: 295.40MB\n",
            "Test Loss: 0.4918, Test Acc: 0.8310, Test Latency: 3.12s, Test Memory Usage: 77.86MB\n",
            "Saving best model ...\n",
            "\n",
            "Epoch 153\n"
          ]
        },
        {
          "output_type": "stream",
          "name": "stderr",
          "text": [
            "Train: 100%|##########| 391/391 [00:27<00:00, 14.43batch/s]\n"
          ]
        },
        {
          "output_type": "stream",
          "name": "stdout",
          "text": [
            "LR: 1.0000e-04, Train Loss: 0.4456, Train Acc: 0.8449, Train Latency: 27.10s, Memory Usage: 295.40MB\n",
            "Test Loss: 0.4938, Test Acc: 0.8304, Test Latency: 3.20s, Test Memory Usage: 77.86MB\n",
            "\n",
            "Epoch 154\n"
          ]
        },
        {
          "output_type": "stream",
          "name": "stderr",
          "text": [
            "Train: 100%|##########| 391/391 [00:27<00:00, 14.38batch/s]\n"
          ]
        },
        {
          "output_type": "stream",
          "name": "stdout",
          "text": [
            "LR: 1.0000e-04, Train Loss: 0.4397, Train Acc: 0.8476, Train Latency: 27.20s, Memory Usage: 295.40MB\n",
            "Test Loss: 0.4966, Test Acc: 0.8298, Test Latency: 3.14s, Test Memory Usage: 77.86MB\n",
            "\n",
            "Epoch 155\n"
          ]
        },
        {
          "output_type": "stream",
          "name": "stderr",
          "text": [
            "Train: 100%|##########| 391/391 [00:27<00:00, 14.38batch/s]\n"
          ]
        },
        {
          "output_type": "stream",
          "name": "stdout",
          "text": [
            "LR: 1.0000e-04, Train Loss: 0.4422, Train Acc: 0.8457, Train Latency: 27.20s, Memory Usage: 295.40MB\n",
            "Test Loss: 0.4951, Test Acc: 0.8313, Test Latency: 3.14s, Test Memory Usage: 77.86MB\n",
            "Saving best model ...\n",
            "\n",
            "Epoch 156\n"
          ]
        },
        {
          "output_type": "stream",
          "name": "stderr",
          "text": [
            "Train: 100%|##########| 391/391 [00:27<00:00, 14.18batch/s]\n"
          ]
        },
        {
          "output_type": "stream",
          "name": "stdout",
          "text": [
            "LR: 1.0000e-04, Train Loss: 0.4389, Train Acc: 0.8478, Train Latency: 27.58s, Memory Usage: 295.40MB\n",
            "Test Loss: 0.4811, Test Acc: 0.8344, Test Latency: 3.20s, Test Memory Usage: 77.86MB\n",
            "Saving best model ...\n",
            "\n",
            "Epoch 157\n"
          ]
        },
        {
          "output_type": "stream",
          "name": "stderr",
          "text": [
            "Train: 100%|##########| 391/391 [00:27<00:00, 14.37batch/s]\n"
          ]
        },
        {
          "output_type": "stream",
          "name": "stdout",
          "text": [
            "LR: 1.0000e-04, Train Loss: 0.4413, Train Acc: 0.8461, Train Latency: 27.21s, Memory Usage: 295.40MB\n",
            "Test Loss: 0.4876, Test Acc: 0.8324, Test Latency: 3.15s, Test Memory Usage: 77.86MB\n",
            "\n",
            "Epoch 158\n"
          ]
        },
        {
          "output_type": "stream",
          "name": "stderr",
          "text": [
            "Train: 100%|##########| 391/391 [00:27<00:00, 14.41batch/s]\n"
          ]
        },
        {
          "output_type": "stream",
          "name": "stdout",
          "text": [
            "LR: 1.0000e-04, Train Loss: 0.4376, Train Acc: 0.8479, Train Latency: 27.13s, Memory Usage: 295.40MB\n",
            "Test Loss: 0.4912, Test Acc: 0.8293, Test Latency: 3.15s, Test Memory Usage: 77.86MB\n",
            "\n",
            "Epoch 159\n"
          ]
        },
        {
          "output_type": "stream",
          "name": "stderr",
          "text": [
            "Train: 100%|##########| 391/391 [00:27<00:00, 14.34batch/s]\n"
          ]
        },
        {
          "output_type": "stream",
          "name": "stdout",
          "text": [
            "LR: 1.0000e-04, Train Loss: 0.4397, Train Acc: 0.8477, Train Latency: 27.28s, Memory Usage: 295.40MB\n",
            "Test Loss: 0.4988, Test Acc: 0.8293, Test Latency: 3.18s, Test Memory Usage: 77.86MB\n",
            "\n",
            "Epoch 160\n"
          ]
        },
        {
          "output_type": "stream",
          "name": "stderr",
          "text": [
            "Train: 100%|##########| 391/391 [00:27<00:00, 14.28batch/s]\n"
          ]
        },
        {
          "output_type": "stream",
          "name": "stdout",
          "text": [
            "LR: 1.0000e-04, Train Loss: 0.4404, Train Acc: 0.8471, Train Latency: 27.39s, Memory Usage: 295.40MB\n",
            "Test Loss: 0.5010, Test Acc: 0.8277, Test Latency: 3.17s, Test Memory Usage: 77.86MB\n",
            "\n",
            "Epoch 161\n"
          ]
        },
        {
          "output_type": "stream",
          "name": "stderr",
          "text": [
            "Train: 100%|##########| 391/391 [00:27<00:00, 14.37batch/s]\n"
          ]
        },
        {
          "output_type": "stream",
          "name": "stdout",
          "text": [
            "LR: 1.0000e-04, Train Loss: 0.4392, Train Acc: 0.8465, Train Latency: 27.21s, Memory Usage: 295.40MB\n",
            "Test Loss: 0.4927, Test Acc: 0.8308, Test Latency: 3.16s, Test Memory Usage: 77.86MB\n",
            "\n",
            "Epoch 162\n"
          ]
        },
        {
          "output_type": "stream",
          "name": "stderr",
          "text": [
            "Train: 100%|##########| 391/391 [00:27<00:00, 14.31batch/s]\n"
          ]
        },
        {
          "output_type": "stream",
          "name": "stdout",
          "text": [
            "LR: 1.0000e-04, Train Loss: 0.4401, Train Acc: 0.8470, Train Latency: 27.33s, Memory Usage: 295.40MB\n",
            "Test Loss: 0.4864, Test Acc: 0.8360, Test Latency: 3.14s, Test Memory Usage: 77.86MB\n",
            "Saving best model ...\n",
            "\n",
            "Epoch 163\n"
          ]
        },
        {
          "output_type": "stream",
          "name": "stderr",
          "text": [
            "Train: 100%|##########| 391/391 [00:27<00:00, 14.31batch/s]\n"
          ]
        },
        {
          "output_type": "stream",
          "name": "stdout",
          "text": [
            "LR: 1.0000e-04, Train Loss: 0.4353, Train Acc: 0.8477, Train Latency: 27.33s, Memory Usage: 295.40MB\n",
            "Test Loss: 0.5056, Test Acc: 0.8250, Test Latency: 3.16s, Test Memory Usage: 77.86MB\n",
            "\n",
            "Epoch 164\n"
          ]
        },
        {
          "output_type": "stream",
          "name": "stderr",
          "text": [
            "Train: 100%|##########| 391/391 [00:27<00:00, 14.37batch/s]\n"
          ]
        },
        {
          "output_type": "stream",
          "name": "stdout",
          "text": [
            "LR: 1.0000e-04, Train Loss: 0.4403, Train Acc: 0.8465, Train Latency: 27.22s, Memory Usage: 295.40MB\n",
            "Test Loss: 0.5113, Test Acc: 0.8255, Test Latency: 3.15s, Test Memory Usage: 77.86MB\n",
            "\n",
            "Epoch 165\n"
          ]
        },
        {
          "output_type": "stream",
          "name": "stderr",
          "text": [
            "Train: 100%|##########| 391/391 [00:27<00:00, 14.33batch/s]\n"
          ]
        },
        {
          "output_type": "stream",
          "name": "stdout",
          "text": [
            "LR: 1.0000e-04, Train Loss: 0.4426, Train Acc: 0.8467, Train Latency: 27.28s, Memory Usage: 295.40MB\n",
            "Test Loss: 0.5085, Test Acc: 0.8245, Test Latency: 3.16s, Test Memory Usage: 77.86MB\n",
            "\n",
            "Epoch 166\n"
          ]
        },
        {
          "output_type": "stream",
          "name": "stderr",
          "text": [
            "Train: 100%|##########| 391/391 [00:27<00:00, 14.41batch/s]\n"
          ]
        },
        {
          "output_type": "stream",
          "name": "stdout",
          "text": [
            "LR: 1.0000e-04, Train Loss: 0.4384, Train Acc: 0.8480, Train Latency: 27.14s, Memory Usage: 295.40MB\n",
            "Test Loss: 0.4860, Test Acc: 0.8330, Test Latency: 3.13s, Test Memory Usage: 77.86MB\n",
            "\n",
            "Epoch 167\n"
          ]
        },
        {
          "output_type": "stream",
          "name": "stderr",
          "text": [
            "Train: 100%|##########| 391/391 [00:27<00:00, 14.36batch/s]\n"
          ]
        },
        {
          "output_type": "stream",
          "name": "stdout",
          "text": [
            "LR: 1.0000e-04, Train Loss: 0.4384, Train Acc: 0.8465, Train Latency: 27.23s, Memory Usage: 295.40MB\n",
            "Test Loss: 0.4989, Test Acc: 0.8307, Test Latency: 3.19s, Test Memory Usage: 77.86MB\n",
            "\n",
            "Epoch 168\n"
          ]
        },
        {
          "output_type": "stream",
          "name": "stderr",
          "text": [
            "Train: 100%|##########| 391/391 [00:27<00:00, 14.39batch/s]\n"
          ]
        },
        {
          "output_type": "stream",
          "name": "stdout",
          "text": [
            "LR: 1.0000e-04, Train Loss: 0.4394, Train Acc: 0.8466, Train Latency: 27.17s, Memory Usage: 295.40MB\n",
            "Test Loss: 0.5232, Test Acc: 0.8196, Test Latency: 3.14s, Test Memory Usage: 77.86MB\n",
            "\n",
            "Epoch 169\n"
          ]
        },
        {
          "output_type": "stream",
          "name": "stderr",
          "text": [
            "Train: 100%|##########| 391/391 [00:27<00:00, 14.35batch/s]\n"
          ]
        },
        {
          "output_type": "stream",
          "name": "stdout",
          "text": [
            "LR: 1.0000e-04, Train Loss: 0.4409, Train Acc: 0.8483, Train Latency: 27.26s, Memory Usage: 295.40MB\n",
            "Test Loss: 0.5164, Test Acc: 0.8230, Test Latency: 3.19s, Test Memory Usage: 77.86MB\n",
            "\n",
            "Epoch 170\n"
          ]
        },
        {
          "output_type": "stream",
          "name": "stderr",
          "text": [
            "Train: 100%|##########| 391/391 [00:27<00:00, 14.40batch/s]\n"
          ]
        },
        {
          "output_type": "stream",
          "name": "stdout",
          "text": [
            "LR: 1.0000e-04, Train Loss: 0.4427, Train Acc: 0.8459, Train Latency: 27.15s, Memory Usage: 295.40MB\n",
            "Test Loss: 0.5137, Test Acc: 0.8237, Test Latency: 3.13s, Test Memory Usage: 77.86MB\n",
            "\n",
            "Epoch 171\n"
          ]
        },
        {
          "output_type": "stream",
          "name": "stderr",
          "text": [
            "Train: 100%|##########| 391/391 [00:27<00:00, 14.45batch/s]\n"
          ]
        },
        {
          "output_type": "stream",
          "name": "stdout",
          "text": [
            "LR: 1.0000e-04, Train Loss: 0.4443, Train Acc: 0.8460, Train Latency: 27.07s, Memory Usage: 295.40MB\n",
            "Test Loss: 0.5371, Test Acc: 0.8163, Test Latency: 3.15s, Test Memory Usage: 77.86MB\n",
            "\n",
            "Epoch 172\n"
          ]
        },
        {
          "output_type": "stream",
          "name": "stderr",
          "text": [
            "Train: 100%|##########| 391/391 [00:27<00:00, 14.30batch/s]\n"
          ]
        },
        {
          "output_type": "stream",
          "name": "stdout",
          "text": [
            "LR: 1.0000e-04, Train Loss: 0.4459, Train Acc: 0.8429, Train Latency: 27.35s, Memory Usage: 295.40MB\n",
            "Test Loss: 0.5059, Test Acc: 0.8268, Test Latency: 3.19s, Test Memory Usage: 77.86MB\n",
            "\n",
            "Epoch 173\n"
          ]
        },
        {
          "output_type": "stream",
          "name": "stderr",
          "text": [
            "Train: 100%|##########| 391/391 [00:27<00:00, 14.23batch/s]\n"
          ]
        },
        {
          "output_type": "stream",
          "name": "stdout",
          "text": [
            "LR: 1.0000e-04, Train Loss: 0.4478, Train Acc: 0.8449, Train Latency: 27.48s, Memory Usage: 295.40MB\n",
            "Test Loss: 0.5097, Test Acc: 0.8224, Test Latency: 3.20s, Test Memory Usage: 77.86MB\n",
            "\n",
            "Epoch 174\n"
          ]
        },
        {
          "output_type": "stream",
          "name": "stderr",
          "text": [
            "Train: 100%|##########| 391/391 [00:27<00:00, 14.20batch/s]\n"
          ]
        },
        {
          "output_type": "stream",
          "name": "stdout",
          "text": [
            "LR: 1.0000e-04, Train Loss: 0.4411, Train Acc: 0.8463, Train Latency: 27.54s, Memory Usage: 295.40MB\n",
            "Test Loss: 0.5133, Test Acc: 0.8208, Test Latency: 3.23s, Test Memory Usage: 77.86MB\n",
            "\n",
            "Epoch 175\n"
          ]
        },
        {
          "output_type": "stream",
          "name": "stderr",
          "text": [
            "Train: 100%|##########| 391/391 [00:27<00:00, 14.31batch/s]\n"
          ]
        },
        {
          "output_type": "stream",
          "name": "stdout",
          "text": [
            "LR: 1.0000e-04, Train Loss: 0.4468, Train Acc: 0.8452, Train Latency: 27.32s, Memory Usage: 295.40MB\n",
            "Test Loss: 0.5144, Test Acc: 0.8230, Test Latency: 3.18s, Test Memory Usage: 77.86MB\n",
            "\n",
            "Epoch 176\n"
          ]
        },
        {
          "output_type": "stream",
          "name": "stderr",
          "text": [
            "Train: 100%|##########| 391/391 [00:27<00:00, 14.21batch/s]\n"
          ]
        },
        {
          "output_type": "stream",
          "name": "stdout",
          "text": [
            "LR: 1.0000e-04, Train Loss: 0.4452, Train Acc: 0.8447, Train Latency: 27.53s, Memory Usage: 295.40MB\n",
            "Test Loss: 0.5055, Test Acc: 0.8264, Test Latency: 3.19s, Test Memory Usage: 77.86MB\n",
            "\n",
            "Epoch 177\n"
          ]
        },
        {
          "output_type": "stream",
          "name": "stderr",
          "text": [
            "Train: 100%|##########| 391/391 [00:27<00:00, 14.20batch/s]\n"
          ]
        },
        {
          "output_type": "stream",
          "name": "stdout",
          "text": [
            "LR: 1.0000e-04, Train Loss: 0.4419, Train Acc: 0.8469, Train Latency: 27.55s, Memory Usage: 295.40MB\n",
            "Test Loss: 0.5034, Test Acc: 0.8225, Test Latency: 3.20s, Test Memory Usage: 77.86MB\n",
            "\n",
            "Epoch 178\n"
          ]
        },
        {
          "output_type": "stream",
          "name": "stderr",
          "text": [
            "Train: 100%|##########| 391/391 [00:27<00:00, 14.24batch/s]\n"
          ]
        },
        {
          "output_type": "stream",
          "name": "stdout",
          "text": [
            "LR: 1.0000e-04, Train Loss: 0.4409, Train Acc: 0.8480, Train Latency: 27.46s, Memory Usage: 295.40MB\n",
            "Test Loss: 0.4969, Test Acc: 0.8295, Test Latency: 3.25s, Test Memory Usage: 77.86MB\n",
            "\n",
            "Epoch 179\n"
          ]
        },
        {
          "output_type": "stream",
          "name": "stderr",
          "text": [
            "Train: 100%|##########| 391/391 [00:27<00:00, 14.24batch/s]\n"
          ]
        },
        {
          "output_type": "stream",
          "name": "stdout",
          "text": [
            "LR: 1.0000e-04, Train Loss: 0.4425, Train Acc: 0.8476, Train Latency: 27.46s, Memory Usage: 295.40MB\n",
            "Test Loss: 0.5023, Test Acc: 0.8260, Test Latency: 3.15s, Test Memory Usage: 77.86MB\n",
            "\n",
            "Epoch 180\n"
          ]
        },
        {
          "output_type": "stream",
          "name": "stderr",
          "text": [
            "Train: 100%|##########| 391/391 [00:27<00:00, 14.28batch/s]\n"
          ]
        },
        {
          "output_type": "stream",
          "name": "stdout",
          "text": [
            "LR: 1.0000e-04, Train Loss: 0.4450, Train Acc: 0.8467, Train Latency: 27.38s, Memory Usage: 295.40MB\n",
            "Test Loss: 0.5116, Test Acc: 0.8241, Test Latency: 3.14s, Test Memory Usage: 77.86MB\n",
            "\n",
            "Epoch 181\n"
          ]
        },
        {
          "output_type": "stream",
          "name": "stderr",
          "text": [
            "Train: 100%|##########| 391/391 [00:27<00:00, 14.21batch/s]\n"
          ]
        },
        {
          "output_type": "stream",
          "name": "stdout",
          "text": [
            "LR: 1.0000e-04, Train Loss: 0.4429, Train Acc: 0.8455, Train Latency: 27.52s, Memory Usage: 295.40MB\n",
            "Test Loss: 0.5036, Test Acc: 0.8214, Test Latency: 3.18s, Test Memory Usage: 77.86MB\n",
            "\n",
            "Epoch 182\n"
          ]
        },
        {
          "output_type": "stream",
          "name": "stderr",
          "text": [
            "Train: 100%|##########| 391/391 [00:27<00:00, 14.26batch/s]\n"
          ]
        },
        {
          "output_type": "stream",
          "name": "stdout",
          "text": [
            "LR: 1.0000e-04, Train Loss: 0.4447, Train Acc: 0.8458, Train Latency: 27.42s, Memory Usage: 295.40MB\n",
            "Test Loss: 0.5132, Test Acc: 0.8209, Test Latency: 3.20s, Test Memory Usage: 77.86MB\n",
            "\n",
            "Epoch 183\n"
          ]
        },
        {
          "output_type": "stream",
          "name": "stderr",
          "text": [
            "Train: 100%|##########| 391/391 [00:27<00:00, 14.27batch/s]\n"
          ]
        },
        {
          "output_type": "stream",
          "name": "stdout",
          "text": [
            "LR: 1.0000e-04, Train Loss: 0.4412, Train Acc: 0.8477, Train Latency: 27.41s, Memory Usage: 295.40MB\n",
            "Test Loss: 0.5049, Test Acc: 0.8233, Test Latency: 3.14s, Test Memory Usage: 77.86MB\n",
            "\n",
            "Epoch 184\n"
          ]
        },
        {
          "output_type": "stream",
          "name": "stderr",
          "text": [
            "Train: 100%|##########| 391/391 [00:27<00:00, 14.33batch/s]\n"
          ]
        },
        {
          "output_type": "stream",
          "name": "stdout",
          "text": [
            "LR: 1.0000e-04, Train Loss: 0.4449, Train Acc: 0.8447, Train Latency: 27.28s, Memory Usage: 295.40MB\n",
            "Test Loss: 0.4901, Test Acc: 0.8320, Test Latency: 3.16s, Test Memory Usage: 77.86MB\n",
            "\n",
            "Epoch 185\n"
          ]
        },
        {
          "output_type": "stream",
          "name": "stderr",
          "text": [
            "Train: 100%|##########| 391/391 [00:27<00:00, 14.36batch/s]\n"
          ]
        },
        {
          "output_type": "stream",
          "name": "stdout",
          "text": [
            "LR: 1.0000e-04, Train Loss: 0.4457, Train Acc: 0.8466, Train Latency: 27.24s, Memory Usage: 295.40MB\n",
            "Test Loss: 0.5001, Test Acc: 0.8298, Test Latency: 3.16s, Test Memory Usage: 77.86MB\n",
            "\n",
            "Epoch 186\n"
          ]
        },
        {
          "output_type": "stream",
          "name": "stderr",
          "text": [
            "Train: 100%|##########| 391/391 [00:27<00:00, 14.30batch/s]\n"
          ]
        },
        {
          "output_type": "stream",
          "name": "stdout",
          "text": [
            "LR: 1.0000e-04, Train Loss: 0.4457, Train Acc: 0.8465, Train Latency: 27.35s, Memory Usage: 295.40MB\n",
            "Test Loss: 0.5073, Test Acc: 0.8293, Test Latency: 3.16s, Test Memory Usage: 77.86MB\n",
            "\n",
            "Epoch 187\n"
          ]
        },
        {
          "output_type": "stream",
          "name": "stderr",
          "text": [
            "Train: 100%|##########| 391/391 [00:27<00:00, 14.40batch/s]\n"
          ]
        },
        {
          "output_type": "stream",
          "name": "stdout",
          "text": [
            "LR: 1.0000e-04, Train Loss: 0.4481, Train Acc: 0.8456, Train Latency: 27.15s, Memory Usage: 295.40MB\n",
            "Test Loss: 0.5258, Test Acc: 0.8214, Test Latency: 3.13s, Test Memory Usage: 77.86MB\n",
            "\n",
            "Epoch 188\n"
          ]
        },
        {
          "output_type": "stream",
          "name": "stderr",
          "text": [
            "Train: 100%|##########| 391/391 [00:27<00:00, 14.40batch/s]\n"
          ]
        },
        {
          "output_type": "stream",
          "name": "stdout",
          "text": [
            "LR: 1.0000e-04, Train Loss: 0.4483, Train Acc: 0.8448, Train Latency: 27.16s, Memory Usage: 295.40MB\n",
            "Test Loss: 0.5129, Test Acc: 0.8214, Test Latency: 3.14s, Test Memory Usage: 77.86MB\n",
            "\n",
            "Epoch 189\n"
          ]
        },
        {
          "output_type": "stream",
          "name": "stderr",
          "text": [
            "Train: 100%|##########| 391/391 [00:27<00:00, 14.40batch/s]\n"
          ]
        },
        {
          "output_type": "stream",
          "name": "stdout",
          "text": [
            "LR: 1.0000e-04, Train Loss: 0.4412, Train Acc: 0.8482, Train Latency: 27.16s, Memory Usage: 295.40MB\n",
            "Test Loss: 0.5325, Test Acc: 0.8157, Test Latency: 3.14s, Test Memory Usage: 77.86MB\n",
            "\n",
            "Epoch 190\n"
          ]
        },
        {
          "output_type": "stream",
          "name": "stderr",
          "text": [
            "Train: 100%|##########| 391/391 [00:27<00:00, 14.33batch/s]\n"
          ]
        },
        {
          "output_type": "stream",
          "name": "stdout",
          "text": [
            "LR: 1.0000e-04, Train Loss: 0.4414, Train Acc: 0.8467, Train Latency: 27.30s, Memory Usage: 295.40MB\n",
            "Test Loss: 0.5063, Test Acc: 0.8255, Test Latency: 3.13s, Test Memory Usage: 77.86MB\n",
            "\n",
            "Epoch 191\n"
          ]
        },
        {
          "output_type": "stream",
          "name": "stderr",
          "text": [
            "Train: 100%|##########| 391/391 [00:27<00:00, 14.21batch/s]\n"
          ]
        },
        {
          "output_type": "stream",
          "name": "stdout",
          "text": [
            "LR: 1.0000e-04, Train Loss: 0.4454, Train Acc: 0.8472, Train Latency: 27.51s, Memory Usage: 295.40MB\n",
            "Test Loss: 0.4935, Test Acc: 0.8306, Test Latency: 3.16s, Test Memory Usage: 77.86MB\n",
            "\n",
            "Epoch 192\n"
          ]
        },
        {
          "output_type": "stream",
          "name": "stderr",
          "text": [
            "Train: 100%|##########| 391/391 [00:27<00:00, 14.38batch/s]\n"
          ]
        },
        {
          "output_type": "stream",
          "name": "stdout",
          "text": [
            "LR: 1.0000e-04, Train Loss: 0.4485, Train Acc: 0.8456, Train Latency: 27.19s, Memory Usage: 295.40MB\n",
            "Test Loss: 0.4999, Test Acc: 0.8261, Test Latency: 3.19s, Test Memory Usage: 77.86MB\n",
            "\n",
            "Epoch 193\n"
          ]
        },
        {
          "output_type": "stream",
          "name": "stderr",
          "text": [
            "Train: 100%|##########| 391/391 [00:27<00:00, 14.31batch/s]\n"
          ]
        },
        {
          "output_type": "stream",
          "name": "stdout",
          "text": [
            "LR: 1.0000e-04, Train Loss: 0.4496, Train Acc: 0.8439, Train Latency: 27.32s, Memory Usage: 295.40MB\n",
            "Test Loss: 0.5183, Test Acc: 0.8237, Test Latency: 3.17s, Test Memory Usage: 77.86MB\n",
            "\n",
            "Epoch 194\n"
          ]
        },
        {
          "output_type": "stream",
          "name": "stderr",
          "text": [
            "Train: 100%|##########| 391/391 [00:27<00:00, 14.38batch/s]\n"
          ]
        },
        {
          "output_type": "stream",
          "name": "stdout",
          "text": [
            "LR: 1.0000e-04, Train Loss: 0.4477, Train Acc: 0.8467, Train Latency: 27.19s, Memory Usage: 295.40MB\n",
            "Test Loss: 0.5280, Test Acc: 0.8219, Test Latency: 3.13s, Test Memory Usage: 77.86MB\n",
            "\n",
            "Epoch 195\n"
          ]
        },
        {
          "output_type": "stream",
          "name": "stderr",
          "text": [
            "Train: 100%|##########| 391/391 [00:27<00:00, 14.26batch/s]\n"
          ]
        },
        {
          "output_type": "stream",
          "name": "stdout",
          "text": [
            "LR: 1.0000e-04, Train Loss: 0.4441, Train Acc: 0.8463, Train Latency: 27.43s, Memory Usage: 295.40MB\n",
            "Test Loss: 0.5033, Test Acc: 0.8281, Test Latency: 3.15s, Test Memory Usage: 77.86MB\n",
            "\n",
            "Epoch 196\n"
          ]
        },
        {
          "output_type": "stream",
          "name": "stderr",
          "text": [
            "Train: 100%|##########| 391/391 [00:27<00:00, 14.27batch/s]\n"
          ]
        },
        {
          "output_type": "stream",
          "name": "stdout",
          "text": [
            "LR: 1.0000e-04, Train Loss: 0.4442, Train Acc: 0.8471, Train Latency: 27.41s, Memory Usage: 295.40MB\n",
            "Test Loss: 0.5275, Test Acc: 0.8170, Test Latency: 3.19s, Test Memory Usage: 77.86MB\n",
            "\n",
            "Epoch 197\n"
          ]
        },
        {
          "output_type": "stream",
          "name": "stderr",
          "text": [
            "Train: 100%|##########| 391/391 [00:27<00:00, 14.38batch/s]\n"
          ]
        },
        {
          "output_type": "stream",
          "name": "stdout",
          "text": [
            "LR: 1.0000e-04, Train Loss: 0.4473, Train Acc: 0.8455, Train Latency: 27.19s, Memory Usage: 295.40MB\n",
            "Test Loss: 0.5391, Test Acc: 0.8166, Test Latency: 3.14s, Test Memory Usage: 77.86MB\n",
            "\n",
            "Epoch 198\n"
          ]
        },
        {
          "output_type": "stream",
          "name": "stderr",
          "text": [
            "Train: 100%|##########| 391/391 [00:27<00:00, 14.34batch/s]\n"
          ]
        },
        {
          "output_type": "stream",
          "name": "stdout",
          "text": [
            "LR: 1.0000e-04, Train Loss: 0.4479, Train Acc: 0.8455, Train Latency: 27.27s, Memory Usage: 295.40MB\n",
            "Test Loss: 0.5623, Test Acc: 0.8125, Test Latency: 3.13s, Test Memory Usage: 77.86MB\n",
            "\n",
            "Epoch 199\n"
          ]
        },
        {
          "output_type": "stream",
          "name": "stderr",
          "text": [
            "Train: 100%|##########| 391/391 [00:27<00:00, 14.38batch/s]\n"
          ]
        },
        {
          "output_type": "stream",
          "name": "stdout",
          "text": [
            "LR: 1.0000e-04, Train Loss: 0.4499, Train Acc: 0.8428, Train Latency: 27.19s, Memory Usage: 295.40MB\n",
            "Test Loss: 0.5563, Test Acc: 0.8067, Test Latency: 3.15s, Test Memory Usage: 77.86MB\n",
            "\n",
            "Epoch 200\n"
          ]
        },
        {
          "output_type": "stream",
          "name": "stderr",
          "text": [
            "Train: 100%|##########| 391/391 [00:27<00:00, 14.41batch/s]\n"
          ]
        },
        {
          "output_type": "stream",
          "name": "stdout",
          "text": [
            "LR: 1.0000e-04, Train Loss: 0.4457, Train Acc: 0.8437, Train Latency: 27.14s, Memory Usage: 295.40MB\n",
            "Test Loss: 0.5351, Test Acc: 0.8193, Test Latency: 3.14s, Test Memory Usage: 77.86MB\n",
            "Saving final epoch model ...\n"
          ]
        }
      ],
      "source": [
        "model_name = train(w_nbits=3, a_nbits=3, linear=True)"
      ]
    },
    {
      "cell_type": "code",
      "execution_count": 20,
      "metadata": {
        "id": "4CRUL8ibH3qw"
      },
      "outputs": [],
      "source": [
        "# analyze_model(model_name)"
      ]
    }
  ],
  "metadata": {
    "accelerator": "GPU",
    "colab": {
      "collapsed_sections": [
        "X2EExKUgHJ7h",
        "9j4Ew55YHDq5",
        "bn1AOGcCKs3s",
        "u6JKkVzuKzmw"
      ],
      "gpuType": "L4",
      "machine_shape": "hm",
      "provenance": []
    },
    "kernelspec": {
      "display_name": "Python 3",
      "name": "python3"
    },
    "language_info": {
      "name": "python"
    }
  },
  "nbformat": 4,
  "nbformat_minor": 0
}